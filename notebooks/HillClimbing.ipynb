{
 "cells": [
  {
   "cell_type": "markdown",
   "metadata": {},
   "source": [
    "# Using Hill Climbing to find food"
   ]
  },
  {
   "cell_type": "code",
   "execution_count": 1,
   "metadata": {},
   "outputs": [
    {
     "data": {
      "text/plain": [
       "'0.9.23'"
      ]
     },
     "execution_count": 1,
     "metadata": {},
     "output_type": "execute_result"
    }
   ],
   "source": [
    "from aitk.robots import World, Scribbler, SmellSensor, __version__\n",
    "__version__"
   ]
  },
  {
   "cell_type": "code",
   "execution_count": 2,
   "metadata": {},
   "outputs": [
    {
     "name": "stdout",
     "output_type": "stream",
     "text": [
      "Random seed set to: 621261\n"
     ]
    }
   ],
   "source": [
    "world = World(width=200, height=200, scale=2, boundary_wall=False)\n",
    "world.add_food(100, 100, 70)"
   ]
  },
  {
   "cell_type": "code",
   "execution_count": 3,
   "metadata": {},
   "outputs": [],
   "source": [
    "robot = Scribbler(x=110, y=150, a=50)\n",
    "robot.add_device(SmellSensor(position=(8,0),name=\"nose\"))\n",
    "robot.set_max_trace_length(60)\n",
    "world.add_robot(robot)\n",
    "world.update()"
   ]
  },
  {
   "cell_type": "code",
   "execution_count": 4,
   "metadata": {},
   "outputs": [],
   "source": [
    "from random import random"
   ]
  },
  {
   "cell_type": "code",
   "execution_count": 5,
   "metadata": {},
   "outputs": [],
   "source": [
    "def init_state(robot):\n",
    "    robot.state['behavior'] = 'test'\n",
    "    robot.state['max_step'] = 5\n",
    "    robot.state['current'] = 0\n",
    "    robot.state['step'] = 0\n",
    "    robot.state['rotation'] = 0"
   ]
  },
  {
   "cell_type": "code",
   "execution_count": 9,
   "metadata": {},
   "outputs": [],
   "source": [
    "def controller(robot):\n",
    "    if robot.eat():\n",
    "        # Try to eat, if successful end run\n",
    "        return True\n",
    "    elif robot.state['behavior'] == 'test':\n",
    "        # Check current smell and choose a random rotation to try\n",
    "        robot.state['current'] = robot['nose'].get_reading()\n",
    "        robot.state['rotation'] = random()-0.5\n",
    "        robot.move(0, robot.state['rotation'])\n",
    "        robot.state['behavior'] = 'turn'\n",
    "    elif robot.state['behavior'] == 'turn':\n",
    "        # Turn for max_steps, then check new smell\n",
    "        if robot.state['step'] % robot.state['max_step'] == 0:\n",
    "            next_reading = robot['nose'].get_reading()\n",
    "            delta = next_reading - robot.state['current']\n",
    "            if delta > 0:\n",
    "                # if smell is stronger, go forward\n",
    "                robot.move(0.5, 0)\n",
    "                robot.state['behavior'] = 'forward'\n",
    "            else:\n",
    "                # if smell is weaker, reverse turn and try again\n",
    "                robot.move(0, -1*robot.state['rotation'])\n",
    "                robot.state['behavior'] = 'reverse'\n",
    "    elif robot.state['behavior'] == 'reverse':\n",
    "        # Reverse rotation for max_steps, then go back to testing\n",
    "        if robot.state['step'] % robot.state['max_step'] == 0:\n",
    "            robot.stop()\n",
    "            robot.state['behavior'] = 'test'\n",
    "    elif robot.state['behavior'] == 'forward':\n",
    "        # Move forward for max_steps, then go back to testing\n",
    "        if robot.state['step'] % robot.state['max_step'] == 0:\n",
    "            robot.stop()\n",
    "            robot.state['behavior'] = 'test'\n",
    "    robot.state['step'] += 1"
   ]
  },
  {
   "cell_type": "code",
   "execution_count": 10,
   "metadata": {},
   "outputs": [
    {
     "name": "stdout",
     "output_type": "stream",
     "text": [
      "Random seed set to: 2515546\n",
      "Using random seed: 621261\n",
      "Using random seed: 621261\n",
      "Simulation stopped at: 00:01:11.1; speed 1213.75 x real time\n"
     ]
    }
   ],
   "source": [
    "world.reset()\n",
    "robot.set_random_pose()\n",
    "init_state(robot)\n",
    "recorder = world.record()\n",
    "world.run([controller],real_time=False)"
   ]
  },
  {
   "cell_type": "code",
   "execution_count": 11,
   "metadata": {},
   "outputs": [
    {
     "data": {
      "application/vnd.jupyter.widget-view+json": {
       "model_id": "b402990272b1421eb3ca6be7cf5b1c5c",
       "version_major": 2,
       "version_minor": 0
      },
      "text/plain": [
       "HTML(value='<style>img.pixelated {image-rendering: pixelated;}</style>')"
      ]
     },
     "metadata": {},
     "output_type": "display_data"
    },
    {
     "data": {
      "application/vnd.jupyter.widget-view+json": {
       "model_id": "9dd2ae4c97734687ba5c586733c2822d",
       "version_major": 2,
       "version_minor": 0
      },
      "text/plain": [
       "Player(children=(VBox(children=(HBox(children=(FloatSlider(value=0.0, continuous_update=False, description='Ti…"
      ]
     },
     "metadata": {},
     "output_type": "display_data"
    },
    {
     "data": {
      "image/png": "[encoded data removed]",
      "text/plain": [
       "<PIL.Image.Image image mode=RGB size=400x428 at 0x7F840DFEE130>"
      ]
     },
     "metadata": {},
     "output_type": "display_data"
    }
   ],
   "source": [
    "recorder.watch()"
   ]
  },
  {
   "cell_type": "code",
   "execution_count": null,
   "metadata": {},
   "outputs": [],
   "source": []
  }
 ],
 "metadata": {
  "kernelspec": {
   "display_name": "Python 3",
   "language": "python",
   "name": "python3"
  },
  "language_info": {
   "codemirror_mode": {
    "name": "ipython",
    "version": 3
   },
   "file_extension": ".py",
   "mimetype": "text/x-python",
   "name": "python",
   "nbconvert_exporter": "python",
   "pygments_lexer": "ipython3",
   "version": "3.8.2"
  },
  "widgets": {
   "application/vnd.jupyter.widget-state+json": {
    "state": {
     "0296c22b349248ffa130c61b24ac36b7": {
      "model_module": "@jupyter-widgets/base",
      "model_module_version": "1.2.0",
      "model_name": "LayoutModel",
      "state": {
       "height": "auto",
       "max_width": "100%",
       "width": "500px"
      }
     },
     "02eb77c558cf4964b2ab2aa0de5320af": {
      "model_module": "@jupyter-widgets/controls",
      "model_module_version": "1.5.0",
      "model_name": "HTMLModel",
      "state": {
       "layout": "IPY_MODEL_607bfab434de463cb95649701a7c9a96",
       "style": "IPY_MODEL_b44e0e7fe1044a489e24d070021de319"
      }
     },
     "053ef934b7ed4540937da7305234ee19": {
      "model_module": "@jupyter-widgets/controls",
      "model_module_version": "1.5.0",
      "model_name": "HTMLModel",
      "state": {
       "layout": "IPY_MODEL_e65a37d7e7c44db3a7bbd6edc2e83051",
       "style": "IPY_MODEL_e408fa5f2a3044f9a82e2f6038f37f7f",
       "value": "<style>img.pixelated {image-rendering: pixelated;}</style>"
      }
     },
     "08c98a6c38364aada7bf7d28f447f25f": {
      "model_module": "@jupyter-widgets/base",
      "model_module_version": "1.2.0",
      "model_name": "LayoutModel",
      "state": {
       "width": "20px"
      }
     },
     "200b09eaa6b7466a8941f347b7546002": {
      "model_module": "@jupyter-widgets/base",
      "model_module_version": "1.2.0",
      "model_name": "LayoutModel",
      "state": {}
     },
     "22144f4e1399434cb4262599fe8fba15": {
      "model_module": "@jupyter-widgets/controls",
      "model_module_version": "1.5.0",
      "model_name": "HTMLModel",
      "state": {
       "layout": "IPY_MODEL_5ff6b94412864934a857bc6f6acb0c05",
       "style": "IPY_MODEL_31a6fc76972c4b3d95c55d23055df6ab",
       "value": " 583/? [00:59&lt;00:00,  9.86it/s]"
      }
     },
     "31a6fc76972c4b3d95c55d23055df6ab": {
      "model_module": "@jupyter-widgets/controls",
      "model_module_version": "1.5.0",
      "model_name": "DescriptionStyleModel",
      "state": {
       "description_width": ""
      }
     },
     "348c872d91bd4f6d96b4bfec5f522840": {
      "model_module": "@jupyter-widgets/controls",
      "model_module_version": "1.5.0",
      "model_name": "DescriptionStyleModel",
      "state": {
       "description_width": ""
      }
     },
     "36aa5841e9a94653af6b3f100b5f771c": {
      "model_module": "@jupyter-widgets/controls",
      "model_module_version": "1.5.0",
      "model_name": "DescriptionStyleModel",
      "state": {
       "description_width": ""
      }
     },
     "440e4041768b4ce481634fe841a34c4b": {
      "model_module": "@jupyter-widgets/controls",
      "model_module_version": "1.5.0",
      "model_name": "HTMLModel",
      "state": {
       "layout": "IPY_MODEL_73921010463d4481854ed0cc39330914",
       "style": "IPY_MODEL_cc9cee29cecd44efb6e8f360827082be"
      }
     },
     "4717c9b824c34c3783039a70490737d8": {
      "model_module": "@jupyter-widgets/controls",
      "model_module_version": "1.5.0",
      "model_name": "HTMLModel",
      "state": {
       "layout": "IPY_MODEL_77a3d0cc5c66458e9751fc4eee4e4dff",
       "style": "IPY_MODEL_348c872d91bd4f6d96b4bfec5f522840",
       "value": " 598/? [01:00&lt;00:00,  9.90it/s]"
      }
     },
     "5052e2d96cdc47c5a7be83716b13b75b": {
      "model_module": "@jupyter-widgets/controls",
      "model_module_version": "1.5.0",
      "model_name": "FloatProgressModel",
      "state": {
       "bar_style": "danger",
       "layout": "IPY_MODEL_08c98a6c38364aada7bf7d28f447f25f",
       "max": 1,
       "style": "IPY_MODEL_dd0a428fb9bf4040a114c303838b11d6",
       "value": 1
      }
     },
     "5cfa8741c2c34b4b9f60cb4ea10dfd67": {
      "buffers": [
       {
        "data": "iVBORw0KGgoAAAANSUhEUgAAAEAAAAAgCAYAAACinX6EAAAAhElEQVR4nO2YQQqAMAwEN+ILfHG+4INLPHvwYBAGzM6pkBaGgVwaUpYGs9ECNA5AC9CEtEqKh3HB5zd3T3X4UYDOvLwCDkAL0DgALUDjALQAjQPQAjQOQAvQOAAtQOMAtACNA9ACNA5AC9A4AC1AMz7ATgt8Rh6tZ6G8fZiPY/wKjA9wARWCLDZwSytEAAAAAElFTkSuQmCC",
        "encoding": "base64",
        "path": [
         "value"
        ]
       }
      ],
      "model_module": "@jupyter-widgets/controls",
      "model_module_version": "1.5.0",
      "model_name": "ImageModel",
      "state": {
       "_dom_classes": [
        "pixelated"
       ],
       "layout": "IPY_MODEL_0296c22b349248ffa130c61b24ac36b7",
       "value": {}
      }
     },
     "5ff6b94412864934a857bc6f6acb0c05": {
      "model_module": "@jupyter-widgets/base",
      "model_module_version": "1.2.0",
      "model_name": "LayoutModel",
      "state": {}
     },
     "607bfab434de463cb95649701a7c9a96": {
      "model_module": "@jupyter-widgets/base",
      "model_module_version": "1.2.0",
      "model_name": "LayoutModel",
      "state": {}
     },
     "65c2f2f241b14ce28e9f7d99c2ed730d": {
      "model_module": "@jupyter-widgets/controls",
      "model_module_version": "1.5.0",
      "model_name": "HTMLModel",
      "state": {
       "layout": "IPY_MODEL_cb91620f577f48eeaea78d29071c763f",
       "style": "IPY_MODEL_847d249892d74be18c665830247f9b10",
       "value": "<style>img.pixelated {image-rendering: pixelated;}</style>"
      }
     },
     "73921010463d4481854ed0cc39330914": {
      "model_module": "@jupyter-widgets/base",
      "model_module_version": "1.2.0",
      "model_name": "LayoutModel",
      "state": {}
     },
     "77a3d0cc5c66458e9751fc4eee4e4dff": {
      "model_module": "@jupyter-widgets/base",
      "model_module_version": "1.2.0",
      "model_name": "LayoutModel",
      "state": {}
     },
     "7b6970d05aa84447b622e39ee9006e84": {
      "model_module": "@jupyter-widgets/controls",
      "model_module_version": "1.5.0",
      "model_name": "FloatProgressModel",
      "state": {
       "bar_style": "danger",
       "layout": "IPY_MODEL_ae2f7b61fbb24612b3761830754da614",
       "max": 1,
       "style": "IPY_MODEL_e9109b3950be46398447d1744a19c7e7",
       "value": 1
      }
     },
     "81753c0ce56645da9e0bf1c33dfa19e1": {
      "model_module": "@jupyter-widgets/controls",
      "model_module_version": "1.5.0",
      "model_name": "HBoxModel",
      "state": {
       "children": [
        "IPY_MODEL_02eb77c558cf4964b2ab2aa0de5320af",
        "IPY_MODEL_7b6970d05aa84447b622e39ee9006e84",
        "IPY_MODEL_4717c9b824c34c3783039a70490737d8"
       ],
       "layout": "IPY_MODEL_9413f47916944a9fb7026e908ae5ce80"
      }
     },
     "847d249892d74be18c665830247f9b10": {
      "model_module": "@jupyter-widgets/controls",
      "model_module_version": "1.5.0",
      "model_name": "DescriptionStyleModel",
      "state": {
       "description_width": ""
      }
     },
     "8632627716744969a907338363596914": {
      "model_module": "@jupyter-widgets/base",
      "model_module_version": "1.2.0",
      "model_name": "LayoutModel",
      "state": {}
     },
     "8b917559f9d348d8a495fdac3e5351a2": {
      "model_module": "@jupyter-widgets/controls",
      "model_module_version": "1.5.0",
      "model_name": "HBoxModel",
      "state": {
       "children": [
        "IPY_MODEL_440e4041768b4ce481634fe841a34c4b",
        "IPY_MODEL_5052e2d96cdc47c5a7be83716b13b75b",
        "IPY_MODEL_22144f4e1399434cb4262599fe8fba15"
       ],
       "layout": "IPY_MODEL_8632627716744969a907338363596914"
      }
     },
     "92fd14bf7eea45878e015e4846c1f661": {
      "model_module": "@jupyter-widgets/base",
      "model_module_version": "1.2.0",
      "model_name": "LayoutModel",
      "state": {
       "margin": "auto"
      }
     },
     "9413f47916944a9fb7026e908ae5ce80": {
      "model_module": "@jupyter-widgets/base",
      "model_module_version": "1.2.0",
      "model_name": "LayoutModel",
      "state": {}
     },
     "a04eb861848b4e4ab705642c8f7dcfd6": {
      "buffers": [
       {
        "data": "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",
        "encoding": "base64",
        "path": [
         "value"
        ]
       }
      ],
      "model_module": "@jupyter-widgets/controls",
      "model_module_version": "1.5.0",
      "model_name": "ImageModel",
      "state": {
       "layout": "IPY_MODEL_92fd14bf7eea45878e015e4846c1f661",
       "value": {}
      }
     },
     "ae2f7b61fbb24612b3761830754da614": {
      "model_module": "@jupyter-widgets/base",
      "model_module_version": "1.2.0",
      "model_name": "LayoutModel",
      "state": {
       "width": "20px"
      }
     },
     "b44e0e7fe1044a489e24d070021de319": {
      "model_module": "@jupyter-widgets/controls",
      "model_module_version": "1.5.0",
      "model_name": "DescriptionStyleModel",
      "state": {
       "description_width": ""
      }
     },
     "cb91620f577f48eeaea78d29071c763f": {
      "model_module": "@jupyter-widgets/base",
      "model_module_version": "1.2.0",
      "model_name": "LayoutModel",
      "state": {}
     },
     "cc9cee29cecd44efb6e8f360827082be": {
      "model_module": "@jupyter-widgets/controls",
      "model_module_version": "1.5.0",
      "model_name": "DescriptionStyleModel",
      "state": {
       "description_width": ""
      }
     },
     "dd0a428fb9bf4040a114c303838b11d6": {
      "model_module": "@jupyter-widgets/controls",
      "model_module_version": "1.5.0",
      "model_name": "ProgressStyleModel",
      "state": {
       "description_width": ""
      }
     },
     "e260cf79596a455bbb1fad59321331f8": {
      "model_module": "@jupyter-widgets/controls",
      "model_module_version": "1.5.0",
      "model_name": "HTMLModel",
      "state": {
       "layout": "IPY_MODEL_200b09eaa6b7466a8941f347b7546002",
       "style": "IPY_MODEL_36aa5841e9a94653af6b3f100b5f771c",
       "value": "<style>img.pixelated {image-rendering: pixelated;}</style>"
      }
     },
     "e408fa5f2a3044f9a82e2f6038f37f7f": {
      "model_module": "@jupyter-widgets/controls",
      "model_module_version": "1.5.0",
      "model_name": "DescriptionStyleModel",
      "state": {
       "description_width": ""
      }
     },
     "e65a37d7e7c44db3a7bbd6edc2e83051": {
      "model_module": "@jupyter-widgets/base",
      "model_module_version": "1.2.0",
      "model_name": "LayoutModel",
      "state": {}
     },
     "e9109b3950be46398447d1744a19c7e7": {
      "model_module": "@jupyter-widgets/controls",
      "model_module_version": "1.5.0",
      "model_name": "ProgressStyleModel",
      "state": {
       "description_width": ""
      }
     }
    },
    "version_major": 2,
    "version_minor": 0
   }
  }
 },
 "nbformat": 4,
 "nbformat_minor": 4
}
