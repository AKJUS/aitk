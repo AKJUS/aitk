{
 "cells": [
  {
   "cell_type": "code",
   "execution_count": 1,
   "metadata": {},
   "outputs": [
    {
     "data": {
      "text/plain": [
       "'0.8.0'"
      ]
     },
     "execution_count": 1,
     "metadata": {},
     "output_type": "execute_result"
    }
   ],
   "source": [
    "import aitk.robots\n",
    "aitk.robots.__version__"
   ]
  },
  {
   "cell_type": "markdown",
   "metadata": {},
   "source": [
    "This program allows the robot to wander around an empty world.\n",
    "It uses a Grid imposed on the World to track the robot's location\n",
    "over time. It plots a heat map of the locactions visted and computes \n",
    "the pecentage of Grid locations visited."
   ]
  },
  {
   "cell_type": "code",
   "execution_count": 2,
   "metadata": {},
   "outputs": [
    {
     "name": "stdout",
     "output_type": "stream",
     "text": [
      "Random seed set to: 1593568\n"
     ]
    }
   ],
   "source": [
    "world = aitk.robots.World(width=200, height=200, scale=5.0)\n",
    "robot = aitk.robots.Scribbler(x=100, y=100, a=87, max_trace_length=60)\n",
    "robot.add_device(aitk.robots.RangeSensor(position=(6,-6),max=20,a=0,width=57.3,name=\"left-ir\"))\n",
    "robot.add_device(aitk.robots.RangeSensor(position=(6,6),max=20,a=0,width=57.3,name=\"right-ir\"))\n",
    "world.add_robot(robot)\n",
    "world.update()\n",
    "world.save()"
   ]
  },
  {
   "cell_type": "code",
   "execution_count": 3,
   "metadata": {
    "tags": []
   },
   "outputs": [
    {
     "data": {
      "application/vnd.jupyter.widget-view+json": {
       "model_id": "4ff191e3d30641ed996f56be3aec4c7e",
       "version_major": 2,
       "version_minor": 0
      },
      "text/plain": [
       "Image(value=b'\\xff\\xd8\\xff\\xe0\\x00\\x10JFIF\\x00\\x01\\x01\\x00\\x00\\x01\\x00\\x01\\x00\\x00\\xff\\xdb\\x00C\\x00\\x08\\x06\\x0…"
      ]
     },
     "metadata": {},
     "output_type": "display_data"
    }
   ],
   "source": [
    "world.watch()"
   ]
  },
  {
   "cell_type": "code",
   "execution_count": 4,
   "metadata": {},
   "outputs": [],
   "source": [
    "from math import floor\n",
    "\n",
    "class Grid(object):\n",
    "    \"\"\"This class creates a grid of locations on top of a simulated world\n",
    "    to monitor how much of the world has been visited. Each grid location\n",
    "    is initally set to 0 to indicate that it is unvisited, and is updated\n",
    "    to 1, once it has been visited.\"\"\"\n",
    "    def __init__(self, grid_width, world_width):\n",
    "        self.grid_width = grid_width\n",
    "        self.world_width = world_width\n",
    "        self.grid = []\n",
    "        for i in range(self.grid_width):\n",
    "            self.grid.append([0] * self.grid_width)\n",
    "\n",
    "    def show(self):\n",
    "        \"\"\"Print a representation of the grid.\"\"\"\n",
    "        for i in range(self.grid_width - 1, -1, -1):\n",
    "            for j in range(self.grid_width):\n",
    "                print(\"%3d\" % self.grid[i][j], end=\" \")\n",
    "            print()\n",
    "        print()\n",
    "        \n",
    "    def update(self, x, y):\n",
    "        \"\"\"In the simulator, the origin is at the top-left corner.\n",
    "        Update the appropriate grid location.\"\"\"\n",
    "        size = self.world_width/self.grid_width\n",
    "        col = floor(x/size)\n",
    "        row = int(self.grid_width) - floor(y/size) - 1\n",
    "        self.grid[row][col] += 1\n",
    "        \n",
    "    def analyze_visits(self):\n",
    "        \"\"\"Calculate the percentage of visited cells in the grid.\"\"\"\n",
    "        cells_visited = 0\n",
    "        for i in range(self.grid_width):\n",
    "            for j in range(self.grid_width):\n",
    "                if self.grid[i][j] > 0:\n",
    "                    cells_visited += 1\n",
    "        percent_visited = cells_visited/self.grid_width**2\n",
    "        return percent_visited"
   ]
  },
  {
   "cell_type": "code",
   "execution_count": 5,
   "metadata": {},
   "outputs": [],
   "source": [
    "from random import random\n",
    "\n",
    "def wander(robot):\n",
    "    left = robot[0].get_distance()\n",
    "    right = robot[1].get_distance()\n",
    "    x, y, direction = robot.get_pose()\n",
    "    robot.state[\"grid\"].update(x, y)\n",
    "    # Save the robot's location only once per second\n",
    "    if left == robot[0].get_max() and right == robot[1].get_max() and \\\n",
    "        robot.state[\"timer\"] == 0:\n",
    "        #front clear, move random direction\n",
    "        direction = 1\n",
    "        if random() < 0.5:\n",
    "            direction = -1\n",
    "        robot.move(0.5, direction*random())\n",
    "        if robot.state[\"debug\"]: robot.speak(\"F\")\n",
    "    elif robot.state[\"timer\"] > 0 and robot.state[\"timer\"] < 5:\n",
    "        #timer triggered, continue current rotation\n",
    "        robot.state[\"timer\"] += 1\n",
    "        if robot.state[\"debug\"]: robot.speak(\"timer %d\" % (robot.state[\"timer\"]))\n",
    "    elif left < robot[0].get_max():\n",
    "        #obstacle on left, turn right, trigger timer\n",
    "        robot.move(0, -0.4)\n",
    "        robot.state[\"timer\"] = 1\n",
    "        if robot.state[\"debug\"]: robot.speak(\"R\")\n",
    "    elif right < robot[1].get_max():\n",
    "        #obstacle on right, turn left, trigger timer\n",
    "        robot.move(0, 0.4)\n",
    "        robot.state[\"timer\"] = 1\n",
    "        if robot.state[\"debug\"]: robot.speak(\"L\")\n",
    "    else:\n",
    "        #reset timer to zero\n",
    "        robot.state[\"timer\"] = 0\n",
    "        if robot.state[\"debug\"]: robot.speak(\"reset\")    \n",
    "    "
   ]
  },
  {
   "cell_type": "code",
   "execution_count": 6,
   "metadata": {},
   "outputs": [
    {
     "name": "stdout",
     "output_type": "stream",
     "text": [
      "Using random seed: 1593568\n",
      "Using random seed: 57\n"
     ]
    },
    {
     "data": {
      "application/vnd.jupyter.widget-view+json": {
       "model_id": "faaf4e916788420ca99b0759a21d00c3",
       "version_major": 2,
       "version_minor": 0
      },
      "text/plain": [
       "0it [00:00, ?it/s]"
      ]
     },
     "metadata": {},
     "output_type": "display_data"
    },
    {
     "name": "stdout",
     "output_type": "stream",
     "text": [
      "Simulation stopped at: 00:00:44.0; speed 0.98 x real time\n"
     ]
    }
   ],
   "source": [
    "from random import randrange\n",
    "\n",
    "robot.state[\"timer\"] = 0\n",
    "robot.state[\"grid\"] = Grid(10, 200)\n",
    "robot.state[\"debug\"] = True\n",
    "\n",
    "world.reset()\n",
    "\n",
    "world.set_seed(randrange(1,100)) # allow randomness\n",
    "\n",
    "world.run([wander]) # will run until you interrupt the kernel\n",
    "#world.seconds(60, [wander], real_time=False)"
   ]
  },
  {
   "cell_type": "code",
   "execution_count": 7,
   "metadata": {},
   "outputs": [
    {
     "name": "stdout",
     "output_type": "stream",
     "text": [
      "  0   0   0   0   0   0   0   0   0   0 \n",
      "  0   0   0   0   0   0  17  20   4   0 \n",
      "  0   0   0   0  13  25   5   0  30   0 \n",
      "  0   0   0   0  22   0   0   0  20   0 \n",
      "  0   0   0   0  21  10   0   0  33   0 \n",
      "  0   0   0   0   0   1   0  19   6   0 \n",
      "  0   0   0   0   0   0   0  23  26   0 \n",
      "  0   0   0   0   0   0   0   7  84   0 \n",
      "  0   0   0   0   0   0   0   0  54   0 \n",
      "  0   0   0   0   0   0   0   0   0   0 \n",
      "\n"
     ]
    },
    {
     "data": {
      "text/plain": [
       "0.2"
      ]
     },
     "execution_count": 7,
     "metadata": {},
     "output_type": "execute_result"
    }
   ],
   "source": [
    "g = robot.state[\"grid\"]\n",
    "g.show()\n",
    "g.analyze_visits()"
   ]
  },
  {
   "cell_type": "code",
   "execution_count": 8,
   "metadata": {},
   "outputs": [
    {
     "data": {
      "application/vnd.jupyter.widget-view+json": {
       "model_id": "c14e741cd0c842838d98bff043e3a4cd",
       "version_major": 2,
       "version_minor": 0
      },
      "text/plain": [
       "Figure(axes=[ColorAxis(scale=ColorScale(reverse=True, scheme='Greys')), Axis(scale=LinearScale()), Axis(orient…"
      ]
     },
     "metadata": {},
     "output_type": "display_data"
    }
   ],
   "source": [
    "from bqplot import pyplot as plt\n",
    "from bqplot import ColorScale\n",
    "from ipywidgets import Layout\n",
    "import numpy as np\n",
    "\n",
    "fig = plt.figure(\n",
    "    title='Coverage',\n",
    "    layout=Layout(width='650px', \n",
    "                  height='650px'),\n",
    ")\n",
    "plt.scales(scales={'color': ColorScale(scheme='Greys', reverse=True)})\n",
    "heatmap = plt.heatmap(np.array(g.grid))\n",
    "fig"
   ]
  },
  {
   "cell_type": "code",
   "execution_count": null,
   "metadata": {},
   "outputs": [],
   "source": []
  }
 ],
 "metadata": {
  "jupytext": {
   "formats": "ipynb,md"
  },
  "kernelspec": {
   "display_name": "Python 3",
   "language": "python",
   "name": "python3"
  },
  "language_info": {
   "codemirror_mode": {
    "name": "ipython",
    "version": 3
   },
   "file_extension": ".py",
   "mimetype": "text/x-python",
   "name": "python",
   "nbconvert_exporter": "python",
   "pygments_lexer": "ipython3",
   "version": "3.8.5"
  },
  "widgets": {
   "application/vnd.jupyter.widget-state+json": {
    "state": {},
    "version_major": 2,
    "version_minor": 0
   }
  }
 },
 "nbformat": 4,
 "nbformat_minor": 4
}
