{
 "cells": [
  {
   "cell_type": "code",
   "execution_count": 1,
   "metadata": {},
   "outputs": [],
   "source": [
    "from aitk.robots.cart import CartWorld"
   ]
  },
  {
   "cell_type": "code",
   "execution_count": 2,
   "metadata": {},
   "outputs": [
    {
     "name": "stdout",
     "output_type": "stream",
     "text": [
      "Random seed set to: 6775859\n"
     ]
    }
   ],
   "source": [
    "world = CartWorld()"
   ]
  },
  {
   "cell_type": "code",
   "execution_count": 3,
   "metadata": {
    "tags": []
   },
   "outputs": [
    {
     "data": {
      "application/vnd.jupyter.widget-view+json": {
       "model_id": "8f4ec6c9ebd14f6b96886e70ee269934",
       "version_major": 2,
       "version_minor": 0
      },
      "text/plain": [
       "Image(value=b'\\xff\\xd8\\xff\\xe0\\x00\\x10JFIF\\x00\\x01\\x01\\x00\\x00\\x01\\x00\\x01\\x00\\x00\\xff\\xdb\\x00C\\x00\\x08\\x06\\x0…"
      ]
     },
     "metadata": {},
     "output_type": "display_data"
    }
   ],
   "source": [
    "world.watch()"
   ]
  },
  {
   "cell_type": "code",
   "execution_count": 4,
   "metadata": {},
   "outputs": [
    {
     "data": {
      "application/vnd.jupyter.widget-view+json": {
       "model_id": "a7713b4639e14745846b25b309d05e59",
       "version_major": 2,
       "version_minor": 0
      },
      "text/plain": [
       "HTML(value='<style>img.pixelated {image-rendering: pixelated;}</style>')"
      ]
     },
     "metadata": {},
     "output_type": "display_data"
    },
    {
     "data": {
      "application/vnd.jupyter.widget-view+json": {
       "model_id": "90b8a24ae8f14bee8276deccdab0cdd6",
       "version_major": 2,
       "version_minor": 0
      },
      "text/plain": [
       "VBox(children=(Image(value=b'', layout=\"Layout(display='none', height='auto', width='-webkit-fill-available')\"…"
      ]
     },
     "metadata": {},
     "output_type": "display_data"
    }
   ],
   "source": [
    "robot = world.robots[0]\n",
    "robot.watch(show_robot=False)"
   ]
  },
  {
   "cell_type": "code",
   "execution_count": 5,
   "metadata": {},
   "outputs": [
    {
     "name": "stdout",
     "output_type": "stream",
     "text": [
      "theta_max is 0.20943951023931953\n"
     ]
    }
   ],
   "source": [
    "import random\n",
    "import math\n",
    "# 12 degrees:\n",
    "theta_max = 12 * math.pi / 180\n",
    "print(\"theta_max is\", theta_max)\n",
    "\n",
    "def balance(robot):\n",
    "    robot.reward += 1\n",
    "    x, x_v, theta, theta_v = robot.get_observation()\n",
    "    ok = ((-2.4 < x < 2.4) and\n",
    "          (-theta_max < theta < theta_max) and\n",
    "          (robot.reward < 200))\n",
    "    if ok:\n",
    "        if theta > 0:\n",
    "            robot.move(1)\n",
    "        else:\n",
    "            robot.move(-1)\n",
    "    else:\n",
    "        return robot.reward # out of bounds"
   ]
  },
  {
   "cell_type": "code",
   "execution_count": 10,
   "metadata": {},
   "outputs": [
    {
     "name": "stdout",
     "output_type": "stream",
     "text": [
      "Using random seed: 6775859\n"
     ]
    },
    {
     "data": {
      "application/vnd.jupyter.widget-view+json": {
       "model_id": "87521330a2234869be383a481c253594",
       "version_major": 2,
       "version_minor": 0
      },
      "text/plain": [
       "0it [00:00, ?it/s]"
      ]
     },
     "metadata": {},
     "output_type": "display_data"
    },
    {
     "name": "stdout",
     "output_type": "stream",
     "text": [
      "Simulation stopped at: 00:00:0.66; speed 11.08 x real time\n",
      "Reward: 34\n"
     ]
    }
   ],
   "source": [
    "world.reset()\n",
    "reward = world.run([balance], real_time=False)\n",
    "print(\"Reward:\", reward)"
   ]
  },
  {
   "cell_type": "code",
   "execution_count": null,
   "metadata": {},
   "outputs": [],
   "source": []
  }
 ],
 "metadata": {
  "kernelspec": {
   "display_name": "Python 3",
   "language": "python",
   "name": "python3"
  },
  "language_info": {
   "codemirror_mode": {
    "name": "ipython",
    "version": 3
   },
   "file_extension": ".py",
   "mimetype": "text/x-python",
   "name": "python",
   "nbconvert_exporter": "python",
   "pygments_lexer": "ipython3",
   "version": "3.8.5"
  },
  "widgets": {
   "application/vnd.jupyter.widget-state+json": {
    "state": {
     "053e44a4946f4f4db9703831c0d26f3f": {
      "model_module": "@jupyter-widgets/controls",
      "model_module_version": "1.5.0",
      "model_name": "DescriptionStyleModel",
      "state": {
       "description_width": ""
      }
     },
     "07138df947304a56ba2e1afdd3858489": {
      "model_module": "@jupyter-widgets/controls",
      "model_module_version": "1.5.0",
      "model_name": "HTMLModel",
      "state": {
       "layout": "IPY_MODEL_706e6b42b44c4860a080394afd73d149",
       "style": "IPY_MODEL_5b57bbbac8204d06888955cfe0fe04f0"
      }
     },
     "08ef9b3e27c34e1098eecd9e6eb524e8": {
      "model_module": "@jupyter-widgets/controls",
      "model_module_version": "1.5.0",
      "model_name": "HBoxModel",
      "state": {
       "children": [
        "IPY_MODEL_185e8f2a739344849777da0669b08804",
        "IPY_MODEL_ce035b076db840229d96dd485eba426a",
        "IPY_MODEL_41839a7b28e440579345c2aaa9342617"
       ],
       "layout": "IPY_MODEL_b34a6c4c2e3142ef964942776843ff20"
      }
     },
     "0c04f44ee8064a54bdd6072875b97b98": {
      "model_module": "@jupyter-widgets/base",
      "model_module_version": "1.2.0",
      "model_name": "LayoutModel",
      "state": {}
     },
     "0e283720e1fa4d639a7371482ee0893e": {
      "model_module": "@jupyter-widgets/base",
      "model_module_version": "1.2.0",
      "model_name": "LayoutModel",
      "state": {
       "width": "20px"
      }
     },
     "0f8fc8a6ad33440982202bff332f801b": {
      "model_module": "@jupyter-widgets/base",
      "model_module_version": "1.2.0",
      "model_name": "LayoutModel",
      "state": {}
     },
     "1017b0c8b8d049afbff17634f00214f5": {
      "model_module": "@jupyter-widgets/base",
      "model_module_version": "1.2.0",
      "model_name": "LayoutModel",
      "state": {
       "display": "flex"
      }
     },
     "12eaf2533cf44dda8f8961dbe13ec8cd": {
      "model_module": "@jupyter-widgets/controls",
      "model_module_version": "1.5.0",
      "model_name": "HBoxModel",
      "state": {
       "children": [
        "IPY_MODEL_b3bbef5602364bd68f48d292441aefe6",
        "IPY_MODEL_7700d8fd20b24b8c97c2b10c2bf3f99c",
        "IPY_MODEL_efc77e1864d14ed0b454c44feb122233"
       ],
       "layout": "IPY_MODEL_806375cf472a41c1aea0ee6aed83e784"
      }
     },
     "185e8f2a739344849777da0669b08804": {
      "model_module": "@jupyter-widgets/controls",
      "model_module_version": "1.5.0",
      "model_name": "HTMLModel",
      "state": {
       "layout": "IPY_MODEL_3e96b362d3054851ab1d3e99a2ba78e3",
       "style": "IPY_MODEL_f7a9d7ff2f1f4088a90845df042aaccb"
      }
     },
     "1b9ee1f569f5497997dad38ca6e40a0f": {
      "model_module": "@jupyter-widgets/controls",
      "model_module_version": "1.5.0",
      "model_name": "DescriptionStyleModel",
      "state": {
       "description_width": ""
      }
     },
     "1df20f91c565478781b735611bb11771": {
      "model_module": "@jupyter-widgets/controls",
      "model_module_version": "1.5.0",
      "model_name": "DescriptionStyleModel",
      "state": {
       "description_width": ""
      }
     },
     "1ea06e1455bc490c97c182850a73e1a5": {
      "model_module": "@jupyter-widgets/base",
      "model_module_version": "1.2.0",
      "model_name": "LayoutModel",
      "state": {
       "border": "10px solid rgb(0 177 255)",
       "margin": "auto"
      }
     },
     "1f0c7bf7fed24ba69fe994ca68086088": {
      "model_module": "@jupyter-widgets/base",
      "model_module_version": "1.2.0",
      "model_name": "LayoutModel",
      "state": {
       "width": "20px"
      }
     },
     "20bd44da88164da2ad845edf3164f882": {
      "model_module": "@jupyter-widgets/controls",
      "model_module_version": "1.5.0",
      "model_name": "DescriptionStyleModel",
      "state": {
       "description_width": ""
      }
     },
     "22f08a01263043a9bd803ce9af22c53c": {
      "model_module": "@jupyter-widgets/base",
      "model_module_version": "1.2.0",
      "model_name": "LayoutModel",
      "state": {
       "display": "none",
       "height": "auto",
       "width": "-webkit-fill-available"
      }
     },
     "27f3b57ac82c4f9d9661254bc40e2834": {
      "model_module": "@jupyter-widgets/controls",
      "model_module_version": "1.5.0",
      "model_name": "ProgressStyleModel",
      "state": {
       "description_width": ""
      }
     },
     "389a58f648884d70b0f863f6d0b3de1c": {
      "model_module": "@jupyter-widgets/base",
      "model_module_version": "1.2.0",
      "model_name": "LayoutModel",
      "state": {}
     },
     "3e96b362d3054851ab1d3e99a2ba78e3": {
      "model_module": "@jupyter-widgets/base",
      "model_module_version": "1.2.0",
      "model_name": "LayoutModel",
      "state": {}
     },
     "3eaa81942a7b44b3b551668b16f0da7a": {
      "model_module": "@jupyter-widgets/base",
      "model_module_version": "1.2.0",
      "model_name": "LayoutModel",
      "state": {}
     },
     "40f31536bd4f47998643d901d2af0c58": {
      "model_module": "@jupyter-widgets/controls",
      "model_module_version": "1.5.0",
      "model_name": "DescriptionStyleModel",
      "state": {
       "description_width": ""
      }
     },
     "41839a7b28e440579345c2aaa9342617": {
      "model_module": "@jupyter-widgets/controls",
      "model_module_version": "1.5.0",
      "model_name": "HTMLModel",
      "state": {
       "layout": "IPY_MODEL_4968f4cd4a15441787460b30641987f5",
       "style": "IPY_MODEL_20bd44da88164da2ad845edf3164f882",
       "value": " 33/? [00:00&lt;00:00, 408.53it/s]"
      }
     },
     "477bec4afdeb49b99dcde946d147493f": {
      "model_module": "@jupyter-widgets/base",
      "model_module_version": "1.2.0",
      "model_name": "LayoutModel",
      "state": {}
     },
     "47e58b2707774afdbaa3d41403ec8caf": {
      "model_module": "@jupyter-widgets/base",
      "model_module_version": "1.2.0",
      "model_name": "LayoutModel",
      "state": {
       "display": "flex"
      }
     },
     "48d76fded68a4fb7a81c5400a86f1617": {
      "model_module": "@jupyter-widgets/controls",
      "model_module_version": "1.5.0",
      "model_name": "DescriptionStyleModel",
      "state": {
       "description_width": ""
      }
     },
     "4968f4cd4a15441787460b30641987f5": {
      "model_module": "@jupyter-widgets/base",
      "model_module_version": "1.2.0",
      "model_name": "LayoutModel",
      "state": {}
     },
     "4d3305c30d934808ba33b7d1ff76efc0": {
      "model_module": "@jupyter-widgets/controls",
      "model_module_version": "1.5.0",
      "model_name": "FloatProgressModel",
      "state": {
       "bar_style": "danger",
       "layout": "IPY_MODEL_0e283720e1fa4d639a7371482ee0893e",
       "max": 1,
       "style": "IPY_MODEL_8b42c28d378c4a1da09f60d839219be3",
       "value": 1
      }
     },
     "4ff05f06a8304d60819c49cc741bdf87": {
      "model_module": "@jupyter-widgets/controls",
      "model_module_version": "1.5.0",
      "model_name": "TextModel",
      "state": {
       "description": "Y:",
       "layout": "IPY_MODEL_6bfc12d1ef9a4e8197c976c64a558c41",
       "style": "IPY_MODEL_1df20f91c565478781b735611bb11771",
       "value": "0"
      }
     },
     "54b9bf6bcfbe48a7ac754073d48439d6": {
      "model_module": "@jupyter-widgets/controls",
      "model_module_version": "1.5.0",
      "model_name": "DescriptionStyleModel",
      "state": {
       "description_width": ""
      }
     },
     "559538ed64a5438f950fa398438ebabe": {
      "model_module": "@jupyter-widgets/controls",
      "model_module_version": "1.5.0",
      "model_name": "DescriptionStyleModel",
      "state": {
       "description_width": ""
      }
     },
     "56cbac4a5c0543388d49934696214893": {
      "model_module": "@jupyter-widgets/controls",
      "model_module_version": "1.5.0",
      "model_name": "ImageModel",
      "state": {
       "_dom_classes": [
        "pixelated"
       ],
       "layout": "IPY_MODEL_22f08a01263043a9bd803ce9af22c53c"
      }
     },
     "5b57bbbac8204d06888955cfe0fe04f0": {
      "model_module": "@jupyter-widgets/controls",
      "model_module_version": "1.5.0",
      "model_name": "DescriptionStyleModel",
      "state": {
       "description_width": ""
      }
     },
     "5daf57ab8d5f493aaf2daefdaa8ce85b": {
      "model_module": "@jupyter-widgets/base",
      "model_module_version": "1.2.0",
      "model_name": "LayoutModel",
      "state": {}
     },
     "60586ef853064b46895afe6466c7638a": {
      "model_module": "@jupyter-widgets/base",
      "model_module_version": "1.2.0",
      "model_name": "LayoutModel",
      "state": {}
     },
     "6255f996bef04a6d90b9f02db7c91484": {
      "model_module": "@jupyter-widgets/controls",
      "model_module_version": "1.5.0",
      "model_name": "HBoxModel",
      "state": {
       "children": [
        "IPY_MODEL_07138df947304a56ba2e1afdd3858489",
        "IPY_MODEL_4d3305c30d934808ba33b7d1ff76efc0",
        "IPY_MODEL_6dd8d9bc4986439082ef2dc9a4b95c61"
       ],
       "layout": "IPY_MODEL_abe1d605efdd4bf29c9d9b495b715af4"
      }
     },
     "69f1202d6d1541b78e0b3636df262050": {
      "model_module": "@jupyter-widgets/controls",
      "model_module_version": "1.5.0",
      "model_name": "TextModel",
      "state": {
       "description": "Name:",
       "layout": "IPY_MODEL_80912fa039ed49f1b7050ba0f344f481",
       "style": "IPY_MODEL_c035f8763b174041ad7b21fa2ed1bc84",
       "value": "Robbie"
      }
     },
     "6a1ff22dca964552b386b93a2733d65d": {
      "model_module": "@jupyter-widgets/controls",
      "model_module_version": "1.5.0",
      "model_name": "HTMLModel",
      "state": {
       "layout": "IPY_MODEL_60586ef853064b46895afe6466c7638a",
       "style": "IPY_MODEL_40f31536bd4f47998643d901d2af0c58",
       "value": " 33/? [00:00&lt;00:00, 35.69it/s]"
      }
     },
     "6afa9dbdd076489da8882c0b5f224e0c": {
      "model_module": "@jupyter-widgets/controls",
      "model_module_version": "1.5.0",
      "model_name": "TextModel",
      "state": {
       "description": "Trans vel:",
       "layout": "IPY_MODEL_1017b0c8b8d049afbff17634f00214f5",
       "style": "IPY_MODEL_559538ed64a5438f950fa398438ebabe",
       "value": "0.23259952253562882"
      }
     },
     "6bd9391529004132a7faded17be64e4c": {
      "model_module": "@jupyter-widgets/base",
      "model_module_version": "1.2.0",
      "model_name": "LayoutModel",
      "state": {
       "width": "20px"
      }
     },
     "6bfc12d1ef9a4e8197c976c64a558c41": {
      "model_module": "@jupyter-widgets/base",
      "model_module_version": "1.2.0",
      "model_name": "LayoutModel",
      "state": {
       "display": "flex"
      }
     },
     "6dd8d9bc4986439082ef2dc9a4b95c61": {
      "model_module": "@jupyter-widgets/controls",
      "model_module_version": "1.5.0",
      "model_name": "HTMLModel",
      "state": {
       "layout": "IPY_MODEL_5daf57ab8d5f493aaf2daefdaa8ce85b",
       "style": "IPY_MODEL_d83fee5c4e104f60a2f8dbf3e32207bd",
       "value": " 33/? [00:00&lt;00:00, 528.13it/s]"
      }
     },
     "706e6b42b44c4860a080394afd73d149": {
      "model_module": "@jupyter-widgets/base",
      "model_module_version": "1.2.0",
      "model_name": "LayoutModel",
      "state": {}
     },
     "72a30e9eb6624635b9822c0453f808cf": {
      "model_module": "@jupyter-widgets/base",
      "model_module_version": "1.2.0",
      "model_name": "LayoutModel",
      "state": {
       "display": "flex"
      }
     },
     "7700d8fd20b24b8c97c2b10c2bf3f99c": {
      "model_module": "@jupyter-widgets/controls",
      "model_module_version": "1.5.0",
      "model_name": "FloatProgressModel",
      "state": {
       "bar_style": "danger",
       "layout": "IPY_MODEL_8c5d11904d39483ab49e561372fc2434",
       "max": 1,
       "style": "IPY_MODEL_f4115ae7c99b4d78b35ee3ee081d6cf2",
       "value": 1
      }
     },
     "7920d030f39642a5a2bedee657b1a2c0": {
      "model_module": "@jupyter-widgets/base",
      "model_module_version": "1.2.0",
      "model_name": "LayoutModel",
      "state": {}
     },
     "7a785281f2ab4fa8b1722690698186cd": {
      "model_module": "@jupyter-widgets/controls",
      "model_module_version": "1.5.0",
      "model_name": "FloatProgressModel",
      "state": {
       "bar_style": "danger",
       "layout": "IPY_MODEL_6bd9391529004132a7faded17be64e4c",
       "max": 1,
       "style": "IPY_MODEL_27f3b57ac82c4f9d9661254bc40e2834",
       "value": 1
      }
     },
     "7e36e4572dc549bb81ad735843607f4d": {
      "model_module": "@jupyter-widgets/base",
      "model_module_version": "1.2.0",
      "model_name": "LayoutModel",
      "state": {
       "display": "flex"
      }
     },
     "806375cf472a41c1aea0ee6aed83e784": {
      "model_module": "@jupyter-widgets/base",
      "model_module_version": "1.2.0",
      "model_name": "LayoutModel",
      "state": {}
     },
     "80912fa039ed49f1b7050ba0f344f481": {
      "model_module": "@jupyter-widgets/base",
      "model_module_version": "1.2.0",
      "model_name": "LayoutModel",
      "state": {
       "display": "flex"
      }
     },
     "84cbdac21c7a40e5b27668252c6326fe": {
      "model_module": "@jupyter-widgets/controls",
      "model_module_version": "1.5.0",
      "model_name": "DescriptionStyleModel",
      "state": {
       "description_width": ""
      }
     },
     "87521330a2234869be383a481c253594": {
      "model_module": "@jupyter-widgets/controls",
      "model_module_version": "1.5.0",
      "model_name": "HBoxModel",
      "state": {
       "children": [
        "IPY_MODEL_ee3b319dbb02484fbec3510ff2998d19",
        "IPY_MODEL_7a785281f2ab4fa8b1722690698186cd",
        "IPY_MODEL_ef6bbc284a7d416ba7853e2345eb904c"
       ],
       "layout": "IPY_MODEL_389a58f648884d70b0f863f6d0b3de1c"
      }
     },
     "8b42c28d378c4a1da09f60d839219be3": {
      "model_module": "@jupyter-widgets/controls",
      "model_module_version": "1.5.0",
      "model_name": "ProgressStyleModel",
      "state": {
       "description_width": ""
      }
     },
     "8c5d11904d39483ab49e561372fc2434": {
      "model_module": "@jupyter-widgets/base",
      "model_module_version": "1.2.0",
      "model_name": "LayoutModel",
      "state": {
       "width": "20px"
      }
     },
     "8e7562f9fc4642649b137684686ae4d0": {
      "model_module": "@jupyter-widgets/controls",
      "model_module_version": "1.5.0",
      "model_name": "HTMLModel",
      "state": {
       "layout": "IPY_MODEL_c4e8c6e2becf4faf92f498943db62748",
       "style": "IPY_MODEL_bb2586097c514cc0a4dad30b242d1490"
      }
     },
     "8f4ec6c9ebd14f6b96886e70ee269934": {
      "buffers": [
       {
        "data": "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",
        "encoding": "base64",
        "path": [
         "value"
        ]
       }
      ],
      "model_module": "@jupyter-widgets/controls",
      "model_module_version": "1.5.0",
      "model_name": "ImageModel",
      "state": {
       "layout": "IPY_MODEL_1ea06e1455bc490c97c182850a73e1a5"
      }
     },
     "90b8a24ae8f14bee8276deccdab0cdd6": {
      "model_module": "@jupyter-widgets/controls",
      "model_module_version": "1.5.0",
      "model_name": "VBoxModel",
      "state": {
       "children": [
        "IPY_MODEL_56cbac4a5c0543388d49934696214893",
        "IPY_MODEL_69f1202d6d1541b78e0b3636df262050",
        "IPY_MODEL_e3bdf6839ead4d6cbc04b7fc8e48b230",
        "IPY_MODEL_4ff05f06a8304d60819c49cc741bdf87",
        "IPY_MODEL_c85fc42255884cc4a24c46a4fe524fa5",
        "IPY_MODEL_e9d00228f7b54d528aadc8559cfc09d7",
        "IPY_MODEL_6afa9dbdd076489da8882c0b5f224e0c",
        "IPY_MODEL_92c81834fb154df4a03a5c5a44045cda",
        "IPY_MODEL_9cb98f9486944aa6bdcc08780659e454"
       ],
       "layout": "IPY_MODEL_a7c748310cd940748585f489738b1eb8"
      }
     },
     "92c81834fb154df4a03a5c5a44045cda": {
      "model_module": "@jupyter-widgets/controls",
      "model_module_version": "1.5.0",
      "model_name": "TextModel",
      "state": {
       "description": "Rotate vel:",
       "layout": "IPY_MODEL_47e58b2707774afdbaa3d41403ec8caf",
       "style": "IPY_MODEL_84cbdac21c7a40e5b27668252c6326fe",
       "value": "-0.14397955338556664"
      }
     },
     "9cb98f9486944aa6bdcc08780659e454": {
      "model_module": "@jupyter-widgets/controls",
      "model_module_version": "1.5.0",
      "model_name": "TextareaModel",
      "state": {
       "description": "State:",
       "layout": "IPY_MODEL_7e36e4572dc549bb81ad735843607f4d",
       "style": "IPY_MODEL_d9c3b9fe4bab4466b4af5ceaf73a92fb",
       "value": "{}"
      }
     },
     "a7713b4639e14745846b25b309d05e59": {
      "model_module": "@jupyter-widgets/controls",
      "model_module_version": "1.5.0",
      "model_name": "HTMLModel",
      "state": {
       "layout": "IPY_MODEL_0c04f44ee8064a54bdd6072875b97b98",
       "style": "IPY_MODEL_cab8e2ae232a4ed1b9eef3967c44fd3d",
       "value": "<style>img.pixelated {image-rendering: pixelated;}</style>"
      }
     },
     "a7c748310cd940748585f489738b1eb8": {
      "model_module": "@jupyter-widgets/base",
      "model_module_version": "1.2.0",
      "model_name": "LayoutModel",
      "state": {
       "border": "10px solid rgb(0 177 255)"
      }
     },
     "abe1d605efdd4bf29c9d9b495b715af4": {
      "model_module": "@jupyter-widgets/base",
      "model_module_version": "1.2.0",
      "model_name": "LayoutModel",
      "state": {}
     },
     "b31985c882cc49a0ab041ce09f41c9d7": {
      "model_module": "@jupyter-widgets/base",
      "model_module_version": "1.2.0",
      "model_name": "LayoutModel",
      "state": {
       "width": "20px"
      }
     },
     "b34a6c4c2e3142ef964942776843ff20": {
      "model_module": "@jupyter-widgets/base",
      "model_module_version": "1.2.0",
      "model_name": "LayoutModel",
      "state": {}
     },
     "b3bbef5602364bd68f48d292441aefe6": {
      "model_module": "@jupyter-widgets/controls",
      "model_module_version": "1.5.0",
      "model_name": "HTMLModel",
      "state": {
       "layout": "IPY_MODEL_3eaa81942a7b44b3b551668b16f0da7a",
       "style": "IPY_MODEL_edf7ab552c4b4277a7c24739a901c613"
      }
     },
     "b8aa1915fd444f87944241e57d380f4a": {
      "model_module": "@jupyter-widgets/controls",
      "model_module_version": "1.5.0",
      "model_name": "ProgressStyleModel",
      "state": {
       "description_width": ""
      }
     },
     "bb2586097c514cc0a4dad30b242d1490": {
      "model_module": "@jupyter-widgets/controls",
      "model_module_version": "1.5.0",
      "model_name": "DescriptionStyleModel",
      "state": {
       "description_width": ""
      }
     },
     "c035f8763b174041ad7b21fa2ed1bc84": {
      "model_module": "@jupyter-widgets/controls",
      "model_module_version": "1.5.0",
      "model_name": "DescriptionStyleModel",
      "state": {
       "description_width": ""
      }
     },
     "c4e8c6e2becf4faf92f498943db62748": {
      "model_module": "@jupyter-widgets/base",
      "model_module_version": "1.2.0",
      "model_name": "LayoutModel",
      "state": {}
     },
     "c7352ea1c05e45d6a6aeac9edb4a5468": {
      "model_module": "@jupyter-widgets/base",
      "model_module_version": "1.2.0",
      "model_name": "LayoutModel",
      "state": {}
     },
     "c85fc42255884cc4a24c46a4fe524fa5": {
      "model_module": "@jupyter-widgets/controls",
      "model_module_version": "1.5.0",
      "model_name": "TextModel",
      "state": {
       "description": "A:",
       "layout": "IPY_MODEL_f3491a02b3b2424cb227d49dfdaaab60",
       "style": "IPY_MODEL_1b9ee1f569f5497997dad38ca6e40a0f",
       "value": "0.21088522247194944"
      }
     },
     "c8f189a5e66d4c8f8ba28959df3c129e": {
      "model_module": "@jupyter-widgets/controls",
      "model_module_version": "1.5.0",
      "model_name": "DescriptionStyleModel",
      "state": {
       "description_width": ""
      }
     },
     "cab8e2ae232a4ed1b9eef3967c44fd3d": {
      "model_module": "@jupyter-widgets/controls",
      "model_module_version": "1.5.0",
      "model_name": "DescriptionStyleModel",
      "state": {
       "description_width": ""
      }
     },
     "ce035b076db840229d96dd485eba426a": {
      "model_module": "@jupyter-widgets/controls",
      "model_module_version": "1.5.0",
      "model_name": "FloatProgressModel",
      "state": {
       "bar_style": "danger",
       "layout": "IPY_MODEL_b31985c882cc49a0ab041ce09f41c9d7",
       "max": 1,
       "style": "IPY_MODEL_b8aa1915fd444f87944241e57d380f4a",
       "value": 1
      }
     },
     "d2a5f1e1917a49588faa2b8f5339b2eb": {
      "model_module": "@jupyter-widgets/controls",
      "model_module_version": "1.5.0",
      "model_name": "ProgressStyleModel",
      "state": {
       "description_width": ""
      }
     },
     "d75375c8904d4415b43cca39d4f3592f": {
      "model_module": "@jupyter-widgets/controls",
      "model_module_version": "1.5.0",
      "model_name": "HBoxModel",
      "state": {
       "children": [
        "IPY_MODEL_8e7562f9fc4642649b137684686ae4d0",
        "IPY_MODEL_faad6f2844a44fd3aba2b4458ccced39",
        "IPY_MODEL_6a1ff22dca964552b386b93a2733d65d"
       ],
       "layout": "IPY_MODEL_0f8fc8a6ad33440982202bff332f801b"
      }
     },
     "d83fee5c4e104f60a2f8dbf3e32207bd": {
      "model_module": "@jupyter-widgets/controls",
      "model_module_version": "1.5.0",
      "model_name": "DescriptionStyleModel",
      "state": {
       "description_width": ""
      }
     },
     "d91598ac091843d0bf313bdc052e8b03": {
      "model_module": "@jupyter-widgets/base",
      "model_module_version": "1.2.0",
      "model_name": "LayoutModel",
      "state": {
       "display": "flex"
      }
     },
     "d9c3b9fe4bab4466b4af5ceaf73a92fb": {
      "model_module": "@jupyter-widgets/controls",
      "model_module_version": "1.5.0",
      "model_name": "DescriptionStyleModel",
      "state": {
       "description_width": ""
      }
     },
     "e3bdf6839ead4d6cbc04b7fc8e48b230": {
      "model_module": "@jupyter-widgets/controls",
      "model_module_version": "1.5.0",
      "model_name": "TextModel",
      "state": {
       "description": "X:",
       "layout": "IPY_MODEL_d91598ac091843d0bf313bdc052e8b03",
       "style": "IPY_MODEL_053e44a4946f4f4db9703831c0d26f3f",
       "value": "-0.1327544435328954"
      }
     },
     "e9d00228f7b54d528aadc8559cfc09d7": {
      "model_module": "@jupyter-widgets/controls",
      "model_module_version": "1.5.0",
      "model_name": "TextModel",
      "state": {
       "description": "Stalled:",
       "layout": "IPY_MODEL_72a30e9eb6624635b9822c0453f808cf",
       "style": "IPY_MODEL_f05d6d2347ec46ba9667422422be181a",
       "value": "False"
      }
     },
     "edf7ab552c4b4277a7c24739a901c613": {
      "model_module": "@jupyter-widgets/controls",
      "model_module_version": "1.5.0",
      "model_name": "DescriptionStyleModel",
      "state": {
       "description_width": ""
      }
     },
     "ee3b319dbb02484fbec3510ff2998d19": {
      "model_module": "@jupyter-widgets/controls",
      "model_module_version": "1.5.0",
      "model_name": "HTMLModel",
      "state": {
       "layout": "IPY_MODEL_477bec4afdeb49b99dcde946d147493f",
       "style": "IPY_MODEL_48d76fded68a4fb7a81c5400a86f1617"
      }
     },
     "ef6bbc284a7d416ba7853e2345eb904c": {
      "model_module": "@jupyter-widgets/controls",
      "model_module_version": "1.5.0",
      "model_name": "HTMLModel",
      "state": {
       "layout": "IPY_MODEL_c7352ea1c05e45d6a6aeac9edb4a5468",
       "style": "IPY_MODEL_c8f189a5e66d4c8f8ba28959df3c129e",
       "value": " 33/? [00:00&lt;00:00, 561.79it/s]"
      }
     },
     "efc77e1864d14ed0b454c44feb122233": {
      "model_module": "@jupyter-widgets/controls",
      "model_module_version": "1.5.0",
      "model_name": "HTMLModel",
      "state": {
       "layout": "IPY_MODEL_7920d030f39642a5a2bedee657b1a2c0",
       "style": "IPY_MODEL_54b9bf6bcfbe48a7ac754073d48439d6",
       "value": " 33/? [00:00&lt;00:00, 35.50it/s]"
      }
     },
     "f05d6d2347ec46ba9667422422be181a": {
      "model_module": "@jupyter-widgets/controls",
      "model_module_version": "1.5.0",
      "model_name": "DescriptionStyleModel",
      "state": {
       "description_width": ""
      }
     },
     "f3491a02b3b2424cb227d49dfdaaab60": {
      "model_module": "@jupyter-widgets/base",
      "model_module_version": "1.2.0",
      "model_name": "LayoutModel",
      "state": {
       "display": "flex"
      }
     },
     "f4115ae7c99b4d78b35ee3ee081d6cf2": {
      "model_module": "@jupyter-widgets/controls",
      "model_module_version": "1.5.0",
      "model_name": "ProgressStyleModel",
      "state": {
       "description_width": ""
      }
     },
     "f7a9d7ff2f1f4088a90845df042aaccb": {
      "model_module": "@jupyter-widgets/controls",
      "model_module_version": "1.5.0",
      "model_name": "DescriptionStyleModel",
      "state": {
       "description_width": ""
      }
     },
     "faad6f2844a44fd3aba2b4458ccced39": {
      "model_module": "@jupyter-widgets/controls",
      "model_module_version": "1.5.0",
      "model_name": "FloatProgressModel",
      "state": {
       "bar_style": "danger",
       "layout": "IPY_MODEL_1f0c7bf7fed24ba69fe994ca68086088",
       "max": 1,
       "style": "IPY_MODEL_d2a5f1e1917a49588faa2b8f5339b2eb",
       "value": 1
      }
     }
    },
    "version_major": 2,
    "version_minor": 0
   }
  }
 },
 "nbformat": 4,
 "nbformat_minor": 4
}
