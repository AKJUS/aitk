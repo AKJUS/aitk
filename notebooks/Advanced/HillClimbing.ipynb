{
 "cells": [
  {
   "cell_type": "markdown",
   "metadata": {},
   "source": [
    "<a target=\"_blank\" href=\"https://colab.research.google.com/github/ArtificialIntelligenceToolkit/aitk/blob/master/notebooks/Advanced/HillClimbing.ipynb\"><img src=\"https://colab.research.google.com/assets/colab-badge.svg\" alt=\"Open In Colab\"/></a>"
   ]
  },
  {
   "cell_type": "markdown",
   "metadata": {
    "id": "bshVZXl8nc0u"
   },
   "source": [
    "# Using Hill Climbing to find food\n",
    "\n",
    "This notebook demonstrates how a robot can use a \"smell\" sensor to to locate and eat food in an open world by using a simple hill climbing algorithm to follow the gradient of the order towards the food."
   ]
  },
  {
   "cell_type": "code",
   "execution_count": 1,
   "metadata": {
    "id": "AQMTpw5e_0cx"
   },
   "outputs": [
    {
     "name": "stdout",
     "output_type": "stream",
     "text": [
      "Note: you may need to restart the kernel to use updated packages.\n"
     ]
    }
   ],
   "source": [
    "%pip install aitk --quiet"
   ]
  },
  {
   "cell_type": "code",
   "execution_count": 3,
   "metadata": {
    "id": "1_f2EFMPn2sL"
   },
   "outputs": [],
   "source": [
    "from aitk.robots import World, Scribbler, SmellSensor"
   ]
  },
  {
   "cell_type": "markdown",
   "metadata": {
    "id": "GvnDngCprCn0"
   },
   "source": [
    "We will place food at the center of this world."
   ]
  },
  {
   "cell_type": "code",
   "execution_count": 4,
   "metadata": {
    "colab": {
     "base_uri": "https://localhost:8080/"
    },
    "id": "zZiR6DP8nc0w",
    "outputId": "a702cebb-5d6e-4a91-8b2e-cc50bdfaff17"
   },
   "outputs": [
    {
     "name": "stdout",
     "output_type": "stream",
     "text": [
      "Random seed set to: 7803630\n"
     ]
    }
   ],
   "source": [
    "world = World(width=200, height=200, scale=2, boundary_wall=False)\n",
    "world.add_food(100, 100, 70)"
   ]
  },
  {
   "cell_type": "markdown",
   "metadata": {
    "id": "alsz2H6krJWT"
   },
   "source": [
    "We equip the robot with a smell sensor on its found center."
   ]
  },
  {
   "cell_type": "code",
   "execution_count": 5,
   "metadata": {
    "id": "3x4KHkVpnc0w"
   },
   "outputs": [],
   "source": [
    "robot = Scribbler(x=110, y=150, a=50)\n",
    "robot.add_device(SmellSensor(position=(8,0),name=\"nose\"))\n",
    "robot.set_max_trace_length(60)\n",
    "world.add_robot(robot)\n",
    "world.update()"
   ]
  },
  {
   "cell_type": "code",
   "execution_count": 6,
   "metadata": {
    "id": "U_k4FbUCnc0w"
   },
   "outputs": [],
   "source": [
    "from random import random"
   ]
  },
  {
   "cell_type": "markdown",
   "metadata": {
    "id": "5zAAw4tjtAa7"
   },
   "source": [
    "We need to set some intial parameters for the robot's controller."
   ]
  },
  {
   "cell_type": "code",
   "execution_count": 7,
   "metadata": {
    "id": "CRDZ1heHnc0w"
   },
   "outputs": [],
   "source": [
    "def init_state(robot):\n",
    "    robot.state['behavior'] = 'test'\n",
    "    robot.state['max_step'] = 5\n",
    "    robot.state['current'] = 0\n",
    "    robot.state['step'] = 0\n",
    "    robot.state['rotation'] = 0"
   ]
  },
  {
   "cell_type": "markdown",
   "metadata": {
    "id": "gQoZfsQirQaJ"
   },
   "source": [
    "We will use a finite state machine style controller that is based on a limited set of behaviors:\n",
    "\n",
    "* **test** is used to sniff for food and then initiate a turn to find a gradient or difference in smell\n",
    "* **turn** rotates a random direction and compares the new smell amount and decides whether to go forward, if the smell is increasing, or whether to reverse the last move if the smell is decresing\n",
    "* **reverse** undoes the previous robot move\n",
    "* **forward** moves the robot forward\n",
    "\n",
    "To summarize, the robot always begins in **test** mode and then goes to **turn**. From there it either goes to **forward** or **reverse**, and then back to **test** mode."
   ]
  },
  {
   "cell_type": "code",
   "execution_count": 8,
   "metadata": {
    "id": "1jmBqR5Tnc0w"
   },
   "outputs": [],
   "source": [
    "def controller(robot):\n",
    "    if robot.eat():\n",
    "        # Try to eat, if successful end run\n",
    "        robot.speak(\"FOUND FOOD!\")\n",
    "        return True\n",
    "    elif robot.state['behavior'] == 'test':\n",
    "        # Check current smell and choose a random rotation to try\n",
    "        robot.speak(\"test\")\n",
    "        robot.state['current'] = robot['nose'].get_reading()\n",
    "        robot.state['rotation'] = random()-0.5\n",
    "        robot.move(0, robot.state['rotation'])\n",
    "        robot.state['behavior'] = 'turn'\n",
    "    elif robot.state['behavior'] == 'turn':\n",
    "        # Turn for max_steps, then check new smell\n",
    "        robot.speak(\"turn\")\n",
    "        if robot.state['step'] % robot.state['max_step'] == 0:\n",
    "            next_reading = robot['nose'].get_reading()\n",
    "            delta = next_reading - robot.state['current']\n",
    "            if delta >= 0:\n",
    "                # if smell is stronger or the same, go forward\n",
    "                robot.move(0.5, 0)\n",
    "                robot.state['behavior'] = 'forward'\n",
    "            else:\n",
    "                # if smell is weaker, reverse turn and try again\n",
    "                robot.move(0, -1*robot.state['rotation'])\n",
    "                robot.state['behavior'] = 'reverse'\n",
    "    elif robot.state['behavior'] == 'reverse':\n",
    "        # Reverse rotation for max_steps, then go back to testing\n",
    "        robot.speak(\"reverse\")\n",
    "        if robot.state['step'] % robot.state['max_step'] == 0:\n",
    "            robot.stop()\n",
    "            robot.state['behavior'] = 'test'\n",
    "    elif robot.state['behavior'] == 'forward':\n",
    "        # Move forward for max_steps, then go back to testing\n",
    "        robot.speak(\"forward\")\n",
    "        if robot.state['step'] % robot.state['max_step'] == 0:\n",
    "            robot.stop()\n",
    "            robot.state['behavior'] = 'test'\n",
    "    robot.state['step'] += 1"
   ]
  },
  {
   "cell_type": "markdown",
   "metadata": {
    "id": "_hS6BM3_tI4k"
   },
   "source": [
    "Let's set up a way to watch the robot's behavior."
   ]
  },
  {
   "cell_type": "code",
   "execution_count": 9,
   "metadata": {
    "colab": {
     "base_uri": "https://localhost:8080/",
     "height": 469,
     "referenced_widgets": [
      "0b4e10cb55d7476fa371e53f0dd7000a",
      "e4d7372f822a4ce88636932fd066d340"
     ]
    },
    "id": "rcnr_6njnc0w",
    "outputId": "00fc2a44-38a3-43d1-8d26-82716b757916"
   },
   "outputs": [
    {
     "data": {
      "application/vnd.jupyter.widget-view+json": {
       "model_id": "c7a51dd9111141d9bd0ec2f66b48c3e2",
       "version_major": 2,
       "version_minor": 0
      },
      "text/plain": [
       "Image(value=b'\\xff\\xd8\\xff\\xe0\\x00\\x10JFIF\\x00\\x01\\x01\\x00\\x00\\x01\\x00\\x01\\x00\\x00\\xff\\xdb\\x00C\\x00\\x08\\x06\\x0…"
      ]
     },
     "metadata": {},
     "output_type": "display_data"
    }
   ],
   "source": [
    "world.watch()"
   ]
  },
  {
   "cell_type": "markdown",
   "metadata": {
    "id": "pY5J1eKUtNmj"
   },
   "source": [
    "Reset the world, place the robot in a random location, and start off the controller to find the food."
   ]
  },
  {
   "cell_type": "code",
   "execution_count": 10,
   "metadata": {
    "colab": {
     "base_uri": "https://localhost:8080/",
     "height": 84,
     "referenced_widgets": [
      "75dbce944e7a4534a4705cfb2532a99e",
      "231a8a1e2d0f4622846a6ace158ad4f4",
      "c3eed08e1cf54ec3a0348170ae4c8785",
      "978aade21b5248d290d390407fc115ca",
      "559020818f104456b785ab5b5b72430e",
      "e2b98099bc054b5a855e2b9d13774d90",
      "cd96f8ffa7784d63888fd55568ced192",
      "4a444f2a28fc46e0905217f615d35458",
      "b2378898cc0242b2922de4ea9cf38bd9",
      "96a027defd944b3f954d15336dfcbcad",
      "5ea40cc285ab4ce2bf81f2a933dce208"
     ]
    },
    "id": "tbE6DBzBnc0w",
    "outputId": "2722ed13-fffe-4b19-e324-fb08137f078e"
   },
   "outputs": [
    {
     "name": "stdout",
     "output_type": "stream",
     "text": [
      "Using random seed: 7803630\n"
     ]
    },
    {
     "data": {
      "application/json": {
       "ascii": false,
       "bar_format": null,
       "colour": null,
       "elapsed": 0.00824737548828125,
       "initial": 0,
       "n": 0,
       "ncols": null,
       "nrows": 72,
       "postfix": null,
       "prefix": "",
       "rate": null,
       "total": null,
       "unit": "it",
       "unit_divisor": 1000,
       "unit_scale": false
      },
      "application/vnd.jupyter.widget-view+json": {
       "model_id": "a9e867ba80a44dc79fde8e3542385838",
       "version_major": 2,
       "version_minor": 0
      },
      "text/plain": [
       "0it [00:00, ?it/s]"
      ]
     },
     "metadata": {},
     "output_type": "display_data"
    },
    {
     "name": "stdout",
     "output_type": "stream",
     "text": [
      "Simulation stopped at: 00:00:30.90; speed 0.98 x real time\n"
     ]
    },
    {
     "data": {
      "text/plain": [
       "True"
      ]
     },
     "execution_count": 10,
     "metadata": {},
     "output_type": "execute_result"
    }
   ],
   "source": [
    "world.reset()\n",
    "robot.set_random_pose()\n",
    "init_state(robot)\n",
    "world.run([controller],real_time=True)"
   ]
  }
 ],
 "metadata": {
  "colab": {
   "include_colab_link": true,
   "provenance": []
  },
  "kernelspec": {
   "display_name": "Python 3 (ipykernel)",
   "language": "python",
   "name": "python3"
  },
  "language_info": {
   "codemirror_mode": {
    "name": "ipython",
    "version": 3
   },
   "file_extension": ".py",
   "mimetype": "text/x-python",
   "name": "python",
   "nbconvert_exporter": "python",
   "pygments_lexer": "ipython3",
   "version": "3.10.12"
  },
  "widgets": {
   "application/vnd.jupyter.widget-state+json": {
    "0b4e10cb55d7476fa371e53f0dd7000a": {
     "model_module": "@jupyter-widgets/controls",
     "model_module_version": "1.5.0",
     "model_name": "ImageModel",
     "state": {
      "_dom_classes": [],
      "_model_module": "@jupyter-widgets/controls",
      "_model_module_version": "1.5.0",
      "_model_name": "ImageModel",
      "_view_count": null,
      "_view_module": "@jupyter-widgets/controls",
      "_view_module_version": "1.5.0",
      "_view_name": "ImageView",
      "format": "png",
      "height": "",
      "layout": "IPY_MODEL_e4d7372f822a4ce88636932fd066d340",
      "width": ""
     }
    },
    "231a8a1e2d0f4622846a6ace158ad4f4": {
     "model_module": "@jupyter-widgets/controls",
     "model_module_version": "1.5.0",
     "model_name": "HTMLModel",
     "state": {
      "_dom_classes": [],
      "_model_module": "@jupyter-widgets/controls",
      "_model_module_version": "1.5.0",
      "_model_name": "HTMLModel",
      "_view_count": null,
      "_view_module": "@jupyter-widgets/controls",
      "_view_module_version": "1.5.0",
      "_view_name": "HTMLView",
      "description": "",
      "description_tooltip": null,
      "layout": "IPY_MODEL_e2b98099bc054b5a855e2b9d13774d90",
      "placeholder": "​",
      "style": "IPY_MODEL_cd96f8ffa7784d63888fd55568ced192",
      "value": ""
     }
    },
    "4a444f2a28fc46e0905217f615d35458": {
     "model_module": "@jupyter-widgets/base",
     "model_module_version": "1.2.0",
     "model_name": "LayoutModel",
     "state": {
      "_model_module": "@jupyter-widgets/base",
      "_model_module_version": "1.2.0",
      "_model_name": "LayoutModel",
      "_view_count": null,
      "_view_module": "@jupyter-widgets/base",
      "_view_module_version": "1.2.0",
      "_view_name": "LayoutView",
      "align_content": null,
      "align_items": null,
      "align_self": null,
      "border": null,
      "bottom": null,
      "display": null,
      "flex": null,
      "flex_flow": null,
      "grid_area": null,
      "grid_auto_columns": null,
      "grid_auto_flow": null,
      "grid_auto_rows": null,
      "grid_column": null,
      "grid_gap": null,
      "grid_row": null,
      "grid_template_areas": null,
      "grid_template_columns": null,
      "grid_template_rows": null,
      "height": null,
      "justify_content": null,
      "justify_items": null,
      "left": null,
      "margin": null,
      "max_height": null,
      "max_width": null,
      "min_height": null,
      "min_width": null,
      "object_fit": null,
      "object_position": null,
      "order": null,
      "overflow": null,
      "overflow_x": null,
      "overflow_y": null,
      "padding": null,
      "right": null,
      "top": null,
      "visibility": null,
      "width": "20px"
     }
    },
    "559020818f104456b785ab5b5b72430e": {
     "model_module": "@jupyter-widgets/base",
     "model_module_version": "1.2.0",
     "model_name": "LayoutModel",
     "state": {
      "_model_module": "@jupyter-widgets/base",
      "_model_module_version": "1.2.0",
      "_model_name": "LayoutModel",
      "_view_count": null,
      "_view_module": "@jupyter-widgets/base",
      "_view_module_version": "1.2.0",
      "_view_name": "LayoutView",
      "align_content": null,
      "align_items": null,
      "align_self": null,
      "border": null,
      "bottom": null,
      "display": null,
      "flex": null,
      "flex_flow": null,
      "grid_area": null,
      "grid_auto_columns": null,
      "grid_auto_flow": null,
      "grid_auto_rows": null,
      "grid_column": null,
      "grid_gap": null,
      "grid_row": null,
      "grid_template_areas": null,
      "grid_template_columns": null,
      "grid_template_rows": null,
      "height": null,
      "justify_content": null,
      "justify_items": null,
      "left": null,
      "margin": null,
      "max_height": null,
      "max_width": null,
      "min_height": null,
      "min_width": null,
      "object_fit": null,
      "object_position": null,
      "order": null,
      "overflow": null,
      "overflow_x": null,
      "overflow_y": null,
      "padding": null,
      "right": null,
      "top": null,
      "visibility": null,
      "width": null
     }
    },
    "5ea40cc285ab4ce2bf81f2a933dce208": {
     "model_module": "@jupyter-widgets/controls",
     "model_module_version": "1.5.0",
     "model_name": "DescriptionStyleModel",
     "state": {
      "_model_module": "@jupyter-widgets/controls",
      "_model_module_version": "1.5.0",
      "_model_name": "DescriptionStyleModel",
      "_view_count": null,
      "_view_module": "@jupyter-widgets/base",
      "_view_module_version": "1.2.0",
      "_view_name": "StyleView",
      "description_width": ""
     }
    },
    "75dbce944e7a4534a4705cfb2532a99e": {
     "model_module": "@jupyter-widgets/controls",
     "model_module_version": "1.5.0",
     "model_name": "HBoxModel",
     "state": {
      "_dom_classes": [],
      "_model_module": "@jupyter-widgets/controls",
      "_model_module_version": "1.5.0",
      "_model_name": "HBoxModel",
      "_view_count": null,
      "_view_module": "@jupyter-widgets/controls",
      "_view_module_version": "1.5.0",
      "_view_name": "HBoxView",
      "box_style": "",
      "children": [
       "IPY_MODEL_231a8a1e2d0f4622846a6ace158ad4f4",
       "IPY_MODEL_c3eed08e1cf54ec3a0348170ae4c8785",
       "IPY_MODEL_978aade21b5248d290d390407fc115ca"
      ],
      "layout": "IPY_MODEL_559020818f104456b785ab5b5b72430e"
     }
    },
    "96a027defd944b3f954d15336dfcbcad": {
     "model_module": "@jupyter-widgets/base",
     "model_module_version": "1.2.0",
     "model_name": "LayoutModel",
     "state": {
      "_model_module": "@jupyter-widgets/base",
      "_model_module_version": "1.2.0",
      "_model_name": "LayoutModel",
      "_view_count": null,
      "_view_module": "@jupyter-widgets/base",
      "_view_module_version": "1.2.0",
      "_view_name": "LayoutView",
      "align_content": null,
      "align_items": null,
      "align_self": null,
      "border": null,
      "bottom": null,
      "display": null,
      "flex": null,
      "flex_flow": null,
      "grid_area": null,
      "grid_auto_columns": null,
      "grid_auto_flow": null,
      "grid_auto_rows": null,
      "grid_column": null,
      "grid_gap": null,
      "grid_row": null,
      "grid_template_areas": null,
      "grid_template_columns": null,
      "grid_template_rows": null,
      "height": null,
      "justify_content": null,
      "justify_items": null,
      "left": null,
      "margin": null,
      "max_height": null,
      "max_width": null,
      "min_height": null,
      "min_width": null,
      "object_fit": null,
      "object_position": null,
      "order": null,
      "overflow": null,
      "overflow_x": null,
      "overflow_y": null,
      "padding": null,
      "right": null,
      "top": null,
      "visibility": null,
      "width": null
     }
    },
    "978aade21b5248d290d390407fc115ca": {
     "model_module": "@jupyter-widgets/controls",
     "model_module_version": "1.5.0",
     "model_name": "HTMLModel",
     "state": {
      "_dom_classes": [],
      "_model_module": "@jupyter-widgets/controls",
      "_model_module_version": "1.5.0",
      "_model_name": "HTMLModel",
      "_view_count": null,
      "_view_module": "@jupyter-widgets/controls",
      "_view_module_version": "1.5.0",
      "_view_name": "HTMLView",
      "description": "",
      "description_tooltip": null,
      "layout": "IPY_MODEL_96a027defd944b3f954d15336dfcbcad",
      "placeholder": "​",
      "style": "IPY_MODEL_5ea40cc285ab4ce2bf81f2a933dce208",
      "value": " 162/? [00:16&lt;00:00,  9.85it/s]"
     }
    },
    "b2378898cc0242b2922de4ea9cf38bd9": {
     "model_module": "@jupyter-widgets/controls",
     "model_module_version": "1.5.0",
     "model_name": "ProgressStyleModel",
     "state": {
      "_model_module": "@jupyter-widgets/controls",
      "_model_module_version": "1.5.0",
      "_model_name": "ProgressStyleModel",
      "_view_count": null,
      "_view_module": "@jupyter-widgets/base",
      "_view_module_version": "1.2.0",
      "_view_name": "StyleView",
      "bar_color": null,
      "description_width": ""
     }
    },
    "c3eed08e1cf54ec3a0348170ae4c8785": {
     "model_module": "@jupyter-widgets/controls",
     "model_module_version": "1.5.0",
     "model_name": "FloatProgressModel",
     "state": {
      "_dom_classes": [],
      "_model_module": "@jupyter-widgets/controls",
      "_model_module_version": "1.5.0",
      "_model_name": "FloatProgressModel",
      "_view_count": null,
      "_view_module": "@jupyter-widgets/controls",
      "_view_module_version": "1.5.0",
      "_view_name": "ProgressView",
      "bar_style": "danger",
      "description": "",
      "description_tooltip": null,
      "layout": "IPY_MODEL_4a444f2a28fc46e0905217f615d35458",
      "max": 1,
      "min": 0,
      "orientation": "horizontal",
      "style": "IPY_MODEL_b2378898cc0242b2922de4ea9cf38bd9",
      "value": 1
     }
    },
    "cd96f8ffa7784d63888fd55568ced192": {
     "model_module": "@jupyter-widgets/controls",
     "model_module_version": "1.5.0",
     "model_name": "DescriptionStyleModel",
     "state": {
      "_model_module": "@jupyter-widgets/controls",
      "_model_module_version": "1.5.0",
      "_model_name": "DescriptionStyleModel",
      "_view_count": null,
      "_view_module": "@jupyter-widgets/base",
      "_view_module_version": "1.2.0",
      "_view_name": "StyleView",
      "description_width": ""
     }
    },
    "e2b98099bc054b5a855e2b9d13774d90": {
     "model_module": "@jupyter-widgets/base",
     "model_module_version": "1.2.0",
     "model_name": "LayoutModel",
     "state": {
      "_model_module": "@jupyter-widgets/base",
      "_model_module_version": "1.2.0",
      "_model_name": "LayoutModel",
      "_view_count": null,
      "_view_module": "@jupyter-widgets/base",
      "_view_module_version": "1.2.0",
      "_view_name": "LayoutView",
      "align_content": null,
      "align_items": null,
      "align_self": null,
      "border": null,
      "bottom": null,
      "display": null,
      "flex": null,
      "flex_flow": null,
      "grid_area": null,
      "grid_auto_columns": null,
      "grid_auto_flow": null,
      "grid_auto_rows": null,
      "grid_column": null,
      "grid_gap": null,
      "grid_row": null,
      "grid_template_areas": null,
      "grid_template_columns": null,
      "grid_template_rows": null,
      "height": null,
      "justify_content": null,
      "justify_items": null,
      "left": null,
      "margin": null,
      "max_height": null,
      "max_width": null,
      "min_height": null,
      "min_width": null,
      "object_fit": null,
      "object_position": null,
      "order": null,
      "overflow": null,
      "overflow_x": null,
      "overflow_y": null,
      "padding": null,
      "right": null,
      "top": null,
      "visibility": null,
      "width": null
     }
    },
    "e4d7372f822a4ce88636932fd066d340": {
     "model_module": "@jupyter-widgets/base",
     "model_module_version": "1.2.0",
     "model_name": "LayoutModel",
     "state": {
      "_model_module": "@jupyter-widgets/base",
      "_model_module_version": "1.2.0",
      "_model_name": "LayoutModel",
      "_view_count": null,
      "_view_module": "@jupyter-widgets/base",
      "_view_module_version": "1.2.0",
      "_view_name": "LayoutView",
      "align_content": null,
      "align_items": null,
      "align_self": null,
      "border": "10px solid rgb(0 177 255)",
      "bottom": null,
      "display": null,
      "flex": null,
      "flex_flow": null,
      "grid_area": null,
      "grid_auto_columns": null,
      "grid_auto_flow": null,
      "grid_auto_rows": null,
      "grid_column": null,
      "grid_gap": null,
      "grid_row": null,
      "grid_template_areas": null,
      "grid_template_columns": null,
      "grid_template_rows": null,
      "height": null,
      "justify_content": null,
      "justify_items": null,
      "left": null,
      "margin": "auto",
      "max_height": null,
      "max_width": null,
      "min_height": null,
      "min_width": null,
      "object_fit": null,
      "object_position": null,
      "order": null,
      "overflow": null,
      "overflow_x": null,
      "overflow_y": null,
      "padding": null,
      "right": null,
      "top": null,
      "visibility": null,
      "width": null
     }
    }
   }
  }
 },
 "nbformat": 4,
 "nbformat_minor": 4
}
