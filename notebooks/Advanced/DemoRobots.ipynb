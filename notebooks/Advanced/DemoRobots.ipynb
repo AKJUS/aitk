{
 "cells": [
  {
   "cell_type": "markdown",
   "metadata": {},
   "source": [
    "<a target=\"_blank\" href=\"https://colab.research.google.com/github/ArtificialIntelligenceToolkit/aitk/blob/master/notebooks/DemoRobots.ipynb\"><img src=\"https://colab.research.google.com/assets/colab-badge.svg\" alt=\"Open In Colab\"/></a>"
   ]
  },
  {
   "cell_type": "code",
   "execution_count": 1,
   "metadata": {
    "id": "AQMTpw5e_0cx"
   },
   "outputs": [
    {
     "name": "stdout",
     "output_type": "stream",
     "text": [
      "\u001b[31mERROR: Could not install packages due to an OSError: [Errno 13] Permission denied: 'WHEEL'\n",
      "Check the permissions.\n",
      "\u001b[0m\u001b[31m\n",
      "\u001b[0mNote: you may need to restart the kernel to use updated packages.\n"
     ]
    }
   ],
   "source": [
    "%pip install aitk --upgrade --quiet"
   ]
  },
  {
   "cell_type": "markdown",
   "metadata": {},
   "source": [
    "## Demo of aitk.robots features\n",
    "\n",
    "Let's create several robots with different capabilities and see how they interact in a small world."
   ]
  },
  {
   "cell_type": "code",
   "execution_count": 2,
   "metadata": {},
   "outputs": [],
   "source": [
    "from aitk.robots import World, Scribbler, RangeSensor, LightSensor, SmellSensor, Camera"
   ]
  },
  {
   "cell_type": "markdown",
   "metadata": {},
   "source": [
    "### A world with walls, a bulb, and food\n",
    "\n",
    "There is a food source located near the origin of the world behind a small angled blue wall.  There is a light source near the center of the world tucked in the corner of the cyan and orange walls."
   ]
  },
  {
   "cell_type": "code",
   "execution_count": 3,
   "metadata": {},
   "outputs": [
    {
     "name": "stdout",
     "output_type": "stream",
     "text": [
      "Random seed set to: 1045659\n"
     ]
    }
   ],
   "source": [
    "world = World(width=200, height=150, scale=5.0)\n",
    "world.add_wall(\"cyan\", 80, 50, 90, 150)\n",
    "world.add_wall(\"orange\", 90, 50, 110, 60)\n",
    "world.add_wall(\"blue\", 0, 35, 25, 30, box=False)\n",
    "world.add_bulb(\"yellow\", 100, 70, 0, 75.0)\n",
    "world.add_food(15, 10, 50)"
   ]
  },
  {
   "cell_type": "markdown",
   "metadata": {},
   "source": [
    "### Red robot uses IR sensors\n",
    "\n",
    "The red robot uses IR sensors to sense and avoid obstacles. It can determine which way to turn based on whether the obstacle is closer to its front left or front right."
   ]
  },
  {
   "cell_type": "code",
   "execution_count": 4,
   "metadata": {},
   "outputs": [],
   "source": [
    "robot1 = Scribbler(x=150, y=100, a=35, color=\"red\", name=\"red\")\n",
    "robot1.add_device(RangeSensor(position=(6,-6),width=57.3,max=20,name=\"left-ir\"))\n",
    "robot1.add_device(RangeSensor(position=(6,6),width=57.3,max=20,name=\"right-ir\"))\n",
    "world.add_robot(robot1)"
   ]
  },
  {
   "cell_type": "markdown",
   "metadata": {},
   "source": [
    "### Pink robot has smell sensors and a camera\n",
    "\n",
    "The pink robot uses smell sensors to find food. It also has a camera which can see the features of the world. It can turn towards food sensed to either the left or right."
   ]
  },
  {
   "cell_type": "code",
   "execution_count": 5,
   "metadata": {},
   "outputs": [],
   "source": [
    "robot2 = Scribbler(x=40, y=130, a=75, color=\"pink\", name=\"pink\")\n",
    "robot2.state[\"timer\"] = 0 #use state variable to repeatedly reverse\n",
    "robot2.add_device(Camera())\n",
    "robot2.add_device(SmellSensor(position=(6,-6),name=\"left-smell\"))\n",
    "robot2.add_device(SmellSensor(position=(6,6),name=\"right-smell\"))\n",
    "world.add_robot(robot2)"
   ]
  },
  {
   "cell_type": "markdown",
   "metadata": {},
   "source": [
    "### Yellow robot uses light sensors\n",
    "\n",
    "The yellow robot uses light sensors to find a light source. It can turn towards light sensed to either the left or right."
   ]
  },
  {
   "cell_type": "code",
   "execution_count": 6,
   "metadata": {},
   "outputs": [],
   "source": [
    "robot3 = Scribbler(x=60, y=30, a=0, color=\"yellow\", name=\"yellow\")\n",
    "robot3.add_device(LightSensor(position=(6,-6), name=\"left-light\"))\n",
    "robot3.add_device(LightSensor(position=(6,6), name=\"right-light\"))\n",
    "world.add_robot(robot3)"
   ]
  },
  {
   "cell_type": "code",
   "execution_count": 7,
   "metadata": {},
   "outputs": [
    {
     "data": {
      "application/vnd.jupyter.widget-view+json": {
       "model_id": "6eea48205a3147c9ac856a0593f3cabe",
       "version_major": 2,
       "version_minor": 0
      },
      "text/plain": [
       "Image(value=b'\\xff\\xd8\\xff\\xe0\\x00\\x10JFIF\\x00\\x01\\x01\\x00\\x00\\x01\\x00\\x01\\x00\\x00\\xff\\xdb\\x00C\\x00\\x08\\x06\\x0…"
      ]
     },
     "metadata": {},
     "output_type": "display_data"
    }
   ],
   "source": [
    "world.watch(width=\"700px\")"
   ]
  },
  {
   "cell_type": "code",
   "execution_count": 8,
   "metadata": {},
   "outputs": [
    {
     "data": {
      "application/vnd.jupyter.widget-view+json": {
       "model_id": "1732addb70f04de5a163e2dababf8571",
       "version_major": 2,
       "version_minor": 0
      },
      "text/plain": [
       "HTML(value='<style>img.pixelated {image-rendering: pixelated;}</style>')"
      ]
     },
     "metadata": {},
     "output_type": "display_data"
    },
    {
     "data": {
      "application/vnd.jupyter.widget-view+json": {
       "model_id": "3c5f0c09a9944038af00230ab4bc1503",
       "version_major": 2,
       "version_minor": 0
      },
      "text/plain": [
       "HTML(value='<style>img.pixelated {image-rendering: pixelated;}</style>')"
      ]
     },
     "metadata": {},
     "output_type": "display_data"
    },
    {
     "data": {
      "application/vnd.jupyter.widget-view+json": {
       "model_id": "cb023597fc8146feba47060a55305446",
       "version_major": 2,
       "version_minor": 0
      },
      "text/plain": [
       "HTML(value='<style>img.pixelated {image-rendering: pixelated;}</style>')"
      ]
     },
     "metadata": {},
     "output_type": "display_data"
    },
    {
     "data": {
      "application/vnd.jupyter.widget-view+json": {
       "model_id": "8dc29a76f3cb498995625deed9b6a272",
       "version_major": 2,
       "version_minor": 0
      },
      "text/plain": [
       "Image(value=b'\\x89PNG\\r\\n\\x1a\\n\\x00\\x00\\x00\\rIHDR\\x00\\x00\\x00@\\x00\\x00\\x00 \\x08\\x06\\x00\\x00\\x00\\xa2\\x9d~\\x84\\x…"
      ]
     },
     "metadata": {},
     "output_type": "display_data"
    }
   ],
   "source": [
    "robot2['camera'].watch()"
   ]
  },
  {
   "cell_type": "code",
   "execution_count": 9,
   "metadata": {},
   "outputs": [],
   "source": [
    "from random import random"
   ]
  },
  {
   "cell_type": "markdown",
   "metadata": {},
   "source": [
    "### Red robot's controller wanders\n",
    "\n",
    "The red robot wanders around the world avoiding obstacles it encounters. It always moves forward, but chooses random rotation amounts when its front range sensors are clear."
   ]
  },
  {
   "cell_type": "code",
   "execution_count": 10,
   "metadata": {},
   "outputs": [],
   "source": [
    "def wander_ir(robot):\n",
    "    max_val = robot[\"left-ir\"].get_max()\n",
    "    if robot[\"left-ir\"].get_distance() < max_val:\n",
    "        robot.move(0.1, -0.3)\n",
    "    elif robot[\"right-ir\"].get_distance() < max_val:\n",
    "        robot.move(0.1, 0.3)\n",
    "    else:\n",
    "        robot.move(1, random()-0.5)"
   ]
  },
  {
   "cell_type": "markdown",
   "metadata": {},
   "source": [
    "### Pink robot's controller wanders\n",
    "\n",
    "The pink robot wanders around the world searching for food and avoiding obstacles by reversing when stalled.  It uses a state variable called *timer* to ensure that even in the presence of an odor it always takes at least five reverse steps when it encounters an obstacle. If it gets close enough to food, it tries to eat it, and if successful ends the run by returning True. Occasionally it chooses a new random wandering motion.  If none of its test cases are triggered, it repeats the previous motion. "
   ]
  },
  {
   "cell_type": "code",
   "execution_count": 11,
   "metadata": {},
   "outputs": [],
   "source": [
    "def search_food(robot):\n",
    "    left_smell = robot[\"left-smell\"].get_reading()\n",
    "    right_smell = robot[\"right-smell\"].get_reading()\n",
    "    diff = left_smell - right_smell\n",
    "    if left_smell+right_smell>1.95 and robot.eat():\n",
    "        robot.move(0,0)\n",
    "        robot.speak(\"ate food!\")\n",
    "        return True\n",
    "    if robot.state[\"timer\"] > 5:\n",
    "        robot.state[\"timer\"] = 0\n",
    "    if robot.stalled:\n",
    "        robot.state[\"timer\"] = 1\n",
    "        robot.reverse()\n",
    "    elif robot.state[\"timer\"] > 0:\n",
    "        robot.state[\"timer\"] += 1\n",
    "    elif diff > 0.03:\n",
    "        robot.move(1, 0.3)\n",
    "    elif diff < -0.03:\n",
    "        robot.move(1, -0.3)\n",
    "    elif world.time%2 == 0:\n",
    "        robot.move(1.0, random()*0.5-0.25)\n",
    "    else:\n",
    "        pass #continue doing previous action"
   ]
  },
  {
   "cell_type": "markdown",
   "metadata": {},
   "source": [
    "### Yellow robot's controller seeks light\n",
    "\n",
    "The yellow robot's goal is to find and approach a light source.  When no light is sensed, the robot wanders. When it senses more light to one side it turns towards the light. If the robot is stalled, it reverses its motion. It occasionally generates a new random wandering motion. When none of the tests are triggered, the robot will continue doing the previous movement. When it's light readings exceed a threshold it stops and reports that it has found the light. By returning True it ends the run. "
   ]
  },
  {
   "cell_type": "code",
   "execution_count": 12,
   "metadata": {},
   "outputs": [],
   "source": [
    "def search_light(robot):\n",
    "    left_light = robot[\"left-light\"].get_brightness()\n",
    "    right_light = robot[\"right-light\"].get_brightness()\n",
    "    diff = left_light - right_light\n",
    "    if left_light + right_light > 1.9:\n",
    "        robot.move(0,0)\n",
    "        robot.speak(\"found light!\")\n",
    "        return True\n",
    "    if robot.stalled:\n",
    "        robot.reverse()\n",
    "    elif diff > 0.01:\n",
    "        robot.move(1,0.5)\n",
    "    elif diff < -0.01:\n",
    "        robot.move(1,-0.5)   \n",
    "    elif world.time%2 == 0:\n",
    "        robot.move(1.0, random()*0.5-0.25)\n",
    "    else:\n",
    "        pass #continue doing previous action"
   ]
  },
  {
   "cell_type": "code",
   "execution_count": 13,
   "metadata": {},
   "outputs": [
    {
     "name": "stdout",
     "output_type": "stream",
     "text": [
      "Using random seed: 1045659\n",
      "Using random seed: 0.8310109303846899\n"
     ]
    },
    {
     "data": {
      "application/json": {
       "ascii": false,
       "bar_format": null,
       "colour": null,
       "elapsed": 0.009370565414428711,
       "initial": 0,
       "n": 0,
       "ncols": null,
       "nrows": 72,
       "postfix": null,
       "prefix": "",
       "rate": null,
       "total": 400,
       "unit": "it",
       "unit_divisor": 1000,
       "unit_scale": false
      },
      "application/vnd.jupyter.widget-view+json": {
       "model_id": "c16413c2e5b143748b0a5d41c1bffc11",
       "version_major": 2,
       "version_minor": 0
      },
      "text/plain": [
       "  0%|          | 0/400 [00:00<?, ?it/s]"
      ]
     },
     "metadata": {},
     "output_type": "display_data"
    },
    {
     "name": "stdout",
     "output_type": "stream",
     "text": [
      "Simulation stopped at: 00:00:06.50; speed 0.97 x real time\n"
     ]
    }
   ],
   "source": [
    "world.reset()\n",
    "robot2.state[\"timer\"] = 0 #reset the state variable\n",
    "world.set_seed(random())\n",
    "world.seconds(40,[wander_ir,search_food,search_light],real_time=True)"
   ]
  }
 ],
 "metadata": {
  "jupytext": {
   "formats": "ipynb,md"
  },
  "kernelspec": {
   "display_name": "Python 3 (ipykernel)",
   "language": "python",
   "name": "python3"
  },
  "language_info": {
   "codemirror_mode": {
    "name": "ipython",
    "version": 3
   },
   "file_extension": ".py",
   "mimetype": "text/x-python",
   "name": "python",
   "nbconvert_exporter": "python",
   "pygments_lexer": "ipython3",
   "version": "3.10.12"
  },
  "widgets": {
   "application/vnd.jupyter.widget-state+json": {
    "state": {},
    "version_major": 2,
    "version_minor": 0
   }
  }
 },
 "nbformat": 4,
 "nbformat_minor": 4
}
