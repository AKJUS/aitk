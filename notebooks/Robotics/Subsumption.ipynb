{
 "cells": [
  {
   "cell_type": "markdown",
   "id": "ab8a09e0",
   "metadata": {
    "id": "ab8a09e0"
   },
   "source": [
    "<a target=\"_blank\" href=\"https://colab.research.google.com/github/ArtificialIntelligenceToolkit/aitk/blob/master/notebooks/Robotics/Subsumption.ipynb\"><img src=\"https://colab.research.google.com/assets/colab-badge.svg\" alt=\"Open In Colab\"/></a>"
   ]
  },
  {
   "cell_type": "code",
   "execution_count": 1,
   "id": "1e63bb3e",
   "metadata": {
    "id": "1e63bb3e"
   },
   "outputs": [],
   "source": [
    "%pip install aitk --upgrade --quiet"
   ]
  },
  {
   "cell_type": "markdown",
   "id": "3756de1d",
   "metadata": {
    "id": "3756de1d"
   },
   "source": [
    "# Subsumption Architecture\n",
    "\n",
    "This notebook defines several Python classes that allow you to simulate the Subsumption Architecture, a robot control framework first described by Rodney Brooks.\n",
    "\n",
    "The Sumbumption Architecture is based on a hierarchical set of layers. Each layer focuses on the relevant sensors for its task and commands the actuators needed to achieve its goal. Each layer competes to control the robot at any given time step, and the one with the highest priority is given control, subsuming control from all lower layers. This framework is known for its real-time responsiveness, and can quickly adapt to changing conditions in the environment.\n",
    "\n",
    "In this notebook we will use Subsumption Architecture to control a robot with both light and range sensors, to wander its environment to find and approach a light source."
   ]
  },
  {
   "cell_type": "code",
   "execution_count": 2,
   "id": "d8a5ecee",
   "metadata": {
    "id": "d8a5ecee"
   },
   "outputs": [],
   "source": [
    "from aitk.robots import *"
   ]
  },
  {
   "cell_type": "code",
   "execution_count": 3,
   "id": "464be59e",
   "metadata": {
    "id": "464be59e"
   },
   "outputs": [],
   "source": [
    "import random"
   ]
  },
  {
   "cell_type": "markdown",
   "id": "Zn4l_90tOPb_",
   "metadata": {
    "id": "Zn4l_90tOPb_"
   },
   "source": [
    "## Defining the Behavior class\n",
    "\n",
    "Each layer of the architecture is known as a *behavior*."
   ]
  },
  {
   "cell_type": "code",
   "execution_count": 4,
   "id": "529c684d",
   "metadata": {
    "id": "529c684d"
   },
   "outputs": [],
   "source": [
    "class SubsumptionBehavior(object):\n",
    "    \"\"\"\n",
    "    Each subsumption behavior maintains it's own desired actuator values.\n",
    "    Each behavior also maintains a flag. When this flag is True,\n",
    "    the behavior wants to respond to the current situation. However, only\n",
    "    the actuator values of the highest priority behavior will control the\n",
    "    robot.\n",
    "\n",
    "    The move method updates translate, rotate, and flag.\n",
    "    The controller's add method updates robot and controller.\n",
    "    \"\"\"\n",
    "    def __init__(self):\n",
    "        self.translate = 0\n",
    "        self.rotate = 0\n",
    "        self.flag = False\n",
    "        self.robot = None\n",
    "        self.controller = None\n",
    "\n",
    "    def set_robot(self, robot):\n",
    "        self.robot = robot\n",
    "\n",
    "    def set_controller(self, controller):\n",
    "        self.controller = controller\n",
    "\n",
    "    def move(self, translate, rotate):\n",
    "        self.flag = True\n",
    "        self.translate = translate\n",
    "        self.rotate = rotate\n",
    "\n",
    "    def update(self):\n",
    "        \"\"\"\n",
    "        Each behavior overrides this method to check whether it wants to control\n",
    "        the robot in the current situation.\n",
    "        \"\"\"\n",
    "        pass"
   ]
  },
  {
   "cell_type": "markdown",
   "id": "KhhwtbGGOgzG",
   "metadata": {
    "id": "KhhwtbGGOgzG"
   },
   "source": [
    "## Defining the Subsumption Controller\n",
    "\n",
    "A controller is a collection of behaviors which must be added from lowest to highest priority."
   ]
  },
  {
   "cell_type": "code",
   "execution_count": 5,
   "id": "e10adb32",
   "metadata": {
    "id": "e10adb32"
   },
   "outputs": [],
   "source": [
    "class SubsumptionController(object):\n",
    "    \"\"\"\n",
    "    A SubsumptionBrain maintains a list of behaviors from lowest to\n",
    "    highest priority.  On each time step, it determines the highest\n",
    "    level behavior that wants to respond, and allows it to control the\n",
    "    robot.\n",
    "    \"\"\"\n",
    "    def __init__(self, robot):\n",
    "        self.behaviors = []\n",
    "        self.robot = robot\n",
    "        self.prev_behavior = None\n",
    "        self.robot.state[\"timer\"] = 0\n",
    "        self.done = False\n",
    "\n",
    "    def reset(self):\n",
    "        \"\"\"\n",
    "        Reset key variables prior to each new run\n",
    "        \"\"\"\n",
    "        self.prev_behavior = None\n",
    "        self.robot.state[\"timer\"] = 0\n",
    "        self.done = False\n",
    "\n",
    "    def add(self, behavior):\n",
    "        \"\"\"\n",
    "        Adds a behavior to the list of behaviors.\n",
    "        \"\"\"\n",
    "        behavior.set_robot(self.robot)\n",
    "        behavior.set_controller(self)\n",
    "        self.behaviors.append(behavior)\n",
    "\n",
    "    def step(self):\n",
    "        \"\"\"\n",
    "        This method is called on every time step and determines the\n",
    "        robot's action.\n",
    "        \"\"\"\n",
    "        b = self.update_all()\n",
    "        # check whether any of the behaviors have achieved the goal\n",
    "        if self.done:\n",
    "            self.robot.speak(\"Goal achieved!\")\n",
    "            return True\n",
    "        curr_behavior = self.behaviors[b].__class__.__name__\n",
    "        if curr_behavior != self.prev_behavior:\n",
    "            self.robot.speak(curr_behavior)\n",
    "            #print(curr_behavior, end=\" \")\n",
    "            self.prev_behavior = curr_behavior\n",
    "        self.robot.move(self.behaviors[b].translate,self.behaviors[b].rotate)\n",
    "\n",
    "    def update_all(self):\n",
    "        \"\"\"\n",
    "        Returns the index of the highest priority behavior that wants\n",
    "        to control the robot in the current situation.\n",
    "        \"\"\"\n",
    "        # for all except lowest\n",
    "        for b in range(len(self.behaviors) - 1, 0, -1):\n",
    "            self.behaviors[b].flag = False\n",
    "            self.behaviors[b].update()\n",
    "            # if it fired, return number\n",
    "            if self.behaviors[b].flag:\n",
    "                return b\n",
    "        # if none of the higher priority behaviors fired, return lowest\n",
    "        self.behaviors[0].update()\n",
    "        return 0\n"
   ]
  },
  {
   "cell_type": "markdown",
   "id": "26b7de27",
   "metadata": {
    "id": "26b7de27"
   },
   "source": [
    "## Example: Find light\n",
    "\n",
    "Here we implement several behaviors that when used together allow a robot to find a bulb in various worlds where the light is hidden behind walls."
   ]
  },
  {
   "cell_type": "markdown",
   "id": "uJD3vydYPgqr",
   "metadata": {
    "id": "uJD3vydYPgqr"
   },
   "source": [
    "### Wander behavior\n",
    "\n",
    "The Wander behavior is the lowest priority behavior and will run by default when no other behavior is relevant. It simply moves forward with a small random rotation."
   ]
  },
  {
   "cell_type": "code",
   "execution_count": 6,
   "id": "0dd195b3",
   "metadata": {
    "id": "0dd195b3"
   },
   "outputs": [],
   "source": [
    "class Wander(SubsumptionBehavior):\n",
    "    \"\"\"\n",
    "    Moves forward and randomly chooses a small rotation amount.\n",
    "    \"\"\"\n",
    "    def update(self):\n",
    "        self.move(.75, random.random() - 0.5)\n"
   ]
  },
  {
   "cell_type": "markdown",
   "id": "ANdqBDMTP1mN",
   "metadata": {
    "id": "ANdqBDMTP1mN"
   },
   "source": [
    "### SeekLight behavior\n",
    "\n",
    "The SeekLight behavior checks both its left and right light sensors, and if they are sensing some light it moves the robot in the direction where it is sensing more light."
   ]
  },
  {
   "cell_type": "code",
   "execution_count": 7,
   "id": "1638cc80",
   "metadata": {
    "id": "1638cc80"
   },
   "outputs": [],
   "source": [
    "class SeekLight(SubsumptionBehavior):\n",
    "    \"\"\"\n",
    "    When light is sensed, moves forward slowly while turning towards\n",
    "    the side which is sensing more light.\n",
    "    \"\"\"\n",
    "    def update(self):\n",
    "        left_light = self.robot[\"left-light\"].get_brightness()\n",
    "        right_light = self.robot[\"right-light\"].get_brightness()\n",
    "        diff_light = left_light - right_light\n",
    "        if  max(left_light, right_light) > 0.0 and abs(diff_light) > 0.02:\n",
    "            if diff_light < 0:\n",
    "                # light stronger to right\n",
    "                self.move(0.2, -0.1)\n",
    "            else:\n",
    "                # light stronger to left\n",
    "                self.move(0.2, 0.1)"
   ]
  },
  {
   "cell_type": "markdown",
   "id": "BjDQxoh8QNwV",
   "metadata": {
    "id": "BjDQxoh8QNwV"
   },
   "source": [
    "### Avoid behavior\n",
    "\n",
    "The Avoid behavior checks the range sensors to determine the robot is too close to any obstacles, and moves the robot away from the closest obstacle."
   ]
  },
  {
   "cell_type": "code",
   "execution_count": 8,
   "id": "0970e4a7",
   "metadata": {
    "id": "0970e4a7"
   },
   "outputs": [],
   "source": [
    "class Avoid(SubsumptionBehavior):\n",
    "    \"\"\"\n",
    "    Turns away from obstacles. Uses a timer to repeatedly turn in the same direction\n",
    "    to alleviate dithering in corners.\n",
    "    \"\"\"\n",
    "    def update(self):\n",
    "        left_ir = self.robot[\"left-ir\"].get_distance()\n",
    "        right_ir = self.robot[\"right-ir\"].get_distance()\n",
    "        if self.robot.state[\"timer\"] > 0 or \\\n",
    "            left_ir < self.robot[\"left-ir\"].get_max() or \\\n",
    "            right_ir < self.robot[1].get_max():\n",
    "            if self.robot.state[\"timer\"] == 0:\n",
    "                self.robot.state[\"timer\"] += 1\n",
    "                if left_ir < right_ir:\n",
    "                    # obstacle closer on left, rotate right\n",
    "                    self.move(0.05, -0.4)\n",
    "                else:\n",
    "                    # obstacle closer on right, rotate left\n",
    "                    self.move(0.05, 0.4)\n",
    "            elif self.robot.state[\"timer\"] > 5:\n",
    "                self.robot.state[\"timer\"] = 0\n",
    "            else:\n",
    "                # otherwise continue turning in the same direction as before\n",
    "                self.robot.state[\"timer\"] += 1\n",
    "                self.move(self.translate, self.rotate)"
   ]
  },
  {
   "cell_type": "markdown",
   "id": "JY-agV1-Qh5t",
   "metadata": {
    "id": "JY-agV1-Qh5t"
   },
   "source": [
    "### FoundLight behavior\n",
    "\n",
    "The FoundLight behavior checks whether the robot's light sensors are nearly maxed out, indicating that the robot has found the light and can stop."
   ]
  },
  {
   "cell_type": "code",
   "execution_count": 9,
   "id": "c9387178",
   "metadata": {
    "id": "c9387178"
   },
   "outputs": [],
   "source": [
    "class FoundLight(SubsumptionBehavior):\n",
    "    \"\"\"\n",
    "    When the light sensed is above a certain threshold, stops the robot.\n",
    "    \"\"\"\n",
    "    def update(self):\n",
    "        left_light = self.robot[\"left-light\"].get_brightness()\n",
    "        right_light = self.robot[\"right-light\"].get_brightness()\n",
    "        total_light = left_light + right_light\n",
    "        if total_light > 1.95:\n",
    "            # goal achieved so tell controller to stop running\n",
    "            self.move(0, 0)\n",
    "            self.controller.done = True"
   ]
  },
  {
   "cell_type": "markdown",
   "id": "dLOkXnVrQuTe",
   "metadata": {
    "id": "dLOkXnVrQuTe"
   },
   "source": [
    "### Creating a World and a Robot\n",
    "\n",
    "Let's create a world with a light source that is partially enclosed within a set of blue walls. In order to discover the light source the robot will have to explore the world, avoiding obstaccles, until it happens to see some light, and can then approach the light and stop.\n",
    "\n",
    "The robot is equipped with two light sensors and two range sensors placed on both its left and right front corners."
   ]
  },
  {
   "cell_type": "code",
   "execution_count": 10,
   "id": "f442d0e2",
   "metadata": {
    "colab": {
     "base_uri": "https://localhost:8080/"
    },
    "id": "f442d0e2",
    "outputId": "8102be81-2824-4f84-ffbd-3cf8105c7f19"
   },
   "outputs": [
    {
     "name": "stdout",
     "output_type": "stream",
     "text": [
      "Random seed set to: 546831\n"
     ]
    }
   ],
   "source": [
    "world = World(width=200,height=200)\n",
    "world.add_wall(\"blue\", 50, 50, 60, 120)\n",
    "world.add_wall(\"blue\", 50, 40, 80, 50)\n",
    "world.add_wall(\"blue\", 140, 50, 150, 120)\n",
    "world.add_wall(\"blue\", 120, 40, 150, 50)\n",
    "world.add_wall(\"blue\", 50, 110, 150, 120)\n",
    "world.add_bulb(\"yellow\", 100, 90, 0, 50)\n",
    "robot = Scribbler(x=150,y=160,a=180)\n",
    "robot.add_device(RangeSensor(position=(6,-6),width=57.3,max=20,name=\"left-ir\"))\n",
    "robot.add_device(RangeSensor(position=(6,6),width=57.3,max=20,name=\"right-ir\"))\n",
    "robot.add_device(LightSensor(position=(6,-6),name=\"left-light\"))\n",
    "robot.add_device(LightSensor(position=(6,6),name=\"right-light\"))\n",
    "world.add_robot(robot)"
   ]
  },
  {
   "cell_type": "code",
   "execution_count": 11,
   "id": "8a415bbf",
   "metadata": {
    "colab": {
     "base_uri": "https://localhost:8080/",
     "height": 683,
     "referenced_widgets": [
      "b67600832c874ed6ab6adaa7f4ff7cdc",
      "89cdf99f70634d1fa369198f8e424e53"
     ]
    },
    "id": "8a415bbf",
    "outputId": "a522ceb6-7d6c-4502-85b2-e1e5ec7bb4c3"
   },
   "outputs": [
    {
     "data": {
      "application/vnd.jupyter.widget-view+json": {
       "model_id": "b67600832c874ed6ab6adaa7f4ff7cdc",
       "version_major": 2,
       "version_minor": 0
      },
      "text/plain": [
       "Image(value=b'\\xff\\xd8\\xff\\xe0\\x00\\x10JFIF\\x00\\x01\\x01\\x00\\x00\\x01\\x00\\x01\\x00\\x00\\xff\\xdb\\x00C\\x00\\x08\\x06\\x0…"
      ]
     },
     "metadata": {},
     "output_type": "display_data"
    }
   ],
   "source": [
    "world.watch()"
   ]
  },
  {
   "cell_type": "markdown",
   "id": "D7bCPrG7Rkr6",
   "metadata": {
    "id": "D7bCPrG7Rkr6"
   },
   "source": [
    "### Creating a subsumption controller\n",
    "\n",
    "Now we can create a subsumption-style controller for our robot. We will add the behaviors in from lowest to highest priorioty: Wander, SeekLight, Avoid, and FoundLight.\n",
    "\n",
    "Why does it make sense for the Avoid behavior to have a higher priority that the SeekLight one?"
   ]
  },
  {
   "cell_type": "code",
   "execution_count": 12,
   "id": "a192f829",
   "metadata": {
    "id": "a192f829"
   },
   "outputs": [],
   "source": [
    "subsumption = SubsumptionController(world.robots[0])"
   ]
  },
  {
   "cell_type": "code",
   "execution_count": 13,
   "id": "54468dc6",
   "metadata": {
    "id": "54468dc6"
   },
   "outputs": [],
   "source": [
    "# Uses 4 layered behaviors to find a light source, layers are added from lowest to highest priority\n",
    "\n",
    "# Layer 0: By default robot will wander, moving forward and choosing random rotations\n",
    "subsumption.add(Wander())\n",
    "\n",
    "# Layer 1: If light is detected, then turn towards it\n",
    "subsumption.add(SeekLight())\n",
    "\n",
    "# Layer 2: When an obstacle is encountered, turn away from it\n",
    "subsumption.add(Avoid())\n",
    "\n",
    "# Layer 3: When the light readings are high enough, stop\n",
    "subsumption.add(FoundLight())"
   ]
  },
  {
   "cell_type": "code",
   "execution_count": 14,
   "id": "ab0582ff",
   "metadata": {
    "id": "ab0582ff"
   },
   "outputs": [],
   "source": [
    "def controller(robot):\n",
    "    return subsumption.step()"
   ]
  },
  {
   "cell_type": "markdown",
   "id": "Qfk2aJfGSjPv",
   "metadata": {
    "id": "Qfk2aJfGSjPv"
   },
   "source": [
    "### Testing the Subsumption controller\n",
    "\n",
    "Feel free to rerun the code cell below as many times as you'd like. It will choose a random position for the robot in the world, reset the controller, and then allow the robot to try to find the light for at most two minutes of real time. \n",
    "\n",
    "NOTE: To watch the robot move, scroll back up to the world view.\n",
    "\n",
    "Occasionally the random pose might place the robot on top of or right next to a wall and the robot will get stuck. Simply rerun it again to get a different random pose."
   ]
  },
  {
   "cell_type": "code",
   "execution_count": 16,
   "id": "a05939d8",
   "metadata": {
    "colab": {
     "base_uri": "https://localhost:8080/",
     "height": 84,
     "referenced_widgets": [
      "77b4095511cc44518c0c1b8100b4f4c7",
      "ad3273d72e39453ab33818c19498f59b",
      "490280ef118040d5b1dc2b02b2ec9a0b",
      "77e2ca59a05840b5b47daf6409223070",
      "60c94398edf24ce8a8e01c91449e2d20",
      "c5156b91b0b24c6e9cd14a6b7abe63fb",
      "194dd0a1100d468ead7f71a909738172",
      "20a9766d4f3e419ea0a4373e31e069bc",
      "0ff6da33366641d9b6377e8a4c3a95f5",
      "807bfa476e95476587604314f5707cae",
      "2ff722bdce3b45cc98ef6e1230342a9b"
     ]
    },
    "id": "a05939d8",
    "outputId": "65fedd0b-3e25-4dd2-b1c2-6f01523a20b9"
   },
   "outputs": [
    {
     "data": {
      "application/vnd.jupyter.widget-view+json": {
       "model_id": "77b4095511cc44518c0c1b8100b4f4c7",
       "version_major": 2,
       "version_minor": 0
      },
      "text/plain": [
       "  0%|          | 0/1200 [00:00<?, ?it/s]"
      ]
     },
     "metadata": {},
     "output_type": "display_data"
    },
    {
     "name": "stdout",
     "output_type": "stream",
     "text": [
      "Simulation stopped at: 00:00:19.70; speed 0.98 x real time\n"
     ]
    },
    {
     "data": {
      "text/plain": [
       "True"
      ]
     },
     "execution_count": 16,
     "metadata": {},
     "output_type": "execute_result"
    }
   ],
   "source": [
    "world.reset()\n",
    "world.robots[0].set_random_pose()\n",
    "subsumption.robot.set_max_trace_length(120)\n",
    "subsumption.reset()\n",
    "world.seconds(120, [controller], real_time=True)"
   ]
  },
  {
   "cell_type": "code",
   "execution_count": 15,
   "id": "ff46216d",
   "metadata": {
    "id": "ff46216d"
   },
   "outputs": [],
   "source": []
  }
 ],
 "metadata": {
  "colab": {
   "provenance": [],
   "toc_visible": true
  },
  "kernelspec": {
   "display_name": "Python 3",
   "language": "python",
   "name": "python3"
  },
  "language_info": {
   "codemirror_mode": {
    "name": "ipython",
    "version": 3
   },
   "file_extension": ".py",
   "mimetype": "text/x-python",
   "name": "python",
   "nbconvert_exporter": "python",
   "pygments_lexer": "ipython3",
   "version": "3.10.12"
  },
  "widgets": {
   "application/vnd.jupyter.widget-state+json": {
    "0ff6da33366641d9b6377e8a4c3a95f5": {
     "model_module": "@jupyter-widgets/controls",
     "model_module_version": "1.5.0",
     "model_name": "ProgressStyleModel",
     "state": {
      "_model_module": "@jupyter-widgets/controls",
      "_model_module_version": "1.5.0",
      "_model_name": "ProgressStyleModel",
      "_view_count": null,
      "_view_module": "@jupyter-widgets/base",
      "_view_module_version": "1.2.0",
      "_view_name": "StyleView",
      "bar_color": null,
      "description_width": ""
     }
    },
    "194dd0a1100d468ead7f71a909738172": {
     "model_module": "@jupyter-widgets/controls",
     "model_module_version": "1.5.0",
     "model_name": "DescriptionStyleModel",
     "state": {
      "_model_module": "@jupyter-widgets/controls",
      "_model_module_version": "1.5.0",
      "_model_name": "DescriptionStyleModel",
      "_view_count": null,
      "_view_module": "@jupyter-widgets/base",
      "_view_module_version": "1.2.0",
      "_view_name": "StyleView",
      "description_width": ""
     }
    },
    "20a9766d4f3e419ea0a4373e31e069bc": {
     "model_module": "@jupyter-widgets/base",
     "model_module_version": "1.2.0",
     "model_name": "LayoutModel",
     "state": {
      "_model_module": "@jupyter-widgets/base",
      "_model_module_version": "1.2.0",
      "_model_name": "LayoutModel",
      "_view_count": null,
      "_view_module": "@jupyter-widgets/base",
      "_view_module_version": "1.2.0",
      "_view_name": "LayoutView",
      "align_content": null,
      "align_items": null,
      "align_self": null,
      "border": null,
      "bottom": null,
      "display": null,
      "flex": null,
      "flex_flow": null,
      "grid_area": null,
      "grid_auto_columns": null,
      "grid_auto_flow": null,
      "grid_auto_rows": null,
      "grid_column": null,
      "grid_gap": null,
      "grid_row": null,
      "grid_template_areas": null,
      "grid_template_columns": null,
      "grid_template_rows": null,
      "height": null,
      "justify_content": null,
      "justify_items": null,
      "left": null,
      "margin": null,
      "max_height": null,
      "max_width": null,
      "min_height": null,
      "min_width": null,
      "object_fit": null,
      "object_position": null,
      "order": null,
      "overflow": null,
      "overflow_x": null,
      "overflow_y": null,
      "padding": null,
      "right": null,
      "top": null,
      "visibility": null,
      "width": null
     }
    },
    "2ff722bdce3b45cc98ef6e1230342a9b": {
     "model_module": "@jupyter-widgets/controls",
     "model_module_version": "1.5.0",
     "model_name": "DescriptionStyleModel",
     "state": {
      "_model_module": "@jupyter-widgets/controls",
      "_model_module_version": "1.5.0",
      "_model_name": "DescriptionStyleModel",
      "_view_count": null,
      "_view_module": "@jupyter-widgets/base",
      "_view_module_version": "1.2.0",
      "_view_name": "StyleView",
      "description_width": ""
     }
    },
    "490280ef118040d5b1dc2b02b2ec9a0b": {
     "model_module": "@jupyter-widgets/controls",
     "model_module_version": "1.5.0",
     "model_name": "FloatProgressModel",
     "state": {
      "_dom_classes": [],
      "_model_module": "@jupyter-widgets/controls",
      "_model_module_version": "1.5.0",
      "_model_name": "FloatProgressModel",
      "_view_count": null,
      "_view_module": "@jupyter-widgets/controls",
      "_view_module_version": "1.5.0",
      "_view_name": "ProgressView",
      "bar_style": "danger",
      "description": "",
      "description_tooltip": null,
      "layout": "IPY_MODEL_20a9766d4f3e419ea0a4373e31e069bc",
      "max": 1200,
      "min": 0,
      "orientation": "horizontal",
      "style": "IPY_MODEL_0ff6da33366641d9b6377e8a4c3a95f5",
      "value": 197
     }
    },
    "60c94398edf24ce8a8e01c91449e2d20": {
     "model_module": "@jupyter-widgets/base",
     "model_module_version": "1.2.0",
     "model_name": "LayoutModel",
     "state": {
      "_model_module": "@jupyter-widgets/base",
      "_model_module_version": "1.2.0",
      "_model_name": "LayoutModel",
      "_view_count": null,
      "_view_module": "@jupyter-widgets/base",
      "_view_module_version": "1.2.0",
      "_view_name": "LayoutView",
      "align_content": null,
      "align_items": null,
      "align_self": null,
      "border": null,
      "bottom": null,
      "display": null,
      "flex": null,
      "flex_flow": null,
      "grid_area": null,
      "grid_auto_columns": null,
      "grid_auto_flow": null,
      "grid_auto_rows": null,
      "grid_column": null,
      "grid_gap": null,
      "grid_row": null,
      "grid_template_areas": null,
      "grid_template_columns": null,
      "grid_template_rows": null,
      "height": null,
      "justify_content": null,
      "justify_items": null,
      "left": null,
      "margin": null,
      "max_height": null,
      "max_width": null,
      "min_height": null,
      "min_width": null,
      "object_fit": null,
      "object_position": null,
      "order": null,
      "overflow": null,
      "overflow_x": null,
      "overflow_y": null,
      "padding": null,
      "right": null,
      "top": null,
      "visibility": null,
      "width": null
     }
    },
    "77b4095511cc44518c0c1b8100b4f4c7": {
     "model_module": "@jupyter-widgets/controls",
     "model_module_version": "1.5.0",
     "model_name": "HBoxModel",
     "state": {
      "_dom_classes": [],
      "_model_module": "@jupyter-widgets/controls",
      "_model_module_version": "1.5.0",
      "_model_name": "HBoxModel",
      "_view_count": null,
      "_view_module": "@jupyter-widgets/controls",
      "_view_module_version": "1.5.0",
      "_view_name": "HBoxView",
      "box_style": "",
      "children": [
       "IPY_MODEL_ad3273d72e39453ab33818c19498f59b",
       "IPY_MODEL_490280ef118040d5b1dc2b02b2ec9a0b",
       "IPY_MODEL_77e2ca59a05840b5b47daf6409223070"
      ],
      "layout": "IPY_MODEL_60c94398edf24ce8a8e01c91449e2d20"
     }
    },
    "77e2ca59a05840b5b47daf6409223070": {
     "model_module": "@jupyter-widgets/controls",
     "model_module_version": "1.5.0",
     "model_name": "HTMLModel",
     "state": {
      "_dom_classes": [],
      "_model_module": "@jupyter-widgets/controls",
      "_model_module_version": "1.5.0",
      "_model_name": "HTMLModel",
      "_view_count": null,
      "_view_module": "@jupyter-widgets/controls",
      "_view_module_version": "1.5.0",
      "_view_name": "HTMLView",
      "description": "",
      "description_tooltip": null,
      "layout": "IPY_MODEL_807bfa476e95476587604314f5707cae",
      "placeholder": "​",
      "style": "IPY_MODEL_2ff722bdce3b45cc98ef6e1230342a9b",
      "value": " 197/1200 [00:20&lt;01:41,  9.87it/s]"
     }
    },
    "807bfa476e95476587604314f5707cae": {
     "model_module": "@jupyter-widgets/base",
     "model_module_version": "1.2.0",
     "model_name": "LayoutModel",
     "state": {
      "_model_module": "@jupyter-widgets/base",
      "_model_module_version": "1.2.0",
      "_model_name": "LayoutModel",
      "_view_count": null,
      "_view_module": "@jupyter-widgets/base",
      "_view_module_version": "1.2.0",
      "_view_name": "LayoutView",
      "align_content": null,
      "align_items": null,
      "align_self": null,
      "border": null,
      "bottom": null,
      "display": null,
      "flex": null,
      "flex_flow": null,
      "grid_area": null,
      "grid_auto_columns": null,
      "grid_auto_flow": null,
      "grid_auto_rows": null,
      "grid_column": null,
      "grid_gap": null,
      "grid_row": null,
      "grid_template_areas": null,
      "grid_template_columns": null,
      "grid_template_rows": null,
      "height": null,
      "justify_content": null,
      "justify_items": null,
      "left": null,
      "margin": null,
      "max_height": null,
      "max_width": null,
      "min_height": null,
      "min_width": null,
      "object_fit": null,
      "object_position": null,
      "order": null,
      "overflow": null,
      "overflow_x": null,
      "overflow_y": null,
      "padding": null,
      "right": null,
      "top": null,
      "visibility": null,
      "width": null
     }
    },
    "89cdf99f70634d1fa369198f8e424e53": {
     "model_module": "@jupyter-widgets/base",
     "model_module_version": "1.2.0",
     "model_name": "LayoutModel",
     "state": {
      "_model_module": "@jupyter-widgets/base",
      "_model_module_version": "1.2.0",
      "_model_name": "LayoutModel",
      "_view_count": null,
      "_view_module": "@jupyter-widgets/base",
      "_view_module_version": "1.2.0",
      "_view_name": "LayoutView",
      "align_content": null,
      "align_items": null,
      "align_self": null,
      "border": "10px solid rgb(0 177 255)",
      "bottom": null,
      "display": null,
      "flex": null,
      "flex_flow": null,
      "grid_area": null,
      "grid_auto_columns": null,
      "grid_auto_flow": null,
      "grid_auto_rows": null,
      "grid_column": null,
      "grid_gap": null,
      "grid_row": null,
      "grid_template_areas": null,
      "grid_template_columns": null,
      "grid_template_rows": null,
      "height": null,
      "justify_content": null,
      "justify_items": null,
      "left": null,
      "margin": "auto",
      "max_height": null,
      "max_width": null,
      "min_height": null,
      "min_width": null,
      "object_fit": null,
      "object_position": null,
      "order": null,
      "overflow": null,
      "overflow_x": null,
      "overflow_y": null,
      "padding": null,
      "right": null,
      "top": null,
      "visibility": null,
      "width": null
     }
    },
    "ad3273d72e39453ab33818c19498f59b": {
     "model_module": "@jupyter-widgets/controls",
     "model_module_version": "1.5.0",
     "model_name": "HTMLModel",
     "state": {
      "_dom_classes": [],
      "_model_module": "@jupyter-widgets/controls",
      "_model_module_version": "1.5.0",
      "_model_name": "HTMLModel",
      "_view_count": null,
      "_view_module": "@jupyter-widgets/controls",
      "_view_module_version": "1.5.0",
      "_view_name": "HTMLView",
      "description": "",
      "description_tooltip": null,
      "layout": "IPY_MODEL_c5156b91b0b24c6e9cd14a6b7abe63fb",
      "placeholder": "​",
      "style": "IPY_MODEL_194dd0a1100d468ead7f71a909738172",
      "value": " 16%"
     }
    },
    "b67600832c874ed6ab6adaa7f4ff7cdc": {
     "model_module": "@jupyter-widgets/controls",
     "model_module_version": "1.5.0",
     "model_name": "ImageModel",
     "state": {
      "_dom_classes": [],
      "_model_module": "@jupyter-widgets/controls",
      "_model_module_version": "1.5.0",
      "_model_name": "ImageModel",
      "_view_count": null,
      "_view_module": "@jupyter-widgets/controls",
      "_view_module_version": "1.5.0",
      "_view_name": "ImageView",
      "format": "png",
      "height": "",
      "layout": "IPY_MODEL_89cdf99f70634d1fa369198f8e424e53",
      "width": ""
     }
    },
    "c5156b91b0b24c6e9cd14a6b7abe63fb": {
     "model_module": "@jupyter-widgets/base",
     "model_module_version": "1.2.0",
     "model_name": "LayoutModel",
     "state": {
      "_model_module": "@jupyter-widgets/base",
      "_model_module_version": "1.2.0",
      "_model_name": "LayoutModel",
      "_view_count": null,
      "_view_module": "@jupyter-widgets/base",
      "_view_module_version": "1.2.0",
      "_view_name": "LayoutView",
      "align_content": null,
      "align_items": null,
      "align_self": null,
      "border": null,
      "bottom": null,
      "display": null,
      "flex": null,
      "flex_flow": null,
      "grid_area": null,
      "grid_auto_columns": null,
      "grid_auto_flow": null,
      "grid_auto_rows": null,
      "grid_column": null,
      "grid_gap": null,
      "grid_row": null,
      "grid_template_areas": null,
      "grid_template_columns": null,
      "grid_template_rows": null,
      "height": null,
      "justify_content": null,
      "justify_items": null,
      "left": null,
      "margin": null,
      "max_height": null,
      "max_width": null,
      "min_height": null,
      "min_width": null,
      "object_fit": null,
      "object_position": null,
      "order": null,
      "overflow": null,
      "overflow_x": null,
      "overflow_y": null,
      "padding": null,
      "right": null,
      "top": null,
      "visibility": null,
      "width": null
     }
    }
   }
  }
 },
 "nbformat": 4,
 "nbformat_minor": 5
}
