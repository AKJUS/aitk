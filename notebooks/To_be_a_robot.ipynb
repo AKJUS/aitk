{
 "cells": [
  {
   "cell_type": "markdown",
   "metadata": {},
   "source": [
    "# Computational Essays in Artificial Intelligence"
   ]
  },
  {
   "cell_type": "markdown",
   "metadata": {},
   "source": [
    "## What is it like to be a robot?"
   ]
  },
  {
   "cell_type": "markdown",
   "metadata": {},
   "source": [
    "Philosopher Thomas Nagel famously asked \"What is it like to be a bat?\" in his 1974 paper of the same name.  Nagel argued that one might try to imagine what being a bat would be like, but without inhabiting its body and experiencing the world as it does through echolocation, we can't *really* know what it is like to be a bat.  \n",
    "\n",
    "German biologist Jakob Von Uexk&uuml;ll developed the term *umwelt* to capture the idea of how the world is experienced by a particular organism.  When translated from German this equates to \"self-centered world\". For a dog the world is dominated by smell, whereas for most humans the world is experienced primarily through vision. \n",
    "\n",
    "Here we will explore a robot's umwelt, and try to imagine what is it like to be a robot. We will use a robot with both range sensors and a camera."
   ]
  },
  {
   "cell_type": "markdown",
   "metadata": {},
   "source": [
    "## 1. Setup"
   ]
  },
  {
   "cell_type": "code",
   "execution_count": 1,
   "metadata": {},
   "outputs": [
    {
     "data": {
      "text/plain": [
       "'0.9.32'"
      ]
     },
     "execution_count": 1,
     "metadata": {},
     "output_type": "execute_result"
    }
   ],
   "source": [
    "from aitk.robots import World, Scribbler, RangeSensor, Camera, __version__\n",
    "__version__"
   ]
  },
  {
   "cell_type": "markdown",
   "metadata": {},
   "source": [
    "Let's create a world with several uniquely colored rooms along a long corridor for our robot to explore."
   ]
  },
  {
   "cell_type": "code",
   "execution_count": 2,
   "metadata": {},
   "outputs": [
    {
     "name": "stdout",
     "output_type": "stream",
     "text": [
      "Random seed set to: 1496211\n"
     ]
    }
   ],
   "source": [
    "world = World(width=300, height=200)\n",
    "world.add_wall(\"orange\",50,75,150,85)\n",
    "world.add_wall(\"yellow\",150,75,250,85)\n",
    "world.add_wall(\"orange\",145,0,150,75)\n",
    "world.add_wall(\"yellow\",150,0,155,75)\n",
    "world.add_wall(\"red\",0,125,165,135)\n",
    "world.add_wall(\"red\",220,125,225,200)\n",
    "world.add_wall(\"blue\",225,125,230,200)\n",
    "world.add_wall(\"pink\",155,0,185,30)\n",
    "robot = Scribbler(x=30, y=30, a=-100, max_trace_length=600)\n",
    "robot.add_device(RangeSensor(position=(6,-6),width=57.3,max=20,a=0,name=\"left-ir\"))\n",
    "robot.add_device(RangeSensor(position=(6,6),width=57.3,max=20,a=0,name=\"right-ir\"))\n",
    "robot.add_device(Camera(width=64,height=32))\n",
    "world.add_robot(robot)"
   ]
  },
  {
   "cell_type": "markdown",
   "metadata": {},
   "source": [
    "## 2. Distal vs proximal perspectives\n",
    "\n",
    "Let's watch the world from a bird's-eye view as the robot moves around.  This gives us a *distal* perspective on the world.  We are not experiencing the world as the robot does, but instead have a top-down global view of what is happening. \n",
    "\n",
    "Notice that there is a pink box located in the yellow room. Later we will be trying to find this box."
   ]
  },
  {
   "cell_type": "code",
   "execution_count": 3,
   "metadata": {
    "tags": []
   },
   "outputs": [
    {
     "data": {
      "application/vnd.jupyter.widget-view+json": {
       "model_id": "e1605b67e9244110aa07417845954bc7",
       "version_major": 2,
       "version_minor": 0
      },
      "text/plain": [
       "Image(value=b'\\xff\\xd8\\xff\\xe0\\x00\\x10JFIF\\x00\\x01\\x01\\x00\\x00\\x01\\x00\\x01\\x00\\x00\\xff\\xdb\\x00C\\x00\\x08\\x06\\x0…"
      ]
     },
     "metadata": {},
     "output_type": "display_data"
    }
   ],
   "source": [
    "world.watch()"
   ]
  },
  {
   "cell_type": "markdown",
   "metadata": {},
   "source": [
    "At the same time let's watch how the robot is experiencing the world through it's camera.  This gives us a *proximal* perspective on the world, from the agent's point of view.  "
   ]
  },
  {
   "cell_type": "code",
   "execution_count": 4,
   "metadata": {},
   "outputs": [
    {
     "data": {
      "application/vnd.jupyter.widget-view+json": {
       "model_id": "5acb85cd42c643d597920ac1b4937b91",
       "version_major": 2,
       "version_minor": 0
      },
      "text/plain": [
       "HTML(value='<style>img.pixelated {image-rendering: pixelated;}</style>')"
      ]
     },
     "metadata": {},
     "output_type": "display_data"
    },
    {
     "data": {
      "application/vnd.jupyter.widget-view+json": {
       "model_id": "cd88b9ebb25b4f3084776f1a785d15ac",
       "version_major": 2,
       "version_minor": 0
      },
      "text/plain": [
       "HTML(value='<style>img.pixelated {image-rendering: pixelated;}</style>')"
      ]
     },
     "metadata": {},
     "output_type": "display_data"
    },
    {
     "data": {
      "application/vnd.jupyter.widget-view+json": {
       "model_id": "838d165b3b864a719e3a83c32aaa4325",
       "version_major": 2,
       "version_minor": 0
      },
      "text/plain": [
       "HTML(value='<style>img.pixelated {image-rendering: pixelated;}</style>')"
      ]
     },
     "metadata": {},
     "output_type": "display_data"
    },
    {
     "data": {
      "application/vnd.jupyter.widget-view+json": {
       "model_id": "9c66a405f4aa4b998ce019a8e3c58f21",
       "version_major": 2,
       "version_minor": 0
      },
      "text/plain": [
       "Image(value=b'\\x89PNG\\r\\n\\x1a\\n\\x00\\x00\\x00\\rIHDR\\x00\\x00\\x00@\\x00\\x00\\x00 \\x08\\x06\\x00\\x00\\x00\\xa2\\x9d~\\x84\\x…"
      ]
     },
     "metadata": {},
     "output_type": "display_data"
    }
   ],
   "source": [
    "robot[\"camera\"].watch(width=\"500px\")"
   ]
  },
  {
   "cell_type": "markdown",
   "metadata": {},
   "source": [
    "## 3. Navigating through the world\n",
    "\n",
    "Below is a simple controller that tries to keep moving forward while avoiding any obstacles that it encounters.  It is only using the robot's range sensors to make navigation decisions. "
   ]
  },
  {
   "cell_type": "code",
   "execution_count": 5,
   "metadata": {},
   "outputs": [],
   "source": [
    "robot.state[\"timer\"] = 0\n",
    "\n",
    "def avoid(robot):\n",
    "    left = robot[0].get_distance()\n",
    "    right = robot[1].get_distance()\n",
    "    if left == robot[0].get_max() and right == robot[1].get_max() and \\\n",
    "        robot.state[\"timer\"] == 0:\n",
    "        robot.move(0.5, 0)\n",
    "    elif robot.state[\"timer\"] > 0 and robot.state[\"timer\"] < 5:\n",
    "        robot.state[\"timer\"] += 1\n",
    "    elif left < robot[0].get_max():\n",
    "        robot.move(0.1, -0.3)\n",
    "        robot.state[\"timer\"] = 1\n",
    "    elif right < robot[1].get_max():\n",
    "        robot.move(0.1, 0.3)\n",
    "        robot.state[\"timer\"] = 1\n",
    "    else:\n",
    "        robot.state[\"timer\"] = 0"
   ]
  },
  {
   "cell_type": "markdown",
   "metadata": {},
   "source": [
    "### 3.1 Observe both distal and proximal perspectives\n",
    "\n",
    "Now let's watch the world from both the global, top-down view and the local, robot-based view at the same time. "
   ]
  },
  {
   "cell_type": "code",
   "execution_count": 6,
   "metadata": {},
   "outputs": [
    {
     "name": "stdout",
     "output_type": "stream",
     "text": [
      "Using random seed: 1496211\n",
      "Simulation stopped at: 00:00:10.0; speed 0.99 x real time\n"
     ]
    }
   ],
   "source": [
    "world.reset()\n",
    "world.seconds(10, [avoid])"
   ]
  },
  {
   "cell_type": "markdown",
   "metadata": {},
   "source": [
    "### 3.2 Experience the world as the robot does\n",
    "\n",
    "Seeing the world through the robot's camera is very different then seeing it from the bird's-eye view.  Let's try to really take the robot's perspective. \n",
    "\n",
    "**Hide the top-down view of the world.** \n",
    "\n",
    "Now you will try to control the robot using only the robot's sensors to guide you. You goal is to traverse the hallway to the the yellow room and approach the pink box there.  \n",
    "\n",
    "We will create a dashboard where you can see all the robot's sensor readings and you can control the robot's movements via a joystick. "
   ]
  },
  {
   "cell_type": "code",
   "execution_count": 7,
   "metadata": {},
   "outputs": [
    {
     "name": "stdout",
     "output_type": "stream",
     "text": [
      "This world is not running\n"
     ]
    }
   ],
   "source": [
    "from aitk.utils import make_joystick\n",
    "joystick = make_joystick(scale=[.4, .4], function=robot.move)"
   ]
  },
  {
   "cell_type": "code",
   "execution_count": 8,
   "metadata": {
    "tags": []
   },
   "outputs": [
    {
     "data": {
      "application/vnd.jupyter.widget-view+json": {
       "model_id": "a96f765eae1f4ef9b3ce795ac08dee65",
       "version_major": 2,
       "version_minor": 0
      },
      "text/plain": [
       "HTML(value='<style>img.pixelated {image-rendering: pixelated;}</style>')"
      ]
     },
     "metadata": {},
     "output_type": "display_data"
    },
    {
     "data": {
      "application/vnd.jupyter.widget-view+json": {
       "model_id": "96d0ac0c8a084fed829a97dab653305f",
       "version_major": 2,
       "version_minor": 0
      },
      "text/plain": [
       "HTML(value='<style>img.pixelated {image-rendering: pixelated;}</style>')"
      ]
     },
     "metadata": {},
     "output_type": "display_data"
    },
    {
     "data": {
      "application/vnd.jupyter.widget-view+json": {
       "model_id": "a689c51918864c5bbccfba622e0ed8e9",
       "version_major": 2,
       "version_minor": 0
      },
      "text/plain": [
       "VBox(children=(HBox(children=(Canvas(height=250, layout=Layout(max_height='250px', min_width='250px'), width=2…"
      ]
     },
     "metadata": {},
     "output_type": "display_data"
    }
   ],
   "source": [
    "from ipywidgets import HBox, VBox, Layout\n",
    "layout = Layout(width=\"700px\")\n",
    "VBox(children=[\n",
    "    HBox(children=[\n",
    "        joystick.get_widget(), \n",
    "        robot[\"camera\"].get_widget(),\n",
    "    ]),\n",
    "    VBox(children=[\n",
    "        robot.get_widget(show_robot=False, attributes=[\"stalled\"]),\n",
    "        robot[\"left-ir\"].get_widget(title=\"Left IR\", attributes=[\"reading\"]),\n",
    "        robot[\"right-ir\"].get_widget(title=\"Right IR\", attributes=[\"reading\"]),\n",
    "    ])\n",
    " ], layout=layout)"
   ]
  },
  {
   "cell_type": "markdown",
   "metadata": {},
   "source": [
    "Execute the cell below when you are ready to start controlling the robot via the dashboard. Use your mouse to push the joystick in different directions. The \"Stalled\" sensor is True when the robot is stuck and unable to move in the current direction.  If this happens try reversing the direction of movement. The \"IR\" sensors detect obstacles on the robot's left and right.  The smaller the value the closer the obstacle.\n",
    "\n",
    "If you get stuck at some point, go ahead and look at the top-down view of the world again.  Then try to get unstuck and continue using the joystick to reach the goal."
   ]
  },
  {
   "cell_type": "code",
   "execution_count": 9,
   "metadata": {},
   "outputs": [
    {
     "name": "stdout",
     "output_type": "stream",
     "text": [
      "Starting world.run() in background. Use world.stop()\n"
     ]
    }
   ],
   "source": [
    "world.run(background=True)"
   ]
  },
  {
   "cell_type": "markdown",
   "metadata": {},
   "source": [
    "Execute the cell below when you want to stop using the dashboard.  "
   ]
  },
  {
   "cell_type": "code",
   "execution_count": 10,
   "metadata": {},
   "outputs": [
    {
     "name": "stdout",
     "output_type": "stream",
     "text": [
      "Stopping thread...\n"
     ]
    }
   ],
   "source": [
    "world.stop()"
   ]
  },
  {
   "cell_type": "markdown",
   "metadata": {},
   "source": [
    "Go back to the top-down world view to see how you did. Did you crash into any walls?  Did traversing the hallway take longer than you expected?"
   ]
  },
  {
   "cell_type": "markdown",
   "metadata": {},
   "source": [
    "### 3.3 Try again\n",
    "\n",
    "At the bottom of the watched world you can see the time it took for you to reach the pink box.  Start again from the top of this notebook and see if you can reach the pink box faster this time.  By practicing, you should get better at seeing the world from the robot's perspective.  "
   ]
  },
  {
   "cell_type": "markdown",
   "metadata": {},
   "source": [
    "## 4. Conclusions\n",
    "\n",
    "Some Cognitive Scientists believe that a key to understanding cognition is embracing the fact that organisms are embedded in environments.  Brains evolved to control bodies, and it is the interplay between the brain, the body, and the environment from which cognition emerges. Hopefully this experience of taking the robot's proximal perspective gave you a taste of what it is like to be a robot. "
   ]
  },
  {
   "cell_type": "markdown",
   "metadata": {},
   "source": [
    "## 5. References\n",
    "\n",
    "1. https://en.wikipedia.org/wiki/What_Is_It_Like_to_Be_a_Bat\n",
    "2. https://en.wikipedia.org/wiki/Umwelt\n",
    "3. https://en.wikipedia.org/wiki/Embodied_embedded_cognition"
   ]
  },
  {
   "cell_type": "code",
   "execution_count": null,
   "metadata": {},
   "outputs": [],
   "source": []
  }
 ],
 "metadata": {
  "kernelspec": {
   "display_name": "Python 3",
   "language": "python",
   "name": "python3"
  },
  "language_info": {
   "codemirror_mode": {
    "name": "ipython",
    "version": 3
   },
   "file_extension": ".py",
   "mimetype": "text/x-python",
   "name": "python",
   "nbconvert_exporter": "python",
   "pygments_lexer": "ipython3",
   "version": "3.8.2"
  },
  "widgets": {
   "application/vnd.jupyter.widget-state+json": {
    "state": {
     "08a8fdc78a514be19c51c68486511652": {
      "model_module": "@jupyter-widgets/base",
      "model_module_version": "1.2.0",
      "model_name": "LayoutModel",
      "state": {}
     },
     "09a2b61adf8c4919bd8fcf7fbc770e6b": {
      "model_module": "@jupyter-widgets/controls",
      "model_module_version": "1.5.0",
      "model_name": "ImageModel",
      "state": {
       "_dom_classes": [
        "pixelated"
       ],
       "layout": "IPY_MODEL_61abd46018e9447e9a8b2aaf54eef7ea"
      }
     },
     "0a83942a3f5d4d2c9571da685b59057d": {
      "model_module": "@jupyter-widgets/base",
      "model_module_version": "1.2.0",
      "model_name": "LayoutModel",
      "state": {
       "border": "10px solid rgb(0 177 255)"
      }
     },
     "0e83682ee3904df79d5b6f5a846333bb": {
      "model_module": "@jupyter-widgets/controls",
      "model_module_version": "1.5.0",
      "model_name": "VBoxModel",
      "state": {
       "children": [
        "IPY_MODEL_ae1d3e8a1d234a35ad49532c21a5eda3",
        "IPY_MODEL_b6845fbb50344eb8b24d256b0831412a",
        "IPY_MODEL_3e0c9e4b97ce4859a838efa3caafd56e",
        "IPY_MODEL_d41f3adaf1414906bebe38e77aaa1f51"
       ],
       "layout": "IPY_MODEL_c55bde8ae8fc425a85432f769ee4a24a"
      }
     },
     "0f1742425ab64b92919d49e1e477b65d": {
      "model_module": "@jupyter-widgets/controls",
      "model_module_version": "1.5.0",
      "model_name": "TextareaModel",
      "state": {
       "description": "State:",
       "layout": "IPY_MODEL_379348e2316349d4b6ce209cfc3f7b16",
       "style": "IPY_MODEL_3eb12f1c344140b393d2477e342f4113"
      }
     },
     "10929afdc029490996b851d179d041af": {
      "model_module": "@jupyter-widgets/base",
      "model_module_version": "1.2.0",
      "model_name": "LayoutModel",
      "state": {
       "display": "none"
      }
     },
     "173cb8ce5446463898e962a68944dbf0": {
      "model_module": "@jupyter-widgets/controls",
      "model_module_version": "1.5.0",
      "model_name": "DescriptionStyleModel",
      "state": {
       "description_width": ""
      }
     },
     "1884836f8927416dbadf80c4ef7533a2": {
      "model_module": "@jupyter-widgets/controls",
      "model_module_version": "1.5.0",
      "model_name": "TextModel",
      "state": {
       "description": "Reading:",
       "layout": "IPY_MODEL_da6e59f7d6f04fa5a2a91d168b06ccc3",
       "style": "IPY_MODEL_8fc80f2a69fc4c28b32a6bf551ca0889",
       "value": "1.0"
      }
     },
     "1af27e1746454be1b281844ac7c8aafb": {
      "model_module": "@jupyter-widgets/controls",
      "model_module_version": "1.5.0",
      "model_name": "DescriptionStyleModel",
      "state": {
       "description_width": ""
      }
     },
     "1be6ab8e7bdb4f78a1b11418938ea871": {
      "model_module": "@jupyter-widgets/controls",
      "model_module_version": "1.5.0",
      "model_name": "DescriptionStyleModel",
      "state": {
       "description_width": ""
      }
     },
     "21c37b46c68040318fc39aada0b7d12a": {
      "model_module": "@jupyter-widgets/base",
      "model_module_version": "1.2.0",
      "model_name": "LayoutModel",
      "state": {
       "display": "flex"
      }
     },
     "23fb4cc95caf4a288bc8b680175ae82f": {
      "model_module": "@jupyter-widgets/base",
      "model_module_version": "1.2.0",
      "model_name": "LayoutModel",
      "state": {
       "display": "none"
      }
     },
     "2cf29e56576d4466ad8dd0ccf36300cb": {
      "model_module": "@jupyter-widgets/controls",
      "model_module_version": "1.5.0",
      "model_name": "DescriptionStyleModel",
      "state": {
       "description_width": ""
      }
     },
     "2d5a2638b5b342d3ae106886e505ca99": {
      "model_module": "@jupyter-widgets/controls",
      "model_module_version": "1.5.0",
      "model_name": "DescriptionStyleModel",
      "state": {
       "description_width": ""
      }
     },
     "329f3af911de4ed68a588fbede0c9f42": {
      "model_module": "@jupyter-widgets/controls",
      "model_module_version": "1.5.0",
      "model_name": "TextModel",
      "state": {
       "description": "Trans vel:",
       "layout": "IPY_MODEL_23fb4cc95caf4a288bc8b680175ae82f",
       "style": "IPY_MODEL_a48e73db26bc4fc7a8d7ea0a2cb38e55"
      }
     },
     "335e5a2ffc1e4bdc8e4c6fe513689ccc": {
      "model_module": "@jupyter-widgets/controls",
      "model_module_version": "1.5.0",
      "model_name": "DescriptionStyleModel",
      "state": {
       "description_width": ""
      }
     },
     "36ab0aa723b04632a846e3d7c35ae62e": {
      "model_module": "@jupyter-widgets/base",
      "model_module_version": "1.2.0",
      "model_name": "LayoutModel",
      "state": {}
     },
     "379348e2316349d4b6ce209cfc3f7b16": {
      "model_module": "@jupyter-widgets/base",
      "model_module_version": "1.2.0",
      "model_name": "LayoutModel",
      "state": {
       "display": "none"
      }
     },
     "3e0c9e4b97ce4859a838efa3caafd56e": {
      "model_module": "@jupyter-widgets/controls",
      "model_module_version": "1.5.0",
      "model_name": "TextModel",
      "state": {
       "description": "Reading:",
       "layout": "IPY_MODEL_d78c6a8bc8e34960a75918094250c48f",
       "style": "IPY_MODEL_ab310f89f22b41a0b895c339d91fb64f",
       "value": "1.0"
      }
     },
     "3eb12f1c344140b393d2477e342f4113": {
      "model_module": "@jupyter-widgets/controls",
      "model_module_version": "1.5.0",
      "model_name": "DescriptionStyleModel",
      "state": {
       "description_width": ""
      }
     },
     "4c1099712ca24a01969b80ee8e768c99": {
      "model_module": "@jupyter-widgets/base",
      "model_module_version": "1.2.0",
      "model_name": "LayoutModel",
      "state": {}
     },
     "53d4566292bd4f9ba966221fce5fafea": {
      "model_module": "@jupyter-widgets/base",
      "model_module_version": "1.2.0",
      "model_name": "LayoutModel",
      "state": {}
     },
     "5634f78be7e14453b25c79e9c6911ab3": {
      "model_module": "@jupyter-widgets/controls",
      "model_module_version": "1.5.0",
      "model_name": "DescriptionStyleModel",
      "state": {
       "description_width": ""
      }
     },
     "5acb85cd42c643d597920ac1b4937b91": {
      "model_module": "@jupyter-widgets/controls",
      "model_module_version": "1.5.0",
      "model_name": "HTMLModel",
      "state": {
       "layout": "IPY_MODEL_08a8fdc78a514be19c51c68486511652",
       "style": "IPY_MODEL_7d068ddba52f48acbb18556ddd369aa0",
       "value": "<style>img.pixelated {image-rendering: pixelated;}</style>"
      }
     },
     "5b5ec467c11a43e3898c30d1e59c1d2b": {
      "model_module": "@jupyter-widgets/base",
      "model_module_version": "1.2.0",
      "model_name": "LayoutModel",
      "state": {
       "max_height": "250px",
       "min_width": "250px"
      }
     },
     "5f09997f75eb44b4a65e8b4d1d5b6356": {
      "model_module": "@jupyter-widgets/controls",
      "model_module_version": "1.5.0",
      "model_name": "DescriptionStyleModel",
      "state": {
       "description_width": ""
      }
     },
     "5fe7f1b192bb405d8d08c40dfae8cf3f": {
      "model_module": "@jupyter-widgets/controls",
      "model_module_version": "1.5.0",
      "model_name": "TextModel",
      "state": {
       "description": "Rotate vel:",
       "layout": "IPY_MODEL_10929afdc029490996b851d179d041af",
       "style": "IPY_MODEL_1af27e1746454be1b281844ac7c8aafb"
      }
     },
     "61abd46018e9447e9a8b2aaf54eef7ea": {
      "model_module": "@jupyter-widgets/base",
      "model_module_version": "1.2.0",
      "model_name": "LayoutModel",
      "state": {
       "display": "none",
       "height": "auto",
       "width": "-webkit-fill-available"
      }
     },
     "625a332936dd4dedbd58fc00bda131e7": {
      "model_module": "@jupyter-widgets/controls",
      "model_module_version": "1.5.0",
      "model_name": "DescriptionStyleModel",
      "state": {
       "description_width": ""
      }
     },
     "62e90bb812934b5f879693e6f62ba9cd": {
      "model_module": "@jupyter-widgets/base",
      "model_module_version": "1.2.0",
      "model_name": "LayoutModel",
      "state": {
       "border": "10px solid rgb(0 177 255)"
      }
     },
     "6b3f27f8bea74a479b70fbeb01ad2c3a": {
      "model_module": "@jupyter-widgets/controls",
      "model_module_version": "1.5.0",
      "model_name": "LabelModel",
      "state": {
       "layout": "IPY_MODEL_b10c67cac3e04a03a10776cb653165bb",
       "style": "IPY_MODEL_f15ea5437a114435bca124d272e7fbd0",
       "value": "Right IR"
      }
     },
     "74528a51741d43199aad5ad606005879": {
      "model_module": "@jupyter-widgets/controls",
      "model_module_version": "1.5.0",
      "model_name": "DescriptionStyleModel",
      "state": {
       "description_width": ""
      }
     },
     "7d068ddba52f48acbb18556ddd369aa0": {
      "model_module": "@jupyter-widgets/controls",
      "model_module_version": "1.5.0",
      "model_name": "DescriptionStyleModel",
      "state": {
       "description_width": ""
      }
     },
     "815a746075394d148bf7e8756fea54f9": {
      "model_module": "@jupyter-widgets/controls",
      "model_module_version": "1.5.0",
      "model_name": "TextModel",
      "state": {
       "description": "Stalled:",
       "layout": "IPY_MODEL_21c37b46c68040318fc39aada0b7d12a",
       "style": "IPY_MODEL_e1ca24d2d8e14d6981236f02196c43b1",
       "value": "False"
      }
     },
     "838d165b3b864a719e3a83c32aaa4325": {
      "model_module": "@jupyter-widgets/controls",
      "model_module_version": "1.5.0",
      "model_name": "HTMLModel",
      "state": {
       "layout": "IPY_MODEL_b3dc249411674ffebbe463ff534a6da4",
       "style": "IPY_MODEL_a47008fb245b4123ad2987cdeb4bb3fb",
       "value": "<style>img.pixelated {image-rendering: pixelated;}</style>"
      }
     },
     "8458a5052f0c43e6bc8119a21ac1ebfb": {
      "model_module": "@jupyter-widgets/base",
      "model_module_version": "1.2.0",
      "model_name": "LayoutModel",
      "state": {
       "display": "none"
      }
     },
     "8cf6e6f8afb74a00842173bdce9b8f48": {
      "model_module": "@jupyter-widgets/base",
      "model_module_version": "1.2.0",
      "model_name": "LayoutModel",
      "state": {}
     },
     "8fc80f2a69fc4c28b32a6bf551ca0889": {
      "model_module": "@jupyter-widgets/controls",
      "model_module_version": "1.5.0",
      "model_name": "DescriptionStyleModel",
      "state": {
       "description_width": ""
      }
     },
     "9217ff153fe04252a8443cb1c17d71ce": {
      "model_module": "@jupyter-widgets/controls",
      "model_module_version": "1.5.0",
      "model_name": "TextModel",
      "state": {
       "description": "Distance:",
       "layout": "IPY_MODEL_d6fe470d9a024454b54e5fee5b773a7e",
       "style": "IPY_MODEL_1be6ab8e7bdb4f78a1b11418938ea871"
      }
     },
     "92b499961d55474896f48a3726cea9ff": {
      "model_module": "@jupyter-widgets/controls",
      "model_module_version": "1.5.0",
      "model_name": "DescriptionStyleModel",
      "state": {
       "description_width": ""
      }
     },
     "96d0ac0c8a084fed829a97dab653305f": {
      "model_module": "@jupyter-widgets/controls",
      "model_module_version": "1.5.0",
      "model_name": "HTMLModel",
      "state": {
       "layout": "IPY_MODEL_c9996bdd26684d66bbfa8f2db5a683dc",
       "style": "IPY_MODEL_173cb8ce5446463898e962a68944dbf0",
       "value": "<style>img.pixelated {image-rendering: pixelated;}</style>"
      }
     },
     "9c66a405f4aa4b998ce019a8e3c58f21": {
      "buffers": [
       {
        "data": "iVBORw0KGgoAAAANSUhEUgAAAEAAAAAgCAYAAACinX6EAAAA7ElEQVR4nO2ZzQ2CQBCF38p6sxcbsph31yZI7IAm6IE2uOsBJGbDxDX8DPr4kskOGw7DlyFLhgDwAWEO3gV4swvwLsAbeQHRu4C1aEAAQOjjlW9WQA0OxQZ0rRoyAsa1xaoCKhAFuodJIyT5WiwioAQRARRJbJHJAq4gjsAQm32nDORPAXkB2R176Y+Rf0O+A+QFxBNu3jW4It8B8gJiyzbvTi5ahxvyHSAvIPtD6M7x/bOx/yvId4C8gABi9v8CJTE6Dzi8rZ8GIukEaOpEyM4XEGBRUVzAN9QUFzA3DbtVVoCF/CmwC/AuwJsnTN8bO7LF/x8AAAAASUVORK5CYII=",
        "encoding": "base64",
        "path": [
         "value"
        ]
       }
      ],
      "model_module": "@jupyter-widgets/controls",
      "model_module_version": "1.5.0",
      "model_name": "ImageModel",
      "state": {
       "_dom_classes": [
        "pixelated"
       ],
       "layout": "IPY_MODEL_e58f94a2c5004a49bafaf51d743ca295"
      }
     },
     "a2bfa616bd62458b972ffdcd5dc463d3": {
      "model_module": "@jupyter-widgets/controls",
      "model_module_version": "1.5.0",
      "model_name": "HBoxModel",
      "state": {
       "children": [
        "IPY_MODEL_e1c5be50611e4682ad7806aea253ce5d",
        "IPY_MODEL_9c66a405f4aa4b998ce019a8e3c58f21"
       ],
       "layout": "IPY_MODEL_bc971c28383e4e7c8057c423a835368a"
      }
     },
     "a385656abdb84ab5aa02382c86b79124": {
      "model_module": "@jupyter-widgets/controls",
      "model_module_version": "1.5.0",
      "model_name": "TextModel",
      "state": {
       "description": "X:",
       "layout": "IPY_MODEL_8458a5052f0c43e6bc8119a21ac1ebfb",
       "style": "IPY_MODEL_5634f78be7e14453b25c79e9c6911ab3"
      }
     },
     "a47008fb245b4123ad2987cdeb4bb3fb": {
      "model_module": "@jupyter-widgets/controls",
      "model_module_version": "1.5.0",
      "model_name": "DescriptionStyleModel",
      "state": {
       "description_width": ""
      }
     },
     "a48e73db26bc4fc7a8d7ea0a2cb38e55": {
      "model_module": "@jupyter-widgets/controls",
      "model_module_version": "1.5.0",
      "model_name": "DescriptionStyleModel",
      "state": {
       "description_width": ""
      }
     },
     "a689c51918864c5bbccfba622e0ed8e9": {
      "model_module": "@jupyter-widgets/controls",
      "model_module_version": "1.5.0",
      "model_name": "VBoxModel",
      "state": {
       "children": [
        "IPY_MODEL_a2bfa616bd62458b972ffdcd5dc463d3",
        "IPY_MODEL_ddc150df50074bc38e1527be209a447b"
       ],
       "layout": "IPY_MODEL_b20c70d90b9f4f54a1e8f628eeb1d3c2"
      }
     },
     "a96f765eae1f4ef9b3ce795ac08dee65": {
      "model_module": "@jupyter-widgets/controls",
      "model_module_version": "1.5.0",
      "model_name": "HTMLModel",
      "state": {
       "layout": "IPY_MODEL_53d4566292bd4f9ba966221fce5fafea",
       "style": "IPY_MODEL_fbe315a4817f426c8a2913d65e3f73d4",
       "value": "<style>img.pixelated {image-rendering: pixelated;}</style>"
      }
     },
     "ab310f89f22b41a0b895c339d91fb64f": {
      "model_module": "@jupyter-widgets/controls",
      "model_module_version": "1.5.0",
      "model_name": "DescriptionStyleModel",
      "state": {
       "description_width": ""
      }
     },
     "ae1d3e8a1d234a35ad49532c21a5eda3": {
      "model_module": "@jupyter-widgets/controls",
      "model_module_version": "1.5.0",
      "model_name": "LabelModel",
      "state": {
       "layout": "IPY_MODEL_4c1099712ca24a01969b80ee8e768c99",
       "style": "IPY_MODEL_5f09997f75eb44b4a65e8b4d1d5b6356",
       "value": "Left IR"
      }
     },
     "b10c67cac3e04a03a10776cb653165bb": {
      "model_module": "@jupyter-widgets/base",
      "model_module_version": "1.2.0",
      "model_name": "LayoutModel",
      "state": {}
     },
     "b20c70d90b9f4f54a1e8f628eeb1d3c2": {
      "model_module": "@jupyter-widgets/base",
      "model_module_version": "1.2.0",
      "model_name": "LayoutModel",
      "state": {
       "width": "700px"
      }
     },
     "b3917611867f4bd4bdef6fd6f5707c49": {
      "model_module": "@jupyter-widgets/controls",
      "model_module_version": "1.5.0",
      "model_name": "VBoxModel",
      "state": {
       "children": [
        "IPY_MODEL_09a2b61adf8c4919bd8fcf7fbc770e6b",
        "IPY_MODEL_d5abc4e1748840e882fd186e0789bf37",
        "IPY_MODEL_a385656abdb84ab5aa02382c86b79124",
        "IPY_MODEL_f5b292f2bdf744a0a5f841040281fb7e",
        "IPY_MODEL_d0c0ce5ffa4848dd8f6c83da1ba00672",
        "IPY_MODEL_815a746075394d148bf7e8756fea54f9",
        "IPY_MODEL_329f3af911de4ed68a588fbede0c9f42",
        "IPY_MODEL_5fe7f1b192bb405d8d08c40dfae8cf3f",
        "IPY_MODEL_0f1742425ab64b92919d49e1e477b65d"
       ],
       "layout": "IPY_MODEL_0a83942a3f5d4d2c9571da685b59057d"
      }
     },
     "b3dc249411674ffebbe463ff534a6da4": {
      "model_module": "@jupyter-widgets/base",
      "model_module_version": "1.2.0",
      "model_name": "LayoutModel",
      "state": {}
     },
     "b6845fbb50344eb8b24d256b0831412a": {
      "model_module": "@jupyter-widgets/controls",
      "model_module_version": "1.5.0",
      "model_name": "TextModel",
      "state": {
       "description": "Name:",
       "layout": "IPY_MODEL_df014a7774e941b2b389e802d9dcf08b",
       "style": "IPY_MODEL_c654696539de431b809369078eeb9f05"
      }
     },
     "bc971c28383e4e7c8057c423a835368a": {
      "model_module": "@jupyter-widgets/base",
      "model_module_version": "1.2.0",
      "model_name": "LayoutModel",
      "state": {}
     },
     "c55bde8ae8fc425a85432f769ee4a24a": {
      "model_module": "@jupyter-widgets/base",
      "model_module_version": "1.2.0",
      "model_name": "LayoutModel",
      "state": {
       "border": "10px solid rgb(0 177 255)"
      }
     },
     "c654696539de431b809369078eeb9f05": {
      "model_module": "@jupyter-widgets/controls",
      "model_module_version": "1.5.0",
      "model_name": "DescriptionStyleModel",
      "state": {
       "description_width": ""
      }
     },
     "c9028f3bd73346bb80ba62c3103db1a9": {
      "model_module": "@jupyter-widgets/base",
      "model_module_version": "1.2.0",
      "model_name": "LayoutModel",
      "state": {
       "display": "none"
      }
     },
     "c9996bdd26684d66bbfa8f2db5a683dc": {
      "model_module": "@jupyter-widgets/base",
      "model_module_version": "1.2.0",
      "model_name": "LayoutModel",
      "state": {}
     },
     "cd88b9ebb25b4f3084776f1a785d15ac": {
      "model_module": "@jupyter-widgets/controls",
      "model_module_version": "1.5.0",
      "model_name": "HTMLModel",
      "state": {
       "layout": "IPY_MODEL_8cf6e6f8afb74a00842173bdce9b8f48",
       "style": "IPY_MODEL_2cf29e56576d4466ad8dd0ccf36300cb",
       "value": "<style>img.pixelated {image-rendering: pixelated;}</style>"
      }
     },
     "d0c0ce5ffa4848dd8f6c83da1ba00672": {
      "model_module": "@jupyter-widgets/controls",
      "model_module_version": "1.5.0",
      "model_name": "TextModel",
      "state": {
       "description": "A:",
       "layout": "IPY_MODEL_fd913ae2330047dbaf40b58423a58ccc",
       "style": "IPY_MODEL_335e5a2ffc1e4bdc8e4c6fe513689ccc"
      }
     },
     "d41f3adaf1414906bebe38e77aaa1f51": {
      "model_module": "@jupyter-widgets/controls",
      "model_module_version": "1.5.0",
      "model_name": "TextModel",
      "state": {
       "description": "Distance:",
       "layout": "IPY_MODEL_c9028f3bd73346bb80ba62c3103db1a9",
       "style": "IPY_MODEL_625a332936dd4dedbd58fc00bda131e7"
      }
     },
     "d5abc4e1748840e882fd186e0789bf37": {
      "model_module": "@jupyter-widgets/controls",
      "model_module_version": "1.5.0",
      "model_name": "TextModel",
      "state": {
       "description": "Name:",
       "layout": "IPY_MODEL_dde6aa86a9bc4b979b9299519cdd9931",
       "style": "IPY_MODEL_2d5a2638b5b342d3ae106886e505ca99"
      }
     },
     "d6fe470d9a024454b54e5fee5b773a7e": {
      "model_module": "@jupyter-widgets/base",
      "model_module_version": "1.2.0",
      "model_name": "LayoutModel",
      "state": {
       "display": "none"
      }
     },
     "d78c6a8bc8e34960a75918094250c48f": {
      "model_module": "@jupyter-widgets/base",
      "model_module_version": "1.2.0",
      "model_name": "LayoutModel",
      "state": {
       "display": "flex"
      }
     },
     "da6e59f7d6f04fa5a2a91d168b06ccc3": {
      "model_module": "@jupyter-widgets/base",
      "model_module_version": "1.2.0",
      "model_name": "LayoutModel",
      "state": {
       "display": "flex"
      }
     },
     "ddc150df50074bc38e1527be209a447b": {
      "model_module": "@jupyter-widgets/controls",
      "model_module_version": "1.5.0",
      "model_name": "VBoxModel",
      "state": {
       "children": [
        "IPY_MODEL_b3917611867f4bd4bdef6fd6f5707c49",
        "IPY_MODEL_0e83682ee3904df79d5b6f5a846333bb",
        "IPY_MODEL_e8f6e06a30ea4a289c718664b550bb9c"
       ],
       "layout": "IPY_MODEL_36ab0aa723b04632a846e3d7c35ae62e"
      }
     },
     "dde6aa86a9bc4b979b9299519cdd9931": {
      "model_module": "@jupyter-widgets/base",
      "model_module_version": "1.2.0",
      "model_name": "LayoutModel",
      "state": {
       "display": "none"
      }
     },
     "df014a7774e941b2b389e802d9dcf08b": {
      "model_module": "@jupyter-widgets/base",
      "model_module_version": "1.2.0",
      "model_name": "LayoutModel",
      "state": {
       "display": "none"
      }
     },
     "e1605b67e9244110aa07417845954bc7": {
      "buffers": [
       {
        "data": "/9j/4AAQSkZJRgABAQAAAQABAAD/2wBDAAgGBgcGBQgHBwcJCQgKDBQNDAsLDBkSEw8UHRofHh0aHBwgJC4nICIsIxwcKDcpLDAxNDQ0Hyc5PTgyPC4zNDL/2wBDAQkJCQwLDBgNDRgyIRwhMjIyMjIyMjIyMjIyMjIyMjIyMjIyMjIyMjIyMjIyMjIyMjIyMjIyMjIyMjIyMjIyMjL/wAARCAKCA4QDASIAAhEBAxEB/8QAHwAAAQUBAQEBAQEAAAAAAAAAAAECAwQFBgcICQoL/8QAtRAAAgEDAwIEAwUFBAQAAAF9AQIDAAQRBRIhMUEGE1FhByJxFDKBkaEII0KxwRVS0fAkM2JyggkKFhcYGRolJicoKSo0NTY3ODk6Q0RFRkdISUpTVFVWV1hZWmNkZWZnaGlqc3R1dnd4eXqDhIWGh4iJipKTlJWWl5iZmqKjpKWmp6ipqrKztLW2t7i5usLDxMXGx8jJytLT1NXW19jZ2uHi4+Tl5ufo6erx8vP09fb3+Pn6/8QAHwEAAwEBAQEBAQEBAQAAAAAAAAECAwQFBgcICQoL/8QAtREAAgECBAQDBAcFBAQAAQJ3AAECAxEEBSExBhJBUQdhcRMiMoEIFEKRobHBCSMzUvAVYnLRChYkNOEl8RcYGRomJygpKjU2Nzg5OkNERUZHSElKU1RVVldYWVpjZGVmZ2hpanN0dXZ3eHl6goOEhYaHiImKkpOUlZaXmJmaoqOkpaanqKmqsrO0tba3uLm6wsPExcbHyMnK0tPU1dbX2Nna4uPk5ebn6Onq8vP09fb3+Pn6/9oADAMBAAIRAxEAPwDzeKJpWKqQDjPNS/Y5P7y/nRZ/64/7tXqrM8zxGGxDp02rWXQvOc5xWExTpUmrWT1V9yj9jk/vL+dH2OT+8v51eorz/wC3MZ3X3f8ABPK/1kx/df8AgK/zKP2OT+8v50fY5P7y/nV6ij+3MZ3X3f8ABD/WTH91/wCAr/Mo/Y5P7y/nR9jk/vL+dXqKP7cxndfd/wAEP9ZMf3X/AICv8yj9jk/vL+dH2OT+8v51eoo/tzGd193/AAQ/1kx/df8AgK/zKP2OT+8v50fY5P7y/nV6ij+3MZ3X3f8ABD/WTH91/wCAr/Mo/Y5P7y/nR9jk/vL+dXqKP7cxndfd/wAEP9ZMf3X/AICv8yj9jk/vL+dH2OT+8v51eoo/tzGd193/AAQ/1kx/df8AgK/zKP2OT+8v50fY5P7y/nV6ij+3MZ3X3f8ABD/WTH91/wCAr/Mo/Y5P7y/nR9jk/vL+dXqKP7cxndfd/wAEP9ZMf3X/AICv8yj9jk/vL+dH2OT+8v51eoo/tzGd193/AAQ/1kx/df8AgK/zKP2OT+8v50fY5P7y/nV6ij+3MZ3X3f8ABD/WTH91/wCAr/Mo/Y5P7y/nR9jk/vL+dXqKP7cxndfd/wAEP9ZMf3X/AICv8yj9jk/vL+dH2OT+8v51eoo/tzGd193/AAQ/1kx/df8AgK/zKP2OT+8v50fY5P7y/nV6ij+3MZ3X3f8ABD/WTH91/wCAr/Mo/Y5P7y/nR9jk/vL+dXqKP7cxndfd/wAEP9ZMf3X/AICv8yj9jk/vL+dH2OT+8v51eoo/tzGd193/AAQ/1kx/df8AgK/zKP2OT+8v50fY5P7y/nV6ij+3MZ3X3f8ABD/WTH91/wCAr/Mo/Y5P7y/nR9jk/vL+dXqKP7cxndfd/wAEP9ZMf3X/AICv8yj9jk/vL+dH2OT+8v51eoo/tzGd193/AAQ/1kx/df8AgK/zKP2OT+8v50fY5P7y/nV6ij+3MZ3X3f8ABD/WTH91/wCAr/Mo/Y5P7y/nR9jk/vL+dXqKP7cxndfd/wAEP9ZMf3X/AICv8yj9jk/vL+dH2OT+8v51eoo/tzGd193/AAQ/1kx/df8AgK/zKP2OT+8v50fY5P7y/nV6ij+3MZ3X3f8ABD/WTH91/wCAr/Mo/Y5P7y/nR9jk/vL+dXqKP7cxndfd/wAEP9ZMf3X/AICv8yj9jk/vL+dH2OT+8v51eoo/tzGd193/AAQ/1kx/df8AgK/zKP2OT+8v50fY5P7y/nV6ij+3MZ3X3f8ABD/WTH91/wCAr/M7jwDE0WhTqxBP2ljx/urXVVzXgj/kCzf9fDf+grXS18JmVWVbF1Kk92/8j7nLq86+Ep1Z7tXf4nUaR/yC4f8AgX/oRq7VLSP+QXD/AMC/9CNXa+aq/G/U8+t/El6spv8A6xvqabTn/wBY31NNr9jwv8CH+GP5I0WwUUUVuMKKKKACiiigAooooAK80+LcLTf2PtIGPO6/9s69Lrzv4p/8wn/tt/7JUTrzoR9pDdHHj8TUw2HlWp7q3n1seWfY5P7y/nR9jk/vL+dXqKw/tzGd193/AAT53/WTH91/4Cv8yj9jk/vL+dH2OT+8v51eoo/tzGd193/BD/WTH91/4Cv8yj9jk/vL+dH2OT+8v51eoo/tzGd193/BD/WTH91/4Cv8yj9jk/vL+dH2OT+8v51eoo/tzGd193/BD/WTH91/4Cv8yj9jk/vL+dH2OT+8v51eoo/tzGd193/BD/WTH91/4Cv8yj9jk/vL+dH2OT+8v51eoo/tzGd193/BD/WTH91/4Cv8yj9jk/vL+dH2OT+8v51eoo/tzGd193/BD/WTH91/4Cv8yj9jk/vL+dH2OT+8v51eoo/tzGd193/BD/WTH91/4Cv8yj9jk/vL+dH2OT+8v51eoo/tzGd193/BD/WTH91/4Cv8yj9jk/vL+dH2OT+8v51eoo/tzGd193/BD/WTH91/4Cv8yj9jk/vL+dH2OT+8v51eoo/tzGd193/BD/WTH91/4Cv8yj9jk/vL+dH2OT+8v51eoo/tzGd193/BD/WTH91/4Cv8yj9jk/vL+dH2OT+8v51eoo/tzGd193/BD/WTH91/4Cv8yj9jk/vL+dH2OT+8v51eoo/tzGd193/BD/WTH91/4Cv8yj9jk/vL+dH2OT+8v51eoo/tzGd193/BD/WTH91/4Cv8yj9jk/vL+dH2OT+8v51eoo/tzGd193/BD/WTH91/4Cv8yj9jk/vL+dH2OT+8v51eoo/tzGd193/BD/WTH91/4Cv8yj9jk/vL+dH2OT+8v51eoo/tzGd193/BD/WTH91/4Cv8yj9jk/vL+dH2OT+8v51eoo/tzGd193/BD/WTH91/4Cv8yj9jk/vL+dH2OT+8v51eoo/tzGd193/BD/WTH91/4Cv8yj9jk/vL+dH2OT+8v51eoo/tzGd193/BD/WTH91/4Cv8zJooor7M/QixZ/64/wC7V6qNn/rj/u1er4zPP98fov1Pz3iT/f36R/JhRRRXkHghRRRQAUUUUAFFFFABRRRQAUUUUAFFFFABRRRQAUUUUAFFFFABRRRQAUUUUAFFFFABRRRQAUUUUAFFFFABRRRQAUUUUAFFFFABRRRQAUUUUAFFFFABRRRQAUUUUAFFFFABRRRQB3vgj/kCzf8AXw3/AKCtdLXNeCP+QLN/18N/6CtdLXy2M/3ifr/kfqOTf8i+j6fqzqNI/wCQXD/wL/0I1dqlpH/ILh/4F/6Eau18/V+N+py1v4kvVlN/9Y31NNpz/wCsb6mm1+x4X+BD/DH8kaLYKKKK3GFFFFABRRRQAUUUUAFed/FP/mE/9tv/AGSvRK87+Kf/ADCf+23/ALJXNiv4LPMzj/cp/L80edUUUV458MFFFFABRRRQAUUUUAFFFFABRRRQAUUUUAFFFFABRRRQAUUUUAFFFFABRRRQAUUUUAFFFFABRRRQAUUUUAFFFFABRRRQAUUUUAFFFFABRRRQBk0UUV+lH7AWLP8A1x/3avVRs/8AXH/dq9Xxmef74/RfqfnvEn+/v0j+TCiiivIPBCiiigAooooAKKKKACiiigAooooAKKKKACiiigAooooAKKKKACiiigAooooAKKKKACiiigAooooAKKKKACiiigAooooAKKKKACiiigAooooAKKKKACiiigAooooAKKKKACiiigDvfBH/ACBZv+vhv/QVrpa5rwR/yBZv+vhv/QVrpa+Wxn+8T9f8j9Ryb/kX0fT9WdRpH/ILh/4F/wChGrtUtI/5BcP/AAL/ANCNXa+fq/G/U5a38SXqym/+sb6mm05/9Y31NNr9jwv8CH+GP5I0WwUUUVuMKKKKACiiigAooooAK87+Kf8AzCf+23/sleiV538U/wDmE/8Abb/2SubFfwWeZnH+5T+X5o86ooorxz4YKKKKACiiigAooooAKKKKACiiigAooooAKKKKACiiigAooooAKKKKACiiigAooooAKKKKACiiigAooooAKKKKACiiigAooooAKKKKACiiigDJooor9KP2AsWf+uP+7V6qNn/rj/u1er4zPP8AfH6L9T894k/39+kfyYUUUV5B4IUUUUAFFFFABRRRQAUUUUAFFFFABRRRQAUUUUAFFFFABRRRQAUUUUAFFFFABRRRQAUUUUAFFFFABRRRQAUUUUAFFFFABRRRQAUUUUAFFFFABRRRQAUUUUAFFFFABRRRQAUUUUAd74I/5As3/Xw3/oK10tc14I/5As3/AF8N/wCgrXS18tjP94n6/wCR+o5N/wAi+j6fqzqNI/5BcP8AwL/0I1dqlpH/ACC4f+Bf+hGrtfP1fjfqctb+JL1ZTf8A1jfU02nP/rG+pptfseF/gQ/wx/JGi2CiiitxhRRRQAUUUUAFFFFABXnfxT/5hP8A22/9kr0SvO/in/zCf+23/slc2K/gs8zOP9yn8vzR51RRRXjnwwUUUUAFFFFABRRRQAUUUUAFFFFABRRRQAUUUUAFFFFABRRRQAUUUUAFFFFABRRRQAUUUUAFFFFABRRRQAUUUUAFFFFABRRRQAUUUUAFFFFAGTRRRX6UfsBYs/8AXH/dq9VGz/1x/wB2r1fGZ5/vj9F+p+e8Sf7+/SP5MKKKK8g8EKKKKACiiigAooooAKKKKACiiigAooooAKKKKACiiigAooooAKKKKACiiigAooooAKKKKACiiigAooooAKKKKACiiigAooooAKKKKACiiigAooooAKKKKACiiigAooooAKKKKAO98Ef8gWb/AK+G/wDQVrpa5rwR/wAgWb/r4b/0Fa6WvlsZ/vE/X/I/Ucm/5F9H0/VnUaR/yC4f+Bf+hGrtUtI/5BcP/Av/AEI1dr5+r8b9TlrfxJerKb/6xvqabTn/ANY31NNr9jwv8CH+GP5I0WwUUUVuMKKKKACiiigAooooAK87+Kf/ADCf+23/ALJXoled/FP/AJhP/bb/ANkrmxX8FnmZx/uU/l+aPOqKKK8c+GCiiigAooooAKKKKACiiigAooooAKKKKACiiigAooooAKKKKACiiigAooooAKKKKACiiigAooooAKKKKACiiigAooooAKKKKACiiigAooooAyaKKK/Sj9gLFn/rj/u1eqjZ/wCuP+7V6vjM8/3x+i/U/PeJP9/fpH8mFFFFeQeCFFFFABRRRQAUUUUAFFBOBk1FAzNHuY5yeKLaXOmGFnPDzxF1aLS825X29LaktFFFBzBRRRQAUUUUAFFFFABRRRQAUUUUAFFFFABRRRQAUUUUAFFFFABRRRQAUUUUAFFFFABRRRQAUUUUAFFFFABRRRQAUUUUAFFFFABRRRQAUUUUAd74I/5As3/Xw3/oK10tc14I/wCQLN/18N/6CtdLXy2M/wB4n6/5H6jk3/Ivo+n6s6jSP+QXD/wL/wBCNXapaR/yC4f+Bf8AoRq7Xz9X436nLW/iS9WU3/1jfU02uC8VeONT0XxJd6fbQWjRRbNpkRi3KKxzhh3NY3/CzNa/59bD/v2//wAXX6xhMbReHptX+FdPJHnTznC05OEm7rTY9Woryn/hZmtf8+th/wB+3/8Ai6P+Fma1/wA+th/37f8A+Lrf65S/pE/25g+7+7/gnq1FeU/8LM1r/n1sP+/b/wDxdH/CzNa/59bD/v2//wAXR9cpf0g/tzB9393/AAT1aivKf+Fma1/z62H/AH7f/wCLo/4WZrX/AD62H/ft/wD4uj65S/pB/bmD7v7v+CerUV5T/wALM1r/AJ9bD/v2/wD8XR/wszWv+fWw/wC/b/8AxdH1yl/SD+3MH3f3f8E9Wrzv4p/8wn/tt/7JWb/wszWv+fWw/wC/b/8AxdY2v+Jr3xH9n+2RW6eRu2+SpGd2M5yT6Csq+JpzpuMdzizHNcNXw0qcG7u3TzMWiiivOPmAooooAKKKKACiiigAooooAKKKKACiiigAooooAKKKKACiiigAooooAKKKKACiiigAooooAKKKKACiiigAooooAKKKKACiiigAooooAKKKKAMmiiiv0o/YCxZ/64/7tXqo2f8Arj/u1er4zPP98fov1Pz3iT/f36R/JhRRRXkHghRRRQAUUUUAFFFFADJjthY+2KIRthUe2aZckiL6mpQAAAOgp/ZPZqfu8opr+epJ/wDgMVFfi2LRRRSPGCiiigAooooAKKKKACiiigAooooAKKKKACiiigAooooAKKKKACiiigAooooAKKKKACiiigAooooAKKKKACiiigAooooAKKKKACiiigAooooA73wR/wAgWb/r4b/0Fa6Wua8Ef8gWb/r4b/0Fa6WvlsZ/vE/X/I/Ucm/5F9H0/VnUaR/yC4f+Bf8AoRq7VLSP+QXD/wAC/wDQjV2vn6vxv1OWt/El6s8O+IP/ACPGo/8AbL/0WtczXTfEH/keNR/7Zf8Aota5mvv8F/u1P/CvyPgMZ/vFT1f5hRRRXUc4UUUUAFFFFABRRRQAUUUUAFFFFABRRRQAUUUUAFFFFABRRRQAUUUUAFFFFABRRRQAUUUUAFFFFABRRRQAUUUUAFFFFABRRRQAUUUUAFFFFABRRRQAUUUUAFFFFABRRRQAUUUUAZNFFFfpR+wFiz/1x/3avVRs/wDXH/dq9Xxmef74/RfqfnvEn+/v0j+TCiiivIPBCiiigAooooAKKKKAIJuZolHUHNT1B9679Nq/n/nNT030PZzX3KOFo/y07/8AgcnL8rBRRRSPGCiiigAooooAKKKKACiiigAooooAKKKKACiiigAooooAKKKKACiiigAooooAKKKKACiiigAooooAKKKKACiiigAooooAKKKKACiiigAooooA73wR/wAgWb/r4b/0Fa6Wua8Ef8gWb/r4b/0Fa6WvlsZ/vE/X/I/Ucm/5F9H0/VnUaR/yC4f+Bf8AoRq7VLSP+QXD/wAC/wDQjV2vn6vxv1OWt/El6s8O+IP/ACPGo/8AbL/0WtczXTfEH/keNR/7Zf8Aota5mvv8F/u1P/CvyPgMZ/vFT1f5hRRRXUc4UUUUAFFFFABRRRQAUUUUAFFFFABRRRQAUUUUAFFFFABRRRQAUUUUAFFFFABRRRQAUUUUAFFFFABRRRQAUUUUAFFFFABRRRQAUUUUAFFFFABRRRQAUUUUAFFFFABRRRQAUUUUAZNFFFfpR+wFiz/1x/3avVRs/wDXH/dq9Xxmef74/RfqfnvEn+/v0j+TCiiivIPBCiiigAooooAKKKQkAEnoKBpOTSW7IYeZpWPUHFT1DbAiL6mpqctz18+a/tCdOO0LRX/bsUvlrfTpqFFFFI8cKKKKACiiigAooooAKKKKACiiigAooooAKKKKACiiigAooooAKKKKACiiigAooooAKKKKACiiigAooooAKKKKACiiigAooooAKKKKACiiigDvfBH/ACBZv+vhv/QVrpa5rwR/yBZv+vhv/QVrpa+Wxn+8T9f8j9Ryb/kX0fT9WdRpH/ILh/4F/wChGrtUtI/5BcP/AAL/ANCNXa+fq/G/U5a38SXqzw74g/8AI8aj/wBsv/Ra1zNdN8Qf+R41H/tl/wCi1rma+/wX+7U/8K/I+Axn+8VPV/mFFFFdRzhRRRQAUUUUAFFFFABRRRQAUUUUAFFFFABRRRQAUUUUAFFFFABRRRQAUUUUAFFFFABRRRQAUUUUAFFFFABRRRQAUUUUAFFFFABRRRQAUUUUAFFFFABRRRQAUUUUAFFFFABRRRQBk0UUV+lH7AWLP/XH/dq9VGz/ANcf92r1fGZ5/vj9F+p+e8Sf7+/SP5MKKKK8g8EKKKKACiiigApkx2wsfbFPqG5J8sKOpPT1px3PSyej7bH0YPbmV/Rav8h8I2wqPbNPoAwMCikzkxNZ1686z+02/vbYUUUUGAUUUUAFFFFABRRRQAUUUUAFFFFABRRRQAUUUUAFFFFABRRRQAUUUUAFFFFABRRRQAUUUUAFFFFABRRRQAUUUUAFFFFABRRRQAUUUUAFFFFAHe+CP+QLN/18N/6CtdLXNeCP+QLN/wBfDf8AoK10tfLYz/eJ+v8AkfqOTf8AIvo+n6s6jSP+QXD/AMC/9CNXapaR/wAguH/gX/oRq7Xz9X436nLW/iS9WeHfEH/keNR/7Zf+i1rma6b4g/8AI8aj/wBsv/Ra1zNff4L/AHan/hX5HwGM/wB4qer/ADCiiiuo5wooooAKKKKACiiigAooooAKKKKACiiigAooooAKKKKACiiigAooooAKKKKACiiigAooooAKKKKACiiigAooooAKKKKACiiigAooooAKKKKACiiigAooooAKKKKACiiigAooooAyaKKK/Sj9gLFn/rj/ALtXqo2f+uP+7V6vjM8/3x+i/U/PeJP9/fpH8mFFFFeQeCFFFFABRRRQAVA/N1Gp6AZqeoE5upGHQDFOJ7OT+57ev/JTl98rRWvR6u3fVE9FFFI8YKKKKACiiigAooooAKKKKACiiigAooooAKKKKACiiigAooooAKKKKACiiigAooooAKKKKACiiigAooooAKKKKACiiigAooooAKKKKACiiigAooooA73wR/yBZv8Ar4b/ANBWulrmvBH/ACBZv+vhv/QVrpa+Wxn+8T9f8j9Ryb/kX0fT9WdRpH/ILh/4F/6Eau1S0j/kFw/8C/8AQjV2vn6vxv1OWt/El6s8O+IP/I8aj/2y/wDRa1zNdN8Qf+R41H/tl/6LWuZr7/Bf7tT/AMK/I+Axn+8VPV/mFFFFdRzhRRRQAUUUUAFFFFABRRRQAUUUUAFFFFABRRRQAUUUUAFFFFABRRRQAUUUUAFFFFABRRRQAUUUUAFFFFABRRRQAUUUUAFFFFABRRRQAUUUUAFFFFABRRRQAUUUUAFFFFABRRRQBk0UUV+lH7AWLP8A1x/3avVRs/8AXH/dq9Xxmef74/RfqfnvEn+/v0j+TCiiivIPBCiiigAooooAKgt/m3v/AHm6VK5IjYjqAaZbgCEe9NbM9nDfu8rxE/5pQj+c3+SJaKKKR4wUUUUAFFFFABRRRQAUUUUAFFFFABRRRQAUUUUAFFFFABRRRQAUUUUAFFFFABRRRQAUUUUAFFFFABRRRQAUUUUAFFFFABRRRQAUUUUAFFFFABRRRQB3vgj/AJAs3/Xw3/oK10tc14I/5As3/Xw3/oK10tfLYz/eJ+v+R+o5N/yL6Pp+rOo0j/kFw/8AAv8A0I1dqlpH/ILh/wCBf+hGrtfP1fjfqctb+JL1Z4d8Qf8AkeNR/wC2X/ota5mum+IP/I8aj/2y/wDRa1zNff4L/dqf+FfkfAYz/eKnq/zCiiiuo5wooooAKKKKACiiigAooooAKKKKACiiigAooooAKKKKACiiigAooooAKKKKACiiigAooooAKKKKACiiigAooooAKKKKACiiigAooooAKKKKACiiigAooooAKKKKACiiigAooooAyaKKK/Sj9gLFn/rj/u1eqjZ/64/7tXq+Mzz/AHx+i/U/PeJP9/fpH8mFFFFeQeCFFFFABRRRQBFcECE+9PQERqD1AFRXHzbE/vN1qem9kezif3eV4eH80py/KC/JhRRRSPGCiiigAooooAKKKKACiiigAooooAKKKKACiiigAooooAKKKKACiiigAooooAKKKKACiiigAooooAKKKKACiiigAooooAKKKKACiiigAooooAKKKKAO98Ef8gWb/r4b/wBBWulrmvBH/IFm/wCvhv8A0Fa6WvlsZ/vE/X/I/Ucm/wCRfR9P1Z1Gkf8AILh/4F/6Eau1S0j/AJBcP/Av/QjV2vn6vxv1OWt/El6s8O+IP/I8aj/2y/8ARa1zNdN8Qf8AkeNR/wC2X/ota5mvv8F/u1P/AAr8j4DGf7xU9X+YUUUV1HOFFFFABRRRQAUUUUAFFFFABRRRQAUUUUAFFFFABRRRQAUUUUAFFFFABRRRQAUUUUAFFFFABRRRQAUUUUAFFFFABRRRQAUUUUAFFFFABRRRQAUUUUAFFFFABRRRQAUUUUAFFFFAGTRRRX6UfsBYs/8AXH/dq9VGz/1x/wB2r1fGZ5/vj9F+p+e8Sf7+/SP5MKKKK8g8EKKKKACiiigCB+bqNT0AzU9QR/NcyMOg4/z+VT05dj2c49x0MP8AyU439ZXm/n7yv33CiiikeMFFFFABRRRQAUUUUAFFFFABRRRQAUUUUAFFFFABRRRQAUUUUAFFFFABRRRQAUUUUAFFFFABRRRQAUUUUAFFFFABRRRQAUUUUAFFFFABRRRQAUUUUAd74I/5As3/AF8N/wCgrXS1zXgj/kCzf9fDf+grXS18tjP94n6/5H6jk3/Ivo+n6s6jSP8AkFw/8C/9CNXapaR/yC4f+Bf+hGrtfP1fjfqctb+JL1Z4d8Qf+R41H/tl/wCi1rma6b4g/wDI8aj/ANsv/Ra1zNff4L/dqf8AhX5HwGM/3ip6v8wooorqOcKKKKACiiigAooooAKKKKACiiigAooooAKKKKACiiigAooooAKKKKACiiigAooooAKKKKACiiigAooooAKKKKACiiigAooooAKKKKACiiigAooooAKKKKACiiigAooooAKKKKAMmiiiv0o/YCxZ/wCuP+7V6qNn/rj/ALtXq+Mzz/fH6L9T894k/wB/fpH8mFFFFeQeCFFFFABSEgAk9BS0yY7YWPtihG+Fo+3rwpfzNL72kMtwSrOerGpqZCNsKj2zT6ctzrzet7bH1ZLbmaXpH3V+EQooopHmhRRRQAUUUUAFFFFAGr4ahin8QWsc0aSRtvyrqCD8h7GvQf7I03/oH2n/AH5X/CuB8K/8jJaf8D/9AavSq8HM5yVZWfT/ADPuuGKVOeEk5RT957pPou6ZT/sjTf8AoH2n/flf8KP7I03/AKB9p/35X/CrlFed7Sf8z+9/5n0f1aj/ACL7l/kU/wCyNN/6B9p/35X/AAo/sjTf+gfaf9+V/wAKuUUe0n/M/vf+YfVqP8i+5f5FP+yNN/6B9p/35X/Cj+yNN/6B9p/35X/CrlFHtJ/zP73/AJh9Wo/yL7l/kU/7I03/AKB9p/35X/Cj+yNN/wCgfaf9+V/wq5RR7Sf8z+9/5h9Wo/yL7l/kU/7I03/oH2n/AH5X/Cj+yNN/6B9p/wB+V/wq5RR7Sf8AM/vf+YfVqP8AIvuX+RT/ALI03/oH2n/flf8ACj+yNN/6B9p/35X/AAq5RR7Sf8z+9/5h9Wo/yL7l/kU/7I03/oH2n/flf8KP7I03/oH2n/flf8KuUUe0n/M/vf8AmH1aj/IvuX+RT/sjTf8AoH2n/flf8KP7I03/AKB9p/35X/CrlFHtJ/zP73/mH1aj/IvuX+RT/sjTf+gfaf8Aflf8KP7I03/oH2n/AH5X/CrlFHtJ/wAz+9/5h9Wo/wAi+5f5FP8AsjTf+gfaf9+V/wAKP7I03/oH2n/flf8ACrlFHtJ/zP73/mH1aj/IvuX+RT/sjTf+gfaf9+V/wo/sjTf+gfaf9+V/wq5RR7Sf8z+9/wCYfVqP8i+5f5FP+yNN/wCgfaf9+V/wo/sjTf8AoH2n/flf8KuUUe0n/M/vf+YfVqP8i+5f5FP+yNN/6B9p/wB+V/wo/sjTf+gfaf8Aflf8KuUUe0n/ADP73/mH1aj/ACL7l/kU/wCyNN/6B9p/35X/AAo/sjTf+gfaf9+V/wAKuUUe0n/M/vf+YfVqP8i+5f5FP+yNN/6B9p/35X/Cj+yNN/6B9p/35X/CrlFHtJ/zP73/AJh9Wo/yL7l/kU/7I03/AKB9p/35X/Cj+yNN/wCgfaf9+V/wq5RR7Sf8z+9/5h9Wo/yL7l/kU/7I03/oH2n/AH5X/Cj+yNN/6B9p/wB+V/wq5RR7Sf8AM/vf+YfVqP8AIvuX+RFBbQWyFLeGOJCclY1CjPrxUtFFQ23qzWMVFWirI6jSP+QXD/wL/wBCNXapaR/yC4f+Bf8AoRq7XkVfjfqeJW/iS9WUbjRdKu52nudMsppmxukkgVmOBgZJHpUX/COaH/0BtO/8BU/wrTooVaolZSf3v/M53Spt3cV9y/yMz/hHND/6A2nf+Aqf4Uf8I5of/QG07/wFT/CtOin7er/M/vf+Yexp/wAq+5f5GZ/wjmh/9AbTv/AVP8KP+Ec0P/oDad/4Cp/hWnRR7er/ADP73/mHsaf8q+5f5GZ/wjmh/wDQG07/AMBU/wAKP+Ec0P8A6A2nf+Aqf4Vp0Ue3q/zP73/mHsaf8q+5f5GZ/wAI5of/AEBtO/8AAVP8KP8AhHND/wCgNp3/AICp/hWnRR7er/M/vf8AmHsaf8q+5f5GZ/wjmh/9AbTv/AVP8KP+Ec0P/oDad/4Cp/hWnRR7er/M/vf+Yexp/wAq+5f5GZ/wjmh/9AbTv/AVP8KP+Ec0P/oDad/4Cp/hWnRR7er/ADP73/mHsaf8q+5f5GZ/wjmh/wDQG07/AMBU/wAKP+Ec0P8A6A2nf+Aqf4Vp0Ue3q/zP73/mHsaf8q+5f5GZ/wAI5of/AEBtO/8AAVP8KP8AhHND/wCgNp3/AICp/hWnRR7er/M/vf8AmHsaf8q+5f5GZ/wjmh/9AbTv/AVP8KP+Ec0P/oDad/4Cp/hWnRR7er/M/vf+Yexp/wAq+5f5GZ/wjmh/9AbTv/AVP8KP+Ec0P/oDad/4Cp/hWnRR7er/ADP73/mHsaf8q+5f5GZ/wjmh/wDQG07/AMBU/wAKP+Ec0P8A6A2nf+Aqf4Vp0Ue3q/zP73/mHsaf8q+5f5GZ/wAI5of/AEBtO/8AAVP8KP8AhHND/wCgNp3/AICp/hWnRR7er/M/vf8AmHsaf8q+5f5GZ/wjmh/9AbTv/AVP8KP+Ec0P/oDad/4Cp/hWnRR7er/M/vf+Yexp/wAq+5f5GZ/wjmh/9AbTv/AVP8KP+Ec0P/oDad/4Cp/hWnRR7er/ADP73/mHsaf8q+5f5GZ/wjmh/wDQG07/AMBU/wAKP+Ec0P8A6A2nf+Aqf4Vp0Ue3q/zP73/mHsaf8q+5f5GZ/wAI5of/AEBtO/8AAVP8KP8AhHND/wCgNp3/AICp/hWnRR7er/M/vf8AmHsaf8q+5f5GZ/wjmh/9AbTv/AVP8Kz9f0DRofDmpyxaTYJIlpKyutsgKkIcEHHBro6zPEf/ACLGrf8AXlN/6Aa0o1qvtY+8911fdeZnWo0/Zy91bPouz8j57ooor9EPhAooooAKKKKACiiigAooooAKKKKACiiigAooooAKKKKAMmiiiv0o/YCxZ/64/wC7V6qNn/rj/u1er4zPP98fov1Pz3iT/f36R/JhRRRXkHghRRRQAVDckiL6mpqgm5miUdQc047nsZCl/aEKktoXk/8At2Lfy1tr00JgAAAOgpaKKR5Dbk23uwooooEFFFFABRRRQAUUUUAbHhX/AJGS0/4H/wCgNXpVea+Ff+RktP8Agf8A6A1elV4Ga/xl6fqz77hb/c5f4n+SCiiivMPpgooooAKKKKACiiigAooooAKKKKACiiigAooooAKKKKACiiigAooooAKKKKACiiigAooooAKKKKACiiigAooooAKKKKAOo0j/AJBcP/Av/QjV2qWkf8guH/gX/oRq7XkVfjfqeFW/iS9WFFFFZmYUUUUAFFFFABRRRQAUUUUAFFFFABRRRQAUUUUAFFFFABRRRQAUUUUAFFFFABRRRQAUUUUAFFFFABRRRQAUUUUAFZniP/kWNW/68pv/AEA1p1meI/8AkWNW/wCvKb/0A1rQ/ix9V+aM638OXo/yZ890UUV+kHwAUUUUAFFFFABRRRQAUUUUAFFFFABRRRQAUUUUAFFFFAGTRRRX6UfsBYs/9cf92r1UbP8A1x/3avV8Znn++P0X6n57xJ/v79I/kwoooryDwQooooAKg+9d+m1fz/zmp6hhGZpWPrgGmup7GVNU6OJrdqdl6zko/lf9CaiiikeOFFFFABRRRQAUUUUAFFFFABRRRQAUUUUAFFFFABRRRQAUUUUAFFFFABRRRQAUUUUAFFFFABRRRQAUUUUAFFFFABRRRQAUUUUAFFFFABRRRQAUUUUAFFFFABRRRQAUUUUAFFFFABRRRQAUUUUAFFFFABRRRQAUUUUAFFFFABRRRQAUUUUAFFFFABRRRQAUUUUAFFFFABRRRQAUUUUAFFFFABRRRQAUUUUAFFFFABRRRQAUUUUAFFFFABRRRQAUUUUAFFFFABRRRQAUUUUAZNFFFfpR+wFiz/1x/wB2r1UbP/XH/dq9Xxmef74/RfqfnvEn+/v0j+TCiiivIPBCiiigAqC1PysuDkGp6h/1dzj+Fx+v+f501s0ezlr9rhcThUveaU1/247tf+Atv5E1FV5XkecW8LBCF3SPjJUE4AHucNzzjbyOagurEfZZNglnlIxh5NwJPfaTtOOuMAcdqaitLs78q4Sx2Y4b63FqMNbXu27b2S1fltdliW9toJfLmuI432hsOwXg59foanrk7vRknn3RXiozMFjjuI2i+UDAAJ+8QMDpVT7LrOmKGVZ40BLny23KMdyBkfnXWsLCSXLPXzPLll8V7rlyy7STX52Z29Fc7ousX15MUn8owxKWllZcEDtyOP8A6wNdFXNVpSpS5ZHBWoyoy5ZBRRRWZkFFJuHrSFxVKEnsi1Tm9kOopm8+lJuPrWioSe5qsNN76DpJI4ULyOqIOrMcAUqsrqGVgysMgg5BFZusxNNpFyqkZC7ufQHJ/lU+lSLLpNqyHIESr+IGD+op1KPJBSv1HVw/s6ane+tvwLlFFFYHMFFFFABRRRQAUUUUAFFFFABRRRQAUUUUAFFFFABRRRQAUUUUAFFFFABRRRQAUUUUAFFFFABRRRQAUUUUAFFFFABRRRQAUUUUAFFFFABRRRQAUUUUAFFFFABRRRQAUUUUAFFFFABRRRQAUUUUAFFFFABRRRQAUUUUAFFFFABRRRQAUUUUAFFFFABRRRQAUUUUAFFFFABRRRQAUUUUAFFFFABRRRQAUUUUAFFFFABRRRQBk0UUV+lH7AWLP/XH/dq9VGz/ANcf92r1fGZ5/vj9F+p+e8Sf7+/SP5MKKKK8g8EKKKKACobgfIHHBU5FTVXvmK2cgU4dsIh9GYgA/TJFOPxI78qrOjjaU0r+8lZdU9Gvmnb5iWR80S3JB/ev8ueyjgc+hwW/4F+NWqbHGkMSRIMIihVHoBTqUnd3P6HwGEhg8LTw8FZRSX9fO40+XKHQ7XH3XU89uh/A/rVf7BCnMG63P/TE7R9dv3SfciszWZpdLvIdQgXKyfu51yAHxyPxxnn2/PQh1ewnhWQXUSbhna7hWHsRW3s5qKlHVM4qtXBYqpPCYyMeaPSVrNPZpu3zs9H942W1uXVkMkMiSYRyUKuUzzkgnJxkdB1yMUvnLZTvE5KW4VWRmU7VJJyu7oBwMA+uB2FPvrrybAywupZ8LGwIPJ7j1wOfwqjBc3F3GIZmRkaZYtwXBOF3tuHQggAdup4qoKTV5bHyud5ZkmHoVMJCHLLl9pdK9uVPS7eid/TY1Nx9aSnsvcUytqbi1eJ+Z0nCSvFBRRRWhqFFFFAFbUP+Qbdf9cX/AJGovD//ACA7f/gX/oRpNakaPR7hkOCQF/AkA/oas6YqppVoFUAeUpwB3IyazxDtSXr+hlinagl3f6FuiiiuE8wKKKKACiiigAooooAKKKKACiiigAooooAKKKKACiiigAooooAKKKKACiiigAooooAKKKKACiiigAooooAKKKKACiiigAooooAKKKKACiiigAooooAKKKKACiiigAooooAKKKKACiiigAooooAKKKKACiiigAooooAKKKKACiiigAooooAKKKKACiiigAooooAKKKKACiiigAooooAKKKKACiiigAooooAKKKKACiiigDJooor9KP2AsWf+uP8Au1eqjZ/64/7tXq+Mzz/fH6L9T894k/39+kfyYUUUV5B4IUUUUAFVrji5tWfiMOeR2YqQM+3JH1K1ZpskazRPG4yjqVYeoNOLszty7F/UsXTxPLzcjTt3t/X3j6RtxHykA5HUZ471m3kssKgTvIkUKtKZ4yBvwMBSOm7JzjocdOSA221ETnbbXkFzzgJL+7c988Dn8FH14q/ZStzI/Z48aZVKfK5SUWk+azsrq9nbVNddGvMkk0W0uJDJdeZcSH+KR8YHoAuBj8O9PhtP7O3G2iV4j1RVVX9sNwCB788k5PSpPt0af69JLf3kHy492GVH4mrKsrqGVgysMgg5BFDnUtaW34HsYRZdif32EcW/5otN/Pd/ec7qbWMtwDHHDhFMkxEYzuPr3yMNkH1FWrDTLfeFltYiYowHBRT+8b5mB9cDbj2J61HPpVzcai0jhQksmTJG2cKBwCp65AA7jk/SrWnXDrbRtdKFe4PmCRclW3dAT2I4AB9gCeg6JytTSg/xPzTiZ16Kr1KsOWVSSjHS3ux1bXq7fiWf7Osf+fK3/wC/S/4U1tPh6h7j/wACJP8A4qrdFc8as4u9z4ONapF3TKP2GL+/cf8AgRJ/8VR9hi/v3H/gRJ/8VVtgBzmo9wrvhKU1dHqU5SqK8SD7NL/z/XH/AHzH/wDE0fZpf+f64/75j/8Aiam3+1Zk99NFr1vAZQtu0RdwQMcBuc/gK05J7m3s6lrlfWI5ZJbWwW6mkM7/ADAhflUdyFAJHU9ccflsLDeIoVZ7ZVUYAFuQAP8AvusjSGfU9Ym1B1/dRKUiyMYz0+pwTn610VcmKm01Dt+ZwY2o1JU+35srbL7/AJ+Lf/vw3/xdG2+XnzLeT/Z8tkz+OTj8qs0Vy8/kvuOLn8l9xW333/Pvb/8Af9v/AIijfff8+9v/AN/2/wDiKs0Uc3kv6+Yc67L+vmVvNvF5e1jZe4jmy34AqB+tH2qb/nwuP++o/wD4qrNFHMuwcy/l/Mrfapv+fC4/76j/APiqPthXmW1uI19dofn6ISf0qzRRePYOaP8AL+LK32+H+5cf+A0n/wATR9vh/uXH/gNJ/wDE1ZoovHt+P/AC8O34/wDAK39oWo/1kvlennKY8/TcBn8KP7Rsf+f23/7+r/jVmij3ewXh2f8AXyK39o2P/P7b/wDf1f8AGpYp4p1LQypIoOCUYEZ/CpKhltLadg01vFIwGAXQE4/Gj3fMPc8/wJqKrf2dY/8APlb/APfpf8KP7Osf+fK3/wC/S/4Ue75h7nn+BZoqt/Z9sPuI0Q/uwyNGPrhSBmj7BD/fuP8AwJk/+KotHv8AgFod/wAP+CWaKrfYIf79x/4Eyf8AxVH2R14jvLhF7LlWx+LAn8zRaPf8A5Y9/wACzRVb7LN/z/3H/fMf/wATR9lm/wCf+4/75j/+Jo5V3/MOWP8AN+ZZoqt5d6OBcwkDoWgJP44YDP4CjZff8/Fv/wB+G/8Ai6OVd1/XyDkXdf18izRVbZff8/Fv/wB+G/8Ai6N98OPJt2x/F5zLn3xtOPpk0cvmg5OzRZoqtvvv+fe3/wC/7f8AxFG++/597f8A7/t/8RRyea+8OR9195Zoqt9qm/58Lj/vqP8A+Ko+1Tf8+Fx/31H/APFUcj/q3+Yezl/TX+ZZoqt9qkHLWVwq9z8hwPoGJP4Cj7fD/cuP/AaT/wCJo5JB7OXb+vvLNFVvt8P9y4/8BpP/AImj7fbjlzJGvdpInRR9SQAKOSXYPZz7Fmiq39o2P/P7b/8Af1f8aP7Rsf8An9t/+/q/40ckuz+4PZz/AJX9z/yLNFQR3tpM4SO5hdz0VZASanpNNbkuLW6CiiikIKKKKACiiigAooooAKKKKACiiigAooooAKKKKACiiigAooooAKKKKACiiigAooooAKKKKACiiigAooooAKKKKACiiigAooooAKKKKACiiigAooooAKKKKACiiigAooooAKKKKAMmiiiv0o/YCxZ/64/7tXqo2f8Arj/u1er4zPP98fov1Pz3iT/f36R/JhRRRXkHghRRRQAUUUUAVr6xj1C38iSSRE3AnyzjPsfb/CufuPCkob/RrhGUk8SAggduRnP6V1NFbUsRUp6Reh0UcVVoq0Hoccj67pXBWYxqoJBHmIFHbPOB9CK3Iw8VxA7WrLOUMkot02iRj2JztOOTyeuMdSK1aKqeI5/speh24bNqmGxEMTTguaOvXV+dmr23ts+pnyLeXEUqPsSObKmNh8yIeDhgSCcZOMcE9Tjm45DqVZQysMEEZBFPIyKjIwaunyTVranRis0r5pJTxUuaUb28ru+nl+RX8uS35tzmPqYSf/QST8v06cDpyakinSbIBw6/fQn5l+o/zntUlRywJNgsMOv3HH3l+h/znvW6S7GSUexJTGXuKh857fi45j7TAZ/76AHy/XpwenAqwrK6hlIZSMgg5BFXFuLui4ycHdEdc74gb7Td21rEC0oJGOnLYwK3NQke3s5JYkLMB2/h9/wrAgs3/tqwjlLLKx89i3PQkgfX5f19q61OPI5ncpxVN1L9zp7GzjsbRIIwPlHzMBjce5qxRRXgNuTuz5eUnJtvcKKKKQgooooAKKKKACiiigAooooAKKKKACiiigAooooAKKKKACiiigAooooAKKKKACiiigAooooAKKKKACiiigAooooAKKKKAGyRxzIUkRXQ9VYZBqD+zrH/AJ8rf/v0v+FWaKalJbMpTktmVv7Osf8Anyt/+/S/4Uf2faD7kCxH+9D+7P0yuDirNFPnl3H7Sfd/eVvsEP8AfuP/AAJk/wDiqPsEP9+4/wDAmT/4qrNFHPLuHtJ9yt9j2/6q5uI/X59+f++84/Cj7LN/z/3H/fMf/wATVmijnkHtJf1b/IrfZZv+f+4/75j/APiaPIuk/wBXebs9fOiDflt2/rmrNFHO/wCrB7R/0l/kVtl9/wA/Fv8A9+G/+Lo2X3/Pxb/9+G/+LqzRRz+S+4Od9l9xWzfJxtt5f9rc0f4Yw355o333/Pvb/wDf9v8A4irNFHN5IOfyX9fMrb77/n3t/wDv+3/xFH2i4Xh7KRm7mN0K/gSQf0qzRRzLsHMuy/H/ADK32qb/AJ8Lj/vqP/4qj7VN/wA+Fx/31H/8VVmijmXb8w5o/wAv5lb7dGOGjuFbuPIc4P1AIP4Gj7fD/cuP/AaT/wCJqzRRePb8QvDt+P8AwCt9vh/uXH/gNJ/8TR/aNl3u4VPdWcKR7EHkGrNFF49gvDt+P/AK39o2P/P7b/8Af1f8aP7Rsf8An9t/+/q/41Zoo93zD3PP8Aoqt/Z1j/z5W/8A36X/AAo/s6x/58rf/v0v+FHu+Ye55/gWaKrf2dZdrSFT2ZUCke4I5Bo+wQ/37j/wJk/+KotHuFod/wAP+CWaKrfYIf79x/4Eyf8AxVH2GMcrJcK3Y+e5wfoSQfxFFo9/wC0O/wCH/BLNFVvss3/P/cf98x//ABNH2Wb/AJ/7j/vmP/4mjlXf8w5Y/wA35lmiq32e4XlL2Rm7CREK/iAAf1o2X3/Pxb/9+G/+Lo5V3DlXdfj/AJFmiq2y+/5+Lf8A78N/8XRi+Tndby/7O1o/xzlvyxRy+aDk81/XyLNFVt99/wA+9v8A9/2/+Io333/Pvb/9/wBv/iKOTzX3hyPuvvLNFVvPuk/1lnuz08mUN+e7b+maPtU3/Phcf99R/wDxVHI/6sHs3/TX+ZZoqt9qm/58Lj/vqP8A+Ko+2bf9bbXEfp8m/P8A3xnH40ckg9nL+rf5lmiq32+H+5cf+A0n/wATR9vh/uXH/gNJ/wDE0ckuwezn2LNFVv7QtB9+dYj/AHZv3Z+uGwcUf2jY/wDP7b/9/V/xo5Jdg9nPs/uLNFVv7Rsf+f23/wC/q/41PHJHMgeN1dD0ZTkGk4yW6E4SW6HUUUUiQooooAKKKKAMmiiiv0o/YCxZ/wCuP+7V6qNn/rj/ALtXq+Mzz/fH6L9T894k/wB/fpH8mFFFFeQeCFFFFABRRRQAUUUUAFFFFABSMMilopptO6HGTi7oi6UVIRn61H0rtp1FNeZ6VKqqi8wqu0DxsZLdgpJyyNkq30/un3Hqcg1YorVM2TsRRXCSMYyDHKBkxuRuA9eDyPcVmWw+2+J5ZhzHaJsBHHzcjBz9W/IVfv2hSzklmRWWMFwCcc9sHsfQiqWixy2ViJ5oy/2g+YzrlnGemQASR3z1+bp1NKo7U21u9BVZctKTW70/z/A26KbHJHMgeN1dD0ZTkGnV5p47VtwooooAKKKKACiiigAooooAKKKKACiiigAooooAKKKKACiiigAooooAKKKKACiiigAooooAKKKKACiiigAooooAKKKKACiiigAooooAKKKKACiiigAooooAKKKKACiiigAooooAKKKKACiiigAooooAKKKKACiiigAooooAKKKKACiiigAooooAKKKKACiiigAooooAKKKKACiiigAooooAKKKKACoJLK0mcvJbQu56s0YJNT0U02thqTWzK39nWP8Az5W//fpf8KP7Osf+fK3/AO/S/wCFWaKfPLu/vK9pP+Z/e/8AMrfYLccIJI17LHK6KPoAQBR9gh/v3H/gTJ/8VVmijnl3D2k+5W+wQ/37j/wJk/8AiqPssg4W9uFXsPkOB9SpJ/E1Zoo55B7SXf8Ar7jC8iT/AJ+5vyT/AOJoqeiv0bkX9X/zP1r2cf6b/wAyxZ/64/7tXqo2f+uP+7V6vjs8/wB8fov1PgOJP9/fpH8mFFFFeQeCFFFFABRRRQAUUUUAFFFFABRRRQAUhGfrS0U02ndDjJxd0RUU9lz9ayNY1N7JEhgXdcy8KBzt98dz6V30pe023PUoS9rotxl5Iup6jFpsbbo0PmXJB7D+Hr69fTj0NblZWh6V/Z1uXlVftEn3iP4R/dz/AJ/StWufE1FKVo7I5MXUjOfLDZf02QSW53mWF/LlPUkEq31XIyenPXgc44ojucuIpY2ikPQHlW+jdD344OBnFT02SOOZCkiK6HqrDINY819GYKV9JDqKrYntvuBriP8AulhvX2BPDD6nPXk1LFNHOpaNwwBwfUH0I7H2NJx6icbarYkooopEhRRRQAUUUUAFFFFABRRRQAUUUUAFFFFABRRRQAUUUUAFFFFABRRRQAUUUUAFFFFABRRRQAUUUUAFFFFABRRRQAUUUUAFFFFABRRRQAUUUUAFFFFABRRRQAUUUUAFFFFABRRRQAUUUUAFFFFABRRRQAUUUUAFFFFABRRRQAUUUUAFFFFABRRRQAUUUUAFFFFABRRRQAUUUUAFFFFABRRRQAUUUUAFFFFABRRRQBk0UUV+lH7AWrRHWUllYDb3FXKWivz7GYuWKq+1krbfgdGYcC4bG1/bSrSTsloo9BKKWiuU4v8AiHGF/wCgiX/gMRKKWigP+IcYX/oIl/4DESilooD/AIhxhf8AoIl/4DESilooD/iHGF/6CJf+AxEopaKA/wCIcYX/AKCJf+AxEopaKA/4hxhf+giX/gMRKKWigP8AiHGF/wCgiX/gMRKqyabayXyXjRAzKOD2J7Ej1H+egxbopqTjsOPh1ho/DiJr5REopaKQv+IcYX/oIl/4DESilooD/iHGF/6CJf8AgMRKhltw7CRGKTAYDDOD7Edx1/M4weanopptbAvDnCrVYiX/AIDErLO8bCO5UKxOFdMlW+v90+x9RgmrFLRQ3cH4c4Vv+PL/AMBiJRS0Ug/4hxhf+giX/gMRKKWigP8AiHGF/wCgiX/gMRKKWigP+IcYX/oIl/4DESilooD/AIhxhf8AoIl/4DESilooD/iHGF/6CJf+AxEopaKA/wCIcYX/AKCJf+AxEopaKA/4hxhf+giX/gMRKKWigP8AiHGF/wCgiX/gMRKKWigP+IcYX/oIl/4DESilooD/AIhxhf8AoIl/4DESilooD/iHGF/6CJf+AxEopaKA/wCIcYX/AKCJf+AxEopaKA/4hxhf+giX/gMRKKWigP8AiHGF/wCgiX/gMRKKWigP+IcYX/oIl/4DESilooD/AIhxhf8AoIl/4DESilooD/iHGF/6CJf+AxEopaKA/wCIcYX/AKCJf+AxEooopn5IFFFFABRRRQAUUUUAFFFFABRRRQAUUUUAFFFFABRRRQAUUUUAFFApaR+iZFwVh8zwFPFzrSi5X0SjbRtdfQieeKJtskqIeuGYCm/a7b/n4i/77FZOtf8AH4n/AFzH8zWbX6LlXBOHx2CpYqVaSc1eyUdN+/ofM5nk9PB4yph4zbUXa9l5f5nWJIki5jdXHTKnNOrO0X/jzf8A66H+QrRr4vNcHHA42rhYu6g7XfXb/M8SpHkm49gooorzyAooooAKKKKACiiigAooooAKKKKACiiigAooooAKKKKACiiigAooooAKKKKAMmiiiv0o/YDXooor80P0EKKKKACiiigAooooAKKKKACiiigAooooAKKKKACiiigAooooAKKKKACiiigAooooAKKKKACiiigAooooAKKKKACiiigAooooAKKKKACiiigAooooAKKKKACiiigAooooAKKKKACiiigAooooAKKKKACiiigAooooASiiimfy8FFFFABRRRQAUUUUAFFFFABRRRQAUUUUAFFFFABRRRQAUUUUAApaQUtI/eeDP+RJR/7e/wDSmYWtf8fif9cx/M1m1pa1/wAfif8AXMfzNZtfvfDP/Inw/wDh/WR+ecQ/8jWv/i/RG7ov/Hm//XQ/yFaNZ2i/8eb/APXQ/wAhWjX5DxN/yOMR/i/SJ8dX/iyCiiivDMgooooAKKKKACiiigAooooAKKKKACiiigAooooAKKKKACiiigAooooAKKKKAMmiiiv0o/YDTSaOQ4Vsnr0qSqFn/rj/ALtXq+DzHCwwtd0oN2st/M87NuN8wweJdGnCDVk9U+v/AG8LRSUVwHmf8RDzP/n3D7pf/JC0UlFAf8RDzP8A59w+6X/yQtFJRQH/ABEPM/8An3D7pf8AyQtFJRQH/EQ8z/59w+6X/wAkLRSUUB/xEPM/+fcPul/8kLRSUUB/xEPM/wDn3D7pf/JC0UlFAf8AEQ8z/wCfcPul/wDJC0UlFAf8RDzP/n3D7pf/ACQtFJRQH/EQ8z/59w+6X/yQtFJRQH/EQ8z/AOfcPul/8kLRSUUB/wARDzP/AJ9w+6X/AMkLRSUUB/xEPM/+fcPul/8AJC0UlFAf8RDzP/n3D7pf/JC0UlFAf8RDzP8A59w+6X/yQtFJRQH/ABEPM/8An3D7pf8AyQtFJRQH/EQ8z/59w+6X/wAkLRSUUB/xEPM/+fcPul/8kLRSUUB/xEPM/wDn3D7pf/JC0UlFAf8AEQ8z/wCfcPul/wDJC0UlFAf8RDzP/n3D7pf/ACQtFJRQH/EQ8z/59w+6X/yQtFJRQH/EQ8z/AOfcPul/8kLRSUUB/wARDzP/AJ9w+6X/AMkLRSUUB/xEPM/+fcPul/8AJC0UlFAf8RDzP/n3D7pf/JC0UlFAf8RDzP8A59w+6X/yQtFJRQH/ABEPM/8An3D7pf8AyQtFJRQH/EQ8z/59w+6X/wAkLRSUUB/xEPM/+fcPul/8kLRSUUB/xEPM/wDn3D7pf/JBRRRTPgwooooAKKKKACiiigAooooAKKKKACiiigAooooAKKKKACiiigAFLSClpH7zwZ/yJKP/AG9/6UzC1r/j8T/rmP5ms2tLWv8Aj8T/AK5j+ZrNr974Z/5E+H/w/rI/POIf+RrX/wAX6I3dF/483/66H+QrRrO0X/jzf/rof5CtGvyHib/kcYj/ABfpE+Or/wAWQUUUV4ZkFFFFABRRRQAUUUUAFFFFABRRRQAUUUUAFFFFABRRRQAUUUUAFFFFABRRRQBk0UUV+lH7AWLP/XH/AHavVRs/9cf92r1fGZ5/vj9F+p+e8Sf7+/SP5MKKKK8g8EKKKKACiiigAooooAKKKKACiiigAooooAKKKKACiiigAooooAKKKKACiiigAooooAKKKKACiiigAooooAKKKKACiiigAooooAKKKKACiiigAooooAKKKKACiiigAooooAKKKKACiiigAooooAKKKKACiiigAooooAKKKKACiiigAooooAKKKKACiiigAooooAKKKKACiiigAooooABS0gpaR+88Gf8AIko/9vf+lMwta/4/E/65j+ZrNrS1r/j8T/rmP5ms2v3vhn/kT4f/AA/rI/POIf8Aka1/8X6I3dF/483/AOuh/kK0aztF/wCPN/8Arof5CtGvyHib/kcYj/F+kT46v/FkFFFFeGZBRRRQAUUUUAFFFFABRRRQAUUUUAFFFFABRRRQAUUUUAFFFFABRRRQAUUUUAZNFFFfpR+wFiz/ANcf92r1UbP/AFx/3avV8Znn++P0X6n57xJ/v79I/kwoooryDwQooooAKKKKACiiigAooooAKKKKACiiigAooooAKKKKACiiigAooooAKKKKACiiigAooooAKKKKACiiigAooooAKKKKACiiigAooooAKKKKACiiigAooooAKKKKACiiigAooooAKKKKACiiigAooooAKKKKACiiigAooooAKKKKACiiigAooooAKKKKACiiigAooooAKKKKACiiigAFLSClpH7zwZ/yJKP/AG9/6UzC1r/j8T/rmP5ms2tLWv8Aj8T/AK5j+ZrNr974Z/5E+H/w/rI/POIf+RrX/wAX6I3dF/483/66H+QrRrO0X/jzf/rof5CtGvyHib/kcYj/ABfpE+Or/wAWQUUUV4ZkFFFFABRRRQAUUUUAFFFFABRRRQAUUUUAFFFFABRRRQAUUUUAFFFFABRRRQBk0UUV+lH7AWLP/XH/AHavVRs/9cf92r1fGZ5/vj9F+p+e8Sf7+/SP5MKKKK8g8EKKKKACiiigAooooAKKKKACiiigAooooAKKKKACiiigAooooAKKKKACiiigAooooAKKKKACiiigAooooAKKKKACiiigAooooAKKKKACiiigAooooAKKKKACiiigAooooAKKKKACiiigAooooAKKKKACiiigAooooAKKKKACiiigAooooAKKKKACiiigAooooAKKKKACiiigAooooABS0gpaR+88Gf8AIko/9vf+lMwta/4/E/65j+ZrNrS1r/j8T/rmP5ms2v3vhn/kT4f/AA/rI/POIf8Aka1/8X6I3dF/483/AOuh/kK0aztF/wCPN/8Arof5CtGvyHib/kcYj/F+kT46v/FkFFFFeGZBRRRQAUUUUAFFFFABRRRQAUUUUAFFFFABRRRQAUUUUAFFFFABRRRQAUUUUAZNFFFfpR+wFiz/ANcf92r1UbP/AFx/3avV8Znn++P0X6n57xJ/v79I/kwoooryDwQooooAKKKKACiiigAooooAKKKKACiiigAooooAKKKKACiiigAooooAKKKKACiiigAooooAKKKKACiiigAooooAKKKKACiiigAooooAKKKKACiiigAooooAKKKKACiiigAooooAKKKKACiiigAooooAKKKKACiiigAooooAKKKKACiiigAooooAKKKKACiiigAooooAKKKKACiiigAFLSClpH7zwZ/yJKP/AG9/6UzC1r/j8T/rmP5ms2tLWv8Aj8T/AK5j+ZrNr974Z/5E+H/w/rI/POIf+RrX/wAX6I3dF/483/66H+QrRrO0X/jzf/rof5CtGvyHib/kcYj/ABfpE+Or/wAWQUUUV4ZkFFFFABRRRQAUUUUAFFFFABRRRQAUUUUAFFFFABRRRQAUUUUAFFFFABRRRQBk0UUV+lH7AWLP/XH/AHavVRs/9cf92r1fGZ5/vj9F+p+e8Sf7+/SP5MKKKK8g8EKKKKACiiigAooooAKKKKACiiigAooooAKKKKACiiigAooooAKKKKACiiigAooooAKKKKACiiigAooooAKKKKACiiigAooooAKKKKACiiigAooooAKKKKACiiigAooooAKKKKACiiigAooooAKKKKACiiigAooooAKKKKACiiigAooooAKKKKACiiigAooooAKKKKACiiigAooooABS0gpaR+88Gf8AIko/9vf+lMwta/4/E/65j+ZrNrS1r/j8T/rmP5ms2v3vhn/kT4f/AA/rI/POIf8Aka1/8X6I3dF/483/AOuh/kK0aztF/wCPN/8Arof5CtGvyHib/kcYj/F+kT46v/FkFFFFeGZBRRRQAUUUUAFFFFABRRRQAUUUUAFFFFABRRRQAUUUUAFFFFABRRRQAUUUUAZNFFFfpR+wFiz/ANcf92r1UbP/AFx/3avV8Znn++P0X6n57xJ/v79I/kwoooryDwQooooAKKKKACiiigAooooAKKKKACiiigAooooAKKKKACiiigAooooAKKKKACiiigAooooAKKKKACiiigAooooAKKKKACiiigAooooAKKKKACiiigAooooAKKKKACiiigAooooAKKKKACiiigAooooAKKKKACiiigAooooAKKKKACiiigAooooAKKKKACiiigAooooAKKKKACiiigAFLSClpH7zwZ/yJKP/AG9/6UzC1r/j8T/rmP5ms2tLWv8Aj8T/AK5j+ZrNr974Z/5E+H/w/rI/POIf+RrX/wAX6I3dF/483/66H+QrRrO0X/jzf/rof5CtGvyHib/kcYj/ABfpE+Or/wAWQUUUV4ZkFFFFABRRRQAUUUUAFFFFABRRRQAUUUUAFFFFABRRRQAUUUUAFFFFABRRRQBk0UUV+lH7AWLP/XH/AHavVRs/9cf92r1fGZ5/vj9F+p+e8Sf7+/SP5MKKKK8g8EKKKKACiiigAooooAKKKKACiiigAooooAKKKKACiiigAooooAKKKKACiiigAooooAKKKKACiiigAooooAKKKKACiiigAooooAKKKKACiiigAooooAKKKKACiiigAooooAKKKKACiiigAooooAKKKKACiiigAooooAKKKKACiiigAooooAKKKKACiiigAooooAKKKKACiiigAooooABS0gpaR+88Gf8AIko/9vf+lMwta/4/E/65j+ZrNrS1r/j8T/rmP5ms2v3vhn/kT4f/AA/rI/POIf8Aka1/8X6I3dF/483/AOuh/kK0aztF/wCPN/8Arof5CtGvyHib/kcYj/F+kT46v/FkFFFFeGZBRRRQAUUUUAFFFFABRRRQAUUUUAFFFFABRRRQAUUUUAFFFFABRRRQAUUUUAZNFFFfpR+wFiz/ANcf92r1UbP/AFx/3avV8Znn++P0X6n57xJ/v79I/kwoooryDwQooooAKKKKACiiigAooooAKKKKACiiigAooooAKKKKACiiigAooooAKKKKACiiigAooooAKKKKACiiigAooooAKKKKACiiigAooooAKKKKACiiigAooooAKKKKACiiigAooooAKKKKACiiigAooooAKKKKACiiigAooooAKKKKACiiigAooooAKKKKACiiigAooooAKKKKACiiigAFLSClpH7zwZ/yJKP/AG9/6UzC1r/j8T/rmP5ms2tLWv8Aj8T/AK5j+ZrNr974Z/5E+H/w/rI/POIf+RrX/wAX6I3dF/483/66H+QrRrO0X/jzf/rof5CtGvyHib/kcYj/ABfpE+Or/wAWQUUUV4ZkFFFFABRRRQAUUUUAFFFFABRRRQAUUUUAFFFFABRRRQAUUUUAFFFFABRRRQBk0UUV+lH7AWLP/XH/AHavVRs/9cf92r1fGZ5/vj9F+p+e8Sf7+/SP5MKKKK8g8EKKKKACiiigAooooAKKKKACiiigAooooAKKKKACiiigAooooAKKKKACiiigAooooAKKKKACiiigAooooAKKKKACiiigAooooAKKKKACiiigAooooAKKKKACiiigAooooAKKKKACiiigAooooAKKKKACiiigAooooAKKKKACiiigAooooAKKKKACiiigAooooAKKKKACiiigAooooABS0gpaR+88Gf8AIko/9vf+lMwta/4/E/65j+ZrNrS1r/j8T/rmP5ms2v3vhn/kT4f/AA/rI/POIf8Aka1/8X6I3dF/483/AOuh/kK0aztF/wCPN/8Arof5CtGvyHib/kcYj/F+kT46v/FkFFFFeGZBRRRQAUUUUAFFFFABRRRQAUUUUAFFFFABRRRQAUUUUAFFFFABRRRQAUUUUAZNFFFfpR+wFiz/ANcf92r1UbP/AFx/3avV8Znn++P0X6n57xJ/v79I/kwoooryDwQooooAKKKKACiiigAooooAKKKKACiiigAooooAKKKKACiiigAooooAKKKKACiiigAooooAKKKKACiiigAooooAKKKKACiiigAooooAKKKKACiiigAooooAKKKKACiiigAooooAKKKKACiiigAooooAKKKKACiiigAooooAKKKKACiiigAooooAKKKKACiiigAooooAKKKKACiiigAFLSClpH7zwZ/yJKP/AG9/6UzC1r/j8T/rmP5ms2tLWv8Aj8T/AK5j+ZrNr974Z/5E+H/w/rI/POIf+RrX/wAX6I3dF/483/66H+QrRrO0X/jzf/rof5CtGvyHib/kcYj/ABfpE+Or/wAWQUUUV4ZkFFFFABRRRQAUUUUAFFFFABRRRQAUUUUAFFFFABRRRQAUUUUAFFFFABRRRQBk0UUV+lH7AWLP/XH/AHavVRs/9cf92r1fGZ5/vj9F+p+e8Sf7+/SP5MKKKK8g8EKKKKACiiigAooooAKKKKACiiigAooooAKKKKACiiigAooooAKKKKACiiigAooooAKKKKACiiigAooooAKKKKACiiigAooooAKKKKACiiigAooooAKKKKACiiigAooooAKKKKACiiigAooooAKKKKACiiigAooooAKKKKACiiigAooooAKKKKACiiigAooooAKKKKACiiigAooooABS0gpaR+88Gf8AIko/9vf+lMwta/4/E/65j+ZrNrS1r/j8T/rmP5ms2v3vhn/kT4f/AA/rI/POIf8Aka1/8X6I3dF/483/AOuh/kK0aztF/wCPN/8Arof5CtGvyHib/kcYj/F+kT46v/FkFFFFeGZBRRRQAUUUUAFFFFABRRRQAUUUUAFFFFABRRRQAUUUUAFFFFABRRRQAUUUUAZNFFFfpR+wEkMvkuW254x1qf7b/wBM/wDx6uEtrea7uora3jaSeZxHGijJZicAD8a9vt/gp4U0SxtU8Z+LRY6ndLlYY5441U+nzglgOmeBXgV/q1efPUp3fqz5fEvCYmp7StSu/wDE+nocX9t/6Z/+PUfbf+mf/j1V/iT8N7vwBqEGLj7Zpt2Cbe5C4OR1Vh2PI+o/EDE8IeFNQ8Z+IoNH04KJJMtJK/3YkHVj/nkkCsfYYL/n1/5Mzn+rZf8A8+P/ACZnR/bf+mf/AI9R9t/6Z/8Aj1d7/wAKS8DSXbaHD40c+IFUgxeZEfmAz/qvve+N2a8Z8T+G7/wn4hutG1FQJ4G4ZfuyKeVZfYj/AAo9hgv+fX/kzD6tl/8Az4/8mZ1P23/pn/49R9t/6Z/+PV5/RR7DBf8APr/yZh9Wy/8A58f+TM9A+2/9M/8Ax6j7b/0z/wDHq8/r1vwb8ILC98Lp4m8Y61/Y+mTAGBQyozKejFmyBnsMEkc0ewwX/Pr/AMmYfVsv/wCfH/kzMT7b/wBM/wDx6j7b/wBM/wDx6tbx18I7TR/DQ8T+FdY/tfR1x5vzK7IM43Bl4YA8EYBH548utrea7uora3jaSeZxHGijJZicAD8aPYYL/n1/5Mw+rZf/AM+P/Jmd39t/6Z/+PUfbf+mf/j1dpb/BTwpoljap4z8Wix1O6XKwxzxxqp9PnBLAdM8CuD+JPw3u/AGoQYuPtmm3YJt7kLg5HVWHY8j6j8QD2GC/59f+TMPq2X/8+P8AyZlj7b/0z/8AHqPtv/TP/wAerz+ij2GC/wCfX/kzD6tl/wDz4/8AJmegfbf+mf8A49R9t/6Z/wDj1ef16D8P/hTqPjKI6pdzppugxEmS8kIy4X7wQH07seB74xR7DBf8+v8AyZh9Wy//AJ8f+TMT7b/0z/8AHqPtv/TP/wAeqf4u/D/SvAGo6Zb6XcXkyXUTu5unViCCAMbVX1rzij2GC/59f+TMPq2X/wDPj/yZnoH23/pn/wCPUfbf+mf/AI9XIaDot54i12z0iwTfc3UgjT0Hqx9gMk+wr0j4mfCC08BeGINWg1ee8kkuktzG8IQAFWbPBP8Ad/Wj2GC/59f+TMPq2X/8+P8AyZmN9t/6Z/8Aj1H23/pn/wCPV5/RR7DBf8+v/JmH1bL/APnx/wCTM9A+2/8ATP8A8eo+2/8ATP8A8erz+ij2GC/59f8AkzD6tl//AD4/8mZ6B9t/6Z/+PUfbf+mf/j1a3w1+DT+ONDm1e/v5bC1Mnl22yIMZcfebk9AePqD6V554j0tND8TappKStKlldy26yMMFgjFckfhR7DBf8+v/ACZh9Wy//nx/5Mzrftv/AEz/APHqPtv/AEz/APHq8/oo9hgv+fX/AJMw+rZf/wA+P/Jmegfbf+mf/j1H23/pn/49Xn9FHsMF/wA+v/JmH1bL/wDnx/5Mz0D7b/0z/wDHqPtv/TP/AMerz+ij2GC/59f+TMPq2X/8+P8AyZnoH23/AKZ/+PUfbf8Apn/49Xn9FHsMF/z6/wDJmH1bL/8Anx/5Mz0D7b/0z/8AHqPtv/TP/wAerz+ij2GC/wCfX/kzD6tl/wDz4/8AJmegfbf+mf8A49R9t/6Z/wDj1ef0UewwX/Pr/wAmYfVsv/58f+TM9A+2/wDTP/x6j7b/ANM//Hq8/oo9hgv+fX/kzD6tl/8Az4/8mZ6B9t/6Z/8Aj1H23/pn/wCPV5/RR7DBf8+v/JmH1bL/APnx/wCTM9A+2/8ATP8A8eo+2/8ATP8A8erz+ij2GC/59f8AkzD6tl//AD4/8mZ6B9t/6Z/+PUfbf+mf/j1ef0UewwX/AD6/8mYfVsv/AOfH/kzPQPtv/TP/AMeo+2/9M/8Ax6vP6KPYYL/n1/5Mw+rZf/z4/wDJmegfbf8Apn/49R9t/wCmf/j1ef0UewwX/Pr/AMmYfVsv/wCfH/kzPQPtv/TP/wAeo+2/9M//AB6vP6KPYYL/AJ9f+TMPq2X/APPj/wAmZ6B9t/6Z/wDj1H23/pn/AOPV5/RR7DBf8+v/ACZh9Wy//nx/5Mz0D7b/ANM//HqPtv8A0z/8erz+ij2GC/59f+TMPq2X/wDPj/yZnoH23/pn/wCPUfbf+mf/AI9Xn9FHsMF/z6/8mYfVsv8A+fH/AJMz0D7b/wBM/wDx6j7b/wBM/wDx6vP6KPYYL/n1/wCTMPq2X/8APj/yZnoH23/pn/49R9t/6Z/+PV5/RR7DBf8APr/yZh9Wy/8A58f+TM9A+2/9M/8Ax6j7b/0z/wDHq8/oo9hgv+fX/kzD6tl//Pj/AMmZ6B9t/wCmf/j1H23/AKZ/+PV5/RR7DBf8+v8AyZh9Wy//AJ8f+TM9A+2/9M//AB6j7b/0z/8AHq8/oo9hgv8An1/5Mw+rZf8A8+P/ACZnoH23/pn/AOPUfbf+mf8A49Xn9FHsMF/z6/8AJmH1bL/+fH/kzPQPtv8A0z/8eo+2/wDTP/x6vP6KPYYL/n1/5Mw+rZf/AM+P/Jmegfbf+mf/AI9R9t/6Z/8Aj1ef0UewwX/Pr/yZh9Wy/wD58f8AkzPQPtv/AEz/APHqPtv/AEz/APHq8/oo9hgv+fX/AJMw+rZf/wA+P/Jmegfbf+mf/j1H23/pn/49Xn9FHsMF/wA+v/JmH1bL/wDnx/5Mz0D7b/0z/wDHqPtv/TP/AMerz+ij2GC/59f+TMPq2X/8+P8AyZno0E/nbvlxjHepq8zorhrYCE5uVP3V23Pqst4kp5fhY4alR92N/td232fc6/Wv+PxP+uY/mazawqK+4yzib6jg6eF9lzcite9r79LeZ8xmE/rmKqYnbmd7b22/yOz0u48m2ZdmfnJ6+wq79t/6Z/8Aj1ef0V4GOqYXGYmeInS1k7/E/L/IyjhsFZe0pXfV8zVz0D7b/wBM/wDx6j7b/wBM/wDx6vP6K5PYYL/n1/5Myvq2X/8APj/yZnoH23/pn/49R9t/6Z/+PV5/RR7DBf8APr/yZh9Wy/8A58f+TM9A+2/9M/8Ax6j7b/0z/wDHq8/oo9hgv+fX/kzD6tl//Pj/AMmZ6B9t/wCmf/j1H23/AKZ/+PV5/RR7DBf8+v8AyZh9Wy//AJ8f+TM9A+2/9M//AB6j7b/0z/8AHq8/oo9hgv8An1/5Mw+rZf8A8+P/ACZnoH23/pn/AOPUfbf+mf8A49Xn9FHsMF/z6/8AJmH1bL/+fH/kzPQPtv8A0z/8eo+2/wDTP/x6vP6KPYYL/n1/5Mw+rZf/AM+P/Jmegfbf+mf/AI9R9t/6Z/8Aj1ef0UewwX/Pr/yZh9Wy/wD58f8AkzPQPtv/AEz/APHqPtv/AEz/APHq8/oo9hgv+fX/AJMw+rZf/wA+P/Jmegfbf+mf/j1H23/pn/49Xn9FHsMF/wA+v/JmH1bL/wDnx/5Mz0D7b/0z/wDHqPtv/TP/AMerz+ij2GC/59f+TMPq2X/8+P8AyZnoH23/AKZ/+PUfbf8Apn/49Xn9FHsMF/z6/wDJmH1bL/8Anx/5MztaK4qivT/tH+7+J7H9rf3Px/4B3Xwbto7v4s6DHKoZVkkkAPqkTsP1ApfjHeTXnxU1vznLCF0hjBPCqqLwPxyfqTWf8M9ag8P/ABH0TUrpwkCTmORz0RXUoWPsN2fwrufi78NvElz8QbrU9J0q5v7PUSkiPbpv2PtCsGx05GcnjB69a8w8c0NfdtW/Zb0S7uyZJradVjZuSAsskQ/8d4pn7OyLBF4t1JVBntraIIT2B8xiPzRfyqf4kQDwX8DvD/hC5kQ6lNKJJI1bO0Bmkf8AAM6r71nfs8apapret6DcuEOqWqmPJ+8U3ZUe+12P/ATQB5Hb6ld22rRaok7/AGyOcXAlJ+beG3Zz65r2L9pK2jTxNot0qgSS2bIx9Qr5H/oRrlbT4N+LX8Ypo0+lzrarOFkvtv7nys8uG6HjnHXtitv9obWrfUPHFrp9u4f+z7UJKQfuyMSxX8Bt/OgDyrTo7WbU7SK+maG0eZFnlUZKIWG5gPUDJr0D4q6B4F0WPSz4P1OO6llDfaI4roTqFGNrEj7pPPH6CvOoIJbq4it4I2kmlcIiKMlmJwAPfNbvifwN4i8HC2bXNPNstyD5TCRXBIxkZUnB5HFAHPV7p+0W7Wa+GNHhJSzggkZYx0yNqj8gOPqa8Lr6F+K+hX/xF8IeGvFfh63e+KwETwQDc43bc4A5JVlZSBz+RoAzvgW7aj4J8b6RcEvaeQrBD0BkjlVv0Rfyrhfg3bR3fxZ0GOVQyrJJIAfVInYfqBXpPgLRb34b/CrxVruvwtZXF9CEgt5eHyFZY8jqCWkPHXAzXk/wz1qDw/8AEfRNSunCQJOY5HPRFdShY+w3Z/CgDQ+Md5NefFTW/OcsIXSGME8KqovA/HJ+pNdzr7tq37LeiXd2TJNbTqsbNyQFlkiH/jvFZ/xd+G3iS5+IN1qek6Vc39nqJSRHt037H2hWDY6cjOTxg9etanxIgHgv4HeH/CFzIh1KaUSSRq2doDNI/wCAZ1X3oA8Hr1K68OfDtPhBHqsOsq3iUxIxh+0gyGUsNyGLqFHPOOwOa8trpZfAHieHwmvieTS3GksocTb1ztJwG253YJ749+lAHNVpnxFrJ0JdD/tO6/stXLi0Eh8vJOen15x681mV0ej+AfFXiDT1v9K0O6ubRiQsqgBWIODjJGeeKAPUP2lf+Q3oP/XtL/6EK8Mr6O+PHg7xD4n1XR5dF0ua9jggkWRo8fKSwIHJr58mtJdM1U2mpW0sUkEu2eF1wwweRigD2z4ZabafDvwDffEPWogbq4j8vT4W4LKfu493I69lGehNT/EzU7rWf2f/AA7qV9J5l1dXscsrerFJjx6D2rXb4peAfGsljoZ8JaxqbIcW1oLSIhcL2AlwMKPwFdD4+tNLHwgki/4RS8e2ihLW9iqhXsmCPiRsMcBec4LdemM0AfJNFFdJ4a8BeJfF1rc3Oiaa1zDbHbI/mKg3YztG4jJx2Ht60Ac3W/4L8LXXjLxTZ6NbZUStumlAz5UQ+835dPUkDvWE6NG7I6lXU4ZSMEH0r0/4Q/EPw/4BXVJNWsr2a5ujGsclrEjFUGcglmXGSR09PagD2PTvFVpF8UNN8B6GFj0zSrKQThDwZAoCpnvtHX1Y88ivm74gf8lF8S/9hO4/9GNX0n4Bu/Cut6kutaD4M1GxacSEapPboiOc/N8wkJJJz26g14h8bobSH4h3H2XRbjTS6l5XmGBdOXbMy8n5T/ToDQB5xRRRQAUUUUAFFFFABRRRQAUUUUAFFFFABRRRQAUUUUAFFFFABRRRQAUUUUAFFFFABRRRQAUUUUAFFFFABRRRQAUUUUAFFFFABRRRQAUUUUAFFFFABRRRQAUUUUAFFFFABRRRQAUUUUAFFFFABRRRQAUUUUAFFFFABRRRQAUUUUAFFFFABRRRQAUUUUAFFFFABRRRQAUUUUAFFFFABRRRQAUUUUAFFFFABRRRQAV3uifGPxroWmR6fb6mk1vEuyIXMKyNGOwDHnA981wVFAGjrmvap4k1STUtXvJLu7cYLvgYA6AAcAewqpa3VxY3cV1aTSQXELB45Y2KsjDoQR0qGigD0V/jj49fTzanVYgxXaZ1tkEmPrjGffFeezTSXEzzTSNJLIxZ3c5ZieSSe5plFAEttczWd3DdW8hjnhdZI3XqrA5BH4iui8W/EDxD42W0TWrqOSO1z5aRxBBk4yxx1PA/pXMUUAFdT4U+InibwZG8Oj6hstpG3NbyoJI93qAeh+mM1y1FAHS+K/HviPxo8X9tX5liiOY4EUJGp9do6n3OTXNUUUAd7onxj8a6Fpken2+ppNbxLsiFzCsjRjsAx5wPfNcnrmvap4k1STUtXvJLu7cYLvgYA6AAcAewrOooAK6yb4k+J5/Bq+FJL5TpaoIseWN5jByE3dccD8BjpXJ0UAFdboPxN8YeGdLTTNI1lrezjJZIjBFIFJOTgupI5JOPeuSooA9A/wCF2/EP/oYf/JK3/wDjdcTqOo3er6jcahfztPd3Dl5ZW6sx+lVaKAL+ja1qPh/VYdT0q6a2vIc+XKoBxkEHgggjBPWuo1D4veO9U0+4sbvXme2uEMcqrbQoWUjBGVQEcehriKKACuq8KfEXxJ4Msrq00W8SKC5beyyRK+18Y3LnocY/IVytFADpJHlleSRizuSzMTySepptFFAHX6H8UPGXhzSotM0rWmgs4s+XE0EUm3JycF1JxkmsfxF4o1nxZqC32uXzXdyiCNWKKgVQScAKAByT2rIooAKKKKACiiigAooooAKKKKACiiigAooooAKKKKACiiigAooooAKKKKACiiigAooooAKKKKACiiigAooooAKKKKACiiigAooooAKKKKACiiigAooooAKKKKACiiigAooooAKKKKACiiigAooooAKKKKACiiigAooooAKKKKACiiigAooooAKKKKACiiigAooooAKKKKACiiigAooooAKKKKACiiigAooooAKKKKACiiigAooooAKKKKACiiigAooooAKKKKACiiigAooooAKKKKACiiigAooooAKKKKACiiigAooooAKKKKACiiigAooooAKKKKACiiigAooooAKKKKACiiigAooooAKKKKACiiigAooooAKKKKACiiigAooooAKKKKACiiigAooooAKKKKACiiigAooooAKKKKACiiigAooooAKKKKACiiigAooooAKKKKACiiigAooooAKKKKACiiigAooooAKKKKACiiigAooooAKKKKACiiigAooooAKKKKACiiigAooooAKKKKAP/9k=",
        "encoding": "base64",
        "path": [
         "value"
        ]
       }
      ],
      "model_module": "@jupyter-widgets/controls",
      "model_module_version": "1.5.0",
      "model_name": "ImageModel",
      "state": {
       "layout": "IPY_MODEL_fbc9fcedf6504388b06abac901ab34a8"
      }
     },
     "e1c5be50611e4682ad7806aea253ce5d": {
      "model_module": "ipycanvas",
      "model_module_version": "^0.8.2",
      "model_name": "CanvasModel",
      "state": {
       "_model_module_version": "^0.8.2",
       "_view_module_version": "^0.8.2",
       "height": 250,
       "layout": "IPY_MODEL_5b5ec467c11a43e3898c30d1e59c1d2b",
       "width": 250
      }
     },
     "e1ca24d2d8e14d6981236f02196c43b1": {
      "model_module": "@jupyter-widgets/controls",
      "model_module_version": "1.5.0",
      "model_name": "DescriptionStyleModel",
      "state": {
       "description_width": ""
      }
     },
     "e58f94a2c5004a49bafaf51d743ca295": {
      "model_module": "@jupyter-widgets/base",
      "model_module_version": "1.2.0",
      "model_name": "LayoutModel",
      "state": {
       "border": "10px solid rgb(0 177 255)",
       "height": "auto",
       "max_width": "100%",
       "width": "500px"
      }
     },
     "e8f6e06a30ea4a289c718664b550bb9c": {
      "model_module": "@jupyter-widgets/controls",
      "model_module_version": "1.5.0",
      "model_name": "VBoxModel",
      "state": {
       "children": [
        "IPY_MODEL_6b3f27f8bea74a479b70fbeb01ad2c3a",
        "IPY_MODEL_eb950ffae23b4fee9255840b9a5423a3",
        "IPY_MODEL_1884836f8927416dbadf80c4ef7533a2",
        "IPY_MODEL_9217ff153fe04252a8443cb1c17d71ce"
       ],
       "layout": "IPY_MODEL_62e90bb812934b5f879693e6f62ba9cd"
      }
     },
     "ea2851814d29404aa5e104b9d69edb24": {
      "model_module": "@jupyter-widgets/base",
      "model_module_version": "1.2.0",
      "model_name": "LayoutModel",
      "state": {
       "display": "none"
      }
     },
     "eb950ffae23b4fee9255840b9a5423a3": {
      "model_module": "@jupyter-widgets/controls",
      "model_module_version": "1.5.0",
      "model_name": "TextModel",
      "state": {
       "description": "Name:",
       "layout": "IPY_MODEL_ff5e2517755446c284115053ce3c16f8",
       "style": "IPY_MODEL_74528a51741d43199aad5ad606005879"
      }
     },
     "f15ea5437a114435bca124d272e7fbd0": {
      "model_module": "@jupyter-widgets/controls",
      "model_module_version": "1.5.0",
      "model_name": "DescriptionStyleModel",
      "state": {
       "description_width": ""
      }
     },
     "f5b292f2bdf744a0a5f841040281fb7e": {
      "model_module": "@jupyter-widgets/controls",
      "model_module_version": "1.5.0",
      "model_name": "TextModel",
      "state": {
       "description": "Y:",
       "layout": "IPY_MODEL_ea2851814d29404aa5e104b9d69edb24",
       "style": "IPY_MODEL_92b499961d55474896f48a3726cea9ff"
      }
     },
     "fbc9fcedf6504388b06abac901ab34a8": {
      "model_module": "@jupyter-widgets/base",
      "model_module_version": "1.2.0",
      "model_name": "LayoutModel",
      "state": {
       "border": "10px solid rgb(0 177 255)",
       "margin": "auto"
      }
     },
     "fbe315a4817f426c8a2913d65e3f73d4": {
      "model_module": "@jupyter-widgets/controls",
      "model_module_version": "1.5.0",
      "model_name": "DescriptionStyleModel",
      "state": {
       "description_width": ""
      }
     },
     "fd913ae2330047dbaf40b58423a58ccc": {
      "model_module": "@jupyter-widgets/base",
      "model_module_version": "1.2.0",
      "model_name": "LayoutModel",
      "state": {
       "display": "none"
      }
     },
     "ff5e2517755446c284115053ce3c16f8": {
      "model_module": "@jupyter-widgets/base",
      "model_module_version": "1.2.0",
      "model_name": "LayoutModel",
      "state": {
       "display": "none"
      }
     }
    },
    "version_major": 2,
    "version_minor": 0
   }
  }
 },
 "nbformat": 4,
 "nbformat_minor": 4
}
