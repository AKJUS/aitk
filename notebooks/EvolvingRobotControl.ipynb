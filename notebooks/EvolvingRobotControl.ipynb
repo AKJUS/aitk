{
 "cells": [
  {
   "cell_type": "markdown",
   "metadata": {
    "id": "V6THckODUGu6"
   },
   "source": [
    "# Computational Essays on Artificial Intelligence\n",
    "## Evolving Robot Control\n",
    "\n",
    "In this essay, we explore the Genetic Algorithm to evolve a Robot control network.\n",
    "\n",
    "1. A `chromosome` will be composed of a series of `genes`, each representing a weight in a neural network\n",
    "2. A `population` of chromosomes is generated randomly\n",
    "3. For a number of generations the chromosomes are `mutated` by a small amount"
   ]
  },
  {
   "cell_type": "markdown",
   "metadata": {
    "id": "qu0oA5NWUGu-"
   },
   "source": [
    "### 1. Setup"
   ]
  },
  {
   "cell_type": "markdown",
   "metadata": {},
   "source": [
    "[![Open in Binder](https://img.shields.io/badge/-Open%20in%20Binder-579ACA.svg?logo=data:image/png;base64,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)](https://mybinder.org/v2/gh/ArtificialIntelligenceToolkit/aitk/HEAD?filepath=notebooks%2FEvolvingRobotControl.ipynb) [![Open in Colab](https://colab.research.google.com/assets/colab-badge.svg)](https://colab.research.google.com/github/ArtificialIntelligenceToolkit/aitk/blob/master/notebooks/EvolvingRobotControl.ipynb)"
   ]
  },
  {
   "cell_type": "markdown",
   "metadata": {},
   "source": [
    "<div class=\"alert alert-block alert-info\">\n",
    "    <p><b>Note</b>: if running this notebook on Google Colab, you will need to install the required Python packages each time you start a session. You do not need to do this in Binder. Otherwise on your own computer, you only need to install the packages once.</p>\n",
    "    <p>To install the required Python packages:</p>\n",
    "</div>"
   ]
  },
  {
   "cell_type": "code",
   "execution_count": null,
   "metadata": {
    "colab": {
     "base_uri": "https://localhost:8080/"
    },
    "id": "baekK6oGUGu9",
    "outputId": "df8356cd-2624-4698-f439-051aed1c82d3"
   },
   "outputs": [],
   "source": [
    "%pip install aitk --upgrade --quiet"
   ]
  },
  {
   "cell_type": "markdown",
   "metadata": {
    "id": "1X8RdoEyUGu-"
   },
   "source": [
    "For this demonstration, we will need:\n",
    "\n",
    "* `GeneticAlgorithm` defined in aitk.algorithms.ga\n",
    "* `World`, `Scribbler`, `RangeSensor` from aitk.robots \n",
    "* `SimpleNetwork` from aitk.networks\n",
    "* a few other support functions"
   ]
  },
  {
   "cell_type": "markdown",
   "metadata": {
    "id": "Fd1XrIsHUGu_"
   },
   "source": [
    "We import everything need in this cell:"
   ]
  },
  {
   "cell_type": "code",
   "execution_count": 1,
   "metadata": {
    "id": "AIR4jwkRUGu_"
   },
   "outputs": [],
   "source": [
    "from aitk.algorithms.ga import GeneticAlgorithm\n",
    "from aitk.robots import World, Scribbler, RangeSensor\n",
    "from aitk.networks import SimpleNetwork\n",
    "from aitk.robots.utils import distance\n",
    "import random"
   ]
  },
  {
   "cell_type": "markdown",
   "metadata": {},
   "source": [
    "## 2. The Genetic Algorithm"
   ]
  },
  {
   "cell_type": "markdown",
   "metadata": {},
   "source": [
    "The [Genetic Algorithm](https://en.wikipedia.org/wiki/Genetic_algorithm) (GA) is an approach inside the category of machine learning systems called [Evolutionary Algorithms](https://en.wikipedia.org/wiki/Evolutionary_algorithm) (EA). For this essay, we will use the GA as follows:\n",
    "\n",
    "1. We will define a `gene` to be a floating-point number that represents the weight or bias of a Neural Network.\n",
    "2. We will define a `chromosome` as a sequence of genes. The chromosome (sometimes called a `geneotype`) will represent all of the weights and biases of a network.\n",
    "3. A `population` will be composed of a set of random chromosomes."
   ]
  },
  {
   "cell_type": "markdown",
   "metadata": {
    "id": "eyh7XntqUGvA"
   },
   "source": [
    "The length of the chromosome is determined by the size of the Neural Network. Therefore, we will call `self.build_model()` (defined below) and see how many weights it has. \n",
    "\n",
    "We'll use a ring of 16 laser sensors as senses. We create a small simulated world (100 x 100) to allow the robot to move around.\n",
    "\n",
    "The basic idea is that we will have a list of weights (the chromosome) that we load into the neural network. The sensors will be read, and propagated through the neural network. The output of the neural network will be interpreted as movement controls. We'll let the neural network \"drive\" the robot around the world starting from a few poses."
   ]
  },
  {
   "cell_type": "code",
   "execution_count": 2,
   "metadata": {
    "id": "QEeYh6UwUGvA"
   },
   "outputs": [],
   "source": [
    "class NNGA(GeneticAlgorithm):\n",
    "    \"\"\"\n",
    "    An example of using the GeneticAlgorithm class to \n",
    "    evolve the weights of a neural network to control \n",
    "    a simulated robot.\n",
    "    \"\"\"\n",
    "    def __init__(self, popsize, sensors=16):\n",
    "        self.show = False\n",
    "        self.sensors = sensors\n",
    "        self.world = World(100, 100)\n",
    "        self.robot = Scribbler()\n",
    "        # We add a ring of RangeSensors, 8cm from\n",
    "        # the robot center, starting and ending \n",
    "        # at the back of the robot\n",
    "        # with 75cm max range, and sensor width 0\n",
    "        # which makes it a laser range finder\n",
    "        self.robot.add_device_ring(\n",
    "            RangeSensor, 8, -180, 180, \n",
    "            self.sensors, max=75, width=0)\n",
    "        self.world.add_robot(self.robot)\n",
    "        self.network = self.build_model()\n",
    "        # Starting poses to test from:\n",
    "        self.poses = [\n",
    "            (20, 20, 0), \n",
    "            (20, 20, 45), \n",
    "            (20, 20, 90), \n",
    "            (20, 20, 180), \n",
    "            (20, 20, -45),\n",
    "        ]\n",
    "        # Length of a chromosome:\n",
    "        length = len(self.network.get_weights(flat=True))\n",
    "        super().__init__(length, popsize)"
   ]
  },
  {
   "cell_type": "markdown",
   "metadata": {
    "id": "HNvM7oeWUGvB"
   },
   "source": [
    "As mentioned, a chromosome will be a sequence of floating-point numbers, between -2 and +2. When we mutate such a gene, we will increase or decrease it a small amount. To define these two aspects of a gene, we define the following methods:"
   ]
  },
  {
   "cell_type": "code",
   "execution_count": 3,
   "metadata": {
    "id": "61igCPUsUGvB"
   },
   "outputs": [],
   "source": [
    "class NNGA(NNGA):        \n",
    "    def make_random_gene(self):\n",
    "        \"\"\"\n",
    "        Generate a random weight for the neural network.\n",
    "        \"\"\"\n",
    "        # range of [-2, +2]\n",
    "        return 2 - random.random() * 4\n",
    "    \n",
    "    def mutate_gene(self, gene):\n",
    "        \"\"\"\n",
    "        Given a gene, mutate it a little.\n",
    "        \"\"\"\n",
    "        # range of [-0.5, +0.5]\n",
    "        return gene + (0.5 - random.random())"
   ]
  },
  {
   "cell_type": "markdown",
   "metadata": {
    "id": "8zDTWbLNUGvC"
   },
   "source": [
    "## 2.1 The Fitness Function\n",
    "\n",
    "To use a GA we need to define a `fitness function`. A fitness function tests a chromosome in the simulated world, and returns a value that represents how \"apt\" (or fit) it is relative to the other chromosomes in the population at this generation.\n",
    "\n",
    "Finding a good fitness function is difficult. We don't want to be too prescriptive, or the system will evolve exactly what we have defined it to do. On the other hand, we don't want to be too open, as that can leave the system to evolve solutions that don't really \"solve a problem.\"\n",
    "\n",
    "For example, let's say that we want the robot to move around this world and not bump into walls. We could define a fitness that is the total number of steps where the robot did not hit a wall (e.g., `robot.stalled` is not True).\n",
    "\n",
    "<div class=\"alert alert-block alert-warning\">\n",
    "    <b>Warning</b>: the implementation of a GA that we use here requires that the fitness function return a number greater or equal to zero.\n",
    "</div>\n",
    "\n",
    "However, you would very quickly evolve a robot that doesn't move. No movement, no crashing into walls! Well, ok, then. How about we define a fitness function that rewards the robot when it keeps moving. The evolutionary system could \"solve that problem\" by simply spinning the robot in circles. Foiled again!\n",
    "\n",
    "You could then define a fitness function that rewards the robot when it has forward movement, thereby circumventing the solution for the robot to spin in circles. However, the system could then just drive the robot in small circles, and we inadvently didn't reward a robot for moving backwards (which should be fine).\n",
    "\n",
    "The search the human performs in attempting to find a good fitness function that will drive the robot into interesting control patterns while not settling on simplistic solutions is quite common. However, if you can train yourself to think more like nature, you can end up with some very clever robots.\n",
    "\n",
    "To that end, we will define the fitness function to be the distance between where the robot started, and where it ended up after a given number of seconds. Plus, we will add all of the distances traveled on each individual step. However, if it ends up against a wall, it will get a score of zero.\n",
    "\n",
    "This is a fairly easy fitness function to compute (the sum of all distance traveled, plus distance from where it started) and should bypass some of the solutions defined above."
   ]
  },
  {
   "cell_type": "code",
   "execution_count": 4,
   "metadata": {
    "id": "TN_laHoPUGvC"
   },
   "outputs": [],
   "source": [
    "class NNGA(NNGA):        \n",
    "    def fitness(self, chromosome, poses=None, seconds=None, interrupt=True, real_time=False,\n",
    "                show=False, show_progress=False, quiet=True):\n",
    "        \"\"\"\n",
    "        Fitness is based on the distance the robot travels \n",
    "        from starting pose to ending pose.\n",
    "        \n",
    "        Args:\n",
    "            poses: default None, all of the poses; \n",
    "                otherwise list of poses (x, y, a).\n",
    "            seconds: default 10\n",
    "            interrupt: default True\n",
    "            real_time: default False\n",
    "            show: default True\n",
    "            show_progress: default False\n",
    "            quiet: default True\n",
    "        \"\"\"\n",
    "        if seconds is None:\n",
    "            seconds = min(self.generation / 10, 10)\n",
    "        self.show = show\n",
    "        self.network.set_weights(chromosome)\n",
    "        score = 0\n",
    "        poses = poses if poses is not None else self.poses\n",
    "        for pose in poses:\n",
    "            self.robot.set_pose(*pose, show=self.show)\n",
    "            self.world.seconds(\n",
    "                seconds, self.controller, \n",
    "                interrupt=interrupt, \n",
    "                real_time=real_time, show=show,\n",
    "                show_progress=show_progress, quiet=quiet)\n",
    "            if not self.robot.stalled:\n",
    "                end_pose = self.robot.get_pose()\n",
    "                score += distance(pose[0], pose[1], end_pose[0], end_pose[1])\n",
    "        return score   "
   ]
  },
  {
   "cell_type": "markdown",
   "metadata": {
    "id": "hGDuszABUGvD"
   },
   "source": [
    "We can now add some methods for the specific problem:\n",
    "\n",
    "* build_model - creates the neural network and takes in the number of sensors, and outputs the movement commands (one for translate, one for rotate)\n",
    "* controller - the method to drive the robot\n",
    "* get_sensors - a convenience method to get the sensor readings from the range sensors as a list\n",
    "* get_move - a method that takes the input to the network (the sensor readings) and propagates them through the network to get the output values, which are scaled to [-1, +1]"
   ]
  },
  {
   "cell_type": "code",
   "execution_count": 5,
   "metadata": {
    "id": "gv41Bn_QUGvD"
   },
   "outputs": [],
   "source": [
    "class NNGA(NNGA):        \n",
    "    def build_model(self):\n",
    "        \"\"\"\n",
    "        We build a simple network. \n",
    "        \"\"\"\n",
    "        return SimpleNetwork(\n",
    "            self.sensors,\n",
    "            4,\n",
    "            2,\n",
    "            activation=\"sigmoid\"\n",
    "        )\n",
    "        \n",
    "    def controller(self, world):\n",
    "        \"\"\"\n",
    "        The controller for the robot.\n",
    "        \"\"\"\n",
    "        sensors = self.get_sensors()\n",
    "        output = self.get_move(sensors)\n",
    "        self.robot.move(output[0], output[1])\n",
    "        \n",
    "    def get_sensors(self):\n",
    "        \"\"\"\n",
    "        We return the sensors from the robot.\n",
    "        \"\"\"\n",
    "        return [sensor.get_reading() \n",
    "                for sensor in self.robot]\n",
    "    \n",
    "    def get_move(self, sensors):\n",
    "        \"\"\"\n",
    "        Given the dataset (a single )\n",
    "        \"\"\"\n",
    "        # Propagate takes a single pattern:\n",
    "        output = self.network.propagate(\n",
    "            sensors, show=self.show)\n",
    "        # Scale the output in [-1, 1]\n",
    "        return 1 - output * 2\n",
    "    "
   ]
  },
  {
   "cell_type": "markdown",
   "metadata": {},
   "source": [
    "Now, we are ready to create a GA. We'll define the population size to be 30, which isn't too small, but big enough to evolve a solution in a few minutes."
   ]
  },
  {
   "cell_type": "code",
   "execution_count": 6,
   "metadata": {
    "colab": {
     "base_uri": "https://localhost:8080/"
    },
    "id": "IyVFhghhUGvE",
    "outputId": "2988c304-fc9b-45d8-e793-e180625de46d"
   },
   "outputs": [
    {
     "name": "stdout",
     "output_type": "stream",
     "text": [
      "Random seed set to: 8949001\n",
      "Genetic algorithm\n",
      "  Chromosome length: 78\n",
      "  Population size: 30\n"
     ]
    }
   ],
   "source": [
    "ga = NNGA(popsize=30)"
   ]
  },
  {
   "cell_type": "markdown",
   "metadata": {},
   "source": [
    "We can get a snapshot of the world with:"
   ]
  },
  {
   "cell_type": "code",
   "execution_count": 7,
   "metadata": {},
   "outputs": [
    {
     "data": {
      "image/png": "[encoded data removed]",
      "text/plain": [
       "<PIL.Image.Image image mode=RGB size=300x342 at 0x7FE96C221190>"
      ]
     },
     "metadata": {},
     "output_type": "display_data"
    }
   ],
   "source": [
    "ga.world.display()"
   ]
  },
  {
   "cell_type": "markdown",
   "metadata": {},
   "source": [
    "But we can do better than just a snapshot. We can actually dynamically \"watch\" the world update.\n",
    "\n",
    "<div class=\"alert alert-block alert-warning\">\n",
    "    <b>Warning</b>: unfortunately the dynamic update may not work on all Jupyter Notebook systems. But it should work in: Jupyter Lab, Jupyter Notebook, Google Colab, and many others.\n",
    "</div>\n",
    "\n",
    "We'll create two watch windows: one for the world, and one for the network. This will update dynamically when `show=True`. "
   ]
  },
  {
   "cell_type": "markdown",
   "metadata": {},
   "source": [
    "<div class=\"alert alert-block alert-success\">\n",
    "    <b>Idea</b>: when running in Jupyter Lab, you can right-click on the two watch cells (after running them) and select \"Create New View for Output\" for each. You can then drag the panels over so that you can see them along side the notebook.\n",
    "</div>"
   ]
  },
  {
   "cell_type": "code",
   "execution_count": 8,
   "metadata": {
    "colab": {
     "base_uri": "https://localhost:8080/",
     "height": 382,
     "referenced_widgets": [
      "686027ec8d104a65a28c531cff802a49",
      "edfd80f163844472afcad4ac980bb73b"
     ]
    },
    "id": "npHXLuo8UGvF",
    "outputId": "e48d4e46-5ea4-4899-947e-c6c85e4d3b4b",
    "tags": []
   },
   "outputs": [
    {
     "data": {
      "application/vnd.jupyter.widget-view+json": {
       "model_id": "8475cbc9c22446b5b02cafa673a10a39",
       "version_major": 2,
       "version_minor": 0
      },
      "text/plain": [
       "Image(value=b'\\xff\\xd8\\xff\\xe0\\x00\\x10JFIF\\x00\\x01\\x01\\x00\\x00\\x01\\x00\\x01\\x00\\x00\\xff\\xdb\\x00C\\x00\\x08\\x06\\x0…"
      ]
     },
     "metadata": {},
     "output_type": "display_data"
    }
   ],
   "source": [
    "ga.world.watch()"
   ]
  },
  {
   "cell_type": "markdown",
   "metadata": {},
   "source": [
    "Likewise, we can get a snapshot of the network architecture:"
   ]
  },
  {
   "cell_type": "code",
   "execution_count": 9,
   "metadata": {},
   "outputs": [
    {
     "data": {
      "text/html": [
       "<svg id='keras-network' xmlns='http://www.w3.org/2000/svg' xmlns:xlink='http://www.w3.org/1999/xlink' image-rendering=\"pixelated\" width=\"400px\" height=\"324px\" style=\"background-color: #B0C4DE\">\n",
       " <g >\n",
       "  <svg viewBox=\"0 0 350 284\" width=\"400px\" height=\"324px\">\n",
       "    <defs>\n",
       "        <marker id=\"arrow\" markerWidth=\"10\" markerHeight=\"10\" refX=\"9\" refY=\"3\" orient=\"auto\" markerUnits=\"strokeWidth\">\n",
       "          <path d=\"M0,0 L0,6 L9,3 z\" fill=\"black\" />\n",
       "        </marker>\n",
       "    </defs><rect x=\"112.0\" y=\"24\" width=\"126\" height=\"64\" style=\"fill:none;stroke:black;stroke-width:2\"/><image id=\"keras-network_output\" class=\"keras-network\" x=\"113.0\" y=\"25\" height=\"62\" width=\"124\" preserveAspectRatio=\"none\" image-rendering=\"optimizeSpeed\" xlink:href=\"data:image/gif;base64,R0lGODdhfAA+AIcAAAAAAP///wAAAAAAAAAAAAAAAAAAAAAAAAAAAAAAAAAAAAAAAAAAAAAAAAAAAAAAAAAAAAAAAAAAAAAAAAAAAAAAAAAAAAAAAAAAAAAAAAAAAAAAAAAAAAAAAAAAAAAAAAAAAAAAAAAAAAAAAAAAAAAAAAAAAAAAAAAAAAAAAAAAAAAAAAAAAAAAAAAAAAAAAAAAAAAAAAAAAAAAAAAAAAAAAAAAAAAAAAAAAAAAAAAAAAAAAAAAAAAAAAAAAAAAAAAAAAAAAAAAAAAAAAAAAAAAAAAAAAAAAAAAAAAAAAAAAAAAAAAAAAAAAAAAAAAAAAAAAAAAAAAAAAAAAAAAAAAAAAAAAAAAAAAAAAAAAAAAAAAAAAAAAAAAAAAAAAAAAAAAAAAAAAAAAAAAAAAAAAAAAAAAAAAAAAAAAAAAAAAAAAAAAAAAAAAAAAAAAAAAAAAAAAAAAAAAAAAAAAAAAAAAAAAAAAAAAAAAAAAAAAAAAAAAAAAAAAAAAAAAAAAAAAAAAAAAAAAAAAAAAAAAAAAAAAAAAAAAAAAAAAAAAAAAAAAAAAAAAAAAAAAAAAAAAAAAAAAAAAAAAAAAAAAAAAAAAAAAAAAAAAAAAAAAAAAAAAAAAAAAAAAAAAAAAAAAAAAAAAAAAAAAAAAAAAAAAAAAAAAAAAAAAAAAAAAAAAAAAAAAAAAAAAAAAAAAAAAAAAAAAAAAAAAAAAAAAAAAAAAAAAAAAAAAAAAAAAAAAAAAAAAAAAAAAAAAAAAAAAAAAAAAAAAAAAAAAAAAAAAAAAAAAAAAAAAAAAAAAAAAAAAAAAAAAAAAAAAAAAAAAAAAAAAAAAAAAAAAAAAAAAAAAAAAAAAAAAAAAAAAAAAAAAAAAAAAAAAAAAAAAAAAAAAAAAAAAAAAAAAAAAAAAAAAAAAAAAAAAAAAAAAAAAAAAAAAAAAAAAAAAAAAAAAAAAAAAAAAAAAAAAAAAAAAAAAAAAAAAAAAAAAAAAAAAAAAAAAAAAAAAAAAAAAAAAAAAAAAACwAAAAAfAA+AEAI/wABCBxIsKDBgwgTKlzIsKHDhxAjSoQYoKLFixgzatzIsSPGiSBDEvRIsqTJjiJTTjzJsiVJlTAfupxJ02LMmwtr6myJs+fBnUBL+hw6MKhRjkSJHl36MalPplADOH0adenUnlWtXr2Z9ehWrl2Dfo0ZVuxYlWWBnkWbVufalG3dvg0Zt+ZcunVn3gWZV+9eiX1d/gUcmOXgiIUNH5aZ2ORixo1fPm4YWehkhpUlX1aY2ePmnJ2Rfk4YWvTon6U1nkaYWvVqg60zvoYd++LsgrVt3y6au+Ju3r1/C+ztWzhxqcaJCwdwfHnz5MGh53auXHpt6tF/P9denXv23dvBdxYX//12ePPj0ZeffZ59evfrX7dfPjogADs=\"><title>Layer: output 'Dense'\n",
       "Act function: sigmoid\n",
       "Act output range: (0, 1)\n",
       "Shape = (None, 2)</title></image><text x=\"242.0\" y=\"58.0\" font-family=\"monospace\" font-size=\"12\" text-anchor=\"start\" fill=\"blue\" alignment-baseline=\"central\" >output</text><path d=\"M 175.0 116 L 175.0 89 \" stroke=\"black\" stroke-width=\"2\" marker-end=\"url(#arrow)\" fill=\"none\" /><rect x=\"74.0\" y=\"116\" width=\"202\" height=\"64\" style=\"fill:none;stroke:black;stroke-width:2\"/><image id=\"keras-network_hidden\" class=\"keras-network\" x=\"75.0\" y=\"117\" height=\"62\" width=\"200\" preserveAspectRatio=\"none\" image-rendering=\"optimizeSpeed\" xlink:href=\"data:image/gif;base64,R0lGODdh+AA+AIcAAJubmwAAAP///wAAAAAAAAAAAAAAAAAAAAAAAAAAAAAAAAAAAAAAAAAAAAAAAAAAAAAAAAAAAAAAAAAAAAAAAAAAAAAAAAAAAAAAAAAAAAAAAAAAAAAAAAAAAAAAAAAAAAAAAAAAAAAAAAAAAAAAAAAAAAAAAAAAAAAAAAAAAAAAAAAAAAAAAAAAAAAAAAAAAAAAAAAAAAAAAAAAAAAAAAAAAAAAAAAAAAAAAAAAAAAAAAAAAAAAAAAAAAAAAAAAAAAAAAAAAAAAAAAAAAAAAAAAAAAAAAAAAAAAAAAAAAAAAAAAAAAAAAAAAAAAAAAAAAAAAAAAAAAAAAAAAAAAAAAAAAAAAAAAAAAAAAAAAAAAAAAAAAAAAAAAAAAAAAAAAAAAAAAAAAAAAAAAAAAAAAAAAAAAAAAAAAAAAAAAAAAAAAAAAAAAAAAAAAAAAAAAAAAAAAAAAAAAAAAAAAAAAAAAAAAAAAAAAAAAAAAAAAAAAAAAAAAAAAAAAAAAAAAAAAAAAAAAAAAAAAAAAAAAAAAAAAAAAAAAAAAAAAAAAAAAAAAAAAAAAAAAAAAAAAAAAAAAAAAAAAAAAAAAAAAAAAAAAAAAAAAAAAAAAAAAAAAAAAAAAAAAAAAAAAAAAAAAAAAAAAAAAAAAAAAAAAAAAAAAAAAAAAAAAAAAAAAAAAAAAAAAAAAAAAAAAAAAAAAAAAAAAAAAAAAAAAAAAAAAAAAAAAAAAAAAAAAAAAAAAAAAAAAAAAAAAAAAAAAAAAAAAAAAAAAAAAAAAAAAAAAAAAAAAAAAAAAAAAAAAAAAAAAAAAAAAAAAAAAAAAAAAAAAAAAAAAAAAAAAAAAAAAAAAAAAAAAAAAAAAAAAAAAAAAAAAAAAAAAAAAAAAAAAAAAAAAAAAAAAAAAAAAAAAAAAAAAAAAAAAAAAAAAAAAAAAAAAAAAAAAAAAAAAAAAAAAAAAAAAAAAAAAAAAAAAAAAAAAAAAAAAAAAAAAAAAAAAAAAAAAAAAAAAAAAAAAAAAAAAACwAAAAA+AA+AEAI/wADCBxIsKDBgwgTKlzIsKHDhxAjSpxIsaJEARgzatzIsaPHjyA3CgRAsqTJkyhTqlzJ8qTFlxNbypxJk6XAkDhz6gQ5sqbPny1hCn0ItKjRkjd3Kl0asufRpzWHSl0IterMpEyzahXg1KpXlFPDHvxK1mWArWiXdi37VazbgWzZYk1Ll2eAuGXfvsVLdm7dvyLv8vWq1+1gwmcBK9a49rDRwmIdV/W7+G9jyT8hh8X8lHJlupc509Q8VfTjxJ8BhzYdlPRQ1kA9p966GrZK169tR0U9G7Rg3VdxwwQ+mndvtLWJIxX+UrlM2cfV/nZ+m7lF6jaNR8+a3Ln169irb/9P213594rhxY+nPT398vMS3YPVvn5neeLwY8o3Cb1+0/by5Rfffsv5xx2A7gkYEYEFGigdgyQpCBGEAPTnYEf3ASchURBaeGFgFG7oUIj0fehRhrqJ2BCJJuqEom0qMsRiizi9CFuMVHVYIo2MIZgejgrNyONHNrIGZEJCDomhj+EdiVCSSoKoo5MFQRllRkWaRqVBVl7JFZPYbVmljl5ylKVoYhLU5ZVncpYmXGSW2SOJb64ZZZuYvYmnZB7SuKdjeoJJXZ8t/nlYoHYqaehgiMYpJ0aL8tUog4SaGClekxJY6YeXxpXpfpte2KlceiY65Kh5leroo6j2pSqlOypqKqh3r2oa66mzmlcrqLfy2GpbuwbYq5+54hdsgsMWWqyGx/6YrKXLpthsk89yGi2M04ZZrajX3pjtoNs6+Ctida4q57hWfSrso1h2a+S3tLILqbtawqurvF/SmaapvtKLpr3GBirwwCoGBAA7\"><title>Layer: hidden 'Dense'\n",
       "Act function: sigmoid\n",
       "Act output range: (0, 1)\n",
       "Shape = (None, 4)</title></image><text x=\"280.0\" y=\"150.0\" font-family=\"monospace\" font-size=\"12\" text-anchor=\"start\" fill=\"blue\" alignment-baseline=\"central\" >hidden</text><path d=\"M 175.0 208 L 175.0 181 \" stroke=\"black\" stroke-width=\"2\" marker-end=\"url(#arrow)\" fill=\"none\" /><rect x=\"74.0\" y=\"208\" width=\"202\" height=\"52\" style=\"fill:none;stroke:black;stroke-width:2\"/><image id=\"keras-network_input\" class=\"keras-network\" x=\"75.0\" y=\"209\" height=\"50\" width=\"200\" preserveAspectRatio=\"none\" image-rendering=\"optimizeSpeed\" xlink:href=\"data:image/gif;base64,R0lGODdh8AAPAIcAAAEBAWFhYZaWlt3d3SQkJHNzc6qqqrOzs8/Pz+Pj4////wAAAAAAAAAAAAAAAAAAAAAAAAAAAAAAAAAAAAAAAAAAAAAAAAAAAAAAAAAAAAAAAAAAAAAAAAAAAAAAAAAAAAAAAAAAAAAAAAAAAAAAAAAAAAAAAAAAAAAAAAAAAAAAAAAAAAAAAAAAAAAAAAAAAAAAAAAAAAAAAAAAAAAAAAAAAAAAAAAAAAAAAAAAAAAAAAAAAAAAAAAAAAAAAAAAAAAAAAAAAAAAAAAAAAAAAAAAAAAAAAAAAAAAAAAAAAAAAAAAAAAAAAAAAAAAAAAAAAAAAAAAAAAAAAAAAAAAAAAAAAAAAAAAAAAAAAAAAAAAAAAAAAAAAAAAAAAAAAAAAAAAAAAAAAAAAAAAAAAAAAAAAAAAAAAAAAAAAAAAAAAAAAAAAAAAAAAAAAAAAAAAAAAAAAAAAAAAAAAAAAAAAAAAAAAAAAAAAAAAAAAAAAAAAAAAAAAAAAAAAAAAAAAAAAAAAAAAAAAAAAAAAAAAAAAAAAAAAAAAAAAAAAAAAAAAAAAAAAAAAAAAAAAAAAAAAAAAAAAAAAAAAAAAAAAAAAAAAAAAAAAAAAAAAAAAAAAAAAAAAAAAAAAAAAAAAAAAAAAAAAAAAAAAAAAAAAAAAAAAAAAAAAAAAAAAAAAAAAAAAAAAAAAAAAAAAAAAAAAAAAAAAAAAAAAAAAAAAAAAAAAAAAAAAAAAAAAAAAAAAAAAAAAAAAAAAAAAAAAAAAAAAAAAAAAAAAAAAAAAAAAAAAAAAAAAAAAAAAAAAAAAAAAAAAAAAAAAAAAAAAAAAAAAAAAAAAAAAAAAAAAAAAAAAAAAAAAAAAAAAAAAAAAAAAAAAAAAAAAAAAAAAAAAAAAAAAAAAAAAAAAAAAAAAAAAAAAAAAAAAAAAAAAAAAAAAAAAAAAAAAAAAAAAAAAAAAAAAAAAAAAAAAAAAAAAAAAAAAAAAAAAAAAAAAAAAAAAAAAAAAAAAAAAAAAAAAAAAAAAACwAAAAA8AAPAAAI/wABCBxIsKDBgwgTKlzIsKHDhxAjSpxIsaJCAxgzaswYMYDHjyA/CixAsqTJkgIFqFzJcqXAAzBjyowpMKRNjylb6hQQcYDPn0B/CgxK1GfNmyEFKljKtClTgQSiSp0qVSCCq1izYhWYoKvXr14FbhyLsSNSkCNPqi2QcyfLlzPjHjh6FicAty17Fg06dC9QunWVOh2sACrVwwSsal2MgCvYxwnEkt1otm6AtGtNtsXLE4DcuIDPbsar169RAKaFArBsl/Bgw4inKmac1THkr5Inc4TI+jKAzCdHu4X7meZq1sJ3ljbdN3VopIJdPwUQm+ps2ldt3+6aW7eByoF/A/9HeZezSuLF5x63nFzncr/Nma8PL70p7OqJAWCvDWA7bgDe7fZQb5iN115enqUH03M3HfgWRKmdFuEADNoUXX33VXcddtpt151u4Ikm3nhslWceesVVmJSJnL23V3zwzSdifdPhV5V++2XXn3/cARjgd7whN6KBLJKWoIIqolXkcBBGCOOLMkIHAI1LZRjbhrR1eNuHk4UoJYkkOejSkeklKdKSyjXpHGpORtnglFRaiRiWjGkJGZdkefkmmCWadx6ZKbppIZruqSnfhGa2Fid1NuaXo4489vgjkAMKyaeYfyq4oKAr+tnZQ4iyuSaBcNIo52F0LmbnY3iOpeeglxJDiqCm6pHqqYtFPZkrp0pSWRijNqaq1apgtUpZkOwNCRymndGaqG+3GhpjqKT6eqp1OOZI7H8Wdevtt+CGK+645BYUEAA7\"><title>Layer: input 'InputLayer'\n",
       "Shape = [(None, 16)]</title></image><text x=\"280.0\" y=\"236.0\" font-family=\"monospace\" font-size=\"12\" text-anchor=\"start\" fill=\"blue\" alignment-baseline=\"central\" >input</text><text x=\"175.0\" y=\"12.5\" font-family=\"monospace\" font-size=\"15\" text-anchor=\"middle\" fill=\"black\" alignment-baseline=\"central\" >Activations for SimpleNetwork</text></svg></g></svg>"
      ],
      "text/plain": [
       "<IPython.core.display.HTML object>"
      ]
     },
     "metadata": {},
     "output_type": "display_data"
    }
   ],
   "source": [
    "ga.network.display()"
   ]
  },
  {
   "cell_type": "markdown",
   "metadata": {},
   "source": [
    "But, again we can do even better by creating a dynamically updating view:"
   ]
  },
  {
   "cell_type": "code",
   "execution_count": 10,
   "metadata": {
    "colab": {
     "base_uri": "https://localhost:8080/",
     "height": 345,
     "referenced_widgets": [
      "85948e04362d4b658808951c4635bf00",
      "dc52a3313d1f45bd9e8e9d10dd2bfcd7",
      "6203182779304d9c88d259968b51864b"
     ]
    },
    "id": "9dE6sMacUGvF",
    "outputId": "4c9b57c0-acb5-42ae-f841-c5a3fc8910fa",
    "tags": []
   },
   "outputs": [
    {
     "data": {
      "application/vnd.jupyter.widget-view+json": {
       "model_id": "7834b6e3c45546b8a0fc6dc0029ddd54",
       "version_major": 2,
       "version_minor": 0
      },
      "text/plain": [
       "HTML(value='<div style=\"outline: 5px solid #1976D2FF; width: 400px; height: 324px;\"><svg id=\\'keras-network\\' …"
      ]
     },
     "metadata": {},
     "output_type": "display_data"
    }
   ],
   "source": [
    "ga.network.watch()"
   ]
  },
  {
   "cell_type": "markdown",
   "metadata": {},
   "source": [
    "## 2.2 Testing\n",
    "\n",
    "Let's test everything to make sure it is working.\n",
    "\n",
    "Let's see what a chromosome looks like:"
   ]
  },
  {
   "cell_type": "code",
   "execution_count": 11,
   "metadata": {},
   "outputs": [
    {
     "data": {
      "text/plain": [
       "78"
      ]
     },
     "execution_count": 11,
     "metadata": {},
     "output_type": "execute_result"
    }
   ],
   "source": [
    "len(ga.make_random_chromosome())"
   ]
  },
  {
   "cell_type": "markdown",
   "metadata": {},
   "source": [
    "Therefore a chromome will be a length of 78 \"genes\". Each gene is an individual weight or bias in the neural network.\n",
    "\n",
    "Let's see what the sensor readings look like:"
   ]
  },
  {
   "cell_type": "code",
   "execution_count": 12,
   "metadata": {},
   "outputs": [
    {
     "data": {
      "text/plain": [
       "[0.46718648409745694,\n",
       " 0.4271117331973895,\n",
       " 0.37414345720843994,\n",
       " 0.17044562783130593,\n",
       " 0.11489087864984839,\n",
       " 0.10894678156277449,\n",
       " 0.14583186918335064,\n",
       " 0.2782276249779946,\n",
       " 0.7048400086702044,\n",
       " 0.7190601470770902,\n",
       " 0.9132934040785076,\n",
       " 1.0,\n",
       " 1.0,\n",
       " 1.0,\n",
       " 0.6564223201910528,\n",
       " 0.46718648409745694]"
      ]
     },
     "execution_count": 12,
     "metadata": {},
     "output_type": "execute_result"
    }
   ],
   "source": [
    "sensors = ga.get_sensors()\n",
    "sensors"
   ]
  },
  {
   "cell_type": "markdown",
   "metadata": {},
   "source": [
    "And let's see what movements the sensors give when propagated through the network and scaled:"
   ]
  },
  {
   "cell_type": "code",
   "execution_count": 13,
   "metadata": {},
   "outputs": [
    {
     "data": {
      "text/plain": [
       "array([-0.00925338, -0.18910289], dtype=float32)"
      ]
     },
     "execution_count": 13,
     "metadata": {},
     "output_type": "execute_result"
    }
   ],
   "source": [
    "ga.get_move(sensors)"
   ]
  },
  {
   "cell_type": "markdown",
   "metadata": {},
   "source": [
    "You should see the activations in the network display change. The robot won't actually move in the simulator until we update it."
   ]
  },
  {
   "cell_type": "markdown",
   "metadata": {
    "id": "ocq9cHWvUGvG"
   },
   "source": [
    "Ok, let's put all of this together and move the robot around the simulated world. We can test out a random chromosome to see what this does.\n",
    "\n",
    "We pass in:\n",
    "\n",
    "1. a random chromosome (like one from the initial population)\n",
    "2. A list of poses (x, y, angle) to test\n",
    "3. number of seconds to run the simulation\n",
    "4. Whether we should show the robot and network updates\n",
    "5. Whether the simulation should run in real_time (setting to False will run as fast as possible)\n",
    "\n",
    "Let's go!"
   ]
  },
  {
   "cell_type": "code",
   "execution_count": 14,
   "metadata": {
    "colab": {
     "base_uri": "https://localhost:8080/",
     "height": 85,
     "referenced_widgets": [
      "24370d9d5e054008af5d1547ae1e06ad",
      "d50d56b63cfc44278489faee93999b82",
      "a038bba8c4514aadb3ef388bb80578fb",
      "2112fa546d854613ab9ce5a0cbb31e05",
      "7c0ae88a94904d5e8f06937e44eee86c",
      "780648e92fc645a9b8dd73254f252c2e",
      "a9c3ad6214a04c33baad9842454be573",
      "4c02aaa7d86348a08cdaab1e0b2758e3"
     ]
    },
    "id": "Xv19whtMUGvG",
    "outputId": "4929a03e-1d0e-4eca-9733-91e97f36e37c"
   },
   "outputs": [
    {
     "data": {
      "text/plain": [
       "1.0023952166832315"
      ]
     },
     "execution_count": 14,
     "metadata": {},
     "output_type": "execute_result"
    }
   ],
   "source": [
    "ga.fitness(\n",
    "    ga.make_random_chromosome(), \n",
    "    poses=[(50, 50, 0)], \n",
    "    seconds=5,\n",
    "    show=True, \n",
    "    real_time=True)"
   ]
  },
  {
   "cell_type": "markdown",
   "metadata": {},
   "source": [
    "Interesting! You can try that cell over and over again to see many possible behaviors of these random weights.\n",
    "\n",
    "Some questions you might be interested in answering at this point?\n",
    "\n",
    "1. What percentage of random genes spin in circles?\n",
    "2. What percentage of random genes change movement during the 5 seconds of training?\n",
    "3. What percentage of gense actually make it to a wall?\n",
    "4. What is the range of \"fitness\" values returned for these random chromosomes?"
   ]
  },
  {
   "cell_type": "markdown",
   "metadata": {
    "id": "aoo2YGEVUGvK"
   },
   "source": [
    "### 3. Evolve!"
   ]
  },
  {
   "cell_type": "markdown",
   "metadata": {
    "id": "kEUDFqS-UGvG"
   },
   "source": [
    "To run 10 generations (plus one to test initial population) for a population of size 30, in the 5 test poses for 3 seconds each will take 1 hour, 22 minutes, and 30 seconds of simulated time."
   ]
  },
  {
   "cell_type": "markdown",
   "metadata": {
    "id": "omwTjbx-UGvK"
   },
   "source": [
    "Often, 10 simulated generations can performed in a few actual clock minutes on a typical computer. One can get about a 50 x speed-up over real time when not watching the network, and about 10 x speed-up when watching the network."
   ]
  },
  {
   "cell_type": "markdown",
   "metadata": {
    "id": "7Xy3jw6EUGvL"
   },
   "source": [
    "You can run without watching by setting `show=False`."
   ]
  },
  {
   "cell_type": "code",
   "execution_count": 15,
   "metadata": {
    "colab": {
     "base_uri": "https://localhost:8080/"
    },
    "id": "NqqfhTNoUGvL",
    "outputId": "15deae95-61be-4af3-b741-8acfd2e8c135"
   },
   "outputs": [
    {
     "name": "stdout",
     "output_type": "stream",
     "text": [
      "Using random seed: 7016511\n",
      "  Maximum number of generations: 10\n",
      "  Crossover rate: 0.0\n",
      "  Mutation rate: 0.6\n",
      "  Elite percentage: 0.05\n",
      "  Elite count: 1\n",
      "Generation    0 Best fitness 124.63\n",
      "Generation    1 Best fitness 126.03\n",
      "Generation    2 Best fitness 137.68\n",
      "Generation    3 Best fitness 137.68\n",
      "Generation    4 Best fitness 158.72\n",
      "Generation    5 Best fitness 172.70\n",
      "Generation    6 Best fitness 195.08\n",
      "Generation    7 Best fitness 195.08\n",
      "Generation    8 Best fitness 206.53\n",
      "Generation    9 Best fitness 206.53\n",
      "Generation   10 Best fitness 208.08\n",
      "Max generations reached\n",
      "CPU times: user 1min 7s, sys: 15.4 ms, total: 1min 7s\n",
      "Wall time: 1min 7s\n"
     ]
    }
   ],
   "source": [
    "%%time\n",
    "ga.reset()\n",
    "ga.world.reset()\n",
    "bestFound = ga.evolve(\n",
    "    generations=10, \n",
    "    crossover_rate=0.0, \n",
    "    mutation_rate=0.6, \n",
    "    elite_percent=0.05, \n",
    "    seconds=3,\n",
    "    show=False,\n",
    ") "
   ]
  },
  {
   "cell_type": "markdown",
   "metadata": {
    "id": "CbCDQPkJUGvL"
   },
   "source": [
    "### 4. Analysis\n",
    "\n",
    "Here's a summary of how the best and average fitness for the population changed over time:"
   ]
  },
  {
   "cell_type": "code",
   "execution_count": 17,
   "metadata": {
    "colab": {
     "base_uri": "https://localhost:8080/",
     "height": 295
    },
    "id": "NxX8912mUGvM",
    "outputId": "c7550553-df7f-4b87-c730-a4ddd8e35387"
   },
   "outputs": [
    {
     "data": {
      "image/png": "[encoded data removed]",
      "text/plain": [
       "<Figure size 640x480 with 1 Axes>"
      ]
     },
     "metadata": {},
     "output_type": "display_data"
    }
   ],
   "source": [
    "ga.plot_stats(\"NNGA\")"
   ]
  },
  {
   "cell_type": "markdown",
   "metadata": {
    "id": "IPm0T3vOUGvM"
   },
   "source": [
    "Let's see the results by trying the best ever over the poses, for 5 seconds each:"
   ]
  },
  {
   "cell_type": "code",
   "execution_count": 18,
   "metadata": {
    "colab": {
     "base_uri": "https://localhost:8080/",
     "height": 285,
     "referenced_widgets": [
      "8ad2ce156ec745d187f0b182345b655f",
      "75b5f1165faf4949a9065abec1c2532b",
      "d9c797c19dd5465ba5e4576f460f11fa",
      "4bc107b0fdfe431c845e58cf143ac15d",
      "8e68efa968d849e6b52b408f2cf6785c",
      "d72ff6dce2f4474caa50979834bba248",
      "84bb4ccf6acc42d9a48141295b7127f3",
      "0706330888c84838970071882bb77045",
      "f01ce7d4998f4cd18793c55b977cd44c",
      "e0f6d576022b4c3f8731377f4c16b2b2",
      "c57c8a5a7cf046babd6a571dea10425d",
      "b700450539e24b3f958ab82cb4c61ba7",
      "f7880b7cb8234171973ae8fe3d885c5a",
      "adee9b75ac91429bbda90174d6040d80",
      "11b25aefe3464744b0363f568b70ff7a",
      "b19a2c494a144ace9d3abb736fee833f",
      "9c4c52242d064e90b5da368e1a469632",
      "14fb98746a0141b3a19d4ddc2f8bfbf7",
      "6fddbded18e9420ab53fa31b562d97bd",
      "469f3917098844d0af203e6b977eed1b",
      "035bbb9735a34758bae96160426f7d9a",
      "f3e7c40d8aad4e30a33f6f4bc05bd140",
      "0975fa7125874869bb1ed29c7aea16d1",
      "8f378d82408e41d287b655a59c952c9a",
      "ebcfb91f4b434d6ab43cd99e345ce5ec",
      "3bc9276ac4974a03be28b2833b3c01c4",
      "b9e7ada87a93489fa6dec933a4d0c569",
      "29cd109ab212478aa65e835c2817d681",
      "72c0466433c344be8cd1ca5e2318c683",
      "bd16fcf2b7c64c468196e8e943597a72",
      "45ffbc451cc74c828c122c7278667a74",
      "5ea147a8f055448c8c9db986bb3a4bde",
      "471f0b80f59e43a39333e263102dc92d",
      "83f09a58fcd4407684012f5fa19382f2",
      "ac274c57aaab4939b6c912bcfa37682f",
      "cf3e41e28e0e40fd84f8ee99a94e16dd",
      "256452ae51354eaea44d4714edfb8bde",
      "19497de06b24405fb512395602693b79",
      "315ee295b7604620b68534d662a5b6d6",
      "2f3513979be0412c8be18ccae97f113b"
     ]
    },
    "id": "WmajpIM1UGvM",
    "outputId": "7b928ca7-7275-4847-9f6b-39a47c5ab00e"
   },
   "outputs": [
    {
     "data": {
      "text/plain": [
       "348.2066129784954"
      ]
     },
     "execution_count": 18,
     "metadata": {},
     "output_type": "execute_result"
    }
   ],
   "source": [
    "ga.fitness(\n",
    "    ga.bestEver, \n",
    "    real_time=True, \n",
    "    show=True, \n",
    "    seconds=5)"
   ]
  },
  {
   "cell_type": "markdown",
   "metadata": {},
   "source": [
    "Evolution may have created lots of behaviors that crash into walls. \n",
    "\n",
    "What is the most interesting behavior that you observer after 10 generations?\n",
    "\n",
    "Let's run a few more generations."
   ]
  },
  {
   "cell_type": "markdown",
   "metadata": {
    "id": "h9hjrUWiUGvM"
   },
   "source": [
    "If you wish, you can increase the maximum generations, change any of the parameters, and continue to evolve:"
   ]
  },
  {
   "cell_type": "code",
   "execution_count": 18,
   "metadata": {
    "id": "xYj9oS8NUGvN"
   },
   "outputs": [
    {
     "name": "stdout",
     "output_type": "stream",
     "text": [
      "  Maximum number of generations: 20\n",
      "  Crossover rate: 0.6\n",
      "  Mutation rate: 0.001\n",
      "  Elite percentage: 0.1\n",
      "  Elite count: 3\n",
      "Generation   11 Best fitness 179.25\n",
      "Generation   12 Best fitness 179.35\n",
      "Generation   13 Best fitness 179.35\n",
      "Generation   14 Best fitness 179.35\n",
      "Generation   15 Best fitness 179.35\n",
      "Generation   16 Best fitness 179.35\n",
      "Generation   17 Best fitness 188.26\n",
      "Generation   18 Best fitness 188.26\n",
      "Generation   19 Best fitness 188.26\n",
      "Generation   20 Best fitness 188.26\n",
      "Max generations reached\n"
     ]
    }
   ],
   "source": [
    "bestFound = ga.evolve(\n",
    "    generations=20, \n",
    "    crossover_rate=0.6, \n",
    "    mutation_rate=0.001, \n",
    "    elite_percent=0.1, \n",
    "    seconds=3,\n",
    "    show=False,\n",
    ") "
   ]
  },
  {
   "cell_type": "code",
   "execution_count": 19,
   "metadata": {},
   "outputs": [
    {
     "data": {
      "image/png": "[encoded data removed]",
      "text/plain": [
       "<Figure size 640x480 with 1 Axes>"
      ]
     },
     "metadata": {},
     "output_type": "display_data"
    }
   ],
   "source": [
    "ga.plotStats(\"NNGA\")"
   ]
  },
  {
   "cell_type": "code",
   "execution_count": 20,
   "metadata": {},
   "outputs": [
    {
     "data": {
      "text/plain": [
       "286.39890800852277"
      ]
     },
     "execution_count": 20,
     "metadata": {},
     "output_type": "execute_result"
    }
   ],
   "source": [
    "ga.fitness(\n",
    "    ga.bestEver, \n",
    "    real_time=True, \n",
    "    show=True, \n",
    "    seconds=5,\n",
    ")"
   ]
  },
  {
   "cell_type": "markdown",
   "metadata": {},
   "source": [
    "Was the best from the second 10 generations significantly different from the best from the first 10 generations?\n",
    "\n",
    "Did the fitness change dramatically during the second 10 generations? \n",
    "\n",
    "Do you think there will be a point where the fitness won't get any higher?"
   ]
  },
  {
   "cell_type": "markdown",
   "metadata": {},
   "source": [
    "## 6. Further Exploration"
   ]
  },
  {
   "cell_type": "markdown",
   "metadata": {},
   "source": [
    "There is one additional aspect added to the fitness measure: if you don't specify the number of seconds to use explicitly, it will compute the number of seconds based on the generation. This allows the GA to focus on initial movements first, and longer control as the generations increase. You can test this effect by running without explicitly setting seconds. "
   ]
  },
  {
   "cell_type": "markdown",
   "metadata": {},
   "source": [
    "<div class=\"alert alert-block alert-info\">\n",
    "    <b>Tip</b>: the best fitness measure will increase with the increased simulation time. So you can't really compare the fitness in the begining generations with following generations when seconds is `None`. \n",
    "</div>"
   ]
  },
  {
   "cell_type": "markdown",
   "metadata": {},
   "source": [
    "Some ideas to try:\n",
    "\n",
    "1. Try evolving with seconds=None. How does this compare with a fixed number of seconds?\n",
    "2. What happens if you try with a larger, fixed number of seconds, such as 10?\n",
    "3. The above experiments used 0.0 crossover with a high mutation rate. What happens if you try with a higher crossover rate (say 30%) and with a much smaller mutation rate?\n",
    "4. Anything that you can represent with a list of numbers and create a fitness function for, you could conceivably evole. What else could you try? What are the limitations of the GA?"
   ]
  },
  {
   "cell_type": "markdown",
   "metadata": {},
   "source": [
    "## 5. References\n",
    "\n",
    "1. Turing\n",
    "2. Holland"
   ]
  }
 ],
 "metadata": {
  "accelerator": "GPU",
  "colab": {
   "collapsed_sections": [],
   "name": "NNGA.ipynb",
   "provenance": []
  },
  "kernelspec": {
   "display_name": "Python 3",
   "language": "python",
   "name": "python3"
  },
  "language_info": {
   "codemirror_mode": {
    "name": "ipython",
    "version": 3
   },
   "file_extension": ".py",
   "mimetype": "text/x-python",
   "name": "python",
   "nbconvert_exporter": "python",
   "pygments_lexer": "ipython3",
   "version": "3.8.5"
  },
  "widgets": {
   "application/vnd.jupyter.widget-state+json": {
    "state": {
     "586524e62179456c9830c227c59d7bda": {
      "model_module": "@jupyter-widgets/base",
      "model_module_version": "1.2.0",
      "model_name": "LayoutModel",
      "state": {}
     },
     "7834b6e3c45546b8a0fc6dc0029ddd54": {
      "model_module": "@jupyter-widgets/controls",
      "model_module_version": "1.5.0",
      "model_name": "HTMLModel",
      "state": {
       "layout": "IPY_MODEL_586524e62179456c9830c227c59d7bda",
       "style": "IPY_MODEL_826c7b9ddf894249922867f6fdfd808c",
       "value": "<div style=\"outline: 5px solid #1976D2FF; width: 400px; height: 324px;\"><svg id='keras-network' xmlns='http://www.w3.org/2000/svg' xmlns:xlink='http://www.w3.org/1999/xlink' image-rendering=\"pixelated\" width=\"400px\" height=\"324px\" style=\"background-color: #B0C4DE\">\n <g >\n  <svg viewBox=\"0 0 350 284\" width=\"400px\" height=\"324px\">\n    <defs>\n        <marker id=\"arrow\" markerWidth=\"10\" markerHeight=\"10\" refX=\"9\" refY=\"3\" orient=\"auto\" markerUnits=\"strokeWidth\">\n          <path d=\"M0,0 L0,6 L9,3 z\" fill=\"black\" />\n        </marker>\n    </defs><rect x=\"112.0\" y=\"24\" width=\"126\" height=\"64\" style=\"fill:none;stroke:black;stroke-width:2\"/><image id=\"keras-network_output\" class=\"keras-network\" x=\"113.0\" y=\"25\" height=\"62\" width=\"124\" preserveAspectRatio=\"none\" image-rendering=\"optimizeSpeed\" xlink:href=\"data:image/gif;base64,R0lGODdhfAA+AIcAAAAAAP///wAAAAAAAAAAAAAAAAAAAAAAAAAAAAAAAAAAAAAAAAAAAAAAAAAAAAAAAAAAAAAAAAAAAAAAAAAAAAAAAAAAAAAAAAAAAAAAAAAAAAAAAAAAAAAAAAAAAAAAAAAAAAAAAAAAAAAAAAAAAAAAAAAAAAAAAAAAAAAAAAAAAAAAAAAAAAAAAAAAAAAAAAAAAAAAAAAAAAAAAAAAAAAAAAAAAAAAAAAAAAAAAAAAAAAAAAAAAAAAAAAAAAAAAAAAAAAAAAAAAAAAAAAAAAAAAAAAAAAAAAAAAAAAAAAAAAAAAAAAAAAAAAAAAAAAAAAAAAAAAAAAAAAAAAAAAAAAAAAAAAAAAAAAAAAAAAAAAAAAAAAAAAAAAAAAAAAAAAAAAAAAAAAAAAAAAAAAAAAAAAAAAAAAAAAAAAAAAAAAAAAAAAAAAAAAAAAAAAAAAAAAAAAAAAAAAAAAAAAAAAAAAAAAAAAAAAAAAAAAAAAAAAAAAAAAAAAAAAAAAAAAAAAAAAAAAAAAAAAAAAAAAAAAAAAAAAAAAAAAAAAAAAAAAAAAAAAAAAAAAAAAAAAAAAAAAAAAAAAAAAAAAAAAAAAAAAAAAAAAAAAAAAAAAAAAAAAAAAAAAAAAAAAAAAAAAAAAAAAAAAAAAAAAAAAAAAAAAAAAAAAAAAAAAAAAAAAAAAAAAAAAAAAAAAAAAAAAAAAAAAAAAAAAAAAAAAAAAAAAAAAAAAAAAAAAAAAAAAAAAAAAAAAAAAAAAAAAAAAAAAAAAAAAAAAAAAAAAAAAAAAAAAAAAAAAAAAAAAAAAAAAAAAAAAAAAAAAAAAAAAAAAAAAAAAAAAAAAAAAAAAAAAAAAAAAAAAAAAAAAAAAAAAAAAAAAAAAAAAAAAAAAAAAAAAAAAAAAAAAAAAAAAAAAAAAAAAAAAAAAAAAAAAAAAAAAAAAAAAAAAAAAAAAAAAAAAAAAAAAAAAAAAAAAAAAAAAAAAAAAAAAAAAAAAAAAAAAAAAAAAAAAAAAAAAAAAAAACwAAAAAfAA+AEAI/wABCBxIsKDBgwgTKlzIsKHDhxAjSoQYoKLFixgzatzIsSPGiSBDEvRIsqTJjiJTTjzJsiVJlTAfupxJ02LMmwtr6myJs+fBnUBL+hw6MKhRjkSJHl36MalPplADOH0adenUnlWtXr2Z9ehWrl2Dfo0ZVuxYlWWBnkWbVufalG3dvg0Zt+ZcunVn3gWZV+9eiX1d/gUcmOXgiIUNH5aZ2ORixo1fPm4YWehkhpUlX1aY2ePmnJ2Rfk4YWvTon6U1nkaYWvVqg60zvoYd++LsgrVt3y6au+Ju3r1/C+ztWzhxqcaJCwdwfHnz5MGh53auXHpt6tF/P9denXv23dvBdxYX//12ePPj0ZeffZ59evfrX7dfPjogADs=\"><title>Layer: output 'Dense'\nAct function: sigmoid\nAct output range: (0, 1)\nShape = (None, 2)</title></image><text x=\"242.0\" y=\"58.0\" font-family=\"monospace\" font-size=\"12\" text-anchor=\"start\" fill=\"blue\" alignment-baseline=\"central\" >output</text><path d=\"M 175.0 116 L 175.0 89 \" stroke=\"black\" stroke-width=\"2\" marker-end=\"url(#arrow)\" fill=\"none\" /><rect x=\"74.0\" y=\"116\" width=\"202\" height=\"64\" style=\"fill:none;stroke:black;stroke-width:2\"/><image id=\"keras-network_hidden\" class=\"keras-network\" x=\"75.0\" y=\"117\" height=\"62\" width=\"200\" preserveAspectRatio=\"none\" image-rendering=\"optimizeSpeed\" xlink:href=\"data:image/gif;base64,R0lGODdh+AA+AIcAAAAAABsbGzg4OP///wAAAAAAAAAAAAAAAAAAAAAAAAAAAAAAAAAAAAAAAAAAAAAAAAAAAAAAAAAAAAAAAAAAAAAAAAAAAAAAAAAAAAAAAAAAAAAAAAAAAAAAAAAAAAAAAAAAAAAAAAAAAAAAAAAAAAAAAAAAAAAAAAAAAAAAAAAAAAAAAAAAAAAAAAAAAAAAAAAAAAAAAAAAAAAAAAAAAAAAAAAAAAAAAAAAAAAAAAAAAAAAAAAAAAAAAAAAAAAAAAAAAAAAAAAAAAAAAAAAAAAAAAAAAAAAAAAAAAAAAAAAAAAAAAAAAAAAAAAAAAAAAAAAAAAAAAAAAAAAAAAAAAAAAAAAAAAAAAAAAAAAAAAAAAAAAAAAAAAAAAAAAAAAAAAAAAAAAAAAAAAAAAAAAAAAAAAAAAAAAAAAAAAAAAAAAAAAAAAAAAAAAAAAAAAAAAAAAAAAAAAAAAAAAAAAAAAAAAAAAAAAAAAAAAAAAAAAAAAAAAAAAAAAAAAAAAAAAAAAAAAAAAAAAAAAAAAAAAAAAAAAAAAAAAAAAAAAAAAAAAAAAAAAAAAAAAAAAAAAAAAAAAAAAAAAAAAAAAAAAAAAAAAAAAAAAAAAAAAAAAAAAAAAAAAAAAAAAAAAAAAAAAAAAAAAAAAAAAAAAAAAAAAAAAAAAAAAAAAAAAAAAAAAAAAAAAAAAAAAAAAAAAAAAAAAAAAAAAAAAAAAAAAAAAAAAAAAAAAAAAAAAAAAAAAAAAAAAAAAAAAAAAAAAAAAAAAAAAAAAAAAAAAAAAAAAAAAAAAAAAAAAAAAAAAAAAAAAAAAAAAAAAAAAAAAAAAAAAAAAAAAAAAAAAAAAAAAAAAAAAAAAAAAAAAAAAAAAAAAAAAAAAAAAAAAAAAAAAAAAAAAAAAAAAAAAAAAAAAAAAAAAAAAAAAAAAAAAAAAAAAAAAAAAAAAAAAAAAAAAAAAAAAAAAAAAAAAAAAAAAAAAAAAAAAAAAAAAAAAAAAAAAAAAAAAAAAAAAAAAAAAAAAAACwAAAAA+AA+AEAI/wABCBxIsKDBgwgTKlzIsKHDhxAjSpxIsaJEARgzatzIsaPHjyA3CgxAsqTJkyhTqlzJ8qTAATBjypxJs6bNmzhnWtw5MaTPn0BBjmxJtKjRlS9zKl3K9CbPpw+DSp3qc+jRq1hZJm3KtStOqGAXUh1LNqPVrGjTbvXKtm3YtwfLyp16Nq3do2vb6m0Kt+/AuYB/1r1LWCuAvYj5+u0buPHHwYUjuzycuPLXxXAdaxYJQLLnlHkti4aJOfPm05A/Rw492nLpt6dRd1ZNm3XrxK/Dxt6cmvZd27f35ga7W3Nv32opBxc9HGpxx8eRZwW+nG3zp88bR5d+lXr1rtd5Zv8PvJ27Ue/fFYevOB5wefNE0adfut5i+7nv4Ruej7s+xfty5aefSvLxd5l/FwFIloADolSggTYh2JOCYzHYoEkPQkiThAlSSNdsF06nnIbgcQiRh1RZGGIAGZIYk4knoiiViiG26OIAMEYlY1A0Xmijizk6tCOPIK6I14g30hckQ0MC1WODP5K4JJNNVlWkkUVFqeGUYlUZ0pMDagkhlwp5+eWVWLYkpoFkJmSmUGimiRSSSebUJkJvPhannKDRWadTdxqUp0dg6rcmf4EKOihHhcJ36HyJFrQoo3vyOdmfTEVK0KScWRqfn5huqKlAnGrUqHmPpjcqqaVidCp3qX68tyoArbpaqackxVrdrLUK8Kp0ui7Ha62/IhdscMO2Wqxvx96WbKnL1gZqqDI9y2m0qjXbmrWTYvuZtqNxu6i3noHL3Kq9kiuZua6hS+ytuLJbmbiDqrvatNSS5q6y8Hoqb3+jptuvpf8iRm+e9hZWsHD7QjswnwvrdfCbCRMWsVsNX/uwnBdbl3G3G6fZsVcTm1nxb/jmW7KXJ9s1cokBv4vrfvkCGjO/M89Zs82aCpwzgSlTO+vQRBcNY0AAOw==\"><title>Layer: hidden 'Dense'\nAct function: sigmoid\nAct output range: (0, 1)\nShape = (None, 4)</title></image><text x=\"280.0\" y=\"150.0\" font-family=\"monospace\" font-size=\"12\" text-anchor=\"start\" fill=\"blue\" alignment-baseline=\"central\" >hidden</text><path d=\"M 175.0 208 L 175.0 181 \" stroke=\"black\" stroke-width=\"2\" marker-end=\"url(#arrow)\" fill=\"none\" /><rect x=\"74.0\" y=\"208\" width=\"202\" height=\"52\" style=\"fill:none;stroke:black;stroke-width:2\"/><image id=\"keras-network_input\" class=\"keras-network\" x=\"75.0\" y=\"209\" height=\"50\" width=\"200\" preserveAspectRatio=\"none\" image-rendering=\"optimizeSpeed\" xlink:href=\"data:image/gif;base64,R0lGODdh8AAPAIcAAAICAltbW7W1tdLS0hAQEDQ0NIuLi52dncPDw+Pj4////wAAAAAAAAAAAAAAAAAAAAAAAAAAAAAAAAAAAAAAAAAAAAAAAAAAAAAAAAAAAAAAAAAAAAAAAAAAAAAAAAAAAAAAAAAAAAAAAAAAAAAAAAAAAAAAAAAAAAAAAAAAAAAAAAAAAAAAAAAAAAAAAAAAAAAAAAAAAAAAAAAAAAAAAAAAAAAAAAAAAAAAAAAAAAAAAAAAAAAAAAAAAAAAAAAAAAAAAAAAAAAAAAAAAAAAAAAAAAAAAAAAAAAAAAAAAAAAAAAAAAAAAAAAAAAAAAAAAAAAAAAAAAAAAAAAAAAAAAAAAAAAAAAAAAAAAAAAAAAAAAAAAAAAAAAAAAAAAAAAAAAAAAAAAAAAAAAAAAAAAAAAAAAAAAAAAAAAAAAAAAAAAAAAAAAAAAAAAAAAAAAAAAAAAAAAAAAAAAAAAAAAAAAAAAAAAAAAAAAAAAAAAAAAAAAAAAAAAAAAAAAAAAAAAAAAAAAAAAAAAAAAAAAAAAAAAAAAAAAAAAAAAAAAAAAAAAAAAAAAAAAAAAAAAAAAAAAAAAAAAAAAAAAAAAAAAAAAAAAAAAAAAAAAAAAAAAAAAAAAAAAAAAAAAAAAAAAAAAAAAAAAAAAAAAAAAAAAAAAAAAAAAAAAAAAAAAAAAAAAAAAAAAAAAAAAAAAAAAAAAAAAAAAAAAAAAAAAAAAAAAAAAAAAAAAAAAAAAAAAAAAAAAAAAAAAAAAAAAAAAAAAAAAAAAAAAAAAAAAAAAAAAAAAAAAAAAAAAAAAAAAAAAAAAAAAAAAAAAAAAAAAAAAAAAAAAAAAAAAAAAAAAAAAAAAAAAAAAAAAAAAAAAAAAAAAAAAAAAAAAAAAAAAAAAAAAAAAAAAAAAAAAAAAAAAAAAAAAAAAAAAAAAAAAAAAAAAAAAAAAAAAAAAAAAAAAAAAAAAAAAAAAAAAAAAAAAAAAAAAAAAAAAAAAAAAAAAAAAAAAAAAAAAAAAAAAAAAAAAAACwAAAAA8AAPAAAI/wABCBxIsKDBgwgTKlzIsKHDhxAjSpxIsaJCAhgzaswosIDHjyA/RhxAsqTJkiNPqhwgMIDLlzBftoxJM0BEAThz6swpEIHPn0B/CkxAtKjRogIVKF3KdKlAA1CjSo0qcKdVnAIPaN3KdavAjWAxdgxJtkDKlSbPoiU5sybMtm5d3ry6s2fQuwiGHt2bIGnTvwqeTh1soCpdnVm7Kj7wNezGsWVBql07GS3cuJfdzj2MFQDeu3r5GvULmKlgwlINcxaQeDHXxo45AogcsvJK2yoz19RNczNnu5+FAhB9lHRppadRQ1X9G4DrrrBjE4BM2yzEtWmvY2cLIO7b7t7lQv9c3Tk40NDE+wI4bhqA8tQAyLN2/twrAOmyq4vUvh33Sd4xAfjdQ/IBZx56xBl3XHLKMXdYa/VFFxt1tPmX3UPbcReeeBvaNB55BgaHoGgKlsYgag7SBeFzEjpGYWQWosQfdgLKBF54vj3omXk+jchXiYCdSFiKV63oWothvVhWjNxhmGGNHG6Yo4o78ujjXkD+JeRgRFpl5GJIgqUkWUyyNCNlN3oHpYcEgljlgcOlR1SWTW05VZd10VcfY/fhN91s+lnnZH9nWpYmZodq9uFqIX52ZXHrsYece+8tF5+be2oV5mOA6lfmp4nuFmpvizbHY49xyklne5VaWqCeEfYuid+YtRV6m625jRqgrgM69OqpeaWa3qpOUVopnojByqJFzDbr7LPQRivttAYFBAA7\"><title>Layer: input 'InputLayer'\nShape = [(None, 16)]</title></image><text x=\"280.0\" y=\"236.0\" font-family=\"monospace\" font-size=\"12\" text-anchor=\"start\" fill=\"blue\" alignment-baseline=\"central\" >input</text><text x=\"175.0\" y=\"12.5\" font-family=\"monospace\" font-size=\"15\" text-anchor=\"middle\" fill=\"black\" alignment-baseline=\"central\" >Activations for SimpleNetwork</text></svg></g></svg></div>"
      }
     },
     "826c7b9ddf894249922867f6fdfd808c": {
      "model_module": "@jupyter-widgets/controls",
      "model_module_version": "1.5.0",
      "model_name": "DescriptionStyleModel",
      "state": {
       "description_width": ""
      }
     },
     "8475cbc9c22446b5b02cafa673a10a39": {
      "buffers": [
       {
        "data": "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",
        "encoding": "base64",
        "path": [
         "value"
        ]
       }
      ],
      "model_module": "@jupyter-widgets/controls",
      "model_module_version": "1.5.0",
      "model_name": "ImageModel",
      "state": {
       "layout": "IPY_MODEL_fb4a6ff2c58b4b64acc433eeb2b8afca"
      }
     },
     "fb4a6ff2c58b4b64acc433eeb2b8afca": {
      "model_module": "@jupyter-widgets/base",
      "model_module_version": "1.2.0",
      "model_name": "LayoutModel",
      "state": {
       "border": "10px solid rgb(0 177 255)",
       "margin": "auto"
      }
     }
    },
    "version_major": 2,
    "version_minor": 0
   }
  }
 },
 "nbformat": 4,
 "nbformat_minor": 4
}
