{
 "cells": [
  {
   "cell_type": "markdown",
   "metadata": {
    "id": "V6THckODUGu6"
   },
   "source": [
    "# Computational Essays on Artificial Intelligence\n",
    "## Evolving Robot Control\n",
    "\n",
    "In this essay, we explore the Genetic Algorithm to evolve a Robot control network.\n",
    "\n",
    "1. A `chromosome` will be composed of a series of `genes`, each representing a weight in a neural network\n",
    "2. A `population` of chromosomes is generated randomly\n",
    "3. For a number of generations the chromosomes are `mutated` by a small amount"
   ]
  },
  {
   "cell_type": "markdown",
   "metadata": {
    "id": "qu0oA5NWUGu-"
   },
   "source": [
    "### 1. Setup"
   ]
  },
  {
   "cell_type": "markdown",
   "metadata": {},
   "source": [
    "<div class=\"alert alert-block alert-info\">\n",
    "    <b>Note</b>: if running this notebook on Google Colab, you will need to install the required Python packages each time you start a session. Otherwise, you only need to install the packages once.\n",
    "</div>"
   ]
  },
  {
   "cell_type": "markdown",
   "metadata": {},
   "source": [
    "To install the required Python packages:"
   ]
  },
  {
   "cell_type": "code",
   "execution_count": 1,
   "metadata": {
    "colab": {
     "base_uri": "https://localhost:8080/"
    },
    "id": "baekK6oGUGu9",
    "outputId": "df8356cd-2624-4698-f439-051aed1c82d3"
   },
   "outputs": [
    {
     "name": "stdout",
     "output_type": "stream",
     "text": [
      "Note: you may need to restart the kernel to use updated packages.\n"
     ]
    }
   ],
   "source": [
    "%pip install aitk --upgrade --quiet"
   ]
  },
  {
   "cell_type": "markdown",
   "metadata": {
    "id": "1X8RdoEyUGu-"
   },
   "source": [
    "For this demonstration, we will need:\n",
    "\n",
    "* `GeneticAlgorithm` defined in aitk.algorithms.ga\n",
    "* `World`, `Scribbler`, `RangeSensor` from aitk.robots \n",
    "* `SimpleNetwork` from aitk.networks\n",
    "* a few other support functions"
   ]
  },
  {
   "cell_type": "markdown",
   "metadata": {
    "id": "Fd1XrIsHUGu_"
   },
   "source": [
    "We import everything need in this cell:"
   ]
  },
  {
   "cell_type": "code",
   "execution_count": 1,
   "metadata": {
    "id": "AIR4jwkRUGu_"
   },
   "outputs": [],
   "source": [
    "from aitk.algorithms.ga import GeneticAlgorithm\n",
    "from aitk.robots import World, Scribbler, RangeSensor\n",
    "from aitk.networks import SimpleNetwork\n",
    "from aitk.robots.utils import distance\n",
    "import random"
   ]
  },
  {
   "cell_type": "markdown",
   "metadata": {},
   "source": [
    "## 2. The Genetic Algorithm"
   ]
  },
  {
   "cell_type": "markdown",
   "metadata": {},
   "source": [
    "The [Genetic Algorithm](https://en.wikipedia.org/wiki/Genetic_algorithm) (GA) is an approach inside the category of machine learning systems called [Evolutionary Algorithms](https://en.wikipedia.org/wiki/Evolutionary_algorithm) (EA). For this essay, we will use the GA as follows:\n",
    "\n",
    "1. We will define a `gene` to be a floating-point number that represents the weight or bias of a Neural Network.\n",
    "2. We will define a `chromosome` as a sequence of genes. The chromosome (sometimes called a `geneotype`) will represent all of the weights and biases of a network.\n",
    "3. `A population` will be composed of a set of random chromosomes."
   ]
  },
  {
   "cell_type": "markdown",
   "metadata": {
    "id": "eyh7XntqUGvA"
   },
   "source": [
    "The length of the chromosome is determined by the size of the Neural Network. Therefore, we will call `self.build_model()` (defined below) and see how many weights it has. \n",
    "\n",
    "We'll use a ring of 16 laser sensors as senses. We create a small simulated world (100 x 100) to allow the robot to move around.\n",
    "\n",
    "The basic idea is that we will have a list of weights (the chromosome) that we load into the neural network. The sensors will be read, and propagated through the neural network. The output of the neural network will be interpreted as movement controls. We'll let the neural network \"drive\" the robot around the world starting from a few poses."
   ]
  },
  {
   "cell_type": "code",
   "execution_count": 2,
   "metadata": {
    "id": "QEeYh6UwUGvA"
   },
   "outputs": [],
   "source": [
    "class NNGA(GeneticAlgorithm):\n",
    "    \"\"\"\n",
    "    An example of using the GeneticAlgorithm class to \n",
    "    evolve the weights of a neural network to control \n",
    "    a simulated robot.\n",
    "    \"\"\"\n",
    "    def __init__(self, popsize, sensors=16):\n",
    "        self.show = False\n",
    "        self.sensors = sensors\n",
    "        self.world = World(100, 100)\n",
    "        self.robot = Scribbler()\n",
    "        # We add a ring of RangeSensors, 8cm from\n",
    "        # the robot center, starting and ending \n",
    "        # at the back of the robot\n",
    "        # with 75cm max range, and sensor width 0\n",
    "        # which makes it a laser range finder\n",
    "        self.robot.add_device_ring(\n",
    "            RangeSensor, 8, -180, 180, \n",
    "            self.sensors, max=75, width=0)\n",
    "        self.world.add_robot(self.robot)\n",
    "        self.network = self.build_model()\n",
    "        # Starting poses to test from:\n",
    "        self.poses = [\n",
    "            (20, 20, 0), \n",
    "            (20, 20, 45), \n",
    "            (20, 20, 90), \n",
    "            (20, 20, 180), \n",
    "            (20, 20, -45),\n",
    "        ]\n",
    "        # Length of a chromosome:\n",
    "        length = len(self.network.get_weights(flat=True))\n",
    "        super().__init__(length, popsize)"
   ]
  },
  {
   "cell_type": "markdown",
   "metadata": {
    "id": "HNvM7oeWUGvB"
   },
   "source": [
    "As mentioned, a chromosome will be a sequence of floating-point numbers, between -2 and +2. When we mutate such a gene, we will increase or decrease it a small amount. To define these two aspects of a gene, we define the following methods:"
   ]
  },
  {
   "cell_type": "code",
   "execution_count": 3,
   "metadata": {
    "id": "61igCPUsUGvB"
   },
   "outputs": [],
   "source": [
    "class NNGA(NNGA):        \n",
    "    def make_random_gene(self):\n",
    "        \"\"\"\n",
    "        Generate a random weight for the neural network.\n",
    "        \"\"\"\n",
    "        # range of [-2, +2]\n",
    "        return 2 - random.random() * 4\n",
    "    \n",
    "    def mutate_gene(self, gene):\n",
    "        \"\"\"\n",
    "        Given a gene, mutate it a little.\n",
    "        \"\"\"\n",
    "        # range of [-0.5, +0.5]\n",
    "        return gene + (0.5 - random.random())"
   ]
  },
  {
   "cell_type": "markdown",
   "metadata": {
    "id": "8zDTWbLNUGvC"
   },
   "source": [
    "## 2.1 The Fitness Function\n",
    "\n",
    "To use a GA we need to define a \"fitness function\". A fitness function tests a chromosome in the simulated world, and returns a value that represents how \"apt\" (or fit) it is relative to the other chromosomes in the population at this generation.\n",
    "\n",
    "Finding a good fitness function is difficult. We don't want to be too prescriptive, or the system will evolve exactly what we have defined it to do. On the other hand, we don't want to be too open, as that can leave the system to evolve solutions that don't really \"solve a problem.\"\n",
    "\n",
    "For example, let's say that we want the robot to move around this world and not bump into walls. We could define a fitness that is the total number of steps where the robot did not hit a wall (e.g., `robot.stalled` is not True).\n",
    "\n",
    "<div class=\"alert alert-block alert-warning\">\n",
    "    <b>Warning</b>: the implementation of a GA that we use here requires that the fitness function be greater or equal to zero.\n",
    "</div>\n",
    "\n",
    "However, you would very quickly evolve a robot that doesn't move. No movement, no crashing into walls! Well, ok, then. How about we define a fitness function that rewards the robot when it keeps moving. The evolutionary system could \"solve that problem\" by simply spinning the robot in circles. Foiled again!\n",
    "\n",
    "You could then define a fitness function that rewards the robot when it has forward movement, thereby circumventing the solution for the robot to spin in circles. However, the system could then just drive the robot in small circles, and we inadvently didn't reward a robot for moving backwards (which should be fine).\n",
    "\n",
    "The search the human performs in attempting to find a good fitness function that will drive the robot into interesting control patterns while not settling on simplistic solutions is quite common. However, if you can train yourself to think more like nature, you can end up with some very clever robots.\n",
    "\n",
    "To that end, we will define the fitness function to be the distance between where the robot started, and where it ended up after a given number of seconds. Plus, we will add all of the distances travel on each individual step. However, if it ends up against a wall, it will get a score of zero.\n",
    "\n",
    "This is a fairly easy fitness function to compute (the sum of all distance traveled, plus distance from where it started) and should bypass some of the solutions defined above."
   ]
  },
  {
   "cell_type": "code",
   "execution_count": 4,
   "metadata": {
    "id": "TN_laHoPUGvC"
   },
   "outputs": [],
   "source": [
    "class NNGA(NNGA):        \n",
    "    def fitness(self, chromosome, poses=None, seconds=None, interrupt=True, real_time=False,\n",
    "                show=False, show_progress=False, quiet=True):\n",
    "        \"\"\"\n",
    "        Fitness is based on the distance the robot travels \n",
    "        from starting pose to ending pose.\n",
    "        \n",
    "        Args:\n",
    "            poses: default None, all of the poses; \n",
    "                otherwise list of poses (x, y, a).\n",
    "            seconds: default 10\n",
    "            interrupt: default True\n",
    "            real_time: default False\n",
    "            show: default True\n",
    "            show_progress: default False\n",
    "            quiet: default True\n",
    "        \"\"\"\n",
    "        if seconds is None:\n",
    "            seconds = min(self.generation / 10, 10)\n",
    "        self.show = show\n",
    "        self.network.set_weights(chromosome)\n",
    "        score = 0\n",
    "        poses = poses if poses is not None else self.poses\n",
    "        for pose in poses:\n",
    "            self.robot.set_pose(*pose, show=self.show)\n",
    "            self.world.seconds(\n",
    "                seconds, self.controller, \n",
    "                interrupt=interrupt, \n",
    "                real_time=real_time, show=show,\n",
    "                show_progress=show_progress, quiet=quiet)\n",
    "            if not self.robot.stalled:\n",
    "                end_pose = self.robot.get_pose()\n",
    "                score += distance(pose[0], pose[1], end_pose[0], end_pose[1])\n",
    "        return score   "
   ]
  },
  {
   "cell_type": "markdown",
   "metadata": {
    "id": "hGDuszABUGvD"
   },
   "source": [
    "We can now add some methods for the specific problem:\n",
    "\n",
    "* build_model - creates the neural network that takes as input the number of inputs, and outputs the movement commands (one for translate, one for rotate)\n",
    "* controller - the method to drive the robot\n",
    "* get_sensors - a convenience method to get the sensor readings from the range sensors as a list\n",
    "* get_move - a method that takes the input to the network (the sensor readings) and propagates them through the network to get the output values, which are scaled to [-1, +1]"
   ]
  },
  {
   "cell_type": "code",
   "execution_count": 5,
   "metadata": {
    "id": "gv41Bn_QUGvD"
   },
   "outputs": [],
   "source": [
    "class NNGA(NNGA):        \n",
    "    def build_model(self):\n",
    "        \"\"\"\n",
    "        We build a simple network. \n",
    "        \"\"\"\n",
    "        return SimpleNetwork(\n",
    "            self.sensors,\n",
    "            4,\n",
    "            2,\n",
    "            activation=\"sigmoid\"\n",
    "        )\n",
    "        \n",
    "    def controller(self, world):\n",
    "        \"\"\"\n",
    "        The controller for the robot.\n",
    "        \"\"\"\n",
    "        sensors = self.get_sensors()\n",
    "        output = self.get_move(sensors)\n",
    "        self.robot.move(output[0], output[1])\n",
    "        \n",
    "    def get_sensors(self):\n",
    "        \"\"\"\n",
    "        We return the sensors from the robot.\n",
    "        \"\"\"\n",
    "        return [sensor.get_reading() \n",
    "                for sensor in self.robot]\n",
    "    \n",
    "    def get_move(self, sensors):\n",
    "        \"\"\"\n",
    "        Given the dataset (a single )\n",
    "        \"\"\"\n",
    "        # Propagate takes a single pattern:\n",
    "        output = self.network.propagate(\n",
    "            sensors, show=self.show)\n",
    "        # Scale the output in [-1, 1]\n",
    "        return 1 - output * 2\n",
    "    "
   ]
  },
  {
   "cell_type": "markdown",
   "metadata": {},
   "source": [
    "Now, we are ready to create a GA. We'll define the population size to be 30, which isn't too small, but big enough to evolve a solution in a few minutes."
   ]
  },
  {
   "cell_type": "code",
   "execution_count": 6,
   "metadata": {
    "colab": {
     "base_uri": "https://localhost:8080/"
    },
    "id": "IyVFhghhUGvE",
    "outputId": "2988c304-fc9b-45d8-e793-e180625de46d"
   },
   "outputs": [
    {
     "name": "stdout",
     "output_type": "stream",
     "text": [
      "Random seed set to: 623908\n",
      "Genetic algorithm\n",
      "  Chromosome length: 78\n",
      "  Population size: 30\n"
     ]
    }
   ],
   "source": [
    "ga = NNGA(popsize=30)"
   ]
  },
  {
   "cell_type": "markdown",
   "metadata": {},
   "source": [
    "We can get a snapshot of the world with:"
   ]
  },
  {
   "cell_type": "code",
   "execution_count": 7,
   "metadata": {},
   "outputs": [
    {
     "data": {
      "image/png": "[encoded data removed]",
      "text/plain": [
       "<PIL.Image.Image image mode=RGB size=300x342 at 0x7F66A874CF40>"
      ]
     },
     "metadata": {},
     "output_type": "display_data"
    }
   ],
   "source": [
    "ga.world.display()"
   ]
  },
  {
   "cell_type": "markdown",
   "metadata": {},
   "source": [
    "But we can do better than just a snapshot. We can actually dynamically \"watch\" the world update.\n",
    "\n",
    "<div class=\"alert alert-block alert-warning\">\n",
    "    <b>Warning</b>: unfortunately the dynamic update may not work on all Jupyter Notebook systems. But it should work in: Jupyter Lab, Jupyter Notebook, Google Colab, and many others.\n",
    "</div>\n",
    "\n",
    "We'll create two watch windows: one for the world, and one for the network. This will update dynamically when `show=True`. "
   ]
  },
  {
   "cell_type": "markdown",
   "metadata": {},
   "source": [
    "<div class=\"alert alert-block alert-success\">\n",
    "    <b>Idea</b>: when running in Jupyter Lab, you can right-click on the two watch cells (after running them) and select \"Create New View for Output\" for each. You can then drag the panels over so that you can see them along side the notebook.\n",
    "</div>"
   ]
  },
  {
   "cell_type": "code",
   "execution_count": 8,
   "metadata": {
    "colab": {
     "base_uri": "https://localhost:8080/",
     "height": 382,
     "referenced_widgets": [
      "686027ec8d104a65a28c531cff802a49",
      "edfd80f163844472afcad4ac980bb73b"
     ]
    },
    "id": "npHXLuo8UGvF",
    "outputId": "e48d4e46-5ea4-4899-947e-c6c85e4d3b4b",
    "tags": []
   },
   "outputs": [
    {
     "data": {
      "application/vnd.jupyter.widget-view+json": {
       "model_id": "d0bc5d5f83ed470780e372d08d65bbc1",
       "version_major": 2,
       "version_minor": 0
      },
      "text/plain": [
       "Image(value=b'\\xff\\xd8\\xff\\xe0\\x00\\x10JFIF\\x00\\x01\\x01\\x00\\x00\\x01\\x00\\x01\\x00\\x00\\xff\\xdb\\x00C\\x00\\x08\\x06\\x0…"
      ]
     },
     "metadata": {},
     "output_type": "display_data"
    }
   ],
   "source": [
    "ga.world.watch()"
   ]
  },
  {
   "cell_type": "markdown",
   "metadata": {},
   "source": [
    "Likewise, we can get a snapshot of the network architecture:"
   ]
  },
  {
   "cell_type": "code",
   "execution_count": 9,
   "metadata": {},
   "outputs": [
    {
     "data": {
      "text/html": [
       "<svg id='keras-network' xmlns='http://www.w3.org/2000/svg' xmlns:xlink='http://www.w3.org/1999/xlink' image-rendering=\"pixelated\" width=\"400px\" height=\"324px\" style=\"background-color: #B0C4DE\">\n",
       " <g >\n",
       "  <svg viewBox=\"0 0 350 284\" width=\"400px\" height=\"324px\">\n",
       "    <defs>\n",
       "        <marker id=\"arrow\" markerWidth=\"10\" markerHeight=\"10\" refX=\"9\" refY=\"3\" orient=\"auto\" markerUnits=\"strokeWidth\">\n",
       "          <path d=\"M0,0 L0,6 L9,3 z\" fill=\"black\" />\n",
       "        </marker>\n",
       "    </defs><rect x=\"112.0\" y=\"24\" width=\"126\" height=\"64\" style=\"fill:none;stroke:black;stroke-width:2\"/><image id=\"keras-network_output\" class=\"keras-network\" x=\"113.0\" y=\"25\" height=\"62\" width=\"124\" preserveAspectRatio=\"none\" image-rendering=\"optimizeSpeed\" xlink:href=\"data:image/gif;base64,R0lGODdhfAA+AIcAAAAAAP///wAAAAAAAAAAAAAAAAAAAAAAAAAAAAAAAAAAAAAAAAAAAAAAAAAAAAAAAAAAAAAAAAAAAAAAAAAAAAAAAAAAAAAAAAAAAAAAAAAAAAAAAAAAAAAAAAAAAAAAAAAAAAAAAAAAAAAAAAAAAAAAAAAAAAAAAAAAAAAAAAAAAAAAAAAAAAAAAAAAAAAAAAAAAAAAAAAAAAAAAAAAAAAAAAAAAAAAAAAAAAAAAAAAAAAAAAAAAAAAAAAAAAAAAAAAAAAAAAAAAAAAAAAAAAAAAAAAAAAAAAAAAAAAAAAAAAAAAAAAAAAAAAAAAAAAAAAAAAAAAAAAAAAAAAAAAAAAAAAAAAAAAAAAAAAAAAAAAAAAAAAAAAAAAAAAAAAAAAAAAAAAAAAAAAAAAAAAAAAAAAAAAAAAAAAAAAAAAAAAAAAAAAAAAAAAAAAAAAAAAAAAAAAAAAAAAAAAAAAAAAAAAAAAAAAAAAAAAAAAAAAAAAAAAAAAAAAAAAAAAAAAAAAAAAAAAAAAAAAAAAAAAAAAAAAAAAAAAAAAAAAAAAAAAAAAAAAAAAAAAAAAAAAAAAAAAAAAAAAAAAAAAAAAAAAAAAAAAAAAAAAAAAAAAAAAAAAAAAAAAAAAAAAAAAAAAAAAAAAAAAAAAAAAAAAAAAAAAAAAAAAAAAAAAAAAAAAAAAAAAAAAAAAAAAAAAAAAAAAAAAAAAAAAAAAAAAAAAAAAAAAAAAAAAAAAAAAAAAAAAAAAAAAAAAAAAAAAAAAAAAAAAAAAAAAAAAAAAAAAAAAAAAAAAAAAAAAAAAAAAAAAAAAAAAAAAAAAAAAAAAAAAAAAAAAAAAAAAAAAAAAAAAAAAAAAAAAAAAAAAAAAAAAAAAAAAAAAAAAAAAAAAAAAAAAAAAAAAAAAAAAAAAAAAAAAAAAAAAAAAAAAAAAAAAAAAAAAAAAAAAAAAAAAAAAAAAAAAAAAAAAAAAAAAAAAAAAAAAAAAAAAAAAAAAAAAAAAAAAAAAAAAAAAAAAAAAAAACwAAAAAfAA+AEAI/wABCBxIsKDBgwgTKlzIsKHDhwUDSJxIsaLFixgzaqwIsaPHhhtDihyp8aPJkwRJqlwZEqXLjyxjypz4subDmThX2ty5MKdPkTyDHvxJNKPQowOLKuWI9OjSpwGaOoWqVKpQqlWt8sRaVOtWrj+97gQbVmxNsj7NnkWLU+1Ltm3dooQ7U+5cujHtnsSbVy9Mvjr9egQcWDBEwioNd0RMUvFhxkAdO4QcWTJDyi0tX8ZcUnNPzkY9KwQdWjRC0hhNJ0R9UfVp1kxdR4RNUbZB2rVtp8QtUfdu3r6T8o4aHMBw4sGPFzc+fLny4s+TN4c+XTpw6tet43Ze3Xd07911fxcXH972ePPlZZ9Xn971evftVb9fTl9yQAA7\"><title>Layer: output 'Dense'\n",
       "Act function: sigmoid\n",
       "Act output range: (0, 1)\n",
       "Shape = (None, 2)</title></image><text x=\"242.0\" y=\"58.0\" font-family=\"monospace\" font-size=\"12\" text-anchor=\"start\" fill=\"blue\" alignment-baseline=\"central\" >output</text><path d=\"M 175.0 116 L 175.0 89 \" stroke=\"black\" stroke-width=\"2\" marker-end=\"url(#arrow)\" fill=\"none\" /><rect x=\"74.0\" y=\"116\" width=\"202\" height=\"64\" style=\"fill:none;stroke:black;stroke-width:2\"/><image id=\"keras-network_hidden\" class=\"keras-network\" x=\"75.0\" y=\"117\" height=\"62\" width=\"200\" preserveAspectRatio=\"none\" image-rendering=\"optimizeSpeed\" xlink:href=\"data:image/gif;base64,R0lGODdh+AA+AIcAAAAAALe3t+3t7f///wAAAAAAAAAAAAAAAAAAAAAAAAAAAAAAAAAAAAAAAAAAAAAAAAAAAAAAAAAAAAAAAAAAAAAAAAAAAAAAAAAAAAAAAAAAAAAAAAAAAAAAAAAAAAAAAAAAAAAAAAAAAAAAAAAAAAAAAAAAAAAAAAAAAAAAAAAAAAAAAAAAAAAAAAAAAAAAAAAAAAAAAAAAAAAAAAAAAAAAAAAAAAAAAAAAAAAAAAAAAAAAAAAAAAAAAAAAAAAAAAAAAAAAAAAAAAAAAAAAAAAAAAAAAAAAAAAAAAAAAAAAAAAAAAAAAAAAAAAAAAAAAAAAAAAAAAAAAAAAAAAAAAAAAAAAAAAAAAAAAAAAAAAAAAAAAAAAAAAAAAAAAAAAAAAAAAAAAAAAAAAAAAAAAAAAAAAAAAAAAAAAAAAAAAAAAAAAAAAAAAAAAAAAAAAAAAAAAAAAAAAAAAAAAAAAAAAAAAAAAAAAAAAAAAAAAAAAAAAAAAAAAAAAAAAAAAAAAAAAAAAAAAAAAAAAAAAAAAAAAAAAAAAAAAAAAAAAAAAAAAAAAAAAAAAAAAAAAAAAAAAAAAAAAAAAAAAAAAAAAAAAAAAAAAAAAAAAAAAAAAAAAAAAAAAAAAAAAAAAAAAAAAAAAAAAAAAAAAAAAAAAAAAAAAAAAAAAAAAAAAAAAAAAAAAAAAAAAAAAAAAAAAAAAAAAAAAAAAAAAAAAAAAAAAAAAAAAAAAAAAAAAAAAAAAAAAAAAAAAAAAAAAAAAAAAAAAAAAAAAAAAAAAAAAAAAAAAAAAAAAAAAAAAAAAAAAAAAAAAAAAAAAAAAAAAAAAAAAAAAAAAAAAAAAAAAAAAAAAAAAAAAAAAAAAAAAAAAAAAAAAAAAAAAAAAAAAAAAAAAAAAAAAAAAAAAAAAAAAAAAAAAAAAAAAAAAAAAAAAAAAAAAAAAAAAAAAAAAAAAAAAAAAAAAAAAAAAAAAAAAAAAAAAAAAAAAAAAAAAAAAAAAAAAAAAAAAAAAAAAAAAAAAAACwAAAAA+AA+AEAI/wABCBxIsKDBgwgTKlzIsKHDhxAjSpxIsaLEABgzatzIsaPHjyA3ChxAsqTJkyhTqlzJ8qTFlxMFyJxJs6bNmzhz6qwpMKTPn0BBjmxJtKjRlTCTPtzJtKlTnT2DSp0acujRq1hZKt268KnXr0yjUh1LNoDVrGjTcl17EKzbtzPFlp0L9Gzau0fZ6h0It+9XuXQDf7SLt7DWvXr9Km4KWLBjjYQNS3aJmO3iyzkbP34cebLnypYxi6apebPgzp4lg147urWA0qbpok5deDVX16Nhxy47m/Zd21txi9a9e2xv32iBKxWOmXjxqceRY1WelPll58+DRpeel/pL64uxZ///uZ17Ue/fwfsVP74qAPOT0VtUvx5A+8Dl4R+WH5M+XPb3eZSffirxR5F//9kXIG/vEYiXgf0hCBaAC4rUoINqQRiRhG5RWGFGA2JokoYbcviXgh9Cd6GI05G4lIleeZhiiCwO4OKLMDol44c0snijQzk+tWOFPYr4Y0NB6ohiitqtWKNRRzKUJGNLMkmek08SFWVXU+405IJFYrilQl16WaWV7mV51ZgJlQnVmWgOhqWaSLHZlps4fRlgmA7aeSeeNul5H58E+mkQoDcJ2h6h+hlaEKKBwhlnR4zC5yhBkPIk6aQW0gnlpQJlStqmnII4p6cogRqqqDIpOl6l5qm8CgCrrZJaqlmnojqiqrS+ZmupsHIna6+uZhesdMPSWuxzxyKXLKvLFtesb8+KGu1u09JWbabXxpZtattC2q1p337Gq7K/clpufOdCm+6k66rWrrXvxhmvYeEiOu5m99Y2L7f1otnvg/+KG7CVA/9WsL4HM5lwhqAS2/CMuepKUr6A7stZxRZjjKfGjj2c3MIZT8wjx7p67CbIp6GMqsplsoyfy57C3KXMstFMp81T4jyXyFnxnKSsRBe9ZUAAOw==\"><title>Layer: hidden 'Dense'\n",
       "Act function: sigmoid\n",
       "Act output range: (0, 1)\n",
       "Shape = (None, 4)</title></image><text x=\"280.0\" y=\"150.0\" font-family=\"monospace\" font-size=\"12\" text-anchor=\"start\" fill=\"blue\" alignment-baseline=\"central\" >hidden</text><path d=\"M 175.0 208 L 175.0 181 \" stroke=\"black\" stroke-width=\"2\" marker-end=\"url(#arrow)\" fill=\"none\" /><rect x=\"74.0\" y=\"208\" width=\"202\" height=\"52\" style=\"fill:none;stroke:black;stroke-width:2\"/><image id=\"keras-network_input\" class=\"keras-network\" x=\"75.0\" y=\"209\" height=\"50\" width=\"200\" preserveAspectRatio=\"none\" image-rendering=\"optimizeSpeed\" xlink:href=\"data:image/gif;base64,R0lGODdh8AAPAIcAAAAAAJeXl7u7u/r6+hYWFi8vL0dHR1dXV2NjY6qqqsnJydzc3AAAAAAAAAAAAAAAAAAAAAAAAAAAAAAAAAAAAAAAAAAAAAAAAAAAAAAAAAAAAAAAAAAAAAAAAAAAAAAAAAAAAAAAAAAAAAAAAAAAAAAAAAAAAAAAAAAAAAAAAAAAAAAAAAAAAAAAAAAAAAAAAAAAAAAAAAAAAAAAAAAAAAAAAAAAAAAAAAAAAAAAAAAAAAAAAAAAAAAAAAAAAAAAAAAAAAAAAAAAAAAAAAAAAAAAAAAAAAAAAAAAAAAAAAAAAAAAAAAAAAAAAAAAAAAAAAAAAAAAAAAAAAAAAAAAAAAAAAAAAAAAAAAAAAAAAAAAAAAAAAAAAAAAAAAAAAAAAAAAAAAAAAAAAAAAAAAAAAAAAAAAAAAAAAAAAAAAAAAAAAAAAAAAAAAAAAAAAAAAAAAAAAAAAAAAAAAAAAAAAAAAAAAAAAAAAAAAAAAAAAAAAAAAAAAAAAAAAAAAAAAAAAAAAAAAAAAAAAAAAAAAAAAAAAAAAAAAAAAAAAAAAAAAAAAAAAAAAAAAAAAAAAAAAAAAAAAAAAAAAAAAAAAAAAAAAAAAAAAAAAAAAAAAAAAAAAAAAAAAAAAAAAAAAAAAAAAAAAAAAAAAAAAAAAAAAAAAAAAAAAAAAAAAAAAAAAAAAAAAAAAAAAAAAAAAAAAAAAAAAAAAAAAAAAAAAAAAAAAAAAAAAAAAAAAAAAAAAAAAAAAAAAAAAAAAAAAAAAAAAAAAAAAAAAAAAAAAAAAAAAAAAAAAAAAAAAAAAAAAAAAAAAAAAAAAAAAAAAAAAAAAAAAAAAAAAAAAAAAAAAAAAAAAAAAAAAAAAAAAAAAAAAAAAAAAAAAAAAAAAAAAAAAAAAAAAAAAAAAAAAAAAAAAAAAAAAAAAAAAAAAAAAAAAAAAAAAAAAAAAAAAAAAAAAAAAAAAAAAAAAAAAAAAAAAAAAAAAAAAAAAAAAAAAAAAAAAAAAAAAAAAAAAAAAAAAAAAACwAAAAA8AAPAAAI/wABCBxIsKDBgwgTKlzIsKHDhxAjSpxIsaLCBBgzaswoEIHHjyA/RhxAsqTJkgIFqFzJcqVABTBjyowpcIHNmzhvCizAs6fPngJPCiUp0IDRo0iPCjzAtKnTpgIDSJ1KdWrUqlgDRCTAtavXrilbihUgcKNZjB1DqkUwcujJsGNZvpxJV0HNnHgX7PzJt0BQtyaLJh1sYOnTwweuZqWqeLHUrV8jE4AbV2XZsxvTrgXZFjBRAJXlAqhL925enHv7+vzreYBgwkgNI3ba2HHtxZAle6Vc+TJmjgA2h+zsmXfcuaRpAjidM7VqnqyLA4CdVPZsprezZseaWzdX42N9//9OoFk4W4itP4d2OTq5cuaoATxfDSC96+nUlQK4ThuAY8b+/fcYRN7tBtp6ZAEwHnDmiYReeuCJhZx7psHn3HPRAfZaftZdt11VHwL4UIFgHbieeL+VJxxxGpoY2oTJVcjchapl6NaG1HU4W4hWBShgd95F2BKKmKm4GYs3uthbe+7ZtRx8NtHYl41D4QibjojxOKCAA45I4mRKHqfgguQF1+B5D9knpGhNwiTjaVLyRaVQVhKG5WFaauXjf0DqtiZ7ZJZ5JpoOqRlmeExS+CSUcf4051v45VfYfvxht6dtl+JG4Jd/WjbmgkauhWSVh0qYaIyLWijffNDVB2GkHFJVWmmetG5KYqcJBhqqWqPSWeqQp5L2Zl6N0meopEbd+VStXOrp5a2/iqarmQ32CimCCbbpJJRRrsrqo4HBmqOs/DHLZZ+S4WrRuuy26+678MYr70EBAQA7\"><title>Layer: input 'InputLayer'\n",
       "Shape = [(None, 16)]</title></image><text x=\"280.0\" y=\"236.0\" font-family=\"monospace\" font-size=\"12\" text-anchor=\"start\" fill=\"blue\" alignment-baseline=\"central\" >input</text><text x=\"175.0\" y=\"12.5\" font-family=\"monospace\" font-size=\"15\" text-anchor=\"middle\" fill=\"black\" alignment-baseline=\"central\" >Activations for SimpleNetwork</text></svg></g></svg>"
      ],
      "text/plain": [
       "<IPython.core.display.HTML object>"
      ]
     },
     "metadata": {},
     "output_type": "display_data"
    }
   ],
   "source": [
    "ga.network.display()"
   ]
  },
  {
   "cell_type": "markdown",
   "metadata": {},
   "source": [
    "But, again we can do even better by creating a dynamically updating view:"
   ]
  },
  {
   "cell_type": "code",
   "execution_count": 10,
   "metadata": {
    "colab": {
     "base_uri": "https://localhost:8080/",
     "height": 345,
     "referenced_widgets": [
      "85948e04362d4b658808951c4635bf00",
      "dc52a3313d1f45bd9e8e9d10dd2bfcd7",
      "6203182779304d9c88d259968b51864b"
     ]
    },
    "id": "9dE6sMacUGvF",
    "outputId": "4c9b57c0-acb5-42ae-f841-c5a3fc8910fa",
    "tags": []
   },
   "outputs": [
    {
     "data": {
      "application/vnd.jupyter.widget-view+json": {
       "model_id": "fafe1cb958ca43a39d5dda7a0a0a0d37",
       "version_major": 2,
       "version_minor": 0
      },
      "text/plain": [
       "HTML(value='<div style=\"outline: 5px solid #1976D2FF; width: 400px; height: 324px;\"><svg id=\\'keras-network\\' …"
      ]
     },
     "metadata": {},
     "output_type": "display_data"
    }
   ],
   "source": [
    "ga.network.watch()"
   ]
  },
  {
   "cell_type": "markdown",
   "metadata": {},
   "source": [
    "## 2.2 Testing\n",
    "\n",
    "Let's test everything to make sure it is working.\n",
    "\n",
    "Let's see what a chromosome looks like:"
   ]
  },
  {
   "cell_type": "code",
   "execution_count": 11,
   "metadata": {},
   "outputs": [
    {
     "data": {
      "text/plain": [
       "78"
      ]
     },
     "execution_count": 11,
     "metadata": {},
     "output_type": "execute_result"
    }
   ],
   "source": [
    "len(ga.make_random_chromosome())"
   ]
  },
  {
   "cell_type": "markdown",
   "metadata": {},
   "source": [
    "Therefore a chromome will be a length of 78 \"genes\". Each gene is an individual weight or bias in the neural network.\n",
    "\n",
    "Let's see what the sensor readings look like:"
   ]
  },
  {
   "cell_type": "code",
   "execution_count": 12,
   "metadata": {},
   "outputs": [
    {
     "data": {
      "text/plain": [
       "[0.6549295094656512,\n",
       " 0.7209779038696222,\n",
       " 0.6058858666289183,\n",
       " 0.6308503352411621,\n",
       " 0.8244762447824024,\n",
       " 0.675421419959268,\n",
       " 0.600201893026216,\n",
       " 0.6589485144377737,\n",
       " 0.7553929916149855,\n",
       " 0.5575975138766383,\n",
       " 0.5220521733409763,\n",
       " 0.6072983345537715,\n",
       " 0.6818525711455804,\n",
       " 0.5374561170705399,\n",
       " 0.5309432628734656,\n",
       " 0.6549295094656512]"
      ]
     },
     "execution_count": 12,
     "metadata": {},
     "output_type": "execute_result"
    }
   ],
   "source": [
    "sensors = ga.get_sensors()\n",
    "sensors"
   ]
  },
  {
   "cell_type": "markdown",
   "metadata": {},
   "source": [
    "And let's see what movements the sensors give when propagated through the network and scaled:"
   ]
  },
  {
   "cell_type": "code",
   "execution_count": 13,
   "metadata": {},
   "outputs": [
    {
     "data": {
      "text/plain": [
       "array([ 0.12701571, -0.23668778], dtype=float32)"
      ]
     },
     "execution_count": 13,
     "metadata": {},
     "output_type": "execute_result"
    }
   ],
   "source": [
    "ga.get_move(sensors)"
   ]
  },
  {
   "cell_type": "markdown",
   "metadata": {},
   "source": [
    "You should see the activations in the network display change. The robot won't actually move in the simulator until we update it."
   ]
  },
  {
   "cell_type": "markdown",
   "metadata": {
    "id": "ocq9cHWvUGvG"
   },
   "source": [
    "Ok, let's put all of this together and move the robot around the simulated world. We can test out a random chromosome to see what this does.\n",
    "\n",
    "We pass in:\n",
    "\n",
    "1. a random chromosome (like the that from the initial population)\n",
    "2. A list of poses (x, y, angle) to test\n",
    "3. number of seconds to run the simulation\n",
    "4. Whether we should show the robot and network updates\n",
    "5. Whether the simulation should run in real_time (setting to False will run as fast as possible)\n",
    "\n",
    "Let's go!"
   ]
  },
  {
   "cell_type": "code",
   "execution_count": 14,
   "metadata": {
    "colab": {
     "base_uri": "https://localhost:8080/",
     "height": 85,
     "referenced_widgets": [
      "24370d9d5e054008af5d1547ae1e06ad",
      "d50d56b63cfc44278489faee93999b82",
      "a038bba8c4514aadb3ef388bb80578fb",
      "2112fa546d854613ab9ce5a0cbb31e05",
      "7c0ae88a94904d5e8f06937e44eee86c",
      "780648e92fc645a9b8dd73254f252c2e",
      "a9c3ad6214a04c33baad9842454be573",
      "4c02aaa7d86348a08cdaab1e0b2758e3"
     ]
    },
    "id": "Xv19whtMUGvG",
    "outputId": "4929a03e-1d0e-4eca-9733-91e97f36e37c"
   },
   "outputs": [
    {
     "data": {
      "text/plain": [
       "3.8913091581044394"
      ]
     },
     "execution_count": 14,
     "metadata": {},
     "output_type": "execute_result"
    }
   ],
   "source": [
    "ga.fitness(\n",
    "    ga.make_random_chromosome(), \n",
    "    poses=[(50, 50, 0)], \n",
    "    seconds=5,\n",
    "    show=True, \n",
    "    real_time=True,\n",
    ")"
   ]
  },
  {
   "cell_type": "markdown",
   "metadata": {},
   "source": [
    "Interesting! You can try that cell over and over again to see many possible behaviors of these random weights.\n",
    "\n",
    "Some questions you might be interested in answering at this point?\n",
    "\n",
    "1. What percentage of random genes spin in circles?\n",
    "2. What percentage of random genes change movement during the 5 seconds of training?\n",
    "3. What percentage of gense actually make it to a wall?\n",
    "4. What is the range of \"fitness\" values returned for these random chromosomes?"
   ]
  },
  {
   "cell_type": "markdown",
   "metadata": {
    "id": "aoo2YGEVUGvK"
   },
   "source": [
    "### 3. Evolve!"
   ]
  },
  {
   "cell_type": "markdown",
   "metadata": {
    "id": "kEUDFqS-UGvG"
   },
   "source": [
    "To run 10 epochs (plus one to test initial population) of 30 generations, in the 5 test poses for 3 seconds each will take 1 hour, 22 minutes, and 30 seconds of simulated time."
   ]
  },
  {
   "cell_type": "markdown",
   "metadata": {
    "id": "omwTjbx-UGvK"
   },
   "source": [
    "Typically, 10 generations can performed in a few actual minutes on a typical computer. One can get about a 50 x speed-up over real time when not watching the network, and about 10 x speed-up when watching the network."
   ]
  },
  {
   "cell_type": "markdown",
   "metadata": {
    "id": "7Xy3jw6EUGvL"
   },
   "source": [
    "You can run without watching by setting `show=False`."
   ]
  },
  {
   "cell_type": "code",
   "execution_count": 16,
   "metadata": {
    "colab": {
     "base_uri": "https://localhost:8080/"
    },
    "id": "NqqfhTNoUGvL",
    "outputId": "15deae95-61be-4af3-b741-8acfd2e8c135"
   },
   "outputs": [
    {
     "name": "stdout",
     "output_type": "stream",
     "text": [
      "Using random seed: 623908\n",
      "  Maximum number of generations: 10\n",
      "  Crossover rate: 0.0\n",
      "  Mutation rate: 0.6\n",
      "  Elite percentage: 0.05\n",
      "  Elite count: 1\n",
      "Generation    0 Best fitness 162.27\n",
      "Generation    1 Best fitness 162.27\n",
      "Generation    2 Best fitness 168.82\n",
      "Generation    3 Best fitness 168.82\n",
      "Generation    4 Best fitness 168.82\n",
      "Generation    5 Best fitness 172.98\n",
      "Generation    6 Best fitness 172.98\n",
      "Generation    7 Best fitness 181.50\n",
      "Generation    8 Best fitness 181.50\n",
      "Generation    9 Best fitness 181.50\n",
      "Generation   10 Best fitness 181.50\n",
      "Max generations reached\n",
      "CPU times: user 1min, sys: 40.9 ms, total: 1min\n",
      "Wall time: 1min\n"
     ]
    }
   ],
   "source": [
    "%%time\n",
    "ga.reset()\n",
    "ga.world.reset()\n",
    "bestFound = ga.evolve(\n",
    "    generations=10, \n",
    "    crossover_rate=0.0, \n",
    "    mutation_rate=0.6, \n",
    "    elite_percent=0.05, \n",
    "    seconds=3,\n",
    "    show=False,\n",
    ") "
   ]
  },
  {
   "cell_type": "markdown",
   "metadata": {
    "id": "CbCDQPkJUGvL"
   },
   "source": [
    "### 4. Analysis\n",
    "\n",
    "We can see a bird's eye view of the populations over time:"
   ]
  },
  {
   "cell_type": "code",
   "execution_count": 17,
   "metadata": {
    "colab": {
     "base_uri": "https://localhost:8080/",
     "height": 295
    },
    "id": "NxX8912mUGvM",
    "outputId": "c7550553-df7f-4b87-c730-a4ddd8e35387"
   },
   "outputs": [
    {
     "data": {
      "image/png": "[encoded data removed]",
      "text/plain": [
       "<Figure size 640x480 with 1 Axes>"
      ]
     },
     "metadata": {},
     "output_type": "display_data"
    }
   ],
   "source": [
    "ga.plot_stats(\"NNGA\")"
   ]
  },
  {
   "cell_type": "markdown",
   "metadata": {
    "id": "IPm0T3vOUGvM"
   },
   "source": [
    "Let's see the results by trying the best ever over the poses, for 5 seconds each:"
   ]
  },
  {
   "cell_type": "code",
   "execution_count": 18,
   "metadata": {
    "colab": {
     "base_uri": "https://localhost:8080/",
     "height": 285,
     "referenced_widgets": [
      "8ad2ce156ec745d187f0b182345b655f",
      "75b5f1165faf4949a9065abec1c2532b",
      "d9c797c19dd5465ba5e4576f460f11fa",
      "4bc107b0fdfe431c845e58cf143ac15d",
      "8e68efa968d849e6b52b408f2cf6785c",
      "d72ff6dce2f4474caa50979834bba248",
      "84bb4ccf6acc42d9a48141295b7127f3",
      "0706330888c84838970071882bb77045",
      "f01ce7d4998f4cd18793c55b977cd44c",
      "e0f6d576022b4c3f8731377f4c16b2b2",
      "c57c8a5a7cf046babd6a571dea10425d",
      "b700450539e24b3f958ab82cb4c61ba7",
      "f7880b7cb8234171973ae8fe3d885c5a",
      "adee9b75ac91429bbda90174d6040d80",
      "11b25aefe3464744b0363f568b70ff7a",
      "b19a2c494a144ace9d3abb736fee833f",
      "9c4c52242d064e90b5da368e1a469632",
      "14fb98746a0141b3a19d4ddc2f8bfbf7",
      "6fddbded18e9420ab53fa31b562d97bd",
      "469f3917098844d0af203e6b977eed1b",
      "035bbb9735a34758bae96160426f7d9a",
      "f3e7c40d8aad4e30a33f6f4bc05bd140",
      "0975fa7125874869bb1ed29c7aea16d1",
      "8f378d82408e41d287b655a59c952c9a",
      "ebcfb91f4b434d6ab43cd99e345ce5ec",
      "3bc9276ac4974a03be28b2833b3c01c4",
      "b9e7ada87a93489fa6dec933a4d0c569",
      "29cd109ab212478aa65e835c2817d681",
      "72c0466433c344be8cd1ca5e2318c683",
      "bd16fcf2b7c64c468196e8e943597a72",
      "45ffbc451cc74c828c122c7278667a74",
      "5ea147a8f055448c8c9db986bb3a4bde",
      "471f0b80f59e43a39333e263102dc92d",
      "83f09a58fcd4407684012f5fa19382f2",
      "ac274c57aaab4939b6c912bcfa37682f",
      "cf3e41e28e0e40fd84f8ee99a94e16dd",
      "256452ae51354eaea44d4714edfb8bde",
      "19497de06b24405fb512395602693b79",
      "315ee295b7604620b68534d662a5b6d6",
      "2f3513979be0412c8be18ccae97f113b"
     ]
    },
    "id": "WmajpIM1UGvM",
    "outputId": "7b928ca7-7275-4847-9f6b-39a47c5ab00e"
   },
   "outputs": [
    {
     "data": {
      "text/plain": [
       "203.2287606621119"
      ]
     },
     "execution_count": 18,
     "metadata": {},
     "output_type": "execute_result"
    }
   ],
   "source": [
    "ga.fitness(\n",
    "    ga.bestEver, \n",
    "    real_time=True, \n",
    "    show=True, \n",
    "    seconds=5,\n",
    ")"
   ]
  },
  {
   "cell_type": "markdown",
   "metadata": {},
   "source": [
    "That might create lots of behaviors that crash into walls. \n",
    "\n",
    "What is the most interesting behavior that you observer after 10 generations?\n",
    "\n",
    "Let's run a few more generations."
   ]
  },
  {
   "cell_type": "markdown",
   "metadata": {
    "id": "h9hjrUWiUGvM"
   },
   "source": [
    "If you wish, you can increase the maximum generations, change any of the parameters, and continue to evolve:"
   ]
  },
  {
   "cell_type": "code",
   "execution_count": 19,
   "metadata": {
    "id": "xYj9oS8NUGvN"
   },
   "outputs": [
    {
     "name": "stdout",
     "output_type": "stream",
     "text": [
      "  Maximum number of generations: 20\n",
      "  Crossover rate: 0.6\n",
      "  Mutation rate: 0.001\n",
      "  Elite percentage: 0.1\n",
      "  Elite count: 3\n",
      "Generation   11 Best fitness 181.50\n",
      "Generation   12 Best fitness 181.50\n",
      "Generation   13 Best fitness 182.21\n",
      "Generation   14 Best fitness 182.21\n",
      "Generation   15 Best fitness 182.21\n",
      "Generation   16 Best fitness 182.21\n",
      "Generation   17 Best fitness 182.21\n",
      "Generation   18 Best fitness 182.94\n",
      "Generation   19 Best fitness 182.94\n",
      "Generation   20 Best fitness 182.94\n",
      "Max generations reached\n"
     ]
    }
   ],
   "source": [
    "bestFound = ga.evolve(\n",
    "    generations=20, \n",
    "    crossover_rate=0.6, \n",
    "    mutation_rate=0.001, \n",
    "    elite_percent=0.1, \n",
    "    seconds=3,\n",
    "    show=False,\n",
    ")"
   ]
  },
  {
   "cell_type": "code",
   "execution_count": 20,
   "metadata": {},
   "outputs": [
    {
     "data": {
      "image/png": "[encoded data removed]",
      "text/plain": [
       "<Figure size 640x480 with 1 Axes>"
      ]
     },
     "metadata": {},
     "output_type": "display_data"
    }
   ],
   "source": [
    "ga.plot_stats(\"NNGA\")"
   ]
  },
  {
   "cell_type": "code",
   "execution_count": null,
   "metadata": {},
   "outputs": [],
   "source": [
    "ga.fitness(\n",
    "    ga.bestEver, \n",
    "    real_time=True, \n",
    "    show=True, \n",
    "    seconds=5,\n",
    ")"
   ]
  },
  {
   "cell_type": "markdown",
   "metadata": {},
   "source": [
    "Was the best from the second 10 generations significantly different from the best from the first 10 generations?\n",
    "\n",
    "Did the fitness change dramatically during the second 10 generations? \n",
    "\n",
    "Do you think there will be a point where the fitness won't get any higher?"
   ]
  },
  {
   "cell_type": "markdown",
   "metadata": {},
   "source": [
    "## 6. Further Exploration"
   ]
  },
  {
   "cell_type": "markdown",
   "metadata": {},
   "source": [
    "There is one additional aspect added to the fitness measure: if you don't specify the number of seconds to use explicitly, it will compute the number of seconds based on the generation. This allows the GA to focus on initial movements first, and longer control as the generations increase. You can test this effect by running without explicitly setting seconds. "
   ]
  },
  {
   "cell_type": "markdown",
   "metadata": {},
   "source": [
    "<div class=\"alert alert-block alert-info\">\n",
    "    <b>Tip</b>: the best fitness measure will increase with the increased simulation time. So you can't really compare the fitness in the begining generations with following generations when seconds is `None`. \n",
    "</div>"
   ]
  },
  {
   "cell_type": "markdown",
   "metadata": {},
   "source": [
    "Some ideas to try:\n",
    "\n",
    "1. Try evolving with seconds=None. How does this compare with a fixed number of seconds?\n",
    "2. What happens if you try with a larger, fixed number of seconds, such as 10?\n",
    "3. The above experiments used 0.0 crossover with a high mutation rate. What happens if you try with a higher crossover rate (say 30%) and with a much smaller mutation rate?\n",
    "4. Anything that you can represent with a list of numbers and create a fitness function for, you could conceivably evole. What else could you try? What are the limitations of the GA?"
   ]
  },
  {
   "cell_type": "markdown",
   "metadata": {},
   "source": [
    "## 5. References\n",
    "\n",
    "1. Turing\n",
    "2. Holland"
   ]
  }
 ],
 "metadata": {
  "accelerator": "GPU",
  "colab": {
   "collapsed_sections": [],
   "name": "NNGA.ipynb",
   "provenance": []
  },
  "kernelspec": {
   "display_name": "Python 3",
   "language": "python",
   "name": "python3"
  },
  "language_info": {
   "codemirror_mode": {
    "name": "ipython",
    "version": 3
   },
   "file_extension": ".py",
   "mimetype": "text/x-python",
   "name": "python",
   "nbconvert_exporter": "python",
   "pygments_lexer": "ipython3",
   "version": "3.8.5"
  },
  "widgets": {
   "application/vnd.jupyter.widget-state+json": {
    "state": {
     "07202834ff304f9f831c93f12c3cd493": {
      "model_module": "@jupyter-widgets/base",
      "model_module_version": "1.2.0",
      "model_name": "LayoutModel",
      "state": {
       "border": "10px solid rgb(0 177 255)",
       "margin": "auto"
      }
     },
     "1f2cab788f7c48c3a72f538f71c2c648": {
      "model_module": "@jupyter-widgets/base",
      "model_module_version": "1.2.0",
      "model_name": "LayoutModel",
      "state": {}
     },
     "453fbe1c63714e65aae808be306f7b7e": {
      "model_module": "@jupyter-widgets/controls",
      "model_module_version": "1.5.0",
      "model_name": "DescriptionStyleModel",
      "state": {
       "description_width": ""
      }
     },
     "d0bc5d5f83ed470780e372d08d65bbc1": {
      "buffers": [
       {
        "data": "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",
        "encoding": "base64",
        "path": [
         "value"
        ]
       }
      ],
      "model_module": "@jupyter-widgets/controls",
      "model_module_version": "1.5.0",
      "model_name": "ImageModel",
      "state": {
       "layout": "IPY_MODEL_07202834ff304f9f831c93f12c3cd493"
      }
     },
     "fafe1cb958ca43a39d5dda7a0a0a0d37": {
      "model_module": "@jupyter-widgets/controls",
      "model_module_version": "1.5.0",
      "model_name": "HTMLModel",
      "state": {
       "layout": "IPY_MODEL_1f2cab788f7c48c3a72f538f71c2c648",
       "style": "IPY_MODEL_453fbe1c63714e65aae808be306f7b7e",
       "value": "<div style=\"outline: 5px solid #1976D2FF; width: 400px; height: 324px;\"><svg id='keras-network' xmlns='http://www.w3.org/2000/svg' xmlns:xlink='http://www.w3.org/1999/xlink' image-rendering=\"pixelated\" width=\"400px\" height=\"324px\" style=\"background-color: #B0C4DE\">\n <g >\n  <svg viewBox=\"0 0 350 284\" width=\"400px\" height=\"324px\">\n    <defs>\n        <marker id=\"arrow\" markerWidth=\"10\" markerHeight=\"10\" refX=\"9\" refY=\"3\" orient=\"auto\" markerUnits=\"strokeWidth\">\n          <path d=\"M0,0 L0,6 L9,3 z\" fill=\"black\" />\n        </marker>\n    </defs><rect x=\"112.0\" y=\"24\" width=\"126\" height=\"64\" style=\"fill:none;stroke:black;stroke-width:2\"/><image id=\"keras-network_output\" class=\"keras-network\" x=\"113.0\" y=\"25\" height=\"62\" width=\"124\" preserveAspectRatio=\"none\" image-rendering=\"optimizeSpeed\" xlink:href=\"data:image/gif;base64,R0lGODdhfAA+AIcAAAMDA+rq6gAAAAAAAAAAAAAAAAAAAAAAAAAAAAAAAAAAAAAAAAAAAAAAAAAAAAAAAAAAAAAAAAAAAAAAAAAAAAAAAAAAAAAAAAAAAAAAAAAAAAAAAAAAAAAAAAAAAAAAAAAAAAAAAAAAAAAAAAAAAAAAAAAAAAAAAAAAAAAAAAAAAAAAAAAAAAAAAAAAAAAAAAAAAAAAAAAAAAAAAAAAAAAAAAAAAAAAAAAAAAAAAAAAAAAAAAAAAAAAAAAAAAAAAAAAAAAAAAAAAAAAAAAAAAAAAAAAAAAAAAAAAAAAAAAAAAAAAAAAAAAAAAAAAAAAAAAAAAAAAAAAAAAAAAAAAAAAAAAAAAAAAAAAAAAAAAAAAAAAAAAAAAAAAAAAAAAAAAAAAAAAAAAAAAAAAAAAAAAAAAAAAAAAAAAAAAAAAAAAAAAAAAAAAAAAAAAAAAAAAAAAAAAAAAAAAAAAAAAAAAAAAAAAAAAAAAAAAAAAAAAAAAAAAAAAAAAAAAAAAAAAAAAAAAAAAAAAAAAAAAAAAAAAAAAAAAAAAAAAAAAAAAAAAAAAAAAAAAAAAAAAAAAAAAAAAAAAAAAAAAAAAAAAAAAAAAAAAAAAAAAAAAAAAAAAAAAAAAAAAAAAAAAAAAAAAAAAAAAAAAAAAAAAAAAAAAAAAAAAAAAAAAAAAAAAAAAAAAAAAAAAAAAAAAAAAAAAAAAAAAAAAAAAAAAAAAAAAAAAAAAAAAAAAAAAAAAAAAAAAAAAAAAAAAAAAAAAAAAAAAAAAAAAAAAAAAAAAAAAAAAAAAAAAAAAAAAAAAAAAAAAAAAAAAAAAAAAAAAAAAAAAAAAAAAAAAAAAAAAAAAAAAAAAAAAAAAAAAAAAAAAAAAAAAAAAAAAAAAAAAAAAAAAAAAAAAAAAAAAAAAAAAAAAAAAAAAAAAAAAAAAAAAAAAAAAAAAAAAAAAAAAAAAAAAAAAAAAAAAAAAAAAAAAAAAAAAAAAAAAAAAAAAAAAAAAAAAAAAAAAAAAAAAAAAAAAAAACwAAAAAfAA+AEAI/wABCBxIsKDBgwgTKlzIsKHDhxAjSoQYoKLFixgzatzIsSPGiSBDEvRIsqTJjiJTTjzJsiVJlTAfupxJ02LMmwtr6myJs+fBnUBL+hw6MKhRjkSJHl36MalPplADOH0adenUnlWtXr2Z9ehWrl2Dfo0ZVuxYlWWBnkWbVufalG3dvg0Zt+ZcunVn3gWZV+9eiX1d/gUcmOXgiIUNH5aZ2ORixo1fPm4YWehkhpUlX1aY2ePmnJ2Rfk4YWvTon6U1nkaYWvVqg60zvoYd++LsgrVt3y6au+Ju3r1/C+ztWzhxqcaJCwdwfHnz5MGh53auXHpt6tF/P9denXv23dvBdxYX//12ePPj0ZeffZ59evfrX7dfPjogADs=\"><title>Layer: output 'Dense'\nAct function: sigmoid\nAct output range: (0, 1)\nShape = (None, 2)</title></image><text x=\"242.0\" y=\"58.0\" font-family=\"monospace\" font-size=\"12\" text-anchor=\"start\" fill=\"blue\" alignment-baseline=\"central\" >output</text><path d=\"M 175.0 116 L 175.0 89 \" stroke=\"black\" stroke-width=\"2\" marker-end=\"url(#arrow)\" fill=\"none\" /><rect x=\"74.0\" y=\"116\" width=\"202\" height=\"64\" style=\"fill:none;stroke:black;stroke-width:2\"/><image id=\"keras-network_hidden\" class=\"keras-network\" x=\"75.0\" y=\"117\" height=\"62\" width=\"200\" preserveAspectRatio=\"none\" image-rendering=\"optimizeSpeed\" xlink:href=\"data:image/gif;base64,R0lGODdh+AA+AIcAAOzs7AkJCZubmwAAAAAAAAAAAAAAAAAAAAAAAAAAAAAAAAAAAAAAAAAAAAAAAAAAAAAAAAAAAAAAAAAAAAAAAAAAAAAAAAAAAAAAAAAAAAAAAAAAAAAAAAAAAAAAAAAAAAAAAAAAAAAAAAAAAAAAAAAAAAAAAAAAAAAAAAAAAAAAAAAAAAAAAAAAAAAAAAAAAAAAAAAAAAAAAAAAAAAAAAAAAAAAAAAAAAAAAAAAAAAAAAAAAAAAAAAAAAAAAAAAAAAAAAAAAAAAAAAAAAAAAAAAAAAAAAAAAAAAAAAAAAAAAAAAAAAAAAAAAAAAAAAAAAAAAAAAAAAAAAAAAAAAAAAAAAAAAAAAAAAAAAAAAAAAAAAAAAAAAAAAAAAAAAAAAAAAAAAAAAAAAAAAAAAAAAAAAAAAAAAAAAAAAAAAAAAAAAAAAAAAAAAAAAAAAAAAAAAAAAAAAAAAAAAAAAAAAAAAAAAAAAAAAAAAAAAAAAAAAAAAAAAAAAAAAAAAAAAAAAAAAAAAAAAAAAAAAAAAAAAAAAAAAAAAAAAAAAAAAAAAAAAAAAAAAAAAAAAAAAAAAAAAAAAAAAAAAAAAAAAAAAAAAAAAAAAAAAAAAAAAAAAAAAAAAAAAAAAAAAAAAAAAAAAAAAAAAAAAAAAAAAAAAAAAAAAAAAAAAAAAAAAAAAAAAAAAAAAAAAAAAAAAAAAAAAAAAAAAAAAAAAAAAAAAAAAAAAAAAAAAAAAAAAAAAAAAAAAAAAAAAAAAAAAAAAAAAAAAAAAAAAAAAAAAAAAAAAAAAAAAAAAAAAAAAAAAAAAAAAAAAAAAAAAAAAAAAAAAAAAAAAAAAAAAAAAAAAAAAAAAAAAAAAAAAAAAAAAAAAAAAAAAAAAAAAAAAAAAAAAAAAAAAAAAAAAAAAAAAAAAAAAAAAAAAAAAAAAAAAAAAAAAAAAAAAAAAAAAAAAAAAAAAAAAAAAAAAAAAAAAAAAAAAAAAAAAAAAAAAAAAAAAAAAAAAAAAAAAAAAAAAAAAAAAACwAAAAA+AA+AEAI/wADCBxIsKDBgwgTKlzIsKHDhxAjSpxIsaLFixgXAtjIsaPHjyBDihzpUaCAkyhTqlzJsqXLlyoFkpxJs+bIjDgb2tzJc6ZJmECDCnUps6fRoxtzKk2ItCnPn0OjSn1Z1KlVkkuzFrzKVSTUqWDDVu1KNqnWs2XTAvgatu3QsWqvnkUbtytbt3ipBqhrd25Wvlzv5h0ccy9gq37/HnYqmLBjuIt7Jl4auWljx4MhV7Y5Wenmo5cx49X82WdnnKUlBxDNWgDp1F5PZ4S9M3RrsK9pf5Q9WzdN27el5vbNkTdG4qaDPzaMPLbxis1vrlaemXn03c+hXwcJnHrQ4ciza//fXnK6d7fgiYunSB77+dHW269dL1F+x+7vicZvT7++fbP5tZWeb/1F9B+AAeK2H3kFQnTgfAkq+GCDD01oXoRvLbgdhQ5ZiKFwGl7HoU4H4vfhSQPqNiJDHp4oVIq0rahRiRe6qJeFMiLUoo0wwQhbjkzRyCNQPqYGpI5CDnkjjUdulaSSLRVZWpMG7QjlSlJ+RqWT/5l4YpabbUmQlVemBGZlYg5EZpkohhhdmmdG5uWHcS4Gp5vNzYlhnYfduSabfALm55NsohQoX4N2WWOhh9aVqH16RthoXI/KF2mCk6pVKX+LAopneHD+WWamaW3KYKejfqpeqIQW6pqqBLJnqqirZsKqoqyQonolqWWZuqGuUPJKlq8iAquksH2lKequtsaIq6XGDolsYM9ySquhzf5Y7anXtomjmMsGm62R2/7a7avfbhnuseNOWW6x504r17tvRsujvIjRm6e9NuLL2J0AB7xiQAA7\"><title>Layer: hidden 'Dense'\nAct function: sigmoid\nAct output range: (0, 1)\nShape = (None, 4)</title></image><text x=\"280.0\" y=\"150.0\" font-family=\"monospace\" font-size=\"12\" text-anchor=\"start\" fill=\"blue\" alignment-baseline=\"central\" >hidden</text><path d=\"M 175.0 208 L 175.0 181 \" stroke=\"black\" stroke-width=\"2\" marker-end=\"url(#arrow)\" fill=\"none\" /><rect x=\"74.0\" y=\"208\" width=\"202\" height=\"52\" style=\"fill:none;stroke:black;stroke-width:2\"/><image id=\"keras-network_input\" class=\"keras-network\" x=\"75.0\" y=\"209\" height=\"50\" width=\"200\" preserveAspectRatio=\"none\" image-rendering=\"optimizeSpeed\" xlink:href=\"data:image/gif;base64,R0lGODdh8AAPAIcAAAAAADk5Obe3txgYGF5eXq2trf///wAAAAAAAAAAAAAAAAAAAAAAAAAAAAAAAAAAAAAAAAAAAAAAAAAAAAAAAAAAAAAAAAAAAAAAAAAAAAAAAAAAAAAAAAAAAAAAAAAAAAAAAAAAAAAAAAAAAAAAAAAAAAAAAAAAAAAAAAAAAAAAAAAAAAAAAAAAAAAAAAAAAAAAAAAAAAAAAAAAAAAAAAAAAAAAAAAAAAAAAAAAAAAAAAAAAAAAAAAAAAAAAAAAAAAAAAAAAAAAAAAAAAAAAAAAAAAAAAAAAAAAAAAAAAAAAAAAAAAAAAAAAAAAAAAAAAAAAAAAAAAAAAAAAAAAAAAAAAAAAAAAAAAAAAAAAAAAAAAAAAAAAAAAAAAAAAAAAAAAAAAAAAAAAAAAAAAAAAAAAAAAAAAAAAAAAAAAAAAAAAAAAAAAAAAAAAAAAAAAAAAAAAAAAAAAAAAAAAAAAAAAAAAAAAAAAAAAAAAAAAAAAAAAAAAAAAAAAAAAAAAAAAAAAAAAAAAAAAAAAAAAAAAAAAAAAAAAAAAAAAAAAAAAAAAAAAAAAAAAAAAAAAAAAAAAAAAAAAAAAAAAAAAAAAAAAAAAAAAAAAAAAAAAAAAAAAAAAAAAAAAAAAAAAAAAAAAAAAAAAAAAAAAAAAAAAAAAAAAAAAAAAAAAAAAAAAAAAAAAAAAAAAAAAAAAAAAAAAAAAAAAAAAAAAAAAAAAAAAAAAAAAAAAAAAAAAAAAAAAAAAAAAAAAAAAAAAAAAAAAAAAAAAAAAAAAAAAAAAAAAAAAAAAAAAAAAAAAAAAAAAAAAAAAAAAAAAAAAAAAAAAAAAAAAAAAAAAAAAAAAAAAAAAAAAAAAAAAAAAAAAAAAAAAAAAAAAAAAAAAAAAAAAAAAAAAAAAAAAAAAAAAAAAAAAAAAAAAAAAAAAAAAAAAAAAAAAAAAAAAAAAAAAAAAAAAAAAAAAAAAAAAAAAAAAAAAAAAAAAAAAAAAAAAAAAAAAAAAAAAAAAAAAAAAAAAAAAACwAAAAA8AAPAAAI/wABCBxIsKDBgwgTKlzIsKHDhxAjSpxIsaLCABgzaswYcaNHjAIFiBxJcqTFix83hizJUoDAATBjyoz5cqbNAStbkhRYoKfPnz4FplQJgIDRo0iPCjTAtKnTpkKHcgQgderDqiAB6Cx5MiHWADm3ugRw02bNsjS1ihXJE6jbAlGrCkxK1+jSp3gNxJW6d2hHrGG3dkX4NbDOs2hxkk0M03DLtm9/9k05t27Su3mdTv642eNfuWrXDj5YOLRYxGhRl3XMEnLknp2JWr4MIPPT2BpxW3VYei3b0QV7+1Z9k7hZ04IBvJZMFXDR2Upr24baHHTpq859jwU+ULjoxYyNz81kzVX5ctjV+T6HTgDzdN1Zr/POPpx7d/rfGTcGn5j8TvPnwQfWetC5Z5uACELk3Wn2JaideDJBmNaDAC6XIHt2STedXun51SFlCuLHYIMLJqefYif6Z1KFr12IoYGZJShfQyUe1uCHnCFnY4r8pabjYyxG5iJ7MOYlo3PYgUYhiSKaqJ+E+1F4HnqlYdiehu/h6JmWRCWp3pL21QgkjzxKOeWQBWJ5IJe5sbkbjU3ayKSS9ZH55I+tBfkWmrMViVeCNwYq6KCEFmooAAEBADs=\"><title>Layer: input 'InputLayer'\nShape = [(None, 16)]</title></image><text x=\"280.0\" y=\"236.0\" font-family=\"monospace\" font-size=\"12\" text-anchor=\"start\" fill=\"blue\" alignment-baseline=\"central\" >input</text><text x=\"175.0\" y=\"12.5\" font-family=\"monospace\" font-size=\"15\" text-anchor=\"middle\" fill=\"black\" alignment-baseline=\"central\" >Activations for SimpleNetwork</text></svg></g></svg></div>"
      }
     }
    },
    "version_major": 2,
    "version_minor": 0
   }
  }
 },
 "nbformat": 4,
 "nbformat_minor": 4
}
