{
  "cells": [
    {
      "cell_type": "markdown",
      "metadata": {
        "id": "CIWuXT1rbAAu"
      },
      "source": [
        "<a target=\"_blank\" href=\"https://colab.research.google.com/github/ArtificialIntelligenceToolkit/aitk/blob/master/notebooks/NeuralNetworks/DataManipulation.ipynb\"><img src=\"https://colab.research.google.com/assets/colab-badge.svg\" alt=\"Open In Colab\"/></a>"
      ]
    },
    {
      "cell_type": "markdown",
      "metadata": {
        "id": "oKKbI7kMvSok"
      },
      "source": [
        "# Data Manipulation\n",
        "In this notebook, we explore how the composition of the training set for neural networks can lead to biased outcomes. We explore this in a categorization task with two classes by manipulating the balance of training examples across these classes."
      ]
    },
    {
      "cell_type": "markdown",
      "metadata": {
        "id": "zhwI5C5VzKDa"
      },
      "source": [
        "Here we will install the relevant library in order for this notebook to run."
      ]
    },
    {
      "cell_type": "code",
      "execution_count": 22,
      "metadata": {
        "id": "79TEzrOUtBpl"
      },
      "outputs": [],
      "source": [
        "%pip install aitk --quiet"
      ]
    },
    {
      "cell_type": "markdown",
      "metadata": {
        "id": "8RdbSwNB1SIC"
      },
      "source": [
        "Running this next code block will allow us to import the additional libraries for this notebook."
      ]
    },
    {
      "cell_type": "code",
      "execution_count": 23,
      "metadata": {
        "id": "ssblrxpV9eVu"
      },
      "outputs": [],
      "source": [
        "from aitk.utils import gallery, array_to_image\n",
        "from aitk.networks import SimpleNetwork\n",
        "import tensorflow\n",
        "from tensorflow.keras.datasets import mnist\n",
        "import numpy as np\n",
        "from random import shuffle"
      ]
    },
    {
      "cell_type": "markdown",
      "metadata": {
        "id": "eGocrfH8L4OD"
      },
      "source": [
        "## Manipulating the Data\n",
        "In this section, we will perform some manipulations on a dataset in order to show how the composition of a dataset can affect the efficacy of a neural network."
      ]
    },
    {
      "cell_type": "markdown",
      "metadata": {
        "id": "53F-RO-vLY4T"
      },
      "source": [
        "To demonstrate dataset composition's relevance to network efficacy, we will use a part of the MNIST dataset. MNIST is a data set composed of hand-written digits. we will focus on two digits from this dataset in order to demonstrate how over or under representing one of these two digits will affect the network's ability to accurately distinguish between them. Initially we will try categorizing 3's vs 5's. The reason we chose 3 and 5 is that they have some similarities, such as a similar curve in their bottom halves.\n",
        "So distinguishing a 3 vs a 5 is more difficult than say a 3 vs a 1.\n",
        "\n",
        "We will start with an equal number of each digit, and then we will change the percentages of them in the dataset to explore how this imbalance impacts a network."
      ]
    },
    {
      "cell_type": "markdown",
      "metadata": {
        "id": "uJEQC2GJO_d7"
      },
      "source": [
        "This code block loads in the MNIST dataset."
      ]
    },
    {
      "cell_type": "code",
      "execution_count": 24,
      "metadata": {
        "id": "G9D1Spe3zPzH"
      },
      "outputs": [],
      "source": [
        "(train_x, train_y), (test_x, test_y) = mnist.load_data()"
      ]
    },
    {
      "cell_type": "markdown",
      "metadata": {
        "id": "6e1bDkc9PGuS"
      },
      "source": [
        "### Set the two digits to explore\n",
        "\n",
        "We will begin by focusing on categorizing 3's vs 5's. But later you may change the two digits you wish to categorize to something else, such as 3 vs 8 or 1 vs 7.\n"
      ]
    },
    {
      "cell_type": "code",
      "execution_count": 25,
      "metadata": {
        "id": "8-hb0GRHebdh"
      },
      "outputs": [],
      "source": [
        "digit1 = 3\n",
        "digit2 = 5"
      ]
    },
    {
      "cell_type": "markdown",
      "source": [
        "We begin by extracting just the two digits we want from the MNIST **training** data. We want to ensure that we start with an equal number of samples, and we will gather 5000 of each."
      ],
      "metadata": {
        "id": "czlzg1hKdUxe"
      }
    },
    {
      "cell_type": "code",
      "execution_count": 26,
      "metadata": {
        "colab": {
          "base_uri": "https://localhost:8080/"
        },
        "id": "cpAk1htBuA_J",
        "outputId": "40724d1d-2bf3-4799-94a4-36486de2a1ab"
      },
      "outputs": [
        {
          "output_type": "stream",
          "name": "stdout",
          "text": [
            "number of 3's: 5000\n",
            "number of 5's: 5000\n"
          ]
        }
      ],
      "source": [
        "digit1_train_x = []\n",
        "digit1_train_y = []\n",
        "digit2_train_x = []\n",
        "digit2_train_y = []\n",
        "num_train_digit1 = 0\n",
        "num_train_digit2 = 0\n",
        "\n",
        "for i in range(len(train_x)):\n",
        "  if train_y[i] == digit1 and num_train_digit1 < 5000:\n",
        "    digit1_train_x.append(train_x[i])\n",
        "    digit1_train_y.append([1,0])\n",
        "    num_train_digit1 += 1\n",
        "  elif train_y[i] == digit2 and num_train_digit2 < 5000:\n",
        "    digit2_train_x.append(train_x[i])\n",
        "    digit2_train_y.append([0,1])\n",
        "    num_train_digit2 += 1\n",
        "\n",
        "print(\"number of %d's: %d\" % (digit1, len(digit1_train_x)))\n",
        "print(\"number of %d's: %d\" % (digit2, len(digit2_train_x)))"
      ]
    },
    {
      "cell_type": "markdown",
      "metadata": {
        "id": "QgZnzunCfg2P"
      },
      "source": [
        "We also need to extract just the two digits of interest from the **testing** data."
      ]
    },
    {
      "cell_type": "code",
      "execution_count": 27,
      "metadata": {
        "colab": {
          "base_uri": "https://localhost:8080/"
        },
        "id": "gR8upW9NC4kP",
        "outputId": "6619e49c-b3be-4d4a-80ef-24b93a501b5b"
      },
      "outputs": [
        {
          "output_type": "stream",
          "name": "stdout",
          "text": [
            "number of 3's: 750\n",
            "number of 5's: 750\n"
          ]
        }
      ],
      "source": [
        "new_test_x = []\n",
        "new_test_y = []\n",
        "num_digit1 = 0\n",
        "num_digit2 = 0\n",
        "\n",
        "for i in range(len(test_x)):\n",
        "  if test_y[i] == digit1 and num_digit1 < 750:\n",
        "    new_test_x.append(test_x[i])\n",
        "    new_test_y.append([1,0])\n",
        "    num_digit1 += 1\n",
        "  elif test_y[i] == digit2 and num_digit2 < 750:\n",
        "    new_test_x.append(test_x[i])\n",
        "    new_test_y.append([0,1])\n",
        "    num_digit2 += 1\n",
        "\n",
        "new_test_x = np.array(new_test_x)\n",
        "new_test_y = np.array(new_test_y)\n",
        "\n",
        "new_test_x_normalized = new_test_x/255\n",
        "\n",
        "print(\"number of %d's: %d\" % (digit1, num_digit1))\n",
        "print(\"number of %d's: %d\" % (digit2, num_digit2))"
      ]
    },
    {
      "cell_type": "markdown",
      "metadata": {
        "id": "_R8h4DaG5CZG"
      },
      "source": [
        "Now that we have all of the data, we can begin to manipulate the balance within it. The next function allows us to specify how to split up the data."
      ]
    },
    {
      "cell_type": "code",
      "execution_count": 28,
      "metadata": {
        "id": "BzAeR_EMwl_A"
      },
      "outputs": [],
      "source": [
        "def split_data(pct_digit1, pct_digit2):\n",
        "  assert pct_digit1+pct_digit2 == 1, \"percentages must sum to 1\"\n",
        "  num_digit1 = int(pct_digit1*(len(digit1_train_x)))\n",
        "  num_digit2 = int(pct_digit2*(len(digit2_train_x)))\n",
        "  shuffle(digit1_train_x)\n",
        "  shuffle(digit2_train_x)\n",
        "  print(\"%d train length: %d\" % (digit1, num_digit1))\n",
        "  print(\"%d train length: %d\" % (digit2, num_digit2))\n",
        "  inputs = digit1_train_x[:num_digit1] + digit2_train_x[:num_digit2]\n",
        "  targets = ([[1,0]]*num_digit1) + ([[0,1]]*num_digit2)\n",
        "  mix = list(zip(inputs, targets))\n",
        "  shuffle(mix)\n",
        "  inputs, targets = zip(*mix)\n",
        "\n",
        "  inputs = np.array(inputs)/255\n",
        "  targets = np.array(targets)\n",
        "\n",
        "  return inputs, targets\n"
      ]
    },
    {
      "cell_type": "markdown",
      "metadata": {
        "id": "nSSabDe77w55"
      },
      "source": [
        "### Set percentages of each digit in the training set\n",
        "\n",
        "Now, **enter the percentages for both digits** that you want in the dataset as a decimal. To begin, we will look at a balanced dataset that is split 50/50 (which should be entered as 0.5 for both digits below).\n",
        "\n",
        "After seeing how that works, change the percentages and rerun all the code blocks below to see how the network changes. For example you might want to try a 70/30 split (which should be entered as .7 and .3 below)."
      ]
    },
    {
      "cell_type": "code",
      "execution_count": 29,
      "metadata": {
        "id": "h3JoM5BJ4O77"
      },
      "outputs": [],
      "source": [
        "pct_digit1 = 0.5\n",
        "pct_digit2 = 0.5"
      ]
    },
    {
      "cell_type": "markdown",
      "metadata": {
        "id": "GMsOZm_P8V2a"
      },
      "source": [
        "Run the next code block to split up the data as you specified. Additionally, the quantities of each digit will be printed; verify that the numbers look correct given the percentages that you entered."
      ]
    },
    {
      "cell_type": "code",
      "execution_count": 30,
      "metadata": {
        "colab": {
          "base_uri": "https://localhost:8080/"
        },
        "id": "11CCyt921x9f",
        "outputId": "2fb06bbe-188f-4579-b36a-235c54896bbe"
      },
      "outputs": [
        {
          "output_type": "stream",
          "name": "stdout",
          "text": [
            "3 train length: 2500\n",
            "5 train length: 2500\n"
          ]
        }
      ],
      "source": [
        "inputs, targets = split_data(pct_digit1, pct_digit2)"
      ]
    },
    {
      "cell_type": "markdown",
      "metadata": {
        "id": "MBYsp30e8clA"
      },
      "source": [
        "Now, we can see what a sample of 10 images from the new dataset looks like. The number of examples of each digit will vary based on the percentages you inputted."
      ]
    },
    {
      "cell_type": "code",
      "execution_count": 31,
      "metadata": {
        "colab": {
          "base_uri": "https://localhost:8080/",
          "height": 232
        },
        "id": "MTUkPmHPTrkc",
        "outputId": "d30e6073-4e01-4506-cec4-02396cbe1876"
      },
      "outputs": [
        {
          "output_type": "display_data",
          "data": {
            "text/plain": [
              "<IPython.core.display.HTML object>"
            ],
            "text/html": [
              "<table><tr style=\"padding: 1px\"><td style=\"text-align: center; padding: 1px\">0<br/><img src=\"data:image/PNG;base64,iVBORw0KGgoAAAANSUhEUgAAABwAAAAcCAAAAABXZoBIAAABEUlEQVR4nGNgGFhgZL3k7/+/f//+TYQKsCDkPOeJMPxj+MfAwPAfKsIEl3OZKgJhVGKa6fzh9+/fT694/I5kEWJHk3P58Pv355nuDCoz9TH0ed77/ft3Proo1E4dWQYGhuMinFh9Efj49+/fv3/P9bNFFmWEyS7gYmBgYGB4vozhTQ+G3uDfv3///v377+/fnw55YTPc9tChi3///v379+86FGNhQCGNQSiZgeFa6imsbmPg6f/9+3cxkleQwZeK5VAWPOCj2Q/fhrAEguQYHl5BVp775XcClLXq9+/fa1F0OrEz8IgwMEzT/S/Jw8DwPhfFosqvcH/+/n1qPpozXiIkj+mguxEeQiWWyti9SB8AAAUZektl6GxVAAAAAElFTkSuQmCC\" alt=\"0\" title=\"0\"></img></td><td style=\"text-align: center; padding: 1px\">1<br/><img src=\"data:image/PNG;base64,iVBORw0KGgoAAAANSUhEUgAAABwAAAAcCAAAAABXZoBIAAAA3klEQVR4nGNgGLRAWvv//7lKXNhknMWP//nz58+fah5MuQV/Ztz58+fPnz9/tDEknf/AAbIkEwMDA4NYFR63KCE0/rmwDU2S2f/jx4xzUNnfL2bzsKIpWIak+08Skp1wcG/zSwYGBgYGfRFMnbcCGFJ6p//58+fPJD40yW+5PgwMDAxcPX/+/PmjgCJp5OMJZVlgSjIwMDA4Xrpkj0tS+9ufP99sxD3//PnzRhbdt9EIvziia+RByB3TwuJPGJhzDbfk1iMYQsyO1RBDdylh08HV8OfPH3UFUaxWUQ8AAPQakVD72iByAAAAAElFTkSuQmCC\" alt=\"1\" title=\"1\"></img></td><td style=\"text-align: center; padding: 1px\">2<br/><img src=\"data:image/PNG;base64,iVBORw0KGgoAAAANSUhEUgAAABwAAAAcCAAAAABXZoBIAAAAp0lEQVR4nGNgGEqAEasokxyDLtdK7Dp0F/z9e7kZm4yMQ8PvX5v1WLDJFX/5+/eJA1YDrVf9/77WDYuE8sKC6V8/L1LBqmv+v79PF6hid6LKt1+z5LFLMTA4/F2MLsQEZ0kynsYt+fx/KAcuUxkUnv1rwKnzQQkDH05Jhm8YhkElS/gYWEIZjqFJQsOX8/muxxGr1mB3DXPMl7/H+HE6VjOaB6ccPQEA5JswNf4KhB8AAAAASUVORK5CYII=\" alt=\"2\" title=\"2\"></img></td><td style=\"text-align: center; padding: 1px\">3<br/><img src=\"data:image/PNG;base64,iVBORw0KGgoAAAANSUhEUgAAABwAAAAcCAAAAABXZoBIAAAAwklEQVR4nGNgGKRAqW/pvf///t3MRBZkhFA6O6QYbrxkYDB4po2hT/rx9XYpLgYGhtKfmIZyuHNCGNOxSMIA88mPuCWd/s3FLbnthwFOudS/m3Fr3PXNGIXPiMROns6w/yzDvDtYNXb8+/fh1b9PHlgl+ayslMTC3n1qw22x8NknQrhlQ/4ZQllMmJKSuPUx8B97LoZTsv7fTCyiHKIMDAwiJX9OsmORbHtflN7z5t9BaWzmiV369+/fnw5mPO6hDgAAepM8m2PDsFoAAAAASUVORK5CYII=\" alt=\"3\" title=\"3\"></img></td><td style=\"text-align: center; padding: 1px\">4<br/><img src=\"data:image/PNG;base64,iVBORw0KGgoAAAANSUhEUgAAABwAAAAcCAAAAABXZoBIAAAA6klEQVR4nGNgGGggiMplhNLKWsqeDAxyjxhOzHyGpkOo+MH//79+Xnm5+OfP06JoklX//x9I58Zh193/K3A7JOH/O1ackvyX/6djEWZiYGBgYPiI7kJkSYa5+CS/Y5VkgVBPvqRKesLEvizY/IGBgQERQtc0GRiurmTQvcwgESLG8Plg7QUkEzQPLwiGsYPDN/x9boxqA6sagr3o/25UyYaTCPbM//9RJZ+8d4WydOf8/f8YyUEMDAxxCz/enc3AwMBgGcDHMKPpOYpORo+jf/5DwHZTJgZUnQwMDG7e6gwMDMfOHfzMMCgBAMwhTxkjPJwvAAAAAElFTkSuQmCC\" alt=\"4\" title=\"4\"></img></td></tr><tr style=\"padding: 1px\"><td style=\"text-align: center; padding: 1px\">5<br/><img src=\"data:image/PNG;base64,iVBORw0KGgoAAAANSUhEUgAAABwAAAAcCAAAAABXZoBIAAAAtElEQVR4nM2RwRWDIBBEJz7LkLSR0IexEPugEWIbAepY6GNyiCgq5pRD5rSPz7IzC/BnuiyV0jfVdVA+ITzj9tbIQvZz1mbYAzEAIQGA373vyPF0uM1vFWpyca80ZDioCmzX8uFS8HsrAIokRtf80A7GCklzmGBoAABaSKk0Z2vyjWqhO4XQtWWNdvbC47Y0ObvKsFlhAuIEAEuUYkPx+lLOTwk9EGox3Oazd1JGSDHnSX6hN7WcYx28SxAiAAAAAElFTkSuQmCC\" alt=\"5\" title=\"5\"></img></td><td style=\"text-align: center; padding: 1px\">6<br/><img src=\"data:image/PNG;base64,iVBORw0KGgoAAAANSUhEUgAAABwAAAAcCAAAAABXZoBIAAABGklEQVR4nGNgGGSAEVOIy5BR13j56U9IkiwCDAwMDD5BqgxsigwMDAxbfRkYWCBSOi08TnCtDy/+f7T3EdxYt3VcP99J/rlz+grjf4aPy76gWDPn32xD8XJX7M669UkOmzATAwMDA8N3zggunB6q//fvygZ/f3OskqyOO17/+/fvx+vX62M0mDHlFaysex/8+/fv37/J4jjMV0ve+e/fvzZVIezSzOqNt/+9X4DTeXK7/h1nwymrfOufEgMDzJ9o4O4chmBkvv9GJI7Nh3/CKJI3eaEs9vyDH/5tZmZggEcZA4Pq5Yv/GRhuqf+XMGNg6O/+i6yTrfbp/3///v37/+/R025LaCAhkom4iq4xA8OrrTdYX+L0BnUAABe3Xx+WWZ0DAAAAAElFTkSuQmCC\" alt=\"6\" title=\"6\"></img></td><td style=\"text-align: center; padding: 1px\">7<br/><img src=\"data:image/PNG;base64,iVBORw0KGgoAAAANSUhEUgAAABwAAAAcCAAAAABXZoBIAAAA8klEQVR4nM1PLU8DURCcbVDF9iy2ebYgSX8D7Q9AYqlHHgGHbUvl6aYSSxMMqe1xv+GRcyTF7Aei3AW2d5KEHTPZeW92BvhnQz/48egcwz7ZAuXdzr27yVkqpACAo1pbXpAR9ug427A1MiruC4x6obz8bZupaN6WbCOcd92uunk2IFBAsWsSzWD9Vyo+Ua4evWuyUalw6+3RmzzXLQctuYZXa9G0LTVmLPxNO/XR2STZM6KXg0DCTwAQIsvUVYlGWADAOLGDn8LCGYDsQzieOPFNTDSfr1VUgs/YTauW8bqp4cO7qGgcNzc8nco29ff+YL4Ab4aAUqRzUUQAAAAASUVORK5CYII=\" alt=\"7\" title=\"7\"></img></td><td style=\"text-align: center; padding: 1px\">8<br/><img src=\"data:image/PNG;base64,iVBORw0KGgoAAAANSUhEUgAAABwAAAAcCAAAAABXZoBIAAAAw0lEQVR4nM3QoQ7CUAwF0AqYAMszYDAzU1jU/mAG/wQfgMHMYDHwBSjUBMEOAWIKAQY1BIKEZIaRgNjEEL1DzCBeHYIre5L2pkT/nM4yDzezUeyacM5gMPhkMKdElZeqBrUvPPdaN9UIVLl+GK9a/p2fC6GSx+CBYDrFzliViHSBlUBEMbRoLjiZKgGdIxDFnqBWP8xwEDdTF5AtQCTZOMVbKOzuC7DZlJ8DF8dEk20CzoZNk9kA0lB4QPvKkV2Xev44H6T9VnoKeY6KAAAAAElFTkSuQmCC\" alt=\"8\" title=\"8\"></img></td><td style=\"text-align: center; padding: 1px\">9<br/><img src=\"data:image/PNG;base64,iVBORw0KGgoAAAANSUhEUgAAABwAAAAcCAAAAABXZoBIAAAAyklEQVR4nMWRrRKCUBCFwTFhxUplqIBRqlmqPokVH4JulYcwUxVtVmVoBMueuwb+HO9Sdbfs7jc759y9hvHHmGUKZboNPAkGBAKB6p0A57lCk3E/M/vKdozIjVyTX4vbiLSXQvldM/2C8ZpH1oJ9AYXcFlCcN34lZjReP/cmQ3llZuaqEhXje/FUUBfZj205/hEkHrDdr0tHG0bLtljD12DR31RQHf4DpMETGJyEQZgxNOicQV3qNr3DncFg8EZ6hb16gECJJcFfxRsLJXPHKMbGRQAAAABJRU5ErkJggg==\" alt=\"9\" title=\"9\"></img></td></tr><tr style=\"padding: 1px\"><td style=\"text-align: center; padding: 1px\">10<br/><img src=\"data:image/PNG;base64,iVBORw0KGgoAAAANSUhEUgAAABwAAAAcCAAAAABXZoBIAAABHElEQVR4nMWPvUsDQRTEJ0FSyJ02ARESCIKIhSm0UbALlkYINikEawvb08bKf0BsQ6wEbbS2iYWCAa0SiKjgB1gohPgdTpjns8h5rHdHSp1md+bH250H/J8yq3URURGREz+Me+e9NaqqX6qq41cjwdGhG5Jb5XK2RC54Wc8PvJ62gAsAtS6fTzV4kAxOAkB6EM5ML9xmeKa/dC4keTsXbAvgpT0MAEiFVgEQTwB4f93HbEQVe41yZCGz+bjSpfDe00ToWV9qLxtwY8BkyTQahn3esQ23SC4Zdpfbfb4ptviRN6DTZrU41rln6+Sdl8cAAJXJBN4qQEyRs/BZzf0qePhAkhSSvMwjoNSZ24Hu6XzEdgXnmML1QgT6S30DGfxws2hPsVkAAAAASUVORK5CYII=\" alt=\"10\" title=\"10\"></img></td><td style=\"text-align: center; padding: 1px\">11<br/><img src=\"data:image/PNG;base64,iVBORw0KGgoAAAANSUhEUgAAABwAAAAcCAAAAABXZoBIAAABEElEQVR4nM2Rvy8DcRjGn5PLnUYxKBELg2gadrOYVCIqYjWYOlm78FdY/BgFE4OBIJGYEB2aStOExKCxGKSVkHPJp4Zr5Vy/3Qye5X3zfN73zfvmlf6ZrCCMJiRNTihz/6CP/bwfLom9Edb1SBh2NdxaOYhPjiTJliTVPVfn+dui956QVnIatr9CrXPHq53NfBkqrnnDnrUapI2oY+kGKIy3EjeVqwL+Sa+hbQuAStY0chEAb91pD6F4GDfQ7FUDV1OBYf3CSSvpLMy7mr403iJpE6aiXvfQgCTFMz71KBwsUJI0WwL2+iLwAB5ntl8/wb+IRaceNZ/5svHj2ZGau92zcuuOY6fPsJPub3fDH+ob7wSNNnX+oRMAAAAASUVORK5CYII=\" alt=\"11\" title=\"11\"></img></td><td style=\"text-align: center; padding: 1px\">12<br/><img src=\"data:image/PNG;base64,iVBORw0KGgoAAAANSUhEUgAAABwAAAAcCAAAAABXZoBIAAAA7UlEQVR4nGNgGORAKaj259+lWKVEF/398+fPn0c6WOQC7/35++fPnz9/1mHK1f/48+fjyUr++X8+YsgFff3z+qg6AwODyNqr6HIiN/8cc4KyJdAlLf5M4sTpCYs/PyLkcUv++fOi2wW7JPvZP3/+/Pm5H4c0g/qzv////v1ihF1W4uTXF3/+lOLQKxwW9ufPUZyOZp75pxvGZoIxWEUgNI8Mw1kMHYcPCjMwMDAYb/5zRBhDctKffHYenpwjf/6IYNo158+fi3/+/Pn7sYwFU9Liz58/f/78+RyEJAZX9paB4fRxhot7n+D0B9UAAJFGZNKJYRslAAAAAElFTkSuQmCC\" alt=\"12\" title=\"12\"></img></td><td style=\"text-align: center; padding: 1px\">13<br/><img src=\"data:image/PNG;base64,iVBORw0KGgoAAAANSUhEUgAAABwAAAAcCAAAAABXZoBIAAAAyElEQVR4nGNgGGig9v40MpcJRdKB/yZOjQK//4UyMDCwqkZkYEoa/fvJwMDgsO/fjzpMyaZ/KWx5L389mymLKSf68p/2zH+fJ7Jis7L6379n/066YXUO+5F///42CGF3q8f/fyeCcfiDoenfVyVUEZRA+HUPjyQ6IFby2Hf+SWw4FU7892+qvwAOSY7l//79e/X0IAdWWYF///79+/ePH8NOpiZhzRwGBoY/T+2/YOiSff/v379/fzdYYjWz4Nv/RbV6OF1LLwAAyk1Juiu0ihwAAAAASUVORK5CYII=\" alt=\"13\" title=\"13\"></img></td><td style=\"text-align: center; padding: 1px\">14<br/><img src=\"data:image/PNG;base64,iVBORw0KGgoAAAANSUhEUgAAABwAAAAcCAAAAABXZoBIAAAA30lEQVR4nGNgGEqAEZXLr5jAwJm6suQppkrN1Ev///79+/dvM4TPApcRK/GQFmD4tPLqsWVKGNos/v59lc7FycAg9uubBLqkzrGffx8vk2RgqPjbg8VxRl4H/s5n8P/91xyr29nFuFTv/ZnIisNrbPv+XsEhxcAw9e9mBVxyhv82qOMyc+q/t5h+hADmyX//fjHDLqd8+u/fv/98scqp3//79+/ft6pYJZf9/d206G8tshAiymyct4ot5WPG4R4Gtvm/knDJKR/8OweHFPu093+7BHFIVvy9HsWLy1CSAQCFrk5Vvy6y7gAAAABJRU5ErkJggg==\" alt=\"14\" title=\"14\"></img></td></tr><tr style=\"padding: 1px\"><td style=\"text-align: center; padding: 1px\">15<br/><img src=\"data:image/PNG;base64,iVBORw0KGgoAAAANSUhEUgAAABwAAAAcCAAAAABXZoBIAAAA2ElEQVR4nGNgGCJAy4IHuwRzbvfpz/82oAubMDAwMLDM/ffv378DPmhyXt/vVAdOuPfv/4cGZSZ0jcX//v379+/X5mgJCJ8RSU5jq6yvCRPDqptY3GH97t9kXI6Xvv3vIZrzEfYKKjNs/IJLJ2fbrzucuCQZGCzvHZDGLav0bRsjbtnD/4ywiGrzMjAwMDB4/etHFoW6dlE+AwMDA8PNlwxYJLnlGBgYGBg6xbFZduO0nbxK+IW/T7ixSO749+7bv3//8vlRRKFOl1ghyMBwtv3Bb5weoRcAAKc1QrOLUR2EAAAAAElFTkSuQmCC\" alt=\"15\" title=\"15\"></img></td><td style=\"text-align: center; padding: 1px\">16<br/><img src=\"data:image/PNG;base64,iVBORw0KGgoAAAANSUhEUgAAABwAAAAcCAAAAABXZoBIAAABEElEQVR4nGNgoD9gROH12H1ey3D/4TVskgrn+BkY/zP82Pqc4fOHHgYGFmTJQH6Gz+sf+Mq4vfzPcAHNCra3f/9GMzAwSChjsb/z79/zojjcZv3/32d1HHLcN/79nYhDjsH377+HQqhCcK/IXuFh3L+BgcGKN+kVhkbVv3///f379++/v6tNMHRKm6Qdv8/A8EDRKYFhaSyqRvc9MBbLnb/foUwmKO31HiZpIcPwFE2SwQAWkNGsDDfRJZWKIbRpIgPDWzTHmv/7rs/AwMDAMPffvxtSaJIsd/72MzAwyG389/eFHIY/I7/+bVNtePn381EdDDkGhsof//7+/ft3BRYpBgaG0rt//25txC5HPwAAR1Be5n3yJ4IAAAAASUVORK5CYII=\" alt=\"16\" title=\"16\"></img></td><td style=\"text-align: center; padding: 1px\">17<br/><img src=\"data:image/PNG;base64,iVBORw0KGgoAAAANSUhEUgAAABwAAAAcCAAAAABXZoBIAAABAElEQVR4nGNgGKSASYIbU5AFStfVPn7BwMBw6eNHBgYGhhOXXyKpCf719+/lv39f/PsLAfcbGBgYGBgZGBgYGMSu8O7gdWdh+McEVfz/71+YPvFzf1u4ZHC4ZsffWSw4pBgYfv9VZcQp2f7377YcbR7skqw2+27//ftguiUOzZzK5Q///jg/WQOHPLPflnf//100wmW5YM7xv7/26OOSZks6//fbalyGM3AknPv70QGXLAN/x98PpjhlmRr/nmdgQESZrOi1f7+gUpK27gy/kCVfhE8VucvA8OvEbyEbKwaGa4UMDLAoY2BgYGCQk3Rh8P3PwHD3+rOzt7/jtJPGAAAHdlxA3TEj1gAAAABJRU5ErkJggg==\" alt=\"17\" title=\"17\"></img></td><td style=\"text-align: center; padding: 1px\">18<br/><img src=\"data:image/PNG;base64,iVBORw0KGgoAAAANSUhEUgAAABwAAAAcCAAAAABXZoBIAAAAz0lEQVR4nGNgoANgbfhfgcRlQZZj3uT27ycOfUpL/v7skcAux7Lh748CXBYW/f1bhUtO5M7f09K4HNr09wEuOQbJv39rMVyBxP7KwKvNwMCgHTj545k/6Do/7Tr5FwoMUI1gm/gXCfSiGvurbFmQFsPDxQwMDLmRDHdxuEyq5tvfOzzY5VxP/v17WxW7XObXv39vJ2GVcm/89vdegTA2KeGmb3//3kvFlPB8ULD//d+/f1doYNHV//fv379/V+oyYzMy+O/fdbmsTNhdOWgAAJbqYFJNZP7yAAAAAElFTkSuQmCC\" alt=\"18\" title=\"18\"></img></td><td style=\"text-align: center; padding: 1px\">19<br/><img src=\"data:image/PNG;base64,iVBORw0KGgoAAAANSUhEUgAAABwAAAAcCAAAAABXZoBIAAAA0klEQVR4nM2PIU9CcRTF73ujUQgU52ZxBhLB0ZCKZC1+AjffYGRGgejcKMzEV9BE9zv4KGzOTSvPIIHy29mjwGRw/83ASXf3t3PPuWZHrGKrlUvq1zz4BAL4bGwWhT/f4MHMFr9m0dmB7xlgdOUGDgX0/DId5VreB5q2Ed39Zbwz31wUfWfjQ8C4U3XppQD0fuLS2vRNyiVdu7iUJAJeA53t/HEFkxC1Ocy2rWKHV+qbobBPoth+vgNXbzOY+uj0LgP8V6upgBfflyK+muVA4r9pDU+gW//dvoS4AAAAAElFTkSuQmCC\" alt=\"19\" title=\"19\"></img></td></tr></table>"
            ]
          },
          "metadata": {}
        }
      ],
      "source": [
        "images = [array_to_image(inputs[i]) for i in range(20)]\n",
        "gallery(images)"
      ]
    },
    {
      "cell_type": "markdown",
      "metadata": {
        "id": "eBcWmdw-ZzHF"
      },
      "source": [
        "Here we are creating the neural network. We will utilize a simple network which first flattens the two-dimensional input, passes it through two hidden layers, and then on to the output layer."
      ]
    },
    {
      "cell_type": "code",
      "execution_count": 32,
      "metadata": {
        "id": "ZYhRl_wAPRQr"
      },
      "outputs": [],
      "source": [
        "net = SimpleNetwork((28, 28), \"Flatten\", 25, 10, (2, \"softmax\"))"
      ]
    },
    {
      "cell_type": "markdown",
      "metadata": {
        "id": "EhaHl4jNaptW"
      },
      "source": [
        "Summarizing the network allows us to make sure it looks as it is expected. The total number of parameters gives you a good sense of the size of the network. Ours is less than 20 thousand, which is quite small by modern standard."
      ]
    },
    {
      "cell_type": "code",
      "execution_count": 33,
      "metadata": {
        "colab": {
          "base_uri": "https://localhost:8080/"
        },
        "id": "0T6j_nRrP6Xd",
        "outputId": "af86be59-2b1e-4527-e117-0e2cfb686548"
      },
      "outputs": [
        {
          "output_type": "stream",
          "name": "stdout",
          "text": [
            "Model: \"SimpleNetwork\"\n",
            "_________________________________________________________________\n",
            " Layer (type)                Output Shape              Param #   \n",
            "=================================================================\n",
            " input (InputLayer)          [(None, 28, 28)]          0         \n",
            "                                                                 \n",
            " flatten_1 (Flatten)         (None, 784)               0         \n",
            "                                                                 \n",
            " hidden_2 (Dense)            (None, 25)                19625     \n",
            "                                                                 \n",
            " hidden_3 (Dense)            (None, 10)                260       \n",
            "                                                                 \n",
            " output (Dense)              (None, 2)                 22        \n",
            "                                                                 \n",
            "=================================================================\n",
            "Total params: 19907 (77.76 KB)\n",
            "Trainable params: 19907 (77.76 KB)\n",
            "Non-trainable params: 0 (0.00 Byte)\n",
            "_________________________________________________________________\n"
          ]
        }
      ],
      "source": [
        "net.summary()"
      ]
    },
    {
      "cell_type": "markdown",
      "metadata": {
        "id": "PHHfikpM4jAv"
      },
      "source": [
        "This is a fairly simple task for the network so it only needs 10 epochs of training to achieve high accuracy (each epoch is one pass through the training data)."
      ]
    },
    {
      "cell_type": "code",
      "execution_count": 34,
      "metadata": {
        "colab": {
          "base_uri": "https://localhost:8080/",
          "height": 423
        },
        "id": "djrFqGdI0DG9",
        "outputId": "d2ab048f-75a6-450c-d8e6-212f93bcca11"
      },
      "outputs": [
        {
          "output_type": "display_data",
          "data": {
            "text/plain": [
              "<IPython.core.display.HTML object>"
            ],
            "text/html": [
              "<?xml version=\"1.0\" encoding=\"utf-8\" standalone=\"no\"?>\n",
              "<!DOCTYPE svg PUBLIC \"-//W3C//DTD SVG 1.1//EN\"\n",
              "  \"http://www.w3.org/Graphics/SVG/1.1/DTD/svg11.dtd\">\n",
              "<svg xmlns:xlink=\"http://www.w3.org/1999/xlink\" width=\"720pt\" height=\"288pt\" viewBox=\"0 0 720 288\" xmlns=\"http://www.w3.org/2000/svg\" version=\"1.1\">\n",
              " <metadata>\n",
              "  <rdf:RDF xmlns:dc=\"http://purl.org/dc/elements/1.1/\" xmlns:cc=\"http://creativecommons.org/ns#\" xmlns:rdf=\"http://www.w3.org/1999/02/22-rdf-syntax-ns#\">\n",
              "   <cc:Work>\n",
              "    <dc:type rdf:resource=\"http://purl.org/dc/dcmitype/StillImage\"/>\n",
              "    <dc:date>2024-09-25T19:18:56.011642</dc:date>\n",
              "    <dc:format>image/svg+xml</dc:format>\n",
              "    <dc:creator>\n",
              "     <cc:Agent>\n",
              "      <dc:title>Matplotlib v3.7.1, https://matplotlib.org/</dc:title>\n",
              "     </cc:Agent>\n",
              "    </dc:creator>\n",
              "   </cc:Work>\n",
              "  </rdf:RDF>\n",
              " </metadata>\n",
              " <defs>\n",
              "  <style type=\"text/css\">*{stroke-linejoin: round; stroke-linecap: butt}</style>\n",
              " </defs>\n",
              " <g id=\"figure_1\">\n",
              "  <g id=\"patch_1\">\n",
              "   <path d=\"M 0 288 \n",
              "L 720 288 \n",
              "L 720 0 \n",
              "L 0 0 \n",
              "z\n",
              "\" style=\"fill: #ffffff\"/>\n",
              "  </g>\n",
              "  <g id=\"axes_1\">\n",
              "   <g id=\"patch_2\">\n",
              "    <path d=\"M 90 256.32 \n",
              "L 343.636364 256.32 \n",
              "L 343.636364 34.56 \n",
              "L 90 34.56 \n",
              "z\n",
              "\" style=\"fill: #ffffff\"/>\n",
              "   </g>\n",
              "   <g id=\"matplotlib.axis_1\">\n",
              "    <g id=\"xtick_1\">\n",
              "     <g id=\"line2d_1\">\n",
              "      <defs>\n",
              "       <path id=\"m2fbeecb3ab\" d=\"M 0 0 \n",
              "L 0 3.5 \n",
              "\" style=\"stroke: #000000; stroke-width: 0.8\"/>\n",
              "      </defs>\n",
              "      <g>\n",
              "       <use xlink:href=\"#m2fbeecb3ab\" x=\"127.14876\" y=\"256.32\" style=\"stroke: #000000; stroke-width: 0.8\"/>\n",
              "      </g>\n",
              "     </g>\n",
              "     <g id=\"text_1\">\n",
              "      <!-- 2 -->\n",
              "      <g transform=\"translate(123.96751 270.918437) scale(0.1 -0.1)\">\n",
              "       <defs>\n",
              "        <path id=\"DejaVuSans-32\" d=\"M 1228 531 \n",
              "L 3431 531 \n",
              "L 3431 0 \n",
              "L 469 0 \n",
              "L 469 531 \n",
              "Q 828 903 1448 1529 \n",
              "Q 2069 2156 2228 2338 \n",
              "Q 2531 2678 2651 2914 \n",
              "Q 2772 3150 2772 3378 \n",
              "Q 2772 3750 2511 3984 \n",
              "Q 2250 4219 1831 4219 \n",
              "Q 1534 4219 1204 4116 \n",
              "Q 875 4013 500 3803 \n",
              "L 500 4441 \n",
              "Q 881 4594 1212 4672 \n",
              "Q 1544 4750 1819 4750 \n",
              "Q 2544 4750 2975 4387 \n",
              "Q 3406 4025 3406 3419 \n",
              "Q 3406 3131 3298 2873 \n",
              "Q 3191 2616 2906 2266 \n",
              "Q 2828 2175 2409 1742 \n",
              "Q 1991 1309 1228 531 \n",
              "z\n",
              "\" transform=\"scale(0.015625)\"/>\n",
              "       </defs>\n",
              "       <use xlink:href=\"#DejaVuSans-32\"/>\n",
              "      </g>\n",
              "     </g>\n",
              "    </g>\n",
              "    <g id=\"xtick_2\">\n",
              "     <g id=\"line2d_2\">\n",
              "      <g>\n",
              "       <use xlink:href=\"#m2fbeecb3ab\" x=\"178.38843\" y=\"256.32\" style=\"stroke: #000000; stroke-width: 0.8\"/>\n",
              "      </g>\n",
              "     </g>\n",
              "     <g id=\"text_2\">\n",
              "      <!-- 4 -->\n",
              "      <g transform=\"translate(175.20718 270.918437) scale(0.1 -0.1)\">\n",
              "       <defs>\n",
              "        <path id=\"DejaVuSans-34\" d=\"M 2419 4116 \n",
              "L 825 1625 \n",
              "L 2419 1625 \n",
              "L 2419 4116 \n",
              "z\n",
              "M 2253 4666 \n",
              "L 3047 4666 \n",
              "L 3047 1625 \n",
              "L 3713 1625 \n",
              "L 3713 1100 \n",
              "L 3047 1100 \n",
              "L 3047 0 \n",
              "L 2419 0 \n",
              "L 2419 1100 \n",
              "L 313 1100 \n",
              "L 313 1709 \n",
              "L 2253 4666 \n",
              "z\n",
              "\" transform=\"scale(0.015625)\"/>\n",
              "       </defs>\n",
              "       <use xlink:href=\"#DejaVuSans-34\"/>\n",
              "      </g>\n",
              "     </g>\n",
              "    </g>\n",
              "    <g id=\"xtick_3\">\n",
              "     <g id=\"line2d_3\">\n",
              "      <g>\n",
              "       <use xlink:href=\"#m2fbeecb3ab\" x=\"229.628099\" y=\"256.32\" style=\"stroke: #000000; stroke-width: 0.8\"/>\n",
              "      </g>\n",
              "     </g>\n",
              "     <g id=\"text_3\">\n",
              "      <!-- 6 -->\n",
              "      <g transform=\"translate(226.446849 270.918437) scale(0.1 -0.1)\">\n",
              "       <defs>\n",
              "        <path id=\"DejaVuSans-36\" d=\"M 2113 2584 \n",
              "Q 1688 2584 1439 2293 \n",
              "Q 1191 2003 1191 1497 \n",
              "Q 1191 994 1439 701 \n",
              "Q 1688 409 2113 409 \n",
              "Q 2538 409 2786 701 \n",
              "Q 3034 994 3034 1497 \n",
              "Q 3034 2003 2786 2293 \n",
              "Q 2538 2584 2113 2584 \n",
              "z\n",
              "M 3366 4563 \n",
              "L 3366 3988 \n",
              "Q 3128 4100 2886 4159 \n",
              "Q 2644 4219 2406 4219 \n",
              "Q 1781 4219 1451 3797 \n",
              "Q 1122 3375 1075 2522 \n",
              "Q 1259 2794 1537 2939 \n",
              "Q 1816 3084 2150 3084 \n",
              "Q 2853 3084 3261 2657 \n",
              "Q 3669 2231 3669 1497 \n",
              "Q 3669 778 3244 343 \n",
              "Q 2819 -91 2113 -91 \n",
              "Q 1303 -91 875 529 \n",
              "Q 447 1150 447 2328 \n",
              "Q 447 3434 972 4092 \n",
              "Q 1497 4750 2381 4750 \n",
              "Q 2619 4750 2861 4703 \n",
              "Q 3103 4656 3366 4563 \n",
              "z\n",
              "\" transform=\"scale(0.015625)\"/>\n",
              "       </defs>\n",
              "       <use xlink:href=\"#DejaVuSans-36\"/>\n",
              "      </g>\n",
              "     </g>\n",
              "    </g>\n",
              "    <g id=\"xtick_4\">\n",
              "     <g id=\"line2d_4\">\n",
              "      <g>\n",
              "       <use xlink:href=\"#m2fbeecb3ab\" x=\"280.867769\" y=\"256.32\" style=\"stroke: #000000; stroke-width: 0.8\"/>\n",
              "      </g>\n",
              "     </g>\n",
              "     <g id=\"text_4\">\n",
              "      <!-- 8 -->\n",
              "      <g transform=\"translate(277.686519 270.918437) scale(0.1 -0.1)\">\n",
              "       <defs>\n",
              "        <path id=\"DejaVuSans-38\" d=\"M 2034 2216 \n",
              "Q 1584 2216 1326 1975 \n",
              "Q 1069 1734 1069 1313 \n",
              "Q 1069 891 1326 650 \n",
              "Q 1584 409 2034 409 \n",
              "Q 2484 409 2743 651 \n",
              "Q 3003 894 3003 1313 \n",
              "Q 3003 1734 2745 1975 \n",
              "Q 2488 2216 2034 2216 \n",
              "z\n",
              "M 1403 2484 \n",
              "Q 997 2584 770 2862 \n",
              "Q 544 3141 544 3541 \n",
              "Q 544 4100 942 4425 \n",
              "Q 1341 4750 2034 4750 \n",
              "Q 2731 4750 3128 4425 \n",
              "Q 3525 4100 3525 3541 \n",
              "Q 3525 3141 3298 2862 \n",
              "Q 3072 2584 2669 2484 \n",
              "Q 3125 2378 3379 2068 \n",
              "Q 3634 1759 3634 1313 \n",
              "Q 3634 634 3220 271 \n",
              "Q 2806 -91 2034 -91 \n",
              "Q 1263 -91 848 271 \n",
              "Q 434 634 434 1313 \n",
              "Q 434 1759 690 2068 \n",
              "Q 947 2378 1403 2484 \n",
              "z\n",
              "M 1172 3481 \n",
              "Q 1172 3119 1398 2916 \n",
              "Q 1625 2713 2034 2713 \n",
              "Q 2441 2713 2670 2916 \n",
              "Q 2900 3119 2900 3481 \n",
              "Q 2900 3844 2670 4047 \n",
              "Q 2441 4250 2034 4250 \n",
              "Q 1625 4250 1398 4047 \n",
              "Q 1172 3844 1172 3481 \n",
              "z\n",
              "\" transform=\"scale(0.015625)\"/>\n",
              "       </defs>\n",
              "       <use xlink:href=\"#DejaVuSans-38\"/>\n",
              "      </g>\n",
              "     </g>\n",
              "    </g>\n",
              "    <g id=\"xtick_5\">\n",
              "     <g id=\"line2d_5\">\n",
              "      <g>\n",
              "       <use xlink:href=\"#m2fbeecb3ab\" x=\"332.107438\" y=\"256.32\" style=\"stroke: #000000; stroke-width: 0.8\"/>\n",
              "      </g>\n",
              "     </g>\n",
              "     <g id=\"text_5\">\n",
              "      <!-- 10 -->\n",
              "      <g transform=\"translate(325.744938 270.918437) scale(0.1 -0.1)\">\n",
              "       <defs>\n",
              "        <path id=\"DejaVuSans-31\" d=\"M 794 531 \n",
              "L 1825 531 \n",
              "L 1825 4091 \n",
              "L 703 3866 \n",
              "L 703 4441 \n",
              "L 1819 4666 \n",
              "L 2450 4666 \n",
              "L 2450 531 \n",
              "L 3481 531 \n",
              "L 3481 0 \n",
              "L 794 0 \n",
              "L 794 531 \n",
              "z\n",
              "\" transform=\"scale(0.015625)\"/>\n",
              "        <path id=\"DejaVuSans-30\" d=\"M 2034 4250 \n",
              "Q 1547 4250 1301 3770 \n",
              "Q 1056 3291 1056 2328 \n",
              "Q 1056 1369 1301 889 \n",
              "Q 1547 409 2034 409 \n",
              "Q 2525 409 2770 889 \n",
              "Q 3016 1369 3016 2328 \n",
              "Q 3016 3291 2770 3770 \n",
              "Q 2525 4250 2034 4250 \n",
              "z\n",
              "M 2034 4750 \n",
              "Q 2819 4750 3233 4129 \n",
              "Q 3647 3509 3647 2328 \n",
              "Q 3647 1150 3233 529 \n",
              "Q 2819 -91 2034 -91 \n",
              "Q 1250 -91 836 529 \n",
              "Q 422 1150 422 2328 \n",
              "Q 422 3509 836 4129 \n",
              "Q 1250 4750 2034 4750 \n",
              "z\n",
              "\" transform=\"scale(0.015625)\"/>\n",
              "       </defs>\n",
              "       <use xlink:href=\"#DejaVuSans-31\"/>\n",
              "       <use xlink:href=\"#DejaVuSans-30\" x=\"63.623047\"/>\n",
              "      </g>\n",
              "     </g>\n",
              "    </g>\n",
              "    <g id=\"text_6\">\n",
              "     <!-- Epoch -->\n",
              "     <g transform=\"translate(201.507244 284.596563) scale(0.1 -0.1)\">\n",
              "      <defs>\n",
              "       <path id=\"DejaVuSans-45\" d=\"M 628 4666 \n",
              "L 3578 4666 \n",
              "L 3578 4134 \n",
              "L 1259 4134 \n",
              "L 1259 2753 \n",
              "L 3481 2753 \n",
              "L 3481 2222 \n",
              "L 1259 2222 \n",
              "L 1259 531 \n",
              "L 3634 531 \n",
              "L 3634 0 \n",
              "L 628 0 \n",
              "L 628 4666 \n",
              "z\n",
              "\" transform=\"scale(0.015625)\"/>\n",
              "       <path id=\"DejaVuSans-70\" d=\"M 1159 525 \n",
              "L 1159 -1331 \n",
              "L 581 -1331 \n",
              "L 581 3500 \n",
              "L 1159 3500 \n",
              "L 1159 2969 \n",
              "Q 1341 3281 1617 3432 \n",
              "Q 1894 3584 2278 3584 \n",
              "Q 2916 3584 3314 3078 \n",
              "Q 3713 2572 3713 1747 \n",
              "Q 3713 922 3314 415 \n",
              "Q 2916 -91 2278 -91 \n",
              "Q 1894 -91 1617 61 \n",
              "Q 1341 213 1159 525 \n",
              "z\n",
              "M 3116 1747 \n",
              "Q 3116 2381 2855 2742 \n",
              "Q 2594 3103 2138 3103 \n",
              "Q 1681 3103 1420 2742 \n",
              "Q 1159 2381 1159 1747 \n",
              "Q 1159 1113 1420 752 \n",
              "Q 1681 391 2138 391 \n",
              "Q 2594 391 2855 752 \n",
              "Q 3116 1113 3116 1747 \n",
              "z\n",
              "\" transform=\"scale(0.015625)\"/>\n",
              "       <path id=\"DejaVuSans-6f\" d=\"M 1959 3097 \n",
              "Q 1497 3097 1228 2736 \n",
              "Q 959 2375 959 1747 \n",
              "Q 959 1119 1226 758 \n",
              "Q 1494 397 1959 397 \n",
              "Q 2419 397 2687 759 \n",
              "Q 2956 1122 2956 1747 \n",
              "Q 2956 2369 2687 2733 \n",
              "Q 2419 3097 1959 3097 \n",
              "z\n",
              "M 1959 3584 \n",
              "Q 2709 3584 3137 3096 \n",
              "Q 3566 2609 3566 1747 \n",
              "Q 3566 888 3137 398 \n",
              "Q 2709 -91 1959 -91 \n",
              "Q 1206 -91 779 398 \n",
              "Q 353 888 353 1747 \n",
              "Q 353 2609 779 3096 \n",
              "Q 1206 3584 1959 3584 \n",
              "z\n",
              "\" transform=\"scale(0.015625)\"/>\n",
              "       <path id=\"DejaVuSans-63\" d=\"M 3122 3366 \n",
              "L 3122 2828 \n",
              "Q 2878 2963 2633 3030 \n",
              "Q 2388 3097 2138 3097 \n",
              "Q 1578 3097 1268 2742 \n",
              "Q 959 2388 959 1747 \n",
              "Q 959 1106 1268 751 \n",
              "Q 1578 397 2138 397 \n",
              "Q 2388 397 2633 464 \n",
              "Q 2878 531 3122 666 \n",
              "L 3122 134 \n",
              "Q 2881 22 2623 -34 \n",
              "Q 2366 -91 2075 -91 \n",
              "Q 1284 -91 818 406 \n",
              "Q 353 903 353 1747 \n",
              "Q 353 2603 823 3093 \n",
              "Q 1294 3584 2113 3584 \n",
              "Q 2378 3584 2631 3529 \n",
              "Q 2884 3475 3122 3366 \n",
              "z\n",
              "\" transform=\"scale(0.015625)\"/>\n",
              "       <path id=\"DejaVuSans-68\" d=\"M 3513 2113 \n",
              "L 3513 0 \n",
              "L 2938 0 \n",
              "L 2938 2094 \n",
              "Q 2938 2591 2744 2837 \n",
              "Q 2550 3084 2163 3084 \n",
              "Q 1697 3084 1428 2787 \n",
              "Q 1159 2491 1159 1978 \n",
              "L 1159 0 \n",
              "L 581 0 \n",
              "L 581 4863 \n",
              "L 1159 4863 \n",
              "L 1159 2956 \n",
              "Q 1366 3272 1645 3428 \n",
              "Q 1925 3584 2291 3584 \n",
              "Q 2894 3584 3203 3211 \n",
              "Q 3513 2838 3513 2113 \n",
              "z\n",
              "\" transform=\"scale(0.015625)\"/>\n",
              "      </defs>\n",
              "      <use xlink:href=\"#DejaVuSans-45\"/>\n",
              "      <use xlink:href=\"#DejaVuSans-70\" x=\"63.183594\"/>\n",
              "      <use xlink:href=\"#DejaVuSans-6f\" x=\"126.660156\"/>\n",
              "      <use xlink:href=\"#DejaVuSans-63\" x=\"187.841797\"/>\n",
              "      <use xlink:href=\"#DejaVuSans-68\" x=\"242.822266\"/>\n",
              "     </g>\n",
              "    </g>\n",
              "   </g>\n",
              "   <g id=\"matplotlib.axis_2\">\n",
              "    <g id=\"ytick_1\">\n",
              "     <g id=\"line2d_6\">\n",
              "      <defs>\n",
              "       <path id=\"m6b6081f839\" d=\"M 0 0 \n",
              "L -3.5 0 \n",
              "\" style=\"stroke: #000000; stroke-width: 0.8\"/>\n",
              "      </defs>\n",
              "      <g>\n",
              "       <use xlink:href=\"#m6b6081f839\" x=\"90\" y=\"256.32\" style=\"stroke: #000000; stroke-width: 0.8\"/>\n",
              "      </g>\n",
              "     </g>\n",
              "     <g id=\"text_7\">\n",
              "      <!-- 0.00 -->\n",
              "      <g transform=\"translate(60.734375 260.119219) scale(0.1 -0.1)\">\n",
              "       <defs>\n",
              "        <path id=\"DejaVuSans-2e\" d=\"M 684 794 \n",
              "L 1344 794 \n",
              "L 1344 0 \n",
              "L 684 0 \n",
              "L 684 794 \n",
              "z\n",
              "\" transform=\"scale(0.015625)\"/>\n",
              "       </defs>\n",
              "       <use xlink:href=\"#DejaVuSans-30\"/>\n",
              "       <use xlink:href=\"#DejaVuSans-2e\" x=\"63.623047\"/>\n",
              "       <use xlink:href=\"#DejaVuSans-30\" x=\"95.410156\"/>\n",
              "       <use xlink:href=\"#DejaVuSans-30\" x=\"159.033203\"/>\n",
              "      </g>\n",
              "     </g>\n",
              "    </g>\n",
              "    <g id=\"ytick_2\">\n",
              "     <g id=\"line2d_7\">\n",
              "      <g>\n",
              "       <use xlink:href=\"#m6b6081f839\" x=\"90\" y=\"219.208777\" style=\"stroke: #000000; stroke-width: 0.8\"/>\n",
              "      </g>\n",
              "     </g>\n",
              "     <g id=\"text_8\">\n",
              "      <!-- 0.02 -->\n",
              "      <g transform=\"translate(60.734375 223.007996) scale(0.1 -0.1)\">\n",
              "       <use xlink:href=\"#DejaVuSans-30\"/>\n",
              "       <use xlink:href=\"#DejaVuSans-2e\" x=\"63.623047\"/>\n",
              "       <use xlink:href=\"#DejaVuSans-30\" x=\"95.410156\"/>\n",
              "       <use xlink:href=\"#DejaVuSans-32\" x=\"159.033203\"/>\n",
              "      </g>\n",
              "     </g>\n",
              "    </g>\n",
              "    <g id=\"ytick_3\">\n",
              "     <g id=\"line2d_8\">\n",
              "      <g>\n",
              "       <use xlink:href=\"#m6b6081f839\" x=\"90\" y=\"182.097555\" style=\"stroke: #000000; stroke-width: 0.8\"/>\n",
              "      </g>\n",
              "     </g>\n",
              "     <g id=\"text_9\">\n",
              "      <!-- 0.04 -->\n",
              "      <g transform=\"translate(60.734375 185.896774) scale(0.1 -0.1)\">\n",
              "       <use xlink:href=\"#DejaVuSans-30\"/>\n",
              "       <use xlink:href=\"#DejaVuSans-2e\" x=\"63.623047\"/>\n",
              "       <use xlink:href=\"#DejaVuSans-30\" x=\"95.410156\"/>\n",
              "       <use xlink:href=\"#DejaVuSans-34\" x=\"159.033203\"/>\n",
              "      </g>\n",
              "     </g>\n",
              "    </g>\n",
              "    <g id=\"ytick_4\">\n",
              "     <g id=\"line2d_9\">\n",
              "      <g>\n",
              "       <use xlink:href=\"#m6b6081f839\" x=\"90\" y=\"144.986332\" style=\"stroke: #000000; stroke-width: 0.8\"/>\n",
              "      </g>\n",
              "     </g>\n",
              "     <g id=\"text_10\">\n",
              "      <!-- 0.06 -->\n",
              "      <g transform=\"translate(60.734375 148.785551) scale(0.1 -0.1)\">\n",
              "       <use xlink:href=\"#DejaVuSans-30\"/>\n",
              "       <use xlink:href=\"#DejaVuSans-2e\" x=\"63.623047\"/>\n",
              "       <use xlink:href=\"#DejaVuSans-30\" x=\"95.410156\"/>\n",
              "       <use xlink:href=\"#DejaVuSans-36\" x=\"159.033203\"/>\n",
              "      </g>\n",
              "     </g>\n",
              "    </g>\n",
              "    <g id=\"ytick_5\">\n",
              "     <g id=\"line2d_10\">\n",
              "      <g>\n",
              "       <use xlink:href=\"#m6b6081f839\" x=\"90\" y=\"107.87511\" style=\"stroke: #000000; stroke-width: 0.8\"/>\n",
              "      </g>\n",
              "     </g>\n",
              "     <g id=\"text_11\">\n",
              "      <!-- 0.08 -->\n",
              "      <g transform=\"translate(60.734375 111.674328) scale(0.1 -0.1)\">\n",
              "       <use xlink:href=\"#DejaVuSans-30\"/>\n",
              "       <use xlink:href=\"#DejaVuSans-2e\" x=\"63.623047\"/>\n",
              "       <use xlink:href=\"#DejaVuSans-30\" x=\"95.410156\"/>\n",
              "       <use xlink:href=\"#DejaVuSans-38\" x=\"159.033203\"/>\n",
              "      </g>\n",
              "     </g>\n",
              "    </g>\n",
              "    <g id=\"ytick_6\">\n",
              "     <g id=\"line2d_11\">\n",
              "      <g>\n",
              "       <use xlink:href=\"#m6b6081f839\" x=\"90\" y=\"70.763887\" style=\"stroke: #000000; stroke-width: 0.8\"/>\n",
              "      </g>\n",
              "     </g>\n",
              "     <g id=\"text_12\">\n",
              "      <!-- 0.10 -->\n",
              "      <g transform=\"translate(60.734375 74.563106) scale(0.1 -0.1)\">\n",
              "       <use xlink:href=\"#DejaVuSans-30\"/>\n",
              "       <use xlink:href=\"#DejaVuSans-2e\" x=\"63.623047\"/>\n",
              "       <use xlink:href=\"#DejaVuSans-31\" x=\"95.410156\"/>\n",
              "       <use xlink:href=\"#DejaVuSans-30\" x=\"159.033203\"/>\n",
              "      </g>\n",
              "     </g>\n",
              "    </g>\n",
              "    <g id=\"text_13\">\n",
              "     <!-- Loss -->\n",
              "     <g transform=\"translate(54.654688 156.407187) rotate(-90) scale(0.1 -0.1)\">\n",
              "      <defs>\n",
              "       <path id=\"DejaVuSans-4c\" d=\"M 628 4666 \n",
              "L 1259 4666 \n",
              "L 1259 531 \n",
              "L 3531 531 \n",
              "L 3531 0 \n",
              "L 628 0 \n",
              "L 628 4666 \n",
              "z\n",
              "\" transform=\"scale(0.015625)\"/>\n",
              "       <path id=\"DejaVuSans-73\" d=\"M 2834 3397 \n",
              "L 2834 2853 \n",
              "Q 2591 2978 2328 3040 \n",
              "Q 2066 3103 1784 3103 \n",
              "Q 1356 3103 1142 2972 \n",
              "Q 928 2841 928 2578 \n",
              "Q 928 2378 1081 2264 \n",
              "Q 1234 2150 1697 2047 \n",
              "L 1894 2003 \n",
              "Q 2506 1872 2764 1633 \n",
              "Q 3022 1394 3022 966 \n",
              "Q 3022 478 2636 193 \n",
              "Q 2250 -91 1575 -91 \n",
              "Q 1294 -91 989 -36 \n",
              "Q 684 19 347 128 \n",
              "L 347 722 \n",
              "Q 666 556 975 473 \n",
              "Q 1284 391 1588 391 \n",
              "Q 1994 391 2212 530 \n",
              "Q 2431 669 2431 922 \n",
              "Q 2431 1156 2273 1281 \n",
              "Q 2116 1406 1581 1522 \n",
              "L 1381 1569 \n",
              "Q 847 1681 609 1914 \n",
              "Q 372 2147 372 2553 \n",
              "Q 372 3047 722 3315 \n",
              "Q 1072 3584 1716 3584 \n",
              "Q 2034 3584 2315 3537 \n",
              "Q 2597 3491 2834 3397 \n",
              "z\n",
              "\" transform=\"scale(0.015625)\"/>\n",
              "      </defs>\n",
              "      <use xlink:href=\"#DejaVuSans-4c\"/>\n",
              "      <use xlink:href=\"#DejaVuSans-6f\" x=\"53.962891\"/>\n",
              "      <use xlink:href=\"#DejaVuSans-73\" x=\"115.144531\"/>\n",
              "      <use xlink:href=\"#DejaVuSans-73\" x=\"167.244141\"/>\n",
              "     </g>\n",
              "    </g>\n",
              "   </g>\n",
              "   <g id=\"line2d_12\">\n",
              "    <path d=\"M 101.528926 43.786013 \n",
              "L 127.14876 186.519029 \n",
              "L 152.768595 188.366313 \n",
              "L 178.38843 200.168421 \n",
              "L 204.008264 207.438022 \n",
              "L 229.628099 212.277949 \n",
              "L 255.247934 218.04671 \n",
              "L 280.867769 221.9465 \n",
              "L 306.487603 225.493668 \n",
              "L 332.107438 228.306276 \n",
              "\" clip-path=\"url(#pcb89b51f91)\" style=\"fill: none; stroke: #ff0000; stroke-width: 1.5; stroke-linecap: square\"/>\n",
              "   </g>\n",
              "   <g id=\"line2d_13\">\n",
              "    <path d=\"M 101.528926 184.896678 \n",
              "L 127.14876 175.273567 \n",
              "L 152.768595 200.466862 \n",
              "L 178.38843 190.764288 \n",
              "L 204.008264 204.007121 \n",
              "L 229.628099 205.9152 \n",
              "L 255.247934 217.298283 \n",
              "L 280.867769 215.78347 \n",
              "L 306.487603 221.159276 \n",
              "L 332.107438 226.109016 \n",
              "\" clip-path=\"url(#pcb89b51f91)\" style=\"fill: none; stroke: #ffa500; stroke-width: 1.5; stroke-linecap: square\"/>\n",
              "   </g>\n",
              "   <g id=\"patch_3\">\n",
              "    <path d=\"M 90 256.32 \n",
              "L 90 34.56 \n",
              "\" style=\"fill: none; stroke: #000000; stroke-width: 0.8; stroke-linejoin: miter; stroke-linecap: square\"/>\n",
              "   </g>\n",
              "   <g id=\"patch_4\">\n",
              "    <path d=\"M 343.636364 256.32 \n",
              "L 343.636364 34.56 \n",
              "\" style=\"fill: none; stroke: #000000; stroke-width: 0.8; stroke-linejoin: miter; stroke-linecap: square\"/>\n",
              "   </g>\n",
              "   <g id=\"patch_5\">\n",
              "    <path d=\"M 90 256.32 \n",
              "L 343.636364 256.32 \n",
              "\" style=\"fill: none; stroke: #000000; stroke-width: 0.8; stroke-linejoin: miter; stroke-linecap: square\"/>\n",
              "   </g>\n",
              "   <g id=\"patch_6\">\n",
              "    <path d=\"M 90 34.56 \n",
              "L 343.636364 34.56 \n",
              "\" style=\"fill: none; stroke: #000000; stroke-width: 0.8; stroke-linejoin: miter; stroke-linecap: square\"/>\n",
              "   </g>\n",
              "   <g id=\"text_14\">\n",
              "    <!-- SimpleNetwork: Training Loss -->\n",
              "    <g transform=\"translate(128.611619 28.56) scale(0.12 -0.12)\">\n",
              "     <defs>\n",
              "      <path id=\"DejaVuSans-53\" d=\"M 3425 4513 \n",
              "L 3425 3897 \n",
              "Q 3066 4069 2747 4153 \n",
              "Q 2428 4238 2131 4238 \n",
              "Q 1616 4238 1336 4038 \n",
              "Q 1056 3838 1056 3469 \n",
              "Q 1056 3159 1242 3001 \n",
              "Q 1428 2844 1947 2747 \n",
              "L 2328 2669 \n",
              "Q 3034 2534 3370 2195 \n",
              "Q 3706 1856 3706 1288 \n",
              "Q 3706 609 3251 259 \n",
              "Q 2797 -91 1919 -91 \n",
              "Q 1588 -91 1214 -16 \n",
              "Q 841 59 441 206 \n",
              "L 441 856 \n",
              "Q 825 641 1194 531 \n",
              "Q 1563 422 1919 422 \n",
              "Q 2459 422 2753 634 \n",
              "Q 3047 847 3047 1241 \n",
              "Q 3047 1584 2836 1778 \n",
              "Q 2625 1972 2144 2069 \n",
              "L 1759 2144 \n",
              "Q 1053 2284 737 2584 \n",
              "Q 422 2884 422 3419 \n",
              "Q 422 4038 858 4394 \n",
              "Q 1294 4750 2059 4750 \n",
              "Q 2388 4750 2728 4690 \n",
              "Q 3069 4631 3425 4513 \n",
              "z\n",
              "\" transform=\"scale(0.015625)\"/>\n",
              "      <path id=\"DejaVuSans-69\" d=\"M 603 3500 \n",
              "L 1178 3500 \n",
              "L 1178 0 \n",
              "L 603 0 \n",
              "L 603 3500 \n",
              "z\n",
              "M 603 4863 \n",
              "L 1178 4863 \n",
              "L 1178 4134 \n",
              "L 603 4134 \n",
              "L 603 4863 \n",
              "z\n",
              "\" transform=\"scale(0.015625)\"/>\n",
              "      <path id=\"DejaVuSans-6d\" d=\"M 3328 2828 \n",
              "Q 3544 3216 3844 3400 \n",
              "Q 4144 3584 4550 3584 \n",
              "Q 5097 3584 5394 3201 \n",
              "Q 5691 2819 5691 2113 \n",
              "L 5691 0 \n",
              "L 5113 0 \n",
              "L 5113 2094 \n",
              "Q 5113 2597 4934 2840 \n",
              "Q 4756 3084 4391 3084 \n",
              "Q 3944 3084 3684 2787 \n",
              "Q 3425 2491 3425 1978 \n",
              "L 3425 0 \n",
              "L 2847 0 \n",
              "L 2847 2094 \n",
              "Q 2847 2600 2669 2842 \n",
              "Q 2491 3084 2119 3084 \n",
              "Q 1678 3084 1418 2786 \n",
              "Q 1159 2488 1159 1978 \n",
              "L 1159 0 \n",
              "L 581 0 \n",
              "L 581 3500 \n",
              "L 1159 3500 \n",
              "L 1159 2956 \n",
              "Q 1356 3278 1631 3431 \n",
              "Q 1906 3584 2284 3584 \n",
              "Q 2666 3584 2933 3390 \n",
              "Q 3200 3197 3328 2828 \n",
              "z\n",
              "\" transform=\"scale(0.015625)\"/>\n",
              "      <path id=\"DejaVuSans-6c\" d=\"M 603 4863 \n",
              "L 1178 4863 \n",
              "L 1178 0 \n",
              "L 603 0 \n",
              "L 603 4863 \n",
              "z\n",
              "\" transform=\"scale(0.015625)\"/>\n",
              "      <path id=\"DejaVuSans-65\" d=\"M 3597 1894 \n",
              "L 3597 1613 \n",
              "L 953 1613 \n",
              "Q 991 1019 1311 708 \n",
              "Q 1631 397 2203 397 \n",
              "Q 2534 397 2845 478 \n",
              "Q 3156 559 3463 722 \n",
              "L 3463 178 \n",
              "Q 3153 47 2828 -22 \n",
              "Q 2503 -91 2169 -91 \n",
              "Q 1331 -91 842 396 \n",
              "Q 353 884 353 1716 \n",
              "Q 353 2575 817 3079 \n",
              "Q 1281 3584 2069 3584 \n",
              "Q 2775 3584 3186 3129 \n",
              "Q 3597 2675 3597 1894 \n",
              "z\n",
              "M 3022 2063 \n",
              "Q 3016 2534 2758 2815 \n",
              "Q 2500 3097 2075 3097 \n",
              "Q 1594 3097 1305 2825 \n",
              "Q 1016 2553 972 2059 \n",
              "L 3022 2063 \n",
              "z\n",
              "\" transform=\"scale(0.015625)\"/>\n",
              "      <path id=\"DejaVuSans-4e\" d=\"M 628 4666 \n",
              "L 1478 4666 \n",
              "L 3547 763 \n",
              "L 3547 4666 \n",
              "L 4159 4666 \n",
              "L 4159 0 \n",
              "L 3309 0 \n",
              "L 1241 3903 \n",
              "L 1241 0 \n",
              "L 628 0 \n",
              "L 628 4666 \n",
              "z\n",
              "\" transform=\"scale(0.015625)\"/>\n",
              "      <path id=\"DejaVuSans-74\" d=\"M 1172 4494 \n",
              "L 1172 3500 \n",
              "L 2356 3500 \n",
              "L 2356 3053 \n",
              "L 1172 3053 \n",
              "L 1172 1153 \n",
              "Q 1172 725 1289 603 \n",
              "Q 1406 481 1766 481 \n",
              "L 2356 481 \n",
              "L 2356 0 \n",
              "L 1766 0 \n",
              "Q 1100 0 847 248 \n",
              "Q 594 497 594 1153 \n",
              "L 594 3053 \n",
              "L 172 3053 \n",
              "L 172 3500 \n",
              "L 594 3500 \n",
              "L 594 4494 \n",
              "L 1172 4494 \n",
              "z\n",
              "\" transform=\"scale(0.015625)\"/>\n",
              "      <path id=\"DejaVuSans-77\" d=\"M 269 3500 \n",
              "L 844 3500 \n",
              "L 1563 769 \n",
              "L 2278 3500 \n",
              "L 2956 3500 \n",
              "L 3675 769 \n",
              "L 4391 3500 \n",
              "L 4966 3500 \n",
              "L 4050 0 \n",
              "L 3372 0 \n",
              "L 2619 2869 \n",
              "L 1863 0 \n",
              "L 1184 0 \n",
              "L 269 3500 \n",
              "z\n",
              "\" transform=\"scale(0.015625)\"/>\n",
              "      <path id=\"DejaVuSans-72\" d=\"M 2631 2963 \n",
              "Q 2534 3019 2420 3045 \n",
              "Q 2306 3072 2169 3072 \n",
              "Q 1681 3072 1420 2755 \n",
              "Q 1159 2438 1159 1844 \n",
              "L 1159 0 \n",
              "L 581 0 \n",
              "L 581 3500 \n",
              "L 1159 3500 \n",
              "L 1159 2956 \n",
              "Q 1341 3275 1631 3429 \n",
              "Q 1922 3584 2338 3584 \n",
              "Q 2397 3584 2469 3576 \n",
              "Q 2541 3569 2628 3553 \n",
              "L 2631 2963 \n",
              "z\n",
              "\" transform=\"scale(0.015625)\"/>\n",
              "      <path id=\"DejaVuSans-6b\" d=\"M 581 4863 \n",
              "L 1159 4863 \n",
              "L 1159 1991 \n",
              "L 2875 3500 \n",
              "L 3609 3500 \n",
              "L 1753 1863 \n",
              "L 3688 0 \n",
              "L 2938 0 \n",
              "L 1159 1709 \n",
              "L 1159 0 \n",
              "L 581 0 \n",
              "L 581 4863 \n",
              "z\n",
              "\" transform=\"scale(0.015625)\"/>\n",
              "      <path id=\"DejaVuSans-3a\" d=\"M 750 794 \n",
              "L 1409 794 \n",
              "L 1409 0 \n",
              "L 750 0 \n",
              "L 750 794 \n",
              "z\n",
              "M 750 3309 \n",
              "L 1409 3309 \n",
              "L 1409 2516 \n",
              "L 750 2516 \n",
              "L 750 3309 \n",
              "z\n",
              "\" transform=\"scale(0.015625)\"/>\n",
              "      <path id=\"DejaVuSans-20\" transform=\"scale(0.015625)\"/>\n",
              "      <path id=\"DejaVuSans-54\" d=\"M -19 4666 \n",
              "L 3928 4666 \n",
              "L 3928 4134 \n",
              "L 2272 4134 \n",
              "L 2272 0 \n",
              "L 1638 0 \n",
              "L 1638 4134 \n",
              "L -19 4134 \n",
              "L -19 4666 \n",
              "z\n",
              "\" transform=\"scale(0.015625)\"/>\n",
              "      <path id=\"DejaVuSans-61\" d=\"M 2194 1759 \n",
              "Q 1497 1759 1228 1600 \n",
              "Q 959 1441 959 1056 \n",
              "Q 959 750 1161 570 \n",
              "Q 1363 391 1709 391 \n",
              "Q 2188 391 2477 730 \n",
              "Q 2766 1069 2766 1631 \n",
              "L 2766 1759 \n",
              "L 2194 1759 \n",
              "z\n",
              "M 3341 1997 \n",
              "L 3341 0 \n",
              "L 2766 0 \n",
              "L 2766 531 \n",
              "Q 2569 213 2275 61 \n",
              "Q 1981 -91 1556 -91 \n",
              "Q 1019 -91 701 211 \n",
              "Q 384 513 384 1019 \n",
              "Q 384 1609 779 1909 \n",
              "Q 1175 2209 1959 2209 \n",
              "L 2766 2209 \n",
              "L 2766 2266 \n",
              "Q 2766 2663 2505 2880 \n",
              "Q 2244 3097 1772 3097 \n",
              "Q 1472 3097 1187 3025 \n",
              "Q 903 2953 641 2809 \n",
              "L 641 3341 \n",
              "Q 956 3463 1253 3523 \n",
              "Q 1550 3584 1831 3584 \n",
              "Q 2591 3584 2966 3190 \n",
              "Q 3341 2797 3341 1997 \n",
              "z\n",
              "\" transform=\"scale(0.015625)\"/>\n",
              "      <path id=\"DejaVuSans-6e\" d=\"M 3513 2113 \n",
              "L 3513 0 \n",
              "L 2938 0 \n",
              "L 2938 2094 \n",
              "Q 2938 2591 2744 2837 \n",
              "Q 2550 3084 2163 3084 \n",
              "Q 1697 3084 1428 2787 \n",
              "Q 1159 2491 1159 1978 \n",
              "L 1159 0 \n",
              "L 581 0 \n",
              "L 581 3500 \n",
              "L 1159 3500 \n",
              "L 1159 2956 \n",
              "Q 1366 3272 1645 3428 \n",
              "Q 1925 3584 2291 3584 \n",
              "Q 2894 3584 3203 3211 \n",
              "Q 3513 2838 3513 2113 \n",
              "z\n",
              "\" transform=\"scale(0.015625)\"/>\n",
              "      <path id=\"DejaVuSans-67\" d=\"M 2906 1791 \n",
              "Q 2906 2416 2648 2759 \n",
              "Q 2391 3103 1925 3103 \n",
              "Q 1463 3103 1205 2759 \n",
              "Q 947 2416 947 1791 \n",
              "Q 947 1169 1205 825 \n",
              "Q 1463 481 1925 481 \n",
              "Q 2391 481 2648 825 \n",
              "Q 2906 1169 2906 1791 \n",
              "z\n",
              "M 3481 434 \n",
              "Q 3481 -459 3084 -895 \n",
              "Q 2688 -1331 1869 -1331 \n",
              "Q 1566 -1331 1297 -1286 \n",
              "Q 1028 -1241 775 -1147 \n",
              "L 775 -588 \n",
              "Q 1028 -725 1275 -790 \n",
              "Q 1522 -856 1778 -856 \n",
              "Q 2344 -856 2625 -561 \n",
              "Q 2906 -266 2906 331 \n",
              "L 2906 616 \n",
              "Q 2728 306 2450 153 \n",
              "Q 2172 0 1784 0 \n",
              "Q 1141 0 747 490 \n",
              "Q 353 981 353 1791 \n",
              "Q 353 2603 747 3093 \n",
              "Q 1141 3584 1784 3584 \n",
              "Q 2172 3584 2450 3431 \n",
              "Q 2728 3278 2906 2969 \n",
              "L 2906 3500 \n",
              "L 3481 3500 \n",
              "L 3481 434 \n",
              "z\n",
              "\" transform=\"scale(0.015625)\"/>\n",
              "     </defs>\n",
              "     <use xlink:href=\"#DejaVuSans-53\"/>\n",
              "     <use xlink:href=\"#DejaVuSans-69\" x=\"63.476562\"/>\n",
              "     <use xlink:href=\"#DejaVuSans-6d\" x=\"91.259766\"/>\n",
              "     <use xlink:href=\"#DejaVuSans-70\" x=\"188.671875\"/>\n",
              "     <use xlink:href=\"#DejaVuSans-6c\" x=\"252.148438\"/>\n",
              "     <use xlink:href=\"#DejaVuSans-65\" x=\"279.931641\"/>\n",
              "     <use xlink:href=\"#DejaVuSans-4e\" x=\"341.455078\"/>\n",
              "     <use xlink:href=\"#DejaVuSans-65\" x=\"416.259766\"/>\n",
              "     <use xlink:href=\"#DejaVuSans-74\" x=\"477.783203\"/>\n",
              "     <use xlink:href=\"#DejaVuSans-77\" x=\"516.992188\"/>\n",
              "     <use xlink:href=\"#DejaVuSans-6f\" x=\"598.779297\"/>\n",
              "     <use xlink:href=\"#DejaVuSans-72\" x=\"659.960938\"/>\n",
              "     <use xlink:href=\"#DejaVuSans-6b\" x=\"701.074219\"/>\n",
              "     <use xlink:href=\"#DejaVuSans-3a\" x=\"758.984375\"/>\n",
              "     <use xlink:href=\"#DejaVuSans-20\" x=\"792.675781\"/>\n",
              "     <use xlink:href=\"#DejaVuSans-54\" x=\"824.462891\"/>\n",
              "     <use xlink:href=\"#DejaVuSans-72\" x=\"870.796875\"/>\n",
              "     <use xlink:href=\"#DejaVuSans-61\" x=\"911.910156\"/>\n",
              "     <use xlink:href=\"#DejaVuSans-69\" x=\"973.189453\"/>\n",
              "     <use xlink:href=\"#DejaVuSans-6e\" x=\"1000.972656\"/>\n",
              "     <use xlink:href=\"#DejaVuSans-69\" x=\"1064.351562\"/>\n",
              "     <use xlink:href=\"#DejaVuSans-6e\" x=\"1092.134766\"/>\n",
              "     <use xlink:href=\"#DejaVuSans-67\" x=\"1155.513672\"/>\n",
              "     <use xlink:href=\"#DejaVuSans-20\" x=\"1218.990234\"/>\n",
              "     <use xlink:href=\"#DejaVuSans-4c\" x=\"1250.777344\"/>\n",
              "     <use xlink:href=\"#DejaVuSans-6f\" x=\"1304.740234\"/>\n",
              "     <use xlink:href=\"#DejaVuSans-73\" x=\"1365.921875\"/>\n",
              "     <use xlink:href=\"#DejaVuSans-73\" x=\"1418.021484\"/>\n",
              "    </g>\n",
              "   </g>\n",
              "   <g id=\"legend_1\">\n",
              "    <g id=\"patch_7\">\n",
              "     <path d=\"M 265.495739 72.194375 \n",
              "L 336.636364 72.194375 \n",
              "Q 338.636364 72.194375 338.636364 70.194375 \n",
              "L 338.636364 41.56 \n",
              "Q 338.636364 39.56 336.636364 39.56 \n",
              "L 265.495739 39.56 \n",
              "Q 263.495739 39.56 263.495739 41.56 \n",
              "L 263.495739 70.194375 \n",
              "Q 263.495739 72.194375 265.495739 72.194375 \n",
              "z\n",
              "\" style=\"fill: #ffffff; opacity: 0.8; stroke: #cccccc; stroke-linejoin: miter\"/>\n",
              "    </g>\n",
              "    <g id=\"line2d_14\">\n",
              "     <path d=\"M 267.495739 47.658438 \n",
              "L 277.495739 47.658438 \n",
              "L 287.495739 47.658438 \n",
              "\" style=\"fill: none; stroke: #ff0000; stroke-width: 1.5; stroke-linecap: square\"/>\n",
              "    </g>\n",
              "    <g id=\"text_15\">\n",
              "     <!-- loss -->\n",
              "     <g transform=\"translate(295.495739 51.158438) scale(0.1 -0.1)\">\n",
              "      <use xlink:href=\"#DejaVuSans-6c\"/>\n",
              "      <use xlink:href=\"#DejaVuSans-6f\" x=\"27.783203\"/>\n",
              "      <use xlink:href=\"#DejaVuSans-73\" x=\"88.964844\"/>\n",
              "      <use xlink:href=\"#DejaVuSans-73\" x=\"141.064453\"/>\n",
              "     </g>\n",
              "    </g>\n",
              "    <g id=\"line2d_15\">\n",
              "     <path d=\"M 267.495739 62.336563 \n",
              "L 277.495739 62.336563 \n",
              "L 287.495739 62.336563 \n",
              "\" style=\"fill: none; stroke: #ffa500; stroke-width: 1.5; stroke-linecap: square\"/>\n",
              "    </g>\n",
              "    <g id=\"text_16\">\n",
              "     <!-- val_loss -->\n",
              "     <g transform=\"translate(295.495739 65.836563) scale(0.1 -0.1)\">\n",
              "      <defs>\n",
              "       <path id=\"DejaVuSans-76\" d=\"M 191 3500 \n",
              "L 800 3500 \n",
              "L 1894 563 \n",
              "L 2988 3500 \n",
              "L 3597 3500 \n",
              "L 2284 0 \n",
              "L 1503 0 \n",
              "L 191 3500 \n",
              "z\n",
              "\" transform=\"scale(0.015625)\"/>\n",
              "       <path id=\"DejaVuSans-5f\" d=\"M 3263 -1063 \n",
              "L 3263 -1509 \n",
              "L -63 -1509 \n",
              "L -63 -1063 \n",
              "L 3263 -1063 \n",
              "z\n",
              "\" transform=\"scale(0.015625)\"/>\n",
              "      </defs>\n",
              "      <use xlink:href=\"#DejaVuSans-76\"/>\n",
              "      <use xlink:href=\"#DejaVuSans-61\" x=\"59.179688\"/>\n",
              "      <use xlink:href=\"#DejaVuSans-6c\" x=\"120.458984\"/>\n",
              "      <use xlink:href=\"#DejaVuSans-5f\" x=\"148.242188\"/>\n",
              "      <use xlink:href=\"#DejaVuSans-6c\" x=\"198.242188\"/>\n",
              "      <use xlink:href=\"#DejaVuSans-6f\" x=\"226.025391\"/>\n",
              "      <use xlink:href=\"#DejaVuSans-73\" x=\"287.207031\"/>\n",
              "      <use xlink:href=\"#DejaVuSans-73\" x=\"339.306641\"/>\n",
              "     </g>\n",
              "    </g>\n",
              "   </g>\n",
              "  </g>\n",
              "  <g id=\"axes_2\">\n",
              "   <g id=\"patch_8\">\n",
              "    <path d=\"M 394.363636 256.32 \n",
              "L 648 256.32 \n",
              "L 648 34.56 \n",
              "L 394.363636 34.56 \n",
              "z\n",
              "\" style=\"fill: #ffffff\"/>\n",
              "   </g>\n",
              "   <g id=\"matplotlib.axis_3\">\n",
              "    <g id=\"xtick_6\">\n",
              "     <g id=\"line2d_16\">\n",
              "      <g>\n",
              "       <use xlink:href=\"#m2fbeecb3ab\" x=\"431.512397\" y=\"256.32\" style=\"stroke: #000000; stroke-width: 0.8\"/>\n",
              "      </g>\n",
              "     </g>\n",
              "     <g id=\"text_17\">\n",
              "      <!-- 2 -->\n",
              "      <g transform=\"translate(428.331147 270.918437) scale(0.1 -0.1)\">\n",
              "       <use xlink:href=\"#DejaVuSans-32\"/>\n",
              "      </g>\n",
              "     </g>\n",
              "    </g>\n",
              "    <g id=\"xtick_7\">\n",
              "     <g id=\"line2d_17\">\n",
              "      <g>\n",
              "       <use xlink:href=\"#m2fbeecb3ab\" x=\"482.752066\" y=\"256.32\" style=\"stroke: #000000; stroke-width: 0.8\"/>\n",
              "      </g>\n",
              "     </g>\n",
              "     <g id=\"text_18\">\n",
              "      <!-- 4 -->\n",
              "      <g transform=\"translate(479.570816 270.918437) scale(0.1 -0.1)\">\n",
              "       <use xlink:href=\"#DejaVuSans-34\"/>\n",
              "      </g>\n",
              "     </g>\n",
              "    </g>\n",
              "    <g id=\"xtick_8\">\n",
              "     <g id=\"line2d_18\">\n",
              "      <g>\n",
              "       <use xlink:href=\"#m2fbeecb3ab\" x=\"533.991736\" y=\"256.32\" style=\"stroke: #000000; stroke-width: 0.8\"/>\n",
              "      </g>\n",
              "     </g>\n",
              "     <g id=\"text_19\">\n",
              "      <!-- 6 -->\n",
              "      <g transform=\"translate(530.810486 270.918437) scale(0.1 -0.1)\">\n",
              "       <use xlink:href=\"#DejaVuSans-36\"/>\n",
              "      </g>\n",
              "     </g>\n",
              "    </g>\n",
              "    <g id=\"xtick_9\">\n",
              "     <g id=\"line2d_19\">\n",
              "      <g>\n",
              "       <use xlink:href=\"#m2fbeecb3ab\" x=\"585.231405\" y=\"256.32\" style=\"stroke: #000000; stroke-width: 0.8\"/>\n",
              "      </g>\n",
              "     </g>\n",
              "     <g id=\"text_20\">\n",
              "      <!-- 8 -->\n",
              "      <g transform=\"translate(582.050155 270.918437) scale(0.1 -0.1)\">\n",
              "       <use xlink:href=\"#DejaVuSans-38\"/>\n",
              "      </g>\n",
              "     </g>\n",
              "    </g>\n",
              "    <g id=\"xtick_10\">\n",
              "     <g id=\"line2d_20\">\n",
              "      <g>\n",
              "       <use xlink:href=\"#m2fbeecb3ab\" x=\"636.471074\" y=\"256.32\" style=\"stroke: #000000; stroke-width: 0.8\"/>\n",
              "      </g>\n",
              "     </g>\n",
              "     <g id=\"text_21\">\n",
              "      <!-- 10 -->\n",
              "      <g transform=\"translate(630.108574 270.918437) scale(0.1 -0.1)\">\n",
              "       <use xlink:href=\"#DejaVuSans-31\"/>\n",
              "       <use xlink:href=\"#DejaVuSans-30\" x=\"63.623047\"/>\n",
              "      </g>\n",
              "     </g>\n",
              "    </g>\n",
              "    <g id=\"text_22\">\n",
              "     <!-- Epoch -->\n",
              "     <g transform=\"translate(505.870881 284.596563) scale(0.1 -0.1)\">\n",
              "      <use xlink:href=\"#DejaVuSans-45\"/>\n",
              "      <use xlink:href=\"#DejaVuSans-70\" x=\"63.183594\"/>\n",
              "      <use xlink:href=\"#DejaVuSans-6f\" x=\"126.660156\"/>\n",
              "      <use xlink:href=\"#DejaVuSans-63\" x=\"187.841797\"/>\n",
              "      <use xlink:href=\"#DejaVuSans-68\" x=\"242.822266\"/>\n",
              "     </g>\n",
              "    </g>\n",
              "   </g>\n",
              "   <g id=\"matplotlib.axis_4\">\n",
              "    <g id=\"ytick_7\">\n",
              "     <g id=\"line2d_21\">\n",
              "      <g>\n",
              "       <use xlink:href=\"#m6b6081f839\" x=\"394.363636\" y=\"237.84\" style=\"stroke: #000000; stroke-width: 0.8\"/>\n",
              "      </g>\n",
              "     </g>\n",
              "     <g id=\"text_23\">\n",
              "      <!-- 0.0 -->\n",
              "      <g transform=\"translate(371.460511 241.639219) scale(0.1 -0.1)\">\n",
              "       <use xlink:href=\"#DejaVuSans-30\"/>\n",
              "       <use xlink:href=\"#DejaVuSans-2e\" x=\"63.623047\"/>\n",
              "       <use xlink:href=\"#DejaVuSans-30\" x=\"95.410156\"/>\n",
              "      </g>\n",
              "     </g>\n",
              "    </g>\n",
              "    <g id=\"ytick_8\">\n",
              "     <g id=\"line2d_22\">\n",
              "      <g>\n",
              "       <use xlink:href=\"#m6b6081f839\" x=\"394.363636\" y=\"200.88\" style=\"stroke: #000000; stroke-width: 0.8\"/>\n",
              "      </g>\n",
              "     </g>\n",
              "     <g id=\"text_24\">\n",
              "      <!-- 0.2 -->\n",
              "      <g transform=\"translate(371.460511 204.679219) scale(0.1 -0.1)\">\n",
              "       <use xlink:href=\"#DejaVuSans-30\"/>\n",
              "       <use xlink:href=\"#DejaVuSans-2e\" x=\"63.623047\"/>\n",
              "       <use xlink:href=\"#DejaVuSans-32\" x=\"95.410156\"/>\n",
              "      </g>\n",
              "     </g>\n",
              "    </g>\n",
              "    <g id=\"ytick_9\">\n",
              "     <g id=\"line2d_23\">\n",
              "      <g>\n",
              "       <use xlink:href=\"#m6b6081f839\" x=\"394.363636\" y=\"163.92\" style=\"stroke: #000000; stroke-width: 0.8\"/>\n",
              "      </g>\n",
              "     </g>\n",
              "     <g id=\"text_25\">\n",
              "      <!-- 0.4 -->\n",
              "      <g transform=\"translate(371.460511 167.719219) scale(0.1 -0.1)\">\n",
              "       <use xlink:href=\"#DejaVuSans-30\"/>\n",
              "       <use xlink:href=\"#DejaVuSans-2e\" x=\"63.623047\"/>\n",
              "       <use xlink:href=\"#DejaVuSans-34\" x=\"95.410156\"/>\n",
              "      </g>\n",
              "     </g>\n",
              "    </g>\n",
              "    <g id=\"ytick_10\">\n",
              "     <g id=\"line2d_24\">\n",
              "      <g>\n",
              "       <use xlink:href=\"#m6b6081f839\" x=\"394.363636\" y=\"126.96\" style=\"stroke: #000000; stroke-width: 0.8\"/>\n",
              "      </g>\n",
              "     </g>\n",
              "     <g id=\"text_26\">\n",
              "      <!-- 0.6 -->\n",
              "      <g transform=\"translate(371.460511 130.759219) scale(0.1 -0.1)\">\n",
              "       <use xlink:href=\"#DejaVuSans-30\"/>\n",
              "       <use xlink:href=\"#DejaVuSans-2e\" x=\"63.623047\"/>\n",
              "       <use xlink:href=\"#DejaVuSans-36\" x=\"95.410156\"/>\n",
              "      </g>\n",
              "     </g>\n",
              "    </g>\n",
              "    <g id=\"ytick_11\">\n",
              "     <g id=\"line2d_25\">\n",
              "      <g>\n",
              "       <use xlink:href=\"#m6b6081f839\" x=\"394.363636\" y=\"90\" style=\"stroke: #000000; stroke-width: 0.8\"/>\n",
              "      </g>\n",
              "     </g>\n",
              "     <g id=\"text_27\">\n",
              "      <!-- 0.8 -->\n",
              "      <g transform=\"translate(371.460511 93.799219) scale(0.1 -0.1)\">\n",
              "       <use xlink:href=\"#DejaVuSans-30\"/>\n",
              "       <use xlink:href=\"#DejaVuSans-2e\" x=\"63.623047\"/>\n",
              "       <use xlink:href=\"#DejaVuSans-38\" x=\"95.410156\"/>\n",
              "      </g>\n",
              "     </g>\n",
              "    </g>\n",
              "    <g id=\"ytick_12\">\n",
              "     <g id=\"line2d_26\">\n",
              "      <g>\n",
              "       <use xlink:href=\"#m6b6081f839\" x=\"394.363636\" y=\"53.04\" style=\"stroke: #000000; stroke-width: 0.8\"/>\n",
              "      </g>\n",
              "     </g>\n",
              "     <g id=\"text_28\">\n",
              "      <!-- 1.0 -->\n",
              "      <g transform=\"translate(371.460511 56.839219) scale(0.1 -0.1)\">\n",
              "       <use xlink:href=\"#DejaVuSans-31\"/>\n",
              "       <use xlink:href=\"#DejaVuSans-2e\" x=\"63.623047\"/>\n",
              "       <use xlink:href=\"#DejaVuSans-30\" x=\"95.410156\"/>\n",
              "      </g>\n",
              "     </g>\n",
              "    </g>\n",
              "    <g id=\"text_29\">\n",
              "     <!-- Accuracy -->\n",
              "     <g transform=\"translate(365.380824 168.268125) rotate(-90) scale(0.1 -0.1)\">\n",
              "      <defs>\n",
              "       <path id=\"DejaVuSans-41\" d=\"M 2188 4044 \n",
              "L 1331 1722 \n",
              "L 3047 1722 \n",
              "L 2188 4044 \n",
              "z\n",
              "M 1831 4666 \n",
              "L 2547 4666 \n",
              "L 4325 0 \n",
              "L 3669 0 \n",
              "L 3244 1197 \n",
              "L 1141 1197 \n",
              "L 716 0 \n",
              "L 50 0 \n",
              "L 1831 4666 \n",
              "z\n",
              "\" transform=\"scale(0.015625)\"/>\n",
              "       <path id=\"DejaVuSans-75\" d=\"M 544 1381 \n",
              "L 544 3500 \n",
              "L 1119 3500 \n",
              "L 1119 1403 \n",
              "Q 1119 906 1312 657 \n",
              "Q 1506 409 1894 409 \n",
              "Q 2359 409 2629 706 \n",
              "Q 2900 1003 2900 1516 \n",
              "L 2900 3500 \n",
              "L 3475 3500 \n",
              "L 3475 0 \n",
              "L 2900 0 \n",
              "L 2900 538 \n",
              "Q 2691 219 2414 64 \n",
              "Q 2138 -91 1772 -91 \n",
              "Q 1169 -91 856 284 \n",
              "Q 544 659 544 1381 \n",
              "z\n",
              "M 1991 3584 \n",
              "L 1991 3584 \n",
              "z\n",
              "\" transform=\"scale(0.015625)\"/>\n",
              "       <path id=\"DejaVuSans-79\" d=\"M 2059 -325 \n",
              "Q 1816 -950 1584 -1140 \n",
              "Q 1353 -1331 966 -1331 \n",
              "L 506 -1331 \n",
              "L 506 -850 \n",
              "L 844 -850 \n",
              "Q 1081 -850 1212 -737 \n",
              "Q 1344 -625 1503 -206 \n",
              "L 1606 56 \n",
              "L 191 3500 \n",
              "L 800 3500 \n",
              "L 1894 763 \n",
              "L 2988 3500 \n",
              "L 3597 3500 \n",
              "L 2059 -325 \n",
              "z\n",
              "\" transform=\"scale(0.015625)\"/>\n",
              "      </defs>\n",
              "      <use xlink:href=\"#DejaVuSans-41\"/>\n",
              "      <use xlink:href=\"#DejaVuSans-63\" x=\"66.658203\"/>\n",
              "      <use xlink:href=\"#DejaVuSans-63\" x=\"121.638672\"/>\n",
              "      <use xlink:href=\"#DejaVuSans-75\" x=\"176.619141\"/>\n",
              "      <use xlink:href=\"#DejaVuSans-72\" x=\"239.998047\"/>\n",
              "      <use xlink:href=\"#DejaVuSans-61\" x=\"281.111328\"/>\n",
              "      <use xlink:href=\"#DejaVuSans-63\" x=\"342.390625\"/>\n",
              "      <use xlink:href=\"#DejaVuSans-79\" x=\"397.371094\"/>\n",
              "     </g>\n",
              "    </g>\n",
              "   </g>\n",
              "   <g id=\"line2d_27\">\n",
              "    <path d=\"M 405.892562 101.118201 \n",
              "L 431.512397 89.44533 \n",
              "L 457.132231 78.000632 \n",
              "L 482.752066 79.492661 \n",
              "L 508.371901 78.632559 \n",
              "L 533.991736 77.649586 \n",
              "L 559.61157 74.314461 \n",
              "L 585.231405 73.331488 \n",
              "L 610.85124 72.822444 \n",
              "L 636.471074 68.785204 \n",
              "\" clip-path=\"url(#p9678b5c59a)\" style=\"fill: none; stroke: #00bfbf; stroke-width: 1.5; stroke-linecap: square\"/>\n",
              "   </g>\n",
              "   <g id=\"line2d_28\">\n",
              "    <path d=\"M 405.892562 179.170412 \n",
              "L 431.512397 92.876461 \n",
              "L 457.132231 84.342703 \n",
              "L 482.752066 77.795259 \n",
              "L 508.371901 77.096372 \n",
              "L 533.991736 75.551461 \n",
              "L 559.61157 74.999712 \n",
              "L 585.231405 72.903062 \n",
              "L 610.85124 70.843181 \n",
              "L 636.471074 68.746531 \n",
              "\" clip-path=\"url(#p9678b5c59a)\" style=\"fill: none; stroke: #0000ff; stroke-width: 1.5; stroke-linecap: square\"/>\n",
              "   </g>\n",
              "   <g id=\"patch_9\">\n",
              "    <path d=\"M 394.363636 256.32 \n",
              "L 394.363636 34.56 \n",
              "\" style=\"fill: none; stroke: #000000; stroke-width: 0.8; stroke-linejoin: miter; stroke-linecap: square\"/>\n",
              "   </g>\n",
              "   <g id=\"patch_10\">\n",
              "    <path d=\"M 648 256.32 \n",
              "L 648 34.56 \n",
              "\" style=\"fill: none; stroke: #000000; stroke-width: 0.8; stroke-linejoin: miter; stroke-linecap: square\"/>\n",
              "   </g>\n",
              "   <g id=\"patch_11\">\n",
              "    <path d=\"M 394.363636 256.32 \n",
              "L 648 256.32 \n",
              "\" style=\"fill: none; stroke: #000000; stroke-width: 0.8; stroke-linejoin: miter; stroke-linecap: square\"/>\n",
              "   </g>\n",
              "   <g id=\"patch_12\">\n",
              "    <path d=\"M 394.363636 34.56 \n",
              "L 648 34.56 \n",
              "\" style=\"fill: none; stroke: #000000; stroke-width: 0.8; stroke-linejoin: miter; stroke-linecap: square\"/>\n",
              "   </g>\n",
              "   <g id=\"text_30\">\n",
              "    <!-- SimpleNetwork: Training Accuracy -->\n",
              "    <g transform=\"translate(418.742131 28.56) scale(0.12 -0.12)\">\n",
              "     <use xlink:href=\"#DejaVuSans-53\"/>\n",
              "     <use xlink:href=\"#DejaVuSans-69\" x=\"63.476562\"/>\n",
              "     <use xlink:href=\"#DejaVuSans-6d\" x=\"91.259766\"/>\n",
              "     <use xlink:href=\"#DejaVuSans-70\" x=\"188.671875\"/>\n",
              "     <use xlink:href=\"#DejaVuSans-6c\" x=\"252.148438\"/>\n",
              "     <use xlink:href=\"#DejaVuSans-65\" x=\"279.931641\"/>\n",
              "     <use xlink:href=\"#DejaVuSans-4e\" x=\"341.455078\"/>\n",
              "     <use xlink:href=\"#DejaVuSans-65\" x=\"416.259766\"/>\n",
              "     <use xlink:href=\"#DejaVuSans-74\" x=\"477.783203\"/>\n",
              "     <use xlink:href=\"#DejaVuSans-77\" x=\"516.992188\"/>\n",
              "     <use xlink:href=\"#DejaVuSans-6f\" x=\"598.779297\"/>\n",
              "     <use xlink:href=\"#DejaVuSans-72\" x=\"659.960938\"/>\n",
              "     <use xlink:href=\"#DejaVuSans-6b\" x=\"701.074219\"/>\n",
              "     <use xlink:href=\"#DejaVuSans-3a\" x=\"758.984375\"/>\n",
              "     <use xlink:href=\"#DejaVuSans-20\" x=\"792.675781\"/>\n",
              "     <use xlink:href=\"#DejaVuSans-54\" x=\"824.462891\"/>\n",
              "     <use xlink:href=\"#DejaVuSans-72\" x=\"870.796875\"/>\n",
              "     <use xlink:href=\"#DejaVuSans-61\" x=\"911.910156\"/>\n",
              "     <use xlink:href=\"#DejaVuSans-69\" x=\"973.189453\"/>\n",
              "     <use xlink:href=\"#DejaVuSans-6e\" x=\"1000.972656\"/>\n",
              "     <use xlink:href=\"#DejaVuSans-69\" x=\"1064.351562\"/>\n",
              "     <use xlink:href=\"#DejaVuSans-6e\" x=\"1092.134766\"/>\n",
              "     <use xlink:href=\"#DejaVuSans-67\" x=\"1155.513672\"/>\n",
              "     <use xlink:href=\"#DejaVuSans-20\" x=\"1218.990234\"/>\n",
              "     <use xlink:href=\"#DejaVuSans-41\" x=\"1250.777344\"/>\n",
              "     <use xlink:href=\"#DejaVuSans-63\" x=\"1317.435547\"/>\n",
              "     <use xlink:href=\"#DejaVuSans-63\" x=\"1372.416016\"/>\n",
              "     <use xlink:href=\"#DejaVuSans-75\" x=\"1427.396484\"/>\n",
              "     <use xlink:href=\"#DejaVuSans-72\" x=\"1490.775391\"/>\n",
              "     <use xlink:href=\"#DejaVuSans-61\" x=\"1531.888672\"/>\n",
              "     <use xlink:href=\"#DejaVuSans-63\" x=\"1593.167969\"/>\n",
              "     <use xlink:href=\"#DejaVuSans-79\" x=\"1648.148438\"/>\n",
              "    </g>\n",
              "   </g>\n",
              "   <g id=\"legend_2\">\n",
              "    <g id=\"patch_13\">\n",
              "     <path d=\"M 401.363636 72.4725 \n",
              "L 550.505824 72.4725 \n",
              "Q 552.505824 72.4725 552.505824 70.4725 \n",
              "L 552.505824 41.56 \n",
              "Q 552.505824 39.56 550.505824 39.56 \n",
              "L 401.363636 39.56 \n",
              "Q 399.363636 39.56 399.363636 41.56 \n",
              "L 399.363636 70.4725 \n",
              "Q 399.363636 72.4725 401.363636 72.4725 \n",
              "z\n",
              "\" style=\"fill: #ffffff; opacity: 0.8; stroke: #cccccc; stroke-linejoin: miter\"/>\n",
              "    </g>\n",
              "    <g id=\"line2d_29\">\n",
              "     <path d=\"M 403.363636 47.658438 \n",
              "L 413.363636 47.658438 \n",
              "L 423.363636 47.658438 \n",
              "\" style=\"fill: none; stroke: #00bfbf; stroke-width: 1.5; stroke-linecap: square\"/>\n",
              "    </g>\n",
              "    <g id=\"text_31\">\n",
              "     <!-- val_tolerance_accuracy -->\n",
              "     <g transform=\"translate(431.363636 51.158438) scale(0.1 -0.1)\">\n",
              "      <use xlink:href=\"#DejaVuSans-76\"/>\n",
              "      <use xlink:href=\"#DejaVuSans-61\" x=\"59.179688\"/>\n",
              "      <use xlink:href=\"#DejaVuSans-6c\" x=\"120.458984\"/>\n",
              "      <use xlink:href=\"#DejaVuSans-5f\" x=\"148.242188\"/>\n",
              "      <use xlink:href=\"#DejaVuSans-74\" x=\"198.242188\"/>\n",
              "      <use xlink:href=\"#DejaVuSans-6f\" x=\"237.451172\"/>\n",
              "      <use xlink:href=\"#DejaVuSans-6c\" x=\"298.632812\"/>\n",
              "      <use xlink:href=\"#DejaVuSans-65\" x=\"326.416016\"/>\n",
              "      <use xlink:href=\"#DejaVuSans-72\" x=\"387.939453\"/>\n",
              "      <use xlink:href=\"#DejaVuSans-61\" x=\"429.052734\"/>\n",
              "      <use xlink:href=\"#DejaVuSans-6e\" x=\"490.332031\"/>\n",
              "      <use xlink:href=\"#DejaVuSans-63\" x=\"553.710938\"/>\n",
              "      <use xlink:href=\"#DejaVuSans-65\" x=\"608.691406\"/>\n",
              "      <use xlink:href=\"#DejaVuSans-5f\" x=\"670.214844\"/>\n",
              "      <use xlink:href=\"#DejaVuSans-61\" x=\"720.214844\"/>\n",
              "      <use xlink:href=\"#DejaVuSans-63\" x=\"781.494141\"/>\n",
              "      <use xlink:href=\"#DejaVuSans-63\" x=\"836.474609\"/>\n",
              "      <use xlink:href=\"#DejaVuSans-75\" x=\"891.455078\"/>\n",
              "      <use xlink:href=\"#DejaVuSans-72\" x=\"954.833984\"/>\n",
              "      <use xlink:href=\"#DejaVuSans-61\" x=\"995.947266\"/>\n",
              "      <use xlink:href=\"#DejaVuSans-63\" x=\"1057.226562\"/>\n",
              "      <use xlink:href=\"#DejaVuSans-79\" x=\"1112.207031\"/>\n",
              "     </g>\n",
              "    </g>\n",
              "    <g id=\"line2d_30\">\n",
              "     <path d=\"M 403.363636 62.614688 \n",
              "L 413.363636 62.614688 \n",
              "L 423.363636 62.614688 \n",
              "\" style=\"fill: none; stroke: #0000ff; stroke-width: 1.5; stroke-linecap: square\"/>\n",
              "    </g>\n",
              "    <g id=\"text_32\">\n",
              "     <!-- tolerance_accuracy -->\n",
              "     <g transform=\"translate(431.363636 66.114688) scale(0.1 -0.1)\">\n",
              "      <use xlink:href=\"#DejaVuSans-74\"/>\n",
              "      <use xlink:href=\"#DejaVuSans-6f\" x=\"39.208984\"/>\n",
              "      <use xlink:href=\"#DejaVuSans-6c\" x=\"100.390625\"/>\n",
              "      <use xlink:href=\"#DejaVuSans-65\" x=\"128.173828\"/>\n",
              "      <use xlink:href=\"#DejaVuSans-72\" x=\"189.697266\"/>\n",
              "      <use xlink:href=\"#DejaVuSans-61\" x=\"230.810547\"/>\n",
              "      <use xlink:href=\"#DejaVuSans-6e\" x=\"292.089844\"/>\n",
              "      <use xlink:href=\"#DejaVuSans-63\" x=\"355.46875\"/>\n",
              "      <use xlink:href=\"#DejaVuSans-65\" x=\"410.449219\"/>\n",
              "      <use xlink:href=\"#DejaVuSans-5f\" x=\"471.972656\"/>\n",
              "      <use xlink:href=\"#DejaVuSans-61\" x=\"521.972656\"/>\n",
              "      <use xlink:href=\"#DejaVuSans-63\" x=\"583.251953\"/>\n",
              "      <use xlink:href=\"#DejaVuSans-63\" x=\"638.232422\"/>\n",
              "      <use xlink:href=\"#DejaVuSans-75\" x=\"693.212891\"/>\n",
              "      <use xlink:href=\"#DejaVuSans-72\" x=\"756.591797\"/>\n",
              "      <use xlink:href=\"#DejaVuSans-61\" x=\"797.705078\"/>\n",
              "      <use xlink:href=\"#DejaVuSans-63\" x=\"858.984375\"/>\n",
              "      <use xlink:href=\"#DejaVuSans-79\" x=\"913.964844\"/>\n",
              "     </g>\n",
              "    </g>\n",
              "   </g>\n",
              "  </g>\n",
              " </g>\n",
              " <defs>\n",
              "  <clipPath id=\"pcb89b51f91\">\n",
              "   <rect x=\"90\" y=\"34.56\" width=\"253.636364\" height=\"221.76\"/>\n",
              "  </clipPath>\n",
              "  <clipPath id=\"p9678b5c59a\">\n",
              "   <rect x=\"394.363636\" y=\"34.56\" width=\"253.636364\" height=\"221.76\"/>\n",
              "  </clipPath>\n",
              " </defs>\n",
              "</svg>\n"
            ]
          },
          "metadata": {}
        },
        {
          "output_type": "stream",
          "name": "stdout",
          "text": [
            "Epoch 10/10 loss: 0.015097171068191528 - tolerance_accuracy: 0.9150079488754272 - val_loss: 0.01628131978213787 - val_tolerance_accuracy: 0.9147986769676208\n"
          ]
        }
      ],
      "source": [
        "history = net.fit(inputs,                                   # new training examples\n",
        "                  targets,                                  # new training labels\n",
        "                  verbose=1,                                # verbose output\n",
        "                  validation_data=(new_test_x_normalized,   # validation examples\n",
        "                                   new_test_y),             # validation labels\n",
        "                  epochs=10)                                 # number of times to loop through the training set"
      ]
    },
    {
      "cell_type": "markdown",
      "metadata": {
        "id": "7vrCM2yO6hiH"
      },
      "source": [
        "After training the network, **take note of the tolerance_accuracy and val_tolerance_accuracy for every time you retrain the network with manipulated percentages**.\n",
        "\n",
        "The tolerance accuracy reports the accuracy of the network on the **training** data\n",
        "\n",
        "The validation tolerance accuracy reports the accuracy of the network on the **testing** data."
      ]
    },
    {
      "cell_type": "markdown",
      "metadata": {
        "id": "_-kae00F6mqw"
      },
      "source": [
        "**tolerance_accuracy**: *enter here*\n",
        "\n",
        "**val_tolerance_accuracy**: *enter here*"
      ]
    },
    {
      "cell_type": "markdown",
      "metadata": {
        "id": "q1amP4wiszlm"
      },
      "source": [
        "###Testing the Network"
      ]
    },
    {
      "cell_type": "markdown",
      "metadata": {
        "id": "M7d30W-9a3zL"
      },
      "source": [
        "Let's create a function to allow us to easily visualize how the trained network is doing on some sample inputs from the testing data."
      ]
    },
    {
      "cell_type": "code",
      "execution_count": 35,
      "metadata": {
        "id": "NASP8hqUQv_w"
      },
      "outputs": [],
      "source": [
        "from time import sleep\n",
        "def test(net, n):\n",
        "  for i in range(n):\n",
        "    net.display(new_test_x_normalized[i])\n",
        "    outputs = net.propagate(new_test_x_normalized[i])\n",
        "    print(\", \".join([str(round(v,2)) for v in outputs]))\n",
        "    sleep(2)"
      ]
    },
    {
      "cell_type": "markdown",
      "metadata": {
        "id": "TkhGLdInbZ2Z"
      },
      "source": [
        "In the visualization below, focus your attention on the two boxes in the final output layer.\n",
        "\n",
        "* When the network recognizes digit1 (which is initially 3), there should be a white block on the left and a black block on the right for the output.\n",
        "\n",
        "* When the network recognizes digit2 (which is initially 5), there should be a black block on the left and a white block on the right for the output.\n",
        "\n",
        "* For inputs that the network is having trouble recognizing, their output will not be clearly black or white in either of the two output blocks.\n",
        "\n",
        "Additionally, below the visualization of the network, when the test function is run, you can see percentages of certainty. The first number is the certainty that the digit is a digit1, and the second number is the certainty that the digit is a digit2."
      ]
    },
    {
      "cell_type": "code",
      "execution_count": 36,
      "metadata": {
        "colab": {
          "base_uri": "https://localhost:8080/",
          "height": 439
        },
        "id": "bXjwxNHPVsvD",
        "outputId": "84db7c3c-890b-4a4a-f6a0-6a27b69e2f3f"
      },
      "outputs": [
        {
          "output_type": "display_data",
          "data": {
            "text/plain": [
              "<IPython.core.display.HTML object>"
            ],
            "text/html": [
              "<svg id='keras-network' xmlns='http://www.w3.org/2000/svg' xmlns:xlink='http://www.w3.org/1999/xlink' image-rendering=\"pixelated\" width=\"280px\" height=\"400px\" style=\"background-color: #B0C4DE\">\n",
              " <g >\n",
              "  <svg viewBox=\"0 0 400 570\" width=\"280px\" height=\"400px\">\n",
              "    <defs>\n",
              "        <marker id=\"arrow\" markerWidth=\"10\" markerHeight=\"10\" refX=\"9\" refY=\"3\" orient=\"auto\" markerUnits=\"strokeWidth\">\n",
              "          <path d=\"M0,0 L0,6 L9,3 z\" fill=\"black\" />\n",
              "        </marker>\n",
              "    </defs><rect x=\"149.0\" y=\"24\" width=\"102\" height=\"52\" style=\"fill:none;stroke:black;stroke-width:2\"/><image id=\"keras-network_output\" class=\"keras-network\" x=\"150.0\" y=\"25\" height=\"50\" width=\"100\" preserveAspectRatio=\"none\" image-rendering=\"optimizeSpeed\" xlink:href=\"data:image/gif;base64,R0lGODdhAgABAIEAAAEBAf39/QAAAAAAACwAAAAAAgABAAAIBQABBAgIADs=\"><title>Layer: output 'Dense'\n",
              "Act function: softmax\n",
              "Act output range: (0.0, 1.0)\n",
              "Actual minmax: (0.0, 1.0)\n",
              "Shape = (None, 2)</title></image><text x=\"255.0\" y=\"52.0\" font-family=\"monospace\" font-size=\"12\" text-anchor=\"start\" fill=\"blue\" alignment-baseline=\"central\" >output</text><path d=\"M 200.0 104 L 200.0 77 \" stroke=\"black\" stroke-width=\"2\" marker-end=\"url(#arrow)\" fill=\"none\" /><rect x=\"99.0\" y=\"104\" width=\"202\" height=\"52\" style=\"fill:none;stroke:black;stroke-width:2\"/><image id=\"keras-network_hidden_3\" class=\"keras-network\" x=\"100.0\" y=\"105\" height=\"50\" width=\"200\" preserveAspectRatio=\"none\" image-rendering=\"optimizeSpeed\" xlink:href=\"data:image/gif;base64,R0lGODdhCgABAIMAAC0tLVBQUF9fX2RkZICAgIWFha6ursHBwdPT0wAAAAAAAAAAAAAAAAAAAAAAAAAAACwAAAAACgABAAAIDgAHBEBwoEAAAQYAEAgIADs=\"><title>Layer: hidden_3 'Dense'\n",
              "Act function: sigmoid\n",
              "Act output range: (0.0, 1.0)\n",
              "Actual minmax: (0.0, 1.0)\n",
              "Shape = (None, 10)</title></image><text x=\"305.0\" y=\"132.0\" font-family=\"monospace\" font-size=\"12\" text-anchor=\"start\" fill=\"blue\" alignment-baseline=\"central\" >hidden_3</text><path d=\"M 200.0 184 L 200.0 157 \" stroke=\"black\" stroke-width=\"2\" marker-end=\"url(#arrow)\" fill=\"none\" /><rect x=\"99.0\" y=\"184\" width=\"202\" height=\"52\" style=\"fill:none;stroke:black;stroke-width:2\"/><image id=\"keras-network_hidden_2\" class=\"keras-network\" x=\"100.0\" y=\"185\" height=\"50\" width=\"200\" preserveAspectRatio=\"none\" image-rendering=\"optimizeSpeed\" xlink:href=\"data:image/gif;base64,R0lGODdhGQABAIQAAAcHBxMTExcXFx8fHyEhISUlJSYmJioqKjU1NTc3Nzw8PD8/P0BAQEVFRUhISEpKSk1NTVtbW3Z2dsPDw+Tk5AAAAAAAAAAAAAAAAAAAAAAAAAAAAAAAAAAAAAAAAAAAACwAAAAAGQABAAAIHwATRChwQAGDBQQMQHgwIIIABA0oSAAwYcICBwEYBAQAOw==\"><title>Layer: hidden_2 'Dense'\n",
              "Act function: sigmoid\n",
              "Act output range: (0.0, 1.0)\n",
              "Actual minmax: (0.0, 1.0)\n",
              "Shape = (None, 25)</title></image><text x=\"305.0\" y=\"212.0\" font-family=\"monospace\" font-size=\"12\" text-anchor=\"start\" fill=\"blue\" alignment-baseline=\"central\" >hidden_2</text><path d=\"M 200.0 264 L 200.0 237 \" stroke=\"black\" stroke-width=\"2\" marker-end=\"url(#arrow)\" fill=\"none\" /><rect x=\"99.00000000000001\" y=\"264\" width=\"201.99999999999997\" height=\"52\" style=\"fill:none;stroke:black;stroke-width:2\"/><image id=\"keras-network_flatten_1\" class=\"keras-network\" x=\"100.00000000000001\" y=\"265\" height=\"50\" width=\"199.99999999999997\" preserveAspectRatio=\"none\" image-rendering=\"optimizeSpeed\" xlink:href=\"data:image/gif;base64,R0lGODdhEAMBAIYAAAAAAAEBAQICAgUFBQcHBwkJCQ4ODg8PDxISEhQUFBUVFRYWFhgYGBoaGhsbGxwcHB4eHh8fHyEhISIiIi0tLS4uLjExMTIyMjk5OTo6Oj8/P0BAQEFBQUJCQkpKSkxMTE1NTU9PT1VVVV1dXWJiYmRkZGZmZmdnZ2hoaGlpaWtra2xsbHV1dXd3d4CAgISEhIaGho6OjpCQkJeXl5+fn6GhoaKioqOjo6urq6+vr7CwsLGxsba2tri4uLu7u8TExMbGxsfHx8nJycrKyszMzNHR0dfX19nZ2dra2t3d3d7e3t/f3+Pj4+Tk5Ofn5+jo6Onp6erq6uvr6+zs7PDw8PHx8fLy8vPz8/X19ff39/j4+Pn5+fr6+vv7+/39/f7+/v///wAAAAAAAAAAAAAAAAAAAAAAAAAAAAAAAAAAAAAAAAAAAAAAAAAAAAAAAAAAAAAAAAAAAAAAAAAAAAAAAAAAAAAAAAAAAAAAAAAAAAAAAAAAAAAAAAAAAAAAAAAAACwAAAAAEAMBAAAI4AABCBxIsKDBgwgTKlzIsKHDhxAjKiwA4oJEgQI0tMBh5coQEg8tKADAoAWRL2CYuFBBwCEEH1+eGInypQoNDwggIjjypWeXJCkmSEQQpOcWGx0uCoT55UcEpQIxUPlyQwBUgUq+1BhwFcAEK1o+TFABA8mOEQ0isviipcqVL1KWTJ1iAiKQnkJkZFgAIEIMLlBQPEQwQ8QBgy++5AjQFcCKngW6SijyRQdjqBuafIFCQakBEjy4fHES4uEDBw5OsJiR9QuVGA8gWtnCxUsWLFV6lIBwsYIFDhMSNB5OfHhAADs=\"><title>Layer: flatten_1 'Flatten'\n",
              "Actual minmax: (0.0, 1.0)\n",
              "Shape = (None, 784)</title></image><text x=\"305.0\" y=\"292.0\" font-family=\"monospace\" font-size=\"12\" text-anchor=\"start\" fill=\"blue\" alignment-baseline=\"central\" >flatten_1</text><path d=\"M 200.0 344 L 200.0 317 \" stroke=\"black\" stroke-width=\"2\" marker-end=\"url(#arrow)\" fill=\"none\" /><rect x=\"99.0\" y=\"344\" width=\"202\" height=\"202\" style=\"fill:none;stroke:black;stroke-width:2\"/><image id=\"keras-network_input\" class=\"keras-network\" x=\"100.0\" y=\"345\" height=\"200\" width=\"200\" preserveAspectRatio=\"none\" image-rendering=\"optimizeSpeed\" xlink:href=\"data:image/gif;base64,R0lGODdhHAAcAIYAAAAAAAEBAQICAgUFBQcHBwkJCQ4ODg8PDxISEhQUFBUVFRYWFhgYGBoaGhsbGxwcHB4eHh8fHyEhISIiIi0tLS4uLjExMTIyMjk5OTo6Oj8/P0BAQEFBQUJCQkpKSkxMTE1NTU9PT1VVVV1dXWJiYmRkZGZmZmdnZ2hoaGlpaWtra2xsbHV1dXd3d4CAgISEhIaGho6OjpCQkJeXl5+fn6GhoaKioqOjo6urq6+vr7CwsLGxsba2tri4uLu7u8TExMbGxsfHx8nJycrKyszMzNHR0dfX19nZ2dra2t3d3d7e3t/f3+Pj4+Tk5Ofn5+jo6Onp6erq6uvr6+zs7PDw8PHx8fLy8vPz8/X19ff39/j4+Pn5+fr6+vv7+/39/f7+/v///wAAAAAAAAAAAAAAAAAAAAAAAAAAAAAAAAAAAAAAAAAAAAAAAAAAAAAAAAAAAAAAAAAAAAAAAAAAAAAAAAAAAAAAAAAAAAAAAAAAAAAAAAAAAAAAAAAAAAAAAAAAACwAAAAAHAAcAEAI4AABCBxIsKDBgwgHQvDx5YmRKF+q0PCAICFBIF++CJGRYQGACDG4QEFhsWAFCxwmJCjJsqVLgRiofLkh4OXLDU2+QKFgs6fPgQI0tMBh5coQEiURBMm4xUaHnxOsaPkwQQUMJDtGNPiJcEXGAi0fOHBwgsUMJRmpxHjAta3bt3APFgBx4aUFBQAYtCDyBQwTFyoItERwJOOXLklSTPDJ8MuPCG7R1hjwlsUXLVWufJGyROYUEzYRzBBxwOCLLzkCvJVQ5IsO1T4NkODB5YuTEC+tbOHiJQuWKj1KQIhLvGdAADs=\"><title>Layer: input 'InputLayer'\n",
              "Actual minmax: (0.0, 1.0)\n",
              "Shape = [(None, 28, 28)]</title></image><text x=\"305.0\" y=\"447.0\" font-family=\"monospace\" font-size=\"12\" text-anchor=\"start\" fill=\"blue\" alignment-baseline=\"central\" >input</text><text x=\"200.0\" y=\"12.5\" font-family=\"monospace\" font-size=\"15\" text-anchor=\"middle\" fill=\"black\" alignment-baseline=\"central\" >Activations for SimpleNetwork</text></svg></g></svg>"
            ]
          },
          "metadata": {}
        },
        {
          "output_type": "stream",
          "name": "stdout",
          "text": [
            "0.01, 0.99\n"
          ]
        }
      ],
      "source": [
        "test(net, 10)"
      ]
    },
    {
      "cell_type": "markdown",
      "metadata": {
        "id": "5jVbLWuL9X7r"
      },
      "source": [
        "As you can see from these examples, when the network's dataset is split evenly between the two digits, it typically performs very well. It has an accuracy of around 91% on the test dataset (which it was not trained on). This shows that this network is effective at predicting whether a hand drawn digit is a digit1 vs digit2."
      ]
    },
    {
      "cell_type": "markdown",
      "metadata": {
        "id": "DJlbuEzjTZ_j"
      },
      "source": [
        "Now, let's see how many total errors this network made and which specific digits it classified incorrectly.\n",
        "\n",
        "Run this next code block to see a summary of the errors the network made. **Note how many errors the network made and which digit it classified incorrectly most often.**"
      ]
    },
    {
      "cell_type": "code",
      "execution_count": 37,
      "metadata": {
        "colab": {
          "base_uri": "https://localhost:8080/"
        },
        "id": "3xY3TF98O1re",
        "outputId": "9b2ce47e-dbf9-4069-fb8f-9cd4ecb5dc18"
      },
      "outputs": [
        {
          "output_type": "stream",
          "name": "stdout",
          "text": [
            "number of digits classified incorrectly: 34\n",
            "percentage of errors on 3's: 0.38\n",
            "percentage of errors on 5's: 0.62\n"
          ]
        }
      ],
      "source": [
        "from numpy import argmax\n",
        "outputs = net.predict(new_test_x_normalized)\n",
        "answers = [argmax(output) for output in outputs]\n",
        "newtargets = [argmax(target) for target in new_test_y]\n",
        "incorrect = [i for i in range(len(answers)) if answers[i] != newtargets[i]]\n",
        "print(\"number of digits classified incorrectly:\", len(incorrect))\n",
        "missed_target = [targets[i] for i in incorrect]\n",
        "wrong_answer = [answers[i] for i in incorrect]\n",
        "per_digit1 = 0\n",
        "per_digit2 = 0\n",
        "for i in range(len(incorrect)):\n",
        "  if wrong_answer[i] == 1:\n",
        "    per_digit1 += 1\n",
        "  else:\n",
        "    per_digit2 += 1\n",
        "print(\"percentage of errors on %d's: %.2f\" % (digit1, per_digit1/len(incorrect)))\n",
        "print(\"percentage of errors on %d's: %.2f\" % (digit2, per_digit2/len(incorrect)))"
      ]
    },
    {
      "cell_type": "markdown",
      "metadata": {
        "id": "8KapHOuj-hNj"
      },
      "source": [
        "*write observations here*"
      ]
    },
    {
      "cell_type": "markdown",
      "metadata": {
        "id": "prn5CWDRT7Aw"
      },
      "source": [
        "We can see a gallery of all of the digits that were classified incorrectly."
      ]
    },
    {
      "cell_type": "code",
      "execution_count": 38,
      "metadata": {
        "colab": {
          "base_uri": "https://localhost:8080/",
          "height": 338
        },
        "id": "5cCoTBS4Qf6a",
        "outputId": "8c1a2503-2785-4277-bdff-7f18404f4452"
      },
      "outputs": [
        {
          "output_type": "display_data",
          "data": {
            "text/plain": [
              "<IPython.core.display.HTML object>"
            ],
            "text/html": [
              "<table><tr style=\"padding: 1px\"><td style=\"text-align: center; padding: 1px\">0<br/><img src=\"data:image/PNG;base64,iVBORw0KGgoAAAANSUhEUgAAABwAAAAcCAAAAABXZoBIAAAAyUlEQVR4nM3PsQ7BUBQG4KMaqwlROrJi06nxAuz2Moh4EolIDH0K9QQaHoCQWCSVRiQW6dBJ8p/UUtLgrOIs9+R8+e+5l+gnVV1ash1xkmzkAa5gqs04lAUcgLEWTNtwxE0BDYCdTGKgJPrwRmRUpMfaYMwk1ME41yQdR8y+hNluiPu0LvE8AC45SfsAl+Jeecfdt4RpEhGR5TFHz6Qan9pilSdqm4V0tO1c34I6GAAYQa/4casWMAD4TisxTL12Nmjo7ifSJ/6jHnYqUhBLh9NUAAAAAElFTkSuQmCC\" alt=\"0\" title=\"0\"></img></td><td style=\"text-align: center; padding: 1px\">1<br/><img src=\"data:image/PNG;base64,iVBORw0KGgoAAAANSUhEUgAAABwAAAAcCAAAAABXZoBIAAAA80lEQVR4nNWQIU9CURiG3ztJJgMkg1QS8w/YnJiJ8gNgEzKRIoF0nSQamQ02HZVf4IYb4U4DGyOAA4xY3pdjOVfu7jnF6LednfCc873P9wH/qQJ7n42usHl4ypt80QCBeV4c3+TGJMmP5XInkuJNosEtSZKy5/0um4AXrQRc3afDyxMLQ59a3cKvnkd7FrddlVx4zIzcrw1Jb9Xc1EixUOYX9i+zw5ctrj+Nz8iWSGeUJJzEHg40B+AklRmU8LoBgIMns0ZWAJw3RXbTMCQjAGP6hB6ldX0gycjdXxhvaN45dWAh+ibFfVTwDtgm1ap40Z/rB+cNpGqj0pqIAAAAAElFTkSuQmCC\" alt=\"1\" title=\"1\"></img></td><td style=\"text-align: center; padding: 1px\">2<br/><img src=\"data:image/PNG;base64,iVBORw0KGgoAAAANSUhEUgAAABwAAAAcCAAAAABXZoBIAAABCklEQVR4nGNgGNTA2rr+26ZEBQxxVhGeumv//v79+/dfO4bknL/3//799/fvASyS/f/+/r3hr6XZf/DveXt0yYp/fw9IMzA0vP57XRzTLf//TZlz6P+/qw3YHGr7+u/fvx2mPMhiTDDG4bMMDAyCIl+waWRg4Axf+fTf7zMhnNilGcQD3/39u8oHhywDg8vtf/+rcMqKFr37VcqEU9r6719hJC4LigdYb/7Ng7CYGBgYGKJPRCFJ/v7LwI7EFbj6b5MtnKf6/l88skk8W388C+eDsDl2/f0uhOoKm/t/n3oxMDBIxp3993cCuht5PB79mt+57cPfv+fd2TC9IGRltenv30UBWKKMugAA3WZp9JAYoHYAAAAASUVORK5CYII=\" alt=\"2\" title=\"2\"></img></td><td style=\"text-align: center; padding: 1px\">3<br/><img src=\"data:image/PNG;base64,iVBORw0KGgoAAAANSUhEUgAAABwAAAAcCAAAAABXZoBIAAAAjElEQVR4nM2RQRLDIAwDt50+TH1Z3JfBz9wDDpgQjp2pTowXZMvA/8r8lC2s+JBa6dmh0sU4P3rBE4zqa7J+i+N2nuJemqedHYatHfAB1lEB9kESDPcNvKNjQ75CzAQqG+Om0p9GFFFT85wQ5O49uq5NI6FiLpug8of1h7H4On1Z5aoRUwsDZJ4H+5m+R6+C2yNGTuIAAAAASUVORK5CYII=\" alt=\"3\" title=\"3\"></img></td><td style=\"text-align: center; padding: 1px\">4<br/><img src=\"data:image/PNG;base64,iVBORw0KGgoAAAANSUhEUgAAABwAAAAcCAAAAABXZoBIAAAA2UlEQVR4nGNgGGggcOPv3wNO7DAuI4qk7H0GBsb/+98dXv6WgYGBgQVDd66EmneIZDWmsZv//JnOwMAgKcOJKcf7/+9fP1zuKfz756UYEp8JTT79FR7JFwy4JL8wMnpgOh8GZv7504BTkn3qnz91uGVn/nmnhlOW4dG/o9gdxMDAwPD//384G+E4Lm+Grd9QFcJ1Gt9e/uMnA4MaDxar8j/+a2NgYNB9+vdfCIaxttz/JRmkdGaL/79yAkOn8Jy/H47e+/vnz0ZJbH7QWPrnz98/S/ixydERAABuZUaNlE8YKAAAAABJRU5ErkJggg==\" alt=\"4\" title=\"4\"></img></td><td style=\"text-align: center; padding: 1px\">5<br/><img src=\"data:image/PNG;base64,iVBORw0KGgoAAAANSUhEUgAAABwAAAAcCAAAAABXZoBIAAAAxklEQVR4nGNgoDEQ2fXt34sp1qxIQoxwlvC105ePMsj6e+DW7//RHcFhQpWTimWzwaVP/Pzfq7jk9G7+e92AQ0743r/9lrg0avy9yoMigOygVxf5OHFpZGAQvzFdngOnrFr0m3wV3Joti14K4JZlOPxGGpuDoEDoAIzFgiYj7yzGwIfdSL6MB//+/VfHJiVstevv379v1dnQxPP9/Q0mff/77++TaiEMTcv+/vv69+/fA6XayKLQlMAZbq12i2HrBuxOGTQAANG5O9E4T8/PAAAAAElFTkSuQmCC\" alt=\"5\" title=\"5\"></img></td></tr><tr style=\"padding: 1px\"><td style=\"text-align: center; padding: 1px\">6<br/><img src=\"data:image/PNG;base64,iVBORw0KGgoAAAANSUhEUgAAABwAAAAcCAAAAABXZoBIAAABBklEQVR4nGNgGGSAEcaYoMW5cf5bHJI3VRkYXn7f+H7ZjyeYRty877bn379///792bM2xgVd8g4bk3Lqtn///v37/283uuQ/cwYGBmY187Zjz35CJVkQ0m8ZGBj+3mI4ycBg8RdDJyeGO5gQTA4Gdu9DV474sGNx7b+Z9af//fv3798ZAyyS//79e7zq3Lmv/7Zyo0te/vdthoEoAwND0K9/7eiS6kFKUFb3v32YtsKA57+ZmK6FAYTXMSWVpuI0U7rh7r+fcdhkmCT63/z79zsdxofGp6QMKxeDTqAtA8PXIxkP0fRs/PHr379//358u+uFJArVGcjq4fr4xt4bfy7idA31AAALcWsndUY5zgAAAABJRU5ErkJggg==\" alt=\"6\" title=\"6\"></img></td><td style=\"text-align: center; padding: 1px\">7<br/><img src=\"data:image/PNG;base64,iVBORw0KGgoAAAANSUhEUgAAABwAAAAcCAAAAABXZoBIAAAA9UlEQVR4nL3RMUtCURjG8UfyLjVYIEIQJIIQ0p2EggK/RbQYFNEYYp8gsC8RIiotbS1Ro0NBQnJBh+ZAFy9XocBoSP4NOtS956w+4/PjvOe8HGnxiRm6sqNU8lhS/F99uKLXyn5S0oPC2Nty5Kf0+KN6KzLv6aV5CY0lyxOWn6FssZ17pr7F9u6gbzF9AUUzFQYAo0HDidDqTcA8vY0w1oCh53kVHzIhy/UZV/OS4rUo6uLalSSlMeA8xS501sx28AadhJGyV99MbsPnjtppyW2/Q/fkTz37svXd+kTbm/ponQWReeefwNQ/LRhvc4cEJcsCi80v/fJnAHZAd9EAAAAASUVORK5CYII=\" alt=\"7\" title=\"7\"></img></td><td style=\"text-align: center; padding: 1px\">8<br/><img src=\"data:image/PNG;base64,iVBORw0KGgoAAAANSUhEUgAAABwAAAAcCAAAAABXZoBIAAABDklEQVR4nMWQPUvDYBSFn0qkBVGoIAQNWHC0s4uik26iuyDiKLpaJ/0J/gfRwbEVlA6CFjfFRluwk8WCk/hRzCI9r3VICmka597pcp77ce6FvsaZMcZsrcay+U9JMk3XtTuS1UlS9jAAQ1lG31uRxj1JkowkHQbaQIjXVOHlu1VjJToWyJeeso106vmmZyeQSy7kq8Dpb9TsclOSvMIiWFYUsuGf8lG0exCwFri9TcdRmHhsG2MeJuPp+PW9pJ14CGMlqZ78j65L2vXTRCANLgHFmdeRytwVfGW8UPn0hSSdv7n1QkOSMuFZzr5Cj5eOujYlDsLwLnKqM3tc/vFh9dLpNgTAZm5quw0nHv2LPxAgk+wRIRkVAAAAAElFTkSuQmCC\" alt=\"8\" title=\"8\"></img></td><td style=\"text-align: center; padding: 1px\">9<br/><img src=\"data:image/PNG;base64,iVBORw0KGgoAAAANSUhEUgAAABwAAAAcCAAAAABXZoBIAAAA7UlEQVR4nGNgGKzgzf+eYFxyuX///v39o78sGpuk/de/f//+/fv318ePdwu00WVf//27ZCtEwd9PU9Ekfb/8jeSwm31u9uxVfz+fsUSTffJ3BQMDgyADA6uCrCC6uU/+frh+fZsTdvdW/v379+/fq2JIQkxw1rnvDK92fNBIFcPUx8DAkOSnweD/9m8+doMZGBgY5v/9ZI9T0vrv3004JYW2/L2G21zdjx9scctu+LsOxmTCIq2PLumUyMvAwMDAwFqk93c1uuqsP5fl+Pj4ilf+/X0a06yn0Oj60Y7NIflv//79+/e+Mm6nUgsAABbBaBwm99YHAAAAAElFTkSuQmCC\" alt=\"9\" title=\"9\"></img></td><td style=\"text-align: center; padding: 1px\">10<br/><img src=\"data:image/PNG;base64,iVBORw0KGgoAAAANSUhEUgAAABwAAAAcCAAAAABXZoBIAAABBElEQVR4nGNgGGSAEcHU7rFr5Xiu/X3qAyzqtv/58+fP3z9/3irARFjgcmZu/xkYGBh+fmFlw9S44e/zvdc/XZyoLoPF1Mt/Txc/+fb3z31lLJJX/v39+/fvv79//9pgyBl8+gt10J9HKugOKuD6+/b0GQZGPz1GKbc7aDqDJ7pBGO1//mzAYisEiP35890Up+yMv/9XQFhMmJIr/v9jQJNk44WxOBkY5qMq5993UxrC0nz457gohjOuuDMwMNj1vvjzJwvdjX///rtlk/Hm/9+/f9/ookmyzfoDC6HnZhhutP4JkfzaZozFe5f//vnz589xCyxSDAzKkx99mZwuhFWOugAAjuZ8091Tim8AAAAASUVORK5CYII=\" alt=\"10\" title=\"10\"></img></td><td style=\"text-align: center; padding: 1px\">11<br/><img src=\"data:image/PNG;base64,iVBORw0KGgoAAAANSUhEUgAAABwAAAAcCAAAAABXZoBIAAAA8UlEQVR4nGNgGGSAEYnN38zH+J+BgYHBWVr9NrrCrH9woMrAwMDAwIIkqcvAwPD7NwP7p5UnnmBYEfHv32tjBgZ7uAATkqQ6A8O9ywwMB7E6zvLfv19SyALIOhUYGA49w+4pBoY1//79+XpuugJWya8Qb7xMwCa5HurJnxbYZPVsJPUY8v/9a4PykQOB4RIDw3OGuwwMolhcC1e+AZeTlR/9uyqJXYrX5/O/r7pYpZjNdv779yMcXUMQAwMDg/G6f////QpB1xL3a7pD681f//792+uIYZ4JxPcf9nmieA2STLjizCN2Xjj04B4uP1AVAADHkGJAC3LiKwAAAABJRU5ErkJggg==\" alt=\"11\" title=\"11\"></img></td></tr><tr style=\"padding: 1px\"><td style=\"text-align: center; padding: 1px\">12<br/><img src=\"data:image/PNG;base64,iVBORw0KGgoAAAANSUhEUgAAABwAAAAcCAAAAABXZoBIAAAA0klEQVR4nM2Puw4BURCGh+h4AOW+gU2ULusJ0EtWQa8SnkGtUCHRSSQikWiVin0CCp0lIvo//1kFcYk5ncI0kzPf+eYi8mcRe+T0tGCkfZFVqHwqgQDAoOWkvkzHFyl6Ejcii8lcsd3wrg8V1g0AAhjkvlA+IslRT117SACDz1ri49UIx3vN7NxP2ahtpe7PAF4rOhWRZkTWrPQInK3U3QGwqtl3+H5KtSyxpEVySEYk+azEXzAcG2OMMSdV9c4gsM3ojZcg0LdMTa958FMW+Lu4AfPlas9Gc0sBAAAAAElFTkSuQmCC\" alt=\"12\" title=\"12\"></img></td><td style=\"text-align: center; padding: 1px\">13<br/><img src=\"data:image/PNG;base64,iVBORw0KGgoAAAANSUhEUgAAABwAAAAcCAAAAABXZoBIAAAAzUlEQVR4nL2RoQ7CMBCGrwuPsFmQpJZZOknQPAQvgUdiATskIzxIA4oNHAkKCI4Edf+KGCGDtnZnevd/vevdlah5E9XRUX2Sx8d257qzYDAYLF0wUZJIbnBve9+IGb163Pp6cthNxP7iTtNgcPgjBbXGhRBF7Mtcg3GdOOFIElGiyyzyNhxmPPNCinSZ+6nK3XuqTD6Ljp9qzCsnsFBU9GzxU3N1BmPwr6YmW94MDAzsYVJ8/hQHZVecaAMDk4+/2xd1PKdoSqeXf44G7A2hAVVIQ5V6BQAAAABJRU5ErkJggg==\" alt=\"13\" title=\"13\"></img></td><td style=\"text-align: center; padding: 1px\">14<br/><img src=\"data:image/PNG;base64,iVBORw0KGgoAAAANSUhEUgAAABwAAAAcCAAAAABXZoBIAAAAxklEQVR4nGNgGMqAvXS/PU65aX8eq2GXyjh65s8Dbexyxt/+/P1zlhe7pNvfv7+//P17wEkYU0734Z8/3kHX//z986BcCl3y6Z8HZQwMwlkrHvz5c98Jzca/f84WMjAwMDAIy8jIcKJKXvv/9+/fT07sWJ2jdnTikbt//zRhdywDA4Pkpj9HuHDKyv75I4PgMaFK8jD++ItT57I/K3DKqf19aYdLLvLh3wQcUiwNf/9Ox6Wv4c/Libjk6vDY5/PzozUuOdIBADUsThQ8e+0vAAAAAElFTkSuQmCC\" alt=\"14\" title=\"14\"></img></td><td style=\"text-align: center; padding: 1px\">15<br/><img src=\"data:image/PNG;base64,iVBORw0KGgoAAAANSUhEUgAAABwAAAAcCAAAAABXZoBIAAAA6UlEQVR4nGNgGGggxobCZUTmGB1m3PhiB8Pja9g0Lvz379+/f/8+amKT/Pbv34NL//59UcAm+e/fCQE2ZWW4HAuSnBcDw5sPDHcRAsiSfIz/vzvdZGD4+gGLqUEQ9/x7Us+GRXbW1+8Q6fUQPiOqtLANAwNnkQkDEzb3MjAwMDC0/vuHU87oD8xYTODz5d9XbA5iYGCQm/Dz368MrFLOM9/9+/cwBFOC33Xm5T///r1ulUAWXVMjwq9VvOP+v3//vp2LkUTVcuvf+8f//v378X19jA6qDCMDg9cKZoZL13Zf+3cFlwcGDQAAdqVi/IuvUx0AAAAASUVORK5CYII=\" alt=\"15\" title=\"15\"></img></td><td style=\"text-align: center; padding: 1px\">16<br/><img src=\"data:image/PNG;base64,iVBORw0KGgoAAAANSUhEUgAAABwAAAAcCAAAAABXZoBIAAAAvElEQVR4nGNgGKyAtfjjv///QrFL9v/9+/bv30MoYkwwxoXTyTH4TJ77928WLjn/b39v8+GSfPj3hQSqCBMy599bPJLiz2zYcBgb8vjv379bS7QYscqqhR968/fv33JJHLprTvz9+/coLifzau77+7MclywD95G/Px1wyvL9+NsEYTFhSn5ZwaCDS6NO4d+/bjjkzN/+/ZYvgkWCQzdk3de/lxOwacq59/bv3xupglhNdD75ql2HG5dbqAcAC9dHb2pGKpcAAAAASUVORK5CYII=\" alt=\"16\" title=\"16\"></img></td><td style=\"text-align: center; padding: 1px\">17<br/><img src=\"data:image/PNG;base64,iVBORw0KGgoAAAANSUhEUgAAABwAAAAcCAAAAABXZoBIAAAAt0lEQVR4nGNgGHAQeXohbrnX9zVwSq76m4DMZUSR/HfXSNSagSP4XBWmxvL//+78+//v35M2CJ8FWdLx/7vfF46d2/rjIxZJBgbnW9+ReEyoki+Q5VAlGRmsGXBK7mXI0cJ0Jgys/PsAdyAIr/z7RAm33qn/puOWtP3wwx27gxgYGI6dZ0MXggPBnr+n2XDIxV/5h91BcvrV5/79PYfNK8y1b//+fXM2ghObPom//06FCuNyCh0BABTdPxj4UWfvAAAAAElFTkSuQmCC\" alt=\"17\" title=\"17\"></img></td></tr><tr style=\"padding: 1px\"><td style=\"text-align: center; padding: 1px\">18<br/><img src=\"data:image/PNG;base64,iVBORw0KGgoAAAANSUhEUgAAABwAAAAcCAAAAABXZoBIAAAAy0lEQVR4nGNgGGSAEY2vLG1+7isDg5B2N4bShkvv/kPAZUxzjv+HgVkMDAwMLCiSsy0YDh5jYDhzUf00ps7b//9rIHGZUCRFGF58wCm5nEHCEKfkKQYGJ0zLoIDn5v+NOCUZzv7/YYTLWIZ/DOw+OHUG/f+/A6fO5yg8VEm+RQwMT3EYKrLn//8ZXNjlUt7+/79FE4uEoEr9ym//f2zgwJCxiN939/////93mmHR9ur///8fL24wZ0YTZ2RgYGBQSr9498NNHK6kPgAA5q9N9/cVdyIAAAAASUVORK5CYII=\" alt=\"18\" title=\"18\"></img></td><td style=\"text-align: center; padding: 1px\">19<br/><img src=\"data:image/PNG;base64,iVBORw0KGgoAAAANSUhEUgAAABwAAAAcCAAAAABXZoBIAAAA4klEQVR4nGNgGNQg9P+/6RwILiOCmS9/t3/RnYDftti0CR75+zfGbsUJ7IZm/T7x+t1mG6xyfFdWMIhLIoswIZiSmqcZvpRf6hfEprPor5vhrSsLXlyWxSpZ/mqPOIP8o8symJL5f//ekGBgYJB5uQZTUvrvDYhzYt+IYspm5EJolX/lEAYLkuQMGOM/K4ZX4ED05yYsolCw+gJuObPvcagCWpmsMKbLtcWcqJLdf02hrMhnTehG8Udf2uLEysDAoHJvAye6JAODyo7fJyrrdzxeI4/VIR6n/v7N9WPD7VJqAQAB7UflC5//qQAAAABJRU5ErkJggg==\" alt=\"19\" title=\"19\"></img></td><td style=\"text-align: center; padding: 1px\">20<br/><img src=\"data:image/PNG;base64,iVBORw0KGgoAAAANSUhEUgAAABwAAAAcCAAAAABXZoBIAAAA5UlEQVR4nGNgGKpAbT+aAAsS28FutvZVbYZtfd8wNXJe/wcBPVhMFfj379+/j6/+/ftgh2msA8PXOa1//7No3xPB0Gj89Z8ng7WXAVa3Bvz7Z7njx78vRayYcuxHoM75N58dQ7Lo/79//55NnLj1379CDMmmf79PFasxMDDM+ncQQ/Lav2NQ84/+ckKXTPVnhrJcfgVjdTEEPC2HMlgwpFjS+R7h1Nf177wEDimejr8ffLFLaeXe/rfPFFOYj4GVm/fkv+cZzJh6qs4vPPvv3+0iDWRBRigtsFnw3Jd/de9wupM0AAB/2WAVYXWDZgAAAABJRU5ErkJggg==\" alt=\"20\" title=\"20\"></img></td><td style=\"text-align: center; padding: 1px\">21<br/><img src=\"data:image/PNG;base64,iVBORw0KGgoAAAANSUhEUgAAABwAAAAcCAAAAABXZoBIAAAAxklEQVR4nGNgGGCgMu+hMk7Jk///HUfmM6FKMpzEKfmW4cUsXKbK3/83EUUAWaeBPMOXWBnsGmXP/vv3798ZT6yS9f/+/fv3798PbyzGSqcwMLwLNzvMJoBFo+vXV6HaDAw+/w5gM9Zcl4GBgUH/3z24CAtCEuJ/aRxeYWBgYGBIZ1iCU1LFhOEmNjsZGBgYGDr/XVHEJWf8+JcPLjn1J/+OYRNnC+RkMFj775YSNsnEf9e7nv/75YbdyPv//v2bqYDTpfQCAGfPPr/PjP+OAAAAAElFTkSuQmCC\" alt=\"21\" title=\"21\"></img></td><td style=\"text-align: center; padding: 1px\">22<br/><img src=\"data:image/PNG;base64,iVBORw0KGgoAAAANSUhEUgAAABwAAAAcCAAAAABXZoBIAAAA90lEQVR4nNXPv0sCcRgG8OccFEKnQ5BwzbWQBqXN0cXFE1uL/oBcnJzbamhoVGxwFfHWAsXGqMYo4rTlwFudnodrKYq+94XW3vH5vLw/gP9Znb6kWN0k2xNJinND3PZipXAeUmHdwBOSw0pmQl2ZMwOSwBl5kzVxKQktSZ3TtoGFg9EhPJLiJgiuq5+x891RO09HToxM2Vkf+ebNRQDYakYMK0nfAgDKEZtWhKfAjk98AwCkEmw7j0sr+nksbUMb4svO77B1UQKA3G0s8xOPzyXA9alx2sDaA1/vFo/k+37CMndKkVzvfgXOT80dozdYze5tp/69PgCmB2rmAADSCgAAAABJRU5ErkJggg==\" alt=\"22\" title=\"22\"></img></td><td style=\"text-align: center; padding: 1px\">23<br/><img src=\"data:image/PNG;base64,iVBORw0KGgoAAAANSUhEUgAAABwAAAAcCAAAAABXZoBIAAABEElEQVR4nGNgoAlgxC4sJsVwAbuMbPySB/82YpEo7N349cf/f38bmDDlhO78+/fv379/rQwMDAwMLKiSn7e895FkkGC6isuN6lnf/+VjulxAQICFIebAv2/dwhiSef/+/dux/OW/19tlMc3rhjjmfSpMANnFf94zPHjIwLBpNlanKJmIiKz4dwqXSxkYwv991IKxIf70DNzP8H0DAwMDA8M/Bka08D7079+/v50KEtIK7Nv/HdfmRZHcDnHn28//jj74dzVWDkXyzL9Di1/9gKj4nofmisB/n0sYrIJn/Pv370YVuhPZj/37fPv27U///p21weKDwn///v37cHQDSqDCnM2uzsDA8PUuDs8PFgAAADR5OIGrEewAAAAASUVORK5CYII=\" alt=\"23\" title=\"23\"></img></td></tr><tr style=\"padding: 1px\"><td style=\"text-align: center; padding: 1px\">24<br/><img src=\"data:image/PNG;base64,iVBORw0KGgoAAAANSUhEUgAAABwAAAAcCAAAAABXZoBIAAAAx0lEQVR4nGNgGNyg8d//55pYxPXKnmz98efv37+XsUjO/gsF1zDlkn7DJBdgSjp+gUi9bOHEYuxWiOQdGWwOTYaaeloWi6TQY5gsXC8TXPLdnq8Mx3e8Y2AwSsFmsKEVD4PO9Jd/v+Vik2VgYGBgcH319zFOSYaVcEkmDDkFazgTQ5KzUBKnmRwT//79ewlD2HZOkbS0zea/f//+CseQXA8L+L/9mAY+gUr9vqOBKfkQIvenHSHECGcZeDNoiCsueD4Pp2OpBQBxEXsIymZ+ywAAAABJRU5ErkJggg==\" alt=\"24\" title=\"24\"></img></td><td style=\"text-align: center; padding: 1px\">25<br/><img src=\"data:image/PNG;base64,iVBORw0KGgoAAAANSUhEUgAAABwAAAAcCAAAAABXZoBIAAABBklEQVR4nM3SL0gDURwH8K/gyhZU2KonjBWL2TCNum5Us8ItLJkMVouXx8BuGJarKtjPMEEO3IUFcbgNDLry/fIM9wxv76LBX/rxPjze788D/nNstS/0sFJIrXRMUteF9k6R1F3Fo6Voyhy552FEkmL/SnxxZaN1OyXJ7LK8Kc6PHDyek+ToMIvjoTgK3KspSU6S/M3Jjos9KYkyGUlGutl1sFyvVxHbasnZen68DAD4HgL4APD21TEnzbWS181qeB8GABDpzMe2TQ6M9hexwXObDdjxMduuAMDp8+KUgAbFLoBa4o0QqD3ZPmWUehVVB/zdTN9DBI+fOb42fYSdUlj8Vf4qfgDxRqaiiWhpbAAAAABJRU5ErkJggg==\" alt=\"25\" title=\"25\"></img></td><td style=\"text-align: center; padding: 1px\">26<br/><img src=\"data:image/PNG;base64,iVBORw0KGgoAAAANSUhEUgAAABwAAAAcCAAAAABXZoBIAAAA6klEQVR4nGNgGGSAEcY4ZMO4Yz/Dg1XYFLn//Pv379+/P169erWMFV3S5y8CNMAEmRDyj2AMMRiDBS730l2HgYFBKp+B4TWmJKcCsxMDA8Patk8YDlK9B7PxG0IQZudtuI3sW5wwHLT3MYzlGQJjwQOBQSHRnIHhNoMqk/Pb8P0Y1kIB25O/zzVwSTLofP3rilOSYdHfR9qoDkICxxikFdAkI2fCWOaY6tf8nqrPwMDAYHznz9+/3uiSf/8+87WPPP7s79+/qwXQJN3ewOPsMLocA4PjZ6jcXkcsrrRZ//fv378/S/D4kioAALAnaNemxB+EAAAAAElFTkSuQmCC\" alt=\"26\" title=\"26\"></img></td><td style=\"text-align: center; padding: 1px\">27<br/><img src=\"data:image/PNG;base64,iVBORw0KGgoAAAANSUhEUgAAABwAAAAcCAAAAABXZoBIAAABCUlEQVR4nM3QvyvEcRzH8dfpOr9ikPoex/AdTslGGAwXixtkwqSUgW6x3D9gMDGfwXa7VUnpBhkYlDKI4dPXr5LOj6grvs/O8CHl8xkN3sun3o9en97vt/SPa7lcrx/7aeAmBuIpr90CwJEPLwG2r3mfdm3hA8a7Uvsw41h/BGsppc+ojji4BaZbhQhMr4MvMJrZewMwRRejYNaOy13Pd7fBPqsXc/cJSTqtPARLv6OZRk288rjYoQ1qnm00tj4sqbXMoQf7WiRJIdVOx9rPS80WWbGd5A9OZrOJYk16Ohl0fw2vYCfX5E8aEyTz+d2ozTOOpIOvM8QFD4absb2RPztfAp6H/PhX9Qk9jH8Ls7raxwAAAABJRU5ErkJggg==\" alt=\"27\" title=\"27\"></img></td><td style=\"text-align: center; padding: 1px\">28<br/><img src=\"data:image/PNG;base64,iVBORw0KGgoAAAANSUhEUgAAABwAAAAcCAAAAABXZoBIAAABBElEQVR4nGNgGGSAEc4q8HJh3HqFgYHhV98HDGXn/8LAE16oEBNMjp8LrkzSG8pggYlYqkAZD2982o8uycDAMGsGAwMDw+tncAEmJMlXFy9eVClWwuJstz9/WxhYSn///emERfb83999V/7+/fv3hzs2SRj4ZIFh5xOoxUf/c9cKouu0+/r379/XPaoMVX//umGYG3b278EqBgYGnr9/V2LayiPOyQCR3AMRQA6EL18YGBgYGNjgAnAH5U+RhzBktmEYqfz8741sBjkDg8nf/v79koQqqfH2798/2x9DPLoeXWsCPAz+frFBl+TyOQyVOxmA6REGdr/dl/7ebA/mxCJHVQAAUEJ9U3ZUu9YAAAAASUVORK5CYII=\" alt=\"28\" title=\"28\"></img></td><td style=\"text-align: center; padding: 1px\">29<br/><img src=\"data:image/PNG;base64,iVBORw0KGgoAAAANSUhEUgAAABwAAAAcCAAAAABXZoBIAAABC0lEQVR4nGNgGLSA3Wn//79/Z/JilZv258/fP3/+dGGTnPUHIvndCVNu+t8/f/74ycg8+bsDQ47r6f+/h3gZGBiK/h1FiDIxMDAwsAftFv93M/AzAwODxP//aPpK//z58yWQgYGBQfbV3yNoOiUYGBjC1zMwMBifFULWxMLAwMDwhfG76nMGBgYGV2EGRnbht6jOCbGAMOL+/Pn750G5FDa/MqitWHHjz58/C2SwyjIwCKQ/+YPFr3Aw/d9pdtyym/404Zbs/fNKDE3I5+HiCAjr458/6E7y+fXv741of1mn/f/+nsOIVu8n0Gj7+ycW0y75wFcQyVUQjYyo0tYBjN6qs7fv/o7btZQDAN5EcjLLr4a6AAAAAElFTkSuQmCC\" alt=\"29\" title=\"29\"></img></td></tr><tr style=\"padding: 1px\"><td style=\"text-align: center; padding: 1px\">30<br/><img src=\"data:image/PNG;base64,iVBORw0KGgoAAAANSUhEUgAAABwAAAAcCAAAAABXZoBIAAAA90lEQVR4nM2RPUuCYRSG7/JjEFwKF2mMBEEIIhokiGoJGiTJ3aVwsY+/ITTqSyBtETQGErQ0NEU0ubr4kmgaROAklzUYCT7HrcEz3TwX5+E650gzXJGz4fD7OWCyuSoAIRNeA0Bu/DL/lzKH6ld3m1ox+vZ8HhNa8jlw2XkXTqUabDisOICHUMwbwNfJpO8t/VZEyZHS5QTcqmUlJWnUr+r0UtYw0f0FKZjnJmrOKkkxn/WpUDtURmG8BAWOf8OHFl1Y9qb/Fv7spSVJ8caRSy/obErSqiW09ka7FA5mnkzbbeD1BdrLBox7LYD3tC1VuIN79y7/Wz92hWR71WVW1gAAAABJRU5ErkJggg==\" alt=\"30\" title=\"30\"></img></td><td style=\"text-align: center; padding: 1px\">31<br/><img src=\"data:image/PNG;base64,iVBORw0KGgoAAAANSUhEUgAAABwAAAAcCAAAAABXZoBIAAABI0lEQVR4nMXQPUjDUBQF4FtwaSAgFIQWgy7NJkI7Obm5WMzi2lEQnXRwEDoI3URUHAIuLi4Vt+4VJYLgX7dMCpU6mEVrpYVwTuOQkKaJrnqn994H9517Rf67ZvYuPJKGkpT1WgsgAC7Hrfrhg+UksPjSBYjT3aX0EdrpUTQ9ku+LImN1cjPe9frJOtRFcnXA1IO3VKhZo5y6L2SnvEbJTYQ1e34gdCvJGRfIAb9aryQ/Z+NYA/rNLVFO7B/m1LdRUPMikrlkIxNXZTI4zN9iX03+G9QdHyKozk1HbIUoRxqeo10Kb6s9vuWHOG4D7k3AuWfQivQxyM6A5I6macdkpziS04LtbwcgzmIr2HAQYnMYNFj8xFrFEznw5PHKdX4d8S/qG5z+nuLpVDHTAAAAAElFTkSuQmCC\" alt=\"31\" title=\"31\"></img></td><td style=\"text-align: center; padding: 1px\">32<br/><img src=\"data:image/PNG;base64,iVBORw0KGgoAAAANSUhEUgAAABwAAAAcCAAAAABXZoBIAAAA50lEQVR4nGNgoB5gbjjySwmHHEvVx45GGBtNTsCb1/YSjMOIIiVho/anC4eR/rv3lOJyireOQjiKABMSW/zNUgtfXDqTJD79/7WgHLskJ/O+/3///izDodfhyN+/f++F45C1duvZ8/vfWqhLGNGlFbWtPf84f8TlLgb7hVAG3Cs8hlwwJtd+NNU80+6pQpk6b7rRJGP36kFZhqW3DFDl5M592CbAwMDA6st77IwkJ1QUGmU/+XndL/5k6LXxPvxNWPo5mrHq9/7+/fv377+/b9L04OkA7k+OBBkGE9c/QZYrruD04+AGAJcURYeHMbJ8AAAAAElFTkSuQmCC\" alt=\"32\" title=\"32\"></img></td><td style=\"text-align: center; padding: 1px\">33<br/><img src=\"data:image/PNG;base64,iVBORw0KGgoAAAANSUhEUgAAABwAAAAcCAAAAABXZoBIAAAA3UlEQVR4nGNgoAtgjLj6/38ydjmBOX//fnk6E6ucyNG/f4/YSjdikxM79PfXCnEGBjlskuv+/s3A5Zj073/PMSMLMCGxvdgYvrEx45D8ysBg+WWnLXZjxeIOXvn79403Jy57A5/+/WuKS5Kh8O/ffpySwnf/rsLmIAYGBgaG3x9w6mNgmPT3bx4uOeWLf7/pIwukhvHAmGI///5dhqLa9W+hEwcDAwMDQ8q1v3/3iKBISuz5+/d8ZEhI/smvf//uF0aziKNmz18oOMKP6Q42waaTf//+vSiDM+gGBQAA7eJU+dU6XNsAAAAASUVORK5CYII=\" alt=\"33\" title=\"33\"></img></td><td></td><td></td></tr></table>"
            ]
          },
          "metadata": {}
        }
      ],
      "source": [
        "images = [array_to_image(new_test_x[index]) for index in incorrect]\n",
        "gallery(images)"
      ]
    },
    {
      "cell_type": "markdown",
      "metadata": {
        "id": "Zkv9AeCqUBN8"
      },
      "source": [
        "After seeing which digits were classified incorrectly, consider **why** this may have occurred and **how** the percentages that you inputted would have this effect."
      ]
    },
    {
      "cell_type": "markdown",
      "metadata": {
        "id": "m5yUzT88wvbn"
      },
      "source": [
        "*write observations here*"
      ]
    },
    {
      "cell_type": "markdown",
      "metadata": {
        "id": "VClpaPuxhFCV"
      },
      "source": [
        "###Changing Dataset Composition"
      ]
    },
    {
      "cell_type": "markdown",
      "metadata": {
        "id": "TrQSwWuKpJLp"
      },
      "source": [
        "Now that we have shown how this network performs with an equal number of each digit in the dataset, we want to show how the performance and accuracy of the network changes when we manipulate the percentages in the dataset.\n",
        "\n",
        "**Return to where you entered the percentages of each digit in the training dataset and change the percentages from 50/50 to 70/30.**\n",
        "\n",
        "**Rerun all the code blocks from there (including the testing summary).**\n",
        "\n",
        "Describe the differences you saw in the results between the 50/50 split and the 70/30 split."
      ]
    },
    {
      "cell_type": "markdown",
      "metadata": {
        "id": "jkOV70V92MG7"
      },
      "source": [
        "*write observations here*"
      ]
    },
    {
      "cell_type": "markdown",
      "metadata": {
        "id": "JdMZcsGhrrR1"
      },
      "source": [
        "After you finish training your network with the first manipulated percentages, experiment with the percentages some more.\n",
        "\n",
        "How imbalanced does the training set have to be before the network is unable to distinguish between the two digits?"
      ]
    },
    {
      "cell_type": "markdown",
      "metadata": {
        "id": "vLFyonP0xUwf"
      },
      "source": [
        "*write answer here*"
      ]
    },
    {
      "cell_type": "markdown",
      "source": [
        "Also feel free to explore other digits besides 3 vs 5. To do this go back to the section where you set the digits to explore, and then rerun all of the code cells below that."
      ],
      "metadata": {
        "id": "2baQZImGkoxc"
      }
    },
    {
      "cell_type": "markdown",
      "source": [
        "*write any additional observations here*"
      ],
      "metadata": {
        "id": "_py-OICBkobR"
      }
    },
    {
      "cell_type": "markdown",
      "metadata": {
        "id": "Ud4JdXQg3qTU"
      },
      "source": [
        "After finishing testing the different percentages that you can use to show varying levels of efficacy in the network, consider the potential broader implications of dataset composition before moving on to the next section.\n",
        "\n",
        "* How could having a specific subsection of data that an AI is trained on being underrepresented have very real world consequences?\n",
        "* What possible issues and biases might arise with the human decision making that goes into the creation of datasets that are used to train these networks?"
      ]
    },
    {
      "cell_type": "markdown",
      "metadata": {
        "id": "4Vy_cB1Z3r1a"
      },
      "source": [
        "*write answer here*"
      ]
    },
    {
      "cell_type": "markdown",
      "metadata": {
        "id": "rZLQldMkMpaB"
      },
      "source": [
        "## Implications of Dataset Composition\n",
        "We have explored how manipulating a dataset can change a network's efficacy in a categorization task. Datasets, and thus their composition, is an essential component of neural networks. Below, we will explore how bias in a dataset's composition can lead to negative impacts on marginalized communities."
      ]
    },
    {
      "cell_type": "markdown",
      "metadata": {
        "id": "j2dLUABn99b6"
      },
      "source": [
        "Within the past couple of years, bias within algorithms and AI has begun to receive attention. Many computer scientists and researchers have begun to recognize inherent bias, known also as \"algorithmic prejudices,\" present in algorithms, software, machine learning, artificial intelligence, and nearly every facet of computer science (see reference [3]). Within the context of datasets that are used for the training of neural networks, bias is pervasive. This bias becomes particularly concerning as algorithms are beginning to take over human responsibilities (see reference [2]). For example, algorithms are now being used by US law enforcement for \"predictive justice\"(see reference [3]). These tools \"calculate the probability that a person will not show up for trial as scheduled or commit future crimes\"(see reference [3]). As these algorithms become increasingly present in our society, we must evaluate and consider their inherent biases."
      ]
    },
    {
      "cell_type": "markdown",
      "metadata": {
        "id": "j7rFF1WhBCue"
      },
      "source": [
        "A major contributor to the current movement exploring and combatting biases in algorithms is Joy Buolamwini. As a graduate student at MIT, Buolamwini co-wrote the paper \"Gender Shades: Intersectional Accuracy Disparities in Commercial Gender Classification\" along with Timmit Gebru which explores the ways in which machine learning algorithms can discriminate based on classes like race and gender (see reference [1]). As Buolamwini describes in her Ted Talk, she was inspired to address bias in machine learning algorithms when as an undergraduate student at Georgia Tech a robot that was supposed to recognize faces could not detect her's, as a black woman. Among other findings, this paper revealed that while lighter-skinned males had an extremely low error rate of 0.8% while darker-skinned females had a significantly higher error rate of up to 34.7% (see reference [1])."
      ]
    },
    {
      "cell_type": "markdown",
      "metadata": {
        "id": "BFsKqbWBBG5l"
      },
      "source": [
        "### Buolamwini's Work"
      ]
    },
    {
      "cell_type": "markdown",
      "metadata": {
        "id": "D8B-Nj2iJeuD"
      },
      "source": [
        "In 2017, Buolamwini gave a Ted Talk demonstrating the discriminatory tendencies of widely used and accepted training sets and algorithms (see reference [2]). She refers to the concept of the \"coded gaze\" as algorithmic bias in the field of computer science. Within her talk, she dives deeper into the harms and discriminatory practices perpetrated by these training sets which are often severely lacking diversity. These practices include predictive policing. A study from the Georgetown Law Center showed that these police systems contain 1 in 2 adults in the US in a criminal facial recognition network (see reference [4]). These networks used by law enforcement have not been audited for accuracy and can result in misidentification of criminals, having a potentially serious consequence on the victim of this misidentification. With such serious stakes, it is essential to consider and address the biases of these algorithms and networks."
      ]
    },
    {
      "cell_type": "markdown",
      "metadata": {
        "id": "FS2tQbRTmuDk"
      },
      "source": [
        "To see the Georgetown Law Center's full report on law enforcement's use of facial recognition and recommendations, please access this link: [Perpetual Line Up](https://www.perpetuallineup.org/)."
      ]
    },
    {
      "cell_type": "markdown",
      "metadata": {
        "id": "t89MgWox8_Cw"
      },
      "source": [
        "Click here to watch Buolamwini's Ted Talk!\n",
        "\n",
        "[![IMAGE ALT TEXT](http://img.youtube.com/vi/UG_X_7g63rY/0.jpg)](https://www.youtube.com/watch?v=UG_X_7g63rY \"How I'm fighting bias in algorithms\")"
      ]
    },
    {
      "cell_type": "markdown",
      "metadata": {
        "id": "KE5-cmlYOJax"
      },
      "source": [
        "#### Gender Shades"
      ]
    },
    {
      "cell_type": "markdown",
      "metadata": {
        "id": "0KTL9vzSOP3w"
      },
      "source": [
        "\"Gender Shades\" tested 3 commercial gender classification systems (Microsoft, IBM, Face++) using a dataset specifically designed to determine the potential biases present in these systems (see reference [1]). The dataset (Pilot Parliaments Benchmark), specifically created for this study, was composed of faces of 1270 individuals from three African countries and three European countries. The individuals were each given skin type labels per the Fitzpatrick six-point labeling system and given gender labels, either female or male given the binary nature of the evaluation systems."
      ]
    },
    {
      "cell_type": "markdown",
      "metadata": {
        "id": "Q2rG1Jkrpkdq"
      },
      "source": [
        "In evaluation of these classifiers, there were several main takeaways. Firstly, \"male subjects were more accurately classified than female subjects\"(reference [1] pg. 8). Additionally, lighter-skinned subjects were more accurately classified than those with darker skin. Further, all classifiers performed worst on darker female subjects (reference [1] pg. 8). Here is the complete summarized key findings as outlined in the study:\n",
        "\n",
        "* All classifiers perform better on male faces\n",
        "than female faces (8.1% − 20.6% difference\n",
        "in error rate)\n",
        "\n",
        "* All classifiers perform better on lighter faces\n",
        "than darker faces (11.8% − 19.2% difference\n",
        "in error rate)\n",
        "\n",
        "* All classifiers perform worst on darker female\n",
        "faces (20.8% − 34.7% error rate)\n",
        "\n",
        "* Microsoft and IBM classifiers perform best on lighter male faces (error rates of 0.0% and 0.3% respectively)\n",
        "\n",
        "* Face++ classifiers perform best on darker\n",
        "male faces (0.7% error rate)\n",
        "\n",
        "* The maximum difference in error rate between the best and worst classified groups is 34.4%\n",
        "\n",
        "(reference [1] pg. 8)."
      ]
    },
    {
      "cell_type": "markdown",
      "metadata": {
        "id": "XtKuFsp3Wcz-"
      },
      "source": [
        "Further, this paper emphasizes the complete inability of these commercial systems to recognize gender minorities as they are completely excluded from datasets and classification options. Buolamwini notes, \"The companies provide no documentation to clarify if their gender classification systems which provide sex labels are classifying gender identity or biological sex\"(reference [1] pg. 6). As she emphasizes, \"This reductionist view of gender does not adequately capture the complexities of gender or address trangender identities\"(reference [1] pg. 6). When using these systems it is important to consider the erasure they create of people of non binary gender identities."
      ]
    },
    {
      "cell_type": "markdown",
      "metadata": {
        "id": "ynHyOYb3tO2H"
      },
      "source": [
        "Buolamwini and Gerbru's study \"Gender Shades\" brought to the forefront the inherent biases present in well-established commercial classifiers and marginalization of those with intersectional identities, particularly darker skinned women, in these algorithms. The consequences of these prejudices have the potential to only further harm people of intersectional minority identities who are already marginalized in our society. As companies continue to develop these tools, Buolamwini calls for \"inclusive benchmark datasets and subgroup accuracy reports\" which will be \"necessary to increase transparency and accountability in artificial intelligence\"(reference [1] pg. 12). Continuing into the development of these tools, there will need to be increased \"demographic and phenotypic transparency and accountability in artificial intelligence\"(reference [1] pg. 12)."
      ]
    },
    {
      "cell_type": "markdown",
      "metadata": {
        "id": "UNEIAPryL3Ir"
      },
      "source": [
        "To have a more comprehensive understanding of Buolamwini and her co-collabrator Timmit Gebru's research \"Gender Shades,\" you can read the full paper here:  [Gender Shades: Intersectional Accuracy Disparities in Commercial Gender Classification](https://proceedings.mlr.press/v81/buolamwini18a/buolamwini18a.pdf)."
      ]
    },
    {
      "cell_type": "markdown",
      "metadata": {
        "id": "XUxhDr-tyhsd"
      },
      "source": [
        "###Reflect"
      ]
    },
    {
      "cell_type": "markdown",
      "metadata": {
        "id": "eRu4xvL_ymAO"
      },
      "source": [
        "After reading more about the biases present in machine learning algorithms, **how do you see your role as a member of a modern society in which the presence of these algorithms is only increasing? What are ways in which we can combat these biases?**"
      ]
    },
    {
      "cell_type": "markdown",
      "metadata": {
        "id": "XmCFNjW111hN"
      },
      "source": [
        "*write answer here*"
      ]
    },
    {
      "cell_type": "markdown",
      "metadata": {
        "id": "upbZADR41UtC"
      },
      "source": [
        "Go back to the data manipulation section of this notebook and take note of the accuracy percentage you recorded when either digit1s or digit2s were overrepresented (particularly for when the minority digit represented 7% or less of the dataset). **Why is accuracy alone not always a reliable parameter? What are the fallacies underlying reporting the \"accuracy\" of a system? How could this number impact systems' usage and our trust in them?** Think about Buolamwini's findings. Contextualize your answer accordingly."
      ]
    },
    {
      "cell_type": "markdown",
      "metadata": {
        "id": "4-MDz0om1z8Q"
      },
      "source": [
        "*write answer here*"
      ]
    },
    {
      "cell_type": "markdown",
      "metadata": {
        "id": "ons3DJxzM2m6"
      },
      "source": [
        "## Navigating Biases\n",
        "Considering ways in which we can work towards a more inclusive computing community."
      ]
    },
    {
      "cell_type": "markdown",
      "metadata": {
        "id": "vqlxGkqDNGp_"
      },
      "source": [
        "As we work towards a more inclusive and less prejudiced computer science sphere, we must consider these issues, recognize them in our processes, and change our practices. A major component of changing the presence of these biases and their impact is focusing on inclusive coding practices. As Buolamwini outlines in her Ted Talk, we must consider who codes, how we code, and why we code (see reference [2]). Having a more diverse community of coders that consider and prioritize the needs and experiences of marginalized communities is an important step in creating a more inclusive field and algorithms."
      ]
    },
    {
      "cell_type": "markdown",
      "metadata": {
        "id": "sT0MZd41gOUQ"
      },
      "source": [
        "Within the Georgetown Law Center report, the writers emphasize a need for significant legislative and regulatory change (see reference [4]). Law enforcement's use of facial recognition has the potential to do real damage, if it has not already impacted countless individuals. The report suggests legislation should be passed to regulate these technologies including requiring reasonable suspicion to use facial recognition, only use mug shot databases, court approval to use ID photos and license photos, requiring probable cause to use surveillance footage, completely ban tracking individuals for free speech issues, and increase accuracy testing. Further, they suggest a complete reform to the FBI facial recognition systems. They argue that these systems must be transparent and held publicly accountable, releasing statistics relating to arrest numbers. Importantly, they call for testing of racial bias within these systems and datasets that reflect the diversity of the American population. All of these reforms are important to implement if we want to mitigate the potential harm that these law enforcement agencies can perpetuate against already vulnerable communities."
      ]
    },
    {
      "cell_type": "markdown",
      "metadata": {
        "id": "zas1mHMJfhkL"
      },
      "source": [
        "As Buolamwini emphasizes at the end of her Ted Talk, we must create \"a world where technology works for all of us, not just some of us, a world where we value inclusion and center social change.\" To finish her talk, she poses a question: \"Will you join me in the fight?\" **After reading through this computational essay, consider why it is important to join this \"fight\"? What are your personal motivations behind creating a more inclusive computing space and why is it important?**"
      ]
    },
    {
      "cell_type": "markdown",
      "metadata": {
        "id": "XNWsYkB7gJSo"
      },
      "source": [
        "*write answer here*"
      ]
    },
    {
      "cell_type": "markdown",
      "metadata": {
        "id": "k7baTbHH5lIl"
      },
      "source": [
        "## References\n"
      ]
    },
    {
      "cell_type": "markdown",
      "metadata": {
        "id": "vW9gND485pXx"
      },
      "source": [
        "[1] J. Buolamwini, “Gender Shades: Intersectional Accuracy Disparities in Commercial Gender Classification,” MIT Media Lab. Accessed: Jul. 23, 2024. [Online]. Available: https://www.media.mit.edu/publications/gender-shades-intersectional-accuracy-disparities-in-commercial-gender-classification/\n",
        "\n",
        "[2] J. Buolamwini, How I’m fighting bias in algorithms, (1489075733). Accessed: Jul. 23, 2024. [Online Video]. Available: https://www.ted.com/talks/joy_buolamwini_how_i_m_fighting_bias_in_algorithms\n",
        "\n",
        "[3] M. S. Cataleta, “Humane Artificial Intelligence: The Fragility of Human Rights Facing AI,” East-West Center, 2020. Accessed: Jul. 23, 2024. [Online]. Available: https://www.jstor.org/stable/resrep25514\n",
        "\n",
        "[4] “The Perpetual Line-Up,” Perpetual Line Up. Accessed: Jul. 23, 2024. [Online]. Available: https://www.perpetuallineup.org/"
      ]
    }
  ],
  "metadata": {
    "colab": {
      "collapsed_sections": [
        "rZLQldMkMpaB",
        "ons3DJxzM2m6",
        "k7baTbHH5lIl"
      ],
      "provenance": []
    },
    "kernelspec": {
      "display_name": "Python 3 (ipykernel)",
      "language": "python",
      "name": "python3"
    },
    "language_info": {
      "codemirror_mode": {
        "name": "ipython",
        "version": 3
      },
      "file_extension": ".py",
      "mimetype": "text/x-python",
      "name": "python",
      "nbconvert_exporter": "python",
      "pygments_lexer": "ipython3",
      "version": "3.10.12"
    }
  },
  "nbformat": 4,
  "nbformat_minor": 0
}