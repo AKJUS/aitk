{
 "cells": [
  {
   "cell_type": "markdown",
   "metadata": {
    "id": "V6THckODUGu6"
   },
   "source": [
    "# Computational Essays on Artificial Intelligence\n",
    "## Evolving Robot Controller for Coverage\n",
    "\n",
    "In this essay, we explore the Genetic Algorithm to evolve a Robot control network.\n",
    "\n",
    "1. A `chromosome` will be composed of a series of `genes`, each representing a weight in a neural network\n",
    "2. A `population` of chromosomes is generated randomly\n",
    "3. For a number of generations the chromosomes are `mutated` by a small amount"
   ]
  },
  {
   "cell_type": "markdown",
   "metadata": {
    "id": "qu0oA5NWUGu-"
   },
   "source": [
    "### 1. Setup"
   ]
  },
  {
   "cell_type": "markdown",
   "metadata": {},
   "source": [
    "<div class=\"alert alert-block alert-info\">\n",
    "    <b>Note</b>: if running this notebook on Google Colab, you will need to install the required Python packages each time you start a session. Otherwise, you only need to install the packages once.\n",
    "</div>"
   ]
  },
  {
   "cell_type": "markdown",
   "metadata": {},
   "source": [
    "To install the required Python packages:"
   ]
  },
  {
   "cell_type": "code",
   "execution_count": 1,
   "metadata": {
    "colab": {
     "base_uri": "https://localhost:8080/"
    },
    "id": "baekK6oGUGu9",
    "outputId": "df8356cd-2624-4698-f439-051aed1c82d3"
   },
   "outputs": [
    {
     "name": "stdout",
     "output_type": "stream",
     "text": [
      "Note: you may need to restart the kernel to use updated packages.\n"
     ]
    }
   ],
   "source": [
    "%pip install aitk --upgrade --quiet"
   ]
  },
  {
   "cell_type": "markdown",
   "metadata": {
    "id": "1X8RdoEyUGu-"
   },
   "source": [
    "For this demonstration, we will need:\n",
    "\n",
    "* `GeneticAlgorithm` defined in aitk.algorithms.ga\n",
    "* `World`, `Scribbler`, `RangeSensor` from aitk.robots \n",
    "* `SimpleNetwork` from aitk.networks\n",
    "* a few other support functions"
   ]
  },
  {
   "cell_type": "markdown",
   "metadata": {
    "id": "Fd1XrIsHUGu_"
   },
   "source": [
    "We import everything need in this cell:"
   ]
  },
  {
   "cell_type": "code",
   "execution_count": 1,
   "metadata": {
    "id": "AIR4jwkRUGu_"
   },
   "outputs": [],
   "source": [
    "from aitk.algorithms.ga import GeneticAlgorithm\n",
    "from aitk.robots import World, Scribbler, RangeSensor\n",
    "from aitk.networks import SimpleNetwork\n",
    "from aitk.robots.utils import distance\n",
    "import random"
   ]
  },
  {
   "cell_type": "markdown",
   "metadata": {},
   "source": [
    "## 2. The Genetic Algorithm"
   ]
  },
  {
   "cell_type": "markdown",
   "metadata": {},
   "source": [
    "The [Genetic Algorithm](https://en.wikipedia.org/wiki/Genetic_algorithm) (GA) is an approach inside the category of machine learning systems called [Evolutionary Algorithms](https://en.wikipedia.org/wiki/Evolutionary_algorithm) (EA). For this essay, we will use the GA as follows:\n",
    "\n",
    "1. We will define a `gene` to be a floating-point number that represents the weight or bias of a Neural Network.\n",
    "2. We will define a `chromosome` as a sequence of genes. The chromosome (sometimes called a `geneotype`) will represent all of the weights and biases of a network.\n",
    "3. A`population` will be composed of a set of random chromosomes."
   ]
  },
  {
   "cell_type": "markdown",
   "metadata": {
    "id": "eyh7XntqUGvA"
   },
   "source": [
    "The length of the chromosome is determined by the size of the Neural Network. Therefore, we will call `self.build_model()` (defined below) and see how many weights it has. \n",
    "\n",
    "We'll use a ring of 16 laser sensors as senses. We create a small simulated world (200 x 200) to allow the robot to move around.\n",
    "\n",
    "The basic idea is that we will have a list of weights (the chromosome) that we load into the neural network. The sensors will be read, and propagated through the neural network. The output of the neural network will be interpreted as movement controls. We'll let the neural network \"drive\" the robot around the world starting from the center of the world.  "
   ]
  },
  {
   "cell_type": "code",
   "execution_count": 2,
   "metadata": {
    "id": "QEeYh6UwUGvA"
   },
   "outputs": [],
   "source": [
    "class NNGA(GeneticAlgorithm):\n",
    "    \"\"\"\n",
    "    An example of using the GeneticAlgorithm class to \n",
    "    evolve the weights of a neural network to control \n",
    "    a simulated robot.\n",
    "    \"\"\"\n",
    "    def __init__(self, popsize, sensors=16):\n",
    "        self.show = False\n",
    "        self.sensors = sensors\n",
    "        self.world = World(200, 200)\n",
    "        self.robot = Scribbler(x=100, y=100, a=87, \n",
    "                              max_trace_length=60)\n",
    "        # We add a ring of RangeSensors, 8cm from\n",
    "        # the robot center, starting and ending \n",
    "        # at the back of the robot\n",
    "        # with 75cm max range, and sensor width 0\n",
    "        # which makes it a laser range finder\n",
    "        self.robot.add_device_ring(\n",
    "            RangeSensor, 8, -180, 180, \n",
    "            self.sensors, max=100, width=0)\n",
    "        self.world.add_robot(self.robot)\n",
    "        self.network = self.build_model()\n",
    "        # Length of a chromosome:\n",
    "        length = len(self.network.get_weights(flat=True))\n",
    "        super().__init__(length, popsize)"
   ]
  },
  {
   "cell_type": "markdown",
   "metadata": {
    "id": "HNvM7oeWUGvB"
   },
   "source": [
    "As mentioned, a chromosome will be a sequence of floating-point numbers, between -2 and +2. When we mutate such a gene, we will increase or decrease it a small amount. To define these two aspects of a gene, we define the following methods:"
   ]
  },
  {
   "cell_type": "code",
   "execution_count": 3,
   "metadata": {
    "id": "61igCPUsUGvB"
   },
   "outputs": [],
   "source": [
    "class NNGA(NNGA):        \n",
    "    def make_random_gene(self):\n",
    "        \"\"\"\n",
    "        Generate a random weight for the neural network.\n",
    "        \"\"\"\n",
    "        # range of [-2, +2]\n",
    "        return 2 - random.random() * 4\n",
    "    \n",
    "    def mutate_gene(self, gene):\n",
    "        \"\"\"\n",
    "        Given a gene, mutate it a little.\n",
    "        \"\"\"\n",
    "        # range of [-0.5, +0.5]\n",
    "        return gene + (0.5 - random.random())"
   ]
  },
  {
   "cell_type": "markdown",
   "metadata": {
    "id": "8zDTWbLNUGvC"
   },
   "source": [
    "## 2.1 The Fitness Function\n",
    "\n",
    "To use a GA we need to define a `fitness function`. A fitness function tests a chromosome in the simulated world, and returns a value that represents how \"apt\" (or fit) it is relative to the other chromosomes in the population at this generation.\n",
    "\n",
    "Finding a good fitness function is difficult. We don't want to be too prescriptive, or the system will evolve exactly what we have defined it to do. On the other hand, we don't want to be too open, as that can leave the system to evolve solutions that don't really \"solve a problem.\"\n",
    "\n",
    "For example, let's say that we want the robot to move around this world and visit as much of the world as possible, like a vacuum cleaning robot.  We will need a way to keep track of where it has been."
   ]
  },
  {
   "cell_type": "code",
   "execution_count": 4,
   "metadata": {},
   "outputs": [],
   "source": [
    "from math import floor\n",
    "from aitk.robots.colors import Color, WHITE\n",
    "\n",
    "class Grid(object):\n",
    "    \"\"\"This class creates a grid of locations on top of a simulated world\n",
    "    to monitor how much of the world has been visited. Each grid location\n",
    "    is initally set to 0 to indicate that it is unvisited, and is updated\n",
    "    by 1 every time that it is visited.\"\"\"\n",
    "    def __init__(self, grid_width, world):\n",
    "        self.grid_width = grid_width\n",
    "        self.world = world\n",
    "        self.grid = []\n",
    "        for i in range(self.grid_width):\n",
    "            self.grid.append([0] * self.world.width)\n",
    "\n",
    "    def show(self):\n",
    "        \"\"\"Print a representation of the grid.\"\"\"\n",
    "        for i in range(self.grid_width - 1, -1, -1):\n",
    "            for j in range(self.grid_width):\n",
    "                print(\"%3d\" % self.grid[i][j], end=\" \")\n",
    "            print()\n",
    "        print()\n",
    "        \n",
    "    def draw(self):\n",
    "        \"\"\"Impose a grid on the world to show visited cells.\"\"\"\n",
    "        self.world.canvas.clear()\n",
    "        size = self.world.width // self.grid_width\n",
    "\n",
    "        self.world.canvas.set_fill_style(Color(255, 255, 255, 100))\n",
    "        self.world.canvas.set_stroke_style(WHITE)\n",
    "        for x in range(self.world.width // size):\n",
    "            self.world.canvas.draw_line(x * size, 0, x * size, self.world.height)\n",
    "        for y in range(self.world.height // size):\n",
    "            self.world.canvas.draw_line(0, y * size, self.world.width, y * size)\n",
    "        \n",
    "        for x in range(self.grid_width):\n",
    "            for y in range(self.grid_width):\n",
    "                value = self.grid[x][y]\n",
    "                if value > 0:\n",
    "                    row = self.grid_width - x - 1\n",
    "                    self.world.canvas.draw_rect(\n",
    "                        y * size, row * size, size, size)\n",
    "        \n",
    "    def update(self, x, y):\n",
    "        \"\"\"In the simulator, the origin is at the top-left corner.\n",
    "        Update the appropriate grid location.\"\"\"\n",
    "        size = self.world.width/self.grid_width\n",
    "        col = floor(x/size)\n",
    "        row = int(self.grid_width) - floor(y/size) - 1\n",
    "        self.grid[row][col] += 1\n",
    "        \n",
    "    def analyze_visits(self):\n",
    "        \"\"\"Calculate the percentage of visited cells in the grid.\"\"\"\n",
    "        cells_visited = 0\n",
    "        for i in range(self.grid_width):\n",
    "            for j in range(self.grid_width):\n",
    "                if self.grid[i][j] > 0:\n",
    "                    cells_visited += 1\n",
    "        percent_visited = cells_visited/self.grid_width**2\n",
    "        return percent_visited"
   ]
  },
  {
   "cell_type": "markdown",
   "metadata": {},
   "source": [
    "### Picking an appropriate fitness function \n",
    "\n",
    "<div class=\"alert alert-block alert-warning\">\n",
    "    <b>Warning</b>: the implementation of a GA that we use here requires that the fitness function returns a number greater or equal to zero.\n",
    "</div>\n",
    "\n",
    "We will define the fitness function to be the percentage of grid locations visited (using the class defined above) during a 60 second run where the neural network is given the current sensor readings and outputs the translation and rotation commands for moving."
   ]
  },
  {
   "cell_type": "code",
   "execution_count": 5,
   "metadata": {
    "id": "TN_laHoPUGvC"
   },
   "outputs": [],
   "source": [
    "class NNGA(NNGA):        \n",
    "    def fitness(self, chromosome, seconds=60, interrupt=True, real_time=False,\n",
    "                show=False, show_progress=False, quiet=True):\n",
    "        self.show = show\n",
    "        self.network.set_weights(chromosome)\n",
    "        self.robot.set_pose(100, 100, 87)\n",
    "        self.grid = Grid(10, self.world)\n",
    "        self.world.seconds(seconds, self.controller, interrupt=interrupt, \n",
    "                           real_time=real_time, show=show, show_progress=show_progress, \n",
    "                           quiet=quiet)\n",
    "        score = self.grid.analyze_visits()\n",
    "        return score"
   ]
  },
  {
   "cell_type": "markdown",
   "metadata": {
    "id": "hGDuszABUGvD"
   },
   "source": [
    "We can now add some methods for the specific problem:\n",
    "\n",
    "* build_model - creates the neural network that takes as input the number of sensors, and outputs the movement commands (one for translate, one for rotate)\n",
    "* controller - the method to drive the robot\n",
    "* get_sensors - a convenience method to get the sensor readings from the range sensors as a list\n",
    "* get_move - a method that takes the input to the network (the sensor readings) and propagates them through the network to get the output values, which are scaled to [-1, +1]"
   ]
  },
  {
   "cell_type": "code",
   "execution_count": 6,
   "metadata": {
    "id": "gv41Bn_QUGvD"
   },
   "outputs": [],
   "source": [
    "class NNGA(NNGA):        \n",
    "    def build_model(self):\n",
    "        \"\"\"\n",
    "        We build a simple network. \n",
    "        \"\"\"\n",
    "        return SimpleNetwork(\n",
    "            self.sensors,\n",
    "            4,\n",
    "            2,\n",
    "            activation=\"sigmoid\"\n",
    "        )\n",
    "        \n",
    "    def controller(self, world):\n",
    "        \"\"\"\n",
    "        The controller for the robot.\n",
    "        Updates the grid for visited locations.\n",
    "        \"\"\"\n",
    "        sensors = self.get_sensors()\n",
    "        output = self.get_move(sensors)\n",
    "        self.robot.move(output[0], output[1])\n",
    "        x, y, a = self.robot.get_pose()\n",
    "        self.grid.update(x, y)\n",
    "        self.grid.draw()\n",
    "        if self.robot.stalled:\n",
    "            return True\n",
    "        \n",
    "    def get_sensors(self):\n",
    "        \"\"\"\n",
    "        We return the sensors from the robot.\n",
    "        Make close readings be closer to 1.\n",
    "        \"\"\"\n",
    "        return [1-sensor.get_reading() \n",
    "                for sensor in self.robot]\n",
    "    \n",
    "    def get_move(self, sensors):\n",
    "        \"\"\"\n",
    "        Given the dataset (a single )\n",
    "        \"\"\"\n",
    "        # Propagate takes a single pattern:\n",
    "        output = self.network.propagate(\n",
    "            sensors, show=self.show)\n",
    "        # Scale the output in [-1, 1]\n",
    "        return 1 - output * 2\n",
    "    "
   ]
  },
  {
   "cell_type": "markdown",
   "metadata": {},
   "source": [
    "Now, we are ready to create a GA. We'll define the population size to be 30, which isn't too small, but big enough to evolve a solution in a few minutes."
   ]
  },
  {
   "cell_type": "code",
   "execution_count": 7,
   "metadata": {
    "colab": {
     "base_uri": "https://localhost:8080/"
    },
    "id": "IyVFhghhUGvE",
    "outputId": "2988c304-fc9b-45d8-e793-e180625de46d"
   },
   "outputs": [
    {
     "name": "stdout",
     "output_type": "stream",
     "text": [
      "Random seed set to: 8177350\n",
      "Genetic algorithm\n",
      "  Chromosome length: 78\n",
      "  Population size: 30\n"
     ]
    }
   ],
   "source": [
    "ga = NNGA(popsize=30)"
   ]
  },
  {
   "cell_type": "markdown",
   "metadata": {},
   "source": [
    "We can observe the world with:"
   ]
  },
  {
   "cell_type": "markdown",
   "metadata": {},
   "source": [
    "<div class=\"alert alert-block alert-success\">\n",
    "    <b>Idea</b>: when running in Jupyter Lab, you can right-click on the two watch cells (after running them) and select \"Create New View for Output\" for each. You can then drag the panels over so that you can see them along side the notebook.\n",
    "</div>"
   ]
  },
  {
   "cell_type": "code",
   "execution_count": 8,
   "metadata": {
    "colab": {
     "base_uri": "https://localhost:8080/",
     "height": 382,
     "referenced_widgets": [
      "686027ec8d104a65a28c531cff802a49",
      "edfd80f163844472afcad4ac980bb73b"
     ]
    },
    "id": "npHXLuo8UGvF",
    "outputId": "e48d4e46-5ea4-4899-947e-c6c85e4d3b4b",
    "tags": []
   },
   "outputs": [
    {
     "data": {
      "application/vnd.jupyter.widget-view+json": {
       "model_id": "1294184504ef43869ccdd8cd8ad897b1",
       "version_major": 2,
       "version_minor": 0
      },
      "text/plain": [
       "Image(value=b'\\xff\\xd8\\xff\\xe0\\x00\\x10JFIF\\x00\\x01\\x01\\x00\\x00\\x01\\x00\\x01\\x00\\x00\\xff\\xdb\\x00C\\x00\\x08\\x06\\x0…"
      ]
     },
     "metadata": {},
     "output_type": "display_data"
    }
   ],
   "source": [
    "ga.world.watch()"
   ]
  },
  {
   "cell_type": "markdown",
   "metadata": {},
   "source": [
    "We can also dynamically observe the network:"
   ]
  },
  {
   "cell_type": "code",
   "execution_count": 9,
   "metadata": {
    "colab": {
     "base_uri": "https://localhost:8080/",
     "height": 345,
     "referenced_widgets": [
      "85948e04362d4b658808951c4635bf00",
      "dc52a3313d1f45bd9e8e9d10dd2bfcd7",
      "6203182779304d9c88d259968b51864b"
     ]
    },
    "id": "9dE6sMacUGvF",
    "outputId": "4c9b57c0-acb5-42ae-f841-c5a3fc8910fa",
    "tags": []
   },
   "outputs": [
    {
     "data": {
      "application/vnd.jupyter.widget-view+json": {
       "model_id": "70158c04a88b47a899af752c4fc4b98e",
       "version_major": 2,
       "version_minor": 0
      },
      "text/plain": [
       "HTML(value='<div style=\"outline: 5px solid #1976D2FF; width: 400px; height: 324px;\"><svg id=\\'keras-network\\' …"
      ]
     },
     "metadata": {},
     "output_type": "display_data"
    }
   ],
   "source": [
    "ga.network.watch()"
   ]
  },
  {
   "cell_type": "markdown",
   "metadata": {},
   "source": [
    "## 2.2 Testing\n",
    "\n",
    "Let's test everything to make sure it is working.\n",
    "\n",
    "Let's see what a chromosome looks like:"
   ]
  },
  {
   "cell_type": "code",
   "execution_count": 10,
   "metadata": {},
   "outputs": [
    {
     "data": {
      "text/plain": [
       "78"
      ]
     },
     "execution_count": 10,
     "metadata": {},
     "output_type": "execute_result"
    }
   ],
   "source": [
    "len(ga.make_random_chromosome())"
   ]
  },
  {
   "cell_type": "markdown",
   "metadata": {},
   "source": [
    "Therefore a chromome will be a length of 78 \"genes\". Each gene is an individual weight or bias in the neural network.\n",
    "\n",
    "Let's see what the sensor readings look like:"
   ]
  },
  {
   "cell_type": "code",
   "execution_count": 11,
   "metadata": {},
   "outputs": [
    {
     "data": {
      "text/plain": [
       "[0.07862765400207938,\n",
       " 0.008855006362971207,\n",
       " 0.0,\n",
       " 0.008855006362970985,\n",
       " 0.07862765400207938,\n",
       " 0.0,\n",
       " 0.0,\n",
       " 0.04472381958991678,\n",
       " 0.06753487421199689,\n",
       " 0.0,\n",
       " 0.0,\n",
       " 0.06753487421199733,\n",
       " 0.04472381958991678,\n",
       " 0.0,\n",
       " 0.0,\n",
       " 0.07862765400207938]"
      ]
     },
     "execution_count": 11,
     "metadata": {},
     "output_type": "execute_result"
    }
   ],
   "source": [
    "sensors = ga.get_sensors()\n",
    "sensors"
   ]
  },
  {
   "cell_type": "markdown",
   "metadata": {},
   "source": [
    "And let's see what movements the sensors give when propagated through the network and scaled:"
   ]
  },
  {
   "cell_type": "code",
   "execution_count": 12,
   "metadata": {},
   "outputs": [
    {
     "data": {
      "text/plain": [
       "array([-0.42732453,  0.08546025], dtype=float32)"
      ]
     },
     "execution_count": 12,
     "metadata": {},
     "output_type": "execute_result"
    }
   ],
   "source": [
    "ga.get_move(sensors)"
   ]
  },
  {
   "cell_type": "markdown",
   "metadata": {},
   "source": [
    "You should see the activations in the network display change. The robot won't actually move in the simulator until we update it."
   ]
  },
  {
   "cell_type": "markdown",
   "metadata": {
    "id": "ocq9cHWvUGvG"
   },
   "source": [
    "Ok, let's put all of this together and move the robot around the simulated world. We can test out a random chromosome to see what this does.\n",
    "\n",
    "We pass in:\n",
    "\n",
    "1. a random chromosome (like the that from the initial population)\n",
    "2. number of seconds to run the simulation\n",
    "4. whether we should show the robot and network updates\n",
    "5. whether the simulation should run in real_time (setting to False will run as fast as possible)\n",
    "\n",
    "Let's go!"
   ]
  },
  {
   "cell_type": "code",
   "execution_count": 13,
   "metadata": {
    "colab": {
     "base_uri": "https://localhost:8080/",
     "height": 85,
     "referenced_widgets": [
      "24370d9d5e054008af5d1547ae1e06ad",
      "d50d56b63cfc44278489faee93999b82",
      "a038bba8c4514aadb3ef388bb80578fb",
      "2112fa546d854613ab9ce5a0cbb31e05",
      "7c0ae88a94904d5e8f06937e44eee86c",
      "780648e92fc645a9b8dd73254f252c2e",
      "a9c3ad6214a04c33baad9842454be573",
      "4c02aaa7d86348a08cdaab1e0b2758e3"
     ]
    },
    "id": "Xv19whtMUGvG",
    "outputId": "4929a03e-1d0e-4eca-9733-91e97f36e37c"
   },
   "outputs": [
    {
     "data": {
      "text/plain": [
       "0.03"
      ]
     },
     "execution_count": 13,
     "metadata": {},
     "output_type": "execute_result"
    }
   ],
   "source": [
    "ga.fitness(\n",
    "    ga.make_random_chromosome(), \n",
    "    seconds=5,\n",
    "    show=True, \n",
    "    real_time=True)"
   ]
  },
  {
   "cell_type": "markdown",
   "metadata": {},
   "source": [
    "You can try the above cell over and over again to see many possible behaviors of these random weights.\n",
    "\n",
    "Notice that there is a grid imposed on the world.  As the robot visits cells within this grid they light up. "
   ]
  },
  {
   "cell_type": "markdown",
   "metadata": {
    "id": "aoo2YGEVUGvK"
   },
   "source": [
    "Some questions you might be interested in considering at this point?\n",
    "\n",
    "1. What percentage of random genes spin in circles?\n",
    "2. What percentage of random genes change movement during the 5 seconds of testing?\n",
    "3. What is the range of \"fitness\" values returned for these random chromosomes?### 3. Evolve!"
   ]
  },
  {
   "cell_type": "markdown",
   "metadata": {},
   "source": [
    "## 3. Evolving"
   ]
  },
  {
   "cell_type": "markdown",
   "metadata": {
    "id": "kEUDFqS-UGvG"
   },
   "source": [
    "To run 10 generations (plus one to test initial population) with a population of size 30 for 60 seconds each will take a significant amount of simulated time. "
   ]
  },
  {
   "cell_type": "markdown",
   "metadata": {
    "id": "omwTjbx-UGvK"
   },
   "source": [
    "We can get about a 50 x speed-up over real time when not watching the network, and about 10 x speed-up when watching the network."
   ]
  },
  {
   "cell_type": "markdown",
   "metadata": {
    "id": "7Xy3jw6EUGvL"
   },
   "source": [
    "You can run without watching by setting `show=False`."
   ]
  },
  {
   "cell_type": "code",
   "execution_count": 15,
   "metadata": {
    "colab": {
     "base_uri": "https://localhost:8080/"
    },
    "id": "NqqfhTNoUGvL",
    "outputId": "15deae95-61be-4af3-b741-8acfd2e8c135"
   },
   "outputs": [
    {
     "name": "stdout",
     "output_type": "stream",
     "text": [
      "Using random seed: 8177350\n",
      "  Maximum number of generations: 5\n",
      "  Crossover rate: 0.0\n",
      "  Mutation rate: 0.6\n",
      "  Elite percentage: 0.05\n",
      "  Elite count: 1\n",
      "Generation    0 Best fitness 0.18\n",
      "Generation    1 Best fitness 0.36\n",
      "Generation    2 Best fitness 0.44\n",
      "Generation    3 Best fitness 0.44\n",
      "Generation    4 Best fitness 0.44\n",
      "Generation    5 Best fitness 0.47\n",
      "Max generations reached\n",
      "CPU times: user 2min 16s, sys: 125 ms, total: 2min 16s\n",
      "Wall time: 2min 16s\n"
     ]
    }
   ],
   "source": [
    "%%time\n",
    "ga.reset()\n",
    "ga.world.reset()\n",
    "bestFound = ga.evolve(\n",
    "    generations=5, \n",
    "    crossover_rate=0.0, \n",
    "    mutation_rate=0.6, \n",
    "    elite_percent=0.05, \n",
    "    seconds=60,\n",
    "    show=False,\n",
    ") "
   ]
  },
  {
   "cell_type": "markdown",
   "metadata": {
    "id": "CbCDQPkJUGvL"
   },
   "source": [
    "### 4. Analysis\n",
    "\n",
    "We can see a summary of the best and average fitness in the population over time:"
   ]
  },
  {
   "cell_type": "code",
   "execution_count": 16,
   "metadata": {
    "colab": {
     "base_uri": "https://localhost:8080/",
     "height": 295
    },
    "id": "NxX8912mUGvM",
    "outputId": "c7550553-df7f-4b87-c730-a4ddd8e35387"
   },
   "outputs": [
    {
     "data": {
      "image/png": "[encoded data removed]",
      "text/plain": [
       "<Figure size 640x480 with 1 Axes>"
      ]
     },
     "metadata": {},
     "output_type": "display_data"
    }
   ],
   "source": [
    "ga.plot_stats(\"NNGA\")"
   ]
  },
  {
   "cell_type": "markdown",
   "metadata": {
    "id": "IPm0T3vOUGvM"
   },
   "source": [
    "Let's see the results by trying the best ever controller:"
   ]
  },
  {
   "cell_type": "code",
   "execution_count": 17,
   "metadata": {
    "colab": {
     "base_uri": "https://localhost:8080/",
     "height": 285,
     "referenced_widgets": [
      "8ad2ce156ec745d187f0b182345b655f",
      "75b5f1165faf4949a9065abec1c2532b",
      "d9c797c19dd5465ba5e4576f460f11fa",
      "4bc107b0fdfe431c845e58cf143ac15d",
      "8e68efa968d849e6b52b408f2cf6785c",
      "d72ff6dce2f4474caa50979834bba248",
      "84bb4ccf6acc42d9a48141295b7127f3",
      "0706330888c84838970071882bb77045",
      "f01ce7d4998f4cd18793c55b977cd44c",
      "e0f6d576022b4c3f8731377f4c16b2b2",
      "c57c8a5a7cf046babd6a571dea10425d",
      "b700450539e24b3f958ab82cb4c61ba7",
      "f7880b7cb8234171973ae8fe3d885c5a",
      "adee9b75ac91429bbda90174d6040d80",
      "11b25aefe3464744b0363f568b70ff7a",
      "b19a2c494a144ace9d3abb736fee833f",
      "9c4c52242d064e90b5da368e1a469632",
      "14fb98746a0141b3a19d4ddc2f8bfbf7",
      "6fddbded18e9420ab53fa31b562d97bd",
      "469f3917098844d0af203e6b977eed1b",
      "035bbb9735a34758bae96160426f7d9a",
      "f3e7c40d8aad4e30a33f6f4bc05bd140",
      "0975fa7125874869bb1ed29c7aea16d1",
      "8f378d82408e41d287b655a59c952c9a",
      "ebcfb91f4b434d6ab43cd99e345ce5ec",
      "3bc9276ac4974a03be28b2833b3c01c4",
      "b9e7ada87a93489fa6dec933a4d0c569",
      "29cd109ab212478aa65e835c2817d681",
      "72c0466433c344be8cd1ca5e2318c683",
      "bd16fcf2b7c64c468196e8e943597a72",
      "45ffbc451cc74c828c122c7278667a74",
      "5ea147a8f055448c8c9db986bb3a4bde",
      "471f0b80f59e43a39333e263102dc92d",
      "83f09a58fcd4407684012f5fa19382f2",
      "ac274c57aaab4939b6c912bcfa37682f",
      "cf3e41e28e0e40fd84f8ee99a94e16dd",
      "256452ae51354eaea44d4714edfb8bde",
      "19497de06b24405fb512395602693b79",
      "315ee295b7604620b68534d662a5b6d6",
      "2f3513979be0412c8be18ccae97f113b"
     ]
    },
    "id": "WmajpIM1UGvM",
    "outputId": "7b928ca7-7275-4847-9f6b-39a47c5ab00e"
   },
   "outputs": [
    {
     "data": {
      "text/plain": [
       "0.47"
      ]
     },
     "execution_count": 17,
     "metadata": {},
     "output_type": "execute_result"
    }
   ],
   "source": [
    "ga.fitness(\n",
    "    ga.bestEver, \n",
    "    real_time=False, \n",
    "    show=True, \n",
    "    seconds=60,\n",
    ")"
   ]
  },
  {
   "cell_type": "code",
   "execution_count": 18,
   "metadata": {},
   "outputs": [
    {
     "name": "stdout",
     "output_type": "stream",
     "text": [
      "  0   0   0   0   0   0   0   0   0   0 \n",
      "  0   6  12  13   2   5  11   7   0   0 \n",
      "  0  12   8  12  32  20   0   7   7   0 \n",
      "  0  12  10   0  35  10   6   0  12   0 \n",
      "  0   7  22  13  20  15  25  20   2   0 \n",
      "  0   2  12  11  23  12  24  14   0   0 \n",
      "  0   5   6   0  13  13   0  11   0   0 \n",
      "  0   0  12  11  20  16   0  15   0   0 \n",
      "  0   0   0   0   0   5  12   0   0   0 \n",
      "  0   0   0   0   0   0   0   0   0   0 \n",
      "\n"
     ]
    }
   ],
   "source": [
    "ga.grid.show()"
   ]
  },
  {
   "cell_type": "code",
   "execution_count": 19,
   "metadata": {},
   "outputs": [],
   "source": [
    "ga.network.save(\"nnga_best.h5\")"
   ]
  },
  {
   "cell_type": "code",
   "execution_count": null,
   "metadata": {},
   "outputs": [],
   "source": []
  }
 ],
 "metadata": {
  "accelerator": "GPU",
  "colab": {
   "collapsed_sections": [],
   "name": "NNGA.ipynb",
   "provenance": []
  },
  "kernelspec": {
   "display_name": "Python 3",
   "language": "python",
   "name": "python3"
  },
  "language_info": {
   "codemirror_mode": {
    "name": "ipython",
    "version": 3
   },
   "file_extension": ".py",
   "mimetype": "text/x-python",
   "name": "python",
   "nbconvert_exporter": "python",
   "pygments_lexer": "ipython3",
   "version": "3.8.5"
  },
  "widgets": {
   "application/vnd.jupyter.widget-state+json": {
    "state": {
     "08b394169a8648d1a746560b61cd8a43": {
      "model_module": "@jupyter-widgets/controls",
      "model_module_version": "1.5.0",
      "model_name": "DescriptionStyleModel",
      "state": {
       "description_width": ""
      }
     },
     "1294184504ef43869ccdd8cd8ad897b1": {
      "buffers": [
       {
        "data": "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",
        "encoding": "base64",
        "path": [
         "value"
        ]
       }
      ],
      "model_module": "@jupyter-widgets/controls",
      "model_module_version": "1.5.0",
      "model_name": "ImageModel",
      "state": {
       "layout": "IPY_MODEL_59667216fb6f4b668c741b3abd655bbd"
      }
     },
     "59667216fb6f4b668c741b3abd655bbd": {
      "model_module": "@jupyter-widgets/base",
      "model_module_version": "1.2.0",
      "model_name": "LayoutModel",
      "state": {
       "border": "10px solid rgb(0 177 255)",
       "margin": "auto"
      }
     },
     "70158c04a88b47a899af752c4fc4b98e": {
      "model_module": "@jupyter-widgets/controls",
      "model_module_version": "1.5.0",
      "model_name": "HTMLModel",
      "state": {
       "layout": "IPY_MODEL_83a5daa028b44fd4bed64950d46b0cdf",
       "style": "IPY_MODEL_08b394169a8648d1a746560b61cd8a43",
       "value": "<div style=\"outline: 5px solid #1976D2FF; width: 400px; height: 324px;\"><svg id='keras-network' xmlns='http://www.w3.org/2000/svg' xmlns:xlink='http://www.w3.org/1999/xlink' image-rendering=\"pixelated\" width=\"400px\" height=\"324px\" style=\"background-color: #B0C4DE\">\n <g >\n  <svg viewBox=\"0 0 350 284\" width=\"400px\" height=\"324px\">\n    <defs>\n        <marker id=\"arrow\" markerWidth=\"10\" markerHeight=\"10\" refX=\"9\" refY=\"3\" orient=\"auto\" markerUnits=\"strokeWidth\">\n          <path d=\"M0,0 L0,6 L9,3 z\" fill=\"black\" />\n        </marker>\n    </defs><rect x=\"112.0\" y=\"24\" width=\"126\" height=\"64\" style=\"fill:none;stroke:black;stroke-width:2\"/><image id=\"keras-network_output\" class=\"keras-network\" x=\"113.0\" y=\"25\" height=\"62\" width=\"124\" preserveAspectRatio=\"none\" image-rendering=\"optimizeSpeed\" xlink:href=\"data:image/gif;base64,R0lGODdhfAA+AIcAAAgICGxsbAAAAAAAAAAAAAAAAAAAAAAAAAAAAAAAAAAAAAAAAAAAAAAAAAAAAAAAAAAAAAAAAAAAAAAAAAAAAAAAAAAAAAAAAAAAAAAAAAAAAAAAAAAAAAAAAAAAAAAAAAAAAAAAAAAAAAAAAAAAAAAAAAAAAAAAAAAAAAAAAAAAAAAAAAAAAAAAAAAAAAAAAAAAAAAAAAAAAAAAAAAAAAAAAAAAAAAAAAAAAAAAAAAAAAAAAAAAAAAAAAAAAAAAAAAAAAAAAAAAAAAAAAAAAAAAAAAAAAAAAAAAAAAAAAAAAAAAAAAAAAAAAAAAAAAAAAAAAAAAAAAAAAAAAAAAAAAAAAAAAAAAAAAAAAAAAAAAAAAAAAAAAAAAAAAAAAAAAAAAAAAAAAAAAAAAAAAAAAAAAAAAAAAAAAAAAAAAAAAAAAAAAAAAAAAAAAAAAAAAAAAAAAAAAAAAAAAAAAAAAAAAAAAAAAAAAAAAAAAAAAAAAAAAAAAAAAAAAAAAAAAAAAAAAAAAAAAAAAAAAAAAAAAAAAAAAAAAAAAAAAAAAAAAAAAAAAAAAAAAAAAAAAAAAAAAAAAAAAAAAAAAAAAAAAAAAAAAAAAAAAAAAAAAAAAAAAAAAAAAAAAAAAAAAAAAAAAAAAAAAAAAAAAAAAAAAAAAAAAAAAAAAAAAAAAAAAAAAAAAAAAAAAAAAAAAAAAAAAAAAAAAAAAAAAAAAAAAAAAAAAAAAAAAAAAAAAAAAAAAAAAAAAAAAAAAAAAAAAAAAAAAAAAAAAAAAAAAAAAAAAAAAAAAAAAAAAAAAAAAAAAAAAAAAAAAAAAAAAAAAAAAAAAAAAAAAAAAAAAAAAAAAAAAAAAAAAAAAAAAAAAAAAAAAAAAAAAAAAAAAAAAAAAAAAAAAAAAAAAAAAAAAAAAAAAAAAAAAAAAAAAAAAAAAAAAAAAAAAAAAAAAAAAAAAAAAAAAAAAAAAAAAAAAAAAAAAAAAAAAAAAAAAAAAAAAAAAAAAAAAAAAAAAAAAAAAAAAACwAAAAAfAA+AEAI/wABCBxIsKDBgwgTKlzIsKHDhxAjSoQYoKLFixgzatzIsSPGiSBDEvRIsqTJjiJTTjzJsiVJlTAfupxJ02LMmwtr6myJs+fBnUBL+hw6MKhRjkSJHl36MalPplADOH0adenUnlWtXr2Z9ehWrl2Dfo0ZVuxYlWWBnkWbVufalG3dvg0Zt+ZcunVn3gWZV+9eiX1d/gUcmOXgiIUNH5aZ2ORixo1fPm4YWehkhpUlX1aY2ePmnJ2Rfk4YWvTon6U1nkaYWvVqg60zvoYd++LsgrVt3y6au+Ju3r1/C+ztWzhxqcaJCwdwfHnz5MGh53auXHpt6tF/P9denXv23dvBdxYX//12ePPj0ZeffZ59evfrX7dfPjogADs=\"><title>Layer: output 'Dense'\nAct function: sigmoid\nAct output range: (0, 1)\nShape = (None, 2)</title></image><text x=\"242.0\" y=\"58.0\" font-family=\"monospace\" font-size=\"12\" text-anchor=\"start\" fill=\"blue\" alignment-baseline=\"central\" >output</text><path d=\"M 175.0 116 L 175.0 89 \" stroke=\"black\" stroke-width=\"2\" marker-end=\"url(#arrow)\" fill=\"none\" /><rect x=\"74.0\" y=\"116\" width=\"202\" height=\"64\" style=\"fill:none;stroke:black;stroke-width:2\"/><image id=\"keras-network_hidden\" class=\"keras-network\" x=\"75.0\" y=\"117\" height=\"62\" width=\"200\" preserveAspectRatio=\"none\" image-rendering=\"optimizeSpeed\" xlink:href=\"data:image/gif;base64,R0lGODdh+AA+AIcAAMXFxQsLC6CgoAAAAAAAAAAAAAAAAAAAAAAAAAAAAAAAAAAAAAAAAAAAAAAAAAAAAAAAAAAAAAAAAAAAAAAAAAAAAAAAAAAAAAAAAAAAAAAAAAAAAAAAAAAAAAAAAAAAAAAAAAAAAAAAAAAAAAAAAAAAAAAAAAAAAAAAAAAAAAAAAAAAAAAAAAAAAAAAAAAAAAAAAAAAAAAAAAAAAAAAAAAAAAAAAAAAAAAAAAAAAAAAAAAAAAAAAAAAAAAAAAAAAAAAAAAAAAAAAAAAAAAAAAAAAAAAAAAAAAAAAAAAAAAAAAAAAAAAAAAAAAAAAAAAAAAAAAAAAAAAAAAAAAAAAAAAAAAAAAAAAAAAAAAAAAAAAAAAAAAAAAAAAAAAAAAAAAAAAAAAAAAAAAAAAAAAAAAAAAAAAAAAAAAAAAAAAAAAAAAAAAAAAAAAAAAAAAAAAAAAAAAAAAAAAAAAAAAAAAAAAAAAAAAAAAAAAAAAAAAAAAAAAAAAAAAAAAAAAAAAAAAAAAAAAAAAAAAAAAAAAAAAAAAAAAAAAAAAAAAAAAAAAAAAAAAAAAAAAAAAAAAAAAAAAAAAAAAAAAAAAAAAAAAAAAAAAAAAAAAAAAAAAAAAAAAAAAAAAAAAAAAAAAAAAAAAAAAAAAAAAAAAAAAAAAAAAAAAAAAAAAAAAAAAAAAAAAAAAAAAAAAAAAAAAAAAAAAAAAAAAAAAAAAAAAAAAAAAAAAAAAAAAAAAAAAAAAAAAAAAAAAAAAAAAAAAAAAAAAAAAAAAAAAAAAAAAAAAAAAAAAAAAAAAAAAAAAAAAAAAAAAAAAAAAAAAAAAAAAAAAAAAAAAAAAAAAAAAAAAAAAAAAAAAAAAAAAAAAAAAAAAAAAAAAAAAAAAAAAAAAAAAAAAAAAAAAAAAAAAAAAAAAAAAAAAAAAAAAAAAAAAAAAAAAAAAAAAAAAAAAAAAAAAAAAAAAAAAAAAAAAAAAAAAAAAAAAAAAAAAAAAAAAAAAAAAAAAAAAAAAAAAAAAAAAAAACwAAAAA+AA+AEAI/wADCBxIsKDBgwgTKlzIsKHDhxAjSpxIsaJEABgzatzIsaPHjyA3CgxJsqRJkBZTThTAsqXLlzBjypxJ8+XIkzhzhryps6dPACqDPqxJtKhRmjx/KjWZdKnTj0KjLjxKtSrRpk+zasSqVavUrwetih3bkmvXp2bPLgXLdiDZt1XTqv0pd27Ptm3h6i1a127Ovn5P4mW7t/BMwIFLIk68c/BXw5BtBmDsdDFlj44fR95s+TLHzp63Zo66mfPk0HdPo/47WmjpyKBXx0bd2vVrw7ND5/ZcO+ht3KpXCw4uXHHvlL8L7768nPJx5Mn1Nmc8PfFzi9GlEy/emPvw6yuzv/+tHpi8X/AUxY/f7h0z+/af0UtUT9a8Xftz5c+nLxa/Wv9n6RcRf/29B59oBzYmoEMEWgVgVw96tSCDDVIVYVYXojVhQxVaaGCCQH2Y4IYcdmhUhpWJeCCJDJl4oorwobgWiwq5yBeM7cmoFI012liTjnTh6B2PCfn4o5DcAekTkQgZiRSSxSmZGpMFOXkYlMJJqROVBlkpk5asgQgVlwR5GROYOKH5HZkBmAmTmkxhKRubArkpmZju4dkRnXXaWZactAGqG59+/qlnfIeKRGihAsBpXKKi0cloo4LyVilzixbqKEmbKsjmpJ2idKlzmfoZ6piQZsRnm4yemmeqIUpw2uqo1NFqXal2urqnreXh6qauiMK6Kqi8nlfsfb6aCayisMb66azNLhvps5oem5+1/yXrpbSqYhugtlZyi5G4zpJJbLTeQgiuk+S2u66R7qIra7XoykutqelKaK+50AqbL4bv+hivv/Piu+rBCJMYEAA7\"><title>Layer: hidden 'Dense'\nAct function: sigmoid\nAct output range: (0, 1)\nShape = (None, 4)</title></image><text x=\"280.0\" y=\"150.0\" font-family=\"monospace\" font-size=\"12\" text-anchor=\"start\" fill=\"blue\" alignment-baseline=\"central\" >hidden</text><path d=\"M 175.0 208 L 175.0 181 \" stroke=\"black\" stroke-width=\"2\" marker-end=\"url(#arrow)\" fill=\"none\" /><rect x=\"74.0\" y=\"208\" width=\"202\" height=\"52\" style=\"fill:none;stroke:black;stroke-width:2\"/><image id=\"keras-network_input\" class=\"keras-network\" x=\"75.0\" y=\"209\" height=\"50\" width=\"200\" preserveAspectRatio=\"none\" image-rendering=\"optimizeSpeed\" xlink:href=\"data:image/gif;base64,R0lGODdh8AAPAIcAAAAAAP7+/gAAAAAAAAAAAAAAAAAAAAAAAAAAAAAAAAAAAAAAAAAAAAAAAAAAAAAAAAAAAAAAAAAAAAAAAAAAAAAAAAAAAAAAAAAAAAAAAAAAAAAAAAAAAAAAAAAAAAAAAAAAAAAAAAAAAAAAAAAAAAAAAAAAAAAAAAAAAAAAAAAAAAAAAAAAAAAAAAAAAAAAAAAAAAAAAAAAAAAAAAAAAAAAAAAAAAAAAAAAAAAAAAAAAAAAAAAAAAAAAAAAAAAAAAAAAAAAAAAAAAAAAAAAAAAAAAAAAAAAAAAAAAAAAAAAAAAAAAAAAAAAAAAAAAAAAAAAAAAAAAAAAAAAAAAAAAAAAAAAAAAAAAAAAAAAAAAAAAAAAAAAAAAAAAAAAAAAAAAAAAAAAAAAAAAAAAAAAAAAAAAAAAAAAAAAAAAAAAAAAAAAAAAAAAAAAAAAAAAAAAAAAAAAAAAAAAAAAAAAAAAAAAAAAAAAAAAAAAAAAAAAAAAAAAAAAAAAAAAAAAAAAAAAAAAAAAAAAAAAAAAAAAAAAAAAAAAAAAAAAAAAAAAAAAAAAAAAAAAAAAAAAAAAAAAAAAAAAAAAAAAAAAAAAAAAAAAAAAAAAAAAAAAAAAAAAAAAAAAAAAAAAAAAAAAAAAAAAAAAAAAAAAAAAAAAAAAAAAAAAAAAAAAAAAAAAAAAAAAAAAAAAAAAAAAAAAAAAAAAAAAAAAAAAAAAAAAAAAAAAAAAAAAAAAAAAAAAAAAAAAAAAAAAAAAAAAAAAAAAAAAAAAAAAAAAAAAAAAAAAAAAAAAAAAAAAAAAAAAAAAAAAAAAAAAAAAAAAAAAAAAAAAAAAAAAAAAAAAAAAAAAAAAAAAAAAAAAAAAAAAAAAAAAAAAAAAAAAAAAAAAAAAAAAAAAAAAAAAAAAAAAAAAAAAAAAAAAAAAAAAAAAAAAAAAAAAAAAAAAAAAAAAAAAAAAAAAAAAAAAAAAAAAAAAAAAAAAAAAAAAAAAAAAAAAAAAAAAAAAAAAAAAAAAAAAAAAAACwAAAAA8AAPAAAI9wABCBxIsKDBgwgTKlzIsKHDhxAjSpxIsaLCABgzaswocKNHjB0/bgwpkiOAkhpJolRZ0qLLlzAbojQ5E+TJmixF5vy402PPkTdn/kwZs6hRmDUDDKWJM+hKpy2h6pTKk6pPq0CPat36MOlSm16xEg1LtmlZoVzTqj149mnbqG+nxq0adq1dtXOv5gW6d6zZv2jvCtbalynawmABu1UcdbDjmIiVijW8+DBjuZerPt5sMfJXyZ4nJ7ZM+inn0xJDq86slzXfpqhjO1xdGq5rv7UxB5bNOyHtysBt56Z722Tv4wZ/Cw+umznx4VeRS/9Mfbr169gtBgQAOw==\"><title>Layer: input 'InputLayer'\nShape = [(None, 16)]</title></image><text x=\"280.0\" y=\"236.0\" font-family=\"monospace\" font-size=\"12\" text-anchor=\"start\" fill=\"blue\" alignment-baseline=\"central\" >input</text><text x=\"175.0\" y=\"12.5\" font-family=\"monospace\" font-size=\"15\" text-anchor=\"middle\" fill=\"black\" alignment-baseline=\"central\" >Activations for SimpleNetwork</text></svg></g></svg></div>"
      }
     },
     "83a5daa028b44fd4bed64950d46b0cdf": {
      "model_module": "@jupyter-widgets/base",
      "model_module_version": "1.2.0",
      "model_name": "LayoutModel",
      "state": {}
     }
    },
    "version_major": 2,
    "version_minor": 0
   }
  }
 },
 "nbformat": 4,
 "nbformat_minor": 4
}
