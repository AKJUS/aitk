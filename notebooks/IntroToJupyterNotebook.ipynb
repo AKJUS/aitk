{
  "cells": [
    {
      "cell_type": "markdown",
      "metadata": {
        "id": "BH7C-Qi7sZW2"
      },
      "source": [
        "<a target=\"_blank\" href=\"https://colab.research.google.com/github/ArtificialIntelligenceToolkit/aitk/blob/master/notebooks/IntroToJupyterNotebook.ipynb\"><img src=\"https://colab.research.google.com/assets/colab-badge.svg\" alt=\"Open In Colab\"/></a>"
      ]
    },
    {
      "cell_type": "markdown",
      "metadata": {
        "id": "8011iY_gErOE"
      },
      "source": [
        "# Introduction to Jupyter Notebook\n",
        "\n",
        "This notebook provides a general introduction to `Jupyter Notebooks` to familiarize you with this platform. Here we will overview the basics of using a Jupyter notebook, preparing you for using other notebooks in the `aitk` collection.\n",
        "\n",
        "Each notebook is a series of cells. Some cells contain formatted text (like this one) and have a white background. Other cells contain executable code and have a gray background. You need to run each code cell to execute it.\n",
        "\n",
        "* If you are using the notebooks in **Google Colab**, simply press the Play arrow in the upper-left corner of a code cell to execute it.\n",
        "* If you are using the notebooks in **Jupyter**, when you are on a code cell, press the keys **SHIFT+ENTER** at the same time and this will execute it. This also works in Google Colab.\n",
        "\n"
      ]
    },
    {
      "cell_type": "markdown",
      "metadata": {
        "id": "kbGz67KtUFb3"
      },
      "source": [
        "In our notebooks, you will typically have to run an install and import block at the very top, like the one below. Run the next cell now.\n"
      ]
    },
    {
      "cell_type": "code",
      "execution_count": 1,
      "metadata": {
        "colab": {
          "base_uri": "https://localhost:8080/"
        },
        "id": "KLUTQFkAUGNn",
        "outputId": "366aac61-3eca-47d3-baf4-3e1705db27d7"
      },
      "outputs": [
        {
          "output_type": "stream",
          "name": "stderr",
          "text": [
            "<ipython-input-1-cd9e54b682e8>:3: MatplotlibDeprecationWarning: The seaborn styles shipped by Matplotlib are deprecated since 3.6, as they no longer correspond to the styles shipped by seaborn. However, they will remain available as 'seaborn-v0_8-<style>'. Alternatively, directly use the seaborn API instead.\n",
            "  plt.style.use('seaborn-whitegrid')\n"
          ]
        }
      ],
      "source": [
        "%matplotlib inline\n",
        "import matplotlib.pyplot as plt\n",
        "plt.style.use('seaborn-whitegrid')\n",
        "import numpy as np"
      ]
    },
    {
      "cell_type": "markdown",
      "metadata": {
        "id": "yLjiTzwBIUcc"
      },
      "source": [
        "## What is this thing?\n",
        "\n",
        "This is a `Notebook` running a programming language called Python.\n",
        "\n",
        "These notebooks have become a popular way of communicating scientific topics because they allow for a combination of text explanations with executable code and visualizations. For example, if you execute the following cell you will see a graph of the equation y = x+10. Notice that for the x value 2, the y value is 12."
      ]
    },
    {
      "cell_type": "code",
      "execution_count": 2,
      "metadata": {
        "colab": {
          "base_uri": "https://localhost:8080/",
          "height": 442
        },
        "id": "BDZjp4ykUjwo",
        "outputId": "1ecd5f85-4e68-4c97-a3a7-3a93327bf1b9"
      },
      "outputs": [
        {
          "output_type": "execute_result",
          "data": {
            "text/plain": [
              "[<matplotlib.lines.Line2D at 0x7d06c0c7df00>]"
            ]
          },
          "metadata": {},
          "execution_count": 2
        },
        {
          "output_type": "display_data",
          "data": {
            "text/plain": [
              "<Figure size 640x480 with 1 Axes>"
            ],
            "image/png": "[encoded data removed]"
          },
          "metadata": {}
        }
      ],
      "source": [
        "fig = plt.figure()\n",
        "ax = plt.axes()\n",
        "x = np.linspace(0, 10, 1000)\n",
        "plt.plot(x, x+10, linestyle='solid')"
      ]
    },
    {
      "cell_type": "markdown",
      "metadata": {
        "id": "82cJnS93NX2H"
      },
      "source": [
        "Let's play around with this notebook a little!\n",
        "\n",
        "Go back up to the plotting cell above and try changing the x+10 in the plotting line below to something different, such as x*2. Re-run the cell (either by pressing the arrow or doing SHIFT+ENTER) and the graph will update. Notice that for the x value 2, the y value is now 4.\n",
        "\n",
        "Feel free to experiment with other equations as much as you'd like. Just remember to re-execute the cell after every change to see the new graph that is produced."
      ]
    },
    {
      "cell_type": "markdown",
      "metadata": {
        "id": "jjW5jmu1NN0z"
      },
      "source": [
        "You can also enter some math, such as `2 * 12` and let Python tell you the answer. Try it!"
      ]
    },
    {
      "cell_type": "code",
      "execution_count": 3,
      "metadata": {
        "colab": {
          "base_uri": "https://localhost:8080/"
        },
        "id": "RXLJSxjzDx2W",
        "outputId": "db0bf1d0-6a67-4510-befe-2be8c93b3377"
      },
      "outputs": [
        {
          "output_type": "execute_result",
          "data": {
            "text/plain": [
              "24"
            ]
          },
          "metadata": {},
          "execution_count": 3
        }
      ],
      "source": [
        "2 * 12"
      ]
    },
    {
      "cell_type": "markdown",
      "metadata": {
        "id": "0yYPibbGGUHF"
      },
      "source": [
        "Each cell has an input and an output section. Try going back to the above cell and changing the numbers. Simply press the Play arrow or SHIFT+ENTER again, and the number in the output section will change."
      ]
    },
    {
      "cell_type": "markdown",
      "metadata": {
        "id": "qTnIXVMhIh75"
      },
      "source": [
        "###Markdown\n",
        "\n",
        "Providing a brief introduction to markdown, so you will be able to format text cells to your liking."
      ]
    },
    {
      "cell_type": "markdown",
      "metadata": {
        "id": "C3NQAcytG_lW"
      },
      "source": [
        "For some notebooks, we will ask you questions about the material in the notebook. In order to type in a notebook, double click on the cell. Try it here:"
      ]
    },
    {
      "cell_type": "markdown",
      "metadata": {
        "id": "UQFE40QjtBOY"
      },
      "source": [
        "First Name: *type here*\n",
        "\n",
        "Favorite fruit: *type here*\n",
        "\n"
      ]
    },
    {
      "cell_type": "markdown",
      "metadata": {
        "id": "jgeqbfpltPh6"
      },
      "source": [
        "If you want to **bold your text**, surround the text in **double asterisks** on each side. For *italics*, use a *single asterisk* on each side.\n",
        "\n",
        "Double click on this cell to see the special markdown characters. Then hit SHIFT-ENTER to bo back to the regular view."
      ]
    },
    {
      "cell_type": "markdown",
      "metadata": {
        "id": "wMVjxhm8M5-D"
      },
      "source": [
        "For some more information on markdown and formatting, visit the markdown cheat sheet: [Markdown Guide](https://www.markdownguide.org/cheat-sheet/)."
      ]
    },
    {
      "cell_type": "markdown",
      "metadata": {
        "id": "iMRQxOuPuWP_"
      },
      "source": [
        "##Tips\n",
        "General tips and tricks for using an `aitk` notebook."
      ]
    },
    {
      "cell_type": "markdown",
      "metadata": {
        "id": "o5oOVR_2uhOE"
      },
      "source": [
        "\n",
        "*   Remember to always run the cells in order.\n",
        "*   Be careful of syntax errors: when asked to enter something in the cell, pay attention to the way it was originally formatted.\n",
        "* Once a code cell is done executing, you should see a green check mark to the top left of the cell. If there is a problem, you will see an error message highlighted in red. Often an error occurs because you may have missed executing a previous code cell earlier in the notebook, and the current cell might depend on that. An easy way to fix this is to go to the \"Runtime\" menu at the top of the notebook. Select \"Restart session and run all\". This will start back at the top of your notebook and automatically execute each cell for you.\n",
        "*   Be patient, some cells take up to a minute or two to execute.\n",
        "*   If you want to stop a cell execution, double click on the start button (Google Collab specific).\n",
        "*   If you accidentally change something and can't figure out how to fix it, you can always go get a new copy of the notebook and start over.\n",
        "\n"
      ]
    },
    {
      "cell_type": "markdown",
      "source": [],
      "metadata": {
        "id": "QegeDS3aukpB"
      }
    },
    {
      "cell_type": "code",
      "source": [],
      "metadata": {
        "id": "e_npTa1E2Cqp"
      },
      "execution_count": 3,
      "outputs": []
    }
  ],
  "metadata": {
    "colab": {
      "provenance": []
    },
    "kernelspec": {
      "display_name": "Python 3 (ipykernel)",
      "language": "python",
      "name": "python3"
    },
    "language_info": {
      "codemirror_mode": {
        "name": "ipython",
        "version": 3
      },
      "file_extension": ".py",
      "mimetype": "text/x-python",
      "name": "python",
      "nbconvert_exporter": "python",
      "pygments_lexer": "ipython3",
      "version": "3.10.12"
    }
  },
  "nbformat": 4,
  "nbformat_minor": 0
}