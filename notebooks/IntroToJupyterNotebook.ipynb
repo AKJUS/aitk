{
  "nbformat": 4,
  "nbformat_minor": 0,
  "metadata": {
    "colab": {
      "provenance": []
    },
    "kernelspec": {
      "name": "python3",
      "display_name": "Python 3"
    },
    "language_info": {
      "name": "python"
    }
  },
  "cells": [
    {
      "cell_type": "code",
      "source": [
        "<a target=\"_blank\" href=\"https://colab.research.google.com/github/ArtificialIntelligenceToolkit/aitk/blob/master/notebooks/IntroToJupyterNotebook.ipynb\"><img src=\"https://colab.research.google.com/assets/colab-badge.svg\" alt=\"Open In Colab\"/></a>"
      ],
      "metadata": {
        "id": "Qd7kED9upQt_"
      },
      "execution_count": null,
      "outputs": []
    },
    {
      "cell_type": "markdown",
      "source": [
        "#Introduction to Jupyter Notebook\n",
        "Through this notebook, we hope to provide a general introduction to `Jupyter Notebooks` to familiarize you, the user, with this platform. Here we will overview the basics of using a Jupyter notebook, preparing you for using other notebooks in the `aitk` collection."
      ],
      "metadata": {
        "id": "8011iY_gErOE"
      }
    },
    {
      "cell_type": "markdown",
      "source": [
        "In our notebooks, you will typically have to run an install and import block at the very top before starting. **Press SHIFT+ENTER** to install the relevant libraries for this notebook to work. Once a cell is done executing, you should see a green check mark to the top left of the cell."
      ],
      "metadata": {
        "id": "kbGz67KtUFb3"
      }
    },
    {
      "cell_type": "code",
      "source": [
        "%matplotlib inline\n",
        "import matplotlib.pyplot as plt\n",
        "plt.style.use('seaborn-whitegrid')\n",
        "import numpy as np"
      ],
      "metadata": {
        "colab": {
          "base_uri": "https://localhost:8080/"
        },
        "id": "KLUTQFkAUGNn",
        "outputId": "53155423-46f1-4e1d-89e6-4f4b0204ff32"
      },
      "execution_count": null,
      "outputs": [
        {
          "output_type": "stream",
          "name": "stderr",
          "text": [
            "<ipython-input-1-cd9e54b682e8>:3: MatplotlibDeprecationWarning: The seaborn styles shipped by Matplotlib are deprecated since 3.6, as they no longer correspond to the styles shipped by seaborn. However, they will remain available as 'seaborn-v0_8-<style>'. Alternatively, directly use the seaborn API instead.\n",
            "  plt.style.use('seaborn-whitegrid')\n"
          ]
        }
      ]
    },
    {
      "cell_type": "markdown",
      "source": [
        "## What is this thing?\n",
        "Learn how to use a Jupyter notebook."
      ],
      "metadata": {
        "id": "9hTI2UeDGOYP"
      }
    },
    {
      "cell_type": "markdown",
      "source": [
        "This is a `Notebook` running Python.\n",
        "\n",
        "These notebooks have become a popular way of communicating scientific topics because they allow for a combination of text explanations with executable code and visualizations. For example, if you run the following cell by **pressing SHIFT+ENTER**, you will see a simple line (y = mx+b) plotted on the graph. For this specific example, the line is y = x."
      ],
      "metadata": {
        "id": "yLjiTzwBIUcc"
      }
    },
    {
      "cell_type": "code",
      "source": [
        "fig = plt.figure()\n",
        "ax = plt.axes()\n",
        "x = np.linspace(0, 10, 1000)\n",
        "plt.plot(x, x + 0, linestyle='solid')"
      ],
      "metadata": {
        "colab": {
          "base_uri": "https://localhost:8080/",
          "height": 442
        },
        "id": "BDZjp4ykUjwo",
        "outputId": "6b04ff68-8fda-4bb6-8fe4-d093af22aa89"
      },
      "execution_count": null,
      "outputs": [
        {
          "output_type": "execute_result",
          "data": {
            "text/plain": [
              "[<matplotlib.lines.Line2D at 0x7ccd815ff760>]"
            ]
          },
          "metadata": {},
          "execution_count": 2
        },
        {
          "output_type": "display_data",
          "data": {
            "text/plain": [
              "<Figure size 640x480 with 1 Axes>"
            ],
            "image/png": "[encoded data removed]"
          },
          "metadata": {}
        }
      ]
    },
    {
      "cell_type": "markdown",
      "source": [
        "Let's play around with this notebook a little!"
      ],
      "metadata": {
        "id": "82cJnS93NX2H"
      }
    },
    {
      "cell_type": "markdown",
      "source": [
        "Each block of text or code makes up a \"cell\". Remember you can **execute a cell by pressing SHIFT+ENTER** or if you are executing this notebook in Google Colab you can press the play button on the left side of the cell.\n",
        "\n",
        "You can enter some math, such as `2 * 12` and let Python tell you the answer. Try it!"
      ],
      "metadata": {
        "id": "jjW5jmu1NN0z"
      }
    },
    {
      "cell_type": "code",
      "execution_count": null,
      "metadata": {
        "id": "RXLJSxjzDx2W",
        "colab": {
          "base_uri": "https://localhost:8080/"
        },
        "outputId": "14f98d59-a60e-4e9a-f39b-9ff1e1b873bc"
      },
      "outputs": [
        {
          "output_type": "execute_result",
          "data": {
            "text/plain": [
              "24"
            ]
          },
          "metadata": {},
          "execution_count": 3
        }
      ],
      "source": [
        "2 * 12"
      ]
    },
    {
      "cell_type": "markdown",
      "source": [
        "Each cell has an input and an output section. Try going back to the above cell and changing the numbers. Simply press SHIFT+ENTER again, and the number in the output section will change."
      ],
      "metadata": {
        "id": "0yYPibbGGUHF"
      }
    },
    {
      "cell_type": "markdown",
      "source": [
        "###Markdown\n",
        "Providing a brief introduction to markdown, so you will be able to format text cells to your liking."
      ],
      "metadata": {
        "id": "qTnIXVMhIh75"
      }
    },
    {
      "cell_type": "markdown",
      "source": [
        "For some notebooks, we will ask you questions about the material in the notebook. In order to type in a notebook, double click on the cell. Try it here:"
      ],
      "metadata": {
        "id": "C3NQAcytG_lW"
      }
    },
    {
      "cell_type": "markdown",
      "source": [
        "First Name: *type here*\n",
        "\n",
        "Favorite fruit: *type here*\n",
        "\n"
      ],
      "metadata": {
        "id": "UQFE40QjtBOY"
      }
    },
    {
      "cell_type": "markdown",
      "source": [
        "If you want to **bold your text**, surround the text in **double asterisks** on each side. For *italics*, use a *single asterisk* on each side."
      ],
      "metadata": {
        "id": "jgeqbfpltPh6"
      }
    },
    {
      "cell_type": "markdown",
      "source": [
        "For some more information on markdown and formatting, visit the markdown cheat sheet: [Markdown Guide](https://www.markdownguide.org/cheat-sheet/)."
      ],
      "metadata": {
        "id": "wMVjxhm8M5-D"
      }
    },
    {
      "cell_type": "markdown",
      "source": [
        "##Tips\n",
        "General tips and tricks for using an `aitk` notebook."
      ],
      "metadata": {
        "id": "iMRQxOuPuWP_"
      }
    },
    {
      "cell_type": "markdown",
      "source": [
        "\n",
        "*   Remember to always run the cells in order\n",
        "\n",
        "*   Unless specifically noted, run all the cells in the notebook.\n",
        "\n",
        "*   Be careful of syntax errors: when asked to enter something in the cell, pay attention to the way it was originally formatted.\n",
        "*   Be patient, some cells take up to a minute or two to execute.\n",
        "\n",
        "*   If you want to stop a cell execution, double click on the start button (Google Collab specific).\n",
        "*   Do not alter any code that does not have specific directions for altering it.\n",
        "\n",
        "\n",
        "\n",
        "\n"
      ],
      "metadata": {
        "id": "o5oOVR_2uhOE"
      }
    }
  ]
}