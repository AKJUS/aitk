{
 "cells": [
  {
   "cell_type": "code",
   "execution_count": 1,
   "metadata": {},
   "outputs": [
    {
     "data": {
      "text/plain": [
       "'0.9.32'"
      ]
     },
     "execution_count": 1,
     "metadata": {},
     "output_type": "execute_result"
    }
   ],
   "source": [
    "import aitk.robots\n",
    "from aitk.utils import Grid\n",
    "aitk.robots.__version__"
   ]
  },
  {
   "cell_type": "markdown",
   "metadata": {},
   "source": [
    "This program allows the robot to wander around an empty world.\n",
    "It uses a Grid imposed on the World to track the robot's location\n",
    "over time. It plots a heat map of the locactions visted and computes \n",
    "the pecentage of Grid locations visited."
   ]
  },
  {
   "cell_type": "code",
   "execution_count": 2,
   "metadata": {},
   "outputs": [
    {
     "name": "stdout",
     "output_type": "stream",
     "text": [
      "Random seed set to: 3037513\n"
     ]
    }
   ],
   "source": [
    "world = aitk.robots.World(width=200, height=200, scale=5.0)\n",
    "robot = aitk.robots.Scribbler(x=100, y=100, a=87, max_trace_length=60)\n",
    "robot.add_device(aitk.robots.RangeSensor(position=(6,-6),max=20,a=0,width=57.3,name=\"left-ir\"))\n",
    "robot.add_device(aitk.robots.RangeSensor(position=(6,6),max=20,a=0,width=57.3,name=\"right-ir\"))\n",
    "world.add_robot(robot)\n",
    "world.update()\n",
    "world.save()"
   ]
  },
  {
   "cell_type": "code",
   "execution_count": 3,
   "metadata": {
    "tags": []
   },
   "outputs": [
    {
     "data": {
      "application/vnd.jupyter.widget-view+json": {
       "model_id": "96104f2d574349808f56ab76f672d845",
       "version_major": 2,
       "version_minor": 0
      },
      "text/plain": [
       "Image(value=b'\\xff\\xd8\\xff\\xe0\\x00\\x10JFIF\\x00\\x01\\x01\\x00\\x00\\x01\\x00\\x01\\x00\\x00\\xff\\xdb\\x00C\\x00\\x08\\x06\\x0…"
      ]
     },
     "metadata": {},
     "output_type": "display_data"
    }
   ],
   "source": [
    "world.watch()"
   ]
  },
  {
   "cell_type": "code",
   "execution_count": 4,
   "metadata": {},
   "outputs": [],
   "source": [
    "from random import random\n",
    "\n",
    "def wander(robot):\n",
    "    left = robot[0].get_distance()\n",
    "    right = robot[1].get_distance()\n",
    "    x, y, direction = robot.get_pose()\n",
    "    robot.state[\"grid\"].update(x, y)\n",
    "    robot.state[\"grid\"].draw()\n",
    "    # Save the robot's location only once per second\n",
    "    if left == robot[0].get_max() and right == robot[1].get_max() and \\\n",
    "        robot.state[\"timer\"] == 0:\n",
    "        #front clear, move random direction\n",
    "        direction = 1\n",
    "        if random() < 0.5:\n",
    "            direction = -1\n",
    "        robot.move(0.5, direction*random())\n",
    "        if robot.state[\"debug\"]: robot.speak(\"F\")\n",
    "    elif robot.state[\"timer\"] > 0 and robot.state[\"timer\"] < 5:\n",
    "        #timer triggered, continue current rotation\n",
    "        robot.state[\"timer\"] += 1\n",
    "        if robot.state[\"debug\"]: robot.speak(\"timer %d\" % (robot.state[\"timer\"]))\n",
    "    elif left < robot[0].get_max():\n",
    "        #obstacle on left, turn right, trigger timer\n",
    "        robot.move(0, -0.4)\n",
    "        robot.state[\"timer\"] = 1\n",
    "        if robot.state[\"debug\"]: robot.speak(\"R\")\n",
    "    elif right < robot[1].get_max():\n",
    "        #obstacle on right, turn left, trigger timer\n",
    "        robot.move(0, 0.4)\n",
    "        robot.state[\"timer\"] = 1\n",
    "        if robot.state[\"debug\"]: robot.speak(\"L\")\n",
    "    else:\n",
    "        #reset timer to zero\n",
    "        robot.state[\"timer\"] = 0\n",
    "        if robot.state[\"debug\"]: robot.speak(\"reset\")    \n",
    "    "
   ]
  },
  {
   "cell_type": "code",
   "execution_count": 9,
   "metadata": {},
   "outputs": [
    {
     "name": "stdout",
     "output_type": "stream",
     "text": [
      "Using random seed: 88\n",
      "Using random seed: 51\n",
      "Simulation stopped at: 00:01:00.0; speed 206.91 x real time\n"
     ]
    }
   ],
   "source": [
    "### BUG HERE, re-running this cell should reset the Grid because\n",
    "### we are re-creating the Grid from scratch, reusing the orignal\n",
    "### world\n",
    "\n",
    "from random import randrange\n",
    "\n",
    "robot.state[\"timer\"] = 0\n",
    "robot.state[\"grid\"] = Grid((10,10), world)\n",
    "robot.state[\"debug\"] = True\n",
    "\n",
    "world.reset()\n",
    "world.set_seed(randrange(1,100)) # allow randomness\n",
    "world.seconds(60, [wander], real_time=False)"
   ]
  },
  {
   "cell_type": "code",
   "execution_count": 10,
   "metadata": {},
   "outputs": [
    {
     "name": "stdout",
     "output_type": "stream",
     "text": [
      "  0   0   0   0   0   0   0   0   0   0 \n",
      "  0   0   2  46  43  47  41   4   0   0 \n",
      "  0  15  24  19   3   0   6  43  10   0 \n",
      "  0  83  28  18  48  51  46  27   8   0 \n",
      "  0  50  33  37  61  51   0   0   0   0 \n",
      "  0  21  48   8  15  20   0   0   0   0 \n",
      "  0  69  43  24  28  20   0   0   0   0 \n",
      "  0  53   0  13  36  28   0   0   0   0 \n",
      "  0 480  40  10   0   0   0   0   0   0 \n",
      "  0   0   0   0   0   0   0   0   0   0 \n",
      "\n"
     ]
    },
    {
     "data": {
      "text/plain": [
       "0.43"
      ]
     },
     "execution_count": 10,
     "metadata": {},
     "output_type": "execute_result"
    }
   ],
   "source": [
    "g = robot.state[\"grid\"]\n",
    "g.show()\n",
    "g.analyze_visits()"
   ]
  },
  {
   "cell_type": "code",
   "execution_count": null,
   "metadata": {},
   "outputs": [],
   "source": []
  }
 ],
 "metadata": {
  "jupytext": {
   "formats": "ipynb,md"
  },
  "kernelspec": {
   "display_name": "Python 3",
   "language": "python",
   "name": "python3"
  },
  "language_info": {
   "codemirror_mode": {
    "name": "ipython",
    "version": 3
   },
   "file_extension": ".py",
   "mimetype": "text/x-python",
   "name": "python",
   "nbconvert_exporter": "python",
   "pygments_lexer": "ipython3",
   "version": "3.8.2"
  },
  "widgets": {
   "application/vnd.jupyter.widget-state+json": {
    "state": {
     "0973aeabfc694735bb8bc6a65761f1c0": {
      "model_module": "@jupyter-widgets/controls",
      "model_module_version": "1.5.0",
      "model_name": "HTMLModel",
      "state": {
       "layout": "IPY_MODEL_387fe569d9f448a98b4cf97012689eaa",
       "style": "IPY_MODEL_6b613112c28c42888905a6b5b5c4ec06",
       "value": " 497/? [00:50&lt;00:00,  9.91it/s]"
      }
     },
     "259e3b0e6122487dbf30af586c9784b2": {
      "model_module": "@jupyter-widgets/controls",
      "model_module_version": "1.5.0",
      "model_name": "HBoxModel",
      "state": {
       "children": [
        "IPY_MODEL_f3335cd104d84fd1a8d6ec9a0e0a9a84",
        "IPY_MODEL_34c7ade53c4e41419929b1fa75217a83",
        "IPY_MODEL_0973aeabfc694735bb8bc6a65761f1c0"
       ],
       "layout": "IPY_MODEL_e84a25604e864639a423f772cc0e388f"
      }
     },
     "27a2dd6480fe411888d844d485e77e55": {
      "model_module": "bqplot",
      "model_module_version": "^0.5.23",
      "model_name": "LinearScaleModel",
      "state": {
       "stabilized": false
      }
     },
     "34c7ade53c4e41419929b1fa75217a83": {
      "model_module": "@jupyter-widgets/controls",
      "model_module_version": "1.5.0",
      "model_name": "FloatProgressModel",
      "state": {
       "bar_style": "danger",
       "layout": "IPY_MODEL_b1fc9aee36614b34b27e6a19899820c0",
       "max": 1,
       "style": "IPY_MODEL_986f9ee6531a4f1b97f02416f278ac12",
       "value": 1
      }
     },
     "37d259a645d3434e8c2b2e4fd7398931": {
      "model_module": "@jupyter-widgets/base",
      "model_module_version": "1.2.0",
      "model_name": "LayoutModel",
      "state": {}
     },
     "387fe569d9f448a98b4cf97012689eaa": {
      "model_module": "@jupyter-widgets/base",
      "model_module_version": "1.2.0",
      "model_name": "LayoutModel",
      "state": {}
     },
     "3bb8cadfc2044fc286f6bb61c49d72c5": {
      "model_module": "@jupyter-widgets/base",
      "model_module_version": "1.2.0",
      "model_name": "LayoutModel",
      "state": {
       "border": "10px solid rgb(0 177 255)",
       "margin": "auto"
      }
     },
     "40d6cb332f7b47589409d276b2466890": {
      "model_module": "bqplot",
      "model_module_version": "^0.5.23",
      "model_name": "LinearScaleModel",
      "state": {
       "allow_padding": false,
       "max": 1,
       "min": 0,
       "stabilized": false
      }
     },
     "4c90ec30aaee4f56bec5577da3278652": {
      "model_module": "bqplot",
      "model_module_version": "^0.5.23",
      "model_name": "AxisModel",
      "state": {
       "scale": "IPY_MODEL_60dd7c09b9d54596a1f8f8494eb6900b",
       "side": "bottom",
       "tick_values": null
      }
     },
     "528c01a4b1e14268ad6f336bea56df47": {
      "model_module": "bqplot",
      "model_module_version": "^0.5.23",
      "model_name": "AxisModel",
      "state": {
       "orientation": "vertical",
       "scale": "IPY_MODEL_27a2dd6480fe411888d844d485e77e55",
       "side": "left",
       "tick_values": null
      }
     },
     "60dd7c09b9d54596a1f8f8494eb6900b": {
      "model_module": "bqplot",
      "model_module_version": "^0.5.23",
      "model_name": "LinearScaleModel",
      "state": {
       "stabilized": false
      }
     },
     "62a2ef96e45d4b2c94484d2f37b0a24e": {
      "model_module": "@jupyter-widgets/base",
      "model_module_version": "1.2.0",
      "model_name": "LayoutModel",
      "state": {}
     },
     "6477553ea87544138d823e21f83fc78f": {
      "model_module": "@jupyter-widgets/controls",
      "model_module_version": "1.5.0",
      "model_name": "DescriptionStyleModel",
      "state": {
       "description_width": ""
      }
     },
     "64ca81bb6aee41719695e382d5f73eb1": {
      "model_module": "@jupyter-widgets/base",
      "model_module_version": "1.2.0",
      "model_name": "LayoutModel",
      "state": {
       "height": "650px",
       "width": "650px"
      }
     },
     "65e86cee61e5486899146820dfaee9a3": {
      "model_module": "@jupyter-widgets/controls",
      "model_module_version": "1.5.0",
      "model_name": "HBoxModel",
      "state": {
       "children": [
        "IPY_MODEL_df7e12ac5b0f40e08417f86a0d06582e",
        "IPY_MODEL_f2f623cab038460d91d3aa92dcfd8f7e",
        "IPY_MODEL_707cdfdd67f847069e0c311437457cde"
       ],
       "layout": "IPY_MODEL_62a2ef96e45d4b2c94484d2f37b0a24e"
      }
     },
     "6a10fe1b4c424ef08eab63fe0376ff94": {
      "model_module": "@jupyter-widgets/controls",
      "model_module_version": "1.5.0",
      "model_name": "ProgressStyleModel",
      "state": {
       "description_width": ""
      }
     },
     "6b613112c28c42888905a6b5b5c4ec06": {
      "model_module": "@jupyter-widgets/controls",
      "model_module_version": "1.5.0",
      "model_name": "DescriptionStyleModel",
      "state": {
       "description_width": ""
      }
     },
     "707cdfdd67f847069e0c311437457cde": {
      "model_module": "@jupyter-widgets/controls",
      "model_module_version": "1.5.0",
      "model_name": "HTMLModel",
      "state": {
       "layout": "IPY_MODEL_ae26c72a40d643e6bb3c521c945fddc8",
       "style": "IPY_MODEL_6477553ea87544138d823e21f83fc78f",
       "value": " 600/600 [00:00&lt;00:00, 2113.89it/s]"
      }
     },
     "751dd6253cf54633be2325f848999967": {
      "buffers": [
       {
        "data": "AAAAAAAAAAAAAAAAAAAAAAAAAAAAAAAAAAAAAAAAAAAAAAAAAAAAAA==",
        "encoding": "base64",
        "path": [
         "color",
         0,
         "value"
        ]
       },
       {
        "data": "AAAAAAAAAAAAAAAAAAAAAB8AAABiAAAAKgAAAAYAAAAAAAAAAAAAAA==",
        "encoding": "base64",
        "path": [
         "color",
         1,
         "value"
        ]
       },
       {
        "data": "AAAAAAAAAAAAAAAAAAAAACMAAAAjAAAAJgAAACoAAAAAAAAAAAAAAA==",
        "encoding": "base64",
        "path": [
         "color",
         2,
         "value"
        ]
       },
       {
        "data": "AAAAAAAAAAAEAAAAFgAAACgAAAAfAAAAMwAAAAsAAAAAAAAAAAAAAA==",
        "encoding": "base64",
        "path": [
         "color",
         3,
         "value"
        ]
       },
       {
        "data": "AAAAAC0AAAAmAAAAEQAAACMAAAAcAAAAFAAAAAAAAAAAAAAAAAAAAA==",
        "encoding": "base64",
        "path": [
         "color",
         4,
         "value"
        ]
       },
       {
        "data": "AAAAAAAAAAAAAAAAFgAAAEkAAAALAAAAFQAAAAAAAAAAAAAAAAAAAA==",
        "encoding": "base64",
        "path": [
         "color",
         5,
         "value"
        ]
       },
       {
        "data": "AAAAAAAAAAAXAAAAJAAAABcAAAADAAAAFwAAAAAAAAAAAAAAAAAAAA==",
        "encoding": "base64",
        "path": [
         "color",
         6,
         "value"
        ]
       },
       {
        "data": "AAAAAAcAAAArAAAAAAAAAAcAAAAYAAAAAwAAAAAAAAAAAAAAAAAAAA==",
        "encoding": "base64",
        "path": [
         "color",
         7,
         "value"
        ]
       },
       {
        "data": "AAAAACMAAAAjAAAAFgAAABEAAAAAAAAAAAAAAAAAAAAAAAAAAAAAAA==",
        "encoding": "base64",
        "path": [
         "color",
         8,
         "value"
        ]
       },
       {
        "data": "AAAAAAAAAAAAAAAAAAAAAAAAAAAAAAAAAAAAAAAAAAAAAAAAAAAAAA==",
        "encoding": "base64",
        "path": [
         "color",
         9,
         "value"
        ]
       },
       {
        "data": "AAAAAAEAAAACAAAAAwAAAAQAAAAFAAAABgAAAAcAAAAIAAAACQAAAA==",
        "encoding": "base64",
        "path": [
         "x",
         "value"
        ]
       },
       {
        "data": "AAAAAAEAAAACAAAAAwAAAAQAAAAFAAAABgAAAAcAAAAIAAAACQAAAA==",
        "encoding": "base64",
        "path": [
         "y",
         "value"
        ]
       }
      ],
      "model_module": "bqplot",
      "model_module_version": "^0.5.23",
      "model_name": "HeatMapModel",
      "state": {
       "color": [
        {
         "dtype": "int32",
         "shape": [
          10
         ],
         "type": null,
         "value": {}
        },
        {
         "dtype": "int32",
         "shape": [
          10
         ],
         "type": null,
         "value": {}
        },
        {
         "dtype": "int32",
         "shape": [
          10
         ],
         "type": null,
         "value": {}
        },
        {
         "dtype": "int32",
         "shape": [
          10
         ],
         "type": null,
         "value": {}
        },
        {
         "dtype": "int32",
         "shape": [
          10
         ],
         "type": null,
         "value": {}
        },
        {
         "dtype": "int32",
         "shape": [
          10
         ],
         "type": null,
         "value": {}
        },
        {
         "dtype": "int32",
         "shape": [
          10
         ],
         "type": null,
         "value": {}
        },
        {
         "dtype": "int32",
         "shape": [
          10
         ],
         "type": null,
         "value": {}
        },
        {
         "dtype": "int32",
         "shape": [
          10
         ],
         "type": null,
         "value": {}
        },
        {
         "dtype": "int32",
         "shape": [
          10
         ],
         "type": null,
         "value": {}
        }
       ],
       "scales": {
        "color": "IPY_MODEL_93a50961d9084648a27e63960d181c92",
        "x": "IPY_MODEL_60dd7c09b9d54596a1f8f8494eb6900b",
        "y": "IPY_MODEL_27a2dd6480fe411888d844d485e77e55"
       },
       "x": {
        "dtype": "int32",
        "shape": [
         10
        ],
        "type": null,
        "value": {}
       },
       "y": {
        "dtype": "int32",
        "shape": [
         10
        ],
        "type": null,
        "value": {}
       }
      }
     },
     "8f8d25ceac794b8e992f3e3ceff2b824": {
      "model_module": "@jupyter-widgets/base",
      "model_module_version": "1.2.0",
      "model_name": "LayoutModel",
      "state": {}
     },
     "93a50961d9084648a27e63960d181c92": {
      "model_module": "bqplot",
      "model_module_version": "^0.5.23",
      "model_name": "ColorScaleModel",
      "state": {
       "colors": [],
       "reverse": true,
       "scale_type": "linear",
       "scheme": "Greys"
      }
     },
     "96902f79440d4b16951b4ff0a4fb42a6": {
      "model_module": "@jupyter-widgets/controls",
      "model_module_version": "1.5.0",
      "model_name": "DescriptionStyleModel",
      "state": {
       "description_width": ""
      }
     },
     "986f9ee6531a4f1b97f02416f278ac12": {
      "model_module": "@jupyter-widgets/controls",
      "model_module_version": "1.5.0",
      "model_name": "ProgressStyleModel",
      "state": {
       "description_width": ""
      }
     },
     "9e6515a694f045cfb0109efa142aaae3": {
      "model_module": "@jupyter-widgets/controls",
      "model_module_version": "1.5.0",
      "model_name": "DescriptionStyleModel",
      "state": {
       "description_width": ""
      }
     },
     "ae26c72a40d643e6bb3c521c945fddc8": {
      "model_module": "@jupyter-widgets/base",
      "model_module_version": "1.2.0",
      "model_name": "LayoutModel",
      "state": {}
     },
     "b1fc9aee36614b34b27e6a19899820c0": {
      "model_module": "@jupyter-widgets/base",
      "model_module_version": "1.2.0",
      "model_name": "LayoutModel",
      "state": {
       "width": "20px"
      }
     },
     "b2317e2e686d4b02875a7c981bec1f88": {
      "model_module": "@jupyter-widgets/base",
      "model_module_version": "1.2.0",
      "model_name": "LayoutModel",
      "state": {}
     },
     "cd333cf4c693422ab4a173f01d1afdd9": {
      "model_module": "bqplot",
      "model_module_version": "^0.5.23",
      "model_name": "ColorAxisModel",
      "state": {
       "scale": "IPY_MODEL_93a50961d9084648a27e63960d181c92",
       "side": "bottom",
       "tick_values": null
      }
     },
     "d2bd0331d2d549b9bb71337e65ede213": {
      "buffers": [
       {
        "data": "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",
        "encoding": "base64",
        "path": [
         "value"
        ]
       }
      ],
      "model_module": "@jupyter-widgets/controls",
      "model_module_version": "1.5.0",
      "model_name": "ImageModel",
      "state": {
       "layout": "IPY_MODEL_3bb8cadfc2044fc286f6bb61c49d72c5",
       "value": {}
      }
     },
     "df7e12ac5b0f40e08417f86a0d06582e": {
      "model_module": "@jupyter-widgets/controls",
      "model_module_version": "1.5.0",
      "model_name": "HTMLModel",
      "state": {
       "layout": "IPY_MODEL_37d259a645d3434e8c2b2e4fd7398931",
       "style": "IPY_MODEL_9e6515a694f045cfb0109efa142aaae3",
       "value": "100%"
      }
     },
     "e84a25604e864639a423f772cc0e388f": {
      "model_module": "@jupyter-widgets/base",
      "model_module_version": "1.2.0",
      "model_name": "LayoutModel",
      "state": {}
     },
     "ee276245a155487d81272ec0572b4392": {
      "model_module": "bqplot",
      "model_module_version": "^0.5.23",
      "model_name": "LinearScaleModel",
      "state": {
       "allow_padding": false,
       "max": 1,
       "min": 0,
       "stabilized": false
      }
     },
     "f16e7b127098425fa59482d7ce2b48da": {
      "model_module": "bqplot",
      "model_module_version": "^0.5.23",
      "model_name": "FigureModel",
      "state": {
       "axes": [
        "IPY_MODEL_cd333cf4c693422ab4a173f01d1afdd9",
        "IPY_MODEL_4c90ec30aaee4f56bec5577da3278652",
        "IPY_MODEL_528c01a4b1e14268ad6f336bea56df47"
       ],
       "layout": "IPY_MODEL_64ca81bb6aee41719695e382d5f73eb1",
       "marks": [
        "IPY_MODEL_751dd6253cf54633be2325f848999967"
       ],
       "scale_x": "IPY_MODEL_ee276245a155487d81272ec0572b4392",
       "scale_y": "IPY_MODEL_40d6cb332f7b47589409d276b2466890",
       "title": "Coverage"
      }
     },
     "f2f623cab038460d91d3aa92dcfd8f7e": {
      "model_module": "@jupyter-widgets/controls",
      "model_module_version": "1.5.0",
      "model_name": "FloatProgressModel",
      "state": {
       "bar_style": "success",
       "layout": "IPY_MODEL_8f8d25ceac794b8e992f3e3ceff2b824",
       "max": 600,
       "style": "IPY_MODEL_6a10fe1b4c424ef08eab63fe0376ff94",
       "value": 600
      }
     },
     "f3335cd104d84fd1a8d6ec9a0e0a9a84": {
      "model_module": "@jupyter-widgets/controls",
      "model_module_version": "1.5.0",
      "model_name": "HTMLModel",
      "state": {
       "layout": "IPY_MODEL_b2317e2e686d4b02875a7c981bec1f88",
       "style": "IPY_MODEL_96902f79440d4b16951b4ff0a4fb42a6"
      }
     }
    },
    "version_major": 2,
    "version_minor": 0
   }
  }
 },
 "nbformat": 4,
 "nbformat_minor": 4
}
