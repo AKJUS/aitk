{
 "cells": [
  {
   "cell_type": "markdown",
   "metadata": {},
   "source": [
    "# Computational Essays in Artificial Intelligence"
   ]
  },
  {
   "cell_type": "markdown",
   "metadata": {},
   "source": [
    "## What is it like to be a robot?"
   ]
  },
  {
   "cell_type": "markdown",
   "metadata": {},
   "source": [
    "Philosopher Thomas Nagel famously asked \"What is it like to be a bat?\" in his 1974 paper of the same name.  Nagel argued that one might try to imagine what being a bat would be like, but without inhabiting its body and experiencing the world as it does through echolocation, we can't *really* know what it is like to be a bat.  \n",
    "\n",
    "German biologist Jakob Von Uexk&uuml;ll developed the term *umwelt* to capture the idea of how the world is experienced by a particular organism.  When translated from German this equates to \"self-centered world\". For a dog the world is dominated by smell, whereas for most humans the world is experienced primarily through vision. \n",
    "\n",
    "Here we will explore a robot's umwelt, and try to imagine what is it like to be a robot. We will use a robot with both range sensors and a camera."
   ]
  },
  {
   "cell_type": "markdown",
   "metadata": {},
   "source": [
    "## 1. Setup"
   ]
  },
  {
   "cell_type": "code",
   "execution_count": 1,
   "metadata": {},
   "outputs": [],
   "source": [
    "from aitk.robots import World, Scribbler, RangeSensor, Camera"
   ]
  },
  {
   "cell_type": "markdown",
   "metadata": {},
   "source": [
    "Let's create a world with several uniquely colored rooms along a long corridor for our robot to explore."
   ]
  },
  {
   "cell_type": "code",
   "execution_count": 2,
   "metadata": {},
   "outputs": [
    {
     "name": "stdout",
     "output_type": "stream",
     "text": [
      "Random seed set to: 2002721\n"
     ]
    }
   ],
   "source": [
    "world = World(width=300, height=200)\n",
    "world.add_wall(\"orange\",50,75,150,85)\n",
    "world.add_wall(\"yellow\",150,75,250,85)\n",
    "world.add_wall(\"orange\",145,0,150,75)\n",
    "world.add_wall(\"yellow\",150,0,155,75)\n",
    "world.add_wall(\"red\",0,125,165,135)\n",
    "world.add_wall(\"red\",220,125,225,200)\n",
    "world.add_wall(\"blue\",225,125,230,200)\n",
    "world.add_wall(\"pink\",155,0,185,30)\n",
    "robot = Scribbler(x=30, y=30, a=-100, max_trace_length=600)\n",
    "robot.add_device(RangeSensor(position=(6,-6),width=57.3,max=20,a=0,name=\"left-ir\"))\n",
    "robot.add_device(RangeSensor(position=(6,6),width=57.3,max=20,a=0,name=\"right-ir\"))\n",
    "robot.add_device(Camera(width=128,height=64))\n",
    "world.add_robot(robot)"
   ]
  },
  {
   "cell_type": "markdown",
   "metadata": {},
   "source": [
    "## 2. Distal vs proximal perspectives\n",
    "\n",
    "Let's watch the world from a bird's-eye view as the robot moves around.  This gives us a *distal* perspective on the world.  We are not experiencing the world as the robot does, but instead have a top-down global view of what is happening. \n",
    "\n",
    "Notice that there is a pink box located in the yellow room. Later we will be trying to find this box."
   ]
  },
  {
   "cell_type": "code",
   "execution_count": 3,
   "metadata": {
    "tags": []
   },
   "outputs": [
    {
     "data": {
      "application/vnd.jupyter.widget-view+json": {
       "model_id": "9f8e0782112a4231b933248c6b1160bc",
       "version_major": 2,
       "version_minor": 0
      },
      "text/plain": [
       "Image(value=b'\\xff\\xd8\\xff\\xe0\\x00\\x10JFIF\\x00\\x01\\x01\\x00\\x00\\x01\\x00\\x01\\x00\\x00\\xff\\xdb\\x00C\\x00\\x08\\x06\\x0…"
      ]
     },
     "metadata": {},
     "output_type": "display_data"
    }
   ],
   "source": [
    "world.watch()"
   ]
  },
  {
   "cell_type": "markdown",
   "metadata": {},
   "source": [
    "At the same time let's watch how the robot is experiencing the world through it's camera.  This gives us a *proximal* perspective on the world, from the agent's point of view.  "
   ]
  },
  {
   "cell_type": "code",
   "execution_count": 4,
   "metadata": {},
   "outputs": [
    {
     "data": {
      "application/vnd.jupyter.widget-view+json": {
       "model_id": "77d38b56f68c48748259eb394f4aaab6",
       "version_major": 2,
       "version_minor": 0
      },
      "text/plain": [
       "HTML(value='<style>img.pixelated {image-rendering: pixelated;}</style>')"
      ]
     },
     "metadata": {},
     "output_type": "display_data"
    },
    {
     "data": {
      "application/vnd.jupyter.widget-view+json": {
       "model_id": "5351e0b98e8348829aaff9c22be4a2b6",
       "version_major": 2,
       "version_minor": 0
      },
      "text/plain": [
       "HTML(value='<style>img.pixelated {image-rendering: pixelated;}</style>')"
      ]
     },
     "metadata": {},
     "output_type": "display_data"
    },
    {
     "data": {
      "application/vnd.jupyter.widget-view+json": {
       "model_id": "79f6994460d94bcdb5d79ee820353f8e",
       "version_major": 2,
       "version_minor": 0
      },
      "text/plain": [
       "HTML(value='<style>img.pixelated {image-rendering: pixelated;}</style>')"
      ]
     },
     "metadata": {},
     "output_type": "display_data"
    },
    {
     "data": {
      "application/vnd.jupyter.widget-view+json": {
       "model_id": "5ab0fa1b9ede40ecb862b2f0dcc17999",
       "version_major": 2,
       "version_minor": 0
      },
      "text/plain": [
       "Image(value=b\"\\x89PNG\\r\\n\\x1a\\n\\x00\\x00\\x00\\rIHDR\\x00\\x00\\x00\\x80\\x00\\x00\\x00@\\x08\\x06\\x00\\x00\\x00\\xd2\\xd6\\x7f…"
      ]
     },
     "metadata": {},
     "output_type": "display_data"
    }
   ],
   "source": [
    "robot[\"camera\"].watch(width=\"500px\")"
   ]
  },
  {
   "cell_type": "markdown",
   "metadata": {},
   "source": [
    "## 3. Navigating through the world\n",
    "\n",
    "Below is a simple controller that tries to keep moving forward while avoiding any obstacles that it encounters.  It is only using the robot's range sensors to make navigation decisions. "
   ]
  },
  {
   "cell_type": "code",
   "execution_count": 5,
   "metadata": {},
   "outputs": [],
   "source": [
    "robot.state[\"timer\"] = 0\n",
    "\n",
    "def avoid(robot):\n",
    "    left = robot[0].get_distance()\n",
    "    right = robot[1].get_distance()\n",
    "    if left == robot[0].get_max() and right == robot[1].get_max() and \\\n",
    "        robot.state[\"timer\"] == 0:\n",
    "        robot.move(0.5, 0)\n",
    "    elif robot.state[\"timer\"] > 0 and robot.state[\"timer\"] < 5:\n",
    "        robot.state[\"timer\"] += 1\n",
    "    elif left < robot[0].get_max():\n",
    "        robot.move(0.1, -0.3)\n",
    "        robot.state[\"timer\"] = 1\n",
    "    elif right < robot[1].get_max():\n",
    "        robot.move(0.1, 0.3)\n",
    "        robot.state[\"timer\"] = 1\n",
    "    else:\n",
    "        robot.state[\"timer\"] = 0"
   ]
  },
  {
   "cell_type": "markdown",
   "metadata": {},
   "source": [
    "### 3.1 Observe both distal and proximal perspectives\n",
    "\n",
    "Now let's watch the world from both the global, top-down view and the local, robot-based view at the same time. "
   ]
  },
  {
   "cell_type": "code",
   "execution_count": 6,
   "metadata": {},
   "outputs": [
    {
     "name": "stdout",
     "output_type": "stream",
     "text": [
      "Using random seed: 2002721\n"
     ]
    },
    {
     "data": {
      "application/vnd.jupyter.widget-view+json": {
       "model_id": "f4383067871448e5a330963c80c89745",
       "version_major": 2,
       "version_minor": 0
      },
      "text/plain": [
       "  0%|          | 0/100 [00:00<?, ?it/s]"
      ]
     },
     "metadata": {},
     "output_type": "display_data"
    },
    {
     "name": "stdout",
     "output_type": "stream",
     "text": [
      "Simulation stopped at: 00:00:10.00; speed 0.97 x real time\n"
     ]
    }
   ],
   "source": [
    "world.reset()\n",
    "world.seconds(10, [avoid])"
   ]
  },
  {
   "cell_type": "markdown",
   "metadata": {},
   "source": [
    "### 3.2 Experience the world as the robot does\n",
    "\n",
    "Seeing the world through the robot's camera is very different then seeing it from the bird's-eye view.  Let's try to really take the robot's perspective. \n",
    "\n",
    "**Hide the top-down view of the world.** \n",
    "\n",
    "Now you will try to control the robot using only the robot's sensors to guide you. You goal is to traverse the hallway to the the yellow room and approach the pink box there.  \n",
    "\n",
    "We will create a dashboard where you can see all the robot's sensor readings and you can control the robot's movements via pressing buttons.\n",
    "\n",
    "First, we define a couple of functions that will advance the world when you press a button. "
   ]
  },
  {
   "cell_type": "code",
   "execution_count": 22,
   "metadata": {},
   "outputs": [],
   "source": [
    "def set_time(world):\n",
    "    time.value = \"Time: \" + world.get_time()\n",
    "\n",
    "def move(translate, rotate):\n",
    "    robot.imove(translate, -rotate)\n",
    "    world.seconds(seconds.value, quiet=True, real_time=realtime.value, callback=set_time)"
   ]
  },
  {
   "cell_type": "markdown",
   "metadata": {},
   "source": [
    "Next, we hook up a Joystick-like control pad to the control function."
   ]
  },
  {
   "cell_type": "code",
   "execution_count": 23,
   "metadata": {},
   "outputs": [],
   "source": [
    "from aitk.utils import JoyPad\n",
    "joypad = JoyPad(scale=[.4, .4], function=move)"
   ]
  },
  {
   "cell_type": "markdown",
   "metadata": {},
   "source": [
    "Finally, we construct a dashboard to layout the controls and view of the world."
   ]
  },
  {
   "cell_type": "code",
   "execution_count": 26,
   "metadata": {
    "tags": []
   },
   "outputs": [
    {
     "data": {
      "application/vnd.jupyter.widget-view+json": {
       "model_id": "92c585e8b1fb4737be344a4442be9376",
       "version_major": 2,
       "version_minor": 0
      },
      "text/plain": [
       "HTML(value='<style>img.pixelated {image-rendering: pixelated;}</style>')"
      ]
     },
     "metadata": {},
     "output_type": "display_data"
    },
    {
     "data": {
      "application/vnd.jupyter.widget-view+json": {
       "model_id": "8b64961f465141168a93ff7e1fb54ab8",
       "version_major": 2,
       "version_minor": 0
      },
      "text/plain": [
       "HTML(value='<style>img.pixelated {image-rendering: pixelated;}</style>')"
      ]
     },
     "metadata": {},
     "output_type": "display_data"
    },
    {
     "data": {
      "application/vnd.jupyter.widget-view+json": {
       "model_id": "eaf3eb4323d144d78b5b03993ef3f25d",
       "version_major": 2,
       "version_minor": 0
      },
      "text/plain": [
       "VBox(children=(Label(value='Time: 00:03:12.70'), HBox(children=(GridspecLayout(children=(Button(description='⬉…"
      ]
     },
     "metadata": {},
     "output_type": "display_data"
    }
   ],
   "source": [
    "from ipywidgets import HBox, VBox, Layout, FloatSlider, Label, Checkbox\n",
    "seconds = FloatSlider(description=\"Seconds:\", min=0.1, max=5, value=0.5)\n",
    "realtime = Checkbox(description=\"Real time\", value=True)\n",
    "layout = Layout(width=\"760px\")\n",
    "time = Label(value=\"Time: \" + world.get_time())\n",
    "VBox(children=[\n",
    "    time, \n",
    "    HBox(children=[\n",
    "        joypad.get_widget(), \n",
    "        robot[\"camera\"].get_widget(),\n",
    "    ]),\n",
    "    VBox(children=[\n",
    "        seconds, realtime,\n",
    "        robot.get_widget(show_robot=False, attributes=[\"stalled\"]),\n",
    "        robot[\"left-ir\"].get_widget(title=\"Left IR\", attributes=[\"reading\"]),\n",
    "        robot[\"right-ir\"].get_widget(title=\"Right IR\", attributes=[\"reading\"]),\n",
    "    ])\n",
    " ], layout=layout)"
   ]
  },
  {
   "cell_type": "markdown",
   "metadata": {},
   "source": [
    "Execute the cell below when you are ready to start controlling the robot via the dashboard. Click the different arrow buttons to move the robot in different directions. The \"Stalled\" sensor is True when the robot is stuck and unable to move in the current direction.  If this happens try reversing the direction of movement. The \"IR\" sensors detect obstacles on the robot's left and right.  The smaller the value the closer the obstacle.\n",
    "\n",
    "If you get stuck at some point, go ahead and look at the top-down view of the world again.  Then try to get unstuck and continue using the buttons to reach the goal."
   ]
  },
  {
   "cell_type": "markdown",
   "metadata": {},
   "source": [
    "Go back to the top-down world view to see how you did. Did you crash into any walls?  Did traversing the hallway take longer than you expected?"
   ]
  },
  {
   "cell_type": "markdown",
   "metadata": {},
   "source": [
    "### 3.3 Try again\n",
    "\n",
    "At the top of the dashboard you can see the time it took for you to reach the pink box.  Start again from the top of this notebook and see if you can reach the pink box faster this time.  By practicing, you should get better at seeing the world from the robot's perspective.  "
   ]
  },
  {
   "cell_type": "markdown",
   "metadata": {},
   "source": [
    "## 4. Conclusions\n",
    "\n",
    "Some Cognitive Scientists believe that a key to understanding cognition is embracing the fact that organisms are embedded in environments.  Brains evolved to control bodies, and it is the interplay between the brain, the body, and the environment from which cognition emerges. Hopefully this experience of taking the robot's proximal perspective gave you a taste of what it is like to be a robot. "
   ]
  },
  {
   "cell_type": "markdown",
   "metadata": {},
   "source": [
    "## 5. References\n",
    "\n",
    "1. https://en.wikipedia.org/wiki/What_Is_It_Like_to_Be_a_Bat\n",
    "2. https://en.wikipedia.org/wiki/Umwelt\n",
    "3. https://en.wikipedia.org/wiki/Embodied_embedded_cognition"
   ]
  },
  {
   "cell_type": "code",
   "execution_count": null,
   "metadata": {},
   "outputs": [],
   "source": []
  }
 ],
 "metadata": {
  "kernelspec": {
   "display_name": "Python 3",
   "language": "python",
   "name": "python3"
  },
  "language_info": {
   "codemirror_mode": {
    "name": "ipython",
    "version": 3
   },
   "file_extension": ".py",
   "mimetype": "text/x-python",
   "name": "python",
   "nbconvert_exporter": "python",
   "pygments_lexer": "ipython3",
   "version": "3.8.5"
  },
  "widgets": {
   "application/vnd.jupyter.widget-state+json": {
    "state": {
     "00edb4e3aaaa40c89f7d832bcd6bb62d": {
      "model_module": "@jupyter-widgets/controls",
      "model_module_version": "1.5.0",
      "model_name": "VBoxModel",
      "state": {
       "children": [
        "IPY_MODEL_be13b357b96e44eea0615db12f2e7585",
        "IPY_MODEL_0ef20f1260ef4d51af8f9786ed09830c",
        "IPY_MODEL_e2527dfdd5f44638922fc0ef4f63e24c"
       ],
       "layout": "IPY_MODEL_7929aba95004456dbcf8b64c44c627df"
      }
     },
     "00f3f9ab8b2d431b90e484ca28036764": {
      "model_module": "@jupyter-widgets/base",
      "model_module_version": "1.2.0",
      "model_name": "LayoutModel",
      "state": {}
     },
     "01048328d05642c091f6c6b5345cf99c": {
      "model_module": "@jupyter-widgets/base",
      "model_module_version": "1.2.0",
      "model_name": "LayoutModel",
      "state": {}
     },
     "01157e3f3ab14d23aa7ba780d0f6fd5c": {
      "model_module": "@jupyter-widgets/base",
      "model_module_version": "1.2.0",
      "model_name": "LayoutModel",
      "state": {
       "grid_area": "widget024",
       "height": "50px",
       "margin": "0px",
       "max_height": "50px",
       "max_width": "50px",
       "width": "50px"
      }
     },
     "01f35a1194244223a70c10a92d4b7900": {
      "model_module": "@jupyter-widgets/controls",
      "model_module_version": "1.5.0",
      "model_name": "ButtonStyleModel",
      "state": {}
     },
     "024bf4ee119e4ae989112c45f07c5595": {
      "model_module": "@jupyter-widgets/base",
      "model_module_version": "1.2.0",
      "model_name": "LayoutModel",
      "state": {
       "width": "760px"
      }
     },
     "02b3a2b605304ef99dcdc5cba428299b": {
      "model_module": "@jupyter-widgets/controls",
      "model_module_version": "1.5.0",
      "model_name": "DescriptionStyleModel",
      "state": {
       "description_width": ""
      }
     },
     "04adb1108609423082bb9b9eff09fbdf": {
      "model_module": "@jupyter-widgets/base",
      "model_module_version": "1.2.0",
      "model_name": "LayoutModel",
      "state": {}
     },
     "05b8e016294843168eacb8767f994004": {
      "model_module": "@jupyter-widgets/controls",
      "model_module_version": "1.5.0",
      "model_name": "ButtonStyleModel",
      "state": {}
     },
     "05cb7f5bade84c44b5398b4f2600b5f5": {
      "model_module": "@jupyter-widgets/controls",
      "model_module_version": "1.5.0",
      "model_name": "VBoxModel",
      "state": {
       "children": [
        "IPY_MODEL_0cc5fa39397944a5a97e16cbc140dc80",
        "IPY_MODEL_c2915c6b55d44e59b39c045d7e1135bc",
        "IPY_MODEL_5911907e25c94894ade37eec9dd9cf8b",
        "IPY_MODEL_479a3de189324a7f8f3bce12010d7d92",
        "IPY_MODEL_e41654ba923b4cce85df2d8bf3fae8e7",
        "IPY_MODEL_dd617c03bc424ff1a24723e767305686",
        "IPY_MODEL_d753ebc093274f33af4b32234cb7326d",
        "IPY_MODEL_f1cda5d794c749bda0b2d0af087bf85e",
        "IPY_MODEL_ad6611010df44e9c8344efd392b01284"
       ],
       "layout": "IPY_MODEL_e9ac7687fe2a4518984170b05b6d6e36"
      }
     },
     "062d79008a074f2a89e40adca686e4aa": {
      "model_module": "@jupyter-widgets/controls",
      "model_module_version": "1.5.0",
      "model_name": "ButtonStyleModel",
      "state": {}
     },
     "063c14a271bf42d98d2d6c0b0a8c4251": {
      "model_module": "@jupyter-widgets/base",
      "model_module_version": "1.2.0",
      "model_name": "LayoutModel",
      "state": {
       "display": "none"
      }
     },
     "07388459e2e04ca7a44b9100c8bb84cb": {
      "model_module": "@jupyter-widgets/base",
      "model_module_version": "1.2.0",
      "model_name": "LayoutModel",
      "state": {
       "grid_area": "widget002",
       "height": "50px",
       "margin": "0px",
       "max_height": "50px",
       "max_width": "50px",
       "width": "50px"
      }
     },
     "079e2cebc6ec44318e90e113555951c6": {
      "model_module": "@jupyter-widgets/controls",
      "model_module_version": "1.5.0",
      "model_name": "DescriptionStyleModel",
      "state": {
       "description_width": ""
      }
     },
     "079f205c28604bc79b4440e0f86cd814": {
      "model_module": "@jupyter-widgets/controls",
      "model_module_version": "1.5.0",
      "model_name": "ButtonStyleModel",
      "state": {}
     },
     "07a1872c91254f7ab27a26c1979360e9": {
      "model_module": "@jupyter-widgets/controls",
      "model_module_version": "1.5.0",
      "model_name": "HTMLModel",
      "state": {
       "layout": "IPY_MODEL_1a64b5d05a7844b4b73270e1d2f55d6a",
       "style": "IPY_MODEL_02b3a2b605304ef99dcdc5cba428299b",
       "value": "<style>img.pixelated {image-rendering: pixelated;}</style>"
      }
     },
     "0869ec8acf554aadb76b11ef3e07b22a": {
      "model_module": "@jupyter-widgets/controls",
      "model_module_version": "1.5.0",
      "model_name": "ButtonModel",
      "state": {
       "description": "⬅",
       "layout": "IPY_MODEL_9e6468fe6c80493d961d14de21ada4a0",
       "style": "IPY_MODEL_8580418c73bf4b7b97257587f5ec67e5"
      }
     },
     "087b1a3bed674160aae95508e1950819": {
      "model_module": "@jupyter-widgets/base",
      "model_module_version": "1.2.0",
      "model_name": "LayoutModel",
      "state": {
       "grid_area": "widget003",
       "height": "50px",
       "margin": "0px",
       "max_height": "50px",
       "max_width": "50px",
       "width": "50px"
      }
     },
     "08ded605d70e48c88baf085ee55fe923": {
      "model_module": "@jupyter-widgets/base",
      "model_module_version": "1.2.0",
      "model_name": "LayoutModel",
      "state": {
       "grid_area": "widget004",
       "height": "50px",
       "margin": "0px",
       "max_height": "50px",
       "max_width": "50px",
       "width": "50px"
      }
     },
     "08fafdb39331472bb3212c8af3d2d379": {
      "model_module": "@jupyter-widgets/base",
      "model_module_version": "1.2.0",
      "model_name": "LayoutModel",
      "state": {}
     },
     "0960ba8e818d4d55b14d07969f5d4d75": {
      "model_module": "@jupyter-widgets/controls",
      "model_module_version": "1.5.0",
      "model_name": "SliderStyleModel",
      "state": {
       "description_width": ""
      }
     },
     "09700d01007344e7b1ba600b565048a8": {
      "model_module": "@jupyter-widgets/controls",
      "model_module_version": "1.5.0",
      "model_name": "FloatSliderModel",
      "state": {
       "description": "Seconds:",
       "layout": "IPY_MODEL_3dec1a6ba68c4eb99a8d894561da9480",
       "max": 5,
       "min": 0.1,
       "step": 0.1,
       "style": "IPY_MODEL_cc29e0ba235a48899815b0ccd1d1f029",
       "value": 0.5
      }
     },
     "098d2de1f6194f00bb1780ba382a3857": {
      "model_module": "@jupyter-widgets/controls",
      "model_module_version": "1.5.0",
      "model_name": "ButtonStyleModel",
      "state": {}
     },
     "09fd2a5830064242b02477a3ff102a9c": {
      "model_module": "@jupyter-widgets/controls",
      "model_module_version": "1.5.0",
      "model_name": "HBoxModel",
      "state": {
       "children": [
        "IPY_MODEL_f46605af0e2e464382a844815ea001e2",
        "IPY_MODEL_5ab0fa1b9ede40ecb862b2f0dcc17999"
       ],
       "layout": "IPY_MODEL_01048328d05642c091f6c6b5345cf99c"
      }
     },
     "0a248bbd78e347cdb537d670a65b08e1": {
      "model_module": "@jupyter-widgets/controls",
      "model_module_version": "1.5.0",
      "model_name": "ButtonStyleModel",
      "state": {}
     },
     "0a4229cfad624ce7bd3819926fd9e8cb": {
      "model_module": "@jupyter-widgets/controls",
      "model_module_version": "1.5.0",
      "model_name": "ButtonStyleModel",
      "state": {}
     },
     "0a87a27c1b34496285a0e1571d3cf419": {
      "model_module": "@jupyter-widgets/controls",
      "model_module_version": "1.5.0",
      "model_name": "VBoxModel",
      "state": {
       "children": [
        "IPY_MODEL_2a2a74bd54b149b0a413b9d0b7a2755f",
        "IPY_MODEL_09fd2a5830064242b02477a3ff102a9c",
        "IPY_MODEL_d61194a7cde64339afe13aee301ef392"
       ],
       "layout": "IPY_MODEL_9806687a5d0a48cd802909f5b3ebfb80"
      }
     },
     "0aafad8d8681470aacc6e17b7768c7f1": {
      "model_module": "@jupyter-widgets/controls",
      "model_module_version": "1.5.0",
      "model_name": "DescriptionStyleModel",
      "state": {
       "description_width": ""
      }
     },
     "0adc331a3c4147b8b55e18c6854d2a3f": {
      "model_module": "@jupyter-widgets/base",
      "model_module_version": "1.2.0",
      "model_name": "LayoutModel",
      "state": {
       "grid_area": "widget007",
       "height": "50px",
       "margin": "0px",
       "max_height": "50px",
       "max_width": "50px",
       "width": "50px"
      }
     },
     "0b0bb181d64c44a99e1347ba2d0ce8d8": {
      "model_module": "@jupyter-widgets/controls",
      "model_module_version": "1.5.0",
      "model_name": "VBoxModel",
      "state": {
       "children": [
        "IPY_MODEL_09700d01007344e7b1ba600b565048a8",
        "IPY_MODEL_ef53c08ac29c42aab141edcf2939975f",
        "IPY_MODEL_05cb7f5bade84c44b5398b4f2600b5f5",
        "IPY_MODEL_2bcb99fbae6d4e6183c0fd8ef33f3b5c",
        "IPY_MODEL_b02605c144e24b1181ace342ad39a56c"
       ],
       "layout": "IPY_MODEL_5a9fdeb8ebad42d1abad3fa802476fd1"
      }
     },
     "0b9929c9d4b14664818763f0b8d11ee8": {
      "model_module": "@jupyter-widgets/controls",
      "model_module_version": "1.5.0",
      "model_name": "ButtonModel",
      "state": {
       "description": "⬉",
       "layout": "IPY_MODEL_0df308d27bc742abad8dda1f2e7b4c23",
       "style": "IPY_MODEL_4d0dffbe339549e791ca19ab3d60ea3f"
      }
     },
     "0c0674949f184103bc844b12757aab01": {
      "model_module": "@jupyter-widgets/base",
      "model_module_version": "1.2.0",
      "model_name": "LayoutModel",
      "state": {}
     },
     "0c1e3dec28cb4daa9b6232d1573df163": {
      "model_module": "@jupyter-widgets/controls",
      "model_module_version": "1.5.0",
      "model_name": "ButtonModel",
      "state": {
       "description": " ",
       "layout": "IPY_MODEL_ba23cbb111734be7bf6e0270035e7532",
       "style": "IPY_MODEL_678d0a0c61564fa2827d50eec6e89923"
      }
     },
     "0c54e61c2de4452f838642bce6e8e1cf": {
      "model_module": "@jupyter-widgets/controls",
      "model_module_version": "1.5.0",
      "model_name": "HTMLModel",
      "state": {
       "layout": "IPY_MODEL_dbf588dfd09e4bee9df4722c89ca0109",
       "style": "IPY_MODEL_6626f074d08043589ce38f583a616e35",
       "value": "<style>img.pixelated {image-rendering: pixelated;}</style>"
      }
     },
     "0cc5fa39397944a5a97e16cbc140dc80": {
      "model_module": "@jupyter-widgets/controls",
      "model_module_version": "1.5.0",
      "model_name": "ImageModel",
      "state": {
       "_dom_classes": [
        "pixelated"
       ],
       "layout": "IPY_MODEL_c9f6f032c5c34a909c8ad213a2b4ed81"
      }
     },
     "0dae0a44d32e4314b71849186f5f8ff4": {
      "model_module": "@jupyter-widgets/base",
      "model_module_version": "1.2.0",
      "model_name": "LayoutModel",
      "state": {
       "border": "10px solid rgb(0 177 255)",
       "height": "auto",
       "max_width": "100%",
       "width": "500px"
      }
     },
     "0dafc9e0f90048fa82f18ef3c5cf6248": {
      "model_module": "@jupyter-widgets/controls",
      "model_module_version": "1.5.0",
      "model_name": "HTMLModel",
      "state": {
       "layout": "IPY_MODEL_c4dbeffd00584021b675a8983455c8d9",
       "style": "IPY_MODEL_a5159bbc97ef4897824faa98d9c1d947",
       "value": "<style>img.pixelated {image-rendering: pixelated;}</style>"
      }
     },
     "0df308d27bc742abad8dda1f2e7b4c23": {
      "model_module": "@jupyter-widgets/base",
      "model_module_version": "1.2.0",
      "model_name": "LayoutModel",
      "state": {
       "grid_area": "widget001",
       "height": "50px",
       "margin": "0px",
       "max_height": "50px",
       "max_width": "50px",
       "width": "50px"
      }
     },
     "0e6341f8dce943dca98e2994e219de91": {
      "model_module": "@jupyter-widgets/base",
      "model_module_version": "1.2.0",
      "model_name": "LayoutModel",
      "state": {
       "grid_area": "widget010",
       "height": "50px",
       "margin": "0px",
       "max_height": "50px",
       "max_width": "50px",
       "width": "50px"
      }
     },
     "0e6c96b102b34635965cb3d1b546ced2": {
      "model_module": "@jupyter-widgets/controls",
      "model_module_version": "1.5.0",
      "model_name": "ButtonStyleModel",
      "state": {}
     },
     "0e9976c3702d4f08bfbcd78c52e0ed99": {
      "model_module": "@jupyter-widgets/base",
      "model_module_version": "1.2.0",
      "model_name": "LayoutModel",
      "state": {
       "display": "none"
      }
     },
     "0ed1d30ccf434463a52b4ceb6652325f": {
      "model_module": "@jupyter-widgets/controls",
      "model_module_version": "1.5.0",
      "model_name": "ButtonModel",
      "state": {
       "description": "⬆",
       "layout": "IPY_MODEL_d521910e9e734a1b931daf15b802e4b7",
       "style": "IPY_MODEL_cce14a7d216e4acc9c392f6939ddbff1"
      }
     },
     "0ef20f1260ef4d51af8f9786ed09830c": {
      "model_module": "@jupyter-widgets/controls",
      "model_module_version": "1.5.0",
      "model_name": "HBoxModel",
      "state": {
       "children": [
        "IPY_MODEL_12dbae935a724ea9a02654551cd40989",
        "IPY_MODEL_5ab0fa1b9ede40ecb862b2f0dcc17999"
       ],
       "layout": "IPY_MODEL_e52ce5c6c03548da9ea72fb6731e3829"
      }
     },
     "0ef2c53688de45bf92428345f6b64520": {
      "model_module": "@jupyter-widgets/base",
      "model_module_version": "1.2.0",
      "model_name": "LayoutModel",
      "state": {
       "grid_area": "widget019",
       "height": "50px",
       "margin": "0px",
       "max_height": "50px",
       "max_width": "50px",
       "width": "50px"
      }
     },
     "0fe200f9dde84377811b74d5d2efd059": {
      "model_module": "@jupyter-widgets/base",
      "model_module_version": "1.2.0",
      "model_name": "LayoutModel",
      "state": {}
     },
     "100fac154c2841418a174001d213b2dc": {
      "model_module": "@jupyter-widgets/base",
      "model_module_version": "1.2.0",
      "model_name": "LayoutModel",
      "state": {
       "grid_area": "widget024",
       "height": "50px",
       "margin": "0px",
       "max_height": "50px",
       "max_width": "50px",
       "width": "50px"
      }
     },
     "1081495cd1984f0b8451c4c85c09a601": {
      "model_module": "@jupyter-widgets/controls",
      "model_module_version": "1.5.0",
      "model_name": "ButtonStyleModel",
      "state": {}
     },
     "10a5f4ae9ea34708a526a4b49bb93fda": {
      "model_module": "@jupyter-widgets/controls",
      "model_module_version": "1.5.0",
      "model_name": "DescriptionStyleModel",
      "state": {
       "description_width": ""
      }
     },
     "10e3516a720a40c281afadd7300ef441": {
      "model_module": "@jupyter-widgets/controls",
      "model_module_version": "1.5.0",
      "model_name": "ButtonModel",
      "state": {
       "description": "－",
       "layout": "IPY_MODEL_9bacbdeb37924423b4a6bce6977a297a",
       "style": "IPY_MODEL_44d808eb5cd6420a9b0e2ed14b4d9ff9"
      }
     },
     "110a1c225bf347bfbe15f83ca36b8d41": {
      "model_module": "@jupyter-widgets/controls",
      "model_module_version": "1.5.0",
      "model_name": "DescriptionStyleModel",
      "state": {
       "description_width": ""
      }
     },
     "128039619bad47d39ced01ff8453b62a": {
      "model_module": "@jupyter-widgets/controls",
      "model_module_version": "1.5.0",
      "model_name": "DescriptionStyleModel",
      "state": {
       "description_width": ""
      }
     },
     "129ce8fbef214fc1a416d4f338855899": {
      "model_module": "@jupyter-widgets/base",
      "model_module_version": "1.2.0",
      "model_name": "LayoutModel",
      "state": {}
     },
     "12adc518892b47008917e8de41feae2e": {
      "model_module": "@jupyter-widgets/controls",
      "model_module_version": "1.5.0",
      "model_name": "ButtonStyleModel",
      "state": {}
     },
     "12dbae935a724ea9a02654551cd40989": {
      "model_module": "@jupyter-widgets/controls",
      "model_module_version": "1.5.0",
      "model_name": "GridBoxModel",
      "state": {
       "children": [
        "IPY_MODEL_c7279e1aa6f54efa9dcfc8fb6e17a80f",
        "IPY_MODEL_3f1a9a5e53444626886c70e9b19a1971",
        "IPY_MODEL_5ac832cb77544910b04bd3dc2083bcfb",
        "IPY_MODEL_ee435a593282420e9dbcd2587ef5e854",
        "IPY_MODEL_3752d4eda60d4d61aeeb004e2c241b32",
        "IPY_MODEL_4f3b75a503c646699a9304e238dfc1a1",
        "IPY_MODEL_4202ab0d683c4e05a524b61ca3089e89",
        "IPY_MODEL_d786917db1a44565a0cb8ff401b3b700",
        "IPY_MODEL_f1b9c0f91fe24b5f9d226b6885000301",
        "IPY_MODEL_8850322fe1f944d5be8a6b5f65a1150d",
        "IPY_MODEL_13ccc9fab9ef4338ae9f0bb1846e507c",
        "IPY_MODEL_10e3516a720a40c281afadd7300ef441",
        "IPY_MODEL_a664e2956ec54b5e86a63c3fd8086654",
        "IPY_MODEL_3c4b15093f3a4f758e2e031d9e054e71",
        "IPY_MODEL_8a1a814f3fa843e3968b858fbd77f57a",
        "IPY_MODEL_f014418446fd4306ac4e3fbd8666e1db",
        "IPY_MODEL_ca5e521e58244613b9b7496287a65d57",
        "IPY_MODEL_612a12215c8a4cfcb481cf5051f64963",
        "IPY_MODEL_cab80d7dcbe743a1b0608e367caa6d20",
        "IPY_MODEL_84d0fbaf436b40d78a498e0517963531",
        "IPY_MODEL_f72034774518475bbcbe211ffeab8449",
        "IPY_MODEL_1f49e1f4bd224cc3a9f7de5573073d37",
        "IPY_MODEL_d918ae64d5aa41878abdbe8c2c339241",
        "IPY_MODEL_489bdbc4404d4d3ea49f7b434bd6100c",
        "IPY_MODEL_b57ec2f0d7104e4cab2bfcaefdb7e7ae"
       ],
       "layout": "IPY_MODEL_3c17d69898b048abb36a7ed95babcd82"
      }
     },
     "131fc5d3ddd84912b2c6efbafc3351c6": {
      "model_module": "@jupyter-widgets/controls",
      "model_module_version": "1.5.0",
      "model_name": "TextModel",
      "state": {
       "description": "Distance:",
       "layout": "IPY_MODEL_f3a88fa0857c4d14b1ee049c66c3df25",
       "style": "IPY_MODEL_4f9f86e3c92c4b0db1823181742caaef"
      }
     },
     "139700e52a614f05b320e508094eb424": {
      "model_module": "@jupyter-widgets/base",
      "model_module_version": "1.2.0",
      "model_name": "LayoutModel",
      "state": {
       "grid_area": "widget023",
       "height": "50px",
       "margin": "0px",
       "max_height": "50px",
       "max_width": "50px",
       "width": "50px"
      }
     },
     "13ccc9fab9ef4338ae9f0bb1846e507c": {
      "model_module": "@jupyter-widgets/controls",
      "model_module_version": "1.5.0",
      "model_name": "ButtonModel",
      "state": {
       "description": "⬅",
       "layout": "IPY_MODEL_68c24b26aa3240849a0886c102810727",
       "style": "IPY_MODEL_7372f99d5255486a8e7b24108546f3c2"
      }
     },
     "142a208049f84d168ae7210bb3574a5a": {
      "model_module": "@jupyter-widgets/controls",
      "model_module_version": "1.5.0",
      "model_name": "SliderStyleModel",
      "state": {
       "description_width": ""
      }
     },
     "145af69c06ba4fb8ae65ca98c0472823": {
      "model_module": "@jupyter-widgets/base",
      "model_module_version": "1.2.0",
      "model_name": "LayoutModel",
      "state": {
       "grid_area": "widget011",
       "height": "50px",
       "margin": "0px",
       "max_height": "50px",
       "max_width": "50px",
       "width": "50px"
      }
     },
     "14af5b73173140f199745fefa3a44425": {
      "model_module": "@jupyter-widgets/base",
      "model_module_version": "1.2.0",
      "model_name": "LayoutModel",
      "state": {
       "grid_area": "widget025",
       "height": "50px",
       "margin": "0px",
       "max_height": "50px",
       "max_width": "50px",
       "width": "50px"
      }
     },
     "15162b8807bf466499f240c725a2b29c": {
      "model_module": "@jupyter-widgets/controls",
      "model_module_version": "1.5.0",
      "model_name": "ButtonModel",
      "state": {
       "description": " ",
       "layout": "IPY_MODEL_100fac154c2841418a174001d213b2dc",
       "style": "IPY_MODEL_4ed97e6679444424b9376fa9c412b398"
      }
     },
     "156e94d9e3054847850aea8108800705": {
      "model_module": "@jupyter-widgets/base",
      "model_module_version": "1.2.0",
      "model_name": "LayoutModel",
      "state": {}
     },
     "15923150623d42c5ac779a89fd9dff50": {
      "model_module": "@jupyter-widgets/base",
      "model_module_version": "1.2.0",
      "model_name": "LayoutModel",
      "state": {}
     },
     "15b5469026a64c7f9e1201231a19939e": {
      "model_module": "@jupyter-widgets/controls",
      "model_module_version": "1.5.0",
      "model_name": "ButtonStyleModel",
      "state": {}
     },
     "162c05f985914f02ad93b878a138c833": {
      "model_module": "@jupyter-widgets/controls",
      "model_module_version": "1.5.0",
      "model_name": "ButtonModel",
      "state": {
       "description": "｜",
       "layout": "IPY_MODEL_3b03f3ddf79e47c7bb13d28498b58a3a",
       "style": "IPY_MODEL_98cd5d07790849449d03020cf01bdaf3"
      }
     },
     "164c795e166044948ffb1a01970e56c6": {
      "model_module": "@jupyter-widgets/base",
      "model_module_version": "1.2.0",
      "model_name": "LayoutModel",
      "state": {
       "width": "760px"
      }
     },
     "168a799fa7104380b4b96ba345134717": {
      "model_module": "@jupyter-widgets/base",
      "model_module_version": "1.2.0",
      "model_name": "LayoutModel",
      "state": {
       "grid_template_areas": "\"widget001 widget002 widget003 widget004 widget005\"\n\"widget006 widget007 widget008 widget009 widget010\"\n\"widget011 widget012 widget013 widget014 widget015\"\n\"widget016 widget017 widget018 widget019 widget020\"\n\"widget021 widget022 widget023 widget024 widget025\"",
       "grid_template_columns": "repeat(5, 1fr)",
       "grid_template_rows": "repeat(5, 1fr)",
       "height": "250px",
       "width": "250px"
      }
     },
     "16c70eaa4c664f73a29d6e3e041465fa": {
      "model_module": "@jupyter-widgets/base",
      "model_module_version": "1.2.0",
      "model_name": "LayoutModel",
      "state": {}
     },
     "1709d75958be40c781d6c8eb2f63c5d3": {
      "model_module": "@jupyter-widgets/controls",
      "model_module_version": "1.5.0",
      "model_name": "DescriptionStyleModel",
      "state": {
       "description_width": ""
      }
     },
     "170c866850474a6aa11d269997e34a23": {
      "model_module": "@jupyter-widgets/controls",
      "model_module_version": "1.5.0",
      "model_name": "VBoxModel",
      "state": {
       "children": [
        "IPY_MODEL_e327363dca224dce952f970134a4424c",
        "IPY_MODEL_05cb7f5bade84c44b5398b4f2600b5f5",
        "IPY_MODEL_2bcb99fbae6d4e6183c0fd8ef33f3b5c",
        "IPY_MODEL_b02605c144e24b1181ace342ad39a56c"
       ],
       "layout": "IPY_MODEL_7f616689a0fc4ca7b9ca6c32ad3f7eaa"
      }
     },
     "187045a99e154a12838539a15366b17c": {
      "model_module": "@jupyter-widgets/controls",
      "model_module_version": "1.5.0",
      "model_name": "ButtonStyleModel",
      "state": {}
     },
     "18e318e80c0a44388557470b9edab97c": {
      "model_module": "@jupyter-widgets/controls",
      "model_module_version": "1.5.0",
      "model_name": "ButtonModel",
      "state": {
       "description": "⬋",
       "layout": "IPY_MODEL_407c9f345bd748c2aa8e6359a83df607",
       "style": "IPY_MODEL_c49b346faedb4b56a88c98395938f782"
      }
     },
     "18e424b7e0e04da8814df5e2d1bd1eb0": {
      "model_module": "@jupyter-widgets/controls",
      "model_module_version": "1.5.0",
      "model_name": "ButtonModel",
      "state": {
       "description": " ",
       "layout": "IPY_MODEL_866871ec457d4446afa109e318a6832c",
       "style": "IPY_MODEL_c2c09c5782de4b43921b6741468bf0ec"
      }
     },
     "192d8f4152bc403f984a24c59c586eb4": {
      "model_module": "@jupyter-widgets/controls",
      "model_module_version": "1.5.0",
      "model_name": "DescriptionStyleModel",
      "state": {
       "description_width": ""
      }
     },
     "1a3f42c4f9a1464b88563a7c2510aaba": {
      "model_module": "@jupyter-widgets/controls",
      "model_module_version": "1.5.0",
      "model_name": "DescriptionStyleModel",
      "state": {
       "description_width": ""
      }
     },
     "1a64b5d05a7844b4b73270e1d2f55d6a": {
      "model_module": "@jupyter-widgets/base",
      "model_module_version": "1.2.0",
      "model_name": "LayoutModel",
      "state": {}
     },
     "1ab900805fe34263a4ed1f465c9fe475": {
      "model_module": "@jupyter-widgets/base",
      "model_module_version": "1.2.0",
      "model_name": "LayoutModel",
      "state": {
       "grid_area": "widget015",
       "height": "50px",
       "margin": "0px",
       "max_height": "50px",
       "max_width": "50px",
       "width": "50px"
      }
     },
     "1b60f7f11caa4fe4874279a51c145dda": {
      "model_module": "@jupyter-widgets/controls",
      "model_module_version": "1.5.0",
      "model_name": "ButtonModel",
      "state": {
       "description": "╱",
       "layout": "IPY_MODEL_4e9a0144dc53488c82488ada8e1b3636",
       "style": "IPY_MODEL_9d37fd125f7346dd877334228c0c314c"
      }
     },
     "1cd7a3b007aa4058a949ee52f6d493bf": {
      "model_module": "@jupyter-widgets/controls",
      "model_module_version": "1.5.0",
      "model_name": "ButtonModel",
      "state": {
       "description": " ",
       "layout": "IPY_MODEL_f16fd79811a943b5bdf57c18ad3c54ff",
       "style": "IPY_MODEL_0a248bbd78e347cdb537d670a65b08e1"
      }
     },
     "1ce538b068e34226bc18a798593e61ae": {
      "model_module": "@jupyter-widgets/controls",
      "model_module_version": "1.5.0",
      "model_name": "CheckboxModel",
      "state": {
       "description": "Real time",
       "disabled": false,
       "layout": "IPY_MODEL_329d374763d5448683b452533f65a776",
       "style": "IPY_MODEL_1709d75958be40c781d6c8eb2f63c5d3",
       "value": true
      }
     },
     "1d1f77b22b514e60b0902e94a5effff7": {
      "model_module": "@jupyter-widgets/controls",
      "model_module_version": "1.5.0",
      "model_name": "ButtonModel",
      "state": {
       "description": " ",
       "layout": "IPY_MODEL_d3fe7827af894fd3b9822c466bde9ec3",
       "style": "IPY_MODEL_780cce2a9d8c43e0bc55a9d16ee2aafa"
      }
     },
     "1defa95382a5446cb458e553c8f576d7": {
      "model_module": "@jupyter-widgets/controls",
      "model_module_version": "1.5.0",
      "model_name": "ButtonStyleModel",
      "state": {}
     },
     "1e1f9926c08c48c58f74c84a94a55784": {
      "model_module": "@jupyter-widgets/base",
      "model_module_version": "1.2.0",
      "model_name": "LayoutModel",
      "state": {}
     },
     "1e6a38cd93224b0493b7f5a55bccc238": {
      "model_module": "@jupyter-widgets/controls",
      "model_module_version": "1.5.0",
      "model_name": "ButtonModel",
      "state": {
       "description": "╲",
       "layout": "IPY_MODEL_5021cfbf990e46a481f8b6eb3e9a2697",
       "style": "IPY_MODEL_92e86f13b54946fbb36275bfad298725"
      }
     },
     "1f2de096076341f9bce860b30bf07077": {
      "model_module": "@jupyter-widgets/controls",
      "model_module_version": "1.5.0",
      "model_name": "ButtonStyleModel",
      "state": {}
     },
     "1f49e1f4bd224cc3a9f7de5573073d37": {
      "model_module": "@jupyter-widgets/controls",
      "model_module_version": "1.5.0",
      "model_name": "ButtonModel",
      "state": {
       "description": " ",
       "layout": "IPY_MODEL_5238d94de39e41ba886060fbb7b43578",
       "style": "IPY_MODEL_912212373d5347bd8147ec755387c095"
      }
     },
     "1fa3e0d286704647ac8551c4cc4d31ca": {
      "model_module": "@jupyter-widgets/controls",
      "model_module_version": "1.5.0",
      "model_name": "ButtonStyleModel",
      "state": {}
     },
     "20633f437eca4606a7c1c768510222d1": {
      "model_module": "@jupyter-widgets/controls",
      "model_module_version": "1.5.0",
      "model_name": "ButtonStyleModel",
      "state": {}
     },
     "208d948d472347f999a83bc9e8aa32e7": {
      "model_module": "@jupyter-widgets/base",
      "model_module_version": "1.2.0",
      "model_name": "LayoutModel",
      "state": {
       "display": "none"
      }
     },
     "20ceeb118354443b8b9228439a56d457": {
      "model_module": "@jupyter-widgets/controls",
      "model_module_version": "1.5.0",
      "model_name": "ButtonStyleModel",
      "state": {}
     },
     "2166dfaa7eec4afd91ae1b8ba1dfe781": {
      "model_module": "@jupyter-widgets/controls",
      "model_module_version": "1.5.0",
      "model_name": "ButtonModel",
      "state": {
       "description": "╲",
       "layout": "IPY_MODEL_9ea30d12f9fe443fa83e4e3c6e16943b",
       "style": "IPY_MODEL_e8cb9118a0344b869ae87252999ccfae"
      }
     },
     "21f5301765134a95a298822c6fa0091e": {
      "model_module": "@jupyter-widgets/controls",
      "model_module_version": "1.5.0",
      "model_name": "ButtonModel",
      "state": {
       "description": " ",
       "layout": "IPY_MODEL_a625ed155e384a088f31ac7531a73a6c",
       "style": "IPY_MODEL_84a913ad9fe74d1ba275ae220f4e0106"
      }
     },
     "225e22d787f64b0bb64cc8dfb430c6f6": {
      "model_module": "@jupyter-widgets/base",
      "model_module_version": "1.2.0",
      "model_name": "LayoutModel",
      "state": {
       "grid_area": "widget020",
       "height": "50px",
       "margin": "0px",
       "max_height": "50px",
       "max_width": "50px",
       "width": "50px"
      }
     },
     "22852aaaf74c47f1a655f3132e17e841": {
      "model_module": "@jupyter-widgets/base",
      "model_module_version": "1.2.0",
      "model_name": "LayoutModel",
      "state": {
       "grid_area": "widget012",
       "height": "50px",
       "margin": "0px",
       "max_height": "50px",
       "max_width": "50px",
       "width": "50px"
      }
     },
     "228aae2e76ca43b1a6a514293e057a85": {
      "model_module": "@jupyter-widgets/controls",
      "model_module_version": "1.5.0",
      "model_name": "HTMLModel",
      "state": {
       "layout": "IPY_MODEL_a6abdc54385f4884a33b9698e48666e2",
       "style": "IPY_MODEL_fffe639fbabe4c11b8fda2e048deea2e",
       "value": "<style>img.pixelated {image-rendering: pixelated;}</style>"
      }
     },
     "23b19e79d51940479c5c1765eb86ad8d": {
      "model_module": "@jupyter-widgets/controls",
      "model_module_version": "1.5.0",
      "model_name": "ButtonModel",
      "state": {
       "description": "⬉",
       "layout": "IPY_MODEL_b2b284961c55415eb51ca645da181507",
       "style": "IPY_MODEL_05b8e016294843168eacb8767f994004"
      }
     },
     "23ca349f4bd44adda6a88f403d0b87d0": {
      "model_module": "@jupyter-widgets/controls",
      "model_module_version": "1.5.0",
      "model_name": "SliderStyleModel",
      "state": {
       "description_width": ""
      }
     },
     "23cbe41d90bd48108440d6079153fd11": {
      "model_module": "@jupyter-widgets/base",
      "model_module_version": "1.2.0",
      "model_name": "LayoutModel",
      "state": {}
     },
     "2408b8d0e5e04921a7525ef81f35f098": {
      "model_module": "@jupyter-widgets/controls",
      "model_module_version": "1.5.0",
      "model_name": "DescriptionStyleModel",
      "state": {
       "description_width": ""
      }
     },
     "25822ba4fe2b4191a3d7198eff817e5c": {
      "model_module": "@jupyter-widgets/base",
      "model_module_version": "1.2.0",
      "model_name": "LayoutModel",
      "state": {
       "grid_area": "widget009",
       "height": "50px",
       "margin": "0px",
       "max_height": "50px",
       "max_width": "50px",
       "width": "50px"
      }
     },
     "27510088d6b04ebe8ad34c72a974e19e": {
      "model_module": "@jupyter-widgets/controls",
      "model_module_version": "1.5.0",
      "model_name": "ButtonModel",
      "state": {
       "description": "⬈",
       "layout": "IPY_MODEL_b94d39ea59024c9ab86eae149909ad51",
       "style": "IPY_MODEL_20633f437eca4606a7c1c768510222d1"
      }
     },
     "280f9add821f4aff94bc710735d8135f": {
      "model_module": "@jupyter-widgets/controls",
      "model_module_version": "1.5.0",
      "model_name": "LabelModel",
      "state": {
       "layout": "IPY_MODEL_ad702a1538884104a0d485a629c2c834",
       "style": "IPY_MODEL_a3468825a76041f88b3ae1d4fd33b0fb",
       "value": "Time: 00:03:12.70"
      }
     },
     "2812eb494a5e4b5e8d1af50b6d997e27": {
      "model_module": "@jupyter-widgets/controls",
      "model_module_version": "1.5.0",
      "model_name": "FloatSliderModel",
      "state": {
       "description": "Seconds:",
       "layout": "IPY_MODEL_d6abd86d6de949a59d08c953700c0594",
       "max": 5,
       "min": 0.1,
       "step": 0.1,
       "style": "IPY_MODEL_23ca349f4bd44adda6a88f403d0b87d0",
       "value": 0.5
      }
     },
     "28984ac83a3745a9b6096a5be8b8888b": {
      "model_module": "@jupyter-widgets/controls",
      "model_module_version": "1.5.0",
      "model_name": "ButtonStyleModel",
      "state": {}
     },
     "28be7cf4bece440db016f9a010ebd640": {
      "model_module": "@jupyter-widgets/controls",
      "model_module_version": "1.5.0",
      "model_name": "ButtonStyleModel",
      "state": {}
     },
     "2906637da76c41b6983fd8208b9a3bb6": {
      "model_module": "@jupyter-widgets/controls",
      "model_module_version": "1.5.0",
      "model_name": "TextModel",
      "state": {
       "description": "Name:",
       "layout": "IPY_MODEL_8cdd321a15de4d2f8f79824aa404e0a4",
       "style": "IPY_MODEL_b94f0b31db214059b70d7c0dfa2a6582"
      }
     },
     "299465a8e24e488f9f71aa6444c1181c": {
      "model_module": "@jupyter-widgets/base",
      "model_module_version": "1.2.0",
      "model_name": "LayoutModel",
      "state": {}
     },
     "2a2a74bd54b149b0a413b9d0b7a2755f": {
      "model_module": "@jupyter-widgets/controls",
      "model_module_version": "1.5.0",
      "model_name": "LabelModel",
      "state": {
       "layout": "IPY_MODEL_2b111ec6b8674e9ca3543ecfdddc431e",
       "style": "IPY_MODEL_7fe667a3cde44ef7936b48c1e0234700",
       "value": "Time: 00:01:00.10"
      }
     },
     "2a78211a6dfb466495fe4cd3c5bbb3b1": {
      "model_module": "@jupyter-widgets/controls",
      "model_module_version": "1.5.0",
      "model_name": "SliderStyleModel",
      "state": {
       "description_width": ""
      }
     },
     "2a94a9c53ffb40f982f63853f5108432": {
      "model_module": "@jupyter-widgets/controls",
      "model_module_version": "1.5.0",
      "model_name": "VBoxModel",
      "state": {
       "children": [
        "IPY_MODEL_99f89889c80742aa90eebda8c3166f28",
        "IPY_MODEL_5ee314bf011143639bfadf3e0d438b70",
        "IPY_MODEL_170c866850474a6aa11d269997e34a23"
       ],
       "layout": "IPY_MODEL_e3f5013512f14ee585410602663d4654"
      }
     },
     "2b111ec6b8674e9ca3543ecfdddc431e": {
      "model_module": "@jupyter-widgets/base",
      "model_module_version": "1.2.0",
      "model_name": "LayoutModel",
      "state": {}
     },
     "2b3abe66868841c3b1f44ae21f1c1781": {
      "model_module": "@jupyter-widgets/controls",
      "model_module_version": "1.5.0",
      "model_name": "ButtonModel",
      "state": {
       "description": "⬈",
       "layout": "IPY_MODEL_429811285c3b4d34802ea317e250b9bc",
       "style": "IPY_MODEL_6a024d97e4da42eaa7089b3760b7fa7f"
      }
     },
     "2bcb99fbae6d4e6183c0fd8ef33f3b5c": {
      "model_module": "@jupyter-widgets/controls",
      "model_module_version": "1.5.0",
      "model_name": "VBoxModel",
      "state": {
       "children": [
        "IPY_MODEL_56c08d68b4f141069830fae72999d84c",
        "IPY_MODEL_2906637da76c41b6983fd8208b9a3bb6",
        "IPY_MODEL_a039c50650504cad94f4859251a14720",
        "IPY_MODEL_abc09cc3ad1c4ea5998cda761d1d88e9"
       ],
       "layout": "IPY_MODEL_eeea462383714f899bce136fb4667c21"
      }
     },
     "2c7ad071ab7e4debaab81f02f7a491e6": {
      "model_module": "@jupyter-widgets/controls",
      "model_module_version": "1.5.0",
      "model_name": "SliderStyleModel",
      "state": {
       "description_width": ""
      }
     },
     "2c99c21284ee464581c07fbdcb453841": {
      "model_module": "@jupyter-widgets/controls",
      "model_module_version": "1.5.0",
      "model_name": "ButtonStyleModel",
      "state": {}
     },
     "2d13cef8cba741039fb6041d6b69da55": {
      "model_module": "@jupyter-widgets/controls",
      "model_module_version": "1.5.0",
      "model_name": "ButtonStyleModel",
      "state": {}
     },
     "2eb2cbd43b73498aa6acd1e4645ea34b": {
      "model_module": "@jupyter-widgets/controls",
      "model_module_version": "1.5.0",
      "model_name": "ButtonModel",
      "state": {
       "description": "｜",
       "layout": "IPY_MODEL_92cc4062ab544df2b215d633daa62957",
       "style": "IPY_MODEL_ebfe0f0d83ce443c86b7db616b43474a"
      }
     },
     "2effbc4bd05447a5a3b88c4bf5f85851": {
      "model_module": "@jupyter-widgets/controls",
      "model_module_version": "1.5.0",
      "model_name": "ButtonStyleModel",
      "state": {}
     },
     "2f1064d6aa6a4802a5c87003bbf223b5": {
      "model_module": "@jupyter-widgets/base",
      "model_module_version": "1.2.0",
      "model_name": "LayoutModel",
      "state": {
       "grid_area": "widget023",
       "height": "50px",
       "margin": "0px",
       "max_height": "50px",
       "max_width": "50px",
       "width": "50px"
      }
     },
     "2f5160127fa54e509d74863e835c4f36": {
      "model_module": "@jupyter-widgets/controls",
      "model_module_version": "1.5.0",
      "model_name": "ButtonStyleModel",
      "state": {}
     },
     "2f83880ba5dd4eedafe88ec4b6dcf084": {
      "model_module": "@jupyter-widgets/base",
      "model_module_version": "1.2.0",
      "model_name": "LayoutModel",
      "state": {
       "border": "10px solid rgb(0 177 255)"
      }
     },
     "30a204e0fcca40468c509801f1eb4691": {
      "model_module": "@jupyter-widgets/controls",
      "model_module_version": "1.5.0",
      "model_name": "ButtonModel",
      "state": {
       "description": "⬅",
       "layout": "IPY_MODEL_145af69c06ba4fb8ae65ca98c0472823",
       "style": "IPY_MODEL_28be7cf4bece440db016f9a010ebd640"
      }
     },
     "315667f81dba4b6d96fa7e8fd3a5188b": {
      "model_module": "@jupyter-widgets/controls",
      "model_module_version": "1.5.0",
      "model_name": "ButtonModel",
      "state": {
       "description": "－",
       "layout": "IPY_MODEL_22852aaaf74c47f1a655f3132e17e841",
       "style": "IPY_MODEL_811be4a201fa45b985878ebe00d88c69"
      }
     },
     "321c88f4889e4cbeaa365a879588ce8e": {
      "model_module": "@jupyter-widgets/controls",
      "model_module_version": "1.5.0",
      "model_name": "ButtonStyleModel",
      "state": {}
     },
     "329d374763d5448683b452533f65a776": {
      "model_module": "@jupyter-widgets/base",
      "model_module_version": "1.2.0",
      "model_name": "LayoutModel",
      "state": {}
     },
     "345c82ad628e4edbb210b1389740acf7": {
      "model_module": "@jupyter-widgets/controls",
      "model_module_version": "1.5.0",
      "model_name": "LabelModel",
      "state": {
       "layout": "IPY_MODEL_00f3f9ab8b2d431b90e484ca28036764",
       "style": "IPY_MODEL_607862d64b704effb2a3118f321f8f8a",
       "value": "Time: 00:00:32.50"
      }
     },
     "34e8398794db4232912d9d027dcda029": {
      "model_module": "@jupyter-widgets/base",
      "model_module_version": "1.2.0",
      "model_name": "LayoutModel",
      "state": {}
     },
     "354d674fb78147f9b4f75e3d1da4d252": {
      "model_module": "@jupyter-widgets/base",
      "model_module_version": "1.2.0",
      "model_name": "LayoutModel",
      "state": {}
     },
     "3581172e33d14b51915c01ef3671213c": {
      "model_module": "@jupyter-widgets/base",
      "model_module_version": "1.2.0",
      "model_name": "LayoutModel",
      "state": {
       "grid_area": "widget021",
       "height": "50px",
       "margin": "0px",
       "max_height": "50px",
       "max_width": "50px",
       "width": "50px"
      }
     },
     "36bafdd282424970afc7f30ef85b8523": {
      "model_module": "@jupyter-widgets/controls",
      "model_module_version": "1.5.0",
      "model_name": "ButtonModel",
      "state": {
       "description": "╱",
       "layout": "IPY_MODEL_4d539f2d3ab6499babbfa2b140edfba2",
       "style": "IPY_MODEL_95ef4977abf348fba8a74ad03ea3c250"
      }
     },
     "3752d4eda60d4d61aeeb004e2c241b32": {
      "model_module": "@jupyter-widgets/controls",
      "model_module_version": "1.5.0",
      "model_name": "ButtonModel",
      "state": {
       "description": "⬈",
       "layout": "IPY_MODEL_8ffeed66728b41cc8ae86c3f00d267fc",
       "style": "IPY_MODEL_4c2ece5158f546ef8a0ec44f4a4383ae"
      }
     },
     "3795e600dc10407493f40444121d7505": {
      "model_module": "@jupyter-widgets/controls",
      "model_module_version": "1.5.0",
      "model_name": "FloatSliderModel",
      "state": {
       "layout": "IPY_MODEL_129ce8fbef214fc1a416d4f338855899",
       "max": 10,
       "min": 0.1,
       "step": 0.1,
       "style": "IPY_MODEL_d7dd225a95ed4b43ac2ecc71895a1222",
       "value": 5.4
      }
     },
     "386e3a5ccc914a8b83da508e157b9afd": {
      "model_module": "@jupyter-widgets/controls",
      "model_module_version": "1.5.0",
      "model_name": "HBoxModel",
      "state": {
       "children": [
        "IPY_MODEL_dc78a898288d42cd95975fabcf228532",
        "IPY_MODEL_5ab0fa1b9ede40ecb862b2f0dcc17999"
       ],
       "layout": "IPY_MODEL_61939648b214444b860c8bf1c2c75ef9"
      }
     },
     "38748ddc3dee43e081c66edc5138d065": {
      "model_module": "@jupyter-widgets/controls",
      "model_module_version": "1.5.0",
      "model_name": "DescriptionStyleModel",
      "state": {
       "description_width": ""
      }
     },
     "3893a3c3254a4d8d9d02e3ee8e0e6d97": {
      "model_module": "@jupyter-widgets/controls",
      "model_module_version": "1.5.0",
      "model_name": "DescriptionStyleModel",
      "state": {
       "description_width": ""
      }
     },
     "38bc06706305451f93103a0699d26111": {
      "model_module": "@jupyter-widgets/controls",
      "model_module_version": "1.5.0",
      "model_name": "DescriptionStyleModel",
      "state": {
       "description_width": ""
      }
     },
     "38c67815102a40f2807cb0efec69e8ef": {
      "model_module": "@jupyter-widgets/base",
      "model_module_version": "1.2.0",
      "model_name": "LayoutModel",
      "state": {}
     },
     "3956c991fa464a92b7da5c7c0de0d5ea": {
      "model_module": "@jupyter-widgets/controls",
      "model_module_version": "1.5.0",
      "model_name": "VBoxModel",
      "state": {
       "children": [
        "IPY_MODEL_3795e600dc10407493f40444121d7505",
        "IPY_MODEL_05cb7f5bade84c44b5398b4f2600b5f5",
        "IPY_MODEL_2bcb99fbae6d4e6183c0fd8ef33f3b5c",
        "IPY_MODEL_b02605c144e24b1181ace342ad39a56c"
       ],
       "layout": "IPY_MODEL_34e8398794db4232912d9d027dcda029"
      }
     },
     "395e3a21385a4dd180cb1b8bb688e438": {
      "model_module": "@jupyter-widgets/controls",
      "model_module_version": "1.5.0",
      "model_name": "ButtonModel",
      "state": {
       "description": " ",
       "layout": "IPY_MODEL_eaa0ec0c80e745f68539c0a7c810d326",
       "style": "IPY_MODEL_68203a9269f1455c9461ef8f450af133"
      }
     },
     "3a1fc503869f419fae6380b2b42c3842": {
      "model_module": "@jupyter-widgets/controls",
      "model_module_version": "1.5.0",
      "model_name": "HTMLModel",
      "state": {
       "layout": "IPY_MODEL_7171bc31c69e49f88f960624ac579c5d",
       "style": "IPY_MODEL_5dd2ef41e3dc481aa0b975fda1ecfb18",
       "value": "<style>img.pixelated {image-rendering: pixelated;}</style>"
      }
     },
     "3a7c8e725c6e437e9898e31e76acefb7": {
      "model_module": "@jupyter-widgets/controls",
      "model_module_version": "1.5.0",
      "model_name": "ButtonStyleModel",
      "state": {}
     },
     "3b03f3ddf79e47c7bb13d28498b58a3a": {
      "model_module": "@jupyter-widgets/base",
      "model_module_version": "1.2.0",
      "model_name": "LayoutModel",
      "state": {
       "grid_area": "widget018",
       "height": "50px",
       "margin": "0px",
       "max_height": "50px",
       "max_width": "50px",
       "width": "50px"
      }
     },
     "3b3753455f36420fab78d2f35e05ebec": {
      "model_module": "@jupyter-widgets/controls",
      "model_module_version": "1.5.0",
      "model_name": "DescriptionStyleModel",
      "state": {
       "description_width": ""
      }
     },
     "3c17d69898b048abb36a7ed95babcd82": {
      "model_module": "@jupyter-widgets/base",
      "model_module_version": "1.2.0",
      "model_name": "LayoutModel",
      "state": {
       "grid_template_areas": "\"widget001 widget002 widget003 widget004 widget005\"\n\"widget006 widget007 widget008 widget009 widget010\"\n\"widget011 widget012 widget013 widget014 widget015\"\n\"widget016 widget017 widget018 widget019 widget020\"\n\"widget021 widget022 widget023 widget024 widget025\"",
       "grid_template_columns": "repeat(5, 1fr)",
       "grid_template_rows": "repeat(5, 1fr)",
       "height": "250px",
       "width": "250px"
      }
     },
     "3c4b15093f3a4f758e2e031d9e054e71": {
      "model_module": "@jupyter-widgets/controls",
      "model_module_version": "1.5.0",
      "model_name": "ButtonModel",
      "state": {
       "description": "－",
       "layout": "IPY_MODEL_718c8231a6a2457eab3d4ba7291b2a1d",
       "style": "IPY_MODEL_43aded9c0ae44ecc834eb47f601f706e"
      }
     },
     "3dec1a6ba68c4eb99a8d894561da9480": {
      "model_module": "@jupyter-widgets/base",
      "model_module_version": "1.2.0",
      "model_name": "LayoutModel",
      "state": {}
     },
     "3df8fbed0b964dcfb6d093f8d6a1e447": {
      "model_module": "@jupyter-widgets/base",
      "model_module_version": "1.2.0",
      "model_name": "LayoutModel",
      "state": {}
     },
     "3e0872f7b23f4bd9904f913a0602e639": {
      "model_module": "@jupyter-widgets/controls",
      "model_module_version": "1.5.0",
      "model_name": "ButtonStyleModel",
      "state": {}
     },
     "3e0bf78cf0dd4523a54d57196f19238c": {
      "model_module": "@jupyter-widgets/controls",
      "model_module_version": "1.5.0",
      "model_name": "HTMLModel",
      "state": {
       "layout": "IPY_MODEL_6fcc1c0b7acb4436be7c55391644614d",
       "style": "IPY_MODEL_1a3f42c4f9a1464b88563a7c2510aaba",
       "value": "<style>img.pixelated {image-rendering: pixelated;}</style>"
      }
     },
     "3e63f2c352634f14b658963a742cee7d": {
      "model_module": "@jupyter-widgets/controls",
      "model_module_version": "1.5.0",
      "model_name": "ButtonModel",
      "state": {
       "description": "╱",
       "layout": "IPY_MODEL_c56acafab24d46b580597c50e7ba1cf4",
       "style": "IPY_MODEL_aa0e9e5dbd9a401188c4dbd9220f9bb8"
      }
     },
     "3eb8f494b46140e8ae13bd25730ef5a5": {
      "model_module": "@jupyter-widgets/base",
      "model_module_version": "1.2.0",
      "model_name": "LayoutModel",
      "state": {
       "grid_area": "widget010",
       "height": "50px",
       "margin": "0px",
       "max_height": "50px",
       "max_width": "50px",
       "width": "50px"
      }
     },
     "3f1a9a5e53444626886c70e9b19a1971": {
      "model_module": "@jupyter-widgets/controls",
      "model_module_version": "1.5.0",
      "model_name": "ButtonModel",
      "state": {
       "description": " ",
       "layout": "IPY_MODEL_717ac0db325146af9de8b4db4cb481fa",
       "style": "IPY_MODEL_cf03af16c6ec481eb838f6f12012092e"
      }
     },
     "3fc648187dd6487fba2f173b2ec394f1": {
      "model_module": "@jupyter-widgets/controls",
      "model_module_version": "1.5.0",
      "model_name": "HTMLModel",
      "state": {
       "layout": "IPY_MODEL_77bfed4e5a9e486f83350b68e2a2e08c",
       "style": "IPY_MODEL_4e9c89e85a064d07a32f13d403199561",
       "value": "<style>img.pixelated {image-rendering: pixelated;}</style>"
      }
     },
     "407c9f345bd748c2aa8e6359a83df607": {
      "model_module": "@jupyter-widgets/base",
      "model_module_version": "1.2.0",
      "model_name": "LayoutModel",
      "state": {
       "grid_area": "widget021",
       "height": "50px",
       "margin": "0px",
       "max_height": "50px",
       "max_width": "50px",
       "width": "50px"
      }
     },
     "40ee695af3c24043b9d3247db4e2fd02": {
      "model_module": "@jupyter-widgets/controls",
      "model_module_version": "1.5.0",
      "model_name": "ButtonStyleModel",
      "state": {}
     },
     "416e53c61bff4276b5a5ca94b2a778ad": {
      "model_module": "@jupyter-widgets/controls",
      "model_module_version": "1.5.0",
      "model_name": "HTMLModel",
      "state": {
       "layout": "IPY_MODEL_58a227cb3a78464287e6fe1feb96fdb0",
       "style": "IPY_MODEL_a2ceedd93ab14f0fad97797cf276ef82",
       "value": "100%"
      }
     },
     "418cf0fdf6d64776bf2118b953610781": {
      "model_module": "@jupyter-widgets/controls",
      "model_module_version": "1.5.0",
      "model_name": "ButtonModel",
      "state": {
       "description": "╱",
       "layout": "IPY_MODEL_fff55c3c8d0c496394c8f30329ea7210",
       "style": "IPY_MODEL_76bed705d5ef40fca845641e2b899c46"
      }
     },
     "41ba7a726d42464e8dd7663422bd2eb3": {
      "model_module": "@jupyter-widgets/controls",
      "model_module_version": "1.5.0",
      "model_name": "ButtonModel",
      "state": {
       "description": "╲",
       "layout": "IPY_MODEL_c7434c468c11496fa04303e44c0ea524",
       "style": "IPY_MODEL_f3dc37f1706648e0abd7e6a3be6143de"
      }
     },
     "41d2344a9b314f9d8cf51aeaf990ea24": {
      "model_module": "@jupyter-widgets/controls",
      "model_module_version": "1.5.0",
      "model_name": "ButtonModel",
      "state": {
       "description": "⬅",
       "layout": "IPY_MODEL_50bc6e35397246f8ae696a0f3d75a988",
       "style": "IPY_MODEL_28984ac83a3745a9b6096a5be8b8888b"
      }
     },
     "4202ab0d683c4e05a524b61ca3089e89": {
      "model_module": "@jupyter-widgets/controls",
      "model_module_version": "1.5.0",
      "model_name": "ButtonModel",
      "state": {
       "description": "╲",
       "layout": "IPY_MODEL_0adc331a3c4147b8b55e18c6854d2a3f",
       "style": "IPY_MODEL_2f5160127fa54e509d74863e835c4f36"
      }
     },
     "42842bf3c7354e20978fd7aa5c0e57ed": {
      "model_module": "@jupyter-widgets/controls",
      "model_module_version": "1.5.0",
      "model_name": "HBoxModel",
      "state": {
       "children": [
        "IPY_MODEL_f46605af0e2e464382a844815ea001e2",
        "IPY_MODEL_5ab0fa1b9ede40ecb862b2f0dcc17999"
       ],
       "layout": "IPY_MODEL_bc3587ee6af148c98d493c281c88014e"
      }
     },
     "429811285c3b4d34802ea317e250b9bc": {
      "model_module": "@jupyter-widgets/base",
      "model_module_version": "1.2.0",
      "model_name": "LayoutModel",
      "state": {
       "grid_area": "widget005",
       "height": "50px",
       "margin": "0px",
       "max_height": "50px",
       "max_width": "50px",
       "width": "50px"
      }
     },
     "429ad4eb564540f0930077fc371040e2": {
      "model_module": "@jupyter-widgets/controls",
      "model_module_version": "1.5.0",
      "model_name": "ButtonModel",
      "state": {
       "description": "⬈",
       "layout": "IPY_MODEL_76e522841d264f908ca47e738c78fed3",
       "style": "IPY_MODEL_f26f78053726467d8f9e285d51cd75cc"
      }
     },
     "42d713d2e3124f55aac3c90f11b09b64": {
      "model_module": "@jupyter-widgets/controls",
      "model_module_version": "1.5.0",
      "model_name": "DescriptionStyleModel",
      "state": {
       "description_width": ""
      }
     },
     "42da30b260d744d9bde872e308d0eba5": {
      "model_module": "@jupyter-widgets/controls",
      "model_module_version": "1.5.0",
      "model_name": "ButtonModel",
      "state": {
       "description": " ",
       "layout": "IPY_MODEL_f6601e679fc84c3babe21482c7e60923",
       "style": "IPY_MODEL_079f205c28604bc79b4440e0f86cd814"
      }
     },
     "43aded9c0ae44ecc834eb47f601f706e": {
      "model_module": "@jupyter-widgets/controls",
      "model_module_version": "1.5.0",
      "model_name": "ButtonStyleModel",
      "state": {}
     },
     "442799f5b3fd45b8b8f7194201c4e1e2": {
      "model_module": "@jupyter-widgets/base",
      "model_module_version": "1.2.0",
      "model_name": "LayoutModel",
      "state": {
       "grid_area": "widget006",
       "height": "50px",
       "margin": "0px",
       "max_height": "50px",
       "max_width": "50px",
       "width": "50px"
      }
     },
     "4476bd5a0f1046fa9772c9468b22d0ff": {
      "model_module": "@jupyter-widgets/controls",
      "model_module_version": "1.5.0",
      "model_name": "DescriptionStyleModel",
      "state": {
       "description_width": ""
      }
     },
     "447e012cfb434297b45308e51e0cef43": {
      "model_module": "@jupyter-widgets/controls",
      "model_module_version": "1.5.0",
      "model_name": "ButtonModel",
      "state": {
       "description": " ",
       "layout": "IPY_MODEL_8a218767059e40738ce47ab76baedaf3",
       "style": "IPY_MODEL_2c99c21284ee464581c07fbdcb453841"
      }
     },
     "44d808eb5cd6420a9b0e2ed14b4d9ff9": {
      "model_module": "@jupyter-widgets/controls",
      "model_module_version": "1.5.0",
      "model_name": "ButtonStyleModel",
      "state": {}
     },
     "45493bd395ba4c1483da80e97db40896": {
      "model_module": "@jupyter-widgets/controls",
      "model_module_version": "1.5.0",
      "model_name": "DescriptionStyleModel",
      "state": {
       "description_width": ""
      }
     },
     "45d4417e9c034cc28a18375e7125b9c6": {
      "model_module": "@jupyter-widgets/controls",
      "model_module_version": "1.5.0",
      "model_name": "DescriptionStyleModel",
      "state": {
       "description_width": ""
      }
     },
     "4620dcb9831a4f29a8a7b0c065f4ace7": {
      "model_module": "@jupyter-widgets/base",
      "model_module_version": "1.2.0",
      "model_name": "LayoutModel",
      "state": {}
     },
     "46be91b7a3a6461da44e78bdd775dc73": {
      "model_module": "@jupyter-widgets/controls",
      "model_module_version": "1.5.0",
      "model_name": "CheckboxModel",
      "state": {
       "description": "Real time",
       "disabled": false,
       "layout": "IPY_MODEL_e89eec6a81044797a186b805660d430e",
       "style": "IPY_MODEL_d13d286cb45b4bbc98a8cc9c99728a93",
       "value": true
      }
     },
     "479a3de189324a7f8f3bce12010d7d92": {
      "model_module": "@jupyter-widgets/controls",
      "model_module_version": "1.5.0",
      "model_name": "TextModel",
      "state": {
       "description": "Y:",
       "layout": "IPY_MODEL_86c66b1e8cc44486be7183a54ee389f1",
       "style": "IPY_MODEL_bd1c5ac9d50d4ad18cfc97bc52c66879"
      }
     },
     "47e8884b68ba48ada010bacc7a5aadb5": {
      "model_module": "@jupyter-widgets/controls",
      "model_module_version": "1.5.0",
      "model_name": "ButtonModel",
      "state": {
       "description": "｜",
       "layout": "IPY_MODEL_4f28f421abec4bd89fde92eb6b9323f8",
       "style": "IPY_MODEL_f3a7b349aea44d439cb105d309cfca22"
      }
     },
     "489bdbc4404d4d3ea49f7b434bd6100c": {
      "model_module": "@jupyter-widgets/controls",
      "model_module_version": "1.5.0",
      "model_name": "ButtonModel",
      "state": {
       "description": " ",
       "layout": "IPY_MODEL_4c705463206244dba55ca2938045c779",
       "style": "IPY_MODEL_d6db0356463f465ab4e25e3a61585aa6"
      }
     },
     "48b84124aa5f4bcc808b49f1c973dbea": {
      "model_module": "@jupyter-widgets/controls",
      "model_module_version": "1.5.0",
      "model_name": "VBoxModel",
      "state": {
       "children": [
        "IPY_MODEL_b6cb1e8ff80f4f1e95fef8499c3aaef7",
        "IPY_MODEL_05cb7f5bade84c44b5398b4f2600b5f5",
        "IPY_MODEL_2bcb99fbae6d4e6183c0fd8ef33f3b5c",
        "IPY_MODEL_b02605c144e24b1181ace342ad39a56c"
       ],
       "layout": "IPY_MODEL_5073f4a8c889448e91a68be8ed3d31cd"
      }
     },
     "48f2af13f4fb45d0843a5c3c104338f5": {
      "model_module": "@jupyter-widgets/controls",
      "model_module_version": "1.5.0",
      "model_name": "DescriptionStyleModel",
      "state": {
       "description_width": ""
      }
     },
     "4a00551ecd354a1ab8c312c375c8a2ea": {
      "model_module": "@jupyter-widgets/base",
      "model_module_version": "1.2.0",
      "model_name": "LayoutModel",
      "state": {
       "grid_area": "widget023",
       "height": "50px",
       "margin": "0px",
       "max_height": "50px",
       "max_width": "50px",
       "width": "50px"
      }
     },
     "4a263143b2b945498e9cb50cfef40853": {
      "model_module": "@jupyter-widgets/controls",
      "model_module_version": "1.5.0",
      "model_name": "ButtonModel",
      "state": {
       "description": "➡",
       "layout": "IPY_MODEL_1ab900805fe34263a4ed1f465c9fe475",
       "style": "IPY_MODEL_5a4c750e852e4c308ff5eda4af9f8726"
      }
     },
     "4a4e7f16ae47428fa186376be32c70d6": {
      "model_module": "@jupyter-widgets/base",
      "model_module_version": "1.2.0",
      "model_name": "LayoutModel",
      "state": {
       "width": "760px"
      }
     },
     "4ad71afdce6c492db6d52a6ac87b0b1b": {
      "model_module": "@jupyter-widgets/controls",
      "model_module_version": "1.5.0",
      "model_name": "HTMLModel",
      "state": {
       "layout": "IPY_MODEL_299465a8e24e488f9f71aa6444c1181c",
       "style": "IPY_MODEL_5ececff8d47940b68293eb19a330cf59",
       "value": "<style>img.pixelated {image-rendering: pixelated;}</style>"
      }
     },
     "4b3c07a875ff4c7ab34be8e2cec668f7": {
      "model_module": "@jupyter-widgets/base",
      "model_module_version": "1.2.0",
      "model_name": "LayoutModel",
      "state": {
       "display": "none"
      }
     },
     "4b5390bd86e64a2f82d83dc58846b27d": {
      "model_module": "@jupyter-widgets/controls",
      "model_module_version": "1.5.0",
      "model_name": "FloatSliderModel",
      "state": {
       "description": "Seconds:",
       "layout": "IPY_MODEL_bdbf41f246304ed98810c83647893224",
       "max": 5,
       "min": 0.1,
       "step": 0.1,
       "style": "IPY_MODEL_af84dfa0a285417db22e876a708e0e1e",
       "value": 0.5
      }
     },
     "4bea297c3cb84c6290a4e853942be85c": {
      "model_module": "@jupyter-widgets/controls",
      "model_module_version": "1.5.0",
      "model_name": "ButtonModel",
      "state": {
       "description": " ",
       "layout": "IPY_MODEL_01157e3f3ab14d23aa7ba780d0f6fd5c",
       "style": "IPY_MODEL_12adc518892b47008917e8de41feae2e"
      }
     },
     "4c2ece5158f546ef8a0ec44f4a4383ae": {
      "model_module": "@jupyter-widgets/controls",
      "model_module_version": "1.5.0",
      "model_name": "ButtonStyleModel",
      "state": {}
     },
     "4c705463206244dba55ca2938045c779": {
      "model_module": "@jupyter-widgets/base",
      "model_module_version": "1.2.0",
      "model_name": "LayoutModel",
      "state": {
       "grid_area": "widget024",
       "height": "50px",
       "margin": "0px",
       "max_height": "50px",
       "max_width": "50px",
       "width": "50px"
      }
     },
     "4c9bc551f016422b8cc83ec4ac5b9a1a": {
      "model_module": "@jupyter-widgets/base",
      "model_module_version": "1.2.0",
      "model_name": "LayoutModel",
      "state": {
       "grid_area": "widget010",
       "height": "50px",
       "margin": "0px",
       "max_height": "50px",
       "max_width": "50px",
       "width": "50px"
      }
     },
     "4d0dffbe339549e791ca19ab3d60ea3f": {
      "model_module": "@jupyter-widgets/controls",
      "model_module_version": "1.5.0",
      "model_name": "ButtonStyleModel",
      "state": {}
     },
     "4d539f2d3ab6499babbfa2b140edfba2": {
      "model_module": "@jupyter-widgets/base",
      "model_module_version": "1.2.0",
      "model_name": "LayoutModel",
      "state": {
       "grid_area": "widget017",
       "height": "50px",
       "margin": "0px",
       "max_height": "50px",
       "max_width": "50px",
       "width": "50px"
      }
     },
     "4e563ca9ca884894a49fc82b6d5c1c9c": {
      "model_module": "@jupyter-widgets/controls",
      "model_module_version": "1.5.0",
      "model_name": "HTMLModel",
      "state": {
       "layout": "IPY_MODEL_ba27b263a7144bc198a0bbfa9e3210b9",
       "style": "IPY_MODEL_10a5f4ae9ea34708a526a4b49bb93fda",
       "value": "<style>img.pixelated {image-rendering: pixelated;}</style>"
      }
     },
     "4e9a0144dc53488c82488ada8e1b3636": {
      "model_module": "@jupyter-widgets/base",
      "model_module_version": "1.2.0",
      "model_name": "LayoutModel",
      "state": {
       "grid_area": "widget017",
       "height": "50px",
       "margin": "0px",
       "max_height": "50px",
       "max_width": "50px",
       "width": "50px"
      }
     },
     "4e9c89e85a064d07a32f13d403199561": {
      "model_module": "@jupyter-widgets/controls",
      "model_module_version": "1.5.0",
      "model_name": "DescriptionStyleModel",
      "state": {
       "description_width": ""
      }
     },
     "4ed97e6679444424b9376fa9c412b398": {
      "model_module": "@jupyter-widgets/controls",
      "model_module_version": "1.5.0",
      "model_name": "ButtonStyleModel",
      "state": {}
     },
     "4f28f421abec4bd89fde92eb6b9323f8": {
      "model_module": "@jupyter-widgets/base",
      "model_module_version": "1.2.0",
      "model_name": "LayoutModel",
      "state": {
       "grid_area": "widget018",
       "height": "50px",
       "margin": "0px",
       "max_height": "50px",
       "max_width": "50px",
       "width": "50px"
      }
     },
     "4f3b75a503c646699a9304e238dfc1a1": {
      "model_module": "@jupyter-widgets/controls",
      "model_module_version": "1.5.0",
      "model_name": "ButtonModel",
      "state": {
       "description": " ",
       "layout": "IPY_MODEL_d2f238455558404f9a847f90cd2db5c4",
       "style": "IPY_MODEL_cda091dcf3bc441abf4b87ef52fd0e02"
      }
     },
     "4f9f86e3c92c4b0db1823181742caaef": {
      "model_module": "@jupyter-widgets/controls",
      "model_module_version": "1.5.0",
      "model_name": "DescriptionStyleModel",
      "state": {
       "description_width": ""
      }
     },
     "4fea2752a78d4760abc6e07db96b46b9": {
      "model_module": "@jupyter-widgets/base",
      "model_module_version": "1.2.0",
      "model_name": "LayoutModel",
      "state": {}
     },
     "5021cfbf990e46a481f8b6eb3e9a2697": {
      "model_module": "@jupyter-widgets/base",
      "model_module_version": "1.2.0",
      "model_name": "LayoutModel",
      "state": {
       "grid_area": "widget019",
       "height": "50px",
       "margin": "0px",
       "max_height": "50px",
       "max_width": "50px",
       "width": "50px"
      }
     },
     "5073f4a8c889448e91a68be8ed3d31cd": {
      "model_module": "@jupyter-widgets/base",
      "model_module_version": "1.2.0",
      "model_name": "LayoutModel",
      "state": {}
     },
     "50bc6e35397246f8ae696a0f3d75a988": {
      "model_module": "@jupyter-widgets/base",
      "model_module_version": "1.2.0",
      "model_name": "LayoutModel",
      "state": {
       "grid_area": "widget011",
       "height": "50px",
       "margin": "0px",
       "max_height": "50px",
       "max_width": "50px",
       "width": "50px"
      }
     },
     "50edcb1fd5f4440e8d8e84fe092552fd": {
      "model_module": "@jupyter-widgets/controls",
      "model_module_version": "1.5.0",
      "model_name": "VBoxModel",
      "state": {
       "children": [
        "IPY_MODEL_345c82ad628e4edbb210b1389740acf7",
        "IPY_MODEL_42842bf3c7354e20978fd7aa5c0e57ed",
        "IPY_MODEL_b5e617b5edd14d12960460e5a66b4b45"
       ],
       "layout": "IPY_MODEL_164c795e166044948ffb1a01970e56c6"
      }
     },
     "5238d94de39e41ba886060fbb7b43578": {
      "model_module": "@jupyter-widgets/base",
      "model_module_version": "1.2.0",
      "model_name": "LayoutModel",
      "state": {
       "grid_area": "widget022",
       "height": "50px",
       "margin": "0px",
       "max_height": "50px",
       "max_width": "50px",
       "width": "50px"
      }
     },
     "52d8c739fdf9412ab409838be7e73813": {
      "model_module": "@jupyter-widgets/controls",
      "model_module_version": "1.5.0",
      "model_name": "ButtonModel",
      "state": {
       "description": "⬇",
       "layout": "IPY_MODEL_2f1064d6aa6a4802a5c87003bbf223b5",
       "style": "IPY_MODEL_d63992d153264df29c8b3a8ac5976ab8"
      }
     },
     "5351e0b98e8348829aaff9c22be4a2b6": {
      "model_module": "@jupyter-widgets/controls",
      "model_module_version": "1.5.0",
      "model_name": "HTMLModel",
      "state": {
       "layout": "IPY_MODEL_a476fee48c264f2eb44ee2b6eb9b4dfa",
       "style": "IPY_MODEL_38bc06706305451f93103a0699d26111",
       "value": "<style>img.pixelated {image-rendering: pixelated;}</style>"
      }
     },
     "537cec0f1c3a4034bd257fe3d91075f5": {
      "model_module": "@jupyter-widgets/base",
      "model_module_version": "1.2.0",
      "model_name": "LayoutModel",
      "state": {
       "grid_area": "widget015",
       "height": "50px",
       "margin": "0px",
       "max_height": "50px",
       "max_width": "50px",
       "width": "50px"
      }
     },
     "53ac58e2b7b24b7cb205772efe4c5bfc": {
      "model_module": "@jupyter-widgets/controls",
      "model_module_version": "1.5.0",
      "model_name": "ButtonStyleModel",
      "state": {}
     },
     "54dbc6b20f204bbda9d0dc380ed8f798": {
      "model_module": "@jupyter-widgets/base",
      "model_module_version": "1.2.0",
      "model_name": "LayoutModel",
      "state": {
       "grid_area": "widget015",
       "height": "50px",
       "margin": "0px",
       "max_height": "50px",
       "max_width": "50px",
       "width": "50px"
      }
     },
     "555fbb98e11d4b4faf58c003090c69d9": {
      "model_module": "@jupyter-widgets/controls",
      "model_module_version": "1.5.0",
      "model_name": "ButtonStyleModel",
      "state": {}
     },
     "55bbfbd319da4294bfdcfcb92e6308ae": {
      "model_module": "@jupyter-widgets/base",
      "model_module_version": "1.2.0",
      "model_name": "LayoutModel",
      "state": {}
     },
     "55d3d35c334b43a4ba3781d51f871c27": {
      "model_module": "@jupyter-widgets/base",
      "model_module_version": "1.2.0",
      "model_name": "LayoutModel",
      "state": {
       "width": "760px"
      }
     },
     "56c08d68b4f141069830fae72999d84c": {
      "model_module": "@jupyter-widgets/controls",
      "model_module_version": "1.5.0",
      "model_name": "LabelModel",
      "state": {
       "layout": "IPY_MODEL_a135695a031846ca91e7e137df2f7e90",
       "style": "IPY_MODEL_65cdf230d4554a2a969a4dc669f5b649",
       "value": "Left IR"
      }
     },
     "5761c7fb8c744c3fbc7f30c1c153e488": {
      "model_module": "@jupyter-widgets/controls",
      "model_module_version": "1.5.0",
      "model_name": "HTMLModel",
      "state": {
       "layout": "IPY_MODEL_70e78856385a4b11897a0ab68b7bfa18",
       "style": "IPY_MODEL_4476bd5a0f1046fa9772c9468b22d0ff",
       "value": "<style>img.pixelated {image-rendering: pixelated;}</style>"
      }
     },
     "576da60d3d0b4814a02518d14c184103": {
      "model_module": "@jupyter-widgets/base",
      "model_module_version": "1.2.0",
      "model_name": "LayoutModel",
      "state": {
       "grid_area": "widget013",
       "height": "50px",
       "margin": "0px",
       "max_height": "50px",
       "max_width": "50px",
       "width": "50px"
      }
     },
     "57edcb99ded14939812b370ea6abad92": {
      "model_module": "@jupyter-widgets/controls",
      "model_module_version": "1.5.0",
      "model_name": "FloatSliderModel",
      "state": {
       "description": "Seconds:",
       "layout": "IPY_MODEL_5875a9a16cbd4d99bbd093dd86f45cb0",
       "max": 5,
       "min": 0.1,
       "step": 0.1,
       "style": "IPY_MODEL_9dee290b814344988043de3f50c52266",
       "value": 0.1
      }
     },
     "5875a9a16cbd4d99bbd093dd86f45cb0": {
      "model_module": "@jupyter-widgets/base",
      "model_module_version": "1.2.0",
      "model_name": "LayoutModel",
      "state": {}
     },
     "58a227cb3a78464287e6fe1feb96fdb0": {
      "model_module": "@jupyter-widgets/base",
      "model_module_version": "1.2.0",
      "model_name": "LayoutModel",
      "state": {}
     },
     "5911907e25c94894ade37eec9dd9cf8b": {
      "model_module": "@jupyter-widgets/controls",
      "model_module_version": "1.5.0",
      "model_name": "TextModel",
      "state": {
       "description": "X:",
       "layout": "IPY_MODEL_db7f6245c8b84ab1955505a46e439802",
       "style": "IPY_MODEL_5edd6ff463314e3c88045f6eeaf154d1"
      }
     },
     "593865582bf2488b91053674eec5cc38": {
      "model_module": "@jupyter-widgets/controls",
      "model_module_version": "1.5.0",
      "model_name": "DescriptionStyleModel",
      "state": {
       "description_width": ""
      }
     },
     "5954440a698b4b359029ab740941ac1f": {
      "model_module": "@jupyter-widgets/controls",
      "model_module_version": "1.5.0",
      "model_name": "ButtonStyleModel",
      "state": {}
     },
     "59e6050d97704d47a7e439c8827179de": {
      "model_module": "@jupyter-widgets/base",
      "model_module_version": "1.2.0",
      "model_name": "LayoutModel",
      "state": {
       "grid_area": "widget017",
       "height": "50px",
       "margin": "0px",
       "max_height": "50px",
       "max_width": "50px",
       "width": "50px"
      }
     },
     "5a4c750e852e4c308ff5eda4af9f8726": {
      "model_module": "@jupyter-widgets/controls",
      "model_module_version": "1.5.0",
      "model_name": "ButtonStyleModel",
      "state": {}
     },
     "5a74ec7463ff4c329cec9b82c30dabbe": {
      "model_module": "@jupyter-widgets/base",
      "model_module_version": "1.2.0",
      "model_name": "LayoutModel",
      "state": {
       "width": "760px"
      }
     },
     "5a9b62d53e5842bb8862ae2c27baddd1": {
      "model_module": "@jupyter-widgets/base",
      "model_module_version": "1.2.0",
      "model_name": "LayoutModel",
      "state": {}
     },
     "5a9fdeb8ebad42d1abad3fa802476fd1": {
      "model_module": "@jupyter-widgets/base",
      "model_module_version": "1.2.0",
      "model_name": "LayoutModel",
      "state": {}
     },
     "5ab0fa1b9ede40ecb862b2f0dcc17999": {
      "buffers": [
       {
        "data": "iVBORw0KGgoAAAANSUhEUgAAAIAAAABACAYAAADS1n9/AAABW0lEQVR4nO3av07CUBSA8YPhiZiEFUdcccaE97jP5GScHVhgdfdBqItDUyGEcPG0/b5fQvqHgdObLw0NTCJKE8J6yB5AuQwAzgDgDADOAOAMAM4A4AwAzgDgDADOAOAmh0M0ERHN7y8C12zn8/JPY+pebgrg0rnufvt4uSx3uBxdKy2Ac8en3lutSsVLVtsgAui+jse/59brUnFZOEYTQPd8d3+zKRWXbTwwAbS3222puITD5mMgnAHAGQDcNHuADI/xnj1Cb3gHgDMAOAOAMwA4A4AzADgDgDMAOAOAMwA4A4AzADgDgDMAOAOAMwA4A4AzADgDgDMAOAOAMwA45N/Cd2WXPUJveAeAMwA4A4DDfAd4/c6eoJ9GE8DLV/YEwzSIAJ732ROMV1oAT59Zn6y2mwJYfNQaQ1mms7fsEZTJx0A4A4AzADgDgDMAOAOAMwA4A4AzADgDgPsB5zN8fupYCDUAAAAASUVORK5CYII=",
        "encoding": "base64",
        "path": [
         "value"
        ]
       }
      ],
      "model_module": "@jupyter-widgets/controls",
      "model_module_version": "1.5.0",
      "model_name": "ImageModel",
      "state": {
       "_dom_classes": [
        "pixelated"
       ],
       "layout": "IPY_MODEL_0dae0a44d32e4314b71849186f5f8ff4"
      }
     },
     "5ac832cb77544910b04bd3dc2083bcfb": {
      "model_module": "@jupyter-widgets/controls",
      "model_module_version": "1.5.0",
      "model_name": "ButtonModel",
      "state": {
       "description": "⬆",
       "layout": "IPY_MODEL_d5fde7b966dd47d4bcc9bef47882cdb1",
       "style": "IPY_MODEL_8fe7f7a6c0d846b4be9e7e59726642b1"
      }
     },
     "5ad3633f83d24812958ca8a0a7115785": {
      "model_module": "@jupyter-widgets/base",
      "model_module_version": "1.2.0",
      "model_name": "LayoutModel",
      "state": {
       "grid_area": "widget025",
       "height": "50px",
       "margin": "0px",
       "max_height": "50px",
       "max_width": "50px",
       "width": "50px"
      }
     },
     "5af0ba6852a249afad7a44272fb7e692": {
      "model_module": "@jupyter-widgets/controls",
      "model_module_version": "1.5.0",
      "model_name": "ButtonModel",
      "state": {
       "description": "⬊",
       "layout": "IPY_MODEL_5ad3633f83d24812958ca8a0a7115785",
       "style": "IPY_MODEL_2d13cef8cba741039fb6041d6b69da55"
      }
     },
     "5bd427831f28488c8708146ea85a4639": {
      "model_module": "@jupyter-widgets/controls",
      "model_module_version": "1.5.0",
      "model_name": "DescriptionStyleModel",
      "state": {
       "description_width": ""
      }
     },
     "5d8c481146654fdb9ae1e4e0636cf271": {
      "model_module": "@jupyter-widgets/base",
      "model_module_version": "1.2.0",
      "model_name": "LayoutModel",
      "state": {}
     },
     "5dd2ef41e3dc481aa0b975fda1ecfb18": {
      "model_module": "@jupyter-widgets/controls",
      "model_module_version": "1.5.0",
      "model_name": "DescriptionStyleModel",
      "state": {
       "description_width": ""
      }
     },
     "5e32ed212389406e8c2177109f74e5c9": {
      "model_module": "@jupyter-widgets/base",
      "model_module_version": "1.2.0",
      "model_name": "LayoutModel",
      "state": {
       "grid_area": "widget012",
       "height": "50px",
       "margin": "0px",
       "max_height": "50px",
       "max_width": "50px",
       "width": "50px"
      }
     },
     "5e461886128646b0b3dc7c34de329a47": {
      "model_module": "@jupyter-widgets/base",
      "model_module_version": "1.2.0",
      "model_name": "LayoutModel",
      "state": {}
     },
     "5e5d931d03504c3ab86b7c818f24fdd2": {
      "model_module": "@jupyter-widgets/base",
      "model_module_version": "1.2.0",
      "model_name": "LayoutModel",
      "state": {}
     },
     "5ececff8d47940b68293eb19a330cf59": {
      "model_module": "@jupyter-widgets/controls",
      "model_module_version": "1.5.0",
      "model_name": "DescriptionStyleModel",
      "state": {
       "description_width": ""
      }
     },
     "5edd6ff463314e3c88045f6eeaf154d1": {
      "model_module": "@jupyter-widgets/controls",
      "model_module_version": "1.5.0",
      "model_name": "DescriptionStyleModel",
      "state": {
       "description_width": ""
      }
     },
     "5ee314bf011143639bfadf3e0d438b70": {
      "model_module": "@jupyter-widgets/controls",
      "model_module_version": "1.5.0",
      "model_name": "HBoxModel",
      "state": {
       "children": [
        "IPY_MODEL_f46605af0e2e464382a844815ea001e2",
        "IPY_MODEL_5ab0fa1b9ede40ecb862b2f0dcc17999"
       ],
       "layout": "IPY_MODEL_5e461886128646b0b3dc7c34de329a47"
      }
     },
     "5ef6297045364eb5875cb92e5997278a": {
      "model_module": "@jupyter-widgets/controls",
      "model_module_version": "1.5.0",
      "model_name": "ButtonStyleModel",
      "state": {}
     },
     "607862d64b704effb2a3118f321f8f8a": {
      "model_module": "@jupyter-widgets/controls",
      "model_module_version": "1.5.0",
      "model_name": "DescriptionStyleModel",
      "state": {
       "description_width": ""
      }
     },
     "60ecf62a73804694a64e14e6d7d29917": {
      "model_module": "@jupyter-widgets/base",
      "model_module_version": "1.2.0",
      "model_name": "LayoutModel",
      "state": {
       "grid_area": "widget021",
       "height": "50px",
       "margin": "0px",
       "max_height": "50px",
       "max_width": "50px",
       "width": "50px"
      }
     },
     "612a12215c8a4cfcb481cf5051f64963": {
      "model_module": "@jupyter-widgets/controls",
      "model_module_version": "1.5.0",
      "model_name": "ButtonModel",
      "state": {
       "description": "｜",
       "layout": "IPY_MODEL_f85929413e224d50bb044695b790079d",
       "style": "IPY_MODEL_81f3a0c3e8c145399de71dad981312d0"
      }
     },
     "61939648b214444b860c8bf1c2c75ef9": {
      "model_module": "@jupyter-widgets/base",
      "model_module_version": "1.2.0",
      "model_name": "LayoutModel",
      "state": {}
     },
     "61aa8102fdd6450f845b5b1ee24056a3": {
      "model_module": "@jupyter-widgets/controls",
      "model_module_version": "1.5.0",
      "model_name": "LabelModel",
      "state": {
       "layout": "IPY_MODEL_4620dcb9831a4f29a8a7b0c065f4ace7",
       "style": "IPY_MODEL_3893a3c3254a4d8d9d02e3ee8e0e6d97",
       "value": "<b>Time</b>: 00:03:12.70"
      }
     },
     "639171cc51b1462285b6afe7d7582b68": {
      "model_module": "@jupyter-widgets/controls",
      "model_module_version": "1.5.0",
      "model_name": "TextModel",
      "state": {
       "description": "Name:",
       "layout": "IPY_MODEL_a22470e087aa4b65853e55d51d8debda",
       "style": "IPY_MODEL_f033654d13194054a97e8c24d76fd3c9"
      }
     },
     "64ba16c8e9d44259986c2318f8d59977": {
      "model_module": "@jupyter-widgets/controls",
      "model_module_version": "1.5.0",
      "model_name": "LabelModel",
      "state": {
       "layout": "IPY_MODEL_15923150623d42c5ac779a89fd9dff50",
       "style": "IPY_MODEL_b283f538adcb4b0488f2a47873522049",
       "value": "Time: 00:00:32.50"
      }
     },
     "650baa0f99514a17b3d94111081b6fc7": {
      "model_module": "@jupyter-widgets/controls",
      "model_module_version": "1.5.0",
      "model_name": "DescriptionStyleModel",
      "state": {
       "description_width": ""
      }
     },
     "65a1263f927f465fa22ac7c6f3f8b9da": {
      "model_module": "@jupyter-widgets/controls",
      "model_module_version": "1.5.0",
      "model_name": "ProgressStyleModel",
      "state": {
       "description_width": ""
      }
     },
     "65cdf230d4554a2a969a4dc669f5b649": {
      "model_module": "@jupyter-widgets/controls",
      "model_module_version": "1.5.0",
      "model_name": "DescriptionStyleModel",
      "state": {
       "description_width": ""
      }
     },
     "6626f074d08043589ce38f583a616e35": {
      "model_module": "@jupyter-widgets/controls",
      "model_module_version": "1.5.0",
      "model_name": "DescriptionStyleModel",
      "state": {
       "description_width": ""
      }
     },
     "678d0a0c61564fa2827d50eec6e89923": {
      "model_module": "@jupyter-widgets/controls",
      "model_module_version": "1.5.0",
      "model_name": "ButtonStyleModel",
      "state": {}
     },
     "68203a9269f1455c9461ef8f450af133": {
      "model_module": "@jupyter-widgets/controls",
      "model_module_version": "1.5.0",
      "model_name": "ButtonStyleModel",
      "state": {}
     },
     "68830904e24244a4ad389ec0b2cce045": {
      "model_module": "@jupyter-widgets/controls",
      "model_module_version": "1.5.0",
      "model_name": "ButtonModel",
      "state": {
       "description": " ",
       "layout": "IPY_MODEL_8100273f74c947eca2b5b7acc6319db1",
       "style": "IPY_MODEL_b011216ea83d47a68af73607ef07c5c0"
      }
     },
     "68c24b26aa3240849a0886c102810727": {
      "model_module": "@jupyter-widgets/base",
      "model_module_version": "1.2.0",
      "model_name": "LayoutModel",
      "state": {
       "grid_area": "widget011",
       "height": "50px",
       "margin": "0px",
       "max_height": "50px",
       "max_width": "50px",
       "width": "50px"
      }
     },
     "68d9daba462d459aa76eacb9992322ae": {
      "model_module": "@jupyter-widgets/base",
      "model_module_version": "1.2.0",
      "model_name": "LayoutModel",
      "state": {
       "grid_area": "widget019",
       "height": "50px",
       "margin": "0px",
       "max_height": "50px",
       "max_width": "50px",
       "width": "50px"
      }
     },
     "68ed904c3b8644ae99bca3fa54382f9f": {
      "model_module": "@jupyter-widgets/base",
      "model_module_version": "1.2.0",
      "model_name": "LayoutModel",
      "state": {}
     },
     "69e944bd383640ae90cab18527910dc6": {
      "model_module": "@jupyter-widgets/base",
      "model_module_version": "1.2.0",
      "model_name": "LayoutModel",
      "state": {}
     },
     "6a024d97e4da42eaa7089b3760b7fa7f": {
      "model_module": "@jupyter-widgets/controls",
      "model_module_version": "1.5.0",
      "model_name": "ButtonStyleModel",
      "state": {}
     },
     "6afec0d208b1422594245d429fc0ddc2": {
      "model_module": "@jupyter-widgets/controls",
      "model_module_version": "1.5.0",
      "model_name": "ButtonModel",
      "state": {
       "description": " ",
       "layout": "IPY_MODEL_89fcbb733a144b40b839df4afa5d5242",
       "style": "IPY_MODEL_d3028678e76c4754859b6d4c9f33ed66"
      }
     },
     "6b218412ce7b4ed496c8cad3f05f3427": {
      "model_module": "@jupyter-widgets/controls",
      "model_module_version": "1.5.0",
      "model_name": "VBoxModel",
      "state": {
       "children": [
        "IPY_MODEL_280f9add821f4aff94bc710735d8135f",
        "IPY_MODEL_dea80bc5dc974d5a8eb68801f324525d",
        "IPY_MODEL_6bec6c5d9fe942ff8449b98f74874008"
       ],
       "layout": "IPY_MODEL_55d3d35c334b43a4ba3781d51f871c27"
      }
     },
     "6b4732be89a54861b0d133e6f3788c4f": {
      "model_module": "@jupyter-widgets/base",
      "model_module_version": "1.2.0",
      "model_name": "LayoutModel",
      "state": {
       "grid_area": "widget007",
       "height": "50px",
       "margin": "0px",
       "max_height": "50px",
       "max_width": "50px",
       "width": "50px"
      }
     },
     "6b96140e9ce944e0aaceffacd623c494": {
      "model_module": "@jupyter-widgets/base",
      "model_module_version": "1.2.0",
      "model_name": "LayoutModel",
      "state": {
       "display": "flex"
      }
     },
     "6bec6c5d9fe942ff8449b98f74874008": {
      "model_module": "@jupyter-widgets/controls",
      "model_module_version": "1.5.0",
      "model_name": "VBoxModel",
      "state": {
       "children": [
        "IPY_MODEL_eb316b49f6eb4aa1bf006006dd406711",
        "IPY_MODEL_a725eca105e44790a1c4b6fd5142ae05",
        "IPY_MODEL_05cb7f5bade84c44b5398b4f2600b5f5",
        "IPY_MODEL_2bcb99fbae6d4e6183c0fd8ef33f3b5c",
        "IPY_MODEL_b02605c144e24b1181ace342ad39a56c"
       ],
       "layout": "IPY_MODEL_7e1831a57a344ade9c92d5ad103ce746"
      }
     },
     "6d77921cb2d94b6ca457415b55f1de54": {
      "model_module": "@jupyter-widgets/controls",
      "model_module_version": "1.5.0",
      "model_name": "DescriptionStyleModel",
      "state": {
       "description_width": ""
      }
     },
     "6ed3624f1baa4ea3b900e22bd3abd4b6": {
      "model_module": "@jupyter-widgets/controls",
      "model_module_version": "1.5.0",
      "model_name": "DescriptionStyleModel",
      "state": {
       "description_width": ""
      }
     },
     "6ed5e819e9ca4a03ac58cd29a4f569b7": {
      "model_module": "@jupyter-widgets/controls",
      "model_module_version": "1.5.0",
      "model_name": "ButtonModel",
      "state": {
       "description": "｜",
       "layout": "IPY_MODEL_92dc7b73a50c4eb2b0b457c2762be1ae",
       "style": "IPY_MODEL_2effbc4bd05447a5a3b88c4bf5f85851"
      }
     },
     "6fcc1c0b7acb4436be7c55391644614d": {
      "model_module": "@jupyter-widgets/base",
      "model_module_version": "1.2.0",
      "model_name": "LayoutModel",
      "state": {}
     },
     "6ff287d0895449d59356bb2a4f91a7ea": {
      "model_module": "@jupyter-widgets/base",
      "model_module_version": "1.2.0",
      "model_name": "LayoutModel",
      "state": {
       "grid_area": "widget016",
       "height": "50px",
       "margin": "0px",
       "max_height": "50px",
       "max_width": "50px",
       "width": "50px"
      }
     },
     "70e78856385a4b11897a0ab68b7bfa18": {
      "model_module": "@jupyter-widgets/base",
      "model_module_version": "1.2.0",
      "model_name": "LayoutModel",
      "state": {}
     },
     "711a441b4dbc4d32974f8216e285f0e2": {
      "model_module": "@jupyter-widgets/controls",
      "model_module_version": "1.5.0",
      "model_name": "ButtonStyleModel",
      "state": {}
     },
     "7171bc31c69e49f88f960624ac579c5d": {
      "model_module": "@jupyter-widgets/base",
      "model_module_version": "1.2.0",
      "model_name": "LayoutModel",
      "state": {}
     },
     "717ac0db325146af9de8b4db4cb481fa": {
      "model_module": "@jupyter-widgets/base",
      "model_module_version": "1.2.0",
      "model_name": "LayoutModel",
      "state": {
       "grid_area": "widget002",
       "height": "50px",
       "margin": "0px",
       "max_height": "50px",
       "max_width": "50px",
       "width": "50px"
      }
     },
     "718c8231a6a2457eab3d4ba7291b2a1d": {
      "model_module": "@jupyter-widgets/base",
      "model_module_version": "1.2.0",
      "model_name": "LayoutModel",
      "state": {
       "grid_area": "widget014",
       "height": "50px",
       "margin": "0px",
       "max_height": "50px",
       "max_width": "50px",
       "width": "50px"
      }
     },
     "7372f99d5255486a8e7b24108546f3c2": {
      "model_module": "@jupyter-widgets/controls",
      "model_module_version": "1.5.0",
      "model_name": "ButtonStyleModel",
      "state": {}
     },
     "74cb920c48fe434cb377dfa2bb31aef0": {
      "model_module": "@jupyter-widgets/controls",
      "model_module_version": "1.5.0",
      "model_name": "ButtonModel",
      "state": {
       "description": "⬋",
       "layout": "IPY_MODEL_bead19d54cf749beaab5577e20d09025",
       "style": "IPY_MODEL_1fa3e0d286704647ac8551c4cc4d31ca"
      }
     },
     "75b3409abec14165b2157803d30f9dd3": {
      "model_module": "@jupyter-widgets/controls",
      "model_module_version": "1.5.0",
      "model_name": "ButtonStyleModel",
      "state": {}
     },
     "75df3d7778374ecf86afc32a36f64093": {
      "model_module": "@jupyter-widgets/controls",
      "model_module_version": "1.5.0",
      "model_name": "ButtonModel",
      "state": {
       "description": "⬆",
       "layout": "IPY_MODEL_a8be17d72fd9443b81050689e2b776b7",
       "style": "IPY_MODEL_0a4229cfad624ce7bd3819926fd9e8cb"
      }
     },
     "7697f20587ae4953b095694255e9041c": {
      "model_module": "@jupyter-widgets/controls",
      "model_module_version": "1.5.0",
      "model_name": "DescriptionStyleModel",
      "state": {
       "description_width": ""
      }
     },
     "76bed705d5ef40fca845641e2b899c46": {
      "model_module": "@jupyter-widgets/controls",
      "model_module_version": "1.5.0",
      "model_name": "ButtonStyleModel",
      "state": {}
     },
     "76e522841d264f908ca47e738c78fed3": {
      "model_module": "@jupyter-widgets/base",
      "model_module_version": "1.2.0",
      "model_name": "LayoutModel",
      "state": {
       "grid_area": "widget005",
       "height": "50px",
       "margin": "0px",
       "max_height": "50px",
       "max_width": "50px",
       "width": "50px"
      }
     },
     "77bfed4e5a9e486f83350b68e2a2e08c": {
      "model_module": "@jupyter-widgets/base",
      "model_module_version": "1.2.0",
      "model_name": "LayoutModel",
      "state": {}
     },
     "77d38b56f68c48748259eb394f4aaab6": {
      "model_module": "@jupyter-widgets/controls",
      "model_module_version": "1.5.0",
      "model_name": "HTMLModel",
      "state": {
       "layout": "IPY_MODEL_c99d366d54ab45718da819afdc70687f",
       "style": "IPY_MODEL_6d77921cb2d94b6ca457415b55f1de54",
       "value": "<style>img.pixelated {image-rendering: pixelated;}</style>"
      }
     },
     "780cce2a9d8c43e0bc55a9d16ee2aafa": {
      "model_module": "@jupyter-widgets/controls",
      "model_module_version": "1.5.0",
      "model_name": "ButtonStyleModel",
      "state": {}
     },
     "7811d480b5544094a2ae095cfebd08b7": {
      "model_module": "@jupyter-widgets/base",
      "model_module_version": "1.2.0",
      "model_name": "LayoutModel",
      "state": {}
     },
     "78887db59ae041dc850bc0f3c9b9ad0b": {
      "model_module": "@jupyter-widgets/base",
      "model_module_version": "1.2.0",
      "model_name": "LayoutModel",
      "state": {
       "grid_area": "widget020",
       "height": "50px",
       "margin": "0px",
       "max_height": "50px",
       "max_width": "50px",
       "width": "50px"
      }
     },
     "78f60de9e2af4961a44746f9017fa187": {
      "model_module": "@jupyter-widgets/controls",
      "model_module_version": "1.5.0",
      "model_name": "SliderStyleModel",
      "state": {
       "description_width": ""
      }
     },
     "7929aba95004456dbcf8b64c44c627df": {
      "model_module": "@jupyter-widgets/base",
      "model_module_version": "1.2.0",
      "model_name": "LayoutModel",
      "state": {
       "width": "760px"
      }
     },
     "79f6994460d94bcdb5d79ee820353f8e": {
      "model_module": "@jupyter-widgets/controls",
      "model_module_version": "1.5.0",
      "model_name": "HTMLModel",
      "state": {
       "layout": "IPY_MODEL_04adb1108609423082bb9b9eff09fbdf",
       "style": "IPY_MODEL_97959420da104556927581fabe05912e",
       "value": "<style>img.pixelated {image-rendering: pixelated;}</style>"
      }
     },
     "7c8fcf93d59f4ab9872f05a79bdf0921": {
      "model_module": "@jupyter-widgets/controls",
      "model_module_version": "1.5.0",
      "model_name": "ButtonStyleModel",
      "state": {}
     },
     "7e1831a57a344ade9c92d5ad103ce746": {
      "model_module": "@jupyter-widgets/base",
      "model_module_version": "1.2.0",
      "model_name": "LayoutModel",
      "state": {}
     },
     "7f616689a0fc4ca7b9ca6c32ad3f7eaa": {
      "model_module": "@jupyter-widgets/base",
      "model_module_version": "1.2.0",
      "model_name": "LayoutModel",
      "state": {}
     },
     "7fe667a3cde44ef7936b48c1e0234700": {
      "model_module": "@jupyter-widgets/controls",
      "model_module_version": "1.5.0",
      "model_name": "DescriptionStyleModel",
      "state": {
       "description_width": ""
      }
     },
     "8004c92b416e4ca098b6ff60abd48116": {
      "model_module": "@jupyter-widgets/controls",
      "model_module_version": "1.5.0",
      "model_name": "ButtonModel",
      "state": {
       "description": "⊙",
       "layout": "IPY_MODEL_e725c7791f9249e1b01bf9aec37d21e4",
       "style": "IPY_MODEL_ad53172564ea444baf76f6c3b4cd77f8"
      }
     },
     "80a79bfb52864c5db96646894fd07df5": {
      "model_module": "@jupyter-widgets/base",
      "model_module_version": "1.2.0",
      "model_name": "LayoutModel",
      "state": {}
     },
     "8100273f74c947eca2b5b7acc6319db1": {
      "model_module": "@jupyter-widgets/base",
      "model_module_version": "1.2.0",
      "model_name": "LayoutModel",
      "state": {
       "grid_area": "widget004",
       "height": "50px",
       "margin": "0px",
       "max_height": "50px",
       "max_width": "50px",
       "width": "50px"
      }
     },
     "811be4a201fa45b985878ebe00d88c69": {
      "model_module": "@jupyter-widgets/controls",
      "model_module_version": "1.5.0",
      "model_name": "ButtonStyleModel",
      "state": {}
     },
     "8136a12264114dbfa24aea724fedd622": {
      "model_module": "@jupyter-widgets/controls",
      "model_module_version": "1.5.0",
      "model_name": "DescriptionStyleModel",
      "state": {
       "description_width": ""
      }
     },
     "81ed8bf4f9f04db9ad9200067c6e9528": {
      "model_module": "@jupyter-widgets/controls",
      "model_module_version": "1.5.0",
      "model_name": "ButtonStyleModel",
      "state": {}
     },
     "81f3a0c3e8c145399de71dad981312d0": {
      "model_module": "@jupyter-widgets/controls",
      "model_module_version": "1.5.0",
      "model_name": "ButtonStyleModel",
      "state": {}
     },
     "823cb76f5479461e90a4b1eff644bdf1": {
      "model_module": "@jupyter-widgets/base",
      "model_module_version": "1.2.0",
      "model_name": "LayoutModel",
      "state": {}
     },
     "834bde73cb04449e88db5bc8102743b3": {
      "model_module": "@jupyter-widgets/controls",
      "model_module_version": "1.5.0",
      "model_name": "ButtonStyleModel",
      "state": {}
     },
     "83b478dc04a347d8bf397d5b934ed2e6": {
      "model_module": "@jupyter-widgets/controls",
      "model_module_version": "1.5.0",
      "model_name": "VBoxModel",
      "state": {
       "children": [
        "IPY_MODEL_61aa8102fdd6450f845b5b1ee24056a3",
        "IPY_MODEL_386e3a5ccc914a8b83da508e157b9afd",
        "IPY_MODEL_e9ef992ec4fe420ba0fceb6d814234ca"
       ],
       "layout": "IPY_MODEL_cc15d0e0e6a54ae69396155294471f13"
      }
     },
     "83d53cae6beb46aa8b3337a30aa2fd77": {
      "model_module": "@jupyter-widgets/base",
      "model_module_version": "1.2.0",
      "model_name": "LayoutModel",
      "state": {}
     },
     "84052c95e90b48ab8f349e08fd484c43": {
      "model_module": "@jupyter-widgets/controls",
      "model_module_version": "1.5.0",
      "model_name": "ButtonModel",
      "state": {
       "description": " ",
       "layout": "IPY_MODEL_e4577ab5f5e54d83bfa63e2d73daf947",
       "style": "IPY_MODEL_098d2de1f6194f00bb1780ba382a3857"
      }
     },
     "8491f6b3858a4d9b9eadc1fbf46bab86": {
      "model_module": "@jupyter-widgets/controls",
      "model_module_version": "1.5.0",
      "model_name": "ButtonModel",
      "state": {
       "description": "－",
       "layout": "IPY_MODEL_de1d0747717048c0a4718dab8b301bd2",
       "style": "IPY_MODEL_20ceeb118354443b8b9228439a56d457"
      }
     },
     "84a913ad9fe74d1ba275ae220f4e0106": {
      "model_module": "@jupyter-widgets/controls",
      "model_module_version": "1.5.0",
      "model_name": "ButtonStyleModel",
      "state": {}
     },
     "84d0fbaf436b40d78a498e0517963531": {
      "model_module": "@jupyter-widgets/controls",
      "model_module_version": "1.5.0",
      "model_name": "ButtonModel",
      "state": {
       "description": " ",
       "layout": "IPY_MODEL_78887db59ae041dc850bc0f3c9b9ad0b",
       "style": "IPY_MODEL_f02180f676054602ac3452f4e9408848"
      }
     },
     "8580418c73bf4b7b97257587f5ec67e5": {
      "model_module": "@jupyter-widgets/controls",
      "model_module_version": "1.5.0",
      "model_name": "ButtonStyleModel",
      "state": {}
     },
     "86023bbfbfb64dea818dc44265acdbc9": {
      "model_module": "@jupyter-widgets/controls",
      "model_module_version": "1.5.0",
      "model_name": "ButtonModel",
      "state": {
       "description": "⬊",
       "layout": "IPY_MODEL_14af5b73173140f199745fefa3a44425",
       "style": "IPY_MODEL_1081495cd1984f0b8451c4c85c09a601"
      }
     },
     "8651b45095214f0399c9dd5176839098": {
      "model_module": "@jupyter-widgets/base",
      "model_module_version": "1.2.0",
      "model_name": "LayoutModel",
      "state": {
       "grid_area": "widget006",
       "height": "50px",
       "margin": "0px",
       "max_height": "50px",
       "max_width": "50px",
       "width": "50px"
      }
     },
     "866871ec457d4446afa109e318a6832c": {
      "model_module": "@jupyter-widgets/base",
      "model_module_version": "1.2.0",
      "model_name": "LayoutModel",
      "state": {
       "grid_area": "widget016",
       "height": "50px",
       "margin": "0px",
       "max_height": "50px",
       "max_width": "50px",
       "width": "50px"
      }
     },
     "86c43fcec6ff4de18301c64ce998c25b": {
      "model_module": "@jupyter-widgets/controls",
      "model_module_version": "1.5.0",
      "model_name": "HTMLModel",
      "state": {
       "layout": "IPY_MODEL_0c0674949f184103bc844b12757aab01",
       "style": "IPY_MODEL_128039619bad47d39ced01ff8453b62a",
       "value": "<style>img.pixelated {image-rendering: pixelated;}</style>"
      }
     },
     "86c66b1e8cc44486be7183a54ee389f1": {
      "model_module": "@jupyter-widgets/base",
      "model_module_version": "1.2.0",
      "model_name": "LayoutModel",
      "state": {
       "display": "none"
      }
     },
     "881c126369d343cca4516c366dc16407": {
      "model_module": "@jupyter-widgets/controls",
      "model_module_version": "1.5.0",
      "model_name": "ButtonStyleModel",
      "state": {}
     },
     "8850322fe1f944d5be8a6b5f65a1150d": {
      "model_module": "@jupyter-widgets/controls",
      "model_module_version": "1.5.0",
      "model_name": "ButtonModel",
      "state": {
       "description": " ",
       "layout": "IPY_MODEL_3eb8f494b46140e8ae13bd25730ef5a5",
       "style": "IPY_MODEL_81ed8bf4f9f04db9ad9200067c6e9528"
      }
     },
     "89cf3b7e05fc4a9f9c72f3316781cfe4": {
      "model_module": "@jupyter-widgets/base",
      "model_module_version": "1.2.0",
      "model_name": "LayoutModel",
      "state": {}
     },
     "89fcbb733a144b40b839df4afa5d5242": {
      "model_module": "@jupyter-widgets/base",
      "model_module_version": "1.2.0",
      "model_name": "LayoutModel",
      "state": {
       "grid_area": "widget022",
       "height": "50px",
       "margin": "0px",
       "max_height": "50px",
       "max_width": "50px",
       "width": "50px"
      }
     },
     "8a1a814f3fa843e3968b858fbd77f57a": {
      "model_module": "@jupyter-widgets/controls",
      "model_module_version": "1.5.0",
      "model_name": "ButtonModel",
      "state": {
       "description": "➡",
       "layout": "IPY_MODEL_537cec0f1c3a4034bd257fe3d91075f5",
       "style": "IPY_MODEL_aca767acbad541c6821b706a47cbb6f7"
      }
     },
     "8a218767059e40738ce47ab76baedaf3": {
      "model_module": "@jupyter-widgets/base",
      "model_module_version": "1.2.0",
      "model_name": "LayoutModel",
      "state": {
       "grid_area": "widget022",
       "height": "50px",
       "margin": "0px",
       "max_height": "50px",
       "max_width": "50px",
       "width": "50px"
      }
     },
     "8a7b5a08cbb3404da7e811c9a1c73965": {
      "model_module": "@jupyter-widgets/controls",
      "model_module_version": "1.5.0",
      "model_name": "HTMLModel",
      "state": {
       "layout": "IPY_MODEL_354d674fb78147f9b4f75e3d1da4d252",
       "style": "IPY_MODEL_593865582bf2488b91053674eec5cc38",
       "value": "<style>img.pixelated {image-rendering: pixelated;}</style>"
      }
     },
     "8b64961f465141168a93ff7e1fb54ab8": {
      "model_module": "@jupyter-widgets/controls",
      "model_module_version": "1.5.0",
      "model_name": "HTMLModel",
      "state": {
       "layout": "IPY_MODEL_89cf3b7e05fc4a9f9c72f3316781cfe4",
       "style": "IPY_MODEL_8136a12264114dbfa24aea724fedd622",
       "value": "<style>img.pixelated {image-rendering: pixelated;}</style>"
      }
     },
     "8c30955440984f74aec071e06ae7daa0": {
      "model_module": "@jupyter-widgets/base",
      "model_module_version": "1.2.0",
      "model_name": "LayoutModel",
      "state": {
       "width": "760px"
      }
     },
     "8c61fb65fcd24b1e9af2aa19b2f37912": {
      "model_module": "@jupyter-widgets/controls",
      "model_module_version": "1.5.0",
      "model_name": "LabelModel",
      "state": {
       "layout": "IPY_MODEL_4fea2752a78d4760abc6e07db96b46b9",
       "style": "IPY_MODEL_a61415506d164c0d96cfd99952aa999f",
       "value": "Time: 00:03:12.70"
      }
     },
     "8cdd321a15de4d2f8f79824aa404e0a4": {
      "model_module": "@jupyter-widgets/base",
      "model_module_version": "1.2.0",
      "model_name": "LayoutModel",
      "state": {
       "display": "none"
      }
     },
     "8d285dd51d994154a778ab2ddb644346": {
      "model_module": "@jupyter-widgets/controls",
      "model_module_version": "1.5.0",
      "model_name": "ButtonStyleModel",
      "state": {}
     },
     "8df5403c2e3840c28b4f1deaeef9a7d3": {
      "model_module": "@jupyter-widgets/controls",
      "model_module_version": "1.5.0",
      "model_name": "ButtonModel",
      "state": {
       "description": "╲",
       "layout": "IPY_MODEL_6b4732be89a54861b0d133e6f3788c4f",
       "style": "IPY_MODEL_c658fb8a4bcf49689a5b172a1b7048cd"
      }
     },
     "8f43badcadcf4b93be120db3857c7ca4": {
      "model_module": "@jupyter-widgets/controls",
      "model_module_version": "1.5.0",
      "model_name": "DescriptionStyleModel",
      "state": {
       "description_width": ""
      }
     },
     "8f91c42595d143b69d82062bf53e34a5": {
      "model_module": "@jupyter-widgets/controls",
      "model_module_version": "1.5.0",
      "model_name": "VBoxModel",
      "state": {
       "children": [
        "IPY_MODEL_64ba16c8e9d44259986c2318f8d59977",
        "IPY_MODEL_d2bf7a0d5aff4989838ff9e802f377de",
        "IPY_MODEL_3956c991fa464a92b7da5c7c0de0d5ea"
       ],
       "layout": "IPY_MODEL_4a4e7f16ae47428fa186376be32c70d6"
      }
     },
     "8fe7f7a6c0d846b4be9e7e59726642b1": {
      "model_module": "@jupyter-widgets/controls",
      "model_module_version": "1.5.0",
      "model_name": "ButtonStyleModel",
      "state": {}
     },
     "8ffeed66728b41cc8ae86c3f00d267fc": {
      "model_module": "@jupyter-widgets/base",
      "model_module_version": "1.2.0",
      "model_name": "LayoutModel",
      "state": {
       "grid_area": "widget005",
       "height": "50px",
       "margin": "0px",
       "max_height": "50px",
       "max_width": "50px",
       "width": "50px"
      }
     },
     "901f393b14094ba4b90f41a8acdac50e": {
      "model_module": "@jupyter-widgets/controls",
      "model_module_version": "1.5.0",
      "model_name": "ButtonModel",
      "state": {
       "description": "－",
       "layout": "IPY_MODEL_a3dfaa9c4608478891873310537f403d",
       "style": "IPY_MODEL_ede67edd47594ca8abb160df9e401ef9"
      }
     },
     "912212373d5347bd8147ec755387c095": {
      "model_module": "@jupyter-widgets/controls",
      "model_module_version": "1.5.0",
      "model_name": "ButtonStyleModel",
      "state": {}
     },
     "916653e8bd8941c48fe0138181cee92d": {
      "model_module": "@jupyter-widgets/controls",
      "model_module_version": "1.5.0",
      "model_name": "VBoxModel",
      "state": {
       "children": [
        "IPY_MODEL_a42e148da2f44cc0b73d7f4f529dbb49",
        "IPY_MODEL_46be91b7a3a6461da44e78bdd775dc73",
        "IPY_MODEL_d814567bfd264d579ee91b84df4c5735",
        "IPY_MODEL_c752d537c1b84a4ab51d04c1d8d1267c"
       ],
       "layout": "IPY_MODEL_5a74ec7463ff4c329cec9b82c30dabbe"
      }
     },
     "9231fa3d384242fcbdf4536bf8a87ded": {
      "model_module": "@jupyter-widgets/controls",
      "model_module_version": "1.5.0",
      "model_name": "ButtonModel",
      "state": {
       "description": "⬊",
       "layout": "IPY_MODEL_cec4f9cd00c94684934b10f40f853f2d",
       "style": "IPY_MODEL_d4369bdc390f434fb29fd34be8782acf"
      }
     },
     "923aac653d364017987e21ca9e6381d6": {
      "model_module": "@jupyter-widgets/base",
      "model_module_version": "1.2.0",
      "model_name": "LayoutModel",
      "state": {
       "grid_area": "widget001",
       "height": "50px",
       "margin": "0px",
       "max_height": "50px",
       "max_width": "50px",
       "width": "50px"
      }
     },
     "927f6e77f49c4f0cb87e0e5c144bcd49": {
      "model_module": "@jupyter-widgets/base",
      "model_module_version": "1.2.0",
      "model_name": "LayoutModel",
      "state": {}
     },
     "92c585e8b1fb4737be344a4442be9376": {
      "model_module": "@jupyter-widgets/controls",
      "model_module_version": "1.5.0",
      "model_name": "HTMLModel",
      "state": {
       "layout": "IPY_MODEL_1e1f9926c08c48c58f74c84a94a55784",
       "style": "IPY_MODEL_45d4417e9c034cc28a18375e7125b9c6",
       "value": "<style>img.pixelated {image-rendering: pixelated;}</style>"
      }
     },
     "92cc4062ab544df2b215d633daa62957": {
      "model_module": "@jupyter-widgets/base",
      "model_module_version": "1.2.0",
      "model_name": "LayoutModel",
      "state": {
       "grid_area": "widget008",
       "height": "50px",
       "margin": "0px",
       "max_height": "50px",
       "max_width": "50px",
       "width": "50px"
      }
     },
     "92dc7b73a50c4eb2b0b457c2762be1ae": {
      "model_module": "@jupyter-widgets/base",
      "model_module_version": "1.2.0",
      "model_name": "LayoutModel",
      "state": {
       "grid_area": "widget008",
       "height": "50px",
       "margin": "0px",
       "max_height": "50px",
       "max_width": "50px",
       "width": "50px"
      }
     },
     "92e86f13b54946fbb36275bfad298725": {
      "model_module": "@jupyter-widgets/controls",
      "model_module_version": "1.5.0",
      "model_name": "ButtonStyleModel",
      "state": {}
     },
     "9330baa8a8ec48efbbccf9151d6009ee": {
      "model_module": "@jupyter-widgets/controls",
      "model_module_version": "1.5.0",
      "model_name": "ButtonModel",
      "state": {
       "description": "⬉",
       "layout": "IPY_MODEL_923aac653d364017987e21ca9e6381d6",
       "style": "IPY_MODEL_881c126369d343cca4516c366dc16407"
      }
     },
     "945ac65a4c4b44bdb401738ad044dacd": {
      "model_module": "@jupyter-widgets/controls",
      "model_module_version": "1.5.0",
      "model_name": "ButtonModel",
      "state": {
       "description": " ",
       "layout": "IPY_MODEL_f767926bd9de46348af3c4bec73ab909",
       "style": "IPY_MODEL_fe05ef993b094c108d0ac7e888b2e840"
      }
     },
     "9578acaf059a47fb902515afa87fccc1": {
      "model_module": "@jupyter-widgets/controls",
      "model_module_version": "1.5.0",
      "model_name": "SliderStyleModel",
      "state": {
       "description_width": ""
      }
     },
     "95884834c86f4124901865642df8e7e3": {
      "model_module": "@jupyter-widgets/base",
      "model_module_version": "1.2.0",
      "model_name": "LayoutModel",
      "state": {
       "display": "none"
      }
     },
     "95ef4977abf348fba8a74ad03ea3c250": {
      "model_module": "@jupyter-widgets/controls",
      "model_module_version": "1.5.0",
      "model_name": "ButtonStyleModel",
      "state": {}
     },
     "9683a2bd71be430abddf5604e8a63f7f": {
      "model_module": "@jupyter-widgets/controls",
      "model_module_version": "1.5.0",
      "model_name": "DescriptionStyleModel",
      "state": {
       "description_width": ""
      }
     },
     "969c18dec7054e6da92ce71d83d9523d": {
      "model_module": "@jupyter-widgets/base",
      "model_module_version": "1.2.0",
      "model_name": "LayoutModel",
      "state": {
       "grid_area": "widget013",
       "height": "50px",
       "margin": "0px",
       "max_height": "50px",
       "max_width": "50px",
       "width": "50px"
      }
     },
     "97959420da104556927581fabe05912e": {
      "model_module": "@jupyter-widgets/controls",
      "model_module_version": "1.5.0",
      "model_name": "DescriptionStyleModel",
      "state": {
       "description_width": ""
      }
     },
     "9806687a5d0a48cd802909f5b3ebfb80": {
      "model_module": "@jupyter-widgets/base",
      "model_module_version": "1.2.0",
      "model_name": "LayoutModel",
      "state": {
       "width": "760px"
      }
     },
     "98cd5d07790849449d03020cf01bdaf3": {
      "model_module": "@jupyter-widgets/controls",
      "model_module_version": "1.5.0",
      "model_name": "ButtonStyleModel",
      "state": {}
     },
     "99623a89923742699ade9d80e8689eef": {
      "model_module": "@jupyter-widgets/base",
      "model_module_version": "1.2.0",
      "model_name": "LayoutModel",
      "state": {
       "grid_area": "widget008",
       "height": "50px",
       "margin": "0px",
       "max_height": "50px",
       "max_width": "50px",
       "width": "50px"
      }
     },
     "99f89889c80742aa90eebda8c3166f28": {
      "model_module": "@jupyter-widgets/controls",
      "model_module_version": "1.5.0",
      "model_name": "LabelModel",
      "state": {
       "layout": "IPY_MODEL_5e5d931d03504c3ab86b7c818f24fdd2",
       "style": "IPY_MODEL_feeed2ef8bbb49b7b522db29a6e2c2fb",
       "value": "Time: 00:00:39.30"
      }
     },
     "9b90d03525124fa5826ec581f114ebdb": {
      "model_module": "@jupyter-widgets/controls",
      "model_module_version": "1.5.0",
      "model_name": "DescriptionStyleModel",
      "state": {
       "description_width": ""
      }
     },
     "9bacbdeb37924423b4a6bce6977a297a": {
      "model_module": "@jupyter-widgets/base",
      "model_module_version": "1.2.0",
      "model_name": "LayoutModel",
      "state": {
       "grid_area": "widget012",
       "height": "50px",
       "margin": "0px",
       "max_height": "50px",
       "max_width": "50px",
       "width": "50px"
      }
     },
     "9cd2d4ec229b42cba2a78691695c5862": {
      "model_module": "@jupyter-widgets/controls",
      "model_module_version": "1.5.0",
      "model_name": "ButtonModel",
      "state": {
       "description": "⬇",
       "layout": "IPY_MODEL_de8003715fa54fc9ae39ef02b58342fc",
       "style": "IPY_MODEL_ac8f269eb59a4c338b564a3200bec856"
      }
     },
     "9d0acac1e4784f0ca30482d3f240f459": {
      "model_module": "@jupyter-widgets/controls",
      "model_module_version": "1.5.0",
      "model_name": "ButtonStyleModel",
      "state": {}
     },
     "9d37fd125f7346dd877334228c0c314c": {
      "model_module": "@jupyter-widgets/controls",
      "model_module_version": "1.5.0",
      "model_name": "ButtonStyleModel",
      "state": {}
     },
     "9da7f8ab3aba4e138f1e8c3e8cdc9a5a": {
      "model_module": "@jupyter-widgets/controls",
      "model_module_version": "1.5.0",
      "model_name": "GridBoxModel",
      "state": {
       "children": [
        "IPY_MODEL_23b19e79d51940479c5c1765eb86ad8d",
        "IPY_MODEL_d20392b95f8a4544a1561462824689dd",
        "IPY_MODEL_ee994ab97e244cf4a22ab237aefab7b2",
        "IPY_MODEL_68830904e24244a4ad389ec0b2cce045",
        "IPY_MODEL_27510088d6b04ebe8ad34c72a974e19e",
        "IPY_MODEL_ed2b5b37821d4e76b32c6e756ef57224",
        "IPY_MODEL_8df5403c2e3840c28b4f1deaeef9a7d3",
        "IPY_MODEL_c7d188dc397b45c3b40f78bd000ac0fc",
        "IPY_MODEL_f5b21f04a9424932940fa4ffb88851c5",
        "IPY_MODEL_d3415581800748479186e949f25506de",
        "IPY_MODEL_0869ec8acf554aadb76b11ef3e07b22a",
        "IPY_MODEL_8491f6b3858a4d9b9eadc1fbf46bab86",
        "IPY_MODEL_e2b08d499d4e4307b77529766ff8fc11",
        "IPY_MODEL_901f393b14094ba4b90f41a8acdac50e",
        "IPY_MODEL_cd88dd7a30e144af85009874df5c0070",
        "IPY_MODEL_84052c95e90b48ab8f349e08fd484c43",
        "IPY_MODEL_3e63f2c352634f14b658963a742cee7d",
        "IPY_MODEL_eb39aac501874adb95b0222c4a27386f",
        "IPY_MODEL_2166dfaa7eec4afd91ae1b8ba1dfe781",
        "IPY_MODEL_1d1f77b22b514e60b0902e94a5effff7",
        "IPY_MODEL_74cb920c48fe434cb377dfa2bb31aef0",
        "IPY_MODEL_447e012cfb434297b45308e51e0cef43",
        "IPY_MODEL_9cd2d4ec229b42cba2a78691695c5862",
        "IPY_MODEL_4bea297c3cb84c6290a4e853942be85c",
        "IPY_MODEL_5af0ba6852a249afad7a44272fb7e692"
       ],
       "layout": "IPY_MODEL_d51e3fa2d15543bd91ce9fdadd341aa2"
      }
     },
     "9dee290b814344988043de3f50c52266": {
      "model_module": "@jupyter-widgets/controls",
      "model_module_version": "1.5.0",
      "model_name": "SliderStyleModel",
      "state": {
       "description_width": ""
      }
     },
     "9e6468fe6c80493d961d14de21ada4a0": {
      "model_module": "@jupyter-widgets/base",
      "model_module_version": "1.2.0",
      "model_name": "LayoutModel",
      "state": {
       "grid_area": "widget011",
       "height": "50px",
       "margin": "0px",
       "max_height": "50px",
       "max_width": "50px",
       "width": "50px"
      }
     },
     "9e7affcbec004e50bf536a1466d92360": {
      "model_module": "@jupyter-widgets/controls",
      "model_module_version": "1.5.0",
      "model_name": "ButtonStyleModel",
      "state": {}
     },
     "9ea30d12f9fe443fa83e4e3c6e16943b": {
      "model_module": "@jupyter-widgets/base",
      "model_module_version": "1.2.0",
      "model_name": "LayoutModel",
      "state": {
       "grid_area": "widget019",
       "height": "50px",
       "margin": "0px",
       "max_height": "50px",
       "max_width": "50px",
       "width": "50px"
      }
     },
     "9f8e0782112a4231b933248c6b1160bc": {
      "buffers": [
       {
        "data": "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",
        "encoding": "base64",
        "path": [
         "value"
        ]
       }
      ],
      "model_module": "@jupyter-widgets/controls",
      "model_module_version": "1.5.0",
      "model_name": "ImageModel",
      "state": {
       "layout": "IPY_MODEL_a914c35a4bf947b5843bfc89bc51d4e4"
      }
     },
     "a039c50650504cad94f4859251a14720": {
      "model_module": "@jupyter-widgets/controls",
      "model_module_version": "1.5.0",
      "model_name": "TextModel",
      "state": {
       "description": "Reading:",
       "layout": "IPY_MODEL_a648310b7e6549a4ac5b7800073979fd",
       "style": "IPY_MODEL_48f2af13f4fb45d0843a5c3c104338f5",
       "value": "1.0"
      }
     },
     "a041a778264f47b7b830d532a1ad8eda": {
      "model_module": "@jupyter-widgets/controls",
      "model_module_version": "1.5.0",
      "model_name": "DescriptionStyleModel",
      "state": {
       "description_width": ""
      }
     },
     "a0abac777f084e0d9c9573e573140868": {
      "model_module": "@jupyter-widgets/controls",
      "model_module_version": "1.5.0",
      "model_name": "ButtonStyleModel",
      "state": {}
     },
     "a10554d9abbd4c85a360080439be8b71": {
      "model_module": "@jupyter-widgets/controls",
      "model_module_version": "1.5.0",
      "model_name": "DescriptionStyleModel",
      "state": {
       "description_width": ""
      }
     },
     "a135695a031846ca91e7e137df2f7e90": {
      "model_module": "@jupyter-widgets/base",
      "model_module_version": "1.2.0",
      "model_name": "LayoutModel",
      "state": {}
     },
     "a2074ec2a1de41ceaedc6f66f3f7bdfb": {
      "model_module": "@jupyter-widgets/controls",
      "model_module_version": "1.5.0",
      "model_name": "ButtonStyleModel",
      "state": {}
     },
     "a22470e087aa4b65853e55d51d8debda": {
      "model_module": "@jupyter-widgets/base",
      "model_module_version": "1.2.0",
      "model_name": "LayoutModel",
      "state": {
       "display": "none"
      }
     },
     "a2439d7bf1f840a69b8c73349c37a434": {
      "model_module": "@jupyter-widgets/base",
      "model_module_version": "1.2.0",
      "model_name": "LayoutModel",
      "state": {
       "grid_area": "widget018",
       "height": "50px",
       "margin": "0px",
       "max_height": "50px",
       "max_width": "50px",
       "width": "50px"
      }
     },
     "a2ceedd93ab14f0fad97797cf276ef82": {
      "model_module": "@jupyter-widgets/controls",
      "model_module_version": "1.5.0",
      "model_name": "DescriptionStyleModel",
      "state": {
       "description_width": ""
      }
     },
     "a3468825a76041f88b3ae1d4fd33b0fb": {
      "model_module": "@jupyter-widgets/controls",
      "model_module_version": "1.5.0",
      "model_name": "DescriptionStyleModel",
      "state": {
       "description_width": ""
      }
     },
     "a3dfaa9c4608478891873310537f403d": {
      "model_module": "@jupyter-widgets/base",
      "model_module_version": "1.2.0",
      "model_name": "LayoutModel",
      "state": {
       "grid_area": "widget014",
       "height": "50px",
       "margin": "0px",
       "max_height": "50px",
       "max_width": "50px",
       "width": "50px"
      }
     },
     "a42e148da2f44cc0b73d7f4f529dbb49": {
      "model_module": "@jupyter-widgets/controls",
      "model_module_version": "1.5.0",
      "model_name": "LabelModel",
      "state": {
       "layout": "IPY_MODEL_08fafdb39331472bb3212c8af3d2d379",
       "style": "IPY_MODEL_2408b8d0e5e04921a7525ef81f35f098",
       "value": "Time: 00:01:00.10"
      }
     },
     "a476fee48c264f2eb44ee2b6eb9b4dfa": {
      "model_module": "@jupyter-widgets/base",
      "model_module_version": "1.2.0",
      "model_name": "LayoutModel",
      "state": {}
     },
     "a5159bbc97ef4897824faa98d9c1d947": {
      "model_module": "@jupyter-widgets/controls",
      "model_module_version": "1.5.0",
      "model_name": "DescriptionStyleModel",
      "state": {
       "description_width": ""
      }
     },
     "a61415506d164c0d96cfd99952aa999f": {
      "model_module": "@jupyter-widgets/controls",
      "model_module_version": "1.5.0",
      "model_name": "DescriptionStyleModel",
      "state": {
       "description_width": ""
      }
     },
     "a625ed155e384a088f31ac7531a73a6c": {
      "model_module": "@jupyter-widgets/base",
      "model_module_version": "1.2.0",
      "model_name": "LayoutModel",
      "state": {
       "grid_area": "widget002",
       "height": "50px",
       "margin": "0px",
       "max_height": "50px",
       "max_width": "50px",
       "width": "50px"
      }
     },
     "a648310b7e6549a4ac5b7800073979fd": {
      "model_module": "@jupyter-widgets/base",
      "model_module_version": "1.2.0",
      "model_name": "LayoutModel",
      "state": {
       "display": "flex"
      }
     },
     "a664e2956ec54b5e86a63c3fd8086654": {
      "model_module": "@jupyter-widgets/controls",
      "model_module_version": "1.5.0",
      "model_name": "ButtonModel",
      "state": {
       "description": "⊙",
       "layout": "IPY_MODEL_b9b7834830cf4f92bbdc5c5243a1cd7c",
       "style": "IPY_MODEL_1defa95382a5446cb458e553c8f576d7"
      }
     },
     "a6abdc54385f4884a33b9698e48666e2": {
      "model_module": "@jupyter-widgets/base",
      "model_module_version": "1.2.0",
      "model_name": "LayoutModel",
      "state": {}
     },
     "a725eca105e44790a1c4b6fd5142ae05": {
      "model_module": "@jupyter-widgets/controls",
      "model_module_version": "1.5.0",
      "model_name": "CheckboxModel",
      "state": {
       "description": "Real time",
       "disabled": false,
       "layout": "IPY_MODEL_ace15802c5e342bcbec1ed43ef25bfd1",
       "style": "IPY_MODEL_42d713d2e3124f55aac3c90f11b09b64",
       "value": false
      }
     },
     "a7473cf7a0ce41909bb853b7063e3838": {
      "model_module": "@jupyter-widgets/controls",
      "model_module_version": "1.5.0",
      "model_name": "ButtonModel",
      "state": {
       "description": "－",
       "layout": "IPY_MODEL_b10a242fe98941deae91915633685905",
       "style": "IPY_MODEL_40ee695af3c24043b9d3247db4e2fd02"
      }
     },
     "a8556ed5d98a4dc9b1b29837cc6fab29": {
      "model_module": "@jupyter-widgets/controls",
      "model_module_version": "1.5.0",
      "model_name": "TextModel",
      "state": {
       "description": "Reading:",
       "layout": "IPY_MODEL_6b96140e9ce944e0aaceffacd623c494",
       "style": "IPY_MODEL_3b3753455f36420fab78d2f35e05ebec",
       "value": "0.793796267200402"
      }
     },
     "a8be17d72fd9443b81050689e2b776b7": {
      "model_module": "@jupyter-widgets/base",
      "model_module_version": "1.2.0",
      "model_name": "LayoutModel",
      "state": {
       "grid_area": "widget003",
       "height": "50px",
       "margin": "0px",
       "max_height": "50px",
       "max_width": "50px",
       "width": "50px"
      }
     },
     "a914c35a4bf947b5843bfc89bc51d4e4": {
      "model_module": "@jupyter-widgets/base",
      "model_module_version": "1.2.0",
      "model_name": "LayoutModel",
      "state": {
       "border": "10px solid rgb(0 177 255)",
       "margin": "auto"
      }
     },
     "a9dbedef95d34932825147e454704dbb": {
      "model_module": "@jupyter-widgets/controls",
      "model_module_version": "1.5.0",
      "model_name": "ButtonModel",
      "state": {
       "description": "╲",
       "layout": "IPY_MODEL_e4147dd02cff4e6fa156d6fbe2b9fdfa",
       "style": "IPY_MODEL_d4cc38d7b89f4e8c9486f4a83a3948ec"
      }
     },
     "aa0e9e5dbd9a401188c4dbd9220f9bb8": {
      "model_module": "@jupyter-widgets/controls",
      "model_module_version": "1.5.0",
      "model_name": "ButtonStyleModel",
      "state": {}
     },
     "ab1270147c564b0dabc514ee4cc77f3c": {
      "model_module": "@jupyter-widgets/base",
      "model_module_version": "1.2.0",
      "model_name": "LayoutModel",
      "state": {}
     },
     "ab29509cb3134a8c8cac958e9cc1d726": {
      "model_module": "@jupyter-widgets/base",
      "model_module_version": "1.2.0",
      "model_name": "LayoutModel",
      "state": {
       "grid_area": "widget001",
       "height": "50px",
       "margin": "0px",
       "max_height": "50px",
       "max_width": "50px",
       "width": "50px"
      }
     },
     "ab708ebf74e949eaa2b60b6f51b85889": {
      "model_module": "@jupyter-widgets/controls",
      "model_module_version": "1.5.0",
      "model_name": "ButtonStyleModel",
      "state": {}
     },
     "aba894ef75984a2fa24a211a47f74217": {
      "model_module": "@jupyter-widgets/controls",
      "model_module_version": "1.5.0",
      "model_name": "FloatProgressModel",
      "state": {
       "bar_style": "success",
       "layout": "IPY_MODEL_23cbe41d90bd48108440d6079153fd11",
       "style": "IPY_MODEL_65a1263f927f465fa22ac7c6f3f8b9da",
       "value": 100
      }
     },
     "abc09cc3ad1c4ea5998cda761d1d88e9": {
      "model_module": "@jupyter-widgets/controls",
      "model_module_version": "1.5.0",
      "model_name": "TextModel",
      "state": {
       "description": "Distance:",
       "layout": "IPY_MODEL_063c14a271bf42d98d2d6c0b0a8c4251",
       "style": "IPY_MODEL_7697f20587ae4953b095694255e9041c"
      }
     },
     "abc9aa60db234741a66c9420baec812c": {
      "model_module": "@jupyter-widgets/controls",
      "model_module_version": "1.5.0",
      "model_name": "HTMLModel",
      "state": {
       "layout": "IPY_MODEL_c655a1215341487f8bc072af56acbc14",
       "style": "IPY_MODEL_9683a2bd71be430abddf5604e8a63f7f",
       "value": "<style>img.pixelated {image-rendering: pixelated;}</style>"
      }
     },
     "ac8f269eb59a4c338b564a3200bec856": {
      "model_module": "@jupyter-widgets/controls",
      "model_module_version": "1.5.0",
      "model_name": "ButtonStyleModel",
      "state": {}
     },
     "aca767acbad541c6821b706a47cbb6f7": {
      "model_module": "@jupyter-widgets/controls",
      "model_module_version": "1.5.0",
      "model_name": "ButtonStyleModel",
      "state": {}
     },
     "ace15802c5e342bcbec1ed43ef25bfd1": {
      "model_module": "@jupyter-widgets/base",
      "model_module_version": "1.2.0",
      "model_name": "LayoutModel",
      "state": {}
     },
     "ad53172564ea444baf76f6c3b4cd77f8": {
      "model_module": "@jupyter-widgets/controls",
      "model_module_version": "1.5.0",
      "model_name": "ButtonStyleModel",
      "state": {}
     },
     "ad6611010df44e9c8344efd392b01284": {
      "model_module": "@jupyter-widgets/controls",
      "model_module_version": "1.5.0",
      "model_name": "TextareaModel",
      "state": {
       "description": "State:",
       "layout": "IPY_MODEL_4b3c07a875ff4c7ab34be8e2cec668f7",
       "style": "IPY_MODEL_eca85bc3a81b4d7cb9e90af43b1d2768"
      }
     },
     "ad702a1538884104a0d485a629c2c834": {
      "model_module": "@jupyter-widgets/base",
      "model_module_version": "1.2.0",
      "model_name": "LayoutModel",
      "state": {}
     },
     "ae038d8fd2874a58b154efdeee77f5bb": {
      "model_module": "@jupyter-widgets/base",
      "model_module_version": "1.2.0",
      "model_name": "LayoutModel",
      "state": {}
     },
     "af0d12e3d1354e0e8e09b71d9e56f7bd": {
      "model_module": "@jupyter-widgets/controls",
      "model_module_version": "1.5.0",
      "model_name": "ButtonStyleModel",
      "state": {}
     },
     "af7f8fafe0564451bb10987472f095be": {
      "model_module": "@jupyter-widgets/controls",
      "model_module_version": "1.5.0",
      "model_name": "ButtonStyleModel",
      "state": {}
     },
     "af84dfa0a285417db22e876a708e0e1e": {
      "model_module": "@jupyter-widgets/controls",
      "model_module_version": "1.5.0",
      "model_name": "SliderStyleModel",
      "state": {
       "description_width": ""
      }
     },
     "b011216ea83d47a68af73607ef07c5c0": {
      "model_module": "@jupyter-widgets/controls",
      "model_module_version": "1.5.0",
      "model_name": "ButtonStyleModel",
      "state": {}
     },
     "b02605c144e24b1181ace342ad39a56c": {
      "model_module": "@jupyter-widgets/controls",
      "model_module_version": "1.5.0",
      "model_name": "VBoxModel",
      "state": {
       "children": [
        "IPY_MODEL_d74fac9e076a4b6aa9de4e09faf228c3",
        "IPY_MODEL_639171cc51b1462285b6afe7d7582b68",
        "IPY_MODEL_a8556ed5d98a4dc9b1b29837cc6fab29",
        "IPY_MODEL_131fc5d3ddd84912b2c6efbafc3351c6"
       ],
       "layout": "IPY_MODEL_2f83880ba5dd4eedafe88ec4b6dcf084"
      }
     },
     "b0f39e55db2648da9d5483d41ad5c782": {
      "model_module": "@jupyter-widgets/base",
      "model_module_version": "1.2.0",
      "model_name": "LayoutModel",
      "state": {
       "grid_area": "widget022",
       "height": "50px",
       "margin": "0px",
       "max_height": "50px",
       "max_width": "50px",
       "width": "50px"
      }
     },
     "b10a242fe98941deae91915633685905": {
      "model_module": "@jupyter-widgets/base",
      "model_module_version": "1.2.0",
      "model_name": "LayoutModel",
      "state": {
       "grid_area": "widget014",
       "height": "50px",
       "margin": "0px",
       "max_height": "50px",
       "max_width": "50px",
       "width": "50px"
      }
     },
     "b17a07925a3b47d6b75baecee8632450": {
      "model_module": "@jupyter-widgets/base",
      "model_module_version": "1.2.0",
      "model_name": "LayoutModel",
      "state": {
       "grid_area": "widget014",
       "height": "50px",
       "margin": "0px",
       "max_height": "50px",
       "max_width": "50px",
       "width": "50px"
      }
     },
     "b1d07bc31f5348709aeccc2933d7c69c": {
      "model_module": "@jupyter-widgets/base",
      "model_module_version": "1.2.0",
      "model_name": "LayoutModel",
      "state": {
       "grid_area": "widget009",
       "height": "50px",
       "margin": "0px",
       "max_height": "50px",
       "max_width": "50px",
       "width": "50px"
      }
     },
     "b283f538adcb4b0488f2a47873522049": {
      "model_module": "@jupyter-widgets/controls",
      "model_module_version": "1.5.0",
      "model_name": "DescriptionStyleModel",
      "state": {
       "description_width": ""
      }
     },
     "b2b284961c55415eb51ca645da181507": {
      "model_module": "@jupyter-widgets/base",
      "model_module_version": "1.2.0",
      "model_name": "LayoutModel",
      "state": {
       "grid_area": "widget001",
       "height": "50px",
       "margin": "0px",
       "max_height": "50px",
       "max_width": "50px",
       "width": "50px"
      }
     },
     "b5459bb3af344ab2bbcdcc7ab9c8a4c7": {
      "model_module": "@jupyter-widgets/controls",
      "model_module_version": "1.5.0",
      "model_name": "HTMLModel",
      "state": {
       "layout": "IPY_MODEL_ae038d8fd2874a58b154efdeee77f5bb",
       "style": "IPY_MODEL_a10554d9abbd4c85a360080439be8b71",
       "value": "<style>img.pixelated {image-rendering: pixelated;}</style>"
      }
     },
     "b57ec2f0d7104e4cab2bfcaefdb7e7ae": {
      "model_module": "@jupyter-widgets/controls",
      "model_module_version": "1.5.0",
      "model_name": "ButtonModel",
      "state": {
       "description": "⬊",
       "layout": "IPY_MODEL_fc49f5663ff5450e996531331c5d73c7",
       "style": "IPY_MODEL_9d0acac1e4784f0ca30482d3f240f459"
      }
     },
     "b5c86d0c31dc4e68a3cdb084c24ef19a": {
      "model_module": "@jupyter-widgets/controls",
      "model_module_version": "1.5.0",
      "model_name": "ButtonModel",
      "state": {
       "description": "╱",
       "layout": "IPY_MODEL_cbc2b0ab7b6f48b79ee4dfd743d2fc06",
       "style": "IPY_MODEL_ab708ebf74e949eaa2b60b6f51b85889"
      }
     },
     "b5e617b5edd14d12960460e5a66b4b45": {
      "model_module": "@jupyter-widgets/controls",
      "model_module_version": "1.5.0",
      "model_name": "VBoxModel",
      "state": {
       "children": [
        "IPY_MODEL_fc6beedfb5714271ab51aef829f5e459",
        "IPY_MODEL_05cb7f5bade84c44b5398b4f2600b5f5",
        "IPY_MODEL_2bcb99fbae6d4e6183c0fd8ef33f3b5c",
        "IPY_MODEL_b02605c144e24b1181ace342ad39a56c"
       ],
       "layout": "IPY_MODEL_f4f409bc1d664eae971bc03fb1ec6bd4"
      }
     },
     "b61cdb1481cb4d05a4908b802166ad07": {
      "model_module": "@jupyter-widgets/controls",
      "model_module_version": "1.5.0",
      "model_name": "ButtonStyleModel",
      "state": {}
     },
     "b6cb1e8ff80f4f1e95fef8499c3aaef7": {
      "model_module": "@jupyter-widgets/controls",
      "model_module_version": "1.5.0",
      "model_name": "FloatSliderModel",
      "state": {
       "layout": "IPY_MODEL_f20aa5cd98204790966e3d891d661bf6",
       "max": 10,
       "min": 0.1,
       "step": 0.1,
       "style": "IPY_MODEL_0960ba8e818d4d55b14d07969f5d4d75",
       "value": 0.5
      }
     },
     "b6e7ab20c28c46969a1fe80e6fa7b050": {
      "model_module": "@jupyter-widgets/base",
      "model_module_version": "1.2.0",
      "model_name": "LayoutModel",
      "state": {
       "grid_area": "widget008",
       "height": "50px",
       "margin": "0px",
       "max_height": "50px",
       "max_width": "50px",
       "width": "50px"
      }
     },
     "b807592a0304460baa7824e83f5510d4": {
      "model_module": "@jupyter-widgets/base",
      "model_module_version": "1.2.0",
      "model_name": "LayoutModel",
      "state": {}
     },
     "b94d39ea59024c9ab86eae149909ad51": {
      "model_module": "@jupyter-widgets/base",
      "model_module_version": "1.2.0",
      "model_name": "LayoutModel",
      "state": {
       "grid_area": "widget005",
       "height": "50px",
       "margin": "0px",
       "max_height": "50px",
       "max_width": "50px",
       "width": "50px"
      }
     },
     "b94f0b31db214059b70d7c0dfa2a6582": {
      "model_module": "@jupyter-widgets/controls",
      "model_module_version": "1.5.0",
      "model_name": "DescriptionStyleModel",
      "state": {
       "description_width": ""
      }
     },
     "b9b7834830cf4f92bbdc5c5243a1cd7c": {
      "model_module": "@jupyter-widgets/base",
      "model_module_version": "1.2.0",
      "model_name": "LayoutModel",
      "state": {
       "grid_area": "widget013",
       "height": "50px",
       "margin": "0px",
       "max_height": "50px",
       "max_width": "50px",
       "width": "50px"
      }
     },
     "b9dc0a18307648208f0653208e85038d": {
      "model_module": "@jupyter-widgets/base",
      "model_module_version": "1.2.0",
      "model_name": "LayoutModel",
      "state": {}
     },
     "ba23cbb111734be7bf6e0270035e7532": {
      "model_module": "@jupyter-widgets/base",
      "model_module_version": "1.2.0",
      "model_name": "LayoutModel",
      "state": {
       "grid_area": "widget006",
       "height": "50px",
       "margin": "0px",
       "max_height": "50px",
       "max_width": "50px",
       "width": "50px"
      }
     },
     "ba27b263a7144bc198a0bbfa9e3210b9": {
      "model_module": "@jupyter-widgets/base",
      "model_module_version": "1.2.0",
      "model_name": "LayoutModel",
      "state": {}
     },
     "bc3587ee6af148c98d493c281c88014e": {
      "model_module": "@jupyter-widgets/base",
      "model_module_version": "1.2.0",
      "model_name": "LayoutModel",
      "state": {}
     },
     "bd1c5ac9d50d4ad18cfc97bc52c66879": {
      "model_module": "@jupyter-widgets/controls",
      "model_module_version": "1.5.0",
      "model_name": "DescriptionStyleModel",
      "state": {
       "description_width": ""
      }
     },
     "bdbf41f246304ed98810c83647893224": {
      "model_module": "@jupyter-widgets/base",
      "model_module_version": "1.2.0",
      "model_name": "LayoutModel",
      "state": {}
     },
     "be13b357b96e44eea0615db12f2e7585": {
      "model_module": "@jupyter-widgets/controls",
      "model_module_version": "1.5.0",
      "model_name": "LabelModel",
      "state": {
       "layout": "IPY_MODEL_823cb76f5479461e90a4b1eff644bdf1",
       "style": "IPY_MODEL_0aafad8d8681470aacc6e17b7768c7f1",
       "value": "00:00:10.50"
      }
     },
     "bead19d54cf749beaab5577e20d09025": {
      "model_module": "@jupyter-widgets/base",
      "model_module_version": "1.2.0",
      "model_name": "LayoutModel",
      "state": {
       "grid_area": "widget021",
       "height": "50px",
       "margin": "0px",
       "max_height": "50px",
       "max_width": "50px",
       "width": "50px"
      }
     },
     "bff0fd7119d24e089f5adcc49463f7e4": {
      "model_module": "@jupyter-widgets/controls",
      "model_module_version": "1.5.0",
      "model_name": "ButtonModel",
      "state": {
       "description": "⬇",
       "layout": "IPY_MODEL_4a00551ecd354a1ab8c312c375c8a2ea",
       "style": "IPY_MODEL_15b5469026a64c7f9e1201231a19939e"
      }
     },
     "c25ed4d3e1534efd91fbeff1a842add9": {
      "model_module": "@jupyter-widgets/controls",
      "model_module_version": "1.5.0",
      "model_name": "ButtonStyleModel",
      "state": {}
     },
     "c2915c6b55d44e59b39c045d7e1135bc": {
      "model_module": "@jupyter-widgets/controls",
      "model_module_version": "1.5.0",
      "model_name": "TextModel",
      "state": {
       "description": "Name:",
       "layout": "IPY_MODEL_eaba1de7f090437293bd2aaf453773af",
       "style": "IPY_MODEL_110a1c225bf347bfbe15f83ca36b8d41"
      }
     },
     "c2c09c5782de4b43921b6741468bf0ec": {
      "model_module": "@jupyter-widgets/controls",
      "model_module_version": "1.5.0",
      "model_name": "ButtonStyleModel",
      "state": {}
     },
     "c338bb7a66a645c2af60a650b32d4294": {
      "model_module": "@jupyter-widgets/controls",
      "model_module_version": "1.5.0",
      "model_name": "ButtonModel",
      "state": {
       "description": "➡",
       "layout": "IPY_MODEL_e29f204aba2344f7a27ba2c18629b3f1",
       "style": "IPY_MODEL_f329a91b5faa473e9456a4e8622c36f6"
      }
     },
     "c4450a902e574748b68c5d0c39390769": {
      "model_module": "@jupyter-widgets/controls",
      "model_module_version": "1.5.0",
      "model_name": "ButtonModel",
      "state": {
       "description": " ",
       "layout": "IPY_MODEL_6ff287d0895449d59356bb2a4f91a7ea",
       "style": "IPY_MODEL_a0abac777f084e0d9c9573e573140868"
      }
     },
     "c49b346faedb4b56a88c98395938f782": {
      "model_module": "@jupyter-widgets/controls",
      "model_module_version": "1.5.0",
      "model_name": "ButtonStyleModel",
      "state": {}
     },
     "c4dbeffd00584021b675a8983455c8d9": {
      "model_module": "@jupyter-widgets/base",
      "model_module_version": "1.2.0",
      "model_name": "LayoutModel",
      "state": {}
     },
     "c4ff9a0e217e4699a6a66e5924cb84d3": {
      "model_module": "@jupyter-widgets/controls",
      "model_module_version": "1.5.0",
      "model_name": "HTMLModel",
      "state": {
       "layout": "IPY_MODEL_68ed904c3b8644ae99bca3fa54382f9f",
       "style": "IPY_MODEL_6ed3624f1baa4ea3b900e22bd3abd4b6",
       "value": "<style>img.pixelated {image-rendering: pixelated;}</style>"
      }
     },
     "c56acafab24d46b580597c50e7ba1cf4": {
      "model_module": "@jupyter-widgets/base",
      "model_module_version": "1.2.0",
      "model_name": "LayoutModel",
      "state": {
       "grid_area": "widget017",
       "height": "50px",
       "margin": "0px",
       "max_height": "50px",
       "max_width": "50px",
       "width": "50px"
      }
     },
     "c59170c63bba42e59d5913073e4b6d72": {
      "model_module": "@jupyter-widgets/base",
      "model_module_version": "1.2.0",
      "model_name": "LayoutModel",
      "state": {}
     },
     "c655a1215341487f8bc072af56acbc14": {
      "model_module": "@jupyter-widgets/base",
      "model_module_version": "1.2.0",
      "model_name": "LayoutModel",
      "state": {}
     },
     "c658fb8a4bcf49689a5b172a1b7048cd": {
      "model_module": "@jupyter-widgets/controls",
      "model_module_version": "1.5.0",
      "model_name": "ButtonStyleModel",
      "state": {}
     },
     "c7279e1aa6f54efa9dcfc8fb6e17a80f": {
      "model_module": "@jupyter-widgets/controls",
      "model_module_version": "1.5.0",
      "model_name": "ButtonModel",
      "state": {
       "description": "⬉",
       "layout": "IPY_MODEL_ab29509cb3134a8c8cac958e9cc1d726",
       "style": "IPY_MODEL_187045a99e154a12838539a15366b17c"
      }
     },
     "c7434c468c11496fa04303e44c0ea524": {
      "model_module": "@jupyter-widgets/base",
      "model_module_version": "1.2.0",
      "model_name": "LayoutModel",
      "state": {
       "grid_area": "widget007",
       "height": "50px",
       "margin": "0px",
       "max_height": "50px",
       "max_width": "50px",
       "width": "50px"
      }
     },
     "c752d537c1b84a4ab51d04c1d8d1267c": {
      "model_module": "@jupyter-widgets/controls",
      "model_module_version": "1.5.0",
      "model_name": "VBoxModel",
      "state": {
       "children": [
        "IPY_MODEL_ddfd898676644cd78ed87ead73fa0d51",
        "IPY_MODEL_05cb7f5bade84c44b5398b4f2600b5f5",
        "IPY_MODEL_2bcb99fbae6d4e6183c0fd8ef33f3b5c",
        "IPY_MODEL_b02605c144e24b1181ace342ad39a56c"
       ],
       "layout": "IPY_MODEL_83d53cae6beb46aa8b3337a30aa2fd77"
      }
     },
     "c7d188dc397b45c3b40f78bd000ac0fc": {
      "model_module": "@jupyter-widgets/controls",
      "model_module_version": "1.5.0",
      "model_name": "ButtonModel",
      "state": {
       "description": "｜",
       "layout": "IPY_MODEL_b6e7ab20c28c46969a1fe80e6fa7b050",
       "style": "IPY_MODEL_711a441b4dbc4d32974f8216e285f0e2"
      }
     },
     "c8c4cd369c374ad4ab6987bd194d1b46": {
      "model_module": "@jupyter-widgets/base",
      "model_module_version": "1.2.0",
      "model_name": "LayoutModel",
      "state": {
       "grid_area": "widget016",
       "height": "50px",
       "margin": "0px",
       "max_height": "50px",
       "max_width": "50px",
       "width": "50px"
      }
     },
     "c99d366d54ab45718da819afdc70687f": {
      "model_module": "@jupyter-widgets/base",
      "model_module_version": "1.2.0",
      "model_name": "LayoutModel",
      "state": {}
     },
     "c9f6f032c5c34a909c8ad213a2b4ed81": {
      "model_module": "@jupyter-widgets/base",
      "model_module_version": "1.2.0",
      "model_name": "LayoutModel",
      "state": {
       "display": "none",
       "height": "auto",
       "width": "-webkit-fill-available"
      }
     },
     "ca5e521e58244613b9b7496287a65d57": {
      "model_module": "@jupyter-widgets/controls",
      "model_module_version": "1.5.0",
      "model_name": "ButtonModel",
      "state": {
       "description": "╱",
       "layout": "IPY_MODEL_59e6050d97704d47a7e439c8827179de",
       "style": "IPY_MODEL_e29d301da642401494eb558fe46494a2"
      }
     },
     "cab80d7dcbe743a1b0608e367caa6d20": {
      "model_module": "@jupyter-widgets/controls",
      "model_module_version": "1.5.0",
      "model_name": "ButtonModel",
      "state": {
       "description": "╲",
       "layout": "IPY_MODEL_0ef2c53688de45bf92428345f6b64520",
       "style": "IPY_MODEL_f7fac46492814a00b9236f67056b8116"
      }
     },
     "cbc2b0ab7b6f48b79ee4dfd743d2fc06": {
      "model_module": "@jupyter-widgets/base",
      "model_module_version": "1.2.0",
      "model_name": "LayoutModel",
      "state": {
       "grid_area": "widget009",
       "height": "50px",
       "margin": "0px",
       "max_height": "50px",
       "max_width": "50px",
       "width": "50px"
      }
     },
     "cc15d0e0e6a54ae69396155294471f13": {
      "model_module": "@jupyter-widgets/base",
      "model_module_version": "1.2.0",
      "model_name": "LayoutModel",
      "state": {
       "width": "760px"
      }
     },
     "cc29e0ba235a48899815b0ccd1d1f029": {
      "model_module": "@jupyter-widgets/controls",
      "model_module_version": "1.5.0",
      "model_name": "SliderStyleModel",
      "state": {
       "description_width": ""
      }
     },
     "cc65ce4b2f6e410f8544e91006d9a15e": {
      "model_module": "@jupyter-widgets/controls",
      "model_module_version": "1.5.0",
      "model_name": "ButtonStyleModel",
      "state": {}
     },
     "cce14a7d216e4acc9c392f6939ddbff1": {
      "model_module": "@jupyter-widgets/controls",
      "model_module_version": "1.5.0",
      "model_name": "ButtonStyleModel",
      "state": {}
     },
     "cd88dd7a30e144af85009874df5c0070": {
      "model_module": "@jupyter-widgets/controls",
      "model_module_version": "1.5.0",
      "model_name": "ButtonModel",
      "state": {
       "description": "➡",
       "layout": "IPY_MODEL_54dbc6b20f204bbda9d0dc380ed8f798",
       "style": "IPY_MODEL_af0d12e3d1354e0e8e09b71d9e56f7bd"
      }
     },
     "cda091dcf3bc441abf4b87ef52fd0e02": {
      "model_module": "@jupyter-widgets/controls",
      "model_module_version": "1.5.0",
      "model_name": "ButtonStyleModel",
      "state": {}
     },
     "cea4c6048dd748e2a64c35a51c2012bb": {
      "model_module": "@jupyter-widgets/base",
      "model_module_version": "1.2.0",
      "model_name": "LayoutModel",
      "state": {
       "grid_template_areas": "\"widget001 widget002 widget003 widget004 widget005\"\n\"widget006 widget007 widget008 widget009 widget010\"\n\"widget011 widget012 widget013 widget014 widget015\"\n\"widget016 widget017 widget018 widget019 widget020\"\n\"widget021 widget022 widget023 widget024 widget025\"",
       "grid_template_columns": "repeat(5, 1fr)",
       "grid_template_rows": "repeat(5, 1fr)",
       "height": "250px",
       "width": "250px"
      }
     },
     "ceba8135ab15485999aacfe5ced54eac": {
      "model_module": "@jupyter-widgets/base",
      "model_module_version": "1.2.0",
      "model_name": "LayoutModel",
      "state": {
       "grid_area": "widget004",
       "height": "50px",
       "margin": "0px",
       "max_height": "50px",
       "max_width": "50px",
       "width": "50px"
      }
     },
     "cec4f9cd00c94684934b10f40f853f2d": {
      "model_module": "@jupyter-widgets/base",
      "model_module_version": "1.2.0",
      "model_name": "LayoutModel",
      "state": {
       "grid_area": "widget025",
       "height": "50px",
       "margin": "0px",
       "max_height": "50px",
       "max_width": "50px",
       "width": "50px"
      }
     },
     "cedffd9caa7b41c88d9840c2b43a2060": {
      "model_module": "@jupyter-widgets/controls",
      "model_module_version": "1.5.0",
      "model_name": "ButtonModel",
      "state": {
       "description": "╲",
       "layout": "IPY_MODEL_68d9daba462d459aa76eacb9992322ae",
       "style": "IPY_MODEL_fea49535e8974f14bef4b95ecb126637"
      }
     },
     "cf03af16c6ec481eb838f6f12012092e": {
      "model_module": "@jupyter-widgets/controls",
      "model_module_version": "1.5.0",
      "model_name": "ButtonStyleModel",
      "state": {}
     },
     "d13579d357a54b529ce1a7dfd4f56074": {
      "model_module": "@jupyter-widgets/controls",
      "model_module_version": "1.5.0",
      "model_name": "ButtonModel",
      "state": {
       "description": "－",
       "layout": "IPY_MODEL_5e32ed212389406e8c2177109f74e5c9",
       "style": "IPY_MODEL_53ac58e2b7b24b7cb205772efe4c5bfc"
      }
     },
     "d13d286cb45b4bbc98a8cc9c99728a93": {
      "model_module": "@jupyter-widgets/controls",
      "model_module_version": "1.5.0",
      "model_name": "DescriptionStyleModel",
      "state": {
       "description_width": ""
      }
     },
     "d20392b95f8a4544a1561462824689dd": {
      "model_module": "@jupyter-widgets/controls",
      "model_module_version": "1.5.0",
      "model_name": "ButtonModel",
      "state": {
       "description": " ",
       "layout": "IPY_MODEL_07388459e2e04ca7a44b9100c8bb84cb",
       "style": "IPY_MODEL_321c88f4889e4cbeaa365a879588ce8e"
      }
     },
     "d2b4cb5e8ed44fc993a10d075604858b": {
      "model_module": "@jupyter-widgets/controls",
      "model_module_version": "1.5.0",
      "model_name": "ButtonModel",
      "state": {
       "description": " ",
       "layout": "IPY_MODEL_442799f5b3fd45b8b8f7194201c4e1e2",
       "style": "IPY_MODEL_834bde73cb04449e88db5bc8102743b3"
      }
     },
     "d2bf7a0d5aff4989838ff9e802f377de": {
      "model_module": "@jupyter-widgets/controls",
      "model_module_version": "1.5.0",
      "model_name": "HBoxModel",
      "state": {
       "children": [
        "IPY_MODEL_f46605af0e2e464382a844815ea001e2",
        "IPY_MODEL_5ab0fa1b9ede40ecb862b2f0dcc17999"
       ],
       "layout": "IPY_MODEL_927f6e77f49c4f0cb87e0e5c144bcd49"
      }
     },
     "d2f238455558404f9a847f90cd2db5c4": {
      "model_module": "@jupyter-widgets/base",
      "model_module_version": "1.2.0",
      "model_name": "LayoutModel",
      "state": {
       "grid_area": "widget006",
       "height": "50px",
       "margin": "0px",
       "max_height": "50px",
       "max_width": "50px",
       "width": "50px"
      }
     },
     "d3028678e76c4754859b6d4c9f33ed66": {
      "model_module": "@jupyter-widgets/controls",
      "model_module_version": "1.5.0",
      "model_name": "ButtonStyleModel",
      "state": {}
     },
     "d3039e0eb32648178f0c9f8656491b73": {
      "model_module": "@jupyter-widgets/controls",
      "model_module_version": "1.5.0",
      "model_name": "DescriptionStyleModel",
      "state": {
       "description_width": ""
      }
     },
     "d3415581800748479186e949f25506de": {
      "model_module": "@jupyter-widgets/controls",
      "model_module_version": "1.5.0",
      "model_name": "ButtonModel",
      "state": {
       "description": " ",
       "layout": "IPY_MODEL_0e6341f8dce943dca98e2994e219de91",
       "style": "IPY_MODEL_b61cdb1481cb4d05a4908b802166ad07"
      }
     },
     "d36488ea5d1740b0a58e7fbc0a8d783b": {
      "model_module": "@jupyter-widgets/base",
      "model_module_version": "1.2.0",
      "model_name": "LayoutModel",
      "state": {
       "display": "flex"
      }
     },
     "d3fe7827af894fd3b9822c466bde9ec3": {
      "model_module": "@jupyter-widgets/base",
      "model_module_version": "1.2.0",
      "model_name": "LayoutModel",
      "state": {
       "grid_area": "widget020",
       "height": "50px",
       "margin": "0px",
       "max_height": "50px",
       "max_width": "50px",
       "width": "50px"
      }
     },
     "d4369bdc390f434fb29fd34be8782acf": {
      "model_module": "@jupyter-widgets/controls",
      "model_module_version": "1.5.0",
      "model_name": "ButtonStyleModel",
      "state": {}
     },
     "d439f5037b864878b6bf227f27d7601d": {
      "model_module": "@jupyter-widgets/controls",
      "model_module_version": "1.5.0",
      "model_name": "ButtonModel",
      "state": {
       "description": " ",
       "layout": "IPY_MODEL_f13d7899549d40a1bd4ff04528cc7e22",
       "style": "IPY_MODEL_9e7affcbec004e50bf536a1466d92360"
      }
     },
     "d4cc38d7b89f4e8c9486f4a83a3948ec": {
      "model_module": "@jupyter-widgets/controls",
      "model_module_version": "1.5.0",
      "model_name": "ButtonStyleModel",
      "state": {}
     },
     "d51e3fa2d15543bd91ce9fdadd341aa2": {
      "model_module": "@jupyter-widgets/base",
      "model_module_version": "1.2.0",
      "model_name": "LayoutModel",
      "state": {
       "grid_template_areas": "\"widget001 widget002 widget003 widget004 widget005\"\n\"widget006 widget007 widget008 widget009 widget010\"\n\"widget011 widget012 widget013 widget014 widget015\"\n\"widget016 widget017 widget018 widget019 widget020\"\n\"widget021 widget022 widget023 widget024 widget025\"",
       "grid_template_columns": "repeat(5, 1fr)",
       "grid_template_rows": "repeat(5, 1fr)",
       "height": "250px",
       "width": "250px"
      }
     },
     "d521910e9e734a1b931daf15b802e4b7": {
      "model_module": "@jupyter-widgets/base",
      "model_module_version": "1.2.0",
      "model_name": "LayoutModel",
      "state": {
       "grid_area": "widget003",
       "height": "50px",
       "margin": "0px",
       "max_height": "50px",
       "max_width": "50px",
       "width": "50px"
      }
     },
     "d5fde7b966dd47d4bcc9bef47882cdb1": {
      "model_module": "@jupyter-widgets/base",
      "model_module_version": "1.2.0",
      "model_name": "LayoutModel",
      "state": {
       "grid_area": "widget003",
       "height": "50px",
       "margin": "0px",
       "max_height": "50px",
       "max_width": "50px",
       "width": "50px"
      }
     },
     "d61194a7cde64339afe13aee301ef392": {
      "model_module": "@jupyter-widgets/controls",
      "model_module_version": "1.5.0",
      "model_name": "VBoxModel",
      "state": {
       "children": [
        "IPY_MODEL_57edcb99ded14939812b370ea6abad92",
        "IPY_MODEL_05cb7f5bade84c44b5398b4f2600b5f5",
        "IPY_MODEL_2bcb99fbae6d4e6183c0fd8ef33f3b5c",
        "IPY_MODEL_b02605c144e24b1181ace342ad39a56c"
       ],
       "layout": "IPY_MODEL_3df8fbed0b964dcfb6d093f8d6a1e447"
      }
     },
     "d63992d153264df29c8b3a8ac5976ab8": {
      "model_module": "@jupyter-widgets/controls",
      "model_module_version": "1.5.0",
      "model_name": "ButtonStyleModel",
      "state": {}
     },
     "d6abd86d6de949a59d08c953700c0594": {
      "model_module": "@jupyter-widgets/base",
      "model_module_version": "1.2.0",
      "model_name": "LayoutModel",
      "state": {}
     },
     "d6db0356463f465ab4e25e3a61585aa6": {
      "model_module": "@jupyter-widgets/controls",
      "model_module_version": "1.5.0",
      "model_name": "ButtonStyleModel",
      "state": {}
     },
     "d6f4c854d90b441f945610d598c68e83": {
      "model_module": "@jupyter-widgets/controls",
      "model_module_version": "1.5.0",
      "model_name": "ButtonModel",
      "state": {
       "description": " ",
       "layout": "IPY_MODEL_08ded605d70e48c88baf085ee55fe923",
       "style": "IPY_MODEL_c25ed4d3e1534efd91fbeff1a842add9"
      }
     },
     "d74fac9e076a4b6aa9de4e09faf228c3": {
      "model_module": "@jupyter-widgets/controls",
      "model_module_version": "1.5.0",
      "model_name": "LabelModel",
      "state": {
       "layout": "IPY_MODEL_dfeccc43d6cc4777bd932f5c01136683",
       "style": "IPY_MODEL_38748ddc3dee43e081c66edc5138d065",
       "value": "Right IR"
      }
     },
     "d753ebc093274f33af4b32234cb7326d": {
      "model_module": "@jupyter-widgets/controls",
      "model_module_version": "1.5.0",
      "model_name": "TextModel",
      "state": {
       "description": "Trans vel:",
       "layout": "IPY_MODEL_208d948d472347f999a83bc9e8aa32e7",
       "style": "IPY_MODEL_5bd427831f28488c8708146ea85a4639"
      }
     },
     "d786917db1a44565a0cb8ff401b3b700": {
      "model_module": "@jupyter-widgets/controls",
      "model_module_version": "1.5.0",
      "model_name": "ButtonModel",
      "state": {
       "description": "｜",
       "layout": "IPY_MODEL_99623a89923742699ade9d80e8689eef",
       "style": "IPY_MODEL_a2074ec2a1de41ceaedc6f66f3f7bdfb"
      }
     },
     "d7dd225a95ed4b43ac2ecc71895a1222": {
      "model_module": "@jupyter-widgets/controls",
      "model_module_version": "1.5.0",
      "model_name": "SliderStyleModel",
      "state": {
       "description_width": ""
      }
     },
     "d7f19fcf9b514d7686f2a146e918a377": {
      "model_module": "@jupyter-widgets/base",
      "model_module_version": "1.2.0",
      "model_name": "LayoutModel",
      "state": {}
     },
     "d814567bfd264d579ee91b84df4c5735": {
      "model_module": "@jupyter-widgets/controls",
      "model_module_version": "1.5.0",
      "model_name": "HBoxModel",
      "state": {
       "children": [
        "IPY_MODEL_f46605af0e2e464382a844815ea001e2",
        "IPY_MODEL_5ab0fa1b9ede40ecb862b2f0dcc17999"
       ],
       "layout": "IPY_MODEL_b807592a0304460baa7824e83f5510d4"
      }
     },
     "d8d0b6516e984888bd23d9f23d67562f": {
      "model_module": "@jupyter-widgets/controls",
      "model_module_version": "1.5.0",
      "model_name": "DescriptionStyleModel",
      "state": {
       "description_width": ""
      }
     },
     "d8ed77cf22594c65aed1cba002a30601": {
      "model_module": "@jupyter-widgets/controls",
      "model_module_version": "1.5.0",
      "model_name": "ButtonModel",
      "state": {
       "description": "⊙",
       "layout": "IPY_MODEL_969c18dec7054e6da92ce71d83d9523d",
       "style": "IPY_MODEL_af7f8fafe0564451bb10987472f095be"
      }
     },
     "d918ae64d5aa41878abdbe8c2c339241": {
      "model_module": "@jupyter-widgets/controls",
      "model_module_version": "1.5.0",
      "model_name": "ButtonModel",
      "state": {
       "description": "⬇",
       "layout": "IPY_MODEL_139700e52a614f05b320e508094eb424",
       "style": "IPY_MODEL_01f35a1194244223a70c10a92d4b7900"
      }
     },
     "da1ee0dc0bb847f0b80144720fee5db6": {
      "model_module": "@jupyter-widgets/base",
      "model_module_version": "1.2.0",
      "model_name": "LayoutModel",
      "state": {}
     },
     "db7f6245c8b84ab1955505a46e439802": {
      "model_module": "@jupyter-widgets/base",
      "model_module_version": "1.2.0",
      "model_name": "LayoutModel",
      "state": {
       "display": "none"
      }
     },
     "dbf588dfd09e4bee9df4722c89ca0109": {
      "model_module": "@jupyter-widgets/base",
      "model_module_version": "1.2.0",
      "model_name": "LayoutModel",
      "state": {}
     },
     "dc78a898288d42cd95975fabcf228532": {
      "model_module": "@jupyter-widgets/controls",
      "model_module_version": "1.5.0",
      "model_name": "GridBoxModel",
      "state": {
       "children": [
        "IPY_MODEL_9330baa8a8ec48efbbccf9151d6009ee",
        "IPY_MODEL_42da30b260d744d9bde872e308d0eba5",
        "IPY_MODEL_0ed1d30ccf434463a52b4ceb6652325f",
        "IPY_MODEL_395e3a21385a4dd180cb1b8bb688e438",
        "IPY_MODEL_429ad4eb564540f0930077fc371040e2",
        "IPY_MODEL_d2b4cb5e8ed44fc993a10d075604858b",
        "IPY_MODEL_a9dbedef95d34932825147e454704dbb",
        "IPY_MODEL_6ed5e819e9ca4a03ac58cd29a4f569b7",
        "IPY_MODEL_418cf0fdf6d64776bf2118b953610781",
        "IPY_MODEL_945ac65a4c4b44bdb401738ad044dacd",
        "IPY_MODEL_30a204e0fcca40468c509801f1eb4691",
        "IPY_MODEL_315667f81dba4b6d96fa7e8fd3a5188b",
        "IPY_MODEL_d8ed77cf22594c65aed1cba002a30601",
        "IPY_MODEL_e05cf9fc149e449d919e86bd7bd153b6",
        "IPY_MODEL_4a263143b2b945498e9cb50cfef40853",
        "IPY_MODEL_c4450a902e574748b68c5d0c39390769",
        "IPY_MODEL_36bafdd282424970afc7f30ef85b8523",
        "IPY_MODEL_162c05f985914f02ad93b878a138c833",
        "IPY_MODEL_1e6a38cd93224b0493b7f5a55bccc238",
        "IPY_MODEL_e351b100c4e54303b02002e360dc2b76",
        "IPY_MODEL_18e318e80c0a44388557470b9edab97c",
        "IPY_MODEL_e57c0c4156f243f9a28ce97603c60ef2",
        "IPY_MODEL_bff0fd7119d24e089f5adcc49463f7e4",
        "IPY_MODEL_15162b8807bf466499f240c725a2b29c",
        "IPY_MODEL_9231fa3d384242fcbdf4536bf8a87ded"
       ],
       "layout": "IPY_MODEL_168a799fa7104380b4b96ba345134717"
      }
     },
     "dcdb0ed2536c489d90c91e9617df7e7c": {
      "model_module": "@jupyter-widgets/controls",
      "model_module_version": "1.5.0",
      "model_name": "FloatSliderModel",
      "state": {
       "layout": "IPY_MODEL_c59170c63bba42e59d5913073e4b6d72",
       "max": 10,
       "min": 0.1,
       "step": 0.1,
       "style": "IPY_MODEL_9578acaf059a47fb902515afa87fccc1",
       "value": 0.5
      }
     },
     "dd60e30832b04389b4f0e833f9075aa0": {
      "model_module": "@jupyter-widgets/controls",
      "model_module_version": "1.5.0",
      "model_name": "HBoxModel",
      "state": {
       "children": [
        "IPY_MODEL_12dbae935a724ea9a02654551cd40989",
        "IPY_MODEL_5ab0fa1b9ede40ecb862b2f0dcc17999"
       ],
       "layout": "IPY_MODEL_ab1270147c564b0dabc514ee4cc77f3c"
      }
     },
     "dd617c03bc424ff1a24723e767305686": {
      "model_module": "@jupyter-widgets/controls",
      "model_module_version": "1.5.0",
      "model_name": "TextModel",
      "state": {
       "description": "Stalled:",
       "layout": "IPY_MODEL_d36488ea5d1740b0a58e7fbc0a8d783b",
       "style": "IPY_MODEL_650baa0f99514a17b3d94111081b6fc7",
       "value": "True"
      }
     },
     "ddfd898676644cd78ed87ead73fa0d51": {
      "model_module": "@jupyter-widgets/controls",
      "model_module_version": "1.5.0",
      "model_name": "FloatSliderModel",
      "state": {
       "description": "Seconds:",
       "layout": "IPY_MODEL_da1ee0dc0bb847f0b80144720fee5db6",
       "max": 5,
       "min": 0.1,
       "step": 0.1,
       "style": "IPY_MODEL_2c7ad071ab7e4debaab81f02f7a491e6",
       "value": 0.5
      }
     },
     "de1d0747717048c0a4718dab8b301bd2": {
      "model_module": "@jupyter-widgets/base",
      "model_module_version": "1.2.0",
      "model_name": "LayoutModel",
      "state": {
       "grid_area": "widget012",
       "height": "50px",
       "margin": "0px",
       "max_height": "50px",
       "max_width": "50px",
       "width": "50px"
      }
     },
     "de8003715fa54fc9ae39ef02b58342fc": {
      "model_module": "@jupyter-widgets/base",
      "model_module_version": "1.2.0",
      "model_name": "LayoutModel",
      "state": {
       "grid_area": "widget023",
       "height": "50px",
       "margin": "0px",
       "max_height": "50px",
       "max_width": "50px",
       "width": "50px"
      }
     },
     "dea80bc5dc974d5a8eb68801f324525d": {
      "model_module": "@jupyter-widgets/controls",
      "model_module_version": "1.5.0",
      "model_name": "HBoxModel",
      "state": {
       "children": [
        "IPY_MODEL_dc78a898288d42cd95975fabcf228532",
        "IPY_MODEL_5ab0fa1b9ede40ecb862b2f0dcc17999"
       ],
       "layout": "IPY_MODEL_d7f19fcf9b514d7686f2a146e918a377"
      }
     },
     "dfde806dab9a4ba0917233f8f3f0505b": {
      "model_module": "@jupyter-widgets/controls",
      "model_module_version": "1.5.0",
      "model_name": "ButtonStyleModel",
      "state": {}
     },
     "dfeccc43d6cc4777bd932f5c01136683": {
      "model_module": "@jupyter-widgets/base",
      "model_module_version": "1.2.0",
      "model_name": "LayoutModel",
      "state": {}
     },
     "e05cf9fc149e449d919e86bd7bd153b6": {
      "model_module": "@jupyter-widgets/controls",
      "model_module_version": "1.5.0",
      "model_name": "ButtonModel",
      "state": {
       "description": "－",
       "layout": "IPY_MODEL_b17a07925a3b47d6b75baecee8632450",
       "style": "IPY_MODEL_8d285dd51d994154a778ab2ddb644346"
      }
     },
     "e101117045aa452cab87762462abdef4": {
      "model_module": "@jupyter-widgets/controls",
      "model_module_version": "1.5.0",
      "model_name": "HTMLModel",
      "state": {
       "layout": "IPY_MODEL_156e94d9e3054847850aea8108800705",
       "style": "IPY_MODEL_a041a778264f47b7b830d532a1ad8eda",
       "value": "<style>img.pixelated {image-rendering: pixelated;}</style>"
      }
     },
     "e1f03474594f4a1fa80b398f38659b37": {
      "model_module": "@jupyter-widgets/controls",
      "model_module_version": "1.5.0",
      "model_name": "VBoxModel",
      "state": {
       "children": [
        "IPY_MODEL_f899e4b3702242c48bec86d63bf7a11d",
        "IPY_MODEL_dd60e30832b04389b4f0e833f9075aa0",
        "IPY_MODEL_48b84124aa5f4bcc808b49f1c973dbea"
       ],
       "layout": "IPY_MODEL_024bf4ee119e4ae989112c45f07c5595"
      }
     },
     "e2527dfdd5f44638922fc0ef4f63e24c": {
      "model_module": "@jupyter-widgets/controls",
      "model_module_version": "1.5.0",
      "model_name": "VBoxModel",
      "state": {
       "children": [
        "IPY_MODEL_dcdb0ed2536c489d90c91e9617df7e7c",
        "IPY_MODEL_05cb7f5bade84c44b5398b4f2600b5f5",
        "IPY_MODEL_2bcb99fbae6d4e6183c0fd8ef33f3b5c",
        "IPY_MODEL_b02605c144e24b1181ace342ad39a56c"
       ],
       "layout": "IPY_MODEL_5d8c481146654fdb9ae1e4e0636cf271"
      }
     },
     "e29d301da642401494eb558fe46494a2": {
      "model_module": "@jupyter-widgets/controls",
      "model_module_version": "1.5.0",
      "model_name": "ButtonStyleModel",
      "state": {}
     },
     "e29f204aba2344f7a27ba2c18629b3f1": {
      "model_module": "@jupyter-widgets/base",
      "model_module_version": "1.2.0",
      "model_name": "LayoutModel",
      "state": {
       "grid_area": "widget015",
       "height": "50px",
       "margin": "0px",
       "max_height": "50px",
       "max_width": "50px",
       "width": "50px"
      }
     },
     "e2b08d499d4e4307b77529766ff8fc11": {
      "model_module": "@jupyter-widgets/controls",
      "model_module_version": "1.5.0",
      "model_name": "ButtonModel",
      "state": {
       "description": "⊙",
       "layout": "IPY_MODEL_576da60d3d0b4814a02518d14c184103",
       "style": "IPY_MODEL_0e6c96b102b34635965cb3d1b546ced2"
      }
     },
     "e327363dca224dce952f970134a4424c": {
      "model_module": "@jupyter-widgets/controls",
      "model_module_version": "1.5.0",
      "model_name": "FloatSliderModel",
      "state": {
       "description": "Seconds:",
       "layout": "IPY_MODEL_69e944bd383640ae90cab18527910dc6",
       "max": 10,
       "min": 0.1,
       "step": 0.1,
       "style": "IPY_MODEL_142a208049f84d168ae7210bb3574a5a",
       "value": 4.9
      }
     },
     "e351b100c4e54303b02002e360dc2b76": {
      "model_module": "@jupyter-widgets/controls",
      "model_module_version": "1.5.0",
      "model_name": "ButtonModel",
      "state": {
       "description": " ",
       "layout": "IPY_MODEL_225e22d787f64b0bb64cc8dfb430c6f6",
       "style": "IPY_MODEL_062d79008a074f2a89e40adca686e4aa"
      }
     },
     "e3f5013512f14ee585410602663d4654": {
      "model_module": "@jupyter-widgets/base",
      "model_module_version": "1.2.0",
      "model_name": "LayoutModel",
      "state": {
       "width": "760px"
      }
     },
     "e4147dd02cff4e6fa156d6fbe2b9fdfa": {
      "model_module": "@jupyter-widgets/base",
      "model_module_version": "1.2.0",
      "model_name": "LayoutModel",
      "state": {
       "grid_area": "widget007",
       "height": "50px",
       "margin": "0px",
       "max_height": "50px",
       "max_width": "50px",
       "width": "50px"
      }
     },
     "e41654ba923b4cce85df2d8bf3fae8e7": {
      "model_module": "@jupyter-widgets/controls",
      "model_module_version": "1.5.0",
      "model_name": "TextModel",
      "state": {
       "description": "A:",
       "layout": "IPY_MODEL_95884834c86f4124901865642df8e7e3",
       "style": "IPY_MODEL_d3039e0eb32648178f0c9f8656491b73"
      }
     },
     "e4577ab5f5e54d83bfa63e2d73daf947": {
      "model_module": "@jupyter-widgets/base",
      "model_module_version": "1.2.0",
      "model_name": "LayoutModel",
      "state": {
       "grid_area": "widget016",
       "height": "50px",
       "margin": "0px",
       "max_height": "50px",
       "max_width": "50px",
       "width": "50px"
      }
     },
     "e52ce5c6c03548da9ea72fb6731e3829": {
      "model_module": "@jupyter-widgets/base",
      "model_module_version": "1.2.0",
      "model_name": "LayoutModel",
      "state": {}
     },
     "e57c0c4156f243f9a28ce97603c60ef2": {
      "model_module": "@jupyter-widgets/controls",
      "model_module_version": "1.5.0",
      "model_name": "ButtonModel",
      "state": {
       "description": " ",
       "layout": "IPY_MODEL_b0f39e55db2648da9d5483d41ad5c782",
       "style": "IPY_MODEL_5954440a698b4b359029ab740941ac1f"
      }
     },
     "e725c7791f9249e1b01bf9aec37d21e4": {
      "model_module": "@jupyter-widgets/base",
      "model_module_version": "1.2.0",
      "model_name": "LayoutModel",
      "state": {
       "grid_area": "widget013",
       "height": "50px",
       "margin": "0px",
       "max_height": "50px",
       "max_width": "50px",
       "width": "50px"
      }
     },
     "e89eec6a81044797a186b805660d430e": {
      "model_module": "@jupyter-widgets/base",
      "model_module_version": "1.2.0",
      "model_name": "LayoutModel",
      "state": {}
     },
     "e8cb9118a0344b869ae87252999ccfae": {
      "model_module": "@jupyter-widgets/controls",
      "model_module_version": "1.5.0",
      "model_name": "ButtonStyleModel",
      "state": {}
     },
     "e9ac7687fe2a4518984170b05b6d6e36": {
      "model_module": "@jupyter-widgets/base",
      "model_module_version": "1.2.0",
      "model_name": "LayoutModel",
      "state": {
       "border": "10px solid rgb(0 177 255)"
      }
     },
     "e9ef992ec4fe420ba0fceb6d814234ca": {
      "model_module": "@jupyter-widgets/controls",
      "model_module_version": "1.5.0",
      "model_name": "VBoxModel",
      "state": {
       "children": [
        "IPY_MODEL_2812eb494a5e4b5e8d1af50b6d997e27",
        "IPY_MODEL_1ce538b068e34226bc18a798593e61ae",
        "IPY_MODEL_05cb7f5bade84c44b5398b4f2600b5f5",
        "IPY_MODEL_2bcb99fbae6d4e6183c0fd8ef33f3b5c",
        "IPY_MODEL_b02605c144e24b1181ace342ad39a56c"
       ],
       "layout": "IPY_MODEL_80a79bfb52864c5db96646894fd07df5"
      }
     },
     "ea24172939c84d68b5b1556cb1f30ec0": {
      "model_module": "@jupyter-widgets/controls",
      "model_module_version": "1.5.0",
      "model_name": "HTMLModel",
      "state": {
       "layout": "IPY_MODEL_7811d480b5544094a2ae095cfebd08b7",
       "style": "IPY_MODEL_8f43badcadcf4b93be120db3857c7ca4",
       "value": " 100/100 [00:10&lt;00:00,  9.70it/s]"
      }
     },
     "eaa0ec0c80e745f68539c0a7c810d326": {
      "model_module": "@jupyter-widgets/base",
      "model_module_version": "1.2.0",
      "model_name": "LayoutModel",
      "state": {
       "grid_area": "widget004",
       "height": "50px",
       "margin": "0px",
       "max_height": "50px",
       "max_width": "50px",
       "width": "50px"
      }
     },
     "eaba1de7f090437293bd2aaf453773af": {
      "model_module": "@jupyter-widgets/base",
      "model_module_version": "1.2.0",
      "model_name": "LayoutModel",
      "state": {
       "display": "none"
      }
     },
     "eaf3eb4323d144d78b5b03993ef3f25d": {
      "model_module": "@jupyter-widgets/controls",
      "model_module_version": "1.5.0",
      "model_name": "VBoxModel",
      "state": {
       "children": [
        "IPY_MODEL_8c61fb65fcd24b1e9af2aa19b2f37912",
        "IPY_MODEL_ed2b35748ae542e6b95c1da331e2ec57",
        "IPY_MODEL_0b0bb181d64c44a99e1347ba2d0ce8d8"
       ],
       "layout": "IPY_MODEL_8c30955440984f74aec071e06ae7daa0"
      }
     },
     "eb316b49f6eb4aa1bf006006dd406711": {
      "model_module": "@jupyter-widgets/controls",
      "model_module_version": "1.5.0",
      "model_name": "FloatSliderModel",
      "state": {
       "description": "Seconds:",
       "layout": "IPY_MODEL_b9dc0a18307648208f0653208e85038d",
       "max": 5,
       "min": 0.1,
       "step": 0.1,
       "style": "IPY_MODEL_78f60de9e2af4961a44746f9017fa187",
       "value": 5
      }
     },
     "eb39aac501874adb95b0222c4a27386f": {
      "model_module": "@jupyter-widgets/controls",
      "model_module_version": "1.5.0",
      "model_name": "ButtonModel",
      "state": {
       "description": "｜",
       "layout": "IPY_MODEL_a2439d7bf1f840a69b8c73349c37a434",
       "style": "IPY_MODEL_3a7c8e725c6e437e9898e31e76acefb7"
      }
     },
     "ebfe0f0d83ce443c86b7db616b43474a": {
      "model_module": "@jupyter-widgets/controls",
      "model_module_version": "1.5.0",
      "model_name": "ButtonStyleModel",
      "state": {}
     },
     "eca85bc3a81b4d7cb9e90af43b1d2768": {
      "model_module": "@jupyter-widgets/controls",
      "model_module_version": "1.5.0",
      "model_name": "DescriptionStyleModel",
      "state": {
       "description_width": ""
      }
     },
     "ecb9920c22e540bd9962484b7e2e50a9": {
      "model_module": "@jupyter-widgets/controls",
      "model_module_version": "1.5.0",
      "model_name": "ButtonStyleModel",
      "state": {}
     },
     "ed2b35748ae542e6b95c1da331e2ec57": {
      "model_module": "@jupyter-widgets/controls",
      "model_module_version": "1.5.0",
      "model_name": "HBoxModel",
      "state": {
       "children": [
        "IPY_MODEL_dc78a898288d42cd95975fabcf228532",
        "IPY_MODEL_5ab0fa1b9ede40ecb862b2f0dcc17999"
       ],
       "layout": "IPY_MODEL_fc7388c3fa2b4786a6e0295c7776cbc4"
      }
     },
     "ed2b5b37821d4e76b32c6e756ef57224": {
      "model_module": "@jupyter-widgets/controls",
      "model_module_version": "1.5.0",
      "model_name": "ButtonModel",
      "state": {
       "description": " ",
       "layout": "IPY_MODEL_8651b45095214f0399c9dd5176839098",
       "style": "IPY_MODEL_7c8fcf93d59f4ab9872f05a79bdf0921"
      }
     },
     "ede67edd47594ca8abb160df9e401ef9": {
      "model_module": "@jupyter-widgets/controls",
      "model_module_version": "1.5.0",
      "model_name": "ButtonStyleModel",
      "state": {}
     },
     "ee435a593282420e9dbcd2587ef5e854": {
      "model_module": "@jupyter-widgets/controls",
      "model_module_version": "1.5.0",
      "model_name": "ButtonModel",
      "state": {
       "description": " ",
       "layout": "IPY_MODEL_ceba8135ab15485999aacfe5ced54eac",
       "style": "IPY_MODEL_1f2de096076341f9bce860b30bf07077"
      }
     },
     "ee994ab97e244cf4a22ab237aefab7b2": {
      "model_module": "@jupyter-widgets/controls",
      "model_module_version": "1.5.0",
      "model_name": "ButtonModel",
      "state": {
       "description": "⬆",
       "layout": "IPY_MODEL_087b1a3bed674160aae95508e1950819",
       "style": "IPY_MODEL_555fbb98e11d4b4faf58c003090c69d9"
      }
     },
     "eeea462383714f899bce136fb4667c21": {
      "model_module": "@jupyter-widgets/base",
      "model_module_version": "1.2.0",
      "model_name": "LayoutModel",
      "state": {
       "border": "10px solid rgb(0 177 255)"
      }
     },
     "ef00d3495ad84bd5bc83b2503a02b3d2": {
      "model_module": "@jupyter-widgets/controls",
      "model_module_version": "1.5.0",
      "model_name": "ButtonModel",
      "state": {
       "description": "⬋",
       "layout": "IPY_MODEL_3581172e33d14b51915c01ef3671213c",
       "style": "IPY_MODEL_cc65ce4b2f6e410f8544e91006d9a15e"
      }
     },
     "ef53c08ac29c42aab141edcf2939975f": {
      "model_module": "@jupyter-widgets/controls",
      "model_module_version": "1.5.0",
      "model_name": "CheckboxModel",
      "state": {
       "description": "Real time",
       "disabled": false,
       "layout": "IPY_MODEL_16c70eaa4c664f73a29d6e3e041465fa",
       "style": "IPY_MODEL_192d8f4152bc403f984a24c59c586eb4",
       "value": true
      }
     },
     "f014418446fd4306ac4e3fbd8666e1db": {
      "model_module": "@jupyter-widgets/controls",
      "model_module_version": "1.5.0",
      "model_name": "ButtonModel",
      "state": {
       "description": " ",
       "layout": "IPY_MODEL_c8c4cd369c374ad4ab6987bd194d1b46",
       "style": "IPY_MODEL_dfde806dab9a4ba0917233f8f3f0505b"
      }
     },
     "f02180f676054602ac3452f4e9408848": {
      "model_module": "@jupyter-widgets/controls",
      "model_module_version": "1.5.0",
      "model_name": "ButtonStyleModel",
      "state": {}
     },
     "f033654d13194054a97e8c24d76fd3c9": {
      "model_module": "@jupyter-widgets/controls",
      "model_module_version": "1.5.0",
      "model_name": "DescriptionStyleModel",
      "state": {
       "description_width": ""
      }
     },
     "f13d7899549d40a1bd4ff04528cc7e22": {
      "model_module": "@jupyter-widgets/base",
      "model_module_version": "1.2.0",
      "model_name": "LayoutModel",
      "state": {
       "grid_area": "widget020",
       "height": "50px",
       "margin": "0px",
       "max_height": "50px",
       "max_width": "50px",
       "width": "50px"
      }
     },
     "f16fd79811a943b5bdf57c18ad3c54ff": {
      "model_module": "@jupyter-widgets/base",
      "model_module_version": "1.2.0",
      "model_name": "LayoutModel",
      "state": {
       "grid_area": "widget024",
       "height": "50px",
       "margin": "0px",
       "max_height": "50px",
       "max_width": "50px",
       "width": "50px"
      }
     },
     "f1b9c0f91fe24b5f9d226b6885000301": {
      "model_module": "@jupyter-widgets/controls",
      "model_module_version": "1.5.0",
      "model_name": "ButtonModel",
      "state": {
       "description": "╱",
       "layout": "IPY_MODEL_25822ba4fe2b4191a3d7198eff817e5c",
       "style": "IPY_MODEL_5ef6297045364eb5875cb92e5997278a"
      }
     },
     "f1cda5d794c749bda0b2d0af087bf85e": {
      "model_module": "@jupyter-widgets/controls",
      "model_module_version": "1.5.0",
      "model_name": "TextModel",
      "state": {
       "description": "Rotate vel:",
       "layout": "IPY_MODEL_0e9976c3702d4f08bfbcd78c52e0ed99",
       "style": "IPY_MODEL_45493bd395ba4c1483da80e97db40896"
      }
     },
     "f20aa5cd98204790966e3d891d661bf6": {
      "model_module": "@jupyter-widgets/base",
      "model_module_version": "1.2.0",
      "model_name": "LayoutModel",
      "state": {}
     },
     "f26c58b023ad422e9b11b948a7d3da79": {
      "model_module": "@jupyter-widgets/controls",
      "model_module_version": "1.5.0",
      "model_name": "HTMLModel",
      "state": {
       "layout": "IPY_MODEL_55bbfbd319da4294bfdcfcb92e6308ae",
       "style": "IPY_MODEL_079e2cebc6ec44318e90e113555951c6",
       "value": "<style>img.pixelated {image-rendering: pixelated;}</style>"
      }
     },
     "f26f78053726467d8f9e285d51cd75cc": {
      "model_module": "@jupyter-widgets/controls",
      "model_module_version": "1.5.0",
      "model_name": "ButtonStyleModel",
      "state": {}
     },
     "f329a91b5faa473e9456a4e8622c36f6": {
      "model_module": "@jupyter-widgets/controls",
      "model_module_version": "1.5.0",
      "model_name": "ButtonStyleModel",
      "state": {}
     },
     "f3a7b349aea44d439cb105d309cfca22": {
      "model_module": "@jupyter-widgets/controls",
      "model_module_version": "1.5.0",
      "model_name": "ButtonStyleModel",
      "state": {}
     },
     "f3a88fa0857c4d14b1ee049c66c3df25": {
      "model_module": "@jupyter-widgets/base",
      "model_module_version": "1.2.0",
      "model_name": "LayoutModel",
      "state": {
       "display": "none"
      }
     },
     "f3dc37f1706648e0abd7e6a3be6143de": {
      "model_module": "@jupyter-widgets/controls",
      "model_module_version": "1.5.0",
      "model_name": "ButtonStyleModel",
      "state": {}
     },
     "f4383067871448e5a330963c80c89745": {
      "model_module": "@jupyter-widgets/controls",
      "model_module_version": "1.5.0",
      "model_name": "HBoxModel",
      "state": {
       "children": [
        "IPY_MODEL_416e53c61bff4276b5a5ca94b2a778ad",
        "IPY_MODEL_aba894ef75984a2fa24a211a47f74217",
        "IPY_MODEL_ea24172939c84d68b5b1556cb1f30ec0"
       ],
       "layout": "IPY_MODEL_5a9b62d53e5842bb8862ae2c27baddd1"
      }
     },
     "f46605af0e2e464382a844815ea001e2": {
      "model_module": "@jupyter-widgets/controls",
      "model_module_version": "1.5.0",
      "model_name": "GridBoxModel",
      "state": {
       "children": [
        "IPY_MODEL_0b9929c9d4b14664818763f0b8d11ee8",
        "IPY_MODEL_21f5301765134a95a298822c6fa0091e",
        "IPY_MODEL_75df3d7778374ecf86afc32a36f64093",
        "IPY_MODEL_d6f4c854d90b441f945610d598c68e83",
        "IPY_MODEL_2b3abe66868841c3b1f44ae21f1c1781",
        "IPY_MODEL_0c1e3dec28cb4daa9b6232d1573df163",
        "IPY_MODEL_41ba7a726d42464e8dd7663422bd2eb3",
        "IPY_MODEL_2eb2cbd43b73498aa6acd1e4645ea34b",
        "IPY_MODEL_b5c86d0c31dc4e68a3cdb084c24ef19a",
        "IPY_MODEL_fb3b229764a64d03b1bcc5fb3cec1c5e",
        "IPY_MODEL_41d2344a9b314f9d8cf51aeaf990ea24",
        "IPY_MODEL_d13579d357a54b529ce1a7dfd4f56074",
        "IPY_MODEL_8004c92b416e4ca098b6ff60abd48116",
        "IPY_MODEL_a7473cf7a0ce41909bb853b7063e3838",
        "IPY_MODEL_c338bb7a66a645c2af60a650b32d4294",
        "IPY_MODEL_18e424b7e0e04da8814df5e2d1bd1eb0",
        "IPY_MODEL_1b60f7f11caa4fe4874279a51c145dda",
        "IPY_MODEL_47e8884b68ba48ada010bacc7a5aadb5",
        "IPY_MODEL_cedffd9caa7b41c88d9840c2b43a2060",
        "IPY_MODEL_d439f5037b864878b6bf227f27d7601d",
        "IPY_MODEL_ef00d3495ad84bd5bc83b2503a02b3d2",
        "IPY_MODEL_6afec0d208b1422594245d429fc0ddc2",
        "IPY_MODEL_52d8c739fdf9412ab409838be7e73813",
        "IPY_MODEL_1cd7a3b007aa4058a949ee52f6d493bf",
        "IPY_MODEL_86023bbfbfb64dea818dc44265acdbc9"
       ],
       "layout": "IPY_MODEL_cea4c6048dd748e2a64c35a51c2012bb"
      }
     },
     "f4f409bc1d664eae971bc03fb1ec6bd4": {
      "model_module": "@jupyter-widgets/base",
      "model_module_version": "1.2.0",
      "model_name": "LayoutModel",
      "state": {}
     },
     "f5b21f04a9424932940fa4ffb88851c5": {
      "model_module": "@jupyter-widgets/controls",
      "model_module_version": "1.5.0",
      "model_name": "ButtonModel",
      "state": {
       "description": "╱",
       "layout": "IPY_MODEL_b1d07bc31f5348709aeccc2933d7c69c",
       "style": "IPY_MODEL_ecb9920c22e540bd9962484b7e2e50a9"
      }
     },
     "f6601e679fc84c3babe21482c7e60923": {
      "model_module": "@jupyter-widgets/base",
      "model_module_version": "1.2.0",
      "model_name": "LayoutModel",
      "state": {
       "grid_area": "widget002",
       "height": "50px",
       "margin": "0px",
       "max_height": "50px",
       "max_width": "50px",
       "width": "50px"
      }
     },
     "f72034774518475bbcbe211ffeab8449": {
      "model_module": "@jupyter-widgets/controls",
      "model_module_version": "1.5.0",
      "model_name": "ButtonModel",
      "state": {
       "description": "⬋",
       "layout": "IPY_MODEL_60ecf62a73804694a64e14e6d7d29917",
       "style": "IPY_MODEL_75b3409abec14165b2157803d30f9dd3"
      }
     },
     "f767926bd9de46348af3c4bec73ab909": {
      "model_module": "@jupyter-widgets/base",
      "model_module_version": "1.2.0",
      "model_name": "LayoutModel",
      "state": {
       "grid_area": "widget010",
       "height": "50px",
       "margin": "0px",
       "max_height": "50px",
       "max_width": "50px",
       "width": "50px"
      }
     },
     "f77b34b5d842482aa9a413536f588d30": {
      "model_module": "@jupyter-widgets/base",
      "model_module_version": "1.2.0",
      "model_name": "LayoutModel",
      "state": {}
     },
     "f7fac46492814a00b9236f67056b8116": {
      "model_module": "@jupyter-widgets/controls",
      "model_module_version": "1.5.0",
      "model_name": "ButtonStyleModel",
      "state": {}
     },
     "f85929413e224d50bb044695b790079d": {
      "model_module": "@jupyter-widgets/base",
      "model_module_version": "1.2.0",
      "model_name": "LayoutModel",
      "state": {
       "grid_area": "widget018",
       "height": "50px",
       "margin": "0px",
       "max_height": "50px",
       "max_width": "50px",
       "width": "50px"
      }
     },
     "f899e4b3702242c48bec86d63bf7a11d": {
      "model_module": "@jupyter-widgets/controls",
      "model_module_version": "1.5.0",
      "model_name": "LabelModel",
      "state": {
       "layout": "IPY_MODEL_0fe200f9dde84377811b74d5d2efd059",
       "style": "IPY_MODEL_9b90d03525124fa5826ec581f114ebdb",
       "value": "Time: 00:00:00.00"
      }
     },
     "fb3b229764a64d03b1bcc5fb3cec1c5e": {
      "model_module": "@jupyter-widgets/controls",
      "model_module_version": "1.5.0",
      "model_name": "ButtonModel",
      "state": {
       "description": " ",
       "layout": "IPY_MODEL_4c9bc551f016422b8cc83ec4ac5b9a1a",
       "style": "IPY_MODEL_3e0872f7b23f4bd9904f913a0602e639"
      }
     },
     "fc49f5663ff5450e996531331c5d73c7": {
      "model_module": "@jupyter-widgets/base",
      "model_module_version": "1.2.0",
      "model_name": "LayoutModel",
      "state": {
       "grid_area": "widget025",
       "height": "50px",
       "margin": "0px",
       "max_height": "50px",
       "max_width": "50px",
       "width": "50px"
      }
     },
     "fc6beedfb5714271ab51aef829f5e459": {
      "model_module": "@jupyter-widgets/controls",
      "model_module_version": "1.5.0",
      "model_name": "FloatSliderModel",
      "state": {
       "description": "Seconds for each step:",
       "layout": "IPY_MODEL_f77b34b5d842482aa9a413536f588d30",
       "max": 10,
       "min": 0.1,
       "step": 0.1,
       "style": "IPY_MODEL_2a78211a6dfb466495fe4cd3c5bbb3b1",
       "value": 0.5
      }
     },
     "fc7388c3fa2b4786a6e0295c7776cbc4": {
      "model_module": "@jupyter-widgets/base",
      "model_module_version": "1.2.0",
      "model_name": "LayoutModel",
      "state": {}
     },
     "fe05ef993b094c108d0ac7e888b2e840": {
      "model_module": "@jupyter-widgets/controls",
      "model_module_version": "1.5.0",
      "model_name": "ButtonStyleModel",
      "state": {}
     },
     "fea49535e8974f14bef4b95ecb126637": {
      "model_module": "@jupyter-widgets/controls",
      "model_module_version": "1.5.0",
      "model_name": "ButtonStyleModel",
      "state": {}
     },
     "fec9a2173ffe43f1be1639a074f55ab1": {
      "model_module": "@jupyter-widgets/controls",
      "model_module_version": "1.5.0",
      "model_name": "HTMLModel",
      "state": {
       "layout": "IPY_MODEL_38c67815102a40f2807cb0efec69e8ef",
       "style": "IPY_MODEL_d8d0b6516e984888bd23d9f23d67562f",
       "value": "<style>img.pixelated {image-rendering: pixelated;}</style>"
      }
     },
     "feeed2ef8bbb49b7b522db29a6e2c2fb": {
      "model_module": "@jupyter-widgets/controls",
      "model_module_version": "1.5.0",
      "model_name": "DescriptionStyleModel",
      "state": {
       "description_width": ""
      }
     },
     "fff55c3c8d0c496394c8f30329ea7210": {
      "model_module": "@jupyter-widgets/base",
      "model_module_version": "1.2.0",
      "model_name": "LayoutModel",
      "state": {
       "grid_area": "widget009",
       "height": "50px",
       "margin": "0px",
       "max_height": "50px",
       "max_width": "50px",
       "width": "50px"
      }
     },
     "fffe639fbabe4c11b8fda2e048deea2e": {
      "model_module": "@jupyter-widgets/controls",
      "model_module_version": "1.5.0",
      "model_name": "DescriptionStyleModel",
      "state": {
       "description_width": ""
      }
     }
    },
    "version_major": 2,
    "version_minor": 0
   }
  }
 },
 "nbformat": 4,
 "nbformat_minor": 4
}
