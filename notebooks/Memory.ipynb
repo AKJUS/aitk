{
 "cells": [
  {
   "cell_type": "code",
   "execution_count": 1,
   "metadata": {},
   "outputs": [],
   "source": [
    "from aitk.robots import World, Scribbler\n",
    "from aitk.robots.utils import distance\n",
    "from aitk.networks import Network\n",
    "from aitk.algorithms import GeneticAlgorithm\n",
    "from aitk.utils import Color\n",
    "\n",
    "import numpy as np\n",
    "import random\n",
    "from tensorflow.keras.layers import Input, Dense"
   ]
  },
  {
   "cell_type": "code",
   "execution_count": 2,
   "metadata": {
    "tags": []
   },
   "outputs": [
    {
     "name": "stdout",
     "output_type": "stream",
     "text": [
      "Random seed set to: 3591189\n"
     ]
    },
    {
     "data": {
      "application/vnd.jupyter.widget-view+json": {
       "model_id": "94967f85a271431d99a04d4915686b4e",
       "version_major": 2,
       "version_minor": 0
      },
      "text/plain": [
       "Image(value=b'\\xff\\xd8\\xff\\xe0\\x00\\x10JFIF\\x00\\x01\\x01\\x00\\x00\\x01\\x00\\x01\\x00\\x00\\xff\\xdb\\x00C\\x00\\x08\\x06\\x0…"
      ]
     },
     "metadata": {},
     "output_type": "display_data"
    }
   ],
   "source": [
    "world = World(100, 100)\n",
    "world.add_wall(\"blue\", 0, 30, 65, 35)\n",
    "world.add_wall(\"blue\", 0, 70, 65, 65)\n",
    "world.add_wall(\"blue\", 65, 35, 70, 0)\n",
    "world.add_wall(\"blue\", 65, 65, 70, 100)\n",
    "robot = Scribbler(10, 50, 0)\n",
    "robot.add_device_ring(\"RangeSensor\", 0, -180, 180, 16, \n",
    "                      width=0, max=100)\n",
    "world.add_robot(robot)\n",
    "world.add_bulb(\"yellow\", 85, 50, 0, 20)\n",
    "world.watch()"
   ]
  },
  {
   "cell_type": "code",
   "execution_count": 3,
   "metadata": {},
   "outputs": [],
   "source": [
    "def get_sensor_array(robot):\n",
    "    return [x.get_reading() for x in robot if x.type == \"laser\"]"
   ]
  },
  {
   "cell_type": "code",
   "execution_count": 17,
   "metadata": {},
   "outputs": [
    {
     "name": "stdout",
     "output_type": "stream",
     "text": [
      "[0.19306966449366622, 0.20226044250321185, 0.20799078716367408, 0.15145643723984623, 0.1352807956859265, 0.14172062539902386, 0.17711632458393345, 0.2961800554299056, 0.8101388911068693, 0.8487042800538572, 0.2547315144994178, 0.1854924834167377, 0.16568177099423412, 0.17356879136809686, 0.21691878865928726, 0.21615517099109713]\n"
     ]
    }
   ],
   "source": [
    "print(get_sensor_array(robot))"
   ]
  },
  {
   "cell_type": "code",
   "execution_count": 4,
   "metadata": {},
   "outputs": [
    {
     "data": {
      "text/plain": [
       "16"
      ]
     },
     "execution_count": 4,
     "metadata": {},
     "output_type": "execute_result"
    }
   ],
   "source": [
    "sensor_array = get_sensor_array(robot)\n",
    "len(sensor_array)"
   ]
  },
  {
   "cell_type": "code",
   "execution_count": 5,
   "metadata": {},
   "outputs": [],
   "source": [
    "def create_model(robot):\n",
    "    sensor_array = get_sensor_array(robot)\n",
    "    network = Network(layers=[\n",
    "        Input(1, name=\"signal\"),\n",
    "        Input(len(sensor_array), name=\"sensors\"),\n",
    "        Dense(10, name=\"hidden\", activation=\"sigmoid\"),\n",
    "        Dense(2, name=\"output\", activation=\"sigmoid\"),\n",
    "    ])\n",
    "    network.connect(\"signal\", \"hidden\")\n",
    "    network.connect(\"sensors\", \"hidden\")\n",
    "    network.connect(\"hidden\", \"output\")\n",
    "    network.compile()\n",
    "    return network"
   ]
  },
  {
   "cell_type": "code",
   "execution_count": 6,
   "metadata": {},
   "outputs": [
    {
     "name": "stdout",
     "output_type": "stream",
     "text": [
      "Connect layers with Network.connect(NAME, NAME) where NAMEs are in:\n",
      "     ['signal', 'sensors', 'hidden', 'output']\n"
     ]
    }
   ],
   "source": [
    "network = create_model(robot)"
   ]
  },
  {
   "cell_type": "code",
   "execution_count": 7,
   "metadata": {},
   "outputs": [
    {
     "data": {
      "text/plain": [
       "array([-0.04840964,  0.51975214], dtype=float32)"
      ]
     },
     "execution_count": 7,
     "metadata": {},
     "output_type": "execute_result"
    }
   ],
   "source": [
    "network.propagate(\n",
    "        [[1],  get_sensor_array(robot)],\n",
    ") * 2 - 1"
   ]
  },
  {
   "cell_type": "code",
   "execution_count": 8,
   "metadata": {},
   "outputs": [
    {
     "data": {
      "application/vnd.jupyter.widget-view+json": {
       "model_id": "",
       "version_major": 2,
       "version_minor": 0
      },
      "text/plain": [
       "HTML(value='<div style=\"outline: 5px solid #1976D2FF; width: 400px; height: 209px;\"><svg id=\\'keras-network\\' …"
      ]
     },
     "metadata": {},
     "output_type": "display_data"
    }
   ],
   "source": [
    "network.watch()"
   ]
  },
  {
   "cell_type": "code",
   "execution_count": 9,
   "metadata": {},
   "outputs": [
    {
     "name": "stdout",
     "output_type": "stream",
     "text": [
      "Model: \"Network\"\n",
      "__________________________________________________________________________________________________\n",
      "Layer (type)                    Output Shape         Param #     Connected to                     \n",
      "==================================================================================================\n",
      "signal (InputLayer)             [(None, 1)]          0                                            \n",
      "__________________________________________________________________________________________________\n",
      "sensors (InputLayer)            [(None, 16)]         0                                            \n",
      "__________________________________________________________________________________________________\n",
      "concatenate (Concatenate)       (None, 17)           0           signal[0][0]                     \n",
      "                                                                 sensors[0][0]                    \n",
      "__________________________________________________________________________________________________\n",
      "hidden (Dense)                  (None, 10)           180         concatenate[0][0]                \n",
      "__________________________________________________________________________________________________\n",
      "output (Dense)                  (None, 2)            22          hidden[0][0]                     \n",
      "==================================================================================================\n",
      "Total params: 202\n",
      "Trainable params: 202\n",
      "Non-trainable params: 0\n",
      "__________________________________________________________________________________________________\n"
     ]
    }
   ],
   "source": [
    "network.model.summary()"
   ]
  },
  {
   "cell_type": "code",
   "execution_count": 10,
   "metadata": {},
   "outputs": [
    {
     "data": {
      "text/plain": [
       "202"
      ]
     },
     "execution_count": 10,
     "metadata": {},
     "output_type": "execute_result"
    }
   ],
   "source": [
    "len(network.get_weights(flat=True))"
   ]
  },
  {
   "cell_type": "code",
   "execution_count": 11,
   "metadata": {},
   "outputs": [],
   "source": [
    "class GA(GeneticAlgorithm):\n",
    "    def __init__(self, world, network, popSize, **kwargs):\n",
    "        self.world = world\n",
    "        self.network = network\n",
    "        self.length = len(self.network.get_weights(flat=True))\n",
    "        self.black = Color(\"black\")\n",
    "        self.white = Color(\"white\")\n",
    "        super().__init__(self.length, popSize, **kwargs)\n",
    "\n",
    "    def controller(self, robot):\n",
    "        if robot.stalled:\n",
    "            return True\n",
    "        signal = np.array([robot.state[\"signal\"]])\n",
    "        sensors = get_sensor_array(robot)\n",
    "        output = self.network.propagate(\n",
    "            [signal, sensors],\n",
    "            show=robot.state[\"show\"]) * 2 - 1\n",
    "        robot.move(*output)\n",
    "        if robot.state[\"count\"] >= 10:\n",
    "            robot.state[\"signal\"] = 0.0\n",
    "            robot.world.bulbs[0].off()\n",
    "        elif robot.state[\"count\"] == 0:\n",
    "            robot.world.bulbs[0].on()\n",
    "            if robot.state[\"signal\"] == 1:\n",
    "                robot.world.bulbs[0].set_color(\"yellow\")\n",
    "            else: \n",
    "                robot.world.bulbs[0].set_color(\"orange\")\n",
    "        robot.state[\"count\"] += 1\n",
    "        \n",
    "    def is_done(self):\n",
    "        return self.bestEverScore > 495\n",
    "        \n",
    "    def make_random_gene(self):\n",
    "        return 1 - random.random() * 2\n",
    "    \n",
    "    def mutate_gene(self, gene):\n",
    "        return gene + 0.05 - random.random() * 0.10\n",
    "\n",
    "    def fitness(self, chromosome, seconds=8.0, real_time=False):\n",
    "        robot = world.robots[0]\n",
    "        robot.state[\"show\"] = real_time\n",
    "        self.network.set_weights(chromosome)\n",
    "        total = 0\n",
    "        for signal, target in [(1, (85, 10)), \n",
    "                                (-1, (85, 90))]:\n",
    "            robot.state[\"signal\"] = signal\n",
    "            robot.state[\"count\"] = 0\n",
    "            robot.set_pose(10, 50, 0)\n",
    "            robot.world.canvas.clear()\n",
    "            for color, radius in [(self.black, 6), (self.white, 4), (self.black, 2)]:\n",
    "                robot.world.canvas.set_stroke_style(color, 1)\n",
    "                robot.world.canvas.set_fill_style(color)\n",
    "                robot.world.canvas.draw_circle(\n",
    "                    target[0], target[1], radius)\n",
    "            self.world.seconds(\n",
    "                seconds, \n",
    "                [self.controller], \n",
    "                real_time=real_time,\n",
    "                show=True,\n",
    "                show_progress=real_time, \n",
    "                interrupt=True,\n",
    "                quiet=True)\n",
    "            total += distance(robot.x, robot.y, \n",
    "                              target[0], target[1])\n",
    "        return 500 - total\n"
   ]
  },
  {
   "cell_type": "code",
   "execution_count": 12,
   "metadata": {},
   "outputs": [
    {
     "name": "stdout",
     "output_type": "stream",
     "text": [
      "Genetic algorithm\n",
      "  Chromosome length: 202\n",
      "  Population size: 50\n"
     ]
    }
   ],
   "source": [
    "ga = GA(world, network, 50)"
   ]
  },
  {
   "cell_type": "code",
   "execution_count": 13,
   "metadata": {
    "collapsed": true,
    "jupyter": {
     "outputs_hidden": true
    },
    "tags": []
   },
   "outputs": [
    {
     "data": {
      "application/vnd.jupyter.widget-view+json": {
       "model_id": "ad0ab1e46df84388954f1477fea437a2",
       "version_major": 2,
       "version_minor": 0
      },
      "text/plain": [
       "HTML(value='<?xml version=\"1.0\" encoding=\"utf-8\" standalone=\"no\"?>\\n<!DOCTYPE svg PUBLIC \"-//W3C//DTD SVG 1.1/…"
      ]
     },
     "metadata": {},
     "output_type": "display_data"
    }
   ],
   "source": [
    "ga.watch()"
   ]
  },
  {
   "cell_type": "code",
   "execution_count": 14,
   "metadata": {},
   "outputs": [
    {
     "data": {
      "text/plain": [
       "327.8964074524648"
      ]
     },
     "execution_count": 14,
     "metadata": {},
     "output_type": "execute_result"
    }
   ],
   "source": [
    "ga.fitness(ga.make_random_chromosome(), real_time=True)"
   ]
  },
  {
   "cell_type": "code",
   "execution_count": 15,
   "metadata": {},
   "outputs": [
    {
     "name": "stdout",
     "output_type": "stream",
     "text": [
      "Maximum number of generations: 300\n",
      "  Elite percentage 0.02 (1/50 chromosomes per generation)\n",
      "  Crossover rate: 0.7 (~34/49 crossovers per generation)\n",
      "  Mutation rate: 0.01 (~197/9898 genes per generation)\n",
      "Evaluating initial population...\n",
      "Done!\n"
     ]
    },
    {
     "data": {
      "application/vnd.jupyter.widget-view+json": {
       "model_id": "5b49fc434df649e78ec0600f2cc44886",
       "version_major": 2,
       "version_minor": 0
      },
      "text/plain": [
       "  0%|          | 0/300 [00:00<?, ?it/s]"
      ]
     },
     "metadata": {},
     "output_type": "display_data"
    },
    {
     "name": "stdout",
     "output_type": "stream",
     "text": [
      "Manually interrupted\n"
     ]
    }
   ],
   "source": [
    "best = ga.evolve(300, elite_percent=.020, mutation_rate=0.01)"
   ]
  },
  {
   "cell_type": "code",
   "execution_count": 18,
   "metadata": {},
   "outputs": [
    {
     "data": {
      "text/plain": [
       "415.04848625871335"
      ]
     },
     "execution_count": 18,
     "metadata": {},
     "output_type": "execute_result"
    }
   ],
   "source": [
    "ga.fitness(best, real_time=True)"
   ]
  },
  {
   "cell_type": "code",
   "execution_count": 21,
   "metadata": {},
   "outputs": [],
   "source": [
    "saved_weights = [\n",
    "    0.02, 0.76, -0.51, -0.68, -0.82, 0.86, -0.96, 0.45, -0.5, \n",
    "    0.78, 0.34, -0.27, -0.88, -1.01, -0.21, 0.34, -0.05, 0.48, \n",
    "    -0.84, 0.38, -0.57, 0.14, -0.65, 0.12, -0.68, -0.79, 0.22, \n",
    "    0.07, 0.17, -0.46, 0.3, -1.0, -0.65, -0.02, -0.65, 0.94, \n",
    "    -0.74, 0.53, 0.62, 0.16, 0.65, -0.28, 0.42, -0.12, 0.66, \n",
    "    0.58, 0.91, 0.02, 0.2, 0.64, -0.75, -0.15, -0.42, -0.71, \n",
    "    0.16, -0.88, 0.89, -0.16, 0.45, 0.27, -0.16, 0.73, 0.38, \n",
    "    -0.42, 0.32, 0.49, 0.23, 1.0, -0.08, -0.31, -0.45, 0.12, \n",
    "    -0.85, 0.07, -0.47, -0.11, 0.81, 0.47, 0.61, -0.09, 0.95, \n",
    "    1.01, -0.96, 0.24, -0.89, 0.07, 0.79, -0.4, 0.71, 0.29, \n",
    "    0.22, 0.29, -0.39, 0.86, 0.73, -0.77, -0.31, 0.1, -0.35, \n",
    "    0.59, -0.66, -0.3, 0.54, -0.89, -0.07, -0.25, 0.69, -0.32, \n",
    "    -0.27, 0.48, 0.04, -0.05, 0.43, -0.14, 0.92, 0.25, -0.59, \n",
    "    0.77, -0.14, -0.21, 0.22, -0.68, 1.02, -0.12, 0.08, -0.13, \n",
    "    -0.07, 0.01, 0.45, 0.85, 0.35, 0.22, 0.73, 0.39, 0.56, 0.06, \n",
    "    0.49, 0.33, 0.96, 0.24, 0.93, 0.77, 0.11, -0.03, -0.96, 0.95, \n",
    "    0.52, -1.05, -0.53, 0.64, -0.63, -0.2, -0.78, 0.03, -0.92, \n",
    "    0.36, 0.52, -0.14, -0.96, 0.52, -0.43, -0.41, -0.84, -0.01, \n",
    "    0.83, 0.06, -0.87, -0.96, -0.55, -0.45, -0.47, -0.7, 0.84, \n",
    "    -0.55, -0.83, 0.76, 0.75, 0.76, 0.55, -0.19, 0.37, 0.45, \n",
    "    0.95, -0.94, -0.35, 0.84, 0.87, 0.8, -0.21, 0.82, 0.48, 0.35, \n",
    "    0.51, 0.12, -0.44, -0.42, 0.03, -0.41, 1.0, 0.84, -0.88, -0.97\n",
    "]"
   ]
  },
  {
   "cell_type": "code",
   "execution_count": 22,
   "metadata": {},
   "outputs": [
    {
     "data": {
      "text/plain": [
       "497.3044822769719"
      ]
     },
     "execution_count": 22,
     "metadata": {},
     "output_type": "execute_result"
    }
   ],
   "source": [
    "ga.fitness(saved_weights, seconds=15, real_time=True)"
   ]
  },
  {
   "cell_type": "code",
   "execution_count": null,
   "metadata": {},
   "outputs": [],
   "source": []
  }
 ],
 "metadata": {
  "kernelspec": {
   "display_name": "Python 3",
   "language": "python",
   "name": "python3"
  },
  "language_info": {
   "codemirror_mode": {
    "name": "ipython",
    "version": 3
   },
   "file_extension": ".py",
   "mimetype": "text/x-python",
   "name": "python",
   "nbconvert_exporter": "python",
   "pygments_lexer": "ipython3",
   "version": "3.8.5"
  },
  "widgets": {
   "application/vnd.jupyter.widget-state+json": {
    "state": {
     "09f442e57d254cd3b3644b1bd43a7d16": {
      "model_module": "@jupyter-widgets/base",
      "model_module_version": "1.2.0",
      "model_name": "LayoutModel",
      "state": {
       "border": "10px solid rgb(0 177 255)",
       "margin": "auto"
      }
     },
     "144cfaa3cd8743b7a1cba46952c7c33b": {
      "model_module": "@jupyter-widgets/controls",
      "model_module_version": "1.5.0",
      "model_name": "DescriptionStyleModel",
      "state": {
       "description_width": ""
      }
     },
     "2a8d4c9c2aed480e8fd3c92fc480086f": {
      "model_module": "@jupyter-widgets/base",
      "model_module_version": "1.2.0",
      "model_name": "LayoutModel",
      "state": {}
     },
     "2b6067b9f3c5458caf405e0a405e77d3": {
      "model_module": "@jupyter-widgets/base",
      "model_module_version": "1.2.0",
      "model_name": "LayoutModel",
      "state": {}
     },
     "3ae1ccde7b124c55ae0b3abb14e57ec1": {
      "model_module": "@jupyter-widgets/controls",
      "model_module_version": "1.5.0",
      "model_name": "HTMLModel",
      "state": {
       "layout": "IPY_MODEL_2a8d4c9c2aed480e8fd3c92fc480086f",
       "style": "IPY_MODEL_bd7b14809c554d32ad3da11c59dcf4c5",
       "value": "<div style=\"outline: 5px solid #1976D2FF; width: 400px; height: 209px;\"><svg id='keras-network' xmlns='http://www.w3.org/2000/svg' xmlns:xlink='http://www.w3.org/1999/xlink' image-rendering=\"pixelated\" width=\"400px\" height=\"209px\" style=\"background-color: #B0C4DE\">\n <g >\n  <svg viewBox=\"0 0 650 340\" width=\"400px\" height=\"209px\">\n    <defs>\n        <marker id=\"arrow\" markerWidth=\"10\" markerHeight=\"10\" refX=\"9\" refY=\"3\" orient=\"auto\" markerUnits=\"strokeWidth\">\n          <path d=\"M0,0 L0,6 L9,3 z\" fill=\"black\" />\n        </marker>\n    </defs><rect x=\"274.0\" y=\"24\" width=\"102\" height=\"52\" style=\"fill:none;stroke:black;stroke-width:2\"/><image id=\"keras-network_output\" class=\"keras-network\" x=\"275.0\" y=\"25\" height=\"50\" width=\"100\" preserveAspectRatio=\"none\" image-rendering=\"optimizeSpeed\" xlink:href=\"data:image/gif;base64,R0lGODdhAgABAIEAAH5+frGxsQAAAAAAACwAAAAAAgABAAAIBQADAAgIADs=\"><title>Layer: output 'Dense'\nAct function: sigmoid\nAct output range: (0.0, 1.0)\nActual minmax: (0.0, 1.0)\nShape = (None, 2)</title></image><text x=\"380.0\" y=\"52.0\" font-family=\"monospace\" font-size=\"12\" text-anchor=\"start\" fill=\"blue\" alignment-baseline=\"central\" >output</text><path d=\"M 325.0 104 L 325.0 77 \" stroke=\"black\" stroke-width=\"2\" marker-end=\"url(#arrow)\" fill=\"none\" /><rect x=\"224.0\" y=\"104\" width=\"202\" height=\"52\" style=\"fill:none;stroke:black;stroke-width:2\"/><image id=\"keras-network_hidden\" class=\"keras-network\" x=\"225.0\" y=\"105\" height=\"50\" width=\"200\" preserveAspectRatio=\"none\" image-rendering=\"optimizeSpeed\" xlink:href=\"data:image/gif;base64,R0lGODdhCgABAIMAADc3Nz8/P2VlZXl5eZKSkpubm7e3t729vcLCwubm5gAAAAAAAAAAAAAAAAAAAAAAACwAAAAACgABAAAIDgAFADiQIIABBAUGEAgIADs=\"><title>Layer: hidden 'Dense'\nAct function: sigmoid\nAct output range: (0.0, 1.0)\nActual minmax: (0.0, 1.0)\nShape = (None, 10)</title></image><text x=\"430.0\" y=\"132.0\" font-family=\"monospace\" font-size=\"12\" text-anchor=\"start\" fill=\"blue\" alignment-baseline=\"central\" >hidden</text><path d=\"M 325.0 184 L 325.0 157 \" stroke=\"black\" stroke-width=\"2\" marker-end=\"url(#arrow)\" fill=\"none\" /><rect x=\"224.0\" y=\"184\" width=\"202\" height=\"52\" style=\"fill:none;stroke:black;stroke-width:2\"/><image id=\"keras-network_concatenate\" class=\"keras-network\" x=\"225.0\" y=\"185\" height=\"50\" width=\"200\" preserveAspectRatio=\"none\" image-rendering=\"optimizeSpeed\" xlink:href=\"data:image/gif;base64,R0lGODdhEQABAIQAAAAAABcXFxkZGRoaGh8fHyMjIzQ0NDc3N0ZGRkhISGVlZWpqanBwcHl5eYeHh5qamp2dnQAAAAAAAAAAAAAAAAAAAAAAAAAAAAAAAAAAAAAAAAAAAAAAAAAAAAAAAAAAACwAAAAAEQABAAAIFgABNHiQoMCAAAIIMFCwwAEEAwcQBAQAOw==\"><title>Layer: concatenate 'Concatenate'\nActual minmax: (0.0, 1.0)\nShape = (None, 17)</title></image><text x=\"430.0\" y=\"212.0\" font-family=\"monospace\" font-size=\"12\" text-anchor=\"start\" fill=\"blue\" alignment-baseline=\"central\" >concatenate</text><path d=\"M 216.66666666666666 264 L 325.0 237 \" stroke=\"black\" stroke-width=\"2\" marker-end=\"url(#arrow)\" fill=\"none\" /><rect x=\"190.66666666666666\" y=\"264\" width=\"52\" height=\"52\" style=\"fill:none;stroke:black;stroke-width:2\"/><image id=\"keras-network_signal\" class=\"keras-network\" x=\"191.66666666666666\" y=\"265\" height=\"50\" width=\"50\" preserveAspectRatio=\"none\" image-rendering=\"optimizeSpeed\" xlink:href=\"data:image/gif;base64,R0lGODdhAQABAIEAAAAAAAAAAAAAAAAAACwAAAAAAQABAAAIBAABBAQAOw==\"><title>Layer: signal 'InputLayer'\nActual minmax: (0.0, +Infinity)\nShape = [(None, 1)]</title></image><text x=\"246.66666666666666\" y=\"292.0\" font-family=\"monospace\" font-size=\"12\" text-anchor=\"start\" fill=\"blue\" alignment-baseline=\"central\" >signal</text><path d=\"M 433.3333333333333 264 L 325.0 237 \" stroke=\"black\" stroke-width=\"2\" marker-end=\"url(#arrow)\" fill=\"none\" /><rect x=\"332.3333333333333\" y=\"264\" width=\"202\" height=\"52\" style=\"fill:none;stroke:black;stroke-width:2\"/><image id=\"keras-network_sensors\" class=\"keras-network\" x=\"333.3333333333333\" y=\"265\" height=\"50\" width=\"200\" preserveAspectRatio=\"none\" image-rendering=\"optimizeSpeed\" xlink:href=\"data:image/gif;base64,R0lGODdhEAABAIMAABcXFxkZGRoaGh8fHyMjIzQ0NDc3N0ZGRkhISGVlZWpqanBwcHl5eYeHh5qamp2dnSwAAAAAEAABAAAIFQAZOEBAQACAAAMWJFDQ4EEBAwcCAgA7\"><title>Layer: sensors 'InputLayer'\nActual minmax: (0.0, 1.0)\nShape = [(None, 16)]</title></image><text x=\"538.3333333333333\" y=\"292.0\" font-family=\"monospace\" font-size=\"12\" text-anchor=\"start\" fill=\"blue\" alignment-baseline=\"central\" >sensors</text><text x=\"325.0\" y=\"12.5\" font-family=\"monospace\" font-size=\"15\" text-anchor=\"middle\" fill=\"black\" alignment-baseline=\"central\" >Activations for Network</text></svg></g></svg></div>"
      }
     },
     "3d822424c97b4b75abed878f750cd411": {
      "model_module": "@jupyter-widgets/base",
      "model_module_version": "1.2.0",
      "model_name": "LayoutModel",
      "state": {}
     },
     "5b49fc434df649e78ec0600f2cc44886": {
      "model_module": "@jupyter-widgets/controls",
      "model_module_version": "1.5.0",
      "model_name": "HBoxModel",
      "state": {
       "children": [
        "IPY_MODEL_8ff889ab23e944f48b72bea291cb8c4e",
        "IPY_MODEL_9513dab3e70f48d3b8e233e05678eeca",
        "IPY_MODEL_ed6df7decd9c4fdfa82c2cf1f5bc0a98"
       ],
       "layout": "IPY_MODEL_d532fa01d9de4f3bbe7c194054a51b6c"
      }
     },
     "88493ea07c7840d78d7733bc83891785": {
      "model_module": "@jupyter-widgets/controls",
      "model_module_version": "1.5.0",
      "model_name": "DescriptionStyleModel",
      "state": {
       "description_width": ""
      }
     },
     "8ff889ab23e944f48b72bea291cb8c4e": {
      "model_module": "@jupyter-widgets/controls",
      "model_module_version": "1.5.0",
      "model_name": "HTMLModel",
      "state": {
       "layout": "IPY_MODEL_3d822424c97b4b75abed878f750cd411",
       "style": "IPY_MODEL_144cfaa3cd8743b7a1cba46952c7c33b",
       "value": "Best fitness 415.05:   6%"
      }
     },
     "94967f85a271431d99a04d4915686b4e": {
      "buffers": [
       {
        "data": "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",
        "encoding": "base64",
        "path": [
         "value"
        ]
       }
      ],
      "model_module": "@jupyter-widgets/controls",
      "model_module_version": "1.5.0",
      "model_name": "ImageModel",
      "state": {
       "layout": "IPY_MODEL_09f442e57d254cd3b3644b1bd43a7d16"
      }
     },
     "9513dab3e70f48d3b8e233e05678eeca": {
      "model_module": "@jupyter-widgets/controls",
      "model_module_version": "1.5.0",
      "model_name": "FloatProgressModel",
      "state": {
       "bar_style": "danger",
       "layout": "IPY_MODEL_bdde6e30024f4cf4b62115985fc9103a",
       "max": 300,
       "style": "IPY_MODEL_e8c86f8e7c004abd98d2e4e7bfdfaf97",
       "value": 19
      }
     },
     "ad0ab1e46df84388954f1477fea437a2": {
      "model_module": "@jupyter-widgets/controls",
      "model_module_version": "1.5.0",
      "model_name": "HTMLModel",
      "state": {
       "layout": "IPY_MODEL_2b6067b9f3c5458caf405e0a405e77d3",
       "style": "IPY_MODEL_bb30711c99d14c65a2464f5ebe3ece19",
       "value": "<?xml version=\"1.0\" encoding=\"utf-8\" standalone=\"no\"?>\n<!DOCTYPE svg PUBLIC \"-//W3C//DTD SVG 1.1//EN\"\n  \"http://www.w3.org/Graphics/SVG/1.1/DTD/svg11.dtd\">\n<svg height=\"345.6pt\" version=\"1.1\" viewBox=\"0 0 460.8 345.6\" width=\"460.8pt\" xmlns=\"http://www.w3.org/2000/svg\" xmlns:xlink=\"http://www.w3.org/1999/xlink\">\n <metadata>\n  <rdf:RDF xmlns:cc=\"http://creativecommons.org/ns#\" xmlns:dc=\"http://purl.org/dc/elements/1.1/\" xmlns:rdf=\"http://www.w3.org/1999/02/22-rdf-syntax-ns#\">\n   <cc:Work>\n    <dc:type rdf:resource=\"http://purl.org/dc/dcmitype/StillImage\"/>\n    <dc:date>2021-08-14T11:11:01.464846</dc:date>\n    <dc:format>image/svg+xml</dc:format>\n    <dc:creator>\n     <cc:Agent>\n      <dc:title>Matplotlib v3.4.2, https://matplotlib.org/</dc:title>\n     </cc:Agent>\n    </dc:creator>\n   </cc:Work>\n  </rdf:RDF>\n </metadata>\n <defs>\n  <style type=\"text/css\">*{stroke-linecap:butt;stroke-linejoin:round;}</style>\n </defs>\n <g id=\"figure_1\">\n  <g id=\"patch_1\">\n   <path d=\"M 0 345.6 \nL 460.8 345.6 \nL 460.8 0 \nL 0 0 \nz\n\" style=\"fill:#ffffff;\"/>\n  </g>\n  <g id=\"axes_1\">\n   <g id=\"patch_2\">\n    <path d=\"M 57.6 307.584 \nL 414.72 307.584 \nL 414.72 41.472 \nL 57.6 41.472 \nz\n\" style=\"fill:#ffffff;\"/>\n   </g>\n   <g id=\"matplotlib.axis_1\">\n    <g id=\"xtick_1\">\n     <g id=\"line2d_1\">\n      <defs>\n       <path d=\"M 0 0 \nL 0 3.5 \n\" id=\"mbe4a8d3b4d\" style=\"stroke:#000000;stroke-width:0.8;\"/>\n      </defs>\n      <g>\n       <use style=\"stroke:#000000;stroke-width:0.8;\" x=\"73.832727\" xlink:href=\"#mbe4a8d3b4d\" y=\"307.584\"/>\n      </g>\n     </g>\n     <g id=\"text_1\">\n      <!-- 0.0 -->\n      <g transform=\"translate(65.881165 322.182437)scale(0.1 -0.1)\">\n       <defs>\n        <path d=\"M 2034 4250 \nQ 1547 4250 1301 3770 \nQ 1056 3291 1056 2328 \nQ 1056 1369 1301 889 \nQ 1547 409 2034 409 \nQ 2525 409 2770 889 \nQ 3016 1369 3016 2328 \nQ 3016 3291 2770 3770 \nQ 2525 4250 2034 4250 \nz\nM 2034 4750 \nQ 2819 4750 3233 4129 \nQ 3647 3509 3647 2328 \nQ 3647 1150 3233 529 \nQ 2819 -91 2034 -91 \nQ 1250 -91 836 529 \nQ 422 1150 422 2328 \nQ 422 3509 836 4129 \nQ 1250 4750 2034 4750 \nz\n\" id=\"DejaVuSans-30\" transform=\"scale(0.015625)\"/>\n        <path d=\"M 684 794 \nL 1344 794 \nL 1344 0 \nL 684 0 \nL 684 794 \nz\n\" id=\"DejaVuSans-2e\" transform=\"scale(0.015625)\"/>\n       </defs>\n       <use xlink:href=\"#DejaVuSans-30\"/>\n       <use x=\"63.623047\" xlink:href=\"#DejaVuSans-2e\"/>\n       <use x=\"95.410156\" xlink:href=\"#DejaVuSans-30\"/>\n      </g>\n     </g>\n    </g>\n    <g id=\"xtick_2\">\n     <g id=\"line2d_2\">\n      <g>\n       <use style=\"stroke:#000000;stroke-width:0.8;\" x=\"116.550431\" xlink:href=\"#mbe4a8d3b4d\" y=\"307.584\"/>\n      </g>\n     </g>\n     <g id=\"text_2\">\n      <!-- 2.5 -->\n      <g transform=\"translate(108.598868 322.182437)scale(0.1 -0.1)\">\n       <defs>\n        <path d=\"M 1228 531 \nL 3431 531 \nL 3431 0 \nL 469 0 \nL 469 531 \nQ 828 903 1448 1529 \nQ 2069 2156 2228 2338 \nQ 2531 2678 2651 2914 \nQ 2772 3150 2772 3378 \nQ 2772 3750 2511 3984 \nQ 2250 4219 1831 4219 \nQ 1534 4219 1204 4116 \nQ 875 4013 500 3803 \nL 500 4441 \nQ 881 4594 1212 4672 \nQ 1544 4750 1819 4750 \nQ 2544 4750 2975 4387 \nQ 3406 4025 3406 3419 \nQ 3406 3131 3298 2873 \nQ 3191 2616 2906 2266 \nQ 2828 2175 2409 1742 \nQ 1991 1309 1228 531 \nz\n\" id=\"DejaVuSans-32\" transform=\"scale(0.015625)\"/>\n        <path d=\"M 691 4666 \nL 3169 4666 \nL 3169 4134 \nL 1269 4134 \nL 1269 2991 \nQ 1406 3038 1543 3061 \nQ 1681 3084 1819 3084 \nQ 2600 3084 3056 2656 \nQ 3513 2228 3513 1497 \nQ 3513 744 3044 326 \nQ 2575 -91 1722 -91 \nQ 1428 -91 1123 -41 \nQ 819 9 494 109 \nL 494 744 \nQ 775 591 1075 516 \nQ 1375 441 1709 441 \nQ 2250 441 2565 725 \nQ 2881 1009 2881 1497 \nQ 2881 1984 2565 2268 \nQ 2250 2553 1709 2553 \nQ 1456 2553 1204 2497 \nQ 953 2441 691 2322 \nL 691 4666 \nz\n\" id=\"DejaVuSans-35\" transform=\"scale(0.015625)\"/>\n       </defs>\n       <use xlink:href=\"#DejaVuSans-32\"/>\n       <use x=\"63.623047\" xlink:href=\"#DejaVuSans-2e\"/>\n       <use x=\"95.410156\" xlink:href=\"#DejaVuSans-35\"/>\n      </g>\n     </g>\n    </g>\n    <g id=\"xtick_3\">\n     <g id=\"line2d_3\">\n      <g>\n       <use style=\"stroke:#000000;stroke-width:0.8;\" x=\"159.268134\" xlink:href=\"#mbe4a8d3b4d\" y=\"307.584\"/>\n      </g>\n     </g>\n     <g id=\"text_3\">\n      <!-- 5.0 -->\n      <g transform=\"translate(151.316571 322.182437)scale(0.1 -0.1)\">\n       <use xlink:href=\"#DejaVuSans-35\"/>\n       <use x=\"63.623047\" xlink:href=\"#DejaVuSans-2e\"/>\n       <use x=\"95.410156\" xlink:href=\"#DejaVuSans-30\"/>\n      </g>\n     </g>\n    </g>\n    <g id=\"xtick_4\">\n     <g id=\"line2d_4\">\n      <g>\n       <use style=\"stroke:#000000;stroke-width:0.8;\" x=\"201.985837\" xlink:href=\"#mbe4a8d3b4d\" y=\"307.584\"/>\n      </g>\n     </g>\n     <g id=\"text_4\">\n      <!-- 7.5 -->\n      <g transform=\"translate(194.034275 322.182437)scale(0.1 -0.1)\">\n       <defs>\n        <path d=\"M 525 4666 \nL 3525 4666 \nL 3525 4397 \nL 1831 0 \nL 1172 0 \nL 2766 4134 \nL 525 4134 \nL 525 4666 \nz\n\" id=\"DejaVuSans-37\" transform=\"scale(0.015625)\"/>\n       </defs>\n       <use xlink:href=\"#DejaVuSans-37\"/>\n       <use x=\"63.623047\" xlink:href=\"#DejaVuSans-2e\"/>\n       <use x=\"95.410156\" xlink:href=\"#DejaVuSans-35\"/>\n      </g>\n     </g>\n    </g>\n    <g id=\"xtick_5\">\n     <g id=\"line2d_5\">\n      <g>\n       <use style=\"stroke:#000000;stroke-width:0.8;\" x=\"244.703541\" xlink:href=\"#mbe4a8d3b4d\" y=\"307.584\"/>\n      </g>\n     </g>\n     <g id=\"text_5\">\n      <!-- 10.0 -->\n      <g transform=\"translate(233.570728 322.182437)scale(0.1 -0.1)\">\n       <defs>\n        <path d=\"M 794 531 \nL 1825 531 \nL 1825 4091 \nL 703 3866 \nL 703 4441 \nL 1819 4666 \nL 2450 4666 \nL 2450 531 \nL 3481 531 \nL 3481 0 \nL 794 0 \nL 794 531 \nz\n\" id=\"DejaVuSans-31\" transform=\"scale(0.015625)\"/>\n       </defs>\n       <use xlink:href=\"#DejaVuSans-31\"/>\n       <use x=\"63.623047\" xlink:href=\"#DejaVuSans-30\"/>\n       <use x=\"127.246094\" xlink:href=\"#DejaVuSans-2e\"/>\n       <use x=\"159.033203\" xlink:href=\"#DejaVuSans-30\"/>\n      </g>\n     </g>\n    </g>\n    <g id=\"xtick_6\">\n     <g id=\"line2d_6\">\n      <g>\n       <use style=\"stroke:#000000;stroke-width:0.8;\" x=\"287.421244\" xlink:href=\"#mbe4a8d3b4d\" y=\"307.584\"/>\n      </g>\n     </g>\n     <g id=\"text_6\">\n      <!-- 12.5 -->\n      <g transform=\"translate(276.288432 322.182437)scale(0.1 -0.1)\">\n       <use xlink:href=\"#DejaVuSans-31\"/>\n       <use x=\"63.623047\" xlink:href=\"#DejaVuSans-32\"/>\n       <use x=\"127.246094\" xlink:href=\"#DejaVuSans-2e\"/>\n       <use x=\"159.033203\" xlink:href=\"#DejaVuSans-35\"/>\n      </g>\n     </g>\n    </g>\n    <g id=\"xtick_7\">\n     <g id=\"line2d_7\">\n      <g>\n       <use style=\"stroke:#000000;stroke-width:0.8;\" x=\"330.138947\" xlink:href=\"#mbe4a8d3b4d\" y=\"307.584\"/>\n      </g>\n     </g>\n     <g id=\"text_7\">\n      <!-- 15.0 -->\n      <g transform=\"translate(319.006135 322.182437)scale(0.1 -0.1)\">\n       <use xlink:href=\"#DejaVuSans-31\"/>\n       <use x=\"63.623047\" xlink:href=\"#DejaVuSans-35\"/>\n       <use x=\"127.246094\" xlink:href=\"#DejaVuSans-2e\"/>\n       <use x=\"159.033203\" xlink:href=\"#DejaVuSans-30\"/>\n      </g>\n     </g>\n    </g>\n    <g id=\"xtick_8\">\n     <g id=\"line2d_8\">\n      <g>\n       <use style=\"stroke:#000000;stroke-width:0.8;\" x=\"372.856651\" xlink:href=\"#mbe4a8d3b4d\" y=\"307.584\"/>\n      </g>\n     </g>\n     <g id=\"text_8\">\n      <!-- 17.5 -->\n      <g transform=\"translate(361.723838 322.182437)scale(0.1 -0.1)\">\n       <use xlink:href=\"#DejaVuSans-31\"/>\n       <use x=\"63.623047\" xlink:href=\"#DejaVuSans-37\"/>\n       <use x=\"127.246094\" xlink:href=\"#DejaVuSans-2e\"/>\n       <use x=\"159.033203\" xlink:href=\"#DejaVuSans-35\"/>\n      </g>\n     </g>\n    </g>\n    <g id=\"text_9\">\n     <!-- Generations -->\n     <g transform=\"translate(205.662344 335.860562)scale(0.1 -0.1)\">\n      <defs>\n       <path d=\"M 3809 666 \nL 3809 1919 \nL 2778 1919 \nL 2778 2438 \nL 4434 2438 \nL 4434 434 \nQ 4069 175 3628 42 \nQ 3188 -91 2688 -91 \nQ 1594 -91 976 548 \nQ 359 1188 359 2328 \nQ 359 3472 976 4111 \nQ 1594 4750 2688 4750 \nQ 3144 4750 3555 4637 \nQ 3966 4525 4313 4306 \nL 4313 3634 \nQ 3963 3931 3569 4081 \nQ 3175 4231 2741 4231 \nQ 1884 4231 1454 3753 \nQ 1025 3275 1025 2328 \nQ 1025 1384 1454 906 \nQ 1884 428 2741 428 \nQ 3075 428 3337 486 \nQ 3600 544 3809 666 \nz\n\" id=\"DejaVuSans-47\" transform=\"scale(0.015625)\"/>\n       <path d=\"M 3597 1894 \nL 3597 1613 \nL 953 1613 \nQ 991 1019 1311 708 \nQ 1631 397 2203 397 \nQ 2534 397 2845 478 \nQ 3156 559 3463 722 \nL 3463 178 \nQ 3153 47 2828 -22 \nQ 2503 -91 2169 -91 \nQ 1331 -91 842 396 \nQ 353 884 353 1716 \nQ 353 2575 817 3079 \nQ 1281 3584 2069 3584 \nQ 2775 3584 3186 3129 \nQ 3597 2675 3597 1894 \nz\nM 3022 2063 \nQ 3016 2534 2758 2815 \nQ 2500 3097 2075 3097 \nQ 1594 3097 1305 2825 \nQ 1016 2553 972 2059 \nL 3022 2063 \nz\n\" id=\"DejaVuSans-65\" transform=\"scale(0.015625)\"/>\n       <path d=\"M 3513 2113 \nL 3513 0 \nL 2938 0 \nL 2938 2094 \nQ 2938 2591 2744 2837 \nQ 2550 3084 2163 3084 \nQ 1697 3084 1428 2787 \nQ 1159 2491 1159 1978 \nL 1159 0 \nL 581 0 \nL 581 3500 \nL 1159 3500 \nL 1159 2956 \nQ 1366 3272 1645 3428 \nQ 1925 3584 2291 3584 \nQ 2894 3584 3203 3211 \nQ 3513 2838 3513 2113 \nz\n\" id=\"DejaVuSans-6e\" transform=\"scale(0.015625)\"/>\n       <path d=\"M 2631 2963 \nQ 2534 3019 2420 3045 \nQ 2306 3072 2169 3072 \nQ 1681 3072 1420 2755 \nQ 1159 2438 1159 1844 \nL 1159 0 \nL 581 0 \nL 581 3500 \nL 1159 3500 \nL 1159 2956 \nQ 1341 3275 1631 3429 \nQ 1922 3584 2338 3584 \nQ 2397 3584 2469 3576 \nQ 2541 3569 2628 3553 \nL 2631 2963 \nz\n\" id=\"DejaVuSans-72\" transform=\"scale(0.015625)\"/>\n       <path d=\"M 2194 1759 \nQ 1497 1759 1228 1600 \nQ 959 1441 959 1056 \nQ 959 750 1161 570 \nQ 1363 391 1709 391 \nQ 2188 391 2477 730 \nQ 2766 1069 2766 1631 \nL 2766 1759 \nL 2194 1759 \nz\nM 3341 1997 \nL 3341 0 \nL 2766 0 \nL 2766 531 \nQ 2569 213 2275 61 \nQ 1981 -91 1556 -91 \nQ 1019 -91 701 211 \nQ 384 513 384 1019 \nQ 384 1609 779 1909 \nQ 1175 2209 1959 2209 \nL 2766 2209 \nL 2766 2266 \nQ 2766 2663 2505 2880 \nQ 2244 3097 1772 3097 \nQ 1472 3097 1187 3025 \nQ 903 2953 641 2809 \nL 641 3341 \nQ 956 3463 1253 3523 \nQ 1550 3584 1831 3584 \nQ 2591 3584 2966 3190 \nQ 3341 2797 3341 1997 \nz\n\" id=\"DejaVuSans-61\" transform=\"scale(0.015625)\"/>\n       <path d=\"M 1172 4494 \nL 1172 3500 \nL 2356 3500 \nL 2356 3053 \nL 1172 3053 \nL 1172 1153 \nQ 1172 725 1289 603 \nQ 1406 481 1766 481 \nL 2356 481 \nL 2356 0 \nL 1766 0 \nQ 1100 0 847 248 \nQ 594 497 594 1153 \nL 594 3053 \nL 172 3053 \nL 172 3500 \nL 594 3500 \nL 594 4494 \nL 1172 4494 \nz\n\" id=\"DejaVuSans-74\" transform=\"scale(0.015625)\"/>\n       <path d=\"M 603 3500 \nL 1178 3500 \nL 1178 0 \nL 603 0 \nL 603 3500 \nz\nM 603 4863 \nL 1178 4863 \nL 1178 4134 \nL 603 4134 \nL 603 4863 \nz\n\" id=\"DejaVuSans-69\" transform=\"scale(0.015625)\"/>\n       <path d=\"M 1959 3097 \nQ 1497 3097 1228 2736 \nQ 959 2375 959 1747 \nQ 959 1119 1226 758 \nQ 1494 397 1959 397 \nQ 2419 397 2687 759 \nQ 2956 1122 2956 1747 \nQ 2956 2369 2687 2733 \nQ 2419 3097 1959 3097 \nz\nM 1959 3584 \nQ 2709 3584 3137 3096 \nQ 3566 2609 3566 1747 \nQ 3566 888 3137 398 \nQ 2709 -91 1959 -91 \nQ 1206 -91 779 398 \nQ 353 888 353 1747 \nQ 353 2609 779 3096 \nQ 1206 3584 1959 3584 \nz\n\" id=\"DejaVuSans-6f\" transform=\"scale(0.015625)\"/>\n       <path d=\"M 2834 3397 \nL 2834 2853 \nQ 2591 2978 2328 3040 \nQ 2066 3103 1784 3103 \nQ 1356 3103 1142 2972 \nQ 928 2841 928 2578 \nQ 928 2378 1081 2264 \nQ 1234 2150 1697 2047 \nL 1894 2003 \nQ 2506 1872 2764 1633 \nQ 3022 1394 3022 966 \nQ 3022 478 2636 193 \nQ 2250 -91 1575 -91 \nQ 1294 -91 989 -36 \nQ 684 19 347 128 \nL 347 722 \nQ 666 556 975 473 \nQ 1284 391 1588 391 \nQ 1994 391 2212 530 \nQ 2431 669 2431 922 \nQ 2431 1156 2273 1281 \nQ 2116 1406 1581 1522 \nL 1381 1569 \nQ 847 1681 609 1914 \nQ 372 2147 372 2553 \nQ 372 3047 722 3315 \nQ 1072 3584 1716 3584 \nQ 2034 3584 2315 3537 \nQ 2597 3491 2834 3397 \nz\n\" id=\"DejaVuSans-73\" transform=\"scale(0.015625)\"/>\n      </defs>\n      <use xlink:href=\"#DejaVuSans-47\"/>\n      <use x=\"77.490234\" xlink:href=\"#DejaVuSans-65\"/>\n      <use x=\"139.013672\" xlink:href=\"#DejaVuSans-6e\"/>\n      <use x=\"202.392578\" xlink:href=\"#DejaVuSans-65\"/>\n      <use x=\"263.916016\" xlink:href=\"#DejaVuSans-72\"/>\n      <use x=\"305.029297\" xlink:href=\"#DejaVuSans-61\"/>\n      <use x=\"366.308594\" xlink:href=\"#DejaVuSans-74\"/>\n      <use x=\"405.517578\" xlink:href=\"#DejaVuSans-69\"/>\n      <use x=\"433.300781\" xlink:href=\"#DejaVuSans-6f\"/>\n      <use x=\"494.482422\" xlink:href=\"#DejaVuSans-6e\"/>\n      <use x=\"557.861328\" xlink:href=\"#DejaVuSans-73\"/>\n     </g>\n    </g>\n   </g>\n   <g id=\"matplotlib.axis_2\">\n    <g id=\"ytick_1\">\n     <g id=\"line2d_9\">\n      <defs>\n       <path d=\"M 0 0 \nL -3.5 0 \n\" id=\"m4d51c11822\" style=\"stroke:#000000;stroke-width:0.8;\"/>\n      </defs>\n      <g>\n       <use style=\"stroke:#000000;stroke-width:0.8;\" x=\"57.6\" xlink:href=\"#m4d51c11822\" y=\"287.998052\"/>\n      </g>\n     </g>\n     <g id=\"text_10\">\n      <!-- 340 -->\n      <g transform=\"translate(31.5125 291.797271)scale(0.1 -0.1)\">\n       <defs>\n        <path d=\"M 2597 2516 \nQ 3050 2419 3304 2112 \nQ 3559 1806 3559 1356 \nQ 3559 666 3084 287 \nQ 2609 -91 1734 -91 \nQ 1441 -91 1130 -33 \nQ 819 25 488 141 \nL 488 750 \nQ 750 597 1062 519 \nQ 1375 441 1716 441 \nQ 2309 441 2620 675 \nQ 2931 909 2931 1356 \nQ 2931 1769 2642 2001 \nQ 2353 2234 1838 2234 \nL 1294 2234 \nL 1294 2753 \nL 1863 2753 \nQ 2328 2753 2575 2939 \nQ 2822 3125 2822 3475 \nQ 2822 3834 2567 4026 \nQ 2313 4219 1838 4219 \nQ 1578 4219 1281 4162 \nQ 984 4106 628 3988 \nL 628 4550 \nQ 988 4650 1302 4700 \nQ 1616 4750 1894 4750 \nQ 2613 4750 3031 4423 \nQ 3450 4097 3450 3541 \nQ 3450 3153 3228 2886 \nQ 3006 2619 2597 2516 \nz\n\" id=\"DejaVuSans-33\" transform=\"scale(0.015625)\"/>\n        <path d=\"M 2419 4116 \nL 825 1625 \nL 2419 1625 \nL 2419 4116 \nz\nM 2253 4666 \nL 3047 4666 \nL 3047 1625 \nL 3713 1625 \nL 3713 1100 \nL 3047 1100 \nL 3047 0 \nL 2419 0 \nL 2419 1100 \nL 313 1100 \nL 313 1709 \nL 2253 4666 \nz\n\" id=\"DejaVuSans-34\" transform=\"scale(0.015625)\"/>\n       </defs>\n       <use xlink:href=\"#DejaVuSans-33\"/>\n       <use x=\"63.623047\" xlink:href=\"#DejaVuSans-34\"/>\n       <use x=\"127.246094\" xlink:href=\"#DejaVuSans-30\"/>\n      </g>\n     </g>\n    </g>\n    <g id=\"ytick_2\">\n     <g id=\"line2d_10\">\n      <g>\n       <use style=\"stroke:#000000;stroke-width:0.8;\" x=\"57.6\" xlink:href=\"#m4d51c11822\" y=\"256.760906\"/>\n      </g>\n     </g>\n     <g id=\"text_11\">\n      <!-- 350 -->\n      <g transform=\"translate(31.5125 260.560125)scale(0.1 -0.1)\">\n       <use xlink:href=\"#DejaVuSans-33\"/>\n       <use x=\"63.623047\" xlink:href=\"#DejaVuSans-35\"/>\n       <use x=\"127.246094\" xlink:href=\"#DejaVuSans-30\"/>\n      </g>\n     </g>\n    </g>\n    <g id=\"ytick_3\">\n     <g id=\"line2d_11\">\n      <g>\n       <use style=\"stroke:#000000;stroke-width:0.8;\" x=\"57.6\" xlink:href=\"#m4d51c11822\" y=\"225.52376\"/>\n      </g>\n     </g>\n     <g id=\"text_12\">\n      <!-- 360 -->\n      <g transform=\"translate(31.5125 229.322979)scale(0.1 -0.1)\">\n       <defs>\n        <path d=\"M 2113 2584 \nQ 1688 2584 1439 2293 \nQ 1191 2003 1191 1497 \nQ 1191 994 1439 701 \nQ 1688 409 2113 409 \nQ 2538 409 2786 701 \nQ 3034 994 3034 1497 \nQ 3034 2003 2786 2293 \nQ 2538 2584 2113 2584 \nz\nM 3366 4563 \nL 3366 3988 \nQ 3128 4100 2886 4159 \nQ 2644 4219 2406 4219 \nQ 1781 4219 1451 3797 \nQ 1122 3375 1075 2522 \nQ 1259 2794 1537 2939 \nQ 1816 3084 2150 3084 \nQ 2853 3084 3261 2657 \nQ 3669 2231 3669 1497 \nQ 3669 778 3244 343 \nQ 2819 -91 2113 -91 \nQ 1303 -91 875 529 \nQ 447 1150 447 2328 \nQ 447 3434 972 4092 \nQ 1497 4750 2381 4750 \nQ 2619 4750 2861 4703 \nQ 3103 4656 3366 4563 \nz\n\" id=\"DejaVuSans-36\" transform=\"scale(0.015625)\"/>\n       </defs>\n       <use xlink:href=\"#DejaVuSans-33\"/>\n       <use x=\"63.623047\" xlink:href=\"#DejaVuSans-36\"/>\n       <use x=\"127.246094\" xlink:href=\"#DejaVuSans-30\"/>\n      </g>\n     </g>\n    </g>\n    <g id=\"ytick_4\">\n     <g id=\"line2d_12\">\n      <g>\n       <use style=\"stroke:#000000;stroke-width:0.8;\" x=\"57.6\" xlink:href=\"#m4d51c11822\" y=\"194.286614\"/>\n      </g>\n     </g>\n     <g id=\"text_13\">\n      <!-- 370 -->\n      <g transform=\"translate(31.5125 198.085833)scale(0.1 -0.1)\">\n       <use xlink:href=\"#DejaVuSans-33\"/>\n       <use x=\"63.623047\" xlink:href=\"#DejaVuSans-37\"/>\n       <use x=\"127.246094\" xlink:href=\"#DejaVuSans-30\"/>\n      </g>\n     </g>\n    </g>\n    <g id=\"ytick_5\">\n     <g id=\"line2d_13\">\n      <g>\n       <use style=\"stroke:#000000;stroke-width:0.8;\" x=\"57.6\" xlink:href=\"#m4d51c11822\" y=\"163.049468\"/>\n      </g>\n     </g>\n     <g id=\"text_14\">\n      <!-- 380 -->\n      <g transform=\"translate(31.5125 166.848687)scale(0.1 -0.1)\">\n       <defs>\n        <path d=\"M 2034 2216 \nQ 1584 2216 1326 1975 \nQ 1069 1734 1069 1313 \nQ 1069 891 1326 650 \nQ 1584 409 2034 409 \nQ 2484 409 2743 651 \nQ 3003 894 3003 1313 \nQ 3003 1734 2745 1975 \nQ 2488 2216 2034 2216 \nz\nM 1403 2484 \nQ 997 2584 770 2862 \nQ 544 3141 544 3541 \nQ 544 4100 942 4425 \nQ 1341 4750 2034 4750 \nQ 2731 4750 3128 4425 \nQ 3525 4100 3525 3541 \nQ 3525 3141 3298 2862 \nQ 3072 2584 2669 2484 \nQ 3125 2378 3379 2068 \nQ 3634 1759 3634 1313 \nQ 3634 634 3220 271 \nQ 2806 -91 2034 -91 \nQ 1263 -91 848 271 \nQ 434 634 434 1313 \nQ 434 1759 690 2068 \nQ 947 2378 1403 2484 \nz\nM 1172 3481 \nQ 1172 3119 1398 2916 \nQ 1625 2713 2034 2713 \nQ 2441 2713 2670 2916 \nQ 2900 3119 2900 3481 \nQ 2900 3844 2670 4047 \nQ 2441 4250 2034 4250 \nQ 1625 4250 1398 4047 \nQ 1172 3844 1172 3481 \nz\n\" id=\"DejaVuSans-38\" transform=\"scale(0.015625)\"/>\n       </defs>\n       <use xlink:href=\"#DejaVuSans-33\"/>\n       <use x=\"63.623047\" xlink:href=\"#DejaVuSans-38\"/>\n       <use x=\"127.246094\" xlink:href=\"#DejaVuSans-30\"/>\n      </g>\n     </g>\n    </g>\n    <g id=\"ytick_6\">\n     <g id=\"line2d_14\">\n      <g>\n       <use style=\"stroke:#000000;stroke-width:0.8;\" x=\"57.6\" xlink:href=\"#m4d51c11822\" y=\"131.812322\"/>\n      </g>\n     </g>\n     <g id=\"text_15\">\n      <!-- 390 -->\n      <g transform=\"translate(31.5125 135.611541)scale(0.1 -0.1)\">\n       <defs>\n        <path d=\"M 703 97 \nL 703 672 \nQ 941 559 1184 500 \nQ 1428 441 1663 441 \nQ 2288 441 2617 861 \nQ 2947 1281 2994 2138 \nQ 2813 1869 2534 1725 \nQ 2256 1581 1919 1581 \nQ 1219 1581 811 2004 \nQ 403 2428 403 3163 \nQ 403 3881 828 4315 \nQ 1253 4750 1959 4750 \nQ 2769 4750 3195 4129 \nQ 3622 3509 3622 2328 \nQ 3622 1225 3098 567 \nQ 2575 -91 1691 -91 \nQ 1453 -91 1209 -44 \nQ 966 3 703 97 \nz\nM 1959 2075 \nQ 2384 2075 2632 2365 \nQ 2881 2656 2881 3163 \nQ 2881 3666 2632 3958 \nQ 2384 4250 1959 4250 \nQ 1534 4250 1286 3958 \nQ 1038 3666 1038 3163 \nQ 1038 2656 1286 2365 \nQ 1534 2075 1959 2075 \nz\n\" id=\"DejaVuSans-39\" transform=\"scale(0.015625)\"/>\n       </defs>\n       <use xlink:href=\"#DejaVuSans-33\"/>\n       <use x=\"63.623047\" xlink:href=\"#DejaVuSans-39\"/>\n       <use x=\"127.246094\" xlink:href=\"#DejaVuSans-30\"/>\n      </g>\n     </g>\n    </g>\n    <g id=\"ytick_7\">\n     <g id=\"line2d_15\">\n      <g>\n       <use style=\"stroke:#000000;stroke-width:0.8;\" x=\"57.6\" xlink:href=\"#m4d51c11822\" y=\"100.575176\"/>\n      </g>\n     </g>\n     <g id=\"text_16\">\n      <!-- 400 -->\n      <g transform=\"translate(31.5125 104.374395)scale(0.1 -0.1)\">\n       <use xlink:href=\"#DejaVuSans-34\"/>\n       <use x=\"63.623047\" xlink:href=\"#DejaVuSans-30\"/>\n       <use x=\"127.246094\" xlink:href=\"#DejaVuSans-30\"/>\n      </g>\n     </g>\n    </g>\n    <g id=\"ytick_8\">\n     <g id=\"line2d_16\">\n      <g>\n       <use style=\"stroke:#000000;stroke-width:0.8;\" x=\"57.6\" xlink:href=\"#m4d51c11822\" y=\"69.33803\"/>\n      </g>\n     </g>\n     <g id=\"text_17\">\n      <!-- 410 -->\n      <g transform=\"translate(31.5125 73.137249)scale(0.1 -0.1)\">\n       <use xlink:href=\"#DejaVuSans-34\"/>\n       <use x=\"63.623047\" xlink:href=\"#DejaVuSans-31\"/>\n       <use x=\"127.246094\" xlink:href=\"#DejaVuSans-30\"/>\n      </g>\n     </g>\n    </g>\n    <g id=\"text_18\">\n     <!-- Fitness -->\n     <g transform=\"translate(25.432812 191.845187)rotate(-90)scale(0.1 -0.1)\">\n      <defs>\n       <path d=\"M 628 4666 \nL 3309 4666 \nL 3309 4134 \nL 1259 4134 \nL 1259 2759 \nL 3109 2759 \nL 3109 2228 \nL 1259 2228 \nL 1259 0 \nL 628 0 \nL 628 4666 \nz\n\" id=\"DejaVuSans-46\" transform=\"scale(0.015625)\"/>\n      </defs>\n      <use xlink:href=\"#DejaVuSans-46\"/>\n      <use x=\"50.269531\" xlink:href=\"#DejaVuSans-69\"/>\n      <use x=\"78.052734\" xlink:href=\"#DejaVuSans-74\"/>\n      <use x=\"117.261719\" xlink:href=\"#DejaVuSans-6e\"/>\n      <use x=\"180.640625\" xlink:href=\"#DejaVuSans-65\"/>\n      <use x=\"242.164062\" xlink:href=\"#DejaVuSans-73\"/>\n      <use x=\"294.263672\" xlink:href=\"#DejaVuSans-73\"/>\n     </g>\n    </g>\n   </g>\n   <g id=\"line2d_17\">\n    <path clip-path=\"url(#pa530c35690)\" d=\"M 73.832727 105.699936 \nL 90.919809 105.699936 \nL 108.00689 105.699936 \nL 125.093971 105.699936 \nL 142.181053 105.699936 \nL 159.268134 105.699936 \nL 176.355215 103.21833 \nL 193.442297 103.21833 \nL 210.529378 100.18862 \nL 227.616459 100.18862 \nL 244.703541 100.18862 \nL 261.790622 100.18862 \nL 278.877703 92.173636 \nL 295.964785 64.197991 \nL 313.051866 60.335877 \nL 330.138947 59.110271 \nL 347.226029 53.568 \nL 364.31311 53.568 \nL 381.400191 53.568 \nL 398.487273 53.568 \n\" style=\"fill:none;stroke:#1f77b4;stroke-linecap:square;stroke-width:1.5;\"/>\n   </g>\n   <g id=\"line2d_18\">\n    <path clip-path=\"url(#pa530c35690)\" d=\"M 73.832727 290.247188 \nL 90.919809 290.184225 \nL 108.00689 291.921802 \nL 125.093971 295.488 \nL 142.181053 294.5354 \nL 159.268134 294.488198 \nL 176.355215 288.133872 \nL 193.442297 282.877098 \nL 210.529378 286.504726 \nL 227.616459 294.925631 \nL 244.703541 284.133262 \nL 261.790622 285.166761 \nL 278.877703 288.158834 \nL 295.964785 280.105867 \nL 313.051866 266.669403 \nL 330.138947 279.262463 \nL 347.226029 272.017156 \nL 364.31311 264.950312 \nL 381.400191 266.344322 \nL 398.487273 266.242151 \n\" style=\"fill:none;stroke:#ff7f0e;stroke-linecap:square;stroke-width:1.5;\"/>\n   </g>\n   <g id=\"patch_3\">\n    <path d=\"M 57.6 307.584 \nL 57.6 41.472 \n\" style=\"fill:none;stroke:#000000;stroke-linecap:square;stroke-linejoin:miter;stroke-width:0.8;\"/>\n   </g>\n   <g id=\"patch_4\">\n    <path d=\"M 414.72 307.584 \nL 414.72 41.472 \n\" style=\"fill:none;stroke:#000000;stroke-linecap:square;stroke-linejoin:miter;stroke-width:0.8;\"/>\n   </g>\n   <g id=\"patch_5\">\n    <path d=\"M 57.6 307.584 \nL 414.72 307.584 \n\" style=\"fill:none;stroke:#000000;stroke-linecap:square;stroke-linejoin:miter;stroke-width:0.8;\"/>\n   </g>\n   <g id=\"patch_6\">\n    <path d=\"M 57.6 41.472 \nL 414.72 41.472 \n\" style=\"fill:none;stroke:#000000;stroke-linecap:square;stroke-linejoin:miter;stroke-width:0.8;\"/>\n   </g>\n   <g id=\"legend_1\">\n    <g id=\"patch_7\">\n     <path d=\"M 64.6 78.82825 \nL 137.665625 78.82825 \nQ 139.665625 78.82825 139.665625 76.82825 \nL 139.665625 48.472 \nQ 139.665625 46.472 137.665625 46.472 \nL 64.6 46.472 \nQ 62.6 46.472 62.6 48.472 \nL 62.6 76.82825 \nQ 62.6 78.82825 64.6 78.82825 \nz\n\" style=\"fill:#ffffff;opacity:0.8;stroke:#cccccc;stroke-linejoin:miter;\"/>\n    </g>\n    <g id=\"line2d_19\">\n     <path d=\"M 66.6 54.570437 \nL 86.6 54.570437 \n\" style=\"fill:none;stroke:#1f77b4;stroke-linecap:square;stroke-width:1.5;\"/>\n    </g>\n    <g id=\"line2d_20\"/>\n    <g id=\"text_19\">\n     <!-- Best -->\n     <g transform=\"translate(94.6 58.070437)scale(0.1 -0.1)\">\n      <defs>\n       <path d=\"M 1259 2228 \nL 1259 519 \nL 2272 519 \nQ 2781 519 3026 730 \nQ 3272 941 3272 1375 \nQ 3272 1813 3026 2020 \nQ 2781 2228 2272 2228 \nL 1259 2228 \nz\nM 1259 4147 \nL 1259 2741 \nL 2194 2741 \nQ 2656 2741 2882 2914 \nQ 3109 3088 3109 3444 \nQ 3109 3797 2882 3972 \nQ 2656 4147 2194 4147 \nL 1259 4147 \nz\nM 628 4666 \nL 2241 4666 \nQ 2963 4666 3353 4366 \nQ 3744 4066 3744 3513 \nQ 3744 3084 3544 2831 \nQ 3344 2578 2956 2516 \nQ 3422 2416 3680 2098 \nQ 3938 1781 3938 1306 \nQ 3938 681 3513 340 \nQ 3088 0 2303 0 \nL 628 0 \nL 628 4666 \nz\n\" id=\"DejaVuSans-42\" transform=\"scale(0.015625)\"/>\n      </defs>\n      <use xlink:href=\"#DejaVuSans-42\"/>\n      <use x=\"68.603516\" xlink:href=\"#DejaVuSans-65\"/>\n      <use x=\"130.126953\" xlink:href=\"#DejaVuSans-73\"/>\n      <use x=\"182.226562\" xlink:href=\"#DejaVuSans-74\"/>\n     </g>\n    </g>\n    <g id=\"line2d_21\">\n     <path d=\"M 66.6 69.248562 \nL 86.6 69.248562 \n\" style=\"fill:none;stroke:#ff7f0e;stroke-linecap:square;stroke-width:1.5;\"/>\n    </g>\n    <g id=\"line2d_22\"/>\n    <g id=\"text_20\">\n     <!-- Average -->\n     <g transform=\"translate(94.6 72.748562)scale(0.1 -0.1)\">\n      <defs>\n       <path d=\"M 2188 4044 \nL 1331 1722 \nL 3047 1722 \nL 2188 4044 \nz\nM 1831 4666 \nL 2547 4666 \nL 4325 0 \nL 3669 0 \nL 3244 1197 \nL 1141 1197 \nL 716 0 \nL 50 0 \nL 1831 4666 \nz\n\" id=\"DejaVuSans-41\" transform=\"scale(0.015625)\"/>\n       <path d=\"M 191 3500 \nL 800 3500 \nL 1894 563 \nL 2988 3500 \nL 3597 3500 \nL 2284 0 \nL 1503 0 \nL 191 3500 \nz\n\" id=\"DejaVuSans-76\" transform=\"scale(0.015625)\"/>\n       <path d=\"M 2906 1791 \nQ 2906 2416 2648 2759 \nQ 2391 3103 1925 3103 \nQ 1463 3103 1205 2759 \nQ 947 2416 947 1791 \nQ 947 1169 1205 825 \nQ 1463 481 1925 481 \nQ 2391 481 2648 825 \nQ 2906 1169 2906 1791 \nz\nM 3481 434 \nQ 3481 -459 3084 -895 \nQ 2688 -1331 1869 -1331 \nQ 1566 -1331 1297 -1286 \nQ 1028 -1241 775 -1147 \nL 775 -588 \nQ 1028 -725 1275 -790 \nQ 1522 -856 1778 -856 \nQ 2344 -856 2625 -561 \nQ 2906 -266 2906 331 \nL 2906 616 \nQ 2728 306 2450 153 \nQ 2172 0 1784 0 \nQ 1141 0 747 490 \nQ 353 981 353 1791 \nQ 353 2603 747 3093 \nQ 1141 3584 1784 3584 \nQ 2172 3584 2450 3431 \nQ 2728 3278 2906 2969 \nL 2906 3500 \nL 3481 3500 \nL 3481 434 \nz\n\" id=\"DejaVuSans-67\" transform=\"scale(0.015625)\"/>\n      </defs>\n      <use xlink:href=\"#DejaVuSans-41\"/>\n      <use x=\"62.533203\" xlink:href=\"#DejaVuSans-76\"/>\n      <use x=\"121.712891\" xlink:href=\"#DejaVuSans-65\"/>\n      <use x=\"183.236328\" xlink:href=\"#DejaVuSans-72\"/>\n      <use x=\"224.349609\" xlink:href=\"#DejaVuSans-61\"/>\n      <use x=\"285.628906\" xlink:href=\"#DejaVuSans-67\"/>\n      <use x=\"349.105469\" xlink:href=\"#DejaVuSans-65\"/>\n     </g>\n    </g>\n   </g>\n  </g>\n </g>\n <defs>\n  <clipPath id=\"pa530c35690\">\n   <rect height=\"266.112\" width=\"357.12\" x=\"57.6\" y=\"41.472\"/>\n  </clipPath>\n </defs>\n</svg>\n"
      }
     },
     "bb30711c99d14c65a2464f5ebe3ece19": {
      "model_module": "@jupyter-widgets/controls",
      "model_module_version": "1.5.0",
      "model_name": "DescriptionStyleModel",
      "state": {
       "description_width": ""
      }
     },
     "bd7b14809c554d32ad3da11c59dcf4c5": {
      "model_module": "@jupyter-widgets/controls",
      "model_module_version": "1.5.0",
      "model_name": "DescriptionStyleModel",
      "state": {
       "description_width": ""
      }
     },
     "bdde6e30024f4cf4b62115985fc9103a": {
      "model_module": "@jupyter-widgets/base",
      "model_module_version": "1.2.0",
      "model_name": "LayoutModel",
      "state": {}
     },
     "d532fa01d9de4f3bbe7c194054a51b6c": {
      "model_module": "@jupyter-widgets/base",
      "model_module_version": "1.2.0",
      "model_name": "LayoutModel",
      "state": {}
     },
     "e8c86f8e7c004abd98d2e4e7bfdfaf97": {
      "model_module": "@jupyter-widgets/controls",
      "model_module_version": "1.5.0",
      "model_name": "ProgressStyleModel",
      "state": {
       "description_width": ""
      }
     },
     "e9e30dd81c3a461e8aee43f18c7d8a31": {
      "model_module": "@jupyter-widgets/base",
      "model_module_version": "1.2.0",
      "model_name": "LayoutModel",
      "state": {}
     },
     "ed6df7decd9c4fdfa82c2cf1f5bc0a98": {
      "model_module": "@jupyter-widgets/controls",
      "model_module_version": "1.5.0",
      "model_name": "HTMLModel",
      "state": {
       "layout": "IPY_MODEL_e9e30dd81c3a461e8aee43f18c7d8a31",
       "style": "IPY_MODEL_88493ea07c7840d78d7733bc83891785",
       "value": " 19/300 [05:23&lt;1:23:52, 17.91s/it]"
      }
     }
    },
    "version_major": 2,
    "version_minor": 0
   }
  }
 },
 "nbformat": 4,
 "nbformat_minor": 4
}
