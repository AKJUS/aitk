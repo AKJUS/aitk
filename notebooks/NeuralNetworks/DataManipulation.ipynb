{
  "cells": [
    {
      "cell_type": "markdown",
      "metadata": {
        "id": "CIWuXT1rbAAu"
      },
      "source": [
        "<a target=\"_blank\" href=\"https://colab.research.google.com/github/ArtificialIntelligenceToolkit/aitk/blob/master/notebooks/NeuralNetworks/DataManipulation.ipynb\"><img src=\"https://colab.research.google.com/assets/colab-badge.svg\" alt=\"Open In Colab\"/></a>"
      ]
    },
    {
      "cell_type": "markdown",
      "metadata": {
        "id": "oKKbI7kMvSok"
      },
      "source": [
        "# Data Manipulation\n",
        "In this notebook, we explore how the composition of the training set for neural networks can lead to biased outcomes. We explore this in a categorization task with two classes by manipulating the balance of training examples across these classes."
      ]
    },
    {
      "cell_type": "markdown",
      "metadata": {
        "id": "zhwI5C5VzKDa"
      },
      "source": [
        "Here we will install the relevant library in order for this notebook to run."
      ]
    },
    {
      "cell_type": "code",
      "execution_count": 1,
      "metadata": {
        "id": "79TEzrOUtBpl"
      },
      "outputs": [],
      "source": [
        "%pip install aitk --quiet"
      ]
    },
    {
      "cell_type": "markdown",
      "metadata": {
        "id": "8RdbSwNB1SIC"
      },
      "source": [
        "Running this next code block will allow us to import the additional libraries for this notebook."
      ]
    },
    {
      "cell_type": "code",
      "execution_count": 2,
      "metadata": {
        "id": "ssblrxpV9eVu"
      },
      "outputs": [],
      "source": [
        "from aitk.utils import gallery, array_to_image\n",
        "from aitk.networks import SimpleNetwork\n",
        "import tensorflow\n",
        "from tensorflow.keras.datasets import mnist\n",
        "import numpy as np\n",
        "from random import shuffle"
      ]
    },
    {
      "cell_type": "markdown",
      "metadata": {
        "id": "eGocrfH8L4OD"
      },
      "source": [
        "## Manipulating the Data\n",
        "In this section, we will perform some manipulations on a dataset in order to show how the composition of a dataset can affect the efficacy of a neural network."
      ]
    },
    {
      "cell_type": "markdown",
      "metadata": {
        "id": "53F-RO-vLY4T"
      },
      "source": [
        "To demonstrate dataset composition's relevance to network efficacy, we will use a part of the MNIST dataset. MNIST is a data set composed of hand-written digits. We will focus on two digits from this dataset in order to demonstrate how over representing one of these two digits will affect the network's ability to accurately distinguish between them. Initially we will try categorizing 3's vs 5's. The reason we chose 3 and 5 is that they have some similarities, such as a similar curve in their bottom halves.\n",
        "So distinguishing a 3 vs a 5 is more difficult than say a 3 vs a 1.\n",
        "\n",
        "We will start with an equal number of each digit, and then we will change the percentages of them in the dataset to explore how this imbalance impacts a network."
      ]
    },
    {
      "cell_type": "markdown",
      "metadata": {
        "id": "uJEQC2GJO_d7"
      },
      "source": [
        "This code block loads in the MNIST dataset."
      ]
    },
    {
      "cell_type": "code",
      "execution_count": 3,
      "metadata": {
        "id": "G9D1Spe3zPzH"
      },
      "outputs": [],
      "source": [
        "(train_x, train_y), (test_x, test_y) = mnist.load_data()"
      ]
    },
    {
      "cell_type": "markdown",
      "metadata": {
        "id": "6e1bDkc9PGuS"
      },
      "source": [
        "### Set the two digits to explore\n",
        "\n",
        "We will begin by focusing on categorizing 3's vs 5's. But later you may change the two digits you wish to categorize to something else, such as 3 vs 8 or 1 vs 7.\n"
      ]
    },
    {
      "cell_type": "code",
      "execution_count": 4,
      "metadata": {
        "id": "8-hb0GRHebdh"
      },
      "outputs": [],
      "source": [
        "digit1 = 3\n",
        "digit2 = 5"
      ]
    },
    {
      "cell_type": "markdown",
      "source": [
        "We begin by extracting just the two digits we want from the MNIST **training** data. We want to ensure that we start with an equal number of samples. We will gather 5000 samples of each."
      ],
      "metadata": {
        "id": "czlzg1hKdUxe"
      }
    },
    {
      "cell_type": "code",
      "execution_count": 5,
      "metadata": {
        "colab": {
          "base_uri": "https://localhost:8080/"
        },
        "id": "cpAk1htBuA_J",
        "outputId": "7335d123-a42a-4d86-f9d5-d50ebf1d47d9"
      },
      "outputs": [
        {
          "output_type": "stream",
          "name": "stdout",
          "text": [
            "number of 3's: 5000\n",
            "number of 5's: 5000\n"
          ]
        }
      ],
      "source": [
        "digit1_train_x = []\n",
        "digit1_train_y = []\n",
        "digit2_train_x = []\n",
        "digit2_train_y = []\n",
        "num_train_digit1 = 0\n",
        "num_train_digit2 = 0\n",
        "\n",
        "for i in range(len(train_x)):\n",
        "  if train_y[i] == digit1 and num_train_digit1 < 5000:\n",
        "    digit1_train_x.append(train_x[i])\n",
        "    digit1_train_y.append([1,0])\n",
        "    num_train_digit1 += 1\n",
        "  elif train_y[i] == digit2 and num_train_digit2 < 5000:\n",
        "    digit2_train_x.append(train_x[i])\n",
        "    digit2_train_y.append([0,1])\n",
        "    num_train_digit2 += 1\n",
        "\n",
        "print(\"number of %d's: %d\" % (digit1, len(digit1_train_x)))\n",
        "print(\"number of %d's: %d\" % (digit2, len(digit2_train_x)))"
      ]
    },
    {
      "cell_type": "markdown",
      "metadata": {
        "id": "QgZnzunCfg2P"
      },
      "source": [
        "We also need to extract just the two digits of interest from the **testing** data. We will gather 750 samples of each."
      ]
    },
    {
      "cell_type": "code",
      "execution_count": 6,
      "metadata": {
        "colab": {
          "base_uri": "https://localhost:8080/"
        },
        "id": "gR8upW9NC4kP",
        "outputId": "f98bf0e1-1a0e-476a-8497-7312414d5489"
      },
      "outputs": [
        {
          "output_type": "stream",
          "name": "stdout",
          "text": [
            "number of 3's: 750\n",
            "number of 5's: 750\n"
          ]
        }
      ],
      "source": [
        "new_test_x = []\n",
        "new_test_y = []\n",
        "num_digit1 = 0\n",
        "num_digit2 = 0\n",
        "\n",
        "for i in range(len(test_x)):\n",
        "  if test_y[i] == digit1 and num_digit1 < 750:\n",
        "    new_test_x.append(test_x[i])\n",
        "    new_test_y.append([1,0])\n",
        "    num_digit1 += 1\n",
        "  elif test_y[i] == digit2 and num_digit2 < 750:\n",
        "    new_test_x.append(test_x[i])\n",
        "    new_test_y.append([0,1])\n",
        "    num_digit2 += 1\n",
        "\n",
        "new_test_x = np.array(new_test_x)\n",
        "new_test_y = np.array(new_test_y)\n",
        "\n",
        "new_test_x_normalized = new_test_x/255\n",
        "\n",
        "print(\"number of %d's: %d\" % (digit1, num_digit1))\n",
        "print(\"number of %d's: %d\" % (digit2, num_digit2))"
      ]
    },
    {
      "cell_type": "markdown",
      "metadata": {
        "id": "_R8h4DaG5CZG"
      },
      "source": [
        "Now that we have all of the data, we can begin to manipulate the balance within it. The next function allows us to specify how to split up the data."
      ]
    },
    {
      "cell_type": "code",
      "execution_count": 7,
      "metadata": {
        "id": "BzAeR_EMwl_A"
      },
      "outputs": [],
      "source": [
        "def split_data(pct_digit1, pct_digit2):\n",
        "  assert pct_digit1+pct_digit2 == 1, \"percentages must sum to 1\"\n",
        "  num_digit1 = int(pct_digit1*(len(digit1_train_x)))\n",
        "  num_digit2 = int(pct_digit2*(len(digit2_train_x)))\n",
        "  shuffle(digit1_train_x)\n",
        "  shuffle(digit2_train_x)\n",
        "  print(\"%d train length: %d\" % (digit1, num_digit1))\n",
        "  print(\"%d train length: %d\" % (digit2, num_digit2))\n",
        "  inputs = digit1_train_x[:num_digit1] + digit2_train_x[:num_digit2]\n",
        "  targets = ([[1,0]]*num_digit1) + ([[0,1]]*num_digit2)\n",
        "  mix = list(zip(inputs, targets))\n",
        "  shuffle(mix)\n",
        "  inputs, targets = zip(*mix)\n",
        "\n",
        "  inputs = np.array(inputs)/255\n",
        "  targets = np.array(targets)\n",
        "\n",
        "  return inputs, targets\n"
      ]
    },
    {
      "cell_type": "markdown",
      "metadata": {
        "id": "nSSabDe77w55"
      },
      "source": [
        "### Set percentages of each digit in the training set\n",
        "\n",
        "Now, **enter the percentages for both digits** that you want in the dataset as a decimal. To begin, we will look at a balanced dataset that is split 50/50 (which should be entered as 0.5 for both digits below).\n",
        "\n",
        "After seeing how that works, change the percentages and rerun all the code blocks below to see how the network changes. For example you might want to try a 70/30 split (which should be entered as .7 and .3 below)."
      ]
    },
    {
      "cell_type": "code",
      "execution_count": 8,
      "metadata": {
        "id": "h3JoM5BJ4O77"
      },
      "outputs": [],
      "source": [
        "pct_digit1 = 0.5\n",
        "pct_digit2 = 0.5"
      ]
    },
    {
      "cell_type": "markdown",
      "metadata": {
        "id": "GMsOZm_P8V2a"
      },
      "source": [
        "Run the next code block to split up the data as you specified. Additionally, the quantities of each digit will be printed; verify that the numbers look correct given the percentages that you entered."
      ]
    },
    {
      "cell_type": "code",
      "execution_count": 9,
      "metadata": {
        "colab": {
          "base_uri": "https://localhost:8080/"
        },
        "id": "11CCyt921x9f",
        "outputId": "5b544537-2623-46e3-f504-9880233e3751"
      },
      "outputs": [
        {
          "output_type": "stream",
          "name": "stdout",
          "text": [
            "3 train length: 2500\n",
            "5 train length: 2500\n"
          ]
        }
      ],
      "source": [
        "inputs, targets = split_data(pct_digit1, pct_digit2)"
      ]
    },
    {
      "cell_type": "markdown",
      "metadata": {
        "id": "MBYsp30e8clA"
      },
      "source": [
        "Now, we can see what a sample of 10 images from the new dataset looks like. The number of examples of each digit will vary based on the percentages you inputted."
      ]
    },
    {
      "cell_type": "code",
      "execution_count": 10,
      "metadata": {
        "colab": {
          "base_uri": "https://localhost:8080/",
          "height": 233
        },
        "id": "MTUkPmHPTrkc",
        "outputId": "e6aa7a87-0569-4a2f-ef43-82e5d92ab3b1"
      },
      "outputs": [
        {
          "output_type": "display_data",
          "data": {
            "text/plain": [
              "<IPython.core.display.HTML object>"
            ],
            "text/html": [
              "<table><tr style=\"padding: 1px\"><td style=\"text-align: center; padding: 1px\">0<br/><img src=\"data:image/PNG;base64,iVBORw0KGgoAAAANSUhEUgAAABwAAAAcCAAAAABXZoBIAAAA/klEQVR4nGNgGHDAb9D/+u/f6128mFI8KRf//vnz58+fP+sZGBgYGFiQ5LjOKsOY3zA0lv358+fXs257Li4uFnQ5kWN//jzxxeGY+j9//ljgkLP48efPJUEckkv//PlqhirEhMy5fQqPpPqdO3f3u2Azdtnfv3///v3/9+8uKUxJr4t//vz58/fPnz9HYUKMCFkBhUyGixcqPRm+W11G1ccJU+X85893I1Q5nePzRRgYGBgYOGYjGYtQfzOIgYGBIf/Pnz/zYaLQEP77j0l5scEPhniV/wwH+9HdWvsbEpF//7w2wfTJikcQyWPWmHIMDHp9n//c7gvkwiZHRwAAMdlxKH8p6ksAAAAASUVORK5CYII=\" alt=\"0\" title=\"0\"></img></td><td style=\"text-align: center; padding: 1px\">1<br/><img src=\"data:image/PNG;base64,iVBORw0KGgoAAAANSUhEUgAAABwAAAAcCAAAAABXZoBIAAAA7klEQVR4nGNgoAOY/Pf/kwwW7HJFr/4cffWnAbvkyj/1DCv//MEuKSzDzFCOJIliwVsGBgZjRgbskgwMDAz//2+Fs5kwDb+F3U4GBgafz380cMnx/vv797QPdrmgc3//vPz2xQKLlMGCD3/+Vqqm/F2NKWf88c+fP36cDAx/j2BKpv77vtuegYHB/l8IFmNDHBkYGBgY9nx3RPMBgpnxrRNN7ifC8G9/7FElj/3lhTB4Z/39+wQuDAnbZ/8P9d9mYGBQy9f/vy4ezSmWZ//++fPn758/f87F8iKEoRHEW/9fzZvx2Yrzmz9j8cagAQCVjViOd1vm2wAAAABJRU5ErkJggg==\" alt=\"1\" title=\"1\"></img></td><td style=\"text-align: center; padding: 1px\">2<br/><img src=\"data:image/PNG;base64,iVBORw0KGgoAAAANSUhEUgAAABwAAAAcCAAAAABXZoBIAAAA7klEQVR4nGNgGLxAc+rz//////9fgEWu4NPfv18+9fdf/WmHIef99UVrJBMDA4PpZil0OanPv31xWjj17yGcckpvv8pjijJBKHmBvQ8xJVkg1Lff7uIvGRgYFNlD+b7PeoKm6PbfVAYGz1mf/v79+/80B5qk/d8PU8/+/bJIi4Vl2d8NaJIif/7+/blGk4GBgaH27y10yx13VLFBWGl/b+P0FYPU31eyKF5BBk4MXEI4JZUYvrzGKSnH8OkZDhsFGn//PYspLK/JwMBUdOvv/4dqmJJTvn398vXv34/zVbCZaLLi79+/izVw2Ec9AAD4W1ne1wqbKwAAAABJRU5ErkJggg==\" alt=\"2\" title=\"2\"></img></td><td style=\"text-align: center; padding: 1px\">3<br/><img src=\"data:image/PNG;base64,iVBORw0KGgoAAAANSUhEUgAAABwAAAAcCAAAAABXZoBIAAAA1ElEQVR4nGNgoDkQPvPv3/8ZvNgl2c+fO/f27xYcWgUZGAJ+f1DAbfazv65wNhOanC7/r7c4NXb8fYZLirv2348cXA5a+vdfFg453Sv//p2xxCFp+fPv338/t+AIBS2zzqO//+7ixOncxL9/LwnilK399z8IpyRzz79jUCZ6CDEwcFjj1MdgvO7vPwPsUlIz//375wLjsTAwMDBwBhgy/r+vyGikycn//2LzHlT11//++/v377+/f/+erUTyJSMDAwMDA3uClZEWw7E11xh243bNIAAA+vJL4PSPiJYAAAAASUVORK5CYII=\" alt=\"3\" title=\"3\"></img></td><td style=\"text-align: center; padding: 1px\">4<br/><img src=\"data:image/PNG;base64,iVBORw0KGgoAAAANSUhEUgAAABwAAAAcCAAAAABXZoBIAAAAzUlEQVR4nGNgGOxAN/zIIikomxEuqs2iZMXAEcLPwcAQvxhVg9LFX//+/fv379/zxUcXC6Lr/Mdw9RwDw/Wzu7HZ1flvCW6HuP17hluS9/VHBXQxJhjj805ed3RJhFcC194/ysDAcGzHAyzmNkG88m+/FhZJrWvPzkXo6WW+foBhNwJ0/+vAcBAcvMDiWjjgZ9iLW1IQQwQBpN7/c8Upt+ffOUxR9WopBgZt82v/vgZgSjr8eXnh4q9//67pYTOw6PS//6cXxklhk6MuAADt40lEig7FWAAAAABJRU5ErkJggg==\" alt=\"4\" title=\"4\"></img></td></tr><tr style=\"padding: 1px\"><td style=\"text-align: center; padding: 1px\">5<br/><img src=\"data:image/PNG;base64,iVBORw0KGgoAAAANSUhEUgAAABwAAAAcCAAAAABXZoBIAAAA7klEQVR4nGNgGGSAEc5i3+rU+pnh861SN8aDDujKev/+/fv37++vf//+3Q8VYoJLckH4HEjqEZIz4Kx31zBsz/n792/R+b8vpweZw4RY4JLaDAwMFsIM1wp/YHH39L8QcNAPj+Tf34qYDkK4kRFT8sZ9Boa3uw9jMZOBgYFB2cXFiIFj7d+/SpiuZbh7l4GB4cdjZAvQtDMy4zCXgYGBQeYvkrFwnfxaMNa1T+h2xrZwfD6ymeFyFwPD4Tfoxs2HBMCDv3/vq2PYZQELnz+5mA4R3fPi89+/f//+fY3sdATTxsIgcvadfefw+IU6AADV5We54n2uvgAAAABJRU5ErkJggg==\" alt=\"5\" title=\"5\"></img></td><td style=\"text-align: center; padding: 1px\">6<br/><img src=\"data:image/PNG;base64,iVBORw0KGgoAAAANSUhEUgAAABwAAAAcCAAAAABXZoBIAAAA+UlEQVR4nGNgGGSAEcEUa9t85yoDgzULA4OXvnrARRR14f/+fbl3796ff//+vVgnyMDAwMACl+NMYNitcZSBYeLP2wxnPqJZ0PvvnhAzDstVX//Lx+myB//m49IntOPfHTlc+jz/PVHFFIX686Dt+6MQ1v6pv9CUGHz/9+/fv0fnzl3/9+/TAkE0nZFmDFfOPnnDwKnuFGTxOO4wTnfn/JuKU46Bcf0fUwiLCVPy/zomXZySDG8YzNEkJdjgkuGM59CUl8xXgCo0eP1WGd2wZf9OVuoxMDCo3fhXgWETc9LNn18fPXr06e9cMWyeSJg378S/kwHYpKgJAIehWVl9o2aRAAAAAElFTkSuQmCC\" alt=\"6\" title=\"6\"></img></td><td style=\"text-align: center; padding: 1px\">7<br/><img src=\"data:image/PNG;base64,iVBORw0KGgoAAAANSUhEUgAAABwAAAAcCAAAAABXZoBIAAAA7UlEQVR4nGNgGJ7gcQgqnwmJzcscgyrJCGepZlqb3rj2di4DA8PTp6iSbMETRSAC/xn/33/IwMDA4P8Zps/mU0/mv3///v27+g8GBBlYoJJ26s89GBgYGBjqTjEwMDAwhCkw/ITbyMbA1PzvT9uJf21Y/VH5718HQ9+/w9i8wubIwDAVTT1cUs6F8dAbBgaGtdgkLRj+d31nYGC4i03yBMORfVjdwsDAwMAiLsjAwHz4XyNOFWx//vljM5aBgYGBgY+J4R9OySyGn59wGnv5Xz0OGXuB2j/fHbDLSd159PtPNy4z9Tae8cVpISYAABMFStDHa6MYAAAAAElFTkSuQmCC\" alt=\"7\" title=\"7\"></img></td><td style=\"text-align: center; padding: 1px\">8<br/><img src=\"data:image/PNG;base64,iVBORw0KGgoAAAANSUhEUgAAABwAAAAcCAAAAABXZoBIAAAAiklEQVR4nM2SQRaDQAhD0ee9jDfLzdCTxcXwLGB11UXZwR8gwJj9q4GuMEdjQZySJBYmiYwQXCq5tZRH6jLcfUuMvWdmkp5Uu1rLB7QUdpsw2bWFFmYpnSmaPOS33rWHqNnMDDa9CfkemIfHwpAd1hvCy80gSWPfIPuguL5BvvVHJleY7cdNwO/tBG0AbPESTWDsAAAAAElFTkSuQmCC\" alt=\"8\" title=\"8\"></img></td><td style=\"text-align: center; padding: 1px\">9<br/><img src=\"data:image/PNG;base64,iVBORw0KGgoAAAANSUhEUgAAABwAAAAcCAAAAABXZoBIAAAA8UlEQVR4nGNgGDggXP/v/79/76yxyeU8+vv11cvDX2Zj0/foyXwDBgaGDmySRm+0GRgYGKzeYpNkCGZgYGCIfv3WCpebgt7/i8fl3AP/3rgwo4qxwBgRtgyzPsswyB3GprPk6r+/3z9+/PlqmaYATIwRIW3FwGDKzs+f+f3puo6PuByW9eH/BXdckgxyVb8+SuCUZZj8dxJuScHLVxkYGBiYsEp+/4VbY9BJ7GHFKmLUcu3f382oYaXtzyBv7l9y6O/fv3//rUZxbO6rL39ff/z+9++/X1evdllyQUShYXv76z05ie8v+Na92ngKt1voAQD/mVxyaj9m1AAAAABJRU5ErkJggg==\" alt=\"9\" title=\"9\"></img></td></tr><tr style=\"padding: 1px\"><td style=\"text-align: center; padding: 1px\">10<br/><img src=\"data:image/PNG;base64,iVBORw0KGgoAAAANSUhEUgAAABwAAAAcCAAAAABXZoBIAAAA0klEQVR4nGNgGEqAEV2AU4SBIYJ91issasNbz//79+/fvze7SzHkPH78g4FnDAwMLCiSNmwMDK/nMHz+GWS6AkNn8b9//y4xMDAwMJhhyKn//vfvZhx2l7Me+/dvHx92OQbTf//++SMLMCGxHz1nYAjCoZGBYcm/f789cEmyn/r3byMOYxl+vsBpKAODzbt/P5wxRFsKGRgYGKLe//s3BVPL/w8O6qGn//77N58VUxIa2J+qJbFYdvDfv3///q0QQBOGRLaQlSHD9xVP/+NxLL0AANXMWCPgfsxEAAAAAElFTkSuQmCC\" alt=\"10\" title=\"10\"></img></td><td style=\"text-align: center; padding: 1px\">11<br/><img src=\"data:image/PNG;base64,iVBORw0KGgoAAAANSUhEUgAAABwAAAAcCAAAAABXZoBIAAAA7klEQVR4nGNgGGSAEYUn78agySkSzLgv9B2qMil9pxM3/kKBLqqc+Nm/CLBPGEVu8g+E1LM5LChyBb8Rckv10Nzl/Ovvxq8QuS/2cFEmCLXXd/INdgiTI9MR01PVL2DmvgnD9KdmEAMDA4NyPAPDn+AtmJoZGBgY2MQa/v6diGInAvx69QXdQcQC1pl/vwmiiHB6TIDJ1f7924ciJ3b4L0SSu2Tm378PjVAkQ/+u42RgYFC0W/v379+Hxqj2nPi7mIODo/Li379//75D1cfAcAIR7HMN0F3oBZF4eHynLhuG84X3/P3792QyhibaAADr44smBYIEigAAAABJRU5ErkJggg==\" alt=\"11\" title=\"11\"></img></td><td style=\"text-align: center; padding: 1px\">12<br/><img src=\"data:image/PNG;base64,iVBORw0KGgoAAAANSUhEUgAAABwAAAAcCAAAAABXZoBIAAAA30lEQVR4nGNgGDaAEZVrJSXDwBCiz8DwN+AAqoyKZ+iNX/+gYBsDAwMLktw22f1qEOaxG0z3UIw9qSjCsJiR4elMBgaGt58Z+T8gtKmd//3vkZ0MdofFf/33byW6IBOU1uZkYHBZ7GmGVadU979///79+7BMGJs/pdUYdMIEtRguvWs8iN1mUfe0q/82YZdjYGBgMP3/2QHdQTAgJ/+fOw7VziQnBoauz/kr+GNdxBiu+d5HUb/oAzRE///798YH3SbDhZ///fv379/71z0KWLyi58jAwMCw+hlupw4CAABdYVLuGGDLTAAAAABJRU5ErkJggg==\" alt=\"12\" title=\"12\"></img></td><td style=\"text-align: center; padding: 1px\">13<br/><img src=\"data:image/PNG;base64,iVBORw0KGgoAAAANSUhEUgAAABwAAAAcCAAAAABXZoBIAAAA4ElEQVR4nMWRsQ4BQRRFr41ESaKgYgqJdnUKke2U+AF8gU7hA3Si0GkU+v0ExNaiobSRiEpEFBLFzcsqlhA7qxO3mnln3rv3ZYD/Ke14I7vV0kOLQpLziooGoVoKSQrZ1rQmpycfXl0rEcQVm/5sKeutS+OViOeGpR6Qcm36l49spp0BEMtq2oqTI0nKLh5ktcsjUDfIlIh4IrLQZVEk5batp0Jh/71ivI6HIYC90vUBMHsULpOvgr+ncjtnABHDQMGpbjV2j1/hRuf5VP4DHnKzkBwAgHTjOXbd+Pbu57oDyUZ5YLf9a8QAAAAASUVORK5CYII=\" alt=\"13\" title=\"13\"></img></td><td style=\"text-align: center; padding: 1px\">14<br/><img src=\"data:image/PNG;base64,iVBORw0KGgoAAAANSUhEUgAAABwAAAAcCAAAAABXZoBIAAAA50lEQVR4nGNgGMzAK+1zFy45lw///r3WV8IuGfbv379//x5i1/z2HwT8KMXUnf373ysv7xuPnv/7d+OQMgMDAwMLQi6BmWHiNoatCrzuDAwMn1D0KVz7928tO3bHCJ//9++fK5ogE4SS3KGPXRMDAwOD4r1///79u+OH3Vzdx8+//Pv3r1MMh26PH//+/XuOy2yZQ//+/XmI7ioYsFvy99+/5064NNff+ffvmwM2Ga+bnWz6//79e+uGRVL+8v8awZQ3//4dwKY1+xQkWrBKMkjsfvfv379/83G4yG39v3/b+XG5lzoAAIfsbOMFu5J0AAAAAElFTkSuQmCC\" alt=\"14\" title=\"14\"></img></td></tr><tr style=\"padding: 1px\"><td style=\"text-align: center; padding: 1px\">15<br/><img src=\"data:image/PNG;base64,iVBORw0KGgoAAAANSUhEUgAAABwAAAAcCAAAAABXZoBIAAABCElEQVR4nGNgoD9ghLN4xFy0GPjjlz5u+4Khin/L379///77+/fvUkwjJv+FSR7DlJR/+PfX87baO1gleS8/LmFgUELRyQJjaHM732JQr2BgYLiJqZOVj4Gd5+q/v39/hGDzVd/1v3///f07QQCLnNMPqGsve2NKRsK88vc0F1QIEUIMaZyKvmzSDAwMDBKvsFnLwO076e/fvw0YVjpCaNuff/9+QpOL+vWrA8L6jCkJFxL7hpBkgtK3YKpK2BE6YMG32YCB68UFA8b/QgwMDOhBz3ni79+/f//+//v37993QmjGfr/HwMDAwPCfgYHhfeg7qCA8EMQMPRgYDOz/X9089Rm6N+kJALEqfdsrzQ5SAAAAAElFTkSuQmCC\" alt=\"15\" title=\"15\"></img></td><td style=\"text-align: center; padding: 1px\">16<br/><img src=\"data:image/PNG;base64,iVBORw0KGgoAAAANSUhEUgAAABwAAAAcCAAAAABXZoBIAAAA9UlEQVR4nGNgoD9gRGKnSDIwRGkwfHI6i6Es5MefvxDwawVUiAUu6cLKwMCw4SEDXyKznzG6XnZhYWFhNgYG5sV//5bickXgl7/7ebBLCW7+9PdvHnY5u21//36ZJ4jhFedycQYGBR6Gc5eSMfRs/Abxxz1hhBgTXPIvhBYLRUgijDXnYmBgiPUV+lE0E5dHgv/+fYxLjoHv8N+vHhh2QsGvzwwcCrgk1dwZ/n5CEQmfky4NjQEbDDt//P37t4SPgYGBIffe3999qJIrvv39+/dGBp9+//2/fyehu9F41XdoTP+cr4XFDznVi//+/TtfDYsUXQEA4x1imGGEb40AAAAASUVORK5CYII=\" alt=\"16\" title=\"16\"></img></td><td style=\"text-align: center; padding: 1px\">17<br/><img src=\"data:image/PNG;base64,iVBORw0KGgoAAAANSUhEUgAAABwAAAAcCAAAAABXZoBIAAAAyUlEQVR4nGNgGPzA6Ns0nHI6j/65Q5ksCNEDctOfvmK0KeHM34mpZfO/f//+/fv3roudAVMnA8PTNdKcN3pfMGCRZGRwuo1qFhOC+Z/hlaw2Lmc++bfu268TxozY5Kz+//v37d7/fzXcWCR7/72pl+SMuf2vDotk5BppBgYGhqS/H0VxWczAsOmfHBbXQsEnBBNTkg+3oQwqPz7A7cTQ6ce25jUujUp3/nlil+HnD3rw7yp2n+j/+vfv3xUp7Bol19/f7IXPsVQCABT7Qzazpz+nAAAAAElFTkSuQmCC\" alt=\"17\" title=\"17\"></img></td><td style=\"text-align: center; padding: 1px\">18<br/><img src=\"data:image/PNG;base64,iVBORw0KGgoAAAANSUhEUgAAABwAAAAcCAAAAABXZoBIAAAAyUlEQVR4nGNgGEqAEauooZdmDHb1QtFXvv79i1WKtffL379/sUoymt34+/fv38/najDlBBv+/v3793GJLhZ98if+/v37dz4XFimF/A9///69FMuORU7u99+/f38HMiMJMcFZX54wMDAwqf3D6gcGhakH//79W4cuzAIzy/r533foxu7QhPKes6FqYmBgYHC2fffvEy+zule0AMNRdGPv//374+L3v3///v27mQddUun0Xwi4nciBLA6JMmZbA+NzH7kvH8LhkSEBAB+GVMnkfvkEAAAAAElFTkSuQmCC\" alt=\"18\" title=\"18\"></img></td><td style=\"text-align: center; padding: 1px\">19<br/><img src=\"data:image/PNG;base64,iVBORw0KGgoAAAANSUhEUgAAABwAAAAcCAAAAABXZoBIAAAAyklEQVR4nGNgGHjA57JHA4eU2PS7/76E4pA0/vfvGk5Dd/z7FIVLzunvbzlccoo3/u1CEWBCYmerMezfudMOq0b70//+/fv376sONsmd//7/+zv/w79GLHJCj/79+xrMMOffVCySbId/tmswMHj9e4rLwQwMXHcRkkzokmyKDLglGRjw6DRk2I5FkkuMgYGBgaGS4SEWl1z/KM3AwDz/TwczFsln/6Yp5R/491kMixyDx6e/P//9O+WAJMSIYGq4Bd25tvg1No10BABYS0ZW9gdyDgAAAABJRU5ErkJggg==\" alt=\"19\" title=\"19\"></img></td></tr></table>"
            ]
          },
          "metadata": {}
        }
      ],
      "source": [
        "images = [array_to_image(inputs[i]) for i in range(20)]\n",
        "gallery(images)"
      ]
    },
    {
      "cell_type": "markdown",
      "metadata": {
        "id": "eBcWmdw-ZzHF"
      },
      "source": [
        "Here we create the neural network. We will utilize a simple network which first flattens the two-dimensional input, passes it through two hidden layers, and then on to the output layer of size 2."
      ]
    },
    {
      "cell_type": "code",
      "execution_count": 11,
      "metadata": {
        "id": "ZYhRl_wAPRQr"
      },
      "outputs": [],
      "source": [
        "net = SimpleNetwork((28, 28), \"Flatten\", 25, 10, (2, \"softmax\"))"
      ]
    },
    {
      "cell_type": "markdown",
      "metadata": {
        "id": "EhaHl4jNaptW"
      },
      "source": [
        "Summarizing the network allows us to make sure it looks as it is expected. The total number of parameters gives you a good sense of the size of the network. Ours is less than 20 thousand, which is quite small by modern standards."
      ]
    },
    {
      "cell_type": "code",
      "execution_count": 12,
      "metadata": {
        "colab": {
          "base_uri": "https://localhost:8080/"
        },
        "id": "0T6j_nRrP6Xd",
        "outputId": "03cb33af-0987-44c7-f1ec-dea0c184b99f"
      },
      "outputs": [
        {
          "output_type": "stream",
          "name": "stdout",
          "text": [
            "Model: \"SimpleNetwork\"\n",
            "_________________________________________________________________\n",
            " Layer (type)                Output Shape              Param #   \n",
            "=================================================================\n",
            " input (InputLayer)          [(None, 28, 28)]          0         \n",
            "                                                                 \n",
            " flatten (Flatten)           (None, 784)               0         \n",
            "                                                                 \n",
            " hidden_2 (Dense)            (None, 25)                19625     \n",
            "                                                                 \n",
            " hidden_3 (Dense)            (None, 10)                260       \n",
            "                                                                 \n",
            " output (Dense)              (None, 2)                 22        \n",
            "                                                                 \n",
            "=================================================================\n",
            "Total params: 19907 (77.76 KB)\n",
            "Trainable params: 19907 (77.76 KB)\n",
            "Non-trainable params: 0 (0.00 Byte)\n",
            "_________________________________________________________________\n"
          ]
        }
      ],
      "source": [
        "net.summary()"
      ]
    },
    {
      "cell_type": "markdown",
      "metadata": {
        "id": "PHHfikpM4jAv"
      },
      "source": [
        "This is a fairly simple task for the network so it only needs 10 epochs of training to achieve relatively high accuracy (each **epoch** is one pass through the training data)."
      ]
    },
    {
      "cell_type": "code",
      "execution_count": 13,
      "metadata": {
        "colab": {
          "base_uri": "https://localhost:8080/",
          "height": 423
        },
        "id": "djrFqGdI0DG9",
        "outputId": "e03ef797-c7cf-4d22-9821-45a199ff0f73"
      },
      "outputs": [
        {
          "output_type": "display_data",
          "data": {
            "text/plain": [
              "<IPython.core.display.HTML object>"
            ],
            "text/html": [
              "<?xml version=\"1.0\" encoding=\"utf-8\" standalone=\"no\"?>\n",
              "<!DOCTYPE svg PUBLIC \"-//W3C//DTD SVG 1.1//EN\"\n",
              "  \"http://www.w3.org/Graphics/SVG/1.1/DTD/svg11.dtd\">\n",
              "<svg xmlns:xlink=\"http://www.w3.org/1999/xlink\" width=\"720pt\" height=\"288pt\" viewBox=\"0 0 720 288\" xmlns=\"http://www.w3.org/2000/svg\" version=\"1.1\">\n",
              " <metadata>\n",
              "  <rdf:RDF xmlns:dc=\"http://purl.org/dc/elements/1.1/\" xmlns:cc=\"http://creativecommons.org/ns#\" xmlns:rdf=\"http://www.w3.org/1999/02/22-rdf-syntax-ns#\">\n",
              "   <cc:Work>\n",
              "    <dc:type rdf:resource=\"http://purl.org/dc/dcmitype/StillImage\"/>\n",
              "    <dc:date>2024-09-25T19:37:46.024878</dc:date>\n",
              "    <dc:format>image/svg+xml</dc:format>\n",
              "    <dc:creator>\n",
              "     <cc:Agent>\n",
              "      <dc:title>Matplotlib v3.7.1, https://matplotlib.org/</dc:title>\n",
              "     </cc:Agent>\n",
              "    </dc:creator>\n",
              "   </cc:Work>\n",
              "  </rdf:RDF>\n",
              " </metadata>\n",
              " <defs>\n",
              "  <style type=\"text/css\">*{stroke-linejoin: round; stroke-linecap: butt}</style>\n",
              " </defs>\n",
              " <g id=\"figure_1\">\n",
              "  <g id=\"patch_1\">\n",
              "   <path d=\"M 0 288 \n",
              "L 720 288 \n",
              "L 720 0 \n",
              "L 0 0 \n",
              "z\n",
              "\" style=\"fill: #ffffff\"/>\n",
              "  </g>\n",
              "  <g id=\"axes_1\">\n",
              "   <g id=\"patch_2\">\n",
              "    <path d=\"M 90 256.32 \n",
              "L 343.636364 256.32 \n",
              "L 343.636364 34.56 \n",
              "L 90 34.56 \n",
              "z\n",
              "\" style=\"fill: #ffffff\"/>\n",
              "   </g>\n",
              "   <g id=\"matplotlib.axis_1\">\n",
              "    <g id=\"xtick_1\">\n",
              "     <g id=\"line2d_1\">\n",
              "      <defs>\n",
              "       <path id=\"md9e51f3966\" d=\"M 0 0 \n",
              "L 0 3.5 \n",
              "\" style=\"stroke: #000000; stroke-width: 0.8\"/>\n",
              "      </defs>\n",
              "      <g>\n",
              "       <use xlink:href=\"#md9e51f3966\" x=\"127.14876\" y=\"256.32\" style=\"stroke: #000000; stroke-width: 0.8\"/>\n",
              "      </g>\n",
              "     </g>\n",
              "     <g id=\"text_1\">\n",
              "      <!-- 2 -->\n",
              "      <g transform=\"translate(123.96751 270.918437) scale(0.1 -0.1)\">\n",
              "       <defs>\n",
              "        <path id=\"DejaVuSans-32\" d=\"M 1228 531 \n",
              "L 3431 531 \n",
              "L 3431 0 \n",
              "L 469 0 \n",
              "L 469 531 \n",
              "Q 828 903 1448 1529 \n",
              "Q 2069 2156 2228 2338 \n",
              "Q 2531 2678 2651 2914 \n",
              "Q 2772 3150 2772 3378 \n",
              "Q 2772 3750 2511 3984 \n",
              "Q 2250 4219 1831 4219 \n",
              "Q 1534 4219 1204 4116 \n",
              "Q 875 4013 500 3803 \n",
              "L 500 4441 \n",
              "Q 881 4594 1212 4672 \n",
              "Q 1544 4750 1819 4750 \n",
              "Q 2544 4750 2975 4387 \n",
              "Q 3406 4025 3406 3419 \n",
              "Q 3406 3131 3298 2873 \n",
              "Q 3191 2616 2906 2266 \n",
              "Q 2828 2175 2409 1742 \n",
              "Q 1991 1309 1228 531 \n",
              "z\n",
              "\" transform=\"scale(0.015625)\"/>\n",
              "       </defs>\n",
              "       <use xlink:href=\"#DejaVuSans-32\"/>\n",
              "      </g>\n",
              "     </g>\n",
              "    </g>\n",
              "    <g id=\"xtick_2\">\n",
              "     <g id=\"line2d_2\">\n",
              "      <g>\n",
              "       <use xlink:href=\"#md9e51f3966\" x=\"178.38843\" y=\"256.32\" style=\"stroke: #000000; stroke-width: 0.8\"/>\n",
              "      </g>\n",
              "     </g>\n",
              "     <g id=\"text_2\">\n",
              "      <!-- 4 -->\n",
              "      <g transform=\"translate(175.20718 270.918437) scale(0.1 -0.1)\">\n",
              "       <defs>\n",
              "        <path id=\"DejaVuSans-34\" d=\"M 2419 4116 \n",
              "L 825 1625 \n",
              "L 2419 1625 \n",
              "L 2419 4116 \n",
              "z\n",
              "M 2253 4666 \n",
              "L 3047 4666 \n",
              "L 3047 1625 \n",
              "L 3713 1625 \n",
              "L 3713 1100 \n",
              "L 3047 1100 \n",
              "L 3047 0 \n",
              "L 2419 0 \n",
              "L 2419 1100 \n",
              "L 313 1100 \n",
              "L 313 1709 \n",
              "L 2253 4666 \n",
              "z\n",
              "\" transform=\"scale(0.015625)\"/>\n",
              "       </defs>\n",
              "       <use xlink:href=\"#DejaVuSans-34\"/>\n",
              "      </g>\n",
              "     </g>\n",
              "    </g>\n",
              "    <g id=\"xtick_3\">\n",
              "     <g id=\"line2d_3\">\n",
              "      <g>\n",
              "       <use xlink:href=\"#md9e51f3966\" x=\"229.628099\" y=\"256.32\" style=\"stroke: #000000; stroke-width: 0.8\"/>\n",
              "      </g>\n",
              "     </g>\n",
              "     <g id=\"text_3\">\n",
              "      <!-- 6 -->\n",
              "      <g transform=\"translate(226.446849 270.918437) scale(0.1 -0.1)\">\n",
              "       <defs>\n",
              "        <path id=\"DejaVuSans-36\" d=\"M 2113 2584 \n",
              "Q 1688 2584 1439 2293 \n",
              "Q 1191 2003 1191 1497 \n",
              "Q 1191 994 1439 701 \n",
              "Q 1688 409 2113 409 \n",
              "Q 2538 409 2786 701 \n",
              "Q 3034 994 3034 1497 \n",
              "Q 3034 2003 2786 2293 \n",
              "Q 2538 2584 2113 2584 \n",
              "z\n",
              "M 3366 4563 \n",
              "L 3366 3988 \n",
              "Q 3128 4100 2886 4159 \n",
              "Q 2644 4219 2406 4219 \n",
              "Q 1781 4219 1451 3797 \n",
              "Q 1122 3375 1075 2522 \n",
              "Q 1259 2794 1537 2939 \n",
              "Q 1816 3084 2150 3084 \n",
              "Q 2853 3084 3261 2657 \n",
              "Q 3669 2231 3669 1497 \n",
              "Q 3669 778 3244 343 \n",
              "Q 2819 -91 2113 -91 \n",
              "Q 1303 -91 875 529 \n",
              "Q 447 1150 447 2328 \n",
              "Q 447 3434 972 4092 \n",
              "Q 1497 4750 2381 4750 \n",
              "Q 2619 4750 2861 4703 \n",
              "Q 3103 4656 3366 4563 \n",
              "z\n",
              "\" transform=\"scale(0.015625)\"/>\n",
              "       </defs>\n",
              "       <use xlink:href=\"#DejaVuSans-36\"/>\n",
              "      </g>\n",
              "     </g>\n",
              "    </g>\n",
              "    <g id=\"xtick_4\">\n",
              "     <g id=\"line2d_4\">\n",
              "      <g>\n",
              "       <use xlink:href=\"#md9e51f3966\" x=\"280.867769\" y=\"256.32\" style=\"stroke: #000000; stroke-width: 0.8\"/>\n",
              "      </g>\n",
              "     </g>\n",
              "     <g id=\"text_4\">\n",
              "      <!-- 8 -->\n",
              "      <g transform=\"translate(277.686519 270.918437) scale(0.1 -0.1)\">\n",
              "       <defs>\n",
              "        <path id=\"DejaVuSans-38\" d=\"M 2034 2216 \n",
              "Q 1584 2216 1326 1975 \n",
              "Q 1069 1734 1069 1313 \n",
              "Q 1069 891 1326 650 \n",
              "Q 1584 409 2034 409 \n",
              "Q 2484 409 2743 651 \n",
              "Q 3003 894 3003 1313 \n",
              "Q 3003 1734 2745 1975 \n",
              "Q 2488 2216 2034 2216 \n",
              "z\n",
              "M 1403 2484 \n",
              "Q 997 2584 770 2862 \n",
              "Q 544 3141 544 3541 \n",
              "Q 544 4100 942 4425 \n",
              "Q 1341 4750 2034 4750 \n",
              "Q 2731 4750 3128 4425 \n",
              "Q 3525 4100 3525 3541 \n",
              "Q 3525 3141 3298 2862 \n",
              "Q 3072 2584 2669 2484 \n",
              "Q 3125 2378 3379 2068 \n",
              "Q 3634 1759 3634 1313 \n",
              "Q 3634 634 3220 271 \n",
              "Q 2806 -91 2034 -91 \n",
              "Q 1263 -91 848 271 \n",
              "Q 434 634 434 1313 \n",
              "Q 434 1759 690 2068 \n",
              "Q 947 2378 1403 2484 \n",
              "z\n",
              "M 1172 3481 \n",
              "Q 1172 3119 1398 2916 \n",
              "Q 1625 2713 2034 2713 \n",
              "Q 2441 2713 2670 2916 \n",
              "Q 2900 3119 2900 3481 \n",
              "Q 2900 3844 2670 4047 \n",
              "Q 2441 4250 2034 4250 \n",
              "Q 1625 4250 1398 4047 \n",
              "Q 1172 3844 1172 3481 \n",
              "z\n",
              "\" transform=\"scale(0.015625)\"/>\n",
              "       </defs>\n",
              "       <use xlink:href=\"#DejaVuSans-38\"/>\n",
              "      </g>\n",
              "     </g>\n",
              "    </g>\n",
              "    <g id=\"xtick_5\">\n",
              "     <g id=\"line2d_5\">\n",
              "      <g>\n",
              "       <use xlink:href=\"#md9e51f3966\" x=\"332.107438\" y=\"256.32\" style=\"stroke: #000000; stroke-width: 0.8\"/>\n",
              "      </g>\n",
              "     </g>\n",
              "     <g id=\"text_5\">\n",
              "      <!-- 10 -->\n",
              "      <g transform=\"translate(325.744938 270.918437) scale(0.1 -0.1)\">\n",
              "       <defs>\n",
              "        <path id=\"DejaVuSans-31\" d=\"M 794 531 \n",
              "L 1825 531 \n",
              "L 1825 4091 \n",
              "L 703 3866 \n",
              "L 703 4441 \n",
              "L 1819 4666 \n",
              "L 2450 4666 \n",
              "L 2450 531 \n",
              "L 3481 531 \n",
              "L 3481 0 \n",
              "L 794 0 \n",
              "L 794 531 \n",
              "z\n",
              "\" transform=\"scale(0.015625)\"/>\n",
              "        <path id=\"DejaVuSans-30\" d=\"M 2034 4250 \n",
              "Q 1547 4250 1301 3770 \n",
              "Q 1056 3291 1056 2328 \n",
              "Q 1056 1369 1301 889 \n",
              "Q 1547 409 2034 409 \n",
              "Q 2525 409 2770 889 \n",
              "Q 3016 1369 3016 2328 \n",
              "Q 3016 3291 2770 3770 \n",
              "Q 2525 4250 2034 4250 \n",
              "z\n",
              "M 2034 4750 \n",
              "Q 2819 4750 3233 4129 \n",
              "Q 3647 3509 3647 2328 \n",
              "Q 3647 1150 3233 529 \n",
              "Q 2819 -91 2034 -91 \n",
              "Q 1250 -91 836 529 \n",
              "Q 422 1150 422 2328 \n",
              "Q 422 3509 836 4129 \n",
              "Q 1250 4750 2034 4750 \n",
              "z\n",
              "\" transform=\"scale(0.015625)\"/>\n",
              "       </defs>\n",
              "       <use xlink:href=\"#DejaVuSans-31\"/>\n",
              "       <use xlink:href=\"#DejaVuSans-30\" x=\"63.623047\"/>\n",
              "      </g>\n",
              "     </g>\n",
              "    </g>\n",
              "    <g id=\"text_6\">\n",
              "     <!-- Epoch -->\n",
              "     <g transform=\"translate(201.507244 284.596563) scale(0.1 -0.1)\">\n",
              "      <defs>\n",
              "       <path id=\"DejaVuSans-45\" d=\"M 628 4666 \n",
              "L 3578 4666 \n",
              "L 3578 4134 \n",
              "L 1259 4134 \n",
              "L 1259 2753 \n",
              "L 3481 2753 \n",
              "L 3481 2222 \n",
              "L 1259 2222 \n",
              "L 1259 531 \n",
              "L 3634 531 \n",
              "L 3634 0 \n",
              "L 628 0 \n",
              "L 628 4666 \n",
              "z\n",
              "\" transform=\"scale(0.015625)\"/>\n",
              "       <path id=\"DejaVuSans-70\" d=\"M 1159 525 \n",
              "L 1159 -1331 \n",
              "L 581 -1331 \n",
              "L 581 3500 \n",
              "L 1159 3500 \n",
              "L 1159 2969 \n",
              "Q 1341 3281 1617 3432 \n",
              "Q 1894 3584 2278 3584 \n",
              "Q 2916 3584 3314 3078 \n",
              "Q 3713 2572 3713 1747 \n",
              "Q 3713 922 3314 415 \n",
              "Q 2916 -91 2278 -91 \n",
              "Q 1894 -91 1617 61 \n",
              "Q 1341 213 1159 525 \n",
              "z\n",
              "M 3116 1747 \n",
              "Q 3116 2381 2855 2742 \n",
              "Q 2594 3103 2138 3103 \n",
              "Q 1681 3103 1420 2742 \n",
              "Q 1159 2381 1159 1747 \n",
              "Q 1159 1113 1420 752 \n",
              "Q 1681 391 2138 391 \n",
              "Q 2594 391 2855 752 \n",
              "Q 3116 1113 3116 1747 \n",
              "z\n",
              "\" transform=\"scale(0.015625)\"/>\n",
              "       <path id=\"DejaVuSans-6f\" d=\"M 1959 3097 \n",
              "Q 1497 3097 1228 2736 \n",
              "Q 959 2375 959 1747 \n",
              "Q 959 1119 1226 758 \n",
              "Q 1494 397 1959 397 \n",
              "Q 2419 397 2687 759 \n",
              "Q 2956 1122 2956 1747 \n",
              "Q 2956 2369 2687 2733 \n",
              "Q 2419 3097 1959 3097 \n",
              "z\n",
              "M 1959 3584 \n",
              "Q 2709 3584 3137 3096 \n",
              "Q 3566 2609 3566 1747 \n",
              "Q 3566 888 3137 398 \n",
              "Q 2709 -91 1959 -91 \n",
              "Q 1206 -91 779 398 \n",
              "Q 353 888 353 1747 \n",
              "Q 353 2609 779 3096 \n",
              "Q 1206 3584 1959 3584 \n",
              "z\n",
              "\" transform=\"scale(0.015625)\"/>\n",
              "       <path id=\"DejaVuSans-63\" d=\"M 3122 3366 \n",
              "L 3122 2828 \n",
              "Q 2878 2963 2633 3030 \n",
              "Q 2388 3097 2138 3097 \n",
              "Q 1578 3097 1268 2742 \n",
              "Q 959 2388 959 1747 \n",
              "Q 959 1106 1268 751 \n",
              "Q 1578 397 2138 397 \n",
              "Q 2388 397 2633 464 \n",
              "Q 2878 531 3122 666 \n",
              "L 3122 134 \n",
              "Q 2881 22 2623 -34 \n",
              "Q 2366 -91 2075 -91 \n",
              "Q 1284 -91 818 406 \n",
              "Q 353 903 353 1747 \n",
              "Q 353 2603 823 3093 \n",
              "Q 1294 3584 2113 3584 \n",
              "Q 2378 3584 2631 3529 \n",
              "Q 2884 3475 3122 3366 \n",
              "z\n",
              "\" transform=\"scale(0.015625)\"/>\n",
              "       <path id=\"DejaVuSans-68\" d=\"M 3513 2113 \n",
              "L 3513 0 \n",
              "L 2938 0 \n",
              "L 2938 2094 \n",
              "Q 2938 2591 2744 2837 \n",
              "Q 2550 3084 2163 3084 \n",
              "Q 1697 3084 1428 2787 \n",
              "Q 1159 2491 1159 1978 \n",
              "L 1159 0 \n",
              "L 581 0 \n",
              "L 581 4863 \n",
              "L 1159 4863 \n",
              "L 1159 2956 \n",
              "Q 1366 3272 1645 3428 \n",
              "Q 1925 3584 2291 3584 \n",
              "Q 2894 3584 3203 3211 \n",
              "Q 3513 2838 3513 2113 \n",
              "z\n",
              "\" transform=\"scale(0.015625)\"/>\n",
              "      </defs>\n",
              "      <use xlink:href=\"#DejaVuSans-45\"/>\n",
              "      <use xlink:href=\"#DejaVuSans-70\" x=\"63.183594\"/>\n",
              "      <use xlink:href=\"#DejaVuSans-6f\" x=\"126.660156\"/>\n",
              "      <use xlink:href=\"#DejaVuSans-63\" x=\"187.841797\"/>\n",
              "      <use xlink:href=\"#DejaVuSans-68\" x=\"242.822266\"/>\n",
              "     </g>\n",
              "    </g>\n",
              "   </g>\n",
              "   <g id=\"matplotlib.axis_2\">\n",
              "    <g id=\"ytick_1\">\n",
              "     <g id=\"line2d_6\">\n",
              "      <defs>\n",
              "       <path id=\"m94c261b840\" d=\"M 0 0 \n",
              "L -3.5 0 \n",
              "\" style=\"stroke: #000000; stroke-width: 0.8\"/>\n",
              "      </defs>\n",
              "      <g>\n",
              "       <use xlink:href=\"#m94c261b840\" x=\"90\" y=\"256.32\" style=\"stroke: #000000; stroke-width: 0.8\"/>\n",
              "      </g>\n",
              "     </g>\n",
              "     <g id=\"text_7\">\n",
              "      <!-- 0.00 -->\n",
              "      <g transform=\"translate(60.734375 260.119219) scale(0.1 -0.1)\">\n",
              "       <defs>\n",
              "        <path id=\"DejaVuSans-2e\" d=\"M 684 794 \n",
              "L 1344 794 \n",
              "L 1344 0 \n",
              "L 684 0 \n",
              "L 684 794 \n",
              "z\n",
              "\" transform=\"scale(0.015625)\"/>\n",
              "       </defs>\n",
              "       <use xlink:href=\"#DejaVuSans-30\"/>\n",
              "       <use xlink:href=\"#DejaVuSans-2e\" x=\"63.623047\"/>\n",
              "       <use xlink:href=\"#DejaVuSans-30\" x=\"95.410156\"/>\n",
              "       <use xlink:href=\"#DejaVuSans-30\" x=\"159.033203\"/>\n",
              "      </g>\n",
              "     </g>\n",
              "    </g>\n",
              "    <g id=\"ytick_2\">\n",
              "     <g id=\"line2d_7\">\n",
              "      <g>\n",
              "       <use xlink:href=\"#m94c261b840\" x=\"90\" y=\"223.090608\" style=\"stroke: #000000; stroke-width: 0.8\"/>\n",
              "      </g>\n",
              "     </g>\n",
              "     <g id=\"text_8\">\n",
              "      <!-- 0.02 -->\n",
              "      <g transform=\"translate(60.734375 226.889827) scale(0.1 -0.1)\">\n",
              "       <use xlink:href=\"#DejaVuSans-30\"/>\n",
              "       <use xlink:href=\"#DejaVuSans-2e\" x=\"63.623047\"/>\n",
              "       <use xlink:href=\"#DejaVuSans-30\" x=\"95.410156\"/>\n",
              "       <use xlink:href=\"#DejaVuSans-32\" x=\"159.033203\"/>\n",
              "      </g>\n",
              "     </g>\n",
              "    </g>\n",
              "    <g id=\"ytick_3\">\n",
              "     <g id=\"line2d_8\">\n",
              "      <g>\n",
              "       <use xlink:href=\"#m94c261b840\" x=\"90\" y=\"189.861217\" style=\"stroke: #000000; stroke-width: 0.8\"/>\n",
              "      </g>\n",
              "     </g>\n",
              "     <g id=\"text_9\">\n",
              "      <!-- 0.04 -->\n",
              "      <g transform=\"translate(60.734375 193.660436) scale(0.1 -0.1)\">\n",
              "       <use xlink:href=\"#DejaVuSans-30\"/>\n",
              "       <use xlink:href=\"#DejaVuSans-2e\" x=\"63.623047\"/>\n",
              "       <use xlink:href=\"#DejaVuSans-30\" x=\"95.410156\"/>\n",
              "       <use xlink:href=\"#DejaVuSans-34\" x=\"159.033203\"/>\n",
              "      </g>\n",
              "     </g>\n",
              "    </g>\n",
              "    <g id=\"ytick_4\">\n",
              "     <g id=\"line2d_9\">\n",
              "      <g>\n",
              "       <use xlink:href=\"#m94c261b840\" x=\"90\" y=\"156.631825\" style=\"stroke: #000000; stroke-width: 0.8\"/>\n",
              "      </g>\n",
              "     </g>\n",
              "     <g id=\"text_10\">\n",
              "      <!-- 0.06 -->\n",
              "      <g transform=\"translate(60.734375 160.431044) scale(0.1 -0.1)\">\n",
              "       <use xlink:href=\"#DejaVuSans-30\"/>\n",
              "       <use xlink:href=\"#DejaVuSans-2e\" x=\"63.623047\"/>\n",
              "       <use xlink:href=\"#DejaVuSans-30\" x=\"95.410156\"/>\n",
              "       <use xlink:href=\"#DejaVuSans-36\" x=\"159.033203\"/>\n",
              "      </g>\n",
              "     </g>\n",
              "    </g>\n",
              "    <g id=\"ytick_5\">\n",
              "     <g id=\"line2d_10\">\n",
              "      <g>\n",
              "       <use xlink:href=\"#m94c261b840\" x=\"90\" y=\"123.402434\" style=\"stroke: #000000; stroke-width: 0.8\"/>\n",
              "      </g>\n",
              "     </g>\n",
              "     <g id=\"text_11\">\n",
              "      <!-- 0.08 -->\n",
              "      <g transform=\"translate(60.734375 127.201653) scale(0.1 -0.1)\">\n",
              "       <use xlink:href=\"#DejaVuSans-30\"/>\n",
              "       <use xlink:href=\"#DejaVuSans-2e\" x=\"63.623047\"/>\n",
              "       <use xlink:href=\"#DejaVuSans-30\" x=\"95.410156\"/>\n",
              "       <use xlink:href=\"#DejaVuSans-38\" x=\"159.033203\"/>\n",
              "      </g>\n",
              "     </g>\n",
              "    </g>\n",
              "    <g id=\"ytick_6\">\n",
              "     <g id=\"line2d_11\">\n",
              "      <g>\n",
              "       <use xlink:href=\"#m94c261b840\" x=\"90\" y=\"90.173042\" style=\"stroke: #000000; stroke-width: 0.8\"/>\n",
              "      </g>\n",
              "     </g>\n",
              "     <g id=\"text_12\">\n",
              "      <!-- 0.10 -->\n",
              "      <g transform=\"translate(60.734375 93.972261) scale(0.1 -0.1)\">\n",
              "       <use xlink:href=\"#DejaVuSans-30\"/>\n",
              "       <use xlink:href=\"#DejaVuSans-2e\" x=\"63.623047\"/>\n",
              "       <use xlink:href=\"#DejaVuSans-31\" x=\"95.410156\"/>\n",
              "       <use xlink:href=\"#DejaVuSans-30\" x=\"159.033203\"/>\n",
              "      </g>\n",
              "     </g>\n",
              "    </g>\n",
              "    <g id=\"ytick_7\">\n",
              "     <g id=\"line2d_12\">\n",
              "      <g>\n",
              "       <use xlink:href=\"#m94c261b840\" x=\"90\" y=\"56.943651\" style=\"stroke: #000000; stroke-width: 0.8\"/>\n",
              "      </g>\n",
              "     </g>\n",
              "     <g id=\"text_13\">\n",
              "      <!-- 0.12 -->\n",
              "      <g transform=\"translate(60.734375 60.74287) scale(0.1 -0.1)\">\n",
              "       <use xlink:href=\"#DejaVuSans-30\"/>\n",
              "       <use xlink:href=\"#DejaVuSans-2e\" x=\"63.623047\"/>\n",
              "       <use xlink:href=\"#DejaVuSans-31\" x=\"95.410156\"/>\n",
              "       <use xlink:href=\"#DejaVuSans-32\" x=\"159.033203\"/>\n",
              "      </g>\n",
              "     </g>\n",
              "    </g>\n",
              "    <g id=\"text_14\">\n",
              "     <!-- Loss -->\n",
              "     <g transform=\"translate(54.654688 156.407187) rotate(-90) scale(0.1 -0.1)\">\n",
              "      <defs>\n",
              "       <path id=\"DejaVuSans-4c\" d=\"M 628 4666 \n",
              "L 1259 4666 \n",
              "L 1259 531 \n",
              "L 3531 531 \n",
              "L 3531 0 \n",
              "L 628 0 \n",
              "L 628 4666 \n",
              "z\n",
              "\" transform=\"scale(0.015625)\"/>\n",
              "       <path id=\"DejaVuSans-73\" d=\"M 2834 3397 \n",
              "L 2834 2853 \n",
              "Q 2591 2978 2328 3040 \n",
              "Q 2066 3103 1784 3103 \n",
              "Q 1356 3103 1142 2972 \n",
              "Q 928 2841 928 2578 \n",
              "Q 928 2378 1081 2264 \n",
              "Q 1234 2150 1697 2047 \n",
              "L 1894 2003 \n",
              "Q 2506 1872 2764 1633 \n",
              "Q 3022 1394 3022 966 \n",
              "Q 3022 478 2636 193 \n",
              "Q 2250 -91 1575 -91 \n",
              "Q 1294 -91 989 -36 \n",
              "Q 684 19 347 128 \n",
              "L 347 722 \n",
              "Q 666 556 975 473 \n",
              "Q 1284 391 1588 391 \n",
              "Q 1994 391 2212 530 \n",
              "Q 2431 669 2431 922 \n",
              "Q 2431 1156 2273 1281 \n",
              "Q 2116 1406 1581 1522 \n",
              "L 1381 1569 \n",
              "Q 847 1681 609 1914 \n",
              "Q 372 2147 372 2553 \n",
              "Q 372 3047 722 3315 \n",
              "Q 1072 3584 1716 3584 \n",
              "Q 2034 3584 2315 3537 \n",
              "Q 2597 3491 2834 3397 \n",
              "z\n",
              "\" transform=\"scale(0.015625)\"/>\n",
              "      </defs>\n",
              "      <use xlink:href=\"#DejaVuSans-4c\"/>\n",
              "      <use xlink:href=\"#DejaVuSans-6f\" x=\"53.962891\"/>\n",
              "      <use xlink:href=\"#DejaVuSans-73\" x=\"115.144531\"/>\n",
              "      <use xlink:href=\"#DejaVuSans-73\" x=\"167.244141\"/>\n",
              "     </g>\n",
              "    </g>\n",
              "   </g>\n",
              "   <g id=\"line2d_13\">\n",
              "    <path d=\"M 101.528926 43.790726 \n",
              "L 127.14876 193.225299 \n",
              "L 152.768595 199.595154 \n",
              "L 178.38843 206.201684 \n",
              "L 204.008264 207.900027 \n",
              "L 229.628099 214.856169 \n",
              "L 255.247934 214.585238 \n",
              "L 280.867769 219.381076 \n",
              "L 306.487603 224.391583 \n",
              "L 332.107438 228.405248 \n",
              "\" clip-path=\"url(#p429875220d)\" style=\"fill: none; stroke: #ff0000; stroke-width: 1.5; stroke-linecap: square\"/>\n",
              "   </g>\n",
              "   <g id=\"line2d_14\">\n",
              "    <path d=\"M 101.528926 186.94008 \n",
              "L 127.14876 195.029928 \n",
              "L 152.768595 201.556339 \n",
              "L 178.38843 192.181998 \n",
              "L 204.008264 204.295081 \n",
              "L 229.628099 200.421415 \n",
              "L 255.247934 208.794589 \n",
              "L 280.867769 214.693714 \n",
              "L 306.487603 216.575101 \n",
              "L 332.107438 219.870074 \n",
              "\" clip-path=\"url(#p429875220d)\" style=\"fill: none; stroke: #ffa500; stroke-width: 1.5; stroke-linecap: square\"/>\n",
              "   </g>\n",
              "   <g id=\"patch_3\">\n",
              "    <path d=\"M 90 256.32 \n",
              "L 90 34.56 \n",
              "\" style=\"fill: none; stroke: #000000; stroke-width: 0.8; stroke-linejoin: miter; stroke-linecap: square\"/>\n",
              "   </g>\n",
              "   <g id=\"patch_4\">\n",
              "    <path d=\"M 343.636364 256.32 \n",
              "L 343.636364 34.56 \n",
              "\" style=\"fill: none; stroke: #000000; stroke-width: 0.8; stroke-linejoin: miter; stroke-linecap: square\"/>\n",
              "   </g>\n",
              "   <g id=\"patch_5\">\n",
              "    <path d=\"M 90 256.32 \n",
              "L 343.636364 256.32 \n",
              "\" style=\"fill: none; stroke: #000000; stroke-width: 0.8; stroke-linejoin: miter; stroke-linecap: square\"/>\n",
              "   </g>\n",
              "   <g id=\"patch_6\">\n",
              "    <path d=\"M 90 34.56 \n",
              "L 343.636364 34.56 \n",
              "\" style=\"fill: none; stroke: #000000; stroke-width: 0.8; stroke-linejoin: miter; stroke-linecap: square\"/>\n",
              "   </g>\n",
              "   <g id=\"text_15\">\n",
              "    <!-- SimpleNetwork: Training Loss -->\n",
              "    <g transform=\"translate(128.611619 28.56) scale(0.12 -0.12)\">\n",
              "     <defs>\n",
              "      <path id=\"DejaVuSans-53\" d=\"M 3425 4513 \n",
              "L 3425 3897 \n",
              "Q 3066 4069 2747 4153 \n",
              "Q 2428 4238 2131 4238 \n",
              "Q 1616 4238 1336 4038 \n",
              "Q 1056 3838 1056 3469 \n",
              "Q 1056 3159 1242 3001 \n",
              "Q 1428 2844 1947 2747 \n",
              "L 2328 2669 \n",
              "Q 3034 2534 3370 2195 \n",
              "Q 3706 1856 3706 1288 \n",
              "Q 3706 609 3251 259 \n",
              "Q 2797 -91 1919 -91 \n",
              "Q 1588 -91 1214 -16 \n",
              "Q 841 59 441 206 \n",
              "L 441 856 \n",
              "Q 825 641 1194 531 \n",
              "Q 1563 422 1919 422 \n",
              "Q 2459 422 2753 634 \n",
              "Q 3047 847 3047 1241 \n",
              "Q 3047 1584 2836 1778 \n",
              "Q 2625 1972 2144 2069 \n",
              "L 1759 2144 \n",
              "Q 1053 2284 737 2584 \n",
              "Q 422 2884 422 3419 \n",
              "Q 422 4038 858 4394 \n",
              "Q 1294 4750 2059 4750 \n",
              "Q 2388 4750 2728 4690 \n",
              "Q 3069 4631 3425 4513 \n",
              "z\n",
              "\" transform=\"scale(0.015625)\"/>\n",
              "      <path id=\"DejaVuSans-69\" d=\"M 603 3500 \n",
              "L 1178 3500 \n",
              "L 1178 0 \n",
              "L 603 0 \n",
              "L 603 3500 \n",
              "z\n",
              "M 603 4863 \n",
              "L 1178 4863 \n",
              "L 1178 4134 \n",
              "L 603 4134 \n",
              "L 603 4863 \n",
              "z\n",
              "\" transform=\"scale(0.015625)\"/>\n",
              "      <path id=\"DejaVuSans-6d\" d=\"M 3328 2828 \n",
              "Q 3544 3216 3844 3400 \n",
              "Q 4144 3584 4550 3584 \n",
              "Q 5097 3584 5394 3201 \n",
              "Q 5691 2819 5691 2113 \n",
              "L 5691 0 \n",
              "L 5113 0 \n",
              "L 5113 2094 \n",
              "Q 5113 2597 4934 2840 \n",
              "Q 4756 3084 4391 3084 \n",
              "Q 3944 3084 3684 2787 \n",
              "Q 3425 2491 3425 1978 \n",
              "L 3425 0 \n",
              "L 2847 0 \n",
              "L 2847 2094 \n",
              "Q 2847 2600 2669 2842 \n",
              "Q 2491 3084 2119 3084 \n",
              "Q 1678 3084 1418 2786 \n",
              "Q 1159 2488 1159 1978 \n",
              "L 1159 0 \n",
              "L 581 0 \n",
              "L 581 3500 \n",
              "L 1159 3500 \n",
              "L 1159 2956 \n",
              "Q 1356 3278 1631 3431 \n",
              "Q 1906 3584 2284 3584 \n",
              "Q 2666 3584 2933 3390 \n",
              "Q 3200 3197 3328 2828 \n",
              "z\n",
              "\" transform=\"scale(0.015625)\"/>\n",
              "      <path id=\"DejaVuSans-6c\" d=\"M 603 4863 \n",
              "L 1178 4863 \n",
              "L 1178 0 \n",
              "L 603 0 \n",
              "L 603 4863 \n",
              "z\n",
              "\" transform=\"scale(0.015625)\"/>\n",
              "      <path id=\"DejaVuSans-65\" d=\"M 3597 1894 \n",
              "L 3597 1613 \n",
              "L 953 1613 \n",
              "Q 991 1019 1311 708 \n",
              "Q 1631 397 2203 397 \n",
              "Q 2534 397 2845 478 \n",
              "Q 3156 559 3463 722 \n",
              "L 3463 178 \n",
              "Q 3153 47 2828 -22 \n",
              "Q 2503 -91 2169 -91 \n",
              "Q 1331 -91 842 396 \n",
              "Q 353 884 353 1716 \n",
              "Q 353 2575 817 3079 \n",
              "Q 1281 3584 2069 3584 \n",
              "Q 2775 3584 3186 3129 \n",
              "Q 3597 2675 3597 1894 \n",
              "z\n",
              "M 3022 2063 \n",
              "Q 3016 2534 2758 2815 \n",
              "Q 2500 3097 2075 3097 \n",
              "Q 1594 3097 1305 2825 \n",
              "Q 1016 2553 972 2059 \n",
              "L 3022 2063 \n",
              "z\n",
              "\" transform=\"scale(0.015625)\"/>\n",
              "      <path id=\"DejaVuSans-4e\" d=\"M 628 4666 \n",
              "L 1478 4666 \n",
              "L 3547 763 \n",
              "L 3547 4666 \n",
              "L 4159 4666 \n",
              "L 4159 0 \n",
              "L 3309 0 \n",
              "L 1241 3903 \n",
              "L 1241 0 \n",
              "L 628 0 \n",
              "L 628 4666 \n",
              "z\n",
              "\" transform=\"scale(0.015625)\"/>\n",
              "      <path id=\"DejaVuSans-74\" d=\"M 1172 4494 \n",
              "L 1172 3500 \n",
              "L 2356 3500 \n",
              "L 2356 3053 \n",
              "L 1172 3053 \n",
              "L 1172 1153 \n",
              "Q 1172 725 1289 603 \n",
              "Q 1406 481 1766 481 \n",
              "L 2356 481 \n",
              "L 2356 0 \n",
              "L 1766 0 \n",
              "Q 1100 0 847 248 \n",
              "Q 594 497 594 1153 \n",
              "L 594 3053 \n",
              "L 172 3053 \n",
              "L 172 3500 \n",
              "L 594 3500 \n",
              "L 594 4494 \n",
              "L 1172 4494 \n",
              "z\n",
              "\" transform=\"scale(0.015625)\"/>\n",
              "      <path id=\"DejaVuSans-77\" d=\"M 269 3500 \n",
              "L 844 3500 \n",
              "L 1563 769 \n",
              "L 2278 3500 \n",
              "L 2956 3500 \n",
              "L 3675 769 \n",
              "L 4391 3500 \n",
              "L 4966 3500 \n",
              "L 4050 0 \n",
              "L 3372 0 \n",
              "L 2619 2869 \n",
              "L 1863 0 \n",
              "L 1184 0 \n",
              "L 269 3500 \n",
              "z\n",
              "\" transform=\"scale(0.015625)\"/>\n",
              "      <path id=\"DejaVuSans-72\" d=\"M 2631 2963 \n",
              "Q 2534 3019 2420 3045 \n",
              "Q 2306 3072 2169 3072 \n",
              "Q 1681 3072 1420 2755 \n",
              "Q 1159 2438 1159 1844 \n",
              "L 1159 0 \n",
              "L 581 0 \n",
              "L 581 3500 \n",
              "L 1159 3500 \n",
              "L 1159 2956 \n",
              "Q 1341 3275 1631 3429 \n",
              "Q 1922 3584 2338 3584 \n",
              "Q 2397 3584 2469 3576 \n",
              "Q 2541 3569 2628 3553 \n",
              "L 2631 2963 \n",
              "z\n",
              "\" transform=\"scale(0.015625)\"/>\n",
              "      <path id=\"DejaVuSans-6b\" d=\"M 581 4863 \n",
              "L 1159 4863 \n",
              "L 1159 1991 \n",
              "L 2875 3500 \n",
              "L 3609 3500 \n",
              "L 1753 1863 \n",
              "L 3688 0 \n",
              "L 2938 0 \n",
              "L 1159 1709 \n",
              "L 1159 0 \n",
              "L 581 0 \n",
              "L 581 4863 \n",
              "z\n",
              "\" transform=\"scale(0.015625)\"/>\n",
              "      <path id=\"DejaVuSans-3a\" d=\"M 750 794 \n",
              "L 1409 794 \n",
              "L 1409 0 \n",
              "L 750 0 \n",
              "L 750 794 \n",
              "z\n",
              "M 750 3309 \n",
              "L 1409 3309 \n",
              "L 1409 2516 \n",
              "L 750 2516 \n",
              "L 750 3309 \n",
              "z\n",
              "\" transform=\"scale(0.015625)\"/>\n",
              "      <path id=\"DejaVuSans-20\" transform=\"scale(0.015625)\"/>\n",
              "      <path id=\"DejaVuSans-54\" d=\"M -19 4666 \n",
              "L 3928 4666 \n",
              "L 3928 4134 \n",
              "L 2272 4134 \n",
              "L 2272 0 \n",
              "L 1638 0 \n",
              "L 1638 4134 \n",
              "L -19 4134 \n",
              "L -19 4666 \n",
              "z\n",
              "\" transform=\"scale(0.015625)\"/>\n",
              "      <path id=\"DejaVuSans-61\" d=\"M 2194 1759 \n",
              "Q 1497 1759 1228 1600 \n",
              "Q 959 1441 959 1056 \n",
              "Q 959 750 1161 570 \n",
              "Q 1363 391 1709 391 \n",
              "Q 2188 391 2477 730 \n",
              "Q 2766 1069 2766 1631 \n",
              "L 2766 1759 \n",
              "L 2194 1759 \n",
              "z\n",
              "M 3341 1997 \n",
              "L 3341 0 \n",
              "L 2766 0 \n",
              "L 2766 531 \n",
              "Q 2569 213 2275 61 \n",
              "Q 1981 -91 1556 -91 \n",
              "Q 1019 -91 701 211 \n",
              "Q 384 513 384 1019 \n",
              "Q 384 1609 779 1909 \n",
              "Q 1175 2209 1959 2209 \n",
              "L 2766 2209 \n",
              "L 2766 2266 \n",
              "Q 2766 2663 2505 2880 \n",
              "Q 2244 3097 1772 3097 \n",
              "Q 1472 3097 1187 3025 \n",
              "Q 903 2953 641 2809 \n",
              "L 641 3341 \n",
              "Q 956 3463 1253 3523 \n",
              "Q 1550 3584 1831 3584 \n",
              "Q 2591 3584 2966 3190 \n",
              "Q 3341 2797 3341 1997 \n",
              "z\n",
              "\" transform=\"scale(0.015625)\"/>\n",
              "      <path id=\"DejaVuSans-6e\" d=\"M 3513 2113 \n",
              "L 3513 0 \n",
              "L 2938 0 \n",
              "L 2938 2094 \n",
              "Q 2938 2591 2744 2837 \n",
              "Q 2550 3084 2163 3084 \n",
              "Q 1697 3084 1428 2787 \n",
              "Q 1159 2491 1159 1978 \n",
              "L 1159 0 \n",
              "L 581 0 \n",
              "L 581 3500 \n",
              "L 1159 3500 \n",
              "L 1159 2956 \n",
              "Q 1366 3272 1645 3428 \n",
              "Q 1925 3584 2291 3584 \n",
              "Q 2894 3584 3203 3211 \n",
              "Q 3513 2838 3513 2113 \n",
              "z\n",
              "\" transform=\"scale(0.015625)\"/>\n",
              "      <path id=\"DejaVuSans-67\" d=\"M 2906 1791 \n",
              "Q 2906 2416 2648 2759 \n",
              "Q 2391 3103 1925 3103 \n",
              "Q 1463 3103 1205 2759 \n",
              "Q 947 2416 947 1791 \n",
              "Q 947 1169 1205 825 \n",
              "Q 1463 481 1925 481 \n",
              "Q 2391 481 2648 825 \n",
              "Q 2906 1169 2906 1791 \n",
              "z\n",
              "M 3481 434 \n",
              "Q 3481 -459 3084 -895 \n",
              "Q 2688 -1331 1869 -1331 \n",
              "Q 1566 -1331 1297 -1286 \n",
              "Q 1028 -1241 775 -1147 \n",
              "L 775 -588 \n",
              "Q 1028 -725 1275 -790 \n",
              "Q 1522 -856 1778 -856 \n",
              "Q 2344 -856 2625 -561 \n",
              "Q 2906 -266 2906 331 \n",
              "L 2906 616 \n",
              "Q 2728 306 2450 153 \n",
              "Q 2172 0 1784 0 \n",
              "Q 1141 0 747 490 \n",
              "Q 353 981 353 1791 \n",
              "Q 353 2603 747 3093 \n",
              "Q 1141 3584 1784 3584 \n",
              "Q 2172 3584 2450 3431 \n",
              "Q 2728 3278 2906 2969 \n",
              "L 2906 3500 \n",
              "L 3481 3500 \n",
              "L 3481 434 \n",
              "z\n",
              "\" transform=\"scale(0.015625)\"/>\n",
              "     </defs>\n",
              "     <use xlink:href=\"#DejaVuSans-53\"/>\n",
              "     <use xlink:href=\"#DejaVuSans-69\" x=\"63.476562\"/>\n",
              "     <use xlink:href=\"#DejaVuSans-6d\" x=\"91.259766\"/>\n",
              "     <use xlink:href=\"#DejaVuSans-70\" x=\"188.671875\"/>\n",
              "     <use xlink:href=\"#DejaVuSans-6c\" x=\"252.148438\"/>\n",
              "     <use xlink:href=\"#DejaVuSans-65\" x=\"279.931641\"/>\n",
              "     <use xlink:href=\"#DejaVuSans-4e\" x=\"341.455078\"/>\n",
              "     <use xlink:href=\"#DejaVuSans-65\" x=\"416.259766\"/>\n",
              "     <use xlink:href=\"#DejaVuSans-74\" x=\"477.783203\"/>\n",
              "     <use xlink:href=\"#DejaVuSans-77\" x=\"516.992188\"/>\n",
              "     <use xlink:href=\"#DejaVuSans-6f\" x=\"598.779297\"/>\n",
              "     <use xlink:href=\"#DejaVuSans-72\" x=\"659.960938\"/>\n",
              "     <use xlink:href=\"#DejaVuSans-6b\" x=\"701.074219\"/>\n",
              "     <use xlink:href=\"#DejaVuSans-3a\" x=\"758.984375\"/>\n",
              "     <use xlink:href=\"#DejaVuSans-20\" x=\"792.675781\"/>\n",
              "     <use xlink:href=\"#DejaVuSans-54\" x=\"824.462891\"/>\n",
              "     <use xlink:href=\"#DejaVuSans-72\" x=\"870.796875\"/>\n",
              "     <use xlink:href=\"#DejaVuSans-61\" x=\"911.910156\"/>\n",
              "     <use xlink:href=\"#DejaVuSans-69\" x=\"973.189453\"/>\n",
              "     <use xlink:href=\"#DejaVuSans-6e\" x=\"1000.972656\"/>\n",
              "     <use xlink:href=\"#DejaVuSans-69\" x=\"1064.351562\"/>\n",
              "     <use xlink:href=\"#DejaVuSans-6e\" x=\"1092.134766\"/>\n",
              "     <use xlink:href=\"#DejaVuSans-67\" x=\"1155.513672\"/>\n",
              "     <use xlink:href=\"#DejaVuSans-20\" x=\"1218.990234\"/>\n",
              "     <use xlink:href=\"#DejaVuSans-4c\" x=\"1250.777344\"/>\n",
              "     <use xlink:href=\"#DejaVuSans-6f\" x=\"1304.740234\"/>\n",
              "     <use xlink:href=\"#DejaVuSans-73\" x=\"1365.921875\"/>\n",
              "     <use xlink:href=\"#DejaVuSans-73\" x=\"1418.021484\"/>\n",
              "    </g>\n",
              "   </g>\n",
              "   <g id=\"legend_1\">\n",
              "    <g id=\"patch_7\">\n",
              "     <path d=\"M 265.495739 72.194375 \n",
              "L 336.636364 72.194375 \n",
              "Q 338.636364 72.194375 338.636364 70.194375 \n",
              "L 338.636364 41.56 \n",
              "Q 338.636364 39.56 336.636364 39.56 \n",
              "L 265.495739 39.56 \n",
              "Q 263.495739 39.56 263.495739 41.56 \n",
              "L 263.495739 70.194375 \n",
              "Q 263.495739 72.194375 265.495739 72.194375 \n",
              "z\n",
              "\" style=\"fill: #ffffff; opacity: 0.8; stroke: #cccccc; stroke-linejoin: miter\"/>\n",
              "    </g>\n",
              "    <g id=\"line2d_15\">\n",
              "     <path d=\"M 267.495739 47.658438 \n",
              "L 277.495739 47.658438 \n",
              "L 287.495739 47.658438 \n",
              "\" style=\"fill: none; stroke: #ff0000; stroke-width: 1.5; stroke-linecap: square\"/>\n",
              "    </g>\n",
              "    <g id=\"text_16\">\n",
              "     <!-- loss -->\n",
              "     <g transform=\"translate(295.495739 51.158438) scale(0.1 -0.1)\">\n",
              "      <use xlink:href=\"#DejaVuSans-6c\"/>\n",
              "      <use xlink:href=\"#DejaVuSans-6f\" x=\"27.783203\"/>\n",
              "      <use xlink:href=\"#DejaVuSans-73\" x=\"88.964844\"/>\n",
              "      <use xlink:href=\"#DejaVuSans-73\" x=\"141.064453\"/>\n",
              "     </g>\n",
              "    </g>\n",
              "    <g id=\"line2d_16\">\n",
              "     <path d=\"M 267.495739 62.336563 \n",
              "L 277.495739 62.336563 \n",
              "L 287.495739 62.336563 \n",
              "\" style=\"fill: none; stroke: #ffa500; stroke-width: 1.5; stroke-linecap: square\"/>\n",
              "    </g>\n",
              "    <g id=\"text_17\">\n",
              "     <!-- val_loss -->\n",
              "     <g transform=\"translate(295.495739 65.836563) scale(0.1 -0.1)\">\n",
              "      <defs>\n",
              "       <path id=\"DejaVuSans-76\" d=\"M 191 3500 \n",
              "L 800 3500 \n",
              "L 1894 563 \n",
              "L 2988 3500 \n",
              "L 3597 3500 \n",
              "L 2284 0 \n",
              "L 1503 0 \n",
              "L 191 3500 \n",
              "z\n",
              "\" transform=\"scale(0.015625)\"/>\n",
              "       <path id=\"DejaVuSans-5f\" d=\"M 3263 -1063 \n",
              "L 3263 -1509 \n",
              "L -63 -1509 \n",
              "L -63 -1063 \n",
              "L 3263 -1063 \n",
              "z\n",
              "\" transform=\"scale(0.015625)\"/>\n",
              "      </defs>\n",
              "      <use xlink:href=\"#DejaVuSans-76\"/>\n",
              "      <use xlink:href=\"#DejaVuSans-61\" x=\"59.179688\"/>\n",
              "      <use xlink:href=\"#DejaVuSans-6c\" x=\"120.458984\"/>\n",
              "      <use xlink:href=\"#DejaVuSans-5f\" x=\"148.242188\"/>\n",
              "      <use xlink:href=\"#DejaVuSans-6c\" x=\"198.242188\"/>\n",
              "      <use xlink:href=\"#DejaVuSans-6f\" x=\"226.025391\"/>\n",
              "      <use xlink:href=\"#DejaVuSans-73\" x=\"287.207031\"/>\n",
              "      <use xlink:href=\"#DejaVuSans-73\" x=\"339.306641\"/>\n",
              "     </g>\n",
              "    </g>\n",
              "   </g>\n",
              "  </g>\n",
              "  <g id=\"axes_2\">\n",
              "   <g id=\"patch_8\">\n",
              "    <path d=\"M 394.363636 256.32 \n",
              "L 648 256.32 \n",
              "L 648 34.56 \n",
              "L 394.363636 34.56 \n",
              "z\n",
              "\" style=\"fill: #ffffff\"/>\n",
              "   </g>\n",
              "   <g id=\"matplotlib.axis_3\">\n",
              "    <g id=\"xtick_6\">\n",
              "     <g id=\"line2d_17\">\n",
              "      <g>\n",
              "       <use xlink:href=\"#md9e51f3966\" x=\"431.512397\" y=\"256.32\" style=\"stroke: #000000; stroke-width: 0.8\"/>\n",
              "      </g>\n",
              "     </g>\n",
              "     <g id=\"text_18\">\n",
              "      <!-- 2 -->\n",
              "      <g transform=\"translate(428.331147 270.918437) scale(0.1 -0.1)\">\n",
              "       <use xlink:href=\"#DejaVuSans-32\"/>\n",
              "      </g>\n",
              "     </g>\n",
              "    </g>\n",
              "    <g id=\"xtick_7\">\n",
              "     <g id=\"line2d_18\">\n",
              "      <g>\n",
              "       <use xlink:href=\"#md9e51f3966\" x=\"482.752066\" y=\"256.32\" style=\"stroke: #000000; stroke-width: 0.8\"/>\n",
              "      </g>\n",
              "     </g>\n",
              "     <g id=\"text_19\">\n",
              "      <!-- 4 -->\n",
              "      <g transform=\"translate(479.570816 270.918437) scale(0.1 -0.1)\">\n",
              "       <use xlink:href=\"#DejaVuSans-34\"/>\n",
              "      </g>\n",
              "     </g>\n",
              "    </g>\n",
              "    <g id=\"xtick_8\">\n",
              "     <g id=\"line2d_19\">\n",
              "      <g>\n",
              "       <use xlink:href=\"#md9e51f3966\" x=\"533.991736\" y=\"256.32\" style=\"stroke: #000000; stroke-width: 0.8\"/>\n",
              "      </g>\n",
              "     </g>\n",
              "     <g id=\"text_20\">\n",
              "      <!-- 6 -->\n",
              "      <g transform=\"translate(530.810486 270.918437) scale(0.1 -0.1)\">\n",
              "       <use xlink:href=\"#DejaVuSans-36\"/>\n",
              "      </g>\n",
              "     </g>\n",
              "    </g>\n",
              "    <g id=\"xtick_9\">\n",
              "     <g id=\"line2d_20\">\n",
              "      <g>\n",
              "       <use xlink:href=\"#md9e51f3966\" x=\"585.231405\" y=\"256.32\" style=\"stroke: #000000; stroke-width: 0.8\"/>\n",
              "      </g>\n",
              "     </g>\n",
              "     <g id=\"text_21\">\n",
              "      <!-- 8 -->\n",
              "      <g transform=\"translate(582.050155 270.918437) scale(0.1 -0.1)\">\n",
              "       <use xlink:href=\"#DejaVuSans-38\"/>\n",
              "      </g>\n",
              "     </g>\n",
              "    </g>\n",
              "    <g id=\"xtick_10\">\n",
              "     <g id=\"line2d_21\">\n",
              "      <g>\n",
              "       <use xlink:href=\"#md9e51f3966\" x=\"636.471074\" y=\"256.32\" style=\"stroke: #000000; stroke-width: 0.8\"/>\n",
              "      </g>\n",
              "     </g>\n",
              "     <g id=\"text_22\">\n",
              "      <!-- 10 -->\n",
              "      <g transform=\"translate(630.108574 270.918437) scale(0.1 -0.1)\">\n",
              "       <use xlink:href=\"#DejaVuSans-31\"/>\n",
              "       <use xlink:href=\"#DejaVuSans-30\" x=\"63.623047\"/>\n",
              "      </g>\n",
              "     </g>\n",
              "    </g>\n",
              "    <g id=\"text_23\">\n",
              "     <!-- Epoch -->\n",
              "     <g transform=\"translate(505.870881 284.596563) scale(0.1 -0.1)\">\n",
              "      <use xlink:href=\"#DejaVuSans-45\"/>\n",
              "      <use xlink:href=\"#DejaVuSans-70\" x=\"63.183594\"/>\n",
              "      <use xlink:href=\"#DejaVuSans-6f\" x=\"126.660156\"/>\n",
              "      <use xlink:href=\"#DejaVuSans-63\" x=\"187.841797\"/>\n",
              "      <use xlink:href=\"#DejaVuSans-68\" x=\"242.822266\"/>\n",
              "     </g>\n",
              "    </g>\n",
              "   </g>\n",
              "   <g id=\"matplotlib.axis_4\">\n",
              "    <g id=\"ytick_8\">\n",
              "     <g id=\"line2d_22\">\n",
              "      <g>\n",
              "       <use xlink:href=\"#m94c261b840\" x=\"394.363636\" y=\"237.84\" style=\"stroke: #000000; stroke-width: 0.8\"/>\n",
              "      </g>\n",
              "     </g>\n",
              "     <g id=\"text_24\">\n",
              "      <!-- 0.0 -->\n",
              "      <g transform=\"translate(371.460511 241.639219) scale(0.1 -0.1)\">\n",
              "       <use xlink:href=\"#DejaVuSans-30\"/>\n",
              "       <use xlink:href=\"#DejaVuSans-2e\" x=\"63.623047\"/>\n",
              "       <use xlink:href=\"#DejaVuSans-30\" x=\"95.410156\"/>\n",
              "      </g>\n",
              "     </g>\n",
              "    </g>\n",
              "    <g id=\"ytick_9\">\n",
              "     <g id=\"line2d_23\">\n",
              "      <g>\n",
              "       <use xlink:href=\"#m94c261b840\" x=\"394.363636\" y=\"200.88\" style=\"stroke: #000000; stroke-width: 0.8\"/>\n",
              "      </g>\n",
              "     </g>\n",
              "     <g id=\"text_25\">\n",
              "      <!-- 0.2 -->\n",
              "      <g transform=\"translate(371.460511 204.679219) scale(0.1 -0.1)\">\n",
              "       <use xlink:href=\"#DejaVuSans-30\"/>\n",
              "       <use xlink:href=\"#DejaVuSans-2e\" x=\"63.623047\"/>\n",
              "       <use xlink:href=\"#DejaVuSans-32\" x=\"95.410156\"/>\n",
              "      </g>\n",
              "     </g>\n",
              "    </g>\n",
              "    <g id=\"ytick_10\">\n",
              "     <g id=\"line2d_24\">\n",
              "      <g>\n",
              "       <use xlink:href=\"#m94c261b840\" x=\"394.363636\" y=\"163.92\" style=\"stroke: #000000; stroke-width: 0.8\"/>\n",
              "      </g>\n",
              "     </g>\n",
              "     <g id=\"text_26\">\n",
              "      <!-- 0.4 -->\n",
              "      <g transform=\"translate(371.460511 167.719219) scale(0.1 -0.1)\">\n",
              "       <use xlink:href=\"#DejaVuSans-30\"/>\n",
              "       <use xlink:href=\"#DejaVuSans-2e\" x=\"63.623047\"/>\n",
              "       <use xlink:href=\"#DejaVuSans-34\" x=\"95.410156\"/>\n",
              "      </g>\n",
              "     </g>\n",
              "    </g>\n",
              "    <g id=\"ytick_11\">\n",
              "     <g id=\"line2d_25\">\n",
              "      <g>\n",
              "       <use xlink:href=\"#m94c261b840\" x=\"394.363636\" y=\"126.96\" style=\"stroke: #000000; stroke-width: 0.8\"/>\n",
              "      </g>\n",
              "     </g>\n",
              "     <g id=\"text_27\">\n",
              "      <!-- 0.6 -->\n",
              "      <g transform=\"translate(371.460511 130.759219) scale(0.1 -0.1)\">\n",
              "       <use xlink:href=\"#DejaVuSans-30\"/>\n",
              "       <use xlink:href=\"#DejaVuSans-2e\" x=\"63.623047\"/>\n",
              "       <use xlink:href=\"#DejaVuSans-36\" x=\"95.410156\"/>\n",
              "      </g>\n",
              "     </g>\n",
              "    </g>\n",
              "    <g id=\"ytick_12\">\n",
              "     <g id=\"line2d_26\">\n",
              "      <g>\n",
              "       <use xlink:href=\"#m94c261b840\" x=\"394.363636\" y=\"90\" style=\"stroke: #000000; stroke-width: 0.8\"/>\n",
              "      </g>\n",
              "     </g>\n",
              "     <g id=\"text_28\">\n",
              "      <!-- 0.8 -->\n",
              "      <g transform=\"translate(371.460511 93.799219) scale(0.1 -0.1)\">\n",
              "       <use xlink:href=\"#DejaVuSans-30\"/>\n",
              "       <use xlink:href=\"#DejaVuSans-2e\" x=\"63.623047\"/>\n",
              "       <use xlink:href=\"#DejaVuSans-38\" x=\"95.410156\"/>\n",
              "      </g>\n",
              "     </g>\n",
              "    </g>\n",
              "    <g id=\"ytick_13\">\n",
              "     <g id=\"line2d_27\">\n",
              "      <g>\n",
              "       <use xlink:href=\"#m94c261b840\" x=\"394.363636\" y=\"53.04\" style=\"stroke: #000000; stroke-width: 0.8\"/>\n",
              "      </g>\n",
              "     </g>\n",
              "     <g id=\"text_29\">\n",
              "      <!-- 1.0 -->\n",
              "      <g transform=\"translate(371.460511 56.839219) scale(0.1 -0.1)\">\n",
              "       <use xlink:href=\"#DejaVuSans-31\"/>\n",
              "       <use xlink:href=\"#DejaVuSans-2e\" x=\"63.623047\"/>\n",
              "       <use xlink:href=\"#DejaVuSans-30\" x=\"95.410156\"/>\n",
              "      </g>\n",
              "     </g>\n",
              "    </g>\n",
              "    <g id=\"text_30\">\n",
              "     <!-- Accuracy -->\n",
              "     <g transform=\"translate(365.380824 168.268125) rotate(-90) scale(0.1 -0.1)\">\n",
              "      <defs>\n",
              "       <path id=\"DejaVuSans-41\" d=\"M 2188 4044 \n",
              "L 1331 1722 \n",
              "L 3047 1722 \n",
              "L 2188 4044 \n",
              "z\n",
              "M 1831 4666 \n",
              "L 2547 4666 \n",
              "L 4325 0 \n",
              "L 3669 0 \n",
              "L 3244 1197 \n",
              "L 1141 1197 \n",
              "L 716 0 \n",
              "L 50 0 \n",
              "L 1831 4666 \n",
              "z\n",
              "\" transform=\"scale(0.015625)\"/>\n",
              "       <path id=\"DejaVuSans-75\" d=\"M 544 1381 \n",
              "L 544 3500 \n",
              "L 1119 3500 \n",
              "L 1119 1403 \n",
              "Q 1119 906 1312 657 \n",
              "Q 1506 409 1894 409 \n",
              "Q 2359 409 2629 706 \n",
              "Q 2900 1003 2900 1516 \n",
              "L 2900 3500 \n",
              "L 3475 3500 \n",
              "L 3475 0 \n",
              "L 2900 0 \n",
              "L 2900 538 \n",
              "Q 2691 219 2414 64 \n",
              "Q 2138 -91 1772 -91 \n",
              "Q 1169 -91 856 284 \n",
              "Q 544 659 544 1381 \n",
              "z\n",
              "M 1991 3584 \n",
              "L 1991 3584 \n",
              "z\n",
              "\" transform=\"scale(0.015625)\"/>\n",
              "       <path id=\"DejaVuSans-79\" d=\"M 2059 -325 \n",
              "Q 1816 -950 1584 -1140 \n",
              "Q 1353 -1331 966 -1331 \n",
              "L 506 -1331 \n",
              "L 506 -850 \n",
              "L 844 -850 \n",
              "Q 1081 -850 1212 -737 \n",
              "Q 1344 -625 1503 -206 \n",
              "L 1606 56 \n",
              "L 191 3500 \n",
              "L 800 3500 \n",
              "L 1894 763 \n",
              "L 2988 3500 \n",
              "L 3597 3500 \n",
              "L 2059 -325 \n",
              "z\n",
              "\" transform=\"scale(0.015625)\"/>\n",
              "      </defs>\n",
              "      <use xlink:href=\"#DejaVuSans-41\"/>\n",
              "      <use xlink:href=\"#DejaVuSans-63\" x=\"66.658203\"/>\n",
              "      <use xlink:href=\"#DejaVuSans-63\" x=\"121.638672\"/>\n",
              "      <use xlink:href=\"#DejaVuSans-75\" x=\"176.619141\"/>\n",
              "      <use xlink:href=\"#DejaVuSans-72\" x=\"239.998047\"/>\n",
              "      <use xlink:href=\"#DejaVuSans-61\" x=\"281.111328\"/>\n",
              "      <use xlink:href=\"#DejaVuSans-63\" x=\"342.390625\"/>\n",
              "      <use xlink:href=\"#DejaVuSans-79\" x=\"397.371094\"/>\n",
              "     </g>\n",
              "    </g>\n",
              "   </g>\n",
              "   <g id=\"line2d_28\">\n",
              "    <path d=\"M 405.892562 107.016073 \n",
              "L 431.512397 89.322458 \n",
              "L 457.132231 81.581501 \n",
              "L 482.752066 81.212875 \n",
              "L 508.371901 78.983616 \n",
              "L 533.991736 78.369247 \n",
              "L 559.61157 76.034675 \n",
              "L 585.231405 75.192132 \n",
              "L 610.85124 75.174574 \n",
              "L 636.471074 70.277244 \n",
              "\" clip-path=\"url(#pdd5a2b674b)\" style=\"fill: none; stroke: #00bfbf; stroke-width: 1.5; stroke-linecap: square\"/>\n",
              "   </g>\n",
              "   <g id=\"line2d_29\">\n",
              "    <path d=\"M 405.892562 186.269617 \n",
              "L 431.512397 94.311024 \n",
              "L 457.132231 84.673757 \n",
              "L 482.752066 79.744782 \n",
              "L 508.371901 77.795259 \n",
              "L 533.991736 75.661819 \n",
              "L 559.61157 73.969782 \n",
              "L 585.231405 72.314523 \n",
              "L 610.85124 70.953539 \n",
              "L 636.471074 69.702903 \n",
              "\" clip-path=\"url(#pdd5a2b674b)\" style=\"fill: none; stroke: #0000ff; stroke-width: 1.5; stroke-linecap: square\"/>\n",
              "   </g>\n",
              "   <g id=\"patch_9\">\n",
              "    <path d=\"M 394.363636 256.32 \n",
              "L 394.363636 34.56 \n",
              "\" style=\"fill: none; stroke: #000000; stroke-width: 0.8; stroke-linejoin: miter; stroke-linecap: square\"/>\n",
              "   </g>\n",
              "   <g id=\"patch_10\">\n",
              "    <path d=\"M 648 256.32 \n",
              "L 648 34.56 \n",
              "\" style=\"fill: none; stroke: #000000; stroke-width: 0.8; stroke-linejoin: miter; stroke-linecap: square\"/>\n",
              "   </g>\n",
              "   <g id=\"patch_11\">\n",
              "    <path d=\"M 394.363636 256.32 \n",
              "L 648 256.32 \n",
              "\" style=\"fill: none; stroke: #000000; stroke-width: 0.8; stroke-linejoin: miter; stroke-linecap: square\"/>\n",
              "   </g>\n",
              "   <g id=\"patch_12\">\n",
              "    <path d=\"M 394.363636 34.56 \n",
              "L 648 34.56 \n",
              "\" style=\"fill: none; stroke: #000000; stroke-width: 0.8; stroke-linejoin: miter; stroke-linecap: square\"/>\n",
              "   </g>\n",
              "   <g id=\"text_31\">\n",
              "    <!-- SimpleNetwork: Training Accuracy -->\n",
              "    <g transform=\"translate(418.742131 28.56) scale(0.12 -0.12)\">\n",
              "     <use xlink:href=\"#DejaVuSans-53\"/>\n",
              "     <use xlink:href=\"#DejaVuSans-69\" x=\"63.476562\"/>\n",
              "     <use xlink:href=\"#DejaVuSans-6d\" x=\"91.259766\"/>\n",
              "     <use xlink:href=\"#DejaVuSans-70\" x=\"188.671875\"/>\n",
              "     <use xlink:href=\"#DejaVuSans-6c\" x=\"252.148438\"/>\n",
              "     <use xlink:href=\"#DejaVuSans-65\" x=\"279.931641\"/>\n",
              "     <use xlink:href=\"#DejaVuSans-4e\" x=\"341.455078\"/>\n",
              "     <use xlink:href=\"#DejaVuSans-65\" x=\"416.259766\"/>\n",
              "     <use xlink:href=\"#DejaVuSans-74\" x=\"477.783203\"/>\n",
              "     <use xlink:href=\"#DejaVuSans-77\" x=\"516.992188\"/>\n",
              "     <use xlink:href=\"#DejaVuSans-6f\" x=\"598.779297\"/>\n",
              "     <use xlink:href=\"#DejaVuSans-72\" x=\"659.960938\"/>\n",
              "     <use xlink:href=\"#DejaVuSans-6b\" x=\"701.074219\"/>\n",
              "     <use xlink:href=\"#DejaVuSans-3a\" x=\"758.984375\"/>\n",
              "     <use xlink:href=\"#DejaVuSans-20\" x=\"792.675781\"/>\n",
              "     <use xlink:href=\"#DejaVuSans-54\" x=\"824.462891\"/>\n",
              "     <use xlink:href=\"#DejaVuSans-72\" x=\"870.796875\"/>\n",
              "     <use xlink:href=\"#DejaVuSans-61\" x=\"911.910156\"/>\n",
              "     <use xlink:href=\"#DejaVuSans-69\" x=\"973.189453\"/>\n",
              "     <use xlink:href=\"#DejaVuSans-6e\" x=\"1000.972656\"/>\n",
              "     <use xlink:href=\"#DejaVuSans-69\" x=\"1064.351562\"/>\n",
              "     <use xlink:href=\"#DejaVuSans-6e\" x=\"1092.134766\"/>\n",
              "     <use xlink:href=\"#DejaVuSans-67\" x=\"1155.513672\"/>\n",
              "     <use xlink:href=\"#DejaVuSans-20\" x=\"1218.990234\"/>\n",
              "     <use xlink:href=\"#DejaVuSans-41\" x=\"1250.777344\"/>\n",
              "     <use xlink:href=\"#DejaVuSans-63\" x=\"1317.435547\"/>\n",
              "     <use xlink:href=\"#DejaVuSans-63\" x=\"1372.416016\"/>\n",
              "     <use xlink:href=\"#DejaVuSans-75\" x=\"1427.396484\"/>\n",
              "     <use xlink:href=\"#DejaVuSans-72\" x=\"1490.775391\"/>\n",
              "     <use xlink:href=\"#DejaVuSans-61\" x=\"1531.888672\"/>\n",
              "     <use xlink:href=\"#DejaVuSans-63\" x=\"1593.167969\"/>\n",
              "     <use xlink:href=\"#DejaVuSans-79\" x=\"1648.148438\"/>\n",
              "    </g>\n",
              "   </g>\n",
              "   <g id=\"legend_2\">\n",
              "    <g id=\"patch_13\">\n",
              "     <path d=\"M 401.363636 72.4725 \n",
              "L 550.505824 72.4725 \n",
              "Q 552.505824 72.4725 552.505824 70.4725 \n",
              "L 552.505824 41.56 \n",
              "Q 552.505824 39.56 550.505824 39.56 \n",
              "L 401.363636 39.56 \n",
              "Q 399.363636 39.56 399.363636 41.56 \n",
              "L 399.363636 70.4725 \n",
              "Q 399.363636 72.4725 401.363636 72.4725 \n",
              "z\n",
              "\" style=\"fill: #ffffff; opacity: 0.8; stroke: #cccccc; stroke-linejoin: miter\"/>\n",
              "    </g>\n",
              "    <g id=\"line2d_30\">\n",
              "     <path d=\"M 403.363636 47.658438 \n",
              "L 413.363636 47.658438 \n",
              "L 423.363636 47.658438 \n",
              "\" style=\"fill: none; stroke: #00bfbf; stroke-width: 1.5; stroke-linecap: square\"/>\n",
              "    </g>\n",
              "    <g id=\"text_32\">\n",
              "     <!-- val_tolerance_accuracy -->\n",
              "     <g transform=\"translate(431.363636 51.158438) scale(0.1 -0.1)\">\n",
              "      <use xlink:href=\"#DejaVuSans-76\"/>\n",
              "      <use xlink:href=\"#DejaVuSans-61\" x=\"59.179688\"/>\n",
              "      <use xlink:href=\"#DejaVuSans-6c\" x=\"120.458984\"/>\n",
              "      <use xlink:href=\"#DejaVuSans-5f\" x=\"148.242188\"/>\n",
              "      <use xlink:href=\"#DejaVuSans-74\" x=\"198.242188\"/>\n",
              "      <use xlink:href=\"#DejaVuSans-6f\" x=\"237.451172\"/>\n",
              "      <use xlink:href=\"#DejaVuSans-6c\" x=\"298.632812\"/>\n",
              "      <use xlink:href=\"#DejaVuSans-65\" x=\"326.416016\"/>\n",
              "      <use xlink:href=\"#DejaVuSans-72\" x=\"387.939453\"/>\n",
              "      <use xlink:href=\"#DejaVuSans-61\" x=\"429.052734\"/>\n",
              "      <use xlink:href=\"#DejaVuSans-6e\" x=\"490.332031\"/>\n",
              "      <use xlink:href=\"#DejaVuSans-63\" x=\"553.710938\"/>\n",
              "      <use xlink:href=\"#DejaVuSans-65\" x=\"608.691406\"/>\n",
              "      <use xlink:href=\"#DejaVuSans-5f\" x=\"670.214844\"/>\n",
              "      <use xlink:href=\"#DejaVuSans-61\" x=\"720.214844\"/>\n",
              "      <use xlink:href=\"#DejaVuSans-63\" x=\"781.494141\"/>\n",
              "      <use xlink:href=\"#DejaVuSans-63\" x=\"836.474609\"/>\n",
              "      <use xlink:href=\"#DejaVuSans-75\" x=\"891.455078\"/>\n",
              "      <use xlink:href=\"#DejaVuSans-72\" x=\"954.833984\"/>\n",
              "      <use xlink:href=\"#DejaVuSans-61\" x=\"995.947266\"/>\n",
              "      <use xlink:href=\"#DejaVuSans-63\" x=\"1057.226562\"/>\n",
              "      <use xlink:href=\"#DejaVuSans-79\" x=\"1112.207031\"/>\n",
              "     </g>\n",
              "    </g>\n",
              "    <g id=\"line2d_31\">\n",
              "     <path d=\"M 403.363636 62.614688 \n",
              "L 413.363636 62.614688 \n",
              "L 423.363636 62.614688 \n",
              "\" style=\"fill: none; stroke: #0000ff; stroke-width: 1.5; stroke-linecap: square\"/>\n",
              "    </g>\n",
              "    <g id=\"text_33\">\n",
              "     <!-- tolerance_accuracy -->\n",
              "     <g transform=\"translate(431.363636 66.114688) scale(0.1 -0.1)\">\n",
              "      <use xlink:href=\"#DejaVuSans-74\"/>\n",
              "      <use xlink:href=\"#DejaVuSans-6f\" x=\"39.208984\"/>\n",
              "      <use xlink:href=\"#DejaVuSans-6c\" x=\"100.390625\"/>\n",
              "      <use xlink:href=\"#DejaVuSans-65\" x=\"128.173828\"/>\n",
              "      <use xlink:href=\"#DejaVuSans-72\" x=\"189.697266\"/>\n",
              "      <use xlink:href=\"#DejaVuSans-61\" x=\"230.810547\"/>\n",
              "      <use xlink:href=\"#DejaVuSans-6e\" x=\"292.089844\"/>\n",
              "      <use xlink:href=\"#DejaVuSans-63\" x=\"355.46875\"/>\n",
              "      <use xlink:href=\"#DejaVuSans-65\" x=\"410.449219\"/>\n",
              "      <use xlink:href=\"#DejaVuSans-5f\" x=\"471.972656\"/>\n",
              "      <use xlink:href=\"#DejaVuSans-61\" x=\"521.972656\"/>\n",
              "      <use xlink:href=\"#DejaVuSans-63\" x=\"583.251953\"/>\n",
              "      <use xlink:href=\"#DejaVuSans-63\" x=\"638.232422\"/>\n",
              "      <use xlink:href=\"#DejaVuSans-75\" x=\"693.212891\"/>\n",
              "      <use xlink:href=\"#DejaVuSans-72\" x=\"756.591797\"/>\n",
              "      <use xlink:href=\"#DejaVuSans-61\" x=\"797.705078\"/>\n",
              "      <use xlink:href=\"#DejaVuSans-63\" x=\"858.984375\"/>\n",
              "      <use xlink:href=\"#DejaVuSans-79\" x=\"913.964844\"/>\n",
              "     </g>\n",
              "    </g>\n",
              "   </g>\n",
              "  </g>\n",
              " </g>\n",
              " <defs>\n",
              "  <clipPath id=\"p429875220d\">\n",
              "   <rect x=\"90\" y=\"34.56\" width=\"253.636364\" height=\"221.76\"/>\n",
              "  </clipPath>\n",
              "  <clipPath id=\"pdd5a2b674b\">\n",
              "   <rect x=\"394.363636\" y=\"34.56\" width=\"253.636364\" height=\"221.76\"/>\n",
              "  </clipPath>\n",
              " </defs>\n",
              "</svg>\n"
            ]
          },
          "metadata": {}
        },
        {
          "output_type": "stream",
          "name": "stdout",
          "text": [
            "Epoch 10/10 loss: 0.016801241785287857 - tolerance_accuracy: 0.909832775592804 - val_loss: 0.021938364952802658 - val_tolerance_accuracy: 0.9067248702049255\n"
          ]
        }
      ],
      "source": [
        "history = net.fit(inputs,                                   # new training examples\n",
        "                  targets,                                  # new training labels\n",
        "                  verbose=1,                                # verbose output\n",
        "                  validation_data=(new_test_x_normalized,   # validation examples\n",
        "                                   new_test_y),             # validation labels\n",
        "                  epochs=10)                                 # number of times to loop through the training set"
      ]
    },
    {
      "cell_type": "markdown",
      "metadata": {
        "id": "7vrCM2yO6hiH"
      },
      "source": [
        "After training the network, **take note of the tolerance_accuracy and val_tolerance_accuracy for every time you retrain the network with manipulated percentages**.\n",
        "\n",
        "The tolerance accuracy represents the accuracy of the network on the **training** data\n",
        "\n",
        "The validation tolerance accuracy represents the accuracy of the network on the **testing** data."
      ]
    },
    {
      "cell_type": "markdown",
      "metadata": {
        "id": "_-kae00F6mqw"
      },
      "source": [
        "**tolerance_accuracy**: *enter here*\n",
        "\n",
        "**val_tolerance_accuracy**: *enter here*"
      ]
    },
    {
      "cell_type": "markdown",
      "metadata": {
        "id": "q1amP4wiszlm"
      },
      "source": [
        "###Testing the Network"
      ]
    },
    {
      "cell_type": "markdown",
      "metadata": {
        "id": "M7d30W-9a3zL"
      },
      "source": [
        "Let's create a function to allow us to easily visualize how the trained network is doing on some sample inputs from the testing data."
      ]
    },
    {
      "cell_type": "code",
      "execution_count": 14,
      "metadata": {
        "id": "NASP8hqUQv_w"
      },
      "outputs": [],
      "source": [
        "from time import sleep\n",
        "def test(net, n):\n",
        "  for i in range(n):\n",
        "    net.display(new_test_x_normalized[i])\n",
        "    outputs = net.propagate(new_test_x_normalized[i])\n",
        "    print(\", \".join([str(round(v,2)) for v in outputs]))\n",
        "    sleep(2)"
      ]
    },
    {
      "cell_type": "markdown",
      "metadata": {
        "id": "TkhGLdInbZ2Z"
      },
      "source": [
        "In the visualization below, focus your attention on the two boxes in the final output layer.\n",
        "\n",
        "* When the network recognizes digit1 (which is initially 3), there should be a white block on the left and a black block on the right for the output.\n",
        "\n",
        "* When the network recognizes digit2 (which is initially 5), there should be a black block on the left and a white block on the right for the output.\n",
        "\n",
        "* For inputs that the network is having trouble recognizing, their output will not be clearly black or white in either of the two output blocks.\n",
        "\n",
        "Additionally, below the visualization of the network, when the test function is run, you can see percentages of certainty. The first number is the certainty that the digit is a digit1, and the second number is the certainty that the digit is a digit2."
      ]
    },
    {
      "cell_type": "code",
      "execution_count": 15,
      "metadata": {
        "colab": {
          "base_uri": "https://localhost:8080/",
          "height": 439
        },
        "id": "bXjwxNHPVsvD",
        "outputId": "2b5dfd5c-ca6f-4ed2-d2e4-aa9e3306630a"
      },
      "outputs": [
        {
          "output_type": "display_data",
          "data": {
            "text/plain": [
              "<IPython.core.display.HTML object>"
            ],
            "text/html": [
              "<svg id='keras-network' xmlns='http://www.w3.org/2000/svg' xmlns:xlink='http://www.w3.org/1999/xlink' image-rendering=\"pixelated\" width=\"280px\" height=\"400px\" style=\"background-color: #B0C4DE\">\n",
              " <g >\n",
              "  <svg viewBox=\"0 0 400 570\" width=\"280px\" height=\"400px\">\n",
              "    <defs>\n",
              "        <marker id=\"arrow\" markerWidth=\"10\" markerHeight=\"10\" refX=\"9\" refY=\"3\" orient=\"auto\" markerUnits=\"strokeWidth\">\n",
              "          <path d=\"M0,0 L0,6 L9,3 z\" fill=\"black\" />\n",
              "        </marker>\n",
              "    </defs><rect x=\"149.0\" y=\"24\" width=\"102\" height=\"52\" style=\"fill:none;stroke:black;stroke-width:2\"/><image id=\"keras-network_output\" class=\"keras-network\" x=\"150.0\" y=\"25\" height=\"50\" width=\"100\" preserveAspectRatio=\"none\" image-rendering=\"optimizeSpeed\" xlink:href=\"data:image/gif;base64,R0lGODdhAgABAIEAAAICAvz8/AAAAAAAACwAAAAAAgABAAAIBQABBAgIADs=\"><title>Layer: output 'Dense'\n",
              "Act function: softmax\n",
              "Act output range: (0.0, 1.0)\n",
              "Actual minmax: (0.0, 1.0)\n",
              "Shape = (None, 2)</title></image><text x=\"255.0\" y=\"52.0\" font-family=\"monospace\" font-size=\"12\" text-anchor=\"start\" fill=\"blue\" alignment-baseline=\"central\" >output</text><path d=\"M 200.0 104 L 200.0 77 \" stroke=\"black\" stroke-width=\"2\" marker-end=\"url(#arrow)\" fill=\"none\" /><rect x=\"99.0\" y=\"104\" width=\"202\" height=\"52\" style=\"fill:none;stroke:black;stroke-width:2\"/><image id=\"keras-network_hidden_3\" class=\"keras-network\" x=\"100.0\" y=\"105\" height=\"50\" width=\"200\" preserveAspectRatio=\"none\" image-rendering=\"optimizeSpeed\" xlink:href=\"data:image/gif;base64,R0lGODdhCgABAIMAAD4+PkZGRmhoaHJycoCAgJSUlJ6ensTExNra2gAAAAAAAAAAAAAAAAAAAAAAAAAAACwAAAAACgABAAAIDgAHAAiAwEAAAQUOEAgIADs=\"><title>Layer: hidden_3 'Dense'\n",
              "Act function: sigmoid\n",
              "Act output range: (0.0, 1.0)\n",
              "Actual minmax: (0.0, 1.0)\n",
              "Shape = (None, 10)</title></image><text x=\"305.0\" y=\"132.0\" font-family=\"monospace\" font-size=\"12\" text-anchor=\"start\" fill=\"blue\" alignment-baseline=\"central\" >hidden_3</text><path d=\"M 200.0 184 L 200.0 157 \" stroke=\"black\" stroke-width=\"2\" marker-end=\"url(#arrow)\" fill=\"none\" /><rect x=\"99.0\" y=\"184\" width=\"202\" height=\"52\" style=\"fill:none;stroke:black;stroke-width:2\"/><image id=\"keras-network_hidden_2\" class=\"keras-network\" x=\"100.0\" y=\"185\" height=\"50\" width=\"200\" preserveAspectRatio=\"none\" image-rendering=\"optimizeSpeed\" xlink:href=\"data:image/gif;base64,R0lGODdhGQABAIQAABAQEBERERwcHCYmJjIyMjMzMzs7Oz09PUZGRlFRUVpaWmpqanJycoSEhKCgoKSkpKmpqa2trb6+vs/Pz9ra2gAAAAAAAAAAAAAAAAAAAAAAAAAAAAAAAAAAAAAAAAAAACwAAAAAGQABAAAIHwADEJhwQMGACAsEMChAAcGDBQ4aHEggwQCCBgAgBAQAOw==\"><title>Layer: hidden_2 'Dense'\n",
              "Act function: sigmoid\n",
              "Act output range: (0.0, 1.0)\n",
              "Actual minmax: (0.0, 1.0)\n",
              "Shape = (None, 25)</title></image><text x=\"305.0\" y=\"212.0\" font-family=\"monospace\" font-size=\"12\" text-anchor=\"start\" fill=\"blue\" alignment-baseline=\"central\" >hidden_2</text><path d=\"M 200.0 264 L 200.0 237 \" stroke=\"black\" stroke-width=\"2\" marker-end=\"url(#arrow)\" fill=\"none\" /><rect x=\"99.00000000000001\" y=\"264\" width=\"201.99999999999997\" height=\"52\" style=\"fill:none;stroke:black;stroke-width:2\"/><image id=\"keras-network_flatten\" class=\"keras-network\" x=\"100.00000000000001\" y=\"265\" height=\"50\" width=\"199.99999999999997\" preserveAspectRatio=\"none\" image-rendering=\"optimizeSpeed\" xlink:href=\"data:image/gif;base64,R0lGODdhEAMBAIYAAAAAAAEBAQICAgUFBQcHBwkJCQ4ODg8PDxISEhQUFBUVFRYWFhgYGBoaGhsbGxwcHB4eHh8fHyEhISIiIi0tLS4uLjExMTIyMjk5OTo6Oj8/P0BAQEFBQUJCQkpKSkxMTE1NTU9PT1VVVV1dXWJiYmRkZGZmZmdnZ2hoaGlpaWtra2xsbHV1dXd3d4CAgISEhIaGho6OjpCQkJeXl5+fn6GhoaKioqOjo6urq6+vr7CwsLGxsba2tri4uLu7u8TExMbGxsfHx8nJycrKyszMzNHR0dfX19nZ2dra2t3d3d7e3t/f3+Pj4+Tk5Ofn5+jo6Onp6erq6uvr6+zs7PDw8PHx8fLy8vPz8/X19ff39/j4+Pn5+fr6+vv7+/39/f7+/v///wAAAAAAAAAAAAAAAAAAAAAAAAAAAAAAAAAAAAAAAAAAAAAAAAAAAAAAAAAAAAAAAAAAAAAAAAAAAAAAAAAAAAAAAAAAAAAAAAAAAAAAAAAAAAAAAAAAAAAAAAAAACwAAAAAEAMBAAAI4AABCBxIsKDBgwgTKlzIsKHDhxAjKiwA4oJEgQI0tMBh5coQEg8tKADAoAWRL2CYuFBBwCEEH1+eGInypQoNDwggIjjypWeXJCkmSEQQpOcWGx0uCoT55UcEpQIxUPlyQwBUgUq+1BhwFcAEK1o+TFABA8mOEQ0isviipcqVL1KWTJ1iAiKQnkJkZFgAIEIMLlBQPEQwQ8QBgy++5AjQFcCKngW6SijyRQdjqBuafIFCQakBEjy4fHES4uEDBw5OsJiR9QuVGA8gWtnCxUsWLFV6lIBwsYIFDhMSNB5OfHhAADs=\"><title>Layer: flatten 'Flatten'\n",
              "Actual minmax: (0.0, 1.0)\n",
              "Shape = (None, 784)</title></image><text x=\"305.0\" y=\"292.0\" font-family=\"monospace\" font-size=\"12\" text-anchor=\"start\" fill=\"blue\" alignment-baseline=\"central\" >flatten</text><path d=\"M 200.0 344 L 200.0 317 \" stroke=\"black\" stroke-width=\"2\" marker-end=\"url(#arrow)\" fill=\"none\" /><rect x=\"99.0\" y=\"344\" width=\"202\" height=\"202\" style=\"fill:none;stroke:black;stroke-width:2\"/><image id=\"keras-network_input\" class=\"keras-network\" x=\"100.0\" y=\"345\" height=\"200\" width=\"200\" preserveAspectRatio=\"none\" image-rendering=\"optimizeSpeed\" xlink:href=\"data:image/gif;base64,R0lGODdhHAAcAIYAAAAAAAEBAQICAgUFBQcHBwkJCQ4ODg8PDxISEhQUFBUVFRYWFhgYGBoaGhsbGxwcHB4eHh8fHyEhISIiIi0tLS4uLjExMTIyMjk5OTo6Oj8/P0BAQEFBQUJCQkpKSkxMTE1NTU9PT1VVVV1dXWJiYmRkZGZmZmdnZ2hoaGlpaWtra2xsbHV1dXd3d4CAgISEhIaGho6OjpCQkJeXl5+fn6GhoaKioqOjo6urq6+vr7CwsLGxsba2tri4uLu7u8TExMbGxsfHx8nJycrKyszMzNHR0dfX19nZ2dra2t3d3d7e3t/f3+Pj4+Tk5Ofn5+jo6Onp6erq6uvr6+zs7PDw8PHx8fLy8vPz8/X19ff39/j4+Pn5+fr6+vv7+/39/f7+/v///wAAAAAAAAAAAAAAAAAAAAAAAAAAAAAAAAAAAAAAAAAAAAAAAAAAAAAAAAAAAAAAAAAAAAAAAAAAAAAAAAAAAAAAAAAAAAAAAAAAAAAAAAAAAAAAAAAAAAAAAAAAACwAAAAAHAAcAEAI4AABCBxIsKDBgwgHQvDx5YmRKF+q0PCAICFBIF++CJGRYQGACDG4QEFhsWAFCxwmJCjJsqVLgRiofLkh4OXLDU2+QKFgs6fPgQI0tMBh5coQEiURBMm4xUaHnxOsaPkwQQUMJDtGNPiJcEXGAi0fOHBwgsUMJRmpxHjAta3bt3APFgBx4aUFBQAYtCDyBQwTFyoItERwJOOXLklSTPDJ8MuPCG7R1hjwlsUXLVWufJGyROYUEzYRzBBxwOCLLzkCvJVQ5IsO1T4NkODB5YuTEC+tbOHiJQuWKj1KQIhLvGdAADs=\"><title>Layer: input 'InputLayer'\n",
              "Actual minmax: (0.0, 1.0)\n",
              "Shape = [(None, 28, 28)]</title></image><text x=\"305.0\" y=\"447.0\" font-family=\"monospace\" font-size=\"12\" text-anchor=\"start\" fill=\"blue\" alignment-baseline=\"central\" >input</text><text x=\"200.0\" y=\"12.5\" font-family=\"monospace\" font-size=\"15\" text-anchor=\"middle\" fill=\"black\" alignment-baseline=\"central\" >Activations for SimpleNetwork</text></svg></g></svg>"
            ]
          },
          "metadata": {}
        },
        {
          "output_type": "stream",
          "name": "stdout",
          "text": [
            "0.01, 0.99\n"
          ]
        }
      ],
      "source": [
        "test(net, 10)"
      ]
    },
    {
      "cell_type": "markdown",
      "metadata": {
        "id": "5jVbLWuL9X7r"
      },
      "source": [
        "As you can see from these examples, when the network's dataset is split evenly between the two digits, it typically performs quite well. It has an accuracy of around 91% on the test dataset (which it was not trained on). This shows that this network is effective at predicting whether a hand drawn digit is a 3 vs a 5.\n",
        "\n",
        "NOTE: We could build a more complex network that would perform better, but it would take longer to train."
      ]
    },
    {
      "cell_type": "markdown",
      "metadata": {
        "id": "DJlbuEzjTZ_j"
      },
      "source": [
        "Now, let's see how many total errors this network made and which specific digits it classified incorrectly.\n",
        "\n",
        "Run this next code block to see a summary of the errors the network made. **Note how many errors the network made and which digit it classified incorrectly most often.**"
      ]
    },
    {
      "cell_type": "code",
      "execution_count": 16,
      "metadata": {
        "colab": {
          "base_uri": "https://localhost:8080/"
        },
        "id": "3xY3TF98O1re",
        "outputId": "7f40d0e8-c08c-4c69-cc4d-03ac59f17f75"
      },
      "outputs": [
        {
          "output_type": "stream",
          "name": "stdout",
          "text": [
            "number of digits classified incorrectly: 44\n",
            "percentage of errors on 3's: 0.27\n",
            "percentage of errors on 5's: 0.73\n"
          ]
        }
      ],
      "source": [
        "from numpy import argmax\n",
        "outputs = net.predict(new_test_x_normalized)\n",
        "answers = [argmax(output) for output in outputs]\n",
        "newtargets = [argmax(target) for target in new_test_y]\n",
        "incorrect = [i for i in range(len(answers)) if answers[i] != newtargets[i]]\n",
        "print(\"number of digits classified incorrectly:\", len(incorrect))\n",
        "missed_target = [targets[i] for i in incorrect]\n",
        "wrong_answer = [answers[i] for i in incorrect]\n",
        "per_digit1 = 0\n",
        "per_digit2 = 0\n",
        "for i in range(len(incorrect)):\n",
        "  if wrong_answer[i] == 1:\n",
        "    per_digit1 += 1\n",
        "  else:\n",
        "    per_digit2 += 1\n",
        "print(\"percentage of errors on %d's: %.2f\" % (digit1, per_digit1/len(incorrect)))\n",
        "print(\"percentage of errors on %d's: %.2f\" % (digit2, per_digit2/len(incorrect)))"
      ]
    },
    {
      "cell_type": "markdown",
      "metadata": {
        "id": "8KapHOuj-hNj"
      },
      "source": [
        "*write observations here*"
      ]
    },
    {
      "cell_type": "markdown",
      "metadata": {
        "id": "prn5CWDRT7Aw"
      },
      "source": [
        "We can see a gallery of all of the digits that were classified incorrectly."
      ]
    },
    {
      "cell_type": "code",
      "execution_count": 17,
      "metadata": {
        "colab": {
          "base_uri": "https://localhost:8080/",
          "height": 393
        },
        "id": "5cCoTBS4Qf6a",
        "outputId": "744680e7-48f8-4a61-d79b-77762b1c8eb7"
      },
      "outputs": [
        {
          "output_type": "display_data",
          "data": {
            "text/plain": [
              "<IPython.core.display.HTML object>"
            ],
            "text/html": [
              "<table><tr style=\"padding: 1px\"><td style=\"text-align: center; padding: 1px\">0<br/><img src=\"data:image/PNG;base64,iVBORw0KGgoAAAANSUhEUgAAABwAAAAcCAAAAABXZoBIAAAAyUlEQVR4nM3PsQ7BUBQG4KMaqwlROrJi06nxAuz2Moh4EolIDH0K9QQaHoCQWCSVRiQW6dBJ8p/UUtLgrOIs9+R8+e+5l+gnVV1ash1xkmzkAa5gqs04lAUcgLEWTNtwxE0BDYCdTGKgJPrwRmRUpMfaYMwk1ME41yQdR8y+hNluiPu0LvE8AC45SfsAl+Jeecfdt4RpEhGR5TFHz6Qan9pilSdqm4V0tO1c34I6GAAYQa/4casWMAD4TisxTL12Nmjo7ifSJ/6jHnYqUhBLh9NUAAAAAElFTkSuQmCC\" alt=\"0\" title=\"0\"></img></td><td style=\"text-align: center; padding: 1px\">1<br/><img src=\"data:image/PNG;base64,iVBORw0KGgoAAAANSUhEUgAAABwAAAAcCAAAAABXZoBIAAABJUlEQVR4nGNgoD9gRDCt/BkYGKLfN635j65IUqX16D8IYIULskDlTksxMJwTeflkGQPDX3SNKv/+/fvHK4vdanb9U//+caOLQo39efELw+U/tvrS0QwMh4+/WYGmat+/E9t/QZ3050s+I7Kc/KN///79+/38+fPnz59/+/cvDVnS7N+/f68m+UM4IZ//rWJGktR6/++pDpyX9u9fKsJBDNds3dffg0veYWBQQpJkuHIF04NMWL2dw8BwBs5h52FBlpO88282I1xn06dYZElVJYYPiKgp/vfGjxPh8gf/3iMFM+v0f/9mOzlCOHUP//0LY2BggEe25BJHBob/Z7ddYdDxMmH4mL71K7I1HDV7/8HAVsyoYxMUab/8/9//U97sWL1HJwAAcsF/F1O5Xw8AAAAASUVORK5CYII=\" alt=\"1\" title=\"1\"></img></td><td style=\"text-align: center; padding: 1px\">2<br/><img src=\"data:image/PNG;base64,iVBORw0KGgoAAAANSUhEUgAAABwAAAAcCAAAAABXZoBIAAAA80lEQVR4nNWQIU9CURiG3ztJJgMkg1QS8w/YnJiJ8gNgEzKRIoF0nSQamQ02HZVf4IYb4U4DGyOAA4xY3pdjOVfu7jnF6LednfCc873P9wH/qQJ7n42usHl4ypt80QCBeV4c3+TGJMmP5XInkuJNosEtSZKy5/0um4AXrQRc3afDyxMLQ59a3cKvnkd7FrddlVx4zIzcrw1Jb9Xc1EixUOYX9i+zw5ctrj+Nz8iWSGeUJJzEHg40B+AklRmU8LoBgIMns0ZWAJw3RXbTMCQjAGP6hB6ldX0gycjdXxhvaN45dWAh+ibFfVTwDtgm1ap40Z/rB+cNpGqj0pqIAAAAAElFTkSuQmCC\" alt=\"2\" title=\"2\"></img></td><td style=\"text-align: center; padding: 1px\">3<br/><img src=\"data:image/PNG;base64,iVBORw0KGgoAAAANSUhEUgAAABwAAAAcCAAAAABXZoBIAAAA4ElEQVR4nGNgGOTAeKERTjnDJ392ujHwurm5Ycppv/zz58+fC9f//LmEKffs758/f/78vSQmxsPAwMDAgixZIM7069xahh6sNp7/87cFmc+EzHnIwPAdp1tj//z9ssEah6Tx3r9//nypw6W3/tn3v3/rcRqd/+fPMxibBVWK3d6WgeEhqpigJITWvvLnz59LXqiSya4MDAwMDB0f/v652ymGKjf1pz2nRPj8v3///pmrgO6Iv28WHvrz98+f1zNDMF248s+fP3++b0/RQRNnZGBgYJD0lD/4+u81HJ4bRAAAFVNYifwxdOkAAAAASUVORK5CYII=\" alt=\"3\" title=\"3\"></img></td><td style=\"text-align: center; padding: 1px\">4<br/><img src=\"data:image/PNG;base64,iVBORw0KGgoAAAANSUhEUgAAABwAAAAcCAAAAABXZoBIAAAAjElEQVR4nM2RQRLDIAwDt50+TH1Z3JfBz9wDDpgQjp2pTowXZMvA/8r8lC2s+JBa6dmh0sU4P3rBE4zqa7J+i+N2nuJemqedHYatHfAB1lEB9kESDPcNvKNjQ75CzAQqG+Om0p9GFFFT85wQ5O49uq5NI6FiLpug8of1h7H4On1Z5aoRUwsDZJ4H+5m+R6+C2yNGTuIAAAAASUVORK5CYII=\" alt=\"4\" title=\"4\"></img></td><td style=\"text-align: center; padding: 1px\">5<br/><img src=\"data:image/PNG;base64,iVBORw0KGgoAAAANSUhEUgAAABwAAAAcCAAAAABXZoBIAAAA2UlEQVR4nGNgGGggcOPv3wNO7DAuI4qk7H0GBsb/+98dXv6WgYGBgQVDd66EmneIZDWmsZv//JnOwMAgKcOJKcf7/+9fP1zuKfz756UYEp8JTT79FR7JFwy4JL8wMnpgOh8GZv7504BTkn3qnz91uGVn/nmnhlOW4dG/o9gdxMDAwPD//384G+E4Lm+Grd9QFcJ1Gt9e/uMnA4MaDxar8j/+a2NgYNB9+vdfCIaxttz/JRmkdGaL/79yAkOn8Jy/H47e+/vnz0ZJbH7QWPrnz98/S/ixydERAABuZUaNlE8YKAAAAABJRU5ErkJggg==\" alt=\"5\" title=\"5\"></img></td><td style=\"text-align: center; padding: 1px\">6<br/><img src=\"data:image/PNG;base64,iVBORw0KGgoAAAANSUhEUgAAABwAAAAcCAAAAABXZoBIAAAAn0lEQVR4nMWPIRLCQAxFI1DUUltNbdH46lo4BNXI7R04BNtB1nYP0Rlcsdsz5Kc4BLPfQlzy5iU/In+uvI2G5ZyGAxSKMQ0bEckt8tUDbpTVsBOFQf2WoGwyT72ee3XkXgl1zGthMCyXMgUL5xUKnXc0UoBVn2bzTdfHk3iHYCPb2UT1RWKedSIdzCez9ne50j9XGF5Hcm5SV+1Zll/WG+19SHLLNj0eAAAAAElFTkSuQmCC\" alt=\"6\" title=\"6\"></img></td></tr><tr style=\"padding: 1px\"><td style=\"text-align: center; padding: 1px\">7<br/><img src=\"data:image/PNG;base64,iVBORw0KGgoAAAANSUhEUgAAABwAAAAcCAAAAABXZoBIAAAA1UlEQVR4nGNgGOKApacNp5THkb/zsEvpNhz4+/evOaaEV9+2e7///f170wmLrp9///79++9gPDs2I3/9OVYsh8spF3cxMDAwiCCJMCE55opE7Ibz1/frYdHo9m/V9r9///39+5UPUzLg39+/L6dWLPn7txhTcv7/P9uVGRgYDP6tw7RT6W+N510GBgaG/88xJeUWdUCMZ/iIxUFcDAwMDAwct96KYXEuBMz5iy30ICD13y4uXHK6r25L45LTf36ZB5dczLOXysh8JmSOwzX7uzhdQxIAAHTATLjsYNMrAAAAAElFTkSuQmCC\" alt=\"7\" title=\"7\"></img></td><td style=\"text-align: center; padding: 1px\">8<br/><img src=\"data:image/PNG;base64,iVBORw0KGgoAAAANSUhEUgAAABwAAAAcCAAAAABXZoBIAAAA7klEQVR4nGNgGLSgcs77+xf/HZpjgEWO5fi/v3///v33txqLpMbff3//bnn97+/TQLgYE4xhwvDNWMxPRXS5hAqmzo6/H+QYGBgYtP5qYupkZOR3ZWBgYHiWeh1TZ8zff9v4cPmE58q/v8fZcMmavvv7906HPA5Z6xN///79kIlDlqPh57///2ZL45A2Xvvv79+bZbhsTv349+/fZFyyEpN+/T2D09UM8//+U8cpaffvCJTFAhNi4fjCwMDAwCoelff/P7pkesm0WwwMqn7WDAwP56MbVvIFGtkPa5QwrQqe/e7v3+uz84VwOoZaAACQ2mCQRxZfjAAAAABJRU5ErkJggg==\" alt=\"8\" title=\"8\"></img></td><td style=\"text-align: center; padding: 1px\">9<br/><img src=\"data:image/PNG;base64,iVBORw0KGgoAAAANSUhEUgAAABwAAAAcCAAAAABXZoBIAAAAz0lEQVR4nGNgGJzAfuf1663M2OU8Pv379++fOnbJi//+/fv3rwi75L9/eHQe/vfv6zw1DGEmBgYGBoZJzxiYhQOV2dAkGSGUilYUuz/DqS1bz2M3mkGrdMfvb1cjccgyMLge/PfziClOadusa/8ycMoy8Nz/N0cKt+z2f5ckcMpyLPl3CUNvSHKyOAMDAwODyq5/58UZ4P5kYGBgYFgdzMDwes0yBgZGvi2Mt9ACkzn77T8EwLBNq+QQsiQjmjQrH4Oamvj/R49uvcXp4IEDAMliVxbGVL7LAAAAAElFTkSuQmCC\" alt=\"9\" title=\"9\"></img></td><td style=\"text-align: center; padding: 1px\">10<br/><img src=\"data:image/PNG;base64,iVBORw0KGgoAAAANSUhEUgAAABwAAAAcCAAAAABXZoBIAAABBklEQVR4nGNgGGSAEcaYoMW5cf5bHJI3VRkYXn7f+H7ZjyeYRty877bn379///792bM2xgVd8g4bk3Lqtn///v37/283uuQ/cwYGBmY187Zjz35CJVkQ0m8ZGBj+3mI4ycBg8RdDJyeGO5gQTA4Gdu9DV474sGNx7b+Z9af//fv3798ZAyyS//79e7zq3Lmv/7Zyo0te/vdthoEoAwND0K9/7eiS6kFKUFb3v32YtsKA57+ZmK6FAYTXMSWVpuI0U7rh7r+fcdhkmCT63/z79zsdxofGp6QMKxeDTqAtA8PXIxkP0fRs/PHr379//358u+uFJArVGcjq4fr4xt4bfy7idA31AAALcWsndUY5zgAAAABJRU5ErkJggg==\" alt=\"10\" title=\"10\"></img></td><td style=\"text-align: center; padding: 1px\">11<br/><img src=\"data:image/PNG;base64,iVBORw0KGgoAAAANSUhEUgAAABwAAAAcCAAAAABXZoBIAAAA9UlEQVR4nL3RMUtCURjG8UfyLjVYIEIQJIIQ0p2EggK/RbQYFNEYYp8gsC8RIiotbS1Ro0NBQnJBh+ZAFy9XocBoSP4NOtS956w+4/PjvOe8HGnxiRm6sqNU8lhS/F99uKLXyn5S0oPC2Nty5Kf0+KN6KzLv6aV5CY0lyxOWn6FssZ17pr7F9u6gbzF9AUUzFQYAo0HDidDqTcA8vY0w1oCh53kVHzIhy/UZV/OS4rUo6uLalSSlMeA8xS501sx28AadhJGyV99MbsPnjtppyW2/Q/fkTz37svXd+kTbm/ponQWReeefwNQ/LRhvc4cEJcsCi80v/fJnAHZAd9EAAAAASUVORK5CYII=\" alt=\"11\" title=\"11\"></img></td><td style=\"text-align: center; padding: 1px\">12<br/><img src=\"data:image/PNG;base64,iVBORw0KGgoAAAANSUhEUgAAABwAAAAcCAAAAABXZoBIAAABDklEQVR4nMWQPUvDYBSFn0qkBVGoIAQNWHC0s4uik26iuyDiKLpaJ/0J/gfRwbEVlA6CFjfFRluwk8WCk/hRzCI9r3VICmka597pcp77ce6FvsaZMcZsrcay+U9JMk3XtTuS1UlS9jAAQ1lG31uRxj1JkowkHQbaQIjXVOHlu1VjJToWyJeeso106vmmZyeQSy7kq8Dpb9TsclOSvMIiWFYUsuGf8lG0exCwFri9TcdRmHhsG2MeJuPp+PW9pJ14CGMlqZ78j65L2vXTRCANLgHFmdeRytwVfGW8UPn0hSSdv7n1QkOSMuFZzr5Cj5eOujYlDsLwLnKqM3tc/vFh9dLpNgTAZm5quw0nHv2LPxAgk+wRIRkVAAAAAElFTkSuQmCC\" alt=\"12\" title=\"12\"></img></td><td style=\"text-align: center; padding: 1px\">13<br/><img src=\"data:image/PNG;base64,iVBORw0KGgoAAAANSUhEUgAAABwAAAAcCAAAAABXZoBIAAAA7UlEQVR4nGNgGKzgzf+eYFxyuX///v39o78sGpuk/de/f//+/fv318ePdwu00WVf//27ZCtEwd9PU9Ekfb/8jeSwm31u9uxVfz+fsUSTffJ3BQMDgyADA6uCrCC6uU/+frh+fZsTdvdW/v379+/fq2JIQkxw1rnvDK92fNBIFcPUx8DAkOSnweD/9m8+doMZGBgY5v/9ZI9T0vrv3004JYW2/L2G21zdjx9scctu+LsOxmTCIq2PLumUyMvAwMDAwFqk93c1uuqsP5fl+Pj4ilf+/X0a06yn0Oj60Y7NIflv//79+/e+Mm6nUgsAABbBaBwm99YHAAAAAElFTkSuQmCC\" alt=\"13\" title=\"13\"></img></td></tr><tr style=\"padding: 1px\"><td style=\"text-align: center; padding: 1px\">14<br/><img src=\"data:image/PNG;base64,iVBORw0KGgoAAAANSUhEUgAAABwAAAAcCAAAAABXZoBIAAAA60lEQVR4nGNgGGSAEZmT/nmZbAKDcP4np7MYCi//+fPj59+/f/8uZ8Y05frfv3///v37po4VixUL//79+3SqtQBW+9v//p0ggizAhMS+z8Cw6g0uyTh0o5AlhRkYYi9e3OmMzUqpRxDXXsOm00magYHh4xkGOTcsOiUe/v27zojvyN/d2MzNOJkoyMB94O9dbJIMDAwMDD5/cUtqPPv7vQJT2EGUgYGBoR/ZtXDAvVWBgYHB7OnfH7WYkpl/cxnYLZ/9/duEEGNBklZS8mH4O2MBFpek/f379+/fH9XY3bnw79+r1TK4fEFNAACn81wU3QxPpwAAAABJRU5ErkJggg==\" alt=\"14\" title=\"14\"></img></td><td style=\"text-align: center; padding: 1px\">15<br/><img src=\"data:image/PNG;base64,iVBORw0KGgoAAAANSUhEUgAAABwAAAAcCAAAAABXZoBIAAABBElEQVR4nGNgGGSAEcHU7rFr5Xiu/X3qAyzqtv/58+fP3z9/3irARFjgcmZu/xkYGBh+fmFlw9S44e/zvdc/XZyoLoPF1Mt/Txc/+fb3z31lLJJX/v39+/fvv79//9pgyBl8+gt10J9HKugOKuD6+/b0GQZGPz1GKbc7aDqDJ7pBGO1//mzAYisEiP35890Up+yMv/9XQFhMmJIr/v9jQJNk44WxOBkY5qMq5993UxrC0nz457gohjOuuDMwMNj1vvjzJwvdjX///rtlk/Hm/9+/f9/ookmyzfoDC6HnZhhutP4JkfzaZozFe5f//vnz589xCyxSDAzKkx99mZwuhFWOugAAjuZ8091Tim8AAAAASUVORK5CYII=\" alt=\"15\" title=\"15\"></img></td><td style=\"text-align: center; padding: 1px\">16<br/><img src=\"data:image/PNG;base64,iVBORw0KGgoAAAANSUhEUgAAABwAAAAcCAAAAABXZoBIAAAA8UlEQVR4nGNgGGSAEYnN38zH+J+BgYHBWVr9NrrCrH9woMrAwMDAwIIkqcvAwPD7NwP7p5UnnmBYEfHv32tjBgZ7uAATkqQ6A8O9ywwMB7E6zvLfv19SyALIOhUYGA49w+4pBoY1//79+XpuugJWya8Qb7xMwCa5HurJnxbYZPVsJPUY8v/9a4PykQOB4RIDw3OGuwwMolhcC1e+AZeTlR/9uyqJXYrX5/O/r7pYpZjNdv779yMcXUMQAwMDg/G6f////QpB1xL3a7pD681f//792+uIYZ4JxPcf9nmieA2STLjizCN2Xjj04B4uP1AVAADHkGJAC3LiKwAAAABJRU5ErkJggg==\" alt=\"16\" title=\"16\"></img></td><td style=\"text-align: center; padding: 1px\">17<br/><img src=\"data:image/PNG;base64,iVBORw0KGgoAAAANSUhEUgAAABwAAAAcCAAAAABXZoBIAAAA0klEQVR4nM2Puw4BURCGh+h4AOW+gU2ULusJ0EtWQa8SnkGtUCHRSSQikWiVin0CCp0lIvo//1kFcYk5ncI0kzPf+eYi8mcRe+T0tGCkfZFVqHwqgQDAoOWkvkzHFyl6Ejcii8lcsd3wrg8V1g0AAhjkvlA+IslRT117SACDz1ri49UIx3vN7NxP2ahtpe7PAF4rOhWRZkTWrPQInK3U3QGwqtl3+H5KtSyxpEVySEYk+azEXzAcG2OMMSdV9c4gsM3ojZcg0LdMTa958FMW+Lu4AfPlas9Gc0sBAAAAAElFTkSuQmCC\" alt=\"17\" title=\"17\"></img></td><td style=\"text-align: center; padding: 1px\">18<br/><img src=\"data:image/PNG;base64,iVBORw0KGgoAAAANSUhEUgAAABwAAAAcCAAAAABXZoBIAAAAzUlEQVR4nL2RoQ7CMBCGrwuPsFmQpJZZOknQPAQvgUdiATskIzxIA4oNHAkKCI4Edf+KGCGDtnZnevd/vevdlah5E9XRUX2Sx8d257qzYDAYLF0wUZJIbnBve9+IGb163Pp6cthNxP7iTtNgcPgjBbXGhRBF7Mtcg3GdOOFIElGiyyzyNhxmPPNCinSZ+6nK3XuqTD6Ljp9qzCsnsFBU9GzxU3N1BmPwr6YmW94MDAzsYVJ8/hQHZVecaAMDk4+/2xd1PKdoSqeXf44G7A2hAVVIQ5V6BQAAAABJRU5ErkJggg==\" alt=\"18\" title=\"18\"></img></td><td style=\"text-align: center; padding: 1px\">19<br/><img src=\"data:image/PNG;base64,iVBORw0KGgoAAAANSUhEUgAAABwAAAAcCAAAAABXZoBIAAAAxklEQVR4nGNgGMqAvXS/PU65aX8eq2GXyjh65s8Dbexyxt/+/P1zlhe7pNvfv7+//P17wEkYU0734Z8/3kHX//z986BcCl3y6Z8HZQwMwlkrHvz5c98Jzca/f84WMjAwMDAIy8jIcKJKXvv/9+/fT07sWJ2jdnTikbt//zRhdywDA4Pkpj9HuHDKyv75I4PgMaFK8jD++ItT57I/K3DKqf19aYdLLvLh3wQcUiwNf/9Ox6Wv4c/Libjk6vDY5/PzozUuOdIBADUsThQ8e+0vAAAAAElFTkSuQmCC\" alt=\"19\" title=\"19\"></img></td><td style=\"text-align: center; padding: 1px\">20<br/><img src=\"data:image/PNG;base64,iVBORw0KGgoAAAANSUhEUgAAABwAAAAcCAAAAABXZoBIAAAAv0lEQVR4nGNgGLyAd9NhKZySAX//5uGUNP/79yQniggjgtklx1jwHEWSCcFcesGGEUWOgQWJbcl+dbGU0hyBBc8wdTL47J3N4StXI26IxUH6f/8yMFgK43BubxwOCQYGBu0Pdzzuzc4UxCopNeXvvxeLvj20xSrL3p7OxrDj3xTchu/891YWxmZCl/zPIJCCS1LGArehDFP//tvJi0NO7u2//zj1Tv57uwfDGTDw7O8p7IHAwMDAsPgUrrClIgAAz/s1i+Mgi3kAAAAASUVORK5CYII=\" alt=\"20\" title=\"20\"></img></td></tr><tr style=\"padding: 1px\"><td style=\"text-align: center; padding: 1px\">21<br/><img src=\"data:image/PNG;base64,iVBORw0KGgoAAAANSUhEUgAAABwAAAAcCAAAAABXZoBIAAAA50lEQVR4nGNgoDE49u/f/3+b0pGFWGAMXtWWqYrGHI+wauz4W4UhxgRjLP3Bj1vy8idG3JIM743wSG4xUYAx+bnRlXn8bWdgYGBgEGyb/nQbhiFTd0kxMDAIv70Wu+o8hqTth71qDAyW+2QZ3M5hSDI4f/1yNoSBgQEuCQ2h0LvnGBj2mnvf2Iiph2G7KzLP7TyKV9akIEsG/0eRXGUyVRghyYFmbsi/685wzkJ010pd+zdDCsrcPQXdTbw9H943SjEwMLDu/WiD6WTnxb8flEhoHP6biinHwMAQcOrvv79/y7HKDQYAAIjlRTxtrm0DAAAAAElFTkSuQmCC\" alt=\"21\" title=\"21\"></img></td><td style=\"text-align: center; padding: 1px\">22<br/><img src=\"data:image/PNG;base64,iVBORw0KGgoAAAANSUhEUgAAABwAAAAcCAAAAABXZoBIAAAA6UlEQVR4nGNgGGggxobCZUTmGB1m3PhiB8Pja9g0Lvz379+/f/8+amKT/Pbv34NL//59UcAm+e/fCQE2ZWW4HAuSnBcDw5sPDHcRAsiSfIz/vzvdZGD4+gGLqUEQ9/x7Us+GRXbW1+8Q6fUQPiOqtLANAwNnkQkDEzb3MjAwMDC0/vuHU87oD8xYTODz5d9XbA5iYGCQm/Dz368MrFLOM9/9+/cwBFOC33Xm5T///r1ulUAWXVMjwq9VvOP+v3//vp2LkUTVcuvf+8f//v378X19jA6qDCMDg9cKZoZL13Zf+3cFlwcGDQAAdqVi/IuvUx0AAAAASUVORK5CYII=\" alt=\"22\" title=\"22\"></img></td><td style=\"text-align: center; padding: 1px\">23<br/><img src=\"data:image/PNG;base64,iVBORw0KGgoAAAANSUhEUgAAABwAAAAcCAAAAABXZoBIAAAAvElEQVR4nGNgGKyAtfjjv///QrFL9v/9+/bv30MoYkwwxoXTyTH4TJ77928WLjn/b39v8+GSfPj3hQSqCBMy599bPJLiz2zYcBgb8vjv379bS7QYscqqhR968/fv33JJHLprTvz9+/coLifzau77+7MclywD95G/Px1wyvL9+NsEYTFhSn5ZwaCDS6NO4d+/bjjkzN/+/ZYvgkWCQzdk3de/lxOwacq59/bv3xupglhNdD75ql2HG5dbqAcAC9dHb2pGKpcAAAAASUVORK5CYII=\" alt=\"23\" title=\"23\"></img></td><td style=\"text-align: center; padding: 1px\">24<br/><img src=\"data:image/PNG;base64,iVBORw0KGgoAAAANSUhEUgAAABwAAAAcCAAAAABXZoBIAAAA5UlEQVR4nMVPsWrCABQ8ixAQMmXTdHXKUqRgpuy6denWyakO7gEXNwtursXVOS7BbK5Sv8EholgEQdDlXuIgraHmrfaW93jH3bsD/hHlwSCQNHCyt8JlmC/D4hdgPMW13Y3OJfsAjBbtzPXhd9sAsN7b69uPrsikBNRy47ikjLSs5ttB9qOSRjfnZJxvC8D7+JYkeC4qtB3GZKCqnYg8+ZbCGnYsXHc1MbzZpXM+LP+odwb6sndU0hTWNdvHSRICADKdqxaAagP1CqatP4LOlhSSi3Hvx/OqXEavi1mKz9VBT3oHnAEdh1GRbGtVzgAAAABJRU5ErkJggg==\" alt=\"24\" title=\"24\"></img></td><td style=\"text-align: center; padding: 1px\">25<br/><img src=\"data:image/PNG;base64,iVBORw0KGgoAAAANSUhEUgAAABwAAAAcCAAAAABXZoBIAAAAt0lEQVR4nGNgGHAQeXohbrnX9zVwSq76m4DMZUSR/HfXSNSagSP4XBWmxvL//+78+//v35M2CJ8FWdLx/7vfF46d2/rjIxZJBgbnW9+ReEyoki+Q5VAlGRmsGXBK7mXI0cJ0Jgys/PsAdyAIr/z7RAm33qn/puOWtP3wwx27gxgYGI6dZ0MXggPBnr+n2XDIxV/5h91BcvrV5/79PYfNK8y1b//+fXM2ghObPom//06FCuNyCh0BABTdPxj4UWfvAAAAAElFTkSuQmCC\" alt=\"25\" title=\"25\"></img></td><td style=\"text-align: center; padding: 1px\">26<br/><img src=\"data:image/PNG;base64,iVBORw0KGgoAAAANSUhEUgAAABwAAAAcCAAAAABXZoBIAAAAy0lEQVR4nGNgGGSAEY2vLG1+7isDg5B2N4bShkvv/kPAZUxzjv+HgVkMDAwMLCiSsy0YDh5jYDhzUf00ps7b//9rIHGZUCRFGF58wCm5nEHCEKfkKQYGJ0zLoIDn5v+NOCUZzv7/YYTLWIZ/DOw+OHUG/f+/A6fO5yg8VEm+RQwMT3EYKrLn//8ZXNjlUt7+/79FE4uEoEr9ym//f2zgwJCxiN939/////93mmHR9ur///8fL24wZ0YTZ2RgYGBQSr9498NNHK6kPgAA5q9N9/cVdyIAAAAASUVORK5CYII=\" alt=\"26\" title=\"26\"></img></td><td style=\"text-align: center; padding: 1px\">27<br/><img src=\"data:image/PNG;base64,iVBORw0KGgoAAAANSUhEUgAAABwAAAAcCAAAAABXZoBIAAAA5UlEQVR4nGNgGKpAbT+aAAsS28FutvZVbYZtfd8wNXJe/wcBPVhMFfj379+/j6/+/ftgh2msA8PXOa1//7No3xPB0Gj89Z8ng7WXAVa3Bvz7Z7njx78vRayYcuxHoM75N58dQ7Lo/79//55NnLj1379CDMmmf79PFasxMDDM+ncQQ/Lav2NQ84/+ckKXTPVnhrJcfgVjdTEEPC2HMlgwpFjS+R7h1Nf177wEDimejr8ffLFLaeXe/rfPFFOYj4GVm/fkv+cZzJh6qs4vPPvv3+0iDWRBRigtsFnw3Jd/de9wupM0AAB/2WAVYXWDZgAAAABJRU5ErkJggg==\" alt=\"27\" title=\"27\"></img></td></tr><tr style=\"padding: 1px\"><td style=\"text-align: center; padding: 1px\">28<br/><img src=\"data:image/PNG;base64,iVBORw0KGgoAAAANSUhEUgAAABwAAAAcCAAAAABXZoBIAAAAxklEQVR4nGNgGGCgMu+hMk7Jk///HUfmM6FKMpzEKfmW4cUsXKbK3/83EUUAWaeBPMOXWBnsGmXP/vv3798ZT6yS9f/+/fv3798PbyzGSqcwMLwLNzvMJoBFo+vXV6HaDAw+/w5gM9Zcl4GBgUH/3z24CAtCEuJ/aRxeYWBgYGBIZ1iCU1LFhOEmNjsZGBgYGDr/XVHEJWf8+JcPLjn1J/+OYRNnC+RkMFj775YSNsnEf9e7nv/75YbdyPv//v2bqYDTpfQCAGfPPr/PjP+OAAAAAElFTkSuQmCC\" alt=\"28\" title=\"28\"></img></td><td style=\"text-align: center; padding: 1px\">29<br/><img src=\"data:image/PNG;base64,iVBORw0KGgoAAAANSUhEUgAAABwAAAAcCAAAAABXZoBIAAAA90lEQVR4nNXPv0sCcRgG8OccFEKnQ5BwzbWQBqXN0cXFE1uL/oBcnJzbamhoVGxwFfHWAsXGqMYo4rTlwFudnodrKYq+94XW3vH5vLw/gP9Znb6kWN0k2xNJinND3PZipXAeUmHdwBOSw0pmQl2ZMwOSwBl5kzVxKQktSZ3TtoGFg9EhPJLiJgiuq5+x891RO09HToxM2Vkf+ebNRQDYakYMK0nfAgDKEZtWhKfAjk98AwCkEmw7j0sr+nksbUMb4svO77B1UQKA3G0s8xOPzyXA9alx2sDaA1/vFo/k+37CMndKkVzvfgXOT80dozdYze5tp/69PgCmB2rmAADSCgAAAABJRU5ErkJggg==\" alt=\"29\" title=\"29\"></img></td><td style=\"text-align: center; padding: 1px\">30<br/><img src=\"data:image/PNG;base64,iVBORw0KGgoAAAANSUhEUgAAABwAAAAcCAAAAABXZoBIAAAA+klEQVR4nGNgoB9gqvynj0OK33n1379FDAwMDCyoEnxhDJb2igzve6dg0dX99+/fv3//ZkCNR5V8dvLkyZl3GJxxOkdk0t+LuOQEpv39OweHnOqpv38vqEPYjAhhll5tBsb/ZtxbJxz5haGH5+/fv//+/n3FAxdBcu3PrQ8ePHjJyG2K06mi9/8ew6aTgYGBgeH1CSQOCwMDAwNvuCLDjlsQgV8MsrKPkZWv+AsD//7+/ftRG8WsfyiS81EtmvL3704xMTExMalzf/9u4UCV5N3992uzrq6u/7H/f9diRLPQbqixXybzoMsxMPBO+fv379/V8bLY/D54AAAvl3K5DJf4TwAAAABJRU5ErkJggg==\" alt=\"30\" title=\"30\"></img></td><td style=\"text-align: center; padding: 1px\">31<br/><img src=\"data:image/PNG;base64,iVBORw0KGgoAAAANSUhEUgAAABwAAAAcCAAAAABXZoBIAAABEElEQVR4nGNgoAlgxC4sJsVwAbuMbPySB/82YpEo7N349cf/f38bmDDlhO78+/fv379/rQwMDAwMLKiSn7e895FkkGC6isuN6lnf/+VjulxAQICFIebAv2/dwhiSef/+/dux/OW/19tlMc3rhjjmfSpMANnFf94zPHjIwLBpNlanKJmIiKz4dwqXSxkYwv991IKxIf70DNzP8H0DAwMDA8M/Bka08D7079+/v50KEtIK7Nv/HdfmRZHcDnHn28//jj74dzVWDkXyzL9Di1/9gKj4nofmisB/n0sYrIJn/Pv370YVuhPZj/37fPv27U///p21weKDwn///v37cHQDSqDCnM2uzsDA8PUuDs8PFgAAADR5OIGrEewAAAAASUVORK5CYII=\" alt=\"31\" title=\"31\"></img></td><td style=\"text-align: center; padding: 1px\">32<br/><img src=\"data:image/PNG;base64,iVBORw0KGgoAAAANSUhEUgAAABwAAAAcCAAAAABXZoBIAAAA+klEQVR4nL2Rr2/CQBTHv9egwLZ2yHK26CHJZLsENyx2md3+BzTJ3JZgGFQ2mRzyElAs1aiS4BAzfe8Q5ZrmSuX4nrhv7nPvfe8HcHsJY7xZKFZHAMD8x96VUG5GYtZal/llKNZzAF6IOLYLZ/khqGU6Zfh+AwCdfgWattCuKyJEd/52nNbaEhMT79SJd54NnzLKaRG0EVVOW0pO3MIs6bdbo0bdjLJGiIRp0AjvKZ82lzKpwjhXoNYX07oCy59yAOBRKfUh65UAIBUTE38VuLPU9FZtEchXX+i/dI0Uz75Yjawg+Xni4n1p6trhQO/B90Kh3+Pv5lv+v85MvWR46zykSwAAAABJRU5ErkJggg==\" alt=\"32\" title=\"32\"></img></td><td style=\"text-align: center; padding: 1px\">33<br/><img src=\"data:image/PNG;base64,iVBORw0KGgoAAAANSUhEUgAAABwAAAAcCAAAAABXZoBIAAAAx0lEQVR4nGNgGNyg8d//55pYxPXKnmz98efv37+XsUjO/gsF1zDlkn7DJBdgSjp+gUi9bOHEYuxWiOQdGWwOTYaaeloWi6TQY5gsXC8TXPLdnq8Mx3e8Y2AwSsFmsKEVD4PO9Jd/v+Vik2VgYGBgcH319zFOSYaVcEkmDDkFazgTQ5KzUBKnmRwT//79ewlD2HZOkbS0zea/f//+CseQXA8L+L/9mAY+gUr9vqOBKfkQIvenHSHECGcZeDNoiCsueD4Pp2OpBQBxEXsIymZ+ywAAAABJRU5ErkJggg==\" alt=\"33\" title=\"33\"></img></td><td style=\"text-align: center; padding: 1px\">34<br/><img src=\"data:image/PNG;base64,iVBORw0KGgoAAAANSUhEUgAAABwAAAAcCAAAAABXZoBIAAABBklEQVR4nM3SL0gDURwH8K/gyhZU2KonjBWL2TCNum5Us8ItLJkMVouXx8BuGJarKtjPMEEO3IUFcbgNDLry/fIM9wxv76LBX/rxPjze788D/nNstS/0sFJIrXRMUteF9k6R1F3Fo6Voyhy552FEkmL/SnxxZaN1OyXJ7LK8Kc6PHDyek+ToMIvjoTgK3KspSU6S/M3Jjos9KYkyGUlGutl1sFyvVxHbasnZen68DAD4HgL4APD21TEnzbWS181qeB8GABDpzMe2TQ6M9hexwXObDdjxMduuAMDp8+KUgAbFLoBa4o0QqD3ZPmWUehVVB/zdTN9DBI+fOb42fYSdUlj8Vf4qfgDxRqaiiWhpbAAAAABJRU5ErkJggg==\" alt=\"34\" title=\"34\"></img></td></tr><tr style=\"padding: 1px\"><td style=\"text-align: center; padding: 1px\">35<br/><img src=\"data:image/PNG;base64,iVBORw0KGgoAAAANSUhEUgAAABwAAAAcCAAAAABXZoBIAAAA6klEQVR4nGNgGGSAEcY4ZMO4Yz/Dg1XYFLn//Pv379+/P169erWMFV3S5y8CNMAEmRDyj2AMMRiDBS730l2HgYFBKp+B4TWmJKcCsxMDA8Patk8YDlK9B7PxG0IQZudtuI3sW5wwHLT3MYzlGQJjwQOBQSHRnIHhNoMqk/Pb8P0Y1kIB25O/zzVwSTLofP3rilOSYdHfR9qoDkICxxikFdAkI2fCWOaY6tf8nqrPwMDAYHznz9+/3uiSf/8+87WPPP7s79+/qwXQJN3ewOPsMLocA4PjZ6jcXkcsrrRZ//fv378/S/D4kioAALAnaNemxB+EAAAAAElFTkSuQmCC\" alt=\"35\" title=\"35\"></img></td><td style=\"text-align: center; padding: 1px\">36<br/><img src=\"data:image/PNG;base64,iVBORw0KGgoAAAANSUhEUgAAABwAAAAcCAAAAABXZoBIAAABCUlEQVR4nM3QvyvEcRzH8dfpOr9ikPoex/AdTslGGAwXixtkwqSUgW6x3D9gMDGfwXa7VUnpBhkYlDKI4dPXr5LOj6grvs/O8CHl8xkN3sun3o9en97vt/SPa7lcrx/7aeAmBuIpr90CwJEPLwG2r3mfdm3hA8a7Uvsw41h/BGsppc+ojji4BaZbhQhMr4MvMJrZewMwRRejYNaOy13Pd7fBPqsXc/cJSTqtPARLv6OZRk288rjYoQ1qnm00tj4sqbXMoQf7WiRJIdVOx9rPS80WWbGd5A9OZrOJYk16Ohl0fw2vYCfX5E8aEyTz+d2ozTOOpIOvM8QFD4absb2RPztfAp6H/PhX9Qk9jH8Ls7raxwAAAABJRU5ErkJggg==\" alt=\"36\" title=\"36\"></img></td><td style=\"text-align: center; padding: 1px\">37<br/><img src=\"data:image/PNG;base64,iVBORw0KGgoAAAANSUhEUgAAABwAAAAcCAAAAABXZoBIAAABLklEQVR4nGNgGKQgt/LR379/1+/7//fvZUk0uXm//0DA3z9//nyyh4oyMTAwMDDohjEiqeRihjJYGBgYGBh8OBgYDnxgYGBgYPwva3zgNYokAwPD6+ybEIaI4rWv6JLJELkyF4Zry258QnZP2q8/npwMDBpr1/798+fPn3BU137482dz1IJbENf+eeGIIvnyD9wrHz7/+XONFVnSeAVUcl85j9qsP38WoWg1aj167+/f7xDv7/773hjVWnZOXl4eCFPt1p8sFK8w/ESou3VZiYGBARZ8aCDCmUETTWjKZhsIQ+jMnz/v0CR3/fm6q9SMmUFvw58/f3pQ7WR4zcDu5MS45Y8zDwPDn7NoOg2eQuPzz58fzRjuEMzaDpH8eRKbM9nL//7582dSHDY56gEAvm+Us3gVbZIAAAAASUVORK5CYII=\" alt=\"37\" title=\"37\"></img></td><td style=\"text-align: center; padding: 1px\">38<br/><img src=\"data:image/PNG;base64,iVBORw0KGgoAAAANSUhEUgAAABwAAAAcCAAAAABXZoBIAAABBElEQVR4nGNgGGSAEc4q8HJh3HqFgYHhV98HDGXn/8LAE16oEBNMjp8LrkzSG8pggYlYqkAZD2982o8uycDAMGsGAwMDw+tncAEmJMlXFy9eVClWwuJstz9/WxhYSn///emERfb83999V/7+/fv3hzs2SRj4ZIFh5xOoxUf/c9cKouu0+/r379/XPaoMVX//umGYG3b278EqBgYGnr9/V2LayiPOyQCR3AMRQA6EL18YGBgYGNjgAnAH5U+RhzBktmEYqfz8741sBjkDg8nf/v79koQqqfH2798/2x9DPLoeXWsCPAz+frFBl+TyOQyVOxmA6REGdr/dl/7ebA/mxCJHVQAAUEJ9U3ZUu9YAAAAASUVORK5CYII=\" alt=\"38\" title=\"38\"></img></td><td style=\"text-align: center; padding: 1px\">39<br/><img src=\"data:image/PNG;base64,iVBORw0KGgoAAAANSUhEUgAAABwAAAAcCAAAAABXZoBIAAAA90lEQVR4nM2RPUuCYRSG7/JjEFwKF2mMBEEIIhokiGoJGiTJ3aVwsY+/ITTqSyBtETQGErQ0NEU0ubr4kmgaROAklzUYCT7HrcEz3TwX5+E650gzXJGz4fD7OWCyuSoAIRNeA0Bu/DL/lzKH6ld3m1ox+vZ8HhNa8jlw2XkXTqUabDisOICHUMwbwNfJpO8t/VZEyZHS5QTcqmUlJWnUr+r0UtYw0f0FKZjnJmrOKkkxn/WpUDtURmG8BAWOf8OHFl1Y9qb/Fv7spSVJ8caRSy/obErSqiW09ka7FA5mnkzbbeD1BdrLBox7LYD3tC1VuIN79y7/Wz92hWR71WVW1gAAAABJRU5ErkJggg==\" alt=\"39\" title=\"39\"></img></td><td style=\"text-align: center; padding: 1px\">40<br/><img src=\"data:image/PNG;base64,iVBORw0KGgoAAAANSUhEUgAAABwAAAAcCAAAAABXZoBIAAABI0lEQVR4nMXQPUjDUBQF4FtwaSAgFIQWgy7NJkI7Obm5WMzi2lEQnXRwEDoI3URUHAIuLi4Vt+4VJYLgX7dMCpU6mEVrpYVwTuOQkKaJrnqn994H9517Rf67ZvYuPJKGkpT1WgsgAC7Hrfrhg+UksPjSBYjT3aX0EdrpUTQ9ku+LImN1cjPe9frJOtRFcnXA1IO3VKhZo5y6L2SnvEbJTYQ1e34gdCvJGRfIAb9aryQ/Z+NYA/rNLVFO7B/m1LdRUPMikrlkIxNXZTI4zN9iX03+G9QdHyKozk1HbIUoRxqeo10Kb6s9vuWHOG4D7k3AuWfQivQxyM6A5I6macdkpziS04LtbwcgzmIr2HAQYnMYNFj8xFrFEznw5PHKdX4d8S/qG5z+nuLpVDHTAAAAAElFTkSuQmCC\" alt=\"40\" title=\"40\"></img></td><td style=\"text-align: center; padding: 1px\">41<br/><img src=\"data:image/PNG;base64,iVBORw0KGgoAAAANSUhEUgAAABwAAAAcCAAAAABXZoBIAAAA50lEQVR4nGNgoB5gbjjySwmHHEvVx45GGBtNTsCb1/YSjMOIIiVho/anC4eR/rv3lOJyireOQjiKABMSW/zNUgtfXDqTJD79/7WgHLskJ/O+/3///izDodfhyN+/f++F45C1duvZ8/vfWqhLGNGlFbWtPf84f8TlLgb7hVAG3Cs8hlwwJtd+NNU80+6pQpk6b7rRJGP36kFZhqW3DFDl5M592CbAwMDA6st77IwkJ1QUGmU/+XndL/5k6LXxPvxNWPo5mrHq9/7+/fv377+/b9L04OkA7k+OBBkGE9c/QZYrruD04+AGAJcURYeHMbJ8AAAAAElFTkSuQmCC\" alt=\"41\" title=\"41\"></img></td></tr><tr style=\"padding: 1px\"><td style=\"text-align: center; padding: 1px\">42<br/><img src=\"data:image/PNG;base64,iVBORw0KGgoAAAANSUhEUgAAABwAAAAcCAAAAABXZoBIAAAA3UlEQVR4nGNgoAtgjLj6/38ydjmBOX//fnk6E6ucyNG/f4/YSjdikxM79PfXCnEGBjlskuv+/s3A5Zj073/PMSMLMCGxvdgYvrEx45D8ysBg+WWnLXZjxeIOXvn79403Jy57A5/+/WuKS5Kh8O/ffpySwnf/rsLmIAYGBgaG3x9w6mNgmPT3bx4uOeWLf7/pIwukhvHAmGI///5dhqLa9W+hEwcDAwMDQ8q1v3/3iKBISuz5+/d8ZEhI/smvf//uF0aziKNmz18oOMKP6Q42waaTf//+vSiDM+gGBQAA7eJU+dU6XNsAAAAASUVORK5CYII=\" alt=\"42\" title=\"42\"></img></td><td style=\"text-align: center; padding: 1px\">43<br/><img src=\"data:image/PNG;base64,iVBORw0KGgoAAAANSUhEUgAAABwAAAAcCAAAAABXZoBIAAAA4klEQVR4nGNgGEqAEYmtZnCM6xaDpQyDnREDgzUDAwMLQs5nocBb5i+MgpwMjP9vbUUzJOnv/79///7/+2W9MYYF9q/+/P3z58/fx3GYlou/+gOR/HNEH0NS9g9M8s8HDEnePQ/XpzIwMDBU/P0LsxPu2s8uUMaz/1h8DPftqz8bcMse/fMQymLCkJOSYjxPjE6og2QtGP8z3LrIwMDAoKvNsAIqycjAwMDgM5VTiPE/w5dP/xnOHQ6wYhD8jGTQgb9///5D4I8MyDr1C1TnfGFQ82L8z8DA+P/WxIu4HTSIAQDzjGLi0xVNWgAAAABJRU5ErkJggg==\" alt=\"43\" title=\"43\"></img></td><td></td><td></td><td></td><td></td><td></td></tr></table>"
            ]
          },
          "metadata": {}
        }
      ],
      "source": [
        "images = [array_to_image(new_test_x[index]) for index in incorrect]\n",
        "gallery(images)"
      ]
    },
    {
      "cell_type": "markdown",
      "metadata": {
        "id": "Zkv9AeCqUBN8"
      },
      "source": [
        "After seeing which digits were classified incorrectly, consider **why** this may have occurred and **how** the percentages that you inputted would have this effect."
      ]
    },
    {
      "cell_type": "markdown",
      "metadata": {
        "id": "m5yUzT88wvbn"
      },
      "source": [
        "*write observations here*"
      ]
    },
    {
      "cell_type": "markdown",
      "metadata": {
        "id": "VClpaPuxhFCV"
      },
      "source": [
        "###Changing Dataset Composition"
      ]
    },
    {
      "cell_type": "markdown",
      "metadata": {
        "id": "TrQSwWuKpJLp"
      },
      "source": [
        "Now that we have shown how this network performs with an equal number of each digit in the dataset, we want to show how the performance and accuracy of the network changes when we manipulate the percentages in the dataset.\n",
        "\n",
        "**Return to where you entered the percentages of each digit in the training dataset and change the percentages from 50/50 to 70/30.**\n",
        "\n",
        "**Rerun all the code blocks from there (including the testing summary).**\n",
        "\n",
        "Describe the differences you saw in the results between the 50/50 split and the 70/30 split."
      ]
    },
    {
      "cell_type": "markdown",
      "metadata": {
        "id": "jkOV70V92MG7"
      },
      "source": [
        "*write observations here*"
      ]
    },
    {
      "cell_type": "markdown",
      "metadata": {
        "id": "JdMZcsGhrrR1"
      },
      "source": [
        "After you finish training your network with the first manipulated percentages, experiment with the percentages some more.\n",
        "\n",
        "How imbalanced does the training set have to be before the network is unable to distinguish between the two digits?"
      ]
    },
    {
      "cell_type": "markdown",
      "metadata": {
        "id": "vLFyonP0xUwf"
      },
      "source": [
        "*write answer here*"
      ]
    },
    {
      "cell_type": "markdown",
      "source": [
        "Also feel free to explore other digits besides 3 vs 5. To do this go back to the section where you set the digits to explore, and then rerun all of the code cells below that."
      ],
      "metadata": {
        "id": "2baQZImGkoxc"
      }
    },
    {
      "cell_type": "markdown",
      "source": [
        "*write any additional observations here*"
      ],
      "metadata": {
        "id": "_py-OICBkobR"
      }
    },
    {
      "cell_type": "markdown",
      "metadata": {
        "id": "Ud4JdXQg3qTU"
      },
      "source": [
        "After finishing testing the different percentages that you can use to show varying levels of efficacy in the network, consider the potential broader implications of dataset composition before moving on to the next section.\n",
        "\n",
        "* How could having a specific subsection of data that an AI is trained on being underrepresented have very real world consequences?\n",
        "* What possible issues and biases might arise with the human decision making that goes into the creation of datasets that are used to train these networks?"
      ]
    },
    {
      "cell_type": "markdown",
      "metadata": {
        "id": "4Vy_cB1Z3r1a"
      },
      "source": [
        "*write answer here*"
      ]
    },
    {
      "cell_type": "markdown",
      "metadata": {
        "id": "rZLQldMkMpaB"
      },
      "source": [
        "## Implications of Dataset Composition\n",
        "We have explored how manipulating a dataset can change a network's efficacy in a categorization task. Datasets, and thus their composition, is an essential component of neural networks. Below, we will explore how bias in a dataset's composition can lead to negative impacts on marginalized communities."
      ]
    },
    {
      "cell_type": "markdown",
      "metadata": {
        "id": "j2dLUABn99b6"
      },
      "source": [
        "Within the past couple of years, bias within algorithms and AI has begun to receive attention. Many computer scientists and researchers have begun to recognize inherent bias, known also as \"algorithmic prejudices,\" present in algorithms, software, machine learning, artificial intelligence, and nearly every facet of computer science (see reference [3]). Within the context of datasets that are used for the training of neural networks, bias is pervasive. This bias becomes particularly concerning as algorithms are beginning to take over human responsibilities (see reference [2]). For example, algorithms are now being used by US law enforcement for \"predictive justice\"(see reference [3]). These tools \"calculate the probability that a person will not show up for trial as scheduled or commit future crimes\"(see reference [3]). As these algorithms become increasingly present in our society, we must evaluate and consider their inherent biases."
      ]
    },
    {
      "cell_type": "markdown",
      "metadata": {
        "id": "j7rFF1WhBCue"
      },
      "source": [
        "A major contributor to the current movement exploring and combatting biases in algorithms is Joy Buolamwini. As a graduate student at MIT, Buolamwini co-wrote the paper \"Gender Shades: Intersectional Accuracy Disparities in Commercial Gender Classification\" along with Timmit Gebru which explores the ways in which machine learning algorithms can discriminate based on classes like race and gender (see reference [1]). As Buolamwini describes in her Ted Talk, she was inspired to address bias in machine learning algorithms when as an undergraduate student at Georgia Tech a robot that was supposed to recognize faces could not detect her's, as a black woman. Among other findings, this paper revealed that while lighter-skinned males had an extremely low error rate of 0.8% while darker-skinned females had a significantly higher error rate of up to 34.7% (see reference [1])."
      ]
    },
    {
      "cell_type": "markdown",
      "metadata": {
        "id": "BFsKqbWBBG5l"
      },
      "source": [
        "### Buolamwini's Work"
      ]
    },
    {
      "cell_type": "markdown",
      "metadata": {
        "id": "D8B-Nj2iJeuD"
      },
      "source": [
        "In 2017, Buolamwini gave a Ted Talk demonstrating the discriminatory tendencies of widely used and accepted training sets and algorithms (see reference [2]). She refers to the concept of the \"coded gaze\" as algorithmic bias in the field of computer science. Within her talk, she dives deeper into the harms and discriminatory practices perpetrated by these training sets which are often severely lacking diversity. These practices include predictive policing. A study from the Georgetown Law Center showed that these police systems contain 1 in 2 adults in the US in a criminal facial recognition network (see reference [4]). These networks used by law enforcement have not been audited for accuracy and can result in misidentification of criminals, having a potentially serious consequence on the victim of this misidentification. With such serious stakes, it is essential to consider and address the biases of these algorithms and networks."
      ]
    },
    {
      "cell_type": "markdown",
      "metadata": {
        "id": "FS2tQbRTmuDk"
      },
      "source": [
        "To see the Georgetown Law Center's full report on law enforcement's use of facial recognition and recommendations, please access this link: [Perpetual Line Up](https://www.perpetuallineup.org/)."
      ]
    },
    {
      "cell_type": "markdown",
      "metadata": {
        "id": "t89MgWox8_Cw"
      },
      "source": [
        "Click here to watch Buolamwini's Ted Talk!\n",
        "\n",
        "[![IMAGE ALT TEXT](http://img.youtube.com/vi/UG_X_7g63rY/0.jpg)](https://www.youtube.com/watch?v=UG_X_7g63rY \"How I'm fighting bias in algorithms\")"
      ]
    },
    {
      "cell_type": "markdown",
      "metadata": {
        "id": "KE5-cmlYOJax"
      },
      "source": [
        "#### Gender Shades"
      ]
    },
    {
      "cell_type": "markdown",
      "metadata": {
        "id": "0KTL9vzSOP3w"
      },
      "source": [
        "\"Gender Shades\" tested 3 commercial gender classification systems (Microsoft, IBM, Face++) using a dataset specifically designed to determine the potential biases present in these systems (see reference [1]). The dataset (Pilot Parliaments Benchmark), specifically created for this study, was composed of faces of 1270 individuals from three African countries and three European countries. The individuals were each given skin type labels per the Fitzpatrick six-point labeling system and given gender labels, either female or male given the binary nature of the evaluation systems."
      ]
    },
    {
      "cell_type": "markdown",
      "metadata": {
        "id": "Q2rG1Jkrpkdq"
      },
      "source": [
        "In evaluation of these classifiers, there were several main takeaways. Firstly, \"male subjects were more accurately classified than female subjects\"(reference [1] pg. 8). Additionally, lighter-skinned subjects were more accurately classified than those with darker skin. Further, all classifiers performed worst on darker female subjects (reference [1] pg. 8). Here is the complete summarized key findings as outlined in the study:\n",
        "\n",
        "* All classifiers perform better on male faces\n",
        "than female faces (8.1% − 20.6% difference\n",
        "in error rate)\n",
        "\n",
        "* All classifiers perform better on lighter faces\n",
        "than darker faces (11.8% − 19.2% difference\n",
        "in error rate)\n",
        "\n",
        "* All classifiers perform worst on darker female\n",
        "faces (20.8% − 34.7% error rate)\n",
        "\n",
        "* Microsoft and IBM classifiers perform best on lighter male faces (error rates of 0.0% and 0.3% respectively)\n",
        "\n",
        "* Face++ classifiers perform best on darker\n",
        "male faces (0.7% error rate)\n",
        "\n",
        "* The maximum difference in error rate between the best and worst classified groups is 34.4%\n",
        "\n",
        "(reference [1] pg. 8)."
      ]
    },
    {
      "cell_type": "markdown",
      "metadata": {
        "id": "XtKuFsp3Wcz-"
      },
      "source": [
        "Further, this paper emphasizes the complete inability of these commercial systems to recognize gender minorities as they are completely excluded from datasets and classification options. Buolamwini notes, \"The companies provide no documentation to clarify if their gender classification systems which provide sex labels are classifying gender identity or biological sex\"(reference [1] pg. 6). As she emphasizes, \"This reductionist view of gender does not adequately capture the complexities of gender or address trangender identities\"(reference [1] pg. 6). When using these systems it is important to consider the erasure they create of people of non binary gender identities."
      ]
    },
    {
      "cell_type": "markdown",
      "metadata": {
        "id": "ynHyOYb3tO2H"
      },
      "source": [
        "Buolamwini and Gerbru's study \"Gender Shades\" brought to the forefront the inherent biases present in well-established commercial classifiers and marginalization of those with intersectional identities, particularly darker skinned women, in these algorithms. The consequences of these prejudices have the potential to only further harm people of intersectional minority identities who are already marginalized in our society. As companies continue to develop these tools, Buolamwini calls for \"inclusive benchmark datasets and subgroup accuracy reports\" which will be \"necessary to increase transparency and accountability in artificial intelligence\"(reference [1] pg. 12). Continuing into the development of these tools, there will need to be increased \"demographic and phenotypic transparency and accountability in artificial intelligence\"(reference [1] pg. 12)."
      ]
    },
    {
      "cell_type": "markdown",
      "metadata": {
        "id": "UNEIAPryL3Ir"
      },
      "source": [
        "To have a more comprehensive understanding of Buolamwini and her co-collabrator Timmit Gebru's research \"Gender Shades,\" you can read the full paper here:  [Gender Shades: Intersectional Accuracy Disparities in Commercial Gender Classification](https://proceedings.mlr.press/v81/buolamwini18a/buolamwini18a.pdf)."
      ]
    },
    {
      "cell_type": "markdown",
      "metadata": {
        "id": "XUxhDr-tyhsd"
      },
      "source": [
        "###Reflect"
      ]
    },
    {
      "cell_type": "markdown",
      "metadata": {
        "id": "eRu4xvL_ymAO"
      },
      "source": [
        "After reading more about the biases present in machine learning algorithms, **how do you see your role as a member of a modern society in which the presence of these algorithms is only increasing? What are ways in which we can combat these biases?**"
      ]
    },
    {
      "cell_type": "markdown",
      "metadata": {
        "id": "XmCFNjW111hN"
      },
      "source": [
        "*write answer here*"
      ]
    },
    {
      "cell_type": "markdown",
      "metadata": {
        "id": "upbZADR41UtC"
      },
      "source": [
        "Go back to the data manipulation section of this notebook and take note of the accuracy percentage you recorded when either digit1s or digit2s were overrepresented (particularly for when the minority digit represented 7% or less of the dataset). **Why is accuracy alone not always a reliable parameter? What are the fallacies underlying reporting the \"accuracy\" of a system? How could this number impact systems' usage and our trust in them?** Think about Buolamwini's findings. Contextualize your answer accordingly."
      ]
    },
    {
      "cell_type": "markdown",
      "metadata": {
        "id": "4-MDz0om1z8Q"
      },
      "source": [
        "*write answer here*"
      ]
    },
    {
      "cell_type": "markdown",
      "metadata": {
        "id": "ons3DJxzM2m6"
      },
      "source": [
        "## Navigating Biases\n",
        "Considering ways in which we can work towards a more inclusive computing community."
      ]
    },
    {
      "cell_type": "markdown",
      "metadata": {
        "id": "vqlxGkqDNGp_"
      },
      "source": [
        "As we work towards a more inclusive and less prejudiced computer science sphere, we must consider these issues, recognize them in our processes, and change our practices. A major component of changing the presence of these biases and their impact is focusing on inclusive coding practices. As Buolamwini outlines in her Ted Talk, we must consider who codes, how we code, and why we code (see reference [2]). Having a more diverse community of coders that consider and prioritize the needs and experiences of marginalized communities is an important step in creating a more inclusive field and algorithms."
      ]
    },
    {
      "cell_type": "markdown",
      "metadata": {
        "id": "sT0MZd41gOUQ"
      },
      "source": [
        "Within the Georgetown Law Center report, the writers emphasize a need for significant legislative and regulatory change (see reference [4]). Law enforcement's use of facial recognition has the potential to do real damage, if it has not already impacted countless individuals. The report suggests legislation should be passed to regulate these technologies including requiring reasonable suspicion to use facial recognition, only use mug shot databases, court approval to use ID photos and license photos, requiring probable cause to use surveillance footage, completely ban tracking individuals for free speech issues, and increase accuracy testing. Further, they suggest a complete reform to the FBI facial recognition systems. They argue that these systems must be transparent and held publicly accountable, releasing statistics relating to arrest numbers. Importantly, they call for testing of racial bias within these systems and datasets that reflect the diversity of the American population. All of these reforms are important to implement if we want to mitigate the potential harm that these law enforcement agencies can perpetuate against already vulnerable communities."
      ]
    },
    {
      "cell_type": "markdown",
      "metadata": {
        "id": "zas1mHMJfhkL"
      },
      "source": [
        "As Buolamwini emphasizes at the end of her Ted Talk, we must create \"a world where technology works for all of us, not just some of us, a world where we value inclusion and center social change.\" To finish her talk, she poses a question: \"Will you join me in the fight?\" **After reading through this computational essay, consider why it is important to join this \"fight\"? What are your personal motivations behind creating a more inclusive computing space and why is it important?**"
      ]
    },
    {
      "cell_type": "markdown",
      "metadata": {
        "id": "XNWsYkB7gJSo"
      },
      "source": [
        "*write answer here*"
      ]
    },
    {
      "cell_type": "markdown",
      "metadata": {
        "id": "k7baTbHH5lIl"
      },
      "source": [
        "## References\n"
      ]
    },
    {
      "cell_type": "markdown",
      "metadata": {
        "id": "vW9gND485pXx"
      },
      "source": [
        "[1] J. Buolamwini, “Gender Shades: Intersectional Accuracy Disparities in Commercial Gender Classification,” MIT Media Lab. Accessed: Jul. 23, 2024. [Online]. Available: https://www.media.mit.edu/publications/gender-shades-intersectional-accuracy-disparities-in-commercial-gender-classification/\n",
        "\n",
        "[2] J. Buolamwini, How I’m fighting bias in algorithms, (1489075733). Accessed: Jul. 23, 2024. [Online Video]. Available: https://www.ted.com/talks/joy_buolamwini_how_i_m_fighting_bias_in_algorithms\n",
        "\n",
        "[3] M. S. Cataleta, “Humane Artificial Intelligence: The Fragility of Human Rights Facing AI,” East-West Center, 2020. Accessed: Jul. 23, 2024. [Online]. Available: https://www.jstor.org/stable/resrep25514\n",
        "\n",
        "[4] “The Perpetual Line-Up,” Perpetual Line Up. Accessed: Jul. 23, 2024. [Online]. Available: https://www.perpetuallineup.org/"
      ]
    }
  ],
  "metadata": {
    "colab": {
      "collapsed_sections": [
        "rZLQldMkMpaB",
        "ons3DJxzM2m6",
        "k7baTbHH5lIl"
      ],
      "provenance": []
    },
    "kernelspec": {
      "display_name": "Python 3 (ipykernel)",
      "language": "python",
      "name": "python3"
    },
    "language_info": {
      "codemirror_mode": {
        "name": "ipython",
        "version": 3
      },
      "file_extension": ".py",
      "mimetype": "text/x-python",
      "name": "python",
      "nbconvert_exporter": "python",
      "pygments_lexer": "ipython3",
      "version": "3.10.12"
    }
  },
  "nbformat": 4,
  "nbformat_minor": 0
}