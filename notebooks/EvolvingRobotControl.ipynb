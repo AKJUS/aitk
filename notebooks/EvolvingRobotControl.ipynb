{
 "cells": [
  {
   "cell_type": "markdown",
   "metadata": {
    "id": "V6THckODUGu6"
   },
   "source": [
    "# Computational Essays on Artificial Intelligence\n",
    "## Evolving Robot Control\n",
    "\n",
    "In this essay, we explore the Genetic Algorithm to evolve a Robot control network.\n",
    "\n",
    "1. A `chromosome` will be composed of a series of `genes`, each representing a weight in a neural network\n",
    "2. A `population` of chromosomes is generated randomly\n",
    "3. For a number of generations the chromosomes are `mutated` by a small amount"
   ]
  },
  {
   "cell_type": "markdown",
   "metadata": {
    "id": "qu0oA5NWUGu-"
   },
   "source": [
    "### 1. Setup"
   ]
  },
  {
   "cell_type": "markdown",
   "metadata": {},
   "source": [
    "[![Open in Binder](https://img.shields.io/badge/-Open%20in%20Binder-579ACA.svg?logo=data:image/png;base64,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)](https://)\n",
    "[![Open in Colab](https://colab.research.google.com/assets/colab-badge.svg)](https://colab.research.google.com/github/ArtificialIntelligenceToolkit/aitk/notebooks/EvolvingRobotControl.ipynb)\n"
   ]
  },
  {
   "cell_type": "markdown",
   "metadata": {},
   "source": [
    "<div class=\"alert alert-block alert-info\">\n",
    "    <p><b>Note</b>: if running this notebook on Google Colab, you will need to install the required Python packages each time you start a session. You do not need to do this in Binder. Otherwise on your own computer, you only need to install the packages once.</p>\n",
    "    \n",
    "    <p>To install the required Python packages:</p>\n",
    "</div>"
   ]
  },
  {
   "cell_type": "code",
   "execution_count": null,
   "metadata": {
    "colab": {
     "base_uri": "https://localhost:8080/"
    },
    "id": "baekK6oGUGu9",
    "outputId": "df8356cd-2624-4698-f439-051aed1c82d3"
   },
   "outputs": [],
   "source": [
    "%pip install aitk --upgrade --quiet"
   ]
  },
  {
   "cell_type": "markdown",
   "metadata": {
    "id": "1X8RdoEyUGu-"
   },
   "source": [
    "For this demonstration, we will need:\n",
    "\n",
    "* `GeneticAlgorithm` defined in aitk.algorithms.ga\n",
    "* `World`, `Scribbler`, `RangeSensor` from aitk.robots \n",
    "* `SimpleNetwork` from aitk.networks\n",
    "* a few other support functions"
   ]
  },
  {
   "cell_type": "markdown",
   "metadata": {
    "id": "Fd1XrIsHUGu_"
   },
   "source": [
    "We import everything need in this cell:"
   ]
  },
  {
   "cell_type": "code",
   "execution_count": 1,
   "metadata": {
    "id": "AIR4jwkRUGu_"
   },
   "outputs": [],
   "source": [
    "from aitk.algorithms.ga import GeneticAlgorithm\n",
    "from aitk.robots import World, Scribbler, RangeSensor\n",
    "from aitk.networks import SimpleNetwork\n",
    "from aitk.robots.utils import distance\n",
    "import random"
   ]
  },
  {
   "cell_type": "markdown",
   "metadata": {},
   "source": [
    "## 2. The Genetic Algorithm"
   ]
  },
  {
   "cell_type": "markdown",
   "metadata": {},
   "source": [
    "The [Genetic Algorithm](https://en.wikipedia.org/wiki/Genetic_algorithm) (GA) is an approach inside the category of machine learning systems called [Evolutionary Algorithms](https://en.wikipedia.org/wiki/Evolutionary_algorithm) (EA). For this essay, we will use the GA as follows:\n",
    "\n",
    "1. We will define a `gene` to be a floating-point number that represents the weight or bias of a Neural Network.\n",
    "2. We will define a `chromosome` as a sequence of genes. The chromosome (sometimes called a `geneotype`) will represent all of the weights and biases of a network.\n",
    "3. `A population` will be composed of a set of random chromosomes."
   ]
  },
  {
   "cell_type": "markdown",
   "metadata": {
    "id": "eyh7XntqUGvA"
   },
   "source": [
    "The length of the chromosome is determined by the size of the Neural Network. Therefore, we will call `self.build_model()` (defined below) and see how many weights it has. \n",
    "\n",
    "We'll use a ring of 16 laser sensors as senses. We create a small simulated world (100 x 100) to allow the robot to move around.\n",
    "\n",
    "The basic idea is that we will have a list of weights (the chromosome) that we load into the neural network. The sensors will be read, and propagated through the neural network. The output of the neural network will be interpreted as movement controls. We'll let the neural network \"drive\" the robot around the world starting from a few poses."
   ]
  },
  {
   "cell_type": "code",
   "execution_count": 2,
   "metadata": {
    "id": "QEeYh6UwUGvA"
   },
   "outputs": [],
   "source": [
    "class NNGA(GeneticAlgorithm):\n",
    "    \"\"\"\n",
    "    An example of using the GeneticAlgorithm class to \n",
    "    evolve the weights of a neural network to control \n",
    "    a simulated robot.\n",
    "    \"\"\"\n",
    "    def __init__(self, popsize, sensors=16):\n",
    "        self.show = False\n",
    "        self.sensors = sensors\n",
    "        self.world = World(100, 100)\n",
    "        self.robot = Scribbler()\n",
    "        # We add a ring of RangeSensors, 8cm from\n",
    "        # the robot center, starting and ending \n",
    "        # at the back of the robot\n",
    "        # with 75cm max range, and sensor width 0\n",
    "        # which makes it a laser range finder\n",
    "        self.robot.add_device_ring(\n",
    "            RangeSensor, 8, -180, 180, \n",
    "            self.sensors, max=75, width=0)\n",
    "        self.world.add_robot(self.robot)\n",
    "        self.network = self.build_model()\n",
    "        # Starting poses to test from:\n",
    "        self.poses = [\n",
    "            (20, 20, 0), \n",
    "            (20, 20, 45), \n",
    "            (20, 20, 90), \n",
    "            (20, 20, 180), \n",
    "            (20, 20, -45),\n",
    "        ]\n",
    "        # Length of a chromosome:\n",
    "        length = len(self.network.get_weights(flat=True))\n",
    "        super().__init__(length, popsize)"
   ]
  },
  {
   "cell_type": "markdown",
   "metadata": {
    "id": "HNvM7oeWUGvB"
   },
   "source": [
    "As mentioned, a chromosome will be a sequence of floating-point numbers, between -2 and +2. When we mutate such a gene, we will increase or decrease it a small amount. To define these two aspects of a gene, we define the following methods:"
   ]
  },
  {
   "cell_type": "code",
   "execution_count": 3,
   "metadata": {
    "id": "61igCPUsUGvB"
   },
   "outputs": [],
   "source": [
    "class NNGA(NNGA):        \n",
    "    def make_random_gene(self):\n",
    "        \"\"\"\n",
    "        Generate a random weight for the neural network.\n",
    "        \"\"\"\n",
    "        # range of [-2, +2]\n",
    "        return 2 - random.random() * 4\n",
    "    \n",
    "    def mutate_gene(self, gene):\n",
    "        \"\"\"\n",
    "        Given a gene, mutate it a little.\n",
    "        \"\"\"\n",
    "        # range of [-0.5, +0.5]\n",
    "        return gene + (0.5 - random.random())"
   ]
  },
  {
   "cell_type": "markdown",
   "metadata": {
    "id": "8zDTWbLNUGvC"
   },
   "source": [
    "## 2.1 The Fitness Function\n",
    "\n",
    "To use a GA we need to define a \"fitness function\". A fitness function tests a chromosome in the simulated world, and returns a value that represents how \"apt\" (or fit) it is relative to the other chromosomes in the population at this generation.\n",
    "\n",
    "Finding a good fitness function is difficult. We don't want to be too prescriptive, or the system will evolve exactly what we have defined it to do. On the other hand, we don't want to be too open, as that can leave the system to evolve solutions that don't really \"solve a problem.\"\n",
    "\n",
    "For example, let's say that we want the robot to move around this world and not bump into walls. We could define a fitness that is the total number of steps where the robot did not hit a wall (e.g., `robot.stalled` is not True).\n",
    "\n",
    "<div class=\"alert alert-block alert-warning\">\n",
    "    <b>Warning</b>: the implementation of a GA that we use here requires that the fitness function be greater or equal to zero.\n",
    "</div>\n",
    "\n",
    "However, you would very quickly evolve a robot that doesn't move. No movement, no crashing into walls! Well, ok, then. How about we define a fitness function that rewards the robot when it keeps moving. The evolutionary system could \"solve that problem\" by simply spinning the robot in circles. Foiled again!\n",
    "\n",
    "You could then define a fitness function that rewards the robot when it has forward movement, thereby circumventing the solution for the robot to spin in circles. However, the system could then just drive the robot in small circles, and we inadvently didn't reward a robot for moving backwards (which should be fine).\n",
    "\n",
    "The search the human performs in attempting to find a good fitness function that will drive the robot into interesting control patterns while not settling on simplistic solutions is quite common. However, if you can train yourself to think more like nature, you can end up with some very clever robots.\n",
    "\n",
    "To that end, we will define the fitness function to be the distance between where the robot started, and where it ended up after a given number of seconds. Plus, we will add all of the distances travel on each individual step. However, if it ends up against a wall, it will get a score of zero.\n",
    "\n",
    "This is a fairly easy fitness function to compute (the sum of all distance traveled, plus distance from where it started) and should bypass some of the solutions defined above."
   ]
  },
  {
   "cell_type": "code",
   "execution_count": 4,
   "metadata": {
    "id": "TN_laHoPUGvC"
   },
   "outputs": [],
   "source": [
    "class NNGA(NNGA):        \n",
    "    def fitness(self, chromosome, poses=None, seconds=None, interrupt=True, real_time=False,\n",
    "                show=False, show_progress=False, quiet=True):\n",
    "        \"\"\"\n",
    "        Fitness is based on the distance the robot travels \n",
    "        from starting pose to ending pose.\n",
    "        \n",
    "        Args:\n",
    "            poses: default None, all of the poses; \n",
    "                otherwise list of poses (x, y, a).\n",
    "            seconds: default 10\n",
    "            interrupt: default True\n",
    "            real_time: default False\n",
    "            show: default True\n",
    "            show_progress: default False\n",
    "            quiet: default True\n",
    "        \"\"\"\n",
    "        if seconds is None:\n",
    "            seconds = min(self.generation / 10, 10)\n",
    "        self.show = show\n",
    "        self.network.set_weights(chromosome)\n",
    "        score = 0\n",
    "        poses = poses if poses is not None else self.poses\n",
    "        for pose in poses:\n",
    "            self.robot.set_pose(*pose, show=self.show)\n",
    "            self.world.seconds(\n",
    "                seconds, self.controller, \n",
    "                interrupt=interrupt, \n",
    "                real_time=real_time, show=show,\n",
    "                show_progress=show_progress, quiet=quiet)\n",
    "            if not self.robot.stalled:\n",
    "                end_pose = self.robot.get_pose()\n",
    "                score += distance(pose[0], pose[1], end_pose[0], end_pose[1])\n",
    "        return score   "
   ]
  },
  {
   "cell_type": "markdown",
   "metadata": {
    "id": "hGDuszABUGvD"
   },
   "source": [
    "We can now add some methods for the specific problem:\n",
    "\n",
    "* build_model - creates the neural network that takes as input the number of inputs, and outputs the movement commands (one for translate, one for rotate)\n",
    "* controller - the method to drive the robot\n",
    "* get_sensors - a convenience method to get the sensor readings from the range sensors as a list\n",
    "* get_move - a method that takes the input to the network (the sensor readings) and propagates them through the network to get the output values, which are scaled to [-1, +1]"
   ]
  },
  {
   "cell_type": "code",
   "execution_count": 5,
   "metadata": {
    "id": "gv41Bn_QUGvD"
   },
   "outputs": [],
   "source": [
    "class NNGA(NNGA):        \n",
    "    def build_model(self):\n",
    "        \"\"\"\n",
    "        We build a simple network. \n",
    "        \"\"\"\n",
    "        return SimpleNetwork(\n",
    "            self.sensors,\n",
    "            4,\n",
    "            2,\n",
    "            activation=\"sigmoid\"\n",
    "        )\n",
    "        \n",
    "    def controller(self, world):\n",
    "        \"\"\"\n",
    "        The controller for the robot.\n",
    "        \"\"\"\n",
    "        sensors = self.get_sensors()\n",
    "        output = self.get_move(sensors)\n",
    "        self.robot.move(output[0], output[1])\n",
    "        \n",
    "    def get_sensors(self):\n",
    "        \"\"\"\n",
    "        We return the sensors from the robot.\n",
    "        \"\"\"\n",
    "        return [sensor.get_reading() \n",
    "                for sensor in self.robot]\n",
    "    \n",
    "    def get_move(self, sensors):\n",
    "        \"\"\"\n",
    "        Given the dataset (a single )\n",
    "        \"\"\"\n",
    "        # Propagate takes a single pattern:\n",
    "        output = self.network.propagate(\n",
    "            sensors, show=self.show)\n",
    "        # Scale the output in [-1, 1]\n",
    "        return 1 - output * 2\n",
    "    "
   ]
  },
  {
   "cell_type": "markdown",
   "metadata": {},
   "source": [
    "Now, we are ready to create a GA. We'll define the population size to be 30, which isn't too small, but big enough to evolve a solution in a few minutes."
   ]
  },
  {
   "cell_type": "code",
   "execution_count": 6,
   "metadata": {
    "colab": {
     "base_uri": "https://localhost:8080/"
    },
    "id": "IyVFhghhUGvE",
    "outputId": "2988c304-fc9b-45d8-e793-e180625de46d"
   },
   "outputs": [
    {
     "name": "stdout",
     "output_type": "stream",
     "text": [
      "Random seed set to: 6911151\n",
      "Genetic algorithm\n",
      "  Chromosome length: 78\n",
      "  Population size: 30\n"
     ]
    }
   ],
   "source": [
    "ga = NNGA(popsize=30)"
   ]
  },
  {
   "cell_type": "markdown",
   "metadata": {},
   "source": [
    "We can get a snapshot of the world with:"
   ]
  },
  {
   "cell_type": "code",
   "execution_count": 7,
   "metadata": {},
   "outputs": [
    {
     "data": {
      "image/png": "[encoded data removed]",
      "text/plain": [
       "<PIL.Image.Image image mode=RGB size=300x342 at 0x7FBD724154C0>"
      ]
     },
     "metadata": {},
     "output_type": "display_data"
    }
   ],
   "source": [
    "ga.world.display()"
   ]
  },
  {
   "cell_type": "markdown",
   "metadata": {},
   "source": [
    "But we can do better than just a snapshot. We can actually dynamically \"watch\" the world update.\n",
    "\n",
    "<div class=\"alert alert-block alert-warning\">\n",
    "    <b>Warning</b>: unfortunately the dynamic update may not work on all Jupyter Notebook systems. But it should work in: Jupyter Lab, Jupyter Notebook, Google Colab, and many others.\n",
    "</div>\n",
    "\n",
    "We'll create two watch windows: one for the world, and one for the network. This will update dynamically when `show=True`. "
   ]
  },
  {
   "cell_type": "markdown",
   "metadata": {},
   "source": [
    "<div class=\"alert alert-block alert-success\">\n",
    "    <b>Idea</b>: when running in Jupyter Lab, you can right-click on the two watch cells (after running them) and select \"Create New View for Output\" for each. You can then drag the panels over so that you can see them along side the notebook.\n",
    "</div>"
   ]
  },
  {
   "cell_type": "code",
   "execution_count": 8,
   "metadata": {
    "colab": {
     "base_uri": "https://localhost:8080/",
     "height": 382,
     "referenced_widgets": [
      "686027ec8d104a65a28c531cff802a49",
      "edfd80f163844472afcad4ac980bb73b"
     ]
    },
    "id": "npHXLuo8UGvF",
    "outputId": "e48d4e46-5ea4-4899-947e-c6c85e4d3b4b",
    "tags": []
   },
   "outputs": [
    {
     "data": {
      "application/vnd.jupyter.widget-view+json": {
       "model_id": "a457d10fa3c84b0b86eb5a0352116f57",
       "version_major": 2,
       "version_minor": 0
      },
      "text/plain": [
       "Image(value=b'\\xff\\xd8\\xff\\xe0\\x00\\x10JFIF\\x00\\x01\\x01\\x00\\x00\\x01\\x00\\x01\\x00\\x00\\xff\\xdb\\x00C\\x00\\x08\\x06\\x0…"
      ]
     },
     "metadata": {},
     "output_type": "display_data"
    }
   ],
   "source": [
    "ga.world.watch()"
   ]
  },
  {
   "cell_type": "markdown",
   "metadata": {},
   "source": [
    "Likewise, we can get a snapshot of the network architecture:"
   ]
  },
  {
   "cell_type": "code",
   "execution_count": 9,
   "metadata": {},
   "outputs": [
    {
     "data": {
      "text/html": [
       "<svg id='keras-network' xmlns='http://www.w3.org/2000/svg' xmlns:xlink='http://www.w3.org/1999/xlink' image-rendering=\"pixelated\" width=\"400px\" height=\"324px\" style=\"background-color: #B0C4DE\">\n",
       " <g >\n",
       "  <svg viewBox=\"0 0 350 284\" width=\"400px\" height=\"324px\">\n",
       "    <defs>\n",
       "        <marker id=\"arrow\" markerWidth=\"10\" markerHeight=\"10\" refX=\"9\" refY=\"3\" orient=\"auto\" markerUnits=\"strokeWidth\">\n",
       "          <path d=\"M0,0 L0,6 L9,3 z\" fill=\"black\" />\n",
       "        </marker>\n",
       "    </defs><rect x=\"112.0\" y=\"24\" width=\"126\" height=\"64\" style=\"fill:none;stroke:black;stroke-width:2\"/><image id=\"keras-network_output\" class=\"keras-network\" x=\"113.0\" y=\"25\" height=\"62\" width=\"124\" preserveAspectRatio=\"none\" image-rendering=\"optimizeSpeed\" xlink:href=\"data:image/gif;base64,R0lGODdhfAA+AIcAAAAAAP///wAAAAAAAAAAAAAAAAAAAAAAAAAAAAAAAAAAAAAAAAAAAAAAAAAAAAAAAAAAAAAAAAAAAAAAAAAAAAAAAAAAAAAAAAAAAAAAAAAAAAAAAAAAAAAAAAAAAAAAAAAAAAAAAAAAAAAAAAAAAAAAAAAAAAAAAAAAAAAAAAAAAAAAAAAAAAAAAAAAAAAAAAAAAAAAAAAAAAAAAAAAAAAAAAAAAAAAAAAAAAAAAAAAAAAAAAAAAAAAAAAAAAAAAAAAAAAAAAAAAAAAAAAAAAAAAAAAAAAAAAAAAAAAAAAAAAAAAAAAAAAAAAAAAAAAAAAAAAAAAAAAAAAAAAAAAAAAAAAAAAAAAAAAAAAAAAAAAAAAAAAAAAAAAAAAAAAAAAAAAAAAAAAAAAAAAAAAAAAAAAAAAAAAAAAAAAAAAAAAAAAAAAAAAAAAAAAAAAAAAAAAAAAAAAAAAAAAAAAAAAAAAAAAAAAAAAAAAAAAAAAAAAAAAAAAAAAAAAAAAAAAAAAAAAAAAAAAAAAAAAAAAAAAAAAAAAAAAAAAAAAAAAAAAAAAAAAAAAAAAAAAAAAAAAAAAAAAAAAAAAAAAAAAAAAAAAAAAAAAAAAAAAAAAAAAAAAAAAAAAAAAAAAAAAAAAAAAAAAAAAAAAAAAAAAAAAAAAAAAAAAAAAAAAAAAAAAAAAAAAAAAAAAAAAAAAAAAAAAAAAAAAAAAAAAAAAAAAAAAAAAAAAAAAAAAAAAAAAAAAAAAAAAAAAAAAAAAAAAAAAAAAAAAAAAAAAAAAAAAAAAAAAAAAAAAAAAAAAAAAAAAAAAAAAAAAAAAAAAAAAAAAAAAAAAAAAAAAAAAAAAAAAAAAAAAAAAAAAAAAAAAAAAAAAAAAAAAAAAAAAAAAAAAAAAAAAAAAAAAAAAAAAAAAAAAAAAAAAAAAAAAAAAAAAAAAAAAAAAAAAAAAAAAAAAAAAAAAAAAAAAAAAAAAAAAAAAAAAAAAAAAAAAAAAAAAAAAAAAAAAAAAAAAAAAAAAAAACwAAAAAfAA+AEAI/wABCBxIsKDBgwgTKlzIsKHDhxAjSoQYoKLFixgzatzIsSPGiSBDEvRIsqTJjiJTTjzJsiVJlTAfupxJ02LMmwtr6myJs+fBnUBL+hw6MKhRjkSJHl36MalPplADOH0adenUnlWtXr2Z9ehWrl2Dfo0ZVuxYlWWBnkWbVufalG3dvg0Zt+ZcunVn3gWZV+9eiX1d/gUcmOXgiIUNH5aZ2ORixo1fPm4YWehkhpUlX1aY2ePmnJ2Rfk4YWvTon6U1nkaYWvVqg60zvoYd++LsgrVt3y6au+Ju3r1/C+ztWzhxqcaJCwdwfHnz5MGh53auXHpt6tF/P9denXv23dvBdxYX//12ePPj0ZeffZ59evfrX7dfPjogADs=\"><title>Layer: output 'Dense'\n",
       "Act function: sigmoid\n",
       "Act output range: (0, 1)\n",
       "Shape = (None, 2)</title></image><text x=\"242.0\" y=\"58.0\" font-family=\"monospace\" font-size=\"12\" text-anchor=\"start\" fill=\"blue\" alignment-baseline=\"central\" >output</text><path d=\"M 175.0 116 L 175.0 89 \" stroke=\"black\" stroke-width=\"2\" marker-end=\"url(#arrow)\" fill=\"none\" /><rect x=\"74.0\" y=\"116\" width=\"202\" height=\"64\" style=\"fill:none;stroke:black;stroke-width:2\"/><image id=\"keras-network_hidden\" class=\"keras-network\" x=\"75.0\" y=\"117\" height=\"62\" width=\"200\" preserveAspectRatio=\"none\" image-rendering=\"optimizeSpeed\" xlink:href=\"data:image/gif;base64,R0lGODdh+AA+AIcAAAAAADw8PJ+fn////wAAAAAAAAAAAAAAAAAAAAAAAAAAAAAAAAAAAAAAAAAAAAAAAAAAAAAAAAAAAAAAAAAAAAAAAAAAAAAAAAAAAAAAAAAAAAAAAAAAAAAAAAAAAAAAAAAAAAAAAAAAAAAAAAAAAAAAAAAAAAAAAAAAAAAAAAAAAAAAAAAAAAAAAAAAAAAAAAAAAAAAAAAAAAAAAAAAAAAAAAAAAAAAAAAAAAAAAAAAAAAAAAAAAAAAAAAAAAAAAAAAAAAAAAAAAAAAAAAAAAAAAAAAAAAAAAAAAAAAAAAAAAAAAAAAAAAAAAAAAAAAAAAAAAAAAAAAAAAAAAAAAAAAAAAAAAAAAAAAAAAAAAAAAAAAAAAAAAAAAAAAAAAAAAAAAAAAAAAAAAAAAAAAAAAAAAAAAAAAAAAAAAAAAAAAAAAAAAAAAAAAAAAAAAAAAAAAAAAAAAAAAAAAAAAAAAAAAAAAAAAAAAAAAAAAAAAAAAAAAAAAAAAAAAAAAAAAAAAAAAAAAAAAAAAAAAAAAAAAAAAAAAAAAAAAAAAAAAAAAAAAAAAAAAAAAAAAAAAAAAAAAAAAAAAAAAAAAAAAAAAAAAAAAAAAAAAAAAAAAAAAAAAAAAAAAAAAAAAAAAAAAAAAAAAAAAAAAAAAAAAAAAAAAAAAAAAAAAAAAAAAAAAAAAAAAAAAAAAAAAAAAAAAAAAAAAAAAAAAAAAAAAAAAAAAAAAAAAAAAAAAAAAAAAAAAAAAAAAAAAAAAAAAAAAAAAAAAAAAAAAAAAAAAAAAAAAAAAAAAAAAAAAAAAAAAAAAAAAAAAAAAAAAAAAAAAAAAAAAAAAAAAAAAAAAAAAAAAAAAAAAAAAAAAAAAAAAAAAAAAAAAAAAAAAAAAAAAAAAAAAAAAAAAAAAAAAAAAAAAAAAAAAAAAAAAAAAAAAAAAAAAAAAAAAAAAAAAAAAAAAAAAAAAAAAAAAAAAAAAAAAAAAAAAAAAAAAAAAAAAAAAAAAAAAAAAAAAAAAAAAAAAAAACwAAAAA+AA+AEAI/wABCBxIsKDBgwgTKlzIsKHDhxAjSpxIsaLEABgzatzIsaPHjyA3ChxAsqTJkyhTqlzJ8qTFlxMFyJxJs6bNmzhz6qwpMKTPn0BBjmxJtKjRlTCTPtzJtKlTnT2DSp0acujRq1hZKt268KnXr0yjUh1LNoDVrGjTcl17EKzbtzPFlp0L9Gzau0fZ6h0It+9XuXQDf7SLt7DWvXr9Km4KWLBjjYQNS3aJmO3iyzkbP34cebLnypYxi6apebPgzp4lg147urWA0qbpok5deDVX16Nhxy47m/Zd21txi9a9e2xv32iBKxWOmXjxqceRY1WelPll58+DRpeel/pL64uxZ///uZ17Ue/fwfsVP74qAPOT0VtUvx5A+8Dl4R+WH5M+XPb3eZSffirxR5F//9kXIG/vEYiXgf0hCBaAC4rUoINqQRiRhG5RWGFGA2JokoYbcviXgh9Cd6GI05G4lIleeZhiiCwO4OKLMDol44c0snijQzk+tWOFPYr4Y0NB6ohiitqtWKNRRzKUJGNLMkmek08SFWVXU+405IJFYrilQl16WaWV7mV51ZgJlQnVmWgOhqWaSLHZlps4fRlgmA7aeSeeNul5H58E+mkQoDcJ2h6h+hlaEKKBwhlnR4zC5yhBkPIk6aQW0gnlpQJlStqmnII4p6cogRqqqDIpOl6l5qm8CgCrrZJaqlmnojqiqrS+ZmupsHIna6+uZhesdMPSWuxzxyKXLKvLFtesb8+KGu1u09JWbabXxpZtattC2q1p337Gq7K/clpufOdCm+6k66rWrrXvxhmvYeEiOu5m99Y2L7f1otnvg/+KG7CVA/9WsL4HM5lwhqAS2/CMuepKUr6A7stZxRZjjKfGjj2c3MIZT8wjx7p67CbIp6GMqsplsoyfy57C3KXMstFMp81T4jyXyFnxnKSsRBe9ZUAAOw==\"><title>Layer: hidden 'Dense'\n",
       "Act function: sigmoid\n",
       "Act output range: (0, 1)\n",
       "Shape = (None, 4)</title></image><text x=\"280.0\" y=\"150.0\" font-family=\"monospace\" font-size=\"12\" text-anchor=\"start\" fill=\"blue\" alignment-baseline=\"central\" >hidden</text><path d=\"M 175.0 208 L 175.0 181 \" stroke=\"black\" stroke-width=\"2\" marker-end=\"url(#arrow)\" fill=\"none\" /><rect x=\"74.0\" y=\"208\" width=\"202\" height=\"52\" style=\"fill:none;stroke:black;stroke-width:2\"/><image id=\"keras-network_input\" class=\"keras-network\" x=\"75.0\" y=\"209\" height=\"50\" width=\"200\" preserveAspectRatio=\"none\" image-rendering=\"optimizeSpeed\" xlink:href=\"data:image/gif;base64,R0lGODdh8AAPAIcAAAAAAEtLS1tbWyIiIjs7O+jo6MXFxd7e3v///wAAAAAAAAAAAAAAAAAAAAAAAAAAAAAAAAAAAAAAAAAAAAAAAAAAAAAAAAAAAAAAAAAAAAAAAAAAAAAAAAAAAAAAAAAAAAAAAAAAAAAAAAAAAAAAAAAAAAAAAAAAAAAAAAAAAAAAAAAAAAAAAAAAAAAAAAAAAAAAAAAAAAAAAAAAAAAAAAAAAAAAAAAAAAAAAAAAAAAAAAAAAAAAAAAAAAAAAAAAAAAAAAAAAAAAAAAAAAAAAAAAAAAAAAAAAAAAAAAAAAAAAAAAAAAAAAAAAAAAAAAAAAAAAAAAAAAAAAAAAAAAAAAAAAAAAAAAAAAAAAAAAAAAAAAAAAAAAAAAAAAAAAAAAAAAAAAAAAAAAAAAAAAAAAAAAAAAAAAAAAAAAAAAAAAAAAAAAAAAAAAAAAAAAAAAAAAAAAAAAAAAAAAAAAAAAAAAAAAAAAAAAAAAAAAAAAAAAAAAAAAAAAAAAAAAAAAAAAAAAAAAAAAAAAAAAAAAAAAAAAAAAAAAAAAAAAAAAAAAAAAAAAAAAAAAAAAAAAAAAAAAAAAAAAAAAAAAAAAAAAAAAAAAAAAAAAAAAAAAAAAAAAAAAAAAAAAAAAAAAAAAAAAAAAAAAAAAAAAAAAAAAAAAAAAAAAAAAAAAAAAAAAAAAAAAAAAAAAAAAAAAAAAAAAAAAAAAAAAAAAAAAAAAAAAAAAAAAAAAAAAAAAAAAAAAAAAAAAAAAAAAAAAAAAAAAAAAAAAAAAAAAAAAAAAAAAAAAAAAAAAAAAAAAAAAAAAAAAAAAAAAAAAAAAAAAAAAAAAAAAAAAAAAAAAAAAAAAAAAAAAAAAAAAAAAAAAAAAAAAAAAAAAAAAAAAAAAAAAAAAAAAAAAAAAAAAAAAAAAAAAAAAAAAAAAAAAAAAAAAAAAAAAAAAAAAAAAAAAAAAAAAAAAAAAAAAAAAAAAAAAAAAAAAAAAAAAAAAAAAAAAAAAAAAAAAAAAAAAAAAAAAAAAACwAAAAA8AAPAAAI/wABCBxIsKDBgwgTKlzIsKHDhxAjSpxIsaLCABgzaswokIDHjyA/ChRAsqTJkgILqFzJcmXKljALRDxJk6RABDhz6swpcKNPjCNrnhRooKjRo0YFHljKtCnTjiGjEuj5c6PAAVizas16davXAVSrcgQgNWpQoSgBxIT5cq1LiGhN3txJF0FYsQHOxiWKtK8BpU4DH4BaViQAvGO/eu2qmOthxHnJFjYcN61blm0vz6wsYG5dnXfF6kXL1+9RwIKbEp4cuirjxmABwHYMOfJkypwzu9W9dnNlz59xtv45Wmhp00VRp166uvBwn68bR1f83Krk28Vr8o65nS3c3ACCg/9+jDg7zePIlS9vXra6xulf4S8mj5e9VPND1V5W2b2l773hiSccfaIBwFlnACB3GgDLqXYdawS6JttssVEYW232mWUgePvxp99+/5EWoIDujXUgeqapl1qGIZUI1ISzybeVi7bdNtWGv32omY67fZejgANiiCOACibFYIPMPehchMTBCJuMWtHIIkj4ycVjb1dy5yOAQNrFJHRDilhkckciOaVhQloIJW2QnelRlZZ12B9mW4rYpZRhGpfgmCoK5uaNaVK4JlZ42njjiVl616FMdep555fWITrmX2U2+CeeajopHaTvKdlentol6p+odD6E6KNCSspnpet5eh+niQkrqil1sL5oKJw2kfrWoiE6CiSeqhbZZ2CX1hpZpplapOyyzDbr7LPQRltQQAA7\"><title>Layer: input 'InputLayer'\n",
       "Shape = [(None, 16)]</title></image><text x=\"280.0\" y=\"236.0\" font-family=\"monospace\" font-size=\"12\" text-anchor=\"start\" fill=\"blue\" alignment-baseline=\"central\" >input</text><text x=\"175.0\" y=\"12.5\" font-family=\"monospace\" font-size=\"15\" text-anchor=\"middle\" fill=\"black\" alignment-baseline=\"central\" >Activations for SimpleNetwork</text></svg></g></svg>"
      ],
      "text/plain": [
       "<IPython.core.display.HTML object>"
      ]
     },
     "metadata": {},
     "output_type": "display_data"
    }
   ],
   "source": [
    "ga.network.display()"
   ]
  },
  {
   "cell_type": "markdown",
   "metadata": {},
   "source": [
    "But, again we can do even better by creating a dynamically updating view:"
   ]
  },
  {
   "cell_type": "code",
   "execution_count": 10,
   "metadata": {
    "colab": {
     "base_uri": "https://localhost:8080/",
     "height": 345,
     "referenced_widgets": [
      "85948e04362d4b658808951c4635bf00",
      "dc52a3313d1f45bd9e8e9d10dd2bfcd7",
      "6203182779304d9c88d259968b51864b"
     ]
    },
    "id": "9dE6sMacUGvF",
    "outputId": "4c9b57c0-acb5-42ae-f841-c5a3fc8910fa",
    "tags": []
   },
   "outputs": [
    {
     "data": {
      "application/vnd.jupyter.widget-view+json": {
       "model_id": "3d7f6f5ad91640f9a78fec851127efd1",
       "version_major": 2,
       "version_minor": 0
      },
      "text/plain": [
       "HTML(value='<div style=\"outline: 5px solid #1976D2FF; width: 400px; height: 324px;\"><svg id=\\'keras-network\\' …"
      ]
     },
     "metadata": {},
     "output_type": "display_data"
    }
   ],
   "source": [
    "ga.network.watch()"
   ]
  },
  {
   "cell_type": "markdown",
   "metadata": {},
   "source": [
    "## 2.2 Testing\n",
    "\n",
    "Let's test everything to make sure it is working.\n",
    "\n",
    "Let's see what a chromosome looks like:"
   ]
  },
  {
   "cell_type": "code",
   "execution_count": 11,
   "metadata": {},
   "outputs": [
    {
     "data": {
      "text/plain": [
       "78"
      ]
     },
     "execution_count": 11,
     "metadata": {},
     "output_type": "execute_result"
    }
   ],
   "source": [
    "len(ga.make_random_chromosome())"
   ]
  },
  {
   "cell_type": "markdown",
   "metadata": {},
   "source": [
    "Therefore a chromome will be a length of 78 \"genes\". Each gene is an individual weight or bias in the neural network.\n",
    "\n",
    "Let's see what the sensor readings look like:"
   ]
  },
  {
   "cell_type": "code",
   "execution_count": 12,
   "metadata": {},
   "outputs": [
    {
     "data": {
      "text/plain": [
       "[0.029439482206323014,\n",
       " 0.05432383222249942,\n",
       " 0.13545030355347906,\n",
       " 0.5974929341368539,\n",
       " 0.6419171521347765,\n",
       " 0.7787810772237466,\n",
       " 1.0,\n",
       " 1.0,\n",
       " 1.0,\n",
       " 0.9639523350270213,\n",
       " 0.6121505392785705,\n",
       " 0.5043876335874619,\n",
       " 0.5058110032617869,\n",
       " 0.13124866704304178,\n",
       " 0.05307049021005281,\n",
       " 0.02912317783425076]"
      ]
     },
     "execution_count": 12,
     "metadata": {},
     "output_type": "execute_result"
    }
   ],
   "source": [
    "sensors = ga.get_sensors()\n",
    "sensors"
   ]
  },
  {
   "cell_type": "markdown",
   "metadata": {},
   "source": [
    "And let's see what movements the sensors give when propagated through the network and scaled:"
   ]
  },
  {
   "cell_type": "code",
   "execution_count": 13,
   "metadata": {},
   "outputs": [
    {
     "data": {
      "text/plain": [
       "array([0.41207433, 0.09559512], dtype=float32)"
      ]
     },
     "execution_count": 13,
     "metadata": {},
     "output_type": "execute_result"
    }
   ],
   "source": [
    "ga.get_move(sensors)"
   ]
  },
  {
   "cell_type": "markdown",
   "metadata": {},
   "source": [
    "You should see the activations in the network display change. The robot won't actually move in the simulator until we update it."
   ]
  },
  {
   "cell_type": "markdown",
   "metadata": {
    "id": "ocq9cHWvUGvG"
   },
   "source": [
    "Ok, let's put all of this together and move the robot around the simulated world. We can test out a random chromosome to see what this does.\n",
    "\n",
    "We pass in:\n",
    "\n",
    "1. a random chromosome (like the that from the initial population)\n",
    "2. A list of poses (x, y, angle) to test\n",
    "3. number of seconds to run the simulation\n",
    "4. Whether we should show the robot and network updates\n",
    "5. Whether the simulation should run in real_time (setting to False will run as fast as possible)\n",
    "\n",
    "Let's go!"
   ]
  },
  {
   "cell_type": "code",
   "execution_count": 14,
   "metadata": {
    "colab": {
     "base_uri": "https://localhost:8080/",
     "height": 85,
     "referenced_widgets": [
      "24370d9d5e054008af5d1547ae1e06ad",
      "d50d56b63cfc44278489faee93999b82",
      "a038bba8c4514aadb3ef388bb80578fb",
      "2112fa546d854613ab9ce5a0cbb31e05",
      "7c0ae88a94904d5e8f06937e44eee86c",
      "780648e92fc645a9b8dd73254f252c2e",
      "a9c3ad6214a04c33baad9842454be573",
      "4c02aaa7d86348a08cdaab1e0b2758e3"
     ]
    },
    "id": "Xv19whtMUGvG",
    "outputId": "4929a03e-1d0e-4eca-9733-91e97f36e37c"
   },
   "outputs": [
    {
     "data": {
      "text/plain": [
       "1.0267299308685822"
      ]
     },
     "execution_count": 14,
     "metadata": {},
     "output_type": "execute_result"
    }
   ],
   "source": [
    "ga.fitness(\n",
    "    ga.make_random_chromosome(), \n",
    "    poses=[(50, 50, 0)], \n",
    "    seconds=5,\n",
    "    show=True, \n",
    "    real_time=True)"
   ]
  },
  {
   "cell_type": "markdown",
   "metadata": {},
   "source": [
    "Interesting! You can try that cell over and over again to see many possible behaviors of these random weights.\n",
    "\n",
    "Some questions you might be interested in answering at this point?\n",
    "\n",
    "1. What percentage of random genes spin in circles?\n",
    "2. What percentage of random genes change movement during the 5 seconds of training?\n",
    "3. What percentage of gense actually make it to a wall?\n",
    "4. What is the range of \"fitness\" values returned for these random chromosomes?"
   ]
  },
  {
   "cell_type": "markdown",
   "metadata": {
    "id": "aoo2YGEVUGvK"
   },
   "source": [
    "### 3. Evolve!"
   ]
  },
  {
   "cell_type": "markdown",
   "metadata": {
    "id": "kEUDFqS-UGvG"
   },
   "source": [
    "To run 10 epochs (plus one to test initial population) of 30 generations, in the 5 test poses for 3 seconds each will take 1 hour, 22 minutes, and 30 seconds of simulated time."
   ]
  },
  {
   "cell_type": "markdown",
   "metadata": {
    "id": "omwTjbx-UGvK"
   },
   "source": [
    "Typically, 10 generations can performed in a few actual minutes on a typical computer. One can get about a 50 x speed-up over real time when not watching the network, and about 10 x speed-up when watching the network."
   ]
  },
  {
   "cell_type": "markdown",
   "metadata": {
    "id": "7Xy3jw6EUGvL"
   },
   "source": [
    "You can run without watching by setting `show=False`."
   ]
  },
  {
   "cell_type": "code",
   "execution_count": 15,
   "metadata": {
    "colab": {
     "base_uri": "https://localhost:8080/"
    },
    "id": "NqqfhTNoUGvL",
    "outputId": "15deae95-61be-4af3-b741-8acfd2e8c135"
   },
   "outputs": [
    {
     "name": "stdout",
     "output_type": "stream",
     "text": [
      "Using random seed: 6911151\n",
      "  Maximum number of generations: 10\n",
      "  Crossover rate: 0.0\n",
      "  Mutation rate: 0.6\n",
      "  Elite percentage: 0.05\n",
      "  Elite count: 1\n",
      "Generation    0 Best fitness 119.51\n",
      "Generation    1 Best fitness 128.50\n",
      "Generation    2 Best fitness 129.75\n",
      "Generation    3 Best fitness 148.81\n",
      "Generation    4 Best fitness 153.03\n",
      "Generation    5 Best fitness 153.03\n",
      "Generation    6 Best fitness 159.93\n",
      "Generation    7 Best fitness 161.64\n",
      "Generation    8 Best fitness 169.80\n",
      "Generation    9 Best fitness 169.80\n",
      "Generation   10 Best fitness 170.22\n",
      "Max generations reached\n",
      "CPU times: user 1min 33s, sys: 143 ms, total: 1min 33s\n",
      "Wall time: 1min 33s\n"
     ]
    }
   ],
   "source": [
    "%%time\n",
    "ga.reset()\n",
    "ga.world.reset()\n",
    "# generations, crossover_rate, mutation_rate, elite percent\n",
    "bestFound = ga.evolve(10, 0.0, 0.6, 0.05, \n",
    "                      seconds=3,\n",
    "                      show=False) "
   ]
  },
  {
   "cell_type": "markdown",
   "metadata": {
    "id": "CbCDQPkJUGvL"
   },
   "source": [
    "### 4. Analysis\n",
    "\n",
    "We can see a bird's eye view of the populations over time:"
   ]
  },
  {
   "cell_type": "code",
   "execution_count": 16,
   "metadata": {
    "colab": {
     "base_uri": "https://localhost:8080/",
     "height": 295
    },
    "id": "NxX8912mUGvM",
    "outputId": "c7550553-df7f-4b87-c730-a4ddd8e35387"
   },
   "outputs": [
    {
     "data": {
      "image/png": "[encoded data removed]",
      "text/plain": [
       "<Figure size 640x480 with 1 Axes>"
      ]
     },
     "metadata": {},
     "output_type": "display_data"
    }
   ],
   "source": [
    "ga.plotStats(\"NNGA\")"
   ]
  },
  {
   "cell_type": "markdown",
   "metadata": {
    "id": "IPm0T3vOUGvM"
   },
   "source": [
    "Let's see the results by trying the best ever over the poses, for 5 seconds each:"
   ]
  },
  {
   "cell_type": "code",
   "execution_count": 17,
   "metadata": {
    "colab": {
     "base_uri": "https://localhost:8080/",
     "height": 285,
     "referenced_widgets": [
      "8ad2ce156ec745d187f0b182345b655f",
      "75b5f1165faf4949a9065abec1c2532b",
      "d9c797c19dd5465ba5e4576f460f11fa",
      "4bc107b0fdfe431c845e58cf143ac15d",
      "8e68efa968d849e6b52b408f2cf6785c",
      "d72ff6dce2f4474caa50979834bba248",
      "84bb4ccf6acc42d9a48141295b7127f3",
      "0706330888c84838970071882bb77045",
      "f01ce7d4998f4cd18793c55b977cd44c",
      "e0f6d576022b4c3f8731377f4c16b2b2",
      "c57c8a5a7cf046babd6a571dea10425d",
      "b700450539e24b3f958ab82cb4c61ba7",
      "f7880b7cb8234171973ae8fe3d885c5a",
      "adee9b75ac91429bbda90174d6040d80",
      "11b25aefe3464744b0363f568b70ff7a",
      "b19a2c494a144ace9d3abb736fee833f",
      "9c4c52242d064e90b5da368e1a469632",
      "14fb98746a0141b3a19d4ddc2f8bfbf7",
      "6fddbded18e9420ab53fa31b562d97bd",
      "469f3917098844d0af203e6b977eed1b",
      "035bbb9735a34758bae96160426f7d9a",
      "f3e7c40d8aad4e30a33f6f4bc05bd140",
      "0975fa7125874869bb1ed29c7aea16d1",
      "8f378d82408e41d287b655a59c952c9a",
      "ebcfb91f4b434d6ab43cd99e345ce5ec",
      "3bc9276ac4974a03be28b2833b3c01c4",
      "b9e7ada87a93489fa6dec933a4d0c569",
      "29cd109ab212478aa65e835c2817d681",
      "72c0466433c344be8cd1ca5e2318c683",
      "bd16fcf2b7c64c468196e8e943597a72",
      "45ffbc451cc74c828c122c7278667a74",
      "5ea147a8f055448c8c9db986bb3a4bde",
      "471f0b80f59e43a39333e263102dc92d",
      "83f09a58fcd4407684012f5fa19382f2",
      "ac274c57aaab4939b6c912bcfa37682f",
      "cf3e41e28e0e40fd84f8ee99a94e16dd",
      "256452ae51354eaea44d4714edfb8bde",
      "19497de06b24405fb512395602693b79",
      "315ee295b7604620b68534d662a5b6d6",
      "2f3513979be0412c8be18ccae97f113b"
     ]
    },
    "id": "WmajpIM1UGvM",
    "outputId": "7b928ca7-7275-4847-9f6b-39a47c5ab00e"
   },
   "outputs": [
    {
     "data": {
      "text/plain": [
       "252.92134549050198"
      ]
     },
     "execution_count": 17,
     "metadata": {},
     "output_type": "execute_result"
    }
   ],
   "source": [
    "ga.fitness(\n",
    "    ga.bestEver, \n",
    "    real_time=True, \n",
    "    show=True, \n",
    "    seconds=5)"
   ]
  },
  {
   "cell_type": "markdown",
   "metadata": {},
   "source": [
    "That might create lots of behaviors that crash into walls. \n",
    "\n",
    "What is the most interesting behavior that you observer after 10 generations?\n",
    "\n",
    "Let's run a few more generations."
   ]
  },
  {
   "cell_type": "markdown",
   "metadata": {
    "id": "h9hjrUWiUGvM"
   },
   "source": [
    "If you wish, you can increase the maximum generations, change any of the parameters, and continue to evolve:"
   ]
  },
  {
   "cell_type": "code",
   "execution_count": 18,
   "metadata": {
    "id": "xYj9oS8NUGvN"
   },
   "outputs": [
    {
     "name": "stdout",
     "output_type": "stream",
     "text": [
      "  Maximum number of generations: 20\n",
      "  Crossover rate: 0.6\n",
      "  Mutation rate: 0.001\n",
      "  Elite percentage: 0.1\n",
      "  Elite count: 3\n",
      "Generation   11 Best fitness 179.25\n",
      "Generation   12 Best fitness 179.35\n",
      "Generation   13 Best fitness 179.35\n",
      "Generation   14 Best fitness 179.35\n",
      "Generation   15 Best fitness 179.35\n",
      "Generation   16 Best fitness 179.35\n",
      "Generation   17 Best fitness 188.26\n",
      "Generation   18 Best fitness 188.26\n",
      "Generation   19 Best fitness 188.26\n",
      "Generation   20 Best fitness 188.26\n",
      "Max generations reached\n"
     ]
    }
   ],
   "source": [
    "bestFound = ga.evolve(20, 0.6, 0.001, 0.1, \n",
    "                      seconds=3,\n",
    "                      show=False) "
   ]
  },
  {
   "cell_type": "code",
   "execution_count": 19,
   "metadata": {},
   "outputs": [
    {
     "data": {
      "image/png": "[encoded data removed]",
      "text/plain": [
       "<Figure size 640x480 with 1 Axes>"
      ]
     },
     "metadata": {},
     "output_type": "display_data"
    }
   ],
   "source": [
    "ga.plotStats(\"NNGA\")"
   ]
  },
  {
   "cell_type": "code",
   "execution_count": 20,
   "metadata": {},
   "outputs": [
    {
     "data": {
      "text/plain": [
       "286.39890800852277"
      ]
     },
     "execution_count": 20,
     "metadata": {},
     "output_type": "execute_result"
    }
   ],
   "source": [
    "ga.fitness(\n",
    "    ga.bestEver, \n",
    "    real_time=True, \n",
    "    show=True, \n",
    "    seconds=5)"
   ]
  },
  {
   "cell_type": "markdown",
   "metadata": {},
   "source": [
    "Was the best from the second 10 generations significantly different from the best from the first 10 generations?\n",
    "\n",
    "Did the fitness change dramatically during the second 10 generations? \n",
    "\n",
    "Do you think there will be a point where the fitness won't get any higher?"
   ]
  },
  {
   "cell_type": "markdown",
   "metadata": {},
   "source": [
    "## 6. Further Exploration"
   ]
  },
  {
   "cell_type": "markdown",
   "metadata": {},
   "source": [
    "There is one additional aspect added to the fitness measure: if you don't specify the number of seconds to use explicitly, it will compute the number of seconds based on the generation. This allows the GA to focus on initial movements first, and longer control as the generations increase. You can test this effect by running without explicitly setting seconds. "
   ]
  },
  {
   "cell_type": "markdown",
   "metadata": {},
   "source": [
    "<div class=\"alert alert-block alert-info\">\n",
    "    <b>Tip</b>: the best fitness measure will increase with the increased simulation time. So you can't really compare the fitness in the begining generations with following generations when seconds is `None`. \n",
    "</div>"
   ]
  },
  {
   "cell_type": "markdown",
   "metadata": {},
   "source": [
    "Some ideas to try:\n",
    "\n",
    "1. Try evolving with seconds=None. How does this compare with a fixed number of seconds?\n",
    "2. What happens if you try with a larger, fixed number of seconds, such as 10?\n",
    "3. The above experiments used 0.0 crossover with a high mutation rate. What happens if you try with a higher crossover rate (say 30%) and with a much smaller mutation rate?\n",
    "4. Anything that you can represent with a list of numbers and create a fitness function for, you could conceivably evole. What else could you try? What are the limitations of the GA?"
   ]
  },
  {
   "cell_type": "markdown",
   "metadata": {},
   "source": [
    "## 5. References\n",
    "\n",
    "1. Turing\n",
    "2. Holland"
   ]
  }
 ],
 "metadata": {
  "accelerator": "GPU",
  "colab": {
   "collapsed_sections": [],
   "name": "NNGA.ipynb",
   "provenance": []
  },
  "kernelspec": {
   "display_name": "Python 3",
   "language": "python",
   "name": "python3"
  },
  "language_info": {
   "codemirror_mode": {
    "name": "ipython",
    "version": 3
   },
   "file_extension": ".py",
   "mimetype": "text/x-python",
   "name": "python",
   "nbconvert_exporter": "python",
   "pygments_lexer": "ipython3",
   "version": "3.8.5"
  },
  "widgets": {
   "application/vnd.jupyter.widget-state+json": {
    "state": {
     "3d7f6f5ad91640f9a78fec851127efd1": {
      "model_module": "@jupyter-widgets/controls",
      "model_module_version": "1.5.0",
      "model_name": "HTMLModel",
      "state": {
       "layout": "IPY_MODEL_eb2a5b45413741fc88060ca80f5e3000",
       "style": "IPY_MODEL_8473973c5c4342de9d9a8c573ee65990",
       "value": "<div style=\"outline: 5px solid #1976D2FF; width: 400px; height: 324px;\"><svg id='keras-network' xmlns='http://www.w3.org/2000/svg' xmlns:xlink='http://www.w3.org/1999/xlink' image-rendering=\"pixelated\" width=\"400px\" height=\"324px\" style=\"background-color: #B0C4DE\">\n <g >\n  <svg viewBox=\"0 0 350 284\" width=\"400px\" height=\"324px\">\n    <defs>\n        <marker id=\"arrow\" markerWidth=\"10\" markerHeight=\"10\" refX=\"9\" refY=\"3\" orient=\"auto\" markerUnits=\"strokeWidth\">\n          <path d=\"M0,0 L0,6 L9,3 z\" fill=\"black\" />\n        </marker>\n    </defs><rect x=\"112.0\" y=\"24\" width=\"126\" height=\"64\" style=\"fill:none;stroke:black;stroke-width:2\"/><image id=\"keras-network_output\" class=\"keras-network\" x=\"113.0\" y=\"25\" height=\"62\" width=\"124\" preserveAspectRatio=\"none\" image-rendering=\"optimizeSpeed\" xlink:href=\"data:image/gif;base64,R0lGODdhfAA+AIcAAAUFBZKSkgAAAAAAAAAAAAAAAAAAAAAAAAAAAAAAAAAAAAAAAAAAAAAAAAAAAAAAAAAAAAAAAAAAAAAAAAAAAAAAAAAAAAAAAAAAAAAAAAAAAAAAAAAAAAAAAAAAAAAAAAAAAAAAAAAAAAAAAAAAAAAAAAAAAAAAAAAAAAAAAAAAAAAAAAAAAAAAAAAAAAAAAAAAAAAAAAAAAAAAAAAAAAAAAAAAAAAAAAAAAAAAAAAAAAAAAAAAAAAAAAAAAAAAAAAAAAAAAAAAAAAAAAAAAAAAAAAAAAAAAAAAAAAAAAAAAAAAAAAAAAAAAAAAAAAAAAAAAAAAAAAAAAAAAAAAAAAAAAAAAAAAAAAAAAAAAAAAAAAAAAAAAAAAAAAAAAAAAAAAAAAAAAAAAAAAAAAAAAAAAAAAAAAAAAAAAAAAAAAAAAAAAAAAAAAAAAAAAAAAAAAAAAAAAAAAAAAAAAAAAAAAAAAAAAAAAAAAAAAAAAAAAAAAAAAAAAAAAAAAAAAAAAAAAAAAAAAAAAAAAAAAAAAAAAAAAAAAAAAAAAAAAAAAAAAAAAAAAAAAAAAAAAAAAAAAAAAAAAAAAAAAAAAAAAAAAAAAAAAAAAAAAAAAAAAAAAAAAAAAAAAAAAAAAAAAAAAAAAAAAAAAAAAAAAAAAAAAAAAAAAAAAAAAAAAAAAAAAAAAAAAAAAAAAAAAAAAAAAAAAAAAAAAAAAAAAAAAAAAAAAAAAAAAAAAAAAAAAAAAAAAAAAAAAAAAAAAAAAAAAAAAAAAAAAAAAAAAAAAAAAAAAAAAAAAAAAAAAAAAAAAAAAAAAAAAAAAAAAAAAAAAAAAAAAAAAAAAAAAAAAAAAAAAAAAAAAAAAAAAAAAAAAAAAAAAAAAAAAAAAAAAAAAAAAAAAAAAAAAAAAAAAAAAAAAAAAAAAAAAAAAAAAAAAAAAAAAAAAAAAAAAAAAAAAAAAAAAAAAAAAAAAAAAAAAAAAAAAAAAAAAAAAAAAAAAAAAAAAAAAAAAAAAAAAAAAAAAACwAAAAAfAA+AEAI/wABCBxIsKDBgwgTKlzIsKHDhxAjSoQYoKLFixgzatzIsSPGiSBDEvRIsqTJjiJTTjzJsiVJlTAfupxJ02LMmwtr6myJs+fBnUBL+hw6MKhRjkSJHl36MalPplADOH0adenUnlWtXr2Z9ehWrl2Dfo0ZVuxYlWWBnkWbVufalG3dvg0Zt+ZcunVn3gWZV+9eiX1d/gUcmOXgiIUNH5aZ2ORixo1fPm4YWehkhpUlX1aY2ePmnJ2Rfk4YWvTon6U1nkaYWvVqg60zvoYd++LsgrVt3y6au+Ju3r1/C+ztWzhxqcaJCwdwfHnz5MGh53auXHpt6tF/P9denXv23dvBdxYX//12ePPj0ZeffZ59evfrX7dfPjogADs=\"><title>Layer: output 'Dense'\nAct function: sigmoid\nAct output range: (0, 1)\nShape = (None, 2)</title></image><text x=\"242.0\" y=\"58.0\" font-family=\"monospace\" font-size=\"12\" text-anchor=\"start\" fill=\"blue\" alignment-baseline=\"central\" >output</text><path d=\"M 175.0 116 L 175.0 89 \" stroke=\"black\" stroke-width=\"2\" marker-end=\"url(#arrow)\" fill=\"none\" /><rect x=\"74.0\" y=\"116\" width=\"202\" height=\"64\" style=\"fill:none;stroke:black;stroke-width:2\"/><image id=\"keras-network_hidden\" class=\"keras-network\" x=\"75.0\" y=\"117\" height=\"62\" width=\"200\" preserveAspectRatio=\"none\" image-rendering=\"optimizeSpeed\" xlink:href=\"data:image/gif;base64,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\"><title>Layer: hidden 'Dense'\nAct function: sigmoid\nAct output range: (0, 1)\nShape = (None, 4)</title></image><text x=\"280.0\" y=\"150.0\" font-family=\"monospace\" font-size=\"12\" text-anchor=\"start\" fill=\"blue\" alignment-baseline=\"central\" >hidden</text><path d=\"M 175.0 208 L 175.0 181 \" stroke=\"black\" stroke-width=\"2\" marker-end=\"url(#arrow)\" fill=\"none\" /><rect x=\"74.0\" y=\"208\" width=\"202\" height=\"52\" style=\"fill:none;stroke:black;stroke-width:2\"/><image id=\"keras-network_input\" class=\"keras-network\" x=\"75.0\" y=\"209\" height=\"50\" width=\"200\" preserveAspectRatio=\"none\" image-rendering=\"optimizeSpeed\" xlink:href=\"data:image/gif;base64,R0lGODdh8AAPAIcAAAAAAP7+/jY2NhsbG87OzgAAAAAAAAAAAAAAAAAAAAAAAAAAAAAAAAAAAAAAAAAAAAAAAAAAAAAAAAAAAAAAAAAAAAAAAAAAAAAAAAAAAAAAAAAAAAAAAAAAAAAAAAAAAAAAAAAAAAAAAAAAAAAAAAAAAAAAAAAAAAAAAAAAAAAAAAAAAAAAAAAAAAAAAAAAAAAAAAAAAAAAAAAAAAAAAAAAAAAAAAAAAAAAAAAAAAAAAAAAAAAAAAAAAAAAAAAAAAAAAAAAAAAAAAAAAAAAAAAAAAAAAAAAAAAAAAAAAAAAAAAAAAAAAAAAAAAAAAAAAAAAAAAAAAAAAAAAAAAAAAAAAAAAAAAAAAAAAAAAAAAAAAAAAAAAAAAAAAAAAAAAAAAAAAAAAAAAAAAAAAAAAAAAAAAAAAAAAAAAAAAAAAAAAAAAAAAAAAAAAAAAAAAAAAAAAAAAAAAAAAAAAAAAAAAAAAAAAAAAAAAAAAAAAAAAAAAAAAAAAAAAAAAAAAAAAAAAAAAAAAAAAAAAAAAAAAAAAAAAAAAAAAAAAAAAAAAAAAAAAAAAAAAAAAAAAAAAAAAAAAAAAAAAAAAAAAAAAAAAAAAAAAAAAAAAAAAAAAAAAAAAAAAAAAAAAAAAAAAAAAAAAAAAAAAAAAAAAAAAAAAAAAAAAAAAAAAAAAAAAAAAAAAAAAAAAAAAAAAAAAAAAAAAAAAAAAAAAAAAAAAAAAAAAAAAAAAAAAAAAAAAAAAAAAAAAAAAAAAAAAAAAAAAAAAAAAAAAAAAAAAAAAAAAAAAAAAAAAAAAAAAAAAAAAAAAAAAAAAAAAAAAAAAAAAAAAAAAAAAAAAAAAAAAAAAAAAAAAAAAAAAAAAAAAAAAAAAAAAAAAAAAAAAAAAAAAAAAAAAAAAAAAAAAAAAAAAAAAAAAAAAAAAAAAAAAAAAAAAAAAAAAAAAAAAAAAAAAAAAAAAAAAAAAAAAAAAAAAAAAAAAAAAAAAAAAAAAAAAAAAAAAAAAAAAAAAAAAAAAAAAAACwAAAAA8AAPAAAI/wABCBxIsKDBgwgTKlzIsKHDhxAjSpxIsaLFgQIyatyoUWCAjyBDgvQosmQAkiZDokz5USCBlzBjwhTIsWZGgQNy6typ86LPn0B92qy5kmXRlEdNJi3pUqZTAjSHbsTJs+qAoFizakUodSoAliq/gm0pduxSkU2fxozaVQBVqzu3yp0LtO3NsmDPhh1Llu9JAGplsu36Fm5OuogTR7TrFq9Rx0ghK5XMFHDgmQAYFzasuLNnrnb1jqSMlvRevmkvD5a6Ge7n1681mx7tV3Rf1JYvQ80cGoDhuLCDJ5Zde/Zts8b/6n65emhrq8KjzyWOu7h13Mt3y/7dU7p3rNSRX0MXj315c5vPq35f/zN83uS2/xbPfp6ob+5X2eun6P7x+PfzmcdbW+nxtN+Bi/X2n3/VladbfRwVCByCFFZo4YUYFhQQADs=\"><title>Layer: input 'InputLayer'\nShape = [(None, 16)]</title></image><text x=\"280.0\" y=\"236.0\" font-family=\"monospace\" font-size=\"12\" text-anchor=\"start\" fill=\"blue\" alignment-baseline=\"central\" >input</text><text x=\"175.0\" y=\"12.5\" font-family=\"monospace\" font-size=\"15\" text-anchor=\"middle\" fill=\"black\" alignment-baseline=\"central\" >Activations for SimpleNetwork</text></svg></g></svg></div>"
      }
     },
     "8473973c5c4342de9d9a8c573ee65990": {
      "model_module": "@jupyter-widgets/controls",
      "model_module_version": "1.5.0",
      "model_name": "DescriptionStyleModel",
      "state": {
       "description_width": ""
      }
     },
     "a457d10fa3c84b0b86eb5a0352116f57": {
      "buffers": [
       {
        "data": "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",
        "encoding": "base64",
        "path": [
         "value"
        ]
       }
      ],
      "model_module": "@jupyter-widgets/controls",
      "model_module_version": "1.5.0",
      "model_name": "ImageModel",
      "state": {
       "layout": "IPY_MODEL_f4b87d6e8ea94a019e6d7dd188e9acfd"
      }
     },
     "eb2a5b45413741fc88060ca80f5e3000": {
      "model_module": "@jupyter-widgets/base",
      "model_module_version": "1.2.0",
      "model_name": "LayoutModel",
      "state": {}
     },
     "f4b87d6e8ea94a019e6d7dd188e9acfd": {
      "model_module": "@jupyter-widgets/base",
      "model_module_version": "1.2.0",
      "model_name": "LayoutModel",
      "state": {
       "border": "10px solid rgb(0 177 255)",
       "margin": "auto"
      }
     }
    },
    "version_major": 2,
    "version_minor": 0
   }
  }
 },
 "nbformat": 4,
 "nbformat_minor": 4
}
