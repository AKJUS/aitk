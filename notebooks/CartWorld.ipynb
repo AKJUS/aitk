{
 "cells": [
  {
   "cell_type": "code",
   "execution_count": 44,
   "metadata": {},
   "outputs": [],
   "source": [
    "from aitk.robots.cart import CartWorld"
   ]
  },
  {
   "cell_type": "code",
   "execution_count": 45,
   "metadata": {},
   "outputs": [],
   "source": [
    "world = CartWorld(quiet=True)"
   ]
  },
  {
   "cell_type": "code",
   "execution_count": 46,
   "metadata": {
    "tags": []
   },
   "outputs": [
    {
     "data": {
      "application/vnd.jupyter.widget-view+json": {
       "model_id": "081de3eda4124be8bfa0487872d1016a",
       "version_major": 2,
       "version_minor": 0
      },
      "text/plain": [
       "Image(value=b'\\xff\\xd8\\xff\\xe0\\x00\\x10JFIF\\x00\\x01\\x01\\x00\\x00\\x01\\x00\\x01\\x00\\x00\\xff\\xdb\\x00C\\x00\\x08\\x06\\x0…"
      ]
     },
     "metadata": {},
     "output_type": "display_data"
    }
   ],
   "source": [
    "world.watch()"
   ]
  },
  {
   "cell_type": "code",
   "execution_count": 47,
   "metadata": {},
   "outputs": [
    {
     "data": {
      "application/vnd.jupyter.widget-view+json": {
       "model_id": "edbfe136aa1f40d686a976626390745d",
       "version_major": 2,
       "version_minor": 0
      },
      "text/plain": [
       "HTML(value='<style>img.pixelated {image-rendering: pixelated;}</style>')"
      ]
     },
     "metadata": {},
     "output_type": "display_data"
    },
    {
     "data": {
      "application/vnd.jupyter.widget-view+json": {
       "model_id": "e821e02cc7684b9c81fe20b994cca2cb",
       "version_major": 2,
       "version_minor": 0
      },
      "text/plain": [
       "VBox(children=(Image(value=b'', layout=\"Layout(display='none', height='auto', width='-webkit-fill-available')\"…"
      ]
     },
     "metadata": {},
     "output_type": "display_data"
    }
   ],
   "source": [
    "robot = world.robots[0]\n",
    "robot.watch(show_robot=False)"
   ]
  },
  {
   "cell_type": "code",
   "execution_count": 48,
   "metadata": {},
   "outputs": [
    {
     "name": "stdout",
     "output_type": "stream",
     "text": [
      "theta_max is 0.20943951023931953\n"
     ]
    }
   ],
   "source": [
    "import random\n",
    "import math\n",
    "# 12 degrees:\n",
    "theta_max = 12 * math.pi / 180\n",
    "print(\"theta_max is\", theta_max)\n",
    "\n",
    "def balance(robot):\n",
    "    robot.reward += 1\n",
    "    x, x_v, theta, theta_v = robot.get_observation()\n",
    "    ok = ((-2.4 < x < 2.4) and\n",
    "          (-theta_max < theta < theta_max) and\n",
    "          (robot.reward < 200))\n",
    "    if ok:\n",
    "        if theta > 0:\n",
    "            robot.move(1)\n",
    "        else:\n",
    "            robot.move(-1)\n",
    "    else:\n",
    "        return robot.reward # out of bounds"
   ]
  },
  {
   "cell_type": "code",
   "execution_count": 49,
   "metadata": {},
   "outputs": [
    {
     "data": {
      "application/vnd.jupyter.widget-view+json": {
       "model_id": "72010023f73941c5bc779eaf8eff4ea9",
       "version_major": 2,
       "version_minor": 0
      },
      "text/plain": [
       "0it [00:00, ?it/s]"
      ]
     },
     "metadata": {},
     "output_type": "display_data"
    },
    {
     "name": "stdout",
     "output_type": "stream",
     "text": [
      "Reward: 38\n"
     ]
    }
   ],
   "source": [
    "world.reset()\n",
    "reward = world.run([balance], real_time=True)\n",
    "print(\"Reward:\", reward)"
   ]
  },
  {
   "cell_type": "markdown",
   "metadata": {},
   "source": [
    "# Finding a Winning Policy"
   ]
  },
  {
   "cell_type": "code",
   "execution_count": 50,
   "metadata": {},
   "outputs": [],
   "source": [
    "from aitk.algorithms import GeneticAlgorithm\n",
    "from aitk.networks import SimpleNetwork"
   ]
  },
  {
   "cell_type": "code",
   "execution_count": 105,
   "metadata": {},
   "outputs": [],
   "source": [
    "class GA(GeneticAlgorithm):\n",
    "    def __init__(self, popSize, world):\n",
    "        self.network = SimpleNetwork(\n",
    "            4,\n",
    "            24,\n",
    "            24,\n",
    "            2,\n",
    "            activation=\"linear\"\n",
    "        )\n",
    "        self.world = world\n",
    "        length = len(self.network.get_weights(flat=True))\n",
    "        super().__init__(length, popSize)\n",
    "        \n",
    "    def balance(self, robot):\n",
    "        robot.reward += 1\n",
    "        x, x_v, theta, theta_v = robot.get_observation()\n",
    "        ok = ((-2.4 < x < 2.4) and\n",
    "              (-theta_max < theta < theta_max) and\n",
    "              (robot.reward < 200))\n",
    "        if ok:\n",
    "            outputs = self.network.propagate([x, x_v, theta, theta_v])\n",
    "            index = outputs.argmax()\n",
    "            action = 1 if index == 1 else -1\n",
    "            robot.move(action)\n",
    "        else:\n",
    "            return robot.reward # out of bounds\n",
    "\n",
    "    def fitness(self, chromosome, \n",
    "                real_time=False, \n",
    "                show_progress=False):\n",
    "        self.network.set_weights(chromosome)\n",
    "        self.world.reset()\n",
    "        reward = self.world.run([self.balance], real_time=real_time, \n",
    "                                show_progress=show_progress, quiet=True, \n",
    "                                interrupt=True)\n",
    "        return reward\n",
    "    \n",
    "    def make_random_gene(self):\n",
    "        return 1.0 - random.random() * 2.0\n",
    "    \n",
    "    def mutate_gene(self, gene):\n",
    "        return gene + 0.5 - random.random() * 1.0\n",
    "    \n",
    "    def is_done(self):\n",
    "        return self.bestEverScore == 200"
   ]
  },
  {
   "cell_type": "code",
   "execution_count": 106,
   "metadata": {},
   "outputs": [
    {
     "name": "stdout",
     "output_type": "stream",
     "text": [
      "Genetic algorithm\n",
      "  Chromosome length: 770\n",
      "  Population size: 50\n"
     ]
    }
   ],
   "source": [
    "ga = GA(50, world)"
   ]
  },
  {
   "cell_type": "code",
   "execution_count": 107,
   "metadata": {},
   "outputs": [
    {
     "data": {
      "text/html": [
       "<svg id='keras-network' xmlns='http://www.w3.org/2000/svg' xmlns:xlink='http://www.w3.org/1999/xlink' image-rendering=\"pixelated\" width=\"400px\" height=\"388px\" style=\"background-color: #B0C4DE\">\n",
       " <g >\n",
       "  <svg viewBox=\"0 0 350 340\" width=\"400px\" height=\"388px\">\n",
       "    <defs>\n",
       "        <marker id=\"arrow\" markerWidth=\"10\" markerHeight=\"10\" refX=\"9\" refY=\"3\" orient=\"auto\" markerUnits=\"strokeWidth\">\n",
       "          <path d=\"M0,0 L0,6 L9,3 z\" fill=\"black\" />\n",
       "        </marker>\n",
       "    </defs><rect x=\"74.0\" y=\"24\" width=\"202\" height=\"52\" style=\"fill:none;stroke:black;stroke-width:2\"/><image id=\"keras-network_output\" class=\"keras-network\" x=\"75.0\" y=\"25\" height=\"50\" width=\"200\" preserveAspectRatio=\"none\" image-rendering=\"optimizeSpeed\" xlink:href=\"data:image/gif;base64,R0lGODdhAgABAIEAAAAAAP///wAAAAAAACwAAAAAAgABAAAIBQABBAgIADs=\"><title>Layer: output 'Dense'\n",
       "Act function: linear\n",
       "Act output range: (-Infinity, +Infinity)\n",
       "Shape = (None, 2)</title></image><text x=\"280.0\" y=\"52.0\" font-family=\"monospace\" font-size=\"12\" text-anchor=\"start\" fill=\"blue\" alignment-baseline=\"central\" >output</text><path d=\"M 175.0 104 L 175.0 77 \" stroke=\"black\" stroke-width=\"2\" marker-end=\"url(#arrow)\" fill=\"none\" /><rect x=\"74.0\" y=\"104\" width=\"202\" height=\"52\" style=\"fill:none;stroke:black;stroke-width:2\"/><image id=\"keras-network_hidden_2\" class=\"keras-network\" x=\"75.0\" y=\"105\" height=\"50\" width=\"200\" preserveAspectRatio=\"none\" image-rendering=\"optimizeSpeed\" xlink:href=\"data:image/gif;base64,R0lGODdhGAABAIQAAAAAACUlJSwsLDExMUNDQ01NTVZWVl9fX2BgYGFhYWxsbHx8fICAgIKCgouLi5CQkJqamtra2ujo6PDw8P///wAAAAAAAAAAAAAAAAAAAAAAAAAAAAAAAAAAAAAAAAAAACwAAAAAGAABAAAIHgAfQFAQYQICAAMkJDgQoIAABgQaFHBAIcECAwICAgA7\"><title>Layer: hidden_2 'Dense'\n",
       "Act function: linear\n",
       "Act output range: (-Infinity, +Infinity)\n",
       "Shape = (None, 24)</title></image><text x=\"280.0\" y=\"132.0\" font-family=\"monospace\" font-size=\"12\" text-anchor=\"start\" fill=\"blue\" alignment-baseline=\"central\" >hidden_2</text><path d=\"M 175.0 184 L 175.0 157 \" stroke=\"black\" stroke-width=\"2\" marker-end=\"url(#arrow)\" fill=\"none\" /><rect x=\"74.0\" y=\"184\" width=\"202\" height=\"52\" style=\"fill:none;stroke:black;stroke-width:2\"/><image id=\"keras-network_hidden_1\" class=\"keras-network\" x=\"75.0\" y=\"185\" height=\"50\" width=\"200\" preserveAspectRatio=\"none\" image-rendering=\"optimizeSpeed\" xlink:href=\"data:image/gif;base64,R0lGODdhGAABAIQAAAAAADk5OUFBQUREREhISFpaWmFhYWlpaWpqanh4eIiIiI6OjpOTk5+fn6CgoKWlpaqqqsHBwdnZ2dvb29/f3////wAAAAAAAAAAAAAAAAAAAAAAAAAAAAAAAAAAAAAAACwAAAAAGAABAAAIHgAFAEAwIEIBAg4CSHgAgcKBCQUWMCjQwICCBBUCAgA7\"><title>Layer: hidden_1 'Dense'\n",
       "Act function: linear\n",
       "Act output range: (-Infinity, +Infinity)\n",
       "Shape = (None, 24)</title></image><text x=\"280.0\" y=\"212.0\" font-family=\"monospace\" font-size=\"12\" text-anchor=\"start\" fill=\"blue\" alignment-baseline=\"central\" >hidden_1</text><path d=\"M 175.0 264 L 175.0 237 \" stroke=\"black\" stroke-width=\"2\" marker-end=\"url(#arrow)\" fill=\"none\" /><rect x=\"74.0\" y=\"264\" width=\"202\" height=\"52\" style=\"fill:none;stroke:black;stroke-width:2\"/><image id=\"keras-network_input\" class=\"keras-network\" x=\"75.0\" y=\"265\" height=\"50\" width=\"200\" preserveAspectRatio=\"none\" image-rendering=\"optimizeSpeed\" xlink:href=\"data:image/gif;base64,R0lGODdhBAABAIEAAAAAAEpKSmNjY////ywAAAAABAABAAAIBwAFAAgwICAAOw==\"><title>Layer: input 'InputLayer'\n",
       "Shape = [(None, 4)]</title></image><text x=\"280.0\" y=\"292.0\" font-family=\"monospace\" font-size=\"12\" text-anchor=\"start\" fill=\"blue\" alignment-baseline=\"central\" >input</text><text x=\"175.0\" y=\"12.5\" font-family=\"monospace\" font-size=\"15\" text-anchor=\"middle\" fill=\"black\" alignment-baseline=\"central\" >Activations for SimpleNetwork</text></svg></g></svg>"
      ],
      "text/plain": [
       "<IPython.core.display.HTML object>"
      ]
     },
     "metadata": {},
     "output_type": "display_data"
    }
   ],
   "source": [
    "ga.network.display(robot.get_observation())"
   ]
  },
  {
   "cell_type": "code",
   "execution_count": 109,
   "metadata": {},
   "outputs": [
    {
     "name": "stdout",
     "output_type": "stream",
     "text": [
      "  Maximum number of generations: 10\n",
      "  Crossover rate: 0.7\n",
      "  Mutation rate: 0.001\n",
      "  Elite percentage 0.0\n",
      "  Elite count: 0\n",
      "Solution found\n"
     ]
    }
   ],
   "source": [
    "best = ga.evolve(10)"
   ]
  },
  {
   "cell_type": "code",
   "execution_count": 111,
   "metadata": {},
   "outputs": [
    {
     "data": {
      "text/plain": [
       "200"
      ]
     },
     "execution_count": 111,
     "metadata": {},
     "output_type": "execute_result"
    }
   ],
   "source": [
    "ga.fitness(best, real_time=True)"
   ]
  },
  {
   "cell_type": "code",
   "execution_count": null,
   "metadata": {},
   "outputs": [],
   "source": []
  }
 ],
 "metadata": {
  "kernelspec": {
   "display_name": "Python 3",
   "language": "python",
   "name": "python3"
  },
  "language_info": {
   "codemirror_mode": {
    "name": "ipython",
    "version": 3
   },
   "file_extension": ".py",
   "mimetype": "text/x-python",
   "name": "python",
   "nbconvert_exporter": "python",
   "pygments_lexer": "ipython3",
   "version": "3.8.5"
  },
  "widgets": {
   "application/vnd.jupyter.widget-state+json": {
    "state": {
     "0034275a6bed473bb72c200b8372704e": {
      "model_module": "@jupyter-widgets/controls",
      "model_module_version": "1.5.0",
      "model_name": "DescriptionStyleModel",
      "state": {
       "description_width": ""
      }
     },
     "006f599fae1340fbaed2bb0d311eb0a0": {
      "model_module": "@jupyter-widgets/controls",
      "model_module_version": "1.5.0",
      "model_name": "HTMLModel",
      "state": {
       "layout": "IPY_MODEL_4bc2af51dd714543b446c9d9dd593230",
       "style": "IPY_MODEL_d5f88740fe814ee3b4257282ccfe6080",
       "value": " 35/? [00:00&lt;00:00, 39.28it/s]"
      }
     },
     "00f89c116030456fa7edc7808d1f546a": {
      "model_module": "@jupyter-widgets/base",
      "model_module_version": "1.2.0",
      "model_name": "LayoutModel",
      "state": {}
     },
     "0159655d2a2f4b29b1b34f0909d742e6": {
      "model_module": "@jupyter-widgets/controls",
      "model_module_version": "1.5.0",
      "model_name": "HTMLModel",
      "state": {
       "layout": "IPY_MODEL_5688141963c8453aba25ea97b970e406",
       "style": "IPY_MODEL_a56f3229b6124389bcfce9eb2c7d07f4"
      }
     },
     "017fa0e5ddd746d28ca82caf3d6fedf9": {
      "model_module": "@jupyter-widgets/base",
      "model_module_version": "1.2.0",
      "model_name": "LayoutModel",
      "state": {
       "width": "20px"
      }
     },
     "018ebde0f4a040559cfe2a119080fe38": {
      "model_module": "@jupyter-widgets/controls",
      "model_module_version": "1.5.0",
      "model_name": "HBoxModel",
      "state": {
       "children": [
        "IPY_MODEL_5c60d1c978f54d46a326e2163daf41f7",
        "IPY_MODEL_bef32e25b7074225a3aff4773bacf01e",
        "IPY_MODEL_c10ae912e04d4777ba6b498dab85433a"
       ],
       "layout": "IPY_MODEL_4c8b1a27cc9f4579b69b64a24aee4a0b"
      }
     },
     "01b0db71c0204f759821fc2adeebcc71": {
      "model_module": "@jupyter-widgets/controls",
      "model_module_version": "1.5.0",
      "model_name": "FloatProgressModel",
      "state": {
       "bar_style": "danger",
       "layout": "IPY_MODEL_8424c3ab32764a5b8ae0d476aefe7b5c",
       "max": 1,
       "style": "IPY_MODEL_534c4dddc3994c37bec1fa2c2c6fc4f9",
       "value": 1
      }
     },
     "029729f2d18f4c00a66d25760d2b4f9c": {
      "model_module": "@jupyter-widgets/controls",
      "model_module_version": "1.5.0",
      "model_name": "DescriptionStyleModel",
      "state": {
       "description_width": ""
      }
     },
     "02fbe6f684fe485a8f42efabbb0c4769": {
      "model_module": "@jupyter-widgets/base",
      "model_module_version": "1.2.0",
      "model_name": "LayoutModel",
      "state": {}
     },
     "0344903c594240fbb7cd5e0f059fb1a8": {
      "model_module": "@jupyter-widgets/controls",
      "model_module_version": "1.5.0",
      "model_name": "DescriptionStyleModel",
      "state": {
       "description_width": ""
      }
     },
     "0412bbde0c7844d982409979b6f28d7f": {
      "model_module": "@jupyter-widgets/controls",
      "model_module_version": "1.5.0",
      "model_name": "HTMLModel",
      "state": {
       "layout": "IPY_MODEL_f5850573553f46e19db07661c05f3cae",
       "style": "IPY_MODEL_a6aef430feb74a45a7cb5559886e1dba"
      }
     },
     "0433c82cd8a94e928ee32f5039b6ac4e": {
      "model_module": "@jupyter-widgets/controls",
      "model_module_version": "1.5.0",
      "model_name": "HBoxModel",
      "state": {
       "children": [
        "IPY_MODEL_25cb581299dc417dbe02a7ef017550ff",
        "IPY_MODEL_4186fa682a664e22b4af8d24cc74451d",
        "IPY_MODEL_41ec52760a0344d6bdecb1fc0b6d6af0"
       ],
       "layout": "IPY_MODEL_9da7a4f6c24245c9b1e2f4e373e540a2"
      }
     },
     "045c88dc5ce044088f0ea68b513241d3": {
      "model_module": "@jupyter-widgets/controls",
      "model_module_version": "1.5.0",
      "model_name": "DescriptionStyleModel",
      "state": {
       "description_width": ""
      }
     },
     "046efab1e4d04c109fdb4373ead5cbde": {
      "model_module": "@jupyter-widgets/controls",
      "model_module_version": "1.5.0",
      "model_name": "HTMLModel",
      "state": {
       "layout": "IPY_MODEL_7e378c3e09744cf092791690c948a67c",
       "style": "IPY_MODEL_f8af9a25294249cc9e4f23e04df6332b"
      }
     },
     "04bb4e8047c44760a5797f035af0e2e3": {
      "model_module": "@jupyter-widgets/controls",
      "model_module_version": "1.5.0",
      "model_name": "DescriptionStyleModel",
      "state": {
       "description_width": ""
      }
     },
     "0514196236294bb48547095c788913c8": {
      "model_module": "@jupyter-widgets/controls",
      "model_module_version": "1.5.0",
      "model_name": "HTMLModel",
      "state": {
       "layout": "IPY_MODEL_7debe8572ca54c68bb4d63b336cc8ff9",
       "style": "IPY_MODEL_c857865768a04272b4f2cf2d503da178"
      }
     },
     "05ed8b07793f4e6bbca276ac2b99210f": {
      "model_module": "@jupyter-widgets/controls",
      "model_module_version": "1.5.0",
      "model_name": "DescriptionStyleModel",
      "state": {
       "description_width": ""
      }
     },
     "05f0e0b44ae949bd9d14d8b6184446fd": {
      "model_module": "@jupyter-widgets/base",
      "model_module_version": "1.2.0",
      "model_name": "LayoutModel",
      "state": {}
     },
     "067f1d762b874600a3a734fc77a15c58": {
      "model_module": "@jupyter-widgets/controls",
      "model_module_version": "1.5.0",
      "model_name": "FloatProgressModel",
      "state": {
       "bar_style": "danger",
       "layout": "IPY_MODEL_1e18b54598584fccb4ddd9cf521431a2",
       "max": 1,
       "style": "IPY_MODEL_b00adce4b4c14092afe66c923ebaa0bd",
       "value": 1
      }
     },
     "06adff0638cc402fa58cbaa535ba886d": {
      "model_module": "@jupyter-widgets/controls",
      "model_module_version": "1.5.0",
      "model_name": "HTMLModel",
      "state": {
       "layout": "IPY_MODEL_8bac0e1bed1a409081a9afce0c18d9ee",
       "style": "IPY_MODEL_fc872ad2b59444229675160975465df4"
      }
     },
     "06b421009d164a7ea98b4269cb5c4b7a": {
      "model_module": "@jupyter-widgets/base",
      "model_module_version": "1.2.0",
      "model_name": "LayoutModel",
      "state": {
       "border": "10px solid rgb(0 177 255)",
       "margin": "auto"
      }
     },
     "073553271c79484ab7bae09274d081ed": {
      "model_module": "@jupyter-widgets/controls",
      "model_module_version": "1.5.0",
      "model_name": "HTMLModel",
      "state": {
       "layout": "IPY_MODEL_a67dcd0e4dd34a61bc8039142efc09dc",
       "style": "IPY_MODEL_4f71661f34934f3d8a922710210bf39d",
       "value": " 35/? [00:00&lt;00:00, 36.37it/s]"
      }
     },
     "07fb8a2b7fc146d3afe1fd44f2cf795a": {
      "model_module": "@jupyter-widgets/base",
      "model_module_version": "1.2.0",
      "model_name": "LayoutModel",
      "state": {}
     },
     "081de3eda4124be8bfa0487872d1016a": {
      "buffers": [
       {
        "data": "/9j/4AAQSkZJRgABAQAAAQABAAD/2wBDAAgGBgcGBQgHBwcJCQgKDBQNDAsLDBkSEw8UHRofHh0aHBwgJC4nICIsIxwcKDcpLDAxNDQ0Hyc5PTgyPC4zNDL/2wBDAQkJCQwLDBgNDRgyIRwhMjIyMjIyMjIyMjIyMjIyMjIyMjIyMjIyMjIyMjIyMjIyMjIyMjIyMjIyMjIyMjIyMjL/wAARCAMYBdwDASIAAhEBAxEB/8QAHwAAAQUBAQEBAQEAAAAAAAAAAAECAwQFBgcICQoL/8QAtRAAAgEDAwIEAwUFBAQAAAF9AQIDAAQRBRIhMUEGE1FhByJxFDKBkaEII0KxwRVS0fAkM2JyggkKFhcYGRolJicoKSo0NTY3ODk6Q0RFRkdISUpTVFVWV1hZWmNkZWZnaGlqc3R1dnd4eXqDhIWGh4iJipKTlJWWl5iZmqKjpKWmp6ipqrKztLW2t7i5usLDxMXGx8jJytLT1NXW19jZ2uHi4+Tl5ufo6erx8vP09fb3+Pn6/8QAHwEAAwEBAQEBAQEBAQAAAAAAAAECAwQFBgcICQoL/8QAtREAAgECBAQDBAcFBAQAAQJ3AAECAxEEBSExBhJBUQdhcRMiMoEIFEKRobHBCSMzUvAVYnLRChYkNOEl8RcYGRomJygpKjU2Nzg5OkNERUZHSElKU1RVVldYWVpjZGVmZ2hpanN0dXZ3eHl6goOEhYaHiImKkpOUlZaXmJmaoqOkpaanqKmqsrO0tba3uLm6wsPExcbHyMnK0tPU1dbX2Nna4uPk5ebn6Onq8vP09fb3+Pn6/9oADAMBAAIRAxEAPwD3+iiigAooooAKKKKACiiigAooooAKKKKACiiigAooooAKKKKACiiigAooooAKKKKACiiigAooooAKKKKACiiigAooooAKKKKACiiigAooooAKKKKACiiigAooooAKKKKACiiigAooooAKKKKACiiigAooooAKKKKACiiigAooooAKKKKACiiigAooooAKKKKACiiigAooooAKKKKACiiigAooooAKKKKACiiigAooooAKKKKACiiigAooooAKKKKACiiigAooooAKKKKACiiigAooooAKKKKACiiigAooooAKKKKACiiigAooooAKKKKACiiigAooooAKKKKACiiigAooooAKKKKACiiigAooooAKKKKACiiigAooooAKKKKACiiigAooooAKKKKACiiigAooooAKKKKACiiigAooooAKKKKACiiigAooooAKKKKACiiigAooooAKKKKACiiigAooooAKKKKACiiigAooooAKKKKACiiigAooooAKKKKACiiigAooooAKKKKACiiigAooooAKKKKACiiigAooooAKKKKACiiigAooooAKKKKACiiigAooooAKKKKACiiigAooooAKKKKACiiigAooooAKKKKACiiigAooooAKKKKACiiigAooooAKKKKACiiigAooooAKKKKACiiigAooooAKKKKACiiigAooooAKKKKACiiigAooooAKKKKACiiigAooooAKKKKACiiigAooooAKKKKACiiigAooooAKKKKACiiigAooooAKKKKACiiigAooooAKKKKACiiigAooooAKKKKACiiigAooooAKKKKACiiigAooooAKKKKACiiigAooooAKKKKACiiigAooooAKKKKACiiigAooooAKKKKACiiigAooooAKKKKACiiigAooooAKKKKACiiigAooooAKKKKACiiigAooooAKKKKACiiigAooooAKKKKACiiigAooooAKKKKACiiigAooooAKKKKACiiigAooooAKKKKACiiigAooooAKKKKACiiigAooooAKKKKACiiigAooooAKKKKACiiigAooooAKKKKACiiigAooooAKKKKACiiigAooooAKKKKACiiigAooooAKKKKACiiigAooooAKKKKACiiigAooooAKKKKACiiigAooooAKKKKACiiigAooooAKKKKACiiigAooooAKKKKACiiigAooooAKKKKACiiigAooooAKKKKACiiigAooooAKKKKACiiigAooooAKKKKACiiigAooooAKKKKACiiigAooooAKKKKACiiigAooooAKKKKACiiigAooooAKKKKACiiigAooooAKKKKACiiigAooooAKKKKACiiigAooooAKKKKACiiigAooooAKKKKACiiigAooooAKKKKACiiigAooooAKKKKACiiigAooooAKKKKACiiigAooooAKKKKACiiigAooooAKKKKACiiigAooooAKKKKACiiigAooooAKKKKACiiigAooooAKKKKACiiigAooooAKKKKACiiigAooooAKKKKACiiigAooooAKKKKACiiigAooooAKKKKACiiigAooooAKKKKACiiigAooooAKKKKACiiigAooooAKKKKACiiigAooooAKKKKACiiigAooooAKKKKACiiigAooooAKKKKACiiigAooooAKKKKACiiigAooooAKKKKACiiigAooooAKKKKACiiigAooooAKKKKACiiigAooooAKKKKACiiigAooooAKKKKACiiigAooooAKKKKACiiigAooooAKKKKACiiigAooooAKKKKACiiigAooooAKKKKACiiigAooooAKKKKACiiigAooooAKKKKACiiigAooooAKKKKACiiigAooooAKKKKACiiigAooooAKKKKACiiigAooooAKKKKACiiigAooooAKKKKACiiigAooooAKKKKACiiigAooooAKKKKACiiigAooooAKKKKACiiigAooooAKKKKACiiigAooooAKKKKACiiigAooooAKKKKACiiigAooooAKKKKACiiigAooooAKKKKACiiigAooooAKKKKACiiigAooooAKKKKACiiigAooooAKKKKACiiigAooooAKKKKACiiigAooooAKKKKACiiigAooooAKKKKACiiigAooooAKKKKACiiigAooooAKKKKACiiigAooooAKKKKACiiigAoornNf1+70q/SCCOFlaIOS6knOSOxHpWVevCjDnnsXCDm7I6OiuH/4TLUf+eNr/wB8t/8AFV1Wj3smoaVDdSqiu+7IQYHDEf0rGhjaVeXLC9/QqdGcFeReooorrMgooooAKKKKACiiigAooooAKKKKACiiigAooooAKKKKACiiigAooooAKKKKACiiigAooooAKKKKACiiigAooooAKKKKACiiigAooooAKKKKACiiigAooooAKKKKACiiigAooooAKKKKACiiigAooooAKKKKACiiigAooooAKKKKACiiigAooooAKKKKACiiigAooooAKKKKACiiigAooooAKKKKACiiigAooooAKKKKACiiigAooooAKKKKACiiigAooooAKKKKACiiigAooooAKKKKACiiigAooooAKKKKACiiigAooooAKKKKACiiigAooooAKKKKACiiigAooooAKKKKACiiigAooooAKKKKACiiigAooooAKKKKACiiigAooooAKKKKACiiigAooooAKKKKACiiigAooooAKKKKACiiigAooooAKKKKACiiigAooooAKKKKACiiigAooooAKKKKACiiigAooooAK4fxl/yGIv8Ar3H/AKE1dxXD+Mv+QxF/17j/ANCavNzX/dn6o6ML/EOdr0Twz/yL1r/wP/0M153Xonhn/kXrX/gf/oZrzso/jv0/VHTi/gXqa1FFFfRnnBRRRQAUUUUAFFFFABRRRQAUUUUAFFFFABRRRQAUUUUAFFFFABRRRQAUUUUAFFFFABRRRQAUUUUAFFFFABRRRQAUUUUAFFFFABRRRQAUUUUAFFFFABRRRQAUUUUAFFFFABRRRQAUUUUAFFFFABRRRQAUUUUAFFFFABRRRQAUUUUAFFFFABRRRQAUUUUAFFFFABRRRQAUUUUAFFFFABRRRQAUUUUAFFFFABRRRQAUUUUAFFFFABRRRQAUUUUAFFFFABRRRQAUUUUAFFFFABRRRQAUUUUAFFFFABRRRQAUUUUAFFFFABRRRQAUUUUAFFFFABRRRQAUUUUAFFFFABRRRQAUUUUAFFFFABRRRQAUUUUAFFFFABRRRQAUUUUAFFFFABRRRQAUUUUAFFFFABRRRQAUUUUAFFFFABRRRQAUUUUAFFFFABRRRQAUUUUAFFFFABRRRQAUUUUAFFFFABRRRQAUUUUAFFFFABRRRQAVw/jL/kMRf9e4/wDQmruK8+8UyvJr8ysciNVVRjoNoP8AMmvMzZ2w9u7R04VfvDGr0Twz/wAi9a/8D/8AQzXndem6Qipo1kFUKPIQ4AxyQCT+dcOTxvVk/L9TfFv3Ei7RRRX0J54UUUUAFFFFABRRRQAUUUUAFFFFABRRRQAUUUUAFFFFABRRRQAUUUUAFFFFABRRRQAUUUUAFFFFABRRRQAUUUUAFFFFABRRRQAUUUUAFFFFABRRRQAUUUUAFFFFABRRRQAUUUUAFFFFABRRRQAUUUUAFFFFABRRRQAUUUUAFFFFABRRRQAUUUUAFFFFABRRRQAUUUUAFFFFABRRRQAUUUUAFFFFABRRRQAUUUUAFFFFABRRRQAUUUUAFFFFABRRRQAUUUUAFFFFABRRRQAUUUUAFFFFABRRRQAUUUUAFFFFABRRRQAUUUUAFFFFABRRRQAUUUUAFFFFABRRRQAUUUUAFFFFABRRRQAUUUUAFFFFABRRRQAUUUUAFFFFABRRRQAUUUUAFFFFABRRRQAUUUUAFFFFABRRRQAUUUUAFFFFABRRRQAUUUUAFFFFABRRRQAUUUUAFFFFABRRRQAUUUUAFFFFABRRRQAUUUUAFeeeJv8AkYbr/gH/AKAK9DrzzxN/yMN1/wAA/wDQBXlZv/AXr+jOrCfG/QyK9P0r/kD2X/XvH/6CK8wr0/Sv+QPZf9e8f/oIrkyb+JP0X5muM+FFuiiivoDgCiiigAooooAKKKKACiiigAooooAKKKKACiiigAooooAKKKKACiiigAooooAKKKKACiiigAooooAKKKKACiiigAooooAKKKKACiiigAooooAKKKKACiiigAooooAKKKKACiiigAooooAKKKKACiiigAooooAKKKKACiiigAooooAKKKKACiiigAooooAKKKKACiiigAooooAKKKKACiiigAooooAKKKKACiiigAooooAKKKKACiiigAooooAKKKKACiiigAooooAKKKKACiiigAooooAKKKKACiiigAooooAKKKKACiiigAooooAKKKKACiiigAooooAKKKKACiiigAooooAKKKKACiiigAooooAKKKKACiiigAooooAKKKKACiiigAooooAKKKKACiiigAooooAKKKKACiiigAooooAKKKKACiiigAooooAKKKKACiiigAooooAKKKKACiiigAooooAKKKKACiiigArzzxN/yMN1/wAA/wDQBXodeeeJv+Rhuv8AgH/oArys3/gL1/RnVhPjfoZFen6V/wAgey/694//AEEV5hXp+lf8gey/694//QRXJk38SfovzNcZ8KLdFFFfQHAFFFFABRRRQAUUUUAFFFFABRRRQAUUUUAFFFFABRRRQAUUUUAFFFFABRRRQAUUUUAFFFFABRRRQAUUUUAFFFFABRRRQAUUUUAFFFFABRRRQAUUUUAFFFFABRRRQAUUUUAFFFFABRRRQAUUUUAFFFFABRRRQAUUUUAFFFFABRRRQAUUUUAFFFFABRRRQAUUUUAFFFFABRRRQAUUUUAFFFFABRRRQAUUUUAFFFFABRRRQAUUUUAFFFFABRRRQAUUUUAFFFFABRRRQAUUUUAFFFFABRRRQAUUUUAFFFFABRRRQAUUUUAFFFFABRRRQAUUUUAFFFFABRRRQAUUUUAFFFFABRRRQAUUUUAFFFFABRRRQAUUUUAFFFFABRRRQAUUUUAFFFFABRRRQAUUUUAFFFFABRRRQAUUUUAFFFFABRRRQAUUUUAFFFFABRRRQAUUUUAFFFFABRRRQAUUUUAFFFFABRRRQAUUUUAFFFFABXnnib/kYbr/AIB/6AK9DrzzxN/yMN1/wD/0AV5Wb/wF6/ozqwnxv0MivT9K/wCQPZf9e8f/AKCK8wr0/Sv+QPZf9e8f/oIrkyb+JP0X5muM+FFuiiivoDgCiiigAooooAKKKKACiiigAooooAKKKKACiiigAooooAKKKKACiiigAooooAKKKKACiiigAooooAKKKKACiiigAooooAKKKKACiiigAooooAKKKKACiiigAooooAKKKKACiiigAooooAKKKKACiiigAooooAKKKKACiiigAooooAKKKKACiiigAooooAKKKKACiiigAooooAKKKKACiiigAooooAKKKKACiiigAooooAKKKKACiiigAooooAKKKKACiiigAooooAKKKKACiiigAooooAKKKKACiiigAooooAKKKKACiiigAooooAKKKKACiiigAooooAKKKKACiiigAooooAKKKKACiiigAooooAKKKKACiiigAooooAKKKKACiiigAooooAKKKKACiiigAooooAKKKKACiiigAooooAKKKKACiiigAooooAKKKKACiiigAooooAKKKKACiiigAooooAKKKKACiiigArznxFKk2v3bRnIDBc47hQD+oNejV5hqv/IYvf8Ar4k/9CNeRnD/AHUV5/odeDXvNlSvU7KFrawt4HILRxKhI6ZAAryyvWqxyZK836fqXjHokFFFFe6cIUUUUAFFFFABRRRQAUUUUAFFFFABRRRQAUUUUAFFFFABRRRQAUUUUAFFFFABRRRQAUUUUAFFFFABRRRQAUUUUAFFFFABRRRQAUUUUAFFFFABRRRQAUUUUAFFFFABRRRQAUUUUAFFFFABRRRQAUUUUAFFFFABRRRQAUUUUAFFFFABRRRQAUUUUAFFFFABRRRQAUUUUAFFFFABRRRQAUUUUAFFFFABRRRQAUUUUAFFFFABRRRQAUUUUAFFFFABRRRQAUUUUAFFFFABRRRQAUUUUAFFFFABRRRQAUUUUAFFFFABRRRQAUUUUAFFFFABRRRQAUUUUAFFFFABRRRQAUUUUAFFFFABRRRQAUUUUAFFFFABRRRQAUUUUAFFFFABRRRQAUUUUAFFFFABRRRQAUUUUAFFFFABRRRQAUUUUAFFFFABRRRQAUUUUAFFFFABRRRQAUUUUAFFFFABRRRQAUUUUAFFFFABRRRQAUUUUAFeYar/AMhi9/6+JP8A0I16fXmGq/8AIYvf+viT/wBCNeNnP8OHq/yOzB/EypXrVeS161UZN9v5fqPGfZCiiivcOIKKKKACiiigAooooAKKKKACiiigAooooAKKKKACiiigAooooAKKKKACiiigAooooAKKKKACiiigAooooAKKKKACiiigAooooAKKKKACiiigAooooAKKKKACiiigAooooAKKKKACiiigAooooAKKKKACiiigAooooAKKKKACiiigAooooAKKKKACiiigAooooAKKKKACiiigAooooAKKKKACiiigAooooAKKKKACiiigAooooAKKKKACiiigAooooAKKKKACiiigAooooAKKKKACiiigAooooAKKKKACiiigAooooAKKKKACiiigAooooAKKKKACiiigAooooAKKKKACiiigAooooAKKKKACiiigAooooAKKKKACiiigAooooAKKKKACiiigAooooAKKKKACiiigAooooAKKKKACiiigAooooAKKKKACiiigAooooAKKKKACiiigAooooAKKKKACiiigAooooAKKKKACvMNV/wCQxe/9fEn/AKEa9PrzDVf+Qxe/9fEn/oRrxs5/hw9X+R2YP4mVK9aryWvWqjJvt/L9R4z7IUUUV7hxBRRRQAUUUUAFFFFABRRRQAUUUUAFFFFABRRRQAUUUUAFFFFABRRRQAUUUUAFFFFABRRRQAUUUUAFFFFABRRRQAUUUUAFFFFABRRRQAUUUUAFFFFABRRRQAUUUUAFFFFABRRRQAUUUUAFFFFABRRRQAUUUUAFFFFABRRRQAUUUUAFFFFABRRRQAUUUUAFFFFABRRRQAUUUUAFFFFABRRRQAUUUUAFFFFABRRRQAUUUUAFFFFABRRRQAUUUUAFFFFABRRRQAUUUUAFFFFABRRRQAUUUUAFFFFABRRRQAUUUUAFFFFABRRRQAUUUUAFFFFABRRRQAUUUUAFFFFABRRRQAUUUUAFFFFABRRRQAUUUUAFFFFABRRRQAUUUUAFFFFABRRRQAUUUUAFFFFABRRRQAUUUUAFFFFABRRRQAUUUUAFFFFABRRRQAUUUUAFFFFABRRRQAUUUUAFFFFABRRRQAUUUUAFFFFABRRRQAV5hqv/ACGL3/r4k/8AQjXp9eYar/yGL3/r4k/9CNeNnP8ADh6v8jswfxMqV61XktetVGTfb+X6jxn2Qooor3DiCiiigAooooAKKKKACiiigAooooAKKKKACiiigAooooAKKKKACiiigAooooAKKKKACiiigAooooAKKKKACiiigAooooAKKKKACiiigAooooAKKKKACiiigAooooAKKKKACiiigAooooAKKKKACiiigAooooAKKKKACiiigAooooAKKKKACiiigAooooAKKKKACiiigAooooAKKKKACiiigAooooAKKKKACiiigAooooAKKKKACiiigAooooAKKKKACiiigAooooAKKKKACiiigAooooAKKKKACiiigAooooAKKKKACiiigAooooAKKKKACiiigAooooAKKKKACiiigAooooAKKKKACiiigAooooAKKKKACiiigAooooAKKKKACiiigAooooAKKKKACiiigAooooAKKKKACiiigAooooAKKKKACiiigAooooAKKKKACiiigAooooAKKKKACiiigAooooAKKKKACiiigAryiWV55nlkO53YsxxjJPJr1evJa8POX8C9f0O3B9S1pqLJqtmjqGVp0BUjII3DivUK8w0r/kMWX/XxH/6EK9Pq8m+CfqvyFjPiQUUUV7JxhRRRQAUUUUAFFFFABRRRQAUUUUAFFFFABRRRQAUUUUAFFFFABRRRQAUUUUAFFFFABRRRQAUUUUAFFFFABRRRQAUUUUAFFFFABRRRQAUUUUAFFFFABRRRQAUUUUAFFFFABRRRQAUUUUAFFFFABRRRQAUUUUAFFFFABRRRQAUUUUAFFFFABRRRQAUUUUAFFFFABRRRQAUUUUAFFFFABRRRQAUUUUAFFFFABRRRQAUUUUAFFFFABRRRQAUUUUAFFFFABRRRQAUUUUAFFFFABRRRQAUUUUAFFFFABRRRQAUUUUAFFFFABRRRQAUUUUAFFFFABRRRQAUUUUAFFFFABRRRQAUUUUAFFFFABRRRQAUUUUAFFFFABRRRQAUUUUAFFFFABRRRQAUUUUAFFFFABRRRQAUUUUAFFFFABRRRQAUUUUAFFFFABRRRQAUUUUAFFFFABRRRQAUUUUAFFFFABRRRQAUUUUAFFFFABRRRQAV5LXrVeS14ec/Y+f6Hbg/tFvSv+QxZf9fEf/oQr0+vMNK/5DFl/wBfEf8A6EK9Pq8m/hz9V+QsZ8SCiiivZOMKKKKACiiigAooooAKKKKACiiigAooooAKKKKACiiigAooooAKKKKACiiigAooooAKKKKACiiigAooooAKKKKACiiigAooooAKKKKACiiigAooooAKKKKACiiigAooooAKKKKACiiigAooooAKKKKACiiigAooooAKKKKACiiigAooooAKKKKACiiigAooooAKKKKACiiigAooooAKKKKACiiigAooooAKKKKACiiigAooooAKKKKACiiigAooooAKKKKACiiigAooooAKKKKACiiigAooooAKKKKACiiigAooooAKKKKACiiigAooooAKKKKACiiigAooooAKKKKACiiigAooooAKKKKACiiigAooooAKKKKACiiigAooooAKKKKACiiigAooooAKKKKACiiigAooooAKKKKACiiigAooooAKKKKACiiigAooooAKKKKACiiigAooooAKKKKACiiigAooooAKKKKACvJa9aryWvDzn7Hz/Q7cH9ot6V/yGLL/AK+I/wD0IV6fXmGlf8hiy/6+I/8A0IV6fV5N/Dn6r8hYz4kFFFFeycYUUUUAFFFFABRRRQAUUUUAFFFFABRRRQAUUUUAFFFFABRRRQAUUUUAFFFFABRRRQAUUUUAFFFFABRRRQAUUUUAFFFFABRRRQAUUUUAFFFFABRRRQAUUUUAFFFFABRRRQAUUUUAFFFFABRRRQAUUUUAFFFFABRRRQAUUUUAFFFFABRRRQAUUUUAFFFFABRRRQAUUUUAFFFFABRRRQAUUUUAFFFFABRRRQAUUUUAFFFFABRRRQAUUUUAFFFFABRRRQAUUUUAFFFFABRRRQAUUUUAFFFFABRRRQAUUUUAFFFFABRRRQAUUUUAFFFFABRRRQAUUUUAFFFFABRRRQAUUUUAFFFFABRRRQAUUUUAFFFFABRRRQAUUUUAFFFFABRRRQAUUUUAFFFFABRRRQAUUUUAFFFFABRRRQAUUUUAFFFFABRRRQAUUUUAFFFFABRRRQAUUUUAFFFFABRRRQAUUUUAFFFFABRRRQAUUUUAFeS16vLKkELyyHaiKWY4zgDk15RXh5y/gXr+h3YPqW9K/wCQxZf9fEf/AKEK9PrzTRIWn1uzRSARKH59F+Y/oK9LrTJk/Zyfn+hGM+JBRRRXsHIFFFFABRRRQAUUUUAFFFFABRRRQAUUUUAFFFFABRRRQAUUUUAFFFFABRRRQAUUUUAFFFFABRRRQAUUUUAFFFFABRRRQAUUUUAFFFFABRRRQAUUUUAFFFFABRRRQAUUUUAFFFFABRRRQAUUUUAFFFFABRRRQAUUUUAFFFFABRRRQAUUUUAFFFFABRRRQAUUUUAFFFFABRRRQAUUUUAFFFFABRRRQAUUUUAFFFFABRRRQAUUUUAFFFFABRRRQAUUUUAFFFFABRRRQAUUUUAFFFFABRRRQAUUUUAFFFFABRRRQAUUUUAFFFFABRRRQAUUUUAFFFFABRRRQAUUUUAFFFFABRRRQAUUUUAFFFFABRRRQAUUUUAFFFFABRRRQAUUUUAFFFFABRRRQAUUUUAFFFFABRRRQAUUUUAFFFFABRRRQAUUUUAFFFFABRRRQAUUUUAFFFFABRRRQAUUUUAFFFFABRRRQAUUUUAFFFFAFTVf+QPe/wDXvJ/6Ca8wr0/Vf+QPe/8AXvJ/6Ca8wr5/Of4kPR/md+D+Fmv4Z/5GG1/4H/6Aa9Drzzwz/wAjDa/8D/8AQDXoddeUfwH6/ojLF/GvQKKKK9U5QooooAKKKKACiiigAooooAKKKKACiiigAooooAKKKKACiiigAooooAKKKKACiiigAooooAKKKKACiiigAooooAKKKKACiiigAooooAKKKKACiiigAooooAKKKKACiiigAooooAKKKKACiiigAooooAKKKKACiiigAooooAKKKKACiiigAooooAKKKKACiiigAooooAKKKKACiiigAooooAKKKKACiiigAooooAKKKKACiiigAooooAKKKKACiiigAooooAKKKKACiiigAooooAKKKKACiiigAooooAKKKKACiiigAooooAKKKKACiiigAooooAKKKKACiiigAooooAKKKKACiiigAooooAKKKKACiiigAooooAKKKKACiiigAooooAKKKKACiiigAooooAKKKKACiiigAooooAKKKKACiiigAooooAKKKKACiiigAooooAKKKKACiiigAooooAKKKKACiiigAooooAqar/yB73/r3k/9BNeYV6fqv/IHvf8Ar3k/9BNeYV8/nP8AEh6P8zvwfws1/DP/ACMNr/wP/wBANeh1554Z/wCRhtf+B/8AoBr0OuvKP4D9f0Rli/jXoFFFFeqcoUUUUAFFFFABRRRQAUUUUAFFFFABRRRQAUUUUAFFFFABRRRQAUUUUAFFFFABRRRQAUUUUAFFFFABRRRQAUUUUAFFFFABRRRQAUUUUAFFFFABRRRQAUUUUAFFFFABRRRQAUUUUAFFFFABRRRQAUUUUAFFFFABRRRQAUUUUAFFFFABRRRQAUUUUAFFFFABRRRQAUUUUAFFFFABRRRQAUUUUAFFFFABRRRQAUUUUAFFFFABRRRQAUUUUAFFFFABRRRQAUUUUAFFFFABRRRQAUUUUAFFFFABRRRQAUUUUAFFFFABRRRQAUUUUAFFFFABRRRQAUUUUAFFFFABRRRQAUUUUAFFFFABRRRQAUUUUAFFFFABRRRQAUUUUAFFFFABRRRQAUUUUAFFFFABRRRQAUUUUAFFFFABRRRQAUUUUAFFFFABRRRQAUUUUAFFFFABRRRQAUUUUAFFFFABRRRQAUUUUAFFFFABRRRQAUUUUAVNV/5A97/17yf+gmvMK9P1X/kD3v8A17yf+gmvMK+fzn+JD0f5nfg/hZr+Gf8AkYbX/gf/AKAa9Drzzwz/AMjDa/8AA/8A0A16HXXlH8B+v6Iyxfxr0CiiivVOUKKKKACiiigAooooAKKKKACiiigAooooAKKKKACiiigAooooAKKKKACiiigAooooAKKKKACiiigAooooAKKKKACiiigAooooAKKKKACiiigAooooAKKKKACiiigAooooAKKKKACiiigAooooAKKKKACiiigAooooAKKKKACiiigAooooAKKKKACiiigAooooAKKKKACiiigAooooAKKKKACiiigAooooAKKKKACiiigAooooAKKKKACiiigAooooAKKKKACiiigAooooAKKKKACiiigAooooAKKKKACiiigAooooAKKKKACiiigAooooAKKKKACiiigAooooAKKKKACiiigAooooAKKKKACiiigAooooAKKKKACiiigAooooAKKKKACiiigAooooAKKKKACiiigAooooAKKKKACiiigAooooAKKKKACiiigAooooAKKKKACiiigAooooAKK+cPjL448T+H/iFPZaTrV3aWv2eJ/Kjb5QSOSM/SvP/wDhanjn/oZr7/vof4UAfZ9FfGH/AAtTxz/0M19/30P8KP8Ahanjn/oZr7/vof4UAfZ9FfGH/C1PHP8A0M19/wB9D/Cj/hanjn/oZr7/AL6H+FAH2fRXxh/wtTxz/wBDNff99D/Cj/hanjn/AKGa+/76H+FAH2Jqv/IHvf8Ar3k/9BNeYV5R4M+IPi3WfFllp+oa9eXFpMJBJEz4DARscHHuBXq9fPZw/wB7FeX6noYNe62a/hn/AJGG1/4H/wCgGvQ6+ePiHrup+HtCtr3SbyS0uTdrH5seM7Sj5HP0Feb/APC1PHP/AEM19/30P8K7spjbD37t/oYYt/vD7Por4w/4Wp45/wChmvv++h/hR/wtTxz/ANDNff8AfQ/wr0zmPs+ivjD/AIWp45/6Ga+/76H+FH/C1PHP/QzX3/fQ/wAKAPs+ivjD/hanjn/oZr7/AL6H+FH/AAtTxz/0M19/30P8KAPs+ivjD/hanjn/AKGa+/76H+FfYOiyPLoWnySOzu9tGzMxySSoySaAL1FFFABRRRQAUUUUAFFFFABRRRQAUUUUAFFFFABRRRQAUUUUAFFFFABRRRQAUUUUAFFFFABRRRQAUUUUAFFFFABRRRQAUUUUAFFFFABRRRQAUUUUAFFFFABRRRQAUUUUAFFFFABRRRQAUUUUAFFFFABRRRQAUUUUAFFFFABRRRQAUUUUAFFFFABRRRQAUUUUAFFFFABRRRQAUUUUAFFFFABRRRQAUUUUAFFFFABRRRQAUUUUAFFFFABRRRQAUUUUAFFFFABRRRQAUUUUAFFFFABRRRQAUUUUAFFFFABRRRQAUUUUAFFFFABRRRQAUUUUAFFFFABRRRQAUUUUAFFFFABRRRQAUUUUAFFFFABRRRQAUUUUAFFFFABRRRQAUUUUAFFFFABRRRQAUUUUAFFFFABRRRQAUUUUAFFFFABRRRQAUUUUAFFFFABRRRQAUUUUAfKHx+/5KhP/ANekP8jXl9eofH7/AJKhP/16Q/yNeX0AFFFFABRRRQAUUUUAdT8OP+R90z/tr/6KevfK+cdJNxp1yt5DK0NwFZUZeCoZSp+hwT9PrVqe4mupmmuJpJpWxueRizHjHJNexDgXE5javWqKmmtFZt/PVJfmVDHxpLlSuejfFz/kVLX/AK/k/wDQJK8YrpLu9vL3TRYT3c0lsrKyI7lghUEDGegwxGB/QVz0kbROUcYP865sTw5icmpqNRqUW3aSv9zT2f4dmKWIjWldaDKKKK4BBRRRQAUUUUAFfd+hf8i9pn/XpF/6AK+EK+79C/5F7TP+vSL/ANAFAGhRRRQAUUUUAFFFFABRRRQAUUUUAFFFFABRRRQAUUUUAFFFFABRRRQAUUUUAFFFFABRRRQAUUUUAFFFFABRRRQAUUUUAFFFFABRRRQAUUUUAFFFFABRRRQAUUUUAFFFFABRRRQAUUUUAFFFFABRRRQAUUUUAFFFFABRRRQAUUUUAFFFFABRRRQAUUUUAFFFFABRRRQAUUUUAFFFFABRRRQAUUUUAFFFFABRRRQBz/8Awm3h3/oIf+QZP/iaP+E28O/9BD/yDJ/8TWh/YWj/APQKsf8AwHT/AAo/sLR/+gVY/wDgOn+FAGf/AMJt4d/6CH/kGT/4mj/hNvDv/QQ/8gyf/E1of2Fo/wD0CrH/AMB0/wAKP7C0f/oFWP8A4Dp/hQBn/wDCbeHf+gh/5Bk/+Jo/4Tbw7/0EP/IMn/xNaH9haP8A9Aqx/wDAdP8ACj+wtH/6BVj/AOA6f4UAZ/8Awm3h3/oIf+QZP/iaP+E28O/9BD/yDJ/8TWh/YWj/APQKsf8AwHT/AAo/sLR/+gVY/wDgOn+FAGf/AMJt4d/6CH/kGT/4mj/hNvDv/QQ/8gyf/E1of2Fo/wD0CrH/AMB0/wAKP7C0f/oFWP8A4Dp/hQBn/wDCbeHf+gh/5Bk/+Jo/4Tbw7/0EP/IMn/xNaH9haP8A9Aqx/wDAdP8ACj+wtH/6BVj/AOA6f4UAZ/8Awm3h3/oIf+QZP/iaP+E28O/9BD/yDJ/8TWh/YWj/APQKsf8AwHT/AAo/sLR/+gVY/wDgOn+FAGf/AMJt4d/6CH/kGT/4mj/hNvDv/QQ/8gyf/E1of2Fo/wD0CrH/AMB0/wAKP7C0f/oFWP8A4Dp/hQBn/wDCbeHf+gh/5Bk/+Jo/4Tbw7/0EP/IMn/xNaH9haP8A9Aqx/wDAdP8ACj+wtH/6BVj/AOA6f4UAZ/8Awm3h3/oIf+QZP/iaP+E28O/9BD/yDJ/8TWh/YWj/APQKsf8AwHT/AAo/sLR/+gVY/wDgOn+FAGf/AMJt4d/6CH/kGT/4mj/hNvDv/QQ/8gyf/E1of2Fo/wD0CrH/AMB0/wAKP7C0f/oFWP8A4Dp/hQBn/wDCbeHf+gh/5Bk/+Jo/4Tbw7/0EP/IMn/xNaH9haP8A9Aqx/wDAdP8ACj+wtH/6BVj/AOA6f4UAZ/8Awm3h3/oIf+QZP/iaP+E28O/9BD/yDJ/8TWh/YWj/APQKsf8AwHT/AAo/sLR/+gVY/wDgOn+FAGf/AMJt4d/6CH/kGT/4mj/hNvDv/QQ/8gyf/E1of2Fo/wD0CrH/AMB0/wAKP7C0f/oFWP8A4Dp/hQBn/wDCbeHf+gh/5Bk/+Jo/4Tbw7/0EP/IMn/xNaH9haP8A9Aqx/wDAdP8ACj+wtH/6BVj/AOA6f4UAZ/8Awm3h3/oIf+QZP/iaP+E28O/9BD/yDJ/8TWh/YWj/APQKsf8AwHT/AAo/sLR/+gVY/wDgOn+FAGf/AMJt4d/6CH/kGT/4mj/hNvDv/QQ/8gyf/E1of2Fo/wD0CrH/AMB0/wAKP7C0f/oFWP8A4Dp/hQBn/wDCbeHf+gh/5Bk/+Jo/4Tbw7/0EP/IMn/xNaH9haP8A9Aqx/wDAdP8ACj+wtH/6BVj/AOA6f4UAZ/8Awm3h3/oIf+QZP/iaP+E28O/9BD/yDJ/8TWh/YWj/APQKsf8AwHT/AAo/sLR/+gVY/wDgOn+FAGf/AMJt4d/6CH/kGT/4mj/hNvDv/QQ/8gyf/E1of2Fo/wD0CrH/AMB0/wAKP7C0f/oFWP8A4Dp/hQBn/wDCbeHf+gh/5Bk/+Jo/4Tbw7/0EP/IMn/xNaH9haP8A9Aqx/wDAdP8ACj+wtH/6BVj/AOA6f4UAZ/8Awm3h3/oIf+QZP/iaP+E28O/9BD/yDJ/8TWh/YWj/APQKsf8AwHT/AAo/sLR/+gVY/wDgOn+FAGf/AMJt4d/6CH/kGT/4mj/hNvDv/QQ/8gyf/E1of2Fo/wD0CrH/AMB0/wAKP7C0f/oFWP8A4Dp/hQBn/wDCbeHf+gh/5Bk/+Jo/4Tbw7/0EP/IMn/xNaH9haP8A9Aqx/wDAdP8ACj+wtH/6BVj/AOA6f4UAZ/8Awm3h3/oIf+QZP/iaP+E28O/9BD/yDJ/8TWh/YWj/APQKsf8AwHT/AAo/sLR/+gVY/wDgOn+FAGf/AMJt4d/6CH/kGT/4mj/hNvDv/QQ/8gyf/E1of2Fo/wD0CrH/AMB0/wAKP7C0f/oFWP8A4Dp/hQBn/wDCbeHf+gh/5Bk/+Jo/4Tbw7/0EP/IMn/xNaH9haP8A9Aqx/wDAdP8ACj+wtH/6BVj/AOA6f4UAZ/8Awm3h3/oIf+QZP/iaP+E28O/9BD/yDJ/8TWh/YWj/APQKsf8AwHT/AAo/sLR/+gVY/wDgOn+FAGf/AMJt4d/6CH/kGT/4mj/hNvDv/QQ/8gyf/E1of2Fo/wD0CrH/AMB0/wAKP7C0f/oFWP8A4Dp/hQBn/wDCbeHf+gh/5Bk/+Jo/4Tbw7/0EP/IMn/xNaH9haP8A9Aqx/wDAdP8ACj+wtH/6BVj/AOA6f4UAZ/8Awm3h3/oIf+QZP/iaP+E28O/9BD/yDJ/8TWh/YWj/APQKsf8AwHT/AAo/sLR/+gVY/wDgOn+FAGf/AMJt4d/6CH/kGT/4mj/hNvDv/QQ/8gyf/E1of2Fo/wD0CrH/AMB0/wAKP7C0f/oFWP8A4Dp/hQBn/wDCbeHf+gh/5Bk/+Jo/4Tbw7/0EP/IMn/xNaH9haP8A9Aqx/wDAdP8ACj+wtH/6BVj/AOA6f4UAZ/8Awm3h3/oIf+QZP/iaP+E28O/9BD/yDJ/8TWh/YWj/APQKsf8AwHT/AAo/sLR/+gVY/wDgOn+FAGf/AMJt4d/6CH/kGT/4mj/hNvDv/QQ/8gyf/E1of2Fo/wD0CrH/AMB0/wAKP7C0f/oFWP8A4Dp/hQBn/wDCbeHf+gh/5Bk/+Jo/4Tbw7/0EP/IMn/xNaH9haP8A9Aqx/wDAdP8ACj+wtH/6BVj/AOA6f4UAZ/8Awm3h3/oIf+QZP/iaP+E28O/9BD/yDJ/8TWh/YWj/APQKsf8AwHT/AAo/sLR/+gVY/wDgOn+FAGf/AMJt4d/6CH/kGT/4mj/hNvDv/QQ/8gyf/E1of2Fo/wD0CrH/AMB0/wAKP7C0f/oFWP8A4Dp/hQBn/wDCbeHf+gh/5Bk/+Jo/4Tbw7/0EP/IMn/xNaH9haP8A9Aqx/wDAdP8ACj+wtH/6BVj/AOA6f4UAZ/8Awm3h3/oIf+QZP/iaP+E28O/9BD/yDJ/8TWh/YWj/APQKsf8AwHT/AAo/sLR/+gVY/wDgOn+FAGf/AMJt4d/6CH/kGT/4mj/hNvDv/QQ/8gyf/E1of2Fo/wD0CrH/AMB0/wAKP7C0f/oFWP8A4Dp/hQB8sfHC+t9R+Ir3dpJ5kElpFtbaRnGQeDz1BrzevTPjvBDbfEuWG3ijiiW0i2pGoVRwTwBXmdABRRRQAUUUUAFS2yCS4RT0zmoqkgk8qdHPQHn6V04N01iabq/DzK/pdClezsbNFFFftB5oVS1FBsR+4OKu1R1GThI/+BH/AD+deJxE6ay2rz+VvW6t+prRvzqxQooor8pO4KKKKACiiigAr7T0nxfoVto1jbzX22WK3jR18lzghQCOFr4sr7h0XRdKl0LT5JNMs3d7aNmZoFJJKjJJxQA3/hNvDv8A0EP/ACDJ/wDE0f8ACbeHf+gh/wCQZP8A4mtD+wtH/wCgVY/+A6f4Uf2Fo/8A0CrH/wAB0/woAz/+E28O/wDQQ/8AIMn/AMTR/wAJt4d/6CH/AJBk/wDia0P7C0f/AKBVj/4Dp/hR/YWj/wDQKsf/AAHT/CgDP/4Tbw7/ANBD/wAgyf8AxNH/AAm3h3/oIf8AkGT/AOJrQ/sLR/8AoFWP/gOn+FH9haP/ANAqx/8AAdP8KAM//hNvDv8A0EP/ACDJ/wDE0f8ACbeHf+gh/wCQZP8A4mtD+wtH/wCgVY/+A6f4Uf2Fo/8A0CrH/wAB0/woAz/+E28O/wDQQ/8AIMn/AMTR/wAJt4d/6CH/AJBk/wDia0P7C0f/AKBVj/4Dp/hR/YWj/wDQKsf/AAHT/CgDP/4Tbw7/ANBD/wAgyf8AxNH/AAm3h3/oIf8AkGT/AOJrQ/sLR/8AoFWP/gOn+FH9haP/ANAqx/8AAdP8KAM//hNvDv8A0EP/ACDJ/wDE0f8ACbeHf+gh/wCQZP8A4mtD+wtH/wCgVY/+A6f4Uf2Fo/8A0CrH/wAB0/woAz/+E28O/wDQQ/8AIMn/AMTR/wAJt4d/6CH/AJBk/wDia0P7C0f/AKBVj/4Dp/hR/YWj/wDQKsf/AAHT/CgDP/4Tbw7/ANBD/wAgyf8AxNH/AAm3h3/oIf8AkGT/AOJrQ/sLR/8AoFWP/gOn+FH9haP/ANAqx/8AAdP8KAM//hNvDv8A0EP/ACDJ/wDE0f8ACbeHf+gh/wCQZP8A4mtD+wtH/wCgVY/+A6f4Uf2Fo/8A0CrH/wAB0/woAz/+E28O/wDQQ/8AIMn/AMTR/wAJt4d/6CH/AJBk/wDia0P7C0f/AKBVj/4Dp/hR/YWj/wDQKsf/AAHT/CgDP/4Tbw7/ANBD/wAgyf8AxNH/AAm3h3/oIf8AkGT/AOJrQ/sLR/8AoFWP/gOn+FH9haP/ANAqx/8AAdP8KAM//hNvDv8A0EP/ACDJ/wDE0f8ACbeHf+gh/wCQZP8A4mtD+wtH/wCgVY/+A6f4Uf2Fo/8A0CrH/wAB0/woAz/+E28O/wDQQ/8AIMn/AMTR/wAJt4d/6CH/AJBk/wDia0P7C0f/AKBVj/4Dp/hR/YWj/wDQKsf/AAHT/CgDP/4Tbw7/ANBD/wAgyf8AxNH/AAm3h3/oIf8AkGT/AOJrQ/sLR/8AoFWP/gOn+FH9haP/ANAqx/8AAdP8KAM//hNvDv8A0EP/ACDJ/wDE0f8ACbeHf+gh/wCQZP8A4mtD+wtH/wCgVY/+A6f4Uf2Fo/8A0CrH/wAB0/woAz/+E28O/wDQQ/8AIMn/AMTR/wAJt4d/6CH/AJBk/wDia0P7C0f/AKBVj/4Dp/hR/YWj/wDQKsf/AAHT/CgDP/4Tbw7/ANBD/wAgyf8AxNH/AAm3h3/oIf8AkGT/AOJrQ/sLR/8AoFWP/gOn+FH9haP/ANAqx/8AAdP8KAM//hNvDv8A0EP/ACDJ/wDE0f8ACbeHf+gh/wCQZP8A4mtD+wtH/wCgVY/+A6f4Uf2Fo/8A0CrH/wAB0/woAz/+E28O/wDQQ/8AIMn/AMTR/wAJt4d/6CH/AJBk/wDia0P7C0f/AKBVj/4Dp/hR/YWj/wDQKsf/AAHT/CgDP/4Tbw7/ANBD/wAgyf8AxNH/AAm3h3/oIf8AkGT/AOJrQ/sLR/8AoFWP/gOn+FH9haP/ANAqx/8AAdP8KAM//hNvDv8A0EP/ACDJ/wDE0f8ACbeHf+gh/wCQZP8A4mtD+wtH/wCgVY/+A6f4Uf2Fo/8A0CrH/wAB0/woAz/+E28O/wDQQ/8AIMn/AMTR/wAJt4d/6CH/AJBk/wDia0P7C0f/AKBVj/4Dp/hR/YWj/wDQKsf/AAHT/CgDP/4Tbw7/ANBD/wAgyf8AxNH/AAm3h3/oIf8AkGT/AOJrQ/sLR/8AoFWP/gOn+FH9haP/ANAqx/8AAdP8KAM//hNvDv8A0EP/ACDJ/wDE0f8ACbeHf+gh/wCQZP8A4mtD+wtH/wCgVY/+A6f4Uf2Fo/8A0CrH/wAB0/woAz/+E28O/wDQQ/8AIMn/AMTR/wAJt4d/6CH/AJBk/wDia0P7C0f/AKBVj/4Dp/hR/YWj/wDQKsf/AAHT/CgDP/4Tbw7/ANBD/wAgyf8AxNH/AAm3h3/oIf8AkGT/AOJrQ/sLR/8AoFWP/gOn+FH9haP/ANAqx/8AAdP8KAM//hNvDv8A0EP/ACDJ/wDE0f8ACbeHf+gh/wCQZP8A4mtD+wtH/wCgVY/+A6f4Uf2Fo/8A0CrH/wAB0/woAz/+E28O/wDQQ/8AIMn/AMTR/wAJt4d/6CH/AJBk/wDia0P7C0f/AKBVj/4Dp/hR/YWj/wDQKsf/AAHT/CgDP/4Tbw7/ANBD/wAgyf8AxNH/AAm3h3/oIf8AkGT/AOJrQ/sLR/8AoFWP/gOn+FH9haP/ANAqx/8AAdP8KAM//hNvDv8A0EP/ACDJ/wDE0f8ACbeHf+gh/wCQZP8A4mtD+wtH/wCgVY/+A6f4Uf2Fo/8A0CrH/wAB0/woAz/+E28O/wDQQ/8AIMn/AMTR/wAJt4d/6CH/AJBk/wDia0P7C0f/AKBVj/4Dp/hR/YWj/wDQKsf/AAHT/CgDP/4Tbw7/ANBD/wAgyf8AxNH/AAm3h3/oIf8AkGT/AOJrQ/sLR/8AoFWP/gOn+FH9haP/ANAqx/8AAdP8KAM//hNvDv8A0EP/ACDJ/wDE0f8ACbeHf+gh/wCQZP8A4mtD+wtH/wCgVY/+A6f4Uf2Fo/8A0CrH/wAB0/woAz/+E28O/wDQQ/8AIMn/AMTR/wAJt4d/6CH/AJBk/wDia0P7C0f/AKBVj/4Dp/hR/YWj/wDQKsf/AAHT/CgDP/4Tbw7/ANBD/wAgyf8AxNH/AAm3h3/oIf8AkGT/AOJrQ/sLR/8AoFWP/gOn+FH9haP/ANAqx/8AAdP8KAM//hNvDv8A0EP/ACDJ/wDE0f8ACbeHf+gh/wCQZP8A4mtD+wtH/wCgVY/+A6f4Uf2Fo/8A0CrH/wAB0/woAz/+E28O/wDQQ/8AIMn/AMTR/wAJt4d/6CH/AJBk/wDia0P7C0f/AKBVj/4Dp/hR/YWj/wDQKsf/AAHT/CgDP/4Tbw7/ANBD/wAgyf8AxNH/AAm3h3/oIf8AkGT/AOJrQ/sLR/8AoFWP/gOn+FH9haP/ANAqx/8AAdP8KAM//hNvDv8A0EP/ACDJ/wDE0f8ACbeHf+gh/wCQZP8A4mtD+wtH/wCgVY/+A6f4Uf2Fo/8A0CrH/wAB0/woAz/+E28O/wDQQ/8AIMn/AMTR/wAJt4d/6CH/AJBk/wDia0P7C0f/AKBVj/4Dp/hR/YWj/wDQKsf/AAHT/CgDP/4Tbw7/ANBD/wAgyf8AxNH/AAm3h3/oIf8AkGT/AOJrQ/sLR/8AoFWP/gOn+FH9haP/ANAqx/8AAdP8KAM//hNvDv8A0EP/ACDJ/wDE0f8ACbeHf+gh/wCQZP8A4mtD+wtH/wCgVY/+A6f4Uf2Fo/8A0CrH/wAB0/woA0KKKKACiiigAooooAKKKKACiiigAooooAKKKKACiiigAooooAKKKKACiiigAooooAKKKKACiiigAooooAKKKKACiiigAooooAKKKKACiiigAooooAKKKKACiiigAooooAKKKKACiiigAooooAKKKKACiiigAooooAKKKKACiiigAooooAKKKKACiiigAooooAKKKKACiiigAooooAKKKKACiiigD5Q+P3/JUJ/+vSH+Rry+vUPj9/yVCf8A69If5GvL6ACiiigAooooAKKKKALlteeWNkmSvY+lXFuIWGRKv4nFY9FfR4DifF4SmqUkppbXvdfNfqYyoxk7mnLfRoCEO9v0rNZmdizHJPU0lFcGZZvicwkvauyWyW3/AAX5suFNQ2CiiivLLCiiigAooooAK+79C/5F7TP+vSL/ANAFfCFfd+hf8i9pn/XpF/6AKANCiiigAooooAKKKKACiiigAooooAKKKKACiiigAooooAKKKKACiiigAooooAKKKKACiiigAooooAKKKKACiiigAooooAKKKKACiiigAooooAKKKKACiiigAooooAKKKKACiiigAooooAKKKKACiiigAooooAKKKKACiiigAooooAKKKKACiiigAooooAKKKKACiiigAooooAKKKKACiiigAooooAKKKKACiiigAooooAKKKKACiiigAooooAKKKKACiiigAooooAKKKKACiiigAooooAKKKKACiiigAooooAKKKKACiiigAooooAKKKKACiiigAooooAKKKKACiiigAooooAKKKKACiiigAooooAKKKKACiiigAooooAKKKKACiiigAooooAKKKKACiiigAooooAKKKKACiiigAooooAKKKKACiiigAooooAKKKKAPBvir8KvFHi/xxNqulQWxtTBHGDLOFJIHPH41xP8AwoHxz/zwsf8AwKH+FfV9FAHyh/woHxz/AM8LH/wKH+FH/CgfHP8Azwsf/Aof4V9X0UAfKH/CgfHP/PCx/wDAof4Uf8KB8c/88LH/AMCh/hX1fRQB8of8KB8c/wDPCx/8Ch/hR/woHxz/AM8LH/wKH+FfV9FAHyh/woHxz/zwsf8AwKH+FH/CgfHP/PCx/wDAof4V9X0UAfKH/CgfHP8Azwsf/Aof4Uf8KB8c/wDPCx/8Ch/hX1fRQB8of8KB8c/88LH/AMCh/hR/woHxz/zwsf8AwKH+FfV9FAHyh/woHxz/AM8LH/wKH+FH/CgfHP8Azwsf/Aof4V9X0UAfKH/CgfHP/PCx/wDAof4Uf8KB8c/88LH/AMCh/hX1fRQB8of8KB8c/wDPCx/8Ch/hX1HpMElto1jbzLtlit40dc5wQoBHFXKKACiiigAooooAKKKKACiiigAooooAKKKKACiiigAooooAKKKKACiiigAooooAKKKKACiiigAooooAKKKKACiiigAooooAKKKKACiiigAooooAKKKKACiiigAooooAKKKKACiiigAooooAKKKKACiiigAooooAKKKKACiiigAooooAKKKKACiiigAooooAKKKKACiiigAooooAKKKKACiiigAooooAKKKKACiiigAooooAKKKKACiiigAooooAKKKKACiiigAooooAKKKKACiiigAooooAKKKKACiiigAooooAKKKKACiiigAooooAKKKKACiiigAooooAKKKKACiiigAooooAKKKKACiiigAooooAKKKKACiiigAooooAKKKKACiiigAooooAKKKKACiiigAooooAKKKKACiiigAooooAKKKKACiiigAooooAKKKKACiiigAooooAKKKKACiiigAooooAKKKKACiiigAooooAKKKKACiiigAooooAKKKKACiiigAooooAKKKKACiiigAooooAKKKKACiiigAooooAKKKKACiiigAooooAKKKKACiiigAooooAKKKKACiiigAooooAKKKKACiiigAooooAKKKKACiiigAooooAKKKKACiiigAooooAKKKKACiiigAooooAKKKKACiiigAooooAKKKKACiiigAooooAKKKKACiiigAooooAKKKKACiiigAooooAKKKKACiiigAooooAKKKKACiiigAooooAKKKKACiiigAooooAKKKKACiiigAooooAKKKKACiiigAooooAKKKKACiiigAooooAKKKKACiiigAooooAKKKKACiiigAooooAKKKKACiiigAooooAKKKKACiiigAooooAKKKKACiiigAooooAKKKKACiiigAooooAKKKKACiiigAooooAKKKKACiiigAooooAKKKKACiiigAooooAKKKKACiiigAooooAKKKKACiiigAooooAKKKKACiiigAooooAKKKKACiiigAooooAKKKKACiiigAooooAKKKKACiiigAooooAKKKKACiiigAooooAKKKKACiiigAooooAKKKKACiiigAooooAKKKKACiiigAooooAKKKKACiiigAooooAKKKKACiiigAooooAKKKKACiiigAooooAKKKKACiiigAooooAKKKKACiiigAooooAKKKKACiiigAooooAKKKKACiiigAooooAKKKKACiiigAooooAKKKKACiiigAooooAKKKKACiiigAooooAKKKKACiiigAooooAKKKKACiiigAooooAKKKKACiiigAooooAKKKKACiiigAooooAKKKKACiiigAooooAKKKKACiiigAooooAKKKKACiiigAooooAKKKKACiiigAooooAKKKKACiiigAooooAKKKKACiiigAooooAKKKKACiiigAooooAKKKKACiiigAooooAKKKKACiiigAooooAKKKKACiiigAooooAKKKKACiiigAooooAKKKKACiiigAooooAKKKKACiiigAooooAKKKKACiiigAooooAKKKKACiiigAooooAKKKKACiiigAooooAKKKKACiiigAooooAKKKKACiiigAooooAKKKKACiiigAooooAKKKKACiiigAooooAKKKKACiiigAooooAKKKKACiiigAooooAKKKKACiiigAooooAKKKKACiiigAooooAKKKKACiiigAooooAKKKKACiiigAooooAKKKKACiiigAooooAKKKKACiiigAooooAKKKKACiiigAooooAKKKKACiiigAooooAKKKKACiiigAooooAKKKKACiiigAooooAKKKKACiiigAooooAKKKKACiiigAooooAKKKKACiiigAooooAKKKKACiiigAooooAKKKKACiiigAooooAKKKKACiiigAooooAKKKKACiiigAooooAKKKKACiiigAooooAKKKKACiiigAooooAKKKKACiiigAooooAKKKKACiiigAooooAKKKKACiiigAooooAKKKKACiiigAooooAKKKKACiiigAooooAKKKKACiiigAooooAKKKKACiiigAooooAKKKKACiiigAooooAKKKKACiiigAooooAKKKKACiiigAooooAKKKKACiiigAooooAKKKKACiiigAooooAKKKKACiiigAooooAKKKKACiiigAooooAKKKKACiiigAooooAKKKKACiiigAooooAKKKKACiiigAooooAKKKKACiiigAooooAKKKKACiiigAooooAKKKKACiiigAooooAKKKKACiiigAooooAKKKKACiiigAooooAKKKKACiiigAooooAKKKKACiiigAooooAKKKKACiiigAooooAKKKKACiiigAooooAKKKKACiiigAooooAKKKKACiiigAooooAKKKKACiiigAooooAKKKKACiiigAooooAKKKKACiiigAooooAKKKKACiiigAooooAKKKKACiiigAooooAKKKKACiiigAooooAKKKKACiiigAooooAKKKKACiiigAooooAKKKKACiiigAooooAKKKKACiiigAooooAKKKKACiiigAooooAKKKKACiiigAooooAKKKKACiiigAooooAKKKKACiiigAooooAKKKKACiiigAooooAKKKKACiiigAooooAKKKKACiiigAooooAKKKKACiiigAooooAKKKKACiiigAooooAKKKKACiiigAooooAKKKKACiiigAooooAKKKKACiiigAooooAKKKKACiiigAooooAKKKKACiiigAooooAKKKKACiiigAooooAKKKKACiiigAooooAKKKKACiiigAooooAKKKKACiiigAooooAKKKKACiiigAooooAKKKKACiiigAooooAKKKKACiiigAooooAKKKKACiiigAooooAKKKKACiiigAooooAKKKKACiiigAooooAKKKKACiiigAooooAKKKKACiiigAooooAKKKKACiiigAooooAKKKKACiiigAooooAKKKKACiiigAooooAKKKKACiiigAooooAKKKKACiiigAooooAKKKKACiiigAooooAKKKKACiiigAooooAKKKKACiiigAooooAKKKKACiiigAooooAKKKKACiiigAooooAKKKKACiiigAooooAKKKKACiiigAooooAKKKKACiiigAooooAKKKKACiiigAooooAKKKKACiiigAooooAKKKKACiiigAooooAKKKKACiiigAooooAKKKKACiiigAooooAKKKKACiiigAooooAKKKKACiiigAooooAKKKKACiiigAooooAKKKKACiiigAooooAKKKKACiiigAooooAKKKKACiiigAooooAKKKKACiiigAooooAKKKKACiiigAooooAKKKKACiiigAooooAKKKKACiiigAooooAKKKKACiiigAooooAKKKKACiiigAooooAKKKKACiiigAooooAKKKKACiiigAooooAKKKKACiiigAooooAKKKKACiiigAooooAKKKKACiiigAooooAKKKKACiiigAooooAKKKKACiiigAooooAKKKKACiiigAooooAKKKKACiiigAooooAKKKKACiiigAooooAKKKKACiiigAooooAKKKKACiiigAooooAKKKKACiiigAooooAKKKKACiiigAooooAKKKKACiiigAooooAKKKKACiiigAooooAKKKKACiiigAooooAKKKKACiiigAooooAKKKKACiiigAooooAKKKKACiiigAooooAKKKKACiiigAooooAKKKKACiiigAooooAKKKKACiiigAooooAKKKKACiiigAooooAKKKKACiiigAooooAKKKKACiiigAooooAKKKKACiiigAooooAKKKKACiiigAooooAKKKKACiiigAooooAKKKKACiiigAooooAKKKKACiiigAooooAKKKKACiiigAooooAKKKKACiiigAooooAKKKKACiiigAooooAKKKKACiiigAooooAKKKKACiiigAooooAKKKKACiiigAooooAKKKKACiiigAooooAKKKKACiiigAooooAKKKKACiiigAooooAKKKKACiiigAooooAKKKKACiiigAooooAKKKKACiiigAooooAKKKKACiiigAooooAKKKKACiiigAooooAKKKKACiiigAooooAKKKKACiiigAooooAKKKKACiiigAooooAKKKKACiiigAooooAKKKKACiiigAooooAKKKKACiiigAooooAKKKKACiiigAooooAKKKKACiiigAooooAKKKKACiiigAooooAKKKKACiiigAooooAKKKKACiiigAooooAKKKKACiiigAooooAKKKKACiiigAooooAKKKKACiiigAooooAKKKKACiiigAooooAKKKKACiiigAooooAKKKKACiiigAooooAKKKKACiiigAooooAKKKKACiiigAooooAKKKKACiiigAooooAKKKKACiiigAooooAKKKKACiiigAooooAKKKKACiiigAooooAKKKKACiiigAooooAKKKKACiiigAooooAKKKKACiiigAooooAKKKKACiiigAooooAKKKKACiiigAooooAKKKKACiiigAooooAKKKKACiiigAooooAKKKKACiiigAooooAKKKKACiiigAooooAKKKKACiiigAooooAKKKKACiiigAooooAKKKKACiiigAooooAKKKKACiiigAooooAKKKKACiiigAooooAKKKKACiiigAooooAKKKKACiiigAooooAKKKKACiiigAooooAKKKKACiiigAooooAKKKKACiiigAooooAKKKKACiiigAooooAKKKKACiiigAooooAKKKKACiiigAooooAKKKKACiiigAooooAKKKKACiiigAooooAKKKKACiiigAooooAKKKKACiiigAooooAKKKKACiiigAooooAKKKKACiiigAooooAKKKKACiiigAooooAKKKKACiiigAooooAKKKKACiiigAooooAKKKKACiiigAooooAKKKKACiiigAooooAKKKKACiiigAooooAKKKKACiiigAooooAKKKKACiiigAooooAKKKKACiiigAooooAKKKKACiiigAooooAKKKKACiiigAooooAKKKKACiiigAooooAKKKKACiiigAooooAKKKKACiiigAooooAKKKKACiiigAooooAKKKKACiiigAooooAKKKKACiiigAooooAKKKKACiiigAooooAKKKKACiiigAooooAKKKKACiiigAooooAKKKKACiiigAooooAKKKKACiiigAooooAKKKKACiiigAooooAKKKKACiiigAooooAKKKKACiiigAooooAKKKKACiiigAooooAKKKKACiiigAooooAKKKKACiiigAooooAKKKKACiiigAooooAKKKKACiiigAooooAKKKKACiiigAooooAKKKKACiiigAooooAKKKKACiiigAooooAKKKKACiiigAooooAKKKKACiiigAooooAKKKKACiiigAooooAKKKKACiiigAooooAKKKKACiiigAooooAKKKKACiiigAooooAKKKKACiiigAooooAKKKKACiiigAooooAKKKKACiiigAooooAKKKKACiiigAooooAKKKKACiiigAooooAKKKKACiiigAooooAKKKKACiiigAooooAKKKKACiiigAooooAKKKKACiiigAooooAKKKKACiiigAooooAKKKKACiiigAooooAKKKKACiiigAooooAKKKKACiiigAooooAKKKKACiiigAooooAKKKKACiiigAooooAKKKKACiiigAooooAKKKKACiiigAooooAKKKKACiiigAooooAKKKKACiiigAooooAKKKKACiiigAooooAKKKKACiiigAooooAKKKKACiiigAooooAKKKKACiiigAooooAKKKKACiiigAooooAKKKKACiiigAooooAKKKKACiiigAooooAKKKKACiiigAooooAKKKKACiiigAooooAKKKKACiiigAooooAKKKKACiiigAooooAKKKKACiiigAooooAKKKKACiiigAooooAKKKKACiiigAooooAKKKKACiiigAooooAKKKKACiiigAooooAKKKKACiiigAooooAKKKKACiiigAooooAKKKKACiiigAooooAKKKKACiiigAooooAKKKKACiiigAooooAKKKKACiiigAooooAKKKKACiiigAooooAKKKKACiiigAooooAKKKKACiiigAooooAKKKKACiiigAooooAKKKKACiiigAooooAKKKKACiiigAooooAKKKKACiiigAooooAKKKKACiiigAooooAKKKKACiiigAooooAKKKKACiiigAooooAKKKKACiiigAooooAKKKKACiiigAooooAKKKKACiiigAooooAKKKKACiiigAooooAKKKKACiiigAooooAKKKKACiiigAooooAKKKKACiiigAooooAKKKKACiiigAooooAKKKKACiiigAooooAKKKKACiiigAooooAKKKKACiiigAooooAKKKKACiiigAooooAKKKKACiiigAooooAKKKKACiiigAooooAKKKKACiiigAooooAKKKKACiiigAooooAKKKKACiiigAooooAKKKKACiiigAooooAKKKKACiiigAooooAKKKKACiiigAooooAKKKKACiiigAooooAKKKKACiiigAooooAKKKKACiiigAooooAKKKKACiiigAooooAKKKKACiiigAooooAKKKKACiiigAooooAKKKKACiiigAooooAKKKKACiiigAooooAKKKKACiiigAooooAKKKKACiiigAooooAKKKKACiiigAooooAKKKKACiiigAooooAKKKKACiiigAooooAKKKKACiiigAooooAKKKKACiiigAooooAKKKKACiiigAooooAKKKKACiiigAooooAKKKKACiiigAooooAKKKKACiiigAooooAKKKKACiiigAooooAKKKKACiiigAooooAKKKKACiiigAooooAKKKKACiiigAooooAKKKKACiiigAooooAKKKKACiiigAooooAKKKKACiiigAooooAKKKKACiiigAooooAKKKKACiiigAooooAKKKKACiiigAooooAKKKKACiiigAooooAKKKKACiiigAooooAKKKKACiiigAooooAKKKKACiiigAooooAKKKKACiiigAooooAKKKKACiiigAooooAKKKKACiiigAooooAKKKKACiiigAooooAKKKKACiiigAooooAKKKKACiiigAooooAKKKKACiiigAooooAKKKKACiiigAooooAKKKKACiiigAooooAKKKKACiiigAooooAKKKKACiiigAooooAKKKKACiiigAooooAKKKKACiiigAooooAKKKKACiiigAooooAKKKKACiiigAooooAKKKKACiiigAooooAKKKKACiiigAooooAKKKKACiiigAooooAKKKKACiiigAooooAKKKKACiiigAooooAKKKKACiiigAooooAKKKKACiiigAooooAKKKKACiiigAooooAKKKKACiiigAooooAKKKKACiiigAooooAKKKKACiiigAooooAKKKKACiiigAooooAKKKKACiiigAooooAKKKKACiiigAooooAKKKKACiiigAooooAKKKKACiiigAooooAKKKKACiiigAooooAKKKKACiiigAooooAKKKKACiiigAooooAKKKKACiiigAooooAKKKKACiiigAooooAKKKKACiiigAooooAKKKKACiiigAooooAKKKKACiiigAooooAKKKKACiiigAooooAKKKKACiiigAooooAKKKKACiiigAooooAKKKKACiiigAooooAKKKKACiiigAooooAKKKKACiiigAooooAKKKKACiiigAooooAKKKKACiiigAooooAKKKKACiiigAooooAKKKKACiiigAooooAKKKKACiiigAooooAKKKKACiiigAooooAKKKKACiiigAooooAKKKKACiiigAooooAKKKKACiiigAooooAKKKKACiiigAooooAKKKKACiiigAooooAKKKKACiiigAooooAKKKKACiiigAooooAKKKKACiiigAooooAKKKKACiiigAooooAKKKKACiiigAooooAKKKKACiiigAooooAKKKKACiiigAooooAKKKKACiiigAooooAKKKKACiiigAooooAKKKKACiiigAooooAKKKKACiiigAooooAKKKKACiiigAooooAKKKKACiiigAooooAKKKKACiiigAooooAKKKKACiiigAooooAKKKKACiiigAooooAKKKKACiiigAooooAKKKKACiiigAooooAKKKKACiiigAooooAKKKKACiiigAooooAKKKKACiiigAooooAKKKKACiiigAooooAKKKKACiiigAooooAKKKKACiiigAooooAKKKKACiiigAooooAKKKKACiiigAooooAKKKKACiiigAooooAKKKKACiiigAooooAKKKKACiiigAooooAKKKKACiiigAooooAKKKKACiiigAooooAKKKKACiiigAooooAKKKKACiiigAooooAKKKKACiiigAooooAKKKKACiiigAooooAKKKKACiiigAooooAKKKKACiiigAooooAKKKKACiiigAooooAKKKKACiiigAooooAKKKKACiiigAooooAKKKKACiiigAooooAKKKKACiiigAooooAKKKKACiiigAooooAKKKKACiiigAooooAKKKKACiiigAooooAKKKKACiiigAooooAKKKKACiiigAooooAKKKKACiiigAooooAKKKKACiiigAooooAKKKKACiiigAooooAKKKKACiiigAooooAKKKKACiiigAooooAKKKKACiiigAooooAKKKKACiiigAooooAKKKKACiiigAooooAKKKKACiiigAooooAKKKKACiiigAooooAKKKKACiiigAooooAKKKKACiiigAooooAKKKKACiiigAooooAKKKKACiiigAooooAKKKKACiiigAooooAKKKKACiiigAooooAKKKKACiiigAooooAKKKKACiiigAooooAKKKKACiiigAooooAKKKKACiiigAooooAKKKKACiiigAooooAKKKKACiiigAooooAKKKKACiiigAooooAKKKKACiiigAooooAKKKKACiiigAooooAKKKKACiiigAooooAKKKKACiiigAooooAKKKKACiiigAooooAKKKKACiiigAooooAKKKKACiiigAooooAKKKKACiiigAooooAKKKKACiiigAooooAKKKKACiiigAooooAKKKKACiiigAooooAKKKKACiiigAooooAKKKKACiiigAooooAKKKKACiiigAooooAKKKKACiiigAooooAKKKKACiiigAooooAKKKKACiiigAooooAKKKKACiiigAooooAKKKKACiiigAooooAKKKKACiiigAooooAKKKKACiiigAooooAKKKKACiiigAooooAKKKKACiiigAooooAKKKKACiiigAooooAKKKKACiiigAooooAKKKKACiiigAooooAKKKKACiiigAooooAKKKKACiiigAooooAKKKKACiiigAooooAKKKKACiiigAooooAKKKKACiiigAooooAKKKKACiiigAooooAKKKKACiiigAooooAKKKKACiiigAooooAKKKKACiiigAooooAKKKKACiiigAooooAKKKKACiiigAooooAKKKKACiiigAooooAKKKKACiiigAooooAKKKKACiiigAooooAKKKKACiiigAooooAKKKKACiiigAooooAKKKKACiiigAooooAKKKKACiiigAooooAKKKKACiiigAooooAKKKKACiiigAooooAKKKKACiiigAooooAKKKKACiiigAooooAKKKKACiiigAooooAKKKKACiiigAooooAKKKKACiiigAooooAKKKKACiiigAooooAKKKKACiiigAooooAKKKKACiiigAooooAKKKKACiiigAooooAKKKKACiiigAooooAKKKKACiuDPxm+H4JB8QoCO32Wb/4ij/hc/w+/wChiT/wGm/+IroeFrrRwf8AXzFzI7yiuD/4XP8AD7/oYk/8Bpv/AIij/hc/w+/6GJP/AAGm/wDiKX1Wt/K/6+YcyO8org/+Fz/D7/oYk/8AAab/AOIo/wCFz/D7/oYk/wDAab/4ij6rW/lf9fMOZHeUVwf/AAuf4ff9DEn/AIDTf/EUf8Ln+H3/AEMSf+A03/xFH1Wt/K/6+YcyO8org/8Ahc/w+/6GJP8AwGm/+Io/4XP8Pv8AoYk/8Bpv/iKPqtb+V/18w5kd5RXB/wDC5/h9/wBDEn/gNN/8RR/wuf4ff9DEn/gNN/8AEUfVa38r/r5hzI7yiuD/AOFz/D7/AKGJP/Aab/4ij/hc/wAPv+hiT/wGm/8AiKPqtb+V/wBfMOZHeUVwf/C5/h9/0MSf+A03/wARR/wuf4ff9DEn/gNN/wDEUfVa38r/AK+YcyO8org/+Fz/AA+/6GJP/Aab/wCIo/4XP8Pv+hiT/wABpv8A4ij6rW/lf9fMOZHeUVwf/C5/h9/0MSf+A03/AMRR/wALn+H3/QxJ/wCA03/xFH1Wt/K/6+YcyO8org/+Fz/D7/oYk/8AAab/AOIo/wCFz/D7/oYk/wDAab/4ij6rW/lf9fMOZHeUVwf/AAuf4ff9DEn/AIDTf/EUf8Ln+H3/AEMSf+A03/xFH1Wt/K/6+YcyO8org/8Ahc/w+/6GJP8AwGm/+Io/4XP8Pv8AoYk/8Bpv/iKPqtb+V/18w5kd5RXB/wDC5/h9/wBDEn/gNN/8RR/wuf4ff9DEn/gNN/8AEUfVa38r/r5hzI7yiuD/AOFz/D7/AKGJP/Aab/4ij/hc/wAPv+hiT/wGm/8AiKPqtb+V/wBfMOZHeUVwf/C5/h9/0MSf+A03/wARR/wuf4ff9DEn/gNN/wDEUfVa38r/AK+YcyO8org/+Fz/AA+/6GJP/Aab/wCIo/4XP8Pv+hiT/wABpv8A4ij6rW/lf9fMOZHeUVwf/C5/h9/0MSf+A03/AMRR/wALn+H3/QxJ/wCA03/xFH1Wt/K/6+YcyO8org/+Fz/D7/oYk/8AAab/AOIo/wCFz/D7/oYk/wDAab/4ij6rW/lf9fMOZHeUVwf/AAuf4ff9DEn/AIDTf/EUf8Ln+H3/AEMSf+A03/xFH1Wt/K/6+YcyO8org/8Ahc/w+/6GJP8AwGm/+Io/4XP8Pv8AoYk/8Bpv/iKPqtb+V/18w5kd5RXB/wDC5/h9/wBDEn/gNN/8RR/wuf4ff9DEn/gNN/8AEUfVa38r/r5hzI7yiuD/AOFz/D7/AKGJP/Aab/4ij/hc/wAPv+hiT/wGm/8AiKPqtb+V/wBfMOZHeUVwf/C5/h9/0MSf+A03/wARR/wuf4ff9DEn/gNN/wDEUfVa38r/AK+YcyO8org/+Fz/AA+/6GJP/Aab/wCIo/4XP8Pv+hiT/wABpv8A4ij6rW/lf9fMOZHeUVwf/C5/h9/0MSf+A03/AMRR/wALn+H3/QxJ/wCA03/xFH1Wt/K/6+YcyO8org/+Fz/D7/oYk/8AAab/AOIo/wCFz/D7/oYk/wDAab/4ij6rW/lf9fMOZHeUVwf/AAuf4ff9DEn/AIDTf/EUf8Ln+H3/AEMSf+A03/xFH1Wt/K/6+YcyO8org/8Ahc/w+/6GJP8AwGm/+Io/4XP8Pv8AoYk/8Bpv/iKPqtb+V/18w5kd5RXB/wDC5/h9/wBDEn/gNN/8RR/wuf4ff9DEn/gNN/8AEUfVa38r/r5hzI7yiuD/AOFz/D7/AKGJP/Aab/4ij/hc/wAPv+hiT/wGm/8AiKPqtb+V/wBfMOZHeUVwf/C5/h9/0MSf+A03/wARR/wuf4ff9DEn/gNN/wDEUfVa38r/AK+YcyO8org/+Fz/AA+/6GJP/Aab/wCIo/4XP8Pv+hiT/wABpv8A4ij6rW/lf9fMOZHeUVwf/C5/h9/0MSf+A03/AMRR/wALn+H3/QxJ/wCA03/xFH1Wt/K/6+YcyO8org/+Fz/D7/oYk/8AAab/AOIo/wCFz/D7/oYk/wDAab/4ij6rW/lf9fMOZHeUVwf/AAuf4ff9DEn/AIDTf/EUf8Ln+H3/AEMSf+A03/xFH1Wt/K/6+YcyO8org/8Ahc/w+/6GJP8AwGm/+Io/4XP8Pv8AoYk/8Bpv/iKPqtb+V/18w5kd5RXB/wDC5/h9/wBDEn/gNN/8RR/wuf4ff9DEn/gNN/8AEUfVa38r/r5hzI7yiuD/AOFz/D7/AKGJP/Aab/4ij/hc/wAPv+hiT/wGm/8AiKPqtb+V/wBfMOZHeUVwf/C5/h9/0MSf+A03/wARR/wuf4ff9DEn/gNN/wDEUfVa38r/AK+YcyO8org/+Fz/AA+/6GJP/Aab/wCIo/4XP8Pv+hiT/wABpv8A4ij6rW/lf9fMOZHeUVwf/C5/h9/0MSf+A03/AMRR/wALn+H3/QxJ/wCA03/xFH1Wt/K/6+YcyO8org/+Fz/D7/oYk/8AAab/AOIo/wCFz/D7/oYk/wDAab/4ij6rW/lf9fMOZHeUVwf/AAuf4ff9DEn/AIDTf/EUf8Ln+H3/AEMSf+A03/xFH1Wt/K/6+YcyO8org/8Ahc/w+/6GJP8AwGm/+Io/4XP8Pv8AoYk/8Bpv/iKPqtb+V/18w5kd5RXB/wDC5/h9/wBDEn/gNN/8RR/wuf4ff9DEn/gNN/8AEUfVa38r/r5hzI7yiuD/AOFz/D7/AKGJP/Aab/4ij/hc/wAPv+hiT/wGm/8AiKPqtb+V/wBfMOZHeUVwf/C5/h9/0MSf+A03/wARR/wuf4ff9DEn/gNN/wDEUfVa38r/AK+YcyO8org/+Fz/AA+/6GJP/Aab/wCIo/4XP8Pv+hiT/wABpv8A4ij6rW/lf9fMOZHeUVwf/C5/h9/0MSf+A03/AMRR/wALn+H3/QxJ/wCA03/xFH1Wt/K/6+YcyO8org/+Fz/D7/oYk/8AAab/AOIo/wCFz/D7/oYk/wDAab/4ij6rW/lf9fMOZHeUVwf/AAuf4ff9DEn/AIDTf/EUf8Ln+H3/AEMSf+A03/xFH1Wt/K/6+YcyO8org/8Ahc/w+/6GJP8AwGm/+Io/4XP8Pv8AoYk/8Bpv/iKPqtb+V/18w5kd5RXB/wDC5/h9/wBDEn/gNN/8RR/wuf4ff9DEn/gNN/8AEUfVa38r/r5hzI7yiuD/AOFz/D7/AKGJP/Aab/4ij/hc/wAPv+hiT/wGm/8AiKPqtb+V/wBfMOZHeUVwf/C5/h9/0MSf+A03/wARR/wuf4ff9DEn/gNN/wDEUfVa38r/AK+YcyO8org/+Fz/AA+/6GJP/Aab/wCIo/4XP8Pv+hiT/wABpv8A4ij6rW/lf9fMOZHeUVwf/C5/h9/0MSf+A03/AMRR/wALn+H3/QxJ/wCA03/xFH1Wt/K/6+YcyO8org/+Fz/D7/oYk/8AAab/AOIo/wCFz/D7/oYk/wDAab/4ij6rW/lf9fMOZHeUVwf/AAuf4ff9DEn/AIDTf/EUf8Ln+H3/AEMSf+A03/xFH1Wt/K/6+YcyO8org/8Ahc/w+/6GJP8AwGm/+Io/4XP8Pv8AoYk/8Bpv/iKPqtb+V/18w5kd5RXB/wDC5/h9/wBDEn/gNN/8RR/wuf4ff9DEn/gNN/8AEUfVa38r/r5hzI7yiuD/AOFz/D7/AKGJP/Aab/4ij/hc/wAPv+hiT/wGm/8AiKPqtb+V/wBfMOZHeUVwf/C5/h9/0MSf+A03/wARR/wuf4ff9DEn/gNN/wDEUfVa38r/AK+YcyO8org/+Fz/AA+/6GJP/Aab/wCIo/4XP8Pv+hiT/wABpv8A4ij6rW/lf9fMOZHeUVwf/C5/h9/0MSf+A03/AMRR/wALn+H3/QxJ/wCA03/xFH1Wt/K/6+YcyO8org/+Fz/D7/oYk/8AAab/AOIo/wCFz/D7/oYk/wDAab/4ij6rW/lf9fMOZHeUVwf/AAuf4ff9DEn/AIDTf/EUf8Ln+H3/AEMSf+A03/xFH1Wt/K/6+YcyO8org/8Ahc/w+/6GJP8AwGm/+Io/4XP8Pv8AoYk/8Bpv/iKPqtb+V/18w5kd5RXB/wDC5/h9/wBDEn/gNN/8RR/wuf4ff9DEn/gNN/8AEUfVa38r/r5hzI7yiuD/AOFz/D7/AKGJP/Aab/4ij/hc/wAPv+hiT/wGm/8AiKPqtb+V/wBfMOZHeUVwf/C5/h9/0MSf+A03/wARR/wuf4ff9DEn/gNN/wDEUfVa38r/AK+YcyO8org/+Fz/AA+/6GJP/Aab/wCIo/4XP8Pv+hiT/wABpv8A4ij6rW/lf9fMOZHeUVwf/C5/h9/0MSf+A03/AMRR/wALn+H3/QxJ/wCA03/xFH1Wt/K/6+YcyO8org/+Fz/D7/oYk/8AAab/AOIo/wCFz/D7/oYk/wDAab/4ij6rW/lf9fMOZHeUVwf/AAuf4ff9DEn/AIDTf/EUf8Ln+H3/AEMSf+A03/xFH1Wt/K/6+YcyO8org/8Ahc/w+/6GJP8AwGm/+Io/4XP8Pv8AoYk/8Bpv/iKPqtb+V/18w5kd5RXB/wDC5/h9/wBDEn/gNN/8RR/wuf4ff9DEn/gNN/8AEUfVa38r/r5hzI7yiuD/AOFz/D7/AKGJP/Aab/4ij/hc/wAPv+hiT/wGm/8AiKPqtb+V/wBfMOZHeUVwf/C5/h9/0MSf+A03/wARR/wuf4ff9DEn/gNN/wDEUfVa38r/AK+YcyO8org/+Fz/AA+/6GJP/Aab/wCIo/4XP8Pv+hiT/wABpv8A4ij6rW/lf9fMOZHeUVwf/C5/h9/0MSf+A03/AMRR/wALn+H3/QxJ/wCA03/xFH1Wt/K/6+YcyO8org/+Fz/D7/oYk/8AAab/AOIo/wCFz/D7/oYk/wDAab/4ij6rW/lf9fMOZHeUVwf/AAuf4ff9DEn/AIDTf/EUf8Ln+H3/AEMSf+A03/xFH1Wt/K/6+YcyO8org/8Ahc/w+/6GJP8AwGm/+Io/4XP8Pv8AoYk/8Bpv/iKPqtb+V/18w5kd5RXB/wDC5/h9/wBDEn/gNN/8RR/wuf4ff9DEn/gNN/8AEUfVa38r/r5hzI7yiuD/AOFz/D7/AKGJP/Aab/4ij/hc/wAPv+hiT/wGm/8AiKPqtb+V/wBfMOZHeUVwf/C5/h9/0MSf+A03/wARR/wuf4ff9DEn/gNN/wDEUfVa38r/AK+YcyO8org/+Fz/AA+/6GJP/Aab/wCIo/4XP8Pv+hiT/wABpv8A4ij6rW/lf9fMOZHeUVwf/C5/h9/0MSf+A03/AMRR/wALn+H3/QxJ/wCA03/xFH1Wt/K/6+YcyO8org/+Fz/D7/oYk/8AAab/AOIo/wCFz/D7/oYk/wDAab/4ij6rW/lf9fMOZHeUVwf/AAuf4ff9DEn/AIDTf/EUf8Ln+H3/AEMSf+A03/xFH1Wt/K/6+YcyO8org/8Ahc/w+/6GJP8AwGm/+Io/4XP8Pv8AoYk/8Bpv/iKPqtb+V/18w5kd5RXB/wDC5/h9/wBDEn/gNN/8RR/wuf4ff9DEn/gNN/8AEUfVa38r/r5hzI+UNJ0e41/xLa6TaY8+7uREpPRcnqfYDn8K9z1eb4WfC+a38O3vh7+2L4Rq11O8CSuuR1Jc8EjnavbFedfBtVb4yaMG6b7g/iIZMVR+LbM/xU8QFiSftAHPoEUCjFfx6n+KX5sI7I6P4t+BdG0rTtM8W+FuNF1LAMYJKxuV3KVzyAQDkHoR74GB8LPAq+O/FgtLl3TT7aPz7pkOCy5ACA9iT39Aa7rUf3n7KGltIcstydpP/XzIP5Uv7PfyaV41lU4kW3h2kdR8s3+ArAZqQ+Ivg7ea8PCi+GIBA8n2ZNQ8hQrPnA/eZ8zBPG7+nNeT/EvwZ/wg3jGfTI3aSzkQT2rv94xsSMH3BBH4Z71yKMyOrKSGByCOxr3D9pRV/t3QWwN5tZAfpuGP5mgDw6itrwjq1joXivTtU1KxF9Z20u+W3IB3DBGQDwSCQQD3Fb3xR8X6L4y8RwX+iaY9lDHAI5GkRUeVsk5IUkcA4znNAHFQwyXE8cEKF5ZGCIo6kk4Ar6Cu9L+Hvwg0jT7TxBo6a5rl3H5ku6JZcDuQHO1VzkDucfl4z4GVX+IHhtX5U6pbA/TzVrtf2gmZviZgkkLYxBfYZY/1NAGl8RvBvhnVfA1v498GQfZrTcFu7UDAUFtuduTtYNgEDgg5HqeR+FngVfHfiwWly7pp9tH590yHBZcgBAexJ7+gNd14D/efs2+L1kOVW4m257fu4SP1pf2e/k0rxrKpxItvDtI6j5Zv8BQBqQ+Ivg7ea8PCi+GIBA8n2ZNQ8hQrPnA/eZ8zBPG7+nNeT/EvwZ/wg3jGfTI3aSzkQT2rv94xsSMH3BBH4Z71yKMyOrKSGByCOxr3D9pRV/t3QWwN5tZAfpuGP5mgDw6irOnXENpqdpc3FutzDDMkkkDdJFDAlT7EcfjXoHxV8e+HfGkelroejSWT2obzZZYkjYg4wgCE5Awev5UAebV7fp+o/CLwT4e055LFfEmqXMKyTExrL5bEchlchU5yAME8c+teIV0fgg+FR4iX/hMBcnS/Kb/UZz5nGN23nGM9O+KAPWNV8PeB/iR4C1XxB4U0w6RqOlo0kkSxiMMFXcVKqSpBAOCMHPWvBK+mNSh026+Eep2nwnaya1IY6hGC/wBoZCvzAb/m3EAj5uoyF5r5noAKKKKAPR/g74DsvGviC7l1Yk6Xp0ayTIrFfMZidqkjkD5WJxzx713+meJPhD4n1tPDEfhSK3S4fyLe8+zJHvboPnU7xk9CfUZxXE/BPxppvhfX76w1l1i07VYlieZ/uo6527vRSGYZ7ZHbJrt9L+E3g7wz4jtdcu/FUd5Zi4R7CyTbvkkLDy13KxMnOOgGe/GaAPIviJ4QbwR4xutIDtJbYE1tI/Vom6Z9wQQfcV6rBoHgT4VeEdK1DxVpf9saxqSbxE0YkC8AkBWO0BdwBJyST+AyP2kWiPjDSVXHnCwy3rt8xsf+zV2cGk6b4n+FGizfE5oNNe3UCzuvtIjlaMqMEgjG5gBlec4B4PAAOc1jw34I+I/gPU/EfhHTzpOpaWjPLbhBGGCruKlVJXkA4IxyOa8Hr6V1/TLLw18G9TX4biC/srncNRvFufNlEeMOeOMheCONoJOO9fNVABRRRQAUUUUAFFFFABRRRQAUUUUAFFFFABRRRQAUUUUAFFFFABRRRQAUUUUAFFFFABRRRQAUUUUAFFFFABRRRQAUUUUAFFFFABRRRQAUUUUAFFFFABRRRQAUUUUAFFFFABRRRQAUUUUAFFFFABRRRQAUUUUAFFFFABRRRQAUUUUAFFFFABRRRQAUUUUAFFFFABRRRQAUUUUAFFFFABRRRQAUUUUAFFFFABRRRQAUUUUAFFFFABRRRQAUUUUAFFFFABRRRQAUUUUAFFFFABRRRQAUUUUAFFFFABRRRQAUUUUAFFFFABRRRQAUUUUAFFFFABRRRQAUUUUAFFFFABRRRQAUUUUAFFFFABRRRQAUUUUAFFFFABRRRQAUUUUAFFFFABRRRQAUUUUAFFFFABRRRQAUUUUAFFFFABRRRQAUUUUAb/hXXz4X8b6frW0strc7pFXqyHIcD32k17b40+EkfxG1uPxX4Y1qx+y6giNN5m4jIAXcu0HnAGVOMEHn0+d5/wDj4k/3j/OpLe+vLRWW2u54Vf7wjkKhvrit8V/Hqf4pfmxR2R7J8X9V0nw94N0f4daRci4eyZZLt1P3SAeDjgMzMWI7YHrWH8D/ABfZeGvFlxZapKkVhqkQhaSQ4VJAflLHsDlh+I7V5eTk5NFYDPoC2/Z6Fr4rW+m1i1Ph2KXz9pz5pjB3bD/DjHBbPTnFcH8Z/GFr4u8bltOlEthYwi2ilXpIcksw9snA9QoPeuDN/eNai1N3ObcdIjIdn5dKr0AbPhTQG8UeKdP0RbqO1N3Ls86QZC8E9O544Hc4ra+JPgL/AIV9rtvp41Jb5J4BMreXsZeSMFcn04Of5VxqsyMGUlWByCDgg0+e4nupjNcTSTSnq8jFifxNAEun3sum6la30BAmtpkmjz/eUgj9RX0R4w8EWnxns9M8VeGdUtYrnyBDcRTk4XBJ2ttBKupJHTkY7dfm6pra8urNy9rczQMRgtE5UkfhQB7p45fTPhn8JR4Etr1LrWNQcSXRTjaCQzMR2BCqgB5Iya5X4H+L7Lw14suLLVJUisNUiELSSHCpID8pY9gcsPxHavMXdpHZ3Ys7HJZjkk02gD6Atv2eha+K1vptYtT4dil8/ac+aYwd2w/w4xwWz05xXB/Gfxha+LvG5bTpRLYWMItopV6SHJLMPbJwPUKD3rgzf3jWotTdzm3HSIyHZ+XSq9AFnTrM6jqdrZLIkTXEyRCSQ4VSxAyT6DNd18Tfhf8A8K8i02Uaul8t4XUqYfLZWUDJA3HI5/CvPKmuLq4uipuLiWYou1TI5bA9BntQA23jSa5iiklWJHcK0jdEBPU+wr2e6/Z01KcRz6F4j029s5FDLLMGTP02bwR+NeKVZttRvrJStreXEAPURSsufyNAH0Z4b8P2XwM8O6vq+uaxb3GoXcQWG1i4Dlc7VUHlsk8nAAFfNVPmmluJDJNK8kh6s7Ek/iaZQB6Z4Z+EbeIvhzd+K/7cht2iSZ0tzFkYjzkO24bSceh4we9eZ1Ml1cR28lvHcSrDIcvGrkK31HQ1DQB2nw/+HF78QX1BLLUbS1ezRG2z5JfdnoB2GOT7ivV/Dnw58P8AwmP/AAlHi/Wbee7gBNrDGuFDY/gB5d/TgAdfcfPEE81tKJYJZIpB0eNipH4iluLme7lMtzPJNIeryOWP5mgDb8a+Krnxn4rvNauF8sSkLDFnPlxjhV/Lk+5Ne8eK/DNt8bPDWjat4d1i3gntIyr2sxO1CwXKtjJVgV9Dke2K+Z6lt7q4tJPMtp5YZOm6Nyp/MUAfRulaBafBf4fa++uavBc3upxFIrWPO1mCsqqoPJzu+Y4GAB6V821JPcT3UpluJpJpD1eRixP4mo6ACiiigAooooAKKKKACiiigAooooAKKKKACiiigAooooAKKKKACiiigAooooAKKKKACiiigAooooAKKKKACiiigAooooAKKKKACiiigAooooAKKKKACiiigAooooAKKKKACiiigAooooAKKKKACiiigAooooAKKKKACiiigAooooAKKKKACiiigAooooAKKKKACiiigAooooAKKKKACiiigAooooAKKKKACiiigAooooAKKKKACiiigAooooAKKKKACiiigAooooAKKKKACiiigAooooAKKKKACiiigAooooAKKKKACiiigAooooAKKKKACiiigAooooAKKKKACiiigAooooAKKKKACiiigAooooAKKKKACiiigAooooAKKKKACiiigAooooAKKKKACiiigAooooAKKKKACiiigAooooAkn/4+JP8AeP8AOo6KK3xX8ep/il+bFHZBRRRWAwooooAKKKKACiiigAooooAKKKKACiiigAooooAKKKKACiiigAooooAKKKKACiiigAooooAKKKKACiiigAooooAKKKKACiiigAooooAKKKKACiiigAooooAKKKKACiiigAooooAKKKKACiiigAooooAKKKKACiiigAooooAKKKKACiiigAooooAKKKKACiiigAooooAKKKKACiiigAooooAKKKKACiiigAooooAKKKKACiiigAooooAKKKKACiiigAooooAKKKKACiiigAooooAKKKKACiiigAooooAKKKKACiiigAooooAKKKKACiiigAooooAKKKKACiiigAooooAKKKKACiiigAooooAKKKKACiiigAooooAKKKKACiiigAooooAKKKKACiiigAooooAKKKKACiiigAooooAKKKKACiiigAooooAKKKKACiiigAooooAKKKKACiiigAooooAKKKKACiiigAooooAKKKKAP//Z",
        "encoding": "base64",
        "path": [
         "value"
        ]
       }
      ],
      "model_module": "@jupyter-widgets/controls",
      "model_module_version": "1.5.0",
      "model_name": "ImageModel",
      "state": {
       "layout": "IPY_MODEL_06b421009d164a7ea98b4269cb5c4b7a"
      }
     },
     "0827d47b1d4a4583a20681bfcaaab73e": {
      "model_module": "@jupyter-widgets/base",
      "model_module_version": "1.2.0",
      "model_name": "LayoutModel",
      "state": {}
     },
     "0875054b0cc645509ab2449a730d814d": {
      "model_module": "@jupyter-widgets/controls",
      "model_module_version": "1.5.0",
      "model_name": "ProgressStyleModel",
      "state": {
       "description_width": ""
      }
     },
     "091b6d30d9e541829e57f548eec5504e": {
      "model_module": "@jupyter-widgets/controls",
      "model_module_version": "1.5.0",
      "model_name": "HBoxModel",
      "state": {
       "children": [
        "IPY_MODEL_574d4c3ea46646eda18d2d723b37cd73",
        "IPY_MODEL_c4300c687b1e4dcca20d366003fe8d3f",
        "IPY_MODEL_f061e8dec17d4d4295273f8732d21025"
       ],
       "layout": "IPY_MODEL_7b955ac772e94698b59d274a91f9bd3a"
      }
     },
     "093a99dcca9d4e05b8bc7e4001295407": {
      "model_module": "@jupyter-widgets/base",
      "model_module_version": "1.2.0",
      "model_name": "LayoutModel",
      "state": {
       "width": "20px"
      }
     },
     "0a5de15f5110448f9f0854a69df064b7": {
      "model_module": "@jupyter-widgets/controls",
      "model_module_version": "1.5.0",
      "model_name": "FloatProgressModel",
      "state": {
       "bar_style": "danger",
       "layout": "IPY_MODEL_743006bd761e44fd85c6aa6dadc9f702",
       "max": 1,
       "style": "IPY_MODEL_61dc443ffaea485d8741a2846496aa80",
       "value": 1
      }
     },
     "0a637f197fba433c988e2f8cc469d5b6": {
      "model_module": "@jupyter-widgets/base",
      "model_module_version": "1.2.0",
      "model_name": "LayoutModel",
      "state": {
       "width": "20px"
      }
     },
     "0a90ca5dc2c64fbcac096a5343e5f690": {
      "model_module": "@jupyter-widgets/controls",
      "model_module_version": "1.5.0",
      "model_name": "ProgressStyleModel",
      "state": {
       "description_width": ""
      }
     },
     "0aa99cc53e3948aca6a834db4b9790a2": {
      "model_module": "@jupyter-widgets/controls",
      "model_module_version": "1.5.0",
      "model_name": "HTMLModel",
      "state": {
       "layout": "IPY_MODEL_f2ee1286679e4b72afd4442c2aa1c296",
       "style": "IPY_MODEL_fb010f637cf041769db6b8a2cf5971c1"
      }
     },
     "0ac57c4736fb4a2aa714d4a061194e42": {
      "model_module": "@jupyter-widgets/base",
      "model_module_version": "1.2.0",
      "model_name": "LayoutModel",
      "state": {
       "display": "flex"
      }
     },
     "0ad5bc884af04bcf9bce28bb90fad7fa": {
      "model_module": "@jupyter-widgets/base",
      "model_module_version": "1.2.0",
      "model_name": "LayoutModel",
      "state": {}
     },
     "0b22ddaa67cd46db978753a96d1ceacd": {
      "model_module": "@jupyter-widgets/controls",
      "model_module_version": "1.5.0",
      "model_name": "FloatProgressModel",
      "state": {
       "bar_style": "danger",
       "layout": "IPY_MODEL_ed74e535f1a945bf8ff934fed4752801",
       "max": 1,
       "style": "IPY_MODEL_e65286250738433fa151964f681d2f0a",
       "value": 1
      }
     },
     "0b819986cd034d79b81337138b9d4d4f": {
      "model_module": "@jupyter-widgets/controls",
      "model_module_version": "1.5.0",
      "model_name": "HTMLModel",
      "state": {
       "layout": "IPY_MODEL_7696f9d1fc8942ebbacc3819c0d5f0fa",
       "style": "IPY_MODEL_5669bfe2c6ef4dcd8257e9985fcd37e8",
       "value": " 35/? [00:00&lt;00:00, 41.78it/s]"
      }
     },
     "0c08feb84b9f4ca1aa8b12f64cf507fd": {
      "model_module": "@jupyter-widgets/controls",
      "model_module_version": "1.5.0",
      "model_name": "DescriptionStyleModel",
      "state": {
       "description_width": ""
      }
     },
     "0c765d8a02014db79475b06342b18ebc": {
      "model_module": "@jupyter-widgets/base",
      "model_module_version": "1.2.0",
      "model_name": "LayoutModel",
      "state": {}
     },
     "0ccfea692bbf448bbc220e363a7d5f24": {
      "model_module": "@jupyter-widgets/controls",
      "model_module_version": "1.5.0",
      "model_name": "HTMLModel",
      "state": {
       "layout": "IPY_MODEL_1eff12fb853548a0bddd3702b47b45eb",
       "style": "IPY_MODEL_433270838e8c4662ac76ea84f24d302e",
       "value": " 32/? [00:00&lt;00:00, 33.13it/s]"
      }
     },
     "0e1c6a3546e44cf2b39f87d8225625e7": {
      "model_module": "@jupyter-widgets/controls",
      "model_module_version": "1.5.0",
      "model_name": "DescriptionStyleModel",
      "state": {
       "description_width": ""
      }
     },
     "0e8b31f204e84504bb413b1521820274": {
      "model_module": "@jupyter-widgets/controls",
      "model_module_version": "1.5.0",
      "model_name": "TextModel",
      "state": {
       "description": "Name:",
       "layout": "IPY_MODEL_8e8348ad9ab145a4b459131bfc079eb7",
       "style": "IPY_MODEL_aa519e18c621429391aa06ecfe6163d9",
       "value": "Robbie"
      }
     },
     "0ee355adf15246bf8b0d48ac0660abeb": {
      "model_module": "@jupyter-widgets/controls",
      "model_module_version": "1.5.0",
      "model_name": "DescriptionStyleModel",
      "state": {
       "description_width": ""
      }
     },
     "0f17c5d34096441c922af1f84d8bb6e6": {
      "model_module": "@jupyter-widgets/controls",
      "model_module_version": "1.5.0",
      "model_name": "DescriptionStyleModel",
      "state": {
       "description_width": ""
      }
     },
     "0f7d722d9059467ca474d58f2c968c93": {
      "model_module": "@jupyter-widgets/controls",
      "model_module_version": "1.5.0",
      "model_name": "FloatProgressModel",
      "state": {
       "bar_style": "danger",
       "layout": "IPY_MODEL_2f5bd86b56cd404998d184024176106e",
       "max": 1,
       "style": "IPY_MODEL_3cc79dee37da4c95a9c40c03a98e4c75",
       "value": 1
      }
     },
     "0fd646c4126d4990a37c03e11b67bf94": {
      "model_module": "@jupyter-widgets/controls",
      "model_module_version": "1.5.0",
      "model_name": "HBoxModel",
      "state": {
       "children": [
        "IPY_MODEL_0aa99cc53e3948aca6a834db4b9790a2",
        "IPY_MODEL_5ce1540607394a94abc0242c477b57a8",
        "IPY_MODEL_76995bb3c0c84da384cf421174d45aaa"
       ],
       "layout": "IPY_MODEL_a1c4a726e769498391537f167215f98e"
      }
     },
     "0fe87ca0b73d44ffbca9f91bd14c5d1e": {
      "model_module": "@jupyter-widgets/controls",
      "model_module_version": "1.5.0",
      "model_name": "FloatProgressModel",
      "state": {
       "bar_style": "danger",
       "layout": "IPY_MODEL_36b9daeda2eb4ba4bcd5e9031fae4153",
       "max": 1,
       "style": "IPY_MODEL_2aa06d8e5b9f4340bf5416de49ebbdbb",
       "value": 1
      }
     },
     "10de699a82fe46a892aaddac7a9497a0": {
      "model_module": "@jupyter-widgets/controls",
      "model_module_version": "1.5.0",
      "model_name": "HBoxModel",
      "state": {
       "children": [
        "IPY_MODEL_a83e1689df4d49f08fdcba782cc6851e",
        "IPY_MODEL_82077af155ea4837891f9cf5003532e2",
        "IPY_MODEL_31486d1125444390aa49e65b3bcb116a"
       ],
       "layout": "IPY_MODEL_b5aa370b4dba4adfa5c6ee2fa138e874"
      }
     },
     "111986f640b24a94af0ba7acf0421c78": {
      "model_module": "@jupyter-widgets/controls",
      "model_module_version": "1.5.0",
      "model_name": "HTMLModel",
      "state": {
       "layout": "IPY_MODEL_5042e525cdcd4d75ba36d0acb748da09",
       "style": "IPY_MODEL_95d74dcd8500469ab961a2d9d13a63b3",
       "value": " 35/? [00:00&lt;00:00, 39.07it/s]"
      }
     },
     "111c3d7792b04dccad175327ac4e112b": {
      "model_module": "@jupyter-widgets/controls",
      "model_module_version": "1.5.0",
      "model_name": "ProgressStyleModel",
      "state": {
       "description_width": ""
      }
     },
     "113a03c14aa54b5d9c24a84b8c52f31c": {
      "model_module": "@jupyter-widgets/controls",
      "model_module_version": "1.5.0",
      "model_name": "DescriptionStyleModel",
      "state": {
       "description_width": ""
      }
     },
     "116458ab0eda44a49d999dec868ca230": {
      "model_module": "@jupyter-widgets/controls",
      "model_module_version": "1.5.0",
      "model_name": "DescriptionStyleModel",
      "state": {
       "description_width": ""
      }
     },
     "11b14705f7784ab4938f8f81f46ab6b7": {
      "model_module": "@jupyter-widgets/controls",
      "model_module_version": "1.5.0",
      "model_name": "HBoxModel",
      "state": {
       "children": [
        "IPY_MODEL_48bd3bddd9784b29b0a1bc09212fbc92",
        "IPY_MODEL_9f7fb3a93a11489ea40c151351f7f2af",
        "IPY_MODEL_d489c3946dc84450a40ed8dac911e0be"
       ],
       "layout": "IPY_MODEL_5294aef2a8f449d2922c1bcf3dcdabb3"
      }
     },
     "11b20d090a3e429887a0592762defdfb": {
      "model_module": "@jupyter-widgets/base",
      "model_module_version": "1.2.0",
      "model_name": "LayoutModel",
      "state": {
       "display": "none",
       "height": "auto",
       "width": "-webkit-fill-available"
      }
     },
     "127196da23ac47eb9edee04303650dc0": {
      "model_module": "@jupyter-widgets/base",
      "model_module_version": "1.2.0",
      "model_name": "LayoutModel",
      "state": {}
     },
     "1275a2a6514b4311a496ad5a6153aa76": {
      "model_module": "@jupyter-widgets/controls",
      "model_module_version": "1.5.0",
      "model_name": "ProgressStyleModel",
      "state": {
       "description_width": ""
      }
     },
     "137e0872bbe94a869b95ef2f97b60d39": {
      "model_module": "@jupyter-widgets/base",
      "model_module_version": "1.2.0",
      "model_name": "LayoutModel",
      "state": {}
     },
     "13e176a1709d4ba7a402f50589281e08": {
      "model_module": "@jupyter-widgets/controls",
      "model_module_version": "1.5.0",
      "model_name": "DescriptionStyleModel",
      "state": {
       "description_width": ""
      }
     },
     "140f46a573d64922b62e963a4dc9fe37": {
      "model_module": "@jupyter-widgets/controls",
      "model_module_version": "1.5.0",
      "model_name": "HTMLModel",
      "state": {
       "layout": "IPY_MODEL_370bc7a533944428bfc49bd4d16aab28",
       "style": "IPY_MODEL_0c08feb84b9f4ca1aa8b12f64cf507fd",
       "value": "<style>img.pixelated {image-rendering: pixelated;}</style>"
      }
     },
     "14757dafd7ef4162b9d3ca34e7547d5d": {
      "model_module": "@jupyter-widgets/controls",
      "model_module_version": "1.5.0",
      "model_name": "HBoxModel",
      "state": {
       "children": [
        "IPY_MODEL_53f528a8b6fb4c6eb2fb8a6f9d5f7dd4",
        "IPY_MODEL_3ee2dbcbd8484e8ba6347d5078b11ed8",
        "IPY_MODEL_a15331de920941b3a24a7c67c3b6af54"
       ],
       "layout": "IPY_MODEL_8b1c0cf934454a66a5fdd5135f0540cb"
      }
     },
     "15069a65f50848bd9ca9820362f1fdd1": {
      "model_module": "@jupyter-widgets/controls",
      "model_module_version": "1.5.0",
      "model_name": "DescriptionStyleModel",
      "state": {
       "description_width": ""
      }
     },
     "15f8647de3e44d72b13d8dc488c0ff2d": {
      "model_module": "@jupyter-widgets/controls",
      "model_module_version": "1.5.0",
      "model_name": "FloatProgressModel",
      "state": {
       "bar_style": "danger",
       "layout": "IPY_MODEL_b34ce8bf8f854541b64c2aea380237ca",
       "max": 1,
       "style": "IPY_MODEL_478c35f43e6044f4887d6d74e6cdbea0",
       "value": 1
      }
     },
     "16381bd103bf42938c8bea6fa994b779": {
      "model_module": "@jupyter-widgets/controls",
      "model_module_version": "1.5.0",
      "model_name": "DescriptionStyleModel",
      "state": {
       "description_width": ""
      }
     },
     "165b134b595b4a27bdeb0d0a294eb422": {
      "model_module": "@jupyter-widgets/controls",
      "model_module_version": "1.5.0",
      "model_name": "ImageModel",
      "state": {
       "_dom_classes": [
        "pixelated"
       ],
       "layout": "IPY_MODEL_59132dadfc964bb6b53621309544a5f5"
      }
     },
     "17607084fb434e9a96d598030c0c8af1": {
      "model_module": "@jupyter-widgets/controls",
      "model_module_version": "1.5.0",
      "model_name": "DescriptionStyleModel",
      "state": {
       "description_width": ""
      }
     },
     "1873d6536cf743959117037240e90658": {
      "model_module": "@jupyter-widgets/controls",
      "model_module_version": "1.5.0",
      "model_name": "HTMLModel",
      "state": {
       "layout": "IPY_MODEL_e6a42d148731436fbbda88d7685c663c",
       "style": "IPY_MODEL_3bb0d09e149a4478a6529054480d4bca",
       "value": " 35/? [00:01&lt;00:00, 34.75it/s]"
      }
     },
     "188a173e3f7a425e97efee7f49bb7910": {
      "model_module": "@jupyter-widgets/controls",
      "model_module_version": "1.5.0",
      "model_name": "TextModel",
      "state": {
       "description": "Stalled:",
       "layout": "IPY_MODEL_8e6553def66a4bac9e0c6be3d94fc772",
       "style": "IPY_MODEL_43200880a9ca4f09a540c785bae0c171",
       "value": "False"
      }
     },
     "18948172a2b84e0e9d7a62634a64042c": {
      "model_module": "@jupyter-widgets/controls",
      "model_module_version": "1.5.0",
      "model_name": "DescriptionStyleModel",
      "state": {
       "description_width": ""
      }
     },
     "1895506c405a4281b2233e7049df096d": {
      "model_module": "@jupyter-widgets/controls",
      "model_module_version": "1.5.0",
      "model_name": "DescriptionStyleModel",
      "state": {
       "description_width": ""
      }
     },
     "18d8acfa1abd425c9219d5b39a2f150c": {
      "model_module": "@jupyter-widgets/controls",
      "model_module_version": "1.5.0",
      "model_name": "HBoxModel",
      "state": {
       "children": [
        "IPY_MODEL_c23ffacde5044bb4b6d034f0ae0ba530",
        "IPY_MODEL_eac8ea190e2b40359ff994bccecfb114",
        "IPY_MODEL_7cba5987b86a4e0fa5d5b34ce7f7a206"
       ],
       "layout": "IPY_MODEL_fc9ffe14fe704f89bd531a6faaedf129"
      }
     },
     "18ddf20e4d7d4734b7926d9169c09796": {
      "model_module": "@jupyter-widgets/controls",
      "model_module_version": "1.5.0",
      "model_name": "HTMLModel",
      "state": {
       "layout": "IPY_MODEL_c3f40d5ba2024d999f5ecdf681a1447b",
       "style": "IPY_MODEL_ac89d140623e4e5b8d19ea97b8414f30"
      }
     },
     "1908fe522ff5430b91263b415f6cce87": {
      "model_module": "@jupyter-widgets/base",
      "model_module_version": "1.2.0",
      "model_name": "LayoutModel",
      "state": {
       "width": "20px"
      }
     },
     "197faf4c324d4a069234d9c1fe7dd68d": {
      "model_module": "@jupyter-widgets/base",
      "model_module_version": "1.2.0",
      "model_name": "LayoutModel",
      "state": {
       "width": "20px"
      }
     },
     "19d3ac96d721495fa882f9b1eef96000": {
      "model_module": "@jupyter-widgets/controls",
      "model_module_version": "1.5.0",
      "model_name": "DescriptionStyleModel",
      "state": {
       "description_width": ""
      }
     },
     "19f17a91d1114f3c8a5218aa392144c0": {
      "model_module": "@jupyter-widgets/controls",
      "model_module_version": "1.5.0",
      "model_name": "DescriptionStyleModel",
      "state": {
       "description_width": ""
      }
     },
     "1a1409c4f69241b7a0e158180579e66d": {
      "model_module": "@jupyter-widgets/controls",
      "model_module_version": "1.5.0",
      "model_name": "FloatProgressModel",
      "state": {
       "bar_style": "danger",
       "layout": "IPY_MODEL_2fd52e2e7a6f4898ac687d54a8e327bb",
       "max": 1,
       "style": "IPY_MODEL_de1f5e6b06db41afa36951179a8934e8",
       "value": 1
      }
     },
     "1aef281bf4f143c5be5f037078c071dd": {
      "model_module": "@jupyter-widgets/base",
      "model_module_version": "1.2.0",
      "model_name": "LayoutModel",
      "state": {}
     },
     "1af5117e37864254907fa2b8998f467f": {
      "model_module": "@jupyter-widgets/controls",
      "model_module_version": "1.5.0",
      "model_name": "TextModel",
      "state": {
       "description": "Rotate vel:",
       "layout": "IPY_MODEL_6ae047b85403435f9e2af30685a4be94",
       "style": "IPY_MODEL_566d176322c34e008356f175271cf3a9",
       "value": "0.09680001879885008"
      }
     },
     "1b2cc15cfcdb47a489b0352f92add9e4": {
      "model_module": "@jupyter-widgets/controls",
      "model_module_version": "1.5.0",
      "model_name": "TextModel",
      "state": {
       "description": "Rotate vel:",
       "layout": "IPY_MODEL_a60bb10efcd64f3492025f9381dee7ae",
       "style": "IPY_MODEL_1cce9910fdb94d8aaeee070928d4e553",
       "value": "-0.5161056985249022"
      }
     },
     "1baea9877a7749a6977023e8a452df87": {
      "model_module": "@jupyter-widgets/base",
      "model_module_version": "1.2.0",
      "model_name": "LayoutModel",
      "state": {}
     },
     "1c4bbdb3f18c4a8b8bef9d0395b7a608": {
      "model_module": "@jupyter-widgets/controls",
      "model_module_version": "1.5.0",
      "model_name": "HTMLModel",
      "state": {
       "layout": "IPY_MODEL_0c765d8a02014db79475b06342b18ebc",
       "style": "IPY_MODEL_1e971d022a16432d8730d50a67910de2",
       "value": " 35/? [00:00&lt;00:00, 36.42it/s]"
      }
     },
     "1c8d3fc487784107a5b4894f492c2e71": {
      "model_module": "@jupyter-widgets/controls",
      "model_module_version": "1.5.0",
      "model_name": "FloatProgressModel",
      "state": {
       "bar_style": "danger",
       "layout": "IPY_MODEL_241775c0d5c349fda06d8a30b517ffec",
       "max": 1,
       "style": "IPY_MODEL_7931f61d929e443d8b552fc6fc337f5e",
       "value": 1
      }
     },
     "1cce9910fdb94d8aaeee070928d4e553": {
      "model_module": "@jupyter-widgets/controls",
      "model_module_version": "1.5.0",
      "model_name": "DescriptionStyleModel",
      "state": {
       "description_width": ""
      }
     },
     "1d12835c151948b693bbe5291848444e": {
      "model_module": "@jupyter-widgets/base",
      "model_module_version": "1.2.0",
      "model_name": "LayoutModel",
      "state": {}
     },
     "1d6c147cb179450fa4cdcf2f30384e06": {
      "model_module": "@jupyter-widgets/controls",
      "model_module_version": "1.5.0",
      "model_name": "FloatProgressModel",
      "state": {
       "bar_style": "danger",
       "layout": "IPY_MODEL_017fa0e5ddd746d28ca82caf3d6fedf9",
       "max": 1,
       "style": "IPY_MODEL_40ca8140160f46e69526ee20cd9df6bd",
       "value": 1
      }
     },
     "1e18b54598584fccb4ddd9cf521431a2": {
      "model_module": "@jupyter-widgets/base",
      "model_module_version": "1.2.0",
      "model_name": "LayoutModel",
      "state": {
       "width": "20px"
      }
     },
     "1e22537c54454562883f7db077a9e1c4": {
      "model_module": "@jupyter-widgets/base",
      "model_module_version": "1.2.0",
      "model_name": "LayoutModel",
      "state": {}
     },
     "1e3cbf3551874578be3b0a5b4849068a": {
      "model_module": "@jupyter-widgets/controls",
      "model_module_version": "1.5.0",
      "model_name": "TextareaModel",
      "state": {
       "description": "State:",
       "layout": "IPY_MODEL_f03804a20be2470d882a2074c95267a5",
       "style": "IPY_MODEL_76ccfd729e18443f9f8ec6276bf3857a",
       "value": "{}"
      }
     },
     "1e502c83306c42ce8c0afa4069522087": {
      "model_module": "@jupyter-widgets/controls",
      "model_module_version": "1.5.0",
      "model_name": "DescriptionStyleModel",
      "state": {
       "description_width": ""
      }
     },
     "1e971d022a16432d8730d50a67910de2": {
      "model_module": "@jupyter-widgets/controls",
      "model_module_version": "1.5.0",
      "model_name": "DescriptionStyleModel",
      "state": {
       "description_width": ""
      }
     },
     "1ed35376242544e090f666a5d0cbad29": {
      "model_module": "@jupyter-widgets/base",
      "model_module_version": "1.2.0",
      "model_name": "LayoutModel",
      "state": {}
     },
     "1eff12fb853548a0bddd3702b47b45eb": {
      "model_module": "@jupyter-widgets/base",
      "model_module_version": "1.2.0",
      "model_name": "LayoutModel",
      "state": {}
     },
     "1f10048d4d9a4e25aae8891ddecd38ea": {
      "model_module": "@jupyter-widgets/controls",
      "model_module_version": "1.5.0",
      "model_name": "ProgressStyleModel",
      "state": {
       "description_width": ""
      }
     },
     "1f4270a9d9f44075ba447351079f7c13": {
      "model_module": "@jupyter-widgets/base",
      "model_module_version": "1.2.0",
      "model_name": "LayoutModel",
      "state": {
       "width": "20px"
      }
     },
     "1f97391418764871936baa53aae248f6": {
      "model_module": "@jupyter-widgets/base",
      "model_module_version": "1.2.0",
      "model_name": "LayoutModel",
      "state": {}
     },
     "1fe16d2e56e24426be9da9414e470a4d": {
      "model_module": "@jupyter-widgets/base",
      "model_module_version": "1.2.0",
      "model_name": "LayoutModel",
      "state": {
       "width": "20px"
      }
     },
     "201fe707552940deb00716f5d17c70aa": {
      "model_module": "@jupyter-widgets/base",
      "model_module_version": "1.2.0",
      "model_name": "LayoutModel",
      "state": {}
     },
     "206a4b41af6b43d297efb925ad613c42": {
      "model_module": "@jupyter-widgets/base",
      "model_module_version": "1.2.0",
      "model_name": "LayoutModel",
      "state": {}
     },
     "218108f583054ea1b992cdf086b46d3f": {
      "model_module": "@jupyter-widgets/controls",
      "model_module_version": "1.5.0",
      "model_name": "HTMLModel",
      "state": {
       "layout": "IPY_MODEL_5d0e16b74f144184a1b4b198ae2e8469",
       "style": "IPY_MODEL_a417355f4bac4c4591bfd04e818b9a97"
      }
     },
     "21951a4d6b074fbeb888fb569120d90e": {
      "model_module": "@jupyter-widgets/controls",
      "model_module_version": "1.5.0",
      "model_name": "DescriptionStyleModel",
      "state": {
       "description_width": ""
      }
     },
     "21a3af0320d545e88276e7e53fea1c05": {
      "model_module": "@jupyter-widgets/base",
      "model_module_version": "1.2.0",
      "model_name": "LayoutModel",
      "state": {}
     },
     "21af61e1038d484c84adbcdfba155e57": {
      "model_module": "@jupyter-widgets/controls",
      "model_module_version": "1.5.0",
      "model_name": "DescriptionStyleModel",
      "state": {
       "description_width": ""
      }
     },
     "21b36f8e1960458490ab32625ec27681": {
      "model_module": "@jupyter-widgets/controls",
      "model_module_version": "1.5.0",
      "model_name": "HTMLModel",
      "state": {
       "layout": "IPY_MODEL_a0a9f0dde4e3444ea797c49660b1f960",
       "style": "IPY_MODEL_6c1bf76c4241440090e6a8d50596077b",
       "value": "<style>img.pixelated {image-rendering: pixelated;}</style>"
      }
     },
     "21b94b9e868140a6af6da3c7763219b0": {
      "model_module": "@jupyter-widgets/controls",
      "model_module_version": "1.5.0",
      "model_name": "DescriptionStyleModel",
      "state": {
       "description_width": ""
      }
     },
     "224c007a848446e38a3fa7adc17af63d": {
      "model_module": "@jupyter-widgets/controls",
      "model_module_version": "1.5.0",
      "model_name": "HTMLModel",
      "state": {
       "layout": "IPY_MODEL_1aef281bf4f143c5be5f037078c071dd",
       "style": "IPY_MODEL_15069a65f50848bd9ca9820362f1fdd1"
      }
     },
     "2331096ad65e4a8bb95b9c104d138967": {
      "model_module": "@jupyter-widgets/base",
      "model_module_version": "1.2.0",
      "model_name": "LayoutModel",
      "state": {
       "width": "20px"
      }
     },
     "23a0e2cd0abb44b99d88d83bcad387a2": {
      "model_module": "@jupyter-widgets/base",
      "model_module_version": "1.2.0",
      "model_name": "LayoutModel",
      "state": {
       "width": "20px"
      }
     },
     "23e85321f2fd4febb884e39229473e02": {
      "model_module": "@jupyter-widgets/controls",
      "model_module_version": "1.5.0",
      "model_name": "DescriptionStyleModel",
      "state": {
       "description_width": ""
      }
     },
     "23fa1c2f94c1455491c2a9414f673f4b": {
      "model_module": "@jupyter-widgets/base",
      "model_module_version": "1.2.0",
      "model_name": "LayoutModel",
      "state": {}
     },
     "241775c0d5c349fda06d8a30b517ffec": {
      "model_module": "@jupyter-widgets/base",
      "model_module_version": "1.2.0",
      "model_name": "LayoutModel",
      "state": {
       "width": "20px"
      }
     },
     "241b312fdbe84c48b4ca4361919f01c8": {
      "model_module": "@jupyter-widgets/base",
      "model_module_version": "1.2.0",
      "model_name": "LayoutModel",
      "state": {}
     },
     "247a70091b744589843dd785bb7ca8f7": {
      "model_module": "@jupyter-widgets/controls",
      "model_module_version": "1.5.0",
      "model_name": "ProgressStyleModel",
      "state": {
       "description_width": ""
      }
     },
     "24c3df6d495340dc84eab65c6b6a92e8": {
      "model_module": "@jupyter-widgets/controls",
      "model_module_version": "1.5.0",
      "model_name": "HTMLModel",
      "state": {
       "layout": "IPY_MODEL_48c8106b0b4a4c489a252c264dcea145",
       "style": "IPY_MODEL_aba5c66a78d34ffea8eaa68535a39e92"
      }
     },
     "24fe9f60f4b9494aa3ce8a33029b8b8b": {
      "model_module": "@jupyter-widgets/controls",
      "model_module_version": "1.5.0",
      "model_name": "FloatProgressModel",
      "state": {
       "bar_style": "danger",
       "layout": "IPY_MODEL_6a855793e3724d2f86de681dd244e1ad",
       "max": 1,
       "style": "IPY_MODEL_7cad0a5cea594079b3405088701dd526",
       "value": 1
      }
     },
     "2544c73660404cad988e123dadb7ff84": {
      "model_module": "@jupyter-widgets/base",
      "model_module_version": "1.2.0",
      "model_name": "LayoutModel",
      "state": {}
     },
     "25acf707759d42eb94b9faa7404759df": {
      "model_module": "@jupyter-widgets/controls",
      "model_module_version": "1.5.0",
      "model_name": "HTMLModel",
      "state": {
       "layout": "IPY_MODEL_ffa9c6f2b7aa4bdc9eb828a23ebfa9ee",
       "style": "IPY_MODEL_3196397a259c4cf8813b8363d84e932d",
       "value": " 35/? [00:00&lt;00:00, 36.89it/s]"
      }
     },
     "25cb581299dc417dbe02a7ef017550ff": {
      "model_module": "@jupyter-widgets/controls",
      "model_module_version": "1.5.0",
      "model_name": "HTMLModel",
      "state": {
       "layout": "IPY_MODEL_88430d42133e49998cf52e67d26e7e93",
       "style": "IPY_MODEL_e15891d4dbb7465fabc53a558c7d5887"
      }
     },
     "25f8f851a94143539edee0f71fc97a54": {
      "buffers": [
       {
        "data": "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",
        "encoding": "base64",
        "path": [
         "value"
        ]
       }
      ],
      "model_module": "@jupyter-widgets/controls",
      "model_module_version": "1.5.0",
      "model_name": "ImageModel",
      "state": {
       "layout": "IPY_MODEL_9fd1682f3b5b477eb888ce1730832441"
      }
     },
     "262e1d23dc1d497ea4a5cddc793dbf39": {
      "model_module": "@jupyter-widgets/controls",
      "model_module_version": "1.5.0",
      "model_name": "FloatProgressModel",
      "state": {
       "bar_style": "danger",
       "layout": "IPY_MODEL_9db574c6603944189e34d7009d25ad23",
       "max": 1,
       "style": "IPY_MODEL_afdfbc2ede4b4c059ae04e0994d8b1df",
       "value": 1
      }
     },
     "262fbf5c10934f68b12ab5f2bdf6b8a1": {
      "model_module": "@jupyter-widgets/controls",
      "model_module_version": "1.5.0",
      "model_name": "DescriptionStyleModel",
      "state": {
       "description_width": ""
      }
     },
     "269407f9019c44e5aed350d986129bdc": {
      "model_module": "@jupyter-widgets/base",
      "model_module_version": "1.2.0",
      "model_name": "LayoutModel",
      "state": {}
     },
     "26a80696877244959a70ec9b8eab9df2": {
      "model_module": "@jupyter-widgets/base",
      "model_module_version": "1.2.0",
      "model_name": "LayoutModel",
      "state": {}
     },
     "26acd7289a334908a43dd0ced5208163": {
      "model_module": "@jupyter-widgets/controls",
      "model_module_version": "1.5.0",
      "model_name": "TextareaModel",
      "state": {
       "description": "State:",
       "layout": "IPY_MODEL_eba9d041f5d5438cb11d11d670d7c2fb",
       "style": "IPY_MODEL_3236853a02914613a600b0463902891b",
       "value": "{}"
      }
     },
     "2751fbbc1d0d4f2da2b42bd513ef3582": {
      "model_module": "@jupyter-widgets/controls",
      "model_module_version": "1.5.0",
      "model_name": "FloatProgressModel",
      "state": {
       "bar_style": "danger",
       "layout": "IPY_MODEL_b233612bf680469d82ff7829fc379d8e",
       "max": 1,
       "style": "IPY_MODEL_83714da292bb4404b84384ab60a43648",
       "value": 1
      }
     },
     "2877dd7ceb924fb1a8125a4dfdf4bb6e": {
      "model_module": "@jupyter-widgets/controls",
      "model_module_version": "1.5.0",
      "model_name": "TextModel",
      "state": {
       "description": "Rotate vel:",
       "layout": "IPY_MODEL_c5d1899d2a9a4958a2ae03178f801368",
       "style": "IPY_MODEL_52df0d39bc024ff9bb53ef6b829e5570",
       "value": "0.1320905982603559"
      }
     },
     "28814b872c60423fa5162f49e9dc3c8f": {
      "model_module": "@jupyter-widgets/controls",
      "model_module_version": "1.5.0",
      "model_name": "DescriptionStyleModel",
      "state": {
       "description_width": ""
      }
     },
     "2894044e18134691bb34abb346b574e8": {
      "model_module": "@jupyter-widgets/controls",
      "model_module_version": "1.5.0",
      "model_name": "HTMLModel",
      "state": {
       "layout": "IPY_MODEL_3c70fde2925c4384b67af27c3b99f94a",
       "style": "IPY_MODEL_ff0c84cf6c734d6a9443bb45ef89b594"
      }
     },
     "28ebb1e3223f43c08d87e16d289bfde4": {
      "model_module": "@jupyter-widgets/controls",
      "model_module_version": "1.5.0",
      "model_name": "DescriptionStyleModel",
      "state": {
       "description_width": ""
      }
     },
     "2904a2c6383b4523b5b557340366334f": {
      "model_module": "@jupyter-widgets/controls",
      "model_module_version": "1.5.0",
      "model_name": "HTMLModel",
      "state": {
       "layout": "IPY_MODEL_9c3d4c468a4d4c42ada7dbe7030972e2",
       "style": "IPY_MODEL_a7b51a36f7db44b8a1a53fff565b51cc"
      }
     },
     "290feaa706d148e2a0e68e5f4dba7b6e": {
      "model_module": "@jupyter-widgets/controls",
      "model_module_version": "1.5.0",
      "model_name": "ProgressStyleModel",
      "state": {
       "description_width": ""
      }
     },
     "29b81a75590c40baa59df8ddd6667291": {
      "model_module": "@jupyter-widgets/base",
      "model_module_version": "1.2.0",
      "model_name": "LayoutModel",
      "state": {}
     },
     "29fba55e8ab840cc9f75152910a23f95": {
      "model_module": "@jupyter-widgets/controls",
      "model_module_version": "1.5.0",
      "model_name": "ProgressStyleModel",
      "state": {
       "description_width": ""
      }
     },
     "2a2773e50fa84f37836a5f2801bf2d68": {
      "model_module": "@jupyter-widgets/controls",
      "model_module_version": "1.5.0",
      "model_name": "ProgressStyleModel",
      "state": {
       "description_width": ""
      }
     },
     "2a3aabd81ea147b78295af83a143070c": {
      "model_module": "@jupyter-widgets/controls",
      "model_module_version": "1.5.0",
      "model_name": "HTMLModel",
      "state": {
       "layout": "IPY_MODEL_8d624e0ecd9a4820acd54835b2b69bc6",
       "style": "IPY_MODEL_0344903c594240fbb7cd5e0f059fb1a8",
       "value": " 35/? [00:00&lt;00:00, 37.83it/s]"
      }
     },
     "2aa02b230f254fd086f36d12f911d866": {
      "model_module": "@jupyter-widgets/base",
      "model_module_version": "1.2.0",
      "model_name": "LayoutModel",
      "state": {}
     },
     "2aa06d8e5b9f4340bf5416de49ebbdbb": {
      "model_module": "@jupyter-widgets/controls",
      "model_module_version": "1.5.0",
      "model_name": "ProgressStyleModel",
      "state": {
       "description_width": ""
      }
     },
     "2ad3701c6c2244e79627f6a91652d6cb": {
      "model_module": "@jupyter-widgets/controls",
      "model_module_version": "1.5.0",
      "model_name": "DescriptionStyleModel",
      "state": {
       "description_width": ""
      }
     },
     "2b14495eb7e64a2db76c918fb4aeee96": {
      "model_module": "@jupyter-widgets/base",
      "model_module_version": "1.2.0",
      "model_name": "LayoutModel",
      "state": {
       "border": "10px solid rgb(0 177 255)",
       "margin": "auto"
      }
     },
     "2b3c965088284b53b22ea5b894bfc294": {
      "model_module": "@jupyter-widgets/base",
      "model_module_version": "1.2.0",
      "model_name": "LayoutModel",
      "state": {}
     },
     "2b44c7c2239840c5a19ca02fce64025c": {
      "model_module": "@jupyter-widgets/controls",
      "model_module_version": "1.5.0",
      "model_name": "HTMLModel",
      "state": {
       "layout": "IPY_MODEL_5869ac35f1d54fdb86d555ad88273f5e",
       "style": "IPY_MODEL_116458ab0eda44a49d999dec868ca230",
       "value": " 35/? [00:00&lt;00:00, 39.32it/s]"
      }
     },
     "2b743797f7c24157ae8fd1b052c74bbb": {
      "model_module": "@jupyter-widgets/controls",
      "model_module_version": "1.5.0",
      "model_name": "DescriptionStyleModel",
      "state": {
       "description_width": ""
      }
     },
     "2c9ccddfa08e4241b87658bc6da3ff2c": {
      "model_module": "@jupyter-widgets/base",
      "model_module_version": "1.2.0",
      "model_name": "LayoutModel",
      "state": {}
     },
     "2cb9a6eda5f54857b291e6f7943ae608": {
      "model_module": "@jupyter-widgets/base",
      "model_module_version": "1.2.0",
      "model_name": "LayoutModel",
      "state": {
       "display": "flex"
      }
     },
     "2dbae986a5e54a5ab0c09c802c7b34df": {
      "model_module": "@jupyter-widgets/controls",
      "model_module_version": "1.5.0",
      "model_name": "DescriptionStyleModel",
      "state": {
       "description_width": ""
      }
     },
     "2e2a93e4f2e74d23b4d9265d767e5265": {
      "model_module": "@jupyter-widgets/controls",
      "model_module_version": "1.5.0",
      "model_name": "TextModel",
      "state": {
       "description": "A:",
       "layout": "IPY_MODEL_c4419c5e057f40789ebbd7f63993f579",
       "style": "IPY_MODEL_88106870e9a04d3a95f4cc4c4cb67c92",
       "value": "0.01750868276841843"
      }
     },
     "2e7e42dfe174425eb9d0af09bdb8b3a2": {
      "model_module": "@jupyter-widgets/controls",
      "model_module_version": "1.5.0",
      "model_name": "FloatProgressModel",
      "state": {
       "bar_style": "danger",
       "layout": "IPY_MODEL_35bf475aa2e94ae2914aa6d582b7f7a2",
       "max": 1,
       "style": "IPY_MODEL_6cea4b0939304947b13bd9a9c906e7eb",
       "value": 1
      }
     },
     "2e9b99c8f8c54bb0bf9f17b31dee9fd0": {
      "model_module": "@jupyter-widgets/base",
      "model_module_version": "1.2.0",
      "model_name": "LayoutModel",
      "state": {}
     },
     "2ee385c4e9b04c94a2beb6e4ca492fc1": {
      "model_module": "@jupyter-widgets/controls",
      "model_module_version": "1.5.0",
      "model_name": "DescriptionStyleModel",
      "state": {
       "description_width": ""
      }
     },
     "2f5bd86b56cd404998d184024176106e": {
      "model_module": "@jupyter-widgets/base",
      "model_module_version": "1.2.0",
      "model_name": "LayoutModel",
      "state": {
       "width": "20px"
      }
     },
     "2f95180503354059bcc9dc2524981721": {
      "model_module": "@jupyter-widgets/base",
      "model_module_version": "1.2.0",
      "model_name": "LayoutModel",
      "state": {}
     },
     "2f962d224a54461c9ba4e1ef98830ff0": {
      "model_module": "@jupyter-widgets/controls",
      "model_module_version": "1.5.0",
      "model_name": "FloatProgressModel",
      "state": {
       "bar_style": "danger",
       "layout": "IPY_MODEL_5b700cd2538f493d9f8667fee2225e84",
       "max": 1,
       "style": "IPY_MODEL_36587555ad914f4b853e791e68c2783d",
       "value": 1
      }
     },
     "2fd52e2e7a6f4898ac687d54a8e327bb": {
      "model_module": "@jupyter-widgets/base",
      "model_module_version": "1.2.0",
      "model_name": "LayoutModel",
      "state": {
       "width": "20px"
      }
     },
     "305dfbc52828413b8398c858e3a15aaf": {
      "model_module": "@jupyter-widgets/controls",
      "model_module_version": "1.5.0",
      "model_name": "TextModel",
      "state": {
       "description": "Y:",
       "layout": "IPY_MODEL_5c9d4ab8232e4e028ca88324ab83b1b6",
       "style": "IPY_MODEL_1895506c405a4281b2233e7049df096d",
       "value": "0"
      }
     },
     "31486d1125444390aa49e65b3bcb116a": {
      "model_module": "@jupyter-widgets/controls",
      "model_module_version": "1.5.0",
      "model_name": "HTMLModel",
      "state": {
       "layout": "IPY_MODEL_4f61b0f1b93e4de6a44efcc754420072",
       "style": "IPY_MODEL_fc605eb0950d4ef98de9bba834e3a8a1",
       "value": " 35/? [00:00&lt;00:00, 37.70it/s]"
      }
     },
     "315e3883737844a5b3cef83016b2e2dc": {
      "model_module": "@jupyter-widgets/controls",
      "model_module_version": "1.5.0",
      "model_name": "DescriptionStyleModel",
      "state": {
       "description_width": ""
      }
     },
     "3180dd81182c483ebfc2cd541fca49ef": {
      "model_module": "@jupyter-widgets/base",
      "model_module_version": "1.2.0",
      "model_name": "LayoutModel",
      "state": {}
     },
     "3196397a259c4cf8813b8363d84e932d": {
      "model_module": "@jupyter-widgets/controls",
      "model_module_version": "1.5.0",
      "model_name": "DescriptionStyleModel",
      "state": {
       "description_width": ""
      }
     },
     "3236853a02914613a600b0463902891b": {
      "model_module": "@jupyter-widgets/controls",
      "model_module_version": "1.5.0",
      "model_name": "DescriptionStyleModel",
      "state": {
       "description_width": ""
      }
     },
     "3298ab5004ba4db4a4cbc2c0ac2436d5": {
      "model_module": "@jupyter-widgets/base",
      "model_module_version": "1.2.0",
      "model_name": "LayoutModel",
      "state": {}
     },
     "33bf6ce5cefa4756a797e59e727994ca": {
      "model_module": "@jupyter-widgets/base",
      "model_module_version": "1.2.0",
      "model_name": "LayoutModel",
      "state": {
       "width": "20px"
      }
     },
     "34adf52c68eb410b9e53f3c3fb5fd37a": {
      "model_module": "@jupyter-widgets/controls",
      "model_module_version": "1.5.0",
      "model_name": "HTMLModel",
      "state": {
       "layout": "IPY_MODEL_443e6059ff6a430eb36b024738f6b979",
       "style": "IPY_MODEL_262fbf5c10934f68b12ab5f2bdf6b8a1",
       "value": " 35/? [00:00&lt;00:00, 36.51it/s]"
      }
     },
     "350c0019b49f45c4a85ebf422c0cf412": {
      "model_module": "@jupyter-widgets/base",
      "model_module_version": "1.2.0",
      "model_name": "LayoutModel",
      "state": {}
     },
     "357e896c9ce24629a2bdaf7454e2ca19": {
      "model_module": "@jupyter-widgets/controls",
      "model_module_version": "1.5.0",
      "model_name": "DescriptionStyleModel",
      "state": {
       "description_width": ""
      }
     },
     "35bf475aa2e94ae2914aa6d582b7f7a2": {
      "model_module": "@jupyter-widgets/base",
      "model_module_version": "1.2.0",
      "model_name": "LayoutModel",
      "state": {
       "width": "20px"
      }
     },
     "36587555ad914f4b853e791e68c2783d": {
      "model_module": "@jupyter-widgets/controls",
      "model_module_version": "1.5.0",
      "model_name": "ProgressStyleModel",
      "state": {
       "description_width": ""
      }
     },
     "36b9daeda2eb4ba4bcd5e9031fae4153": {
      "model_module": "@jupyter-widgets/base",
      "model_module_version": "1.2.0",
      "model_name": "LayoutModel",
      "state": {
       "width": "20px"
      }
     },
     "36cff951b98d456d87e26e6463acb97a": {
      "model_module": "@jupyter-widgets/base",
      "model_module_version": "1.2.0",
      "model_name": "LayoutModel",
      "state": {
       "display": "flex"
      }
     },
     "370bc7a533944428bfc49bd4d16aab28": {
      "model_module": "@jupyter-widgets/base",
      "model_module_version": "1.2.0",
      "model_name": "LayoutModel",
      "state": {}
     },
     "380fa460da1f4b509a7b55bdeb28e7a2": {
      "model_module": "@jupyter-widgets/controls",
      "model_module_version": "1.5.0",
      "model_name": "HBoxModel",
      "state": {
       "children": [
        "IPY_MODEL_89f8cab927174f7293fedc295a5df2f1",
        "IPY_MODEL_ff497e274e864408ab5a76dcbe45f986",
        "IPY_MODEL_91a208cee28a4670a061deb0b91c8fe2"
       ],
       "layout": "IPY_MODEL_b51bafde692847b6a2861d4756c06595"
      }
     },
     "3876dc9c0cc547aa8016402dc0a8558c": {
      "model_module": "@jupyter-widgets/controls",
      "model_module_version": "1.5.0",
      "model_name": "ProgressStyleModel",
      "state": {
       "description_width": ""
      }
     },
     "3892a68ed6904d5bb7c37d98f831a39c": {
      "model_module": "@jupyter-widgets/base",
      "model_module_version": "1.2.0",
      "model_name": "LayoutModel",
      "state": {
       "width": "20px"
      }
     },
     "38c88c5d7d294bc7bc33deb72e6ddf0f": {
      "model_module": "@jupyter-widgets/base",
      "model_module_version": "1.2.0",
      "model_name": "LayoutModel",
      "state": {}
     },
     "39251c5ca5ff47919816579241870664": {
      "model_module": "@jupyter-widgets/base",
      "model_module_version": "1.2.0",
      "model_name": "LayoutModel",
      "state": {}
     },
     "39640a11fcdf4c41906b1c95a21006e6": {
      "model_module": "@jupyter-widgets/base",
      "model_module_version": "1.2.0",
      "model_name": "LayoutModel",
      "state": {}
     },
     "3975221e823a4fa486597879f71b95db": {
      "model_module": "@jupyter-widgets/base",
      "model_module_version": "1.2.0",
      "model_name": "LayoutModel",
      "state": {}
     },
     "3986f55675fb468f97b046eb99b1b02b": {
      "model_module": "@jupyter-widgets/controls",
      "model_module_version": "1.5.0",
      "model_name": "HTMLModel",
      "state": {
       "layout": "IPY_MODEL_c243f3581b4e4be9b5d2a3849eb4c18f",
       "style": "IPY_MODEL_3c295bcf9429405eab29e79d83d2c5a1",
       "value": " 35/? [00:00&lt;00:00, 37.61it/s]"
      }
     },
     "3a74bebd7667419a948001381083003f": {
      "model_module": "@jupyter-widgets/base",
      "model_module_version": "1.2.0",
      "model_name": "LayoutModel",
      "state": {
       "width": "20px"
      }
     },
     "3abf103c84ab4879859f3c4c5bfa8837": {
      "model_module": "@jupyter-widgets/controls",
      "model_module_version": "1.5.0",
      "model_name": "HTMLModel",
      "state": {
       "layout": "IPY_MODEL_d2696d6cddd54c198f24d9fbaac029f3",
       "style": "IPY_MODEL_5ff117de73e943dc828a14b3bce09a47",
       "value": " 38/? [00:00&lt;00:00, 597.12it/s]"
      }
     },
     "3ac2992678024bf4b8182320abe60338": {
      "model_module": "@jupyter-widgets/controls",
      "model_module_version": "1.5.0",
      "model_name": "HTMLModel",
      "state": {
       "layout": "IPY_MODEL_7a41010fdbdd4604b146317068aa1a87",
       "style": "IPY_MODEL_1e502c83306c42ce8c0afa4069522087"
      }
     },
     "3ac49424b2b94b65a342d692eee02cf6": {
      "model_module": "@jupyter-widgets/controls",
      "model_module_version": "1.5.0",
      "model_name": "HTMLModel",
      "state": {
       "layout": "IPY_MODEL_d5c02120ccbb49a39c5c6866dfef943c",
       "style": "IPY_MODEL_7cf828812a6e42b58420559b355d5efa",
       "value": " 35/? [00:01&lt;00:00, 34.46it/s]"
      }
     },
     "3b1157bbaece42118339fccf42e6125f": {
      "model_module": "@jupyter-widgets/base",
      "model_module_version": "1.2.0",
      "model_name": "LayoutModel",
      "state": {
       "display": "flex"
      }
     },
     "3bb0d09e149a4478a6529054480d4bca": {
      "model_module": "@jupyter-widgets/controls",
      "model_module_version": "1.5.0",
      "model_name": "DescriptionStyleModel",
      "state": {
       "description_width": ""
      }
     },
     "3c295bcf9429405eab29e79d83d2c5a1": {
      "model_module": "@jupyter-widgets/controls",
      "model_module_version": "1.5.0",
      "model_name": "DescriptionStyleModel",
      "state": {
       "description_width": ""
      }
     },
     "3c70fde2925c4384b67af27c3b99f94a": {
      "model_module": "@jupyter-widgets/base",
      "model_module_version": "1.2.0",
      "model_name": "LayoutModel",
      "state": {}
     },
     "3cae5a7ec4534fda84f827d22306d8a7": {
      "model_module": "@jupyter-widgets/controls",
      "model_module_version": "1.5.0",
      "model_name": "FloatProgressModel",
      "state": {
       "bar_style": "danger",
       "layout": "IPY_MODEL_6bec6340fc4a4250bec567cbc5e9c4af",
       "max": 1,
       "style": "IPY_MODEL_5b59ebbd0a10402a90b62731fd2ed72e",
       "value": 1
      }
     },
     "3cc00ca4b38f41b98049b4357f90a0bb": {
      "model_module": "@jupyter-widgets/base",
      "model_module_version": "1.2.0",
      "model_name": "LayoutModel",
      "state": {}
     },
     "3cc79dee37da4c95a9c40c03a98e4c75": {
      "model_module": "@jupyter-widgets/controls",
      "model_module_version": "1.5.0",
      "model_name": "ProgressStyleModel",
      "state": {
       "description_width": ""
      }
     },
     "3d125cac176c4c8dad632947dd655b96": {
      "model_module": "@jupyter-widgets/base",
      "model_module_version": "1.2.0",
      "model_name": "LayoutModel",
      "state": {
       "display": "flex"
      }
     },
     "3d74293be43c40c8afd6518e534f8884": {
      "model_module": "@jupyter-widgets/base",
      "model_module_version": "1.2.0",
      "model_name": "LayoutModel",
      "state": {}
     },
     "3de87dad323e4d718f5d84476b0390c3": {
      "model_module": "@jupyter-widgets/base",
      "model_module_version": "1.2.0",
      "model_name": "LayoutModel",
      "state": {}
     },
     "3eba1339a2dd467b82e27b8ba850dd28": {
      "model_module": "@jupyter-widgets/base",
      "model_module_version": "1.2.0",
      "model_name": "LayoutModel",
      "state": {}
     },
     "3ee2dbcbd8484e8ba6347d5078b11ed8": {
      "model_module": "@jupyter-widgets/controls",
      "model_module_version": "1.5.0",
      "model_name": "FloatProgressModel",
      "state": {
       "bar_style": "danger",
       "layout": "IPY_MODEL_d660b602b00946e4b4c535efbc76aed1",
       "max": 1,
       "style": "IPY_MODEL_1275a2a6514b4311a496ad5a6153aa76",
       "value": 1
      }
     },
     "3f25ec3369ec4869bb3ee45941d2e118": {
      "model_module": "@jupyter-widgets/base",
      "model_module_version": "1.2.0",
      "model_name": "LayoutModel",
      "state": {}
     },
     "3f4b64a3d18e48b8bd727406d4bd01bf": {
      "model_module": "@jupyter-widgets/controls",
      "model_module_version": "1.5.0",
      "model_name": "HBoxModel",
      "state": {
       "children": [
        "IPY_MODEL_464ac3bf85ca4052af4179f64caf9123",
        "IPY_MODEL_bd823aeed24f437b8fddc911029d3e05",
        "IPY_MODEL_743d7bf8c5ff487a9fc8247a558efb3f"
       ],
       "layout": "IPY_MODEL_4a0812fc3f494ae28a7496f7dfcf755a"
      }
     },
     "3f564eb8acbf47869ee03a241063959e": {
      "model_module": "@jupyter-widgets/controls",
      "model_module_version": "1.5.0",
      "model_name": "DescriptionStyleModel",
      "state": {
       "description_width": ""
      }
     },
     "3f69a163ca014686b76e0afd0c4fd273": {
      "model_module": "@jupyter-widgets/controls",
      "model_module_version": "1.5.0",
      "model_name": "DescriptionStyleModel",
      "state": {
       "description_width": ""
      }
     },
     "40ca8140160f46e69526ee20cd9df6bd": {
      "model_module": "@jupyter-widgets/controls",
      "model_module_version": "1.5.0",
      "model_name": "ProgressStyleModel",
      "state": {
       "description_width": ""
      }
     },
     "413127a86a244f5b8fbe31b812efad8a": {
      "model_module": "@jupyter-widgets/controls",
      "model_module_version": "1.5.0",
      "model_name": "FloatProgressModel",
      "state": {
       "bar_style": "danger",
       "layout": "IPY_MODEL_6db40ce154554d048ffff5385f3f5587",
       "max": 1,
       "style": "IPY_MODEL_29fba55e8ab840cc9f75152910a23f95",
       "value": 1
      }
     },
     "4186fa682a664e22b4af8d24cc74451d": {
      "model_module": "@jupyter-widgets/controls",
      "model_module_version": "1.5.0",
      "model_name": "FloatProgressModel",
      "state": {
       "bar_style": "danger",
       "layout": "IPY_MODEL_3a74bebd7667419a948001381083003f",
       "max": 1,
       "style": "IPY_MODEL_9f2473a61ad14597b0e414ee71eb254b",
       "value": 1
      }
     },
     "41ec52760a0344d6bdecb1fc0b6d6af0": {
      "model_module": "@jupyter-widgets/controls",
      "model_module_version": "1.5.0",
      "model_name": "HTMLModel",
      "state": {
       "layout": "IPY_MODEL_92f43b963ec3433090bd71743c290963",
       "style": "IPY_MODEL_90aa1db7118844bdaf3c521c48a221b4",
       "value": " 35/? [00:00&lt;00:00, 39.76it/s]"
      }
     },
     "41ee6b448f9b425a81b1cb482dea81ff": {
      "model_module": "@jupyter-widgets/base",
      "model_module_version": "1.2.0",
      "model_name": "LayoutModel",
      "state": {
       "display": "flex"
      }
     },
     "43200880a9ca4f09a540c785bae0c171": {
      "model_module": "@jupyter-widgets/controls",
      "model_module_version": "1.5.0",
      "model_name": "DescriptionStyleModel",
      "state": {
       "description_width": ""
      }
     },
     "433270838e8c4662ac76ea84f24d302e": {
      "model_module": "@jupyter-widgets/controls",
      "model_module_version": "1.5.0",
      "model_name": "DescriptionStyleModel",
      "state": {
       "description_width": ""
      }
     },
     "4336fb8205484e21951d8b4ea829b02d": {
      "model_module": "@jupyter-widgets/base",
      "model_module_version": "1.2.0",
      "model_name": "LayoutModel",
      "state": {
       "display": "flex"
      }
     },
     "43e8c68d9bf142a4bfeaec564e15af9d": {
      "model_module": "@jupyter-widgets/base",
      "model_module_version": "1.2.0",
      "model_name": "LayoutModel",
      "state": {}
     },
     "443e6059ff6a430eb36b024738f6b979": {
      "model_module": "@jupyter-widgets/base",
      "model_module_version": "1.2.0",
      "model_name": "LayoutModel",
      "state": {}
     },
     "44844e6b45ca411796406508356b7b97": {
      "model_module": "@jupyter-widgets/controls",
      "model_module_version": "1.5.0",
      "model_name": "DescriptionStyleModel",
      "state": {
       "description_width": ""
      }
     },
     "44cc005acd6a4fa9852f970c6cf2373d": {
      "model_module": "@jupyter-widgets/controls",
      "model_module_version": "1.5.0",
      "model_name": "HBoxModel",
      "state": {
       "children": [
        "IPY_MODEL_bce32535f4494383bc195b4529a3a887",
        "IPY_MODEL_467e9fbc78a140348b530250e1632712",
        "IPY_MODEL_3abf103c84ab4879859f3c4c5bfa8837"
       ],
       "layout": "IPY_MODEL_8d416fa1fc7248839d5cbbc06ab9c64f"
      }
     },
     "452416cb71bf46a982b33a57f09fd2a7": {
      "model_module": "@jupyter-widgets/controls",
      "model_module_version": "1.5.0",
      "model_name": "DescriptionStyleModel",
      "state": {
       "description_width": ""
      }
     },
     "453cc9bb45454ad9a24cc4418261e8c4": {
      "model_module": "@jupyter-widgets/controls",
      "model_module_version": "1.5.0",
      "model_name": "HTMLModel",
      "state": {
       "layout": "IPY_MODEL_1e22537c54454562883f7db077a9e1c4",
       "style": "IPY_MODEL_b3107c40f244491fa30e18c414fe375b",
       "value": " 35/? [00:00&lt;00:00, 36.24it/s]"
      }
     },
     "4635adf0d83044bdbd1508a009ad6d54": {
      "model_module": "@jupyter-widgets/controls",
      "model_module_version": "1.5.0",
      "model_name": "DescriptionStyleModel",
      "state": {
       "description_width": ""
      }
     },
     "464ac3bf85ca4052af4179f64caf9123": {
      "model_module": "@jupyter-widgets/controls",
      "model_module_version": "1.5.0",
      "model_name": "HTMLModel",
      "state": {
       "layout": "IPY_MODEL_57008368e7e14b60a9c7b0a5aba23ce7",
       "style": "IPY_MODEL_d4c45454989442659a980170ce9b04ca"
      }
     },
     "467e9fbc78a140348b530250e1632712": {
      "model_module": "@jupyter-widgets/controls",
      "model_module_version": "1.5.0",
      "model_name": "FloatProgressModel",
      "state": {
       "bar_style": "danger",
       "layout": "IPY_MODEL_834fd1c7e0cc42f29537c52dfb377bec",
       "max": 1,
       "style": "IPY_MODEL_ec2624b02bac420dbd401ecce446f7cd",
       "value": 1
      }
     },
     "46fd154417294b56b425698f0eae8cdc": {
      "model_module": "@jupyter-widgets/controls",
      "model_module_version": "1.5.0",
      "model_name": "TextModel",
      "state": {
       "description": "Stalled:",
       "layout": "IPY_MODEL_62f5bc8d9c964158a052cda1070efbca",
       "style": "IPY_MODEL_ef8f7d95b8db46f2bc1b0cf4649da2f1",
       "value": "False"
      }
     },
     "47368b578e624cc5b2d6bc7f6784bc39": {
      "model_module": "@jupyter-widgets/controls",
      "model_module_version": "1.5.0",
      "model_name": "FloatProgressModel",
      "state": {
       "bar_style": "danger",
       "layout": "IPY_MODEL_2331096ad65e4a8bb95b9c104d138967",
       "max": 1,
       "style": "IPY_MODEL_9f85e696f6684ede97ebc992b57e219a",
       "value": 1
      }
     },
     "4738a4999230450a8a6208c452120d68": {
      "model_module": "@jupyter-widgets/controls",
      "model_module_version": "1.5.0",
      "model_name": "HTMLModel",
      "state": {
       "layout": "IPY_MODEL_5314925a753a4fa7905d822ecba52596",
       "style": "IPY_MODEL_452416cb71bf46a982b33a57f09fd2a7"
      }
     },
     "478c35f43e6044f4887d6d74e6cdbea0": {
      "model_module": "@jupyter-widgets/controls",
      "model_module_version": "1.5.0",
      "model_name": "ProgressStyleModel",
      "state": {
       "description_width": ""
      }
     },
     "47a8b9488ab142618119b0c8d2780ac9": {
      "model_module": "@jupyter-widgets/controls",
      "model_module_version": "1.5.0",
      "model_name": "DescriptionStyleModel",
      "state": {
       "description_width": ""
      }
     },
     "47cbd7e45dd9445f8944befbf0b1c13c": {
      "model_module": "@jupyter-widgets/base",
      "model_module_version": "1.2.0",
      "model_name": "LayoutModel",
      "state": {}
     },
     "48bd3bddd9784b29b0a1bc09212fbc92": {
      "model_module": "@jupyter-widgets/controls",
      "model_module_version": "1.5.0",
      "model_name": "HTMLModel",
      "state": {
       "layout": "IPY_MODEL_c7de5303faa14f7da66d47b7a9f84729",
       "style": "IPY_MODEL_e152be977dc64e619e7edc62e9dc2028"
      }
     },
     "48c8106b0b4a4c489a252c264dcea145": {
      "model_module": "@jupyter-widgets/base",
      "model_module_version": "1.2.0",
      "model_name": "LayoutModel",
      "state": {}
     },
     "48ce9043563847909ed8f1a88ff94fee": {
      "model_module": "@jupyter-widgets/controls",
      "model_module_version": "1.5.0",
      "model_name": "HTMLModel",
      "state": {
       "layout": "IPY_MODEL_ec307f3f37f9485da8f5118b81d5646a",
       "style": "IPY_MODEL_fde668d12c2541b7859d3cb13a4854b3",
       "value": " 35/? [00:00&lt;00:00, 34.42it/s]"
      }
     },
     "4967473a21334e70a50767ef38d3dcbf": {
      "model_module": "@jupyter-widgets/controls",
      "model_module_version": "1.5.0",
      "model_name": "DescriptionStyleModel",
      "state": {
       "description_width": ""
      }
     },
     "4968fa41f9e84fb68661e0fdda022cc4": {
      "model_module": "@jupyter-widgets/controls",
      "model_module_version": "1.5.0",
      "model_name": "DescriptionStyleModel",
      "state": {
       "description_width": ""
      }
     },
     "49b13ab8a91b4f67ad7eeec1cb33f528": {
      "model_module": "@jupyter-widgets/controls",
      "model_module_version": "1.5.0",
      "model_name": "TextModel",
      "state": {
       "description": "A:",
       "layout": "IPY_MODEL_6fa920e9b3a646428a67c24acf3dcf1d",
       "style": "IPY_MODEL_3f69a163ca014686b76e0afd0c4fd273",
       "value": "0.21970403398882077"
      }
     },
     "4a0812fc3f494ae28a7496f7dfcf755a": {
      "model_module": "@jupyter-widgets/base",
      "model_module_version": "1.2.0",
      "model_name": "LayoutModel",
      "state": {}
     },
     "4b1d2856ed40425a9ccb596ea1d4d7c8": {
      "model_module": "@jupyter-widgets/base",
      "model_module_version": "1.2.0",
      "model_name": "LayoutModel",
      "state": {
       "display": "flex"
      }
     },
     "4b7f44856e354e45afe40587353c9bd8": {
      "model_module": "@jupyter-widgets/controls",
      "model_module_version": "1.5.0",
      "model_name": "HBoxModel",
      "state": {
       "children": [
        "IPY_MODEL_b1fb1753cc764722a9173982c63ef098",
        "IPY_MODEL_413127a86a244f5b8fbe31b812efad8a",
        "IPY_MODEL_50634521fa2b476b95c1c9153134f316"
       ],
       "layout": "IPY_MODEL_8b0fed6461ec4ee89b70132ea588434c"
      }
     },
     "4bad8dec8e1d4e6596794cd307b325b5": {
      "model_module": "@jupyter-widgets/controls",
      "model_module_version": "1.5.0",
      "model_name": "FloatProgressModel",
      "state": {
       "bar_style": "danger",
       "layout": "IPY_MODEL_bbe1ca7f07cc4e58affb20aa31399435",
       "max": 1,
       "style": "IPY_MODEL_fd7a662f026345e89e669d886f4be798",
       "value": 1
      }
     },
     "4bc2af51dd714543b446c9d9dd593230": {
      "model_module": "@jupyter-widgets/base",
      "model_module_version": "1.2.0",
      "model_name": "LayoutModel",
      "state": {}
     },
     "4c8b1a27cc9f4579b69b64a24aee4a0b": {
      "model_module": "@jupyter-widgets/base",
      "model_module_version": "1.2.0",
      "model_name": "LayoutModel",
      "state": {}
     },
     "4dc0ee0698294efab17e4df02d045d76": {
      "model_module": "@jupyter-widgets/base",
      "model_module_version": "1.2.0",
      "model_name": "LayoutModel",
      "state": {}
     },
     "4dd9a7708aa6440db6732f76e4aa949c": {
      "model_module": "@jupyter-widgets/base",
      "model_module_version": "1.2.0",
      "model_name": "LayoutModel",
      "state": {
       "display": "flex"
      }
     },
     "4f48ba94f1794fdb951163f4b4863ece": {
      "model_module": "@jupyter-widgets/controls",
      "model_module_version": "1.5.0",
      "model_name": "DescriptionStyleModel",
      "state": {
       "description_width": ""
      }
     },
     "4f61b0f1b93e4de6a44efcc754420072": {
      "model_module": "@jupyter-widgets/base",
      "model_module_version": "1.2.0",
      "model_name": "LayoutModel",
      "state": {}
     },
     "4f71661f34934f3d8a922710210bf39d": {
      "model_module": "@jupyter-widgets/controls",
      "model_module_version": "1.5.0",
      "model_name": "DescriptionStyleModel",
      "state": {
       "description_width": ""
      }
     },
     "4fed468e4ac74e3a9abf3b592242e604": {
      "model_module": "@jupyter-widgets/base",
      "model_module_version": "1.2.0",
      "model_name": "LayoutModel",
      "state": {}
     },
     "4ff7a510aae2416b9fadbec2c0cd450d": {
      "model_module": "@jupyter-widgets/base",
      "model_module_version": "1.2.0",
      "model_name": "LayoutModel",
      "state": {}
     },
     "500d31c5888249d5897a2f0da22f2f28": {
      "model_module": "@jupyter-widgets/base",
      "model_module_version": "1.2.0",
      "model_name": "LayoutModel",
      "state": {}
     },
     "5042e525cdcd4d75ba36d0acb748da09": {
      "model_module": "@jupyter-widgets/base",
      "model_module_version": "1.2.0",
      "model_name": "LayoutModel",
      "state": {}
     },
     "50634521fa2b476b95c1c9153134f316": {
      "model_module": "@jupyter-widgets/controls",
      "model_module_version": "1.5.0",
      "model_name": "HTMLModel",
      "state": {
       "layout": "IPY_MODEL_5a696b742c72401fa35006b37ff73577",
       "style": "IPY_MODEL_e73265cf57b746a4b9dc9b81a129d029",
       "value": " 35/? [00:00&lt;00:00, 36.40it/s]"
      }
     },
     "509b6786763c48c8adc6b756944fa208": {
      "model_module": "@jupyter-widgets/controls",
      "model_module_version": "1.5.0",
      "model_name": "HBoxModel",
      "state": {
       "children": [
        "IPY_MODEL_0159655d2a2f4b29b1b34f0909d742e6",
        "IPY_MODEL_71a2949c97df4f0e894b3918f5058e4b",
        "IPY_MODEL_60b85950234649deb740fd1057a0e33e"
       ],
       "layout": "IPY_MODEL_fe8e0b1b938847a0887fc1a10b56115c"
      }
     },
     "51aae801419c4a4d98893b438bcd340a": {
      "model_module": "@jupyter-widgets/base",
      "model_module_version": "1.2.0",
      "model_name": "LayoutModel",
      "state": {
       "border": "10px solid rgb(0 177 255)"
      }
     },
     "520b03fa1aad453387ae4f375aa05d6a": {
      "model_module": "@jupyter-widgets/controls",
      "model_module_version": "1.5.0",
      "model_name": "ProgressStyleModel",
      "state": {
       "description_width": ""
      }
     },
     "5294aef2a8f449d2922c1bcf3dcdabb3": {
      "model_module": "@jupyter-widgets/base",
      "model_module_version": "1.2.0",
      "model_name": "LayoutModel",
      "state": {}
     },
     "52df0d39bc024ff9bb53ef6b829e5570": {
      "model_module": "@jupyter-widgets/controls",
      "model_module_version": "1.5.0",
      "model_name": "DescriptionStyleModel",
      "state": {
       "description_width": ""
      }
     },
     "5314925a753a4fa7905d822ecba52596": {
      "model_module": "@jupyter-widgets/base",
      "model_module_version": "1.2.0",
      "model_name": "LayoutModel",
      "state": {}
     },
     "53208e8e992048dc83843340c0061141": {
      "model_module": "@jupyter-widgets/base",
      "model_module_version": "1.2.0",
      "model_name": "LayoutModel",
      "state": {
       "display": "flex"
      }
     },
     "534c4dddc3994c37bec1fa2c2c6fc4f9": {
      "model_module": "@jupyter-widgets/controls",
      "model_module_version": "1.5.0",
      "model_name": "ProgressStyleModel",
      "state": {
       "description_width": ""
      }
     },
     "53f528a8b6fb4c6eb2fb8a6f9d5f7dd4": {
      "model_module": "@jupyter-widgets/controls",
      "model_module_version": "1.5.0",
      "model_name": "HTMLModel",
      "state": {
       "layout": "IPY_MODEL_d7c90f0dc2fa46e89a1bc440ec547e4e",
       "style": "IPY_MODEL_b0b7daedd96b41f39c182e8ff95cd696"
      }
     },
     "5414b02df65b4253a95e0717ca500c60": {
      "model_module": "@jupyter-widgets/controls",
      "model_module_version": "1.5.0",
      "model_name": "TextModel",
      "state": {
       "description": "X:",
       "layout": "IPY_MODEL_36cff951b98d456d87e26e6463acb97a",
       "style": "IPY_MODEL_8a2b1878a84641b0bed74a577bd5f039",
       "value": "-0.04960229407460462"
      }
     },
     "54dee2274f404b6e9262c3d1df96792d": {
      "model_module": "@jupyter-widgets/controls",
      "model_module_version": "1.5.0",
      "model_name": "HBoxModel",
      "state": {
       "children": [
        "IPY_MODEL_a371f20b4e6e4bbca187de4d50cfb419",
        "IPY_MODEL_c7a3fc1291bc415db7a48e9f88226884",
        "IPY_MODEL_e3633b13485f4b4c88bd2935e0e7b390"
       ],
       "layout": "IPY_MODEL_d1d8051f703b452194ec19a242d02f62"
      }
     },
     "557049026b4e45ccb9e73c28d6e4a238": {
      "model_module": "@jupyter-widgets/controls",
      "model_module_version": "1.5.0",
      "model_name": "DescriptionStyleModel",
      "state": {
       "description_width": ""
      }
     },
     "5669bfe2c6ef4dcd8257e9985fcd37e8": {
      "model_module": "@jupyter-widgets/controls",
      "model_module_version": "1.5.0",
      "model_name": "DescriptionStyleModel",
      "state": {
       "description_width": ""
      }
     },
     "566d176322c34e008356f175271cf3a9": {
      "model_module": "@jupyter-widgets/controls",
      "model_module_version": "1.5.0",
      "model_name": "DescriptionStyleModel",
      "state": {
       "description_width": ""
      }
     },
     "5688141963c8453aba25ea97b970e406": {
      "model_module": "@jupyter-widgets/base",
      "model_module_version": "1.2.0",
      "model_name": "LayoutModel",
      "state": {}
     },
     "56a2417a828d461f8a0ac59cc0d6f917": {
      "model_module": "@jupyter-widgets/controls",
      "model_module_version": "1.5.0",
      "model_name": "ImageModel",
      "state": {
       "_dom_classes": [
        "pixelated"
       ],
       "layout": "IPY_MODEL_5cd9f7dbc11b41b98e7a8c62e7fa965a"
      }
     },
     "57008368e7e14b60a9c7b0a5aba23ce7": {
      "model_module": "@jupyter-widgets/base",
      "model_module_version": "1.2.0",
      "model_name": "LayoutModel",
      "state": {}
     },
     "574d4c3ea46646eda18d2d723b37cd73": {
      "model_module": "@jupyter-widgets/controls",
      "model_module_version": "1.5.0",
      "model_name": "HTMLModel",
      "state": {
       "layout": "IPY_MODEL_d54b4cea79824740ae8c64decd1b564e",
       "style": "IPY_MODEL_d5f1158e596742288e673143a4d84782"
      }
     },
     "5869ac35f1d54fdb86d555ad88273f5e": {
      "model_module": "@jupyter-widgets/base",
      "model_module_version": "1.2.0",
      "model_name": "LayoutModel",
      "state": {}
     },
     "58758b076c194b36a2e5d919a0227113": {
      "model_module": "@jupyter-widgets/controls",
      "model_module_version": "1.5.0",
      "model_name": "DescriptionStyleModel",
      "state": {
       "description_width": ""
      }
     },
     "59132dadfc964bb6b53621309544a5f5": {
      "model_module": "@jupyter-widgets/base",
      "model_module_version": "1.2.0",
      "model_name": "LayoutModel",
      "state": {
       "display": "none",
       "height": "auto",
       "width": "-webkit-fill-available"
      }
     },
     "595ad5f894be4b96ba65a63104e1dc6c": {
      "model_module": "@jupyter-widgets/controls",
      "model_module_version": "1.5.0",
      "model_name": "TextModel",
      "state": {
       "description": "Trans vel:",
       "layout": "IPY_MODEL_0ac57c4736fb4a2aa714d4a061194e42",
       "style": "IPY_MODEL_44844e6b45ca411796406508356b7b97",
       "value": "-0.7261672971272495"
      }
     },
     "59e07e22b187432984fd7f7e24939e1d": {
      "model_module": "@jupyter-widgets/controls",
      "model_module_version": "1.5.0",
      "model_name": "HTMLModel",
      "state": {
       "layout": "IPY_MODEL_39251c5ca5ff47919816579241870664",
       "style": "IPY_MODEL_e7332acc1e3b4c1ea6ca33b5f7483f21"
      }
     },
     "5a2f171ab0a54e8c9d8a2c67854cccd6": {
      "model_module": "@jupyter-widgets/controls",
      "model_module_version": "1.5.0",
      "model_name": "DescriptionStyleModel",
      "state": {
       "description_width": ""
      }
     },
     "5a46de6bff104e70b26c5fe119370edf": {
      "model_module": "@jupyter-widgets/controls",
      "model_module_version": "1.5.0",
      "model_name": "HBoxModel",
      "state": {
       "children": [
        "IPY_MODEL_c14a7783f3be4145b346887d7b4e7d00",
        "IPY_MODEL_15f8647de3e44d72b13d8dc488c0ff2d",
        "IPY_MODEL_006f599fae1340fbaed2bb0d311eb0a0"
       ],
       "layout": "IPY_MODEL_5d1c670eea0c4d0b8e7c3c4792b2582b"
      }
     },
     "5a4792b61cb943c699667f73e3af2efc": {
      "model_module": "@jupyter-widgets/controls",
      "model_module_version": "1.5.0",
      "model_name": "DescriptionStyleModel",
      "state": {
       "description_width": ""
      }
     },
     "5a696b742c72401fa35006b37ff73577": {
      "model_module": "@jupyter-widgets/base",
      "model_module_version": "1.2.0",
      "model_name": "LayoutModel",
      "state": {}
     },
     "5acd5be8305d4034b7444c0ec1d69ffd": {
      "model_module": "@jupyter-widgets/base",
      "model_module_version": "1.2.0",
      "model_name": "LayoutModel",
      "state": {}
     },
     "5b49a59d6de54efea84a9937c21e7ed4": {
      "model_module": "@jupyter-widgets/controls",
      "model_module_version": "1.5.0",
      "model_name": "HBoxModel",
      "state": {
       "children": [
        "IPY_MODEL_0412bbde0c7844d982409979b6f28d7f",
        "IPY_MODEL_0b22ddaa67cd46db978753a96d1ceacd",
        "IPY_MODEL_cda5972cc9464a8f83588e51043b9987"
       ],
       "layout": "IPY_MODEL_2544c73660404cad988e123dadb7ff84"
      }
     },
     "5b59ebbd0a10402a90b62731fd2ed72e": {
      "model_module": "@jupyter-widgets/controls",
      "model_module_version": "1.5.0",
      "model_name": "ProgressStyleModel",
      "state": {
       "description_width": ""
      }
     },
     "5b700cd2538f493d9f8667fee2225e84": {
      "model_module": "@jupyter-widgets/base",
      "model_module_version": "1.2.0",
      "model_name": "LayoutModel",
      "state": {
       "width": "20px"
      }
     },
     "5b71264fc8924ff49f68f5f69562db7b": {
      "model_module": "@jupyter-widgets/controls",
      "model_module_version": "1.5.0",
      "model_name": "TextModel",
      "state": {
       "description": "Name:",
       "layout": "IPY_MODEL_3d125cac176c4c8dad632947dd655b96",
       "style": "IPY_MODEL_a503646d9cc34017bab8ff0374636dd3",
       "value": "Robbie"
      }
     },
     "5c513272d82f4620ae0a5b09dcce5612": {
      "model_module": "@jupyter-widgets/controls",
      "model_module_version": "1.5.0",
      "model_name": "HBoxModel",
      "state": {
       "children": [
        "IPY_MODEL_dd41d6734e1e4434a7f707c8a1f0fc9f",
        "IPY_MODEL_9fd54fe95d354bfca11d133af8f8c19f",
        "IPY_MODEL_f618f10e2b9a46e59e5aabed987e0c58"
       ],
       "layout": "IPY_MODEL_02fbe6f684fe485a8f42efabbb0c4769"
      }
     },
     "5c60d1c978f54d46a326e2163daf41f7": {
      "model_module": "@jupyter-widgets/controls",
      "model_module_version": "1.5.0",
      "model_name": "HTMLModel",
      "state": {
       "layout": "IPY_MODEL_2b3c965088284b53b22ea5b894bfc294",
       "style": "IPY_MODEL_2b743797f7c24157ae8fd1b052c74bbb"
      }
     },
     "5c9d4ab8232e4e028ca88324ab83b1b6": {
      "model_module": "@jupyter-widgets/base",
      "model_module_version": "1.2.0",
      "model_name": "LayoutModel",
      "state": {
       "display": "flex"
      }
     },
     "5cd890b9b8084c02a31360db63ed95eb": {
      "model_module": "@jupyter-widgets/controls",
      "model_module_version": "1.5.0",
      "model_name": "FloatProgressModel",
      "state": {
       "bar_style": "danger",
       "layout": "IPY_MODEL_73831f74e6194d19ba14f62915458029",
       "max": 1,
       "style": "IPY_MODEL_c272c7e138284760a3b9c155b3330049",
       "value": 1
      }
     },
     "5cd9f7dbc11b41b98e7a8c62e7fa965a": {
      "model_module": "@jupyter-widgets/base",
      "model_module_version": "1.2.0",
      "model_name": "LayoutModel",
      "state": {
       "display": "none",
       "height": "auto",
       "width": "-webkit-fill-available"
      }
     },
     "5ce1540607394a94abc0242c477b57a8": {
      "model_module": "@jupyter-widgets/controls",
      "model_module_version": "1.5.0",
      "model_name": "FloatProgressModel",
      "state": {
       "bar_style": "danger",
       "layout": "IPY_MODEL_ffdddb8bd32e4f5b981266535e8c02c4",
       "max": 1,
       "style": "IPY_MODEL_952e9ee44586406ba735323b29f4751c",
       "value": 1
      }
     },
     "5d0e16b74f144184a1b4b198ae2e8469": {
      "model_module": "@jupyter-widgets/base",
      "model_module_version": "1.2.0",
      "model_name": "LayoutModel",
      "state": {}
     },
     "5d1c670eea0c4d0b8e7c3c4792b2582b": {
      "model_module": "@jupyter-widgets/base",
      "model_module_version": "1.2.0",
      "model_name": "LayoutModel",
      "state": {}
     },
     "5d4ba48e98d2419481d21366d1f3755e": {
      "model_module": "@jupyter-widgets/controls",
      "model_module_version": "1.5.0",
      "model_name": "ProgressStyleModel",
      "state": {
       "description_width": ""
      }
     },
     "5daefae64806429cbe94313e0dfbfe7e": {
      "model_module": "@jupyter-widgets/base",
      "model_module_version": "1.2.0",
      "model_name": "LayoutModel",
      "state": {
       "width": "20px"
      }
     },
     "5e68b1b1fc2f4de8aa4e7a388c89bf62": {
      "model_module": "@jupyter-widgets/controls",
      "model_module_version": "1.5.0",
      "model_name": "HBoxModel",
      "state": {
       "children": [
        "IPY_MODEL_59e07e22b187432984fd7f7e24939e1d",
        "IPY_MODEL_8b6a6db991e742bc9df3c0963202c86a",
        "IPY_MODEL_f28cf20501934ff09132531c28fd5898"
       ],
       "layout": "IPY_MODEL_66c4107b7a7f4e9ca74711e09de02009"
      }
     },
     "5f06733282dd42f392433aca0bbe9757": {
      "model_module": "@jupyter-widgets/controls",
      "model_module_version": "1.5.0",
      "model_name": "HBoxModel",
      "state": {
       "children": [
        "IPY_MODEL_dc1a3954e5354f51bf0a507bcb8bd073",
        "IPY_MODEL_692fd0e004274ed3946c4cbf3dcd597b",
        "IPY_MODEL_453cc9bb45454ad9a24cc4418261e8c4"
       ],
       "layout": "IPY_MODEL_137e0872bbe94a869b95ef2f97b60d39"
      }
     },
     "5f2c2d375c414c5dae97491ddbcedb42": {
      "model_module": "@jupyter-widgets/base",
      "model_module_version": "1.2.0",
      "model_name": "LayoutModel",
      "state": {}
     },
     "5f549be57cd24159ab28c390fbd1b748": {
      "model_module": "@jupyter-widgets/base",
      "model_module_version": "1.2.0",
      "model_name": "LayoutModel",
      "state": {}
     },
     "5f6b8bd1cafb478fb48a2e4683a1f7e1": {
      "model_module": "@jupyter-widgets/controls",
      "model_module_version": "1.5.0",
      "model_name": "DescriptionStyleModel",
      "state": {
       "description_width": ""
      }
     },
     "5f6d79ca4d7b44ea8504c61ab21c0565": {
      "model_module": "@jupyter-widgets/base",
      "model_module_version": "1.2.0",
      "model_name": "LayoutModel",
      "state": {}
     },
     "5f95cf4889474333ab5737fcf273829b": {
      "model_module": "@jupyter-widgets/controls",
      "model_module_version": "1.5.0",
      "model_name": "HBoxModel",
      "state": {
       "children": [
        "IPY_MODEL_b8d85c66081f465784bcc0b17b69f772",
        "IPY_MODEL_ccbaaa51fdf640a4aad871ec356aa5a7",
        "IPY_MODEL_25acf707759d42eb94b9faa7404759df"
       ],
       "layout": "IPY_MODEL_206a4b41af6b43d297efb925ad613c42"
      }
     },
     "5f9ffe3bf6ab4e07bec6006985c00802": {
      "model_module": "@jupyter-widgets/controls",
      "model_module_version": "1.5.0",
      "model_name": "HBoxModel",
      "state": {
       "children": [
        "IPY_MODEL_06adff0638cc402fa58cbaa535ba886d",
        "IPY_MODEL_067f1d762b874600a3a734fc77a15c58",
        "IPY_MODEL_997c3240e7514c689cbee3382702f39d"
       ],
       "layout": "IPY_MODEL_8d34466ef61c4765b576de2eb59f7b54"
      }
     },
     "5ff117de73e943dc828a14b3bce09a47": {
      "model_module": "@jupyter-widgets/controls",
      "model_module_version": "1.5.0",
      "model_name": "DescriptionStyleModel",
      "state": {
       "description_width": ""
      }
     },
     "60b85950234649deb740fd1057a0e33e": {
      "model_module": "@jupyter-widgets/controls",
      "model_module_version": "1.5.0",
      "model_name": "HTMLModel",
      "state": {
       "layout": "IPY_MODEL_29b81a75590c40baa59df8ddd6667291",
       "style": "IPY_MODEL_05ed8b07793f4e6bbca276ac2b99210f",
       "value": " 35/? [00:00&lt;00:00, 38.80it/s]"
      }
     },
     "617732fdf1504c3b96b7c8a400d0c500": {
      "model_module": "@jupyter-widgets/base",
      "model_module_version": "1.2.0",
      "model_name": "LayoutModel",
      "state": {}
     },
     "61c5e3856caf4c4c9d75575c46c360c5": {
      "model_module": "@jupyter-widgets/controls",
      "model_module_version": "1.5.0",
      "model_name": "DescriptionStyleModel",
      "state": {
       "description_width": ""
      }
     },
     "61c69a77ef8446af8338886a8734ff32": {
      "model_module": "@jupyter-widgets/controls",
      "model_module_version": "1.5.0",
      "model_name": "DescriptionStyleModel",
      "state": {
       "description_width": ""
      }
     },
     "61dc443ffaea485d8741a2846496aa80": {
      "model_module": "@jupyter-widgets/controls",
      "model_module_version": "1.5.0",
      "model_name": "ProgressStyleModel",
      "state": {
       "description_width": ""
      }
     },
     "623ee0f15ffb40dfb0f750842be06b5c": {
      "model_module": "@jupyter-widgets/controls",
      "model_module_version": "1.5.0",
      "model_name": "DescriptionStyleModel",
      "state": {
       "description_width": ""
      }
     },
     "629f6680984046188f037474fbec36bb": {
      "model_module": "@jupyter-widgets/controls",
      "model_module_version": "1.5.0",
      "model_name": "HTMLModel",
      "state": {
       "layout": "IPY_MODEL_702cac8190544287b78b1fc755ba2032",
       "style": "IPY_MODEL_f7890b81cc44497c889d6ab2138b3f15",
       "value": " 35/? [00:00&lt;00:00, 38.20it/s]"
      }
     },
     "62a7e9f529784cea8e1455128a56627a": {
      "model_module": "@jupyter-widgets/base",
      "model_module_version": "1.2.0",
      "model_name": "LayoutModel",
      "state": {}
     },
     "62f5bc8d9c964158a052cda1070efbca": {
      "model_module": "@jupyter-widgets/base",
      "model_module_version": "1.2.0",
      "model_name": "LayoutModel",
      "state": {
       "display": "flex"
      }
     },
     "6391b28286c54e299652eef3d58de06a": {
      "model_module": "@jupyter-widgets/base",
      "model_module_version": "1.2.0",
      "model_name": "LayoutModel",
      "state": {}
     },
     "6432e08fb9b44c03b0262a8d3871fc53": {
      "model_module": "@jupyter-widgets/controls",
      "model_module_version": "1.5.0",
      "model_name": "DescriptionStyleModel",
      "state": {
       "description_width": ""
      }
     },
     "64682ff7b3fa4a54baf4f39ecc85c0a5": {
      "model_module": "@jupyter-widgets/controls",
      "model_module_version": "1.5.0",
      "model_name": "HTMLModel",
      "state": {
       "layout": "IPY_MODEL_b7dc317f3bf74b9594c6e1611e7962ef",
       "style": "IPY_MODEL_2ee385c4e9b04c94a2beb6e4ca492fc1",
       "value": " 20/? [00:00&lt;00:00, 41.21it/s]"
      }
     },
     "654a7995f7c94ccba6cd335d9e433095": {
      "model_module": "@jupyter-widgets/controls",
      "model_module_version": "1.5.0",
      "model_name": "HTMLModel",
      "state": {
       "layout": "IPY_MODEL_1baea9877a7749a6977023e8a452df87",
       "style": "IPY_MODEL_fd1c983160a0440996d8f1ae2acba6a5"
      }
     },
     "66474571fe7d4c579466d915c0db9d94": {
      "model_module": "@jupyter-widgets/controls",
      "model_module_version": "1.5.0",
      "model_name": "DescriptionStyleModel",
      "state": {
       "description_width": ""
      }
     },
     "664bdc465dd94347936309d8e2038758": {
      "model_module": "@jupyter-widgets/base",
      "model_module_version": "1.2.0",
      "model_name": "LayoutModel",
      "state": {
       "width": "20px"
      }
     },
     "66c4107b7a7f4e9ca74711e09de02009": {
      "model_module": "@jupyter-widgets/base",
      "model_module_version": "1.2.0",
      "model_name": "LayoutModel",
      "state": {}
     },
     "67ef6c7721fe43aea0f0132abad0d3d0": {
      "model_module": "@jupyter-widgets/controls",
      "model_module_version": "1.5.0",
      "model_name": "TextModel",
      "state": {
       "description": "X:",
       "layout": "IPY_MODEL_53208e8e992048dc83843340c0061141",
       "style": "IPY_MODEL_a4de8ec9949545d3bc3cd241cbfa72d0",
       "value": "-0.5484534550293616"
      }
     },
     "6849aacda29547989e3f5c98a0840a91": {
      "model_module": "@jupyter-widgets/base",
      "model_module_version": "1.2.0",
      "model_name": "LayoutModel",
      "state": {}
     },
     "689ad49228a644ef84c313f9966ddabe": {
      "model_module": "@jupyter-widgets/base",
      "model_module_version": "1.2.0",
      "model_name": "LayoutModel",
      "state": {}
     },
     "68b497733af24b3fa894282affe63d11": {
      "model_module": "@jupyter-widgets/controls",
      "model_module_version": "1.5.0",
      "model_name": "DescriptionStyleModel",
      "state": {
       "description_width": ""
      }
     },
     "692fd0e004274ed3946c4cbf3dcd597b": {
      "model_module": "@jupyter-widgets/controls",
      "model_module_version": "1.5.0",
      "model_name": "FloatProgressModel",
      "state": {
       "bar_style": "danger",
       "layout": "IPY_MODEL_a40713e081e940bc80b298f1817994d7",
       "max": 1,
       "style": "IPY_MODEL_c9babc23034140edb7f9d8a4e098f920",
       "value": 1
      }
     },
     "6965b6ee897744fd9eed4cecd7298aae": {
      "model_module": "@jupyter-widgets/base",
      "model_module_version": "1.2.0",
      "model_name": "LayoutModel",
      "state": {}
     },
     "69b2d38542d641c4936601f4a76c431c": {
      "model_module": "@jupyter-widgets/base",
      "model_module_version": "1.2.0",
      "model_name": "LayoutModel",
      "state": {}
     },
     "6a488a0052ba43e0aabfd781637f9d00": {
      "model_module": "@jupyter-widgets/controls",
      "model_module_version": "1.5.0",
      "model_name": "TextModel",
      "state": {
       "description": "X:",
       "layout": "IPY_MODEL_d8295bab221945d69a06836ec3f920e3",
       "style": "IPY_MODEL_557049026b4e45ccb9e73c28d6e4a238",
       "value": "-0.19375839676325116"
      }
     },
     "6a855793e3724d2f86de681dd244e1ad": {
      "model_module": "@jupyter-widgets/base",
      "model_module_version": "1.2.0",
      "model_name": "LayoutModel",
      "state": {
       "width": "20px"
      }
     },
     "6a8b9ccaa9b1471f8231036889a53d6e": {
      "model_module": "@jupyter-widgets/base",
      "model_module_version": "1.2.0",
      "model_name": "LayoutModel",
      "state": {
       "width": "20px"
      }
     },
     "6ae047b85403435f9e2af30685a4be94": {
      "model_module": "@jupyter-widgets/base",
      "model_module_version": "1.2.0",
      "model_name": "LayoutModel",
      "state": {
       "display": "flex"
      }
     },
     "6bdba0f0f69441b0ab8b73e941e9975c": {
      "model_module": "@jupyter-widgets/base",
      "model_module_version": "1.2.0",
      "model_name": "LayoutModel",
      "state": {}
     },
     "6bec6340fc4a4250bec567cbc5e9c4af": {
      "model_module": "@jupyter-widgets/base",
      "model_module_version": "1.2.0",
      "model_name": "LayoutModel",
      "state": {
       "width": "20px"
      }
     },
     "6c1bf76c4241440090e6a8d50596077b": {
      "model_module": "@jupyter-widgets/controls",
      "model_module_version": "1.5.0",
      "model_name": "DescriptionStyleModel",
      "state": {
       "description_width": ""
      }
     },
     "6c732cab7ba146b790d1b8d29647029f": {
      "model_module": "@jupyter-widgets/controls",
      "model_module_version": "1.5.0",
      "model_name": "HTMLModel",
      "state": {
       "layout": "IPY_MODEL_e854c4b3c2ff49edb0c80d0ce35bc64a",
       "style": "IPY_MODEL_973320ad3b0b4caba63e580d8bd84c54"
      }
     },
     "6c965ba4a4ed442f902cdd6802fa100d": {
      "model_module": "@jupyter-widgets/base",
      "model_module_version": "1.2.0",
      "model_name": "LayoutModel",
      "state": {
       "display": "none",
       "height": "auto",
       "width": "-webkit-fill-available"
      }
     },
     "6cea4b0939304947b13bd9a9c906e7eb": {
      "model_module": "@jupyter-widgets/controls",
      "model_module_version": "1.5.0",
      "model_name": "ProgressStyleModel",
      "state": {
       "description_width": ""
      }
     },
     "6db40ce154554d048ffff5385f3f5587": {
      "model_module": "@jupyter-widgets/base",
      "model_module_version": "1.2.0",
      "model_name": "LayoutModel",
      "state": {
       "width": "20px"
      }
     },
     "6f08347905f842748a18b114c4070110": {
      "model_module": "@jupyter-widgets/controls",
      "model_module_version": "1.5.0",
      "model_name": "ProgressStyleModel",
      "state": {
       "description_width": ""
      }
     },
     "6fa920e9b3a646428a67c24acf3dcf1d": {
      "model_module": "@jupyter-widgets/base",
      "model_module_version": "1.2.0",
      "model_name": "LayoutModel",
      "state": {
       "display": "flex"
      }
     },
     "702cac8190544287b78b1fc755ba2032": {
      "model_module": "@jupyter-widgets/base",
      "model_module_version": "1.2.0",
      "model_name": "LayoutModel",
      "state": {}
     },
     "708e2c24e8404a4f9ef833539f3ea932": {
      "model_module": "@jupyter-widgets/base",
      "model_module_version": "1.2.0",
      "model_name": "LayoutModel",
      "state": {
       "display": "flex"
      }
     },
     "70e932daf5ff4cccb24bb32b21464b67": {
      "model_module": "@jupyter-widgets/controls",
      "model_module_version": "1.5.0",
      "model_name": "TextModel",
      "state": {
       "description": "Y:",
       "layout": "IPY_MODEL_4336fb8205484e21951d8b4ea829b02d",
       "style": "IPY_MODEL_2dbae986a5e54a5ab0c09c802c7b34df",
       "value": "0"
      }
     },
     "71a2949c97df4f0e894b3918f5058e4b": {
      "model_module": "@jupyter-widgets/controls",
      "model_module_version": "1.5.0",
      "model_name": "FloatProgressModel",
      "state": {
       "bar_style": "danger",
       "layout": "IPY_MODEL_1908fe522ff5430b91263b415f6cce87",
       "max": 1,
       "style": "IPY_MODEL_9c67af5b2c8f42f8ac52c0bfc745980d",
       "value": 1
      }
     },
     "72010023f73941c5bc779eaf8eff4ea9": {
      "model_module": "@jupyter-widgets/controls",
      "model_module_version": "1.5.0",
      "model_name": "HBoxModel",
      "state": {
       "children": [
        "IPY_MODEL_218108f583054ea1b992cdf086b46d3f",
        "IPY_MODEL_5cd890b9b8084c02a31360db63ed95eb",
        "IPY_MODEL_fc083b496a984918ac037586109606df"
       ],
       "layout": "IPY_MODEL_241b312fdbe84c48b4ca4361919f01c8"
      }
     },
     "73127cc2fadd484597682c7c4bfde6f7": {
      "model_module": "@jupyter-widgets/base",
      "model_module_version": "1.2.0",
      "model_name": "LayoutModel",
      "state": {}
     },
     "73831f74e6194d19ba14f62915458029": {
      "model_module": "@jupyter-widgets/base",
      "model_module_version": "1.2.0",
      "model_name": "LayoutModel",
      "state": {
       "width": "20px"
      }
     },
     "738b50e70c404ec6b781eb5d0bac6f75": {
      "model_module": "@jupyter-widgets/controls",
      "model_module_version": "1.5.0",
      "model_name": "DescriptionStyleModel",
      "state": {
       "description_width": ""
      }
     },
     "743006bd761e44fd85c6aa6dadc9f702": {
      "model_module": "@jupyter-widgets/base",
      "model_module_version": "1.2.0",
      "model_name": "LayoutModel",
      "state": {
       "width": "20px"
      }
     },
     "743d7bf8c5ff487a9fc8247a558efb3f": {
      "model_module": "@jupyter-widgets/controls",
      "model_module_version": "1.5.0",
      "model_name": "HTMLModel",
      "state": {
       "layout": "IPY_MODEL_47cbd7e45dd9445f8944befbf0b1c13c",
       "style": "IPY_MODEL_8402327456a241d6b62a5a34c70fea6e",
       "value": " 35/? [00:00&lt;00:00, 37.12it/s]"
      }
     },
     "7463e0a6e21b426dbc7fd0f5024928ab": {
      "model_module": "@jupyter-widgets/base",
      "model_module_version": "1.2.0",
      "model_name": "LayoutModel",
      "state": {}
     },
     "748193c051c2444ea82c796b69328af4": {
      "model_module": "@jupyter-widgets/base",
      "model_module_version": "1.2.0",
      "model_name": "LayoutModel",
      "state": {}
     },
     "74d2b0745c1f416595107eb6eb0fd81e": {
      "model_module": "@jupyter-widgets/controls",
      "model_module_version": "1.5.0",
      "model_name": "DescriptionStyleModel",
      "state": {
       "description_width": ""
      }
     },
     "75ac1c9cb8b34330ac05ea9d5f0ce045": {
      "model_module": "@jupyter-widgets/controls",
      "model_module_version": "1.5.0",
      "model_name": "HTMLModel",
      "state": {
       "layout": "IPY_MODEL_e5022a58a33d44ae80ae73460361be5a",
       "style": "IPY_MODEL_dca411bf581f42daa543c5f31eee2531"
      }
     },
     "7696f9d1fc8942ebbacc3819c0d5f0fa": {
      "model_module": "@jupyter-widgets/base",
      "model_module_version": "1.2.0",
      "model_name": "LayoutModel",
      "state": {}
     },
     "76995bb3c0c84da384cf421174d45aaa": {
      "model_module": "@jupyter-widgets/controls",
      "model_module_version": "1.5.0",
      "model_name": "HTMLModel",
      "state": {
       "layout": "IPY_MODEL_c8ecd1b9cb1b4d73895ee04e4a8bf2e3",
       "style": "IPY_MODEL_b3d58f26d4a341c79d712c520d83c8d6",
       "value": " 35/? [00:00&lt;00:00, 36.96it/s]"
      }
     },
     "76ccfd729e18443f9f8ec6276bf3857a": {
      "model_module": "@jupyter-widgets/controls",
      "model_module_version": "1.5.0",
      "model_name": "DescriptionStyleModel",
      "state": {
       "description_width": ""
      }
     },
     "76f7a81a88454b85ab2a0da331ecb5c9": {
      "model_module": "@jupyter-widgets/controls",
      "model_module_version": "1.5.0",
      "model_name": "TextModel",
      "state": {
       "description": "Trans vel:",
       "layout": "IPY_MODEL_7bd5171cf8ed40de9e6890f7e009967d",
       "style": "IPY_MODEL_d36d8164e65247dea060e3893c92957b",
       "value": "0.20856078671837222"
      }
     },
     "7743d58b12204a9492fc9f874acfeb87": {
      "model_module": "@jupyter-widgets/controls",
      "model_module_version": "1.5.0",
      "model_name": "TextModel",
      "state": {
       "description": "A:",
       "layout": "IPY_MODEL_3b1157bbaece42118339fccf42e6125f",
       "style": "IPY_MODEL_98e091a3346043bab7a8c7ab1e65b45f",
       "value": "0.06862165292025382"
      }
     },
     "77a7289f5e254eabb9bc14286d46a0de": {
      "model_module": "@jupyter-widgets/controls",
      "model_module_version": "1.5.0",
      "model_name": "HBoxModel",
      "state": {
       "children": [
        "IPY_MODEL_9cca69fd22384e2ab5f2efb2588ca344",
        "IPY_MODEL_eb2e37ced4d9483e84e61501b43187c1",
        "IPY_MODEL_629f6680984046188f037474fbec36bb"
       ],
       "layout": "IPY_MODEL_6391b28286c54e299652eef3d58de06a"
      }
     },
     "78090e544f5b406a87b4d62e504f1caf": {
      "model_module": "@jupyter-widgets/controls",
      "model_module_version": "1.5.0",
      "model_name": "ProgressStyleModel",
      "state": {
       "description_width": ""
      }
     },
     "7931f61d929e443d8b552fc6fc337f5e": {
      "model_module": "@jupyter-widgets/controls",
      "model_module_version": "1.5.0",
      "model_name": "ProgressStyleModel",
      "state": {
       "description_width": ""
      }
     },
     "7a41010fdbdd4604b146317068aa1a87": {
      "model_module": "@jupyter-widgets/base",
      "model_module_version": "1.2.0",
      "model_name": "LayoutModel",
      "state": {}
     },
     "7b955ac772e94698b59d274a91f9bd3a": {
      "model_module": "@jupyter-widgets/base",
      "model_module_version": "1.2.0",
      "model_name": "LayoutModel",
      "state": {}
     },
     "7bd5171cf8ed40de9e6890f7e009967d": {
      "model_module": "@jupyter-widgets/base",
      "model_module_version": "1.2.0",
      "model_name": "LayoutModel",
      "state": {
       "display": "flex"
      }
     },
     "7c002fbcc5a74658afc6bf70178f1f0c": {
      "model_module": "@jupyter-widgets/controls",
      "model_module_version": "1.5.0",
      "model_name": "FloatProgressModel",
      "state": {
       "bar_style": "danger",
       "layout": "IPY_MODEL_800db432c2cf455fa8596705d2c77d16",
       "max": 1,
       "style": "IPY_MODEL_5d4ba48e98d2419481d21366d1f3755e",
       "value": 1
      }
     },
     "7c00948ee67440ee8f8e6c8c62d25a24": {
      "model_module": "@jupyter-widgets/controls",
      "model_module_version": "1.5.0",
      "model_name": "HTMLModel",
      "state": {
       "layout": "IPY_MODEL_b0f09818b2c64b1a9b5f383a11a3f1a9",
       "style": "IPY_MODEL_999371dc192b4c31b6b9d1d56ab3646e"
      }
     },
     "7c235a418e3a487f9aaa33da1e488c60": {
      "model_module": "@jupyter-widgets/controls",
      "model_module_version": "1.5.0",
      "model_name": "ProgressStyleModel",
      "state": {
       "description_width": ""
      }
     },
     "7c36781019db44149b9dda64fe798bb1": {
      "model_module": "@jupyter-widgets/controls",
      "model_module_version": "1.5.0",
      "model_name": "DescriptionStyleModel",
      "state": {
       "description_width": ""
      }
     },
     "7c4e3d20ae2d407ea245bf5337ca0623": {
      "model_module": "@jupyter-widgets/controls",
      "model_module_version": "1.5.0",
      "model_name": "HTMLModel",
      "state": {
       "layout": "IPY_MODEL_d3c94a01ea7a4a34a40980df5501e317",
       "style": "IPY_MODEL_ae06913e1a854507a8bc893afafb2250"
      }
     },
     "7c78234d83c04843bd76cbdafa74cf82": {
      "model_module": "@jupyter-widgets/base",
      "model_module_version": "1.2.0",
      "model_name": "LayoutModel",
      "state": {}
     },
     "7ca22292e2f94a77b86bf4567a1a7aea": {
      "model_module": "@jupyter-widgets/base",
      "model_module_version": "1.2.0",
      "model_name": "LayoutModel",
      "state": {
       "display": "flex"
      }
     },
     "7cad0a5cea594079b3405088701dd526": {
      "model_module": "@jupyter-widgets/controls",
      "model_module_version": "1.5.0",
      "model_name": "ProgressStyleModel",
      "state": {
       "description_width": ""
      }
     },
     "7cba5987b86a4e0fa5d5b34ce7f7a206": {
      "model_module": "@jupyter-widgets/controls",
      "model_module_version": "1.5.0",
      "model_name": "HTMLModel",
      "state": {
       "layout": "IPY_MODEL_3975221e823a4fa486597879f71b95db",
       "style": "IPY_MODEL_18948172a2b84e0e9d7a62634a64042c",
       "value": " 35/? [00:00&lt;00:00, 34.57it/s]"
      }
     },
     "7cf6775c3dd84cf3a98429b2c898954c": {
      "model_module": "@jupyter-widgets/base",
      "model_module_version": "1.2.0",
      "model_name": "LayoutModel",
      "state": {}
     },
     "7cf828812a6e42b58420559b355d5efa": {
      "model_module": "@jupyter-widgets/controls",
      "model_module_version": "1.5.0",
      "model_name": "DescriptionStyleModel",
      "state": {
       "description_width": ""
      }
     },
     "7d8bb70f818c405d99cb7f5a5e5acf9b": {
      "model_module": "@jupyter-widgets/base",
      "model_module_version": "1.2.0",
      "model_name": "LayoutModel",
      "state": {
       "border": "10px solid rgb(0 177 255)"
      }
     },
     "7da9623a48f84bb4b44f0aa3769d1377": {
      "model_module": "@jupyter-widgets/controls",
      "model_module_version": "1.5.0",
      "model_name": "ProgressStyleModel",
      "state": {
       "description_width": ""
      }
     },
     "7debe8572ca54c68bb4d63b336cc8ff9": {
      "model_module": "@jupyter-widgets/base",
      "model_module_version": "1.2.0",
      "model_name": "LayoutModel",
      "state": {}
     },
     "7e378c3e09744cf092791690c948a67c": {
      "model_module": "@jupyter-widgets/base",
      "model_module_version": "1.2.0",
      "model_name": "LayoutModel",
      "state": {}
     },
     "7f145e4355c8418fa572ec487b4e6d0c": {
      "model_module": "@jupyter-widgets/controls",
      "model_module_version": "1.5.0",
      "model_name": "DescriptionStyleModel",
      "state": {
       "description_width": ""
      }
     },
     "800db432c2cf455fa8596705d2c77d16": {
      "model_module": "@jupyter-widgets/base",
      "model_module_version": "1.2.0",
      "model_name": "LayoutModel",
      "state": {
       "width": "20px"
      }
     },
     "803a2b3a05cb4d0f8bbacac7ef8ec7aa": {
      "model_module": "@jupyter-widgets/controls",
      "model_module_version": "1.5.0",
      "model_name": "TextModel",
      "state": {
       "description": "A:",
       "layout": "IPY_MODEL_708e2c24e8404a4f9ef833539f3ea932",
       "style": "IPY_MODEL_5f6b8bd1cafb478fb48a2e4683a1f7e1",
       "value": "0.2143174211743694"
      }
     },
     "8072e21b924146708b0f110456b46bba": {
      "model_module": "@jupyter-widgets/controls",
      "model_module_version": "1.5.0",
      "model_name": "ProgressStyleModel",
      "state": {
       "description_width": ""
      }
     },
     "808d01cd24cf4680b5531396ab35c375": {
      "model_module": "@jupyter-widgets/controls",
      "model_module_version": "1.5.0",
      "model_name": "DescriptionStyleModel",
      "state": {
       "description_width": ""
      }
     },
     "80c0205e81f04bb3bdaf40812c6a6a68": {
      "model_module": "@jupyter-widgets/controls",
      "model_module_version": "1.5.0",
      "model_name": "ImageModel",
      "state": {
       "_dom_classes": [
        "pixelated"
       ],
       "layout": "IPY_MODEL_6c965ba4a4ed442f902cdd6802fa100d"
      }
     },
     "82077af155ea4837891f9cf5003532e2": {
      "model_module": "@jupyter-widgets/controls",
      "model_module_version": "1.5.0",
      "model_name": "FloatProgressModel",
      "state": {
       "bar_style": "danger",
       "layout": "IPY_MODEL_e9fc7781c95b470aac0feb66591b3e79",
       "max": 1,
       "style": "IPY_MODEL_111c3d7792b04dccad175327ac4e112b",
       "value": 1
      }
     },
     "821d578b805c41c39eef8e486e3132ae": {
      "model_module": "@jupyter-widgets/controls",
      "model_module_version": "1.5.0",
      "model_name": "FloatProgressModel",
      "state": {
       "bar_style": "danger",
       "layout": "IPY_MODEL_0a637f197fba433c988e2f8cc469d5b6",
       "max": 1,
       "style": "IPY_MODEL_8072e21b924146708b0f110456b46bba",
       "value": 1
      }
     },
     "8246f95d5b994177aaa3666e09c7708c": {
      "model_module": "@jupyter-widgets/controls",
      "model_module_version": "1.5.0",
      "model_name": "HBoxModel",
      "state": {
       "children": [
        "IPY_MODEL_e37801503ecb4ed5be444bcbdb0c2630",
        "IPY_MODEL_262e1d23dc1d497ea4a5cddc793dbf39",
        "IPY_MODEL_ab772f86ac7d419e8fdd2203bfb27be4"
       ],
       "layout": "IPY_MODEL_23fa1c2f94c1455491c2a9414f673f4b"
      }
     },
     "83274ba26277407fad02521e2d0698c2": {
      "model_module": "@jupyter-widgets/controls",
      "model_module_version": "1.5.0",
      "model_name": "HBoxModel",
      "state": {
       "children": [
        "IPY_MODEL_7c00948ee67440ee8f8e6c8c62d25a24",
        "IPY_MODEL_b9e5476ce133442c8931d637148876e1",
        "IPY_MODEL_1c4bbdb3f18c4a8b8bef9d0395b7a608"
       ],
       "layout": "IPY_MODEL_9101c831e75e4368874aab37dba69608"
      }
     },
     "833ead30582e4c3baf2f3692023b2881": {
      "model_module": "@jupyter-widgets/controls",
      "model_module_version": "1.5.0",
      "model_name": "VBoxModel",
      "state": {
       "children": [
        "IPY_MODEL_165b134b595b4a27bdeb0d0a294eb422",
        "IPY_MODEL_5b71264fc8924ff49f68f5f69562db7b",
        "IPY_MODEL_5414b02df65b4253a95e0717ca500c60",
        "IPY_MODEL_f715f7a9e9fc4109a6278057b7bbca0b",
        "IPY_MODEL_7743d58b12204a9492fc9f874acfeb87",
        "IPY_MODEL_46fd154417294b56b425698f0eae8cdc",
        "IPY_MODEL_e5e6c53f73de4fcaa25d3d428f52adeb",
        "IPY_MODEL_1b2cc15cfcdb47a489b0352f92add9e4",
        "IPY_MODEL_1e3cbf3551874578be3b0a5b4849068a"
       ],
       "layout": "IPY_MODEL_51aae801419c4a4d98893b438bcd340a"
      }
     },
     "834fd1c7e0cc42f29537c52dfb377bec": {
      "model_module": "@jupyter-widgets/base",
      "model_module_version": "1.2.0",
      "model_name": "LayoutModel",
      "state": {
       "width": "20px"
      }
     },
     "83714da292bb4404b84384ab60a43648": {
      "model_module": "@jupyter-widgets/controls",
      "model_module_version": "1.5.0",
      "model_name": "ProgressStyleModel",
      "state": {
       "description_width": ""
      }
     },
     "83ae8de059424245a5ea86f1fcf219a5": {
      "model_module": "@jupyter-widgets/controls",
      "model_module_version": "1.5.0",
      "model_name": "DescriptionStyleModel",
      "state": {
       "description_width": ""
      }
     },
     "8402327456a241d6b62a5a34c70fea6e": {
      "model_module": "@jupyter-widgets/controls",
      "model_module_version": "1.5.0",
      "model_name": "DescriptionStyleModel",
      "state": {
       "description_width": ""
      }
     },
     "8424c3ab32764a5b8ae0d476aefe7b5c": {
      "model_module": "@jupyter-widgets/base",
      "model_module_version": "1.2.0",
      "model_name": "LayoutModel",
      "state": {
       "width": "20px"
      }
     },
     "8496cd2cf76f4f8fb97af337db3ec476": {
      "model_module": "@jupyter-widgets/controls",
      "model_module_version": "1.5.0",
      "model_name": "FloatProgressModel",
      "state": {
       "bar_style": "danger",
       "layout": "IPY_MODEL_f23a71b171f5434f895e3fa1ad21954f",
       "max": 1,
       "style": "IPY_MODEL_0875054b0cc645509ab2449a730d814d",
       "value": 1
      }
     },
     "84ae8ec5894444eb964ca34f4cb031dd": {
      "model_module": "@jupyter-widgets/controls",
      "model_module_version": "1.5.0",
      "model_name": "HTMLModel",
      "state": {
       "layout": "IPY_MODEL_cb78a5e327694005a504d0f8426bfd2d",
       "style": "IPY_MODEL_c72a66fa6b6947f69f2fb6277a3df12e",
       "value": " 35/? [00:00&lt;00:00, 40.16it/s]"
      }
     },
     "851f48a8076740a485e4d27914cd4ba9": {
      "model_module": "@jupyter-widgets/controls",
      "model_module_version": "1.5.0",
      "model_name": "FloatProgressModel",
      "state": {
       "bar_style": "danger",
       "layout": "IPY_MODEL_af9cccc7dd064929aa23de916b94d55d",
       "max": 1,
       "style": "IPY_MODEL_91914224aca944d1b34ac89febb1365e",
       "value": 1
      }
     },
     "85eb0e956e824759883061fee72b7355": {
      "model_module": "@jupyter-widgets/controls",
      "model_module_version": "1.5.0",
      "model_name": "HBoxModel",
      "state": {
       "children": [
        "IPY_MODEL_24c3df6d495340dc84eab65c6b6a92e8",
        "IPY_MODEL_2e7e42dfe174425eb9d0af09bdb8b3a2",
        "IPY_MODEL_f1bc528c3705470b8936946e4391fd98"
       ],
       "layout": "IPY_MODEL_ba8b856d8f91412a8b598ef77f24087a"
      }
     },
     "86281c1bac1d44cea6702109e107d106": {
      "model_module": "@jupyter-widgets/base",
      "model_module_version": "1.2.0",
      "model_name": "LayoutModel",
      "state": {}
     },
     "8648660e6b884df6bf54b056d4bb6d5e": {
      "buffers": [
       {
        "data": "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",
        "encoding": "base64",
        "path": [
         "value"
        ]
       }
      ],
      "model_module": "@jupyter-widgets/controls",
      "model_module_version": "1.5.0",
      "model_name": "ImageModel",
      "state": {
       "layout": "IPY_MODEL_2b14495eb7e64a2db76c918fb4aeee96"
      }
     },
     "86880e4eae084409920f7dac56bfdd81": {
      "model_module": "@jupyter-widgets/controls",
      "model_module_version": "1.5.0",
      "model_name": "DescriptionStyleModel",
      "state": {
       "description_width": ""
      }
     },
     "8739371bc525427381ab265a3cae744e": {
      "model_module": "@jupyter-widgets/base",
      "model_module_version": "1.2.0",
      "model_name": "LayoutModel",
      "state": {
       "width": "20px"
      }
     },
     "8770262de6e24a738de168ee78ce561a": {
      "model_module": "@jupyter-widgets/base",
      "model_module_version": "1.2.0",
      "model_name": "LayoutModel",
      "state": {}
     },
     "88106870e9a04d3a95f4cc4c4cb67c92": {
      "model_module": "@jupyter-widgets/controls",
      "model_module_version": "1.5.0",
      "model_name": "DescriptionStyleModel",
      "state": {
       "description_width": ""
      }
     },
     "88430d42133e49998cf52e67d26e7e93": {
      "model_module": "@jupyter-widgets/base",
      "model_module_version": "1.2.0",
      "model_name": "LayoutModel",
      "state": {}
     },
     "889218c82d5e409586fef66942827a7a": {
      "model_module": "@jupyter-widgets/controls",
      "model_module_version": "1.5.0",
      "model_name": "HTMLModel",
      "state": {
       "layout": "IPY_MODEL_8a7cc42aefc948da90da966ba8ca5090",
       "style": "IPY_MODEL_17607084fb434e9a96d598030c0c8af1"
      }
     },
     "89f8cab927174f7293fedc295a5df2f1": {
      "model_module": "@jupyter-widgets/controls",
      "model_module_version": "1.5.0",
      "model_name": "HTMLModel",
      "state": {
       "layout": "IPY_MODEL_21a3af0320d545e88276e7e53fea1c05",
       "style": "IPY_MODEL_0f17c5d34096441c922af1f84d8bb6e6"
      }
     },
     "8a2318c6d8304546bcdae088f4374df2": {
      "model_module": "@jupyter-widgets/base",
      "model_module_version": "1.2.0",
      "model_name": "LayoutModel",
      "state": {
       "display": "flex"
      }
     },
     "8a2b1878a84641b0bed74a577bd5f039": {
      "model_module": "@jupyter-widgets/controls",
      "model_module_version": "1.5.0",
      "model_name": "DescriptionStyleModel",
      "state": {
       "description_width": ""
      }
     },
     "8a33602856a94d69b9255a5bad29db3d": {
      "model_module": "@jupyter-widgets/controls",
      "model_module_version": "1.5.0",
      "model_name": "DescriptionStyleModel",
      "state": {
       "description_width": ""
      }
     },
     "8a7cc42aefc948da90da966ba8ca5090": {
      "model_module": "@jupyter-widgets/base",
      "model_module_version": "1.2.0",
      "model_name": "LayoutModel",
      "state": {}
     },
     "8a8bc3cb69894a23b1b5f6769b51d994": {
      "model_module": "@jupyter-widgets/controls",
      "model_module_version": "1.5.0",
      "model_name": "VBoxModel",
      "state": {
       "children": [
        "IPY_MODEL_80c0205e81f04bb3bdaf40812c6a6a68",
        "IPY_MODEL_0e8b31f204e84504bb413b1521820274",
        "IPY_MODEL_6a488a0052ba43e0aabfd781637f9d00",
        "IPY_MODEL_8d005bd5196741eaa6f78e6e767de6c9",
        "IPY_MODEL_803a2b3a05cb4d0f8bbacac7ef8ec7aa",
        "IPY_MODEL_f18070c0773c488680d373001ae7d7dd",
        "IPY_MODEL_d430a514b97f41dabdeb5f7a0426c514",
        "IPY_MODEL_1af5117e37864254907fa2b8998f467f",
        "IPY_MODEL_c4c3469a5d8a4391bfeca01dfe1f659d"
       ],
       "layout": "IPY_MODEL_daf9cb81e0864273b5ec3d6091e29972"
      }
     },
     "8b0fed6461ec4ee89b70132ea588434c": {
      "model_module": "@jupyter-widgets/base",
      "model_module_version": "1.2.0",
      "model_name": "LayoutModel",
      "state": {}
     },
     "8b1c0cf934454a66a5fdd5135f0540cb": {
      "model_module": "@jupyter-widgets/base",
      "model_module_version": "1.2.0",
      "model_name": "LayoutModel",
      "state": {}
     },
     "8b406adeca6945198ecf289bc5414ded": {
      "model_module": "@jupyter-widgets/base",
      "model_module_version": "1.2.0",
      "model_name": "LayoutModel",
      "state": {
       "display": "flex"
      }
     },
     "8b6a6db991e742bc9df3c0963202c86a": {
      "model_module": "@jupyter-widgets/controls",
      "model_module_version": "1.5.0",
      "model_name": "FloatProgressModel",
      "state": {
       "bar_style": "danger",
       "layout": "IPY_MODEL_3892a68ed6904d5bb7c37d98f831a39c",
       "max": 1,
       "style": "IPY_MODEL_0a90ca5dc2c64fbcac096a5343e5f690",
       "value": 1
      }
     },
     "8bac0e1bed1a409081a9afce0c18d9ee": {
      "model_module": "@jupyter-widgets/base",
      "model_module_version": "1.2.0",
      "model_name": "LayoutModel",
      "state": {}
     },
     "8bbd2cb1ef9d4f0fbfa01edd254fa911": {
      "model_module": "@jupyter-widgets/controls",
      "model_module_version": "1.5.0",
      "model_name": "FloatProgressModel",
      "state": {
       "bar_style": "danger",
       "layout": "IPY_MODEL_1f4270a9d9f44075ba447351079f7c13",
       "max": 1,
       "style": "IPY_MODEL_c0b8c7133afc4b079025f48c00695ebd",
       "value": 1
      }
     },
     "8bf520c0b6854eb8afc4c813ff78e040": {
      "model_module": "@jupyter-widgets/base",
      "model_module_version": "1.2.0",
      "model_name": "LayoutModel",
      "state": {}
     },
     "8d005bd5196741eaa6f78e6e767de6c9": {
      "model_module": "@jupyter-widgets/controls",
      "model_module_version": "1.5.0",
      "model_name": "TextModel",
      "state": {
       "description": "Y:",
       "layout": "IPY_MODEL_4dd9a7708aa6440db6732f76e4aa949c",
       "style": "IPY_MODEL_315e3883737844a5b3cef83016b2e2dc",
       "value": "0"
      }
     },
     "8d34466ef61c4765b576de2eb59f7b54": {
      "model_module": "@jupyter-widgets/base",
      "model_module_version": "1.2.0",
      "model_name": "LayoutModel",
      "state": {}
     },
     "8d416fa1fc7248839d5cbbc06ab9c64f": {
      "model_module": "@jupyter-widgets/base",
      "model_module_version": "1.2.0",
      "model_name": "LayoutModel",
      "state": {}
     },
     "8d624e0ecd9a4820acd54835b2b69bc6": {
      "model_module": "@jupyter-widgets/base",
      "model_module_version": "1.2.0",
      "model_name": "LayoutModel",
      "state": {}
     },
     "8d82f21220914370b51619d8cf706cd0": {
      "model_module": "@jupyter-widgets/controls",
      "model_module_version": "1.5.0",
      "model_name": "HTMLModel",
      "state": {
       "layout": "IPY_MODEL_6849aacda29547989e3f5c98a0840a91",
       "style": "IPY_MODEL_0ee355adf15246bf8b0d48ac0660abeb",
       "value": " 35/? [00:00&lt;00:00, 37.76it/s]"
      }
     },
     "8e6553def66a4bac9e0c6be3d94fc772": {
      "model_module": "@jupyter-widgets/base",
      "model_module_version": "1.2.0",
      "model_name": "LayoutModel",
      "state": {
       "display": "flex"
      }
     },
     "8e8348ad9ab145a4b459131bfc079eb7": {
      "model_module": "@jupyter-widgets/base",
      "model_module_version": "1.2.0",
      "model_name": "LayoutModel",
      "state": {
       "display": "flex"
      }
     },
     "8f5006d94bc34be39d023b74cbe0dced": {
      "model_module": "@jupyter-widgets/base",
      "model_module_version": "1.2.0",
      "model_name": "LayoutModel",
      "state": {}
     },
     "8f9055913b3b4cc8b0336bbed0b5ea62": {
      "model_module": "@jupyter-widgets/controls",
      "model_module_version": "1.5.0",
      "model_name": "DescriptionStyleModel",
      "state": {
       "description_width": ""
      }
     },
     "90aa1db7118844bdaf3c521c48a221b4": {
      "model_module": "@jupyter-widgets/controls",
      "model_module_version": "1.5.0",
      "model_name": "DescriptionStyleModel",
      "state": {
       "description_width": ""
      }
     },
     "90ea77e17bbc45959fb5e3a95323432e": {
      "model_module": "@jupyter-widgets/base",
      "model_module_version": "1.2.0",
      "model_name": "LayoutModel",
      "state": {}
     },
     "9101c831e75e4368874aab37dba69608": {
      "model_module": "@jupyter-widgets/base",
      "model_module_version": "1.2.0",
      "model_name": "LayoutModel",
      "state": {}
     },
     "91709c6c2d5f434f885089849c11dcbe": {
      "model_module": "@jupyter-widgets/controls",
      "model_module_version": "1.5.0",
      "model_name": "HTMLModel",
      "state": {
       "layout": "IPY_MODEL_e7946a89ee23459592a8bf751c6ba07c",
       "style": "IPY_MODEL_be76309118a54578a99e04b8d407f045",
       "value": " 35/? [00:00&lt;00:00, 38.83it/s]"
      }
     },
     "91914224aca944d1b34ac89febb1365e": {
      "model_module": "@jupyter-widgets/controls",
      "model_module_version": "1.5.0",
      "model_name": "ProgressStyleModel",
      "state": {
       "description_width": ""
      }
     },
     "91a208cee28a4670a061deb0b91c8fe2": {
      "model_module": "@jupyter-widgets/controls",
      "model_module_version": "1.5.0",
      "model_name": "HTMLModel",
      "state": {
       "layout": "IPY_MODEL_90ea77e17bbc45959fb5e3a95323432e",
       "style": "IPY_MODEL_ba27518adbdd4d8dbe7a70e248b2fcec",
       "value": " 35/? [00:00&lt;00:00, 35.94it/s]"
      }
     },
     "924cf8051544470a80c16a7987588a3c": {
      "model_module": "@jupyter-widgets/controls",
      "model_module_version": "1.5.0",
      "model_name": "FloatProgressModel",
      "state": {
       "bar_style": "danger",
       "layout": "IPY_MODEL_23a0e2cd0abb44b99d88d83bcad387a2",
       "max": 1,
       "style": "IPY_MODEL_c3a423cb64d94628afb5fd3553bdc20b",
       "value": 1
      }
     },
     "92907f0c420b499a8590c4d05cee78fd": {
      "model_module": "@jupyter-widgets/controls",
      "model_module_version": "1.5.0",
      "model_name": "HTMLModel",
      "state": {
       "layout": "IPY_MODEL_d3093b481ae441c0bd38f6c17683f469",
       "style": "IPY_MODEL_58758b076c194b36a2e5d919a0227113",
       "value": " 35/? [00:00&lt;00:00, 37.23it/s]"
      }
     },
     "92a16bfd5c0b4e98907088ffc52e953b": {
      "model_module": "@jupyter-widgets/base",
      "model_module_version": "1.2.0",
      "model_name": "LayoutModel",
      "state": {}
     },
     "92de0c6997d64f83a7e21ed6a081ee04": {
      "model_module": "@jupyter-widgets/base",
      "model_module_version": "1.2.0",
      "model_name": "LayoutModel",
      "state": {
       "width": "20px"
      }
     },
     "92f43b963ec3433090bd71743c290963": {
      "model_module": "@jupyter-widgets/base",
      "model_module_version": "1.2.0",
      "model_name": "LayoutModel",
      "state": {}
     },
     "92f7b99363b24476879a970469bb0f2a": {
      "model_module": "@jupyter-widgets/controls",
      "model_module_version": "1.5.0",
      "model_name": "ProgressStyleModel",
      "state": {
       "description_width": ""
      }
     },
     "931cf28328574db8804bc7c05c624de8": {
      "model_module": "@jupyter-widgets/controls",
      "model_module_version": "1.5.0",
      "model_name": "DescriptionStyleModel",
      "state": {
       "description_width": ""
      }
     },
     "93df4c1f2b24428ca995283fd820438e": {
      "model_module": "@jupyter-widgets/controls",
      "model_module_version": "1.5.0",
      "model_name": "HBoxModel",
      "state": {
       "children": [
        "IPY_MODEL_18ddf20e4d7d4734b7926d9169c09796",
        "IPY_MODEL_1a1409c4f69241b7a0e158180579e66d",
        "IPY_MODEL_e781b9241baf431aaac538c15605a8d4"
       ],
       "layout": "IPY_MODEL_269407f9019c44e5aed350d986129bdc"
      }
     },
     "951e8ffdfa5b4f838c8d97b524a176e6": {
      "model_module": "@jupyter-widgets/controls",
      "model_module_version": "1.5.0",
      "model_name": "FloatProgressModel",
      "state": {
       "bar_style": "danger",
       "layout": "IPY_MODEL_197faf4c324d4a069234d9c1fe7dd68d",
       "max": 1,
       "style": "IPY_MODEL_1f10048d4d9a4e25aae8891ddecd38ea",
       "value": 1
      }
     },
     "952e9ee44586406ba735323b29f4751c": {
      "model_module": "@jupyter-widgets/controls",
      "model_module_version": "1.5.0",
      "model_name": "ProgressStyleModel",
      "state": {
       "description_width": ""
      }
     },
     "95d2933aca0a437db7bd3514ba0bfbd4": {
      "model_module": "@jupyter-widgets/controls",
      "model_module_version": "1.5.0",
      "model_name": "HBoxModel",
      "state": {
       "children": [
        "IPY_MODEL_fbbcec59dda142e8a96ce2960a0aab2c",
        "IPY_MODEL_0a5de15f5110448f9f0854a69df064b7",
        "IPY_MODEL_cf2f613826ae49978c1590762756ad2f"
       ],
       "layout": "IPY_MODEL_39640a11fcdf4c41906b1c95a21006e6"
      }
     },
     "95d74dcd8500469ab961a2d9d13a63b3": {
      "model_module": "@jupyter-widgets/controls",
      "model_module_version": "1.5.0",
      "model_name": "DescriptionStyleModel",
      "state": {
       "description_width": ""
      }
     },
     "961e57434101440595b30954ef6232f3": {
      "model_module": "@jupyter-widgets/base",
      "model_module_version": "1.2.0",
      "model_name": "LayoutModel",
      "state": {}
     },
     "9664bf475d64434892b56d717fe8803d": {
      "model_module": "@jupyter-widgets/controls",
      "model_module_version": "1.5.0",
      "model_name": "ProgressStyleModel",
      "state": {
       "description_width": ""
      }
     },
     "968ccf5500804ce49c1465d49ca19cd2": {
      "model_module": "@jupyter-widgets/base",
      "model_module_version": "1.2.0",
      "model_name": "LayoutModel",
      "state": {}
     },
     "973320ad3b0b4caba63e580d8bd84c54": {
      "model_module": "@jupyter-widgets/controls",
      "model_module_version": "1.5.0",
      "model_name": "DescriptionStyleModel",
      "state": {
       "description_width": ""
      }
     },
     "975fa2a7a4df4065952ca67deb18e9cf": {
      "model_module": "@jupyter-widgets/controls",
      "model_module_version": "1.5.0",
      "model_name": "DescriptionStyleModel",
      "state": {
       "description_width": ""
      }
     },
     "9894bd5fa44947d1bcb6dfca39fa36aa": {
      "model_module": "@jupyter-widgets/controls",
      "model_module_version": "1.5.0",
      "model_name": "HBoxModel",
      "state": {
       "children": [
        "IPY_MODEL_3ac2992678024bf4b8182320abe60338",
        "IPY_MODEL_1c8d3fc487784107a5b4894f492c2e71",
        "IPY_MODEL_f72cbec632de496a881a9555b492cbc9"
       ],
       "layout": "IPY_MODEL_e5f98379285646bb82c112cec0c7a779"
      }
     },
     "98e091a3346043bab7a8c7ab1e65b45f": {
      "model_module": "@jupyter-widgets/controls",
      "model_module_version": "1.5.0",
      "model_name": "DescriptionStyleModel",
      "state": {
       "description_width": ""
      }
     },
     "997c3240e7514c689cbee3382702f39d": {
      "model_module": "@jupyter-widgets/controls",
      "model_module_version": "1.5.0",
      "model_name": "HTMLModel",
      "state": {
       "layout": "IPY_MODEL_3cc00ca4b38f41b98049b4357f90a0bb",
       "style": "IPY_MODEL_d7700322638f40e1bf2ad7516371fb5d",
       "value": " 35/? [00:00&lt;00:00, 36.44it/s]"
      }
     },
     "999371dc192b4c31b6b9d1d56ab3646e": {
      "model_module": "@jupyter-widgets/controls",
      "model_module_version": "1.5.0",
      "model_name": "DescriptionStyleModel",
      "state": {
       "description_width": ""
      }
     },
     "99b060c1eb3048dcb797a97fafb64662": {
      "model_module": "@jupyter-widgets/controls",
      "model_module_version": "1.5.0",
      "model_name": "TextModel",
      "state": {
       "description": "X:",
       "layout": "IPY_MODEL_41ee6b448f9b425a81b1cb482dea81ff",
       "style": "IPY_MODEL_045c88dc5ce044088f0ea68b513241d3",
       "value": "-0.11908658245426443"
      }
     },
     "9a686480ffb1412093e00ce51994068e": {
      "model_module": "@jupyter-widgets/controls",
      "model_module_version": "1.5.0",
      "model_name": "FloatProgressModel",
      "state": {
       "bar_style": "danger",
       "layout": "IPY_MODEL_ce2c14426b214322b32ed6b48b56ec76",
       "max": 1,
       "style": "IPY_MODEL_7da9623a48f84bb4b44f0aa3769d1377",
       "value": 1
      }
     },
     "9b1bc5acc5ed4dd2ad2471fee4c00481": {
      "model_module": "@jupyter-widgets/base",
      "model_module_version": "1.2.0",
      "model_name": "LayoutModel",
      "state": {
       "width": "20px"
      }
     },
     "9bf8cd6d1b6d4dfe97577eaa58f93811": {
      "model_module": "@jupyter-widgets/controls",
      "model_module_version": "1.5.0",
      "model_name": "VBoxModel",
      "state": {
       "children": [
        "IPY_MODEL_bc5f08b770db4af9b20e0981eccac73a",
        "IPY_MODEL_b537e7ad4c244858951c92032a26dac0",
        "IPY_MODEL_99b060c1eb3048dcb797a97fafb64662",
        "IPY_MODEL_70e932daf5ff4cccb24bb32b21464b67",
        "IPY_MODEL_49b13ab8a91b4f67ad7eeec1cb33f528",
        "IPY_MODEL_a10810a7361f415c81cf324a7335b47a",
        "IPY_MODEL_595ad5f894be4b96ba65a63104e1dc6c",
        "IPY_MODEL_ce1c3f5061cb4860b7b958794aef8601",
        "IPY_MODEL_f37af93b710640feab210e8aa25a2ec7"
       ],
       "layout": "IPY_MODEL_7d8bb70f818c405d99cb7f5a5e5acf9b"
      }
     },
     "9c3d4c468a4d4c42ada7dbe7030972e2": {
      "model_module": "@jupyter-widgets/base",
      "model_module_version": "1.2.0",
      "model_name": "LayoutModel",
      "state": {}
     },
     "9c67af5b2c8f42f8ac52c0bfc745980d": {
      "model_module": "@jupyter-widgets/controls",
      "model_module_version": "1.5.0",
      "model_name": "ProgressStyleModel",
      "state": {
       "description_width": ""
      }
     },
     "9cca69fd22384e2ab5f2efb2588ca344": {
      "model_module": "@jupyter-widgets/controls",
      "model_module_version": "1.5.0",
      "model_name": "HTMLModel",
      "state": {
       "layout": "IPY_MODEL_2e9b99c8f8c54bb0bf9f17b31dee9fd0",
       "style": "IPY_MODEL_68b497733af24b3fa894282affe63d11"
      }
     },
     "9d157607ac3e45078eebad176398b14c": {
      "model_module": "@jupyter-widgets/controls",
      "model_module_version": "1.5.0",
      "model_name": "HTMLModel",
      "state": {
       "layout": "IPY_MODEL_f8ae4776759d4c1d894802a38c8e441f",
       "style": "IPY_MODEL_28ebb1e3223f43c08d87e16d289bfde4"
      }
     },
     "9da7a4f6c24245c9b1e2f4e373e540a2": {
      "model_module": "@jupyter-widgets/base",
      "model_module_version": "1.2.0",
      "model_name": "LayoutModel",
      "state": {}
     },
     "9db574c6603944189e34d7009d25ad23": {
      "model_module": "@jupyter-widgets/base",
      "model_module_version": "1.2.0",
      "model_name": "LayoutModel",
      "state": {
       "width": "20px"
      }
     },
     "9e2d859fc8554c34a48534f7ef4c776a": {
      "model_module": "@jupyter-widgets/controls",
      "model_module_version": "1.5.0",
      "model_name": "HBoxModel",
      "state": {
       "children": [
        "IPY_MODEL_224c007a848446e38a3fa7adc17af63d",
        "IPY_MODEL_4bad8dec8e1d4e6596794cd307b325b5",
        "IPY_MODEL_b1dcc8087630483c81067ad2c065399c"
       ],
       "layout": "IPY_MODEL_4ff7a510aae2416b9fadbec2c0cd450d"
      }
     },
     "9f064fbcc0604db39b3b882745aade72": {
      "model_module": "@jupyter-widgets/controls",
      "model_module_version": "1.5.0",
      "model_name": "HBoxModel",
      "state": {
       "children": [
        "IPY_MODEL_654a7995f7c94ccba6cd335d9e433095",
        "IPY_MODEL_c2ea8a30881f43bab5c377cc3fa9a85c",
        "IPY_MODEL_48ce9043563847909ed8f1a88ff94fee"
       ],
       "layout": "IPY_MODEL_2f95180503354059bcc9dc2524981721"
      }
     },
     "9f2473a61ad14597b0e414ee71eb254b": {
      "model_module": "@jupyter-widgets/controls",
      "model_module_version": "1.5.0",
      "model_name": "ProgressStyleModel",
      "state": {
       "description_width": ""
      }
     },
     "9f56946828574484811ee43f6a73caa1": {
      "model_module": "@jupyter-widgets/controls",
      "model_module_version": "1.5.0",
      "model_name": "HTMLModel",
      "state": {
       "layout": "IPY_MODEL_8f5006d94bc34be39d023b74cbe0dced",
       "style": "IPY_MODEL_aba524f8b831473ab71820d1cbcee0a7"
      }
     },
     "9f7fb3a93a11489ea40c151351f7f2af": {
      "model_module": "@jupyter-widgets/controls",
      "model_module_version": "1.5.0",
      "model_name": "FloatProgressModel",
      "state": {
       "bar_style": "danger",
       "layout": "IPY_MODEL_1fe16d2e56e24426be9da9414e470a4d",
       "max": 1,
       "style": "IPY_MODEL_d9f754fdf0e64410a57583977f8424d5",
       "value": 1
      }
     },
     "9f85e696f6684ede97ebc992b57e219a": {
      "model_module": "@jupyter-widgets/controls",
      "model_module_version": "1.5.0",
      "model_name": "ProgressStyleModel",
      "state": {
       "description_width": ""
      }
     },
     "9fb5550a8aed42aea1615b0bfce8ae59": {
      "model_module": "@jupyter-widgets/controls",
      "model_module_version": "1.5.0",
      "model_name": "DescriptionStyleModel",
      "state": {
       "description_width": ""
      }
     },
     "9fbcebaae2bc495082bbf3e29fa79fe5": {
      "model_module": "@jupyter-widgets/base",
      "model_module_version": "1.2.0",
      "model_name": "LayoutModel",
      "state": {}
     },
     "9fd1682f3b5b477eb888ce1730832441": {
      "model_module": "@jupyter-widgets/base",
      "model_module_version": "1.2.0",
      "model_name": "LayoutModel",
      "state": {
       "border": "10px solid rgb(0 177 255)",
       "margin": "auto"
      }
     },
     "9fd54fe95d354bfca11d133af8f8c19f": {
      "model_module": "@jupyter-widgets/controls",
      "model_module_version": "1.5.0",
      "model_name": "FloatProgressModel",
      "state": {
       "bar_style": "danger",
       "layout": "IPY_MODEL_d18d2618dcaa4f43a05ff926c9dca81b",
       "max": 1,
       "style": "IPY_MODEL_e8585d8081704710bbd529611b090ab0",
       "value": 1
      }
     },
     "9ffa9b19152c47f9a5d6351b972ba324": {
      "model_module": "@jupyter-widgets/controls",
      "model_module_version": "1.5.0",
      "model_name": "DescriptionStyleModel",
      "state": {
       "description_width": ""
      }
     },
     "a0a9f0dde4e3444ea797c49660b1f960": {
      "model_module": "@jupyter-widgets/base",
      "model_module_version": "1.2.0",
      "model_name": "LayoutModel",
      "state": {}
     },
     "a10810a7361f415c81cf324a7335b47a": {
      "model_module": "@jupyter-widgets/controls",
      "model_module_version": "1.5.0",
      "model_name": "TextModel",
      "state": {
       "description": "Stalled:",
       "layout": "IPY_MODEL_b05e40b265cf4e08a293a3de3d0c7d03",
       "style": "IPY_MODEL_19d3ac96d721495fa882f9b1eef96000",
       "value": "False"
      }
     },
     "a15331de920941b3a24a7c67c3b6af54": {
      "model_module": "@jupyter-widgets/controls",
      "model_module_version": "1.5.0",
      "model_name": "HTMLModel",
      "state": {
       "layout": "IPY_MODEL_bd4807138d6b4e66aebfef84f9a680fb",
       "style": "IPY_MODEL_b74a0c77cae64fd994bdef0b5cb2e218",
       "value": " 35/? [00:00&lt;00:00, 36.92it/s]"
      }
     },
     "a188d267f5a347739a98e7418593d85a": {
      "model_module": "@jupyter-widgets/controls",
      "model_module_version": "1.5.0",
      "model_name": "HBoxModel",
      "state": {
       "children": [
        "IPY_MODEL_4738a4999230450a8a6208c452120d68",
        "IPY_MODEL_e159fd326c4c47e5b964aef99d667a98",
        "IPY_MODEL_8d82f21220914370b51619d8cf706cd0"
       ],
       "layout": "IPY_MODEL_4fed468e4ac74e3a9abf3b592242e604"
      }
     },
     "a1a36f56e2e94d7dbef03506ee6bf78f": {
      "model_module": "@jupyter-widgets/controls",
      "model_module_version": "1.5.0",
      "model_name": "HBoxModel",
      "state": {
       "children": [
        "IPY_MODEL_bf2ef92df261450d8178b08501a221f4",
        "IPY_MODEL_0f7d722d9059467ca474d58f2c968c93",
        "IPY_MODEL_92907f0c420b499a8590c4d05cee78fd"
       ],
       "layout": "IPY_MODEL_748193c051c2444ea82c796b69328af4"
      }
     },
     "a1c4a726e769498391537f167215f98e": {
      "model_module": "@jupyter-widgets/base",
      "model_module_version": "1.2.0",
      "model_name": "LayoutModel",
      "state": {}
     },
     "a2f51981b8ad4fbe994936609f403426": {
      "model_module": "@jupyter-widgets/controls",
      "model_module_version": "1.5.0",
      "model_name": "HTMLModel",
      "state": {
       "layout": "IPY_MODEL_86281c1bac1d44cea6702109e107d106",
       "style": "IPY_MODEL_5a2f171ab0a54e8c9d8a2c67854cccd6"
      }
     },
     "a371f20b4e6e4bbca187de4d50cfb419": {
      "model_module": "@jupyter-widgets/controls",
      "model_module_version": "1.5.0",
      "model_name": "HTMLModel",
      "state": {
       "layout": "IPY_MODEL_2c9ccddfa08e4241b87658bc6da3ff2c",
       "style": "IPY_MODEL_db146cf6e35b49ac999f2c544764915e"
      }
     },
     "a40713e081e940bc80b298f1817994d7": {
      "model_module": "@jupyter-widgets/base",
      "model_module_version": "1.2.0",
      "model_name": "LayoutModel",
      "state": {
       "width": "20px"
      }
     },
     "a417355f4bac4c4591bfd04e818b9a97": {
      "model_module": "@jupyter-widgets/controls",
      "model_module_version": "1.5.0",
      "model_name": "DescriptionStyleModel",
      "state": {
       "description_width": ""
      }
     },
     "a4de8ec9949545d3bc3cd241cbfa72d0": {
      "model_module": "@jupyter-widgets/controls",
      "model_module_version": "1.5.0",
      "model_name": "DescriptionStyleModel",
      "state": {
       "description_width": ""
      }
     },
     "a503646d9cc34017bab8ff0374636dd3": {
      "model_module": "@jupyter-widgets/controls",
      "model_module_version": "1.5.0",
      "model_name": "DescriptionStyleModel",
      "state": {
       "description_width": ""
      }
     },
     "a56f3229b6124389bcfce9eb2c7d07f4": {
      "model_module": "@jupyter-widgets/controls",
      "model_module_version": "1.5.0",
      "model_name": "DescriptionStyleModel",
      "state": {
       "description_width": ""
      }
     },
     "a5a2e1c36d1b4d8a900b12a8d895c072": {
      "model_module": "@jupyter-widgets/base",
      "model_module_version": "1.2.0",
      "model_name": "LayoutModel",
      "state": {}
     },
     "a601a4af34254114b3270adcca63d812": {
      "model_module": "@jupyter-widgets/controls",
      "model_module_version": "1.5.0",
      "model_name": "HTMLModel",
      "state": {
       "layout": "IPY_MODEL_dc8cb3422be54443921bc828b5351a2f",
       "style": "IPY_MODEL_d672baff47c84df0997a27749b53ee75",
       "value": " 35/? [00:00&lt;00:00, 38.65it/s]"
      }
     },
     "a60bb10efcd64f3492025f9381dee7ae": {
      "model_module": "@jupyter-widgets/base",
      "model_module_version": "1.2.0",
      "model_name": "LayoutModel",
      "state": {
       "display": "flex"
      }
     },
     "a64e4d48b43e48f6b7dec343875c60bc": {
      "model_module": "@jupyter-widgets/controls",
      "model_module_version": "1.5.0",
      "model_name": "HBoxModel",
      "state": {
       "children": [
        "IPY_MODEL_f299064dbbea4384acc36e76585ab7ed",
        "IPY_MODEL_24fe9f60f4b9494aa3ce8a33029b8b8b",
        "IPY_MODEL_bd79e581aba14a7eb8e5d82759d84ef5"
       ],
       "layout": "IPY_MODEL_3eba1339a2dd467b82e27b8ba850dd28"
      }
     },
     "a6670c35146042d6a840687a5020c169": {
      "model_module": "@jupyter-widgets/controls",
      "model_module_version": "1.5.0",
      "model_name": "HTMLModel",
      "state": {
       "layout": "IPY_MODEL_5f6d79ca4d7b44ea8504c61ab21c0565",
       "style": "IPY_MODEL_2ad3701c6c2244e79627f6a91652d6cb"
      }
     },
     "a67dcd0e4dd34a61bc8039142efc09dc": {
      "model_module": "@jupyter-widgets/base",
      "model_module_version": "1.2.0",
      "model_name": "LayoutModel",
      "state": {}
     },
     "a6aef430feb74a45a7cb5559886e1dba": {
      "model_module": "@jupyter-widgets/controls",
      "model_module_version": "1.5.0",
      "model_name": "DescriptionStyleModel",
      "state": {
       "description_width": ""
      }
     },
     "a7b51a36f7db44b8a1a53fff565b51cc": {
      "model_module": "@jupyter-widgets/controls",
      "model_module_version": "1.5.0",
      "model_name": "DescriptionStyleModel",
      "state": {
       "description_width": ""
      }
     },
     "a83e1689df4d49f08fdcba782cc6851e": {
      "model_module": "@jupyter-widgets/controls",
      "model_module_version": "1.5.0",
      "model_name": "HTMLModel",
      "state": {
       "layout": "IPY_MODEL_62a7e9f529784cea8e1455128a56627a",
       "style": "IPY_MODEL_19f17a91d1114f3c8a5218aa392144c0"
      }
     },
     "a8987674c12347949ea28c34b51fbfad": {
      "model_module": "@jupyter-widgets/base",
      "model_module_version": "1.2.0",
      "model_name": "LayoutModel",
      "state": {
       "border": "10px solid rgb(0 177 255)"
      }
     },
     "a8d027857f544494ac918fd1e652924a": {
      "model_module": "@jupyter-widgets/base",
      "model_module_version": "1.2.0",
      "model_name": "LayoutModel",
      "state": {
       "width": "20px"
      }
     },
     "a92768dd2edc46549cdf772ad03d6b40": {
      "model_module": "@jupyter-widgets/base",
      "model_module_version": "1.2.0",
      "model_name": "LayoutModel",
      "state": {}
     },
     "a9524ff902d44a48ab7e12c94c374d00": {
      "model_module": "@jupyter-widgets/controls",
      "model_module_version": "1.5.0",
      "model_name": "DescriptionStyleModel",
      "state": {
       "description_width": ""
      }
     },
     "a9e75f5105274a46af6d7fe59144c7d1": {
      "model_module": "@jupyter-widgets/controls",
      "model_module_version": "1.5.0",
      "model_name": "DescriptionStyleModel",
      "state": {
       "description_width": ""
      }
     },
     "aa519e18c621429391aa06ecfe6163d9": {
      "model_module": "@jupyter-widgets/controls",
      "model_module_version": "1.5.0",
      "model_name": "DescriptionStyleModel",
      "state": {
       "description_width": ""
      }
     },
     "ab772f86ac7d419e8fdd2203bfb27be4": {
      "model_module": "@jupyter-widgets/controls",
      "model_module_version": "1.5.0",
      "model_name": "HTMLModel",
      "state": {
       "layout": "IPY_MODEL_00f89c116030456fa7edc7808d1f546a",
       "style": "IPY_MODEL_a9e75f5105274a46af6d7fe59144c7d1",
       "value": " 35/? [00:00&lt;00:00, 37.90it/s]"
      }
     },
     "ab99afe8f4b944b5a19875a7826a0dc2": {
      "model_module": "@jupyter-widgets/base",
      "model_module_version": "1.2.0",
      "model_name": "LayoutModel",
      "state": {}
     },
     "aba524f8b831473ab71820d1cbcee0a7": {
      "model_module": "@jupyter-widgets/controls",
      "model_module_version": "1.5.0",
      "model_name": "DescriptionStyleModel",
      "state": {
       "description_width": ""
      }
     },
     "aba5c66a78d34ffea8eaa68535a39e92": {
      "model_module": "@jupyter-widgets/controls",
      "model_module_version": "1.5.0",
      "model_name": "DescriptionStyleModel",
      "state": {
       "description_width": ""
      }
     },
     "ac29aa0bfc514b35afbbb46358018002": {
      "model_module": "@jupyter-widgets/base",
      "model_module_version": "1.2.0",
      "model_name": "LayoutModel",
      "state": {}
     },
     "ac89d140623e4e5b8d19ea97b8414f30": {
      "model_module": "@jupyter-widgets/controls",
      "model_module_version": "1.5.0",
      "model_name": "DescriptionStyleModel",
      "state": {
       "description_width": ""
      }
     },
     "acd67f12e0764bda836b2cf46ae6cff2": {
      "model_module": "@jupyter-widgets/base",
      "model_module_version": "1.2.0",
      "model_name": "LayoutModel",
      "state": {
       "width": "20px"
      }
     },
     "ae06913e1a854507a8bc893afafb2250": {
      "model_module": "@jupyter-widgets/controls",
      "model_module_version": "1.5.0",
      "model_name": "DescriptionStyleModel",
      "state": {
       "description_width": ""
      }
     },
     "af9cccc7dd064929aa23de916b94d55d": {
      "model_module": "@jupyter-widgets/base",
      "model_module_version": "1.2.0",
      "model_name": "LayoutModel",
      "state": {
       "width": "20px"
      }
     },
     "afdfbc2ede4b4c059ae04e0994d8b1df": {
      "model_module": "@jupyter-widgets/controls",
      "model_module_version": "1.5.0",
      "model_name": "ProgressStyleModel",
      "state": {
       "description_width": ""
      }
     },
     "b00adce4b4c14092afe66c923ebaa0bd": {
      "model_module": "@jupyter-widgets/controls",
      "model_module_version": "1.5.0",
      "model_name": "ProgressStyleModel",
      "state": {
       "description_width": ""
      }
     },
     "b05e40b265cf4e08a293a3de3d0c7d03": {
      "model_module": "@jupyter-widgets/base",
      "model_module_version": "1.2.0",
      "model_name": "LayoutModel",
      "state": {
       "display": "flex"
      }
     },
     "b0b7daedd96b41f39c182e8ff95cd696": {
      "model_module": "@jupyter-widgets/controls",
      "model_module_version": "1.5.0",
      "model_name": "DescriptionStyleModel",
      "state": {
       "description_width": ""
      }
     },
     "b0f09818b2c64b1a9b5f383a11a3f1a9": {
      "model_module": "@jupyter-widgets/base",
      "model_module_version": "1.2.0",
      "model_name": "LayoutModel",
      "state": {}
     },
     "b1cc1f053f4e45b2af21defefd62b743": {
      "model_module": "@jupyter-widgets/controls",
      "model_module_version": "1.5.0",
      "model_name": "DescriptionStyleModel",
      "state": {
       "description_width": ""
      }
     },
     "b1dcc8087630483c81067ad2c065399c": {
      "model_module": "@jupyter-widgets/controls",
      "model_module_version": "1.5.0",
      "model_name": "HTMLModel",
      "state": {
       "layout": "IPY_MODEL_92a16bfd5c0b4e98907088ffc52e953b",
       "style": "IPY_MODEL_b3aaeedb5b9440db9a22594c984c9f88",
       "value": " 35/? [00:00&lt;00:00, 37.49it/s]"
      }
     },
     "b1fb1753cc764722a9173982c63ef098": {
      "model_module": "@jupyter-widgets/controls",
      "model_module_version": "1.5.0",
      "model_name": "HTMLModel",
      "state": {
       "layout": "IPY_MODEL_a5a2e1c36d1b4d8a900b12a8d895c072",
       "style": "IPY_MODEL_47a8b9488ab142618119b0c8d2780ac9"
      }
     },
     "b20ad705313748af9c112fa030ebe376": {
      "model_module": "@jupyter-widgets/base",
      "model_module_version": "1.2.0",
      "model_name": "LayoutModel",
      "state": {}
     },
     "b230254fec8d4f2b890518459f6202c8": {
      "model_module": "@jupyter-widgets/base",
      "model_module_version": "1.2.0",
      "model_name": "LayoutModel",
      "state": {
       "width": "20px"
      }
     },
     "b233612bf680469d82ff7829fc379d8e": {
      "model_module": "@jupyter-widgets/base",
      "model_module_version": "1.2.0",
      "model_name": "LayoutModel",
      "state": {
       "width": "20px"
      }
     },
     "b2647a781d984f71a594dbfdaca386d1": {
      "model_module": "@jupyter-widgets/controls",
      "model_module_version": "1.5.0",
      "model_name": "HBoxModel",
      "state": {
       "children": [
        "IPY_MODEL_f4f7234a2f0443fdac7eee869b4b7b91",
        "IPY_MODEL_9a686480ffb1412093e00ce51994068e",
        "IPY_MODEL_111986f640b24a94af0ba7acf0421c78"
       ],
       "layout": "IPY_MODEL_1ed35376242544e090f666a5d0cbad29"
      }
     },
     "b30ac7eecc67426d893521faa942e299": {
      "model_module": "@jupyter-widgets/controls",
      "model_module_version": "1.5.0",
      "model_name": "HBoxModel",
      "state": {
       "children": [
        "IPY_MODEL_2894044e18134691bb34abb346b574e8",
        "IPY_MODEL_1d6c147cb179450fa4cdcf2f30384e06",
        "IPY_MODEL_dee5b3702a9a4f228773656a3d4f0712"
       ],
       "layout": "IPY_MODEL_7463e0a6e21b426dbc7fd0f5024928ab"
      }
     },
     "b3107c40f244491fa30e18c414fe375b": {
      "model_module": "@jupyter-widgets/controls",
      "model_module_version": "1.5.0",
      "model_name": "DescriptionStyleModel",
      "state": {
       "description_width": ""
      }
     },
     "b34ce8bf8f854541b64c2aea380237ca": {
      "model_module": "@jupyter-widgets/base",
      "model_module_version": "1.2.0",
      "model_name": "LayoutModel",
      "state": {
       "width": "20px"
      }
     },
     "b3aaeedb5b9440db9a22594c984c9f88": {
      "model_module": "@jupyter-widgets/controls",
      "model_module_version": "1.5.0",
      "model_name": "DescriptionStyleModel",
      "state": {
       "description_width": ""
      }
     },
     "b3d58f26d4a341c79d712c520d83c8d6": {
      "model_module": "@jupyter-widgets/controls",
      "model_module_version": "1.5.0",
      "model_name": "DescriptionStyleModel",
      "state": {
       "description_width": ""
      }
     },
     "b3db24547e3740089cd697c6539c5dce": {
      "model_module": "@jupyter-widgets/base",
      "model_module_version": "1.2.0",
      "model_name": "LayoutModel",
      "state": {}
     },
     "b51bafde692847b6a2861d4756c06595": {
      "model_module": "@jupyter-widgets/base",
      "model_module_version": "1.2.0",
      "model_name": "LayoutModel",
      "state": {}
     },
     "b537e7ad4c244858951c92032a26dac0": {
      "model_module": "@jupyter-widgets/controls",
      "model_module_version": "1.5.0",
      "model_name": "TextModel",
      "state": {
       "description": "Name:",
       "layout": "IPY_MODEL_8a2318c6d8304546bcdae088f4374df2",
       "style": "IPY_MODEL_9ffa9b19152c47f9a5d6351b972ba324",
       "value": "Robbie"
      }
     },
     "b5aa370b4dba4adfa5c6ee2fa138e874": {
      "model_module": "@jupyter-widgets/base",
      "model_module_version": "1.2.0",
      "model_name": "LayoutModel",
      "state": {}
     },
     "b6fae9208abe4fc9b974247bb4f07cab": {
      "model_module": "@jupyter-widgets/controls",
      "model_module_version": "1.5.0",
      "model_name": "DescriptionStyleModel",
      "state": {
       "description_width": ""
      }
     },
     "b74a0c77cae64fd994bdef0b5cb2e218": {
      "model_module": "@jupyter-widgets/controls",
      "model_module_version": "1.5.0",
      "model_name": "DescriptionStyleModel",
      "state": {
       "description_width": ""
      }
     },
     "b78018ea3f82497a93e1910b20746f60": {
      "model_module": "@jupyter-widgets/base",
      "model_module_version": "1.2.0",
      "model_name": "LayoutModel",
      "state": {
       "width": "20px"
      }
     },
     "b7dc317f3bf74b9594c6e1611e7962ef": {
      "model_module": "@jupyter-widgets/base",
      "model_module_version": "1.2.0",
      "model_name": "LayoutModel",
      "state": {}
     },
     "b8d85c66081f465784bcc0b17b69f772": {
      "model_module": "@jupyter-widgets/controls",
      "model_module_version": "1.5.0",
      "model_name": "HTMLModel",
      "state": {
       "layout": "IPY_MODEL_961e57434101440595b30954ef6232f3",
       "style": "IPY_MODEL_7c36781019db44149b9dda64fe798bb1"
      }
     },
     "b8df823094244d18856cf12060ade3ee": {
      "model_module": "@jupyter-widgets/controls",
      "model_module_version": "1.5.0",
      "model_name": "HTMLModel",
      "state": {
       "layout": "IPY_MODEL_b3db24547e3740089cd697c6539c5dce",
       "style": "IPY_MODEL_61c5e3856caf4c4c9d75575c46c360c5"
      }
     },
     "b8fa4828c2594bb4b1561cec063b7aa4": {
      "model_module": "@jupyter-widgets/controls",
      "model_module_version": "1.5.0",
      "model_name": "HBoxModel",
      "state": {
       "children": [
        "IPY_MODEL_2904a2c6383b4523b5b557340366334f",
        "IPY_MODEL_3cae5a7ec4534fda84f827d22306d8a7",
        "IPY_MODEL_1873d6536cf743959117037240e90658"
       ],
       "layout": "IPY_MODEL_2aa02b230f254fd086f36d12f911d866"
      }
     },
     "b9392d0c3482495cb438977dfb1bd91b": {
      "model_module": "@jupyter-widgets/controls",
      "model_module_version": "1.5.0",
      "model_name": "HBoxModel",
      "state": {
       "children": [
        "IPY_MODEL_6c732cab7ba146b790d1b8d29647029f",
        "IPY_MODEL_8bbd2cb1ef9d4f0fbfa01edd254fa911",
        "IPY_MODEL_3986f55675fb468f97b046eb99b1b02b"
       ],
       "layout": "IPY_MODEL_3d74293be43c40c8afd6518e534f8884"
      }
     },
     "b9e53b58f4974e4a95b7b49548ef589b": {
      "model_module": "@jupyter-widgets/controls",
      "model_module_version": "1.5.0",
      "model_name": "HTMLModel",
      "state": {
       "layout": "IPY_MODEL_0ad5bc884af04bcf9bce28bb90fad7fa",
       "style": "IPY_MODEL_975fa2a7a4df4065952ca67deb18e9cf",
       "value": "<style>img.pixelated {image-rendering: pixelated;}</style>"
      }
     },
     "b9e5476ce133442c8931d637148876e1": {
      "model_module": "@jupyter-widgets/controls",
      "model_module_version": "1.5.0",
      "model_name": "FloatProgressModel",
      "state": {
       "bar_style": "danger",
       "layout": "IPY_MODEL_9b1bc5acc5ed4dd2ad2471fee4c00481",
       "max": 1,
       "style": "IPY_MODEL_cf2ec957c63d496aaa0be25dde89ab5a",
       "value": 1
      }
     },
     "ba27518adbdd4d8dbe7a70e248b2fcec": {
      "model_module": "@jupyter-widgets/controls",
      "model_module_version": "1.5.0",
      "model_name": "DescriptionStyleModel",
      "state": {
       "description_width": ""
      }
     },
     "ba8b856d8f91412a8b598ef77f24087a": {
      "model_module": "@jupyter-widgets/base",
      "model_module_version": "1.2.0",
      "model_name": "LayoutModel",
      "state": {}
     },
     "bae2ac55b1f543088b9b0a5ec605ecab": {
      "model_module": "@jupyter-widgets/base",
      "model_module_version": "1.2.0",
      "model_name": "LayoutModel",
      "state": {
       "display": "flex"
      }
     },
     "bbe1ca7f07cc4e58affb20aa31399435": {
      "model_module": "@jupyter-widgets/base",
      "model_module_version": "1.2.0",
      "model_name": "LayoutModel",
      "state": {
       "width": "20px"
      }
     },
     "bc3818bfb78b4eaf9199c1b22f43b61c": {
      "model_module": "@jupyter-widgets/controls",
      "model_module_version": "1.5.0",
      "model_name": "HTMLModel",
      "state": {
       "layout": "IPY_MODEL_69b2d38542d641c4936601f4a76c431c",
       "style": "IPY_MODEL_21b94b9e868140a6af6da3c7763219b0"
      }
     },
     "bc5f08b770db4af9b20e0981eccac73a": {
      "model_module": "@jupyter-widgets/controls",
      "model_module_version": "1.5.0",
      "model_name": "ImageModel",
      "state": {
       "_dom_classes": [
        "pixelated"
       ],
       "layout": "IPY_MODEL_11b20d090a3e429887a0592762defdfb"
      }
     },
     "bc96363c5b364816a66655a2d50f24d0": {
      "model_module": "@jupyter-widgets/base",
      "model_module_version": "1.2.0",
      "model_name": "LayoutModel",
      "state": {
       "display": "flex"
      }
     },
     "bce32535f4494383bc195b4529a3a887": {
      "model_module": "@jupyter-widgets/controls",
      "model_module_version": "1.5.0",
      "model_name": "HTMLModel",
      "state": {
       "layout": "IPY_MODEL_689ad49228a644ef84c313f9966ddabe",
       "style": "IPY_MODEL_113a03c14aa54b5d9c24a84b8c52f31c"
      }
     },
     "bd4807138d6b4e66aebfef84f9a680fb": {
      "model_module": "@jupyter-widgets/base",
      "model_module_version": "1.2.0",
      "model_name": "LayoutModel",
      "state": {}
     },
     "bd79e581aba14a7eb8e5d82759d84ef5": {
      "model_module": "@jupyter-widgets/controls",
      "model_module_version": "1.5.0",
      "model_name": "HTMLModel",
      "state": {
       "layout": "IPY_MODEL_5f549be57cd24159ab28c390fbd1b748",
       "style": "IPY_MODEL_e36c808b682e4902bb5ef7835828f58d",
       "value": " 35/? [00:01&lt;00:00, 34.87it/s]"
      }
     },
     "bd823aeed24f437b8fddc911029d3e05": {
      "model_module": "@jupyter-widgets/controls",
      "model_module_version": "1.5.0",
      "model_name": "FloatProgressModel",
      "state": {
       "bar_style": "danger",
       "layout": "IPY_MODEL_664bdc465dd94347936309d8e2038758",
       "max": 1,
       "style": "IPY_MODEL_247a70091b744589843dd785bb7ca8f7",
       "value": 1
      }
     },
     "bdc0dd64931e4c0b817a342dd9d23697": {
      "model_module": "@jupyter-widgets/controls",
      "model_module_version": "1.5.0",
      "model_name": "FloatProgressModel",
      "state": {
       "bar_style": "danger",
       "layout": "IPY_MODEL_de2459b912ed4e7892ccfb1260fe0925",
       "max": 1,
       "style": "IPY_MODEL_e9a26aa247cf4f8c982b45811e54e69a",
       "value": 1
      }
     },
     "bdcb2e35acf04d4e9d80722a45bdc4d5": {
      "model_module": "@jupyter-widgets/controls",
      "model_module_version": "1.5.0",
      "model_name": "HBoxModel",
      "state": {
       "children": [
        "IPY_MODEL_f0addccb817f4f458086c708457cc473",
        "IPY_MODEL_d0fd62ddd5e44c98aa257f90e4bcb6a7",
        "IPY_MODEL_34adf52c68eb410b9e53f3c3fb5fd37a"
       ],
       "layout": "IPY_MODEL_9fbcebaae2bc495082bbf3e29fa79fe5"
      }
     },
     "be06feed2c624fc399e11ba715dd8024": {
      "model_module": "@jupyter-widgets/base",
      "model_module_version": "1.2.0",
      "model_name": "LayoutModel",
      "state": {}
     },
     "be76309118a54578a99e04b8d407f045": {
      "model_module": "@jupyter-widgets/controls",
      "model_module_version": "1.5.0",
      "model_name": "DescriptionStyleModel",
      "state": {
       "description_width": ""
      }
     },
     "bef32e25b7074225a3aff4773bacf01e": {
      "model_module": "@jupyter-widgets/controls",
      "model_module_version": "1.5.0",
      "model_name": "FloatProgressModel",
      "state": {
       "bar_style": "danger",
       "layout": "IPY_MODEL_8739371bc525427381ab265a3cae744e",
       "max": 1,
       "style": "IPY_MODEL_92f7b99363b24476879a970469bb0f2a",
       "value": 1
      }
     },
     "bf2ef92df261450d8178b08501a221f4": {
      "model_module": "@jupyter-widgets/controls",
      "model_module_version": "1.5.0",
      "model_name": "HTMLModel",
      "state": {
       "layout": "IPY_MODEL_c8da4d0e80c54c05a3af7d2e69c2e07d",
       "style": "IPY_MODEL_23e85321f2fd4febb884e39229473e02"
      }
     },
     "c0b8c7133afc4b079025f48c00695ebd": {
      "model_module": "@jupyter-widgets/controls",
      "model_module_version": "1.5.0",
      "model_name": "ProgressStyleModel",
      "state": {
       "description_width": ""
      }
     },
     "c10ae912e04d4777ba6b498dab85433a": {
      "model_module": "@jupyter-widgets/controls",
      "model_module_version": "1.5.0",
      "model_name": "HTMLModel",
      "state": {
       "layout": "IPY_MODEL_3298ab5004ba4db4a4cbc2c0ac2436d5",
       "style": "IPY_MODEL_28814b872c60423fa5162f49e9dc3c8f",
       "value": " 35/? [00:00&lt;00:00, 34.73it/s]"
      }
     },
     "c14a7783f3be4145b346887d7b4e7d00": {
      "model_module": "@jupyter-widgets/controls",
      "model_module_version": "1.5.0",
      "model_name": "HTMLModel",
      "state": {
       "layout": "IPY_MODEL_deba72d925c34760932f112467748bac",
       "style": "IPY_MODEL_d72f90a6b5874644852c5ce31ede4e72"
      }
     },
     "c17ac3475256402f8927733181ce762f": {
      "model_module": "@jupyter-widgets/base",
      "model_module_version": "1.2.0",
      "model_name": "LayoutModel",
      "state": {}
     },
     "c23ffacde5044bb4b6d034f0ae0ba530": {
      "model_module": "@jupyter-widgets/controls",
      "model_module_version": "1.5.0",
      "model_name": "HTMLModel",
      "state": {
       "layout": "IPY_MODEL_1f97391418764871936baa53aae248f6",
       "style": "IPY_MODEL_04bb4e8047c44760a5797f035af0e2e3"
      }
     },
     "c243f3581b4e4be9b5d2a3849eb4c18f": {
      "model_module": "@jupyter-widgets/base",
      "model_module_version": "1.2.0",
      "model_name": "LayoutModel",
      "state": {}
     },
     "c272c7e138284760a3b9c155b3330049": {
      "model_module": "@jupyter-widgets/controls",
      "model_module_version": "1.5.0",
      "model_name": "ProgressStyleModel",
      "state": {
       "description_width": ""
      }
     },
     "c2ea8a30881f43bab5c377cc3fa9a85c": {
      "model_module": "@jupyter-widgets/controls",
      "model_module_version": "1.5.0",
      "model_name": "FloatProgressModel",
      "state": {
       "bar_style": "danger",
       "layout": "IPY_MODEL_6a8b9ccaa9b1471f8231036889a53d6e",
       "max": 1,
       "style": "IPY_MODEL_9664bf475d64434892b56d717fe8803d",
       "value": 1
      }
     },
     "c3a423cb64d94628afb5fd3553bdc20b": {
      "model_module": "@jupyter-widgets/controls",
      "model_module_version": "1.5.0",
      "model_name": "ProgressStyleModel",
      "state": {
       "description_width": ""
      }
     },
     "c3f40d5ba2024d999f5ecdf681a1447b": {
      "model_module": "@jupyter-widgets/base",
      "model_module_version": "1.2.0",
      "model_name": "LayoutModel",
      "state": {}
     },
     "c406d726437149bd91efcfe81b067087": {
      "model_module": "@jupyter-widgets/controls",
      "model_module_version": "1.5.0",
      "model_name": "HTMLModel",
      "state": {
       "layout": "IPY_MODEL_ca7bfbc442ca4361a6b85a08949f82cd",
       "style": "IPY_MODEL_b6fae9208abe4fc9b974247bb4f07cab"
      }
     },
     "c4245bbf5e124af298fd470607ef37e3": {
      "model_module": "@jupyter-widgets/controls",
      "model_module_version": "1.5.0",
      "model_name": "HBoxModel",
      "state": {
       "children": [
        "IPY_MODEL_bc3818bfb78b4eaf9199c1b22f43b61c",
        "IPY_MODEL_47368b578e624cc5b2d6bc7f6784bc39",
        "IPY_MODEL_ed08c8165ad543f8a8c560646b0c21d4"
       ],
       "layout": "IPY_MODEL_c17ac3475256402f8927733181ce762f"
      }
     },
     "c4300c687b1e4dcca20d366003fe8d3f": {
      "model_module": "@jupyter-widgets/controls",
      "model_module_version": "1.5.0",
      "model_name": "FloatProgressModel",
      "state": {
       "bar_style": "danger",
       "layout": "IPY_MODEL_a8d027857f544494ac918fd1e652924a",
       "max": 1,
       "style": "IPY_MODEL_d4c11df8a5c243339b6ed69aeed64099",
       "value": 1
      }
     },
     "c4419c5e057f40789ebbd7f63993f579": {
      "model_module": "@jupyter-widgets/base",
      "model_module_version": "1.2.0",
      "model_name": "LayoutModel",
      "state": {
       "display": "flex"
      }
     },
     "c4c3469a5d8a4391bfeca01dfe1f659d": {
      "model_module": "@jupyter-widgets/controls",
      "model_module_version": "1.5.0",
      "model_name": "TextareaModel",
      "state": {
       "description": "State:",
       "layout": "IPY_MODEL_4b1d2856ed40425a9ccb596ea1d4d7c8",
       "style": "IPY_MODEL_fecd860bfb5844da9895f28e028487b1",
       "value": "{}"
      }
     },
     "c5d1899d2a9a4958a2ae03178f801368": {
      "model_module": "@jupyter-widgets/base",
      "model_module_version": "1.2.0",
      "model_name": "LayoutModel",
      "state": {
       "display": "flex"
      }
     },
     "c5e4b598de3a42c7a2f7cd9431d0c800": {
      "model_module": "@jupyter-widgets/controls",
      "model_module_version": "1.5.0",
      "model_name": "DescriptionStyleModel",
      "state": {
       "description_width": ""
      }
     },
     "c66ac9bbbfb04b9483d6efd6aaab7419": {
      "model_module": "@jupyter-widgets/controls",
      "model_module_version": "1.5.0",
      "model_name": "ProgressStyleModel",
      "state": {
       "description_width": ""
      }
     },
     "c6c475f2ef0b4679b5c9fd7bec3c545a": {
      "model_module": "@jupyter-widgets/base",
      "model_module_version": "1.2.0",
      "model_name": "LayoutModel",
      "state": {
       "width": "20px"
      }
     },
     "c72a66fa6b6947f69f2fb6277a3df12e": {
      "model_module": "@jupyter-widgets/controls",
      "model_module_version": "1.5.0",
      "model_name": "DescriptionStyleModel",
      "state": {
       "description_width": ""
      }
     },
     "c78320654a4342fc826751cd76298934": {
      "model_module": "@jupyter-widgets/controls",
      "model_module_version": "1.5.0",
      "model_name": "HBoxModel",
      "state": {
       "children": [
        "IPY_MODEL_75ac1c9cb8b34330ac05ea9d5f0ce045",
        "IPY_MODEL_ceef62aeabed456d8d9434ad5b2b8aac",
        "IPY_MODEL_0b819986cd034d79b81337138b9d4d4f"
       ],
       "layout": "IPY_MODEL_f8282ad37fa74884bdcb7006b3bf6456"
      }
     },
     "c7a3fc1291bc415db7a48e9f88226884": {
      "model_module": "@jupyter-widgets/controls",
      "model_module_version": "1.5.0",
      "model_name": "FloatProgressModel",
      "state": {
       "bar_style": "danger",
       "layout": "IPY_MODEL_acd67f12e0764bda836b2cf46ae6cff2",
       "max": 1,
       "style": "IPY_MODEL_3876dc9c0cc547aa8016402dc0a8558c",
       "value": 1
      }
     },
     "c7c3fcb5a00346ac85c95a1bb96cca9f": {
      "model_module": "@jupyter-widgets/controls",
      "model_module_version": "1.5.0",
      "model_name": "FloatProgressModel",
      "state": {
       "bar_style": "danger",
       "layout": "IPY_MODEL_b230254fec8d4f2b890518459f6202c8",
       "max": 1,
       "style": "IPY_MODEL_7c235a418e3a487f9aaa33da1e488c60",
       "value": 1
      }
     },
     "c7d12a7e10644e6e8b59dd80bffeddcd": {
      "model_module": "@jupyter-widgets/controls",
      "model_module_version": "1.5.0",
      "model_name": "DescriptionStyleModel",
      "state": {
       "description_width": ""
      }
     },
     "c7de5303faa14f7da66d47b7a9f84729": {
      "model_module": "@jupyter-widgets/base",
      "model_module_version": "1.2.0",
      "model_name": "LayoutModel",
      "state": {}
     },
     "c857865768a04272b4f2cf2d503da178": {
      "model_module": "@jupyter-widgets/controls",
      "model_module_version": "1.5.0",
      "model_name": "DescriptionStyleModel",
      "state": {
       "description_width": ""
      }
     },
     "c8da4d0e80c54c05a3af7d2e69c2e07d": {
      "model_module": "@jupyter-widgets/base",
      "model_module_version": "1.2.0",
      "model_name": "LayoutModel",
      "state": {}
     },
     "c8ecd1b9cb1b4d73895ee04e4a8bf2e3": {
      "model_module": "@jupyter-widgets/base",
      "model_module_version": "1.2.0",
      "model_name": "LayoutModel",
      "state": {}
     },
     "c9babc23034140edb7f9d8a4e098f920": {
      "model_module": "@jupyter-widgets/controls",
      "model_module_version": "1.5.0",
      "model_name": "ProgressStyleModel",
      "state": {
       "description_width": ""
      }
     },
     "ca7bfbc442ca4361a6b85a08949f82cd": {
      "model_module": "@jupyter-widgets/base",
      "model_module_version": "1.2.0",
      "model_name": "LayoutModel",
      "state": {}
     },
     "cb78a5e327694005a504d0f8426bfd2d": {
      "model_module": "@jupyter-widgets/base",
      "model_module_version": "1.2.0",
      "model_name": "LayoutModel",
      "state": {}
     },
     "ccbaaa51fdf640a4aad871ec356aa5a7": {
      "model_module": "@jupyter-widgets/controls",
      "model_module_version": "1.5.0",
      "model_name": "FloatProgressModel",
      "state": {
       "bar_style": "danger",
       "layout": "IPY_MODEL_92de0c6997d64f83a7e21ed6a081ee04",
       "max": 1,
       "style": "IPY_MODEL_520b03fa1aad453387ae4f375aa05d6a",
       "value": 1
      }
     },
     "ccec2f64a79e4ea483eb02399e1d9011": {
      "model_module": "@jupyter-widgets/base",
      "model_module_version": "1.2.0",
      "model_name": "LayoutModel",
      "state": {
       "display": "flex"
      }
     },
     "cda5972cc9464a8f83588e51043b9987": {
      "model_module": "@jupyter-widgets/controls",
      "model_module_version": "1.5.0",
      "model_name": "HTMLModel",
      "state": {
       "layout": "IPY_MODEL_127196da23ac47eb9edee04303650dc0",
       "style": "IPY_MODEL_74d2b0745c1f416595107eb6eb0fd81e",
       "value": " 35/? [00:00&lt;00:00, 39.22it/s]"
      }
     },
     "cdcbaeaced974e919b6537c5a66e9380": {
      "model_module": "@jupyter-widgets/controls",
      "model_module_version": "1.5.0",
      "model_name": "HBoxModel",
      "state": {
       "children": [
        "IPY_MODEL_889218c82d5e409586fef66942827a7a",
        "IPY_MODEL_924cf8051544470a80c16a7987588a3c",
        "IPY_MODEL_84ae8ec5894444eb964ca34f4cb031dd"
       ],
       "layout": "IPY_MODEL_e47e597596ec412297232d71198e0814"
      }
     },
     "ce1c3f5061cb4860b7b958794aef8601": {
      "model_module": "@jupyter-widgets/controls",
      "model_module_version": "1.5.0",
      "model_name": "TextModel",
      "state": {
       "description": "Rotate vel:",
       "layout": "IPY_MODEL_bc96363c5b364816a66655a2d50f24d0",
       "style": "IPY_MODEL_a9524ff902d44a48ab7e12c94c374d00",
       "value": "1.0957616789449118"
      }
     },
     "ce2c14426b214322b32ed6b48b56ec76": {
      "model_module": "@jupyter-widgets/base",
      "model_module_version": "1.2.0",
      "model_name": "LayoutModel",
      "state": {
       "width": "20px"
      }
     },
     "ceef62aeabed456d8d9434ad5b2b8aac": {
      "model_module": "@jupyter-widgets/controls",
      "model_module_version": "1.5.0",
      "model_name": "FloatProgressModel",
      "state": {
       "bar_style": "danger",
       "layout": "IPY_MODEL_fe43f15e878d478da85077c9e56a2737",
       "max": 1,
       "style": "IPY_MODEL_e45373b94cb24f53bd550cd1406e9eff",
       "value": 1
      }
     },
     "cf2ec957c63d496aaa0be25dde89ab5a": {
      "model_module": "@jupyter-widgets/controls",
      "model_module_version": "1.5.0",
      "model_name": "ProgressStyleModel",
      "state": {
       "description_width": ""
      }
     },
     "cf2f613826ae49978c1590762756ad2f": {
      "model_module": "@jupyter-widgets/controls",
      "model_module_version": "1.5.0",
      "model_name": "HTMLModel",
      "state": {
       "layout": "IPY_MODEL_0827d47b1d4a4583a20681bfcaaab73e",
       "style": "IPY_MODEL_61c69a77ef8446af8338886a8734ff32",
       "value": " 35/? [00:00&lt;00:00, 36.61it/s]"
      }
     },
     "d0fd62ddd5e44c98aa257f90e4bcb6a7": {
      "model_module": "@jupyter-widgets/controls",
      "model_module_version": "1.5.0",
      "model_name": "FloatProgressModel",
      "state": {
       "bar_style": "danger",
       "layout": "IPY_MODEL_5daefae64806429cbe94313e0dfbfe7e",
       "max": 1,
       "style": "IPY_MODEL_c66ac9bbbfb04b9483d6efd6aaab7419",
       "value": 1
      }
     },
     "d18d2618dcaa4f43a05ff926c9dca81b": {
      "model_module": "@jupyter-widgets/base",
      "model_module_version": "1.2.0",
      "model_name": "LayoutModel",
      "state": {
       "width": "20px"
      }
     },
     "d1cb80e449634604826bad21ae5de3c0": {
      "model_module": "@jupyter-widgets/controls",
      "model_module_version": "1.5.0",
      "model_name": "FloatProgressModel",
      "state": {
       "bar_style": "danger",
       "layout": "IPY_MODEL_b78018ea3f82497a93e1910b20746f60",
       "max": 1,
       "style": "IPY_MODEL_78090e544f5b406a87b4d62e504f1caf",
       "value": 1
      }
     },
     "d1d8051f703b452194ec19a242d02f62": {
      "model_module": "@jupyter-widgets/base",
      "model_module_version": "1.2.0",
      "model_name": "LayoutModel",
      "state": {}
     },
     "d1dd9c180a4d40f395d29cb6a68ec468": {
      "model_module": "@jupyter-widgets/base",
      "model_module_version": "1.2.0",
      "model_name": "LayoutModel",
      "state": {}
     },
     "d215a2f9a5fc414c8ca2f3ebb16a1de7": {
      "model_module": "@jupyter-widgets/controls",
      "model_module_version": "1.5.0",
      "model_name": "HBoxModel",
      "state": {
       "children": [
        "IPY_MODEL_a2f51981b8ad4fbe994936609f403426",
        "IPY_MODEL_f8cb6da14d1a4b10b2a7bd19c323a0b8",
        "IPY_MODEL_a601a4af34254114b3270adcca63d812"
       ],
       "layout": "IPY_MODEL_500d31c5888249d5897a2f0da22f2f28"
      }
     },
     "d235fb80c228435c9a5c2aa4bcc12ab8": {
      "model_module": "@jupyter-widgets/controls",
      "model_module_version": "1.5.0",
      "model_name": "ProgressStyleModel",
      "state": {
       "description_width": ""
      }
     },
     "d23eb37e4c5847519c080af1da1cd2af": {
      "model_module": "@jupyter-widgets/controls",
      "model_module_version": "1.5.0",
      "model_name": "HTMLModel",
      "state": {
       "layout": "IPY_MODEL_ac29aa0bfc514b35afbbb46358018002",
       "style": "IPY_MODEL_0e1c6a3546e44cf2b39f87d8225625e7",
       "value": " 35/? [00:00&lt;00:00, 36.63it/s]"
      }
     },
     "d2696d6cddd54c198f24d9fbaac029f3": {
      "model_module": "@jupyter-widgets/base",
      "model_module_version": "1.2.0",
      "model_name": "LayoutModel",
      "state": {}
     },
     "d3093b481ae441c0bd38f6c17683f469": {
      "model_module": "@jupyter-widgets/base",
      "model_module_version": "1.2.0",
      "model_name": "LayoutModel",
      "state": {}
     },
     "d31f318f8ab34b78b91ea47513286f6e": {
      "model_module": "@jupyter-widgets/controls",
      "model_module_version": "1.5.0",
      "model_name": "HBoxModel",
      "state": {
       "children": [
        "IPY_MODEL_d94565421e664072bf1fbbf11927f32e",
        "IPY_MODEL_2f962d224a54461c9ba4e1ef98830ff0",
        "IPY_MODEL_64682ff7b3fa4a54baf4f39ecc85c0a5"
       ],
       "layout": "IPY_MODEL_201fe707552940deb00716f5d17c70aa"
      }
     },
     "d343b263edc44ce49eea07949164a813": {
      "model_module": "@jupyter-widgets/controls",
      "model_module_version": "1.5.0",
      "model_name": "ProgressStyleModel",
      "state": {
       "description_width": ""
      }
     },
     "d359795bbbc24838ba324e53a5d58605": {
      "model_module": "@jupyter-widgets/controls",
      "model_module_version": "1.5.0",
      "model_name": "HBoxModel",
      "state": {
       "children": [
        "IPY_MODEL_a6670c35146042d6a840687a5020c169",
        "IPY_MODEL_951e8ffdfa5b4f838c8d97b524a176e6",
        "IPY_MODEL_d5b7cf64454b49c095d2acbb67e513e3"
       ],
       "layout": "IPY_MODEL_26a80696877244959a70ec9b8eab9df2"
      }
     },
     "d36d8164e65247dea060e3893c92957b": {
      "model_module": "@jupyter-widgets/controls",
      "model_module_version": "1.5.0",
      "model_name": "DescriptionStyleModel",
      "state": {
       "description_width": ""
      }
     },
     "d3c71e57285b416b9cb334f1f08b5e25": {
      "model_module": "@jupyter-widgets/controls",
      "model_module_version": "1.5.0",
      "model_name": "HTMLModel",
      "state": {
       "layout": "IPY_MODEL_43e8c68d9bf142a4bfeaec564e15af9d",
       "style": "IPY_MODEL_3f564eb8acbf47869ee03a241063959e",
       "value": " 28/? [00:00&lt;00:00, 38.68it/s]"
      }
     },
     "d3c94a01ea7a4a34a40980df5501e317": {
      "model_module": "@jupyter-widgets/base",
      "model_module_version": "1.2.0",
      "model_name": "LayoutModel",
      "state": {}
     },
     "d430a514b97f41dabdeb5f7a0426c514": {
      "model_module": "@jupyter-widgets/controls",
      "model_module_version": "1.5.0",
      "model_name": "TextModel",
      "state": {
       "description": "Trans vel:",
       "layout": "IPY_MODEL_8b406adeca6945198ecf289bc5414ded",
       "style": "IPY_MODEL_6432e08fb9b44c03b0262a8d3871fc53",
       "value": "-0.03054873318388801"
      }
     },
     "d489c3946dc84450a40ed8dac911e0be": {
      "model_module": "@jupyter-widgets/controls",
      "model_module_version": "1.5.0",
      "model_name": "HTMLModel",
      "state": {
       "layout": "IPY_MODEL_f0afe866af56448d8a0921eef037bb83",
       "style": "IPY_MODEL_ff8a7b2c71c34d8c83148446984c8c27",
       "value": " 35/? [00:00&lt;00:00, 37.97it/s]"
      }
     },
     "d4b9171cfe5743b48695701702344546": {
      "model_module": "@jupyter-widgets/controls",
      "model_module_version": "1.5.0",
      "model_name": "HBoxModel",
      "state": {
       "children": [
        "IPY_MODEL_ef159937f732453891ae85974422b6e3",
        "IPY_MODEL_01b0db71c0204f759821fc2adeebcc71",
        "IPY_MODEL_2b44c7c2239840c5a19ca02fce64025c"
       ],
       "layout": "IPY_MODEL_07fb8a2b7fc146d3afe1fd44f2cf795a"
      }
     },
     "d4c11df8a5c243339b6ed69aeed64099": {
      "model_module": "@jupyter-widgets/controls",
      "model_module_version": "1.5.0",
      "model_name": "ProgressStyleModel",
      "state": {
       "description_width": ""
      }
     },
     "d4c45454989442659a980170ce9b04ca": {
      "model_module": "@jupyter-widgets/controls",
      "model_module_version": "1.5.0",
      "model_name": "DescriptionStyleModel",
      "state": {
       "description_width": ""
      }
     },
     "d54b4cea79824740ae8c64decd1b564e": {
      "model_module": "@jupyter-widgets/base",
      "model_module_version": "1.2.0",
      "model_name": "LayoutModel",
      "state": {}
     },
     "d5b7cf64454b49c095d2acbb67e513e3": {
      "model_module": "@jupyter-widgets/controls",
      "model_module_version": "1.5.0",
      "model_name": "HTMLModel",
      "state": {
       "layout": "IPY_MODEL_8770262de6e24a738de168ee78ce561a",
       "style": "IPY_MODEL_86880e4eae084409920f7dac56bfdd81",
       "value": " 35/? [00:00&lt;00:00, 37.23it/s]"
      }
     },
     "d5c02120ccbb49a39c5c6866dfef943c": {
      "model_module": "@jupyter-widgets/base",
      "model_module_version": "1.2.0",
      "model_name": "LayoutModel",
      "state": {}
     },
     "d5f1158e596742288e673143a4d84782": {
      "model_module": "@jupyter-widgets/controls",
      "model_module_version": "1.5.0",
      "model_name": "DescriptionStyleModel",
      "state": {
       "description_width": ""
      }
     },
     "d5f88740fe814ee3b4257282ccfe6080": {
      "model_module": "@jupyter-widgets/controls",
      "model_module_version": "1.5.0",
      "model_name": "DescriptionStyleModel",
      "state": {
       "description_width": ""
      }
     },
     "d660b602b00946e4b4c535efbc76aed1": {
      "model_module": "@jupyter-widgets/base",
      "model_module_version": "1.2.0",
      "model_name": "LayoutModel",
      "state": {
       "width": "20px"
      }
     },
     "d672baff47c84df0997a27749b53ee75": {
      "model_module": "@jupyter-widgets/controls",
      "model_module_version": "1.5.0",
      "model_name": "DescriptionStyleModel",
      "state": {
       "description_width": ""
      }
     },
     "d68c8b906c0e43f58e70a917ec6cff9c": {
      "model_module": "@jupyter-widgets/controls",
      "model_module_version": "1.5.0",
      "model_name": "HTMLModel",
      "state": {
       "layout": "IPY_MODEL_e49cf8766c4f4609b4484bb8eee6101e",
       "style": "IPY_MODEL_c7d12a7e10644e6e8b59dd80bffeddcd"
      }
     },
     "d71d8b086b794beebcb75488127ffcd9": {
      "model_module": "@jupyter-widgets/controls",
      "model_module_version": "1.5.0",
      "model_name": "DescriptionStyleModel",
      "state": {
       "description_width": ""
      }
     },
     "d72f90a6b5874644852c5ce31ede4e72": {
      "model_module": "@jupyter-widgets/controls",
      "model_module_version": "1.5.0",
      "model_name": "DescriptionStyleModel",
      "state": {
       "description_width": ""
      }
     },
     "d7324d43068f43509fcbef066027eb56": {
      "model_module": "@jupyter-widgets/base",
      "model_module_version": "1.2.0",
      "model_name": "LayoutModel",
      "state": {
       "width": "20px"
      }
     },
     "d7700322638f40e1bf2ad7516371fb5d": {
      "model_module": "@jupyter-widgets/controls",
      "model_module_version": "1.5.0",
      "model_name": "DescriptionStyleModel",
      "state": {
       "description_width": ""
      }
     },
     "d7c90f0dc2fa46e89a1bc440ec547e4e": {
      "model_module": "@jupyter-widgets/base",
      "model_module_version": "1.2.0",
      "model_name": "LayoutModel",
      "state": {}
     },
     "d8295bab221945d69a06836ec3f920e3": {
      "model_module": "@jupyter-widgets/base",
      "model_module_version": "1.2.0",
      "model_name": "LayoutModel",
      "state": {
       "display": "flex"
      }
     },
     "d82d6776d13c46868d5c55a250000d5c": {
      "model_module": "@jupyter-widgets/controls",
      "model_module_version": "1.5.0",
      "model_name": "HBoxModel",
      "state": {
       "children": [
        "IPY_MODEL_b8df823094244d18856cf12060ade3ee",
        "IPY_MODEL_7c002fbcc5a74658afc6bf70178f1f0c",
        "IPY_MODEL_2a3aabd81ea147b78295af83a143070c"
       ],
       "layout": "IPY_MODEL_3180dd81182c483ebfc2cd541fca49ef"
      }
     },
     "d94565421e664072bf1fbbf11927f32e": {
      "model_module": "@jupyter-widgets/controls",
      "model_module_version": "1.5.0",
      "model_name": "HTMLModel",
      "state": {
       "layout": "IPY_MODEL_5f2c2d375c414c5dae97491ddbcedb42",
       "style": "IPY_MODEL_029729f2d18f4c00a66d25760d2b4f9c"
      }
     },
     "d9aada1dea5f4ec9bb90f97da860dcbd": {
      "model_module": "@jupyter-widgets/controls",
      "model_module_version": "1.5.0",
      "model_name": "HTMLModel",
      "state": {
       "layout": "IPY_MODEL_ab99afe8f4b944b5a19875a7826a0dc2",
       "style": "IPY_MODEL_8a33602856a94d69b9255a5bad29db3d",
       "value": " 35/? [00:00&lt;00:00, 37.69it/s]"
      }
     },
     "d9f754fdf0e64410a57583977f8424d5": {
      "model_module": "@jupyter-widgets/controls",
      "model_module_version": "1.5.0",
      "model_name": "ProgressStyleModel",
      "state": {
       "description_width": ""
      }
     },
     "da06da15d46f49e6ad778fe868344578": {
      "model_module": "@jupyter-widgets/base",
      "model_module_version": "1.2.0",
      "model_name": "LayoutModel",
      "state": {}
     },
     "dada215d76804610bfd772c8cde1e8ec": {
      "model_module": "@jupyter-widgets/controls",
      "model_module_version": "1.5.0",
      "model_name": "HBoxModel",
      "state": {
       "children": [
        "IPY_MODEL_c406d726437149bd91efcfe81b067087",
        "IPY_MODEL_0fe87ca0b73d44ffbca9f91bd14c5d1e",
        "IPY_MODEL_d23eb37e4c5847519c080af1da1cd2af"
       ],
       "layout": "IPY_MODEL_7cf6775c3dd84cf3a98429b2c898954c"
      }
     },
     "daf9cb81e0864273b5ec3d6091e29972": {
      "model_module": "@jupyter-widgets/base",
      "model_module_version": "1.2.0",
      "model_name": "LayoutModel",
      "state": {
       "border": "10px solid rgb(0 177 255)"
      }
     },
     "db146cf6e35b49ac999f2c544764915e": {
      "model_module": "@jupyter-widgets/controls",
      "model_module_version": "1.5.0",
      "model_name": "DescriptionStyleModel",
      "state": {
       "description_width": ""
      }
     },
     "db6c64b715ef4df783099f1f832ae016": {
      "model_module": "@jupyter-widgets/controls",
      "model_module_version": "1.5.0",
      "model_name": "HTMLModel",
      "state": {
       "layout": "IPY_MODEL_8bf520c0b6854eb8afc4c813ff78e040",
       "style": "IPY_MODEL_931cf28328574db8804bc7c05c624de8",
       "value": " 35/? [00:00&lt;00:00, 39.52it/s]"
      }
     },
     "dc1a3954e5354f51bf0a507bcb8bd073": {
      "model_module": "@jupyter-widgets/controls",
      "model_module_version": "1.5.0",
      "model_name": "HTMLModel",
      "state": {
       "layout": "IPY_MODEL_617732fdf1504c3b96b7c8a400d0c500",
       "style": "IPY_MODEL_b1cc1f053f4e45b2af21defefd62b743"
      }
     },
     "dc8adf8aa64f4d72a313d905973287c7": {
      "buffers": [
       {
        "data": "/9j/4AAQSkZJRgABAQAAAQABAAD/2wBDAAgGBgcGBQgHBwcJCQgKDBQNDAsLDBkSEw8UHRofHh0aHBwgJC4nICIsIxwcKDcpLDAxNDQ0Hyc5PTgyPC4zNDL/2wBDAQkJCQwLDBgNDRgyIRwhMjIyMjIyMjIyMjIyMjIyMjIyMjIyMjIyMjIyMjIyMjIyMjIyMjIyMjIyMjIyMjIyMjL/wAARCAMYBdwDASIAAhEBAxEB/8QAHwAAAQUBAQEBAQEAAAAAAAAAAAECAwQFBgcICQoL/8QAtRAAAgEDAwIEAwUFBAQAAAF9AQIDAAQRBRIhMUEGE1FhByJxFDKBkaEII0KxwRVS0fAkM2JyggkKFhcYGRolJicoKSo0NTY3ODk6Q0RFRkdISUpTVFVWV1hZWmNkZWZnaGlqc3R1dnd4eXqDhIWGh4iJipKTlJWWl5iZmqKjpKWmp6ipqrKztLW2t7i5usLDxMXGx8jJytLT1NXW19jZ2uHi4+Tl5ufo6erx8vP09fb3+Pn6/8QAHwEAAwEBAQEBAQEBAQAAAAAAAAECAwQFBgcICQoL/8QAtREAAgECBAQDBAcFBAQAAQJ3AAECAxEEBSExBhJBUQdhcRMiMoEIFEKRobHBCSMzUvAVYnLRChYkNOEl8RcYGRomJygpKjU2Nzg5OkNERUZHSElKU1RVVldYWVpjZGVmZ2hpanN0dXZ3eHl6goOEhYaHiImKkpOUlZaXmJmaoqOkpaanqKmqsrO0tba3uLm6wsPExcbHyMnK0tPU1dbX2Nna4uPk5ebn6Onq8vP09fb3+Pn6/9oADAMBAAIRAxEAPwD3+iiigAooooAKKKKACiiigAooooAKKKKACiiigAooooAKKKKACiiigAooooAKKKKACiiigAooooAKKKKACiiigAooooAKKKKACiiigAooooAKKKKACiiigAooooAKKKKACiiigAooooAKKKKACiiigAooooAKKKKACiiigAooooAKKKKACiiigAooooAKKKKACiiigAooooAKKKKACiiigAooooAKKKKACiiigAooooAKKKKACiiigAooooAKKKKACiiigAooooAKKKKACiiigAooooAKKKKACiiigAooooAKKKKACiiigAooooAKKKKACiiigAooooAKKKKACiiigAooooAKKKKACiiigAooooAKKKKACiiigAooooAKKKKACiiigAooooAKKKKACiiigAooooAKKKKACiiigAooooAKKKKACiiigAooooAKKKKACiiigAooooAKKKKACiiigAooooAKKKKACiiigAooooAKKKKACiiigAooooAKKKKACiiigAooooAKKKKACiiigAooooAKKKKACiiigAooooAKKKKACiiigAooooAKKKKACiiigAooooAKKKKACiiigAooooAKKKKACiiigAooooAKKKKACiiigAooooAKKKKACiiigAooooAKKKKACiiigAooooAKKKKACiiigAooooAKKKKACiiigAooooAKKKKACiiigAooooAKKKKACiiigAooooAKKKKACiiigAooooAKKKKACiiigAooooAKKKKACiiigAooooAKKKKACiiigAooooAKKKKACiiigAooooAKKKKACiiigAooooAKKKKACiiigAooooAKKKKACiiigAooooAKKKKACiiigAooooAKKKKACiiigAooooAKKKKACiiigAooooAKKKKACiiigAooooAKKKKACiiigAooooAKKKKACiiigAooooAKKKKACiiigAooooAKKKKACiiigAooooAKKKKACiiigAooooAKKKKACiiigAooooAKKKKACiiigAooooAKKKKACiiigAooooAKKKKACiiigAooooAKKKKACiiigAooooAKKKKACiiigAooooAKKKKACiiigAooooAKKKKACiiigAooooAKKKKACiiigAooooAKKKKACiiigAooooAKKKKACiiigAooooAKKKKACiiigAooooAKKKKACiiigAooooAKKKKACiiigAooooAKKKKACiiigAooooAKKKKACiiigAooooAKKKKACiiigAooooAKKKKACiiigAooooAKKKKACiiigAooooAKKKKACiiigAooooAKKKKACiiigAooooAKKKKACiiigAooooAKKKKACiiigAooooAKKKKACiiigAooooAKKKKACiiigAooooAKKKKACiiigAooooAKKKKACiiigAooooAKKKKACiiigAooooAKKKKACiiigAooooAKKKKACiiigAooooAKKKKACiiigAooooAKKKKACiiigAooooAKKKKACiiigAooooAKKKKACiiigAooooAKKKKACiiigAooooAKKKKACiiigAooooAKKKKACiiigAooooAKKKKACiiigAooooAKKKKACiiigAooooAKKKKACiiigAooooAKKKKACiiigAooooAKKKKACiiigAooooAKKKKACiiigAooooAKKKKACiiigAooooAKKKKACiiigAooooAKKKKACiiigAooooAKKKKACiiigAooooAKKKKACiiigAooooAKKKKACiiigAooooAKKKKACiiigAooooAKKKKACiiigAooooAKKKKACiiigAooooAKKKKACiiigAooooAKKKKACiiigAooooAKKKKACiiigAooooAKKKKACiiigAooooAKKKKACiiigAooooAKKKKACiiigAooooAKKKKACiiigAooooAKKKKACiiigAooooAKKKKACiiigAooooAKKKKACiiigAooooAKKKKACiiigAooooAKKKKACiiigAooooAKKKKACiiigAooooAKKKKACiiigAooooAKKKKACiiigAooooAKKKKACiiigAooooAKKKKACiiigAooooAKKKKACiiigAooooAKKKKACiiigAooooAKKKKACiiigAooooAKKKKACiiigAooooAKKKKACiiigAooooAKKKKACiiigAooooAKKKKACiiigAooooAKKKKACiiigAooooAKKKKACiiigAooooAKKKKACiiuV1jxNe6fqs1rFFbsibcF1JPKg+vvWFfEQoR5p7Fwpym7ROqorh/+Ey1H/nja/wDfLf8AxVdjZTNc2FvO4AaSJXIHTJANRh8ZSxDap9PIqpRlTV5E9FFFdRkFFFFABRRRQAUUUUAFFFFABRRRQAUUUUAFFFFABRRRQAUUUUAFFFFABRRRQAUUUUAFFFFABRRRQAUUUUAFFFFABRRRQAUUUUAFFFFABRRRQAUUUUAFFFFABRRRQAUUUUAFFFFABRRRQAUUUUAFFFFABRRRQAUUUUAFFFFABRRRQAUUUUAFFFFABRRRQAUUUUAFFFFABRRRQAUUUUAFFFFABRRRQAUUUUAFFFFABRRRQAUUUUAFFFFABRRRQAUUUUAFFFFABRRRQAUUUUAFFFFABRRRQAUUUUAFFFFABRRRQAUUUUAFFFFABRRRQAUUUUAFFFFABRRRQAUUUUAFFFFABRRRQAUUUUAFFFFABRRRQAUUUUAFFFFABRRRQAUUUUAFFFFABRRRQAUUUUAFFFFABRRRQAUUUUAFFFFABRRRQAUUUUAFFFFABRRRQAUUUUAFFFFABRRRQAUUUUAFFFFABRRRQAUUUUAFFFFABXmmtzNPrd47AAiUpx6L8o/QV6XXmGq/8hi9/wCviT/0I14+ct+zivP9DrwfxMqV6tbwrbW0UCElY0CAnrgDFeU161WWTJXm/T9S8Z0CiiivdOEKKKKACiiigAooooAKKKKACiiigAooooAKKKKACiiigAooooAKKKKACiiigAooooAKKKKACiiigAooooAKKKKACiiigAooooAKKKKACiiigAooooAKKKKACiiigAooooAKKKKACiiigAooooAKKKKACiiigAooooAKKKKACiiigAooooAKKKKACiiigAooooAKKKKACiiigAooooAKKKKACiiigAooooAKKKKACiiigAooooAKKKKACiiigAooooAKKKKACiiigAooooAKKKKACiiigAooooAKKKKACiiigAooooAKKKKACiiigAooooAKKKKACiiigAooooAKKKKACiiigAooooAKKKKACiiigAooooAKKKKACiiigAooooAKKKKACiiigAooooAKKKKACiiigAooooAKKKKACiiigAooooAKKKKACiiigAooooAKKKKACiiigAooooAKKKKACiiigAooooAKKKKACvJndpHZ3YszHJYnJJ9a9Yd1jRndgqqMlicAD1ryavDzl/AvX9DtwfUtaaiyarZo6hladAVIyCNw4r1CvMtIRn1myCqWPnocAZ4BBJ/KvTavJl+7m/P9BYz4kFFFFeycYUUUUAFFFFABRRRQAUUUUAFFFFABRRRQAUUUUAFFFFABRRRQAUUUUAFFFFABRRRQAUUUUAFFFFABRRRQAUUUUAFFFFABRRRQAUUUUAFFFFABRRRQAUUUUAFFFFABRRRQAUUUUAFFFFABRRRQAUUUUAFFFFABRRRQAUUUUAFFFFABRRRQAUUUUAFFFFABRRRQAUUUUAFFFFABRRRQAUUUUAFFFFABRRRQAUUUUAFFFFABRRRQAUUUUAFFFFABRRRQAUUUUAFFFFABRRRQAUUUUAFFFFABRRRQAUUUUAFFFFABRRRQAUUUUAFFFFABRRRQAUUUUAFFFFABRRRQAUUUUAFFFFABRRRQAUUUUAFFFFABRRRQAUUUUAFFFFABRRRQAUUUUAFFFFABRRRQAUUUUAFFFFABRRRQAUUUUAFFFFABRRRQAUUUUAFFFFABRRRQAUUUUAFFFFABRRRQAUUUUAFFFFABRRRQAUUUUAVNV/5A97/17yf+gmvMK9M1mVIdFvGkOAYWXOO5GB+pFeZ18/nL/eR9P1O/B/CzX8M/8jDa/wDA/wD0A16HXAeFIWl16N1IxEjO2e4xt4/FhXf12ZQn7B+v+Rli/j+QUUUV6hyhRRRQAUUUUAFFFFABRRRQAUUUUAFFFFABRRRQAUUUUAFFFFABRRRQAUUUUAFFFFABRRRQAUUUUAFFFFABRRRQAUUUUAFFFFABRRRQAUUUUAFFFFABRRRQAUUUUAFFFFABRRRQAUUUUAFFFFABRRRQAUUUUAFFFFABRRRQAUUUUAFFFFABRRRQAUUUUAFFFFABRRRQAUUUUAFFFFABRRRQAUUUUAFFFFABRRRQAUUUUAFFFFABRRRQAUUUUAFFFFABRRRQAUUUUAFFFFABRRRQAUUUUAFFFFABRRRQAUUUUAFFFFABRRRQAUUUUAFFFFABRRRQAUUUUAFFFFABRRRQAUUUUAFFFFABRRRQAUUUUAFFFFABRRRQAUUUUAFFFFABRRRQAUUUUAFFFFABRRRQAUUUUAFFFFABRRRQAUUUUAFFFFABRRRQAUUUUAFFFFABRRRQAUUUUAFFFFABRRRQAUUUUAFFFFABRRRQBk+Jv+Reuv8AgH/oYrzuu+8WT+VobJtz50ipnPT+LP8A47+tcDXzebtOul5L9T0cIvc+Z0Xg3/kMS/8AXuf/AEJa7iuM8Fwbry6uN33Iwm3HXcc5/wDHf1rs69PK01hl6s5sU/3gUUUV6JzhRRRQAUUUUAFFFFABRRRQAUUUUAFFFFABRRRQAUUUUAFFFFABRRRQAUUUUAFFFFABRRRQAUUUUAFFFFABRRRQAUUUUAFFFFABRRRQAUUUUAFFFFABRRRQAUUUUAFFFFABRRRQAUUUUAFFFFABRRRQAUUUUAFFFFABRRRQAUUUUAFFFFABRRRQAUUUUAFFFFABRRRQAUUUUAFFFFABRRRQAUUUUAFFFFABRRRQAUUUUAFFFFABRRRQAUUUUAFFFFABRRRQAUUUUAFFFFABRRRQAUUUUAFFFFABRRRQAUUUUAFFFFABRRRQAUUUUAFFFFABRRRQAUUUUAFFFFABRRRQAUUUUAFFFFABRRRQAUUUUAFFFFABRRRQAUUUUAFFFFABRRRQAUUUUAFFFFABRRRQAUUUUAFFFFABRRRQAUUUUAFFFFABRRRQAUUUUAFFFFABRRRQAUUUUAFFFFABRRRQAUUUUAFFFFABRRRQBzvjL/kDxf8AXwP/AEFq4euw8ayuIbOIH5GZ2Ix1IwB/M1x9fL5o74l+iPTwytTR1vgn/l+/7Z/+zV1tc14MiQabcSgfO020nPUAAj+Zrpa9vL1bDQ/rqzixDvUYUUUV2mIUUUUAFFFFABRRRQAUUUUAFFFFABRRRQAUUUUAFFFFABRRRQAUUUUAFFFFABRRRQAUUUUAFFFFABRRRQAUUUUAFFFFABRRRQAUUUUAFFFFABRRRQAUUUUAFFFFABRRRQAUUUUAFFFFABRRRQAUUUUAFFFFABRRRQAUUUUAFFFFABRRRQAUUUUAFFFFABRRRQAUUUUAFFFFABRRRQAUUUUAFFFFABRRRQAUUUUAFFFFABRRRQAUUUUAFFFFABRRRQAUUUUAFFFFABRRRQAUUUUAFFFFABRRRQAUUUUAFFFFABRRRQAUUUUAFFFFABRRRQAUUUUAFFFFABRRRQAUUUUAFFFFABRRRQAUUUUAFFFFABRRRQAUUUUAFFFFABRRRQAUUUUAFFFFABRRRQAUUUUAFFFFABRRRQAUUUUAFFFFABRRRQAUUUUAFFFFABRRRQAUUUUAFFFFABRRRQAUUUUAFFFFABRRRQAUUUUAcl42/wCXH/tp/wCy1yVdF4y/5DEX/XuP/Qmrna+TzCV8TP8Aroj1cOrU0dx4N/5A8v8A18H/ANBWuirJ8M/8i9a/8D/9DNa1fR4OPLh4LyR51Z3qMKKKK6TMKKKKACiiigAooooAKKKKACiiigAooooAKKKKACiiigAooooAKKKKACiiigAooooAKKKKACiiigAooooAKKKKACiiigAooooAKKKKACiiigAooooAKKKKACiiigAooooAKKKKACiiigAooooAKKKKACiiigAooooAKKKKACiiigAooooAKKKKACiiigAooooAKKKKACiiigAooooAKKKKACiiigAooooAKKKKACiiigAooooAKKKKACiiigAooooAKKKKACiiigAooooAKKKKACiiigAooooAKKKKACiiigAooooAKKKKACiiigAooooAKKKKACiiigAooooAKKKKACiiigAooooAKKKKACiiigAooooAKKKKACiiigAooooAKKKKACiiigAooooAKKKKACiiigAooooAKKKKACiiigAooooAKKKKACiiigAooooAKKKKACiiigAooooAKKKKACiiigAooooAKKKKAOF8YurazGFYErAoYA9Dljg/gR+dc/Wv4m/5GG6/4B/6AKyK+QxkubETfmz16KtTR6L4bRk8P2gZSpwxwRjgsSD+VatVNK/5A9l/17x/+girdfVUI8tKK8l+SPKm7ybCiiitSQooooAKKKKACiiigAooooAKKKKACiiigAooooAKKKKACiiigAooooAKKKKACiiigAooooAKKKKACiiigAooooAKKKKACiiigAooooAKKKKACiiigAooooAKKKKACiiigAooooAKKKKACiiigAooooAKKKKACiiigAooooAKKKKACiiigAooooAKKKKACiiigAooooAKKKKACiiigAooooAKKKKACiiigAooooAKKKKACiiigAooooAKKKKACiiigAooooAKKKKACiiigAooooAKKKKACiiigAooooAKKKKACiiigAooooAKKKKACiiigAooooAKKKKACiiigAooooAKKKKACiiigAooooAKKKKACiiigAooooAKKKKACiiigAooooAKKKKACiiigAooooAKKKKACiiigAooooAKKKKACiiigAooooAKKKKACiiigAooooAKKKKACiiigAooooAKKKKACiiigAooooA838QTLPr126ggB9nPqoCn9RWbVvVf+Qxe/wDXxJ/6EaqV8ZWbdWTfd/mz2IK0Uj1Oyha2sLeByC0cSoSOmQAKnoor7KKUUkjyG7u4UUUUxBRRRQAUUUUAFFFFABRRRQAUUUUAFFFFABRRRQAUUUUAFFFFABRRRQAUUUUAFFFFABRRRQAUUUUAFFFFABRRRQAUUUUAFFFFABRRRQAUUUUAFFFFABRRRQAUUUUAFFFFABRRRQAUUUUAFFFFABRRRQAUUUUAFFFFABRRRQAUUUUAFFFFABRRRQAUUUUAFFFFABRRRQAUUUUAFFFFABRRRQAUUUUAFFFFABRRRQAUUUUAFFFFABRRRQAUUUUAFFFFABRRRQAUUUUAFFFFABRRRQAUUUUAFFFFABRRRQAUUUUAFFFFABRRRQAUUUUAFFFFABRRRQAUUUUAFFFFABRRRQAUUUUAFFFFABRRRQAUUUUAFFFFABRRRQAUUUUAFFFFABRRRQAUUUUAFFFFABRRRQAUUUUAFFFFABRRRQAUUUUAFFFFABRRRQAUUUUAFFFFABRRRQAUUUUAFFFFABRRRQAUUUUAFFFFABRRRQB5TcTNc3Ms7gBpHLkDpknNPsoVub+3gckLJKqEjrgkCoKt6V/yGLL/AK+I/wD0IV8VD3qiv1f6nsvSLsen0UUV9qeMFFFFABRRRQAUUUUAFFFFABRRRQAUUUUAFFFFABRRRQAUUUUAFFFFABRRRQAUUUUAFFFFABRRRQAUUUUAFFFFABRRRQAUUUUAFFFFABRRRQAUUUUAFFFFABRRRQAUUUUAFFFFABRRRQAUUUUAFFFFABRRRQAUUUUAFFFFABRRRQAUUUUAFFFFABRRRQAUUUUAFFFFABRRRQAUUUUAFFFFABRRRQAUUUUAFFFFABRRRQAUUUUAFFFFABRRRQAUUUUAFFFFABRRRQAUUUUAFFFFABRRRQAUUUUAFFFFABRRRQAUUUUAFFFFABRRRQAUUUUAFFFFABRRRQAUUUUAFFFFABRRRQAUUUUAFFFFABRRRQAUUUUAFFFFABRRRQAUUUUAFFFFABRRRQAUUUUAFFFFABRRRQAUUUUAFFFFABRRRQAUUUUAFFFFABRRRQAUUUUAFFFFABRRRQAUUUUAFFFFABRRRQAUUUUAFFFFABVfUJXg026ljO10hdlOM4IBIqxVTVf+QPe/9e8n/oJqKjtCTXZ/kxx+JHmFavhtFfxBaBlDDLHBGeQpIP51lVr+Gf8AkYbX/gf/AKAa+Rw38eHqvzPWqfA/Q9Dooor7E8gKKKKACiiigAooooAKKKKACiiigAooooAKKKKACiiigAooooAKKKKACiiigAooooAKKKKACiiigAooooAKKKKACiiigAooooAKKKKACiiigAooooAKKKKACiiigAooooAKKKKACiiigAooooAKKKKACiiigAooooAKKKKACiiigAooooAKKKKACiiigAooooAKKKKACiiigAooooAKKKKACiiigAooooAKKKKACiiigAooooAKKKKACiiigAooooAKKKKACiiigAooooAKKKKACiiigAooooAKKKKACiiigAooooAKKKKACiiigAooooAKKKKACiiigAooooAKKKKACiiigAooooAKKKKACiiigAooooAKKKKACiiigAooooAKKKKACiiigAooooAKKKKACiiigAooooAKKKKACiiigAooooAKKKKACiiigAooooAKKKKACiiigAooooAKKKKACiiigAooooAKKKKACsnxN/yL11/wD/0MVrVjeKZUj0CZWODIyqox1O4H+QNYYp2oT9GaUvjXqefV0Xg3/kMS/wDXuf8A0Ja52ul8GROdSuJQPkWHaTnoSQR/I18zgFfEw9f8z0a/8Nna0UUV9aeUFFFFABRRRQAUUUUAFFFFABRRRQAUUUUAFFFFABRRRQAUUUUAFFFFABRRRQAUUUUAFFFFABRRRQAUUUUAFFFFABRRRQAUUUUAFFFFABRRRQAUUUUAFFFFABRRRQAUUUUAFFFFABRRRQAUUUUAFFFFABRRRQAUUUUAFFFFABRRRQAUUUUAFFFFABRRRQAUUUUAFFFFABRRRQAUUUUAFFFFABRRRQAUUUUAFFFFABRRRQAUUUUAFFFFABRRRQAUUUUAFFFFABRRRQAUUUUAFFFFABRRRQAUUUUAFFFFABRRRQAUUUUAFFFFABRRRQAUUUUAFFFFABRRRQAUUUUAFFFFABRRRQAUUUUAFFFFABRRRQAUUUUAFFFFABRRRQAUUUUAFFFFABRRRQAUUUUAFFFFABRRRQAUUUUAFFFFABRRRQAUUUUAFFFFABRRRQAUUUUAFFFFABRRRQAUUUUAFFFFABRRRQAUUUUAFFFFABXO+Mv+QPF/18D/ANBauirmPGk+2ztbfb9+Qvuz02jGP/Hv0rkx7Sw079v8jWgv3iOMrrfBP/L9/wBs/wD2auSrs/BcG2zurjd9+QJtx02jOf8Ax79K8HLE3iY/P8jvxL/ds6eiiivqTywooooAKKKKACiiigAooooAKKKKACiiigAooooAKKKKACiiigAooooAKKKKACiiigAooooAKKKKACiiigAooooAKKKKACiiigAooooAKKKKACiiigAooooAKKKKACiiigAooooAKKKKACiiigAooooAKKKKACiiigAooooAKKKKACiiigAooooAKKKKACiiigAooooAKKKKACiiigAooooAKKKKACiiigAooooAKKKKACiiigAooooAKKKKACiiigAooooAKKKKACiiigAooooAKKKKACiiigAooooAKKKKACiiigAooooAKKKKACiiigAooooAKKKKACiiigAooooAKKKKACiiigAooooAKKKKACiiigAooooAKKKKACiiigAooooAKKKKACiiigAooooAKKKKACiiigAooooAKKKKACiiigAooooAKKKKACiiigAooooAKKKKACiiigAooooAKKKKACiiigAooooAK5Lxt/y4/wDbT/2Wutri/GkzNf20BA2pEXB75Y4P/oIrgzNpYaXy/M3wy/eI5mu48G/8geX/AK+D/wCgrXD13/hSFYtBjdScyuztnsc7ePwUV5OUpvEX7JnXin+7NuiiivpTzQooooAKKKKACiiigAooooAKKKKACiiigAooooAKKKKACiiigAooooAKKKKACiiigAooooAKKKKACiiigAooooAKKKKACiiigAooooAKKKKACiiigAooooAKKKKACiiigAooooAKKKKACiiigAooooAKKKKACiiigAooooAKKKKACiiigAooooAKKKKACiiigAooooAKKKKACiiigAooooAKKKKACiiigAooooAKKKKACiiigAooooAKKKKACiiigAooooAKKKKACiiigAooooAKKKKACiiigAooooAKKKKACiiigAooooAKKKKACiiigAooooAKKKKACiiigAooooAKKKKACiiigAooooAKKKKACiiigAooooAKKKKACiiigAooooAKKKKACiiigAooooAKKKKACiiigAooooAKKKKACiiigAooooAKKKKACiiigAooooAKKKKACiiigAooooAKKKKACiiigAooooAK4fxl/wAhiL/r3H/oTV3Fee+KHZvEFwGYkKECgnoNoOB+JP515mbSth7d2v1OnCr94Y9eieGf+Retf+B/+hmvO69N0hFTRrIKoUeQhwBjkgEn864cnjerJ+X6m+LfuJF2iiivoTzwooooAKKKKACiiigAooooAKKKKACiiigAooooAKKKKACiiigAooooAKKKKACiiigAooooAKKKKACiiigAooooAKKKKACiiigAooooAKKKKACiiigAooooAKKKKACiiigAooooAKKKKACiiigAooooAKKKKACiiigAooooAKKKKACiiigAooooAKKKKACiiigAooooAKKKKACiiigAooooAKKKKACiiigAooooAKKKKACiiigAooooAKKKKACiiigAooooAKKKKACiiigAooooAKKKKACiiigAooooAKKKKACiiigAooooAKKKKACiiigAooooAKKKKACiiigAooooAKKKKACiiigAooooAKKKKACiiigAooooAKKKKACiiigAooooAKKKKACiiigAooooAKKKKACiiigAooooAKKKKACiiigAooooAKKKKACiiigAooooAKKKKACiiigAooooAKKKKACiiigAooooAK868SOr+ILsqwYZUZBzyFAI/OvRa8w1X/kMXv8A18Sf+hGvIziVqUV5/odeDXvNlSvUNNRo9Ks0dSrLAgKkYIO0cV5fXrVYZNH3pv0Lxj0SCiiiveOEKKKKACiiigAooooAKKKKACiiigAooooAKKKKACiiigAooooAKKKKACiiigAooooAKKKKACiiigAooooAKKKKACiiigAooooAKKKKACiiigAooooAKKKKACiiigAooooAKKKKACiiigAooooAKKKKACiiigAooooAKKKKACiiigAooooAKKKKACiiigAooooAKKKKACiiigAooooAKKKKACiiigAooooAKKKKACiiigAooooAKKKKACiiigAooooAKKKKACiiigAooooAKKKKACiiigAooooAKKKKACiiigAooooAKKKKACiiigAooooAKKKKACiiigAooooAKKKKACiiigAooooAKKKKACiiigAooooAKKKKACiiigAooooAKKKKACiiigAooooAKKKKACiiigAooooAKKKKACiiigAooooAKKKKACiiigAooooAKKKKACiiigAooooAKKKKACiiigAooooAKKKKACvLdQlSfUrqWM7keZ2U4xkEkivUq8lrxM5ekF6nbg1q2SW8LXNzFAhAaRwgJ6ZJxXq1eYaV/wAhiy/6+I//AEIV6fTyZLkm/NfkLGPVIKKKK9o4wooooAKKKKACiiigAooooAKKKKACiiigAooooAKKKKACiiigAooooAKKKKACiiigAooooAKKKKACiiigAooooAKKKKACiiigAooooAKKKKACiiigAooooAKKKKACiiigAooooAKKKKACiiigAooooAKKKKACiiigAooooAKKKKACiiigAooooAKKKKACiiigAooooAKKKKACiiigAooooAKKKKACiiigAooooAKKKKACiiigAooooAKKKKACiiigAooooAKKKKACiiigAooooAKKKKACiiigAooooAKKKKACiiigAooooAKKKKACiiigAooooAKKKKACiiigAooooAKKKKACiiigAooooAKKKKACiiigAooooAKKKKACiiigAooooAKKKKACiiigAooooAKKKKACiiigAooooAKKKKACiiigAooooAKKKKACiiigAooooAKKKKACiiigAor5W+IfxD8XaR8QdbsLDX7yC1huSscSsMKMA4GR71zP/C1PHP8A0M19/wB9D/CgD7Por4w/4Wp45/6Ga+/76H+FH/C1PHP/AEM19/30P8KAPs+ivjD/AIWp45/6Ga+/76H+FH/C1PHP/QzX3/fQ/wAKAPs+ivjD/hanjn/oZr7/AL6H+FH/AAtTxz/0M19/30P8KAPsm6n+zWc9xt3eVGz7c4zgZxXldeM6J8SvGV/r+nWd14hvJbee6iiljZhh0ZgCDx3Br2avAzlvngvJ/md+DWjZo6DB9o1yzTdtxJvzjP3fmx+lek14R4y1W+0Twpe6jptzJbXkPl+XNH95cuqnH4Ej8a8n/wCFqeOf+hmvv++h/hXTk6XsZPz/AEMsW/fXofZ9FfGH/C1PHP8A0M19/wB9D/Cj/hanjn/oZr7/AL6H+Fescp9n0V8Yf8LU8c/9DNff99D/AAo/4Wp45/6Ga+/76H+FAH2fRXxh/wALU8c/9DNff99D/Cj/AIWp45/6Ga+/76H+FAH2fRXx5pPxN8a3Os2NvN4kvmiluI0dd4GQWAI4FfYdABRRRQAUUUUAFFFFABRRRQAUUUUAFFFFABRRRQAUUUUAFFFFABRRRQAUUUUAFFFFABRRRQAUUUUAFFFFABRRRQAUUUUAFFFFABRRRQAUUUUAFFFFABRRRQAUUUUAFFFFABRRRQAUUUUAFFFFABRRRQAUUUUAFFFFABRRRQAUUUUAFFFFABRRRQAUUUUAFFFFABRRRQAUUUUAFFFFABRRRQAUUUUAFFFFABRRRQAUUUUAFFFFABRRRQAUUUUAFFFFABRRRQAUUUUAFFFFABRRRQAUUUUAFFFFABRRRQAUUUUAFFFFABRRRQAUUUUAFFFFABRRRQAUUUUAFFFFABRRRQAUUUUAFFFFABRRRQAUUUUAFFFFABRRRQAUUUUAFFFFABRRRQAUUUUAFFFFABRRRQAUUUUAFFFFABRRRQAUUUUAFFFFABRRRQAUUUUAFFFFAHxh8VP+So+If+vs/wAhXH12HxU/5Kj4h/6+z/IVx9ABRRRQAUUUUAFFFABJAAyT2oSvogOk8A20V1450uOZNyB2kAyR8yIzKePQgGvoGvnHTklsJkuYpZIrlc7XjcqVyMHBHsTViSR5ZHkkdnkclmZjksT1JPrXuf6h4jHWrV6qp6bWu/nqkvxfcdPHxpLlSuem/Fe5lg8HpHG+1J7pI5BgHcoDNj25VT+FeJ102papqeqaaLG6vppoVl85RK28h8EfePOME8ZxXNMrIxVhgjqK82vw/icmiqda0k27SV7Py12fl93k54iNeXMhKKKK5SQooooAKKKKANDQf+Rh0z/r7i/9DFfd9fCGg/8AIw6Z/wBfcX/oYr7voAKKKKACiiigAooooAKKKKACiiigAooooAKKKKACiiigAooooAKKKKACiiigAooooAKKKKACiiigAooooAKKKKACiiigAooooAKKKKACiiigAooooAKKKKACiiigAooooAKKKKACiiigAooooAKKKKACiiigAooooAKKKKACiiigAooooAKKKKACiiigAooooAKKKKACiiigAooooAKKKKACiiigAooooA5//hNvDv8A0EP/ACDJ/wDE0f8ACbeHf+gh/wCQZP8A4mtD+wtH/wCgVY/+A6f4Uf2Fo/8A0CrH/wAB0/woAz/+E28O/wDQQ/8AIMn/AMTR/wAJt4d/6CH/AJBk/wDia0P7C0f/AKBVj/4Dp/hR/YWj/wDQKsf/AAHT/CgDP/4Tbw7/ANBD/wAgyf8AxNH/AAm3h3/oIf8AkGT/AOJrQ/sLR/8AoFWP/gOn+FH9haP/ANAqx/8AAdP8KAM//hNvDv8A0EP/ACDJ/wDE0f8ACbeHf+gh/wCQZP8A4mtD+wtH/wCgVY/+A6f4Uf2Fo/8A0CrH/wAB0/woAz/+E28O/wDQQ/8AIMn/AMTR/wAJt4d/6CH/AJBk/wDia0P7C0f/AKBVj/4Dp/hR/YWj/wDQKsf/AAHT/CgDP/4Tbw7/ANBD/wAgyf8AxNH/AAm3h3/oIf8AkGT/AOJrQ/sLR/8AoFWP/gOn+FH9haP/ANAqx/8AAdP8KAM//hNvDv8A0EP/ACDJ/wDE0f8ACbeHf+gh/wCQZP8A4mtD+wtH/wCgVY/+A6f4Uf2Fo/8A0CrH/wAB0/woAz/+E28O/wDQQ/8AIMn/AMTR/wAJt4d/6CH/AJBk/wDia0P7C0f/AKBVj/4Dp/hR/YWj/wDQKsf/AAHT/CgDP/4Tbw7/ANBD/wAgyf8AxNH/AAm3h3/oIf8AkGT/AOJrQ/sLR/8AoFWP/gOn+FH9haP/ANAqx/8AAdP8KAM//hNvDv8A0EP/ACDJ/wDE0f8ACbeHf+gh/wCQZP8A4mtD+wtH/wCgVY/+A6f4Uf2Fo/8A0CrH/wAB0/woAz/+E28O/wDQQ/8AIMn/AMTR/wAJt4d/6CH/AJBk/wDia0P7C0f/AKBVj/4Dp/hR/YWj/wDQKsf/AAHT/CgDP/4Tbw7/ANBD/wAgyf8AxNH/AAm3h3/oIf8AkGT/AOJrQ/sLR/8AoFWP/gOn+FH9haP/ANAqx/8AAdP8KAM//hNvDv8A0EP/ACDJ/wDE0f8ACbeHf+gh/wCQZP8A4mtD+wtH/wCgVY/+A6f4Uf2Fo/8A0CrH/wAB0/woAz/+E28O/wDQQ/8AIMn/AMTR/wAJt4d/6CH/AJBk/wDia0P7C0f/AKBVj/4Dp/hR/YWj/wDQKsf/AAHT/CgDP/4Tbw7/ANBD/wAgyf8AxNH/AAm3h3/oIf8AkGT/AOJrQ/sLR/8AoFWP/gOn+FH9haP/ANAqx/8AAdP8KAM//hNvDv8A0EP/ACDJ/wDE0f8ACbeHf+gh/wCQZP8A4mtD+wtH/wCgVY/+A6f4Uf2Fo/8A0CrH/wAB0/woAz/+E28O/wDQQ/8AIMn/AMTR/wAJt4d/6CH/AJBk/wDia0P7C0f/AKBVj/4Dp/hR/YWj/wDQKsf/AAHT/CgDP/4Tbw7/ANBD/wAgyf8AxNH/AAm3h3/oIf8AkGT/AOJrQ/sLR/8AoFWP/gOn+FH9haP/ANAqx/8AAdP8KAM//hNvDv8A0EP/ACDJ/wDE0f8ACbeHf+gh/wCQZP8A4mtD+wtH/wCgVY/+A6f4Uf2Fo/8A0CrH/wAB0/woAz/+E28O/wDQQ/8AIMn/AMTR/wAJt4d/6CH/AJBk/wDia0P7C0f/AKBVj/4Dp/hR/YWj/wDQKsf/AAHT/CgDP/4Tbw7/ANBD/wAgyf8AxNH/AAm3h3/oIf8AkGT/AOJrQ/sLR/8AoFWP/gOn+FH9haP/ANAqx/8AAdP8KAM//hNvDv8A0EP/ACDJ/wDE0f8ACbeHf+gh/wCQZP8A4mtD+wtH/wCgVY/+A6f4Uf2Fo/8A0CrH/wAB0/woAz/+E28O/wDQQ/8AIMn/AMTR/wAJt4d/6CH/AJBk/wDia0P7C0f/AKBVj/4Dp/hR/YWj/wDQKsf/AAHT/CgDP/4Tbw7/ANBD/wAgyf8AxNH/AAm3h3/oIf8AkGT/AOJrQ/sLR/8AoFWP/gOn+FH9haP/ANAqx/8AAdP8KAM//hNvDv8A0EP/ACDJ/wDE0f8ACbeHf+gh/wCQZP8A4mtD+wtH/wCgVY/+A6f4Uf2Fo/8A0CrH/wAB0/woAz/+E28O/wDQQ/8AIMn/AMTR/wAJt4d/6CH/AJBk/wDia0P7C0f/AKBVj/4Dp/hR/YWj/wDQKsf/AAHT/CgDP/4Tbw7/ANBD/wAgyf8AxNH/AAm3h3/oIf8AkGT/AOJrQ/sLR/8AoFWP/gOn+FH9haP/ANAqx/8AAdP8KAM//hNvDv8A0EP/ACDJ/wDE0f8ACbeHf+gh/wCQZP8A4mtD+wtH/wCgVY/+A6f4Uf2Fo/8A0CrH/wAB0/woAz/+E28O/wDQQ/8AIMn/AMTR/wAJt4d/6CH/AJBk/wDia0P7C0f/AKBVj/4Dp/hR/YWj/wDQKsf/AAHT/CgDP/4Tbw7/ANBD/wAgyf8AxNH/AAm3h3/oIf8AkGT/AOJrQ/sLR/8AoFWP/gOn+FH9haP/ANAqx/8AAdP8KAM//hNvDv8A0EP/ACDJ/wDE0f8ACbeHf+gh/wCQZP8A4mtD+wtH/wCgVY/+A6f4Uf2Fo/8A0CrH/wAB0/woAz/+E28O/wDQQ/8AIMn/AMTR/wAJt4d/6CH/AJBk/wDia0P7C0f/AKBVj/4Dp/hR/YWj/wDQKsf/AAHT/CgDP/4Tbw7/ANBD/wAgyf8AxNH/AAm3h3/oIf8AkGT/AOJrQ/sLR/8AoFWP/gOn+FH9haP/ANAqx/8AAdP8KAM//hNvDv8A0EP/ACDJ/wDE0f8ACbeHf+gh/wCQZP8A4mtD+wtH/wCgVY/+A6f4Uf2Fo/8A0CrH/wAB0/woAz/+E28O/wDQQ/8AIMn/AMTR/wAJt4d/6CH/AJBk/wDia0P7C0f/AKBVj/4Dp/hR/YWj/wDQKsf/AAHT/CgDP/4Tbw7/ANBD/wAgyf8AxNH/AAm3h3/oIf8AkGT/AOJrQ/sLR/8AoFWP/gOn+FH9haP/ANAqx/8AAdP8KAM//hNvDv8A0EP/ACDJ/wDE0f8ACbeHf+gh/wCQZP8A4mtD+wtH/wCgVY/+A6f4Uf2Fo/8A0CrH/wAB0/woAz/+E28O/wDQQ/8AIMn/AMTR/wAJt4d/6CH/AJBk/wDia0P7C0f/AKBVj/4Dp/hR/YWj/wDQKsf/AAHT/CgDP/4Tbw7/ANBD/wAgyf8AxNH/AAm3h3/oIf8AkGT/AOJrQ/sLR/8AoFWP/gOn+FH9haP/ANAqx/8AAdP8KAM//hNvDv8A0EP/ACDJ/wDE0f8ACbeHf+gh/wCQZP8A4mtD+wtH/wCgVY/+A6f4Uf2Fo/8A0CrH/wAB0/woAz/+E28O/wDQQ/8AIMn/AMTR/wAJt4d/6CH/AJBk/wDia0P7C0f/AKBVj/4Dp/hR/YWj/wDQKsf/AAHT/CgDP/4Tbw7/ANBD/wAgyf8AxNH/AAm3h3/oIf8AkGT/AOJrQ/sLR/8AoFWP/gOn+FH9haP/ANAqx/8AAdP8KAPjz4mzx3PxI1y4hbdFLcb0bGMgqCDzXJ113xQjSL4ma/HGioiXJVVUYAAAwAK5GgAooooAKKKKACrNige5BP8ACM1WqxZybLlc9G+WvQyl01jqLqbcy/4H42IqX5XY1aKKK/YTzwrO1BAJEcfxDB/CtGs3UJN0yoP4R+p/yK+d4odNZbLn3uret/8AK5tQvzlSiiivzA7QooooAKKKKANDQf8AkYdM/wCvuL/0MV9n/wDCbeHf+gh/5Bk/+Jr4w0H/AJGHTP8Ar7i/9DFfb/8AYWj/APQKsf8AwHT/AAoAz/8AhNvDv/QQ/wDIMn/xNH/CbeHf+gh/5Bk/+JrQ/sLR/wDoFWP/AIDp/hR/YWj/APQKsf8AwHT/AAoAz/8AhNvDv/QQ/wDIMn/xNH/CbeHf+gh/5Bk/+JrQ/sLR/wDoFWP/AIDp/hR/YWj/APQKsf8AwHT/AAoAz/8AhNvDv/QQ/wDIMn/xNH/CbeHf+gh/5Bk/+JrQ/sLR/wDoFWP/AIDp/hR/YWj/APQKsf8AwHT/AAoAz/8AhNvDv/QQ/wDIMn/xNH/CbeHf+gh/5Bk/+JrQ/sLR/wDoFWP/AIDp/hR/YWj/APQKsf8AwHT/AAoAz/8AhNvDv/QQ/wDIMn/xNH/CbeHf+gh/5Bk/+JrQ/sLR/wDoFWP/AIDp/hR/YWj/APQKsf8AwHT/AAoAz/8AhNvDv/QQ/wDIMn/xNH/CbeHf+gh/5Bk/+JrQ/sLR/wDoFWP/AIDp/hR/YWj/APQKsf8AwHT/AAoAz/8AhNvDv/QQ/wDIMn/xNH/CbeHf+gh/5Bk/+JrQ/sLR/wDoFWP/AIDp/hR/YWj/APQKsf8AwHT/AAoAz/8AhNvDv/QQ/wDIMn/xNH/CbeHf+gh/5Bk/+JrQ/sLR/wDoFWP/AIDp/hR/YWj/APQKsf8AwHT/AAoAz/8AhNvDv/QQ/wDIMn/xNH/CbeHf+gh/5Bk/+JrQ/sLR/wDoFWP/AIDp/hR/YWj/APQKsf8AwHT/AAoAz/8AhNvDv/QQ/wDIMn/xNH/CbeHf+gh/5Bk/+JrQ/sLR/wDoFWP/AIDp/hR/YWj/APQKsf8AwHT/AAoAz/8AhNvDv/QQ/wDIMn/xNH/CbeHf+gh/5Bk/+JrQ/sLR/wDoFWP/AIDp/hR/YWj/APQKsf8AwHT/AAoAz/8AhNvDv/QQ/wDIMn/xNH/CbeHf+gh/5Bk/+JrQ/sLR/wDoFWP/AIDp/hR/YWj/APQKsf8AwHT/AAoAz/8AhNvDv/QQ/wDIMn/xNH/CbeHf+gh/5Bk/+JrQ/sLR/wDoFWP/AIDp/hR/YWj/APQKsf8AwHT/AAoAz/8AhNvDv/QQ/wDIMn/xNH/CbeHf+gh/5Bk/+JrQ/sLR/wDoFWP/AIDp/hR/YWj/APQKsf8AwHT/AAoAz/8AhNvDv/QQ/wDIMn/xNH/CbeHf+gh/5Bk/+JrQ/sLR/wDoFWP/AIDp/hR/YWj/APQKsf8AwHT/AAoAz/8AhNvDv/QQ/wDIMn/xNH/CbeHf+gh/5Bk/+JrQ/sLR/wDoFWP/AIDp/hR/YWj/APQKsf8AwHT/AAoAz/8AhNvDv/QQ/wDIMn/xNH/CbeHf+gh/5Bk/+JrQ/sLR/wDoFWP/AIDp/hR/YWj/APQKsf8AwHT/AAoAz/8AhNvDv/QQ/wDIMn/xNH/CbeHf+gh/5Bk/+JrQ/sLR/wDoFWP/AIDp/hR/YWj/APQKsf8AwHT/AAoAz/8AhNvDv/QQ/wDIMn/xNH/CbeHf+gh/5Bk/+JrQ/sLR/wDoFWP/AIDp/hR/YWj/APQKsf8AwHT/AAoAz/8AhNvDv/QQ/wDIMn/xNH/CbeHf+gh/5Bk/+JrQ/sLR/wDoFWP/AIDp/hR/YWj/APQKsf8AwHT/AAoAz/8AhNvDv/QQ/wDIMn/xNH/CbeHf+gh/5Bk/+JrQ/sLR/wDoFWP/AIDp/hR/YWj/APQKsf8AwHT/AAoAz/8AhNvDv/QQ/wDIMn/xNH/CbeHf+gh/5Bk/+JrQ/sLR/wDoFWP/AIDp/hR/YWj/APQKsf8AwHT/AAoAz/8AhNvDv/QQ/wDIMn/xNH/CbeHf+gh/5Bk/+JrQ/sLR/wDoFWP/AIDp/hR/YWj/APQKsf8AwHT/AAoAz/8AhNvDv/QQ/wDIMn/xNH/CbeHf+gh/5Bk/+JrQ/sLR/wDoFWP/AIDp/hR/YWj/APQKsf8AwHT/AAoAz/8AhNvDv/QQ/wDIMn/xNH/CbeHf+gh/5Bk/+JrQ/sLR/wDoFWP/AIDp/hR/YWj/APQKsf8AwHT/AAoAz/8AhNvDv/QQ/wDIMn/xNH/CbeHf+gh/5Bk/+JrQ/sLR/wDoFWP/AIDp/hR/YWj/APQKsf8AwHT/AAoAz/8AhNvDv/QQ/wDIMn/xNH/CbeHf+gh/5Bk/+JrQ/sLR/wDoFWP/AIDp/hR/YWj/APQKsf8AwHT/AAoAz/8AhNvDv/QQ/wDIMn/xNH/CbeHf+gh/5Bk/+JrQ/sLR/wDoFWP/AIDp/hR/YWj/APQKsf8AwHT/AAoAz/8AhNvDv/QQ/wDIMn/xNH/CbeHf+gh/5Bk/+JrQ/sLR/wDoFWP/AIDp/hR/YWj/APQKsf8AwHT/AAoAz/8AhNvDv/QQ/wDIMn/xNH/CbeHf+gh/5Bk/+JrQ/sLR/wDoFWP/AIDp/hR/YWj/APQKsf8AwHT/AAoAz/8AhNvDv/QQ/wDIMn/xNH/CbeHf+gh/5Bk/+JrQ/sLR/wDoFWP/AIDp/hR/YWj/APQKsf8AwHT/AAoAz/8AhNvDv/QQ/wDIMn/xNH/CbeHf+gh/5Bk/+JrQ/sLR/wDoFWP/AIDp/hR/YWj/APQKsf8AwHT/AAoAz/8AhNvDv/QQ/wDIMn/xNH/CbeHf+gh/5Bk/+JrQ/sLR/wDoFWP/AIDp/hR/YWj/APQKsf8AwHT/AAoAz/8AhNvDv/QQ/wDIMn/xNH/CbeHf+gh/5Bk/+JrQ/sLR/wDoFWP/AIDp/hR/YWj/APQKsf8AwHT/AAoAz/8AhNvDv/QQ/wDIMn/xNH/CbeHf+gh/5Bk/+JrQ/sLR/wDoFWP/AIDp/hR/YWj/APQKsf8AwHT/AAoAz/8AhNvDv/QQ/wDIMn/xNH/CbeHf+gh/5Bk/+JrQ/sLR/wDoFWP/AIDp/hR/YWj/APQKsf8AwHT/AAoAz/8AhNvDv/QQ/wDIMn/xNH/CbeHf+gh/5Bk/+JrQ/sLR/wDoFWP/AIDp/hR/YWj/APQKsf8AwHT/AAoAz/8AhNvDv/QQ/wDIMn/xNH/CbeHf+gh/5Bk/+JrQ/sLR/wDoFWP/AIDp/hR/YWj/APQKsf8AwHT/AAoAz/8AhNvDv/QQ/wDIMn/xNH/CbeHf+gh/5Bk/+JrQ/sLR/wDoFWP/AIDp/hR/YWj/APQKsf8AwHT/AAoAz/8AhNvDv/QQ/wDIMn/xNH/CbeHf+gh/5Bk/+JrQ/sLR/wDoFWP/AIDp/hR/YWj/APQKsf8AwHT/AAoAz/8AhNvDv/QQ/wDIMn/xNH/CbeHf+gh/5Bk/+JrQ/sLR/wDoFWP/AIDp/hR/YWj/APQKsf8AwHT/AAoAz/8AhNvDv/QQ/wDIMn/xNH/CbeHf+gh/5Bk/+JrQ/sLR/wDoFWP/AIDp/hR/YWj/APQKsf8AwHT/AAoA0KKKKACiiigAooooAKKKKACiiigAooooAKKKKACiiigAooooAKKKKACiiigAooooAKKKKACiiigAooooAKKKKACiiigAooooAKKKKACiiigAooooAKKKKACiiigAooooAKKKKACiiigAooooAKKKKACiiigAooooAKKKKACiiigAooooAKKKKACiiigAooooAKKKKACiiigAooooAKKKKACiiigAooooA+MPip/yVHxD/wBfZ/kK4+uw+Kn/ACVHxD/19n+Qrj6ACiiigAooooAKKKKAL1vfAKFmJ46N/jVsTwkA+anPvWNRX02D4qxmHpqnNKdtm73+bW5jKhFu6NGa+QKRFyx744FZxJJJJyT3oorysxzTEZhNSrPRbJbL+u5cIKC0CiiivOLCiiigAooooA0NB/5GHTP+vuL/ANDFfd9fCGg/8jDpn/X3F/6GK+76ACiiigAooooAKKKKACiiigAooooAKKKKACiiigAooooAKKKKACiiigAooooAKKKKACiiigAooooAKKKKACiiigAooooAKKKKACiiigAooooAKKKKACiiigAooooAKKKKACiiigAooooAKKKKACiiigAooooAKKKKACiiigAooooAKKKKACiiigAooooAKKKKACiiigAooooAKKKKACiiigAooooAKKKKACiiigAooooAKKKKACiiigAooooAKKKKACiiigAooooAKKKKACiiigAooooAKKKKACiiigAooooAKKKKACiiigAooooAKKKKACiiigAooooAKKKKACiiigAooooAKKKKACiiigAooooAKKKKACiiigAooooAKKKKACiiigAooooAKKKKACiiigAooooAKKKKACiiigAooooAKKKKACiiigAooooAKKKKAPnDxx8GvF/iDxtq+rWVvafZbq4Lx+ZcAMR0yR+Fc/8A8KB8c/8APCx/8Ch/hX1fRQB8of8ACgfHP/PCx/8AAof4Uf8ACgfHP/PCx/8AAof4V9X0UAfKH/CgfHP/ADwsf/Aof4Uf8KB8c/8APCx/8Ch/hX1fRQB8of8ACgfHP/PCx/8AAof4Uf8ACgfHP/PCx/8AAof4V9X0UAfKH/CgfHP/ADwsf/Aof4Uf8KB8c/8APCx/8Ch/hX1fRQB8of8ACgfHP/PCx/8AAof4Uf8ACgfHP/PCx/8AAof4V9X0UAfKH/CgfHP/ADwsf/Aof4Uf8KB8c/8APCx/8Ch/hX1fRQB8of8ACgfHP/PCx/8AAof4Uf8ACgfHP/PCx/8AAof4V9X0UAfKH/CgfHP/ADwsf/Aof4Uf8KB8c/8APCx/8Ch/hX1fRQB8tab8CvG1nqtndSW1mUhnSRgtyMkBgTj8q+paKKACiiigAooooAKKKKACiiigAooooAKKKKACiiigAooooAKKKKACiiigAooooAKKKKACiiigAooooAKKKKACiiigAooooAKKKKACiiigAooooAKKKKACiiigAooooAKKKKACiiigAooooAKKKKACiiigAooooAKKKKACiiigAooooAKKKKACiiigAooooAKKKKACiiigAooooAKKKKACiiigAooooAKKKKACiiigAooooAKKKKACiiigAooooAKKKKACiiigAooooAKKKKACiiigAooooAKKKKACiiigAooooAKKKKACiiigAooooAKKKKACiiigAooooAKKKKACiiigAooooAKKKKACiiigAooooAKKKKACiiigAooooAKKKKACiiigAooooAKKKKACiiigAooooAKKKKACiiigAooooAKKKKACiiigAooooAKKKKACiiigAooooAKKKKACiiigAooooAKKKKACiiigAooooAKKKKACiiigAooooAKKKKACiiigAooooAKKKKACiiigAooooAKKKKACiiigAooooAKKKKACiiigAooooAKKKKACiiigAooooAKKKKACiiigAooooAKKKKACiiigAooooAKKKKACiiigAooooAKKKKACiiigAooooAKKKKACiiigAooooAKKKKACiiigAooooAKKKKACiiigAooooAKKKKACiiigAooooAKKKKACiiigAooooAKKKKACiiigAooooAKKKKACiiigAooooAKKKKACiiigAooooAKKKKACiiigAooooAKKKKACiiigAooooAKKKKACiiigAooooAKKKKACiiigAooooAKKKKACiiigAooooAKKKKACiiigAooooAKKKKACiiigAooooAKKKKACiiigAooooAKKKKACiiigAooooAKKKKACiiigAooooAKKKKACiiigAooooAKKKKACiiigAooooAKKKKACiiigAooooAKKKKACiiigAooooAKKKKACiiigAooooAKKKKACiiigAooooAKKKKACiiigAooooAKKKKACiiigAooooAKKKKACiiigAooooAKKKKACiiigAooooAKKKKACiiigAooooAKKKKACiiigAooooAKKKKACiiigAooooAKKKKACiiigAooooAKKKKACiiigAooooAKKKKACiiigAooooAKKKKACiiigAooooAKKKKACiiigAooooAKKKKACiiigAooooAKKKKACiiigAooooAKKKKACiiigAooooAKKKKACiiigAooooAKKKKACiiigAooooAKKKKACiiigAooooAKKKKACiiigAooooAKKKKACiiigAooooAKKKKACiiigAooooAKKKKACiiigAooooAKKKKACiiigAooooAKKKKACiiigAooooAKKKKACiiigAooooAKKKKACiiigAooooAKKKKACiiigAooooAKKKKACiiigAooooAKKKKACiiigAooooAKKKKACiiigAooooAKKKKACiiigAooooAKKKKACiiigAooooAKKKKACiiigAooooAKKKKACiiigAooooAKKKKACiiigAooooAKKKKACiiigAooooAKKKKACiiigAooooAKKKKACiiigAooooAKKKKACiiigAooooAKKKKACiiigAooooAKKKKACiiigAooooAKKKKACiiigAooooAKKKKACiiigAooooAKKKKACiiigAooooAKKKKACiiigAooooAKKKKACiiigAooooAKKKKACiiigAooooAKKKKACiiigAooooAKKKKACiiigAooooAKKKKACiiigAooooAKKKKACiiigAooooAKKKKACiiigAooooAKKKKACiiigAooooAKKKKACiiigAooooAKKKKACiiigAooooAKKKKACiiigAooooAKKKKACiiigAooooAKKKKACiiigAooooAKKKKACiiigAooooAKKKKACiiigAooooAKKKKACiiigAooooAKKKKACiiigAooooAKKKKACiiigAooooAKKKKACiiigAooooAKKKKACiiigAooooAKKKKACiiigAooooAKKKKACiiigAooooAKKKKACiiigAooooAKKKKACiiigAooooAKKKKACiiigAooooAKKKKACiiigAooooAKKKKACiiigAooooAKKKKACiiigAooooAKKKKACiiigAooooAKKKKACiiigAooooAKKKKACiiigAooooAKKKKACiiigAooooAKKKKACiiigAooooAKKKKACiiigAooooAKKKKACiiigAooooAKKKKACiiigAooooAKKKKACiiigAooooAKKKKACiiigAooooAKKKKACiiigAooooAKKKKACiiigAooooAKKKKACiiigAooooAKKKKACiiigAooooAKKKKACiiigAooooAKKKKACiiigAooooAKKKKACiiigAooooAKKKKACiiigAooooAKKKKACiiigAooooAKKKKACiiigAooooAKKKKACiiigAooooAKKKKACiiigAooooAKKKKACiiigAooooAKKKKACiiigAooooAKKKKACiiigAooooAKKKKACiiigAooooAKKKKACiiigAooooAKKKKACiiigAooooAKKKKACiiigAooooAKKKKACiiigAooooAKKKKACiiigAooooAKKKKACiiigAooooAKKKKACiiigAooooAKKKKACiiigAooooAKKKKACiiigAooooAKKKKACiiigAooooAKKKKACiiigAooooAKKKKACiiigAooooAKKKKACiiigAooooAKKKKACiiigAooooAKKKKACiiigAooooAKKKKACiiigAooooAKKKKACiiigAooooAKKKKACiiigAooooAKKKKACiiigAooooAKKKKACiiigAooooAKKKKACiiigAooooAKKKKACiiigAooooAKKKKACiiigAooooAKKKKACiiigAooooAKKKKACiiigAooooAKKKKACiiigAooooAKKKKACiiigAooooAKKKKACiiigAooooAKKKKACiiigAooooAKKKKACiiigAooooAKKKKACiiigAooooAKKKKACiiigAooooAKKKKACiiigAooooAKKKKACiiigAooooAKKKKACiiigAooooAKKKKACiiigAooooAKKKKACiiigAooooAKKKKACiiigAooooAKKKKACiiigAooooAKKKKACiiigAooooAKKKKACiiigAooooAKKKKACiiigAooooAKKKKACiiigAooooAKKKKACiiigAooooAKKKKACiiigAooooAKKKKACiiigAooooAKKKKACiiigAooooAKKKKACiiigAooooAKKKKACiiigAooooAKKKKACiiigAooooAKKKKACiiigAooooAKKKKACiiigAooooAKKKKACiiigAooooAKKKKACiiigAooooAKKKKACiiigAooooAKKKKACiiigAooooAKKKKACiiigAooooAKKKKACiiigAooooAKKKKACiiigAooooAKKKKACiiigAooooAKKKKACiiigAooooAKKKKACiiigAooooAKKKKACiiigAooooAKKKKACiiigAooooAKKKKACiiigAooooAKKKKACiiigAooooAKKKKACiiigAooooAKKKKACiiigAooooAKKKKACiiigAooooAKKKKACiiigAooooAKKKKACiiigAooooAKKKKACiiigAooooAKKKKACiiigAooooAKKKKACiiigAooooAKKKKACiiigAooooAKKKKACiiigAooooAKKKKACiiigAooooAKKKKACiiigAooooAKKKKACiiigAooooAKKKKACiiigAooooAKKKKACiiigAooooAKKKKACiiigAooooAKKKKACiiigAooooAKKKKACiiigAooooAKKKKACiiigAooooAKKKKACiiigAooooAKKKKACiiigAooooAKKKKACiiigAooooAKKKKACiiigAooooAKKKKACiiigAooooAKKKKACiiigAooooAKKKKACiiigAooooAKKKKACiiigAooooAKKKKACiiigAooooAKKKKACiiigAooooAKKKKACiiigAooooAKKKKACiiigAooooAKKKKACiiigAooooAKKKKACiiigAooooAKKKKACiiigAooooAKKKKACiiigAooooAKKKKACiiigAooooAKKKKACiiigAooooAKKKKACiiigAooooAKKKKACiiigAooooAKKKKACiiigAooooAKKKKACiiigAooooAKKKKACiiigAooooAKKKKACiiigAooooAKKKKACiiigAooooAKKKKACiiigAooooAKKKKACiiigAooooAKKKKACiiigAooooAKKKKACiiigAooooAKKKKACiiigAooooAKKKKACiiigAooooAKKKKACiiigAooooAKKKKACiiigAooooAKKKKACiiigAooooAKKKKACiiigAooooAKKKKACiiigAooooAKKKKACiiigAooooAKKKKACiiigAooooAKKKKACiiigAooooAKKKKACiiigAooooAKKKKACiiigAooooAKKKKACiiigAooooAKKKKACiiigAooooAKKKKACiiigAooooAKKKKACiiigAooooAKKKKACiiigAooooAKKKKACiiigAooooAKKKKACiiigAooooAKKKKACiiigAooooAKKKKACiiigAooooAKKKKACiiigAooooAKKKKACiiigAooooAKKKKACiiigAooooAKKKKACiiigAooooAKKKKACiiigAooooAKKKKACiiigAooooAKKKKACiiigAooooAKKKKACiiigAooooAKKKKACiiigAooooAKKKKACiiigAooooAKKKKACiiigAooooAKKKKACiiigAooooAKKKKACiiigAooooAKKKKACiiigAooooAKKKKACiiigAooooAKKKKACiiigAooooAKKKKACiiigAooooAKKKKACiiigAooooAKKKKACiiigAooooAKKKKACiiigAooooAKKKKACiiigAooooAKKKKACiiigAooooAKKKKACiiigAooooAKKKKACiiigAooooAKKKKACiiigAooooAKKKKACiiigAooooAKKKKACiiigAooooAKKKKACiiigAooooAKKKKACiiigAooooAKKKKACiiigAooooAKKKKACiiigAooooAKKKKACiiigAooooAKKKKACiiigAooooAKKKKACiiigAooooAKKKKACiiigAooooAKKKKACiiigAooooAKKKKACiiigAooooAKKKKACiiigAooooAKKKKACiiigAooooAKKKKACiiigAooooAKKKKACiiigAooooAKKKKACiiigAooooAKKKKACiiigAooooAKKKKACiiigAooooAKKKKACiiigAooooAKKKKACiiigAooooAKKKKACiiigAooooAKKKKACiiigAooooAKKKKACiiigAooooAKKKKACiiigAooooAKKKKACiiigAooooAKKKKACiiigAooooAKKKKACiiigAooooAKKKKACiiigAooooAKKKKACiiigAooooAKKKKACiiigAooooAKKKKACiiigAooooAKKKKACiiigAooooAKKKKACiiigAooooAKKKKACiiigAooooAKKKKACiiigAooooAKKKKACiiigAooooAKKKKACiiigAooooAKKKKACiiigAooooAKKKKACiiigAooooAKKKKACiiigAooooAKKKKACiiigAooooAKKKKACiiigAooooAKKKKACiiigAooooAKKKKACiiigAooooAKKKKACiiigAooooAKKKKACiiigAooooAKKKKACiiigAooooAKKKKACiiigAooooAKKKKACiiigAooooAKKKKACiiigAooooAKKKKACiiigAooooAKKKKACiiigAooooAKKKKACiiigAooooAKKKKACiiigAooooAKKKKACiiigAooooAKKKKACiiigAooooAKKKKACiiigAooooAKKKKACiiigAooooAKKKKACiiigAooooAKKKKACiiigAooooAKKKKACiiigAooooAKKKKACiiigAooooAKKKKACiiigAooooAKKKKACiiigAooooAKKKKACiiigAooooAKKKKACiiigAooooAKKKKACiiigAooooAKKKKACiiigAooooAKKKKACiiigAooooAKKKKACiiigAooooAKKKKACiiigAooooAKKKKACiiigAooooAKKKKACiiigAooooAKKKKACiiigAooooAKKKKACiiigAooooAKKKKACiiigAooooAKKKKACiiigAooooAKKKKACiiigAooooAKKKKACiiigAooooAKKKKACiiigAooooAKKKKACiiigAooooAKKKKACiiigAooooAKKKKACiiigAooooAKKKKACiiigAooooAKKKKACiiigAooooAKKKKACiiigAooooAKKKKACiiigAooooAKKKKACiiigAooooAKKKKACiiigAooooAKKKKACiiigAooooAKKKKACiiigAooooAKKKKACiiigAooooAKKKKACiiigAooooAKKKKACiiigAooooAKKKKACiiigAooooAKKKKACiiigAooooAKKKKACiiigAooooAKKKKACiiigAooooAKKKKACiiigAooooAKKKKACiiigAooooAKKKKACiiigAooooAKKKKACiiigAooooAKKKKACiiigAooooAKKKKACiiigAooooAKKKKACiiigAooooAKKKKACiiigAooooAKKKKACiiigAooooAKKKKACiiigAooooAKKKKACiiigAooooAKKKKACiiigAooooAKKKKACiiigAooooAKKKKACiiigAooooAKKKKACiiigAooooAKKKKACiiigAooooAKKKKACiiigAooooAKKKKACiiigAooooAKKKKACiiigAooooAKKKKACiiigAooooAKKKKACiiigAooooAKKKKACiiigAooooAKKKKACiiigAooooAKKKKACiiigAooooAKKKKACiiigAooooAKKKKACiiigAooooAKKKKACiiigAooooAKKKKACiiigAooooAKKKKACiiigAooooAKKKKACiiigAooooAKKKKACiiigAooooAKKKKACiiigAooooAKKKKACiiigAooooAKKKKACiiigAooooAKKKKACiiigAooooAKKKKACiiigAooooAKKKKACiiigAooooAKKKKACiiigAooooAKKKKACiiigAooooAKKKKACiiigAooooAKKKKACiiigAooooAKKKKACiiigAooooAKKKKACiiigAooooAKKKKACiiigAooooAKKKKACiiigAooooAKKKKACiiigAooooAKKKKACiiigAooooAKKKKACiiigAooooAKKKKACiiigAooooAKKKKACiiigAooooAKKKKACiiigAooooAKKKKACiiigAooooAKKKKACiiigAooooAKKKKACiiigAooooAKKKKACiiigAooooAKKKKACiiigAooooAKKKKACiiigAooooAKKKKACiiigAooooAKKKKACiiigAooooAKKKKACiiigAooooAKKKKACiiigAooooAKKKKACiiigAooooAKKKKACiiigAooooAKKKKACiiigAooooAKKKKACiiigAooooAKKKKACiiigAooooAKKKKACiiigAooooAKKKKACiiigAooooAKKKKACiiigAooooAKKKKACiiigAooooAKKKKACiiigAooooAKKKKACiiigAooooAKKKKACiiigAooooAKKKKACiiigAooooAKKKKACiiigAooooAKKKKACiiigAooooAKKKKACiiigAooooAKKKKACiiigAooooAKKKKACiiigAooooAKKKKACiiigAooooAKKKKACiiigAooooAKKKKACiiigAooooAKKKKACiiigAooooAKKKKACiiigAooooAKKKKACiiigAooooAKKKKACiiigAooooAKKKKACiiigAooooAKKKKACiiigAooooAKKKKACiiigAooooAKKKKACiiigAooooAKKKKACiiigAooooAKKKKACiiigAooooAKKKKACiiigAooooAKKKKACiiigAooooAKKKKACiiigAooooAKKKKACiiigAooooAKKKKACiiigAooooAKKKKACiiigAooooAKKKKACiiigAooooAKKKKACiiigAooooAKKKKACiiigAooooAKKKKACiiigAooooAKKKKACiiigAooooAKKKKACiiigAooooAKKKKACiiigAooooAKKKKACiiigAooooAKKKKACiiigAooooAKKKKACiiigAooooAKKKKACiiigAooooAKKKKACiiigAooooAKKKKACiiigAooooAKKKKACiiigAooooAKKKKACiiigAooooAKKKKACiiigAooooAKKKKACiiigAooooAKKKKACiiigAooooAKKKKACiiigAooooAKKKKACiiigAooooAKKKKACiiigAooooAKKKKACiiigAooooAKKKKACiiigAooooAKKKKACiiigAooooAKKKKACiiigAooooAKKKKACiiigAooooAKKKKACiiigAooooAKKKKACiiigAooooAKKKKACiiigAooooAKKKKACiiigAooooAKKKKACiiigAooooAKKKKACiiigAooooAKKKKACiiigAooooAKKKKACiiigAooooAKKKKACiiigAooooAKKKKACiiigAooooAKKKKACiiigAooooAKKKKACiiigAooooAKKKKACiiigAooooAKKKKACiiigAooooAKKKKACiiigAooooAKKKKACiiigAooooAKKKKACiiigAooooAKKKKACiiigAooooAKKKKACiiigAooooAKKKKACiiigAooooAKKKKACiiigAooooAKKKKACiiigAooooAKKKKACiiigAooooAKKKKACiiigAooooAKKKKACiiigAooooAKKKKACiiigAooooAKKKKACiiigAooooAKKKKACiiigAooooAKKKKACiiigAooooAKKKKACiiigAooooAKKKKACiiigAooooAKKKKACiiigAooooAKKKKACiiigAooooAKKKKACiiigAooooAKKKKACiiigAooooAKKKKACiiigAooooAKKKKACiiigAooooAKKKKACiiigAooooAKKKKACiiigAooooAKKKKACiiigAooooAKKKKACiiigAooooAKKKKACiiigAooooAKKKKACiiigAooooAKKKKACiiigAooooAKKKKACiiigAooooAKKKKACiiigAooooAKKKKACiiigAooooAKKKKACiiigAooooAKKKKACiiigAooooAKKKKACiiigAooooAKKKKACiiigAooooAKKKKACiiigAooooAKKKKACiiigAooooAKKKKACiiigAooooAKKKKACiiigAooooAKKKKACiiigAooooAKKKKACiiigAooooAKKKKACiiigAooooAKKKKACiiigAooooAKKKKACiiigAooooAKKKKACiiigAooooAKKKKACiiigAooooAKKKKACiiigAooooAKKKKACiiigAooooAKKKKACiiigAooooAKKKKACiiigAooooAKKKKACiiigAooooAKKKKACiiigAooooAKKKKACiiigAooooAKKKKACiiigAooooAKKKKACiiigAooooAKKKKACiiigAooooAKKKKACiiigAooooAKKKKACiiigAooooAKKKKACiiigAooooAKKKKACiiigAooooAKKKKACiiigAooooAKKKKACiiigAooooAKKKKACiiigAooooAKKKKACiiigAooooAKKKKACiiigAooooAKKKKACiiigAooooAKKKKACiiigAooooAKKKKACiiigAooooAKKKKACiiigAooooAKKKKACiiigAooooAKKKKACiiigAooooAKKKKACiiigAooooAKKKKACiiigAooooAKKKKACiiigAooooAKKKKACiiigAooooAKKKKACiiigAooooAKKKKACiiigAooooAKKKKACiiigAooooAKK4M/Gb4fgkHxCgI7fZZv/AIij/hc/w+/6GJP/AAGm/wDiK6Hha60cH/XzFzI7yiuD/wCFz/D7/oYk/wDAab/4ij/hc/w+/wChiT/wGm/+IpfVa38r/r5hzI7yiuD/AOFz/D7/AKGJP/Aab/4ij/hc/wAPv+hiT/wGm/8AiKPqtb+V/wBfMOZHeUVwf/C5/h9/0MSf+A03/wARR/wuf4ff9DEn/gNN/wDEUfVa38r/AK+YcyO8org/+Fz/AA+/6GJP/Aab/wCIo/4XP8Pv+hiT/wABpv8A4ij6rW/lf9fMOZHeUVwf/C5/h9/0MSf+A03/AMRR/wALn+H3/QxJ/wCA03/xFH1Wt/K/6+YcyO8org/+Fz/D7/oYk/8AAab/AOIo/wCFz/D7/oYk/wDAab/4ij6rW/lf9fMOZHeUVwf/AAuf4ff9DEn/AIDTf/EUf8Ln+H3/AEMSf+A03/xFH1Wt/K/6+YcyO8org/8Ahc/w+/6GJP8AwGm/+Io/4XP8Pv8AoYk/8Bpv/iKPqtb+V/18w5kd5RXB/wDC5/h9/wBDEn/gNN/8RR/wuf4ff9DEn/gNN/8AEUfVa38r/r5hzI7yiuD/AOFz/D7/AKGJP/Aab/4ij/hc/wAPv+hiT/wGm/8AiKPqtb+V/wBfMOZHeUVwf/C5/h9/0MSf+A03/wARR/wuf4ff9DEn/gNN/wDEUfVa38r/AK+YcyO8org/+Fz/AA+/6GJP/Aab/wCIo/4XP8Pv+hiT/wABpv8A4ij6rW/lf9fMOZHeUVwf/C5/h9/0MSf+A03/AMRR/wALn+H3/QxJ/wCA03/xFH1Wt/K/6+YcyO8org/+Fz/D7/oYk/8AAab/AOIo/wCFz/D7/oYk/wDAab/4ij6rW/lf9fMOZHeUVwf/AAuf4ff9DEn/AIDTf/EUf8Ln+H3/AEMSf+A03/xFH1Wt/K/6+YcyO8org/8Ahc/w+/6GJP8AwGm/+Io/4XP8Pv8AoYk/8Bpv/iKPqtb+V/18w5kd5RXB/wDC5/h9/wBDEn/gNN/8RR/wuf4ff9DEn/gNN/8AEUfVa38r/r5hzI7yiuD/AOFz/D7/AKGJP/Aab/4ij/hc/wAPv+hiT/wGm/8AiKPqtb+V/wBfMOZHeUVwf/C5/h9/0MSf+A03/wARR/wuf4ff9DEn/gNN/wDEUfVa38r/AK+YcyO8org/+Fz/AA+/6GJP/Aab/wCIo/4XP8Pv+hiT/wABpv8A4ij6rW/lf9fMOZHeUVwf/C5/h9/0MSf+A03/AMRR/wALn+H3/QxJ/wCA03/xFH1Wt/K/6+YcyO8org/+Fz/D7/oYk/8AAab/AOIo/wCFz/D7/oYk/wDAab/4ij6rW/lf9fMOZHeUVwf/AAuf4ff9DEn/AIDTf/EUf8Ln+H3/AEMSf+A03/xFH1Wt/K/6+YcyO8org/8Ahc/w+/6GJP8AwGm/+Io/4XP8Pv8AoYk/8Bpv/iKPqtb+V/18w5kd5RXB/wDC5/h9/wBDEn/gNN/8RR/wuf4ff9DEn/gNN/8AEUfVa38r/r5hzI7yiuD/AOFz/D7/AKGJP/Aab/4ij/hc/wAPv+hiT/wGm/8AiKPqtb+V/wBfMOZHeUVwf/C5/h9/0MSf+A03/wARR/wuf4ff9DEn/gNN/wDEUfVa38r/AK+YcyO8org/+Fz/AA+/6GJP/Aab/wCIo/4XP8Pv+hiT/wABpv8A4ij6rW/lf9fMOZHeUVwf/C5/h9/0MSf+A03/AMRR/wALn+H3/QxJ/wCA03/xFH1Wt/K/6+YcyO8org/+Fz/D7/oYk/8AAab/AOIo/wCFz/D7/oYk/wDAab/4ij6rW/lf9fMOZHeUVwf/AAuf4ff9DEn/AIDTf/EUf8Ln+H3/AEMSf+A03/xFH1Wt/K/6+YcyO8org/8Ahc/w+/6GJP8AwGm/+Io/4XP8Pv8AoYk/8Bpv/iKPqtb+V/18w5kd5RXB/wDC5/h9/wBDEn/gNN/8RR/wuf4ff9DEn/gNN/8AEUfVa38r/r5hzI7yiuD/AOFz/D7/AKGJP/Aab/4ij/hc/wAPv+hiT/wGm/8AiKPqtb+V/wBfMOZHeUVwf/C5/h9/0MSf+A03/wARR/wuf4ff9DEn/gNN/wDEUfVa38r/AK+YcyO8org/+Fz/AA+/6GJP/Aab/wCIo/4XP8Pv+hiT/wABpv8A4ij6rW/lf9fMOZHeUVwf/C5/h9/0MSf+A03/AMRR/wALn+H3/QxJ/wCA03/xFH1Wt/K/6+YcyO8org/+Fz/D7/oYk/8AAab/AOIo/wCFz/D7/oYk/wDAab/4ij6rW/lf9fMOZHeUVwf/AAuf4ff9DEn/AIDTf/EUf8Ln+H3/AEMSf+A03/xFH1Wt/K/6+YcyO8org/8Ahc/w+/6GJP8AwGm/+Io/4XP8Pv8AoYk/8Bpv/iKPqtb+V/18w5kd5RXB/wDC5/h9/wBDEn/gNN/8RR/wuf4ff9DEn/gNN/8AEUfVa38r/r5hzI7yiuD/AOFz/D7/AKGJP/Aab/4ij/hc/wAPv+hiT/wGm/8AiKPqtb+V/wBfMOZHeUVwf/C5/h9/0MSf+A03/wARR/wuf4ff9DEn/gNN/wDEUfVa38r/AK+YcyO8org/+Fz/AA+/6GJP/Aab/wCIo/4XP8Pv+hiT/wABpv8A4ij6rW/lf9fMOZHeUVwf/C5/h9/0MSf+A03/AMRR/wALn+H3/QxJ/wCA03/xFH1Wt/K/6+YcyO8org/+Fz/D7/oYk/8AAab/AOIo/wCFz/D7/oYk/wDAab/4ij6rW/lf9fMOZHeUVwf/AAuf4ff9DEn/AIDTf/EUf8Ln+H3/AEMSf+A03/xFH1Wt/K/6+YcyO8org/8Ahc/w+/6GJP8AwGm/+Io/4XP8Pv8AoYk/8Bpv/iKPqtb+V/18w5kd5RXB/wDC5/h9/wBDEn/gNN/8RR/wuf4ff9DEn/gNN/8AEUfVa38r/r5hzI7yiuD/AOFz/D7/AKGJP/Aab/4ij/hc/wAPv+hiT/wGm/8AiKPqtb+V/wBfMOZHeUVwf/C5/h9/0MSf+A03/wARR/wuf4ff9DEn/gNN/wDEUfVa38r/AK+YcyO8org/+Fz/AA+/6GJP/Aab/wCIo/4XP8Pv+hiT/wABpv8A4ij6rW/lf9fMOZHeUVwf/C5/h9/0MSf+A03/AMRR/wALn+H3/QxJ/wCA03/xFH1Wt/K/6+YcyO8org/+Fz/D7/oYk/8AAab/AOIo/wCFz/D7/oYk/wDAab/4ij6rW/lf9fMOZHeUVwf/AAuf4ff9DEn/AIDTf/EUf8Ln+H3/AEMSf+A03/xFH1Wt/K/6+YcyO8org/8Ahc/w+/6GJP8AwGm/+Io/4XP8Pv8AoYk/8Bpv/iKPqtb+V/18w5kd5RXB/wDC5/h9/wBDEn/gNN/8RR/wuf4ff9DEn/gNN/8AEUfVa38r/r5hzI7yiuD/AOFz/D7/AKGJP/Aab/4ij/hc/wAPv+hiT/wGm/8AiKPqtb+V/wBfMOZHeUVwf/C5/h9/0MSf+A03/wARR/wuf4ff9DEn/gNN/wDEUfVa38r/AK+YcyO8org/+Fz/AA+/6GJP/Aab/wCIo/4XP8Pv+hiT/wABpv8A4ij6rW/lf9fMOZHeUVwf/C5/h9/0MSf+A03/AMRR/wALn+H3/QxJ/wCA03/xFH1Wt/K/6+YcyO8org/+Fz/D7/oYk/8AAab/AOIo/wCFz/D7/oYk/wDAab/4ij6rW/lf9fMOZHeUVwf/AAuf4ff9DEn/AIDTf/EUf8Ln+H3/AEMSf+A03/xFH1Wt/K/6+YcyO8org/8Ahc/w+/6GJP8AwGm/+Io/4XP8Pv8AoYk/8Bpv/iKPqtb+V/18w5kd5RXB/wDC5/h9/wBDEn/gNN/8RR/wuf4ff9DEn/gNN/8AEUfVa38r/r5hzI7yiuD/AOFz/D7/AKGJP/Aab/4ij/hc/wAPv+hiT/wGm/8AiKPqtb+V/wBfMOZHeUVwf/C5/h9/0MSf+A03/wARR/wuf4ff9DEn/gNN/wDEUfVa38r/AK+YcyO8org/+Fz/AA+/6GJP/Aab/wCIo/4XP8Pv+hiT/wABpv8A4ij6rW/lf9fMOZHeUVwf/C5/h9/0MSf+A03/AMRR/wALn+H3/QxJ/wCA03/xFH1Wt/K/6+YcyO8org/+Fz/D7/oYk/8AAab/AOIo/wCFz/D7/oYk/wDAab/4ij6rW/lf9fMOZHeUVwf/AAuf4ff9DEn/AIDTf/EUf8Ln+H3/AEMSf+A03/xFH1Wt/K/6+YcyO8org/8Ahc/w+/6GJP8AwGm/+Io/4XP8Pv8AoYk/8Bpv/iKPqtb+V/18w5kd5RXB/wDC5/h9/wBDEn/gNN/8RR/wuf4ff9DEn/gNN/8AEUfVa38r/r5hzI7yiuD/AOFz/D7/AKGJP/Aab/4ij/hc/wAPv+hiT/wGm/8AiKPqtb+V/wBfMOZHeUVwf/C5/h9/0MSf+A03/wARR/wuf4ff9DEn/gNN/wDEUfVa38r/AK+YcyO8org/+Fz/AA+/6GJP/Aab/wCIo/4XP8Pv+hiT/wABpv8A4ij6rW/lf9fMOZHeUVwf/C5/h9/0MSf+A03/AMRR/wALn+H3/QxJ/wCA03/xFH1Wt/K/6+YcyO8org/+Fz/D7/oYk/8AAab/AOIo/wCFz/D7/oYk/wDAab/4ij6rW/lf9fMOZHeUVwf/AAuf4ff9DEn/AIDTf/EUf8Ln+H3/AEMSf+A03/xFH1Wt/K/6+YcyO8org/8Ahc/w+/6GJP8AwGm/+Io/4XP8Pv8AoYk/8Bpv/iKPqtb+V/18w5kd5RXB/wDC5/h9/wBDEn/gNN/8RR/wuf4ff9DEn/gNN/8AEUfVa38r/r5hzI7yiuD/AOFz/D7/AKGJP/Aab/4ij/hc/wAPv+hiT/wGm/8AiKPqtb+V/wBfMOZHeUVwf/C5/h9/0MSf+A03/wARR/wuf4ff9DEn/gNN/wDEUfVa38r/AK+YcyO8org/+Fz/AA+/6GJP/Aab/wCIo/4XP8Pv+hiT/wABpv8A4ij6rW/lf9fMOZHeUVwf/C5/h9/0MSf+A03/AMRR/wALn+H3/QxJ/wCA03/xFH1Wt/K/6+YcyO8org/+Fz/D7/oYk/8AAab/AOIo/wCFz/D7/oYk/wDAab/4ij6rW/lf9fMOZHeUVwf/AAuf4ff9DEn/AIDTf/EUf8Ln+H3/AEMSf+A03/xFH1Wt/K/6+YcyO8org/8Ahc/w+/6GJP8AwGm/+Io/4XP8Pv8AoYk/8Bpv/iKPqtb+V/18w5kd5RXB/wDC5/h9/wBDEn/gNN/8RR/wuf4ff9DEn/gNN/8AEUfVa38r/r5hzI7yiuD/AOFz/D7/AKGJP/Aab/4ij/hc/wAPv+hiT/wGm/8AiKPqtb+V/wBfMOZHeUVwf/C5/h9/0MSf+A03/wARR/wuf4ff9DEn/gNN/wDEUfVa38r/AK+YcyO8org/+Fz/AA+/6GJP/Aab/wCIo/4XP8Pv+hiT/wABpv8A4ij6rW/lf9fMOZHeUVwf/C5/h9/0MSf+A03/AMRR/wALn+H3/QxJ/wCA03/xFH1Wt/K/6+YcyPlDSdHuNf8AEtrpNpjz7u5ESk9Fyep9gOfwr3PV5vhZ8L5rfw7e+Hv7YvhGrXU7wJK65HUlzwSOdq9sV518G1VvjJowbpvuD+IhkxVH4tsz/FTxAWJJ+0Ac+gRQKMV/Hqf4pfmwjsjo/i34F0bStO0zxb4W40XUsAxgkrG5XcpXPIBAOQehHvgYHws8Cr478WC0uXdNPto/PumQ4LLkAID2JPf0BrutR/efsoaW0hyy3J2k/wDXzIP5Uv7PfyaV41lU4kW3h2kdR8s3+ArAZqQ+Ivg7ea8PCi+GIBA8n2ZNQ8hQrPnA/eZ8zBPG7+nNeT/EvwZ/wg3jGfTI3aSzkQT2rv8AeMbEjB9wQR+Ge9cijMjqykhgcgjsa9w/aUVf7d0FsDebWQH6bhj+ZoA8Oora8I6tY6F4r07VNSsRfWdtLvltyAdwwRkA8EgkEA9xW98UfF+i+MvEcF/ommPZQxwCORpEVHlbJOSFJHAOM5zQBxUMMlxPHBCheWRgiKOpJOAK+grvS/h78INI0+08QaOmua5dx+ZLuiWXA7kBztVc5A7nH5eM+BlV/iB4bV+VOqWwP081a7X9oJmb4mYJJC2MQX2GWP8AU0AaXxG8G+GdV8DW/j3wZB9mtNwW7tQMBQW2525O1g2AQOCDkep5H4WeBV8d+LBaXLumn20fn3TIcFlyAEB7Env6A13XgP8Aefs2+L1kOVW4m257fu4SP1pf2e/k0rxrKpxItvDtI6j5Zv8AAUAakPiL4O3mvDwovhiAQPJ9mTUPIUKz5wP3mfMwTxu/pzXk/wAS/Bn/AAg3jGfTI3aSzkQT2rv94xsSMH3BBH4Z71yKMyOrKSGByCOxr3D9pRV/t3QWwN5tZAfpuGP5mgDw6irOnXENpqdpc3FutzDDMkkkDdJFDAlT7EcfjXoHxV8e+HfGkelroejSWT2obzZZYkjYg4wgCE5Awev5UAebV71pXhvwX8MvA+n674x00apq2pqHitXjEmwEA7QrHbwCNzHucCvBa9z/AGk/l1Xw9Ev+rW2l2jsPmX/AUAO8SeGPB/j74e3nizwZYDTr3TtzXNoqBAVUZYFASAdvzAr1xj6eFV7l8APn8P8AjiJzmL7NDkHpyk2a8NoAKKKKAPW/hb4H8PXPhvUfGvi1/M0qwdkS2yQGZQCS2OTywAXuetdTo2s/Cb4g6gvhxfCv9mT3AK206wJCzEAn7yHhuOhyD056V4HFc3htjYxTz+RK4Y26udrv0B29Ca908AeCLD4b6V/wnXjdxb3Man7HZHl0JBxx3kIzhf4Rkn/ZAPH/ABj4ck8JeLdR0OWTzTayYWTGN6EBlP1KkV69pXhvwX8MvA+n674x00apq2pqHitXjEmwEA7QrHbwCNzHucCvH/FviKbxb4r1DXLiMRtdyZEYOdiABVGe+FAGa9Z/aT+XVfD0S/6tbaXaOw+Zf8BQA7xJ4Y8H+Pvh7eeLPBlgNOvdO3Nc2ioEBVRlgUBIB2/MCvXGPp4VXuXwA+fw/wCOInOYvs0OQenKTZrw2gAooooAKKKKACiiigAooooAKKKKACiiigAooooAKKKKACiiigAooooAKKKKACiiigAooooAKKKKACiiigAooooAKKKKACiiigAooooAKKKKACiiigAooooAKKKKACiiigAooooAKKKKACiiigAooooAKKKKACiiigAooooAKKKKACiiigAooooAKKKKACiiigAooooAKKKKACiiigAooooAKKKKACiiigAooooAKKKKACiiigAooooAKKKKACiiigAooooAKKKKACiiigAooooAKKKKACiiigAooooAKKKKACiiigAooooAKKKKACiiigAooooAKKKKACiiigAooooAKKKKACiiigAooooAKKKKACiiigAooooAKKKKACiiigAooooAKKKKACiiigAooooAKKKKACiiigAooooAKKKKAN/wrr58L+N9P1raWW1ud0ir1ZDkOB77Sa9t8afCSP4ja3H4r8Ma1Y/ZdQRGm8zcRkALuXaDzgDKnGCDz6fO8/8Ax8Sf7x/nUlvfXlorLbXc8Kv94RyFQ31xW+K/j1P8UvzYo7I9k+L+q6T4e8G6P8OtIuRcPZMsl26n7pAPBxwGZmLEdsD1rD+B/i+y8NeLLiy1SVIrDVIhC0khwqSA/KWPYHLD8R2ry8nJyaKwGfQFt+z0LXxWt9NrFqfDsUvn7TnzTGDu2H+HGOC2enOK4P4z+MLXxd43LadKJbCxhFtFKvSQ5JZh7ZOB6hQe9cGb+8a1Fqbuc246RGQ7Py6VXoA2fCmgN4o8U6foi3UdqbuXZ50gyF4J6dzxwO5xW18SfAX/AAr7XbfTxqS3yTwCZW8vYy8kYK5Ppwc/yrjVZkYMpKsDkEHBBp89xPdTGa4mkmlPV5GLE/iaAJdPvZdN1K1voCBNbTJNHn+8pBH6ivojxh4ItPjPZ6Z4q8M6paxXPkCG4inJwuCTtbaCVdSSOnIx26/N1TW15dWbl7W5mgYjBaJypI/CgD3Txy+mfDP4SjwJbXqXWsag4kuinG0EhmYjsCFVADyRk1yvwP8AF9l4a8WXFlqkqRWGqRCFpJDhUkB+UsewOWH4jtXmLu0js7sWdjksxySabQB9AW37PQtfFa302sWp8OxS+ftOfNMYO7Yf4cY4LZ6c4rg/jP4wtfF3jctp0olsLGEW0Uq9JDklmHtk4HqFB71wZv7xrUWpu5zbjpEZDs/LpVegCzp1mdR1O1slkSJriZIhJIcKpYgZJ9Bmu6+Jvwv/AOFeRabKNXS+W8LqVMPlsrKBkgbjkc/hXnlTXF1cXRU3FxLMUXapkctgegz2oAhr6NvtHtfjn4B0e60/Ube31/TE8ueOYnGSAGDAZIBKhlOD3Hrj5yqSC4ntZRLbzSQyDo8bFSPxFAH0HcWFj8FPhfq1jc6hDc+IdaRo1SLtlSoIB52qCxyQMk4r54qSaeW4laWeV5ZG6u7FifxNR0AemeGfhG3iL4c3fiv+3IbdokmdLcxZGI85DtuG0nHoeMHvXmdTJdXEdvJbx3EqwyHLxq5Ct9R0NQ0AfSvwM+H+jw+GrLxdPGLrU7nzDD5o+W3CuyfKP7x253ds4GOc2PEvwi8QeNfE0Oo+IfEsD2Mcg22dvEyiOLPKpkn5iP4jn9AK+YqKAOv+J3hmx8I+PL7SNOMptI1jeMStuYbkBIz35Jr16+0e1+OfgHR7rT9Rt7fX9MTy545icZIAYMBkgEqGU4PceuPnKpILie1lEtvNJDIOjxsVI/EUAfQdxYWPwU+F+rWNzqENz4h1pGjVIu2VKggHnaoLHJAyTivnipJp5biVpZ5Xlkbq7sWJ/E1HQAUUUUAFFFFABRRRQAUUUUAFFFFABRRRQAUUUUAFFFFABRRRQAUUUUAFFFFABRRRQAUUUUAFFFFABRRRQAUUUUAFFFFABRRRQAUUUUAFFFFABRRRQAUUUUAFFFFABRRRQAUUUUAFFFFABRRRQAUUUUAFFFFABRRRQAUUUUAFFFFABRRRQAUUUUAFFFFABRRRQAUUUUAFFFFABRRRQAUUUUAFFFFABRRRQAUUUUAFFFFABRRRQAUUUUAFFFFABRRRQAUUUUAFFFFABRRRQAUUUUAFFFFABRRRQAUUUUAFFFFABRRRQAUUUUAFFFFABRRRQAUUUUAFFFFABRRRQAUUUUAFFFFABRRRQAUUUUAFFFFABRRRQAUUUUAFFFFABRRRQAUUUUAFFFFABRRRQAUUUUAFFFFABRRRQAUUUUAFFFFAEk//AB8Sf7x/nUdFFb4r+PU/xS/NijsgooorAYUUUUAFFFFABRRRQAUUUUAFFFFABRRRQAUUUUAFFFFABRRRQAUUUUAFFFFABRRRQAUUUUAFFFFABRRRQAUUUUAFFFFABRRRQAUUUUAFFFFABRRRQAUUUUAFFFFABRRRQAUUUUAFFFFABRRRQAUUUUAFFFFABRRRQAUUUUAFFFFABRRRQAUUUUAFFFFABRRRQAUUUUAFFFFABRRRQAUUUUAFFFFABRRRQAUUUUAFFFFABRRRQAUUUUAFFFFABRRRQAUUUUAFFFFABRRRQAUUUUAFFFFABRRRQAUUUUAFFFFABRRRQAUUUUAFFFFABRRRQAUUUUAFFFFABRRRQAUUUUAFFFFABRRRQAUUUUAFFFFABRRRQAUUUUAFFFFABRRRQAUUUUAFFFFABRRRQAUUUUAFFFFABRRRQAUUUUAFFFFABRRRQAUUUUAFFFFABRRRQAUUUUAFFFFABRRRQAUUUUAFFFFABRRRQAUUUUAFFFFAH//Z",
        "encoding": "base64",
        "path": [
         "value"
        ]
       }
      ],
      "model_module": "@jupyter-widgets/controls",
      "model_module_version": "1.5.0",
      "model_name": "ImageModel",
      "state": {
       "layout": "IPY_MODEL_de15f1754c8c42ff9022e20f9a74e848"
      }
     },
     "dc8cb3422be54443921bc828b5351a2f": {
      "model_module": "@jupyter-widgets/base",
      "model_module_version": "1.2.0",
      "model_name": "LayoutModel",
      "state": {}
     },
     "dca411bf581f42daa543c5f31eee2531": {
      "model_module": "@jupyter-widgets/controls",
      "model_module_version": "1.5.0",
      "model_name": "DescriptionStyleModel",
      "state": {
       "description_width": ""
      }
     },
     "dd41d6734e1e4434a7f707c8a1f0fc9f": {
      "model_module": "@jupyter-widgets/controls",
      "model_module_version": "1.5.0",
      "model_name": "HTMLModel",
      "state": {
       "layout": "IPY_MODEL_e150fa8b2801480aa08bf4874f779f12",
       "style": "IPY_MODEL_e41c8efb630d4e378357aa02fc162daa"
      }
     },
     "de15f1754c8c42ff9022e20f9a74e848": {
      "model_module": "@jupyter-widgets/base",
      "model_module_version": "1.2.0",
      "model_name": "LayoutModel",
      "state": {
       "border": "10px solid rgb(0 177 255)",
       "margin": "auto"
      }
     },
     "de1f5e6b06db41afa36951179a8934e8": {
      "model_module": "@jupyter-widgets/controls",
      "model_module_version": "1.5.0",
      "model_name": "ProgressStyleModel",
      "state": {
       "description_width": ""
      }
     },
     "de2459b912ed4e7892ccfb1260fe0925": {
      "model_module": "@jupyter-widgets/base",
      "model_module_version": "1.2.0",
      "model_name": "LayoutModel",
      "state": {
       "width": "20px"
      }
     },
     "deba72d925c34760932f112467748bac": {
      "model_module": "@jupyter-widgets/base",
      "model_module_version": "1.2.0",
      "model_name": "LayoutModel",
      "state": {}
     },
     "dee5b3702a9a4f228773656a3d4f0712": {
      "model_module": "@jupyter-widgets/controls",
      "model_module_version": "1.5.0",
      "model_name": "HTMLModel",
      "state": {
       "layout": "IPY_MODEL_f6b3340e7c9e49a795959e2d34fa3434",
       "style": "IPY_MODEL_4f48ba94f1794fdb951163f4b4863ece",
       "value": " 38/? [00:00&lt;00:00, 521.43it/s]"
      }
     },
     "e150fa8b2801480aa08bf4874f779f12": {
      "model_module": "@jupyter-widgets/base",
      "model_module_version": "1.2.0",
      "model_name": "LayoutModel",
      "state": {}
     },
     "e152be977dc64e619e7edc62e9dc2028": {
      "model_module": "@jupyter-widgets/controls",
      "model_module_version": "1.5.0",
      "model_name": "DescriptionStyleModel",
      "state": {
       "description_width": ""
      }
     },
     "e15891d4dbb7465fabc53a558c7d5887": {
      "model_module": "@jupyter-widgets/controls",
      "model_module_version": "1.5.0",
      "model_name": "DescriptionStyleModel",
      "state": {
       "description_width": ""
      }
     },
     "e159fd326c4c47e5b964aef99d667a98": {
      "model_module": "@jupyter-widgets/controls",
      "model_module_version": "1.5.0",
      "model_name": "FloatProgressModel",
      "state": {
       "bar_style": "danger",
       "layout": "IPY_MODEL_c6c475f2ef0b4679b5c9fd7bec3c545a",
       "max": 1,
       "style": "IPY_MODEL_6f08347905f842748a18b114c4070110",
       "value": 1
      }
     },
     "e2bdfa3935f148debb7832e3b1c45616": {
      "model_module": "@jupyter-widgets/controls",
      "model_module_version": "1.5.0",
      "model_name": "DescriptionStyleModel",
      "state": {
       "description_width": ""
      }
     },
     "e2c43479299c4109b067be21835dac1e": {
      "model_module": "@jupyter-widgets/base",
      "model_module_version": "1.2.0",
      "model_name": "LayoutModel",
      "state": {
       "width": "20px"
      }
     },
     "e32a9c2ff86e489a847f5d849250bbcf": {
      "model_module": "@jupyter-widgets/controls",
      "model_module_version": "1.5.0",
      "model_name": "HBoxModel",
      "state": {
       "children": [
        "IPY_MODEL_7c4e3d20ae2d407ea245bf5337ca0623",
        "IPY_MODEL_d1cb80e449634604826bad21ae5de3c0",
        "IPY_MODEL_d9aada1dea5f4ec9bb90f97da860dcbd"
       ],
       "layout": "IPY_MODEL_fa4fceecb9014d1087fc3718fe60f550"
      }
     },
     "e3633b13485f4b4c88bd2935e0e7b390": {
      "model_module": "@jupyter-widgets/controls",
      "model_module_version": "1.5.0",
      "model_name": "HTMLModel",
      "state": {
       "layout": "IPY_MODEL_3de87dad323e4d718f5d84476b0390c3",
       "style": "IPY_MODEL_83ae8de059424245a5ea86f1fcf219a5",
       "value": " 35/? [00:00&lt;00:00, 36.01it/s]"
      }
     },
     "e36c808b682e4902bb5ef7835828f58d": {
      "model_module": "@jupyter-widgets/controls",
      "model_module_version": "1.5.0",
      "model_name": "DescriptionStyleModel",
      "state": {
       "description_width": ""
      }
     },
     "e37801503ecb4ed5be444bcbdb0c2630": {
      "model_module": "@jupyter-widgets/controls",
      "model_module_version": "1.5.0",
      "model_name": "HTMLModel",
      "state": {
       "layout": "IPY_MODEL_6bdba0f0f69441b0ab8b73e941e9975c",
       "style": "IPY_MODEL_7f145e4355c8418fa572ec487b4e6d0c"
      }
     },
     "e3f50fbf085d4ecb9be42baf0fb833ab": {
      "model_module": "@jupyter-widgets/controls",
      "model_module_version": "1.5.0",
      "model_name": "HTMLModel",
      "state": {
       "layout": "IPY_MODEL_350c0019b49f45c4a85ebf422c0cf412",
       "style": "IPY_MODEL_c5e4b598de3a42c7a2f7cd9431d0c800"
      }
     },
     "e41c8efb630d4e378357aa02fc162daa": {
      "model_module": "@jupyter-widgets/controls",
      "model_module_version": "1.5.0",
      "model_name": "DescriptionStyleModel",
      "state": {
       "description_width": ""
      }
     },
     "e45373b94cb24f53bd550cd1406e9eff": {
      "model_module": "@jupyter-widgets/controls",
      "model_module_version": "1.5.0",
      "model_name": "ProgressStyleModel",
      "state": {
       "description_width": ""
      }
     },
     "e47e597596ec412297232d71198e0814": {
      "model_module": "@jupyter-widgets/base",
      "model_module_version": "1.2.0",
      "model_name": "LayoutModel",
      "state": {}
     },
     "e49cf8766c4f4609b4484bb8eee6101e": {
      "model_module": "@jupyter-widgets/base",
      "model_module_version": "1.2.0",
      "model_name": "LayoutModel",
      "state": {}
     },
     "e5022a58a33d44ae80ae73460361be5a": {
      "model_module": "@jupyter-widgets/base",
      "model_module_version": "1.2.0",
      "model_name": "LayoutModel",
      "state": {}
     },
     "e5e6c53f73de4fcaa25d3d428f52adeb": {
      "model_module": "@jupyter-widgets/controls",
      "model_module_version": "1.5.0",
      "model_name": "TextModel",
      "state": {
       "description": "Trans vel:",
       "layout": "IPY_MODEL_ccec2f64a79e4ea483eb02399e1d9011",
       "style": "IPY_MODEL_5a4792b61cb943c699667f73e3af2efc",
       "value": "0.33939240254999337"
      }
     },
     "e5f98379285646bb82c112cec0c7a779": {
      "model_module": "@jupyter-widgets/base",
      "model_module_version": "1.2.0",
      "model_name": "LayoutModel",
      "state": {}
     },
     "e65286250738433fa151964f681d2f0a": {
      "model_module": "@jupyter-widgets/controls",
      "model_module_version": "1.5.0",
      "model_name": "ProgressStyleModel",
      "state": {
       "description_width": ""
      }
     },
     "e6a42d148731436fbbda88d7685c663c": {
      "model_module": "@jupyter-widgets/base",
      "model_module_version": "1.2.0",
      "model_name": "LayoutModel",
      "state": {}
     },
     "e73265cf57b746a4b9dc9b81a129d029": {
      "model_module": "@jupyter-widgets/controls",
      "model_module_version": "1.5.0",
      "model_name": "DescriptionStyleModel",
      "state": {
       "description_width": ""
      }
     },
     "e7332acc1e3b4c1ea6ca33b5f7483f21": {
      "model_module": "@jupyter-widgets/controls",
      "model_module_version": "1.5.0",
      "model_name": "DescriptionStyleModel",
      "state": {
       "description_width": ""
      }
     },
     "e781b9241baf431aaac538c15605a8d4": {
      "model_module": "@jupyter-widgets/controls",
      "model_module_version": "1.5.0",
      "model_name": "HTMLModel",
      "state": {
       "layout": "IPY_MODEL_f6e74ed2f7584c958519e8112c62fab2",
       "style": "IPY_MODEL_808d01cd24cf4680b5531396ab35c375",
       "value": " 35/? [00:00&lt;00:00, 36.26it/s]"
      }
     },
     "e7928ed6a4304047a10f19e8135ebdbc": {
      "model_module": "@jupyter-widgets/controls",
      "model_module_version": "1.5.0",
      "model_name": "TextModel",
      "state": {
       "description": "Name:",
       "layout": "IPY_MODEL_bae2ac55b1f543088b9b0a5ec605ecab",
       "style": "IPY_MODEL_8f9055913b3b4cc8b0336bbed0b5ea62",
       "value": "Robbie"
      }
     },
     "e7946a89ee23459592a8bf751c6ba07c": {
      "model_module": "@jupyter-widgets/base",
      "model_module_version": "1.2.0",
      "model_name": "LayoutModel",
      "state": {}
     },
     "e81c0cb5388243d3936c822eebf76e9e": {
      "model_module": "@jupyter-widgets/base",
      "model_module_version": "1.2.0",
      "model_name": "LayoutModel",
      "state": {}
     },
     "e821e02cc7684b9c81fe20b994cca2cb": {
      "model_module": "@jupyter-widgets/controls",
      "model_module_version": "1.5.0",
      "model_name": "VBoxModel",
      "state": {
       "children": [
        "IPY_MODEL_56a2417a828d461f8a0ac59cc0d6f917",
        "IPY_MODEL_e7928ed6a4304047a10f19e8135ebdbc",
        "IPY_MODEL_67ef6c7721fe43aea0f0132abad0d3d0",
        "IPY_MODEL_305dfbc52828413b8398c858e3a15aaf",
        "IPY_MODEL_2e2a93e4f2e74d23b4d9265d767e5265",
        "IPY_MODEL_188a173e3f7a425e97efee7f49bb7910",
        "IPY_MODEL_76f7a81a88454b85ab2a0da331ecb5c9",
        "IPY_MODEL_2877dd7ceb924fb1a8125a4dfdf4bb6e",
        "IPY_MODEL_26acd7289a334908a43dd0ced5208163"
       ],
       "layout": "IPY_MODEL_a8987674c12347949ea28c34b51fbfad"
      }
     },
     "e854c4b3c2ff49edb0c80d0ce35bc64a": {
      "model_module": "@jupyter-widgets/base",
      "model_module_version": "1.2.0",
      "model_name": "LayoutModel",
      "state": {}
     },
     "e8585d8081704710bbd529611b090ab0": {
      "model_module": "@jupyter-widgets/controls",
      "model_module_version": "1.5.0",
      "model_name": "ProgressStyleModel",
      "state": {
       "description_width": ""
      }
     },
     "e9a26aa247cf4f8c982b45811e54e69a": {
      "model_module": "@jupyter-widgets/controls",
      "model_module_version": "1.5.0",
      "model_name": "ProgressStyleModel",
      "state": {
       "description_width": ""
      }
     },
     "e9fc7781c95b470aac0feb66591b3e79": {
      "model_module": "@jupyter-widgets/base",
      "model_module_version": "1.2.0",
      "model_name": "LayoutModel",
      "state": {
       "width": "20px"
      }
     },
     "eaacb0242a7b4264a186adb722ef410e": {
      "model_module": "@jupyter-widgets/base",
      "model_module_version": "1.2.0",
      "model_name": "LayoutModel",
      "state": {}
     },
     "eac8ea190e2b40359ff994bccecfb114": {
      "model_module": "@jupyter-widgets/controls",
      "model_module_version": "1.5.0",
      "model_name": "FloatProgressModel",
      "state": {
       "bar_style": "danger",
       "layout": "IPY_MODEL_d7324d43068f43509fcbef066027eb56",
       "max": 1,
       "style": "IPY_MODEL_290feaa706d148e2a0e68e5f4dba7b6e",
       "value": 1
      }
     },
     "eb2e37ced4d9483e84e61501b43187c1": {
      "model_module": "@jupyter-widgets/controls",
      "model_module_version": "1.5.0",
      "model_name": "FloatProgressModel",
      "state": {
       "bar_style": "danger",
       "layout": "IPY_MODEL_093a99dcca9d4e05b8bc7e4001295407",
       "max": 1,
       "style": "IPY_MODEL_2a2773e50fa84f37836a5f2801bf2d68",
       "value": 1
      }
     },
     "eba9d041f5d5438cb11d11d670d7c2fb": {
      "model_module": "@jupyter-widgets/base",
      "model_module_version": "1.2.0",
      "model_name": "LayoutModel",
      "state": {
       "display": "flex"
      }
     },
     "ec2624b02bac420dbd401ecce446f7cd": {
      "model_module": "@jupyter-widgets/controls",
      "model_module_version": "1.5.0",
      "model_name": "ProgressStyleModel",
      "state": {
       "description_width": ""
      }
     },
     "ec307f3f37f9485da8f5118b81d5646a": {
      "model_module": "@jupyter-widgets/base",
      "model_module_version": "1.2.0",
      "model_name": "LayoutModel",
      "state": {}
     },
     "ed08c8165ad543f8a8c560646b0c21d4": {
      "model_module": "@jupyter-widgets/controls",
      "model_module_version": "1.5.0",
      "model_name": "HTMLModel",
      "state": {
       "layout": "IPY_MODEL_e81c0cb5388243d3936c822eebf76e9e",
       "style": "IPY_MODEL_13e176a1709d4ba7a402f50589281e08",
       "value": " 35/? [00:00&lt;00:00, 34.21it/s]"
      }
     },
     "ed74e535f1a945bf8ff934fed4752801": {
      "model_module": "@jupyter-widgets/base",
      "model_module_version": "1.2.0",
      "model_name": "LayoutModel",
      "state": {
       "width": "20px"
      }
     },
     "edbfe136aa1f40d686a976626390745d": {
      "model_module": "@jupyter-widgets/controls",
      "model_module_version": "1.5.0",
      "model_name": "HTMLModel",
      "state": {
       "layout": "IPY_MODEL_6965b6ee897744fd9eed4cecd7298aae",
       "style": "IPY_MODEL_e2bdfa3935f148debb7832e3b1c45616",
       "value": "<style>img.pixelated {image-rendering: pixelated;}</style>"
      }
     },
     "ee46e54fbad04d4eaece0159bb7fabcb": {
      "model_module": "@jupyter-widgets/controls",
      "model_module_version": "1.5.0",
      "model_name": "HBoxModel",
      "state": {
       "children": [
        "IPY_MODEL_e3f50fbf085d4ecb9be42baf0fb833ab",
        "IPY_MODEL_bdc0dd64931e4c0b817a342dd9d23697",
        "IPY_MODEL_0ccfea692bbf448bbc220e363a7d5f24"
       ],
       "layout": "IPY_MODEL_da06da15d46f49e6ad778fe868344578"
      }
     },
     "ef159937f732453891ae85974422b6e3": {
      "model_module": "@jupyter-widgets/controls",
      "model_module_version": "1.5.0",
      "model_name": "HTMLModel",
      "state": {
       "layout": "IPY_MODEL_b20ad705313748af9c112fa030ebe376",
       "style": "IPY_MODEL_21951a4d6b074fbeb888fb569120d90e"
      }
     },
     "ef8f7d95b8db46f2bc1b0cf4649da2f1": {
      "model_module": "@jupyter-widgets/controls",
      "model_module_version": "1.5.0",
      "model_name": "DescriptionStyleModel",
      "state": {
       "description_width": ""
      }
     },
     "f03804a20be2470d882a2074c95267a5": {
      "model_module": "@jupyter-widgets/base",
      "model_module_version": "1.2.0",
      "model_name": "LayoutModel",
      "state": {
       "display": "flex"
      }
     },
     "f03fb936cd5c4a08955994444da7d29b": {
      "model_module": "@jupyter-widgets/controls",
      "model_module_version": "1.5.0",
      "model_name": "HBoxModel",
      "state": {
       "children": [
        "IPY_MODEL_0514196236294bb48547095c788913c8",
        "IPY_MODEL_2751fbbc1d0d4f2da2b42bd513ef3582",
        "IPY_MODEL_073553271c79484ab7bae09274d081ed"
       ],
       "layout": "IPY_MODEL_f0d64ad3612e447688a1695abd10a7db"
      }
     },
     "f061e8dec17d4d4295273f8732d21025": {
      "model_module": "@jupyter-widgets/controls",
      "model_module_version": "1.5.0",
      "model_name": "HTMLModel",
      "state": {
       "layout": "IPY_MODEL_5acd5be8305d4034b7444c0ec1d69ffd",
       "style": "IPY_MODEL_21af61e1038d484c84adbcdfba155e57",
       "value": " 35/? [00:00&lt;00:00, 39.10it/s]"
      }
     },
     "f0addccb817f4f458086c708457cc473": {
      "model_module": "@jupyter-widgets/controls",
      "model_module_version": "1.5.0",
      "model_name": "HTMLModel",
      "state": {
       "layout": "IPY_MODEL_73127cc2fadd484597682c7c4bfde6f7",
       "style": "IPY_MODEL_9fb5550a8aed42aea1615b0bfce8ae59"
      }
     },
     "f0afe866af56448d8a0921eef037bb83": {
      "model_module": "@jupyter-widgets/base",
      "model_module_version": "1.2.0",
      "model_name": "LayoutModel",
      "state": {}
     },
     "f0d64ad3612e447688a1695abd10a7db": {
      "model_module": "@jupyter-widgets/base",
      "model_module_version": "1.2.0",
      "model_name": "LayoutModel",
      "state": {}
     },
     "f18070c0773c488680d373001ae7d7dd": {
      "model_module": "@jupyter-widgets/controls",
      "model_module_version": "1.5.0",
      "model_name": "TextModel",
      "state": {
       "description": "Stalled:",
       "layout": "IPY_MODEL_2cb9a6eda5f54857b291e6f7943ae608",
       "style": "IPY_MODEL_4635adf0d83044bdbd1508a009ad6d54",
       "value": "False"
      }
     },
     "f1bc528c3705470b8936946e4391fd98": {
      "model_module": "@jupyter-widgets/controls",
      "model_module_version": "1.5.0",
      "model_name": "HTMLModel",
      "state": {
       "layout": "IPY_MODEL_4dc0ee0698294efab17e4df02d045d76",
       "style": "IPY_MODEL_738b50e70c404ec6b781eb5d0bac6f75",
       "value": " 35/? [00:00&lt;00:00, 36.93it/s]"
      }
     },
     "f23a71b171f5434f895e3fa1ad21954f": {
      "model_module": "@jupyter-widgets/base",
      "model_module_version": "1.2.0",
      "model_name": "LayoutModel",
      "state": {
       "width": "20px"
      }
     },
     "f28cf20501934ff09132531c28fd5898": {
      "model_module": "@jupyter-widgets/controls",
      "model_module_version": "1.5.0",
      "model_name": "HTMLModel",
      "state": {
       "layout": "IPY_MODEL_38c88c5d7d294bc7bc33deb72e6ddf0f",
       "style": "IPY_MODEL_16381bd103bf42938c8bea6fa994b779",
       "value": " 35/? [00:01&lt;00:00, 36.21it/s]"
      }
     },
     "f299064dbbea4384acc36e76585ab7ed": {
      "model_module": "@jupyter-widgets/controls",
      "model_module_version": "1.5.0",
      "model_name": "HTMLModel",
      "state": {
       "layout": "IPY_MODEL_968ccf5500804ce49c1465d49ca19cd2",
       "style": "IPY_MODEL_66474571fe7d4c579466d915c0db9d94"
      }
     },
     "f2ee1286679e4b72afd4442c2aa1c296": {
      "model_module": "@jupyter-widgets/base",
      "model_module_version": "1.2.0",
      "model_name": "LayoutModel",
      "state": {}
     },
     "f37af93b710640feab210e8aa25a2ec7": {
      "model_module": "@jupyter-widgets/controls",
      "model_module_version": "1.5.0",
      "model_name": "TextareaModel",
      "state": {
       "description": "State:",
       "layout": "IPY_MODEL_f7b3623562d2435bb19035a0de08f003",
       "style": "IPY_MODEL_0034275a6bed473bb72c200b8372704e",
       "value": "{}"
      }
     },
     "f38e14a3d1e545c2812e3029d60b1542": {
      "model_module": "@jupyter-widgets/controls",
      "model_module_version": "1.5.0",
      "model_name": "HBoxModel",
      "state": {
       "children": [
        "IPY_MODEL_9f56946828574484811ee43f6a73caa1",
        "IPY_MODEL_8496cd2cf76f4f8fb97af337db3ec476",
        "IPY_MODEL_91709c6c2d5f434f885089849c11dcbe"
       ],
       "layout": "IPY_MODEL_1d12835c151948b693bbe5291848444e"
      }
     },
     "f4f7234a2f0443fdac7eee869b4b7b91": {
      "model_module": "@jupyter-widgets/controls",
      "model_module_version": "1.5.0",
      "model_name": "HTMLModel",
      "state": {
       "layout": "IPY_MODEL_7c78234d83c04843bd76cbdafa74cf82",
       "style": "IPY_MODEL_623ee0f15ffb40dfb0f750842be06b5c"
      }
     },
     "f5850573553f46e19db07661c05f3cae": {
      "model_module": "@jupyter-widgets/base",
      "model_module_version": "1.2.0",
      "model_name": "LayoutModel",
      "state": {}
     },
     "f5e2025b48544ee7aa2424cc9795c9e1": {
      "model_module": "@jupyter-widgets/controls",
      "model_module_version": "1.5.0",
      "model_name": "HBoxModel",
      "state": {
       "children": [
        "IPY_MODEL_9d157607ac3e45078eebad176398b14c",
        "IPY_MODEL_851f48a8076740a485e4d27914cd4ba9",
        "IPY_MODEL_3ac49424b2b94b65a342d692eee02cf6"
       ],
       "layout": "IPY_MODEL_a92768dd2edc46549cdf772ad03d6b40"
      }
     },
     "f60e70bf2aae4efb95fe79f63d1cf1d4": {
      "model_module": "@jupyter-widgets/controls",
      "model_module_version": "1.5.0",
      "model_name": "HBoxModel",
      "state": {
       "children": [
        "IPY_MODEL_d68c8b906c0e43f58e70a917ec6cff9c",
        "IPY_MODEL_c7c3fcb5a00346ac85c95a1bb96cca9f",
        "IPY_MODEL_d3c71e57285b416b9cb334f1f08b5e25"
       ],
       "layout": "IPY_MODEL_feee64a417f5453aa4f11a821675ed05"
      }
     },
     "f618f10e2b9a46e59e5aabed987e0c58": {
      "model_module": "@jupyter-widgets/controls",
      "model_module_version": "1.5.0",
      "model_name": "HTMLModel",
      "state": {
       "layout": "IPY_MODEL_be06feed2c624fc399e11ba715dd8024",
       "style": "IPY_MODEL_4967473a21334e70a50767ef38d3dcbf",
       "value": " 35/? [00:00&lt;00:00, 35.27it/s]"
      }
     },
     "f6b3340e7c9e49a795959e2d34fa3434": {
      "model_module": "@jupyter-widgets/base",
      "model_module_version": "1.2.0",
      "model_name": "LayoutModel",
      "state": {}
     },
     "f6e74ed2f7584c958519e8112c62fab2": {
      "model_module": "@jupyter-widgets/base",
      "model_module_version": "1.2.0",
      "model_name": "LayoutModel",
      "state": {}
     },
     "f715f7a9e9fc4109a6278057b7bbca0b": {
      "model_module": "@jupyter-widgets/controls",
      "model_module_version": "1.5.0",
      "model_name": "TextModel",
      "state": {
       "description": "Y:",
       "layout": "IPY_MODEL_7ca22292e2f94a77b86bf4567a1a7aea",
       "style": "IPY_MODEL_fe4177fe0e73419b9cc44ffec9d32d28",
       "value": "0"
      }
     },
     "f72cbec632de496a881a9555b492cbc9": {
      "model_module": "@jupyter-widgets/controls",
      "model_module_version": "1.5.0",
      "model_name": "HTMLModel",
      "state": {
       "layout": "IPY_MODEL_d1dd9c180a4d40f395d29cb6a68ec468",
       "style": "IPY_MODEL_357e896c9ce24629a2bdaf7454e2ca19",
       "value": " 35/? [00:00&lt;00:00, 35.86it/s]"
      }
     },
     "f7890b81cc44497c889d6ab2138b3f15": {
      "model_module": "@jupyter-widgets/controls",
      "model_module_version": "1.5.0",
      "model_name": "DescriptionStyleModel",
      "state": {
       "description_width": ""
      }
     },
     "f7b3623562d2435bb19035a0de08f003": {
      "model_module": "@jupyter-widgets/base",
      "model_module_version": "1.2.0",
      "model_name": "LayoutModel",
      "state": {
       "display": "flex"
      }
     },
     "f8282ad37fa74884bdcb7006b3bf6456": {
      "model_module": "@jupyter-widgets/base",
      "model_module_version": "1.2.0",
      "model_name": "LayoutModel",
      "state": {}
     },
     "f8ae4776759d4c1d894802a38c8e441f": {
      "model_module": "@jupyter-widgets/base",
      "model_module_version": "1.2.0",
      "model_name": "LayoutModel",
      "state": {}
     },
     "f8af9a25294249cc9e4f23e04df6332b": {
      "model_module": "@jupyter-widgets/controls",
      "model_module_version": "1.5.0",
      "model_name": "DescriptionStyleModel",
      "state": {
       "description_width": ""
      }
     },
     "f8cb6da14d1a4b10b2a7bd19c323a0b8": {
      "model_module": "@jupyter-widgets/controls",
      "model_module_version": "1.5.0",
      "model_name": "FloatProgressModel",
      "state": {
       "bar_style": "danger",
       "layout": "IPY_MODEL_e2c43479299c4109b067be21835dac1e",
       "max": 1,
       "style": "IPY_MODEL_d343b263edc44ce49eea07949164a813",
       "value": 1
      }
     },
     "fa4fceecb9014d1087fc3718fe60f550": {
      "model_module": "@jupyter-widgets/base",
      "model_module_version": "1.2.0",
      "model_name": "LayoutModel",
      "state": {}
     },
     "fb010f637cf041769db6b8a2cf5971c1": {
      "model_module": "@jupyter-widgets/controls",
      "model_module_version": "1.5.0",
      "model_name": "DescriptionStyleModel",
      "state": {
       "description_width": ""
      }
     },
     "fbbcec59dda142e8a96ce2960a0aab2c": {
      "model_module": "@jupyter-widgets/controls",
      "model_module_version": "1.5.0",
      "model_name": "HTMLModel",
      "state": {
       "layout": "IPY_MODEL_eaacb0242a7b4264a186adb722ef410e",
       "style": "IPY_MODEL_d71d8b086b794beebcb75488127ffcd9"
      }
     },
     "fc083b496a984918ac037586109606df": {
      "model_module": "@jupyter-widgets/controls",
      "model_module_version": "1.5.0",
      "model_name": "HTMLModel",
      "state": {
       "layout": "IPY_MODEL_05f0e0b44ae949bd9d14d8b6184446fd",
       "style": "IPY_MODEL_4968fa41f9e84fb68661e0fdda022cc4",
       "value": " 37/? [00:00&lt;00:00, 39.93it/s]"
      }
     },
     "fc605eb0950d4ef98de9bba834e3a8a1": {
      "model_module": "@jupyter-widgets/controls",
      "model_module_version": "1.5.0",
      "model_name": "DescriptionStyleModel",
      "state": {
       "description_width": ""
      }
     },
     "fc872ad2b59444229675160975465df4": {
      "model_module": "@jupyter-widgets/controls",
      "model_module_version": "1.5.0",
      "model_name": "DescriptionStyleModel",
      "state": {
       "description_width": ""
      }
     },
     "fc9ffe14fe704f89bd531a6faaedf129": {
      "model_module": "@jupyter-widgets/base",
      "model_module_version": "1.2.0",
      "model_name": "LayoutModel",
      "state": {}
     },
     "fd1c983160a0440996d8f1ae2acba6a5": {
      "model_module": "@jupyter-widgets/controls",
      "model_module_version": "1.5.0",
      "model_name": "DescriptionStyleModel",
      "state": {
       "description_width": ""
      }
     },
     "fd7a662f026345e89e669d886f4be798": {
      "model_module": "@jupyter-widgets/controls",
      "model_module_version": "1.5.0",
      "model_name": "ProgressStyleModel",
      "state": {
       "description_width": ""
      }
     },
     "fd9cf4d719b142bf88a8b77f7adb1da5": {
      "model_module": "@jupyter-widgets/controls",
      "model_module_version": "1.5.0",
      "model_name": "HBoxModel",
      "state": {
       "children": [
        "IPY_MODEL_046efab1e4d04c109fdb4373ead5cbde",
        "IPY_MODEL_821d578b805c41c39eef8e486e3132ae",
        "IPY_MODEL_db6c64b715ef4df783099f1f832ae016"
       ],
       "layout": "IPY_MODEL_3f25ec3369ec4869bb3ee45941d2e118"
      }
     },
     "fde668d12c2541b7859d3cb13a4854b3": {
      "model_module": "@jupyter-widgets/controls",
      "model_module_version": "1.5.0",
      "model_name": "DescriptionStyleModel",
      "state": {
       "description_width": ""
      }
     },
     "fe4177fe0e73419b9cc44ffec9d32d28": {
      "model_module": "@jupyter-widgets/controls",
      "model_module_version": "1.5.0",
      "model_name": "DescriptionStyleModel",
      "state": {
       "description_width": ""
      }
     },
     "fe43f15e878d478da85077c9e56a2737": {
      "model_module": "@jupyter-widgets/base",
      "model_module_version": "1.2.0",
      "model_name": "LayoutModel",
      "state": {
       "width": "20px"
      }
     },
     "fe8e0b1b938847a0887fc1a10b56115c": {
      "model_module": "@jupyter-widgets/base",
      "model_module_version": "1.2.0",
      "model_name": "LayoutModel",
      "state": {}
     },
     "fecd860bfb5844da9895f28e028487b1": {
      "model_module": "@jupyter-widgets/controls",
      "model_module_version": "1.5.0",
      "model_name": "DescriptionStyleModel",
      "state": {
       "description_width": ""
      }
     },
     "feee64a417f5453aa4f11a821675ed05": {
      "model_module": "@jupyter-widgets/base",
      "model_module_version": "1.2.0",
      "model_name": "LayoutModel",
      "state": {}
     },
     "ff0c84cf6c734d6a9443bb45ef89b594": {
      "model_module": "@jupyter-widgets/controls",
      "model_module_version": "1.5.0",
      "model_name": "DescriptionStyleModel",
      "state": {
       "description_width": ""
      }
     },
     "ff497e274e864408ab5a76dcbe45f986": {
      "model_module": "@jupyter-widgets/controls",
      "model_module_version": "1.5.0",
      "model_name": "FloatProgressModel",
      "state": {
       "bar_style": "danger",
       "layout": "IPY_MODEL_33bf6ce5cefa4756a797e59e727994ca",
       "max": 1,
       "style": "IPY_MODEL_d235fb80c228435c9a5c2aa4bcc12ab8",
       "value": 1
      }
     },
     "ff8a7b2c71c34d8c83148446984c8c27": {
      "model_module": "@jupyter-widgets/controls",
      "model_module_version": "1.5.0",
      "model_name": "DescriptionStyleModel",
      "state": {
       "description_width": ""
      }
     },
     "ffa9c6f2b7aa4bdc9eb828a23ebfa9ee": {
      "model_module": "@jupyter-widgets/base",
      "model_module_version": "1.2.0",
      "model_name": "LayoutModel",
      "state": {}
     },
     "ffdddb8bd32e4f5b981266535e8c02c4": {
      "model_module": "@jupyter-widgets/base",
      "model_module_version": "1.2.0",
      "model_name": "LayoutModel",
      "state": {
       "width": "20px"
      }
     }
    },
    "version_major": 2,
    "version_minor": 0
   }
  }
 },
 "nbformat": 4,
 "nbformat_minor": 4
}
